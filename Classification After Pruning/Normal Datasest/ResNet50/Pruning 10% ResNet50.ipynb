{
  "cells": [
    {
      "cell_type": "markdown",
      "id": "4d2e2710",
      "metadata": {
        "id": "4d2e2710"
      },
      "source": [
        "# souce code utama, dilatih selama 5 iterasi, LR lebih kecil 0,0001\n",
        "# update terbaru: LR tetap 0,001. lupa ubah saat running code.\n",
        "# wight imagenetv1 dihapus, oakai weight model sblm pruning\n"
      ]
    },
    {
      "cell_type": "markdown",
      "id": "30536ba6-e5ef-4e4a-8334-fdc16153a88b",
      "metadata": {
        "id": "30536ba6-e5ef-4e4a-8334-fdc16153a88b"
      },
      "source": [
        "# Cell 1: Import Libraries and Setup Device\n",
        "\"\"\"\n",
        "This cell imports all the necessary libraries and sets up the device for GPU computation if available.\n",
        "We are using PyTorch for deep learning, OpenCV for image processing, and Matplotlib/Seaborn for visualization.\n",
        "\"\"\""
      ]
    },
    {
      "cell_type": "code",
      "execution_count": null,
      "id": "95a797c4-eac9-4297-ab3a-d604f3c97bb0",
      "metadata": {
        "colab": {
          "base_uri": "https://localhost:8080/"
        },
        "id": "95a797c4-eac9-4297-ab3a-d604f3c97bb0",
        "outputId": "2e96cc7d-d073-4835-d7c2-5395119d3d11"
      },
      "outputs": [
        {
          "output_type": "stream",
          "name": "stdout",
          "text": [
            "Using device: cuda\n",
            "Mounted at /content/drive\n"
          ]
        }
      ],
      "source": [
        "import torch\n",
        "import torch.nn as nn\n",
        "import torch.optim as optim\n",
        "from torch.utils.data import DataLoader, Dataset\n",
        "from torchvision import models, transforms\n",
        "import cv2\n",
        "from torchvision.transforms import v2\n",
        "import matplotlib.pyplot as plt\n",
        "import matplotlib.patheffects as path_effects\n",
        "from tqdm import tqdm\n",
        "import os\n",
        "import numpy as np\n",
        "import time\n",
        "from sklearn.metrics import precision_score, recall_score, f1_score, confusion_matrix\n",
        "import seaborn as sns\n",
        "\n",
        "# Cek apakah kode dijalankan di Google Colab\n",
        "IN_COLAB = 'google.colab' in str(get_ipython())\n",
        "\n",
        "# Cek apakah GPU tersedia, jika tidak gunakan CPU\n",
        "device = torch.device('cuda' if torch.cuda.is_available() else 'cpu')\n",
        "print(f'Using device: {device}')\n",
        "\n",
        "# Mount Google Drive jika menggunakan Google Colab\n",
        "if IN_COLAB:\n",
        "    from google.colab import drive\n",
        "    drive.mount('/content/drive')\n"
      ]
    },
    {
      "cell_type": "markdown",
      "id": "5ecb4d58-7a41-404e-921f-59c8133c02a4",
      "metadata": {
        "id": "5ecb4d58-7a41-404e-921f-59c8133c02a4"
      },
      "source": [
        "# Cell 2: Define Data Loading and Preprocessing Functions\n",
        "\"\"\"\n",
        "This cell contains functions to load and preprocess images from the dataset.\n",
        "The `load_data` function loads images from the specified directory and assigns labels based on the folder structure.\n",
        "The `preprocess_image` function applies CLAHE and unsharp masking to enhance image quality.\n",
        "The `CustomDataset` class integrates these functions and prepares the dataset for use in PyTorch.\n",
        "\"\"\""
      ]
    },
    {
      "cell_type": "code",
      "execution_count": null,
      "id": "cca994b4-b0e2-4faa-8519-5a473288e647",
      "metadata": {
        "id": "cca994b4-b0e2-4faa-8519-5a473288e647"
      },
      "outputs": [],
      "source": [
        "def load_data(dataset_path, subset):\n",
        "    images = []\n",
        "    labels = []\n",
        "\n",
        "    # Tentukan label sesuai dengan subset\n",
        "\n",
        "    label_names = ['adenocarcinoma', 'large.cell.carcinoma', 'normal', 'squamous.cell.carcinoma']\n",
        "\n",
        "\n",
        "\n",
        "    # Pemetaan nama label ke indeks\n",
        "    label_map = {name: idx for idx, name in enumerate(label_names)}\n",
        "\n",
        "    subset_path = os.path.join(dataset_path, subset)\n",
        "    for label_name in label_names:\n",
        "        image_dir = os.path.join(subset_path, label_name)\n",
        "        if not os.path.exists(image_dir):\n",
        "            raise FileNotFoundError(f\"Directory not found: {image_dir}\")\n",
        "        for file_name in os.listdir(image_dir):\n",
        "            if file_name.endswith('.png'):  # Cek jika file adalah gambar PNG\n",
        "                image_path = os.path.join(image_dir, file_name)\n",
        "                image = cv2.imread(image_path, cv2.IMREAD_GRAYSCALE)\n",
        "                if image is None:\n",
        "                    print(f\"Warning: Unable to load image {image_path}\")\n",
        "                    continue\n",
        "                images.append(image)\n",
        "                labels.append(label_map[label_name])\n",
        "                print(f\"Loaded image {image_path}\")\n",
        "    return images, labels\n",
        "\n",
        "def preprocess_image(image):\n",
        "    if image is None or image.size == 0:\n",
        "        raise ValueError(\"Empty image provided for preprocessing\")\n",
        "\n",
        "    # Terapkan CLAHE untuk meningkatkan kontras\n",
        "    #clahe = cv2.createCLAHE(clipLimit=2.0, tileGridSize=(8, 8))\n",
        "    clahe = cv2.createCLAHE(clipLimit=2.5, tileGridSize=(10, 10))\n",
        "\n",
        "    clahe_image = clahe.apply(image)\n",
        "\n",
        "    # Terapkan Gaussian Blur untuk menghaluskan gambar\n",
        "    #gaussian = cv2.GaussianBlur(image, (9, 9), 10.0)\n",
        "    # Terapkan Unsharp Masking untuk meningkatkan ketajaman gambar\n",
        "    #unsharp_image = cv2.addWeighted(clahe_image, 1.5, gaussian, -0.5, 0, clahe_image)\n",
        "    #unsharp_image = cv2.addWeighted(gaussian, 1.5, gaussian, -0.5, 0)\n",
        "\n",
        "    return clahe_image\n",
        "\n",
        "class CustomDataset(Dataset):\n",
        "    def __init__(self, images, labels, transform=None):\n",
        "        self.images = images\n",
        "        self.labels = labels\n",
        "        self.transform = transform\n",
        "\n",
        "    def __len__(self):\n",
        "        return len(self.images)\n",
        "\n",
        "    def __getitem__(self, idx):\n",
        "        image = self.images[idx]\n",
        "        label = self.labels[idx]\n",
        "        try:\n",
        "            # Proses gambar\n",
        "            image = preprocess_image(image)\n",
        "        except ValueError as e:\n",
        "            print(f\"Error preprocessing image at index {idx}: {e}\")\n",
        "            plt.imshow(image, cmap='gray')\n",
        "            plt.title(f\"Label: {label}\")\n",
        "            plt.show()\n",
        "            raise e\n",
        "        # Terapkan transformasi jika ada\n",
        "        if self.transform:\n",
        "            image = self.transform(image)\n",
        "        if image.dim() == 2:  # Pastikan gambar memiliki 3 dimensi\n",
        "            image = image.unsqueeze(0)\n",
        "        return image, label\n"
      ]
    },
    {
      "cell_type": "markdown",
      "id": "df44014e-ffbf-42f2-a213-c2f28a911926",
      "metadata": {
        "id": "df44014e-ffbf-42f2-a213-c2f28a911926"
      },
      "source": [
        "# Cell 3: Load and Transform Data\n",
        "\"\"\"\n",
        "This cell loads the data and applies the necessary transformations.\n",
        "The dataset is divided into training, validation, and test sets.\n",
        "Each image is transformed into a 224x224 size tensor suitable for input to the VGG-16 model.\n",
        "\"\"\""
      ]
    },
    {
      "cell_type": "code",
      "execution_count": null,
      "id": "mrStcymcr40g",
      "metadata": {
        "colab": {
          "base_uri": "https://localhost:8080/"
        },
        "id": "mrStcymcr40g",
        "outputId": "6de7aaf8-1ddc-4307-bd3e-96527d88d21e"
      },
      "outputs": [
        {
          "output_type": "stream",
          "name": "stdout",
          "text": [
            "Loaded image /content/drive/MyDrive/Chest-CT-Data/train/adenocarcinoma/ad12.png\n",
            "Loaded image /content/drive/MyDrive/Chest-CT-Data/train/adenocarcinoma/000104 (10).png\n",
            "Loaded image /content/drive/MyDrive/Chest-CT-Data/train/adenocarcinoma/000118 (4).png\n",
            "Loaded image /content/drive/MyDrive/Chest-CT-Data/train/adenocarcinoma/ad21.png\n",
            "Loaded image /content/drive/MyDrive/Chest-CT-Data/train/adenocarcinoma/000107 (9).png\n",
            "Loaded image /content/drive/MyDrive/Chest-CT-Data/train/adenocarcinoma/000102 (7).png\n",
            "Loaded image /content/drive/MyDrive/Chest-CT-Data/train/adenocarcinoma/000097 (2).png\n",
            "Loaded image /content/drive/MyDrive/Chest-CT-Data/train/adenocarcinoma/000106 (10).png\n",
            "Loaded image /content/drive/MyDrive/Chest-CT-Data/train/adenocarcinoma/000101 (7).png\n",
            "Loaded image /content/drive/MyDrive/Chest-CT-Data/train/adenocarcinoma/000105 (4).png\n",
            "Loaded image /content/drive/MyDrive/Chest-CT-Data/train/adenocarcinoma/ad2.png\n",
            "Loaded image /content/drive/MyDrive/Chest-CT-Data/train/adenocarcinoma/000122.png\n",
            "Loaded image /content/drive/MyDrive/Chest-CT-Data/train/adenocarcinoma/000106 (4).png\n",
            "Loaded image /content/drive/MyDrive/Chest-CT-Data/train/adenocarcinoma/000102 (2).png\n",
            "Loaded image /content/drive/MyDrive/Chest-CT-Data/train/adenocarcinoma/000097 (10).png\n",
            "Loaded image /content/drive/MyDrive/Chest-CT-Data/train/adenocarcinoma/000121 (9).png\n",
            "Loaded image /content/drive/MyDrive/Chest-CT-Data/train/adenocarcinoma/000106 (8).png\n",
            "Loaded image /content/drive/MyDrive/Chest-CT-Data/train/adenocarcinoma/000095.png\n",
            "Loaded image /content/drive/MyDrive/Chest-CT-Data/train/adenocarcinoma/ad1.png\n",
            "Loaded image /content/drive/MyDrive/Chest-CT-Data/train/adenocarcinoma/ad9.png\n",
            "Loaded image /content/drive/MyDrive/Chest-CT-Data/train/adenocarcinoma/000100 (10).png\n",
            "Loaded image /content/drive/MyDrive/Chest-CT-Data/train/adenocarcinoma/ad18.png\n",
            "Loaded image /content/drive/MyDrive/Chest-CT-Data/train/adenocarcinoma/ad11.png\n",
            "Loaded image /content/drive/MyDrive/Chest-CT-Data/train/adenocarcinoma/000119 (10).png\n",
            "Loaded image /content/drive/MyDrive/Chest-CT-Data/train/adenocarcinoma/000118 (6).png\n",
            "Loaded image /content/drive/MyDrive/Chest-CT-Data/train/adenocarcinoma/000102.png\n",
            "Loaded image /content/drive/MyDrive/Chest-CT-Data/train/adenocarcinoma/ad19.png\n",
            "Loaded image /content/drive/MyDrive/Chest-CT-Data/train/adenocarcinoma/000050 (3).png\n",
            "Loaded image /content/drive/MyDrive/Chest-CT-Data/train/adenocarcinoma/000098 (8).png\n",
            "Loaded image /content/drive/MyDrive/Chest-CT-Data/train/adenocarcinoma/ad16.png\n",
            "Loaded image /content/drive/MyDrive/Chest-CT-Data/train/adenocarcinoma/000030 (4).png\n",
            "Loaded image /content/drive/MyDrive/Chest-CT-Data/train/adenocarcinoma/000119 (4).png\n",
            "Loaded image /content/drive/MyDrive/Chest-CT-Data/train/adenocarcinoma/ad10.png\n",
            "Loaded image /content/drive/MyDrive/Chest-CT-Data/train/adenocarcinoma/000097 (3).png\n",
            "Loaded image /content/drive/MyDrive/Chest-CT-Data/train/adenocarcinoma/ad14.png\n",
            "Loaded image /content/drive/MyDrive/Chest-CT-Data/train/adenocarcinoma/000105 (3).png\n",
            "Loaded image /content/drive/MyDrive/Chest-CT-Data/train/adenocarcinoma/ad17.png\n",
            "Loaded image /content/drive/MyDrive/Chest-CT-Data/train/adenocarcinoma/ad3.png\n",
            "Loaded image /content/drive/MyDrive/Chest-CT-Data/train/adenocarcinoma/ad13.png\n",
            "Loaded image /content/drive/MyDrive/Chest-CT-Data/train/adenocarcinoma/000096 (7).png\n",
            "Loaded image /content/drive/MyDrive/Chest-CT-Data/train/adenocarcinoma/ad7.png\n",
            "Loaded image /content/drive/MyDrive/Chest-CT-Data/train/adenocarcinoma/ad4.png\n",
            "Loaded image /content/drive/MyDrive/Chest-CT-Data/train/adenocarcinoma/000005 (3).png\n",
            "Loaded image /content/drive/MyDrive/Chest-CT-Data/train/adenocarcinoma/000098 (5).png\n",
            "Loaded image /content/drive/MyDrive/Chest-CT-Data/train/adenocarcinoma/ad22.png\n",
            "Loaded image /content/drive/MyDrive/Chest-CT-Data/train/adenocarcinoma/000058 (5).png\n",
            "Loaded image /content/drive/MyDrive/Chest-CT-Data/train/adenocarcinoma/000103 (9).png\n",
            "Loaded image /content/drive/MyDrive/Chest-CT-Data/train/adenocarcinoma/000087 (4).png\n",
            "Loaded image /content/drive/MyDrive/Chest-CT-Data/train/adenocarcinoma/ad6.png\n",
            "Loaded image /content/drive/MyDrive/Chest-CT-Data/train/adenocarcinoma/000095 (6).png\n",
            "Loaded image /content/drive/MyDrive/Chest-CT-Data/train/adenocarcinoma/000119 (6).png\n",
            "Loaded image /content/drive/MyDrive/Chest-CT-Data/train/adenocarcinoma/ad15.png\n",
            "Loaded image /content/drive/MyDrive/Chest-CT-Data/train/adenocarcinoma/000121 (10).png\n",
            "Loaded image /content/drive/MyDrive/Chest-CT-Data/train/adenocarcinoma/000021 (4).png\n",
            "Loaded image /content/drive/MyDrive/Chest-CT-Data/train/adenocarcinoma/000121.png\n",
            "Loaded image /content/drive/MyDrive/Chest-CT-Data/train/adenocarcinoma/000105.png\n",
            "Loaded image /content/drive/MyDrive/Chest-CT-Data/train/adenocarcinoma/000099 (7).png\n",
            "Loaded image /content/drive/MyDrive/Chest-CT-Data/train/adenocarcinoma/000040 (3).png\n",
            "Loaded image /content/drive/MyDrive/Chest-CT-Data/train/adenocarcinoma/000035 (4).png\n",
            "Loaded image /content/drive/MyDrive/Chest-CT-Data/train/adenocarcinoma/000034 (6).png\n",
            "Loaded image /content/drive/MyDrive/Chest-CT-Data/train/adenocarcinoma/000081 (2).png\n",
            "Loaded image /content/drive/MyDrive/Chest-CT-Data/train/adenocarcinoma/000015 (10).png\n",
            "Loaded image /content/drive/MyDrive/Chest-CT-Data/train/adenocarcinoma/000015 (9).png\n",
            "Loaded image /content/drive/MyDrive/Chest-CT-Data/train/adenocarcinoma/000029 (4).png\n",
            "Loaded image /content/drive/MyDrive/Chest-CT-Data/train/adenocarcinoma/000040 (5).png\n",
            "Loaded image /content/drive/MyDrive/Chest-CT-Data/train/adenocarcinoma/000092 (10).png\n",
            "Loaded image /content/drive/MyDrive/Chest-CT-Data/train/adenocarcinoma/000024 (10).png\n",
            "Loaded image /content/drive/MyDrive/Chest-CT-Data/train/adenocarcinoma/000022 (9).png\n",
            "Loaded image /content/drive/MyDrive/Chest-CT-Data/train/adenocarcinoma/000016 (9).png\n",
            "Loaded image /content/drive/MyDrive/Chest-CT-Data/train/adenocarcinoma/000104 (4).png\n",
            "Loaded image /content/drive/MyDrive/Chest-CT-Data/train/adenocarcinoma/000019 (5).png\n",
            "Loaded image /content/drive/MyDrive/Chest-CT-Data/train/adenocarcinoma/000022 (8).png\n",
            "Loaded image /content/drive/MyDrive/Chest-CT-Data/train/adenocarcinoma/ad5.png\n",
            "Loaded image /content/drive/MyDrive/Chest-CT-Data/train/adenocarcinoma/000024 (7).png\n",
            "Loaded image /content/drive/MyDrive/Chest-CT-Data/train/adenocarcinoma/000084 (3).png\n",
            "Loaded image /content/drive/MyDrive/Chest-CT-Data/train/adenocarcinoma/000024 (6).png\n",
            "Loaded image /content/drive/MyDrive/Chest-CT-Data/train/adenocarcinoma/000049 (5).png\n",
            "Loaded image /content/drive/MyDrive/Chest-CT-Data/train/adenocarcinoma/000093 (10).png\n",
            "Loaded image /content/drive/MyDrive/Chest-CT-Data/train/adenocarcinoma/000085 (10).png\n",
            "Loaded image /content/drive/MyDrive/Chest-CT-Data/train/adenocarcinoma/000048 (8).png\n",
            "Loaded image /content/drive/MyDrive/Chest-CT-Data/train/adenocarcinoma/000017 (8).png\n",
            "Loaded image /content/drive/MyDrive/Chest-CT-Data/train/adenocarcinoma/000084 (7).png\n",
            "Loaded image /content/drive/MyDrive/Chest-CT-Data/train/adenocarcinoma/000041 (4).png\n",
            "Loaded image /content/drive/MyDrive/Chest-CT-Data/train/adenocarcinoma/ad20.png\n",
            "Loaded image /content/drive/MyDrive/Chest-CT-Data/train/adenocarcinoma/000068 (9).png\n",
            "Loaded image /content/drive/MyDrive/Chest-CT-Data/train/adenocarcinoma/000102 (3).png\n",
            "Loaded image /content/drive/MyDrive/Chest-CT-Data/train/adenocarcinoma/000035 (6).png\n",
            "Loaded image /content/drive/MyDrive/Chest-CT-Data/train/adenocarcinoma/000066 (10).png\n",
            "Loaded image /content/drive/MyDrive/Chest-CT-Data/train/adenocarcinoma/000086 (8).png\n",
            "Loaded image /content/drive/MyDrive/Chest-CT-Data/train/adenocarcinoma/000029 (9).png\n",
            "Loaded image /content/drive/MyDrive/Chest-CT-Data/train/adenocarcinoma/000085 (4).png\n",
            "Loaded image /content/drive/MyDrive/Chest-CT-Data/train/adenocarcinoma/000051 (4).png\n",
            "Loaded image /content/drive/MyDrive/Chest-CT-Data/train/adenocarcinoma/000078 (6).png\n",
            "Loaded image /content/drive/MyDrive/Chest-CT-Data/train/adenocarcinoma/000089 (8).png\n",
            "Loaded image /content/drive/MyDrive/Chest-CT-Data/train/adenocarcinoma/000044 (9).png\n",
            "Loaded image /content/drive/MyDrive/Chest-CT-Data/train/adenocarcinoma/000026 (3).png\n",
            "Loaded image /content/drive/MyDrive/Chest-CT-Data/train/adenocarcinoma/000048.png\n",
            "Loaded image /content/drive/MyDrive/Chest-CT-Data/train/adenocarcinoma/000071 (3).png\n",
            "Loaded image /content/drive/MyDrive/Chest-CT-Data/train/adenocarcinoma/000054 (6).png\n",
            "Loaded image /content/drive/MyDrive/Chest-CT-Data/train/adenocarcinoma/000052 (10).png\n",
            "Loaded image /content/drive/MyDrive/Chest-CT-Data/train/adenocarcinoma/000087 (8).png\n",
            "Loaded image /content/drive/MyDrive/Chest-CT-Data/train/adenocarcinoma/000044 (10).png\n",
            "Loaded image /content/drive/MyDrive/Chest-CT-Data/train/adenocarcinoma/000013 (8).png\n",
            "Loaded image /content/drive/MyDrive/Chest-CT-Data/train/adenocarcinoma/000021 (8).png\n",
            "Loaded image /content/drive/MyDrive/Chest-CT-Data/train/adenocarcinoma/000055 (2).png\n",
            "Loaded image /content/drive/MyDrive/Chest-CT-Data/train/adenocarcinoma/000063 (3).png\n",
            "Loaded image /content/drive/MyDrive/Chest-CT-Data/train/adenocarcinoma/000023 (5).png\n",
            "Loaded image /content/drive/MyDrive/Chest-CT-Data/train/adenocarcinoma/000009 (7).png\n",
            "Loaded image /content/drive/MyDrive/Chest-CT-Data/train/adenocarcinoma/000023 (10).png\n",
            "Loaded image /content/drive/MyDrive/Chest-CT-Data/train/adenocarcinoma/ad8.png\n",
            "Loaded image /content/drive/MyDrive/Chest-CT-Data/train/adenocarcinoma/000050 (7).png\n",
            "Loaded image /content/drive/MyDrive/Chest-CT-Data/train/adenocarcinoma/000079 (6).png\n",
            "Loaded image /content/drive/MyDrive/Chest-CT-Data/train/adenocarcinoma/000068 (3).png\n",
            "Loaded image /content/drive/MyDrive/Chest-CT-Data/train/adenocarcinoma/000063 (5).png\n",
            "Loaded image /content/drive/MyDrive/Chest-CT-Data/train/adenocarcinoma/000022 (2).png\n",
            "Loaded image /content/drive/MyDrive/Chest-CT-Data/train/adenocarcinoma/000061.png\n",
            "Loaded image /content/drive/MyDrive/Chest-CT-Data/train/adenocarcinoma/000017 (6).png\n",
            "Loaded image /content/drive/MyDrive/Chest-CT-Data/train/adenocarcinoma/000065 (9).png\n",
            "Loaded image /content/drive/MyDrive/Chest-CT-Data/train/adenocarcinoma/000069 (6).png\n",
            "Loaded image /content/drive/MyDrive/Chest-CT-Data/train/adenocarcinoma/000033 (9).png\n",
            "Loaded image /content/drive/MyDrive/Chest-CT-Data/train/adenocarcinoma/000027 (4).png\n",
            "Loaded image /content/drive/MyDrive/Chest-CT-Data/train/adenocarcinoma/000086 (3).png\n",
            "Loaded image /content/drive/MyDrive/Chest-CT-Data/train/adenocarcinoma/000042 (10).png\n",
            "Loaded image /content/drive/MyDrive/Chest-CT-Data/train/adenocarcinoma/000051 (3).png\n",
            "Loaded image /content/drive/MyDrive/Chest-CT-Data/train/adenocarcinoma/000040 (10).png\n",
            "Loaded image /content/drive/MyDrive/Chest-CT-Data/train/adenocarcinoma/000015 (4).png\n",
            "Loaded image /content/drive/MyDrive/Chest-CT-Data/train/adenocarcinoma/000024.png\n",
            "Loaded image /content/drive/MyDrive/Chest-CT-Data/train/adenocarcinoma/000049 (9).png\n",
            "Loaded image /content/drive/MyDrive/Chest-CT-Data/train/adenocarcinoma/000083 (3).png\n",
            "Loaded image /content/drive/MyDrive/Chest-CT-Data/train/adenocarcinoma/000005 (9).png\n",
            "Loaded image /content/drive/MyDrive/Chest-CT-Data/train/adenocarcinoma/000023 (7).png\n",
            "Loaded image /content/drive/MyDrive/Chest-CT-Data/train/adenocarcinoma/000057 (2).png\n",
            "Loaded image /content/drive/MyDrive/Chest-CT-Data/train/adenocarcinoma/000075 (5).png\n",
            "Loaded image /content/drive/MyDrive/Chest-CT-Data/train/adenocarcinoma/000084 (2).png\n",
            "Loaded image /content/drive/MyDrive/Chest-CT-Data/train/adenocarcinoma/000080 (6).png\n",
            "Loaded image /content/drive/MyDrive/Chest-CT-Data/train/adenocarcinoma/000054 (7).png\n",
            "Loaded image /content/drive/MyDrive/Chest-CT-Data/train/adenocarcinoma/000023 (9).png\n",
            "Loaded image /content/drive/MyDrive/Chest-CT-Data/train/adenocarcinoma/000077 (6).png\n",
            "Loaded image /content/drive/MyDrive/Chest-CT-Data/train/adenocarcinoma/000035 (8).png\n",
            "Loaded image /content/drive/MyDrive/Chest-CT-Data/train/adenocarcinoma/000054 (5).png\n",
            "Loaded image /content/drive/MyDrive/Chest-CT-Data/train/adenocarcinoma/000020 (5).png\n",
            "Loaded image /content/drive/MyDrive/Chest-CT-Data/train/adenocarcinoma/000091.png\n",
            "Loaded image /content/drive/MyDrive/Chest-CT-Data/train/adenocarcinoma/000077 (9).png\n",
            "Loaded image /content/drive/MyDrive/Chest-CT-Data/train/adenocarcinoma/000054.png\n",
            "Loaded image /content/drive/MyDrive/Chest-CT-Data/train/adenocarcinoma/000119 (5).png\n",
            "Loaded image /content/drive/MyDrive/Chest-CT-Data/train/adenocarcinoma/000063 (7).png\n",
            "Loaded image /content/drive/MyDrive/Chest-CT-Data/train/adenocarcinoma/000021 (3).png\n",
            "Loaded image /content/drive/MyDrive/Chest-CT-Data/train/adenocarcinoma/000091 (7).png\n",
            "Loaded image /content/drive/MyDrive/Chest-CT-Data/train/adenocarcinoma/000090 (2).png\n",
            "Loaded image /content/drive/MyDrive/Chest-CT-Data/train/adenocarcinoma/000041 (8).png\n",
            "Loaded image /content/drive/MyDrive/Chest-CT-Data/train/adenocarcinoma/000041 (2).png\n",
            "Loaded image /content/drive/MyDrive/Chest-CT-Data/train/adenocarcinoma/000085 (7).png\n",
            "Loaded image /content/drive/MyDrive/Chest-CT-Data/train/adenocarcinoma/000032 (8).png\n",
            "Loaded image /content/drive/MyDrive/Chest-CT-Data/train/adenocarcinoma/000035 (5).png\n",
            "Loaded image /content/drive/MyDrive/Chest-CT-Data/train/adenocarcinoma/000067.png\n",
            "Loaded image /content/drive/MyDrive/Chest-CT-Data/train/adenocarcinoma/000091 (3).png\n",
            "Loaded image /content/drive/MyDrive/Chest-CT-Data/train/adenocarcinoma/000057.png\n",
            "Loaded image /content/drive/MyDrive/Chest-CT-Data/train/adenocarcinoma/000068 (10).png\n",
            "Loaded image /content/drive/MyDrive/Chest-CT-Data/train/adenocarcinoma/000009 (3).png\n",
            "Loaded image /content/drive/MyDrive/Chest-CT-Data/train/adenocarcinoma/000014 (7).png\n",
            "Loaded image /content/drive/MyDrive/Chest-CT-Data/train/adenocarcinoma/000084.png\n",
            "Loaded image /content/drive/MyDrive/Chest-CT-Data/train/adenocarcinoma/000031 (3).png\n",
            "Loaded image /content/drive/MyDrive/Chest-CT-Data/train/adenocarcinoma/000029 (5).png\n",
            "Loaded image /content/drive/MyDrive/Chest-CT-Data/train/adenocarcinoma/000036 (7).png\n",
            "Loaded image /content/drive/MyDrive/Chest-CT-Data/train/adenocarcinoma/000080 (10).png\n",
            "Loaded image /content/drive/MyDrive/Chest-CT-Data/train/adenocarcinoma/000021 (6).png\n",
            "Loaded image /content/drive/MyDrive/Chest-CT-Data/train/adenocarcinoma/000093 (4).png\n",
            "Loaded image /content/drive/MyDrive/Chest-CT-Data/train/adenocarcinoma/000000 (6).png\n",
            "Loaded image /content/drive/MyDrive/Chest-CT-Data/train/adenocarcinoma/000065 (8).png\n",
            "Loaded image /content/drive/MyDrive/Chest-CT-Data/train/adenocarcinoma/000018 (5).png\n",
            "Loaded image /content/drive/MyDrive/Chest-CT-Data/train/adenocarcinoma/000072 (10).png\n",
            "Loaded image /content/drive/MyDrive/Chest-CT-Data/train/adenocarcinoma/000013 (4).png\n",
            "Loaded image /content/drive/MyDrive/Chest-CT-Data/train/adenocarcinoma/000093 (6).png\n",
            "Loaded image /content/drive/MyDrive/Chest-CT-Data/train/adenocarcinoma/000083 (6).png\n",
            "Loaded image /content/drive/MyDrive/Chest-CT-Data/train/adenocarcinoma/000025 (6).png\n",
            "Loaded image /content/drive/MyDrive/Chest-CT-Data/train/adenocarcinoma/000026 (10).png\n",
            "Loaded image /content/drive/MyDrive/Chest-CT-Data/train/adenocarcinoma/000074 (5).png\n",
            "Loaded image /content/drive/MyDrive/Chest-CT-Data/train/adenocarcinoma/000059 (7).png\n",
            "Loaded image /content/drive/MyDrive/Chest-CT-Data/train/adenocarcinoma/000020 (10).png\n",
            "Loaded image /content/drive/MyDrive/Chest-CT-Data/train/adenocarcinoma/000021 (5).png\n",
            "Loaded image /content/drive/MyDrive/Chest-CT-Data/train/adenocarcinoma/000066 (9).png\n",
            "Loaded image /content/drive/MyDrive/Chest-CT-Data/train/adenocarcinoma/000020 (6).png\n",
            "Loaded image /content/drive/MyDrive/Chest-CT-Data/train/adenocarcinoma/000046 (5).png\n",
            "Loaded image /content/drive/MyDrive/Chest-CT-Data/train/adenocarcinoma/000036 (6).png\n",
            "Loaded image /content/drive/MyDrive/Chest-CT-Data/train/adenocarcinoma/000050 (5).png\n",
            "Loaded image /content/drive/MyDrive/Chest-CT-Data/train/adenocarcinoma/000067 (10).png\n",
            "Loaded image /content/drive/MyDrive/Chest-CT-Data/train/adenocarcinoma/000022 (10).png\n",
            "Loaded image /content/drive/MyDrive/Chest-CT-Data/train/adenocarcinoma/000022.png\n",
            "Loaded image /content/drive/MyDrive/Chest-CT-Data/train/adenocarcinoma/000027 (6).png\n",
            "Loaded image /content/drive/MyDrive/Chest-CT-Data/train/adenocarcinoma/000056 (7).png\n",
            "Loaded image /content/drive/MyDrive/Chest-CT-Data/train/adenocarcinoma/000041 (7).png\n",
            "Loaded image /content/drive/MyDrive/Chest-CT-Data/train/adenocarcinoma/000008 (10).png\n",
            "Loaded image /content/drive/MyDrive/Chest-CT-Data/train/adenocarcinoma/000065 (3).png\n",
            "Loaded image /content/drive/MyDrive/Chest-CT-Data/train/adenocarcinoma/000058 (4).png\n",
            "Loaded image /content/drive/MyDrive/Chest-CT-Data/train/adenocarcinoma/000050 (8).png\n",
            "Loaded image /content/drive/MyDrive/Chest-CT-Data/train/large.cell.carcinoma/000031 (2).png\n",
            "Loaded image /content/drive/MyDrive/Chest-CT-Data/train/large.cell.carcinoma/000093 (4).png\n",
            "Loaded image /content/drive/MyDrive/Chest-CT-Data/train/large.cell.carcinoma/000084.png\n",
            "Loaded image /content/drive/MyDrive/Chest-CT-Data/train/large.cell.carcinoma/000056 (4).png\n",
            "Loaded image /content/drive/MyDrive/Chest-CT-Data/train/large.cell.carcinoma/000076 (4).png\n",
            "Loaded image /content/drive/MyDrive/Chest-CT-Data/train/large.cell.carcinoma/000033 (4).png\n",
            "Loaded image /content/drive/MyDrive/Chest-CT-Data/train/large.cell.carcinoma/000047 (2).png\n",
            "Loaded image /content/drive/MyDrive/Chest-CT-Data/train/large.cell.carcinoma/000137.png\n",
            "Loaded image /content/drive/MyDrive/Chest-CT-Data/train/large.cell.carcinoma/000031.png\n",
            "Loaded image /content/drive/MyDrive/Chest-CT-Data/train/large.cell.carcinoma/000040 (2).png\n",
            "Loaded image /content/drive/MyDrive/Chest-CT-Data/train/large.cell.carcinoma/000062 (3).png\n",
            "Loaded image /content/drive/MyDrive/Chest-CT-Data/train/large.cell.carcinoma/000016 (4).png\n",
            "Loaded image /content/drive/MyDrive/Chest-CT-Data/train/large.cell.carcinoma/000068.png\n",
            "Loaded image /content/drive/MyDrive/Chest-CT-Data/train/large.cell.carcinoma/000069.png\n",
            "Loaded image /content/drive/MyDrive/Chest-CT-Data/train/large.cell.carcinoma/000056 (3).png\n",
            "Loaded image /content/drive/MyDrive/Chest-CT-Data/train/large.cell.carcinoma/000057.png\n",
            "Loaded image /content/drive/MyDrive/Chest-CT-Data/train/large.cell.carcinoma/000059 (4).png\n",
            "Loaded image /content/drive/MyDrive/Chest-CT-Data/train/large.cell.carcinoma/000154.png\n",
            "Loaded image /content/drive/MyDrive/Chest-CT-Data/train/large.cell.carcinoma/000039 (4).png\n",
            "Loaded image /content/drive/MyDrive/Chest-CT-Data/train/large.cell.carcinoma/000019 (4).png\n",
            "Loaded image /content/drive/MyDrive/Chest-CT-Data/train/large.cell.carcinoma/000094 (2).png\n",
            "Loaded image /content/drive/MyDrive/Chest-CT-Data/train/large.cell.carcinoma/000003 (3).png\n",
            "Loaded image /content/drive/MyDrive/Chest-CT-Data/train/large.cell.carcinoma/000002.png\n",
            "Loaded image /content/drive/MyDrive/Chest-CT-Data/train/large.cell.carcinoma/l6.png\n",
            "Loaded image /content/drive/MyDrive/Chest-CT-Data/train/large.cell.carcinoma/000104 (2).png\n",
            "Loaded image /content/drive/MyDrive/Chest-CT-Data/train/large.cell.carcinoma/000062.png\n",
            "Loaded image /content/drive/MyDrive/Chest-CT-Data/train/large.cell.carcinoma/000042 (2).png\n",
            "Loaded image /content/drive/MyDrive/Chest-CT-Data/train/large.cell.carcinoma/000098 (3).png\n",
            "Loaded image /content/drive/MyDrive/Chest-CT-Data/train/large.cell.carcinoma/000032.png\n",
            "Loaded image /content/drive/MyDrive/Chest-CT-Data/train/large.cell.carcinoma/000027.png\n",
            "Loaded image /content/drive/MyDrive/Chest-CT-Data/train/large.cell.carcinoma/000062 (2).png\n",
            "Loaded image /content/drive/MyDrive/Chest-CT-Data/train/large.cell.carcinoma/000071 (2).png\n",
            "Loaded image /content/drive/MyDrive/Chest-CT-Data/train/large.cell.carcinoma/000057 (4).png\n",
            "Loaded image /content/drive/MyDrive/Chest-CT-Data/train/large.cell.carcinoma/000076 (3).png\n",
            "Loaded image /content/drive/MyDrive/Chest-CT-Data/train/large.cell.carcinoma/000095 (4).png\n",
            "Loaded image /content/drive/MyDrive/Chest-CT-Data/train/large.cell.carcinoma/000043 (2).png\n",
            "Loaded image /content/drive/MyDrive/Chest-CT-Data/train/large.cell.carcinoma/000023 (2).png\n",
            "Loaded image /content/drive/MyDrive/Chest-CT-Data/train/large.cell.carcinoma/000066 (2).png\n",
            "Loaded image /content/drive/MyDrive/Chest-CT-Data/train/large.cell.carcinoma/l4.png\n",
            "Loaded image /content/drive/MyDrive/Chest-CT-Data/train/large.cell.carcinoma/000089.png\n",
            "Loaded image /content/drive/MyDrive/Chest-CT-Data/train/large.cell.carcinoma/000015.png\n",
            "Loaded image /content/drive/MyDrive/Chest-CT-Data/train/large.cell.carcinoma/000063.png\n",
            "Loaded image /content/drive/MyDrive/Chest-CT-Data/train/large.cell.carcinoma/000041 (3).png\n",
            "Loaded image /content/drive/MyDrive/Chest-CT-Data/train/large.cell.carcinoma/000019 (3).png\n",
            "Loaded image /content/drive/MyDrive/Chest-CT-Data/train/large.cell.carcinoma/000060.png\n",
            "Loaded image /content/drive/MyDrive/Chest-CT-Data/train/large.cell.carcinoma/000105 (2).png\n",
            "Loaded image /content/drive/MyDrive/Chest-CT-Data/train/large.cell.carcinoma/000026 (2).png\n",
            "Loaded image /content/drive/MyDrive/Chest-CT-Data/train/large.cell.carcinoma/000058 (4).png\n",
            "Loaded image /content/drive/MyDrive/Chest-CT-Data/train/large.cell.carcinoma/000133.png\n",
            "Loaded image /content/drive/MyDrive/Chest-CT-Data/train/large.cell.carcinoma/000057 (3).png\n",
            "Loaded image /content/drive/MyDrive/Chest-CT-Data/train/large.cell.carcinoma/000063 (2).png\n",
            "Loaded image /content/drive/MyDrive/Chest-CT-Data/train/large.cell.carcinoma/000003 (4).png\n",
            "Loaded image /content/drive/MyDrive/Chest-CT-Data/train/large.cell.carcinoma/000020 (3).png\n",
            "Loaded image /content/drive/MyDrive/Chest-CT-Data/train/large.cell.carcinoma/000046.png\n",
            "Loaded image /content/drive/MyDrive/Chest-CT-Data/train/large.cell.carcinoma/000150.png\n",
            "Loaded image /content/drive/MyDrive/Chest-CT-Data/train/large.cell.carcinoma/000033 (3).png\n",
            "Loaded image /content/drive/MyDrive/Chest-CT-Data/train/large.cell.carcinoma/000055 (3).png\n",
            "Loaded image /content/drive/MyDrive/Chest-CT-Data/train/large.cell.carcinoma/000009 (3).png\n",
            "Loaded image /content/drive/MyDrive/Chest-CT-Data/train/large.cell.carcinoma/000143.png\n",
            "Loaded image /content/drive/MyDrive/Chest-CT-Data/train/large.cell.carcinoma/000097.png\n",
            "Loaded image /content/drive/MyDrive/Chest-CT-Data/train/large.cell.carcinoma/000072 (2).png\n",
            "Loaded image /content/drive/MyDrive/Chest-CT-Data/train/large.cell.carcinoma/000173.png\n",
            "Loaded image /content/drive/MyDrive/Chest-CT-Data/train/large.cell.carcinoma/l2.png\n",
            "Loaded image /content/drive/MyDrive/Chest-CT-Data/train/large.cell.carcinoma/000021.png\n",
            "Loaded image /content/drive/MyDrive/Chest-CT-Data/train/large.cell.carcinoma/000034 (2).png\n",
            "Loaded image /content/drive/MyDrive/Chest-CT-Data/train/large.cell.carcinoma/000051.png\n",
            "Loaded image /content/drive/MyDrive/Chest-CT-Data/train/large.cell.carcinoma/000039 (3).png\n",
            "Loaded image /content/drive/MyDrive/Chest-CT-Data/train/large.cell.carcinoma/000024 (2).png\n",
            "Loaded image /content/drive/MyDrive/Chest-CT-Data/train/large.cell.carcinoma/000017.png\n",
            "Loaded image /content/drive/MyDrive/Chest-CT-Data/train/large.cell.carcinoma/000010.png\n",
            "Loaded image /content/drive/MyDrive/Chest-CT-Data/train/large.cell.carcinoma/000059 (3).png\n",
            "Loaded image /content/drive/MyDrive/Chest-CT-Data/train/large.cell.carcinoma/l5.png\n",
            "Loaded image /content/drive/MyDrive/Chest-CT-Data/train/large.cell.carcinoma/000095 (3).png\n",
            "Loaded image /content/drive/MyDrive/Chest-CT-Data/train/large.cell.carcinoma/000098 (4).png\n",
            "Loaded image /content/drive/MyDrive/Chest-CT-Data/train/large.cell.carcinoma/di1.png\n",
            "Loaded image /content/drive/MyDrive/Chest-CT-Data/train/large.cell.carcinoma/000065 (2).png\n",
            "Loaded image /content/drive/MyDrive/Chest-CT-Data/train/large.cell.carcinoma/000104.png\n",
            "Loaded image /content/drive/MyDrive/Chest-CT-Data/train/large.cell.carcinoma/000055.png\n",
            "Loaded image /content/drive/MyDrive/Chest-CT-Data/train/large.cell.carcinoma/000055 (4).png\n",
            "Loaded image /content/drive/MyDrive/Chest-CT-Data/train/large.cell.carcinoma/000058 (3).png\n",
            "Loaded image /content/drive/MyDrive/Chest-CT-Data/train/large.cell.carcinoma/000027 (2).png\n",
            "Loaded image /content/drive/MyDrive/Chest-CT-Data/train/large.cell.carcinoma/000095.png\n",
            "Loaded image /content/drive/MyDrive/Chest-CT-Data/train/large.cell.carcinoma/000094 (4).png\n",
            "Loaded image /content/drive/MyDrive/Chest-CT-Data/train/large.cell.carcinoma/000066.png\n",
            "Loaded image /content/drive/MyDrive/Chest-CT-Data/train/large.cell.carcinoma/000026.png\n",
            "Loaded image /content/drive/MyDrive/Chest-CT-Data/train/large.cell.carcinoma/000041.png\n",
            "Loaded image /content/drive/MyDrive/Chest-CT-Data/train/large.cell.carcinoma/000018 (2).png\n",
            "Loaded image /content/drive/MyDrive/Chest-CT-Data/train/large.cell.carcinoma/000077.png\n",
            "Loaded image /content/drive/MyDrive/Chest-CT-Data/train/large.cell.carcinoma/000093 (3).png\n",
            "Loaded image /content/drive/MyDrive/Chest-CT-Data/train/large.cell.carcinoma/000172.png\n",
            "Loaded image /content/drive/MyDrive/Chest-CT-Data/train/large.cell.carcinoma/000081.png\n",
            "Loaded image /content/drive/MyDrive/Chest-CT-Data/train/large.cell.carcinoma/000097 (2).png\n",
            "Loaded image /content/drive/MyDrive/Chest-CT-Data/train/large.cell.carcinoma/000068 (3).png\n",
            "Loaded image /content/drive/MyDrive/Chest-CT-Data/train/large.cell.carcinoma/000045.png\n",
            "Loaded image /content/drive/MyDrive/Chest-CT-Data/train/large.cell.carcinoma/000080.png\n",
            "Loaded image /content/drive/MyDrive/Chest-CT-Data/train/large.cell.carcinoma/000078 (3).png\n",
            "Loaded image /content/drive/MyDrive/Chest-CT-Data/train/large.cell.carcinoma/000041 (4).png\n",
            "Loaded image /content/drive/MyDrive/Chest-CT-Data/train/large.cell.carcinoma/000105.png\n",
            "Loaded image /content/drive/MyDrive/Chest-CT-Data/train/large.cell.carcinoma/000073 (2).png\n",
            "Loaded image /content/drive/MyDrive/Chest-CT-Data/train/large.cell.carcinoma/000094 (3).png\n",
            "Loaded image /content/drive/MyDrive/Chest-CT-Data/train/large.cell.carcinoma/000149.png\n",
            "Loaded image /content/drive/MyDrive/Chest-CT-Data/train/large.cell.carcinoma/000084 (2).png\n",
            "Loaded image /content/drive/MyDrive/Chest-CT-Data/train/large.cell.carcinoma/000062 (4).png\n",
            "Loaded image /content/drive/MyDrive/Chest-CT-Data/train/large.cell.carcinoma/000159.png\n",
            "Loaded image /content/drive/MyDrive/Chest-CT-Data/train/large.cell.carcinoma/000106.png\n",
            "Loaded image /content/drive/MyDrive/Chest-CT-Data/train/large.cell.carcinoma/000068 (4).png\n",
            "Loaded image /content/drive/MyDrive/Chest-CT-Data/train/large.cell.carcinoma/000169.png\n",
            "Loaded image /content/drive/MyDrive/Chest-CT-Data/train/large.cell.carcinoma/000078 (4).png\n",
            "Loaded image /content/drive/MyDrive/Chest-CT-Data/train/large.cell.carcinoma/l3.png\n",
            "Loaded image /content/drive/MyDrive/Chest-CT-Data/train/large.cell.carcinoma/000009 (4).png\n",
            "Loaded image /content/drive/MyDrive/Chest-CT-Data/train/large.cell.carcinoma/000020 (4).png\n",
            "Loaded image /content/drive/MyDrive/Chest-CT-Data/train/large.cell.carcinoma/l1.png\n",
            "Loaded image /content/drive/MyDrive/Chest-CT-Data/train/large.cell.carcinoma/000016 (3).png\n",
            "Loaded image /content/drive/MyDrive/Chest-CT-Data/train/large.cell.carcinoma/000106 (2).png\n",
            "Loaded image /content/drive/MyDrive/Chest-CT-Data/train/large.cell.carcinoma/000095 (2).png\n",
            "Loaded image /content/drive/MyDrive/Chest-CT-Data/train/normal/8.png\n",
            "Loaded image /content/drive/MyDrive/Chest-CT-Data/train/normal/4 (2).png\n",
            "Loaded image /content/drive/MyDrive/Chest-CT-Data/train/normal/8 - Copy.png\n",
            "Loaded image /content/drive/MyDrive/Chest-CT-Data/train/normal/7 - Copy - Copy.png\n",
            "Loaded image /content/drive/MyDrive/Chest-CT-Data/train/normal/8 - Copy (2).png\n",
            "Loaded image /content/drive/MyDrive/Chest-CT-Data/train/normal/7.png\n",
            "Loaded image /content/drive/MyDrive/Chest-CT-Data/train/normal/n7 (2).png\n",
            "Loaded image /content/drive/MyDrive/Chest-CT-Data/train/normal/8 (2).png\n",
            "Loaded image /content/drive/MyDrive/Chest-CT-Data/train/normal/8 - Copy - Copy.png\n",
            "Loaded image /content/drive/MyDrive/Chest-CT-Data/train/normal/8 - Copy (3).png\n",
            "Loaded image /content/drive/MyDrive/Chest-CT-Data/train/normal/n7.png\n",
            "Loaded image /content/drive/MyDrive/Chest-CT-Data/train/normal/7 - Copy.png\n",
            "Loaded image /content/drive/MyDrive/Chest-CT-Data/train/normal/6 - Copy (2).png\n",
            "Loaded image /content/drive/MyDrive/Chest-CT-Data/train/normal/17 - Copy (2).png\n",
            "Loaded image /content/drive/MyDrive/Chest-CT-Data/train/normal/18 - Copy - Copy.png\n",
            "Loaded image /content/drive/MyDrive/Chest-CT-Data/train/normal/21 - Copy.png\n",
            "Loaded image /content/drive/MyDrive/Chest-CT-Data/train/normal/6 (2) - Copy.png\n",
            "Loaded image /content/drive/MyDrive/Chest-CT-Data/train/normal/16.png\n",
            "Loaded image /content/drive/MyDrive/Chest-CT-Data/train/normal/20 (2) - Copy.png\n",
            "Loaded image /content/drive/MyDrive/Chest-CT-Data/train/normal/19 - Copy (3).png\n",
            "Loaded image /content/drive/MyDrive/Chest-CT-Data/train/normal/19 - Copy - Copy.png\n",
            "Loaded image /content/drive/MyDrive/Chest-CT-Data/train/normal/3 - Copy (3).png\n",
            "Loaded image /content/drive/MyDrive/Chest-CT-Data/train/normal/16 - Copy - Copy.png\n",
            "Loaded image /content/drive/MyDrive/Chest-CT-Data/train/normal/5 - Copy (2).png\n",
            "Loaded image /content/drive/MyDrive/Chest-CT-Data/train/normal/6 - Copy (2) - Copy.png\n",
            "Loaded image /content/drive/MyDrive/Chest-CT-Data/train/normal/4.png\n",
            "Loaded image /content/drive/MyDrive/Chest-CT-Data/train/normal/8 - Copy (2) - Copy.png\n",
            "Loaded image /content/drive/MyDrive/Chest-CT-Data/train/normal/20 - Copy (3).png\n",
            "Loaded image /content/drive/MyDrive/Chest-CT-Data/train/normal/7 - Copy (2).png\n",
            "Loaded image /content/drive/MyDrive/Chest-CT-Data/train/normal/16 - Copy (3).png\n",
            "Loaded image /content/drive/MyDrive/Chest-CT-Data/train/normal/3 (2).png\n",
            "Loaded image /content/drive/MyDrive/Chest-CT-Data/train/normal/20.png\n",
            "Loaded image /content/drive/MyDrive/Chest-CT-Data/train/normal/2 - Copy (3).png\n",
            "Loaded image /content/drive/MyDrive/Chest-CT-Data/train/normal/17.png\n",
            "Loaded image /content/drive/MyDrive/Chest-CT-Data/train/normal/5 (2) - Copy.png\n",
            "Loaded image /content/drive/MyDrive/Chest-CT-Data/train/normal/n7 (2) - Copy.png\n",
            "Loaded image /content/drive/MyDrive/Chest-CT-Data/train/normal/16 - Copy (2) - Copy.png\n",
            "Loaded image /content/drive/MyDrive/Chest-CT-Data/train/normal/5 (2).png\n",
            "Loaded image /content/drive/MyDrive/Chest-CT-Data/train/normal/16 - Copy.png\n",
            "Loaded image /content/drive/MyDrive/Chest-CT-Data/train/normal/7 (2).png\n",
            "Loaded image /content/drive/MyDrive/Chest-CT-Data/train/normal/8 (2) - Copy.png\n",
            "Loaded image /content/drive/MyDrive/Chest-CT-Data/train/normal/19 - Copy (2).png\n",
            "Loaded image /content/drive/MyDrive/Chest-CT-Data/train/normal/3 (2) - Copy.png\n",
            "Loaded image /content/drive/MyDrive/Chest-CT-Data/train/normal/2.png\n",
            "Loaded image /content/drive/MyDrive/Chest-CT-Data/train/normal/3 - Copy (2).png\n",
            "Loaded image /content/drive/MyDrive/Chest-CT-Data/train/normal/16 (2).png\n",
            "Loaded image /content/drive/MyDrive/Chest-CT-Data/train/normal/18 (2).png\n",
            "Loaded image /content/drive/MyDrive/Chest-CT-Data/train/normal/3 - Copy.png\n",
            "Loaded image /content/drive/MyDrive/Chest-CT-Data/train/normal/3 - Copy (2) - Copy.png\n",
            "Loaded image /content/drive/MyDrive/Chest-CT-Data/train/normal/6 - Copy.png\n",
            "Loaded image /content/drive/MyDrive/Chest-CT-Data/train/normal/18 - Copy.png\n",
            "Loaded image /content/drive/MyDrive/Chest-CT-Data/train/normal/6.png\n",
            "Loaded image /content/drive/MyDrive/Chest-CT-Data/train/normal/18 - Copy (2) - Copy.png\n",
            "Loaded image /content/drive/MyDrive/Chest-CT-Data/train/normal/17 (2).png\n",
            "Loaded image /content/drive/MyDrive/Chest-CT-Data/train/normal/20 - Copy.png\n",
            "Loaded image /content/drive/MyDrive/Chest-CT-Data/train/normal/n7 - Copy.png\n",
            "Loaded image /content/drive/MyDrive/Chest-CT-Data/train/normal/16 - Copy (2).png\n",
            "Loaded image /content/drive/MyDrive/Chest-CT-Data/train/normal/20 - Copy - Copy.png\n",
            "Loaded image /content/drive/MyDrive/Chest-CT-Data/train/normal/4 - Copy (2).png\n",
            "Loaded image /content/drive/MyDrive/Chest-CT-Data/train/normal/21 - Copy (2).png\n",
            "Loaded image /content/drive/MyDrive/Chest-CT-Data/train/normal/7 (2) - Copy.png\n",
            "Loaded image /content/drive/MyDrive/Chest-CT-Data/train/normal/5 - Copy - Copy.png\n",
            "Loaded image /content/drive/MyDrive/Chest-CT-Data/train/normal/5 - Copy (2) - Copy.png\n",
            "Loaded image /content/drive/MyDrive/Chest-CT-Data/train/normal/11 - Copy.png\n",
            "Loaded image /content/drive/MyDrive/Chest-CT-Data/train/normal/16 (2) - Copy.png\n",
            "Loaded image /content/drive/MyDrive/Chest-CT-Data/train/normal/2 - Copy - Copy.png\n",
            "Loaded image /content/drive/MyDrive/Chest-CT-Data/train/normal/5.png\n",
            "Loaded image /content/drive/MyDrive/Chest-CT-Data/train/normal/19 - Copy.png\n",
            "Loaded image /content/drive/MyDrive/Chest-CT-Data/train/normal/21 - Copy - Copy.png\n",
            "Loaded image /content/drive/MyDrive/Chest-CT-Data/train/normal/20 (2).png\n",
            "Loaded image /content/drive/MyDrive/Chest-CT-Data/train/normal/2 - Copy (2) - Copy.png\n",
            "Loaded image /content/drive/MyDrive/Chest-CT-Data/train/normal/21 - Copy (2) - Copy.png\n",
            "Loaded image /content/drive/MyDrive/Chest-CT-Data/train/normal/3 - Copy - Copy.png\n",
            "Loaded image /content/drive/MyDrive/Chest-CT-Data/train/normal/12.png\n",
            "Loaded image /content/drive/MyDrive/Chest-CT-Data/train/normal/13 - Copy.png\n",
            "Loaded image /content/drive/MyDrive/Chest-CT-Data/train/normal/19 - Copy (2) - Copy.png\n",
            "Loaded image /content/drive/MyDrive/Chest-CT-Data/train/normal/7 - Copy (3).png\n",
            "Loaded image /content/drive/MyDrive/Chest-CT-Data/train/normal/17 - Copy (3).png\n",
            "Loaded image /content/drive/MyDrive/Chest-CT-Data/train/normal/18 - Copy (2).png\n",
            "Loaded image /content/drive/MyDrive/Chest-CT-Data/train/normal/11 - Copy - Copy.png\n",
            "Loaded image /content/drive/MyDrive/Chest-CT-Data/train/normal/4 - Copy.png\n",
            "Loaded image /content/drive/MyDrive/Chest-CT-Data/train/normal/19 (2) - Copy.png\n",
            "Loaded image /content/drive/MyDrive/Chest-CT-Data/train/normal/5 - Copy (3).png\n",
            "Loaded image /content/drive/MyDrive/Chest-CT-Data/train/normal/3.png\n",
            "Loaded image /content/drive/MyDrive/Chest-CT-Data/train/normal/19 (2).png\n",
            "Loaded image /content/drive/MyDrive/Chest-CT-Data/train/normal/20 - Copy (2).png\n",
            "Loaded image /content/drive/MyDrive/Chest-CT-Data/train/normal/6 - Copy (3).png\n",
            "Loaded image /content/drive/MyDrive/Chest-CT-Data/train/normal/5 - Copy.png\n",
            "Loaded image /content/drive/MyDrive/Chest-CT-Data/train/normal/6 - Copy - Copy.png\n",
            "Loaded image /content/drive/MyDrive/Chest-CT-Data/train/normal/4 - Copy (3).png\n",
            "Loaded image /content/drive/MyDrive/Chest-CT-Data/train/normal/17 - Copy (2) - Copy.png\n",
            "Loaded image /content/drive/MyDrive/Chest-CT-Data/train/normal/17 (2) - Copy.png\n",
            "Loaded image /content/drive/MyDrive/Chest-CT-Data/train/normal/4 - Copy (2) - Copy.png\n",
            "Loaded image /content/drive/MyDrive/Chest-CT-Data/train/normal/20 - Copy (2) - Copy.png\n",
            "Loaded image /content/drive/MyDrive/Chest-CT-Data/train/normal/18.png\n",
            "Loaded image /content/drive/MyDrive/Chest-CT-Data/train/normal/6 (2).png\n",
            "Loaded image /content/drive/MyDrive/Chest-CT-Data/train/normal/4 - Copy - Copy.png\n",
            "Loaded image /content/drive/MyDrive/Chest-CT-Data/train/normal/18 - Copy (3).png\n",
            "Loaded image /content/drive/MyDrive/Chest-CT-Data/train/normal/2 (2) - Copy.png\n",
            "Loaded image /content/drive/MyDrive/Chest-CT-Data/train/normal/10 - Copy - Copy.png\n",
            "Loaded image /content/drive/MyDrive/Chest-CT-Data/train/normal/13 (2).png\n",
            "Loaded image /content/drive/MyDrive/Chest-CT-Data/train/normal/12 (2).png\n",
            "Loaded image /content/drive/MyDrive/Chest-CT-Data/train/normal/13.png\n",
            "Loaded image /content/drive/MyDrive/Chest-CT-Data/train/normal/10 (2) - Copy.png\n",
            "Loaded image /content/drive/MyDrive/Chest-CT-Data/train/normal/12 (2) - Copy.png\n",
            "Loaded image /content/drive/MyDrive/Chest-CT-Data/train/normal/11 - Copy (3).png\n",
            "Loaded image /content/drive/MyDrive/Chest-CT-Data/train/normal/17 - Copy.png\n",
            "Loaded image /content/drive/MyDrive/Chest-CT-Data/train/normal/10 - Copy (2).png\n",
            "Loaded image /content/drive/MyDrive/Chest-CT-Data/train/normal/10 - Copy (3).png\n",
            "Loaded image /content/drive/MyDrive/Chest-CT-Data/train/normal/11 (2) - Copy.png\n",
            "Loaded image /content/drive/MyDrive/Chest-CT-Data/train/normal/2 (2).png\n",
            "Loaded image /content/drive/MyDrive/Chest-CT-Data/train/normal/17 - Copy - Copy.png\n",
            "Loaded image /content/drive/MyDrive/Chest-CT-Data/train/normal/12 - Copy (2).png\n",
            "Loaded image /content/drive/MyDrive/Chest-CT-Data/train/normal/10.png\n",
            "Loaded image /content/drive/MyDrive/Chest-CT-Data/train/normal/7 - Copy (2) - Copy.png\n",
            "Loaded image /content/drive/MyDrive/Chest-CT-Data/train/normal/13 (2) - Copy.png\n",
            "Loaded image /content/drive/MyDrive/Chest-CT-Data/train/normal/13 - Copy (2) - Copy.png\n",
            "Loaded image /content/drive/MyDrive/Chest-CT-Data/train/normal/19.png\n",
            "Loaded image /content/drive/MyDrive/Chest-CT-Data/train/normal/11.png\n",
            "Loaded image /content/drive/MyDrive/Chest-CT-Data/train/normal/12 - Copy.png\n",
            "Loaded image /content/drive/MyDrive/Chest-CT-Data/train/normal/10 (2).png\n",
            "Loaded image /content/drive/MyDrive/Chest-CT-Data/train/normal/12 - Copy (3).png\n",
            "Loaded image /content/drive/MyDrive/Chest-CT-Data/train/normal/11 - Copy (2).png\n",
            "Loaded image /content/drive/MyDrive/Chest-CT-Data/train/normal/13 - Copy (2).png\n",
            "Loaded image /content/drive/MyDrive/Chest-CT-Data/train/normal/10 - Copy.png\n",
            "Loaded image /content/drive/MyDrive/Chest-CT-Data/train/normal/13 - Copy - Copy.png\n",
            "Loaded image /content/drive/MyDrive/Chest-CT-Data/train/normal/12 - Copy - Copy.png\n",
            "Loaded image /content/drive/MyDrive/Chest-CT-Data/train/normal/12 - Copy (2) - Copy.png\n",
            "Loaded image /content/drive/MyDrive/Chest-CT-Data/train/normal/13 - Copy (3).png\n",
            "Loaded image /content/drive/MyDrive/Chest-CT-Data/train/normal/11 - Copy (2) - Copy.png\n",
            "Loaded image /content/drive/MyDrive/Chest-CT-Data/train/normal/2 - Copy.png\n",
            "Loaded image /content/drive/MyDrive/Chest-CT-Data/train/normal/10 - Copy (2) - Copy.png\n",
            "Loaded image /content/drive/MyDrive/Chest-CT-Data/train/normal/18 (2) - Copy.png\n",
            "Loaded image /content/drive/MyDrive/Chest-CT-Data/train/normal/2 - Copy (2).png\n",
            "Loaded image /content/drive/MyDrive/Chest-CT-Data/train/normal/4 (2) - Copy.png\n",
            "Loaded image /content/drive/MyDrive/Chest-CT-Data/train/normal/11 (2).png\n",
            "Loaded image /content/drive/MyDrive/Chest-CT-Data/train/squamous.cell.carcinoma/000084 (3).png\n",
            "Loaded image /content/drive/MyDrive/Chest-CT-Data/train/squamous.cell.carcinoma/sq3.png\n",
            "Loaded image /content/drive/MyDrive/Chest-CT-Data/train/squamous.cell.carcinoma/sq4.png\n",
            "Loaded image /content/drive/MyDrive/Chest-CT-Data/train/squamous.cell.carcinoma/000078 (5).png\n",
            "Loaded image /content/drive/MyDrive/Chest-CT-Data/train/squamous.cell.carcinoma/sq2.png\n",
            "Loaded image /content/drive/MyDrive/Chest-CT-Data/train/squamous.cell.carcinoma/sq1.png\n",
            "Loaded image /content/drive/MyDrive/Chest-CT-Data/train/squamous.cell.carcinoma/sq5.png\n",
            "Loaded image /content/drive/MyDrive/Chest-CT-Data/train/squamous.cell.carcinoma/000122 (3).png\n",
            "Loaded image /content/drive/MyDrive/Chest-CT-Data/train/squamous.cell.carcinoma/000053.png\n",
            "Loaded image /content/drive/MyDrive/Chest-CT-Data/train/squamous.cell.carcinoma/000013 (6).png\n",
            "Loaded image /content/drive/MyDrive/Chest-CT-Data/train/squamous.cell.carcinoma/000033.png\n",
            "Loaded image /content/drive/MyDrive/Chest-CT-Data/train/squamous.cell.carcinoma/000030 (7).png\n",
            "Loaded image /content/drive/MyDrive/Chest-CT-Data/train/squamous.cell.carcinoma/000077 (4).png\n",
            "Loaded image /content/drive/MyDrive/Chest-CT-Data/train/squamous.cell.carcinoma/000046 (6).png\n",
            "Loaded image /content/drive/MyDrive/Chest-CT-Data/train/squamous.cell.carcinoma/000093.png\n",
            "Loaded image /content/drive/MyDrive/Chest-CT-Data/train/squamous.cell.carcinoma/000015 (7).png\n",
            "Loaded image /content/drive/MyDrive/Chest-CT-Data/train/squamous.cell.carcinoma/000105 (7).png\n",
            "Loaded image /content/drive/MyDrive/Chest-CT-Data/train/squamous.cell.carcinoma/000004 (7).png\n",
            "Loaded image /content/drive/MyDrive/Chest-CT-Data/train/squamous.cell.carcinoma/sq6.png\n",
            "Loaded image /content/drive/MyDrive/Chest-CT-Data/train/squamous.cell.carcinoma/000062 (5).png\n",
            "Loaded image /content/drive/MyDrive/Chest-CT-Data/train/squamous.cell.carcinoma/000053 (6).png\n",
            "Loaded image /content/drive/MyDrive/Chest-CT-Data/train/squamous.cell.carcinoma/000028 (7).png\n",
            "Loaded image /content/drive/MyDrive/Chest-CT-Data/train/squamous.cell.carcinoma/000081 (6).png\n",
            "Loaded image /content/drive/MyDrive/Chest-CT-Data/train/squamous.cell.carcinoma/000067 (2).png\n",
            "Loaded image /content/drive/MyDrive/Chest-CT-Data/train/squamous.cell.carcinoma/000028 (4).png\n",
            "Loaded image /content/drive/MyDrive/Chest-CT-Data/train/squamous.cell.carcinoma/000024 (7).png\n",
            "Loaded image /content/drive/MyDrive/Chest-CT-Data/train/squamous.cell.carcinoma/000038 (5).png\n",
            "Loaded image /content/drive/MyDrive/Chest-CT-Data/train/squamous.cell.carcinoma/000057 (3).png\n",
            "Loaded image /content/drive/MyDrive/Chest-CT-Data/train/squamous.cell.carcinoma/000036 (4).png\n",
            "Loaded image /content/drive/MyDrive/Chest-CT-Data/train/squamous.cell.carcinoma/000024 (5).png\n",
            "Loaded image /content/drive/MyDrive/Chest-CT-Data/train/squamous.cell.carcinoma/000058 (7).png\n",
            "Loaded image /content/drive/MyDrive/Chest-CT-Data/train/squamous.cell.carcinoma/000067 (3).png\n",
            "Loaded image /content/drive/MyDrive/Chest-CT-Data/train/squamous.cell.carcinoma/000105 (5).png\n",
            "Loaded image /content/drive/MyDrive/Chest-CT-Data/train/squamous.cell.carcinoma/000052 (4).png\n",
            "Loaded image /content/drive/MyDrive/Chest-CT-Data/train/squamous.cell.carcinoma/000015 (5).png\n",
            "Loaded image /content/drive/MyDrive/Chest-CT-Data/train/squamous.cell.carcinoma/000032.png\n",
            "Loaded image /content/drive/MyDrive/Chest-CT-Data/train/squamous.cell.carcinoma/000099 (2).png\n",
            "Loaded image /content/drive/MyDrive/Chest-CT-Data/train/squamous.cell.carcinoma/000091 (5).png\n",
            "Loaded image /content/drive/MyDrive/Chest-CT-Data/train/squamous.cell.carcinoma/000028 (5).png\n",
            "Loaded image /content/drive/MyDrive/Chest-CT-Data/train/squamous.cell.carcinoma/000046 (7).png\n",
            "Loaded image /content/drive/MyDrive/Chest-CT-Data/train/squamous.cell.carcinoma/000078.png\n",
            "Loaded image /content/drive/MyDrive/Chest-CT-Data/train/squamous.cell.carcinoma/000030 (5).png\n",
            "Loaded image /content/drive/MyDrive/Chest-CT-Data/train/squamous.cell.carcinoma/000006.png\n",
            "Loaded image /content/drive/MyDrive/Chest-CT-Data/train/squamous.cell.carcinoma/000100 (4).png\n",
            "Loaded image /content/drive/MyDrive/Chest-CT-Data/train/squamous.cell.carcinoma/000029 (4).png\n",
            "Loaded image /content/drive/MyDrive/Chest-CT-Data/train/squamous.cell.carcinoma/000083 (7).png\n",
            "Loaded image /content/drive/MyDrive/Chest-CT-Data/train/squamous.cell.carcinoma/000091 (7).png\n",
            "Loaded image /content/drive/MyDrive/Chest-CT-Data/train/squamous.cell.carcinoma/000067 (7).png\n",
            "Loaded image /content/drive/MyDrive/Chest-CT-Data/train/squamous.cell.carcinoma/000065 (7).png\n",
            "Loaded image /content/drive/MyDrive/Chest-CT-Data/train/squamous.cell.carcinoma/000090 (6).png\n",
            "Loaded image /content/drive/MyDrive/Chest-CT-Data/train/squamous.cell.carcinoma/000017 (4).png\n",
            "Loaded image /content/drive/MyDrive/Chest-CT-Data/train/squamous.cell.carcinoma/000094.png\n",
            "Loaded image /content/drive/MyDrive/Chest-CT-Data/train/squamous.cell.carcinoma/000027 (2).png\n",
            "Loaded image /content/drive/MyDrive/Chest-CT-Data/train/squamous.cell.carcinoma/000007 (4).png\n",
            "Loaded image /content/drive/MyDrive/Chest-CT-Data/train/squamous.cell.carcinoma/000043 (3).png\n",
            "Loaded image /content/drive/MyDrive/Chest-CT-Data/train/squamous.cell.carcinoma/000069 (2).png\n",
            "Loaded image /content/drive/MyDrive/Chest-CT-Data/train/squamous.cell.carcinoma/000077 (5).png\n",
            "Loaded image /content/drive/MyDrive/Chest-CT-Data/train/squamous.cell.carcinoma/000066.png\n",
            "Loaded image /content/drive/MyDrive/Chest-CT-Data/train/squamous.cell.carcinoma/000055 (3).png\n",
            "Loaded image /content/drive/MyDrive/Chest-CT-Data/train/squamous.cell.carcinoma/000058 (5).png\n",
            "Loaded image /content/drive/MyDrive/Chest-CT-Data/train/squamous.cell.carcinoma/000067 (5).png\n",
            "Loaded image /content/drive/MyDrive/Chest-CT-Data/train/squamous.cell.carcinoma/000120 (4).png\n",
            "Loaded image /content/drive/MyDrive/Chest-CT-Data/train/squamous.cell.carcinoma/000096 (2).png\n",
            "Loaded image /content/drive/MyDrive/Chest-CT-Data/train/squamous.cell.carcinoma/000063 (6).png\n",
            "Loaded image /content/drive/MyDrive/Chest-CT-Data/train/squamous.cell.carcinoma/000121 (2).png\n",
            "Loaded image /content/drive/MyDrive/Chest-CT-Data/train/squamous.cell.carcinoma/000016 (3).png\n",
            "Loaded image /content/drive/MyDrive/Chest-CT-Data/train/squamous.cell.carcinoma/000079 (7).png\n",
            "Loaded image /content/drive/MyDrive/Chest-CT-Data/train/squamous.cell.carcinoma/000063.png\n",
            "Loaded image /content/drive/MyDrive/Chest-CT-Data/train/squamous.cell.carcinoma/000068 (4).png\n",
            "Loaded image /content/drive/MyDrive/Chest-CT-Data/train/squamous.cell.carcinoma/000079.png\n",
            "Loaded image /content/drive/MyDrive/Chest-CT-Data/train/squamous.cell.carcinoma/000038 (7).png\n",
            "Loaded image /content/drive/MyDrive/Chest-CT-Data/train/squamous.cell.carcinoma/000075.png\n",
            "Loaded image /content/drive/MyDrive/Chest-CT-Data/train/squamous.cell.carcinoma/000106 (7).png\n",
            "Loaded image /content/drive/MyDrive/Chest-CT-Data/train/squamous.cell.carcinoma/000030 (2).png\n",
            "Loaded image /content/drive/MyDrive/Chest-CT-Data/train/squamous.cell.carcinoma/000051 (3).png\n",
            "Loaded image /content/drive/MyDrive/Chest-CT-Data/train/squamous.cell.carcinoma/000081 (3).png\n",
            "Loaded image /content/drive/MyDrive/Chest-CT-Data/train/squamous.cell.carcinoma/000058 (3).png\n",
            "Loaded image /content/drive/MyDrive/Chest-CT-Data/train/squamous.cell.carcinoma/000050 (6).png\n",
            "Loaded image /content/drive/MyDrive/Chest-CT-Data/train/squamous.cell.carcinoma/000010 (6).png\n",
            "Loaded image /content/drive/MyDrive/Chest-CT-Data/train/squamous.cell.carcinoma/000088.png\n",
            "Loaded image /content/drive/MyDrive/Chest-CT-Data/train/squamous.cell.carcinoma/000106 (6).png\n",
            "Loaded image /content/drive/MyDrive/Chest-CT-Data/train/squamous.cell.carcinoma/000009 (2).png\n",
            "Loaded image /content/drive/MyDrive/Chest-CT-Data/train/squamous.cell.carcinoma/000037 (2).png\n",
            "Loaded image /content/drive/MyDrive/Chest-CT-Data/train/squamous.cell.carcinoma/000082 (4).png\n",
            "Loaded image /content/drive/MyDrive/Chest-CT-Data/train/squamous.cell.carcinoma/000008 (3).png\n",
            "Loaded image /content/drive/MyDrive/Chest-CT-Data/train/squamous.cell.carcinoma/000004 (4).png\n",
            "Loaded image /content/drive/MyDrive/Chest-CT-Data/train/squamous.cell.carcinoma/000048 (5).png\n",
            "Loaded image /content/drive/MyDrive/Chest-CT-Data/train/squamous.cell.carcinoma/000048 (7).png\n",
            "Loaded image /content/drive/MyDrive/Chest-CT-Data/train/squamous.cell.carcinoma/000083 (5).png\n",
            "Loaded image /content/drive/MyDrive/Chest-CT-Data/train/squamous.cell.carcinoma/000079 (5).png\n",
            "Loaded image /content/drive/MyDrive/Chest-CT-Data/train/squamous.cell.carcinoma/000106 (3).png\n",
            "Loaded image /content/drive/MyDrive/Chest-CT-Data/train/squamous.cell.carcinoma/000085.png\n",
            "Loaded image /content/drive/MyDrive/Chest-CT-Data/train/squamous.cell.carcinoma/000099 (3).png\n",
            "Loaded image /content/drive/MyDrive/Chest-CT-Data/train/squamous.cell.carcinoma/000106 (5).png\n",
            "Loaded image /content/drive/MyDrive/Chest-CT-Data/train/squamous.cell.carcinoma/000044 (2).png\n",
            "Loaded image /content/drive/MyDrive/Chest-CT-Data/train/squamous.cell.carcinoma/000078 (7).png\n",
            "Loaded image /content/drive/MyDrive/Chest-CT-Data/train/squamous.cell.carcinoma/000018 (6).png\n",
            "Loaded image /content/drive/MyDrive/Chest-CT-Data/train/squamous.cell.carcinoma/000046 (4).png\n",
            "Loaded image /content/drive/MyDrive/Chest-CT-Data/train/squamous.cell.carcinoma/000049 (3).png\n",
            "Loaded image /content/drive/MyDrive/Chest-CT-Data/train/squamous.cell.carcinoma/000082 (3).png\n",
            "Loaded image /content/drive/MyDrive/Chest-CT-Data/train/squamous.cell.carcinoma/000056 (5).png\n",
            "Loaded image /content/drive/MyDrive/Chest-CT-Data/train/squamous.cell.carcinoma/000056 (7).png\n",
            "Loaded image /content/drive/MyDrive/Chest-CT-Data/train/squamous.cell.carcinoma/000120 (2).png\n",
            "Loaded image /content/drive/MyDrive/Chest-CT-Data/train/squamous.cell.carcinoma/000063 (3).png\n",
            "Loaded image /content/drive/MyDrive/Chest-CT-Data/train/squamous.cell.carcinoma/000060 (2).png\n",
            "Loaded image /content/drive/MyDrive/Chest-CT-Data/train/squamous.cell.carcinoma/000004 (5).png\n",
            "Loaded image /content/drive/MyDrive/Chest-CT-Data/train/squamous.cell.carcinoma/000002 (6).png\n",
            "Loaded image /content/drive/MyDrive/Chest-CT-Data/train/squamous.cell.carcinoma/000054 (3).png\n",
            "Loaded image /content/drive/MyDrive/Chest-CT-Data/train/squamous.cell.carcinoma/000101 (3).png\n",
            "Loaded image /content/drive/MyDrive/Chest-CT-Data/train/squamous.cell.carcinoma/000074 (6).png\n",
            "Loaded image /content/drive/MyDrive/Chest-CT-Data/train/squamous.cell.carcinoma/000066 (2).png\n",
            "Loaded image /content/drive/MyDrive/Chest-CT-Data/train/squamous.cell.carcinoma/000038 (2).png\n",
            "Loaded image /content/drive/MyDrive/Chest-CT-Data/train/squamous.cell.carcinoma/000104.png\n",
            "Loaded image /content/drive/MyDrive/Chest-CT-Data/train/squamous.cell.carcinoma/000071 (3).png\n",
            "Loaded image /content/drive/MyDrive/Chest-CT-Data/train/squamous.cell.carcinoma/000074 (7).png\n",
            "Loaded image /content/drive/MyDrive/Chest-CT-Data/train/squamous.cell.carcinoma/000120 (6).png\n",
            "Loaded image /content/drive/MyDrive/Chest-CT-Data/train/squamous.cell.carcinoma/000041 (4).png\n",
            "Loaded image /content/drive/MyDrive/Chest-CT-Data/train/squamous.cell.carcinoma/000106 (4).png\n",
            "Loaded image /content/drive/MyDrive/Chest-CT-Data/train/squamous.cell.carcinoma/000073 (6).png\n",
            "Loaded image /content/drive/MyDrive/Chest-CT-Data/train/squamous.cell.carcinoma/000096.png\n",
            "Loaded image /content/drive/MyDrive/Chest-CT-Data/train/squamous.cell.carcinoma/000057 (5).png\n",
            "Loaded image /content/drive/MyDrive/Chest-CT-Data/train/squamous.cell.carcinoma/000084 (7).png\n",
            "Loaded image /content/drive/MyDrive/Chest-CT-Data/train/squamous.cell.carcinoma/000035 (5).png\n",
            "Loaded image /content/drive/MyDrive/Chest-CT-Data/train/squamous.cell.carcinoma/000121.png\n",
            "Loaded image /content/drive/MyDrive/Chest-CT-Data/train/squamous.cell.carcinoma/000057 (4).png\n",
            "Loaded image /content/drive/MyDrive/Chest-CT-Data/train/squamous.cell.carcinoma/000084 (5).png\n",
            "Loaded image /content/drive/MyDrive/Chest-CT-Data/train/squamous.cell.carcinoma/000065 (5).png\n",
            "Loaded image /content/drive/MyDrive/Chest-CT-Data/train/squamous.cell.carcinoma/000058.png\n",
            "Loaded image /content/drive/MyDrive/Chest-CT-Data/train/squamous.cell.carcinoma/000046 (5).png\n",
            "Loaded image /content/drive/MyDrive/Chest-CT-Data/train/squamous.cell.carcinoma/000054.png\n",
            "Loaded image /content/drive/MyDrive/Chest-CT-Data/train/squamous.cell.carcinoma/000077 (2).png\n",
            "Loaded image /content/drive/MyDrive/Chest-CT-Data/train/squamous.cell.carcinoma/000062 (7).png\n",
            "Loaded image /content/drive/MyDrive/Chest-CT-Data/train/squamous.cell.carcinoma/000007.png\n",
            "Loaded image /content/drive/MyDrive/Chest-CT-Data/train/squamous.cell.carcinoma/000048.png\n",
            "Loaded image /content/drive/MyDrive/Chest-CT-Data/train/squamous.cell.carcinoma/000070.png\n",
            "Loaded image /content/drive/MyDrive/Chest-CT-Data/train/squamous.cell.carcinoma/000055 (2).png\n",
            "Loaded image /content/drive/MyDrive/Chest-CT-Data/train/squamous.cell.carcinoma/000050 (2).png\n",
            "Loaded image /content/drive/MyDrive/Chest-CT-Data/train/squamous.cell.carcinoma/000103.png\n",
            "Loaded image /content/drive/MyDrive/Chest-CT-Data/train/squamous.cell.carcinoma/000003.png\n",
            "Loaded image /content/drive/MyDrive/Chest-CT-Data/train/squamous.cell.carcinoma/000006 (4).png\n",
            "Loaded image /content/drive/MyDrive/Chest-CT-Data/train/squamous.cell.carcinoma/000083 (6).png\n",
            "Loaded image /content/drive/MyDrive/Chest-CT-Data/train/squamous.cell.carcinoma/000081.png\n",
            "Loaded image /content/drive/MyDrive/Chest-CT-Data/train/squamous.cell.carcinoma/000083 (2).png\n",
            "Loaded image /content/drive/MyDrive/Chest-CT-Data/train/squamous.cell.carcinoma/000094 (3).png\n",
            "Loaded image /content/drive/MyDrive/Chest-CT-Data/train/squamous.cell.carcinoma/000122.png\n",
            "Loaded image /content/drive/MyDrive/Chest-CT-Data/train/squamous.cell.carcinoma/000057 (6).png\n",
            "Loaded image /content/drive/MyDrive/Chest-CT-Data/train/squamous.cell.carcinoma/000089 (4).png\n",
            "Loaded image /content/drive/MyDrive/Chest-CT-Data/train/squamous.cell.carcinoma/000057 (7).png\n",
            "Loaded image /content/drive/MyDrive/Chest-CT-Data/train/squamous.cell.carcinoma/000043.png\n",
            "Loaded image /content/drive/MyDrive/Chest-CT-Data/train/squamous.cell.carcinoma/000104 (2).png\n",
            "Loaded image /content/drive/MyDrive/Chest-CT-Data/train/squamous.cell.carcinoma/000074 (5).png\n",
            "Loaded image /content/drive/MyDrive/Chest-CT-Data/train/squamous.cell.carcinoma/000035.png\n",
            "Loaded image /content/drive/MyDrive/Chest-CT-Data/train/squamous.cell.carcinoma/000064 (4).png\n",
            "Loaded image /content/drive/MyDrive/Chest-CT-Data/train/squamous.cell.carcinoma/000002 (4).png\n",
            "Loaded image /content/drive/MyDrive/Chest-CT-Data/train/squamous.cell.carcinoma/000070 (2).png\n",
            "Loaded image /content/drive/MyDrive/Chest-CT-Data/valid/adenocarcinoma/000116 (5).png\n",
            "Loaded image /content/drive/MyDrive/Chest-CT-Data/valid/adenocarcinoma/000111 (2).png\n",
            "Loaded image /content/drive/MyDrive/Chest-CT-Data/valid/adenocarcinoma/000109 (8).png\n",
            "Loaded image /content/drive/MyDrive/Chest-CT-Data/valid/adenocarcinoma/000116 (3).png\n",
            "Loaded image /content/drive/MyDrive/Chest-CT-Data/valid/adenocarcinoma/000112 (2).png\n",
            "Loaded image /content/drive/MyDrive/Chest-CT-Data/valid/adenocarcinoma/000116 (8).png\n",
            "Loaded image /content/drive/MyDrive/Chest-CT-Data/valid/adenocarcinoma/000112 (9).png\n",
            "Loaded image /content/drive/MyDrive/Chest-CT-Data/valid/adenocarcinoma/000108 (8).png\n",
            "Loaded image /content/drive/MyDrive/Chest-CT-Data/valid/adenocarcinoma/000114.png\n",
            "Loaded image /content/drive/MyDrive/Chest-CT-Data/valid/adenocarcinoma/000108 (7).png\n",
            "Loaded image /content/drive/MyDrive/Chest-CT-Data/valid/adenocarcinoma/000113 (3).png\n",
            "Loaded image /content/drive/MyDrive/Chest-CT-Data/valid/adenocarcinoma/000116 (9).png\n",
            "Loaded image /content/drive/MyDrive/Chest-CT-Data/valid/adenocarcinoma/000117.png\n",
            "Loaded image /content/drive/MyDrive/Chest-CT-Data/valid/adenocarcinoma/000113.png\n",
            "Loaded image /content/drive/MyDrive/Chest-CT-Data/valid/adenocarcinoma/000115.png\n",
            "Loaded image /content/drive/MyDrive/Chest-CT-Data/valid/adenocarcinoma/000115 (2).png\n",
            "Loaded image /content/drive/MyDrive/Chest-CT-Data/valid/adenocarcinoma/000114 (10).png\n",
            "Loaded image /content/drive/MyDrive/Chest-CT-Data/valid/adenocarcinoma/000109 (4).png\n",
            "Loaded image /content/drive/MyDrive/Chest-CT-Data/valid/adenocarcinoma/000110 (7).png\n",
            "Loaded image /content/drive/MyDrive/Chest-CT-Data/valid/adenocarcinoma/000115 (9).png\n",
            "Loaded image /content/drive/MyDrive/Chest-CT-Data/valid/adenocarcinoma/000115 (5).png\n",
            "Loaded image /content/drive/MyDrive/Chest-CT-Data/valid/adenocarcinoma/000117 (6).png\n",
            "Loaded image /content/drive/MyDrive/Chest-CT-Data/valid/adenocarcinoma/000109 (3).png\n",
            "Loaded image /content/drive/MyDrive/Chest-CT-Data/valid/large.cell.carcinoma/000115.png\n",
            "Loaded image /content/drive/MyDrive/Chest-CT-Data/valid/large.cell.carcinoma/000113.png\n",
            "Loaded image /content/drive/MyDrive/Chest-CT-Data/valid/large.cell.carcinoma/000108 (2)(1).png\n",
            "Loaded image /content/drive/MyDrive/Chest-CT-Data/valid/large.cell.carcinoma/000126.png\n",
            "Loaded image /content/drive/MyDrive/Chest-CT-Data/valid/large.cell.carcinoma/000120.png\n",
            "Loaded image /content/drive/MyDrive/Chest-CT-Data/valid/large.cell.carcinoma/000111 (2).png\n",
            "Loaded image /content/drive/MyDrive/Chest-CT-Data/valid/large.cell.carcinoma/000131.png\n",
            "Loaded image /content/drive/MyDrive/Chest-CT-Data/valid/large.cell.carcinoma/000110 (2)(1).png\n",
            "Loaded image /content/drive/MyDrive/Chest-CT-Data/valid/large.cell.carcinoma/000108 (2).png\n",
            "Loaded image /content/drive/MyDrive/Chest-CT-Data/valid/large.cell.carcinoma/000114.png\n",
            "Loaded image /content/drive/MyDrive/Chest-CT-Data/valid/large.cell.carcinoma/000130.png\n",
            "Loaded image /content/drive/MyDrive/Chest-CT-Data/valid/large.cell.carcinoma/000116.png\n",
            "Loaded image /content/drive/MyDrive/Chest-CT-Data/valid/large.cell.carcinoma/000128.png\n",
            "Loaded image /content/drive/MyDrive/Chest-CT-Data/valid/large.cell.carcinoma/000122.png\n",
            "Loaded image /content/drive/MyDrive/Chest-CT-Data/valid/large.cell.carcinoma/000109(1).png\n",
            "Loaded image /content/drive/MyDrive/Chest-CT-Data/valid/large.cell.carcinoma/000112.png\n",
            "Loaded image /content/drive/MyDrive/Chest-CT-Data/valid/large.cell.carcinoma/000111 (2)(1).png\n",
            "Loaded image /content/drive/MyDrive/Chest-CT-Data/valid/large.cell.carcinoma/000111(1).png\n",
            "Loaded image /content/drive/MyDrive/Chest-CT-Data/valid/large.cell.carcinoma/000113 (2).png\n",
            "Loaded image /content/drive/MyDrive/Chest-CT-Data/valid/large.cell.carcinoma/000108(1).png\n",
            "Loaded image /content/drive/MyDrive/Chest-CT-Data/valid/large.cell.carcinoma/000110.png\n",
            "Loaded image /content/drive/MyDrive/Chest-CT-Data/valid/large.cell.carcinoma/000118 (2).png\n",
            "Loaded image /content/drive/MyDrive/Chest-CT-Data/valid/large.cell.carcinoma/000111.png\n",
            "Loaded image /content/drive/MyDrive/Chest-CT-Data/valid/large.cell.carcinoma/000115 (3).png\n",
            "Loaded image /content/drive/MyDrive/Chest-CT-Data/valid/large.cell.carcinoma/000109.png\n",
            "Loaded image /content/drive/MyDrive/Chest-CT-Data/valid/large.cell.carcinoma/000108.png\n",
            "Loaded image /content/drive/MyDrive/Chest-CT-Data/valid/large.cell.carcinoma/000110 (2).png\n",
            "Loaded image /content/drive/MyDrive/Chest-CT-Data/valid/large.cell.carcinoma/000110(1).png\n",
            "Loaded image /content/drive/MyDrive/Chest-CT-Data/valid/normal/003828_02_01_174.png\n",
            "Loaded image /content/drive/MyDrive/Chest-CT-Data/valid/normal/6 - Copy.png\n",
            "Loaded image /content/drive/MyDrive/Chest-CT-Data/valid/normal/7(1).png\n",
            "Loaded image /content/drive/MyDrive/Chest-CT-Data/valid/normal/7 - Copy (3).png\n",
            "Loaded image /content/drive/MyDrive/Chest-CT-Data/valid/normal/5.png\n",
            "Loaded image /content/drive/MyDrive/Chest-CT-Data/valid/normal/8 - Copy (3)(1).png\n",
            "Loaded image /content/drive/MyDrive/Chest-CT-Data/valid/normal/6 - Copy (2) - Copy.png\n",
            "Loaded image /content/drive/MyDrive/Chest-CT-Data/valid/normal/004162_01_01_150.png\n",
            "Loaded image /content/drive/MyDrive/Chest-CT-Data/valid/normal/4 (2).png\n",
            "Loaded image /content/drive/MyDrive/Chest-CT-Data/valid/normal/004007_01_01_519.png\n",
            "Loaded image /content/drive/MyDrive/Chest-CT-Data/valid/normal/6 - Copy (3).png\n",
            "Loaded image /content/drive/MyDrive/Chest-CT-Data/valid/normal/4 - Copy (2).png\n",
            "Loaded image /content/drive/MyDrive/Chest-CT-Data/valid/normal/8 - Copy (3).png\n",
            "Loaded image /content/drive/MyDrive/Chest-CT-Data/valid/normal/7.png\n",
            "Loaded image /content/drive/MyDrive/Chest-CT-Data/valid/normal/7 - Copy (2).png\n",
            "Loaded image /content/drive/MyDrive/Chest-CT-Data/valid/squamous.cell.carcinoma/000114 (6).png\n",
            "Loaded image /content/drive/MyDrive/Chest-CT-Data/valid/squamous.cell.carcinoma/000118 (4).png\n",
            "Loaded image /content/drive/MyDrive/Chest-CT-Data/valid/squamous.cell.carcinoma/000115 (5).png\n",
            "Loaded image /content/drive/MyDrive/Chest-CT-Data/valid/squamous.cell.carcinoma/000108 (3).png\n",
            "Loaded image /content/drive/MyDrive/Chest-CT-Data/valid/squamous.cell.carcinoma/000119.png\n",
            "Loaded image /content/drive/MyDrive/Chest-CT-Data/valid/squamous.cell.carcinoma/000116 (2).png\n",
            "Loaded image /content/drive/MyDrive/Chest-CT-Data/valid/squamous.cell.carcinoma/000117 (4).png\n",
            "Loaded image /content/drive/MyDrive/Chest-CT-Data/valid/squamous.cell.carcinoma/000112.png\n",
            "Loaded image /content/drive/MyDrive/Chest-CT-Data/valid/squamous.cell.carcinoma/000111.png\n",
            "Loaded image /content/drive/MyDrive/Chest-CT-Data/valid/squamous.cell.carcinoma/000114 (4).png\n",
            "Loaded image /content/drive/MyDrive/Chest-CT-Data/valid/squamous.cell.carcinoma/000119 (5).png\n",
            "Loaded image /content/drive/MyDrive/Chest-CT-Data/valid/squamous.cell.carcinoma/000110 (6).png\n",
            "Loaded image /content/drive/MyDrive/Chest-CT-Data/valid/squamous.cell.carcinoma/000115 (2).png\n",
            "Loaded image /content/drive/MyDrive/Chest-CT-Data/valid/squamous.cell.carcinoma/000117 (6).png\n",
            "Loaded image /content/drive/MyDrive/Chest-CT-Data/valid/squamous.cell.carcinoma/000118 (5).png\n",
            "Loaded image /content/drive/MyDrive/Chest-CT-Data/test/adenocarcinoma/000140.png\n",
            "Loaded image /content/drive/MyDrive/Chest-CT-Data/test/adenocarcinoma/000144 (2).png\n",
            "Loaded image /content/drive/MyDrive/Chest-CT-Data/test/adenocarcinoma/000146 (3).png\n",
            "Loaded image /content/drive/MyDrive/Chest-CT-Data/test/adenocarcinoma/000155 (4).png\n",
            "Loaded image /content/drive/MyDrive/Chest-CT-Data/test/adenocarcinoma/000143 (5).png\n",
            "Loaded image /content/drive/MyDrive/Chest-CT-Data/test/adenocarcinoma/000123 (6).png\n",
            "Loaded image /content/drive/MyDrive/Chest-CT-Data/test/adenocarcinoma/000130 (6).png\n",
            "Loaded image /content/drive/MyDrive/Chest-CT-Data/test/adenocarcinoma/000173 (7).png\n",
            "Loaded image /content/drive/MyDrive/Chest-CT-Data/test/adenocarcinoma/000143 (6).png\n",
            "Loaded image /content/drive/MyDrive/Chest-CT-Data/test/adenocarcinoma/000138 (9).png\n",
            "Loaded image /content/drive/MyDrive/Chest-CT-Data/test/adenocarcinoma/000137 (2).png\n",
            "Loaded image /content/drive/MyDrive/Chest-CT-Data/test/adenocarcinoma/000119 (4).png\n",
            "Loaded image /content/drive/MyDrive/Chest-CT-Data/test/adenocarcinoma/000158 (3).png\n",
            "Loaded image /content/drive/MyDrive/Chest-CT-Data/test/adenocarcinoma/000147.png\n",
            "Loaded image /content/drive/MyDrive/Chest-CT-Data/test/adenocarcinoma/000160 (6).png\n",
            "Loaded image /content/drive/MyDrive/Chest-CT-Data/test/adenocarcinoma/000146 (6).png\n",
            "Loaded image /content/drive/MyDrive/Chest-CT-Data/test/adenocarcinoma/000139.png\n",
            "Loaded image /content/drive/MyDrive/Chest-CT-Data/test/adenocarcinoma/000174 (4).png\n",
            "Loaded image /content/drive/MyDrive/Chest-CT-Data/test/adenocarcinoma/000132 (2).png\n",
            "Loaded image /content/drive/MyDrive/Chest-CT-Data/test/adenocarcinoma/000138 (6).png\n",
            "Loaded image /content/drive/MyDrive/Chest-CT-Data/test/adenocarcinoma/000121.png\n",
            "Loaded image /content/drive/MyDrive/Chest-CT-Data/test/adenocarcinoma/000148.png\n",
            "Loaded image /content/drive/MyDrive/Chest-CT-Data/test/adenocarcinoma/000173 (5).png\n",
            "Loaded image /content/drive/MyDrive/Chest-CT-Data/test/adenocarcinoma/000115 (4).png\n",
            "Loaded image /content/drive/MyDrive/Chest-CT-Data/test/adenocarcinoma/000128 (5).png\n",
            "Loaded image /content/drive/MyDrive/Chest-CT-Data/test/adenocarcinoma/000163 (3).png\n",
            "Loaded image /content/drive/MyDrive/Chest-CT-Data/test/adenocarcinoma/000137 (4).png\n",
            "Loaded image /content/drive/MyDrive/Chest-CT-Data/test/adenocarcinoma/000134 (9).png\n",
            "Loaded image /content/drive/MyDrive/Chest-CT-Data/test/adenocarcinoma/000165 (6).png\n",
            "Loaded image /content/drive/MyDrive/Chest-CT-Data/test/adenocarcinoma/000172 (3).png\n",
            "Loaded image /content/drive/MyDrive/Chest-CT-Data/test/adenocarcinoma/000166 (3).png\n",
            "Loaded image /content/drive/MyDrive/Chest-CT-Data/test/adenocarcinoma/000176 (2).png\n",
            "Loaded image /content/drive/MyDrive/Chest-CT-Data/test/adenocarcinoma/000161 (4).png\n",
            "Loaded image /content/drive/MyDrive/Chest-CT-Data/test/adenocarcinoma/000157 (5).png\n",
            "Loaded image /content/drive/MyDrive/Chest-CT-Data/test/adenocarcinoma/000118 (5).png\n",
            "Loaded image /content/drive/MyDrive/Chest-CT-Data/test/adenocarcinoma/000149 (7).png\n",
            "Loaded image /content/drive/MyDrive/Chest-CT-Data/test/adenocarcinoma/000166 (4).png\n",
            "Loaded image /content/drive/MyDrive/Chest-CT-Data/test/adenocarcinoma/000123 (9).png\n",
            "Loaded image /content/drive/MyDrive/Chest-CT-Data/test/adenocarcinoma/000139 (9).png\n",
            "Loaded image /content/drive/MyDrive/Chest-CT-Data/test/adenocarcinoma/000115.png\n",
            "Loaded image /content/drive/MyDrive/Chest-CT-Data/test/adenocarcinoma/000166 (2).png\n",
            "Loaded image /content/drive/MyDrive/Chest-CT-Data/test/adenocarcinoma/000134.png\n",
            "Loaded image /content/drive/MyDrive/Chest-CT-Data/test/adenocarcinoma/000132 (8).png\n",
            "Loaded image /content/drive/MyDrive/Chest-CT-Data/test/adenocarcinoma/000133 (4).png\n",
            "Loaded image /content/drive/MyDrive/Chest-CT-Data/test/adenocarcinoma/000158 (2).png\n",
            "Loaded image /content/drive/MyDrive/Chest-CT-Data/test/adenocarcinoma/000158 (5).png\n",
            "Loaded image /content/drive/MyDrive/Chest-CT-Data/test/adenocarcinoma/000125 (8).png\n",
            "Loaded image /content/drive/MyDrive/Chest-CT-Data/test/adenocarcinoma/000123 (4).png\n",
            "Loaded image /content/drive/MyDrive/Chest-CT-Data/test/adenocarcinoma/000129.png\n",
            "Loaded image /content/drive/MyDrive/Chest-CT-Data/test/adenocarcinoma/000136 (2).png\n",
            "Loaded image /content/drive/MyDrive/Chest-CT-Data/test/adenocarcinoma/000117 (4).png\n",
            "Loaded image /content/drive/MyDrive/Chest-CT-Data/test/adenocarcinoma/000171.png\n",
            "Loaded image /content/drive/MyDrive/Chest-CT-Data/test/adenocarcinoma/000148 (3).png\n",
            "Loaded image /content/drive/MyDrive/Chest-CT-Data/test/adenocarcinoma/000120.png\n",
            "Loaded image /content/drive/MyDrive/Chest-CT-Data/test/adenocarcinoma/000135 (5).png\n",
            "Loaded image /content/drive/MyDrive/Chest-CT-Data/test/adenocarcinoma/000139 (5).png\n",
            "Loaded image /content/drive/MyDrive/Chest-CT-Data/test/adenocarcinoma/000114.png\n",
            "Loaded image /content/drive/MyDrive/Chest-CT-Data/test/adenocarcinoma/000141 (2).png\n",
            "Loaded image /content/drive/MyDrive/Chest-CT-Data/test/adenocarcinoma/000117.png\n",
            "Loaded image /content/drive/MyDrive/Chest-CT-Data/test/adenocarcinoma/000122.png\n",
            "Loaded image /content/drive/MyDrive/Chest-CT-Data/test/adenocarcinoma/000139 (6).png\n",
            "Loaded image /content/drive/MyDrive/Chest-CT-Data/test/adenocarcinoma/000148 (6).png\n",
            "Loaded image /content/drive/MyDrive/Chest-CT-Data/test/adenocarcinoma/000158 (6).png\n",
            "Loaded image /content/drive/MyDrive/Chest-CT-Data/test/adenocarcinoma/000168 (3).png\n",
            "Loaded image /content/drive/MyDrive/Chest-CT-Data/test/adenocarcinoma/000116 (7).png\n",
            "Loaded image /content/drive/MyDrive/Chest-CT-Data/test/adenocarcinoma/000139 (8).png\n",
            "Loaded image /content/drive/MyDrive/Chest-CT-Data/test/adenocarcinoma/000171 (5).png\n",
            "Loaded image /content/drive/MyDrive/Chest-CT-Data/test/adenocarcinoma/000149 (4).png\n",
            "Loaded image /content/drive/MyDrive/Chest-CT-Data/test/adenocarcinoma/000144 (5).png\n",
            "Loaded image /content/drive/MyDrive/Chest-CT-Data/test/adenocarcinoma/000161 (5).png\n",
            "Loaded image /content/drive/MyDrive/Chest-CT-Data/test/adenocarcinoma/000142.png\n",
            "Loaded image /content/drive/MyDrive/Chest-CT-Data/test/adenocarcinoma/000167 (3).png\n",
            "Loaded image /content/drive/MyDrive/Chest-CT-Data/test/adenocarcinoma/000116 (5).png\n",
            "Loaded image /content/drive/MyDrive/Chest-CT-Data/test/adenocarcinoma/000167 (8).png\n",
            "Loaded image /content/drive/MyDrive/Chest-CT-Data/test/adenocarcinoma/000151 (5).png\n",
            "Loaded image /content/drive/MyDrive/Chest-CT-Data/test/adenocarcinoma/000148 (8).png\n",
            "Loaded image /content/drive/MyDrive/Chest-CT-Data/test/adenocarcinoma/000129 (5).png\n",
            "Loaded image /content/drive/MyDrive/Chest-CT-Data/test/adenocarcinoma/000153 (5).png\n",
            "Loaded image /content/drive/MyDrive/Chest-CT-Data/test/adenocarcinoma/000131 (2).png\n",
            "Loaded image /content/drive/MyDrive/Chest-CT-Data/test/adenocarcinoma/000156 (4).png\n",
            "Loaded image /content/drive/MyDrive/Chest-CT-Data/test/adenocarcinoma/000125 (6).png\n",
            "Loaded image /content/drive/MyDrive/Chest-CT-Data/test/adenocarcinoma/000177.png\n",
            "Loaded image /content/drive/MyDrive/Chest-CT-Data/test/adenocarcinoma/000145 (9).png\n",
            "Loaded image /content/drive/MyDrive/Chest-CT-Data/test/adenocarcinoma/000132.png\n",
            "Loaded image /content/drive/MyDrive/Chest-CT-Data/test/adenocarcinoma/000118 (7).png\n",
            "Loaded image /content/drive/MyDrive/Chest-CT-Data/test/adenocarcinoma/000117 (8).png\n",
            "Loaded image /content/drive/MyDrive/Chest-CT-Data/test/adenocarcinoma/000125 (4).png\n",
            "Loaded image /content/drive/MyDrive/Chest-CT-Data/test/adenocarcinoma/000164 (5).png\n",
            "Loaded image /content/drive/MyDrive/Chest-CT-Data/test/adenocarcinoma/000177 (4).png\n",
            "Loaded image /content/drive/MyDrive/Chest-CT-Data/test/adenocarcinoma/000126 (6).png\n",
            "Loaded image /content/drive/MyDrive/Chest-CT-Data/test/adenocarcinoma/000121 (7).png\n",
            "Loaded image /content/drive/MyDrive/Chest-CT-Data/test/adenocarcinoma/000149 (2).png\n",
            "Loaded image /content/drive/MyDrive/Chest-CT-Data/test/adenocarcinoma/000125 (5).png\n",
            "Loaded image /content/drive/MyDrive/Chest-CT-Data/test/adenocarcinoma/000163 (7).png\n",
            "Loaded image /content/drive/MyDrive/Chest-CT-Data/test/adenocarcinoma/000124 (9).png\n",
            "Loaded image /content/drive/MyDrive/Chest-CT-Data/test/adenocarcinoma/000127 (5).png\n",
            "Loaded image /content/drive/MyDrive/Chest-CT-Data/test/adenocarcinoma/000112 (2).png\n",
            "Loaded image /content/drive/MyDrive/Chest-CT-Data/test/adenocarcinoma/000119 (6).png\n",
            "Loaded image /content/drive/MyDrive/Chest-CT-Data/test/adenocarcinoma/000109 (2).png\n",
            "Loaded image /content/drive/MyDrive/Chest-CT-Data/test/adenocarcinoma/000109 (4).png\n",
            "Loaded image /content/drive/MyDrive/Chest-CT-Data/test/adenocarcinoma/000122 (4).png\n",
            "Loaded image /content/drive/MyDrive/Chest-CT-Data/test/adenocarcinoma/000113 (7).png\n",
            "Loaded image /content/drive/MyDrive/Chest-CT-Data/test/adenocarcinoma/000124 (6).png\n",
            "Loaded image /content/drive/MyDrive/Chest-CT-Data/test/adenocarcinoma/000133 (2).png\n",
            "Loaded image /content/drive/MyDrive/Chest-CT-Data/test/adenocarcinoma/000119 (5).png\n",
            "Loaded image /content/drive/MyDrive/Chest-CT-Data/test/adenocarcinoma/000155.png\n",
            "Loaded image /content/drive/MyDrive/Chest-CT-Data/test/adenocarcinoma/000116 (9).png\n",
            "Loaded image /content/drive/MyDrive/Chest-CT-Data/test/adenocarcinoma/000125 (2).png\n",
            "Loaded image /content/drive/MyDrive/Chest-CT-Data/test/adenocarcinoma/000160 (4).png\n",
            "Loaded image /content/drive/MyDrive/Chest-CT-Data/test/adenocarcinoma/000137 (8).png\n",
            "Loaded image /content/drive/MyDrive/Chest-CT-Data/test/adenocarcinoma/000121 (6).png\n",
            "Loaded image /content/drive/MyDrive/Chest-CT-Data/test/adenocarcinoma/000114 (5).png\n",
            "Loaded image /content/drive/MyDrive/Chest-CT-Data/test/adenocarcinoma/000158.png\n",
            "Loaded image /content/drive/MyDrive/Chest-CT-Data/test/adenocarcinoma/000108 (3).png\n",
            "Loaded image /content/drive/MyDrive/Chest-CT-Data/test/adenocarcinoma/000115 (8).png\n",
            "Loaded image /content/drive/MyDrive/Chest-CT-Data/test/adenocarcinoma/000136 (8).png\n",
            "Loaded image /content/drive/MyDrive/Chest-CT-Data/test/adenocarcinoma/000134 (2).png\n",
            "Loaded image /content/drive/MyDrive/Chest-CT-Data/test/adenocarcinoma/000132 (7).png\n",
            "Loaded image /content/drive/MyDrive/Chest-CT-Data/test/adenocarcinoma/000109 (5).png\n",
            "Loaded image /content/drive/MyDrive/Chest-CT-Data/test/adenocarcinoma/000157 (6).png\n",
            "Loaded image /content/drive/MyDrive/Chest-CT-Data/test/large.cell.carcinoma/000170.png\n",
            "Loaded image /content/drive/MyDrive/Chest-CT-Data/test/large.cell.carcinoma/000173 (2).png\n",
            "Loaded image /content/drive/MyDrive/Chest-CT-Data/test/large.cell.carcinoma/000138 (2).png\n",
            "Loaded image /content/drive/MyDrive/Chest-CT-Data/test/large.cell.carcinoma/000149.png\n",
            "Loaded image /content/drive/MyDrive/Chest-CT-Data/test/large.cell.carcinoma/000113.png\n",
            "Loaded image /content/drive/MyDrive/Chest-CT-Data/test/large.cell.carcinoma/000128.png\n",
            "Loaded image /content/drive/MyDrive/Chest-CT-Data/test/large.cell.carcinoma/000130.png\n",
            "Loaded image /content/drive/MyDrive/Chest-CT-Data/test/large.cell.carcinoma/000173.png\n",
            "Loaded image /content/drive/MyDrive/Chest-CT-Data/test/large.cell.carcinoma/000133.png\n",
            "Loaded image /content/drive/MyDrive/Chest-CT-Data/test/large.cell.carcinoma/000160.png\n",
            "Loaded image /content/drive/MyDrive/Chest-CT-Data/test/large.cell.carcinoma/000172.png\n",
            "Loaded image /content/drive/MyDrive/Chest-CT-Data/test/large.cell.carcinoma/000141.png\n",
            "Loaded image /content/drive/MyDrive/Chest-CT-Data/test/large.cell.carcinoma/000169.png\n",
            "Loaded image /content/drive/MyDrive/Chest-CT-Data/test/large.cell.carcinoma/000163.png\n",
            "Loaded image /content/drive/MyDrive/Chest-CT-Data/test/large.cell.carcinoma/000154.png\n",
            "Loaded image /content/drive/MyDrive/Chest-CT-Data/test/large.cell.carcinoma/000172 (2).png\n",
            "Loaded image /content/drive/MyDrive/Chest-CT-Data/test/large.cell.carcinoma/000171.png\n",
            "Loaded image /content/drive/MyDrive/Chest-CT-Data/test/large.cell.carcinoma/000174.png\n",
            "Loaded image /content/drive/MyDrive/Chest-CT-Data/test/large.cell.carcinoma/000111.png\n",
            "Loaded image /content/drive/MyDrive/Chest-CT-Data/test/large.cell.carcinoma/000150.png\n",
            "Loaded image /content/drive/MyDrive/Chest-CT-Data/test/large.cell.carcinoma/000148.png\n",
            "Loaded image /content/drive/MyDrive/Chest-CT-Data/test/large.cell.carcinoma/000123.png\n",
            "Loaded image /content/drive/MyDrive/Chest-CT-Data/test/large.cell.carcinoma/000120.png\n",
            "Loaded image /content/drive/MyDrive/Chest-CT-Data/test/large.cell.carcinoma/000158.png\n",
            "Loaded image /content/drive/MyDrive/Chest-CT-Data/test/large.cell.carcinoma/000115 (2).png\n",
            "Loaded image /content/drive/MyDrive/Chest-CT-Data/test/large.cell.carcinoma/000137.png\n",
            "Loaded image /content/drive/MyDrive/Chest-CT-Data/test/large.cell.carcinoma/000118.png\n",
            "Loaded image /content/drive/MyDrive/Chest-CT-Data/test/large.cell.carcinoma/000114.png\n",
            "Loaded image /content/drive/MyDrive/Chest-CT-Data/test/large.cell.carcinoma/000159 (2).png\n",
            "Loaded image /content/drive/MyDrive/Chest-CT-Data/test/large.cell.carcinoma/000128 (2).png\n",
            "Loaded image /content/drive/MyDrive/Chest-CT-Data/test/large.cell.carcinoma/000111 (2).png\n",
            "Loaded image /content/drive/MyDrive/Chest-CT-Data/test/large.cell.carcinoma/000126.png\n",
            "Loaded image /content/drive/MyDrive/Chest-CT-Data/test/large.cell.carcinoma/000155.png\n",
            "Loaded image /content/drive/MyDrive/Chest-CT-Data/test/large.cell.carcinoma/000116.png\n",
            "Loaded image /content/drive/MyDrive/Chest-CT-Data/test/large.cell.carcinoma/000131.png\n",
            "Loaded image /content/drive/MyDrive/Chest-CT-Data/test/large.cell.carcinoma/000122.png\n",
            "Loaded image /content/drive/MyDrive/Chest-CT-Data/test/large.cell.carcinoma/000148 (2).png\n",
            "Loaded image /content/drive/MyDrive/Chest-CT-Data/test/large.cell.carcinoma/000132 (2).png\n",
            "Loaded image /content/drive/MyDrive/Chest-CT-Data/test/large.cell.carcinoma/000162.png\n",
            "Loaded image /content/drive/MyDrive/Chest-CT-Data/test/large.cell.carcinoma/000113 (2).png\n",
            "Loaded image /content/drive/MyDrive/Chest-CT-Data/test/large.cell.carcinoma/000136 (2).png\n",
            "Loaded image /content/drive/MyDrive/Chest-CT-Data/test/large.cell.carcinoma/000108.png\n",
            "Loaded image /content/drive/MyDrive/Chest-CT-Data/test/large.cell.carcinoma/000131 (2).png\n",
            "Loaded image /content/drive/MyDrive/Chest-CT-Data/test/large.cell.carcinoma/000124 (2).png\n",
            "Loaded image /content/drive/MyDrive/Chest-CT-Data/test/large.cell.carcinoma/000147 (2).png\n",
            "Loaded image /content/drive/MyDrive/Chest-CT-Data/test/large.cell.carcinoma/000110.png\n",
            "Loaded image /content/drive/MyDrive/Chest-CT-Data/test/large.cell.carcinoma/000133 (2).png\n",
            "Loaded image /content/drive/MyDrive/Chest-CT-Data/test/large.cell.carcinoma/000159.png\n",
            "Loaded image /content/drive/MyDrive/Chest-CT-Data/test/large.cell.carcinoma/000154 (2).png\n",
            "Loaded image /content/drive/MyDrive/Chest-CT-Data/test/large.cell.carcinoma/000143.png\n",
            "Loaded image /content/drive/MyDrive/Chest-CT-Data/test/large.cell.carcinoma/000127 (2).png\n",
            "Loaded image /content/drive/MyDrive/Chest-CT-Data/test/normal/11 - Copy (2).png\n",
            "Loaded image /content/drive/MyDrive/Chest-CT-Data/test/normal/6 - Copy (3).png\n",
            "Loaded image /content/drive/MyDrive/Chest-CT-Data/test/normal/10 - Copy (3).png\n",
            "Loaded image /content/drive/MyDrive/Chest-CT-Data/test/normal/6 - Copy.png\n",
            "Loaded image /content/drive/MyDrive/Chest-CT-Data/test/normal/11 (2).png\n",
            "Loaded image /content/drive/MyDrive/Chest-CT-Data/test/normal/12 - Copy - Copy.png\n",
            "Loaded image /content/drive/MyDrive/Chest-CT-Data/test/normal/8 - Copy (3).png\n",
            "Loaded image /content/drive/MyDrive/Chest-CT-Data/test/normal/10.png\n",
            "Loaded image /content/drive/MyDrive/Chest-CT-Data/test/normal/8.png\n",
            "Loaded image /content/drive/MyDrive/Chest-CT-Data/test/normal/6 (2) - Copy.png\n",
            "Loaded image /content/drive/MyDrive/Chest-CT-Data/test/normal/6 - Copy (2) - Copy.png\n",
            "Loaded image /content/drive/MyDrive/Chest-CT-Data/test/normal/6.png\n",
            "Loaded image /content/drive/MyDrive/Chest-CT-Data/test/normal/11 - Copy - Copy.png\n",
            "Loaded image /content/drive/MyDrive/Chest-CT-Data/test/normal/10 (2) - Copy.png\n",
            "Loaded image /content/drive/MyDrive/Chest-CT-Data/test/normal/7 - Copy (3).png\n",
            "Loaded image /content/drive/MyDrive/Chest-CT-Data/test/normal/12 (2).png\n",
            "Loaded image /content/drive/MyDrive/Chest-CT-Data/test/normal/12 - Copy (3).png\n",
            "Loaded image /content/drive/MyDrive/Chest-CT-Data/test/normal/11 - Copy (3).png\n",
            "Loaded image /content/drive/MyDrive/Chest-CT-Data/test/normal/6 - Copy (2).png\n",
            "Loaded image /content/drive/MyDrive/Chest-CT-Data/test/normal/24 - Copy.png\n",
            "Loaded image /content/drive/MyDrive/Chest-CT-Data/test/normal/21.png\n",
            "Loaded image /content/drive/MyDrive/Chest-CT-Data/test/normal/11 - Copy (2) - Copy.png\n",
            "Loaded image /content/drive/MyDrive/Chest-CT-Data/test/normal/24.png\n",
            "Loaded image /content/drive/MyDrive/Chest-CT-Data/test/normal/8 - Copy.png\n",
            "Loaded image /content/drive/MyDrive/Chest-CT-Data/test/normal/10 - Copy (2) - Copy.png\n",
            "Loaded image /content/drive/MyDrive/Chest-CT-Data/test/normal/8 (2) - Copy.png\n",
            "Loaded image /content/drive/MyDrive/Chest-CT-Data/test/normal/25.png\n",
            "Loaded image /content/drive/MyDrive/Chest-CT-Data/test/normal/7 (2) - Copy.png\n",
            "Loaded image /content/drive/MyDrive/Chest-CT-Data/test/normal/22.png\n",
            "Loaded image /content/drive/MyDrive/Chest-CT-Data/test/normal/7.png\n",
            "Loaded image /content/drive/MyDrive/Chest-CT-Data/test/normal/12 - Copy (2).png\n",
            "Loaded image /content/drive/MyDrive/Chest-CT-Data/test/normal/8 - Copy - Copy.png\n",
            "Loaded image /content/drive/MyDrive/Chest-CT-Data/test/normal/12 - Copy.png\n",
            "Loaded image /content/drive/MyDrive/Chest-CT-Data/test/normal/23.png\n",
            "Loaded image /content/drive/MyDrive/Chest-CT-Data/test/normal/7 - Copy (2) - Copy.png\n",
            "Loaded image /content/drive/MyDrive/Chest-CT-Data/test/normal/10 - Copy (2).png\n",
            "Loaded image /content/drive/MyDrive/Chest-CT-Data/test/normal/7 - Copy.png\n",
            "Loaded image /content/drive/MyDrive/Chest-CT-Data/test/normal/10 - Copy.png\n",
            "Loaded image /content/drive/MyDrive/Chest-CT-Data/test/normal/12 (2) - Copy.png\n",
            "Loaded image /content/drive/MyDrive/Chest-CT-Data/test/normal/10 - Copy - Copy.png\n",
            "Loaded image /content/drive/MyDrive/Chest-CT-Data/test/normal/12 - Copy (2) - Copy.png\n",
            "Loaded image /content/drive/MyDrive/Chest-CT-Data/test/normal/11 (2) - Copy.png\n",
            "Loaded image /content/drive/MyDrive/Chest-CT-Data/test/normal/10 (2).png\n",
            "Loaded image /content/drive/MyDrive/Chest-CT-Data/test/normal/8 - Copy (2) - Copy.png\n",
            "Loaded image /content/drive/MyDrive/Chest-CT-Data/test/normal/8 - Copy (2).png\n",
            "Loaded image /content/drive/MyDrive/Chest-CT-Data/test/normal/8 (2).png\n",
            "Loaded image /content/drive/MyDrive/Chest-CT-Data/test/normal/11.png\n",
            "Loaded image /content/drive/MyDrive/Chest-CT-Data/test/normal/normal.png\n",
            "Loaded image /content/drive/MyDrive/Chest-CT-Data/test/normal/7 (2).png\n",
            "Loaded image /content/drive/MyDrive/Chest-CT-Data/test/normal/7 - Copy (2).png\n",
            "Loaded image /content/drive/MyDrive/Chest-CT-Data/test/normal/6 (2).png\n",
            "Loaded image /content/drive/MyDrive/Chest-CT-Data/test/normal/11 - Copy.png\n",
            "Loaded image /content/drive/MyDrive/Chest-CT-Data/test/normal/normal - Copy.png\n",
            "Loaded image /content/drive/MyDrive/Chest-CT-Data/test/normal/7 - Copy - Copy.png\n",
            "Loaded image /content/drive/MyDrive/Chest-CT-Data/test/squamous.cell.carcinoma/000124 (5).png\n",
            "Loaded image /content/drive/MyDrive/Chest-CT-Data/test/squamous.cell.carcinoma/000162.png\n",
            "Loaded image /content/drive/MyDrive/Chest-CT-Data/test/squamous.cell.carcinoma/000168 (2).png\n",
            "Loaded image /content/drive/MyDrive/Chest-CT-Data/test/squamous.cell.carcinoma/000125 (2).png\n",
            "Loaded image /content/drive/MyDrive/Chest-CT-Data/test/squamous.cell.carcinoma/000125 (6).png\n",
            "Loaded image /content/drive/MyDrive/Chest-CT-Data/test/squamous.cell.carcinoma/000122 (6).png\n",
            "Loaded image /content/drive/MyDrive/Chest-CT-Data/test/squamous.cell.carcinoma/000144 (5).png\n",
            "Loaded image /content/drive/MyDrive/Chest-CT-Data/test/squamous.cell.carcinoma/000130 (4).png\n",
            "Loaded image /content/drive/MyDrive/Chest-CT-Data/test/squamous.cell.carcinoma/000127 (2).png\n",
            "Loaded image /content/drive/MyDrive/Chest-CT-Data/test/squamous.cell.carcinoma/000132 (4).png\n",
            "Loaded image /content/drive/MyDrive/Chest-CT-Data/test/squamous.cell.carcinoma/000145 (6).png\n",
            "Loaded image /content/drive/MyDrive/Chest-CT-Data/test/squamous.cell.carcinoma/000151 (6).png\n",
            "Loaded image /content/drive/MyDrive/Chest-CT-Data/test/squamous.cell.carcinoma/000169 (6).png\n",
            "Loaded image /content/drive/MyDrive/Chest-CT-Data/test/squamous.cell.carcinoma/000170 (2).png\n",
            "Loaded image /content/drive/MyDrive/Chest-CT-Data/test/squamous.cell.carcinoma/000160 (4).png\n",
            "Loaded image /content/drive/MyDrive/Chest-CT-Data/test/squamous.cell.carcinoma/000153 (3).png\n",
            "Loaded image /content/drive/MyDrive/Chest-CT-Data/test/squamous.cell.carcinoma/000119.png\n",
            "Loaded image /content/drive/MyDrive/Chest-CT-Data/test/squamous.cell.carcinoma/000154 (2).png\n",
            "Loaded image /content/drive/MyDrive/Chest-CT-Data/test/squamous.cell.carcinoma/000164 (5).png\n",
            "Loaded image /content/drive/MyDrive/Chest-CT-Data/test/squamous.cell.carcinoma/000120 (3).png\n",
            "Loaded image /content/drive/MyDrive/Chest-CT-Data/test/squamous.cell.carcinoma/000141 (4).png\n",
            "Loaded image /content/drive/MyDrive/Chest-CT-Data/test/squamous.cell.carcinoma/000154 (3).png\n",
            "Loaded image /content/drive/MyDrive/Chest-CT-Data/test/squamous.cell.carcinoma/000135.png\n",
            "Loaded image /content/drive/MyDrive/Chest-CT-Data/test/squamous.cell.carcinoma/000156 (2).png\n",
            "Loaded image /content/drive/MyDrive/Chest-CT-Data/test/squamous.cell.carcinoma/000151.png\n",
            "Loaded image /content/drive/MyDrive/Chest-CT-Data/test/squamous.cell.carcinoma/000142 (6).png\n",
            "Loaded image /content/drive/MyDrive/Chest-CT-Data/test/squamous.cell.carcinoma/000136 (6).png\n",
            "Loaded image /content/drive/MyDrive/Chest-CT-Data/test/squamous.cell.carcinoma/000124.png\n",
            "Loaded image /content/drive/MyDrive/Chest-CT-Data/test/squamous.cell.carcinoma/000155 (3).png\n",
            "Loaded image /content/drive/MyDrive/Chest-CT-Data/test/squamous.cell.carcinoma/000177 (3).png\n",
            "Loaded image /content/drive/MyDrive/Chest-CT-Data/test/squamous.cell.carcinoma/000121 (5).png\n",
            "Loaded image /content/drive/MyDrive/Chest-CT-Data/test/squamous.cell.carcinoma/000122.png\n",
            "Loaded image /content/drive/MyDrive/Chest-CT-Data/test/squamous.cell.carcinoma/000137.png\n",
            "Loaded image /content/drive/MyDrive/Chest-CT-Data/test/squamous.cell.carcinoma/000163 (4).png\n",
            "Loaded image /content/drive/MyDrive/Chest-CT-Data/test/squamous.cell.carcinoma/000129 (6).png\n",
            "Loaded image /content/drive/MyDrive/Chest-CT-Data/test/squamous.cell.carcinoma/000136 (4).png\n",
            "Loaded image /content/drive/MyDrive/Chest-CT-Data/test/squamous.cell.carcinoma/000166 (4).png\n",
            "Loaded image /content/drive/MyDrive/Chest-CT-Data/test/squamous.cell.carcinoma/000167 (2).png\n",
            "Loaded image /content/drive/MyDrive/Chest-CT-Data/test/squamous.cell.carcinoma/000135 (4).png\n",
            "Loaded image /content/drive/MyDrive/Chest-CT-Data/test/squamous.cell.carcinoma/000115 (4).png\n",
            "Loaded image /content/drive/MyDrive/Chest-CT-Data/test/squamous.cell.carcinoma/000112.png\n",
            "Loaded image /content/drive/MyDrive/Chest-CT-Data/test/squamous.cell.carcinoma/000134 (5).png\n",
            "Loaded image /content/drive/MyDrive/Chest-CT-Data/test/squamous.cell.carcinoma/000117 (3).png\n",
            "Loaded image /content/drive/MyDrive/Chest-CT-Data/test/squamous.cell.carcinoma/000120 (2).png\n",
            "Loaded image /content/drive/MyDrive/Chest-CT-Data/test/squamous.cell.carcinoma/000118 (4).png\n",
            "Loaded image /content/drive/MyDrive/Chest-CT-Data/test/squamous.cell.carcinoma/000133 (2).png\n",
            "Loaded image /content/drive/MyDrive/Chest-CT-Data/test/squamous.cell.carcinoma/000125.png\n",
            "Loaded image /content/drive/MyDrive/Chest-CT-Data/test/squamous.cell.carcinoma/000172 (6).png\n",
            "Loaded image /content/drive/MyDrive/Chest-CT-Data/test/squamous.cell.carcinoma/000139 (6).png\n",
            "Loaded image /content/drive/MyDrive/Chest-CT-Data/test/squamous.cell.carcinoma/000154 (4).png\n",
            "Loaded image /content/drive/MyDrive/Chest-CT-Data/test/squamous.cell.carcinoma/000137 (3).png\n",
            "Loaded image /content/drive/MyDrive/Chest-CT-Data/test/squamous.cell.carcinoma/000153 (4).png\n",
            "Loaded image /content/drive/MyDrive/Chest-CT-Data/test/squamous.cell.carcinoma/000155.png\n",
            "Loaded image /content/drive/MyDrive/Chest-CT-Data/test/squamous.cell.carcinoma/000149 (4).png\n",
            "Loaded image /content/drive/MyDrive/Chest-CT-Data/test/squamous.cell.carcinoma/000129 (2).png\n",
            "Loaded image /content/drive/MyDrive/Chest-CT-Data/test/squamous.cell.carcinoma/000174 (3).png\n",
            "Loaded image /content/drive/MyDrive/Chest-CT-Data/test/squamous.cell.carcinoma/000131 (6).png\n",
            "Loaded image /content/drive/MyDrive/Chest-CT-Data/test/squamous.cell.carcinoma/000153.png\n",
            "Loaded image /content/drive/MyDrive/Chest-CT-Data/test/squamous.cell.carcinoma/000159 (5).png\n",
            "Loaded image /content/drive/MyDrive/Chest-CT-Data/test/squamous.cell.carcinoma/000141 (2).png\n",
            "Loaded image /content/drive/MyDrive/Chest-CT-Data/test/squamous.cell.carcinoma/000163 (6).png\n",
            "Loaded image /content/drive/MyDrive/Chest-CT-Data/test/squamous.cell.carcinoma/000148 (4).png\n",
            "Loaded image /content/drive/MyDrive/Chest-CT-Data/test/squamous.cell.carcinoma/000120 (5).png\n",
            "Loaded image /content/drive/MyDrive/Chest-CT-Data/test/squamous.cell.carcinoma/000139 (4).png\n",
            "Loaded image /content/drive/MyDrive/Chest-CT-Data/test/squamous.cell.carcinoma/000158 (6).png\n",
            "Loaded image /content/drive/MyDrive/Chest-CT-Data/test/squamous.cell.carcinoma/000142 (5).png\n",
            "Loaded image /content/drive/MyDrive/Chest-CT-Data/test/squamous.cell.carcinoma/000127.png\n",
            "Loaded image /content/drive/MyDrive/Chest-CT-Data/test/squamous.cell.carcinoma/000139 (5).png\n",
            "Loaded image /content/drive/MyDrive/Chest-CT-Data/test/squamous.cell.carcinoma/000121.png\n",
            "Loaded image /content/drive/MyDrive/Chest-CT-Data/test/squamous.cell.carcinoma/000127 (6).png\n",
            "Loaded image /content/drive/MyDrive/Chest-CT-Data/test/squamous.cell.carcinoma/000162 (2).png\n",
            "Loaded image /content/drive/MyDrive/Chest-CT-Data/test/squamous.cell.carcinoma/000114 (2).png\n",
            "Loaded image /content/drive/MyDrive/Chest-CT-Data/test/squamous.cell.carcinoma/000116 (5).png\n",
            "Loaded image /content/drive/MyDrive/Chest-CT-Data/test/squamous.cell.carcinoma/000110 (2).png\n",
            "Loaded image /content/drive/MyDrive/Chest-CT-Data/test/squamous.cell.carcinoma/000119 (4).png\n",
            "Loaded image /content/drive/MyDrive/Chest-CT-Data/test/squamous.cell.carcinoma/000118 (3).png\n",
            "Loaded image /content/drive/MyDrive/Chest-CT-Data/test/squamous.cell.carcinoma/000115 (5).png\n",
            "Loaded image /content/drive/MyDrive/Chest-CT-Data/test/squamous.cell.carcinoma/000146 (6).png\n",
            "Loaded image /content/drive/MyDrive/Chest-CT-Data/test/squamous.cell.carcinoma/000163 (5).png\n",
            "Loaded image /content/drive/MyDrive/Chest-CT-Data/test/squamous.cell.carcinoma/000117 (5).png\n",
            "Loaded image /content/drive/MyDrive/Chest-CT-Data/test/squamous.cell.carcinoma/000126 (4).png\n",
            "Loaded image /content/drive/MyDrive/Chest-CT-Data/test/squamous.cell.carcinoma/000148 (3).png\n",
            "Loaded image /content/drive/MyDrive/Chest-CT-Data/test/squamous.cell.carcinoma/000124 (4).png\n",
            "Loaded image /content/drive/MyDrive/Chest-CT-Data/test/squamous.cell.carcinoma/000158 (4).png\n",
            "Loaded image /content/drive/MyDrive/Chest-CT-Data/test/squamous.cell.carcinoma/000157 (6).png\n",
            "Loaded image /content/drive/MyDrive/Chest-CT-Data/test/squamous.cell.carcinoma/000108 (6).png\n",
            "Loaded image /content/drive/MyDrive/Chest-CT-Data/test/squamous.cell.carcinoma/000117 (2).png\n",
            "Loaded image /content/drive/MyDrive/Chest-CT-Data/test/squamous.cell.carcinoma/000111.png\n",
            "Loaded image /content/drive/MyDrive/Chest-CT-Data/test/squamous.cell.carcinoma/000133 (3).png\n",
            "Loaded image /content/drive/MyDrive/Chest-CT-Data/test/squamous.cell.carcinoma/000114 (3).png\n",
            "Loaded 601 training images with 601 labels\n",
            "Loaded 81 validation images with 81 labels\n",
            "Loaded 315 test images with 315 labels\n"
          ]
        }
      ],
      "source": [
        "# Mengatur path dataset, disesuaikan untuk Google Colab atau Jupyter Notebook\n",
        "dataset_path = '/content/drive/MyDrive/Chest-CT-Data'\n",
        "\n",
        "# Load data\n",
        "train_images, train_labels = load_data(dataset_path, 'train')\n",
        "valid_images, valid_labels = load_data(dataset_path, 'valid')\n",
        "test_images, test_labels = load_data(dataset_path, 'test')\n",
        "\n",
        "print(f\"Loaded {len(train_images)} training images with {len(train_labels)} labels\")\n",
        "print(f\"Loaded {len(valid_images)} validation images with {len(valid_labels)} labels\")\n",
        "print(f\"Loaded {len(test_images)} test images with {len(test_labels)} labels\")\n",
        "\n",
        "# Transformasi data untuk persiapan training, validation, dan testing\n",
        "transform = transforms.Compose([\n",
        "    transforms.ToPILImage(),             # Ubah dari array NumPy ke gambar PIL\n",
        "    transforms.Resize((224, 224)),       # Ubah ukuran gambar menjadi 224x224\n",
        "    #v2.RandomHorizontalFlip(),           # Randomly flip the image horizontally\n",
        "   # v2.RandomRotation(15),                # Randomly rotate the image by up to 15 degrees\n",
        "    transforms.ToTensor(),               # Ubah gambar menjadi Tensor and normalize to [0, 1]\n",
        "])\n",
        "\n",
        "# Membuat dataset dan data loader untuk training, validation, dan testing\n",
        "train_dataset = CustomDataset(train_images, train_labels, transform=transform)\n",
        "valid_dataset = CustomDataset(valid_images, valid_labels, transform=transform)\n",
        "test_dataset = CustomDataset(test_images, test_labels, transform=transform)\n",
        "\n",
        "train_loader = DataLoader(train_dataset, batch_size=8, shuffle=True)  # DataLoader untuk training\n",
        "valid_loader = DataLoader(valid_dataset, batch_size=8, shuffle=False) # DataLoader untuk validasi\n",
        "test_loader = DataLoader(test_dataset, batch_size=8, shuffle=False)   # DataLoader untuk testing\n"
      ]
    },
    {
      "cell_type": "markdown",
      "id": "23a0550f",
      "metadata": {
        "id": "23a0550f"
      },
      "source": [
        "## Pruning"
      ]
    },
    {
      "cell_type": "code",
      "execution_count": null,
      "id": "dc82008a",
      "metadata": {
        "id": "dc82008a"
      },
      "outputs": [],
      "source": [
        "# Prune a convolutional layer based on L2 norm\n",
        "def prune_conv_layer(layer, prune_ratio, in_channels=None):\n",
        "    out_channels = layer.out_channels\n",
        "    num_keep = max(1, int(out_channels * (1 - prune_ratio)))\n",
        "\n",
        "    weight = layer.weight.data.cpu()\n",
        "    l2_norm = torch.norm(weight.view(weight.size(0), -1), p=2, dim=1)\n",
        "    top_indices = torch.argsort(l2_norm, descending=True)[:num_keep]\n",
        "\n",
        "    mask = torch.zeros(out_channels, device=weight.device)\n",
        "    mask[top_indices] = 1\n",
        "\n",
        "    layer.weight.data = layer.weight.data[top_indices]\n",
        "    if layer.bias is not None:\n",
        "        layer.bias.data = layer.bias.data[top_indices]\n",
        "\n",
        "    layer.out_channels = num_keep\n",
        "\n",
        "    if in_channels is not None:\n",
        "        layer.weight.data = layer.weight.data[:, :in_channels]\n",
        "        layer.in_channels = in_channels\n",
        "\n",
        "    return mask, num_keep\n",
        "\n",
        "# Prune a batch normalization layer\n",
        "def prune_bn_layer(layer, mask):\n",
        "    layer.weight.data = layer.weight.data[mask.bool()]\n",
        "    layer.bias.data = layer.bias.data[mask.bool()]\n",
        "    layer.running_mean = layer.running_mean[mask.bool()]\n",
        "    layer.running_var = layer.running_var[mask.bool()]\n",
        "    layer.num_features = int(mask.sum().item())\n",
        "\n",
        "# Prune bottleneck block in ResNet\n",
        "def prune_bottleneck(bottleneck, prune_ratio, in_channels):\n",
        "    # Prune conv1\n",
        "    mask1, out1 = prune_conv_layer(bottleneck.conv1, prune_ratio, in_channels)\n",
        "    prune_bn_layer(bottleneck.bn1, mask1)\n",
        "\n",
        "    # Prune conv2\n",
        "    mask2, out2 = prune_conv_layer(bottleneck.conv2, prune_ratio, out1)\n",
        "    prune_bn_layer(bottleneck.bn2, mask2)\n",
        "\n",
        "    # Prune conv3\n",
        "    mask3, out3 = prune_conv_layer(bottleneck.conv3, prune_ratio, out2)\n",
        "    prune_bn_layer(bottleneck.bn3, mask3)\n",
        "\n",
        "    # Handle downsample if it exists\n",
        "    if bottleneck.downsample is not None:\n",
        "        mask_down, _ = prune_conv_layer(bottleneck.downsample[0], prune_ratio, in_channels)\n",
        "        prune_bn_layer(bottleneck.downsample[1], mask_down)\n",
        "\n",
        "    return out3\n",
        "\n",
        "# Prune each layer in ResNet\n",
        "def prune_resnet_layer(layer, prune_ratio, in_channels):\n",
        "    for bottleneck in layer:\n",
        "        out_channels = prune_bottleneck(bottleneck, prune_ratio, in_channels)\n",
        "        in_channels = out_channels\n",
        "    return out_channels\n",
        "\n",
        "# Prune the entire model\n",
        "def prune_model_resnet(model, prune_ratio):\n",
        "    in_channels = 3  # Initial input channels for ResNet\n",
        "    mask, out_channels = prune_conv_layer(model.features[0], prune_ratio, in_channels)\n",
        "    prune_bn_layer(model.features[1], mask)\n",
        "\n",
        "    # Prune ResNet layers (layer1, layer2, layer3, layer4)\n",
        "    for i in range(4, 8):\n",
        "        out_channels = prune_resnet_layer(model.features[i], prune_ratio, out_channels)\n",
        "\n",
        "    # Adjust the classifier input size based on pruned features\n",
        "    with torch.no_grad():\n",
        "        # Create a dummy input to get the output size of the features\n",
        "        dummy_input = torch.randn(1, 3, 224, 224).to(next(model.parameters()).device)\n",
        "        features_output = model.features(dummy_input)\n",
        "        flattened_size = features_output.view(features_output.size(0), -1).size(1)\n",
        "\n",
        "    # Update the Linear layer in the classifier to match the pruned model\n",
        "    model.classifier = nn.Sequential(\n",
        "        nn.Flatten(),\n",
        "        nn.Linear(flattened_size, 512),  # Adjust input size to match the pruned model's output\n",
        "        nn.ReLU(),\n",
        "        nn.Dropout(0.4),\n",
        "        nn.Linear(512, model.classifier[-1].out_features)\n",
        "    )\n",
        "\n",
        "    print(f\"Adjusted classifier input size to {flattened_size}\")\n",
        "    return model\n",
        "\n",
        "# Load and prune the model with adjustment to the classifier\n",
        "def load_and_prune_model_resnet(model_path, prune_ratio):\n",
        "    device = torch.device(\"cuda\" if torch.cuda.is_available() else \"cpu\")\n",
        "    model = Resnet50()\n",
        "    model.load_state_dict(torch.load(model_path, map_location=device))\n",
        "    print(\"Original model loaded.\")\n",
        "\n",
        "    # Prune the model and adjust the classifier\n",
        "    pruned_model = prune_model_resnet(model, prune_ratio).to(device)\n",
        "\n",
        "    return pruned_model\n",
        "\n",
        "def count_parameters(model):\n",
        "    return sum(p.numel() for p in model.parameters() if p.requires_grad)\n",
        "def calculate_model_size(model):\n",
        "    \"\"\"\n",
        "    Calculate the size of the model in megabytes (MB).\n",
        "\n",
        "    Args:\n",
        "    - model: The model (before or after pruning).\n",
        "\n",
        "    Returns:\n",
        "    - size_in_mb: The size of the model in MB.\n",
        "    \"\"\"\n",
        "    param_size = sum(param.numel() * param.element_size() for param in model.parameters())\n",
        "    buffer_size = sum(buffer.numel() * buffer.element_size() for buffer in model.buffers())\n",
        "    size_in_bytes = param_size + buffer_size\n",
        "    size_in_mb = size_in_bytes / 1024**2  # Convert bytes to megabytes (MB)\n",
        "    return size_in_mb\n",
        "\n",
        "# Fungsi untuk memverifikasi pruning model\n",
        "def verify_pruned_model(model, original_model):\n",
        "    def calculate_num_params(model):\n",
        "        return sum(p.numel() for p in model.parameters())\n",
        "\n",
        "    # Calculate the model sizes\n",
        "    original_size = calculate_model_size(original_model)\n",
        "    pruned_size = calculate_model_size(model)\n",
        "    print(f\"Original model size: {original_size:.2f} MB\")\n",
        "    print(f\"Pruned model size: {pruned_size:.2f} MB\")\n",
        "    print(f\"Size reduction: {original_size - pruned_size:.2f} MB ({(original_size - pruned_size) / original_size * 100:.2f}%)\")\n",
        "\n",
        "    original_params = calculate_num_params(original_model)\n",
        "    pruned_params = calculate_num_params(model)\n",
        "    print(f\"Original model parameters: {original_params}\")\n",
        "    print(f\"Pruned model parameters: {pruned_params}\")\n",
        "\n",
        "    print(\"\\nLayer-wise dimension comparison:\")\n",
        "    for (orig_name, orig_module), (pruned_name, pruned_module) in zip(original_model.features.named_modules(), model.features.named_modules()):\n",
        "        if isinstance(orig_module, nn.Conv2d) and isinstance(pruned_module, nn.Conv2d):\n",
        "            print(f\"Layer: {orig_name}\")\n",
        "            print(f\"  - Original shape: {orig_module.weight.shape}\")\n",
        "            print(f\"  - Pruned shape: {pruned_module.weight.shape}\")"
      ]
    },
    {
      "cell_type": "code",
      "execution_count": null,
      "id": "eb39ca82",
      "metadata": {
        "id": "eb39ca82"
      },
      "outputs": [],
      "source": [
        "from torchvision.models import resnet50, ResNet50_Weights\n",
        "import copy\n",
        "\n",
        "# Custom ResNet50 Class\n",
        "class Resnet50(nn.Module):\n",
        "    def __init__(self):\n",
        "        super(Resnet50, self).__init__()\n",
        "        resnet_model = resnet50()\n",
        "        self.features = nn.Sequential(*list(resnet_model.children())[:-1])\n",
        "        self.classifier = nn.Sequential(\n",
        "            nn.Flatten(),\n",
        "            nn.Linear(2048, 512),\n",
        "            nn.ReLU(),\n",
        "            nn.Dropout(0.4),\n",
        "            nn.Linear(512, 4)\n",
        "        )\n",
        "\n",
        "    def forward(self, input):\n",
        "        x = self.features(input)\n",
        "        x = self.classifier(x)\n",
        "        return x"
      ]
    },
    {
      "cell_type": "code",
      "source": [
        "# Load model ResNet50 pretrained\n",
        "model_resnet = Resnet50()\n",
        "resnet_path = '/content/drive/MyDrive/best-model-resnet-clahe-0,001-8-70.pth'\n",
        "model_resnet.load_state_dict(torch.load(resnet_path, map_location=device))\n",
        "\n",
        "# Buat salinan model asli\n",
        "resnet_model_copy = copy.deepcopy(model_resnet)\n",
        "\n",
        "# Prune model dengan pruning ratio tertentu\n",
        "pruning_amount = 0.1  # Contoh: prune 50% filter\n",
        "pruned_model_resnet = load_and_prune_model_resnet(resnet_path, pruning_amount)\n",
        "\n",
        "# Model sekarang sudah di-prune dan siap untuk digunakan\n",
        "verify_pruned_model(pruned_model_resnet, resnet_model_copy)\n",
        "torch.save(pruned_model_resnet.state_dict(), '/content/drive/MyDrive/Best-pruning-model/11-iterasi-pruned-resnet-10-0,001.pth')"
      ],
      "metadata": {
        "colab": {
          "base_uri": "https://localhost:8080/"
        },
        "id": "F18eSlu-5kiT",
        "outputId": "d7f206dd-62f7-42e5-ebd4-55dfe96eb92c"
      },
      "id": "F18eSlu-5kiT",
      "execution_count": null,
      "outputs": [
        {
          "output_type": "stream",
          "name": "stderr",
          "text": [
            "<ipython-input-6-a007dd481934>:4: FutureWarning: You are using `torch.load` with `weights_only=False` (the current default value), which uses the default pickle module implicitly. It is possible to construct malicious pickle data which will execute arbitrary code during unpickling (See https://github.com/pytorch/pytorch/blob/main/SECURITY.md#untrusted-models for more details). In a future release, the default value for `weights_only` will be flipped to `True`. This limits the functions that could be executed during unpickling. Arbitrary objects will no longer be allowed to be loaded via this mode unless they are explicitly allowlisted by the user via `torch.serialization.add_safe_globals`. We recommend you start setting `weights_only=True` for any use case where you don't have full control of the loaded file. Please open an issue on GitHub for any issues related to this experimental feature.\n",
            "  model_resnet.load_state_dict(torch.load(resnet_path, map_location=device))\n",
            "<ipython-input-4-acb46a28f968>:94: FutureWarning: You are using `torch.load` with `weights_only=False` (the current default value), which uses the default pickle module implicitly. It is possible to construct malicious pickle data which will execute arbitrary code during unpickling (See https://github.com/pytorch/pytorch/blob/main/SECURITY.md#untrusted-models for more details). In a future release, the default value for `weights_only` will be flipped to `True`. This limits the functions that could be executed during unpickling. Arbitrary objects will no longer be allowed to be loaded via this mode unless they are explicitly allowlisted by the user via `torch.serialization.add_safe_globals`. We recommend you start setting `weights_only=True` for any use case where you don't have full control of the loaded file. Please open an issue on GitHub for any issues related to this experimental feature.\n",
            "  model.load_state_dict(torch.load(model_path, map_location=device))\n"
          ]
        },
        {
          "output_type": "stream",
          "name": "stdout",
          "text": [
            "Original model loaded.\n",
            "Adjusted classifier input size to 1843\n",
            "Original model size: 93.89 MB\n",
            "Pruned model size: 76.25 MB\n",
            "Size reduction: 17.64 MB (18.79%)\n",
            "Original model parameters: 24559172\n",
            "Pruned model parameters: 19939950\n",
            "\n",
            "Layer-wise dimension comparison:\n",
            "Layer: 0\n",
            "  - Original shape: torch.Size([64, 3, 7, 7])\n",
            "  - Pruned shape: torch.Size([57, 3, 7, 7])\n",
            "Layer: 4.0.conv1\n",
            "  - Original shape: torch.Size([64, 64, 1, 1])\n",
            "  - Pruned shape: torch.Size([57, 57, 1, 1])\n",
            "Layer: 4.0.conv2\n",
            "  - Original shape: torch.Size([64, 64, 3, 3])\n",
            "  - Pruned shape: torch.Size([57, 57, 3, 3])\n",
            "Layer: 4.0.conv3\n",
            "  - Original shape: torch.Size([256, 64, 1, 1])\n",
            "  - Pruned shape: torch.Size([230, 57, 1, 1])\n",
            "Layer: 4.0.downsample.0\n",
            "  - Original shape: torch.Size([256, 64, 1, 1])\n",
            "  - Pruned shape: torch.Size([230, 57, 1, 1])\n",
            "Layer: 4.1.conv1\n",
            "  - Original shape: torch.Size([64, 256, 1, 1])\n",
            "  - Pruned shape: torch.Size([57, 230, 1, 1])\n",
            "Layer: 4.1.conv2\n",
            "  - Original shape: torch.Size([64, 64, 3, 3])\n",
            "  - Pruned shape: torch.Size([57, 57, 3, 3])\n",
            "Layer: 4.1.conv3\n",
            "  - Original shape: torch.Size([256, 64, 1, 1])\n",
            "  - Pruned shape: torch.Size([230, 57, 1, 1])\n",
            "Layer: 4.2.conv1\n",
            "  - Original shape: torch.Size([64, 256, 1, 1])\n",
            "  - Pruned shape: torch.Size([57, 230, 1, 1])\n",
            "Layer: 4.2.conv2\n",
            "  - Original shape: torch.Size([64, 64, 3, 3])\n",
            "  - Pruned shape: torch.Size([57, 57, 3, 3])\n",
            "Layer: 4.2.conv3\n",
            "  - Original shape: torch.Size([256, 64, 1, 1])\n",
            "  - Pruned shape: torch.Size([230, 57, 1, 1])\n",
            "Layer: 5.0.conv1\n",
            "  - Original shape: torch.Size([128, 256, 1, 1])\n",
            "  - Pruned shape: torch.Size([115, 230, 1, 1])\n",
            "Layer: 5.0.conv2\n",
            "  - Original shape: torch.Size([128, 128, 3, 3])\n",
            "  - Pruned shape: torch.Size([115, 115, 3, 3])\n",
            "Layer: 5.0.conv3\n",
            "  - Original shape: torch.Size([512, 128, 1, 1])\n",
            "  - Pruned shape: torch.Size([460, 115, 1, 1])\n",
            "Layer: 5.0.downsample.0\n",
            "  - Original shape: torch.Size([512, 256, 1, 1])\n",
            "  - Pruned shape: torch.Size([460, 230, 1, 1])\n",
            "Layer: 5.1.conv1\n",
            "  - Original shape: torch.Size([128, 512, 1, 1])\n",
            "  - Pruned shape: torch.Size([115, 460, 1, 1])\n",
            "Layer: 5.1.conv2\n",
            "  - Original shape: torch.Size([128, 128, 3, 3])\n",
            "  - Pruned shape: torch.Size([115, 115, 3, 3])\n",
            "Layer: 5.1.conv3\n",
            "  - Original shape: torch.Size([512, 128, 1, 1])\n",
            "  - Pruned shape: torch.Size([460, 115, 1, 1])\n",
            "Layer: 5.2.conv1\n",
            "  - Original shape: torch.Size([128, 512, 1, 1])\n",
            "  - Pruned shape: torch.Size([115, 460, 1, 1])\n",
            "Layer: 5.2.conv2\n",
            "  - Original shape: torch.Size([128, 128, 3, 3])\n",
            "  - Pruned shape: torch.Size([115, 115, 3, 3])\n",
            "Layer: 5.2.conv3\n",
            "  - Original shape: torch.Size([512, 128, 1, 1])\n",
            "  - Pruned shape: torch.Size([460, 115, 1, 1])\n",
            "Layer: 5.3.conv1\n",
            "  - Original shape: torch.Size([128, 512, 1, 1])\n",
            "  - Pruned shape: torch.Size([115, 460, 1, 1])\n",
            "Layer: 5.3.conv2\n",
            "  - Original shape: torch.Size([128, 128, 3, 3])\n",
            "  - Pruned shape: torch.Size([115, 115, 3, 3])\n",
            "Layer: 5.3.conv3\n",
            "  - Original shape: torch.Size([512, 128, 1, 1])\n",
            "  - Pruned shape: torch.Size([460, 115, 1, 1])\n",
            "Layer: 6.0.conv1\n",
            "  - Original shape: torch.Size([256, 512, 1, 1])\n",
            "  - Pruned shape: torch.Size([230, 460, 1, 1])\n",
            "Layer: 6.0.conv2\n",
            "  - Original shape: torch.Size([256, 256, 3, 3])\n",
            "  - Pruned shape: torch.Size([230, 230, 3, 3])\n",
            "Layer: 6.0.conv3\n",
            "  - Original shape: torch.Size([1024, 256, 1, 1])\n",
            "  - Pruned shape: torch.Size([921, 230, 1, 1])\n",
            "Layer: 6.0.downsample.0\n",
            "  - Original shape: torch.Size([1024, 512, 1, 1])\n",
            "  - Pruned shape: torch.Size([921, 460, 1, 1])\n",
            "Layer: 6.1.conv1\n",
            "  - Original shape: torch.Size([256, 1024, 1, 1])\n",
            "  - Pruned shape: torch.Size([230, 921, 1, 1])\n",
            "Layer: 6.1.conv2\n",
            "  - Original shape: torch.Size([256, 256, 3, 3])\n",
            "  - Pruned shape: torch.Size([230, 230, 3, 3])\n",
            "Layer: 6.1.conv3\n",
            "  - Original shape: torch.Size([1024, 256, 1, 1])\n",
            "  - Pruned shape: torch.Size([921, 230, 1, 1])\n",
            "Layer: 6.2.conv1\n",
            "  - Original shape: torch.Size([256, 1024, 1, 1])\n",
            "  - Pruned shape: torch.Size([230, 921, 1, 1])\n",
            "Layer: 6.2.conv2\n",
            "  - Original shape: torch.Size([256, 256, 3, 3])\n",
            "  - Pruned shape: torch.Size([230, 230, 3, 3])\n",
            "Layer: 6.2.conv3\n",
            "  - Original shape: torch.Size([1024, 256, 1, 1])\n",
            "  - Pruned shape: torch.Size([921, 230, 1, 1])\n",
            "Layer: 6.3.conv1\n",
            "  - Original shape: torch.Size([256, 1024, 1, 1])\n",
            "  - Pruned shape: torch.Size([230, 921, 1, 1])\n",
            "Layer: 6.3.conv2\n",
            "  - Original shape: torch.Size([256, 256, 3, 3])\n",
            "  - Pruned shape: torch.Size([230, 230, 3, 3])\n",
            "Layer: 6.3.conv3\n",
            "  - Original shape: torch.Size([1024, 256, 1, 1])\n",
            "  - Pruned shape: torch.Size([921, 230, 1, 1])\n",
            "Layer: 6.4.conv1\n",
            "  - Original shape: torch.Size([256, 1024, 1, 1])\n",
            "  - Pruned shape: torch.Size([230, 921, 1, 1])\n",
            "Layer: 6.4.conv2\n",
            "  - Original shape: torch.Size([256, 256, 3, 3])\n",
            "  - Pruned shape: torch.Size([230, 230, 3, 3])\n",
            "Layer: 6.4.conv3\n",
            "  - Original shape: torch.Size([1024, 256, 1, 1])\n",
            "  - Pruned shape: torch.Size([921, 230, 1, 1])\n",
            "Layer: 6.5.conv1\n",
            "  - Original shape: torch.Size([256, 1024, 1, 1])\n",
            "  - Pruned shape: torch.Size([230, 921, 1, 1])\n",
            "Layer: 6.5.conv2\n",
            "  - Original shape: torch.Size([256, 256, 3, 3])\n",
            "  - Pruned shape: torch.Size([230, 230, 3, 3])\n",
            "Layer: 6.5.conv3\n",
            "  - Original shape: torch.Size([1024, 256, 1, 1])\n",
            "  - Pruned shape: torch.Size([921, 230, 1, 1])\n",
            "Layer: 7.0.conv1\n",
            "  - Original shape: torch.Size([512, 1024, 1, 1])\n",
            "  - Pruned shape: torch.Size([460, 921, 1, 1])\n",
            "Layer: 7.0.conv2\n",
            "  - Original shape: torch.Size([512, 512, 3, 3])\n",
            "  - Pruned shape: torch.Size([460, 460, 3, 3])\n",
            "Layer: 7.0.conv3\n",
            "  - Original shape: torch.Size([2048, 512, 1, 1])\n",
            "  - Pruned shape: torch.Size([1843, 460, 1, 1])\n",
            "Layer: 7.0.downsample.0\n",
            "  - Original shape: torch.Size([2048, 1024, 1, 1])\n",
            "  - Pruned shape: torch.Size([1843, 921, 1, 1])\n",
            "Layer: 7.1.conv1\n",
            "  - Original shape: torch.Size([512, 2048, 1, 1])\n",
            "  - Pruned shape: torch.Size([460, 1843, 1, 1])\n",
            "Layer: 7.1.conv2\n",
            "  - Original shape: torch.Size([512, 512, 3, 3])\n",
            "  - Pruned shape: torch.Size([460, 460, 3, 3])\n",
            "Layer: 7.1.conv3\n",
            "  - Original shape: torch.Size([2048, 512, 1, 1])\n",
            "  - Pruned shape: torch.Size([1843, 460, 1, 1])\n",
            "Layer: 7.2.conv1\n",
            "  - Original shape: torch.Size([512, 2048, 1, 1])\n",
            "  - Pruned shape: torch.Size([460, 1843, 1, 1])\n",
            "Layer: 7.2.conv2\n",
            "  - Original shape: torch.Size([512, 512, 3, 3])\n",
            "  - Pruned shape: torch.Size([460, 460, 3, 3])\n",
            "Layer: 7.2.conv3\n",
            "  - Original shape: torch.Size([2048, 512, 1, 1])\n",
            "  - Pruned shape: torch.Size([1843, 460, 1, 1])\n"
          ]
        }
      ]
    },
    {
      "cell_type": "code",
      "source": [
        "import time  # Import modul time\n",
        "\n",
        "# Define the optimizer and loss function\n",
        "optimizer = optim.SGD(pruned_model_resnet.parameters(), lr=0.001, momentum=0.8)\n",
        "criterion = nn.CrossEntropyLoss()\n",
        "\n",
        "# Function to calculate metrics (accuracy, precision, recall, F1-score)\n",
        "def calculate_metrics(predictions, labels):\n",
        "    preds = torch.argmax(predictions, dim=1).cpu().numpy()\n",
        "    labels = labels.cpu().numpy()\n",
        "\n",
        "    accuracy = (preds == labels).mean() * 100\n",
        "    precision = precision_score(labels, preds, average='weighted', zero_division=1)\n",
        "    recall = recall_score(labels, preds, average='weighted', zero_division=1)\n",
        "    f1 = f1_score(labels, preds, average='weighted', zero_division=1)\n",
        "\n",
        "    return accuracy, precision, recall, f1\n",
        "\n",
        "# Function to train and evaluate the model\n",
        "def train_and_evaluate(pruned_model, train_loader, valid_loader,  num_epochs=100):\n",
        "    train_losses = []\n",
        "    valid_losses = []\n",
        "    train_accuracies = []\n",
        "    valid_accuracies = []\n",
        "    all_train_precisions = []\n",
        "    all_train_recalls = []\n",
        "    all_train_f1s = []\n",
        "    all_valid_precisions = []\n",
        "    all_valid_recalls = []\n",
        "    all_valid_f1s = []\n",
        "\n",
        "    best_valid_loss = float('inf')\n",
        "\n",
        "    # Variable to accumulate total training and validation time\n",
        "    total_train_validation_time = 0\n",
        "\n",
        "    for epoch in range(1, num_epochs + 1):\n",
        "        print(f'Epoch {epoch}/{num_epochs}')\n",
        "\n",
        "        # Start timer for both training and validation\n",
        "        start_epoch_time = time.time()\n",
        "\n",
        "        # Training\n",
        "        pruned_model_resnet.train()\n",
        "        train_loss = 0\n",
        "        all_train_preds = []\n",
        "        all_train_labels = []\n",
        "        for images, labels in tqdm(train_loader, desc='Training'):\n",
        "            images, labels = images.to(device), labels.to(device)\n",
        "\n",
        "            # Convert grayscale images to 3 channels\n",
        "            if images.size(1) == 1:  # If single channel\n",
        "                images = images.repeat(1, 3, 1, 1)  # Repeat the channel dimension 3 times\n",
        "\n",
        "            optimizer.zero_grad()\n",
        "            outputs = pruned_model_resnet(images)\n",
        "            loss = criterion(outputs, labels)\n",
        "            loss.backward()\n",
        "            optimizer.step()\n",
        "            train_loss += loss.item()\n",
        "\n",
        "            all_train_preds.append(outputs)\n",
        "            all_train_labels.append(labels)\n",
        "\n",
        "        train_loss /= len(train_loader)\n",
        "        train_losses.append(train_loss)\n",
        "        train_accuracy, train_precision, train_recall, train_f1 = calculate_metrics(torch.cat(all_train_preds), torch.cat(all_train_labels))\n",
        "        train_accuracies.append(train_accuracy)\n",
        "        all_train_precisions.append(train_precision) # Store train_precision\n",
        "        all_train_recalls.append(train_recall)       # Store train_recall\n",
        "        all_train_f1s.append(train_f1)             # Store train_f1\n",
        "\n",
        "        print(f\"Training Loss: {train_loss:.4f}, Accuracy: {train_accuracy:.2f}%, Precision: {train_precision:.4f}, Recall: {train_recall:.4f}, F1-Score: {train_f1:.4f}\")\n",
        "\n",
        "        # Validation\n",
        "        pruned_model_resnet.eval()\n",
        "        valid_loss = 0\n",
        "        all_valid_preds = []\n",
        "        all_valid_labels = []\n",
        "        with torch.no_grad():\n",
        "            for images, labels in tqdm(valid_loader, desc='Validation'):\n",
        "                images, labels = images.to(device), labels.to(device)\n",
        "\n",
        "                # Convert grayscale images to 3 channels\n",
        "                if images.size(1) == 1:\n",
        "                    images = images.repeat(1, 3, 1, 1)\n",
        "\n",
        "                outputs = pruned_model_resnet(images)\n",
        "                loss = criterion(outputs, labels)\n",
        "                valid_loss += loss.item()\n",
        "\n",
        "                all_valid_preds.append(outputs)\n",
        "                all_valid_labels.append(labels)\n",
        "\n",
        "        valid_loss /= len(valid_loader)\n",
        "        valid_losses.append(valid_loss)\n",
        "        valid_accuracy, valid_precision, valid_recall, valid_f1 = calculate_metrics(torch.cat(all_valid_preds), torch.cat(all_valid_labels))\n",
        "        valid_accuracies.append(valid_accuracy)\n",
        "        all_valid_precisions.append(valid_precision)  # Store valid_precision\n",
        "        all_valid_recalls.append(valid_recall)        # Store valid_recall\n",
        "        all_valid_f1s.append(valid_f1)\n",
        "\n",
        "        print(f\"Validation Loss: {valid_loss:.4f}, Accuracy: {valid_accuracy:.2f}%, Precision: {valid_precision:.4f}, Recall: {valid_recall:.4f}, F1-Score: {valid_f1:.4f}\")\n",
        "\n",
        "        # Save the best model based on validation loss\n",
        "        if valid_loss < best_valid_loss:\n",
        "            best_valid_loss = valid_loss\n",
        "            torch.save(pruned_model_resnet.state_dict(), '/content/drive/MyDrive/Best-pruning-model/11-iterasi-best-pruned-resnet-10-0,001.pth')\n",
        "            print(\"New best model saved\")\n",
        "\n",
        "        # End timer for training and validation, and accumulate the time\n",
        "        end_epoch_time = time.time()\n",
        "        epoch_time = end_epoch_time - start_epoch_time\n",
        "        total_train_validation_time += epoch_time\n",
        "        #print(f\"Epoch Time (Training + Validation): {epoch_time:.2f} seconds\")\n",
        "\n",
        "    # Print total training and validation time\n",
        "    print(f\"Total Training + Validation Time: {total_train_validation_time:.2f} seconds\")\n",
        "\n",
        "    return train_losses, valid_losses, train_accuracies, valid_accuracies, all_train_precisions, all_train_recalls, all_train_f1s, all_valid_precisions, all_valid_recalls, all_valid_f1s # Return the stored metrics\n",
        "\n"
      ],
      "metadata": {
        "id": "eFZ6pwnZ8soJ"
      },
      "id": "eFZ6pwnZ8soJ",
      "execution_count": null,
      "outputs": []
    },
    {
      "cell_type": "code",
      "execution_count": null,
      "id": "db6c58d9",
      "metadata": {
        "id": "db6c58d9",
        "outputId": "8de9d5e3-3f77-471c-9ca2-8326e086c02b",
        "colab": {
          "base_uri": "https://localhost:8080/"
        }
      },
      "outputs": [
        {
          "output_type": "stream",
          "name": "stderr",
          "text": [
            "<ipython-input-8-21de8293e94f>:3: FutureWarning: You are using `torch.load` with `weights_only=False` (the current default value), which uses the default pickle module implicitly. It is possible to construct malicious pickle data which will execute arbitrary code during unpickling (See https://github.com/pytorch/pytorch/blob/main/SECURITY.md#untrusted-models for more details). In a future release, the default value for `weights_only` will be flipped to `True`. This limits the functions that could be executed during unpickling. Arbitrary objects will no longer be allowed to be loaded via this mode unless they are explicitly allowlisted by the user via `torch.serialization.add_safe_globals`. We recommend you start setting `weights_only=True` for any use case where you don't have full control of the loaded file. Please open an issue on GitHub for any issues related to this experimental feature.\n",
            "  pruned_model_resnet.load_state_dict(torch.load(pruned_path_resnet, map_location=device))\n"
          ]
        },
        {
          "output_type": "stream",
          "name": "stdout",
          "text": [
            "Epoch 1/70\n"
          ]
        },
        {
          "output_type": "stream",
          "name": "stderr",
          "text": [
            "Training: 100%|██████████| 76/76 [00:08<00:00,  8.83it/s]\n"
          ]
        },
        {
          "output_type": "stream",
          "name": "stdout",
          "text": [
            "Training Loss: 1.2177, Accuracy: 43.09%, Precision: 0.3553, Recall: 0.4309, F1-Score: 0.3718\n"
          ]
        },
        {
          "output_type": "stream",
          "name": "stderr",
          "text": [
            "Validation: 100%|██████████| 11/11 [00:00<00:00, 27.79it/s]\n"
          ]
        },
        {
          "output_type": "stream",
          "name": "stdout",
          "text": [
            "Validation Loss: 1.1646, Accuracy: 43.21%, Precision: 0.7774, Recall: 0.4321, F1-Score: 0.2973\n",
            "New best model saved\n",
            "Epoch 2/70\n"
          ]
        },
        {
          "output_type": "stream",
          "name": "stderr",
          "text": [
            "Training: 100%|██████████| 76/76 [00:06<00:00, 11.12it/s]\n"
          ]
        },
        {
          "output_type": "stream",
          "name": "stdout",
          "text": [
            "Training Loss: 1.1022, Accuracy: 49.58%, Precision: 0.5994, Recall: 0.4958, F1-Score: 0.4260\n"
          ]
        },
        {
          "output_type": "stream",
          "name": "stderr",
          "text": [
            "Validation: 100%|██████████| 11/11 [00:00<00:00, 27.61it/s]\n"
          ]
        },
        {
          "output_type": "stream",
          "name": "stdout",
          "text": [
            "Validation Loss: 1.0504, Accuracy: 40.74%, Precision: 0.6633, Recall: 0.4074, F1-Score: 0.3437\n",
            "New best model saved\n",
            "Epoch 3/70\n"
          ]
        },
        {
          "output_type": "stream",
          "name": "stderr",
          "text": [
            "Training: 100%|██████████| 76/76 [00:07<00:00, 10.48it/s]\n"
          ]
        },
        {
          "output_type": "stream",
          "name": "stdout",
          "text": [
            "Training Loss: 1.0404, Accuracy: 51.41%, Precision: 0.5185, Recall: 0.5141, F1-Score: 0.4719\n"
          ]
        },
        {
          "output_type": "stream",
          "name": "stderr",
          "text": [
            "Validation: 100%|██████████| 11/11 [00:00<00:00, 26.76it/s]\n"
          ]
        },
        {
          "output_type": "stream",
          "name": "stdout",
          "text": [
            "Validation Loss: 1.2261, Accuracy: 40.74%, Precision: 0.6247, Recall: 0.4074, F1-Score: 0.3206\n",
            "Epoch 4/70\n"
          ]
        },
        {
          "output_type": "stream",
          "name": "stderr",
          "text": [
            "Training: 100%|██████████| 76/76 [00:06<00:00, 10.94it/s]\n"
          ]
        },
        {
          "output_type": "stream",
          "name": "stdout",
          "text": [
            "Training Loss: 1.0082, Accuracy: 54.74%, Precision: 0.5238, Recall: 0.5474, F1-Score: 0.5062\n"
          ]
        },
        {
          "output_type": "stream",
          "name": "stderr",
          "text": [
            "Validation: 100%|██████████| 11/11 [00:00<00:00, 21.73it/s]\n"
          ]
        },
        {
          "output_type": "stream",
          "name": "stdout",
          "text": [
            "Validation Loss: 1.0667, Accuracy: 41.98%, Precision: 0.3709, Recall: 0.4198, F1-Score: 0.3290\n",
            "Epoch 5/70\n"
          ]
        },
        {
          "output_type": "stream",
          "name": "stderr",
          "text": [
            "Training: 100%|██████████| 76/76 [00:07<00:00, 10.86it/s]\n"
          ]
        },
        {
          "output_type": "stream",
          "name": "stdout",
          "text": [
            "Training Loss: 0.9532, Accuracy: 54.74%, Precision: 0.5092, Recall: 0.5474, F1-Score: 0.5085\n"
          ]
        },
        {
          "output_type": "stream",
          "name": "stderr",
          "text": [
            "Validation: 100%|██████████| 11/11 [00:00<00:00, 27.60it/s]\n"
          ]
        },
        {
          "output_type": "stream",
          "name": "stdout",
          "text": [
            "Validation Loss: 1.0480, Accuracy: 40.74%, Precision: 0.4620, Recall: 0.4074, F1-Score: 0.3056\n",
            "New best model saved\n",
            "Epoch 6/70\n"
          ]
        },
        {
          "output_type": "stream",
          "name": "stderr",
          "text": [
            "Training: 100%|██████████| 76/76 [00:07<00:00, 10.58it/s]\n"
          ]
        },
        {
          "output_type": "stream",
          "name": "stdout",
          "text": [
            "Training Loss: 0.9138, Accuracy: 56.74%, Precision: 0.5511, Recall: 0.5674, F1-Score: 0.5359\n"
          ]
        },
        {
          "output_type": "stream",
          "name": "stderr",
          "text": [
            "Validation: 100%|██████████| 11/11 [00:00<00:00, 21.69it/s]\n"
          ]
        },
        {
          "output_type": "stream",
          "name": "stdout",
          "text": [
            "Validation Loss: 1.2111, Accuracy: 41.98%, Precision: 0.4621, Recall: 0.4198, F1-Score: 0.3075\n",
            "Epoch 7/70\n"
          ]
        },
        {
          "output_type": "stream",
          "name": "stderr",
          "text": [
            "Training: 100%|██████████| 76/76 [00:06<00:00, 10.97it/s]\n"
          ]
        },
        {
          "output_type": "stream",
          "name": "stdout",
          "text": [
            "Training Loss: 0.8385, Accuracy: 63.23%, Precision: 0.6119, Recall: 0.6323, F1-Score: 0.6056\n"
          ]
        },
        {
          "output_type": "stream",
          "name": "stderr",
          "text": [
            "Validation: 100%|██████████| 11/11 [00:00<00:00, 27.28it/s]\n"
          ]
        },
        {
          "output_type": "stream",
          "name": "stdout",
          "text": [
            "Validation Loss: 1.0161, Accuracy: 43.21%, Precision: 0.6986, Recall: 0.4321, F1-Score: 0.3745\n",
            "New best model saved\n",
            "Epoch 8/70\n"
          ]
        },
        {
          "output_type": "stream",
          "name": "stderr",
          "text": [
            "Training: 100%|██████████| 76/76 [00:07<00:00, 10.51it/s]\n"
          ]
        },
        {
          "output_type": "stream",
          "name": "stdout",
          "text": [
            "Training Loss: 0.7906, Accuracy: 62.90%, Precision: 0.6208, Recall: 0.6290, F1-Score: 0.6000\n"
          ]
        },
        {
          "output_type": "stream",
          "name": "stderr",
          "text": [
            "Validation: 100%|██████████| 11/11 [00:00<00:00, 27.48it/s]\n"
          ]
        },
        {
          "output_type": "stream",
          "name": "stdout",
          "text": [
            "Validation Loss: 0.8652, Accuracy: 65.43%, Precision: 0.7172, Recall: 0.6543, F1-Score: 0.6241\n",
            "New best model saved\n",
            "Epoch 9/70\n"
          ]
        },
        {
          "output_type": "stream",
          "name": "stderr",
          "text": [
            "Training: 100%|██████████| 76/76 [00:06<00:00, 10.98it/s]\n"
          ]
        },
        {
          "output_type": "stream",
          "name": "stdout",
          "text": [
            "Training Loss: 0.7914, Accuracy: 65.39%, Precision: 0.6444, Recall: 0.6539, F1-Score: 0.6468\n"
          ]
        },
        {
          "output_type": "stream",
          "name": "stderr",
          "text": [
            "Validation: 100%|██████████| 11/11 [00:00<00:00, 26.44it/s]\n"
          ]
        },
        {
          "output_type": "stream",
          "name": "stdout",
          "text": [
            "Validation Loss: 1.0424, Accuracy: 54.32%, Precision: 0.6275, Recall: 0.5432, F1-Score: 0.5223\n",
            "Epoch 10/70\n"
          ]
        },
        {
          "output_type": "stream",
          "name": "stderr",
          "text": [
            "Training: 100%|██████████| 76/76 [00:07<00:00, 10.21it/s]\n"
          ]
        },
        {
          "output_type": "stream",
          "name": "stdout",
          "text": [
            "Training Loss: 0.6507, Accuracy: 74.21%, Precision: 0.7340, Recall: 0.7421, F1-Score: 0.7353\n"
          ]
        },
        {
          "output_type": "stream",
          "name": "stderr",
          "text": [
            "Validation: 100%|██████████| 11/11 [00:00<00:00, 27.65it/s]\n"
          ]
        },
        {
          "output_type": "stream",
          "name": "stdout",
          "text": [
            "Validation Loss: 1.2207, Accuracy: 45.68%, Precision: 0.6698, Recall: 0.4568, F1-Score: 0.4005\n",
            "Epoch 11/70\n"
          ]
        },
        {
          "output_type": "stream",
          "name": "stderr",
          "text": [
            "Training: 100%|██████████| 76/76 [00:06<00:00, 10.94it/s]\n"
          ]
        },
        {
          "output_type": "stream",
          "name": "stdout",
          "text": [
            "Training Loss: 0.5886, Accuracy: 75.54%, Precision: 0.7506, Recall: 0.7554, F1-Score: 0.7515\n"
          ]
        },
        {
          "output_type": "stream",
          "name": "stderr",
          "text": [
            "Validation: 100%|██████████| 11/11 [00:00<00:00, 20.04it/s]\n"
          ]
        },
        {
          "output_type": "stream",
          "name": "stdout",
          "text": [
            "Validation Loss: 0.9685, Accuracy: 59.26%, Precision: 0.7069, Recall: 0.5926, F1-Score: 0.5682\n",
            "Epoch 12/70\n"
          ]
        },
        {
          "output_type": "stream",
          "name": "stderr",
          "text": [
            "Training: 100%|██████████| 76/76 [00:07<00:00, 10.59it/s]\n"
          ]
        },
        {
          "output_type": "stream",
          "name": "stdout",
          "text": [
            "Training Loss: 0.5408, Accuracy: 80.53%, Precision: 0.8017, Recall: 0.8053, F1-Score: 0.8023\n"
          ]
        },
        {
          "output_type": "stream",
          "name": "stderr",
          "text": [
            "Validation: 100%|██████████| 11/11 [00:00<00:00, 27.32it/s]\n"
          ]
        },
        {
          "output_type": "stream",
          "name": "stdout",
          "text": [
            "Validation Loss: 0.8165, Accuracy: 66.67%, Precision: 0.6886, Recall: 0.6667, F1-Score: 0.6723\n",
            "New best model saved\n",
            "Epoch 13/70\n"
          ]
        },
        {
          "output_type": "stream",
          "name": "stderr",
          "text": [
            "Training: 100%|██████████| 76/76 [00:07<00:00, 10.47it/s]\n"
          ]
        },
        {
          "output_type": "stream",
          "name": "stdout",
          "text": [
            "Training Loss: 0.4887, Accuracy: 83.36%, Precision: 0.8312, Recall: 0.8336, F1-Score: 0.8317\n"
          ]
        },
        {
          "output_type": "stream",
          "name": "stderr",
          "text": [
            "Validation: 100%|██████████| 11/11 [00:00<00:00, 21.13it/s]\n"
          ]
        },
        {
          "output_type": "stream",
          "name": "stdout",
          "text": [
            "Validation Loss: 0.9621, Accuracy: 64.20%, Precision: 0.7132, Recall: 0.6420, F1-Score: 0.6580\n",
            "Epoch 14/70\n"
          ]
        },
        {
          "output_type": "stream",
          "name": "stderr",
          "text": [
            "Training: 100%|██████████| 76/76 [00:07<00:00, 10.58it/s]\n"
          ]
        },
        {
          "output_type": "stream",
          "name": "stdout",
          "text": [
            "Training Loss: 0.4377, Accuracy: 86.69%, Precision: 0.8673, Recall: 0.8669, F1-Score: 0.8665\n"
          ]
        },
        {
          "output_type": "stream",
          "name": "stderr",
          "text": [
            "Validation: 100%|██████████| 11/11 [00:00<00:00, 27.04it/s]\n"
          ]
        },
        {
          "output_type": "stream",
          "name": "stdout",
          "text": [
            "Validation Loss: 0.9539, Accuracy: 65.43%, Precision: 0.8072, Recall: 0.6543, F1-Score: 0.6732\n",
            "Epoch 15/70\n"
          ]
        },
        {
          "output_type": "stream",
          "name": "stderr",
          "text": [
            "Training: 100%|██████████| 76/76 [00:07<00:00, 10.16it/s]\n"
          ]
        },
        {
          "output_type": "stream",
          "name": "stdout",
          "text": [
            "Training Loss: 0.3330, Accuracy: 88.52%, Precision: 0.8838, Recall: 0.8852, F1-Score: 0.8843\n"
          ]
        },
        {
          "output_type": "stream",
          "name": "stderr",
          "text": [
            "Validation: 100%|██████████| 11/11 [00:00<00:00, 27.52it/s]\n"
          ]
        },
        {
          "output_type": "stream",
          "name": "stdout",
          "text": [
            "Validation Loss: 0.5094, Accuracy: 80.25%, Precision: 0.8294, Recall: 0.8025, F1-Score: 0.8096\n",
            "New best model saved\n",
            "Epoch 16/70\n"
          ]
        },
        {
          "output_type": "stream",
          "name": "stderr",
          "text": [
            "Training: 100%|██████████| 76/76 [00:06<00:00, 10.88it/s]\n"
          ]
        },
        {
          "output_type": "stream",
          "name": "stdout",
          "text": [
            "Training Loss: 0.3023, Accuracy: 90.52%, Precision: 0.9049, Recall: 0.9052, F1-Score: 0.9049\n"
          ]
        },
        {
          "output_type": "stream",
          "name": "stderr",
          "text": [
            "Validation: 100%|██████████| 11/11 [00:00<00:00, 27.90it/s]\n"
          ]
        },
        {
          "output_type": "stream",
          "name": "stdout",
          "text": [
            "Validation Loss: 0.7335, Accuracy: 77.78%, Precision: 0.7989, Recall: 0.7778, F1-Score: 0.7847\n",
            "Epoch 17/70\n"
          ]
        },
        {
          "output_type": "stream",
          "name": "stderr",
          "text": [
            "Training: 100%|██████████| 76/76 [00:07<00:00,  9.90it/s]\n"
          ]
        },
        {
          "output_type": "stream",
          "name": "stdout",
          "text": [
            "Training Loss: 0.2701, Accuracy: 90.35%, Precision: 0.9040, Recall: 0.9035, F1-Score: 0.9036\n"
          ]
        },
        {
          "output_type": "stream",
          "name": "stderr",
          "text": [
            "Validation: 100%|██████████| 11/11 [00:00<00:00, 27.90it/s]\n"
          ]
        },
        {
          "output_type": "stream",
          "name": "stdout",
          "text": [
            "Validation Loss: 0.6880, Accuracy: 79.01%, Precision: 0.7960, Recall: 0.7901, F1-Score: 0.7918\n",
            "Epoch 18/70\n"
          ]
        },
        {
          "output_type": "stream",
          "name": "stderr",
          "text": [
            "Training: 100%|██████████| 76/76 [00:06<00:00, 10.87it/s]\n"
          ]
        },
        {
          "output_type": "stream",
          "name": "stdout",
          "text": [
            "Training Loss: 0.1817, Accuracy: 94.68%, Precision: 0.9468, Recall: 0.9468, F1-Score: 0.9468\n"
          ]
        },
        {
          "output_type": "stream",
          "name": "stderr",
          "text": [
            "Validation: 100%|██████████| 11/11 [00:00<00:00, 20.38it/s]\n"
          ]
        },
        {
          "output_type": "stream",
          "name": "stdout",
          "text": [
            "Validation Loss: 0.5508, Accuracy: 77.78%, Precision: 0.8251, Recall: 0.7778, F1-Score: 0.7725\n",
            "Epoch 19/70\n"
          ]
        },
        {
          "output_type": "stream",
          "name": "stderr",
          "text": [
            "Training: 100%|██████████| 76/76 [00:07<00:00, 10.63it/s]\n"
          ]
        },
        {
          "output_type": "stream",
          "name": "stdout",
          "text": [
            "Training Loss: 0.1547, Accuracy: 95.34%, Precision: 0.9537, Recall: 0.9534, F1-Score: 0.9535\n"
          ]
        },
        {
          "output_type": "stream",
          "name": "stderr",
          "text": [
            "Validation: 100%|██████████| 11/11 [00:00<00:00, 27.94it/s]\n"
          ]
        },
        {
          "output_type": "stream",
          "name": "stdout",
          "text": [
            "Validation Loss: 0.8904, Accuracy: 76.54%, Precision: 0.8175, Recall: 0.7654, F1-Score: 0.7734\n",
            "Epoch 20/70\n"
          ]
        },
        {
          "output_type": "stream",
          "name": "stderr",
          "text": [
            "Training: 100%|██████████| 76/76 [00:07<00:00, 10.63it/s]\n"
          ]
        },
        {
          "output_type": "stream",
          "name": "stdout",
          "text": [
            "Training Loss: 0.2046, Accuracy: 93.51%, Precision: 0.9360, Recall: 0.9351, F1-Score: 0.9349\n"
          ]
        },
        {
          "output_type": "stream",
          "name": "stderr",
          "text": [
            "Validation: 100%|██████████| 11/11 [00:00<00:00, 18.50it/s]\n"
          ]
        },
        {
          "output_type": "stream",
          "name": "stdout",
          "text": [
            "Validation Loss: 0.9552, Accuracy: 74.07%, Precision: 0.8210, Recall: 0.7407, F1-Score: 0.7483\n",
            "Epoch 21/70\n"
          ]
        },
        {
          "output_type": "stream",
          "name": "stderr",
          "text": [
            "Training: 100%|██████████| 76/76 [00:07<00:00, 10.76it/s]\n"
          ]
        },
        {
          "output_type": "stream",
          "name": "stdout",
          "text": [
            "Training Loss: 0.1796, Accuracy: 94.68%, Precision: 0.9468, Recall: 0.9468, F1-Score: 0.9466\n"
          ]
        },
        {
          "output_type": "stream",
          "name": "stderr",
          "text": [
            "Validation: 100%|██████████| 11/11 [00:00<00:00, 27.00it/s]\n"
          ]
        },
        {
          "output_type": "stream",
          "name": "stdout",
          "text": [
            "Validation Loss: 0.4644, Accuracy: 79.01%, Precision: 0.8291, Recall: 0.7901, F1-Score: 0.7908\n",
            "New best model saved\n",
            "Epoch 22/70\n"
          ]
        },
        {
          "output_type": "stream",
          "name": "stderr",
          "text": [
            "Training: 100%|██████████| 76/76 [00:07<00:00, 10.20it/s]\n"
          ]
        },
        {
          "output_type": "stream",
          "name": "stdout",
          "text": [
            "Training Loss: 0.1502, Accuracy: 96.01%, Precision: 0.9602, Recall: 0.9601, F1-Score: 0.9601\n"
          ]
        },
        {
          "output_type": "stream",
          "name": "stderr",
          "text": [
            "Validation: 100%|██████████| 11/11 [00:00<00:00, 27.28it/s]\n"
          ]
        },
        {
          "output_type": "stream",
          "name": "stdout",
          "text": [
            "Validation Loss: 0.5343, Accuracy: 77.78%, Precision: 0.8028, Recall: 0.7778, F1-Score: 0.7815\n",
            "Epoch 23/70\n"
          ]
        },
        {
          "output_type": "stream",
          "name": "stderr",
          "text": [
            "Training: 100%|██████████| 76/76 [00:06<00:00, 10.94it/s]\n"
          ]
        },
        {
          "output_type": "stream",
          "name": "stdout",
          "text": [
            "Training Loss: 0.1232, Accuracy: 96.34%, Precision: 0.9635, Recall: 0.9634, F1-Score: 0.9632\n"
          ]
        },
        {
          "output_type": "stream",
          "name": "stderr",
          "text": [
            "Validation: 100%|██████████| 11/11 [00:00<00:00, 26.84it/s]\n"
          ]
        },
        {
          "output_type": "stream",
          "name": "stdout",
          "text": [
            "Validation Loss: 0.4115, Accuracy: 85.19%, Precision: 0.8592, Recall: 0.8519, F1-Score: 0.8524\n",
            "New best model saved\n",
            "Epoch 24/70\n"
          ]
        },
        {
          "output_type": "stream",
          "name": "stderr",
          "text": [
            "Training: 100%|██████████| 76/76 [00:07<00:00, 10.35it/s]\n"
          ]
        },
        {
          "output_type": "stream",
          "name": "stdout",
          "text": [
            "Training Loss: 0.1438, Accuracy: 96.34%, Precision: 0.9635, Recall: 0.9634, F1-Score: 0.9634\n"
          ]
        },
        {
          "output_type": "stream",
          "name": "stderr",
          "text": [
            "Validation: 100%|██████████| 11/11 [00:00<00:00, 27.10it/s]\n"
          ]
        },
        {
          "output_type": "stream",
          "name": "stdout",
          "text": [
            "Validation Loss: 0.5921, Accuracy: 83.95%, Precision: 0.8833, Recall: 0.8395, F1-Score: 0.8469\n",
            "Epoch 25/70\n"
          ]
        },
        {
          "output_type": "stream",
          "name": "stderr",
          "text": [
            "Training: 100%|██████████| 76/76 [00:07<00:00, 10.83it/s]\n"
          ]
        },
        {
          "output_type": "stream",
          "name": "stdout",
          "text": [
            "Training Loss: 0.1040, Accuracy: 97.17%, Precision: 0.9719, Recall: 0.9717, F1-Score: 0.9718\n"
          ]
        },
        {
          "output_type": "stream",
          "name": "stderr",
          "text": [
            "Validation: 100%|██████████| 11/11 [00:00<00:00, 22.69it/s]\n"
          ]
        },
        {
          "output_type": "stream",
          "name": "stdout",
          "text": [
            "Validation Loss: 0.6329, Accuracy: 72.84%, Precision: 0.7836, Recall: 0.7284, F1-Score: 0.7247\n",
            "Epoch 26/70\n"
          ]
        },
        {
          "output_type": "stream",
          "name": "stderr",
          "text": [
            "Training: 100%|██████████| 76/76 [00:07<00:00, 10.50it/s]\n"
          ]
        },
        {
          "output_type": "stream",
          "name": "stdout",
          "text": [
            "Training Loss: 0.1829, Accuracy: 95.51%, Precision: 0.9552, Recall: 0.9551, F1-Score: 0.9550\n"
          ]
        },
        {
          "output_type": "stream",
          "name": "stderr",
          "text": [
            "Validation: 100%|██████████| 11/11 [00:00<00:00, 27.64it/s]\n"
          ]
        },
        {
          "output_type": "stream",
          "name": "stdout",
          "text": [
            "Validation Loss: 0.8337, Accuracy: 79.01%, Precision: 0.8880, Recall: 0.7901, F1-Score: 0.8079\n",
            "Epoch 27/70\n"
          ]
        },
        {
          "output_type": "stream",
          "name": "stderr",
          "text": [
            "Training: 100%|██████████| 76/76 [00:07<00:00, 10.65it/s]\n"
          ]
        },
        {
          "output_type": "stream",
          "name": "stdout",
          "text": [
            "Training Loss: 0.1239, Accuracy: 96.84%, Precision: 0.9688, Recall: 0.9684, F1-Score: 0.9684\n"
          ]
        },
        {
          "output_type": "stream",
          "name": "stderr",
          "text": [
            "Validation: 100%|██████████| 11/11 [00:00<00:00, 20.93it/s]\n"
          ]
        },
        {
          "output_type": "stream",
          "name": "stdout",
          "text": [
            "Validation Loss: 0.6995, Accuracy: 80.25%, Precision: 0.8354, Recall: 0.8025, F1-Score: 0.8102\n",
            "Epoch 28/70\n"
          ]
        },
        {
          "output_type": "stream",
          "name": "stderr",
          "text": [
            "Training: 100%|██████████| 76/76 [00:07<00:00, 10.66it/s]\n"
          ]
        },
        {
          "output_type": "stream",
          "name": "stdout",
          "text": [
            "Training Loss: 0.1037, Accuracy: 96.84%, Precision: 0.9684, Recall: 0.9684, F1-Score: 0.9684\n"
          ]
        },
        {
          "output_type": "stream",
          "name": "stderr",
          "text": [
            "Validation: 100%|██████████| 11/11 [00:00<00:00, 28.10it/s]\n"
          ]
        },
        {
          "output_type": "stream",
          "name": "stdout",
          "text": [
            "Validation Loss: 0.4622, Accuracy: 79.01%, Precision: 0.8444, Recall: 0.7901, F1-Score: 0.7968\n",
            "Epoch 29/70\n"
          ]
        },
        {
          "output_type": "stream",
          "name": "stderr",
          "text": [
            "Training: 100%|██████████| 76/76 [00:07<00:00, 10.27it/s]\n"
          ]
        },
        {
          "output_type": "stream",
          "name": "stdout",
          "text": [
            "Training Loss: 0.1161, Accuracy: 96.17%, Precision: 0.9619, Recall: 0.9617, F1-Score: 0.9618\n"
          ]
        },
        {
          "output_type": "stream",
          "name": "stderr",
          "text": [
            "Validation: 100%|██████████| 11/11 [00:00<00:00, 28.13it/s]\n"
          ]
        },
        {
          "output_type": "stream",
          "name": "stdout",
          "text": [
            "Validation Loss: 0.5538, Accuracy: 80.25%, Precision: 0.8756, Recall: 0.8025, F1-Score: 0.8079\n",
            "Epoch 30/70\n"
          ]
        },
        {
          "output_type": "stream",
          "name": "stderr",
          "text": [
            "Training: 100%|██████████| 76/76 [00:06<00:00, 11.03it/s]\n"
          ]
        },
        {
          "output_type": "stream",
          "name": "stdout",
          "text": [
            "Training Loss: 0.0660, Accuracy: 98.84%, Precision: 0.9885, Recall: 0.9884, F1-Score: 0.9884\n"
          ]
        },
        {
          "output_type": "stream",
          "name": "stderr",
          "text": [
            "Validation: 100%|██████████| 11/11 [00:00<00:00, 27.57it/s]\n"
          ]
        },
        {
          "output_type": "stream",
          "name": "stdout",
          "text": [
            "Validation Loss: 0.7665, Accuracy: 80.25%, Precision: 0.8675, Recall: 0.8025, F1-Score: 0.8121\n",
            "Epoch 31/70\n"
          ]
        },
        {
          "output_type": "stream",
          "name": "stderr",
          "text": [
            "Training: 100%|██████████| 76/76 [00:07<00:00, 10.31it/s]\n"
          ]
        },
        {
          "output_type": "stream",
          "name": "stdout",
          "text": [
            "Training Loss: 0.0880, Accuracy: 97.50%, Precision: 0.9751, Recall: 0.9750, F1-Score: 0.9750\n"
          ]
        },
        {
          "output_type": "stream",
          "name": "stderr",
          "text": [
            "Validation: 100%|██████████| 11/11 [00:00<00:00, 27.71it/s]\n"
          ]
        },
        {
          "output_type": "stream",
          "name": "stdout",
          "text": [
            "Validation Loss: 0.5519, Accuracy: 82.72%, Precision: 0.9002, Recall: 0.8272, F1-Score: 0.8384\n",
            "Epoch 32/70\n"
          ]
        },
        {
          "output_type": "stream",
          "name": "stderr",
          "text": [
            "Training: 100%|██████████| 76/76 [00:06<00:00, 11.03it/s]\n"
          ]
        },
        {
          "output_type": "stream",
          "name": "stdout",
          "text": [
            "Training Loss: 0.1004, Accuracy: 97.67%, Precision: 0.9770, Recall: 0.9767, F1-Score: 0.9768\n"
          ]
        },
        {
          "output_type": "stream",
          "name": "stderr",
          "text": [
            "Validation: 100%|██████████| 11/11 [00:00<00:00, 26.61it/s]\n"
          ]
        },
        {
          "output_type": "stream",
          "name": "stdout",
          "text": [
            "Validation Loss: 0.6916, Accuracy: 82.72%, Precision: 0.8672, Recall: 0.8272, F1-Score: 0.8355\n",
            "Epoch 33/70\n"
          ]
        },
        {
          "output_type": "stream",
          "name": "stderr",
          "text": [
            "Training: 100%|██████████| 76/76 [00:07<00:00, 10.22it/s]\n"
          ]
        },
        {
          "output_type": "stream",
          "name": "stdout",
          "text": [
            "Training Loss: 0.1138, Accuracy: 97.50%, Precision: 0.9750, Recall: 0.9750, F1-Score: 0.9749\n"
          ]
        },
        {
          "output_type": "stream",
          "name": "stderr",
          "text": [
            "Validation: 100%|██████████| 11/11 [00:00<00:00, 28.15it/s]\n"
          ]
        },
        {
          "output_type": "stream",
          "name": "stdout",
          "text": [
            "Validation Loss: 0.5374, Accuracy: 85.19%, Precision: 0.8747, Recall: 0.8519, F1-Score: 0.8562\n",
            "Epoch 34/70\n"
          ]
        },
        {
          "output_type": "stream",
          "name": "stderr",
          "text": [
            "Training: 100%|██████████| 76/76 [00:06<00:00, 10.95it/s]\n"
          ]
        },
        {
          "output_type": "stream",
          "name": "stdout",
          "text": [
            "Training Loss: 0.0446, Accuracy: 99.50%, Precision: 0.9951, Recall: 0.9950, F1-Score: 0.9950\n"
          ]
        },
        {
          "output_type": "stream",
          "name": "stderr",
          "text": [
            "Validation: 100%|██████████| 11/11 [00:00<00:00, 21.99it/s]\n"
          ]
        },
        {
          "output_type": "stream",
          "name": "stdout",
          "text": [
            "Validation Loss: 0.5480, Accuracy: 86.42%, Precision: 0.8787, Recall: 0.8642, F1-Score: 0.8670\n",
            "Epoch 35/70\n"
          ]
        },
        {
          "output_type": "stream",
          "name": "stderr",
          "text": [
            "Training: 100%|██████████| 76/76 [00:07<00:00, 10.35it/s]\n"
          ]
        },
        {
          "output_type": "stream",
          "name": "stdout",
          "text": [
            "Training Loss: 0.0769, Accuracy: 98.84%, Precision: 0.9884, Recall: 0.9884, F1-Score: 0.9883\n"
          ]
        },
        {
          "output_type": "stream",
          "name": "stderr",
          "text": [
            "Validation: 100%|██████████| 11/11 [00:00<00:00, 27.03it/s]\n"
          ]
        },
        {
          "output_type": "stream",
          "name": "stdout",
          "text": [
            "Validation Loss: 0.6567, Accuracy: 82.72%, Precision: 0.8672, Recall: 0.8272, F1-Score: 0.8332\n",
            "Epoch 36/70\n"
          ]
        },
        {
          "output_type": "stream",
          "name": "stderr",
          "text": [
            "Training: 100%|██████████| 76/76 [00:07<00:00, 10.58it/s]\n"
          ]
        },
        {
          "output_type": "stream",
          "name": "stdout",
          "text": [
            "Training Loss: 0.0680, Accuracy: 98.84%, Precision: 0.9884, Recall: 0.9884, F1-Score: 0.9883\n"
          ]
        },
        {
          "output_type": "stream",
          "name": "stderr",
          "text": [
            "Validation: 100%|██████████| 11/11 [00:00<00:00, 19.41it/s]\n"
          ]
        },
        {
          "output_type": "stream",
          "name": "stdout",
          "text": [
            "Validation Loss: 0.3559, Accuracy: 87.65%, Precision: 0.8936, Recall: 0.8765, F1-Score: 0.8787\n",
            "New best model saved\n",
            "Epoch 37/70\n"
          ]
        },
        {
          "output_type": "stream",
          "name": "stderr",
          "text": [
            "Training: 100%|██████████| 76/76 [00:07<00:00, 10.71it/s]\n"
          ]
        },
        {
          "output_type": "stream",
          "name": "stdout",
          "text": [
            "Training Loss: 0.0698, Accuracy: 98.34%, Precision: 0.9835, Recall: 0.9834, F1-Score: 0.9834\n"
          ]
        },
        {
          "output_type": "stream",
          "name": "stderr",
          "text": [
            "Validation: 100%|██████████| 11/11 [00:00<00:00, 27.32it/s]\n"
          ]
        },
        {
          "output_type": "stream",
          "name": "stdout",
          "text": [
            "Validation Loss: 0.3611, Accuracy: 87.65%, Precision: 0.8813, Recall: 0.8765, F1-Score: 0.8766\n",
            "Epoch 38/70\n"
          ]
        },
        {
          "output_type": "stream",
          "name": "stderr",
          "text": [
            "Training: 100%|██████████| 76/76 [00:07<00:00, 10.25it/s]\n"
          ]
        },
        {
          "output_type": "stream",
          "name": "stdout",
          "text": [
            "Training Loss: 0.0424, Accuracy: 99.50%, Precision: 0.9950, Recall: 0.9950, F1-Score: 0.9950\n"
          ]
        },
        {
          "output_type": "stream",
          "name": "stderr",
          "text": [
            "Validation: 100%|██████████| 11/11 [00:00<00:00, 27.80it/s]\n"
          ]
        },
        {
          "output_type": "stream",
          "name": "stdout",
          "text": [
            "Validation Loss: 0.4553, Accuracy: 83.95%, Precision: 0.9028, Recall: 0.8395, F1-Score: 0.8508\n",
            "Epoch 39/70\n"
          ]
        },
        {
          "output_type": "stream",
          "name": "stderr",
          "text": [
            "Training: 100%|██████████| 76/76 [00:06<00:00, 11.01it/s]\n"
          ]
        },
        {
          "output_type": "stream",
          "name": "stdout",
          "text": [
            "Training Loss: 0.0643, Accuracy: 99.17%, Precision: 0.9917, Recall: 0.9917, F1-Score: 0.9916\n"
          ]
        },
        {
          "output_type": "stream",
          "name": "stderr",
          "text": [
            "Validation: 100%|██████████| 11/11 [00:00<00:00, 27.33it/s]\n"
          ]
        },
        {
          "output_type": "stream",
          "name": "stdout",
          "text": [
            "Validation Loss: 0.6014, Accuracy: 85.19%, Precision: 0.8871, Recall: 0.8519, F1-Score: 0.8567\n",
            "Epoch 40/70\n"
          ]
        },
        {
          "output_type": "stream",
          "name": "stderr",
          "text": [
            "Training: 100%|██████████| 76/76 [00:07<00:00, 10.46it/s]\n"
          ]
        },
        {
          "output_type": "stream",
          "name": "stdout",
          "text": [
            "Training Loss: 0.0529, Accuracy: 98.50%, Precision: 0.9853, Recall: 0.9850, F1-Score: 0.9850\n"
          ]
        },
        {
          "output_type": "stream",
          "name": "stderr",
          "text": [
            "Validation: 100%|██████████| 11/11 [00:00<00:00, 27.68it/s]\n"
          ]
        },
        {
          "output_type": "stream",
          "name": "stdout",
          "text": [
            "Validation Loss: 0.4980, Accuracy: 87.65%, Precision: 0.8844, Recall: 0.8765, F1-Score: 0.8767\n",
            "Epoch 41/70\n"
          ]
        },
        {
          "output_type": "stream",
          "name": "stderr",
          "text": [
            "Training: 100%|██████████| 76/76 [00:06<00:00, 10.99it/s]\n"
          ]
        },
        {
          "output_type": "stream",
          "name": "stdout",
          "text": [
            "Training Loss: 0.1322, Accuracy: 96.01%, Precision: 0.9605, Recall: 0.9601, F1-Score: 0.9602\n"
          ]
        },
        {
          "output_type": "stream",
          "name": "stderr",
          "text": [
            "Validation: 100%|██████████| 11/11 [00:00<00:00, 26.67it/s]\n"
          ]
        },
        {
          "output_type": "stream",
          "name": "stdout",
          "text": [
            "Validation Loss: 0.7844, Accuracy: 81.48%, Precision: 0.8598, Recall: 0.8148, F1-Score: 0.8239\n",
            "Epoch 42/70\n"
          ]
        },
        {
          "output_type": "stream",
          "name": "stderr",
          "text": [
            "Training: 100%|██████████| 76/76 [00:07<00:00, 10.41it/s]\n"
          ]
        },
        {
          "output_type": "stream",
          "name": "stdout",
          "text": [
            "Training Loss: 0.0820, Accuracy: 97.84%, Precision: 0.9784, Recall: 0.9784, F1-Score: 0.9784\n"
          ]
        },
        {
          "output_type": "stream",
          "name": "stderr",
          "text": [
            "Validation: 100%|██████████| 11/11 [00:00<00:00, 28.11it/s]\n"
          ]
        },
        {
          "output_type": "stream",
          "name": "stdout",
          "text": [
            "Validation Loss: 0.6732, Accuracy: 81.48%, Precision: 0.8708, Recall: 0.8148, F1-Score: 0.8270\n",
            "Epoch 43/70\n"
          ]
        },
        {
          "output_type": "stream",
          "name": "stderr",
          "text": [
            "Training: 100%|██████████| 76/76 [00:06<00:00, 10.91it/s]\n"
          ]
        },
        {
          "output_type": "stream",
          "name": "stdout",
          "text": [
            "Training Loss: 0.1462, Accuracy: 96.51%, Precision: 0.9656, Recall: 0.9651, F1-Score: 0.9651\n"
          ]
        },
        {
          "output_type": "stream",
          "name": "stderr",
          "text": [
            "Validation: 100%|██████████| 11/11 [00:00<00:00, 23.95it/s]\n"
          ]
        },
        {
          "output_type": "stream",
          "name": "stdout",
          "text": [
            "Validation Loss: 0.6930, Accuracy: 83.95%, Precision: 0.8822, Recall: 0.8395, F1-Score: 0.8467\n",
            "Epoch 44/70\n"
          ]
        },
        {
          "output_type": "stream",
          "name": "stderr",
          "text": [
            "Training: 100%|██████████| 76/76 [00:07<00:00, 10.49it/s]\n"
          ]
        },
        {
          "output_type": "stream",
          "name": "stdout",
          "text": [
            "Training Loss: 0.0548, Accuracy: 98.67%, Precision: 0.9867, Recall: 0.9867, F1-Score: 0.9867\n"
          ]
        },
        {
          "output_type": "stream",
          "name": "stderr",
          "text": [
            "Validation: 100%|██████████| 11/11 [00:00<00:00, 26.89it/s]\n"
          ]
        },
        {
          "output_type": "stream",
          "name": "stdout",
          "text": [
            "Validation Loss: 0.8172, Accuracy: 83.95%, Precision: 0.8909, Recall: 0.8395, F1-Score: 0.8509\n",
            "Epoch 45/70\n"
          ]
        },
        {
          "output_type": "stream",
          "name": "stderr",
          "text": [
            "Training: 100%|██████████| 76/76 [00:07<00:00, 10.77it/s]\n"
          ]
        },
        {
          "output_type": "stream",
          "name": "stdout",
          "text": [
            "Training Loss: 0.0909, Accuracy: 97.50%, Precision: 0.9751, Recall: 0.9750, F1-Score: 0.9751\n"
          ]
        },
        {
          "output_type": "stream",
          "name": "stderr",
          "text": [
            "Validation: 100%|██████████| 11/11 [00:00<00:00, 23.90it/s]\n"
          ]
        },
        {
          "output_type": "stream",
          "name": "stdout",
          "text": [
            "Validation Loss: 0.5960, Accuracy: 81.48%, Precision: 0.8728, Recall: 0.8148, F1-Score: 0.8248\n",
            "Epoch 46/70\n"
          ]
        },
        {
          "output_type": "stream",
          "name": "stderr",
          "text": [
            "Training: 100%|██████████| 76/76 [00:07<00:00, 10.64it/s]\n"
          ]
        },
        {
          "output_type": "stream",
          "name": "stdout",
          "text": [
            "Training Loss: 0.0758, Accuracy: 98.67%, Precision: 0.9869, Recall: 0.9867, F1-Score: 0.9867\n"
          ]
        },
        {
          "output_type": "stream",
          "name": "stderr",
          "text": [
            "Validation: 100%|██████████| 11/11 [00:00<00:00, 27.55it/s]\n"
          ]
        },
        {
          "output_type": "stream",
          "name": "stdout",
          "text": [
            "Validation Loss: 0.4866, Accuracy: 82.72%, Precision: 0.8591, Recall: 0.8272, F1-Score: 0.8305\n",
            "Epoch 47/70\n"
          ]
        },
        {
          "output_type": "stream",
          "name": "stderr",
          "text": [
            "Training: 100%|██████████| 76/76 [00:07<00:00, 10.48it/s]\n"
          ]
        },
        {
          "output_type": "stream",
          "name": "stdout",
          "text": [
            "Training Loss: 0.1004, Accuracy: 98.67%, Precision: 0.9867, Recall: 0.9867, F1-Score: 0.9867\n"
          ]
        },
        {
          "output_type": "stream",
          "name": "stderr",
          "text": [
            "Validation: 100%|██████████| 11/11 [00:00<00:00, 27.41it/s]\n"
          ]
        },
        {
          "output_type": "stream",
          "name": "stdout",
          "text": [
            "Validation Loss: 0.5964, Accuracy: 87.65%, Precision: 0.9042, Recall: 0.8765, F1-Score: 0.8805\n",
            "Epoch 48/70\n"
          ]
        },
        {
          "output_type": "stream",
          "name": "stderr",
          "text": [
            "Training: 100%|██████████| 76/76 [00:06<00:00, 11.03it/s]\n"
          ]
        },
        {
          "output_type": "stream",
          "name": "stdout",
          "text": [
            "Training Loss: 0.0792, Accuracy: 98.00%, Precision: 0.9801, Recall: 0.9800, F1-Score: 0.9801\n"
          ]
        },
        {
          "output_type": "stream",
          "name": "stderr",
          "text": [
            "Validation: 100%|██████████| 11/11 [00:00<00:00, 27.54it/s]\n"
          ]
        },
        {
          "output_type": "stream",
          "name": "stdout",
          "text": [
            "Validation Loss: 0.4848, Accuracy: 85.19%, Precision: 0.8963, Recall: 0.8519, F1-Score: 0.8594\n",
            "Epoch 49/70\n"
          ]
        },
        {
          "output_type": "stream",
          "name": "stderr",
          "text": [
            "Training: 100%|██████████| 76/76 [00:07<00:00, 10.34it/s]\n"
          ]
        },
        {
          "output_type": "stream",
          "name": "stdout",
          "text": [
            "Training Loss: 0.0567, Accuracy: 98.50%, Precision: 0.9851, Recall: 0.9850, F1-Score: 0.9850\n"
          ]
        },
        {
          "output_type": "stream",
          "name": "stderr",
          "text": [
            "Validation: 100%|██████████| 11/11 [00:00<00:00, 27.66it/s]\n"
          ]
        },
        {
          "output_type": "stream",
          "name": "stdout",
          "text": [
            "Validation Loss: 0.5233, Accuracy: 83.95%, Precision: 0.8911, Recall: 0.8395, F1-Score: 0.8477\n",
            "Epoch 50/70\n"
          ]
        },
        {
          "output_type": "stream",
          "name": "stderr",
          "text": [
            "Training: 100%|██████████| 76/76 [00:06<00:00, 10.95it/s]\n"
          ]
        },
        {
          "output_type": "stream",
          "name": "stdout",
          "text": [
            "Training Loss: 0.0703, Accuracy: 97.67%, Precision: 0.9768, Recall: 0.9767, F1-Score: 0.9767\n"
          ]
        },
        {
          "output_type": "stream",
          "name": "stderr",
          "text": [
            "Validation: 100%|██████████| 11/11 [00:00<00:00, 27.35it/s]\n"
          ]
        },
        {
          "output_type": "stream",
          "name": "stdout",
          "text": [
            "Validation Loss: 0.3848, Accuracy: 90.12%, Precision: 0.9146, Recall: 0.9012, F1-Score: 0.9031\n",
            "Epoch 51/70\n"
          ]
        },
        {
          "output_type": "stream",
          "name": "stderr",
          "text": [
            "Training: 100%|██████████| 76/76 [00:07<00:00, 10.55it/s]\n"
          ]
        },
        {
          "output_type": "stream",
          "name": "stdout",
          "text": [
            "Training Loss: 0.0392, Accuracy: 99.00%, Precision: 0.9900, Recall: 0.9900, F1-Score: 0.9900\n"
          ]
        },
        {
          "output_type": "stream",
          "name": "stderr",
          "text": [
            "Validation: 100%|██████████| 11/11 [00:00<00:00, 27.37it/s]\n"
          ]
        },
        {
          "output_type": "stream",
          "name": "stdout",
          "text": [
            "Validation Loss: 0.4785, Accuracy: 88.89%, Precision: 0.9306, Recall: 0.8889, F1-Score: 0.8966\n",
            "Epoch 52/70\n"
          ]
        },
        {
          "output_type": "stream",
          "name": "stderr",
          "text": [
            "Training: 100%|██████████| 76/76 [00:06<00:00, 10.88it/s]\n"
          ]
        },
        {
          "output_type": "stream",
          "name": "stdout",
          "text": [
            "Training Loss: 0.0209, Accuracy: 99.67%, Precision: 0.9967, Recall: 0.9967, F1-Score: 0.9967\n"
          ]
        },
        {
          "output_type": "stream",
          "name": "stderr",
          "text": [
            "Validation: 100%|██████████| 11/11 [00:00<00:00, 22.23it/s]\n"
          ]
        },
        {
          "output_type": "stream",
          "name": "stdout",
          "text": [
            "Validation Loss: 0.4194, Accuracy: 90.12%, Precision: 0.9201, Recall: 0.9012, F1-Score: 0.9040\n",
            "Epoch 53/70\n"
          ]
        },
        {
          "output_type": "stream",
          "name": "stderr",
          "text": [
            "Training: 100%|██████████| 76/76 [00:07<00:00, 10.52it/s]\n"
          ]
        },
        {
          "output_type": "stream",
          "name": "stdout",
          "text": [
            "Training Loss: 0.0219, Accuracy: 99.33%, Precision: 0.9934, Recall: 0.9933, F1-Score: 0.9933\n"
          ]
        },
        {
          "output_type": "stream",
          "name": "stderr",
          "text": [
            "Validation: 100%|██████████| 11/11 [00:00<00:00, 26.97it/s]\n"
          ]
        },
        {
          "output_type": "stream",
          "name": "stdout",
          "text": [
            "Validation Loss: 0.4900, Accuracy: 83.95%, Precision: 0.9019, Recall: 0.8395, F1-Score: 0.8515\n",
            "Epoch 54/70\n"
          ]
        },
        {
          "output_type": "stream",
          "name": "stderr",
          "text": [
            "Training: 100%|██████████| 76/76 [00:07<00:00, 10.69it/s]\n"
          ]
        },
        {
          "output_type": "stream",
          "name": "stdout",
          "text": [
            "Training Loss: 0.0225, Accuracy: 99.50%, Precision: 0.9950, Recall: 0.9950, F1-Score: 0.9950\n"
          ]
        },
        {
          "output_type": "stream",
          "name": "stderr",
          "text": [
            "Validation: 100%|██████████| 11/11 [00:00<00:00, 21.06it/s]\n"
          ]
        },
        {
          "output_type": "stream",
          "name": "stdout",
          "text": [
            "Validation Loss: 0.6236, Accuracy: 80.25%, Precision: 0.8302, Recall: 0.8025, F1-Score: 0.8070\n",
            "Epoch 55/70\n"
          ]
        },
        {
          "output_type": "stream",
          "name": "stderr",
          "text": [
            "Training: 100%|██████████| 76/76 [00:07<00:00, 10.83it/s]\n"
          ]
        },
        {
          "output_type": "stream",
          "name": "stdout",
          "text": [
            "Training Loss: 0.0235, Accuracy: 99.33%, Precision: 0.9933, Recall: 0.9933, F1-Score: 0.9933\n"
          ]
        },
        {
          "output_type": "stream",
          "name": "stderr",
          "text": [
            "Validation: 100%|██████████| 11/11 [00:00<00:00, 27.89it/s]\n"
          ]
        },
        {
          "output_type": "stream",
          "name": "stdout",
          "text": [
            "Validation Loss: 0.5957, Accuracy: 85.19%, Precision: 0.9001, Recall: 0.8519, F1-Score: 0.8595\n",
            "Epoch 56/70\n"
          ]
        },
        {
          "output_type": "stream",
          "name": "stderr",
          "text": [
            "Training: 100%|██████████| 76/76 [00:07<00:00, 10.43it/s]\n"
          ]
        },
        {
          "output_type": "stream",
          "name": "stdout",
          "text": [
            "Training Loss: 0.0325, Accuracy: 99.17%, Precision: 0.9917, Recall: 0.9917, F1-Score: 0.9917\n"
          ]
        },
        {
          "output_type": "stream",
          "name": "stderr",
          "text": [
            "Validation: 100%|██████████| 11/11 [00:00<00:00, 26.03it/s]\n"
          ]
        },
        {
          "output_type": "stream",
          "name": "stdout",
          "text": [
            "Validation Loss: 0.7351, Accuracy: 82.72%, Precision: 0.8996, Recall: 0.8272, F1-Score: 0.8410\n",
            "Epoch 57/70\n"
          ]
        },
        {
          "output_type": "stream",
          "name": "stderr",
          "text": [
            "Training: 100%|██████████| 76/76 [00:06<00:00, 10.96it/s]\n"
          ]
        },
        {
          "output_type": "stream",
          "name": "stdout",
          "text": [
            "Training Loss: 0.0763, Accuracy: 99.00%, Precision: 0.9901, Recall: 0.9900, F1-Score: 0.9900\n"
          ]
        },
        {
          "output_type": "stream",
          "name": "stderr",
          "text": [
            "Validation: 100%|██████████| 11/11 [00:00<00:00, 28.12it/s]\n"
          ]
        },
        {
          "output_type": "stream",
          "name": "stdout",
          "text": [
            "Validation Loss: 0.5249, Accuracy: 86.42%, Precision: 0.9115, Recall: 0.8642, F1-Score: 0.8735\n",
            "Epoch 58/70\n"
          ]
        },
        {
          "output_type": "stream",
          "name": "stderr",
          "text": [
            "Training: 100%|██████████| 76/76 [00:07<00:00, 10.18it/s]\n"
          ]
        },
        {
          "output_type": "stream",
          "name": "stdout",
          "text": [
            "Training Loss: 0.0507, Accuracy: 99.67%, Precision: 0.9967, Recall: 0.9967, F1-Score: 0.9967\n"
          ]
        },
        {
          "output_type": "stream",
          "name": "stderr",
          "text": [
            "Validation: 100%|██████████| 11/11 [00:00<00:00, 27.09it/s]\n"
          ]
        },
        {
          "output_type": "stream",
          "name": "stdout",
          "text": [
            "Validation Loss: 0.3408, Accuracy: 88.89%, Precision: 0.9000, Recall: 0.8889, F1-Score: 0.8910\n",
            "New best model saved\n",
            "Epoch 59/70\n"
          ]
        },
        {
          "output_type": "stream",
          "name": "stderr",
          "text": [
            "Training: 100%|██████████| 76/76 [00:06<00:00, 10.95it/s]\n"
          ]
        },
        {
          "output_type": "stream",
          "name": "stdout",
          "text": [
            "Training Loss: 0.0324, Accuracy: 99.67%, Precision: 0.9967, Recall: 0.9967, F1-Score: 0.9967\n"
          ]
        },
        {
          "output_type": "stream",
          "name": "stderr",
          "text": [
            "Validation: 100%|██████████| 11/11 [00:00<00:00, 27.79it/s]\n"
          ]
        },
        {
          "output_type": "stream",
          "name": "stdout",
          "text": [
            "Validation Loss: 0.4917, Accuracy: 87.65%, Precision: 0.9167, Recall: 0.8765, F1-Score: 0.8844\n",
            "Epoch 60/70\n"
          ]
        },
        {
          "output_type": "stream",
          "name": "stderr",
          "text": [
            "Training: 100%|██████████| 76/76 [00:07<00:00, 10.06it/s]\n"
          ]
        },
        {
          "output_type": "stream",
          "name": "stdout",
          "text": [
            "Training Loss: 0.0755, Accuracy: 98.50%, Precision: 0.9852, Recall: 0.9850, F1-Score: 0.9850\n"
          ]
        },
        {
          "output_type": "stream",
          "name": "stderr",
          "text": [
            "Validation: 100%|██████████| 11/11 [00:00<00:00, 26.66it/s]\n"
          ]
        },
        {
          "output_type": "stream",
          "name": "stdout",
          "text": [
            "Validation Loss: 0.8996, Accuracy: 82.72%, Precision: 0.8996, Recall: 0.8272, F1-Score: 0.8399\n",
            "Epoch 61/70\n"
          ]
        },
        {
          "output_type": "stream",
          "name": "stderr",
          "text": [
            "Training: 100%|██████████| 76/76 [00:06<00:00, 10.88it/s]\n"
          ]
        },
        {
          "output_type": "stream",
          "name": "stdout",
          "text": [
            "Training Loss: 0.0502, Accuracy: 98.50%, Precision: 0.9851, Recall: 0.9850, F1-Score: 0.9850\n"
          ]
        },
        {
          "output_type": "stream",
          "name": "stderr",
          "text": [
            "Validation: 100%|██████████| 11/11 [00:00<00:00, 23.07it/s]\n"
          ]
        },
        {
          "output_type": "stream",
          "name": "stdout",
          "text": [
            "Validation Loss: 0.5411, Accuracy: 81.48%, Precision: 0.8374, Recall: 0.8148, F1-Score: 0.8116\n",
            "Epoch 62/70\n"
          ]
        },
        {
          "output_type": "stream",
          "name": "stderr",
          "text": [
            "Training: 100%|██████████| 76/76 [00:07<00:00, 10.73it/s]\n"
          ]
        },
        {
          "output_type": "stream",
          "name": "stdout",
          "text": [
            "Training Loss: 0.0365, Accuracy: 99.17%, Precision: 0.9917, Recall: 0.9917, F1-Score: 0.9917\n"
          ]
        },
        {
          "output_type": "stream",
          "name": "stderr",
          "text": [
            "Validation: 100%|██████████| 11/11 [00:00<00:00, 27.79it/s]\n"
          ]
        },
        {
          "output_type": "stream",
          "name": "stdout",
          "text": [
            "Validation Loss: 0.4636, Accuracy: 83.95%, Precision: 0.8675, Recall: 0.8395, F1-Score: 0.8439\n",
            "Epoch 63/70\n"
          ]
        },
        {
          "output_type": "stream",
          "name": "stderr",
          "text": [
            "Training: 100%|██████████| 76/76 [00:07<00:00, 10.72it/s]\n"
          ]
        },
        {
          "output_type": "stream",
          "name": "stdout",
          "text": [
            "Training Loss: 0.0474, Accuracy: 98.84%, Precision: 0.9885, Recall: 0.9884, F1-Score: 0.9884\n"
          ]
        },
        {
          "output_type": "stream",
          "name": "stderr",
          "text": [
            "Validation: 100%|██████████| 11/11 [00:00<00:00, 21.97it/s]\n"
          ]
        },
        {
          "output_type": "stream",
          "name": "stdout",
          "text": [
            "Validation Loss: 0.4109, Accuracy: 90.12%, Precision: 0.9142, Recall: 0.9012, F1-Score: 0.9030\n",
            "Epoch 64/70\n"
          ]
        },
        {
          "output_type": "stream",
          "name": "stderr",
          "text": [
            "Training: 100%|██████████| 76/76 [00:06<00:00, 10.87it/s]\n"
          ]
        },
        {
          "output_type": "stream",
          "name": "stdout",
          "text": [
            "Training Loss: 0.0639, Accuracy: 98.67%, Precision: 0.9868, Recall: 0.9867, F1-Score: 0.9867\n"
          ]
        },
        {
          "output_type": "stream",
          "name": "stderr",
          "text": [
            "Validation: 100%|██████████| 11/11 [00:00<00:00, 27.49it/s]\n"
          ]
        },
        {
          "output_type": "stream",
          "name": "stdout",
          "text": [
            "Validation Loss: 0.4686, Accuracy: 88.89%, Precision: 0.9137, Recall: 0.8889, F1-Score: 0.8933\n",
            "Epoch 65/70\n"
          ]
        },
        {
          "output_type": "stream",
          "name": "stderr",
          "text": [
            "Training: 100%|██████████| 76/76 [00:07<00:00, 10.44it/s]\n"
          ]
        },
        {
          "output_type": "stream",
          "name": "stdout",
          "text": [
            "Training Loss: 0.0265, Accuracy: 99.17%, Precision: 0.9918, Recall: 0.9917, F1-Score: 0.9917\n"
          ]
        },
        {
          "output_type": "stream",
          "name": "stderr",
          "text": [
            "Validation: 100%|██████████| 11/11 [00:00<00:00, 27.68it/s]\n"
          ]
        },
        {
          "output_type": "stream",
          "name": "stdout",
          "text": [
            "Validation Loss: 0.5017, Accuracy: 86.42%, Precision: 0.8923, Recall: 0.8642, F1-Score: 0.8701\n",
            "Epoch 66/70\n"
          ]
        },
        {
          "output_type": "stream",
          "name": "stderr",
          "text": [
            "Training: 100%|██████████| 76/76 [00:06<00:00, 10.99it/s]\n"
          ]
        },
        {
          "output_type": "stream",
          "name": "stdout",
          "text": [
            "Training Loss: 0.0609, Accuracy: 99.00%, Precision: 0.9901, Recall: 0.9900, F1-Score: 0.9900\n"
          ]
        },
        {
          "output_type": "stream",
          "name": "stderr",
          "text": [
            "Validation: 100%|██████████| 11/11 [00:00<00:00, 27.89it/s]\n"
          ]
        },
        {
          "output_type": "stream",
          "name": "stdout",
          "text": [
            "Validation Loss: 0.5370, Accuracy: 85.19%, Precision: 0.8892, Recall: 0.8519, F1-Score: 0.8568\n",
            "Epoch 67/70\n"
          ]
        },
        {
          "output_type": "stream",
          "name": "stderr",
          "text": [
            "Training: 100%|██████████| 76/76 [00:07<00:00, 10.29it/s]\n"
          ]
        },
        {
          "output_type": "stream",
          "name": "stdout",
          "text": [
            "Training Loss: 0.0725, Accuracy: 98.84%, Precision: 0.9884, Recall: 0.9884, F1-Score: 0.9883\n"
          ]
        },
        {
          "output_type": "stream",
          "name": "stderr",
          "text": [
            "Validation: 100%|██████████| 11/11 [00:00<00:00, 28.02it/s]\n"
          ]
        },
        {
          "output_type": "stream",
          "name": "stdout",
          "text": [
            "Validation Loss: 0.7928, Accuracy: 85.19%, Precision: 0.8873, Recall: 0.8519, F1-Score: 0.8593\n",
            "Epoch 68/70\n"
          ]
        },
        {
          "output_type": "stream",
          "name": "stderr",
          "text": [
            "Training: 100%|██████████| 76/76 [00:06<00:00, 10.99it/s]\n"
          ]
        },
        {
          "output_type": "stream",
          "name": "stdout",
          "text": [
            "Training Loss: 0.0319, Accuracy: 99.00%, Precision: 0.9900, Recall: 0.9900, F1-Score: 0.9900\n"
          ]
        },
        {
          "output_type": "stream",
          "name": "stderr",
          "text": [
            "Validation: 100%|██████████| 11/11 [00:00<00:00, 28.28it/s]\n"
          ]
        },
        {
          "output_type": "stream",
          "name": "stdout",
          "text": [
            "Validation Loss: 0.5210, Accuracy: 87.65%, Precision: 0.9080, Recall: 0.8765, F1-Score: 0.8831\n",
            "Epoch 69/70\n"
          ]
        },
        {
          "output_type": "stream",
          "name": "stderr",
          "text": [
            "Training: 100%|██████████| 76/76 [00:07<00:00, 10.35it/s]\n"
          ]
        },
        {
          "output_type": "stream",
          "name": "stdout",
          "text": [
            "Training Loss: 0.0318, Accuracy: 99.50%, Precision: 0.9950, Recall: 0.9950, F1-Score: 0.9950\n"
          ]
        },
        {
          "output_type": "stream",
          "name": "stderr",
          "text": [
            "Validation: 100%|██████████| 11/11 [00:00<00:00, 26.96it/s]\n"
          ]
        },
        {
          "output_type": "stream",
          "name": "stdout",
          "text": [
            "Validation Loss: 0.7947, Accuracy: 85.19%, Precision: 0.8983, Recall: 0.8519, F1-Score: 0.8604\n",
            "Epoch 70/70\n"
          ]
        },
        {
          "output_type": "stream",
          "name": "stderr",
          "text": [
            "Training: 100%|██████████| 76/76 [00:07<00:00, 10.79it/s]\n"
          ]
        },
        {
          "output_type": "stream",
          "name": "stdout",
          "text": [
            "Training Loss: 0.0173, Accuracy: 99.50%, Precision: 0.9950, Recall: 0.9950, F1-Score: 0.9950\n"
          ]
        },
        {
          "output_type": "stream",
          "name": "stderr",
          "text": [
            "Validation: 100%|██████████| 11/11 [00:00<00:00, 20.62it/s]\n"
          ]
        },
        {
          "output_type": "stream",
          "name": "stdout",
          "text": [
            "Validation Loss: 0.6131, Accuracy: 88.89%, Precision: 0.9156, Recall: 0.8889, F1-Score: 0.8926\n",
            "Total Training + Validation Time: 546.33 seconds\n"
          ]
        }
      ],
      "source": [
        "# Load Model Hasil Pruning\n",
        "pruned_path_resnet = '/content/drive/MyDrive/Best-pruning-model/pruned-resnet-10-0,0001.pth'\n",
        "pruned_model_resnet.load_state_dict(torch.load(pruned_path_resnet, map_location=device))\n",
        "pruned_model_resnet = pruned_model_resnet.to(device)\n",
        "\n",
        "\n",
        "# Fine-tuning model yang telah di-prune\n",
        "num_epochs = 70  # Tentukan jumlah epoch untuk fine-tuning\n",
        "\n",
        "# Training\n",
        "train_losses, valid_losses, train_accuracies, valid_accuracies, train_precisions, train_recalls, train_f1s, valid_precisions, valid_recalls, valid_f1s = train_and_evaluate(pruned_model_resnet, train_loader, valid_loader, num_epochs=num_epochs)\n",
        "\n",
        "# Simpan model setelah fine-tuning\n",
        "torch.save(pruned_model_resnet.state_dict(), '/content/drive/MyDrive/Best-pruning-model/11-iterasi-fine_tuned_pruned_resnet-10-0,001.pth')"
      ]
    },
    {
      "cell_type": "code",
      "source": [
        "# Plot training and validation loss\n",
        "plt.figure(figsize=(10, 5))\n",
        "plt.plot(train_losses, label='Training Loss')\n",
        "plt.plot(valid_losses, label='Validation Loss')\n",
        "plt.xlabel('Epoch')\n",
        "plt.ylabel('Loss')\n",
        "plt.legend()\n",
        "plt.title('Training and Validation Loss')\n",
        "plt.show()"
      ],
      "metadata": {
        "colab": {
          "base_uri": "https://localhost:8080/",
          "height": 487
        },
        "id": "_5RrpN7A9-6U",
        "outputId": "67f7f238-c3b2-41ae-f626-a0fd9147bf7d"
      },
      "id": "_5RrpN7A9-6U",
      "execution_count": null,
      "outputs": [
        {
          "output_type": "display_data",
          "data": {
            "text/plain": [
              "<Figure size 1000x500 with 1 Axes>"
            ],
            "image/png": "[encoded data removed]"
          },
          "metadata": {}
        }
      ]
    },
    {
      "cell_type": "code",
      "source": [
        "# Plot training and validation accuracy\n",
        "plt.figure(figsize=(10, 5))\n",
        "plt.plot(train_accuracies, label='Training Accuracy')\n",
        "plt.plot(valid_accuracies, label='Validation Accuracy')\n",
        "plt.xlabel('Epoch')\n",
        "plt.ylabel('Accuracy')\n",
        "plt.legend()\n",
        "plt.title('Training and Validation Accuracy')\n",
        "plt.show()"
      ],
      "metadata": {
        "colab": {
          "base_uri": "https://localhost:8080/",
          "height": 487
        },
        "id": "3tjI5q-V-BzA",
        "outputId": "ce4ba9cf-4e60-4ae8-db4b-4a5db0aa165c"
      },
      "id": "3tjI5q-V-BzA",
      "execution_count": null,
      "outputs": [
        {
          "output_type": "display_data",
          "data": {
            "text/plain": [
              "<Figure size 1000x500 with 1 Axes>"
            ],
            "image/png": "[encoded data removed]"
          },
          "metadata": {}
        }
      ]
    },
    {
      "cell_type": "code",
      "source": [
        "\n",
        "# Hitung rata-rata metrik setelah semua epoch\n",
        "average_train_loss = np.mean(train_losses)\n",
        "average_valid_loss = np.mean(valid_losses)\n",
        "average_train_accuracy = np.mean(train_accuracies)\n",
        "average_valid_accuracy = np.mean(valid_accuracies)\n",
        "average_train_precision = np.mean(train_precisions) # Calculate mean from stored values\n",
        "average_valid_precision = np.mean(valid_precisions) # Calculate mean from stored values\n",
        "average_train_recall = np.mean(train_recalls)     # Calculate mean from stored values\n",
        "average_valid_recall = np.mean(valid_recalls)     # Calculate mean from stored values\n",
        "average_train_f1 = np.mean(train_f1s)           # Calculate mean from stored values\n",
        "average_valid_f1 = np.mean(valid_f1s)           # Calculate mean from stored values\n",
        "\n",
        "\n",
        "\n",
        "# Display results training\n",
        "print('--------------')\n",
        "print(f'Training Accuracy: {average_train_accuracy:.2f}%')\n",
        "print(f'Training Loss: {average_train_loss:.4f}')\n",
        "print(f'Training Precision: {average_train_precision:.4f}')\n",
        "print(f'Training Recall: {average_train_recall:.4f}')\n",
        "print(f'Training F1-Score: {average_train_f1:.4f}')\n",
        "\n",
        "\n",
        "# Display results validasi\n",
        "print('--------------')\n",
        "print(f'Validation Accuracy: {average_valid_accuracy:.2f}%')\n",
        "print(f'Validation Loss: {average_valid_loss:.4f}')\n",
        "print(f'Validation Precision: {average_valid_precision:.4f}')\n",
        "print(f'Validation Recall: {average_valid_recall:.4f}')\n",
        "print(f'Validation F1-Score: {average_valid_f1:.4f}')"
      ],
      "metadata": {
        "colab": {
          "base_uri": "https://localhost:8080/"
        },
        "id": "wABVz9AQ-IQw",
        "outputId": "d5e92c75-32cc-48dc-b381-73d8658da409"
      },
      "id": "wABVz9AQ-IQw",
      "execution_count": null,
      "outputs": [
        {
          "output_type": "stream",
          "name": "stdout",
          "text": [
            "--------------\n",
            "Training Accuracy: 90.95%\n",
            "Training Loss: 0.2364\n",
            "Training Precision: 0.9081\n",
            "Training Recall: 0.9095\n",
            "Training F1-Score: 0.9043\n",
            "--------------\n",
            "Validation Accuracy: 77.00%\n",
            "Validation Loss: 0.6776\n",
            "Validation Precision: 0.8280\n",
            "Validation Recall: 0.7700\n",
            "Validation F1-Score: 0.7642\n"
          ]
        }
      ]
    },
    {
      "cell_type": "code",
      "source": [
        "def debug_pruned_weights(model):\n",
        "    \"\"\"\n",
        "    Print out the number of filters and weights in each layer to ensure pruning is correctly applied.\n",
        "    \"\"\"\n",
        "    for name, module in model.named_modules():\n",
        "        if isinstance(module, nn.Conv2d):\n",
        "            print(f\"Layer: {name}, Weights Shape: {module.weight.shape}\")\n",
        "\n",
        "# Periksa model setelah pruning\n",
        "debug_pruned_weights(pruned_model_resnet)\n"
      ],
      "metadata": {
        "colab": {
          "base_uri": "https://localhost:8080/"
        },
        "id": "ba4EgMHcoRQL",
        "outputId": "025a18de-0b3b-4ad1-dc04-fbe64432ea6d"
      },
      "id": "ba4EgMHcoRQL",
      "execution_count": null,
      "outputs": [
        {
          "output_type": "stream",
          "name": "stdout",
          "text": [
            "Layer: features.0, Weights Shape: torch.Size([57, 3, 7, 7])\n",
            "Layer: features.4.0.conv1, Weights Shape: torch.Size([57, 57, 1, 1])\n",
            "Layer: features.4.0.conv2, Weights Shape: torch.Size([57, 57, 3, 3])\n",
            "Layer: features.4.0.conv3, Weights Shape: torch.Size([230, 57, 1, 1])\n",
            "Layer: features.4.0.downsample.0, Weights Shape: torch.Size([230, 57, 1, 1])\n",
            "Layer: features.4.1.conv1, Weights Shape: torch.Size([57, 230, 1, 1])\n",
            "Layer: features.4.1.conv2, Weights Shape: torch.Size([57, 57, 3, 3])\n",
            "Layer: features.4.1.conv3, Weights Shape: torch.Size([230, 57, 1, 1])\n",
            "Layer: features.4.2.conv1, Weights Shape: torch.Size([57, 230, 1, 1])\n",
            "Layer: features.4.2.conv2, Weights Shape: torch.Size([57, 57, 3, 3])\n",
            "Layer: features.4.2.conv3, Weights Shape: torch.Size([230, 57, 1, 1])\n",
            "Layer: features.5.0.conv1, Weights Shape: torch.Size([115, 230, 1, 1])\n",
            "Layer: features.5.0.conv2, Weights Shape: torch.Size([115, 115, 3, 3])\n",
            "Layer: features.5.0.conv3, Weights Shape: torch.Size([460, 115, 1, 1])\n",
            "Layer: features.5.0.downsample.0, Weights Shape: torch.Size([460, 230, 1, 1])\n",
            "Layer: features.5.1.conv1, Weights Shape: torch.Size([115, 460, 1, 1])\n",
            "Layer: features.5.1.conv2, Weights Shape: torch.Size([115, 115, 3, 3])\n",
            "Layer: features.5.1.conv3, Weights Shape: torch.Size([460, 115, 1, 1])\n",
            "Layer: features.5.2.conv1, Weights Shape: torch.Size([115, 460, 1, 1])\n",
            "Layer: features.5.2.conv2, Weights Shape: torch.Size([115, 115, 3, 3])\n",
            "Layer: features.5.2.conv3, Weights Shape: torch.Size([460, 115, 1, 1])\n",
            "Layer: features.5.3.conv1, Weights Shape: torch.Size([115, 460, 1, 1])\n",
            "Layer: features.5.3.conv2, Weights Shape: torch.Size([115, 115, 3, 3])\n",
            "Layer: features.5.3.conv3, Weights Shape: torch.Size([460, 115, 1, 1])\n",
            "Layer: features.6.0.conv1, Weights Shape: torch.Size([230, 460, 1, 1])\n",
            "Layer: features.6.0.conv2, Weights Shape: torch.Size([230, 230, 3, 3])\n",
            "Layer: features.6.0.conv3, Weights Shape: torch.Size([921, 230, 1, 1])\n",
            "Layer: features.6.0.downsample.0, Weights Shape: torch.Size([921, 460, 1, 1])\n",
            "Layer: features.6.1.conv1, Weights Shape: torch.Size([230, 921, 1, 1])\n",
            "Layer: features.6.1.conv2, Weights Shape: torch.Size([230, 230, 3, 3])\n",
            "Layer: features.6.1.conv3, Weights Shape: torch.Size([921, 230, 1, 1])\n",
            "Layer: features.6.2.conv1, Weights Shape: torch.Size([230, 921, 1, 1])\n",
            "Layer: features.6.2.conv2, Weights Shape: torch.Size([230, 230, 3, 3])\n",
            "Layer: features.6.2.conv3, Weights Shape: torch.Size([921, 230, 1, 1])\n",
            "Layer: features.6.3.conv1, Weights Shape: torch.Size([230, 921, 1, 1])\n",
            "Layer: features.6.3.conv2, Weights Shape: torch.Size([230, 230, 3, 3])\n",
            "Layer: features.6.3.conv3, Weights Shape: torch.Size([921, 230, 1, 1])\n",
            "Layer: features.6.4.conv1, Weights Shape: torch.Size([230, 921, 1, 1])\n",
            "Layer: features.6.4.conv2, Weights Shape: torch.Size([230, 230, 3, 3])\n",
            "Layer: features.6.4.conv3, Weights Shape: torch.Size([921, 230, 1, 1])\n",
            "Layer: features.6.5.conv1, Weights Shape: torch.Size([230, 921, 1, 1])\n",
            "Layer: features.6.5.conv2, Weights Shape: torch.Size([230, 230, 3, 3])\n",
            "Layer: features.6.5.conv3, Weights Shape: torch.Size([921, 230, 1, 1])\n",
            "Layer: features.7.0.conv1, Weights Shape: torch.Size([460, 921, 1, 1])\n",
            "Layer: features.7.0.conv2, Weights Shape: torch.Size([460, 460, 3, 3])\n",
            "Layer: features.7.0.conv3, Weights Shape: torch.Size([1843, 460, 1, 1])\n",
            "Layer: features.7.0.downsample.0, Weights Shape: torch.Size([1843, 921, 1, 1])\n",
            "Layer: features.7.1.conv1, Weights Shape: torch.Size([460, 1843, 1, 1])\n",
            "Layer: features.7.1.conv2, Weights Shape: torch.Size([460, 460, 3, 3])\n",
            "Layer: features.7.1.conv3, Weights Shape: torch.Size([1843, 460, 1, 1])\n",
            "Layer: features.7.2.conv1, Weights Shape: torch.Size([460, 1843, 1, 1])\n",
            "Layer: features.7.2.conv2, Weights Shape: torch.Size([460, 460, 3, 3])\n",
            "Layer: features.7.2.conv3, Weights Shape: torch.Size([1843, 460, 1, 1])\n"
          ]
        }
      ]
    },
    {
      "cell_type": "code",
      "source": [
        "# Test the model\n",
        "\n",
        "pruned_model_resnet.load_state_dict(torch.load('/content/drive/MyDrive/Best-pruning-model/11-iterasi-fine_tuned_pruned_resnet-10-0,001.pth'))\n",
        "pruned_model_resnet.eval()\n",
        "\n",
        "# Start timer for testing\n",
        "start_test_time = time.time()\n",
        "\n",
        "test_loss = 0\n",
        "all_test_preds = []\n",
        "all_test_labels = []\n",
        "correct = 0\n",
        "total = 0\n",
        "with torch.no_grad():\n",
        "  for images, labels in tqdm(test_loader, desc='Testing'):\n",
        "    images, labels = images.to(device), labels.to(device)\n",
        "\n",
        "    # Convert grayscale images to 3 channels\n",
        "    if images.size(1) == 1:\n",
        "      images = images.repeat(1, 3, 1, 1)\n",
        "\n",
        "    outputs = pruned_model_resnet(images)\n",
        "    loss = criterion(outputs, labels)\n",
        "    test_loss += loss.item()\n",
        "\n",
        "    all_test_preds.append(outputs)\n",
        "    all_test_labels.append(labels)\n",
        "\n",
        "    _, predicted = torch.max(outputs.data, 1)\n",
        "    total += labels.size(0)\n",
        "    correct += (predicted == labels).sum().item()\n",
        "\n",
        "test_loss /= len(test_loader)\n",
        "test_accuracy, test_precision, test_recall, test_f1 = calculate_metrics(torch.cat(all_test_preds), torch.cat(all_test_labels))\n",
        "print(\"\\n---------------------------------------------------------------------------------------------\\n\")\n",
        "print(f\"Test Loss: {test_loss:.4f}, Accuracy: {test_accuracy:.2f}%, Precision: {test_precision:.4f}, Recall: {test_recall:.4f}, F1-Score: {test_f1:.4f}\")\n",
        "\n",
        "# End timer for testing and print the total time\n",
        "end_test_time = time.time()\n",
        "total_testing_time = end_test_time - start_test_time\n",
        "print(f\"Total Testing Time: {total_testing_time:.2f} seconds\")"
      ],
      "metadata": {
        "colab": {
          "base_uri": "https://localhost:8080/"
        },
        "id": "9MFAMesvra2O",
        "outputId": "dca96344-48eb-4abc-a30e-bb37a74a4a4b"
      },
      "id": "9MFAMesvra2O",
      "execution_count": null,
      "outputs": [
        {
          "output_type": "stream",
          "name": "stderr",
          "text": [
            "<ipython-input-13-9efca0bb5318>:3: FutureWarning: You are using `torch.load` with `weights_only=False` (the current default value), which uses the default pickle module implicitly. It is possible to construct malicious pickle data which will execute arbitrary code during unpickling (See https://github.com/pytorch/pytorch/blob/main/SECURITY.md#untrusted-models for more details). In a future release, the default value for `weights_only` will be flipped to `True`. This limits the functions that could be executed during unpickling. Arbitrary objects will no longer be allowed to be loaded via this mode unless they are explicitly allowlisted by the user via `torch.serialization.add_safe_globals`. We recommend you start setting `weights_only=True` for any use case where you don't have full control of the loaded file. Please open an issue on GitHub for any issues related to this experimental feature.\n",
            "  pruned_model_resnet.load_state_dict(torch.load('/content/drive/MyDrive/Best-pruning-model/fine_tuned_pruned_resnet-10-0,0001.pth'))\n",
            "Testing: 100%|██████████| 40/40 [00:01<00:00, 21.38it/s]"
          ]
        },
        {
          "output_type": "stream",
          "name": "stdout",
          "text": [
            "\n",
            "---------------------------------------------------------------------------------------------\n",
            "\n",
            "Test Loss: 0.5852, Accuracy: 82.86%, Precision: 0.8461, Recall: 0.8286, F1-Score: 0.8301\n",
            "Total Testing Time: 1.89 seconds\n"
          ]
        },
        {
          "output_type": "stream",
          "name": "stderr",
          "text": [
            "\n"
          ]
        }
      ]
    },
    {
      "cell_type": "code",
      "source": [
        "# Path dinamis untuk memuat model terbaik\n",
        "#best_model_file = '/content/drive/MyDrive/Chest-CT-Data/best-model-vgg-clahe-0,001.pth' if IN_COLAB else 'best-model.pth'\n",
        "# Start testing time\n",
        "testing_start_time = time.time()\n",
        "\n",
        "# Load the best model\n",
        "pruned_model_resnet.load_state_dict(torch.load('/content/drive/MyDrive/Best-pruning-model/11-iterasi-fine_tuned_pruned_resnet-10-0,001.pth'))\n",
        "pruned_model_resnet.eval()\n",
        "\n",
        "# Define class labels corresponding to the numerical labels\n",
        "class_labels = [\n",
        "    'Adenocarcinoma',\n",
        "    'Large Cell Carcinoma',\n",
        "    'Normal',\n",
        "    'Squamous Cell Carcinoma'\n",
        "]\n",
        "\n",
        "predicted_probabilities = []\n",
        "true_labels = []\n",
        "\n",
        "test_loader_tqdm = tqdm(test_loader, desc=\"Testing\")\n",
        "with torch.no_grad():\n",
        "    for images, labels in test_loader_tqdm:\n",
        "        images, labels = images.to(device), labels.to(device)\n",
        "        if images.dim() == 3:\n",
        "            images = images.unsqueeze(1)\n",
        "        images = images.repeat(1, 3, 1, 1)\n",
        "        outputs = pruned_model_resnet(images)\n",
        "        loss = criterion(outputs, labels)\n",
        "        probabilities = nn.functional.softmax(outputs, dim=1)\n",
        "        predicted_probabilities.append(probabilities)\n",
        "        true_labels.append(labels)\n",
        "        #test_loader_tqdm.set_postfix({\"Batch Size\": len(labels)})\n",
        "\n",
        "# End testing time\n",
        "total_testing_time = time.time() - testing_start_time\n",
        "print(f\"Total testing time: {total_testing_time:.2f} seconds\")\n",
        "\n",
        "# Calculate evaluation metrics\n",
        "predicted_probabilities = torch.cat(predicted_probabilities)\n",
        "true_labels = torch.cat(true_labels)\n",
        "predicted_labels = torch.argmax(predicted_probabilities, dim=1)\n",
        "\n",
        "accuracy = (predicted_labels == true_labels).float().mean().item()\n",
        "precision = precision_score(true_labels.cpu(), predicted_labels.cpu(), average='weighted')\n",
        "recall = recall_score(true_labels.cpu(), predicted_labels.cpu(), average='weighted')\n",
        "f1 = f1_score(true_labels.cpu(), predicted_labels.cpu(), average='weighted')\n",
        "conf_matrix = confusion_matrix(true_labels.cpu(), predicted_labels.cpu())\n",
        "\n",
        "# Display results\n",
        "print(f'Test Accuracy: {accuracy * 100:.2f}%')\n",
        "print(f'Test Loss: {loss:.4f}')\n",
        "print(f'Precision: {precision:.4f}')\n",
        "print(f'Recall: {recall:.4f}')\n",
        "print(f'F1-Score: {f1:.4f}')\n",
        "print(f'Confusion Matrix:\\n{conf_matrix}')\n",
        "\n",
        "# Plot confusion matrix using Matplotlib\n",
        "fig, ax = plt.subplots(figsize=(12, 9))\n",
        "cax = ax.matshow(conf_matrix, cmap='Blues')\n",
        "\n",
        "# Menampilkan angka pada setiap sel dengan outline putih\n",
        "for (i, j), val in np.ndenumerate(conf_matrix):\n",
        "    text = ax.text(j, i, f'{val}', ha='center', va='center', color='black', fontsize=20, fontweight='bold')\n",
        "\n",
        "    # Menambahkan outline putih di sekitar angka\n",
        "    text.set_path_effects([path_effects.Stroke(linewidth=3, foreground='white'),\n",
        "                           path_effects.Normal()])\n",
        "\n",
        "fig.colorbar(cax)\n",
        "\n",
        "# Set ticks dan ticklabels\n",
        "ax.set_xticks(np.arange(len(class_labels)))\n",
        "ax.set_yticks(np.arange(len(class_labels)))\n",
        "ax.set_xticklabels(class_labels)\n",
        "ax.set_yticklabels(class_labels)\n",
        "\n",
        "plt.xlabel('Predicted Labels')\n",
        "plt.ylabel('True Labels')\n",
        "plt.title('Confusion Matrix')\n",
        "plt.show()\n",
        "\n",
        "\n",
        "# Total time for the whole process\n",
        "#total_process_time = total_training_time + total_testing_time\n",
        "#print(f\"Total process time (training + testing): {total_process_time:.2f} seconds\")\n"
      ],
      "metadata": {
        "colab": {
          "base_uri": "https://localhost:8080/",
          "height": 1000
        },
        "id": "d9KfmHEkF6dZ",
        "outputId": "f73338a7-da83-43e4-c863-72f2f51b7786"
      },
      "id": "d9KfmHEkF6dZ",
      "execution_count": null,
      "outputs": [
        {
          "output_type": "stream",
          "name": "stderr",
          "text": [
            "<ipython-input-14-e2c4ee36997a>:7: FutureWarning: You are using `torch.load` with `weights_only=False` (the current default value), which uses the default pickle module implicitly. It is possible to construct malicious pickle data which will execute arbitrary code during unpickling (See https://github.com/pytorch/pytorch/blob/main/SECURITY.md#untrusted-models for more details). In a future release, the default value for `weights_only` will be flipped to `True`. This limits the functions that could be executed during unpickling. Arbitrary objects will no longer be allowed to be loaded via this mode unless they are explicitly allowlisted by the user via `torch.serialization.add_safe_globals`. We recommend you start setting `weights_only=True` for any use case where you don't have full control of the loaded file. Please open an issue on GitHub for any issues related to this experimental feature.\n",
            "  pruned_model_resnet.load_state_dict(torch.load('/content/drive/MyDrive/Best-pruning-model/fine_tuned_pruned_resnet-10-0,0001.pth'))\n",
            "Testing: 100%|██████████| 40/40 [00:01<00:00, 27.32it/s]\n"
          ]
        },
        {
          "output_type": "stream",
          "name": "stdout",
          "text": [
            "Total testing time: 1.66 seconds\n",
            "Test Accuracy: 82.86%\n",
            "Test Loss: 0.0754\n",
            "Precision: 0.8461\n",
            "Recall: 0.8286\n",
            "F1-Score: 0.8301\n",
            "Confusion Matrix:\n",
            "[[90 15  0 15]\n",
            " [ 1 50  0  0]\n",
            " [ 3  0 51  0]\n",
            " [ 9 11  0 70]]\n"
          ]
        },
        {
          "output_type": "display_data",
          "data": {
            "text/plain": [
              "<Figure size 1200x900 with 2 Axes>"
            ],
            "image/png": "[encoded data removed]"
          },
          "metadata": {}
        }
      ]
    },
    {
      "cell_type": "markdown",
      "source": [
        "![image.png](data:image/png;base64,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)"
      ],
      "metadata": {
        "id": "xTjhGDRjleif"
      },
      "id": "xTjhGDRjleif"
    },
    {
      "cell_type": "markdown",
      "source": [
        "![image.png](data:image/png;base64,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)"
      ],
      "metadata": {
        "id": "UUiD5vEplhtg"
      },
      "id": "UUiD5vEplhtg"
    },
    {
      "cell_type": "markdown",
      "source": [
        "![image.png](data:image/png;base64,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)"
      ],
      "metadata": {
        "id": "WECRmZfqlkTB"
      },
      "id": "WECRmZfqlkTB"
    },
    {
      "cell_type": "code",
      "source": [
        "# Test the model\n",
        "\n",
        "pruned_model_resnet.load_state_dict(torch.load('/content/drive/MyDrive/Best-pruning-model/11-iterasi-best-pruned-resnet-10-0,001.pth'))\n",
        "pruned_model_resnet.eval()\n",
        "\n",
        "test_loss = 0\n",
        "all_test_preds = []\n",
        "all_test_labels = []\n",
        "correct = 0\n",
        "total = 0\n",
        "with torch.no_grad():\n",
        "  for images, labels in tqdm(test_loader, desc='Testing'):\n",
        "    images, labels = images.to(device), labels.to(device)\n",
        "\n",
        "    # Convert grayscale images to 3 channels\n",
        "    if images.size(1) == 1:\n",
        "      images = images.repeat(1, 3, 1, 1)\n",
        "\n",
        "    outputs = pruned_model_resnet(images)\n",
        "    loss = criterion(outputs, labels)\n",
        "    test_loss += loss.item()\n",
        "\n",
        "    all_test_preds.append(outputs)\n",
        "    all_test_labels.append(labels)\n",
        "\n",
        "    _, predicted = torch.max(outputs.data, 1)\n",
        "    total += labels.size(0)\n",
        "    correct += (predicted == labels).sum().item()\n",
        "\n",
        "test_loss /= len(test_loader)\n",
        "test_accuracy, test_precision, test_recall, test_f1 = calculate_metrics(torch.cat(all_test_preds), torch.cat(all_test_labels))\n",
        "print(\"\\n---------------------------------------------------------------------------------------------\\n\")\n",
        "print(f\"Test Loss: {test_loss:.4f}, Accuracy: {test_accuracy:.2f}%, Precision: {test_precision:.4f}, Recall: {test_recall:.4f}, F1-Score: {test_f1:.4f}\")"
      ],
      "metadata": {
        "colab": {
          "base_uri": "https://localhost:8080/"
        },
        "id": "g-i-6qBB_VzE",
        "outputId": "ea488df3-90fb-4c8c-c78e-1cc73047de0b"
      },
      "id": "g-i-6qBB_VzE",
      "execution_count": null,
      "outputs": [
        {
          "output_type": "stream",
          "name": "stderr",
          "text": [
            "<ipython-input-15-ab301a7adff8>:3: FutureWarning: You are using `torch.load` with `weights_only=False` (the current default value), which uses the default pickle module implicitly. It is possible to construct malicious pickle data which will execute arbitrary code during unpickling (See https://github.com/pytorch/pytorch/blob/main/SECURITY.md#untrusted-models for more details). In a future release, the default value for `weights_only` will be flipped to `True`. This limits the functions that could be executed during unpickling. Arbitrary objects will no longer be allowed to be loaded via this mode unless they are explicitly allowlisted by the user via `torch.serialization.add_safe_globals`. We recommend you start setting `weights_only=True` for any use case where you don't have full control of the loaded file. Please open an issue on GitHub for any issues related to this experimental feature.\n",
            "  pruned_model_resnet.load_state_dict(torch.load('/content/drive/MyDrive/Best-pruning-model/best-pruned-resnet-10-0,0001.pth'))\n",
            "Testing: 100%|██████████| 40/40 [00:02<00:00, 19.24it/s]"
          ]
        },
        {
          "output_type": "stream",
          "name": "stdout",
          "text": [
            "\n",
            "---------------------------------------------------------------------------------------------\n",
            "\n",
            "Test Loss: 0.6166, Accuracy: 80.00%, Precision: 0.8112, Recall: 0.8000, F1-Score: 0.7982\n"
          ]
        },
        {
          "output_type": "stream",
          "name": "stderr",
          "text": [
            "\n"
          ]
        }
      ]
    },
    {
      "cell_type": "code",
      "execution_count": null,
      "id": "60762bdf",
      "metadata": {
        "id": "60762bdf"
      },
      "outputs": [],
      "source": []
    }
  ],
  "metadata": {
    "accelerator": "GPU",
    "colab": {
      "gpuType": "T4",
      "provenance": []
    },
    "kernelspec": {
      "display_name": "Python 3",
      "name": "python3"
    },
    "language_info": {
      "codemirror_mode": {
        "name": "ipython",
        "version": 3
      },
      "file_extension": ".py",
      "mimetype": "text/x-python",
      "name": "python",
      "nbconvert_exporter": "python",
      "pygments_lexer": "ipython3",
      "version": "3.9.13"
    }
  },
  "nbformat": 4,
  "nbformat_minor": 5
}
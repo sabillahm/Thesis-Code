{
  "cells": [
    {
      "cell_type": "markdown",
      "id": "4d2e2710",
      "metadata": {
        "id": "4d2e2710"
      },
      "source": [
        "Iterasi ke 3, akurasi terbaik"
      ]
    },
    {
      "cell_type": "markdown",
      "id": "30536ba6-e5ef-4e4a-8334-fdc16153a88b",
      "metadata": {
        "id": "30536ba6-e5ef-4e4a-8334-fdc16153a88b"
      },
      "source": [
        "# Cell 1: Import Libraries and Setup Device\n",
        "\"\"\"\n",
        "This cell imports all the necessary libraries and sets up the device for GPU computation if available.\n",
        "We are using PyTorch for deep learning, OpenCV for image processing, and Matplotlib/Seaborn for visualization.\n",
        "\"\"\""
      ]
    },
    {
      "cell_type": "code",
      "execution_count": null,
      "id": "95a797c4-eac9-4297-ab3a-d604f3c97bb0",
      "metadata": {
        "colab": {
          "base_uri": "https://localhost:8080/"
        },
        "id": "95a797c4-eac9-4297-ab3a-d604f3c97bb0",
        "outputId": "6b815653-7c53-4e26-d4c5-754b5e3fffa1"
      },
      "outputs": [
        {
          "output_type": "stream",
          "name": "stdout",
          "text": [
            "Using device: cuda\n",
            "Mounted at /content/drive\n"
          ]
        }
      ],
      "source": [
        "import torch\n",
        "import torch.nn as nn\n",
        "import torch.optim as optim\n",
        "from torch.utils.data import DataLoader, Dataset\n",
        "from torchvision import models, transforms\n",
        "import cv2\n",
        "from torchvision.transforms import v2\n",
        "import matplotlib.pyplot as plt\n",
        "import matplotlib.patheffects as path_effects\n",
        "from tqdm import tqdm\n",
        "import os\n",
        "import numpy as np\n",
        "import time\n",
        "from sklearn.metrics import precision_score, recall_score, f1_score, confusion_matrix\n",
        "import seaborn as sns\n",
        "\n",
        "# Cek apakah kode dijalankan di Google Colab\n",
        "IN_COLAB = 'google.colab' in str(get_ipython())\n",
        "\n",
        "# Cek apakah GPU tersedia, jika tidak gunakan CPU\n",
        "device = torch.device('cuda' if torch.cuda.is_available() else 'cpu')\n",
        "print(f'Using device: {device}')\n",
        "\n",
        "# Mount Google Drive jika menggunakan Google Colab\n",
        "if IN_COLAB:\n",
        "    from google.colab import drive\n",
        "    drive.mount('/content/drive')\n"
      ]
    },
    {
      "cell_type": "markdown",
      "id": "5ecb4d58-7a41-404e-921f-59c8133c02a4",
      "metadata": {
        "id": "5ecb4d58-7a41-404e-921f-59c8133c02a4"
      },
      "source": [
        "# Cell 2: Define Data Loading and Preprocessing Functions\n",
        "\"\"\"\n",
        "This cell contains functions to load and preprocess images from the dataset.\n",
        "The `load_data` function loads images from the specified directory and assigns labels based on the folder structure.\n",
        "The `preprocess_image` function applies CLAHE and unsharp masking to enhance image quality.\n",
        "The `CustomDataset` class integrates these functions and prepares the dataset for use in PyTorch.\n",
        "\"\"\""
      ]
    },
    {
      "cell_type": "code",
      "execution_count": null,
      "id": "cca994b4-b0e2-4faa-8519-5a473288e647",
      "metadata": {
        "id": "cca994b4-b0e2-4faa-8519-5a473288e647"
      },
      "outputs": [],
      "source": [
        "def load_data(dataset_path, subset):\n",
        "    images = []\n",
        "    labels = []\n",
        "\n",
        "    # Tentukan label sesuai dengan subset\n",
        "\n",
        "    label_names = ['adenocarcinoma', 'large.cell.carcinoma', 'normal', 'squamous.cell.carcinoma']\n",
        "\n",
        "\n",
        "\n",
        "    # Pemetaan nama label ke indeks\n",
        "    label_map = {name: idx for idx, name in enumerate(label_names)}\n",
        "\n",
        "    subset_path = os.path.join(dataset_path, subset)\n",
        "    for label_name in label_names:\n",
        "        image_dir = os.path.join(subset_path, label_name)\n",
        "        if not os.path.exists(image_dir):\n",
        "            raise FileNotFoundError(f\"Directory not found: {image_dir}\")\n",
        "        for file_name in os.listdir(image_dir):\n",
        "            if file_name.endswith('.png'):  # Cek jika file adalah gambar PNG\n",
        "                image_path = os.path.join(image_dir, file_name)\n",
        "                image = cv2.imread(image_path, cv2.IMREAD_GRAYSCALE)\n",
        "                if image is None:\n",
        "                    print(f\"Warning: Unable to load image {image_path}\")\n",
        "                    continue\n",
        "                images.append(image)\n",
        "                labels.append(label_map[label_name])\n",
        "                print(f\"Loaded image {image_path}\")\n",
        "    return images, labels\n",
        "\n",
        "def preprocess_image(image):\n",
        "    if image is None or image.size == 0:\n",
        "        raise ValueError(\"Empty image provided for preprocessing\")\n",
        "\n",
        "    # Terapkan CLAHE untuk meningkatkan kontras\n",
        "    #clahe = cv2.createCLAHE(clipLimit=2.0, tileGridSize=(8, 8))\n",
        "    clahe = cv2.createCLAHE(clipLimit=2.5, tileGridSize=(10, 10))\n",
        "\n",
        "    clahe_image = clahe.apply(image)\n",
        "\n",
        "    # Terapkan Gaussian Blur untuk menghaluskan gambar\n",
        "    #gaussian = cv2.GaussianBlur(image, (9, 9), 10.0)\n",
        "    # Terapkan Unsharp Masking untuk meningkatkan ketajaman gambar\n",
        "    #unsharp_image = cv2.addWeighted(clahe_image, 1.5, gaussian, -0.5, 0, clahe_image)\n",
        "    #unsharp_image = cv2.addWeighted(gaussian, 1.5, gaussian, -0.5, 0)\n",
        "\n",
        "    return clahe_image\n",
        "\n",
        "class CustomDataset(Dataset):\n",
        "    def __init__(self, images, labels, transform=None):\n",
        "        self.images = images\n",
        "        self.labels = labels\n",
        "        self.transform = transform\n",
        "\n",
        "    def __len__(self):\n",
        "        return len(self.images)\n",
        "\n",
        "    def __getitem__(self, idx):\n",
        "        image = self.images[idx]\n",
        "        label = self.labels[idx]\n",
        "        try:\n",
        "            # Proses gambar\n",
        "            image = preprocess_image(image)\n",
        "        except ValueError as e:\n",
        "            print(f\"Error preprocessing image at index {idx}: {e}\")\n",
        "            plt.imshow(image, cmap='gray')\n",
        "            plt.title(f\"Label: {label}\")\n",
        "            plt.show()\n",
        "            raise e\n",
        "        # Terapkan transformasi jika ada\n",
        "        if self.transform:\n",
        "            image = self.transform(image)\n",
        "        if image.dim() == 2:  # Pastikan gambar memiliki 3 dimensi\n",
        "            image = image.unsqueeze(0)\n",
        "        return image, label\n"
      ]
    },
    {
      "cell_type": "markdown",
      "id": "df44014e-ffbf-42f2-a213-c2f28a911926",
      "metadata": {
        "id": "df44014e-ffbf-42f2-a213-c2f28a911926"
      },
      "source": [
        "# Cell 3: Load and Transform Data\n",
        "\"\"\"\n",
        "This cell loads the data and applies the necessary transformations.\n",
        "The dataset is divided into training, validation, and test sets.\n",
        "Each image is transformed into a 224x224 size tensor suitable for input to the VGG-16 model.\n",
        "\"\"\""
      ]
    },
    {
      "cell_type": "code",
      "execution_count": null,
      "id": "mrStcymcr40g",
      "metadata": {
        "colab": {
          "base_uri": "https://localhost:8080/"
        },
        "id": "mrStcymcr40g",
        "outputId": "1c6ed844-168d-4eaa-e3b1-fcd61737c753"
      },
      "outputs": [
        {
          "output_type": "stream",
          "name": "stdout",
          "text": [
            "Loaded image /content/drive/MyDrive/Chest-CT-Data/train/adenocarcinoma/ad12.png\n",
            "Loaded image /content/drive/MyDrive/Chest-CT-Data/train/adenocarcinoma/000104 (10).png\n",
            "Loaded image /content/drive/MyDrive/Chest-CT-Data/train/adenocarcinoma/000118 (4).png\n",
            "Loaded image /content/drive/MyDrive/Chest-CT-Data/train/adenocarcinoma/ad21.png\n",
            "Loaded image /content/drive/MyDrive/Chest-CT-Data/train/adenocarcinoma/000107 (9).png\n",
            "Loaded image /content/drive/MyDrive/Chest-CT-Data/train/adenocarcinoma/000102 (7).png\n",
            "Loaded image /content/drive/MyDrive/Chest-CT-Data/train/adenocarcinoma/000097 (2).png\n",
            "Loaded image /content/drive/MyDrive/Chest-CT-Data/train/adenocarcinoma/000106 (10).png\n",
            "Loaded image /content/drive/MyDrive/Chest-CT-Data/train/adenocarcinoma/000101 (7).png\n",
            "Loaded image /content/drive/MyDrive/Chest-CT-Data/train/adenocarcinoma/000105 (4).png\n",
            "Loaded image /content/drive/MyDrive/Chest-CT-Data/train/adenocarcinoma/ad2.png\n",
            "Loaded image /content/drive/MyDrive/Chest-CT-Data/train/adenocarcinoma/000122.png\n",
            "Loaded image /content/drive/MyDrive/Chest-CT-Data/train/adenocarcinoma/000106 (4).png\n",
            "Loaded image /content/drive/MyDrive/Chest-CT-Data/train/adenocarcinoma/000102 (2).png\n",
            "Loaded image /content/drive/MyDrive/Chest-CT-Data/train/adenocarcinoma/000097 (10).png\n",
            "Loaded image /content/drive/MyDrive/Chest-CT-Data/train/adenocarcinoma/000121 (9).png\n",
            "Loaded image /content/drive/MyDrive/Chest-CT-Data/train/adenocarcinoma/000106 (8).png\n",
            "Loaded image /content/drive/MyDrive/Chest-CT-Data/train/adenocarcinoma/000095.png\n",
            "Loaded image /content/drive/MyDrive/Chest-CT-Data/train/adenocarcinoma/ad1.png\n",
            "Loaded image /content/drive/MyDrive/Chest-CT-Data/train/adenocarcinoma/ad9.png\n",
            "Loaded image /content/drive/MyDrive/Chest-CT-Data/train/adenocarcinoma/000100 (10).png\n",
            "Loaded image /content/drive/MyDrive/Chest-CT-Data/train/adenocarcinoma/ad18.png\n",
            "Loaded image /content/drive/MyDrive/Chest-CT-Data/train/adenocarcinoma/ad11.png\n",
            "Loaded image /content/drive/MyDrive/Chest-CT-Data/train/adenocarcinoma/000119 (10).png\n",
            "Loaded image /content/drive/MyDrive/Chest-CT-Data/train/adenocarcinoma/000118 (6).png\n",
            "Loaded image /content/drive/MyDrive/Chest-CT-Data/train/adenocarcinoma/000102.png\n",
            "Loaded image /content/drive/MyDrive/Chest-CT-Data/train/adenocarcinoma/ad19.png\n",
            "Loaded image /content/drive/MyDrive/Chest-CT-Data/train/adenocarcinoma/000050 (3).png\n",
            "Loaded image /content/drive/MyDrive/Chest-CT-Data/train/adenocarcinoma/000098 (8).png\n",
            "Loaded image /content/drive/MyDrive/Chest-CT-Data/train/adenocarcinoma/ad16.png\n",
            "Loaded image /content/drive/MyDrive/Chest-CT-Data/train/adenocarcinoma/000030 (4).png\n",
            "Loaded image /content/drive/MyDrive/Chest-CT-Data/train/adenocarcinoma/000119 (4).png\n",
            "Loaded image /content/drive/MyDrive/Chest-CT-Data/train/adenocarcinoma/ad10.png\n",
            "Loaded image /content/drive/MyDrive/Chest-CT-Data/train/adenocarcinoma/000097 (3).png\n",
            "Loaded image /content/drive/MyDrive/Chest-CT-Data/train/adenocarcinoma/ad14.png\n",
            "Loaded image /content/drive/MyDrive/Chest-CT-Data/train/adenocarcinoma/000105 (3).png\n",
            "Loaded image /content/drive/MyDrive/Chest-CT-Data/train/adenocarcinoma/ad17.png\n",
            "Loaded image /content/drive/MyDrive/Chest-CT-Data/train/adenocarcinoma/ad3.png\n",
            "Loaded image /content/drive/MyDrive/Chest-CT-Data/train/adenocarcinoma/ad13.png\n",
            "Loaded image /content/drive/MyDrive/Chest-CT-Data/train/adenocarcinoma/000096 (7).png\n",
            "Loaded image /content/drive/MyDrive/Chest-CT-Data/train/adenocarcinoma/ad7.png\n",
            "Loaded image /content/drive/MyDrive/Chest-CT-Data/train/adenocarcinoma/ad4.png\n",
            "Loaded image /content/drive/MyDrive/Chest-CT-Data/train/adenocarcinoma/000005 (3).png\n",
            "Loaded image /content/drive/MyDrive/Chest-CT-Data/train/adenocarcinoma/000098 (5).png\n",
            "Loaded image /content/drive/MyDrive/Chest-CT-Data/train/adenocarcinoma/ad22.png\n",
            "Loaded image /content/drive/MyDrive/Chest-CT-Data/train/adenocarcinoma/000058 (5).png\n",
            "Loaded image /content/drive/MyDrive/Chest-CT-Data/train/adenocarcinoma/000103 (9).png\n",
            "Loaded image /content/drive/MyDrive/Chest-CT-Data/train/adenocarcinoma/000087 (4).png\n",
            "Loaded image /content/drive/MyDrive/Chest-CT-Data/train/adenocarcinoma/ad6.png\n",
            "Loaded image /content/drive/MyDrive/Chest-CT-Data/train/adenocarcinoma/000095 (6).png\n",
            "Loaded image /content/drive/MyDrive/Chest-CT-Data/train/adenocarcinoma/000119 (6).png\n",
            "Loaded image /content/drive/MyDrive/Chest-CT-Data/train/adenocarcinoma/ad15.png\n",
            "Loaded image /content/drive/MyDrive/Chest-CT-Data/train/adenocarcinoma/000121 (10).png\n",
            "Loaded image /content/drive/MyDrive/Chest-CT-Data/train/adenocarcinoma/000021 (4).png\n",
            "Loaded image /content/drive/MyDrive/Chest-CT-Data/train/adenocarcinoma/000121.png\n",
            "Loaded image /content/drive/MyDrive/Chest-CT-Data/train/adenocarcinoma/000105.png\n",
            "Loaded image /content/drive/MyDrive/Chest-CT-Data/train/adenocarcinoma/000099 (7).png\n",
            "Loaded image /content/drive/MyDrive/Chest-CT-Data/train/adenocarcinoma/000040 (3).png\n",
            "Loaded image /content/drive/MyDrive/Chest-CT-Data/train/adenocarcinoma/000035 (4).png\n",
            "Loaded image /content/drive/MyDrive/Chest-CT-Data/train/adenocarcinoma/000034 (6).png\n",
            "Loaded image /content/drive/MyDrive/Chest-CT-Data/train/adenocarcinoma/000081 (2).png\n",
            "Loaded image /content/drive/MyDrive/Chest-CT-Data/train/adenocarcinoma/000015 (10).png\n",
            "Loaded image /content/drive/MyDrive/Chest-CT-Data/train/adenocarcinoma/000015 (9).png\n",
            "Loaded image /content/drive/MyDrive/Chest-CT-Data/train/adenocarcinoma/000029 (4).png\n",
            "Loaded image /content/drive/MyDrive/Chest-CT-Data/train/adenocarcinoma/000040 (5).png\n",
            "Loaded image /content/drive/MyDrive/Chest-CT-Data/train/adenocarcinoma/000092 (10).png\n",
            "Loaded image /content/drive/MyDrive/Chest-CT-Data/train/adenocarcinoma/000024 (10).png\n",
            "Loaded image /content/drive/MyDrive/Chest-CT-Data/train/adenocarcinoma/000022 (9).png\n",
            "Loaded image /content/drive/MyDrive/Chest-CT-Data/train/adenocarcinoma/000016 (9).png\n",
            "Loaded image /content/drive/MyDrive/Chest-CT-Data/train/adenocarcinoma/000104 (4).png\n",
            "Loaded image /content/drive/MyDrive/Chest-CT-Data/train/adenocarcinoma/000019 (5).png\n",
            "Loaded image /content/drive/MyDrive/Chest-CT-Data/train/adenocarcinoma/000022 (8).png\n",
            "Loaded image /content/drive/MyDrive/Chest-CT-Data/train/adenocarcinoma/ad5.png\n",
            "Loaded image /content/drive/MyDrive/Chest-CT-Data/train/adenocarcinoma/000024 (7).png\n",
            "Loaded image /content/drive/MyDrive/Chest-CT-Data/train/adenocarcinoma/000084 (3).png\n",
            "Loaded image /content/drive/MyDrive/Chest-CT-Data/train/adenocarcinoma/000024 (6).png\n",
            "Loaded image /content/drive/MyDrive/Chest-CT-Data/train/adenocarcinoma/000049 (5).png\n",
            "Loaded image /content/drive/MyDrive/Chest-CT-Data/train/adenocarcinoma/000093 (10).png\n",
            "Loaded image /content/drive/MyDrive/Chest-CT-Data/train/adenocarcinoma/000085 (10).png\n",
            "Loaded image /content/drive/MyDrive/Chest-CT-Data/train/adenocarcinoma/000048 (8).png\n",
            "Loaded image /content/drive/MyDrive/Chest-CT-Data/train/adenocarcinoma/000017 (8).png\n",
            "Loaded image /content/drive/MyDrive/Chest-CT-Data/train/adenocarcinoma/000084 (7).png\n",
            "Loaded image /content/drive/MyDrive/Chest-CT-Data/train/adenocarcinoma/000041 (4).png\n",
            "Loaded image /content/drive/MyDrive/Chest-CT-Data/train/adenocarcinoma/ad20.png\n",
            "Loaded image /content/drive/MyDrive/Chest-CT-Data/train/adenocarcinoma/000068 (9).png\n",
            "Loaded image /content/drive/MyDrive/Chest-CT-Data/train/adenocarcinoma/000102 (3).png\n",
            "Loaded image /content/drive/MyDrive/Chest-CT-Data/train/adenocarcinoma/000035 (6).png\n",
            "Loaded image /content/drive/MyDrive/Chest-CT-Data/train/adenocarcinoma/000066 (10).png\n",
            "Loaded image /content/drive/MyDrive/Chest-CT-Data/train/adenocarcinoma/000086 (8).png\n",
            "Loaded image /content/drive/MyDrive/Chest-CT-Data/train/adenocarcinoma/000029 (9).png\n",
            "Loaded image /content/drive/MyDrive/Chest-CT-Data/train/adenocarcinoma/000085 (4).png\n",
            "Loaded image /content/drive/MyDrive/Chest-CT-Data/train/adenocarcinoma/000051 (4).png\n",
            "Loaded image /content/drive/MyDrive/Chest-CT-Data/train/adenocarcinoma/000078 (6).png\n",
            "Loaded image /content/drive/MyDrive/Chest-CT-Data/train/adenocarcinoma/000089 (8).png\n",
            "Loaded image /content/drive/MyDrive/Chest-CT-Data/train/adenocarcinoma/000044 (9).png\n",
            "Loaded image /content/drive/MyDrive/Chest-CT-Data/train/adenocarcinoma/000026 (3).png\n",
            "Loaded image /content/drive/MyDrive/Chest-CT-Data/train/adenocarcinoma/000048.png\n",
            "Loaded image /content/drive/MyDrive/Chest-CT-Data/train/adenocarcinoma/000071 (3).png\n",
            "Loaded image /content/drive/MyDrive/Chest-CT-Data/train/adenocarcinoma/000054 (6).png\n",
            "Loaded image /content/drive/MyDrive/Chest-CT-Data/train/adenocarcinoma/000052 (10).png\n",
            "Loaded image /content/drive/MyDrive/Chest-CT-Data/train/adenocarcinoma/000087 (8).png\n",
            "Loaded image /content/drive/MyDrive/Chest-CT-Data/train/adenocarcinoma/000044 (10).png\n",
            "Loaded image /content/drive/MyDrive/Chest-CT-Data/train/adenocarcinoma/000013 (8).png\n",
            "Loaded image /content/drive/MyDrive/Chest-CT-Data/train/adenocarcinoma/000021 (8).png\n",
            "Loaded image /content/drive/MyDrive/Chest-CT-Data/train/adenocarcinoma/000055 (2).png\n",
            "Loaded image /content/drive/MyDrive/Chest-CT-Data/train/adenocarcinoma/000063 (3).png\n",
            "Loaded image /content/drive/MyDrive/Chest-CT-Data/train/adenocarcinoma/000023 (5).png\n",
            "Loaded image /content/drive/MyDrive/Chest-CT-Data/train/adenocarcinoma/000009 (7).png\n",
            "Loaded image /content/drive/MyDrive/Chest-CT-Data/train/adenocarcinoma/000023 (10).png\n",
            "Loaded image /content/drive/MyDrive/Chest-CT-Data/train/adenocarcinoma/ad8.png\n",
            "Loaded image /content/drive/MyDrive/Chest-CT-Data/train/adenocarcinoma/000050 (7).png\n",
            "Loaded image /content/drive/MyDrive/Chest-CT-Data/train/adenocarcinoma/000079 (6).png\n",
            "Loaded image /content/drive/MyDrive/Chest-CT-Data/train/adenocarcinoma/000068 (3).png\n",
            "Loaded image /content/drive/MyDrive/Chest-CT-Data/train/adenocarcinoma/000063 (5).png\n",
            "Loaded image /content/drive/MyDrive/Chest-CT-Data/train/adenocarcinoma/000022 (2).png\n",
            "Loaded image /content/drive/MyDrive/Chest-CT-Data/train/adenocarcinoma/000061.png\n",
            "Loaded image /content/drive/MyDrive/Chest-CT-Data/train/adenocarcinoma/000017 (6).png\n",
            "Loaded image /content/drive/MyDrive/Chest-CT-Data/train/adenocarcinoma/000065 (9).png\n",
            "Loaded image /content/drive/MyDrive/Chest-CT-Data/train/adenocarcinoma/000069 (6).png\n",
            "Loaded image /content/drive/MyDrive/Chest-CT-Data/train/adenocarcinoma/000033 (9).png\n",
            "Loaded image /content/drive/MyDrive/Chest-CT-Data/train/adenocarcinoma/000027 (4).png\n",
            "Loaded image /content/drive/MyDrive/Chest-CT-Data/train/adenocarcinoma/000086 (3).png\n",
            "Loaded image /content/drive/MyDrive/Chest-CT-Data/train/adenocarcinoma/000042 (10).png\n",
            "Loaded image /content/drive/MyDrive/Chest-CT-Data/train/adenocarcinoma/000051 (3).png\n",
            "Loaded image /content/drive/MyDrive/Chest-CT-Data/train/adenocarcinoma/000040 (10).png\n",
            "Loaded image /content/drive/MyDrive/Chest-CT-Data/train/adenocarcinoma/000015 (4).png\n",
            "Loaded image /content/drive/MyDrive/Chest-CT-Data/train/adenocarcinoma/000024.png\n",
            "Loaded image /content/drive/MyDrive/Chest-CT-Data/train/adenocarcinoma/000049 (9).png\n",
            "Loaded image /content/drive/MyDrive/Chest-CT-Data/train/adenocarcinoma/000083 (3).png\n",
            "Loaded image /content/drive/MyDrive/Chest-CT-Data/train/adenocarcinoma/000005 (9).png\n",
            "Loaded image /content/drive/MyDrive/Chest-CT-Data/train/adenocarcinoma/000023 (7).png\n",
            "Loaded image /content/drive/MyDrive/Chest-CT-Data/train/adenocarcinoma/000057 (2).png\n",
            "Loaded image /content/drive/MyDrive/Chest-CT-Data/train/adenocarcinoma/000075 (5).png\n",
            "Loaded image /content/drive/MyDrive/Chest-CT-Data/train/adenocarcinoma/000084 (2).png\n",
            "Loaded image /content/drive/MyDrive/Chest-CT-Data/train/adenocarcinoma/000080 (6).png\n",
            "Loaded image /content/drive/MyDrive/Chest-CT-Data/train/adenocarcinoma/000054 (7).png\n",
            "Loaded image /content/drive/MyDrive/Chest-CT-Data/train/adenocarcinoma/000023 (9).png\n",
            "Loaded image /content/drive/MyDrive/Chest-CT-Data/train/adenocarcinoma/000077 (6).png\n",
            "Loaded image /content/drive/MyDrive/Chest-CT-Data/train/adenocarcinoma/000035 (8).png\n",
            "Loaded image /content/drive/MyDrive/Chest-CT-Data/train/adenocarcinoma/000054 (5).png\n",
            "Loaded image /content/drive/MyDrive/Chest-CT-Data/train/adenocarcinoma/000020 (5).png\n",
            "Loaded image /content/drive/MyDrive/Chest-CT-Data/train/adenocarcinoma/000091.png\n",
            "Loaded image /content/drive/MyDrive/Chest-CT-Data/train/adenocarcinoma/000077 (9).png\n",
            "Loaded image /content/drive/MyDrive/Chest-CT-Data/train/adenocarcinoma/000054.png\n",
            "Loaded image /content/drive/MyDrive/Chest-CT-Data/train/adenocarcinoma/000119 (5).png\n",
            "Loaded image /content/drive/MyDrive/Chest-CT-Data/train/adenocarcinoma/000063 (7).png\n",
            "Loaded image /content/drive/MyDrive/Chest-CT-Data/train/adenocarcinoma/000021 (3).png\n",
            "Loaded image /content/drive/MyDrive/Chest-CT-Data/train/adenocarcinoma/000091 (7).png\n",
            "Loaded image /content/drive/MyDrive/Chest-CT-Data/train/adenocarcinoma/000090 (2).png\n",
            "Loaded image /content/drive/MyDrive/Chest-CT-Data/train/adenocarcinoma/000041 (8).png\n",
            "Loaded image /content/drive/MyDrive/Chest-CT-Data/train/adenocarcinoma/000041 (2).png\n",
            "Loaded image /content/drive/MyDrive/Chest-CT-Data/train/adenocarcinoma/000085 (7).png\n",
            "Loaded image /content/drive/MyDrive/Chest-CT-Data/train/adenocarcinoma/000032 (8).png\n",
            "Loaded image /content/drive/MyDrive/Chest-CT-Data/train/adenocarcinoma/000035 (5).png\n",
            "Loaded image /content/drive/MyDrive/Chest-CT-Data/train/adenocarcinoma/000067.png\n",
            "Loaded image /content/drive/MyDrive/Chest-CT-Data/train/adenocarcinoma/000091 (3).png\n",
            "Loaded image /content/drive/MyDrive/Chest-CT-Data/train/adenocarcinoma/000057.png\n",
            "Loaded image /content/drive/MyDrive/Chest-CT-Data/train/adenocarcinoma/000068 (10).png\n",
            "Loaded image /content/drive/MyDrive/Chest-CT-Data/train/adenocarcinoma/000009 (3).png\n",
            "Loaded image /content/drive/MyDrive/Chest-CT-Data/train/adenocarcinoma/000014 (7).png\n",
            "Loaded image /content/drive/MyDrive/Chest-CT-Data/train/adenocarcinoma/000084.png\n",
            "Loaded image /content/drive/MyDrive/Chest-CT-Data/train/adenocarcinoma/000031 (3).png\n",
            "Loaded image /content/drive/MyDrive/Chest-CT-Data/train/adenocarcinoma/000029 (5).png\n",
            "Loaded image /content/drive/MyDrive/Chest-CT-Data/train/adenocarcinoma/000036 (7).png\n",
            "Loaded image /content/drive/MyDrive/Chest-CT-Data/train/adenocarcinoma/000080 (10).png\n",
            "Loaded image /content/drive/MyDrive/Chest-CT-Data/train/adenocarcinoma/000021 (6).png\n",
            "Loaded image /content/drive/MyDrive/Chest-CT-Data/train/adenocarcinoma/000093 (4).png\n",
            "Loaded image /content/drive/MyDrive/Chest-CT-Data/train/adenocarcinoma/000000 (6).png\n",
            "Loaded image /content/drive/MyDrive/Chest-CT-Data/train/adenocarcinoma/000065 (8).png\n",
            "Loaded image /content/drive/MyDrive/Chest-CT-Data/train/adenocarcinoma/000018 (5).png\n",
            "Loaded image /content/drive/MyDrive/Chest-CT-Data/train/adenocarcinoma/000072 (10).png\n",
            "Loaded image /content/drive/MyDrive/Chest-CT-Data/train/adenocarcinoma/000013 (4).png\n",
            "Loaded image /content/drive/MyDrive/Chest-CT-Data/train/adenocarcinoma/000093 (6).png\n",
            "Loaded image /content/drive/MyDrive/Chest-CT-Data/train/adenocarcinoma/000083 (6).png\n",
            "Loaded image /content/drive/MyDrive/Chest-CT-Data/train/adenocarcinoma/000025 (6).png\n",
            "Loaded image /content/drive/MyDrive/Chest-CT-Data/train/adenocarcinoma/000026 (10).png\n",
            "Loaded image /content/drive/MyDrive/Chest-CT-Data/train/adenocarcinoma/000074 (5).png\n",
            "Loaded image /content/drive/MyDrive/Chest-CT-Data/train/adenocarcinoma/000059 (7).png\n",
            "Loaded image /content/drive/MyDrive/Chest-CT-Data/train/adenocarcinoma/000020 (10).png\n",
            "Loaded image /content/drive/MyDrive/Chest-CT-Data/train/adenocarcinoma/000021 (5).png\n",
            "Loaded image /content/drive/MyDrive/Chest-CT-Data/train/adenocarcinoma/000066 (9).png\n",
            "Loaded image /content/drive/MyDrive/Chest-CT-Data/train/adenocarcinoma/000020 (6).png\n",
            "Loaded image /content/drive/MyDrive/Chest-CT-Data/train/adenocarcinoma/000046 (5).png\n",
            "Loaded image /content/drive/MyDrive/Chest-CT-Data/train/adenocarcinoma/000036 (6).png\n",
            "Loaded image /content/drive/MyDrive/Chest-CT-Data/train/adenocarcinoma/000050 (5).png\n",
            "Loaded image /content/drive/MyDrive/Chest-CT-Data/train/adenocarcinoma/000067 (10).png\n",
            "Loaded image /content/drive/MyDrive/Chest-CT-Data/train/adenocarcinoma/000022 (10).png\n",
            "Loaded image /content/drive/MyDrive/Chest-CT-Data/train/adenocarcinoma/000022.png\n",
            "Loaded image /content/drive/MyDrive/Chest-CT-Data/train/adenocarcinoma/000027 (6).png\n",
            "Loaded image /content/drive/MyDrive/Chest-CT-Data/train/adenocarcinoma/000056 (7).png\n",
            "Loaded image /content/drive/MyDrive/Chest-CT-Data/train/adenocarcinoma/000041 (7).png\n",
            "Loaded image /content/drive/MyDrive/Chest-CT-Data/train/adenocarcinoma/000008 (10).png\n",
            "Loaded image /content/drive/MyDrive/Chest-CT-Data/train/adenocarcinoma/000065 (3).png\n",
            "Loaded image /content/drive/MyDrive/Chest-CT-Data/train/adenocarcinoma/000058 (4).png\n",
            "Loaded image /content/drive/MyDrive/Chest-CT-Data/train/adenocarcinoma/000050 (8).png\n",
            "Loaded image /content/drive/MyDrive/Chest-CT-Data/train/large.cell.carcinoma/000031 (2).png\n",
            "Loaded image /content/drive/MyDrive/Chest-CT-Data/train/large.cell.carcinoma/000093 (4).png\n",
            "Loaded image /content/drive/MyDrive/Chest-CT-Data/train/large.cell.carcinoma/000084.png\n",
            "Loaded image /content/drive/MyDrive/Chest-CT-Data/train/large.cell.carcinoma/000056 (4).png\n",
            "Loaded image /content/drive/MyDrive/Chest-CT-Data/train/large.cell.carcinoma/000076 (4).png\n",
            "Loaded image /content/drive/MyDrive/Chest-CT-Data/train/large.cell.carcinoma/000033 (4).png\n",
            "Loaded image /content/drive/MyDrive/Chest-CT-Data/train/large.cell.carcinoma/000047 (2).png\n",
            "Loaded image /content/drive/MyDrive/Chest-CT-Data/train/large.cell.carcinoma/000137.png\n",
            "Loaded image /content/drive/MyDrive/Chest-CT-Data/train/large.cell.carcinoma/000031.png\n",
            "Loaded image /content/drive/MyDrive/Chest-CT-Data/train/large.cell.carcinoma/000040 (2).png\n",
            "Loaded image /content/drive/MyDrive/Chest-CT-Data/train/large.cell.carcinoma/000062 (3).png\n",
            "Loaded image /content/drive/MyDrive/Chest-CT-Data/train/large.cell.carcinoma/000016 (4).png\n",
            "Loaded image /content/drive/MyDrive/Chest-CT-Data/train/large.cell.carcinoma/000068.png\n",
            "Loaded image /content/drive/MyDrive/Chest-CT-Data/train/large.cell.carcinoma/000069.png\n",
            "Loaded image /content/drive/MyDrive/Chest-CT-Data/train/large.cell.carcinoma/000056 (3).png\n",
            "Loaded image /content/drive/MyDrive/Chest-CT-Data/train/large.cell.carcinoma/000057.png\n",
            "Loaded image /content/drive/MyDrive/Chest-CT-Data/train/large.cell.carcinoma/000059 (4).png\n",
            "Loaded image /content/drive/MyDrive/Chest-CT-Data/train/large.cell.carcinoma/000154.png\n",
            "Loaded image /content/drive/MyDrive/Chest-CT-Data/train/large.cell.carcinoma/000039 (4).png\n",
            "Loaded image /content/drive/MyDrive/Chest-CT-Data/train/large.cell.carcinoma/000019 (4).png\n",
            "Loaded image /content/drive/MyDrive/Chest-CT-Data/train/large.cell.carcinoma/000094 (2).png\n",
            "Loaded image /content/drive/MyDrive/Chest-CT-Data/train/large.cell.carcinoma/000003 (3).png\n",
            "Loaded image /content/drive/MyDrive/Chest-CT-Data/train/large.cell.carcinoma/000002.png\n",
            "Loaded image /content/drive/MyDrive/Chest-CT-Data/train/large.cell.carcinoma/l6.png\n",
            "Loaded image /content/drive/MyDrive/Chest-CT-Data/train/large.cell.carcinoma/000104 (2).png\n",
            "Loaded image /content/drive/MyDrive/Chest-CT-Data/train/large.cell.carcinoma/000062.png\n",
            "Loaded image /content/drive/MyDrive/Chest-CT-Data/train/large.cell.carcinoma/000042 (2).png\n",
            "Loaded image /content/drive/MyDrive/Chest-CT-Data/train/large.cell.carcinoma/000098 (3).png\n",
            "Loaded image /content/drive/MyDrive/Chest-CT-Data/train/large.cell.carcinoma/000032.png\n",
            "Loaded image /content/drive/MyDrive/Chest-CT-Data/train/large.cell.carcinoma/000027.png\n",
            "Loaded image /content/drive/MyDrive/Chest-CT-Data/train/large.cell.carcinoma/000062 (2).png\n",
            "Loaded image /content/drive/MyDrive/Chest-CT-Data/train/large.cell.carcinoma/000071 (2).png\n",
            "Loaded image /content/drive/MyDrive/Chest-CT-Data/train/large.cell.carcinoma/000057 (4).png\n",
            "Loaded image /content/drive/MyDrive/Chest-CT-Data/train/large.cell.carcinoma/000076 (3).png\n",
            "Loaded image /content/drive/MyDrive/Chest-CT-Data/train/large.cell.carcinoma/000095 (4).png\n",
            "Loaded image /content/drive/MyDrive/Chest-CT-Data/train/large.cell.carcinoma/000043 (2).png\n",
            "Loaded image /content/drive/MyDrive/Chest-CT-Data/train/large.cell.carcinoma/000023 (2).png\n",
            "Loaded image /content/drive/MyDrive/Chest-CT-Data/train/large.cell.carcinoma/000066 (2).png\n",
            "Loaded image /content/drive/MyDrive/Chest-CT-Data/train/large.cell.carcinoma/l4.png\n",
            "Loaded image /content/drive/MyDrive/Chest-CT-Data/train/large.cell.carcinoma/000089.png\n",
            "Loaded image /content/drive/MyDrive/Chest-CT-Data/train/large.cell.carcinoma/000015.png\n",
            "Loaded image /content/drive/MyDrive/Chest-CT-Data/train/large.cell.carcinoma/000063.png\n",
            "Loaded image /content/drive/MyDrive/Chest-CT-Data/train/large.cell.carcinoma/000041 (3).png\n",
            "Loaded image /content/drive/MyDrive/Chest-CT-Data/train/large.cell.carcinoma/000019 (3).png\n",
            "Loaded image /content/drive/MyDrive/Chest-CT-Data/train/large.cell.carcinoma/000060.png\n",
            "Loaded image /content/drive/MyDrive/Chest-CT-Data/train/large.cell.carcinoma/000105 (2).png\n",
            "Loaded image /content/drive/MyDrive/Chest-CT-Data/train/large.cell.carcinoma/000026 (2).png\n",
            "Loaded image /content/drive/MyDrive/Chest-CT-Data/train/large.cell.carcinoma/000058 (4).png\n",
            "Loaded image /content/drive/MyDrive/Chest-CT-Data/train/large.cell.carcinoma/000133.png\n",
            "Loaded image /content/drive/MyDrive/Chest-CT-Data/train/large.cell.carcinoma/000057 (3).png\n",
            "Loaded image /content/drive/MyDrive/Chest-CT-Data/train/large.cell.carcinoma/000063 (2).png\n",
            "Loaded image /content/drive/MyDrive/Chest-CT-Data/train/large.cell.carcinoma/000003 (4).png\n",
            "Loaded image /content/drive/MyDrive/Chest-CT-Data/train/large.cell.carcinoma/000020 (3).png\n",
            "Loaded image /content/drive/MyDrive/Chest-CT-Data/train/large.cell.carcinoma/000046.png\n",
            "Loaded image /content/drive/MyDrive/Chest-CT-Data/train/large.cell.carcinoma/000150.png\n",
            "Loaded image /content/drive/MyDrive/Chest-CT-Data/train/large.cell.carcinoma/000033 (3).png\n",
            "Loaded image /content/drive/MyDrive/Chest-CT-Data/train/large.cell.carcinoma/000055 (3).png\n",
            "Loaded image /content/drive/MyDrive/Chest-CT-Data/train/large.cell.carcinoma/000009 (3).png\n",
            "Loaded image /content/drive/MyDrive/Chest-CT-Data/train/large.cell.carcinoma/000143.png\n",
            "Loaded image /content/drive/MyDrive/Chest-CT-Data/train/large.cell.carcinoma/000097.png\n",
            "Loaded image /content/drive/MyDrive/Chest-CT-Data/train/large.cell.carcinoma/000072 (2).png\n",
            "Loaded image /content/drive/MyDrive/Chest-CT-Data/train/large.cell.carcinoma/000173.png\n",
            "Loaded image /content/drive/MyDrive/Chest-CT-Data/train/large.cell.carcinoma/l2.png\n",
            "Loaded image /content/drive/MyDrive/Chest-CT-Data/train/large.cell.carcinoma/000021.png\n",
            "Loaded image /content/drive/MyDrive/Chest-CT-Data/train/large.cell.carcinoma/000034 (2).png\n",
            "Loaded image /content/drive/MyDrive/Chest-CT-Data/train/large.cell.carcinoma/000051.png\n",
            "Loaded image /content/drive/MyDrive/Chest-CT-Data/train/large.cell.carcinoma/000039 (3).png\n",
            "Loaded image /content/drive/MyDrive/Chest-CT-Data/train/large.cell.carcinoma/000024 (2).png\n",
            "Loaded image /content/drive/MyDrive/Chest-CT-Data/train/large.cell.carcinoma/000017.png\n",
            "Loaded image /content/drive/MyDrive/Chest-CT-Data/train/large.cell.carcinoma/000010.png\n",
            "Loaded image /content/drive/MyDrive/Chest-CT-Data/train/large.cell.carcinoma/000059 (3).png\n",
            "Loaded image /content/drive/MyDrive/Chest-CT-Data/train/large.cell.carcinoma/l5.png\n",
            "Loaded image /content/drive/MyDrive/Chest-CT-Data/train/large.cell.carcinoma/000095 (3).png\n",
            "Loaded image /content/drive/MyDrive/Chest-CT-Data/train/large.cell.carcinoma/000098 (4).png\n",
            "Loaded image /content/drive/MyDrive/Chest-CT-Data/train/large.cell.carcinoma/di1.png\n",
            "Loaded image /content/drive/MyDrive/Chest-CT-Data/train/large.cell.carcinoma/000065 (2).png\n",
            "Loaded image /content/drive/MyDrive/Chest-CT-Data/train/large.cell.carcinoma/000104.png\n",
            "Loaded image /content/drive/MyDrive/Chest-CT-Data/train/large.cell.carcinoma/000055.png\n",
            "Loaded image /content/drive/MyDrive/Chest-CT-Data/train/large.cell.carcinoma/000055 (4).png\n",
            "Loaded image /content/drive/MyDrive/Chest-CT-Data/train/large.cell.carcinoma/000058 (3).png\n",
            "Loaded image /content/drive/MyDrive/Chest-CT-Data/train/large.cell.carcinoma/000027 (2).png\n",
            "Loaded image /content/drive/MyDrive/Chest-CT-Data/train/large.cell.carcinoma/000095.png\n",
            "Loaded image /content/drive/MyDrive/Chest-CT-Data/train/large.cell.carcinoma/000094 (4).png\n",
            "Loaded image /content/drive/MyDrive/Chest-CT-Data/train/large.cell.carcinoma/000066.png\n",
            "Loaded image /content/drive/MyDrive/Chest-CT-Data/train/large.cell.carcinoma/000026.png\n",
            "Loaded image /content/drive/MyDrive/Chest-CT-Data/train/large.cell.carcinoma/000041.png\n",
            "Loaded image /content/drive/MyDrive/Chest-CT-Data/train/large.cell.carcinoma/000018 (2).png\n",
            "Loaded image /content/drive/MyDrive/Chest-CT-Data/train/large.cell.carcinoma/000077.png\n",
            "Loaded image /content/drive/MyDrive/Chest-CT-Data/train/large.cell.carcinoma/000093 (3).png\n",
            "Loaded image /content/drive/MyDrive/Chest-CT-Data/train/large.cell.carcinoma/000172.png\n",
            "Loaded image /content/drive/MyDrive/Chest-CT-Data/train/large.cell.carcinoma/000081.png\n",
            "Loaded image /content/drive/MyDrive/Chest-CT-Data/train/large.cell.carcinoma/000097 (2).png\n",
            "Loaded image /content/drive/MyDrive/Chest-CT-Data/train/large.cell.carcinoma/000068 (3).png\n",
            "Loaded image /content/drive/MyDrive/Chest-CT-Data/train/large.cell.carcinoma/000045.png\n",
            "Loaded image /content/drive/MyDrive/Chest-CT-Data/train/large.cell.carcinoma/000080.png\n",
            "Loaded image /content/drive/MyDrive/Chest-CT-Data/train/large.cell.carcinoma/000078 (3).png\n",
            "Loaded image /content/drive/MyDrive/Chest-CT-Data/train/large.cell.carcinoma/000041 (4).png\n",
            "Loaded image /content/drive/MyDrive/Chest-CT-Data/train/large.cell.carcinoma/000105.png\n",
            "Loaded image /content/drive/MyDrive/Chest-CT-Data/train/large.cell.carcinoma/000073 (2).png\n",
            "Loaded image /content/drive/MyDrive/Chest-CT-Data/train/large.cell.carcinoma/000094 (3).png\n",
            "Loaded image /content/drive/MyDrive/Chest-CT-Data/train/large.cell.carcinoma/000149.png\n",
            "Loaded image /content/drive/MyDrive/Chest-CT-Data/train/large.cell.carcinoma/000084 (2).png\n",
            "Loaded image /content/drive/MyDrive/Chest-CT-Data/train/large.cell.carcinoma/000062 (4).png\n",
            "Loaded image /content/drive/MyDrive/Chest-CT-Data/train/large.cell.carcinoma/000159.png\n",
            "Loaded image /content/drive/MyDrive/Chest-CT-Data/train/large.cell.carcinoma/000106.png\n",
            "Loaded image /content/drive/MyDrive/Chest-CT-Data/train/large.cell.carcinoma/000068 (4).png\n",
            "Loaded image /content/drive/MyDrive/Chest-CT-Data/train/large.cell.carcinoma/000169.png\n",
            "Loaded image /content/drive/MyDrive/Chest-CT-Data/train/large.cell.carcinoma/000078 (4).png\n",
            "Loaded image /content/drive/MyDrive/Chest-CT-Data/train/large.cell.carcinoma/l3.png\n",
            "Loaded image /content/drive/MyDrive/Chest-CT-Data/train/large.cell.carcinoma/000009 (4).png\n",
            "Loaded image /content/drive/MyDrive/Chest-CT-Data/train/large.cell.carcinoma/000020 (4).png\n",
            "Loaded image /content/drive/MyDrive/Chest-CT-Data/train/large.cell.carcinoma/l1.png\n",
            "Loaded image /content/drive/MyDrive/Chest-CT-Data/train/large.cell.carcinoma/000016 (3).png\n",
            "Loaded image /content/drive/MyDrive/Chest-CT-Data/train/large.cell.carcinoma/000106 (2).png\n",
            "Loaded image /content/drive/MyDrive/Chest-CT-Data/train/large.cell.carcinoma/000095 (2).png\n",
            "Loaded image /content/drive/MyDrive/Chest-CT-Data/train/normal/8.png\n",
            "Loaded image /content/drive/MyDrive/Chest-CT-Data/train/normal/4 (2).png\n",
            "Loaded image /content/drive/MyDrive/Chest-CT-Data/train/normal/8 - Copy.png\n",
            "Loaded image /content/drive/MyDrive/Chest-CT-Data/train/normal/7 - Copy - Copy.png\n",
            "Loaded image /content/drive/MyDrive/Chest-CT-Data/train/normal/8 - Copy (2).png\n",
            "Loaded image /content/drive/MyDrive/Chest-CT-Data/train/normal/7.png\n",
            "Loaded image /content/drive/MyDrive/Chest-CT-Data/train/normal/n7 (2).png\n",
            "Loaded image /content/drive/MyDrive/Chest-CT-Data/train/normal/8 (2).png\n",
            "Loaded image /content/drive/MyDrive/Chest-CT-Data/train/normal/8 - Copy - Copy.png\n",
            "Loaded image /content/drive/MyDrive/Chest-CT-Data/train/normal/8 - Copy (3).png\n",
            "Loaded image /content/drive/MyDrive/Chest-CT-Data/train/normal/n7.png\n",
            "Loaded image /content/drive/MyDrive/Chest-CT-Data/train/normal/7 - Copy.png\n",
            "Loaded image /content/drive/MyDrive/Chest-CT-Data/train/normal/6 - Copy (2).png\n",
            "Loaded image /content/drive/MyDrive/Chest-CT-Data/train/normal/17 - Copy (2).png\n",
            "Loaded image /content/drive/MyDrive/Chest-CT-Data/train/normal/18 - Copy - Copy.png\n",
            "Loaded image /content/drive/MyDrive/Chest-CT-Data/train/normal/21 - Copy.png\n",
            "Loaded image /content/drive/MyDrive/Chest-CT-Data/train/normal/6 (2) - Copy.png\n",
            "Loaded image /content/drive/MyDrive/Chest-CT-Data/train/normal/16.png\n",
            "Loaded image /content/drive/MyDrive/Chest-CT-Data/train/normal/20 (2) - Copy.png\n",
            "Loaded image /content/drive/MyDrive/Chest-CT-Data/train/normal/19 - Copy (3).png\n",
            "Loaded image /content/drive/MyDrive/Chest-CT-Data/train/normal/19 - Copy - Copy.png\n",
            "Loaded image /content/drive/MyDrive/Chest-CT-Data/train/normal/3 - Copy (3).png\n",
            "Loaded image /content/drive/MyDrive/Chest-CT-Data/train/normal/16 - Copy - Copy.png\n",
            "Loaded image /content/drive/MyDrive/Chest-CT-Data/train/normal/5 - Copy (2).png\n",
            "Loaded image /content/drive/MyDrive/Chest-CT-Data/train/normal/6 - Copy (2) - Copy.png\n",
            "Loaded image /content/drive/MyDrive/Chest-CT-Data/train/normal/4.png\n",
            "Loaded image /content/drive/MyDrive/Chest-CT-Data/train/normal/8 - Copy (2) - Copy.png\n",
            "Loaded image /content/drive/MyDrive/Chest-CT-Data/train/normal/20 - Copy (3).png\n",
            "Loaded image /content/drive/MyDrive/Chest-CT-Data/train/normal/7 - Copy (2).png\n",
            "Loaded image /content/drive/MyDrive/Chest-CT-Data/train/normal/16 - Copy (3).png\n",
            "Loaded image /content/drive/MyDrive/Chest-CT-Data/train/normal/3 (2).png\n",
            "Loaded image /content/drive/MyDrive/Chest-CT-Data/train/normal/20.png\n",
            "Loaded image /content/drive/MyDrive/Chest-CT-Data/train/normal/2 - Copy (3).png\n",
            "Loaded image /content/drive/MyDrive/Chest-CT-Data/train/normal/17.png\n",
            "Loaded image /content/drive/MyDrive/Chest-CT-Data/train/normal/5 (2) - Copy.png\n",
            "Loaded image /content/drive/MyDrive/Chest-CT-Data/train/normal/n7 (2) - Copy.png\n",
            "Loaded image /content/drive/MyDrive/Chest-CT-Data/train/normal/16 - Copy (2) - Copy.png\n",
            "Loaded image /content/drive/MyDrive/Chest-CT-Data/train/normal/5 (2).png\n",
            "Loaded image /content/drive/MyDrive/Chest-CT-Data/train/normal/16 - Copy.png\n",
            "Loaded image /content/drive/MyDrive/Chest-CT-Data/train/normal/7 (2).png\n",
            "Loaded image /content/drive/MyDrive/Chest-CT-Data/train/normal/8 (2) - Copy.png\n",
            "Loaded image /content/drive/MyDrive/Chest-CT-Data/train/normal/19 - Copy (2).png\n",
            "Loaded image /content/drive/MyDrive/Chest-CT-Data/train/normal/3 (2) - Copy.png\n",
            "Loaded image /content/drive/MyDrive/Chest-CT-Data/train/normal/2.png\n",
            "Loaded image /content/drive/MyDrive/Chest-CT-Data/train/normal/3 - Copy (2).png\n",
            "Loaded image /content/drive/MyDrive/Chest-CT-Data/train/normal/16 (2).png\n",
            "Loaded image /content/drive/MyDrive/Chest-CT-Data/train/normal/18 (2).png\n",
            "Loaded image /content/drive/MyDrive/Chest-CT-Data/train/normal/3 - Copy.png\n",
            "Loaded image /content/drive/MyDrive/Chest-CT-Data/train/normal/3 - Copy (2) - Copy.png\n",
            "Loaded image /content/drive/MyDrive/Chest-CT-Data/train/normal/6 - Copy.png\n",
            "Loaded image /content/drive/MyDrive/Chest-CT-Data/train/normal/18 - Copy.png\n",
            "Loaded image /content/drive/MyDrive/Chest-CT-Data/train/normal/6.png\n",
            "Loaded image /content/drive/MyDrive/Chest-CT-Data/train/normal/18 - Copy (2) - Copy.png\n",
            "Loaded image /content/drive/MyDrive/Chest-CT-Data/train/normal/17 (2).png\n",
            "Loaded image /content/drive/MyDrive/Chest-CT-Data/train/normal/20 - Copy.png\n",
            "Loaded image /content/drive/MyDrive/Chest-CT-Data/train/normal/n7 - Copy.png\n",
            "Loaded image /content/drive/MyDrive/Chest-CT-Data/train/normal/16 - Copy (2).png\n",
            "Loaded image /content/drive/MyDrive/Chest-CT-Data/train/normal/20 - Copy - Copy.png\n",
            "Loaded image /content/drive/MyDrive/Chest-CT-Data/train/normal/4 - Copy (2).png\n",
            "Loaded image /content/drive/MyDrive/Chest-CT-Data/train/normal/21 - Copy (2).png\n",
            "Loaded image /content/drive/MyDrive/Chest-CT-Data/train/normal/7 (2) - Copy.png\n",
            "Loaded image /content/drive/MyDrive/Chest-CT-Data/train/normal/5 - Copy - Copy.png\n",
            "Loaded image /content/drive/MyDrive/Chest-CT-Data/train/normal/5 - Copy (2) - Copy.png\n",
            "Loaded image /content/drive/MyDrive/Chest-CT-Data/train/normal/11 - Copy.png\n",
            "Loaded image /content/drive/MyDrive/Chest-CT-Data/train/normal/16 (2) - Copy.png\n",
            "Loaded image /content/drive/MyDrive/Chest-CT-Data/train/normal/2 - Copy - Copy.png\n",
            "Loaded image /content/drive/MyDrive/Chest-CT-Data/train/normal/5.png\n",
            "Loaded image /content/drive/MyDrive/Chest-CT-Data/train/normal/19 - Copy.png\n",
            "Loaded image /content/drive/MyDrive/Chest-CT-Data/train/normal/21 - Copy - Copy.png\n",
            "Loaded image /content/drive/MyDrive/Chest-CT-Data/train/normal/20 (2).png\n",
            "Loaded image /content/drive/MyDrive/Chest-CT-Data/train/normal/2 - Copy (2) - Copy.png\n",
            "Loaded image /content/drive/MyDrive/Chest-CT-Data/train/normal/21 - Copy (2) - Copy.png\n",
            "Loaded image /content/drive/MyDrive/Chest-CT-Data/train/normal/3 - Copy - Copy.png\n",
            "Loaded image /content/drive/MyDrive/Chest-CT-Data/train/normal/12.png\n",
            "Loaded image /content/drive/MyDrive/Chest-CT-Data/train/normal/13 - Copy.png\n",
            "Loaded image /content/drive/MyDrive/Chest-CT-Data/train/normal/19 - Copy (2) - Copy.png\n",
            "Loaded image /content/drive/MyDrive/Chest-CT-Data/train/normal/7 - Copy (3).png\n",
            "Loaded image /content/drive/MyDrive/Chest-CT-Data/train/normal/17 - Copy (3).png\n",
            "Loaded image /content/drive/MyDrive/Chest-CT-Data/train/normal/18 - Copy (2).png\n",
            "Loaded image /content/drive/MyDrive/Chest-CT-Data/train/normal/11 - Copy - Copy.png\n",
            "Loaded image /content/drive/MyDrive/Chest-CT-Data/train/normal/4 - Copy.png\n",
            "Loaded image /content/drive/MyDrive/Chest-CT-Data/train/normal/19 (2) - Copy.png\n",
            "Loaded image /content/drive/MyDrive/Chest-CT-Data/train/normal/5 - Copy (3).png\n",
            "Loaded image /content/drive/MyDrive/Chest-CT-Data/train/normal/3.png\n",
            "Loaded image /content/drive/MyDrive/Chest-CT-Data/train/normal/19 (2).png\n",
            "Loaded image /content/drive/MyDrive/Chest-CT-Data/train/normal/20 - Copy (2).png\n",
            "Loaded image /content/drive/MyDrive/Chest-CT-Data/train/normal/6 - Copy (3).png\n",
            "Loaded image /content/drive/MyDrive/Chest-CT-Data/train/normal/5 - Copy.png\n",
            "Loaded image /content/drive/MyDrive/Chest-CT-Data/train/normal/6 - Copy - Copy.png\n",
            "Loaded image /content/drive/MyDrive/Chest-CT-Data/train/normal/4 - Copy (3).png\n",
            "Loaded image /content/drive/MyDrive/Chest-CT-Data/train/normal/17 - Copy (2) - Copy.png\n",
            "Loaded image /content/drive/MyDrive/Chest-CT-Data/train/normal/17 (2) - Copy.png\n",
            "Loaded image /content/drive/MyDrive/Chest-CT-Data/train/normal/4 - Copy (2) - Copy.png\n",
            "Loaded image /content/drive/MyDrive/Chest-CT-Data/train/normal/20 - Copy (2) - Copy.png\n",
            "Loaded image /content/drive/MyDrive/Chest-CT-Data/train/normal/18.png\n",
            "Loaded image /content/drive/MyDrive/Chest-CT-Data/train/normal/6 (2).png\n",
            "Loaded image /content/drive/MyDrive/Chest-CT-Data/train/normal/4 - Copy - Copy.png\n",
            "Loaded image /content/drive/MyDrive/Chest-CT-Data/train/normal/18 - Copy (3).png\n",
            "Loaded image /content/drive/MyDrive/Chest-CT-Data/train/normal/2 (2) - Copy.png\n",
            "Loaded image /content/drive/MyDrive/Chest-CT-Data/train/normal/10 - Copy - Copy.png\n",
            "Loaded image /content/drive/MyDrive/Chest-CT-Data/train/normal/13 (2).png\n",
            "Loaded image /content/drive/MyDrive/Chest-CT-Data/train/normal/12 (2).png\n",
            "Loaded image /content/drive/MyDrive/Chest-CT-Data/train/normal/13.png\n",
            "Loaded image /content/drive/MyDrive/Chest-CT-Data/train/normal/10 (2) - Copy.png\n",
            "Loaded image /content/drive/MyDrive/Chest-CT-Data/train/normal/12 (2) - Copy.png\n",
            "Loaded image /content/drive/MyDrive/Chest-CT-Data/train/normal/11 - Copy (3).png\n",
            "Loaded image /content/drive/MyDrive/Chest-CT-Data/train/normal/17 - Copy.png\n",
            "Loaded image /content/drive/MyDrive/Chest-CT-Data/train/normal/10 - Copy (2).png\n",
            "Loaded image /content/drive/MyDrive/Chest-CT-Data/train/normal/10 - Copy (3).png\n",
            "Loaded image /content/drive/MyDrive/Chest-CT-Data/train/normal/11 (2) - Copy.png\n",
            "Loaded image /content/drive/MyDrive/Chest-CT-Data/train/normal/2 (2).png\n",
            "Loaded image /content/drive/MyDrive/Chest-CT-Data/train/normal/17 - Copy - Copy.png\n",
            "Loaded image /content/drive/MyDrive/Chest-CT-Data/train/normal/12 - Copy (2).png\n",
            "Loaded image /content/drive/MyDrive/Chest-CT-Data/train/normal/10.png\n",
            "Loaded image /content/drive/MyDrive/Chest-CT-Data/train/normal/7 - Copy (2) - Copy.png\n",
            "Loaded image /content/drive/MyDrive/Chest-CT-Data/train/normal/13 (2) - Copy.png\n",
            "Loaded image /content/drive/MyDrive/Chest-CT-Data/train/normal/13 - Copy (2) - Copy.png\n",
            "Loaded image /content/drive/MyDrive/Chest-CT-Data/train/normal/19.png\n",
            "Loaded image /content/drive/MyDrive/Chest-CT-Data/train/normal/11.png\n",
            "Loaded image /content/drive/MyDrive/Chest-CT-Data/train/normal/12 - Copy.png\n",
            "Loaded image /content/drive/MyDrive/Chest-CT-Data/train/normal/10 (2).png\n",
            "Loaded image /content/drive/MyDrive/Chest-CT-Data/train/normal/12 - Copy (3).png\n",
            "Loaded image /content/drive/MyDrive/Chest-CT-Data/train/normal/11 - Copy (2).png\n",
            "Loaded image /content/drive/MyDrive/Chest-CT-Data/train/normal/13 - Copy (2).png\n",
            "Loaded image /content/drive/MyDrive/Chest-CT-Data/train/normal/10 - Copy.png\n",
            "Loaded image /content/drive/MyDrive/Chest-CT-Data/train/normal/13 - Copy - Copy.png\n",
            "Loaded image /content/drive/MyDrive/Chest-CT-Data/train/normal/12 - Copy - Copy.png\n",
            "Loaded image /content/drive/MyDrive/Chest-CT-Data/train/normal/12 - Copy (2) - Copy.png\n",
            "Loaded image /content/drive/MyDrive/Chest-CT-Data/train/normal/13 - Copy (3).png\n",
            "Loaded image /content/drive/MyDrive/Chest-CT-Data/train/normal/11 - Copy (2) - Copy.png\n",
            "Loaded image /content/drive/MyDrive/Chest-CT-Data/train/normal/2 - Copy.png\n",
            "Loaded image /content/drive/MyDrive/Chest-CT-Data/train/normal/10 - Copy (2) - Copy.png\n",
            "Loaded image /content/drive/MyDrive/Chest-CT-Data/train/normal/18 (2) - Copy.png\n",
            "Loaded image /content/drive/MyDrive/Chest-CT-Data/train/normal/2 - Copy (2).png\n",
            "Loaded image /content/drive/MyDrive/Chest-CT-Data/train/normal/4 (2) - Copy.png\n",
            "Loaded image /content/drive/MyDrive/Chest-CT-Data/train/normal/11 (2).png\n",
            "Loaded image /content/drive/MyDrive/Chest-CT-Data/train/squamous.cell.carcinoma/000084 (3).png\n",
            "Loaded image /content/drive/MyDrive/Chest-CT-Data/train/squamous.cell.carcinoma/sq3.png\n",
            "Loaded image /content/drive/MyDrive/Chest-CT-Data/train/squamous.cell.carcinoma/sq4.png\n",
            "Loaded image /content/drive/MyDrive/Chest-CT-Data/train/squamous.cell.carcinoma/000078 (5).png\n",
            "Loaded image /content/drive/MyDrive/Chest-CT-Data/train/squamous.cell.carcinoma/sq2.png\n",
            "Loaded image /content/drive/MyDrive/Chest-CT-Data/train/squamous.cell.carcinoma/sq1.png\n",
            "Loaded image /content/drive/MyDrive/Chest-CT-Data/train/squamous.cell.carcinoma/sq5.png\n",
            "Loaded image /content/drive/MyDrive/Chest-CT-Data/train/squamous.cell.carcinoma/000122 (3).png\n",
            "Loaded image /content/drive/MyDrive/Chest-CT-Data/train/squamous.cell.carcinoma/000053.png\n",
            "Loaded image /content/drive/MyDrive/Chest-CT-Data/train/squamous.cell.carcinoma/000013 (6).png\n",
            "Loaded image /content/drive/MyDrive/Chest-CT-Data/train/squamous.cell.carcinoma/000033.png\n",
            "Loaded image /content/drive/MyDrive/Chest-CT-Data/train/squamous.cell.carcinoma/000030 (7).png\n",
            "Loaded image /content/drive/MyDrive/Chest-CT-Data/train/squamous.cell.carcinoma/000077 (4).png\n",
            "Loaded image /content/drive/MyDrive/Chest-CT-Data/train/squamous.cell.carcinoma/000046 (6).png\n",
            "Loaded image /content/drive/MyDrive/Chest-CT-Data/train/squamous.cell.carcinoma/000093.png\n",
            "Loaded image /content/drive/MyDrive/Chest-CT-Data/train/squamous.cell.carcinoma/000015 (7).png\n",
            "Loaded image /content/drive/MyDrive/Chest-CT-Data/train/squamous.cell.carcinoma/000105 (7).png\n",
            "Loaded image /content/drive/MyDrive/Chest-CT-Data/train/squamous.cell.carcinoma/000004 (7).png\n",
            "Loaded image /content/drive/MyDrive/Chest-CT-Data/train/squamous.cell.carcinoma/sq6.png\n",
            "Loaded image /content/drive/MyDrive/Chest-CT-Data/train/squamous.cell.carcinoma/000062 (5).png\n",
            "Loaded image /content/drive/MyDrive/Chest-CT-Data/train/squamous.cell.carcinoma/000053 (6).png\n",
            "Loaded image /content/drive/MyDrive/Chest-CT-Data/train/squamous.cell.carcinoma/000028 (7).png\n",
            "Loaded image /content/drive/MyDrive/Chest-CT-Data/train/squamous.cell.carcinoma/000081 (6).png\n",
            "Loaded image /content/drive/MyDrive/Chest-CT-Data/train/squamous.cell.carcinoma/000067 (2).png\n",
            "Loaded image /content/drive/MyDrive/Chest-CT-Data/train/squamous.cell.carcinoma/000028 (4).png\n",
            "Loaded image /content/drive/MyDrive/Chest-CT-Data/train/squamous.cell.carcinoma/000024 (7).png\n",
            "Loaded image /content/drive/MyDrive/Chest-CT-Data/train/squamous.cell.carcinoma/000038 (5).png\n",
            "Loaded image /content/drive/MyDrive/Chest-CT-Data/train/squamous.cell.carcinoma/000057 (3).png\n",
            "Loaded image /content/drive/MyDrive/Chest-CT-Data/train/squamous.cell.carcinoma/000036 (4).png\n",
            "Loaded image /content/drive/MyDrive/Chest-CT-Data/train/squamous.cell.carcinoma/000024 (5).png\n",
            "Loaded image /content/drive/MyDrive/Chest-CT-Data/train/squamous.cell.carcinoma/000058 (7).png\n",
            "Loaded image /content/drive/MyDrive/Chest-CT-Data/train/squamous.cell.carcinoma/000067 (3).png\n",
            "Loaded image /content/drive/MyDrive/Chest-CT-Data/train/squamous.cell.carcinoma/000105 (5).png\n",
            "Loaded image /content/drive/MyDrive/Chest-CT-Data/train/squamous.cell.carcinoma/000052 (4).png\n",
            "Loaded image /content/drive/MyDrive/Chest-CT-Data/train/squamous.cell.carcinoma/000015 (5).png\n",
            "Loaded image /content/drive/MyDrive/Chest-CT-Data/train/squamous.cell.carcinoma/000032.png\n",
            "Loaded image /content/drive/MyDrive/Chest-CT-Data/train/squamous.cell.carcinoma/000099 (2).png\n",
            "Loaded image /content/drive/MyDrive/Chest-CT-Data/train/squamous.cell.carcinoma/000091 (5).png\n",
            "Loaded image /content/drive/MyDrive/Chest-CT-Data/train/squamous.cell.carcinoma/000028 (5).png\n",
            "Loaded image /content/drive/MyDrive/Chest-CT-Data/train/squamous.cell.carcinoma/000046 (7).png\n",
            "Loaded image /content/drive/MyDrive/Chest-CT-Data/train/squamous.cell.carcinoma/000078.png\n",
            "Loaded image /content/drive/MyDrive/Chest-CT-Data/train/squamous.cell.carcinoma/000030 (5).png\n",
            "Loaded image /content/drive/MyDrive/Chest-CT-Data/train/squamous.cell.carcinoma/000006.png\n",
            "Loaded image /content/drive/MyDrive/Chest-CT-Data/train/squamous.cell.carcinoma/000100 (4).png\n",
            "Loaded image /content/drive/MyDrive/Chest-CT-Data/train/squamous.cell.carcinoma/000029 (4).png\n",
            "Loaded image /content/drive/MyDrive/Chest-CT-Data/train/squamous.cell.carcinoma/000083 (7).png\n",
            "Loaded image /content/drive/MyDrive/Chest-CT-Data/train/squamous.cell.carcinoma/000091 (7).png\n",
            "Loaded image /content/drive/MyDrive/Chest-CT-Data/train/squamous.cell.carcinoma/000067 (7).png\n",
            "Loaded image /content/drive/MyDrive/Chest-CT-Data/train/squamous.cell.carcinoma/000065 (7).png\n",
            "Loaded image /content/drive/MyDrive/Chest-CT-Data/train/squamous.cell.carcinoma/000090 (6).png\n",
            "Loaded image /content/drive/MyDrive/Chest-CT-Data/train/squamous.cell.carcinoma/000017 (4).png\n",
            "Loaded image /content/drive/MyDrive/Chest-CT-Data/train/squamous.cell.carcinoma/000094.png\n",
            "Loaded image /content/drive/MyDrive/Chest-CT-Data/train/squamous.cell.carcinoma/000027 (2).png\n",
            "Loaded image /content/drive/MyDrive/Chest-CT-Data/train/squamous.cell.carcinoma/000007 (4).png\n",
            "Loaded image /content/drive/MyDrive/Chest-CT-Data/train/squamous.cell.carcinoma/000043 (3).png\n",
            "Loaded image /content/drive/MyDrive/Chest-CT-Data/train/squamous.cell.carcinoma/000069 (2).png\n",
            "Loaded image /content/drive/MyDrive/Chest-CT-Data/train/squamous.cell.carcinoma/000077 (5).png\n",
            "Loaded image /content/drive/MyDrive/Chest-CT-Data/train/squamous.cell.carcinoma/000066.png\n",
            "Loaded image /content/drive/MyDrive/Chest-CT-Data/train/squamous.cell.carcinoma/000055 (3).png\n",
            "Loaded image /content/drive/MyDrive/Chest-CT-Data/train/squamous.cell.carcinoma/000058 (5).png\n",
            "Loaded image /content/drive/MyDrive/Chest-CT-Data/train/squamous.cell.carcinoma/000067 (5).png\n",
            "Loaded image /content/drive/MyDrive/Chest-CT-Data/train/squamous.cell.carcinoma/000120 (4).png\n",
            "Loaded image /content/drive/MyDrive/Chest-CT-Data/train/squamous.cell.carcinoma/000096 (2).png\n",
            "Loaded image /content/drive/MyDrive/Chest-CT-Data/train/squamous.cell.carcinoma/000063 (6).png\n",
            "Loaded image /content/drive/MyDrive/Chest-CT-Data/train/squamous.cell.carcinoma/000121 (2).png\n",
            "Loaded image /content/drive/MyDrive/Chest-CT-Data/train/squamous.cell.carcinoma/000016 (3).png\n",
            "Loaded image /content/drive/MyDrive/Chest-CT-Data/train/squamous.cell.carcinoma/000079 (7).png\n",
            "Loaded image /content/drive/MyDrive/Chest-CT-Data/train/squamous.cell.carcinoma/000063.png\n",
            "Loaded image /content/drive/MyDrive/Chest-CT-Data/train/squamous.cell.carcinoma/000068 (4).png\n",
            "Loaded image /content/drive/MyDrive/Chest-CT-Data/train/squamous.cell.carcinoma/000079.png\n",
            "Loaded image /content/drive/MyDrive/Chest-CT-Data/train/squamous.cell.carcinoma/000038 (7).png\n",
            "Loaded image /content/drive/MyDrive/Chest-CT-Data/train/squamous.cell.carcinoma/000075.png\n",
            "Loaded image /content/drive/MyDrive/Chest-CT-Data/train/squamous.cell.carcinoma/000106 (7).png\n",
            "Loaded image /content/drive/MyDrive/Chest-CT-Data/train/squamous.cell.carcinoma/000030 (2).png\n",
            "Loaded image /content/drive/MyDrive/Chest-CT-Data/train/squamous.cell.carcinoma/000051 (3).png\n",
            "Loaded image /content/drive/MyDrive/Chest-CT-Data/train/squamous.cell.carcinoma/000081 (3).png\n",
            "Loaded image /content/drive/MyDrive/Chest-CT-Data/train/squamous.cell.carcinoma/000058 (3).png\n",
            "Loaded image /content/drive/MyDrive/Chest-CT-Data/train/squamous.cell.carcinoma/000050 (6).png\n",
            "Loaded image /content/drive/MyDrive/Chest-CT-Data/train/squamous.cell.carcinoma/000010 (6).png\n",
            "Loaded image /content/drive/MyDrive/Chest-CT-Data/train/squamous.cell.carcinoma/000088.png\n",
            "Loaded image /content/drive/MyDrive/Chest-CT-Data/train/squamous.cell.carcinoma/000106 (6).png\n",
            "Loaded image /content/drive/MyDrive/Chest-CT-Data/train/squamous.cell.carcinoma/000009 (2).png\n",
            "Loaded image /content/drive/MyDrive/Chest-CT-Data/train/squamous.cell.carcinoma/000037 (2).png\n",
            "Loaded image /content/drive/MyDrive/Chest-CT-Data/train/squamous.cell.carcinoma/000082 (4).png\n",
            "Loaded image /content/drive/MyDrive/Chest-CT-Data/train/squamous.cell.carcinoma/000008 (3).png\n",
            "Loaded image /content/drive/MyDrive/Chest-CT-Data/train/squamous.cell.carcinoma/000004 (4).png\n",
            "Loaded image /content/drive/MyDrive/Chest-CT-Data/train/squamous.cell.carcinoma/000048 (5).png\n",
            "Loaded image /content/drive/MyDrive/Chest-CT-Data/train/squamous.cell.carcinoma/000048 (7).png\n",
            "Loaded image /content/drive/MyDrive/Chest-CT-Data/train/squamous.cell.carcinoma/000083 (5).png\n",
            "Loaded image /content/drive/MyDrive/Chest-CT-Data/train/squamous.cell.carcinoma/000079 (5).png\n",
            "Loaded image /content/drive/MyDrive/Chest-CT-Data/train/squamous.cell.carcinoma/000106 (3).png\n",
            "Loaded image /content/drive/MyDrive/Chest-CT-Data/train/squamous.cell.carcinoma/000085.png\n",
            "Loaded image /content/drive/MyDrive/Chest-CT-Data/train/squamous.cell.carcinoma/000099 (3).png\n",
            "Loaded image /content/drive/MyDrive/Chest-CT-Data/train/squamous.cell.carcinoma/000106 (5).png\n",
            "Loaded image /content/drive/MyDrive/Chest-CT-Data/train/squamous.cell.carcinoma/000044 (2).png\n",
            "Loaded image /content/drive/MyDrive/Chest-CT-Data/train/squamous.cell.carcinoma/000078 (7).png\n",
            "Loaded image /content/drive/MyDrive/Chest-CT-Data/train/squamous.cell.carcinoma/000018 (6).png\n",
            "Loaded image /content/drive/MyDrive/Chest-CT-Data/train/squamous.cell.carcinoma/000046 (4).png\n",
            "Loaded image /content/drive/MyDrive/Chest-CT-Data/train/squamous.cell.carcinoma/000049 (3).png\n",
            "Loaded image /content/drive/MyDrive/Chest-CT-Data/train/squamous.cell.carcinoma/000082 (3).png\n",
            "Loaded image /content/drive/MyDrive/Chest-CT-Data/train/squamous.cell.carcinoma/000056 (5).png\n",
            "Loaded image /content/drive/MyDrive/Chest-CT-Data/train/squamous.cell.carcinoma/000056 (7).png\n",
            "Loaded image /content/drive/MyDrive/Chest-CT-Data/train/squamous.cell.carcinoma/000120 (2).png\n",
            "Loaded image /content/drive/MyDrive/Chest-CT-Data/train/squamous.cell.carcinoma/000063 (3).png\n",
            "Loaded image /content/drive/MyDrive/Chest-CT-Data/train/squamous.cell.carcinoma/000060 (2).png\n",
            "Loaded image /content/drive/MyDrive/Chest-CT-Data/train/squamous.cell.carcinoma/000004 (5).png\n",
            "Loaded image /content/drive/MyDrive/Chest-CT-Data/train/squamous.cell.carcinoma/000002 (6).png\n",
            "Loaded image /content/drive/MyDrive/Chest-CT-Data/train/squamous.cell.carcinoma/000054 (3).png\n",
            "Loaded image /content/drive/MyDrive/Chest-CT-Data/train/squamous.cell.carcinoma/000101 (3).png\n",
            "Loaded image /content/drive/MyDrive/Chest-CT-Data/train/squamous.cell.carcinoma/000074 (6).png\n",
            "Loaded image /content/drive/MyDrive/Chest-CT-Data/train/squamous.cell.carcinoma/000066 (2).png\n",
            "Loaded image /content/drive/MyDrive/Chest-CT-Data/train/squamous.cell.carcinoma/000038 (2).png\n",
            "Loaded image /content/drive/MyDrive/Chest-CT-Data/train/squamous.cell.carcinoma/000104.png\n",
            "Loaded image /content/drive/MyDrive/Chest-CT-Data/train/squamous.cell.carcinoma/000071 (3).png\n",
            "Loaded image /content/drive/MyDrive/Chest-CT-Data/train/squamous.cell.carcinoma/000074 (7).png\n",
            "Loaded image /content/drive/MyDrive/Chest-CT-Data/train/squamous.cell.carcinoma/000120 (6).png\n",
            "Loaded image /content/drive/MyDrive/Chest-CT-Data/train/squamous.cell.carcinoma/000041 (4).png\n",
            "Loaded image /content/drive/MyDrive/Chest-CT-Data/train/squamous.cell.carcinoma/000106 (4).png\n",
            "Loaded image /content/drive/MyDrive/Chest-CT-Data/train/squamous.cell.carcinoma/000073 (6).png\n",
            "Loaded image /content/drive/MyDrive/Chest-CT-Data/train/squamous.cell.carcinoma/000096.png\n",
            "Loaded image /content/drive/MyDrive/Chest-CT-Data/train/squamous.cell.carcinoma/000057 (5).png\n",
            "Loaded image /content/drive/MyDrive/Chest-CT-Data/train/squamous.cell.carcinoma/000084 (7).png\n",
            "Loaded image /content/drive/MyDrive/Chest-CT-Data/train/squamous.cell.carcinoma/000035 (5).png\n",
            "Loaded image /content/drive/MyDrive/Chest-CT-Data/train/squamous.cell.carcinoma/000121.png\n",
            "Loaded image /content/drive/MyDrive/Chest-CT-Data/train/squamous.cell.carcinoma/000057 (4).png\n",
            "Loaded image /content/drive/MyDrive/Chest-CT-Data/train/squamous.cell.carcinoma/000084 (5).png\n",
            "Loaded image /content/drive/MyDrive/Chest-CT-Data/train/squamous.cell.carcinoma/000065 (5).png\n",
            "Loaded image /content/drive/MyDrive/Chest-CT-Data/train/squamous.cell.carcinoma/000058.png\n",
            "Loaded image /content/drive/MyDrive/Chest-CT-Data/train/squamous.cell.carcinoma/000046 (5).png\n",
            "Loaded image /content/drive/MyDrive/Chest-CT-Data/train/squamous.cell.carcinoma/000054.png\n",
            "Loaded image /content/drive/MyDrive/Chest-CT-Data/train/squamous.cell.carcinoma/000077 (2).png\n",
            "Loaded image /content/drive/MyDrive/Chest-CT-Data/train/squamous.cell.carcinoma/000062 (7).png\n",
            "Loaded image /content/drive/MyDrive/Chest-CT-Data/train/squamous.cell.carcinoma/000007.png\n",
            "Loaded image /content/drive/MyDrive/Chest-CT-Data/train/squamous.cell.carcinoma/000048.png\n",
            "Loaded image /content/drive/MyDrive/Chest-CT-Data/train/squamous.cell.carcinoma/000070.png\n",
            "Loaded image /content/drive/MyDrive/Chest-CT-Data/train/squamous.cell.carcinoma/000055 (2).png\n",
            "Loaded image /content/drive/MyDrive/Chest-CT-Data/train/squamous.cell.carcinoma/000050 (2).png\n",
            "Loaded image /content/drive/MyDrive/Chest-CT-Data/train/squamous.cell.carcinoma/000103.png\n",
            "Loaded image /content/drive/MyDrive/Chest-CT-Data/train/squamous.cell.carcinoma/000003.png\n",
            "Loaded image /content/drive/MyDrive/Chest-CT-Data/train/squamous.cell.carcinoma/000006 (4).png\n",
            "Loaded image /content/drive/MyDrive/Chest-CT-Data/train/squamous.cell.carcinoma/000083 (6).png\n",
            "Loaded image /content/drive/MyDrive/Chest-CT-Data/train/squamous.cell.carcinoma/000081.png\n",
            "Loaded image /content/drive/MyDrive/Chest-CT-Data/train/squamous.cell.carcinoma/000083 (2).png\n",
            "Loaded image /content/drive/MyDrive/Chest-CT-Data/train/squamous.cell.carcinoma/000094 (3).png\n",
            "Loaded image /content/drive/MyDrive/Chest-CT-Data/train/squamous.cell.carcinoma/000122.png\n",
            "Loaded image /content/drive/MyDrive/Chest-CT-Data/train/squamous.cell.carcinoma/000057 (6).png\n",
            "Loaded image /content/drive/MyDrive/Chest-CT-Data/train/squamous.cell.carcinoma/000089 (4).png\n",
            "Loaded image /content/drive/MyDrive/Chest-CT-Data/train/squamous.cell.carcinoma/000057 (7).png\n",
            "Loaded image /content/drive/MyDrive/Chest-CT-Data/train/squamous.cell.carcinoma/000043.png\n",
            "Loaded image /content/drive/MyDrive/Chest-CT-Data/train/squamous.cell.carcinoma/000104 (2).png\n",
            "Loaded image /content/drive/MyDrive/Chest-CT-Data/train/squamous.cell.carcinoma/000074 (5).png\n",
            "Loaded image /content/drive/MyDrive/Chest-CT-Data/train/squamous.cell.carcinoma/000035.png\n",
            "Loaded image /content/drive/MyDrive/Chest-CT-Data/train/squamous.cell.carcinoma/000064 (4).png\n",
            "Loaded image /content/drive/MyDrive/Chest-CT-Data/train/squamous.cell.carcinoma/000002 (4).png\n",
            "Loaded image /content/drive/MyDrive/Chest-CT-Data/train/squamous.cell.carcinoma/000070 (2).png\n",
            "Loaded image /content/drive/MyDrive/Chest-CT-Data/valid/adenocarcinoma/000116 (5).png\n",
            "Loaded image /content/drive/MyDrive/Chest-CT-Data/valid/adenocarcinoma/000111 (2).png\n",
            "Loaded image /content/drive/MyDrive/Chest-CT-Data/valid/adenocarcinoma/000109 (8).png\n",
            "Loaded image /content/drive/MyDrive/Chest-CT-Data/valid/adenocarcinoma/000116 (3).png\n",
            "Loaded image /content/drive/MyDrive/Chest-CT-Data/valid/adenocarcinoma/000112 (2).png\n",
            "Loaded image /content/drive/MyDrive/Chest-CT-Data/valid/adenocarcinoma/000116 (8).png\n",
            "Loaded image /content/drive/MyDrive/Chest-CT-Data/valid/adenocarcinoma/000112 (9).png\n",
            "Loaded image /content/drive/MyDrive/Chest-CT-Data/valid/adenocarcinoma/000108 (8).png\n",
            "Loaded image /content/drive/MyDrive/Chest-CT-Data/valid/adenocarcinoma/000114.png\n",
            "Loaded image /content/drive/MyDrive/Chest-CT-Data/valid/adenocarcinoma/000108 (7).png\n",
            "Loaded image /content/drive/MyDrive/Chest-CT-Data/valid/adenocarcinoma/000113 (3).png\n",
            "Loaded image /content/drive/MyDrive/Chest-CT-Data/valid/adenocarcinoma/000116 (9).png\n",
            "Loaded image /content/drive/MyDrive/Chest-CT-Data/valid/adenocarcinoma/000117.png\n",
            "Loaded image /content/drive/MyDrive/Chest-CT-Data/valid/adenocarcinoma/000113.png\n",
            "Loaded image /content/drive/MyDrive/Chest-CT-Data/valid/adenocarcinoma/000115.png\n",
            "Loaded image /content/drive/MyDrive/Chest-CT-Data/valid/adenocarcinoma/000115 (2).png\n",
            "Loaded image /content/drive/MyDrive/Chest-CT-Data/valid/adenocarcinoma/000114 (10).png\n",
            "Loaded image /content/drive/MyDrive/Chest-CT-Data/valid/adenocarcinoma/000109 (4).png\n",
            "Loaded image /content/drive/MyDrive/Chest-CT-Data/valid/adenocarcinoma/000110 (7).png\n",
            "Loaded image /content/drive/MyDrive/Chest-CT-Data/valid/adenocarcinoma/000115 (9).png\n",
            "Loaded image /content/drive/MyDrive/Chest-CT-Data/valid/adenocarcinoma/000115 (5).png\n",
            "Loaded image /content/drive/MyDrive/Chest-CT-Data/valid/adenocarcinoma/000117 (6).png\n",
            "Loaded image /content/drive/MyDrive/Chest-CT-Data/valid/adenocarcinoma/000109 (3).png\n",
            "Loaded image /content/drive/MyDrive/Chest-CT-Data/valid/large.cell.carcinoma/000115.png\n",
            "Loaded image /content/drive/MyDrive/Chest-CT-Data/valid/large.cell.carcinoma/000113.png\n",
            "Loaded image /content/drive/MyDrive/Chest-CT-Data/valid/large.cell.carcinoma/000108 (2)(1).png\n",
            "Loaded image /content/drive/MyDrive/Chest-CT-Data/valid/large.cell.carcinoma/000126.png\n",
            "Loaded image /content/drive/MyDrive/Chest-CT-Data/valid/large.cell.carcinoma/000120.png\n",
            "Loaded image /content/drive/MyDrive/Chest-CT-Data/valid/large.cell.carcinoma/000111 (2).png\n",
            "Loaded image /content/drive/MyDrive/Chest-CT-Data/valid/large.cell.carcinoma/000131.png\n",
            "Loaded image /content/drive/MyDrive/Chest-CT-Data/valid/large.cell.carcinoma/000110 (2)(1).png\n",
            "Loaded image /content/drive/MyDrive/Chest-CT-Data/valid/large.cell.carcinoma/000108 (2).png\n",
            "Loaded image /content/drive/MyDrive/Chest-CT-Data/valid/large.cell.carcinoma/000114.png\n",
            "Loaded image /content/drive/MyDrive/Chest-CT-Data/valid/large.cell.carcinoma/000130.png\n",
            "Loaded image /content/drive/MyDrive/Chest-CT-Data/valid/large.cell.carcinoma/000116.png\n",
            "Loaded image /content/drive/MyDrive/Chest-CT-Data/valid/large.cell.carcinoma/000128.png\n",
            "Loaded image /content/drive/MyDrive/Chest-CT-Data/valid/large.cell.carcinoma/000122.png\n",
            "Loaded image /content/drive/MyDrive/Chest-CT-Data/valid/large.cell.carcinoma/000109(1).png\n",
            "Loaded image /content/drive/MyDrive/Chest-CT-Data/valid/large.cell.carcinoma/000112.png\n",
            "Loaded image /content/drive/MyDrive/Chest-CT-Data/valid/large.cell.carcinoma/000111 (2)(1).png\n",
            "Loaded image /content/drive/MyDrive/Chest-CT-Data/valid/large.cell.carcinoma/000111(1).png\n",
            "Loaded image /content/drive/MyDrive/Chest-CT-Data/valid/large.cell.carcinoma/000113 (2).png\n",
            "Loaded image /content/drive/MyDrive/Chest-CT-Data/valid/large.cell.carcinoma/000108(1).png\n",
            "Loaded image /content/drive/MyDrive/Chest-CT-Data/valid/large.cell.carcinoma/000110.png\n",
            "Loaded image /content/drive/MyDrive/Chest-CT-Data/valid/large.cell.carcinoma/000118 (2).png\n",
            "Loaded image /content/drive/MyDrive/Chest-CT-Data/valid/large.cell.carcinoma/000111.png\n",
            "Loaded image /content/drive/MyDrive/Chest-CT-Data/valid/large.cell.carcinoma/000115 (3).png\n",
            "Loaded image /content/drive/MyDrive/Chest-CT-Data/valid/large.cell.carcinoma/000109.png\n",
            "Loaded image /content/drive/MyDrive/Chest-CT-Data/valid/large.cell.carcinoma/000108.png\n",
            "Loaded image /content/drive/MyDrive/Chest-CT-Data/valid/large.cell.carcinoma/000110 (2).png\n",
            "Loaded image /content/drive/MyDrive/Chest-CT-Data/valid/large.cell.carcinoma/000110(1).png\n",
            "Loaded image /content/drive/MyDrive/Chest-CT-Data/valid/normal/003828_02_01_174.png\n",
            "Loaded image /content/drive/MyDrive/Chest-CT-Data/valid/normal/6 - Copy.png\n",
            "Loaded image /content/drive/MyDrive/Chest-CT-Data/valid/normal/7(1).png\n",
            "Loaded image /content/drive/MyDrive/Chest-CT-Data/valid/normal/7 - Copy (3).png\n",
            "Loaded image /content/drive/MyDrive/Chest-CT-Data/valid/normal/5.png\n",
            "Loaded image /content/drive/MyDrive/Chest-CT-Data/valid/normal/8 - Copy (3)(1).png\n",
            "Loaded image /content/drive/MyDrive/Chest-CT-Data/valid/normal/6 - Copy (2) - Copy.png\n",
            "Loaded image /content/drive/MyDrive/Chest-CT-Data/valid/normal/004162_01_01_150.png\n",
            "Loaded image /content/drive/MyDrive/Chest-CT-Data/valid/normal/4 (2).png\n",
            "Loaded image /content/drive/MyDrive/Chest-CT-Data/valid/normal/004007_01_01_519.png\n",
            "Loaded image /content/drive/MyDrive/Chest-CT-Data/valid/normal/6 - Copy (3).png\n",
            "Loaded image /content/drive/MyDrive/Chest-CT-Data/valid/normal/4 - Copy (2).png\n",
            "Loaded image /content/drive/MyDrive/Chest-CT-Data/valid/normal/8 - Copy (3).png\n",
            "Loaded image /content/drive/MyDrive/Chest-CT-Data/valid/normal/7.png\n",
            "Loaded image /content/drive/MyDrive/Chest-CT-Data/valid/normal/7 - Copy (2).png\n",
            "Loaded image /content/drive/MyDrive/Chest-CT-Data/valid/squamous.cell.carcinoma/000114 (6).png\n",
            "Loaded image /content/drive/MyDrive/Chest-CT-Data/valid/squamous.cell.carcinoma/000118 (4).png\n",
            "Loaded image /content/drive/MyDrive/Chest-CT-Data/valid/squamous.cell.carcinoma/000115 (5).png\n",
            "Loaded image /content/drive/MyDrive/Chest-CT-Data/valid/squamous.cell.carcinoma/000108 (3).png\n",
            "Loaded image /content/drive/MyDrive/Chest-CT-Data/valid/squamous.cell.carcinoma/000119.png\n",
            "Loaded image /content/drive/MyDrive/Chest-CT-Data/valid/squamous.cell.carcinoma/000116 (2).png\n",
            "Loaded image /content/drive/MyDrive/Chest-CT-Data/valid/squamous.cell.carcinoma/000117 (4).png\n",
            "Loaded image /content/drive/MyDrive/Chest-CT-Data/valid/squamous.cell.carcinoma/000112.png\n",
            "Loaded image /content/drive/MyDrive/Chest-CT-Data/valid/squamous.cell.carcinoma/000111.png\n",
            "Loaded image /content/drive/MyDrive/Chest-CT-Data/valid/squamous.cell.carcinoma/000114 (4).png\n",
            "Loaded image /content/drive/MyDrive/Chest-CT-Data/valid/squamous.cell.carcinoma/000119 (5).png\n",
            "Loaded image /content/drive/MyDrive/Chest-CT-Data/valid/squamous.cell.carcinoma/000110 (6).png\n",
            "Loaded image /content/drive/MyDrive/Chest-CT-Data/valid/squamous.cell.carcinoma/000115 (2).png\n",
            "Loaded image /content/drive/MyDrive/Chest-CT-Data/valid/squamous.cell.carcinoma/000117 (6).png\n",
            "Loaded image /content/drive/MyDrive/Chest-CT-Data/valid/squamous.cell.carcinoma/000118 (5).png\n",
            "Loaded image /content/drive/MyDrive/Chest-CT-Data/test/adenocarcinoma/000140.png\n",
            "Loaded image /content/drive/MyDrive/Chest-CT-Data/test/adenocarcinoma/000144 (2).png\n",
            "Loaded image /content/drive/MyDrive/Chest-CT-Data/test/adenocarcinoma/000146 (3).png\n",
            "Loaded image /content/drive/MyDrive/Chest-CT-Data/test/adenocarcinoma/000155 (4).png\n",
            "Loaded image /content/drive/MyDrive/Chest-CT-Data/test/adenocarcinoma/000143 (5).png\n",
            "Loaded image /content/drive/MyDrive/Chest-CT-Data/test/adenocarcinoma/000123 (6).png\n",
            "Loaded image /content/drive/MyDrive/Chest-CT-Data/test/adenocarcinoma/000130 (6).png\n",
            "Loaded image /content/drive/MyDrive/Chest-CT-Data/test/adenocarcinoma/000173 (7).png\n",
            "Loaded image /content/drive/MyDrive/Chest-CT-Data/test/adenocarcinoma/000143 (6).png\n",
            "Loaded image /content/drive/MyDrive/Chest-CT-Data/test/adenocarcinoma/000138 (9).png\n",
            "Loaded image /content/drive/MyDrive/Chest-CT-Data/test/adenocarcinoma/000137 (2).png\n",
            "Loaded image /content/drive/MyDrive/Chest-CT-Data/test/adenocarcinoma/000119 (4).png\n",
            "Loaded image /content/drive/MyDrive/Chest-CT-Data/test/adenocarcinoma/000158 (3).png\n",
            "Loaded image /content/drive/MyDrive/Chest-CT-Data/test/adenocarcinoma/000147.png\n",
            "Loaded image /content/drive/MyDrive/Chest-CT-Data/test/adenocarcinoma/000160 (6).png\n",
            "Loaded image /content/drive/MyDrive/Chest-CT-Data/test/adenocarcinoma/000146 (6).png\n",
            "Loaded image /content/drive/MyDrive/Chest-CT-Data/test/adenocarcinoma/000139.png\n",
            "Loaded image /content/drive/MyDrive/Chest-CT-Data/test/adenocarcinoma/000174 (4).png\n",
            "Loaded image /content/drive/MyDrive/Chest-CT-Data/test/adenocarcinoma/000132 (2).png\n",
            "Loaded image /content/drive/MyDrive/Chest-CT-Data/test/adenocarcinoma/000138 (6).png\n",
            "Loaded image /content/drive/MyDrive/Chest-CT-Data/test/adenocarcinoma/000121.png\n",
            "Loaded image /content/drive/MyDrive/Chest-CT-Data/test/adenocarcinoma/000148.png\n",
            "Loaded image /content/drive/MyDrive/Chest-CT-Data/test/adenocarcinoma/000173 (5).png\n",
            "Loaded image /content/drive/MyDrive/Chest-CT-Data/test/adenocarcinoma/000115 (4).png\n",
            "Loaded image /content/drive/MyDrive/Chest-CT-Data/test/adenocarcinoma/000128 (5).png\n",
            "Loaded image /content/drive/MyDrive/Chest-CT-Data/test/adenocarcinoma/000163 (3).png\n",
            "Loaded image /content/drive/MyDrive/Chest-CT-Data/test/adenocarcinoma/000137 (4).png\n",
            "Loaded image /content/drive/MyDrive/Chest-CT-Data/test/adenocarcinoma/000134 (9).png\n",
            "Loaded image /content/drive/MyDrive/Chest-CT-Data/test/adenocarcinoma/000165 (6).png\n",
            "Loaded image /content/drive/MyDrive/Chest-CT-Data/test/adenocarcinoma/000172 (3).png\n",
            "Loaded image /content/drive/MyDrive/Chest-CT-Data/test/adenocarcinoma/000166 (3).png\n",
            "Loaded image /content/drive/MyDrive/Chest-CT-Data/test/adenocarcinoma/000176 (2).png\n",
            "Loaded image /content/drive/MyDrive/Chest-CT-Data/test/adenocarcinoma/000161 (4).png\n",
            "Loaded image /content/drive/MyDrive/Chest-CT-Data/test/adenocarcinoma/000157 (5).png\n",
            "Loaded image /content/drive/MyDrive/Chest-CT-Data/test/adenocarcinoma/000118 (5).png\n",
            "Loaded image /content/drive/MyDrive/Chest-CT-Data/test/adenocarcinoma/000149 (7).png\n",
            "Loaded image /content/drive/MyDrive/Chest-CT-Data/test/adenocarcinoma/000166 (4).png\n",
            "Loaded image /content/drive/MyDrive/Chest-CT-Data/test/adenocarcinoma/000123 (9).png\n",
            "Loaded image /content/drive/MyDrive/Chest-CT-Data/test/adenocarcinoma/000139 (9).png\n",
            "Loaded image /content/drive/MyDrive/Chest-CT-Data/test/adenocarcinoma/000115.png\n",
            "Loaded image /content/drive/MyDrive/Chest-CT-Data/test/adenocarcinoma/000166 (2).png\n",
            "Loaded image /content/drive/MyDrive/Chest-CT-Data/test/adenocarcinoma/000134.png\n",
            "Loaded image /content/drive/MyDrive/Chest-CT-Data/test/adenocarcinoma/000132 (8).png\n",
            "Loaded image /content/drive/MyDrive/Chest-CT-Data/test/adenocarcinoma/000133 (4).png\n",
            "Loaded image /content/drive/MyDrive/Chest-CT-Data/test/adenocarcinoma/000158 (2).png\n",
            "Loaded image /content/drive/MyDrive/Chest-CT-Data/test/adenocarcinoma/000158 (5).png\n",
            "Loaded image /content/drive/MyDrive/Chest-CT-Data/test/adenocarcinoma/000125 (8).png\n",
            "Loaded image /content/drive/MyDrive/Chest-CT-Data/test/adenocarcinoma/000123 (4).png\n",
            "Loaded image /content/drive/MyDrive/Chest-CT-Data/test/adenocarcinoma/000129.png\n",
            "Loaded image /content/drive/MyDrive/Chest-CT-Data/test/adenocarcinoma/000136 (2).png\n",
            "Loaded image /content/drive/MyDrive/Chest-CT-Data/test/adenocarcinoma/000117 (4).png\n",
            "Loaded image /content/drive/MyDrive/Chest-CT-Data/test/adenocarcinoma/000171.png\n",
            "Loaded image /content/drive/MyDrive/Chest-CT-Data/test/adenocarcinoma/000148 (3).png\n",
            "Loaded image /content/drive/MyDrive/Chest-CT-Data/test/adenocarcinoma/000120.png\n",
            "Loaded image /content/drive/MyDrive/Chest-CT-Data/test/adenocarcinoma/000135 (5).png\n",
            "Loaded image /content/drive/MyDrive/Chest-CT-Data/test/adenocarcinoma/000139 (5).png\n",
            "Loaded image /content/drive/MyDrive/Chest-CT-Data/test/adenocarcinoma/000114.png\n",
            "Loaded image /content/drive/MyDrive/Chest-CT-Data/test/adenocarcinoma/000141 (2).png\n",
            "Loaded image /content/drive/MyDrive/Chest-CT-Data/test/adenocarcinoma/000117.png\n",
            "Loaded image /content/drive/MyDrive/Chest-CT-Data/test/adenocarcinoma/000122.png\n",
            "Loaded image /content/drive/MyDrive/Chest-CT-Data/test/adenocarcinoma/000139 (6).png\n",
            "Loaded image /content/drive/MyDrive/Chest-CT-Data/test/adenocarcinoma/000148 (6).png\n",
            "Loaded image /content/drive/MyDrive/Chest-CT-Data/test/adenocarcinoma/000158 (6).png\n",
            "Loaded image /content/drive/MyDrive/Chest-CT-Data/test/adenocarcinoma/000168 (3).png\n",
            "Loaded image /content/drive/MyDrive/Chest-CT-Data/test/adenocarcinoma/000116 (7).png\n",
            "Loaded image /content/drive/MyDrive/Chest-CT-Data/test/adenocarcinoma/000139 (8).png\n",
            "Loaded image /content/drive/MyDrive/Chest-CT-Data/test/adenocarcinoma/000171 (5).png\n",
            "Loaded image /content/drive/MyDrive/Chest-CT-Data/test/adenocarcinoma/000149 (4).png\n",
            "Loaded image /content/drive/MyDrive/Chest-CT-Data/test/adenocarcinoma/000144 (5).png\n",
            "Loaded image /content/drive/MyDrive/Chest-CT-Data/test/adenocarcinoma/000161 (5).png\n",
            "Loaded image /content/drive/MyDrive/Chest-CT-Data/test/adenocarcinoma/000142.png\n",
            "Loaded image /content/drive/MyDrive/Chest-CT-Data/test/adenocarcinoma/000167 (3).png\n",
            "Loaded image /content/drive/MyDrive/Chest-CT-Data/test/adenocarcinoma/000116 (5).png\n",
            "Loaded image /content/drive/MyDrive/Chest-CT-Data/test/adenocarcinoma/000167 (8).png\n",
            "Loaded image /content/drive/MyDrive/Chest-CT-Data/test/adenocarcinoma/000151 (5).png\n",
            "Loaded image /content/drive/MyDrive/Chest-CT-Data/test/adenocarcinoma/000148 (8).png\n",
            "Loaded image /content/drive/MyDrive/Chest-CT-Data/test/adenocarcinoma/000129 (5).png\n",
            "Loaded image /content/drive/MyDrive/Chest-CT-Data/test/adenocarcinoma/000153 (5).png\n",
            "Loaded image /content/drive/MyDrive/Chest-CT-Data/test/adenocarcinoma/000131 (2).png\n",
            "Loaded image /content/drive/MyDrive/Chest-CT-Data/test/adenocarcinoma/000156 (4).png\n",
            "Loaded image /content/drive/MyDrive/Chest-CT-Data/test/adenocarcinoma/000125 (6).png\n",
            "Loaded image /content/drive/MyDrive/Chest-CT-Data/test/adenocarcinoma/000177.png\n",
            "Loaded image /content/drive/MyDrive/Chest-CT-Data/test/adenocarcinoma/000145 (9).png\n",
            "Loaded image /content/drive/MyDrive/Chest-CT-Data/test/adenocarcinoma/000132.png\n",
            "Loaded image /content/drive/MyDrive/Chest-CT-Data/test/adenocarcinoma/000118 (7).png\n",
            "Loaded image /content/drive/MyDrive/Chest-CT-Data/test/adenocarcinoma/000117 (8).png\n",
            "Loaded image /content/drive/MyDrive/Chest-CT-Data/test/adenocarcinoma/000125 (4).png\n",
            "Loaded image /content/drive/MyDrive/Chest-CT-Data/test/adenocarcinoma/000164 (5).png\n",
            "Loaded image /content/drive/MyDrive/Chest-CT-Data/test/adenocarcinoma/000177 (4).png\n",
            "Loaded image /content/drive/MyDrive/Chest-CT-Data/test/adenocarcinoma/000126 (6).png\n",
            "Loaded image /content/drive/MyDrive/Chest-CT-Data/test/adenocarcinoma/000121 (7).png\n",
            "Loaded image /content/drive/MyDrive/Chest-CT-Data/test/adenocarcinoma/000149 (2).png\n",
            "Loaded image /content/drive/MyDrive/Chest-CT-Data/test/adenocarcinoma/000125 (5).png\n",
            "Loaded image /content/drive/MyDrive/Chest-CT-Data/test/adenocarcinoma/000163 (7).png\n",
            "Loaded image /content/drive/MyDrive/Chest-CT-Data/test/adenocarcinoma/000124 (9).png\n",
            "Loaded image /content/drive/MyDrive/Chest-CT-Data/test/adenocarcinoma/000127 (5).png\n",
            "Loaded image /content/drive/MyDrive/Chest-CT-Data/test/adenocarcinoma/000112 (2).png\n",
            "Loaded image /content/drive/MyDrive/Chest-CT-Data/test/adenocarcinoma/000119 (6).png\n",
            "Loaded image /content/drive/MyDrive/Chest-CT-Data/test/adenocarcinoma/000109 (2).png\n",
            "Loaded image /content/drive/MyDrive/Chest-CT-Data/test/adenocarcinoma/000109 (4).png\n",
            "Loaded image /content/drive/MyDrive/Chest-CT-Data/test/adenocarcinoma/000122 (4).png\n",
            "Loaded image /content/drive/MyDrive/Chest-CT-Data/test/adenocarcinoma/000113 (7).png\n",
            "Loaded image /content/drive/MyDrive/Chest-CT-Data/test/adenocarcinoma/000124 (6).png\n",
            "Loaded image /content/drive/MyDrive/Chest-CT-Data/test/adenocarcinoma/000133 (2).png\n",
            "Loaded image /content/drive/MyDrive/Chest-CT-Data/test/adenocarcinoma/000119 (5).png\n",
            "Loaded image /content/drive/MyDrive/Chest-CT-Data/test/adenocarcinoma/000155.png\n",
            "Loaded image /content/drive/MyDrive/Chest-CT-Data/test/adenocarcinoma/000116 (9).png\n",
            "Loaded image /content/drive/MyDrive/Chest-CT-Data/test/adenocarcinoma/000125 (2).png\n",
            "Loaded image /content/drive/MyDrive/Chest-CT-Data/test/adenocarcinoma/000160 (4).png\n",
            "Loaded image /content/drive/MyDrive/Chest-CT-Data/test/adenocarcinoma/000137 (8).png\n",
            "Loaded image /content/drive/MyDrive/Chest-CT-Data/test/adenocarcinoma/000121 (6).png\n",
            "Loaded image /content/drive/MyDrive/Chest-CT-Data/test/adenocarcinoma/000114 (5).png\n",
            "Loaded image /content/drive/MyDrive/Chest-CT-Data/test/adenocarcinoma/000158.png\n",
            "Loaded image /content/drive/MyDrive/Chest-CT-Data/test/adenocarcinoma/000108 (3).png\n",
            "Loaded image /content/drive/MyDrive/Chest-CT-Data/test/adenocarcinoma/000115 (8).png\n",
            "Loaded image /content/drive/MyDrive/Chest-CT-Data/test/adenocarcinoma/000136 (8).png\n",
            "Loaded image /content/drive/MyDrive/Chest-CT-Data/test/adenocarcinoma/000134 (2).png\n",
            "Loaded image /content/drive/MyDrive/Chest-CT-Data/test/adenocarcinoma/000132 (7).png\n",
            "Loaded image /content/drive/MyDrive/Chest-CT-Data/test/adenocarcinoma/000109 (5).png\n",
            "Loaded image /content/drive/MyDrive/Chest-CT-Data/test/adenocarcinoma/000157 (6).png\n",
            "Loaded image /content/drive/MyDrive/Chest-CT-Data/test/large.cell.carcinoma/000170.png\n",
            "Loaded image /content/drive/MyDrive/Chest-CT-Data/test/large.cell.carcinoma/000173 (2).png\n",
            "Loaded image /content/drive/MyDrive/Chest-CT-Data/test/large.cell.carcinoma/000138 (2).png\n",
            "Loaded image /content/drive/MyDrive/Chest-CT-Data/test/large.cell.carcinoma/000149.png\n",
            "Loaded image /content/drive/MyDrive/Chest-CT-Data/test/large.cell.carcinoma/000113.png\n",
            "Loaded image /content/drive/MyDrive/Chest-CT-Data/test/large.cell.carcinoma/000128.png\n",
            "Loaded image /content/drive/MyDrive/Chest-CT-Data/test/large.cell.carcinoma/000130.png\n",
            "Loaded image /content/drive/MyDrive/Chest-CT-Data/test/large.cell.carcinoma/000173.png\n",
            "Loaded image /content/drive/MyDrive/Chest-CT-Data/test/large.cell.carcinoma/000133.png\n",
            "Loaded image /content/drive/MyDrive/Chest-CT-Data/test/large.cell.carcinoma/000160.png\n",
            "Loaded image /content/drive/MyDrive/Chest-CT-Data/test/large.cell.carcinoma/000172.png\n",
            "Loaded image /content/drive/MyDrive/Chest-CT-Data/test/large.cell.carcinoma/000141.png\n",
            "Loaded image /content/drive/MyDrive/Chest-CT-Data/test/large.cell.carcinoma/000169.png\n",
            "Loaded image /content/drive/MyDrive/Chest-CT-Data/test/large.cell.carcinoma/000163.png\n",
            "Loaded image /content/drive/MyDrive/Chest-CT-Data/test/large.cell.carcinoma/000154.png\n",
            "Loaded image /content/drive/MyDrive/Chest-CT-Data/test/large.cell.carcinoma/000172 (2).png\n",
            "Loaded image /content/drive/MyDrive/Chest-CT-Data/test/large.cell.carcinoma/000171.png\n",
            "Loaded image /content/drive/MyDrive/Chest-CT-Data/test/large.cell.carcinoma/000174.png\n",
            "Loaded image /content/drive/MyDrive/Chest-CT-Data/test/large.cell.carcinoma/000111.png\n",
            "Loaded image /content/drive/MyDrive/Chest-CT-Data/test/large.cell.carcinoma/000150.png\n",
            "Loaded image /content/drive/MyDrive/Chest-CT-Data/test/large.cell.carcinoma/000148.png\n",
            "Loaded image /content/drive/MyDrive/Chest-CT-Data/test/large.cell.carcinoma/000123.png\n",
            "Loaded image /content/drive/MyDrive/Chest-CT-Data/test/large.cell.carcinoma/000120.png\n",
            "Loaded image /content/drive/MyDrive/Chest-CT-Data/test/large.cell.carcinoma/000158.png\n",
            "Loaded image /content/drive/MyDrive/Chest-CT-Data/test/large.cell.carcinoma/000115 (2).png\n",
            "Loaded image /content/drive/MyDrive/Chest-CT-Data/test/large.cell.carcinoma/000137.png\n",
            "Loaded image /content/drive/MyDrive/Chest-CT-Data/test/large.cell.carcinoma/000118.png\n",
            "Loaded image /content/drive/MyDrive/Chest-CT-Data/test/large.cell.carcinoma/000114.png\n",
            "Loaded image /content/drive/MyDrive/Chest-CT-Data/test/large.cell.carcinoma/000159 (2).png\n",
            "Loaded image /content/drive/MyDrive/Chest-CT-Data/test/large.cell.carcinoma/000128 (2).png\n",
            "Loaded image /content/drive/MyDrive/Chest-CT-Data/test/large.cell.carcinoma/000111 (2).png\n",
            "Loaded image /content/drive/MyDrive/Chest-CT-Data/test/large.cell.carcinoma/000126.png\n",
            "Loaded image /content/drive/MyDrive/Chest-CT-Data/test/large.cell.carcinoma/000155.png\n",
            "Loaded image /content/drive/MyDrive/Chest-CT-Data/test/large.cell.carcinoma/000116.png\n",
            "Loaded image /content/drive/MyDrive/Chest-CT-Data/test/large.cell.carcinoma/000131.png\n",
            "Loaded image /content/drive/MyDrive/Chest-CT-Data/test/large.cell.carcinoma/000122.png\n",
            "Loaded image /content/drive/MyDrive/Chest-CT-Data/test/large.cell.carcinoma/000148 (2).png\n",
            "Loaded image /content/drive/MyDrive/Chest-CT-Data/test/large.cell.carcinoma/000132 (2).png\n",
            "Loaded image /content/drive/MyDrive/Chest-CT-Data/test/large.cell.carcinoma/000162.png\n",
            "Loaded image /content/drive/MyDrive/Chest-CT-Data/test/large.cell.carcinoma/000113 (2).png\n",
            "Loaded image /content/drive/MyDrive/Chest-CT-Data/test/large.cell.carcinoma/000136 (2).png\n",
            "Loaded image /content/drive/MyDrive/Chest-CT-Data/test/large.cell.carcinoma/000108.png\n",
            "Loaded image /content/drive/MyDrive/Chest-CT-Data/test/large.cell.carcinoma/000131 (2).png\n",
            "Loaded image /content/drive/MyDrive/Chest-CT-Data/test/large.cell.carcinoma/000124 (2).png\n",
            "Loaded image /content/drive/MyDrive/Chest-CT-Data/test/large.cell.carcinoma/000147 (2).png\n",
            "Loaded image /content/drive/MyDrive/Chest-CT-Data/test/large.cell.carcinoma/000110.png\n",
            "Loaded image /content/drive/MyDrive/Chest-CT-Data/test/large.cell.carcinoma/000133 (2).png\n",
            "Loaded image /content/drive/MyDrive/Chest-CT-Data/test/large.cell.carcinoma/000159.png\n",
            "Loaded image /content/drive/MyDrive/Chest-CT-Data/test/large.cell.carcinoma/000154 (2).png\n",
            "Loaded image /content/drive/MyDrive/Chest-CT-Data/test/large.cell.carcinoma/000143.png\n",
            "Loaded image /content/drive/MyDrive/Chest-CT-Data/test/large.cell.carcinoma/000127 (2).png\n",
            "Loaded image /content/drive/MyDrive/Chest-CT-Data/test/normal/11 - Copy (2).png\n",
            "Loaded image /content/drive/MyDrive/Chest-CT-Data/test/normal/6 - Copy (3).png\n",
            "Loaded image /content/drive/MyDrive/Chest-CT-Data/test/normal/10 - Copy (3).png\n",
            "Loaded image /content/drive/MyDrive/Chest-CT-Data/test/normal/6 - Copy.png\n",
            "Loaded image /content/drive/MyDrive/Chest-CT-Data/test/normal/11 (2).png\n",
            "Loaded image /content/drive/MyDrive/Chest-CT-Data/test/normal/12 - Copy - Copy.png\n",
            "Loaded image /content/drive/MyDrive/Chest-CT-Data/test/normal/8 - Copy (3).png\n",
            "Loaded image /content/drive/MyDrive/Chest-CT-Data/test/normal/10.png\n",
            "Loaded image /content/drive/MyDrive/Chest-CT-Data/test/normal/8.png\n",
            "Loaded image /content/drive/MyDrive/Chest-CT-Data/test/normal/6 (2) - Copy.png\n",
            "Loaded image /content/drive/MyDrive/Chest-CT-Data/test/normal/6 - Copy (2) - Copy.png\n",
            "Loaded image /content/drive/MyDrive/Chest-CT-Data/test/normal/6.png\n",
            "Loaded image /content/drive/MyDrive/Chest-CT-Data/test/normal/11 - Copy - Copy.png\n",
            "Loaded image /content/drive/MyDrive/Chest-CT-Data/test/normal/10 (2) - Copy.png\n",
            "Loaded image /content/drive/MyDrive/Chest-CT-Data/test/normal/7 - Copy (3).png\n",
            "Loaded image /content/drive/MyDrive/Chest-CT-Data/test/normal/12 (2).png\n",
            "Loaded image /content/drive/MyDrive/Chest-CT-Data/test/normal/12 - Copy (3).png\n",
            "Loaded image /content/drive/MyDrive/Chest-CT-Data/test/normal/11 - Copy (3).png\n",
            "Loaded image /content/drive/MyDrive/Chest-CT-Data/test/normal/6 - Copy (2).png\n",
            "Loaded image /content/drive/MyDrive/Chest-CT-Data/test/normal/24 - Copy.png\n",
            "Loaded image /content/drive/MyDrive/Chest-CT-Data/test/normal/21.png\n",
            "Loaded image /content/drive/MyDrive/Chest-CT-Data/test/normal/11 - Copy (2) - Copy.png\n",
            "Loaded image /content/drive/MyDrive/Chest-CT-Data/test/normal/24.png\n",
            "Loaded image /content/drive/MyDrive/Chest-CT-Data/test/normal/8 - Copy.png\n",
            "Loaded image /content/drive/MyDrive/Chest-CT-Data/test/normal/10 - Copy (2) - Copy.png\n",
            "Loaded image /content/drive/MyDrive/Chest-CT-Data/test/normal/8 (2) - Copy.png\n",
            "Loaded image /content/drive/MyDrive/Chest-CT-Data/test/normal/25.png\n",
            "Loaded image /content/drive/MyDrive/Chest-CT-Data/test/normal/7 (2) - Copy.png\n",
            "Loaded image /content/drive/MyDrive/Chest-CT-Data/test/normal/22.png\n",
            "Loaded image /content/drive/MyDrive/Chest-CT-Data/test/normal/7.png\n",
            "Loaded image /content/drive/MyDrive/Chest-CT-Data/test/normal/12 - Copy (2).png\n",
            "Loaded image /content/drive/MyDrive/Chest-CT-Data/test/normal/8 - Copy - Copy.png\n",
            "Loaded image /content/drive/MyDrive/Chest-CT-Data/test/normal/12 - Copy.png\n",
            "Loaded image /content/drive/MyDrive/Chest-CT-Data/test/normal/23.png\n",
            "Loaded image /content/drive/MyDrive/Chest-CT-Data/test/normal/7 - Copy (2) - Copy.png\n",
            "Loaded image /content/drive/MyDrive/Chest-CT-Data/test/normal/10 - Copy (2).png\n",
            "Loaded image /content/drive/MyDrive/Chest-CT-Data/test/normal/7 - Copy.png\n",
            "Loaded image /content/drive/MyDrive/Chest-CT-Data/test/normal/10 - Copy.png\n",
            "Loaded image /content/drive/MyDrive/Chest-CT-Data/test/normal/12 (2) - Copy.png\n",
            "Loaded image /content/drive/MyDrive/Chest-CT-Data/test/normal/10 - Copy - Copy.png\n",
            "Loaded image /content/drive/MyDrive/Chest-CT-Data/test/normal/12 - Copy (2) - Copy.png\n",
            "Loaded image /content/drive/MyDrive/Chest-CT-Data/test/normal/11 (2) - Copy.png\n",
            "Loaded image /content/drive/MyDrive/Chest-CT-Data/test/normal/10 (2).png\n",
            "Loaded image /content/drive/MyDrive/Chest-CT-Data/test/normal/8 - Copy (2) - Copy.png\n",
            "Loaded image /content/drive/MyDrive/Chest-CT-Data/test/normal/8 - Copy (2).png\n",
            "Loaded image /content/drive/MyDrive/Chest-CT-Data/test/normal/8 (2).png\n",
            "Loaded image /content/drive/MyDrive/Chest-CT-Data/test/normal/11.png\n",
            "Loaded image /content/drive/MyDrive/Chest-CT-Data/test/normal/normal.png\n",
            "Loaded image /content/drive/MyDrive/Chest-CT-Data/test/normal/7 (2).png\n",
            "Loaded image /content/drive/MyDrive/Chest-CT-Data/test/normal/7 - Copy (2).png\n",
            "Loaded image /content/drive/MyDrive/Chest-CT-Data/test/normal/6 (2).png\n",
            "Loaded image /content/drive/MyDrive/Chest-CT-Data/test/normal/11 - Copy.png\n",
            "Loaded image /content/drive/MyDrive/Chest-CT-Data/test/normal/normal - Copy.png\n",
            "Loaded image /content/drive/MyDrive/Chest-CT-Data/test/normal/7 - Copy - Copy.png\n",
            "Loaded image /content/drive/MyDrive/Chest-CT-Data/test/squamous.cell.carcinoma/000124 (5).png\n",
            "Loaded image /content/drive/MyDrive/Chest-CT-Data/test/squamous.cell.carcinoma/000162.png\n",
            "Loaded image /content/drive/MyDrive/Chest-CT-Data/test/squamous.cell.carcinoma/000168 (2).png\n",
            "Loaded image /content/drive/MyDrive/Chest-CT-Data/test/squamous.cell.carcinoma/000125 (2).png\n",
            "Loaded image /content/drive/MyDrive/Chest-CT-Data/test/squamous.cell.carcinoma/000125 (6).png\n",
            "Loaded image /content/drive/MyDrive/Chest-CT-Data/test/squamous.cell.carcinoma/000122 (6).png\n",
            "Loaded image /content/drive/MyDrive/Chest-CT-Data/test/squamous.cell.carcinoma/000144 (5).png\n",
            "Loaded image /content/drive/MyDrive/Chest-CT-Data/test/squamous.cell.carcinoma/000130 (4).png\n",
            "Loaded image /content/drive/MyDrive/Chest-CT-Data/test/squamous.cell.carcinoma/000127 (2).png\n",
            "Loaded image /content/drive/MyDrive/Chest-CT-Data/test/squamous.cell.carcinoma/000132 (4).png\n",
            "Loaded image /content/drive/MyDrive/Chest-CT-Data/test/squamous.cell.carcinoma/000145 (6).png\n",
            "Loaded image /content/drive/MyDrive/Chest-CT-Data/test/squamous.cell.carcinoma/000151 (6).png\n",
            "Loaded image /content/drive/MyDrive/Chest-CT-Data/test/squamous.cell.carcinoma/000169 (6).png\n",
            "Loaded image /content/drive/MyDrive/Chest-CT-Data/test/squamous.cell.carcinoma/000170 (2).png\n",
            "Loaded image /content/drive/MyDrive/Chest-CT-Data/test/squamous.cell.carcinoma/000160 (4).png\n",
            "Loaded image /content/drive/MyDrive/Chest-CT-Data/test/squamous.cell.carcinoma/000153 (3).png\n",
            "Loaded image /content/drive/MyDrive/Chest-CT-Data/test/squamous.cell.carcinoma/000119.png\n",
            "Loaded image /content/drive/MyDrive/Chest-CT-Data/test/squamous.cell.carcinoma/000154 (2).png\n",
            "Loaded image /content/drive/MyDrive/Chest-CT-Data/test/squamous.cell.carcinoma/000164 (5).png\n",
            "Loaded image /content/drive/MyDrive/Chest-CT-Data/test/squamous.cell.carcinoma/000120 (3).png\n",
            "Loaded image /content/drive/MyDrive/Chest-CT-Data/test/squamous.cell.carcinoma/000141 (4).png\n",
            "Loaded image /content/drive/MyDrive/Chest-CT-Data/test/squamous.cell.carcinoma/000154 (3).png\n",
            "Loaded image /content/drive/MyDrive/Chest-CT-Data/test/squamous.cell.carcinoma/000135.png\n",
            "Loaded image /content/drive/MyDrive/Chest-CT-Data/test/squamous.cell.carcinoma/000156 (2).png\n",
            "Loaded image /content/drive/MyDrive/Chest-CT-Data/test/squamous.cell.carcinoma/000151.png\n",
            "Loaded image /content/drive/MyDrive/Chest-CT-Data/test/squamous.cell.carcinoma/000142 (6).png\n",
            "Loaded image /content/drive/MyDrive/Chest-CT-Data/test/squamous.cell.carcinoma/000136 (6).png\n",
            "Loaded image /content/drive/MyDrive/Chest-CT-Data/test/squamous.cell.carcinoma/000124.png\n",
            "Loaded image /content/drive/MyDrive/Chest-CT-Data/test/squamous.cell.carcinoma/000155 (3).png\n",
            "Loaded image /content/drive/MyDrive/Chest-CT-Data/test/squamous.cell.carcinoma/000177 (3).png\n",
            "Loaded image /content/drive/MyDrive/Chest-CT-Data/test/squamous.cell.carcinoma/000121 (5).png\n",
            "Loaded image /content/drive/MyDrive/Chest-CT-Data/test/squamous.cell.carcinoma/000122.png\n",
            "Loaded image /content/drive/MyDrive/Chest-CT-Data/test/squamous.cell.carcinoma/000137.png\n",
            "Loaded image /content/drive/MyDrive/Chest-CT-Data/test/squamous.cell.carcinoma/000163 (4).png\n",
            "Loaded image /content/drive/MyDrive/Chest-CT-Data/test/squamous.cell.carcinoma/000129 (6).png\n",
            "Loaded image /content/drive/MyDrive/Chest-CT-Data/test/squamous.cell.carcinoma/000136 (4).png\n",
            "Loaded image /content/drive/MyDrive/Chest-CT-Data/test/squamous.cell.carcinoma/000166 (4).png\n",
            "Loaded image /content/drive/MyDrive/Chest-CT-Data/test/squamous.cell.carcinoma/000167 (2).png\n",
            "Loaded image /content/drive/MyDrive/Chest-CT-Data/test/squamous.cell.carcinoma/000135 (4).png\n",
            "Loaded image /content/drive/MyDrive/Chest-CT-Data/test/squamous.cell.carcinoma/000115 (4).png\n",
            "Loaded image /content/drive/MyDrive/Chest-CT-Data/test/squamous.cell.carcinoma/000112.png\n",
            "Loaded image /content/drive/MyDrive/Chest-CT-Data/test/squamous.cell.carcinoma/000134 (5).png\n",
            "Loaded image /content/drive/MyDrive/Chest-CT-Data/test/squamous.cell.carcinoma/000117 (3).png\n",
            "Loaded image /content/drive/MyDrive/Chest-CT-Data/test/squamous.cell.carcinoma/000120 (2).png\n",
            "Loaded image /content/drive/MyDrive/Chest-CT-Data/test/squamous.cell.carcinoma/000118 (4).png\n",
            "Loaded image /content/drive/MyDrive/Chest-CT-Data/test/squamous.cell.carcinoma/000133 (2).png\n",
            "Loaded image /content/drive/MyDrive/Chest-CT-Data/test/squamous.cell.carcinoma/000125.png\n",
            "Loaded image /content/drive/MyDrive/Chest-CT-Data/test/squamous.cell.carcinoma/000172 (6).png\n",
            "Loaded image /content/drive/MyDrive/Chest-CT-Data/test/squamous.cell.carcinoma/000139 (6).png\n",
            "Loaded image /content/drive/MyDrive/Chest-CT-Data/test/squamous.cell.carcinoma/000154 (4).png\n",
            "Loaded image /content/drive/MyDrive/Chest-CT-Data/test/squamous.cell.carcinoma/000137 (3).png\n",
            "Loaded image /content/drive/MyDrive/Chest-CT-Data/test/squamous.cell.carcinoma/000153 (4).png\n",
            "Loaded image /content/drive/MyDrive/Chest-CT-Data/test/squamous.cell.carcinoma/000155.png\n",
            "Loaded image /content/drive/MyDrive/Chest-CT-Data/test/squamous.cell.carcinoma/000149 (4).png\n",
            "Loaded image /content/drive/MyDrive/Chest-CT-Data/test/squamous.cell.carcinoma/000129 (2).png\n",
            "Loaded image /content/drive/MyDrive/Chest-CT-Data/test/squamous.cell.carcinoma/000174 (3).png\n",
            "Loaded image /content/drive/MyDrive/Chest-CT-Data/test/squamous.cell.carcinoma/000131 (6).png\n",
            "Loaded image /content/drive/MyDrive/Chest-CT-Data/test/squamous.cell.carcinoma/000153.png\n",
            "Loaded image /content/drive/MyDrive/Chest-CT-Data/test/squamous.cell.carcinoma/000159 (5).png\n",
            "Loaded image /content/drive/MyDrive/Chest-CT-Data/test/squamous.cell.carcinoma/000141 (2).png\n",
            "Loaded image /content/drive/MyDrive/Chest-CT-Data/test/squamous.cell.carcinoma/000163 (6).png\n",
            "Loaded image /content/drive/MyDrive/Chest-CT-Data/test/squamous.cell.carcinoma/000148 (4).png\n",
            "Loaded image /content/drive/MyDrive/Chest-CT-Data/test/squamous.cell.carcinoma/000120 (5).png\n",
            "Loaded image /content/drive/MyDrive/Chest-CT-Data/test/squamous.cell.carcinoma/000139 (4).png\n",
            "Loaded image /content/drive/MyDrive/Chest-CT-Data/test/squamous.cell.carcinoma/000158 (6).png\n",
            "Loaded image /content/drive/MyDrive/Chest-CT-Data/test/squamous.cell.carcinoma/000142 (5).png\n",
            "Loaded image /content/drive/MyDrive/Chest-CT-Data/test/squamous.cell.carcinoma/000127.png\n",
            "Loaded image /content/drive/MyDrive/Chest-CT-Data/test/squamous.cell.carcinoma/000139 (5).png\n",
            "Loaded image /content/drive/MyDrive/Chest-CT-Data/test/squamous.cell.carcinoma/000121.png\n",
            "Loaded image /content/drive/MyDrive/Chest-CT-Data/test/squamous.cell.carcinoma/000127 (6).png\n",
            "Loaded image /content/drive/MyDrive/Chest-CT-Data/test/squamous.cell.carcinoma/000162 (2).png\n",
            "Loaded image /content/drive/MyDrive/Chest-CT-Data/test/squamous.cell.carcinoma/000114 (2).png\n",
            "Loaded image /content/drive/MyDrive/Chest-CT-Data/test/squamous.cell.carcinoma/000116 (5).png\n",
            "Loaded image /content/drive/MyDrive/Chest-CT-Data/test/squamous.cell.carcinoma/000110 (2).png\n",
            "Loaded image /content/drive/MyDrive/Chest-CT-Data/test/squamous.cell.carcinoma/000119 (4).png\n",
            "Loaded image /content/drive/MyDrive/Chest-CT-Data/test/squamous.cell.carcinoma/000118 (3).png\n",
            "Loaded image /content/drive/MyDrive/Chest-CT-Data/test/squamous.cell.carcinoma/000115 (5).png\n",
            "Loaded image /content/drive/MyDrive/Chest-CT-Data/test/squamous.cell.carcinoma/000146 (6).png\n",
            "Loaded image /content/drive/MyDrive/Chest-CT-Data/test/squamous.cell.carcinoma/000163 (5).png\n",
            "Loaded image /content/drive/MyDrive/Chest-CT-Data/test/squamous.cell.carcinoma/000117 (5).png\n",
            "Loaded image /content/drive/MyDrive/Chest-CT-Data/test/squamous.cell.carcinoma/000126 (4).png\n",
            "Loaded image /content/drive/MyDrive/Chest-CT-Data/test/squamous.cell.carcinoma/000148 (3).png\n",
            "Loaded image /content/drive/MyDrive/Chest-CT-Data/test/squamous.cell.carcinoma/000124 (4).png\n",
            "Loaded image /content/drive/MyDrive/Chest-CT-Data/test/squamous.cell.carcinoma/000158 (4).png\n",
            "Loaded image /content/drive/MyDrive/Chest-CT-Data/test/squamous.cell.carcinoma/000157 (6).png\n",
            "Loaded image /content/drive/MyDrive/Chest-CT-Data/test/squamous.cell.carcinoma/000108 (6).png\n",
            "Loaded image /content/drive/MyDrive/Chest-CT-Data/test/squamous.cell.carcinoma/000117 (2).png\n",
            "Loaded image /content/drive/MyDrive/Chest-CT-Data/test/squamous.cell.carcinoma/000111.png\n",
            "Loaded image /content/drive/MyDrive/Chest-CT-Data/test/squamous.cell.carcinoma/000133 (3).png\n",
            "Loaded image /content/drive/MyDrive/Chest-CT-Data/test/squamous.cell.carcinoma/000114 (3).png\n",
            "Loaded 601 training images with 601 labels\n",
            "Loaded 81 validation images with 81 labels\n",
            "Loaded 315 test images with 315 labels\n"
          ]
        }
      ],
      "source": [
        "# Mengatur path dataset, disesuaikan untuk Google Colab atau Jupyter Notebook\n",
        "dataset_path = '/content/drive/MyDrive/Chest-CT-Data'\n",
        "\n",
        "# Load data\n",
        "train_images, train_labels = load_data(dataset_path, 'train')\n",
        "valid_images, valid_labels = load_data(dataset_path, 'valid')\n",
        "test_images, test_labels = load_data(dataset_path, 'test')\n",
        "\n",
        "print(f\"Loaded {len(train_images)} training images with {len(train_labels)} labels\")\n",
        "print(f\"Loaded {len(valid_images)} validation images with {len(valid_labels)} labels\")\n",
        "print(f\"Loaded {len(test_images)} test images with {len(test_labels)} labels\")\n",
        "\n",
        "# Transformasi data untuk persiapan training, validation, dan testing\n",
        "transform = transforms.Compose([\n",
        "    transforms.ToPILImage(),             # Ubah dari array NumPy ke gambar PIL\n",
        "    transforms.Resize((224, 224)),       # Ubah ukuran gambar menjadi 224x224\n",
        "    #v2.RandomHorizontalFlip(),           # Randomly flip the image horizontally\n",
        "   # v2.RandomRotation(15),                # Randomly rotate the image by up to 15 degrees\n",
        "    transforms.ToTensor(),               # Ubah gambar menjadi Tensor and normalize to [0, 1]\n",
        "])\n",
        "\n",
        "# Membuat dataset dan data loader untuk training, validation, dan testing\n",
        "train_dataset = CustomDataset(train_images, train_labels, transform=transform)\n",
        "valid_dataset = CustomDataset(valid_images, valid_labels, transform=transform)\n",
        "test_dataset = CustomDataset(test_images, test_labels, transform=transform)\n",
        "\n",
        "train_loader = DataLoader(train_dataset, batch_size=16, shuffle=True)  # DataLoader untuk training\n",
        "valid_loader = DataLoader(valid_dataset, batch_size=16, shuffle=False) # DataLoader untuk validasi\n",
        "test_loader = DataLoader(test_dataset, batch_size=16, shuffle=False)   # DataLoader untuk testing\n"
      ]
    },
    {
      "cell_type": "markdown",
      "id": "23a0550f",
      "metadata": {
        "id": "23a0550f"
      },
      "source": [
        "## Pruning"
      ]
    },
    {
      "cell_type": "code",
      "execution_count": null,
      "id": "dc82008a",
      "metadata": {
        "id": "dc82008a"
      },
      "outputs": [],
      "source": [
        "import torch\n",
        "import torch.nn as nn\n",
        "\n",
        "# Fungsi untuk pruning layer Conv2D berdasarkan L2 norm\n",
        "def l2_prune_conv2d_layer(module, pruning_amount):\n",
        "    with torch.no_grad():\n",
        "        weight = module.weight.data.view(module.weight.size(0), -1)\n",
        "        l2_norms = torch.norm(weight, p=2, dim=1)\n",
        "\n",
        "    num_filters = module.weight.size(0)\n",
        "    num_prune = int(pruning_amount * num_filters)\n",
        "\n",
        "    if num_prune == 0:\n",
        "        return module, module.out_channels  # Tidak ada pruning jika num_prune adalah 0\n",
        "\n",
        "    prune_indices = torch.argsort(l2_norms)[:num_prune]\n",
        "    keep_indices = torch.argsort(l2_norms)[num_prune:]\n",
        "\n",
        "    # Membentuk ulang layer Conv2D dengan filter yang dipertahankan\n",
        "    new_conv = nn.Conv2d(\n",
        "        in_channels=module.in_channels,\n",
        "        out_channels=num_filters - num_prune,\n",
        "        kernel_size=module.kernel_size,\n",
        "        stride=module.stride,\n",
        "        padding=module.padding,\n",
        "        bias=module.bias is not None\n",
        "    )\n",
        "\n",
        "    new_conv.weight.data = module.weight.data[keep_indices].clone()\n",
        "    if module.bias is not None:\n",
        "        new_conv.bias.data = module.bias.data[keep_indices].clone()\n",
        "\n",
        "    return new_conv, new_conv.out_channels\n",
        "\n",
        "# Fungsi untuk mengganti layer secara rekursif dalam model\n",
        "def replace_layers(module, pruning_amount=0.5):\n",
        "    prev_out_channels = None\n",
        "\n",
        "    for name, child in module.named_children():\n",
        "        if isinstance(child, nn.Conv2d):\n",
        "            # Prune the Conv2D layer and replace it\n",
        "            pruned_layer, new_out_channels = l2_prune_conv2d_layer(child, pruning_amount)\n",
        "\n",
        "            # Jika ada layer sebelumnya, sesuaikan in_channels dari layer saat ini\n",
        "            if prev_out_channels is not None:\n",
        "                pruned_layer = nn.Conv2d(\n",
        "                    in_channels=prev_out_channels,  # Sesuaikan dengan output layer sebelumnya\n",
        "                    out_channels=new_out_channels,\n",
        "                    kernel_size=child.kernel_size,\n",
        "                    stride=child.stride,\n",
        "                    padding=child.padding,\n",
        "                    bias=child.bias is not None\n",
        "                )\n",
        "                pruned_layer.weight.data = child.weight.data[:new_out_channels, :prev_out_channels].clone()\n",
        "                if pruned_layer.bias is not None:\n",
        "                    pruned_layer.bias.data = child.bias.data[:new_out_channels].clone()\n",
        "\n",
        "            setattr(module, name, pruned_layer)\n",
        "\n",
        "            # Update jumlah channel output untuk layer berikutnya\n",
        "            prev_out_channels = new_out_channels\n",
        "\n",
        "        elif isinstance(child, nn.Sequential) or isinstance(child, nn.Module):\n",
        "            # Recursive call for nested Sequential or Module\n",
        "            replace_layers(child, pruning_amount)\n",
        "\n",
        "# Fungsi untuk menyesuaikan layer klasifikasi (fully connected) dalam model\n",
        "def adjust_classifier(model):\n",
        "    device = torch.device(\"cuda\" if torch.cuda.is_available() else \"cpu\")\n",
        "    with torch.no_grad():\n",
        "        dummy_input = torch.randn(1, 3, 224, 224).to(device)  # Sesuaikan ukuran input jika perlu\n",
        "        features_output = model.features(dummy_input)\n",
        "        flattened_size = features_output.view(features_output.size(0), -1).size(1)\n",
        "\n",
        "    first_linear = None\n",
        "    for module in model.classifier:\n",
        "        if isinstance(module, nn.Linear):\n",
        "            first_linear = module\n",
        "            break\n",
        "\n",
        "    if first_linear is not None:\n",
        "        new_linear = nn.Linear(flattened_size, first_linear.out_features).to(device)\n",
        "        with torch.no_grad():\n",
        "            new_linear.weight.data[:, :min(flattened_size, first_linear.in_features)] = \\\n",
        "                first_linear.weight.data[:, :min(flattened_size, first_linear.in_features)]\n",
        "            new_linear.bias.data = first_linear.bias.data\n",
        "\n",
        "        for i, module in enumerate(model.classifier):\n",
        "            if module is first_linear:\n",
        "                model.classifier[i] = new_linear\n",
        "                break\n",
        "\n",
        "        print(f\"Adjusted classifier input size to {flattened_size}\")\n",
        "    else:\n",
        "        print(\"No Linear layer found in classifier. The model structure might need manual adjustment.\")\n",
        "\n",
        "# Fungsi untuk pruning model yang telah dilatih\n",
        "def prune_trained_model(model, pruning_amount=0.1):\n",
        "    replace_layers(model.features, pruning_amount)\n",
        "    adjust_classifier(model)\n",
        "    return model\n",
        "\n",
        "def load_and_prune_model(model_path, model_class, pruning_ratio):\n",
        "\n",
        "    device = torch.device(\"cuda\" if torch.cuda.is_available() else \"cpu\")\n",
        "\n",
        "    # Load model\n",
        "    state_dict = torch.load(model_path)\n",
        "    model = model_class().to(device)\n",
        "    model.load_state_dict(state_dict)\n",
        "    print(\"Original model loaded.\")\n",
        "\n",
        "    # Prune model\n",
        "    pruned_model =  prune_trained_model(model, pruning_ratio).to(device)\n",
        "    print(\"Model pruned.\")\n",
        "    return pruned_model\n",
        "\n",
        "\n",
        "\n",
        "def calculate_model_size(model):\n",
        "    \"\"\"\n",
        "    Calculate the size of the model in megabytes (MB).\n",
        "\n",
        "    Args:\n",
        "    - model: The model (before or after pruning).\n",
        "\n",
        "    Returns:\n",
        "    - size_in_mb: The size of the model in MB.\n",
        "    \"\"\"\n",
        "    param_size = sum(param.numel() * param.element_size() for param in model.parameters())\n",
        "    buffer_size = sum(buffer.numel() * buffer.element_size() for buffer in model.buffers())\n",
        "    size_in_bytes = param_size + buffer_size\n",
        "    size_in_mb = size_in_bytes / 1024**2  # Convert bytes to megabytes (MB)\n",
        "    return size_in_mb\n",
        "\n",
        "# Fungsi untuk memverifikasi pruning model\n",
        "def verify_pruned_model(model, original_model):\n",
        "    def calculate_num_params(model):\n",
        "        return sum(p.numel() for p in model.parameters())\n",
        "\n",
        "    # Calculate the model sizes\n",
        "    original_size = calculate_model_size(original_model)\n",
        "    pruned_size = calculate_model_size(model)\n",
        "    print(f\"Original model size: {original_size:.2f} MB\")\n",
        "    print(f\"Pruned model size: {pruned_size:.2f} MB\")\n",
        "    print(f\"Size reduction: {original_size - pruned_size:.2f} MB ({(original_size - pruned_size) / original_size * 100:.2f}%)\")\n",
        "\n",
        "    original_params = calculate_num_params(original_model)\n",
        "    pruned_params = calculate_num_params(model)\n",
        "    print(f\"Original model parameters: {original_params}\")\n",
        "    print(f\"Pruned model parameters: {pruned_params}\")\n",
        "\n",
        "    print(\"\\nLayer-wise dimension comparison:\")\n",
        "    for (orig_name, orig_module), (pruned_name, pruned_module) in zip(original_model.features.named_modules(), model.features.named_modules()):\n",
        "        if isinstance(orig_module, nn.Conv2d) and isinstance(pruned_module, nn.Conv2d):\n",
        "            print(f\"Layer: {orig_name}\")\n",
        "            print(f\"  - Original shape: {orig_module.weight.shape}\")\n",
        "            print(f\"  - Pruned shape: {pruned_module.weight.shape}\")\n",
        "\n"
      ]
    },
    {
      "cell_type": "code",
      "execution_count": null,
      "id": "eb39ca82",
      "metadata": {
        "id": "eb39ca82"
      },
      "outputs": [],
      "source": [
        "# Custom Model dengan VGG16 feature extractor + Fully Connected Layers untuk klasifikasi\n",
        "class VGG16(nn.Module):\n",
        "    def __init__(self):\n",
        "        super(VGG16, self).__init__()\n",
        "        # Feature extractor dari VGG16\n",
        "        vgg16 = models.vgg16(weights=models.VGG16_Weights.IMAGENET1K_V1)\n",
        "        vgg16_features = nn.Sequential(*list(vgg16.features.children()))\n",
        "        self.features = vgg16_features\n",
        "\n",
        "        #self.global_avg_pool = nn.AdaptiveAvgPool2d((1, 1))  # Global average pooling\n",
        "        # Fully connected layers untuk klasifikasi\n",
        "        self.classifier = nn.Sequential(\n",
        "            nn.Flatten(),\n",
        "            #nn.Linear(512 * 7 * 7),  # Input size 512 after global average pooling\n",
        "            nn.Linear(512 * 7 * 7, 512),  # Sesuaikan input sesuai dengan output dari feature extractor VGG16\n",
        "            nn.ReLU(),\n",
        "            nn.Dropout(0.4),\n",
        "            nn.Linear(512, 4)\n",
        "        )\n",
        "\n",
        "    def forward(self, input):\n",
        "        # Step 1: Input goes through VGG16 feature extractor\n",
        "        x = self.features(input)\n",
        "\n",
        "        # Step 3: Output of VGG16 features goes through classifier\n",
        "        x = self.classifier(x)  # Klasifikasi\n",
        "        return x"
      ]
    },
    {
      "cell_type": "code",
      "execution_count": null,
      "id": "db6c58d9",
      "metadata": {
        "id": "db6c58d9",
        "outputId": "67fcc9d4-8071-4532-c857-91dc57e2fdb0",
        "colab": {
          "base_uri": "https://localhost:8080/"
        }
      },
      "outputs": [
        {
          "output_type": "stream",
          "name": "stderr",
          "text": [
            "Downloading: \"https://download.pytorch.org/models/vgg16-397923af.pth\" to /root/.cache/torch/hub/checkpoints/vgg16-397923af.pth\n",
            "100%|██████████| 528M/528M [00:04<00:00, 122MB/s]\n",
            "<ipython-input-6-d7adf2c2cce5>:6: FutureWarning: You are using `torch.load` with `weights_only=False` (the current default value), which uses the default pickle module implicitly. It is possible to construct malicious pickle data which will execute arbitrary code during unpickling (See https://github.com/pytorch/pytorch/blob/main/SECURITY.md#untrusted-models for more details). In a future release, the default value for `weights_only` will be flipped to `True`. This limits the functions that could be executed during unpickling. Arbitrary objects will no longer be allowed to be loaded via this mode unless they are explicitly allowlisted by the user via `torch.serialization.add_safe_globals`. We recommend you start setting `weights_only=True` for any use case where you don't have full control of the loaded file. Please open an issue on GitHub for any issues related to this experimental feature.\n",
            "  model.load_state_dict(torch.load(model_path, map_location=device))\n",
            "<ipython-input-4-b8582374e457>:108: FutureWarning: You are using `torch.load` with `weights_only=False` (the current default value), which uses the default pickle module implicitly. It is possible to construct malicious pickle data which will execute arbitrary code during unpickling (See https://github.com/pytorch/pytorch/blob/main/SECURITY.md#untrusted-models for more details). In a future release, the default value for `weights_only` will be flipped to `True`. This limits the functions that could be executed during unpickling. Arbitrary objects will no longer be allowed to be loaded via this mode unless they are explicitly allowlisted by the user via `torch.serialization.add_safe_globals`. We recommend you start setting `weights_only=True` for any use case where you don't have full control of the loaded file. Please open an issue on GitHub for any issues related to this experimental feature.\n",
            "  state_dict = torch.load(model_path)\n"
          ]
        },
        {
          "output_type": "stream",
          "name": "stdout",
          "text": [
            "Original model loaded.\n",
            "Adjusted classifier input size to 15092\n",
            "Model pruned.\n",
            "Original model size: 105.14 MB\n",
            "Pruned model size: 49.81 MB\n",
            "Size reduction: 55.33 MB (52.63%)\n",
            "Original model parameters: 27562308\n",
            "Pruned model parameters: 13056718\n",
            "\n",
            "Layer-wise dimension comparison:\n",
            "Layer: 0\n",
            "  - Original shape: torch.Size([64, 3, 3, 3])\n",
            "  - Pruned shape: torch.Size([39, 3, 3, 3])\n",
            "Layer: 2\n",
            "  - Original shape: torch.Size([64, 64, 3, 3])\n",
            "  - Pruned shape: torch.Size([39, 39, 3, 3])\n",
            "Layer: 5\n",
            "  - Original shape: torch.Size([128, 64, 3, 3])\n",
            "  - Pruned shape: torch.Size([77, 39, 3, 3])\n",
            "Layer: 7\n",
            "  - Original shape: torch.Size([128, 128, 3, 3])\n",
            "  - Pruned shape: torch.Size([77, 77, 3, 3])\n",
            "Layer: 10\n",
            "  - Original shape: torch.Size([256, 128, 3, 3])\n",
            "  - Pruned shape: torch.Size([154, 77, 3, 3])\n",
            "Layer: 12\n",
            "  - Original shape: torch.Size([256, 256, 3, 3])\n",
            "  - Pruned shape: torch.Size([154, 154, 3, 3])\n",
            "Layer: 14\n",
            "  - Original shape: torch.Size([256, 256, 3, 3])\n",
            "  - Pruned shape: torch.Size([154, 154, 3, 3])\n",
            "Layer: 17\n",
            "  - Original shape: torch.Size([512, 256, 3, 3])\n",
            "  - Pruned shape: torch.Size([308, 154, 3, 3])\n",
            "Layer: 19\n",
            "  - Original shape: torch.Size([512, 512, 3, 3])\n",
            "  - Pruned shape: torch.Size([308, 308, 3, 3])\n",
            "Layer: 21\n",
            "  - Original shape: torch.Size([512, 512, 3, 3])\n",
            "  - Pruned shape: torch.Size([308, 308, 3, 3])\n",
            "Layer: 24\n",
            "  - Original shape: torch.Size([512, 512, 3, 3])\n",
            "  - Pruned shape: torch.Size([308, 308, 3, 3])\n",
            "Layer: 26\n",
            "  - Original shape: torch.Size([512, 512, 3, 3])\n",
            "  - Pruned shape: torch.Size([308, 308, 3, 3])\n",
            "Layer: 28\n",
            "  - Original shape: torch.Size([512, 512, 3, 3])\n",
            "  - Pruned shape: torch.Size([308, 308, 3, 3])\n"
          ]
        }
      ],
      "source": [
        "import copy\n",
        "\n",
        "# Muat model hasil training Anda\n",
        "model_path = '/content/drive/MyDrive/best-model-vgg-clahe-0,001.pth'\n",
        "model = VGG16()\n",
        "model.load_state_dict(torch.load(model_path, map_location=device))\n",
        "\n",
        "# Buat salinan model asli\n",
        "original_model_copy = copy.deepcopy(model)\n",
        "\n",
        "# Prune model yang telah dilatih\n",
        "pruning_ratio = 0.4\n",
        "pruned_model = load_and_prune_model(model_path, VGG16, pruning_ratio)\n",
        "\n",
        "# Verifikasi apakah model berhasil di-prune\n",
        "verify_pruned_model(pruned_model, model)\n",
        "torch.save(pruned_model.state_dict(), '/content/drive/MyDrive/Best-pruning-model/pruned-vgg-40.pth')\n"
      ]
    },
    {
      "cell_type": "code",
      "source": [
        "import time  # Import modul time\n",
        "\n",
        "# Define the optimizer and loss function\n",
        "optimizer = optim.SGD(pruned_model.parameters(), lr=0.001, momentum=0.8)\n",
        "criterion = nn.CrossEntropyLoss()\n",
        "\n",
        "# Function to calculate metrics (accuracy, precision, recall, F1-score)\n",
        "def calculate_metrics(predictions, labels):\n",
        "    preds = torch.argmax(predictions, dim=1).cpu().numpy()\n",
        "    labels = labels.cpu().numpy()\n",
        "\n",
        "    accuracy = (preds == labels).mean() * 100\n",
        "    precision = precision_score(labels, preds, average='weighted', zero_division=1)\n",
        "    recall = recall_score(labels, preds, average='weighted', zero_division=1)\n",
        "    f1 = f1_score(labels, preds, average='weighted', zero_division=1)\n",
        "\n",
        "    return accuracy, precision, recall, f1\n",
        "\n",
        "# Function to train and evaluate the model\n",
        "def train_and_evaluate(pruned_model, train_loader, valid_loader,  num_epochs=100):\n",
        "    train_losses = []\n",
        "    valid_losses = []\n",
        "    train_accuracies = []\n",
        "    valid_accuracies = []\n",
        "    all_train_precisions = []\n",
        "    all_train_recalls = []\n",
        "    all_train_f1s = []\n",
        "    all_valid_precisions = []\n",
        "    all_valid_recalls = []\n",
        "    all_valid_f1s = []\n",
        "\n",
        "    best_valid_loss = float('inf')\n",
        "\n",
        "    # Variable to accumulate total training and validation time\n",
        "    total_train_validation_time = 0\n",
        "\n",
        "    for epoch in range(1, num_epochs + 1):\n",
        "        print(f'Epoch {epoch}/{num_epochs}')\n",
        "\n",
        "        # Start timer for both training and validation\n",
        "        start_epoch_time = time.time()\n",
        "\n",
        "        # Training\n",
        "        pruned_model.train()\n",
        "        train_loss = 0\n",
        "        all_train_preds = []\n",
        "        all_train_labels = []\n",
        "        for images, labels in tqdm(train_loader, desc='Training'):\n",
        "            images, labels = images.to(device), labels.to(device)\n",
        "\n",
        "            # Convert grayscale images to 3 channels\n",
        "            if images.size(1) == 1:  # If single channel\n",
        "                images = images.repeat(1, 3, 1, 1)  # Repeat the channel dimension 3 times\n",
        "\n",
        "            optimizer.zero_grad()\n",
        "            outputs = pruned_model(images)\n",
        "            loss = criterion(outputs, labels)\n",
        "            loss.backward()\n",
        "            optimizer.step()\n",
        "            train_loss += loss.item()\n",
        "\n",
        "            all_train_preds.append(outputs)\n",
        "            all_train_labels.append(labels)\n",
        "\n",
        "        train_loss /= len(train_loader)\n",
        "        train_losses.append(train_loss)\n",
        "        train_accuracy, train_precision, train_recall, train_f1 = calculate_metrics(torch.cat(all_train_preds), torch.cat(all_train_labels))\n",
        "        train_accuracies.append(train_accuracy)\n",
        "        all_train_precisions.append(train_precision) # Store train_precision\n",
        "        all_train_recalls.append(train_recall)       # Store train_recall\n",
        "        all_train_f1s.append(train_f1)             # Store train_f1\n",
        "\n",
        "        print(f\"Training Loss: {train_loss:.4f}, Accuracy: {train_accuracy:.2f}%, Precision: {train_precision:.4f}, Recall: {train_recall:.4f}, F1-Score: {train_f1:.4f}\")\n",
        "\n",
        "        # Validation\n",
        "        pruned_model.eval()\n",
        "        valid_loss = 0\n",
        "        all_valid_preds = []\n",
        "        all_valid_labels = []\n",
        "        with torch.no_grad():\n",
        "            for images, labels in tqdm(valid_loader, desc='Validation'):\n",
        "                images, labels = images.to(device), labels.to(device)\n",
        "\n",
        "                # Convert grayscale images to 3 channels\n",
        "                if images.size(1) == 1:\n",
        "                    images = images.repeat(1, 3, 1, 1)\n",
        "\n",
        "                outputs = pruned_model(images)\n",
        "                loss = criterion(outputs, labels)\n",
        "                valid_loss += loss.item()\n",
        "\n",
        "                all_valid_preds.append(outputs)\n",
        "                all_valid_labels.append(labels)\n",
        "\n",
        "        valid_loss /= len(valid_loader)\n",
        "        valid_losses.append(valid_loss)\n",
        "        valid_accuracy, valid_precision, valid_recall, valid_f1 = calculate_metrics(torch.cat(all_valid_preds), torch.cat(all_valid_labels))\n",
        "        valid_accuracies.append(valid_accuracy)\n",
        "        all_valid_precisions.append(valid_precision)  # Store valid_precision\n",
        "        all_valid_recalls.append(valid_recall)        # Store valid_recall\n",
        "        all_valid_f1s.append(valid_f1)\n",
        "\n",
        "        print(f\"Validation Loss: {valid_loss:.4f}, Accuracy: {valid_accuracy:.2f}%, Precision: {valid_precision:.4f}, Recall: {valid_recall:.4f}, F1-Score: {valid_f1:.4f}\")\n",
        "\n",
        "        # Save the best model based on validation loss\n",
        "        if valid_loss < best_valid_loss:\n",
        "            best_valid_loss = valid_loss\n",
        "            torch.save(pruned_model.state_dict(), '/content/drive/MyDrive/Best-pruning-model/best-pruned-vgg-40.pth')\n",
        "            print(\"New best model saved\")\n",
        "\n",
        "        # End timer for training and validation, and accumulate the time\n",
        "        end_epoch_time = time.time()\n",
        "        epoch_time = end_epoch_time - start_epoch_time\n",
        "        total_train_validation_time += epoch_time\n",
        "        #print(f\"Epoch Time (Training + Validation): {epoch_time:.2f} seconds\")\n",
        "\n",
        "    # Print total training and validation time\n",
        "    print(f\"Total Training + Validation Time: {total_train_validation_time:.2f} seconds\")\n",
        "\n",
        "    return train_losses, valid_losses, train_accuracies, valid_accuracies, all_train_precisions, all_train_recalls, all_train_f1s, all_valid_precisions, all_valid_recalls, all_valid_f1s # Return the stored metrics\n",
        "\n"
      ],
      "metadata": {
        "id": "nyErFWr7t-0X"
      },
      "id": "nyErFWr7t-0X",
      "execution_count": null,
      "outputs": []
    },
    {
      "cell_type": "code",
      "source": [
        "# Load Model Hasil Pruning\n",
        "pruned_path = '/content/drive/MyDrive/Best-pruning-model/pruned-vgg-40.pth'\n",
        "pruned_model.load_state_dict(torch.load(pruned_path, map_location=device))\n",
        "pruned_model = pruned_model.to(device)\n",
        "\n",
        "\n",
        "# Fine-tuning model yang telah di-prune\n",
        "num_epochs = 100  # Tentukan jumlah epoch untuk fine-tuning\n",
        "\n",
        "# Training\n",
        "train_losses, valid_losses, train_accuracies, valid_accuracies, train_precisions, train_recalls, train_f1s, valid_precisions, valid_recalls, valid_f1s = train_and_evaluate(pruned_model, train_loader, valid_loader, num_epochs=num_epochs)\n",
        "\n",
        "# Simpan model setelah fine-tuning\n",
        "torch.save(pruned_model.state_dict(), '/content/drive/MyDrive/Best-pruning-model/fine_tuned_pruned_vgg-40.pth')\n"
      ],
      "metadata": {
        "colab": {
          "base_uri": "https://localhost:8080/"
        },
        "id": "C-eeK6M7FfuP",
        "outputId": "6ea1c14a-b81d-4e46-874c-20bacc677ed2"
      },
      "id": "C-eeK6M7FfuP",
      "execution_count": null,
      "outputs": [
        {
          "output_type": "stream",
          "name": "stderr",
          "text": [
            "<ipython-input-22-03cea767078a>:3: FutureWarning: You are using `torch.load` with `weights_only=False` (the current default value), which uses the default pickle module implicitly. It is possible to construct malicious pickle data which will execute arbitrary code during unpickling (See https://github.com/pytorch/pytorch/blob/main/SECURITY.md#untrusted-models for more details). In a future release, the default value for `weights_only` will be flipped to `True`. This limits the functions that could be executed during unpickling. Arbitrary objects will no longer be allowed to be loaded via this mode unless they are explicitly allowlisted by the user via `torch.serialization.add_safe_globals`. We recommend you start setting `weights_only=True` for any use case where you don't have full control of the loaded file. Please open an issue on GitHub for any issues related to this experimental feature.\n",
            "  pruned_model.load_state_dict(torch.load(pruned_path, map_location=device))\n"
          ]
        },
        {
          "output_type": "stream",
          "name": "stdout",
          "text": [
            "Epoch 1/100\n"
          ]
        },
        {
          "output_type": "stream",
          "name": "stderr",
          "text": [
            "Training: 100%|██████████| 38/38 [00:06<00:00,  5.65it/s]\n"
          ]
        },
        {
          "output_type": "stream",
          "name": "stdout",
          "text": [
            "Training Loss: 1.3638, Accuracy: 30.78%, Precision: 0.3123, Recall: 0.3078, F1-Score: 0.1919\n"
          ]
        },
        {
          "output_type": "stream",
          "name": "stderr",
          "text": [
            "Validation: 100%|██████████| 6/6 [00:00<00:00, 11.19it/s]\n"
          ]
        },
        {
          "output_type": "stream",
          "name": "stdout",
          "text": [
            "Validation Loss: 1.3505, Accuracy: 27.16%, Precision: 0.6683, Recall: 0.2716, F1-Score: 0.1512\n",
            "New best model saved\n",
            "Epoch 2/100\n"
          ]
        },
        {
          "output_type": "stream",
          "name": "stderr",
          "text": [
            "Training: 100%|██████████| 38/38 [00:07<00:00,  5.29it/s]\n"
          ]
        },
        {
          "output_type": "stream",
          "name": "stdout",
          "text": [
            "Training Loss: 1.2932, Accuracy: 38.27%, Precision: 0.5277, Recall: 0.3827, F1-Score: 0.3245\n"
          ]
        },
        {
          "output_type": "stream",
          "name": "stderr",
          "text": [
            "Validation: 100%|██████████| 6/6 [00:00<00:00, 15.15it/s]\n"
          ]
        },
        {
          "output_type": "stream",
          "name": "stdout",
          "text": [
            "Validation Loss: 1.2121, Accuracy: 43.21%, Precision: 0.8107, Recall: 0.4321, F1-Score: 0.3066\n",
            "New best model saved\n",
            "Epoch 3/100\n"
          ]
        },
        {
          "output_type": "stream",
          "name": "stderr",
          "text": [
            "Training: 100%|██████████| 38/38 [00:06<00:00,  5.48it/s]\n"
          ]
        },
        {
          "output_type": "stream",
          "name": "stdout",
          "text": [
            "Training Loss: 1.3535, Accuracy: 33.11%, Precision: 0.4754, Recall: 0.3311, F1-Score: 0.2556\n"
          ]
        },
        {
          "output_type": "stream",
          "name": "stderr",
          "text": [
            "Validation: 100%|██████████| 6/6 [00:00<00:00,  9.40it/s]\n"
          ]
        },
        {
          "output_type": "stream",
          "name": "stdout",
          "text": [
            "Validation Loss: 1.4494, Accuracy: 41.98%, Precision: 0.7587, Recall: 0.4198, F1-Score: 0.2799\n",
            "Epoch 4/100\n"
          ]
        },
        {
          "output_type": "stream",
          "name": "stderr",
          "text": [
            "Training: 100%|██████████| 38/38 [00:07<00:00,  5.34it/s]\n"
          ]
        },
        {
          "output_type": "stream",
          "name": "stdout",
          "text": [
            "Training Loss: 1.2169, Accuracy: 43.93%, Precision: 0.5536, Recall: 0.4393, F1-Score: 0.3731\n"
          ]
        },
        {
          "output_type": "stream",
          "name": "stderr",
          "text": [
            "Validation: 100%|██████████| 6/6 [00:00<00:00, 14.82it/s]\n"
          ]
        },
        {
          "output_type": "stream",
          "name": "stdout",
          "text": [
            "Validation Loss: 1.1911, Accuracy: 39.51%, Precision: 0.8068, Recall: 0.3951, F1-Score: 0.2764\n",
            "New best model saved\n",
            "Epoch 5/100\n"
          ]
        },
        {
          "output_type": "stream",
          "name": "stderr",
          "text": [
            "Training: 100%|██████████| 38/38 [00:07<00:00,  5.40it/s]\n"
          ]
        },
        {
          "output_type": "stream",
          "name": "stdout",
          "text": [
            "Training Loss: 1.1897, Accuracy: 43.76%, Precision: 0.3551, Recall: 0.4376, F1-Score: 0.3682\n"
          ]
        },
        {
          "output_type": "stream",
          "name": "stderr",
          "text": [
            "Validation: 100%|██████████| 6/6 [00:00<00:00, 10.88it/s]\n"
          ]
        },
        {
          "output_type": "stream",
          "name": "stdout",
          "text": [
            "Validation Loss: 1.1140, Accuracy: 43.21%, Precision: 0.8107, Recall: 0.4321, F1-Score: 0.3066\n",
            "New best model saved\n",
            "Epoch 6/100\n"
          ]
        },
        {
          "output_type": "stream",
          "name": "stderr",
          "text": [
            "Training: 100%|██████████| 38/38 [00:07<00:00,  5.41it/s]\n"
          ]
        },
        {
          "output_type": "stream",
          "name": "stdout",
          "text": [
            "Training Loss: 1.1150, Accuracy: 46.92%, Precision: 0.4872, Recall: 0.4692, F1-Score: 0.4113\n"
          ]
        },
        {
          "output_type": "stream",
          "name": "stderr",
          "text": [
            "Validation: 100%|██████████| 6/6 [00:00<00:00, 13.69it/s]\n"
          ]
        },
        {
          "output_type": "stream",
          "name": "stdout",
          "text": [
            "Validation Loss: 1.1423, Accuracy: 28.40%, Precision: 0.5890, Recall: 0.2840, F1-Score: 0.2262\n",
            "Epoch 7/100\n"
          ]
        },
        {
          "output_type": "stream",
          "name": "stderr",
          "text": [
            "Training: 100%|██████████| 38/38 [00:07<00:00,  5.12it/s]\n"
          ]
        },
        {
          "output_type": "stream",
          "name": "stdout",
          "text": [
            "Training Loss: 1.1724, Accuracy: 42.10%, Precision: 0.3818, Recall: 0.4210, F1-Score: 0.3671\n"
          ]
        },
        {
          "output_type": "stream",
          "name": "stderr",
          "text": [
            "Validation: 100%|██████████| 6/6 [00:00<00:00, 11.10it/s]\n"
          ]
        },
        {
          "output_type": "stream",
          "name": "stdout",
          "text": [
            "Validation Loss: 1.1369, Accuracy: 41.98%, Precision: 0.8093, Recall: 0.4198, F1-Score: 0.2971\n",
            "Epoch 8/100\n"
          ]
        },
        {
          "output_type": "stream",
          "name": "stderr",
          "text": [
            "Training: 100%|██████████| 38/38 [00:06<00:00,  5.51it/s]\n"
          ]
        },
        {
          "output_type": "stream",
          "name": "stdout",
          "text": [
            "Training Loss: 1.0640, Accuracy: 48.92%, Precision: 0.4149, Recall: 0.4892, F1-Score: 0.4221\n"
          ]
        },
        {
          "output_type": "stream",
          "name": "stderr",
          "text": [
            "Validation: 100%|██████████| 6/6 [00:00<00:00, 14.81it/s]\n"
          ]
        },
        {
          "output_type": "stream",
          "name": "stdout",
          "text": [
            "Validation Loss: 1.0383, Accuracy: 39.51%, Precision: 0.6567, Recall: 0.3951, F1-Score: 0.3395\n",
            "New best model saved\n",
            "Epoch 9/100\n"
          ]
        },
        {
          "output_type": "stream",
          "name": "stderr",
          "text": [
            "Training: 100%|██████████| 38/38 [00:07<00:00,  5.04it/s]\n"
          ]
        },
        {
          "output_type": "stream",
          "name": "stdout",
          "text": [
            "Training Loss: 1.0044, Accuracy: 52.91%, Precision: 0.4389, Recall: 0.5291, F1-Score: 0.4671\n"
          ]
        },
        {
          "output_type": "stream",
          "name": "stderr",
          "text": [
            "Validation: 100%|██████████| 6/6 [00:00<00:00, 12.28it/s]\n"
          ]
        },
        {
          "output_type": "stream",
          "name": "stdout",
          "text": [
            "Validation Loss: 1.0636, Accuracy: 38.27%, Precision: 0.6594, Recall: 0.3827, F1-Score: 0.3301\n",
            "Epoch 10/100\n"
          ]
        },
        {
          "output_type": "stream",
          "name": "stderr",
          "text": [
            "Training: 100%|██████████| 38/38 [00:06<00:00,  5.50it/s]\n"
          ]
        },
        {
          "output_type": "stream",
          "name": "stdout",
          "text": [
            "Training Loss: 0.9885, Accuracy: 54.74%, Precision: 0.5687, Recall: 0.5474, F1-Score: 0.5052\n"
          ]
        },
        {
          "output_type": "stream",
          "name": "stderr",
          "text": [
            "Validation: 100%|██████████| 6/6 [00:00<00:00, 14.69it/s]\n"
          ]
        },
        {
          "output_type": "stream",
          "name": "stdout",
          "text": [
            "Validation Loss: 1.0338, Accuracy: 40.74%, Precision: 0.6743, Recall: 0.4074, F1-Score: 0.3488\n",
            "New best model saved\n",
            "Epoch 11/100\n"
          ]
        },
        {
          "output_type": "stream",
          "name": "stderr",
          "text": [
            "Training: 100%|██████████| 38/38 [00:07<00:00,  5.10it/s]\n"
          ]
        },
        {
          "output_type": "stream",
          "name": "stdout",
          "text": [
            "Training Loss: 0.9379, Accuracy: 56.41%, Precision: 0.5609, Recall: 0.5641, F1-Score: 0.5233\n"
          ]
        },
        {
          "output_type": "stream",
          "name": "stderr",
          "text": [
            "Validation: 100%|██████████| 6/6 [00:00<00:00, 14.89it/s]\n"
          ]
        },
        {
          "output_type": "stream",
          "name": "stdout",
          "text": [
            "Validation Loss: 1.1138, Accuracy: 45.68%, Precision: 0.4028, Recall: 0.4568, F1-Score: 0.3140\n",
            "Epoch 12/100\n"
          ]
        },
        {
          "output_type": "stream",
          "name": "stderr",
          "text": [
            "Training: 100%|██████████| 38/38 [00:06<00:00,  5.50it/s]\n"
          ]
        },
        {
          "output_type": "stream",
          "name": "stdout",
          "text": [
            "Training Loss: 0.9303, Accuracy: 56.74%, Precision: 0.5349, Recall: 0.5674, F1-Score: 0.5279\n"
          ]
        },
        {
          "output_type": "stream",
          "name": "stderr",
          "text": [
            "Validation: 100%|██████████| 6/6 [00:00<00:00, 14.27it/s]\n"
          ]
        },
        {
          "output_type": "stream",
          "name": "stdout",
          "text": [
            "Validation Loss: 1.0192, Accuracy: 51.85%, Precision: 0.6140, Recall: 0.5185, F1-Score: 0.4943\n",
            "New best model saved\n",
            "Epoch 13/100\n"
          ]
        },
        {
          "output_type": "stream",
          "name": "stderr",
          "text": [
            "Training: 100%|██████████| 38/38 [00:07<00:00,  5.17it/s]\n"
          ]
        },
        {
          "output_type": "stream",
          "name": "stdout",
          "text": [
            "Training Loss: 0.8394, Accuracy: 61.23%, Precision: 0.5987, Recall: 0.6123, F1-Score: 0.5933\n"
          ]
        },
        {
          "output_type": "stream",
          "name": "stderr",
          "text": [
            "Validation: 100%|██████████| 6/6 [00:00<00:00, 13.51it/s]\n"
          ]
        },
        {
          "output_type": "stream",
          "name": "stdout",
          "text": [
            "Validation Loss: 1.1029, Accuracy: 48.15%, Precision: 0.5425, Recall: 0.4815, F1-Score: 0.4351\n",
            "Epoch 14/100\n"
          ]
        },
        {
          "output_type": "stream",
          "name": "stderr",
          "text": [
            "Training: 100%|██████████| 38/38 [00:06<00:00,  5.57it/s]\n"
          ]
        },
        {
          "output_type": "stream",
          "name": "stdout",
          "text": [
            "Training Loss: 0.8385, Accuracy: 62.23%, Precision: 0.6054, Recall: 0.6223, F1-Score: 0.6011\n"
          ]
        },
        {
          "output_type": "stream",
          "name": "stderr",
          "text": [
            "Validation: 100%|██████████| 6/6 [00:00<00:00, 11.17it/s]\n"
          ]
        },
        {
          "output_type": "stream",
          "name": "stdout",
          "text": [
            "Validation Loss: 1.0241, Accuracy: 44.44%, Precision: 0.5118, Recall: 0.4444, F1-Score: 0.4419\n",
            "Epoch 15/100\n"
          ]
        },
        {
          "output_type": "stream",
          "name": "stderr",
          "text": [
            "Training: 100%|██████████| 38/38 [00:07<00:00,  5.23it/s]\n"
          ]
        },
        {
          "output_type": "stream",
          "name": "stdout",
          "text": [
            "Training Loss: 0.7705, Accuracy: 66.39%, Precision: 0.6568, Recall: 0.6639, F1-Score: 0.6518\n"
          ]
        },
        {
          "output_type": "stream",
          "name": "stderr",
          "text": [
            "Validation: 100%|██████████| 6/6 [00:00<00:00, 14.95it/s]\n"
          ]
        },
        {
          "output_type": "stream",
          "name": "stdout",
          "text": [
            "Validation Loss: 1.0828, Accuracy: 51.85%, Precision: 0.5999, Recall: 0.5185, F1-Score: 0.5273\n",
            "Epoch 16/100\n"
          ]
        },
        {
          "output_type": "stream",
          "name": "stderr",
          "text": [
            "Training: 100%|██████████| 38/38 [00:06<00:00,  5.46it/s]\n"
          ]
        },
        {
          "output_type": "stream",
          "name": "stdout",
          "text": [
            "Training Loss: 0.7256, Accuracy: 70.22%, Precision: 0.6982, Recall: 0.7022, F1-Score: 0.6932\n"
          ]
        },
        {
          "output_type": "stream",
          "name": "stderr",
          "text": [
            "Validation: 100%|██████████| 6/6 [00:00<00:00, 10.14it/s]\n"
          ]
        },
        {
          "output_type": "stream",
          "name": "stdout",
          "text": [
            "Validation Loss: 1.0447, Accuracy: 53.09%, Precision: 0.6610, Recall: 0.5309, F1-Score: 0.5261\n",
            "Epoch 17/100\n"
          ]
        },
        {
          "output_type": "stream",
          "name": "stderr",
          "text": [
            "Training: 100%|██████████| 38/38 [00:07<00:00,  5.32it/s]\n"
          ]
        },
        {
          "output_type": "stream",
          "name": "stdout",
          "text": [
            "Training Loss: 0.6393, Accuracy: 73.88%, Precision: 0.7370, Recall: 0.7388, F1-Score: 0.7348\n"
          ]
        },
        {
          "output_type": "stream",
          "name": "stderr",
          "text": [
            "Validation: 100%|██████████| 6/6 [00:00<00:00, 14.83it/s]\n"
          ]
        },
        {
          "output_type": "stream",
          "name": "stdout",
          "text": [
            "Validation Loss: 1.0483, Accuracy: 59.26%, Precision: 0.7119, Recall: 0.5926, F1-Score: 0.5747\n",
            "Epoch 18/100\n"
          ]
        },
        {
          "output_type": "stream",
          "name": "stderr",
          "text": [
            "Training: 100%|██████████| 38/38 [00:07<00:00,  5.34it/s]\n"
          ]
        },
        {
          "output_type": "stream",
          "name": "stdout",
          "text": [
            "Training Loss: 0.6007, Accuracy: 76.37%, Precision: 0.7681, Recall: 0.7637, F1-Score: 0.7618\n"
          ]
        },
        {
          "output_type": "stream",
          "name": "stderr",
          "text": [
            "Validation: 100%|██████████| 6/6 [00:00<00:00, 10.75it/s]\n"
          ]
        },
        {
          "output_type": "stream",
          "name": "stdout",
          "text": [
            "Validation Loss: 1.1099, Accuracy: 58.02%, Precision: 0.6687, Recall: 0.5802, F1-Score: 0.5720\n",
            "Epoch 19/100\n"
          ]
        },
        {
          "output_type": "stream",
          "name": "stderr",
          "text": [
            "Training: 100%|██████████| 38/38 [00:07<00:00,  5.35it/s]\n"
          ]
        },
        {
          "output_type": "stream",
          "name": "stdout",
          "text": [
            "Training Loss: 0.5169, Accuracy: 79.20%, Precision: 0.7908, Recall: 0.7920, F1-Score: 0.7906\n"
          ]
        },
        {
          "output_type": "stream",
          "name": "stderr",
          "text": [
            "Validation: 100%|██████████| 6/6 [00:00<00:00, 14.93it/s]\n"
          ]
        },
        {
          "output_type": "stream",
          "name": "stdout",
          "text": [
            "Validation Loss: 1.3558, Accuracy: 59.26%, Precision: 0.7323, Recall: 0.5926, F1-Score: 0.5699\n",
            "Epoch 20/100\n"
          ]
        },
        {
          "output_type": "stream",
          "name": "stderr",
          "text": [
            "Training: 100%|██████████| 38/38 [00:07<00:00,  5.30it/s]\n"
          ]
        },
        {
          "output_type": "stream",
          "name": "stdout",
          "text": [
            "Training Loss: 0.4711, Accuracy: 79.70%, Precision: 0.7957, Recall: 0.7970, F1-Score: 0.7951\n"
          ]
        },
        {
          "output_type": "stream",
          "name": "stderr",
          "text": [
            "Validation: 100%|██████████| 6/6 [00:00<00:00, 10.94it/s]\n"
          ]
        },
        {
          "output_type": "stream",
          "name": "stdout",
          "text": [
            "Validation Loss: 1.0752, Accuracy: 60.49%, Precision: 0.7322, Recall: 0.6049, F1-Score: 0.6180\n",
            "Epoch 21/100\n"
          ]
        },
        {
          "output_type": "stream",
          "name": "stderr",
          "text": [
            "Training: 100%|██████████| 38/38 [00:07<00:00,  5.42it/s]\n"
          ]
        },
        {
          "output_type": "stream",
          "name": "stdout",
          "text": [
            "Training Loss: 0.4189, Accuracy: 82.86%, Precision: 0.8294, Recall: 0.8286, F1-Score: 0.8285\n"
          ]
        },
        {
          "output_type": "stream",
          "name": "stderr",
          "text": [
            "Validation: 100%|██████████| 6/6 [00:00<00:00, 14.48it/s]\n"
          ]
        },
        {
          "output_type": "stream",
          "name": "stdout",
          "text": [
            "Validation Loss: 0.9268, Accuracy: 65.43%, Precision: 0.7121, Recall: 0.6543, F1-Score: 0.6590\n",
            "New best model saved\n",
            "Epoch 22/100\n"
          ]
        },
        {
          "output_type": "stream",
          "name": "stderr",
          "text": [
            "Training: 100%|██████████| 38/38 [00:07<00:00,  5.15it/s]\n"
          ]
        },
        {
          "output_type": "stream",
          "name": "stdout",
          "text": [
            "Training Loss: 0.3448, Accuracy: 87.52%, Precision: 0.8753, Recall: 0.8752, F1-Score: 0.8751\n"
          ]
        },
        {
          "output_type": "stream",
          "name": "stderr",
          "text": [
            "Validation: 100%|██████████| 6/6 [00:00<00:00, 12.90it/s]\n"
          ]
        },
        {
          "output_type": "stream",
          "name": "stdout",
          "text": [
            "Validation Loss: 0.8308, Accuracy: 74.07%, Precision: 0.7772, Recall: 0.7407, F1-Score: 0.7206\n",
            "New best model saved\n",
            "Epoch 23/100\n"
          ]
        },
        {
          "output_type": "stream",
          "name": "stderr",
          "text": [
            "Training: 100%|██████████| 38/38 [00:06<00:00,  5.54it/s]\n"
          ]
        },
        {
          "output_type": "stream",
          "name": "stdout",
          "text": [
            "Training Loss: 0.3996, Accuracy: 84.36%, Precision: 0.8428, Recall: 0.8436, F1-Score: 0.8430\n"
          ]
        },
        {
          "output_type": "stream",
          "name": "stderr",
          "text": [
            "Validation: 100%|██████████| 6/6 [00:00<00:00, 13.64it/s]\n"
          ]
        },
        {
          "output_type": "stream",
          "name": "stdout",
          "text": [
            "Validation Loss: 1.0764, Accuracy: 54.32%, Precision: 0.6008, Recall: 0.5432, F1-Score: 0.5257\n",
            "Epoch 24/100\n"
          ]
        },
        {
          "output_type": "stream",
          "name": "stderr",
          "text": [
            "Training: 100%|██████████| 38/38 [00:07<00:00,  5.13it/s]\n"
          ]
        },
        {
          "output_type": "stream",
          "name": "stdout",
          "text": [
            "Training Loss: 0.4288, Accuracy: 81.36%, Precision: 0.8129, Recall: 0.8136, F1-Score: 0.8131\n"
          ]
        },
        {
          "output_type": "stream",
          "name": "stderr",
          "text": [
            "Validation: 100%|██████████| 6/6 [00:00<00:00, 14.69it/s]\n"
          ]
        },
        {
          "output_type": "stream",
          "name": "stdout",
          "text": [
            "Validation Loss: 0.8829, Accuracy: 66.67%, Precision: 0.7703, Recall: 0.6667, F1-Score: 0.6779\n",
            "Epoch 25/100\n"
          ]
        },
        {
          "output_type": "stream",
          "name": "stderr",
          "text": [
            "Training: 100%|██████████| 38/38 [00:06<00:00,  5.51it/s]\n"
          ]
        },
        {
          "output_type": "stream",
          "name": "stdout",
          "text": [
            "Training Loss: 0.2757, Accuracy: 90.18%, Precision: 0.9026, Recall: 0.9018, F1-Score: 0.9018\n"
          ]
        },
        {
          "output_type": "stream",
          "name": "stderr",
          "text": [
            "Validation: 100%|██████████| 6/6 [00:00<00:00, 14.56it/s]\n"
          ]
        },
        {
          "output_type": "stream",
          "name": "stdout",
          "text": [
            "Validation Loss: 0.7067, Accuracy: 71.60%, Precision: 0.7473, Recall: 0.7160, F1-Score: 0.7186\n",
            "New best model saved\n",
            "Epoch 26/100\n"
          ]
        },
        {
          "output_type": "stream",
          "name": "stderr",
          "text": [
            "Training: 100%|██████████| 38/38 [00:07<00:00,  5.12it/s]\n"
          ]
        },
        {
          "output_type": "stream",
          "name": "stdout",
          "text": [
            "Training Loss: 0.2210, Accuracy: 92.85%, Precision: 0.9285, Recall: 0.9285, F1-Score: 0.9285\n"
          ]
        },
        {
          "output_type": "stream",
          "name": "stderr",
          "text": [
            "Validation: 100%|██████████| 6/6 [00:00<00:00, 14.87it/s]\n"
          ]
        },
        {
          "output_type": "stream",
          "name": "stdout",
          "text": [
            "Validation Loss: 0.9489, Accuracy: 76.54%, Precision: 0.8326, Recall: 0.7654, F1-Score: 0.7641\n",
            "Epoch 27/100\n"
          ]
        },
        {
          "output_type": "stream",
          "name": "stderr",
          "text": [
            "Training: 100%|██████████| 38/38 [00:06<00:00,  5.45it/s]\n"
          ]
        },
        {
          "output_type": "stream",
          "name": "stdout",
          "text": [
            "Training Loss: 0.1789, Accuracy: 93.01%, Precision: 0.9305, Recall: 0.9301, F1-Score: 0.9301\n"
          ]
        },
        {
          "output_type": "stream",
          "name": "stderr",
          "text": [
            "Validation: 100%|██████████| 6/6 [00:00<00:00, 13.10it/s]\n"
          ]
        },
        {
          "output_type": "stream",
          "name": "stdout",
          "text": [
            "Validation Loss: 0.9081, Accuracy: 59.26%, Precision: 0.6382, Recall: 0.5926, F1-Score: 0.5890\n",
            "Epoch 28/100\n"
          ]
        },
        {
          "output_type": "stream",
          "name": "stderr",
          "text": [
            "Training: 100%|██████████| 38/38 [00:07<00:00,  5.19it/s]\n"
          ]
        },
        {
          "output_type": "stream",
          "name": "stdout",
          "text": [
            "Training Loss: 0.2354, Accuracy: 91.51%, Precision: 0.9152, Recall: 0.9151, F1-Score: 0.9151\n"
          ]
        },
        {
          "output_type": "stream",
          "name": "stderr",
          "text": [
            "Validation: 100%|██████████| 6/6 [00:00<00:00, 14.50it/s]\n"
          ]
        },
        {
          "output_type": "stream",
          "name": "stdout",
          "text": [
            "Validation Loss: 1.2506, Accuracy: 60.49%, Precision: 0.6668, Recall: 0.6049, F1-Score: 0.6213\n",
            "Epoch 29/100\n"
          ]
        },
        {
          "output_type": "stream",
          "name": "stderr",
          "text": [
            "Training: 100%|██████████| 38/38 [00:06<00:00,  5.46it/s]\n"
          ]
        },
        {
          "output_type": "stream",
          "name": "stdout",
          "text": [
            "Training Loss: 0.2238, Accuracy: 93.01%, Precision: 0.9306, Recall: 0.9301, F1-Score: 0.9301\n"
          ]
        },
        {
          "output_type": "stream",
          "name": "stderr",
          "text": [
            "Validation: 100%|██████████| 6/6 [00:00<00:00, 11.76it/s]\n"
          ]
        },
        {
          "output_type": "stream",
          "name": "stdout",
          "text": [
            "Validation Loss: 0.6588, Accuracy: 77.78%, Precision: 0.8344, Recall: 0.7778, F1-Score: 0.7830\n",
            "New best model saved\n",
            "Epoch 30/100\n"
          ]
        },
        {
          "output_type": "stream",
          "name": "stderr",
          "text": [
            "Training: 100%|██████████| 38/38 [00:07<00:00,  5.33it/s]\n"
          ]
        },
        {
          "output_type": "stream",
          "name": "stdout",
          "text": [
            "Training Loss: 0.2324, Accuracy: 92.51%, Precision: 0.9250, Recall: 0.9251, F1-Score: 0.9250\n"
          ]
        },
        {
          "output_type": "stream",
          "name": "stderr",
          "text": [
            "Validation: 100%|██████████| 6/6 [00:00<00:00, 14.96it/s]\n"
          ]
        },
        {
          "output_type": "stream",
          "name": "stdout",
          "text": [
            "Validation Loss: 1.1337, Accuracy: 69.14%, Precision: 0.7992, Recall: 0.6914, F1-Score: 0.6975\n",
            "Epoch 31/100\n"
          ]
        },
        {
          "output_type": "stream",
          "name": "stderr",
          "text": [
            "Training: 100%|██████████| 38/38 [00:07<00:00,  5.35it/s]\n"
          ]
        },
        {
          "output_type": "stream",
          "name": "stdout",
          "text": [
            "Training Loss: 0.1755, Accuracy: 93.01%, Precision: 0.9305, Recall: 0.9301, F1-Score: 0.9302\n"
          ]
        },
        {
          "output_type": "stream",
          "name": "stderr",
          "text": [
            "Validation: 100%|██████████| 6/6 [00:00<00:00, 11.10it/s]\n"
          ]
        },
        {
          "output_type": "stream",
          "name": "stdout",
          "text": [
            "Validation Loss: 0.9223, Accuracy: 79.01%, Precision: 0.8480, Recall: 0.7901, F1-Score: 0.7888\n",
            "Epoch 32/100\n"
          ]
        },
        {
          "output_type": "stream",
          "name": "stderr",
          "text": [
            "Training: 100%|██████████| 38/38 [00:07<00:00,  5.39it/s]\n"
          ]
        },
        {
          "output_type": "stream",
          "name": "stdout",
          "text": [
            "Training Loss: 0.1316, Accuracy: 95.67%, Precision: 0.9569, Recall: 0.9567, F1-Score: 0.9567\n"
          ]
        },
        {
          "output_type": "stream",
          "name": "stderr",
          "text": [
            "Validation: 100%|██████████| 6/6 [00:00<00:00, 14.80it/s]\n"
          ]
        },
        {
          "output_type": "stream",
          "name": "stdout",
          "text": [
            "Validation Loss: 0.8645, Accuracy: 75.31%, Precision: 0.8269, Recall: 0.7531, F1-Score: 0.7577\n",
            "Epoch 33/100\n"
          ]
        },
        {
          "output_type": "stream",
          "name": "stderr",
          "text": [
            "Training: 100%|██████████| 38/38 [00:07<00:00,  5.25it/s]\n"
          ]
        },
        {
          "output_type": "stream",
          "name": "stdout",
          "text": [
            "Training Loss: 0.1311, Accuracy: 96.17%, Precision: 0.9619, Recall: 0.9617, F1-Score: 0.9617\n"
          ]
        },
        {
          "output_type": "stream",
          "name": "stderr",
          "text": [
            "Validation: 100%|██████████| 6/6 [00:00<00:00, 10.45it/s]\n"
          ]
        },
        {
          "output_type": "stream",
          "name": "stdout",
          "text": [
            "Validation Loss: 0.8689, Accuracy: 74.07%, Precision: 0.8210, Recall: 0.7407, F1-Score: 0.7459\n",
            "Epoch 34/100\n"
          ]
        },
        {
          "output_type": "stream",
          "name": "stderr",
          "text": [
            "Training: 100%|██████████| 38/38 [00:06<00:00,  5.49it/s]\n"
          ]
        },
        {
          "output_type": "stream",
          "name": "stdout",
          "text": [
            "Training Loss: 0.0713, Accuracy: 97.34%, Precision: 0.9734, Recall: 0.9734, F1-Score: 0.9734\n"
          ]
        },
        {
          "output_type": "stream",
          "name": "stderr",
          "text": [
            "Validation: 100%|██████████| 6/6 [00:00<00:00, 14.27it/s]\n"
          ]
        },
        {
          "output_type": "stream",
          "name": "stdout",
          "text": [
            "Validation Loss: 0.6467, Accuracy: 75.31%, Precision: 0.8264, Recall: 0.7531, F1-Score: 0.7526\n",
            "New best model saved\n",
            "Epoch 35/100\n"
          ]
        },
        {
          "output_type": "stream",
          "name": "stderr",
          "text": [
            "Training: 100%|██████████| 38/38 [00:07<00:00,  5.11it/s]\n"
          ]
        },
        {
          "output_type": "stream",
          "name": "stdout",
          "text": [
            "Training Loss: 0.0671, Accuracy: 98.17%, Precision: 0.9819, Recall: 0.9817, F1-Score: 0.9817\n"
          ]
        },
        {
          "output_type": "stream",
          "name": "stderr",
          "text": [
            "Validation: 100%|██████████| 6/6 [00:00<00:00, 15.03it/s]\n"
          ]
        },
        {
          "output_type": "stream",
          "name": "stdout",
          "text": [
            "Validation Loss: 0.7082, Accuracy: 75.31%, Precision: 0.8134, Recall: 0.7531, F1-Score: 0.7518\n",
            "Epoch 36/100\n"
          ]
        },
        {
          "output_type": "stream",
          "name": "stderr",
          "text": [
            "Training: 100%|██████████| 38/38 [00:06<00:00,  5.47it/s]\n"
          ]
        },
        {
          "output_type": "stream",
          "name": "stdout",
          "text": [
            "Training Loss: 0.0633, Accuracy: 98.50%, Precision: 0.9850, Recall: 0.9850, F1-Score: 0.9850\n"
          ]
        },
        {
          "output_type": "stream",
          "name": "stderr",
          "text": [
            "Validation: 100%|██████████| 6/6 [00:00<00:00, 14.56it/s]\n"
          ]
        },
        {
          "output_type": "stream",
          "name": "stdout",
          "text": [
            "Validation Loss: 0.9416, Accuracy: 75.31%, Precision: 0.8279, Recall: 0.7531, F1-Score: 0.7530\n",
            "Epoch 37/100\n"
          ]
        },
        {
          "output_type": "stream",
          "name": "stderr",
          "text": [
            "Training: 100%|██████████| 38/38 [00:07<00:00,  5.16it/s]\n"
          ]
        },
        {
          "output_type": "stream",
          "name": "stdout",
          "text": [
            "Training Loss: 0.1160, Accuracy: 96.51%, Precision: 0.9652, Recall: 0.9651, F1-Score: 0.9651\n"
          ]
        },
        {
          "output_type": "stream",
          "name": "stderr",
          "text": [
            "Validation: 100%|██████████| 6/6 [00:00<00:00, 15.07it/s]\n"
          ]
        },
        {
          "output_type": "stream",
          "name": "stdout",
          "text": [
            "Validation Loss: 0.6332, Accuracy: 81.48%, Precision: 0.8276, Recall: 0.8148, F1-Score: 0.8178\n",
            "New best model saved\n",
            "Epoch 38/100\n"
          ]
        },
        {
          "output_type": "stream",
          "name": "stderr",
          "text": [
            "Training: 100%|██████████| 38/38 [00:06<00:00,  5.49it/s]\n"
          ]
        },
        {
          "output_type": "stream",
          "name": "stdout",
          "text": [
            "Training Loss: 0.1387, Accuracy: 95.84%, Precision: 0.9584, Recall: 0.9584, F1-Score: 0.9583\n"
          ]
        },
        {
          "output_type": "stream",
          "name": "stderr",
          "text": [
            "Validation: 100%|██████████| 6/6 [00:00<00:00, 14.77it/s]\n"
          ]
        },
        {
          "output_type": "stream",
          "name": "stdout",
          "text": [
            "Validation Loss: 0.5756, Accuracy: 80.25%, Precision: 0.8529, Recall: 0.8025, F1-Score: 0.8042\n",
            "New best model saved\n",
            "Epoch 39/100\n"
          ]
        },
        {
          "output_type": "stream",
          "name": "stderr",
          "text": [
            "Training: 100%|██████████| 38/38 [00:07<00:00,  5.16it/s]\n"
          ]
        },
        {
          "output_type": "stream",
          "name": "stdout",
          "text": [
            "Training Loss: 0.0427, Accuracy: 98.67%, Precision: 0.9867, Recall: 0.9867, F1-Score: 0.9867\n"
          ]
        },
        {
          "output_type": "stream",
          "name": "stderr",
          "text": [
            "Validation: 100%|██████████| 6/6 [00:00<00:00, 13.99it/s]\n"
          ]
        },
        {
          "output_type": "stream",
          "name": "stdout",
          "text": [
            "Validation Loss: 0.4998, Accuracy: 81.48%, Precision: 0.8511, Recall: 0.8148, F1-Score: 0.8170\n",
            "New best model saved\n",
            "Epoch 40/100\n"
          ]
        },
        {
          "output_type": "stream",
          "name": "stderr",
          "text": [
            "Training: 100%|██████████| 38/38 [00:06<00:00,  5.47it/s]\n"
          ]
        },
        {
          "output_type": "stream",
          "name": "stdout",
          "text": [
            "Training Loss: 0.0410, Accuracy: 99.17%, Precision: 0.9918, Recall: 0.9917, F1-Score: 0.9917\n"
          ]
        },
        {
          "output_type": "stream",
          "name": "stderr",
          "text": [
            "Validation: 100%|██████████| 6/6 [00:00<00:00, 11.75it/s]\n"
          ]
        },
        {
          "output_type": "stream",
          "name": "stdout",
          "text": [
            "Validation Loss: 0.4987, Accuracy: 82.72%, Precision: 0.8489, Recall: 0.8272, F1-Score: 0.8284\n",
            "New best model saved\n",
            "Epoch 41/100\n"
          ]
        },
        {
          "output_type": "stream",
          "name": "stderr",
          "text": [
            "Training: 100%|██████████| 38/38 [00:07<00:00,  5.23it/s]\n"
          ]
        },
        {
          "output_type": "stream",
          "name": "stdout",
          "text": [
            "Training Loss: 0.0275, Accuracy: 98.84%, Precision: 0.9884, Recall: 0.9884, F1-Score: 0.9883\n"
          ]
        },
        {
          "output_type": "stream",
          "name": "stderr",
          "text": [
            "Validation: 100%|██████████| 6/6 [00:00<00:00, 14.78it/s]\n"
          ]
        },
        {
          "output_type": "stream",
          "name": "stdout",
          "text": [
            "Validation Loss: 0.5284, Accuracy: 85.19%, Precision: 0.8680, Recall: 0.8519, F1-Score: 0.8559\n",
            "Epoch 42/100\n"
          ]
        },
        {
          "output_type": "stream",
          "name": "stderr",
          "text": [
            "Training: 100%|██████████| 38/38 [00:07<00:00,  5.33it/s]\n"
          ]
        },
        {
          "output_type": "stream",
          "name": "stdout",
          "text": [
            "Training Loss: 0.0720, Accuracy: 97.17%, Precision: 0.9717, Recall: 0.9717, F1-Score: 0.9717\n"
          ]
        },
        {
          "output_type": "stream",
          "name": "stderr",
          "text": [
            "Validation: 100%|██████████| 6/6 [00:00<00:00, 12.68it/s]\n"
          ]
        },
        {
          "output_type": "stream",
          "name": "stdout",
          "text": [
            "Validation Loss: 0.4471, Accuracy: 85.19%, Precision: 0.8821, Recall: 0.8519, F1-Score: 0.8553\n",
            "New best model saved\n",
            "Epoch 43/100\n"
          ]
        },
        {
          "output_type": "stream",
          "name": "stderr",
          "text": [
            "Training: 100%|██████████| 38/38 [00:07<00:00,  5.30it/s]\n"
          ]
        },
        {
          "output_type": "stream",
          "name": "stdout",
          "text": [
            "Training Loss: 0.0426, Accuracy: 99.17%, Precision: 0.9917, Recall: 0.9917, F1-Score: 0.9917\n"
          ]
        },
        {
          "output_type": "stream",
          "name": "stderr",
          "text": [
            "Validation: 100%|██████████| 6/6 [00:00<00:00, 14.71it/s]\n"
          ]
        },
        {
          "output_type": "stream",
          "name": "stdout",
          "text": [
            "Validation Loss: 0.5404, Accuracy: 81.48%, Precision: 0.8489, Recall: 0.8148, F1-Score: 0.8189\n",
            "Epoch 44/100\n"
          ]
        },
        {
          "output_type": "stream",
          "name": "stderr",
          "text": [
            "Training: 100%|██████████| 38/38 [00:07<00:00,  5.23it/s]\n"
          ]
        },
        {
          "output_type": "stream",
          "name": "stdout",
          "text": [
            "Training Loss: 0.1029, Accuracy: 96.17%, Precision: 0.9616, Recall: 0.9617, F1-Score: 0.9617\n"
          ]
        },
        {
          "output_type": "stream",
          "name": "stderr",
          "text": [
            "Validation: 100%|██████████| 6/6 [00:00<00:00, 10.96it/s]\n"
          ]
        },
        {
          "output_type": "stream",
          "name": "stdout",
          "text": [
            "Validation Loss: 0.5036, Accuracy: 86.42%, Precision: 0.9007, Recall: 0.8642, F1-Score: 0.8675\n",
            "Epoch 45/100\n"
          ]
        },
        {
          "output_type": "stream",
          "name": "stderr",
          "text": [
            "Training: 100%|██████████| 38/38 [00:06<00:00,  5.47it/s]\n"
          ]
        },
        {
          "output_type": "stream",
          "name": "stdout",
          "text": [
            "Training Loss: 0.0264, Accuracy: 99.17%, Precision: 0.9917, Recall: 0.9917, F1-Score: 0.9917\n"
          ]
        },
        {
          "output_type": "stream",
          "name": "stderr",
          "text": [
            "Validation: 100%|██████████| 6/6 [00:00<00:00, 14.72it/s]\n"
          ]
        },
        {
          "output_type": "stream",
          "name": "stdout",
          "text": [
            "Validation Loss: 0.5384, Accuracy: 85.19%, Precision: 0.8881, Recall: 0.8519, F1-Score: 0.8544\n",
            "Epoch 46/100\n"
          ]
        },
        {
          "output_type": "stream",
          "name": "stderr",
          "text": [
            "Training: 100%|██████████| 38/38 [00:07<00:00,  5.08it/s]\n"
          ]
        },
        {
          "output_type": "stream",
          "name": "stdout",
          "text": [
            "Training Loss: 0.0232, Accuracy: 99.17%, Precision: 0.9917, Recall: 0.9917, F1-Score: 0.9917\n"
          ]
        },
        {
          "output_type": "stream",
          "name": "stderr",
          "text": [
            "Validation: 100%|██████████| 6/6 [00:00<00:00, 15.18it/s]\n"
          ]
        },
        {
          "output_type": "stream",
          "name": "stdout",
          "text": [
            "Validation Loss: 0.5814, Accuracy: 85.19%, Precision: 0.8827, Recall: 0.8519, F1-Score: 0.8483\n",
            "Epoch 47/100\n"
          ]
        },
        {
          "output_type": "stream",
          "name": "stderr",
          "text": [
            "Training: 100%|██████████| 38/38 [00:06<00:00,  5.52it/s]\n"
          ]
        },
        {
          "output_type": "stream",
          "name": "stdout",
          "text": [
            "Training Loss: 0.0129, Accuracy: 99.50%, Precision: 0.9951, Recall: 0.9950, F1-Score: 0.9950\n"
          ]
        },
        {
          "output_type": "stream",
          "name": "stderr",
          "text": [
            "Validation: 100%|██████████| 6/6 [00:00<00:00, 14.74it/s]\n"
          ]
        },
        {
          "output_type": "stream",
          "name": "stdout",
          "text": [
            "Validation Loss: 0.5232, Accuracy: 81.48%, Precision: 0.8664, Recall: 0.8148, F1-Score: 0.8123\n",
            "Epoch 48/100\n"
          ]
        },
        {
          "output_type": "stream",
          "name": "stderr",
          "text": [
            "Training: 100%|██████████| 38/38 [00:07<00:00,  5.15it/s]\n"
          ]
        },
        {
          "output_type": "stream",
          "name": "stdout",
          "text": [
            "Training Loss: 0.0096, Accuracy: 99.83%, Precision: 0.9983, Recall: 0.9983, F1-Score: 0.9983\n"
          ]
        },
        {
          "output_type": "stream",
          "name": "stderr",
          "text": [
            "Validation: 100%|██████████| 6/6 [00:00<00:00, 14.75it/s]\n"
          ]
        },
        {
          "output_type": "stream",
          "name": "stdout",
          "text": [
            "Validation Loss: 0.4257, Accuracy: 85.19%, Precision: 0.8746, Recall: 0.8519, F1-Score: 0.8524\n",
            "New best model saved\n",
            "Epoch 49/100\n"
          ]
        },
        {
          "output_type": "stream",
          "name": "stderr",
          "text": [
            "Training: 100%|██████████| 38/38 [00:06<00:00,  5.49it/s]\n"
          ]
        },
        {
          "output_type": "stream",
          "name": "stdout",
          "text": [
            "Training Loss: 0.0156, Accuracy: 99.67%, Precision: 0.9967, Recall: 0.9967, F1-Score: 0.9967\n"
          ]
        },
        {
          "output_type": "stream",
          "name": "stderr",
          "text": [
            "Validation: 100%|██████████| 6/6 [00:00<00:00, 14.82it/s]\n"
          ]
        },
        {
          "output_type": "stream",
          "name": "stdout",
          "text": [
            "Validation Loss: 0.6708, Accuracy: 77.78%, Precision: 0.8271, Recall: 0.7778, F1-Score: 0.7750\n",
            "Epoch 50/100\n"
          ]
        },
        {
          "output_type": "stream",
          "name": "stderr",
          "text": [
            "Training: 100%|██████████| 38/38 [00:07<00:00,  5.08it/s]\n"
          ]
        },
        {
          "output_type": "stream",
          "name": "stdout",
          "text": [
            "Training Loss: 0.0088, Accuracy: 99.67%, Precision: 0.9967, Recall: 0.9967, F1-Score: 0.9967\n"
          ]
        },
        {
          "output_type": "stream",
          "name": "stderr",
          "text": [
            "Validation: 100%|██████████| 6/6 [00:00<00:00, 14.73it/s]\n"
          ]
        },
        {
          "output_type": "stream",
          "name": "stdout",
          "text": [
            "Validation Loss: 0.7839, Accuracy: 80.25%, Precision: 0.8555, Recall: 0.8025, F1-Score: 0.8010\n",
            "Epoch 51/100\n"
          ]
        },
        {
          "output_type": "stream",
          "name": "stderr",
          "text": [
            "Training: 100%|██████████| 38/38 [00:06<00:00,  5.50it/s]\n"
          ]
        },
        {
          "output_type": "stream",
          "name": "stdout",
          "text": [
            "Training Loss: 0.0224, Accuracy: 99.33%, Precision: 0.9933, Recall: 0.9933, F1-Score: 0.9933\n"
          ]
        },
        {
          "output_type": "stream",
          "name": "stderr",
          "text": [
            "Validation: 100%|██████████| 6/6 [00:00<00:00, 14.76it/s]\n"
          ]
        },
        {
          "output_type": "stream",
          "name": "stdout",
          "text": [
            "Validation Loss: 0.5394, Accuracy: 82.72%, Precision: 0.8738, Recall: 0.8272, F1-Score: 0.8318\n",
            "Epoch 52/100\n"
          ]
        },
        {
          "output_type": "stream",
          "name": "stderr",
          "text": [
            "Training: 100%|██████████| 38/38 [00:07<00:00,  5.13it/s]\n"
          ]
        },
        {
          "output_type": "stream",
          "name": "stdout",
          "text": [
            "Training Loss: 0.0131, Accuracy: 99.33%, Precision: 0.9934, Recall: 0.9933, F1-Score: 0.9933\n"
          ]
        },
        {
          "output_type": "stream",
          "name": "stderr",
          "text": [
            "Validation: 100%|██████████| 6/6 [00:00<00:00, 14.88it/s]\n"
          ]
        },
        {
          "output_type": "stream",
          "name": "stdout",
          "text": [
            "Validation Loss: 0.8104, Accuracy: 80.25%, Precision: 0.8569, Recall: 0.8025, F1-Score: 0.8048\n",
            "Epoch 53/100\n"
          ]
        },
        {
          "output_type": "stream",
          "name": "stderr",
          "text": [
            "Training: 100%|██████████| 38/38 [00:06<00:00,  5.47it/s]\n"
          ]
        },
        {
          "output_type": "stream",
          "name": "stdout",
          "text": [
            "Training Loss: 0.0047, Accuracy: 99.83%, Precision: 0.9984, Recall: 0.9983, F1-Score: 0.9983\n"
          ]
        },
        {
          "output_type": "stream",
          "name": "stderr",
          "text": [
            "Validation: 100%|██████████| 6/6 [00:00<00:00, 10.42it/s]\n"
          ]
        },
        {
          "output_type": "stream",
          "name": "stdout",
          "text": [
            "Validation Loss: 0.6680, Accuracy: 81.48%, Precision: 0.8627, Recall: 0.8148, F1-Score: 0.8146\n",
            "Epoch 54/100\n"
          ]
        },
        {
          "output_type": "stream",
          "name": "stderr",
          "text": [
            "Training: 100%|██████████| 38/38 [00:07<00:00,  5.17it/s]\n"
          ]
        },
        {
          "output_type": "stream",
          "name": "stdout",
          "text": [
            "Training Loss: 0.0243, Accuracy: 99.50%, Precision: 0.9950, Recall: 0.9950, F1-Score: 0.9950\n"
          ]
        },
        {
          "output_type": "stream",
          "name": "stderr",
          "text": [
            "Validation: 100%|██████████| 6/6 [00:00<00:00, 14.96it/s]\n"
          ]
        },
        {
          "output_type": "stream",
          "name": "stdout",
          "text": [
            "Validation Loss: 0.6010, Accuracy: 81.48%, Precision: 0.8519, Recall: 0.8148, F1-Score: 0.8137\n",
            "Epoch 55/100\n"
          ]
        },
        {
          "output_type": "stream",
          "name": "stderr",
          "text": [
            "Training: 100%|██████████| 38/38 [00:06<00:00,  5.44it/s]\n"
          ]
        },
        {
          "output_type": "stream",
          "name": "stdout",
          "text": [
            "Training Loss: 0.0113, Accuracy: 99.67%, Precision: 0.9967, Recall: 0.9967, F1-Score: 0.9967\n"
          ]
        },
        {
          "output_type": "stream",
          "name": "stderr",
          "text": [
            "Validation: 100%|██████████| 6/6 [00:00<00:00, 12.27it/s]\n"
          ]
        },
        {
          "output_type": "stream",
          "name": "stdout",
          "text": [
            "Validation Loss: 0.6836, Accuracy: 81.48%, Precision: 0.8627, Recall: 0.8148, F1-Score: 0.8146\n",
            "Epoch 56/100\n"
          ]
        },
        {
          "output_type": "stream",
          "name": "stderr",
          "text": [
            "Training: 100%|██████████| 38/38 [00:07<00:00,  5.30it/s]\n"
          ]
        },
        {
          "output_type": "stream",
          "name": "stdout",
          "text": [
            "Training Loss: 0.0149, Accuracy: 99.67%, Precision: 0.9967, Recall: 0.9967, F1-Score: 0.9967\n"
          ]
        },
        {
          "output_type": "stream",
          "name": "stderr",
          "text": [
            "Validation: 100%|██████████| 6/6 [00:00<00:00, 14.53it/s]\n"
          ]
        },
        {
          "output_type": "stream",
          "name": "stdout",
          "text": [
            "Validation Loss: 0.6860, Accuracy: 80.25%, Precision: 0.8418, Recall: 0.8025, F1-Score: 0.8022\n",
            "Epoch 57/100\n"
          ]
        },
        {
          "output_type": "stream",
          "name": "stderr",
          "text": [
            "Training: 100%|██████████| 38/38 [00:07<00:00,  5.34it/s]\n"
          ]
        },
        {
          "output_type": "stream",
          "name": "stdout",
          "text": [
            "Training Loss: 0.0105, Accuracy: 99.83%, Precision: 0.9984, Recall: 0.9983, F1-Score: 0.9983\n"
          ]
        },
        {
          "output_type": "stream",
          "name": "stderr",
          "text": [
            "Validation: 100%|██████████| 6/6 [00:00<00:00, 11.56it/s]\n"
          ]
        },
        {
          "output_type": "stream",
          "name": "stdout",
          "text": [
            "Validation Loss: 0.6472, Accuracy: 81.48%, Precision: 0.8619, Recall: 0.8148, F1-Score: 0.8145\n",
            "Epoch 58/100\n"
          ]
        },
        {
          "output_type": "stream",
          "name": "stderr",
          "text": [
            "Training: 100%|██████████| 38/38 [00:07<00:00,  5.37it/s]\n"
          ]
        },
        {
          "output_type": "stream",
          "name": "stdout",
          "text": [
            "Training Loss: 0.0033, Accuracy: 100.00%, Precision: 1.0000, Recall: 1.0000, F1-Score: 1.0000\n"
          ]
        },
        {
          "output_type": "stream",
          "name": "stderr",
          "text": [
            "Validation: 100%|██████████| 6/6 [00:00<00:00, 14.89it/s]\n"
          ]
        },
        {
          "output_type": "stream",
          "name": "stdout",
          "text": [
            "Validation Loss: 0.5710, Accuracy: 86.42%, Precision: 0.8929, Recall: 0.8642, F1-Score: 0.8646\n",
            "Epoch 59/100\n"
          ]
        },
        {
          "output_type": "stream",
          "name": "stderr",
          "text": [
            "Training: 100%|██████████| 38/38 [00:07<00:00,  5.25it/s]\n"
          ]
        },
        {
          "output_type": "stream",
          "name": "stdout",
          "text": [
            "Training Loss: 0.0016, Accuracy: 100.00%, Precision: 1.0000, Recall: 1.0000, F1-Score: 1.0000\n"
          ]
        },
        {
          "output_type": "stream",
          "name": "stderr",
          "text": [
            "Validation: 100%|██████████| 6/6 [00:00<00:00, 10.42it/s]\n"
          ]
        },
        {
          "output_type": "stream",
          "name": "stdout",
          "text": [
            "Validation Loss: 0.7096, Accuracy: 81.48%, Precision: 0.8619, Recall: 0.8148, F1-Score: 0.8145\n",
            "Epoch 60/100\n"
          ]
        },
        {
          "output_type": "stream",
          "name": "stderr",
          "text": [
            "Training: 100%|██████████| 38/38 [00:07<00:00,  5.41it/s]\n"
          ]
        },
        {
          "output_type": "stream",
          "name": "stdout",
          "text": [
            "Training Loss: 0.0081, Accuracy: 99.83%, Precision: 0.9984, Recall: 0.9983, F1-Score: 0.9983\n"
          ]
        },
        {
          "output_type": "stream",
          "name": "stderr",
          "text": [
            "Validation: 100%|██████████| 6/6 [00:00<00:00, 14.62it/s]\n"
          ]
        },
        {
          "output_type": "stream",
          "name": "stdout",
          "text": [
            "Validation Loss: 0.6780, Accuracy: 83.95%, Precision: 0.8659, Recall: 0.8395, F1-Score: 0.8411\n",
            "Epoch 61/100\n"
          ]
        },
        {
          "output_type": "stream",
          "name": "stderr",
          "text": [
            "Training: 100%|██████████| 38/38 [00:07<00:00,  5.12it/s]\n"
          ]
        },
        {
          "output_type": "stream",
          "name": "stdout",
          "text": [
            "Training Loss: 0.0041, Accuracy: 99.83%, Precision: 0.9983, Recall: 0.9983, F1-Score: 0.9983\n"
          ]
        },
        {
          "output_type": "stream",
          "name": "stderr",
          "text": [
            "Validation: 100%|██████████| 6/6 [00:00<00:00, 11.29it/s]\n"
          ]
        },
        {
          "output_type": "stream",
          "name": "stdout",
          "text": [
            "Validation Loss: 0.7047, Accuracy: 81.48%, Precision: 0.8627, Recall: 0.8148, F1-Score: 0.8146\n",
            "Epoch 62/100\n"
          ]
        },
        {
          "output_type": "stream",
          "name": "stderr",
          "text": [
            "Training: 100%|██████████| 38/38 [00:06<00:00,  5.49it/s]\n"
          ]
        },
        {
          "output_type": "stream",
          "name": "stdout",
          "text": [
            "Training Loss: 0.0078, Accuracy: 99.67%, Precision: 0.9967, Recall: 0.9967, F1-Score: 0.9967\n"
          ]
        },
        {
          "output_type": "stream",
          "name": "stderr",
          "text": [
            "Validation: 100%|██████████| 6/6 [00:00<00:00, 14.89it/s]\n"
          ]
        },
        {
          "output_type": "stream",
          "name": "stdout",
          "text": [
            "Validation Loss: 0.6485, Accuracy: 86.42%, Precision: 0.8896, Recall: 0.8642, F1-Score: 0.8675\n",
            "Epoch 63/100\n"
          ]
        },
        {
          "output_type": "stream",
          "name": "stderr",
          "text": [
            "Training: 100%|██████████| 38/38 [00:07<00:00,  5.16it/s]\n"
          ]
        },
        {
          "output_type": "stream",
          "name": "stdout",
          "text": [
            "Training Loss: 0.0042, Accuracy: 99.83%, Precision: 0.9983, Recall: 0.9983, F1-Score: 0.9983\n"
          ]
        },
        {
          "output_type": "stream",
          "name": "stderr",
          "text": [
            "Validation: 100%|██████████| 6/6 [00:00<00:00, 14.46it/s]\n"
          ]
        },
        {
          "output_type": "stream",
          "name": "stdout",
          "text": [
            "Validation Loss: 0.6882, Accuracy: 82.72%, Precision: 0.8701, Recall: 0.8272, F1-Score: 0.8281\n",
            "Epoch 64/100\n"
          ]
        },
        {
          "output_type": "stream",
          "name": "stderr",
          "text": [
            "Training: 100%|██████████| 38/38 [00:06<00:00,  5.49it/s]\n"
          ]
        },
        {
          "output_type": "stream",
          "name": "stdout",
          "text": [
            "Training Loss: 0.0039, Accuracy: 99.67%, Precision: 0.9967, Recall: 0.9967, F1-Score: 0.9967\n"
          ]
        },
        {
          "output_type": "stream",
          "name": "stderr",
          "text": [
            "Validation: 100%|██████████| 6/6 [00:00<00:00, 14.44it/s]\n"
          ]
        },
        {
          "output_type": "stream",
          "name": "stdout",
          "text": [
            "Validation Loss: 0.7384, Accuracy: 82.72%, Precision: 0.8701, Recall: 0.8272, F1-Score: 0.8281\n",
            "Epoch 65/100\n"
          ]
        },
        {
          "output_type": "stream",
          "name": "stderr",
          "text": [
            "Training: 100%|██████████| 38/38 [00:07<00:00,  5.16it/s]\n"
          ]
        },
        {
          "output_type": "stream",
          "name": "stdout",
          "text": [
            "Training Loss: 0.0043, Accuracy: 99.83%, Precision: 0.9983, Recall: 0.9983, F1-Score: 0.9983\n"
          ]
        },
        {
          "output_type": "stream",
          "name": "stderr",
          "text": [
            "Validation: 100%|██████████| 6/6 [00:00<00:00, 14.58it/s]\n"
          ]
        },
        {
          "output_type": "stream",
          "name": "stdout",
          "text": [
            "Validation Loss: 0.6783, Accuracy: 81.48%, Precision: 0.8627, Recall: 0.8148, F1-Score: 0.8146\n",
            "Epoch 66/100\n"
          ]
        },
        {
          "output_type": "stream",
          "name": "stderr",
          "text": [
            "Training: 100%|██████████| 38/38 [00:06<00:00,  5.52it/s]\n"
          ]
        },
        {
          "output_type": "stream",
          "name": "stdout",
          "text": [
            "Training Loss: 0.0016, Accuracy: 100.00%, Precision: 1.0000, Recall: 1.0000, F1-Score: 1.0000\n"
          ]
        },
        {
          "output_type": "stream",
          "name": "stderr",
          "text": [
            "Validation: 100%|██████████| 6/6 [00:00<00:00, 14.44it/s]\n"
          ]
        },
        {
          "output_type": "stream",
          "name": "stdout",
          "text": [
            "Validation Loss: 0.6994, Accuracy: 81.48%, Precision: 0.8627, Recall: 0.8148, F1-Score: 0.8146\n",
            "Epoch 67/100\n"
          ]
        },
        {
          "output_type": "stream",
          "name": "stderr",
          "text": [
            "Training: 100%|██████████| 38/38 [00:07<00:00,  5.12it/s]\n"
          ]
        },
        {
          "output_type": "stream",
          "name": "stdout",
          "text": [
            "Training Loss: 0.0014, Accuracy: 100.00%, Precision: 1.0000, Recall: 1.0000, F1-Score: 1.0000\n"
          ]
        },
        {
          "output_type": "stream",
          "name": "stderr",
          "text": [
            "Validation: 100%|██████████| 6/6 [00:00<00:00, 14.12it/s]\n"
          ]
        },
        {
          "output_type": "stream",
          "name": "stdout",
          "text": [
            "Validation Loss: 0.8431, Accuracy: 81.48%, Precision: 0.8627, Recall: 0.8148, F1-Score: 0.8146\n",
            "Epoch 68/100\n"
          ]
        },
        {
          "output_type": "stream",
          "name": "stderr",
          "text": [
            "Training: 100%|██████████| 38/38 [00:06<00:00,  5.50it/s]\n"
          ]
        },
        {
          "output_type": "stream",
          "name": "stdout",
          "text": [
            "Training Loss: 0.0075, Accuracy: 99.67%, Precision: 0.9967, Recall: 0.9967, F1-Score: 0.9967\n"
          ]
        },
        {
          "output_type": "stream",
          "name": "stderr",
          "text": [
            "Validation: 100%|██████████| 6/6 [00:00<00:00, 12.58it/s]\n"
          ]
        },
        {
          "output_type": "stream",
          "name": "stdout",
          "text": [
            "Validation Loss: 0.6152, Accuracy: 86.42%, Precision: 0.8896, Recall: 0.8642, F1-Score: 0.8675\n",
            "Epoch 69/100\n"
          ]
        },
        {
          "output_type": "stream",
          "name": "stderr",
          "text": [
            "Training: 100%|██████████| 38/38 [00:07<00:00,  5.13it/s]\n"
          ]
        },
        {
          "output_type": "stream",
          "name": "stdout",
          "text": [
            "Training Loss: 0.0014, Accuracy: 100.00%, Precision: 1.0000, Recall: 1.0000, F1-Score: 1.0000\n"
          ]
        },
        {
          "output_type": "stream",
          "name": "stderr",
          "text": [
            "Validation: 100%|██████████| 6/6 [00:00<00:00, 14.86it/s]\n"
          ]
        },
        {
          "output_type": "stream",
          "name": "stdout",
          "text": [
            "Validation Loss: 0.7011, Accuracy: 82.72%, Precision: 0.8701, Recall: 0.8272, F1-Score: 0.8281\n",
            "Epoch 70/100\n"
          ]
        },
        {
          "output_type": "stream",
          "name": "stderr",
          "text": [
            "Training: 100%|██████████| 38/38 [00:06<00:00,  5.49it/s]\n"
          ]
        },
        {
          "output_type": "stream",
          "name": "stdout",
          "text": [
            "Training Loss: 0.0054, Accuracy: 99.67%, Precision: 0.9967, Recall: 0.9967, F1-Score: 0.9967\n"
          ]
        },
        {
          "output_type": "stream",
          "name": "stderr",
          "text": [
            "Validation: 100%|██████████| 6/6 [00:00<00:00, 10.02it/s]\n"
          ]
        },
        {
          "output_type": "stream",
          "name": "stdout",
          "text": [
            "Validation Loss: 0.6297, Accuracy: 85.19%, Precision: 0.8865, Recall: 0.8519, F1-Score: 0.8544\n",
            "Epoch 71/100\n"
          ]
        },
        {
          "output_type": "stream",
          "name": "stderr",
          "text": [
            "Training: 100%|██████████| 38/38 [00:07<00:00,  5.24it/s]\n"
          ]
        },
        {
          "output_type": "stream",
          "name": "stdout",
          "text": [
            "Training Loss: 0.0074, Accuracy: 99.67%, Precision: 0.9967, Recall: 0.9967, F1-Score: 0.9967\n"
          ]
        },
        {
          "output_type": "stream",
          "name": "stderr",
          "text": [
            "Validation: 100%|██████████| 6/6 [00:00<00:00, 14.90it/s]\n"
          ]
        },
        {
          "output_type": "stream",
          "name": "stdout",
          "text": [
            "Validation Loss: 0.6753, Accuracy: 82.72%, Precision: 0.8701, Recall: 0.8272, F1-Score: 0.8281\n",
            "Epoch 72/100\n"
          ]
        },
        {
          "output_type": "stream",
          "name": "stderr",
          "text": [
            "Training: 100%|██████████| 38/38 [00:07<00:00,  5.34it/s]\n"
          ]
        },
        {
          "output_type": "stream",
          "name": "stdout",
          "text": [
            "Training Loss: 0.0060, Accuracy: 99.83%, Precision: 0.9984, Recall: 0.9983, F1-Score: 0.9983\n"
          ]
        },
        {
          "output_type": "stream",
          "name": "stderr",
          "text": [
            "Validation: 100%|██████████| 6/6 [00:00<00:00, 10.54it/s]\n"
          ]
        },
        {
          "output_type": "stream",
          "name": "stdout",
          "text": [
            "Validation Loss: 0.7337, Accuracy: 82.72%, Precision: 0.8701, Recall: 0.8272, F1-Score: 0.8281\n",
            "Epoch 73/100\n"
          ]
        },
        {
          "output_type": "stream",
          "name": "stderr",
          "text": [
            "Training: 100%|██████████| 38/38 [00:07<00:00,  5.32it/s]\n"
          ]
        },
        {
          "output_type": "stream",
          "name": "stdout",
          "text": [
            "Training Loss: 0.0036, Accuracy: 99.83%, Precision: 0.9983, Recall: 0.9983, F1-Score: 0.9983\n"
          ]
        },
        {
          "output_type": "stream",
          "name": "stderr",
          "text": [
            "Validation: 100%|██████████| 6/6 [00:00<00:00, 14.60it/s]\n"
          ]
        },
        {
          "output_type": "stream",
          "name": "stdout",
          "text": [
            "Validation Loss: 0.7195, Accuracy: 81.48%, Precision: 0.8502, Recall: 0.8148, F1-Score: 0.8156\n",
            "Epoch 74/100\n"
          ]
        },
        {
          "output_type": "stream",
          "name": "stderr",
          "text": [
            "Training: 100%|██████████| 38/38 [00:07<00:00,  5.26it/s]\n"
          ]
        },
        {
          "output_type": "stream",
          "name": "stdout",
          "text": [
            "Training Loss: 0.0023, Accuracy: 99.83%, Precision: 0.9983, Recall: 0.9983, F1-Score: 0.9983\n"
          ]
        },
        {
          "output_type": "stream",
          "name": "stderr",
          "text": [
            "Validation: 100%|██████████| 6/6 [00:00<00:00, 12.36it/s]\n"
          ]
        },
        {
          "output_type": "stream",
          "name": "stdout",
          "text": [
            "Validation Loss: 0.7091, Accuracy: 82.72%, Precision: 0.8701, Recall: 0.8272, F1-Score: 0.8281\n",
            "Epoch 75/100\n"
          ]
        },
        {
          "output_type": "stream",
          "name": "stderr",
          "text": [
            "Training: 100%|██████████| 38/38 [00:07<00:00,  5.42it/s]\n"
          ]
        },
        {
          "output_type": "stream",
          "name": "stdout",
          "text": [
            "Training Loss: 0.0068, Accuracy: 99.83%, Precision: 0.9984, Recall: 0.9983, F1-Score: 0.9983\n"
          ]
        },
        {
          "output_type": "stream",
          "name": "stderr",
          "text": [
            "Validation: 100%|██████████| 6/6 [00:00<00:00, 14.69it/s]\n"
          ]
        },
        {
          "output_type": "stream",
          "name": "stdout",
          "text": [
            "Validation Loss: 0.6135, Accuracy: 82.72%, Precision: 0.8727, Recall: 0.8272, F1-Score: 0.8292\n",
            "Epoch 76/100\n"
          ]
        },
        {
          "output_type": "stream",
          "name": "stderr",
          "text": [
            "Training: 100%|██████████| 38/38 [00:07<00:00,  5.16it/s]\n"
          ]
        },
        {
          "output_type": "stream",
          "name": "stdout",
          "text": [
            "Training Loss: 0.0050, Accuracy: 99.83%, Precision: 0.9983, Recall: 0.9983, F1-Score: 0.9983\n"
          ]
        },
        {
          "output_type": "stream",
          "name": "stderr",
          "text": [
            "Validation: 100%|██████████| 6/6 [00:00<00:00, 14.02it/s]\n"
          ]
        },
        {
          "output_type": "stream",
          "name": "stdout",
          "text": [
            "Validation Loss: 0.5888, Accuracy: 87.65%, Precision: 0.9017, Recall: 0.8765, F1-Score: 0.8792\n",
            "Epoch 77/100\n"
          ]
        },
        {
          "output_type": "stream",
          "name": "stderr",
          "text": [
            "Training: 100%|██████████| 38/38 [00:06<00:00,  5.48it/s]\n"
          ]
        },
        {
          "output_type": "stream",
          "name": "stdout",
          "text": [
            "Training Loss: 0.0026, Accuracy: 99.83%, Precision: 0.9984, Recall: 0.9983, F1-Score: 0.9983\n"
          ]
        },
        {
          "output_type": "stream",
          "name": "stderr",
          "text": [
            "Validation: 100%|██████████| 6/6 [00:00<00:00, 14.47it/s]\n"
          ]
        },
        {
          "output_type": "stream",
          "name": "stdout",
          "text": [
            "Validation Loss: 0.6967, Accuracy: 82.72%, Precision: 0.8701, Recall: 0.8272, F1-Score: 0.8281\n",
            "Epoch 78/100\n"
          ]
        },
        {
          "output_type": "stream",
          "name": "stderr",
          "text": [
            "Training: 100%|██████████| 38/38 [00:07<00:00,  5.10it/s]\n"
          ]
        },
        {
          "output_type": "stream",
          "name": "stdout",
          "text": [
            "Training Loss: 0.0043, Accuracy: 99.67%, Precision: 0.9967, Recall: 0.9967, F1-Score: 0.9967\n"
          ]
        },
        {
          "output_type": "stream",
          "name": "stderr",
          "text": [
            "Validation: 100%|██████████| 6/6 [00:00<00:00, 14.50it/s]\n"
          ]
        },
        {
          "output_type": "stream",
          "name": "stdout",
          "text": [
            "Validation Loss: 0.6679, Accuracy: 82.72%, Precision: 0.8701, Recall: 0.8272, F1-Score: 0.8281\n",
            "Epoch 79/100\n"
          ]
        },
        {
          "output_type": "stream",
          "name": "stderr",
          "text": [
            "Training: 100%|██████████| 38/38 [00:06<00:00,  5.48it/s]\n"
          ]
        },
        {
          "output_type": "stream",
          "name": "stdout",
          "text": [
            "Training Loss: 0.0055, Accuracy: 99.67%, Precision: 0.9967, Recall: 0.9967, F1-Score: 0.9967\n"
          ]
        },
        {
          "output_type": "stream",
          "name": "stderr",
          "text": [
            "Validation: 100%|██████████| 6/6 [00:00<00:00, 14.35it/s]\n"
          ]
        },
        {
          "output_type": "stream",
          "name": "stdout",
          "text": [
            "Validation Loss: 0.6045, Accuracy: 86.42%, Precision: 0.8854, Recall: 0.8642, F1-Score: 0.8664\n",
            "Epoch 80/100\n"
          ]
        },
        {
          "output_type": "stream",
          "name": "stderr",
          "text": [
            "Training: 100%|██████████| 38/38 [00:07<00:00,  5.14it/s]\n"
          ]
        },
        {
          "output_type": "stream",
          "name": "stdout",
          "text": [
            "Training Loss: 0.0040, Accuracy: 99.83%, Precision: 0.9983, Recall: 0.9983, F1-Score: 0.9983\n"
          ]
        },
        {
          "output_type": "stream",
          "name": "stderr",
          "text": [
            "Validation: 100%|██████████| 6/6 [00:00<00:00, 13.79it/s]\n"
          ]
        },
        {
          "output_type": "stream",
          "name": "stdout",
          "text": [
            "Validation Loss: 0.5945, Accuracy: 86.42%, Precision: 0.8854, Recall: 0.8642, F1-Score: 0.8664\n",
            "Epoch 81/100\n"
          ]
        },
        {
          "output_type": "stream",
          "name": "stderr",
          "text": [
            "Training: 100%|██████████| 38/38 [00:06<00:00,  5.44it/s]\n"
          ]
        },
        {
          "output_type": "stream",
          "name": "stdout",
          "text": [
            "Training Loss: 0.0031, Accuracy: 99.83%, Precision: 0.9984, Recall: 0.9983, F1-Score: 0.9983\n"
          ]
        },
        {
          "output_type": "stream",
          "name": "stderr",
          "text": [
            "Validation: 100%|██████████| 6/6 [00:00<00:00, 13.66it/s]\n"
          ]
        },
        {
          "output_type": "stream",
          "name": "stdout",
          "text": [
            "Validation Loss: 0.6721, Accuracy: 83.95%, Precision: 0.8659, Recall: 0.8395, F1-Score: 0.8411\n",
            "Epoch 82/100\n"
          ]
        },
        {
          "output_type": "stream",
          "name": "stderr",
          "text": [
            "Training: 100%|██████████| 38/38 [00:07<00:00,  5.08it/s]\n"
          ]
        },
        {
          "output_type": "stream",
          "name": "stdout",
          "text": [
            "Training Loss: 0.0038, Accuracy: 99.83%, Precision: 0.9983, Recall: 0.9983, F1-Score: 0.9983\n"
          ]
        },
        {
          "output_type": "stream",
          "name": "stderr",
          "text": [
            "Validation: 100%|██████████| 6/6 [00:00<00:00, 14.51it/s]\n"
          ]
        },
        {
          "output_type": "stream",
          "name": "stdout",
          "text": [
            "Validation Loss: 0.6958, Accuracy: 82.72%, Precision: 0.8688, Recall: 0.8272, F1-Score: 0.8278\n",
            "Epoch 83/100\n"
          ]
        },
        {
          "output_type": "stream",
          "name": "stderr",
          "text": [
            "Training: 100%|██████████| 38/38 [00:07<00:00,  5.42it/s]\n"
          ]
        },
        {
          "output_type": "stream",
          "name": "stdout",
          "text": [
            "Training Loss: 0.0052, Accuracy: 99.67%, Precision: 0.9967, Recall: 0.9967, F1-Score: 0.9967\n"
          ]
        },
        {
          "output_type": "stream",
          "name": "stderr",
          "text": [
            "Validation: 100%|██████████| 6/6 [00:00<00:00, 14.72it/s]\n"
          ]
        },
        {
          "output_type": "stream",
          "name": "stdout",
          "text": [
            "Validation Loss: 0.7495, Accuracy: 82.72%, Precision: 0.8759, Recall: 0.8272, F1-Score: 0.8299\n",
            "Epoch 84/100\n"
          ]
        },
        {
          "output_type": "stream",
          "name": "stderr",
          "text": [
            "Training: 100%|██████████| 38/38 [00:07<00:00,  5.05it/s]\n"
          ]
        },
        {
          "output_type": "stream",
          "name": "stdout",
          "text": [
            "Training Loss: 0.0034, Accuracy: 99.83%, Precision: 0.9984, Recall: 0.9983, F1-Score: 0.9983\n"
          ]
        },
        {
          "output_type": "stream",
          "name": "stderr",
          "text": [
            "Validation: 100%|██████████| 6/6 [00:00<00:00, 14.74it/s]\n"
          ]
        },
        {
          "output_type": "stream",
          "name": "stdout",
          "text": [
            "Validation Loss: 0.7092, Accuracy: 81.48%, Precision: 0.8502, Recall: 0.8148, F1-Score: 0.8156\n",
            "Epoch 85/100\n"
          ]
        },
        {
          "output_type": "stream",
          "name": "stderr",
          "text": [
            "Training: 100%|██████████| 38/38 [00:06<00:00,  5.47it/s]\n"
          ]
        },
        {
          "output_type": "stream",
          "name": "stdout",
          "text": [
            "Training Loss: 0.0047, Accuracy: 99.83%, Precision: 0.9983, Recall: 0.9983, F1-Score: 0.9983\n"
          ]
        },
        {
          "output_type": "stream",
          "name": "stderr",
          "text": [
            "Validation: 100%|██████████| 6/6 [00:00<00:00, 11.50it/s]\n"
          ]
        },
        {
          "output_type": "stream",
          "name": "stdout",
          "text": [
            "Validation Loss: 0.6542, Accuracy: 86.42%, Precision: 0.8854, Recall: 0.8642, F1-Score: 0.8664\n",
            "Epoch 86/100\n"
          ]
        },
        {
          "output_type": "stream",
          "name": "stderr",
          "text": [
            "Training: 100%|██████████| 38/38 [00:07<00:00,  5.14it/s]\n"
          ]
        },
        {
          "output_type": "stream",
          "name": "stdout",
          "text": [
            "Training Loss: 0.0010, Accuracy: 100.00%, Precision: 1.0000, Recall: 1.0000, F1-Score: 1.0000\n"
          ]
        },
        {
          "output_type": "stream",
          "name": "stderr",
          "text": [
            "Validation: 100%|██████████| 6/6 [00:00<00:00, 14.94it/s]\n"
          ]
        },
        {
          "output_type": "stream",
          "name": "stdout",
          "text": [
            "Validation Loss: 0.7293, Accuracy: 82.72%, Precision: 0.8701, Recall: 0.8272, F1-Score: 0.8281\n",
            "Epoch 87/100\n"
          ]
        },
        {
          "output_type": "stream",
          "name": "stderr",
          "text": [
            "Training: 100%|██████████| 38/38 [00:07<00:00,  5.39it/s]\n"
          ]
        },
        {
          "output_type": "stream",
          "name": "stdout",
          "text": [
            "Training Loss: 0.0044, Accuracy: 99.83%, Precision: 0.9984, Recall: 0.9983, F1-Score: 0.9983\n"
          ]
        },
        {
          "output_type": "stream",
          "name": "stderr",
          "text": [
            "Validation: 100%|██████████| 6/6 [00:00<00:00, 11.63it/s]\n"
          ]
        },
        {
          "output_type": "stream",
          "name": "stdout",
          "text": [
            "Validation Loss: 0.7705, Accuracy: 82.72%, Precision: 0.8701, Recall: 0.8272, F1-Score: 0.8281\n",
            "Epoch 88/100\n"
          ]
        },
        {
          "output_type": "stream",
          "name": "stderr",
          "text": [
            "Training: 100%|██████████| 38/38 [00:07<00:00,  5.25it/s]\n"
          ]
        },
        {
          "output_type": "stream",
          "name": "stdout",
          "text": [
            "Training Loss: 0.0055, Accuracy: 99.67%, Precision: 0.9967, Recall: 0.9967, F1-Score: 0.9967\n"
          ]
        },
        {
          "output_type": "stream",
          "name": "stderr",
          "text": [
            "Validation: 100%|██████████| 6/6 [00:00<00:00, 13.87it/s]\n"
          ]
        },
        {
          "output_type": "stream",
          "name": "stdout",
          "text": [
            "Validation Loss: 0.6587, Accuracy: 85.19%, Precision: 0.8840, Recall: 0.8519, F1-Score: 0.8537\n",
            "Epoch 89/100\n"
          ]
        },
        {
          "output_type": "stream",
          "name": "stderr",
          "text": [
            "Training: 100%|██████████| 38/38 [00:07<00:00,  5.28it/s]\n"
          ]
        },
        {
          "output_type": "stream",
          "name": "stdout",
          "text": [
            "Training Loss: 0.0046, Accuracy: 99.67%, Precision: 0.9967, Recall: 0.9967, F1-Score: 0.9967\n"
          ]
        },
        {
          "output_type": "stream",
          "name": "stderr",
          "text": [
            "Validation: 100%|██████████| 6/6 [00:00<00:00, 11.53it/s]\n"
          ]
        },
        {
          "output_type": "stream",
          "name": "stdout",
          "text": [
            "Validation Loss: 0.6528, Accuracy: 87.65%, Precision: 0.9017, Recall: 0.8765, F1-Score: 0.8792\n",
            "Epoch 90/100\n"
          ]
        },
        {
          "output_type": "stream",
          "name": "stderr",
          "text": [
            "Training: 100%|██████████| 38/38 [00:07<00:00,  5.38it/s]\n"
          ]
        },
        {
          "output_type": "stream",
          "name": "stdout",
          "text": [
            "Training Loss: 0.0040, Accuracy: 99.67%, Precision: 0.9967, Recall: 0.9967, F1-Score: 0.9967\n"
          ]
        },
        {
          "output_type": "stream",
          "name": "stderr",
          "text": [
            "Validation: 100%|██████████| 6/6 [00:00<00:00, 14.64it/s]\n"
          ]
        },
        {
          "output_type": "stream",
          "name": "stdout",
          "text": [
            "Validation Loss: 0.6981, Accuracy: 82.72%, Precision: 0.8688, Recall: 0.8272, F1-Score: 0.8278\n",
            "Epoch 91/100\n"
          ]
        },
        {
          "output_type": "stream",
          "name": "stderr",
          "text": [
            "Training: 100%|██████████| 38/38 [00:07<00:00,  5.26it/s]\n"
          ]
        },
        {
          "output_type": "stream",
          "name": "stdout",
          "text": [
            "Training Loss: 0.0040, Accuracy: 99.83%, Precision: 0.9983, Recall: 0.9983, F1-Score: 0.9983\n"
          ]
        },
        {
          "output_type": "stream",
          "name": "stderr",
          "text": [
            "Validation: 100%|██████████| 6/6 [00:00<00:00, 11.32it/s]\n"
          ]
        },
        {
          "output_type": "stream",
          "name": "stdout",
          "text": [
            "Validation Loss: 0.7575, Accuracy: 82.72%, Precision: 0.8688, Recall: 0.8272, F1-Score: 0.8278\n",
            "Epoch 92/100\n"
          ]
        },
        {
          "output_type": "stream",
          "name": "stderr",
          "text": [
            "Training: 100%|██████████| 38/38 [00:06<00:00,  5.50it/s]\n"
          ]
        },
        {
          "output_type": "stream",
          "name": "stdout",
          "text": [
            "Training Loss: 0.0044, Accuracy: 99.83%, Precision: 0.9983, Recall: 0.9983, F1-Score: 0.9983\n"
          ]
        },
        {
          "output_type": "stream",
          "name": "stderr",
          "text": [
            "Validation: 100%|██████████| 6/6 [00:00<00:00, 13.54it/s]\n"
          ]
        },
        {
          "output_type": "stream",
          "name": "stdout",
          "text": [
            "Validation Loss: 0.6938, Accuracy: 85.19%, Precision: 0.8840, Recall: 0.8519, F1-Score: 0.8537\n",
            "Epoch 93/100\n"
          ]
        },
        {
          "output_type": "stream",
          "name": "stderr",
          "text": [
            "Training: 100%|██████████| 38/38 [00:07<00:00,  5.14it/s]\n"
          ]
        },
        {
          "output_type": "stream",
          "name": "stdout",
          "text": [
            "Training Loss: 0.0022, Accuracy: 100.00%, Precision: 1.0000, Recall: 1.0000, F1-Score: 1.0000\n"
          ]
        },
        {
          "output_type": "stream",
          "name": "stderr",
          "text": [
            "Validation: 100%|██████████| 6/6 [00:00<00:00, 14.72it/s]\n"
          ]
        },
        {
          "output_type": "stream",
          "name": "stdout",
          "text": [
            "Validation Loss: 0.6973, Accuracy: 87.65%, Precision: 0.9017, Recall: 0.8765, F1-Score: 0.8792\n",
            "Epoch 94/100\n"
          ]
        },
        {
          "output_type": "stream",
          "name": "stderr",
          "text": [
            "Training: 100%|██████████| 38/38 [00:06<00:00,  5.46it/s]\n"
          ]
        },
        {
          "output_type": "stream",
          "name": "stdout",
          "text": [
            "Training Loss: 0.0032, Accuracy: 99.67%, Precision: 0.9967, Recall: 0.9967, F1-Score: 0.9967\n"
          ]
        },
        {
          "output_type": "stream",
          "name": "stderr",
          "text": [
            "Validation: 100%|██████████| 6/6 [00:00<00:00, 14.58it/s]\n"
          ]
        },
        {
          "output_type": "stream",
          "name": "stdout",
          "text": [
            "Validation Loss: 0.7278, Accuracy: 86.42%, Precision: 0.8854, Recall: 0.8642, F1-Score: 0.8664\n",
            "Epoch 95/100\n"
          ]
        },
        {
          "output_type": "stream",
          "name": "stderr",
          "text": [
            "Training: 100%|██████████| 38/38 [00:07<00:00,  5.11it/s]\n"
          ]
        },
        {
          "output_type": "stream",
          "name": "stdout",
          "text": [
            "Training Loss: 0.0077, Accuracy: 99.67%, Precision: 0.9967, Recall: 0.9967, F1-Score: 0.9967\n"
          ]
        },
        {
          "output_type": "stream",
          "name": "stderr",
          "text": [
            "Validation: 100%|██████████| 6/6 [00:00<00:00, 14.41it/s]\n"
          ]
        },
        {
          "output_type": "stream",
          "name": "stdout",
          "text": [
            "Validation Loss: 0.6887, Accuracy: 82.72%, Precision: 0.8688, Recall: 0.8272, F1-Score: 0.8278\n",
            "Epoch 96/100\n"
          ]
        },
        {
          "output_type": "stream",
          "name": "stderr",
          "text": [
            "Training: 100%|██████████| 38/38 [00:06<00:00,  5.50it/s]\n"
          ]
        },
        {
          "output_type": "stream",
          "name": "stdout",
          "text": [
            "Training Loss: 0.0039, Accuracy: 99.83%, Precision: 0.9984, Recall: 0.9983, F1-Score: 0.9983\n"
          ]
        },
        {
          "output_type": "stream",
          "name": "stderr",
          "text": [
            "Validation: 100%|██████████| 6/6 [00:00<00:00, 14.01it/s]\n"
          ]
        },
        {
          "output_type": "stream",
          "name": "stdout",
          "text": [
            "Validation Loss: 0.7395, Accuracy: 82.72%, Precision: 0.8688, Recall: 0.8272, F1-Score: 0.8278\n",
            "Epoch 97/100\n"
          ]
        },
        {
          "output_type": "stream",
          "name": "stderr",
          "text": [
            "Training: 100%|██████████| 38/38 [00:07<00:00,  5.14it/s]\n"
          ]
        },
        {
          "output_type": "stream",
          "name": "stdout",
          "text": [
            "Training Loss: 0.0061, Accuracy: 99.67%, Precision: 0.9967, Recall: 0.9967, F1-Score: 0.9967\n"
          ]
        },
        {
          "output_type": "stream",
          "name": "stderr",
          "text": [
            "Validation: 100%|██████████| 6/6 [00:00<00:00, 14.85it/s]\n"
          ]
        },
        {
          "output_type": "stream",
          "name": "stdout",
          "text": [
            "Validation Loss: 0.6125, Accuracy: 86.42%, Precision: 0.8854, Recall: 0.8642, F1-Score: 0.8664\n",
            "Epoch 98/100\n"
          ]
        },
        {
          "output_type": "stream",
          "name": "stderr",
          "text": [
            "Training: 100%|██████████| 38/38 [00:06<00:00,  5.49it/s]\n"
          ]
        },
        {
          "output_type": "stream",
          "name": "stdout",
          "text": [
            "Training Loss: 0.0027, Accuracy: 99.83%, Precision: 0.9984, Recall: 0.9983, F1-Score: 0.9983\n"
          ]
        },
        {
          "output_type": "stream",
          "name": "stderr",
          "text": [
            "Validation: 100%|██████████| 6/6 [00:00<00:00, 13.45it/s]\n"
          ]
        },
        {
          "output_type": "stream",
          "name": "stdout",
          "text": [
            "Validation Loss: 0.6888, Accuracy: 86.42%, Precision: 0.8854, Recall: 0.8642, F1-Score: 0.8664\n",
            "Epoch 99/100\n"
          ]
        },
        {
          "output_type": "stream",
          "name": "stderr",
          "text": [
            "Training: 100%|██████████| 38/38 [00:07<00:00,  5.08it/s]\n"
          ]
        },
        {
          "output_type": "stream",
          "name": "stdout",
          "text": [
            "Training Loss: 0.0033, Accuracy: 99.83%, Precision: 0.9983, Recall: 0.9983, F1-Score: 0.9983\n"
          ]
        },
        {
          "output_type": "stream",
          "name": "stderr",
          "text": [
            "Validation: 100%|██████████| 6/6 [00:00<00:00, 14.66it/s]\n"
          ]
        },
        {
          "output_type": "stream",
          "name": "stdout",
          "text": [
            "Validation Loss: 0.6665, Accuracy: 82.72%, Precision: 0.8688, Recall: 0.8272, F1-Score: 0.8278\n",
            "Epoch 100/100\n"
          ]
        },
        {
          "output_type": "stream",
          "name": "stderr",
          "text": [
            "Training: 100%|██████████| 38/38 [00:06<00:00,  5.46it/s]\n"
          ]
        },
        {
          "output_type": "stream",
          "name": "stdout",
          "text": [
            "Training Loss: 0.0033, Accuracy: 99.67%, Precision: 0.9967, Recall: 0.9967, F1-Score: 0.9967\n"
          ]
        },
        {
          "output_type": "stream",
          "name": "stderr",
          "text": [
            "Validation: 100%|██████████| 6/6 [00:00<00:00, 12.50it/s]\n"
          ]
        },
        {
          "output_type": "stream",
          "name": "stdout",
          "text": [
            "Validation Loss: 0.7149, Accuracy: 83.95%, Precision: 0.8659, Recall: 0.8395, F1-Score: 0.8411\n",
            "Total Training + Validation Time: 766.79 seconds\n"
          ]
        }
      ]
    },
    {
      "cell_type": "code",
      "source": [
        "# Plot training and validation loss\n",
        "plt.figure(figsize=(10, 5))\n",
        "plt.plot(train_losses, label='Training Loss')\n",
        "plt.plot(valid_losses, label='Validation Loss')\n",
        "plt.xlabel('Epoch')\n",
        "plt.ylabel('Loss')\n",
        "plt.legend()\n",
        "plt.title('Training and Validation Loss')\n",
        "plt.show()"
      ],
      "metadata": {
        "colab": {
          "base_uri": "https://localhost:8080/",
          "height": 366
        },
        "id": "SDrW3G8wOJkd",
        "outputId": "f1e5cdf1-06ee-4c85-8046-9790e6ad412a"
      },
      "id": "SDrW3G8wOJkd",
      "execution_count": null,
      "outputs": [
        {
          "output_type": "display_data",
          "data": {
            "text/plain": [
              "<Figure size 1000x500 with 1 Axes>"
            ],
            "image/png": "[encoded data removed]"
          },
          "metadata": {}
        }
      ]
    },
    {
      "cell_type": "code",
      "source": [
        "# Plot training and validation accuracy\n",
        "plt.figure(figsize=(10, 5))\n",
        "plt.plot(train_accuracies, label='Training Accuracy')\n",
        "plt.plot(valid_accuracies, label='Validation Accuracy')\n",
        "plt.xlabel('Epoch')\n",
        "plt.ylabel('Accuracy')\n",
        "plt.legend()\n",
        "plt.title('Training and Validation Accuracy')\n",
        "plt.show()"
      ],
      "metadata": {
        "colab": {
          "base_uri": "https://localhost:8080/",
          "height": 365
        },
        "id": "4f6mpgXsOZVx",
        "outputId": "f94909be-7c48-4ed3-a74e-8304ddaf6970"
      },
      "id": "4f6mpgXsOZVx",
      "execution_count": null,
      "outputs": [
        {
          "output_type": "display_data",
          "data": {
            "text/plain": [
              "<Figure size 1000x500 with 1 Axes>"
            ],
            "image/png": "[encoded data removed]"
          },
          "metadata": {}
        }
      ]
    },
    {
      "cell_type": "code",
      "source": [
        "\n",
        "# Hitung rata-rata metrik setelah semua epoch\n",
        "average_train_loss = np.mean(train_losses)\n",
        "average_valid_loss = np.mean(valid_losses)\n",
        "average_train_accuracy = np.mean(train_accuracies)\n",
        "average_valid_accuracy = np.mean(valid_accuracies)\n",
        "average_train_precision = np.mean(train_precisions) # Calculate mean from stored values\n",
        "average_valid_precision = np.mean(valid_precisions) # Calculate mean from stored values\n",
        "average_train_recall = np.mean(train_recalls)     # Calculate mean from stored values\n",
        "average_valid_recall = np.mean(valid_recalls)     # Calculate mean from stored values\n",
        "average_train_f1 = np.mean(train_f1s)           # Calculate mean from stored values\n",
        "average_valid_f1 = np.mean(valid_f1s)           # Calculate mean from stored values\n",
        "\n",
        "\n",
        "\n",
        "# Display results training\n",
        "print('--------------')\n",
        "print(f'Training Accuracy: {average_train_accuracy:.2f}%')\n",
        "print(f'Training Loss: {average_train_loss:.4f}')\n",
        "print(f'Training Precision: {average_train_precision:.4f}')\n",
        "print(f'Training Recall: {average_train_recall:.4f}')\n",
        "print(f'Training F1-Score: {average_train_f1:.4f}')\n",
        "\n",
        "\n",
        "# Display results validasi\n",
        "print('--------------')\n",
        "print(f'Validation Accuracy: {average_valid_accuracy:.2f}%')\n",
        "print(f'Validation Loss: {average_valid_loss:.4f}')\n",
        "print(f'Validation Precision: {average_valid_precision:.4f}')\n",
        "print(f'Validation Recall: {average_valid_recall:.4f}')\n",
        "print(f'Validation F1-Score: {average_valid_f1:.4f}')"
      ],
      "metadata": {
        "colab": {
          "base_uri": "https://localhost:8080/"
        },
        "id": "sHq9FmrkS6ND",
        "outputId": "03ac5013-a61e-4b1a-b6ef-2cb8537d3d69"
      },
      "id": "sHq9FmrkS6ND",
      "execution_count": null,
      "outputs": [
        {
          "output_type": "stream",
          "name": "stdout",
          "text": [
            "--------------\n",
            "Training Accuracy: 89.53%\n",
            "Training Loss: 0.2359\n",
            "Training Precision: 0.8962\n",
            "Training Recall: 0.8953\n",
            "Training F1-Score: 0.8871\n",
            "--------------\n",
            "Validation Accuracy: 73.81%\n",
            "Validation Loss: 0.7886\n",
            "Validation Precision: 0.8147\n",
            "Validation Recall: 0.7381\n",
            "Validation F1-Score: 0.7268\n"
          ]
        }
      ]
    },
    {
      "cell_type": "code",
      "source": [
        "def debug_pruned_weights(model):\n",
        "    \"\"\"\n",
        "    Print out the number of filters and weights in each layer to ensure pruning is correctly applied.\n",
        "    \"\"\"\n",
        "    for name, module in model.named_modules():\n",
        "        if isinstance(module, nn.Conv2d):\n",
        "            print(f\"Layer: {name}, Weights Shape: {module.weight.shape}\")\n",
        "\n",
        "# Periksa model setelah pruning\n",
        "debug_pruned_weights(pruned_model)\n"
      ],
      "metadata": {
        "colab": {
          "base_uri": "https://localhost:8080/"
        },
        "id": "ba4EgMHcoRQL",
        "outputId": "47677eb7-c046-4e34-ed03-3f1a1139f4e5"
      },
      "id": "ba4EgMHcoRQL",
      "execution_count": null,
      "outputs": [
        {
          "output_type": "stream",
          "name": "stdout",
          "text": [
            "Layer: features.0, Weights Shape: torch.Size([39, 3, 3, 3])\n",
            "Layer: features.2, Weights Shape: torch.Size([39, 39, 3, 3])\n",
            "Layer: features.5, Weights Shape: torch.Size([77, 39, 3, 3])\n",
            "Layer: features.7, Weights Shape: torch.Size([77, 77, 3, 3])\n",
            "Layer: features.10, Weights Shape: torch.Size([154, 77, 3, 3])\n",
            "Layer: features.12, Weights Shape: torch.Size([154, 154, 3, 3])\n",
            "Layer: features.14, Weights Shape: torch.Size([154, 154, 3, 3])\n",
            "Layer: features.17, Weights Shape: torch.Size([308, 154, 3, 3])\n",
            "Layer: features.19, Weights Shape: torch.Size([308, 308, 3, 3])\n",
            "Layer: features.21, Weights Shape: torch.Size([308, 308, 3, 3])\n",
            "Layer: features.24, Weights Shape: torch.Size([308, 308, 3, 3])\n",
            "Layer: features.26, Weights Shape: torch.Size([308, 308, 3, 3])\n",
            "Layer: features.28, Weights Shape: torch.Size([308, 308, 3, 3])\n"
          ]
        }
      ]
    },
    {
      "cell_type": "code",
      "source": [
        "# Test the model\n",
        "\n",
        "pruned_model.load_state_dict(torch.load('/content/drive/MyDrive/Best-pruning-model/fine_tuned_pruned_vgg-40.pth'))\n",
        "pruned_model.eval()\n",
        "\n",
        "# Start timer for testing\n",
        "start_test_time = time.time()\n",
        "\n",
        "test_loss = 0\n",
        "all_test_preds = []\n",
        "all_test_labels = []\n",
        "correct = 0\n",
        "total = 0\n",
        "with torch.no_grad():\n",
        "  for images, labels in tqdm(test_loader, desc='Testing'):\n",
        "    images, labels = images.to(device), labels.to(device)\n",
        "\n",
        "    # Convert grayscale images to 3 channels\n",
        "    if images.size(1) == 1:\n",
        "      images = images.repeat(1, 3, 1, 1)\n",
        "\n",
        "    outputs = pruned_model(images)\n",
        "    loss = criterion(outputs, labels)\n",
        "    test_loss += loss.item()\n",
        "\n",
        "    all_test_preds.append(outputs)\n",
        "    all_test_labels.append(labels)\n",
        "\n",
        "    _, predicted = torch.max(outputs.data, 1)\n",
        "    total += labels.size(0)\n",
        "    correct += (predicted == labels).sum().item()\n",
        "\n",
        "test_loss /= len(test_loader)\n",
        "test_accuracy, test_precision, test_recall, test_f1 = calculate_metrics(torch.cat(all_test_preds), torch.cat(all_test_labels))\n",
        "print(\"\\n---------------------------------------------------------------------------------------------\\n\")\n",
        "print(f\"Test Loss: {test_loss:.4f}, Accuracy: {test_accuracy:.2f}%, Precision: {test_precision:.4f}, Recall: {test_recall:.4f}, F1-Score: {test_f1:.4f}\")\n",
        "\n",
        "# End timer for testing and print the total time\n",
        "end_test_time = time.time()\n",
        "total_testing_time = end_test_time - start_test_time\n",
        "print(f\"Total Testing Time: {total_testing_time:.2f} seconds\")"
      ],
      "metadata": {
        "colab": {
          "base_uri": "https://localhost:8080/"
        },
        "id": "9MFAMesvra2O",
        "outputId": "3f816b7c-cb6a-4965-9396-200a99927976"
      },
      "id": "9MFAMesvra2O",
      "execution_count": null,
      "outputs": [
        {
          "output_type": "stream",
          "name": "stderr",
          "text": [
            "<ipython-input-27-c1d6b1645c31>:3: FutureWarning: You are using `torch.load` with `weights_only=False` (the current default value), which uses the default pickle module implicitly. It is possible to construct malicious pickle data which will execute arbitrary code during unpickling (See https://github.com/pytorch/pytorch/blob/main/SECURITY.md#untrusted-models for more details). In a future release, the default value for `weights_only` will be flipped to `True`. This limits the functions that could be executed during unpickling. Arbitrary objects will no longer be allowed to be loaded via this mode unless they are explicitly allowlisted by the user via `torch.serialization.add_safe_globals`. We recommend you start setting `weights_only=True` for any use case where you don't have full control of the loaded file. Please open an issue on GitHub for any issues related to this experimental feature.\n",
            "  pruned_model.load_state_dict(torch.load('/content/drive/MyDrive/Best-pruning-model/fine_tuned_pruned_vgg-40.pth'))\n",
            "Testing: 100%|██████████| 20/20 [00:02<00:00,  8.74it/s]\n"
          ]
        },
        {
          "output_type": "stream",
          "name": "stdout",
          "text": [
            "\n",
            "---------------------------------------------------------------------------------------------\n",
            "\n",
            "Test Loss: 1.2696, Accuracy: 73.97%, Precision: 0.7498, Recall: 0.7397, F1-Score: 0.7404\n",
            "Total Testing Time: 2.31 seconds\n"
          ]
        }
      ]
    },
    {
      "cell_type": "code",
      "source": [
        "# Path dinamis untuk memuat model terbaik\n",
        "#best_model_file = '/content/drive/MyDrive/Chest-CT-Data/best-model-vgg-clahe-0,001.pth' if IN_COLAB else 'best-model.pth'\n",
        "# Start testing time\n",
        "testing_start_time = time.time()\n",
        "\n",
        "# Load the best model\n",
        "pruned_model.load_state_dict(torch.load('/content/drive/MyDrive/Best-pruning-model/fine_tuned_pruned_vgg-40.pth'))\n",
        "pruned_model.eval()\n",
        "\n",
        "# Define class labels corresponding to the numerical labels\n",
        "class_labels = [\n",
        "    'Adenocarcinoma',\n",
        "    'Large Cell Carcinoma',\n",
        "    'Normal',\n",
        "    'Squamous Cell Carcinoma'\n",
        "]\n",
        "\n",
        "predicted_probabilities = []\n",
        "true_labels = []\n",
        "\n",
        "test_loader_tqdm = tqdm(test_loader, desc=\"Testing\")\n",
        "with torch.no_grad():\n",
        "    for images, labels in test_loader_tqdm:\n",
        "        images, labels = images.to(device), labels.to(device)\n",
        "        if images.dim() == 3:\n",
        "            images = images.unsqueeze(1)\n",
        "        images = images.repeat(1, 3, 1, 1)\n",
        "        outputs = pruned_model(images)\n",
        "        loss = criterion(outputs, labels)\n",
        "        probabilities = nn.functional.softmax(outputs, dim=1)\n",
        "        predicted_probabilities.append(probabilities)\n",
        "        true_labels.append(labels)\n",
        "        #test_loader_tqdm.set_postfix({\"Batch Size\": len(labels)})\n",
        "\n",
        "# End testing time\n",
        "total_testing_time = time.time() - testing_start_time\n",
        "print(f\"Total testing time: {total_testing_time:.2f} seconds\")\n",
        "\n",
        "# Calculate evaluation metrics\n",
        "predicted_probabilities = torch.cat(predicted_probabilities)\n",
        "true_labels = torch.cat(true_labels)\n",
        "predicted_labels = torch.argmax(predicted_probabilities, dim=1)\n",
        "\n",
        "accuracy = (predicted_labels == true_labels).float().mean().item()\n",
        "precision = precision_score(true_labels.cpu(), predicted_labels.cpu(), average='weighted')\n",
        "recall = recall_score(true_labels.cpu(), predicted_labels.cpu(), average='weighted')\n",
        "f1 = f1_score(true_labels.cpu(), predicted_labels.cpu(), average='weighted')\n",
        "conf_matrix = confusion_matrix(true_labels.cpu(), predicted_labels.cpu())\n",
        "\n",
        "# Display results\n",
        "print(f'Test Accuracy: {accuracy * 100:.2f}%')\n",
        "print(f'Test Loss: {loss:.4f}')\n",
        "print(f'Precision: {precision:.4f}')\n",
        "print(f'Recall: {recall:.4f}')\n",
        "print(f'F1-Score: {f1:.4f}')\n",
        "print(f'Confusion Matrix:\\n{conf_matrix}')\n",
        "\n",
        "# Plot confusion matrix using Matplotlib\n",
        "fig, ax = plt.subplots(figsize=(12, 9))\n",
        "cax = ax.matshow(conf_matrix, cmap='Blues')\n",
        "\n",
        "# Menampilkan angka pada setiap sel dengan outline putih\n",
        "for (i, j), val in np.ndenumerate(conf_matrix):\n",
        "    text = ax.text(j, i, f'{val}', ha='center', va='center', color='black', fontsize=20, fontweight='bold')\n",
        "\n",
        "    # Menambahkan outline putih di sekitar angka\n",
        "    text.set_path_effects([path_effects.Stroke(linewidth=3, foreground='white'),\n",
        "                           path_effects.Normal()])\n",
        "\n",
        "fig.colorbar(cax)\n",
        "\n",
        "# Set ticks dan ticklabels\n",
        "ax.set_xticks(np.arange(len(class_labels)))\n",
        "ax.set_yticks(np.arange(len(class_labels)))\n",
        "ax.set_xticklabels(class_labels)\n",
        "ax.set_yticklabels(class_labels)\n",
        "\n",
        "plt.xlabel('Predicted Labels')\n",
        "plt.ylabel('True Labels')\n",
        "plt.title('Confusion Matrix')\n",
        "plt.show()\n",
        "\n",
        "\n",
        "# Total time for the whole process\n",
        "#total_process_time = total_training_time + total_testing_time\n",
        "#print(f\"Total process time (training + testing): {total_process_time:.2f} seconds\")\n"
      ],
      "metadata": {
        "colab": {
          "base_uri": "https://localhost:8080/",
          "height": 757
        },
        "id": "d9KfmHEkF6dZ",
        "outputId": "51eeba82-8a4d-46b3-e0f5-66e53f8520c9"
      },
      "id": "d9KfmHEkF6dZ",
      "execution_count": null,
      "outputs": [
        {
          "output_type": "stream",
          "name": "stderr",
          "text": [
            "<ipython-input-28-2ca1a3b9ebec>:7: FutureWarning: You are using `torch.load` with `weights_only=False` (the current default value), which uses the default pickle module implicitly. It is possible to construct malicious pickle data which will execute arbitrary code during unpickling (See https://github.com/pytorch/pytorch/blob/main/SECURITY.md#untrusted-models for more details). In a future release, the default value for `weights_only` will be flipped to `True`. This limits the functions that could be executed during unpickling. Arbitrary objects will no longer be allowed to be loaded via this mode unless they are explicitly allowlisted by the user via `torch.serialization.add_safe_globals`. We recommend you start setting `weights_only=True` for any use case where you don't have full control of the loaded file. Please open an issue on GitHub for any issues related to this experimental feature.\n",
            "  pruned_model.load_state_dict(torch.load('/content/drive/MyDrive/Best-pruning-model/fine_tuned_pruned_vgg-40.pth'))\n",
            "Testing: 100%|██████████| 20/20 [00:01<00:00, 19.27it/s]\n"
          ]
        },
        {
          "output_type": "stream",
          "name": "stdout",
          "text": [
            "Total testing time: 1.17 seconds\n",
            "Test Accuracy: 73.97%\n",
            "Test Loss: 1.6776\n",
            "Precision: 0.7498\n",
            "Recall: 0.7397\n",
            "F1-Score: 0.7404\n",
            "Confusion Matrix:\n",
            "[[79 17  0 24]\n",
            " [ 5 44  0  2]\n",
            " [ 4  0 50  0]\n",
            " [20 10  0 60]]\n"
          ]
        },
        {
          "output_type": "display_data",
          "data": {
            "text/plain": [
              "<Figure size 1200x900 with 2 Axes>"
            ],
            "image/png": "[encoded data removed]"
          },
          "metadata": {}
        }
      ]
    },
    {
      "cell_type": "markdown",
      "source": [
        "# perhitung benar"
      ],
      "metadata": {
        "id": "ix7gnIwJDhGF"
      },
      "id": "ix7gnIwJDhGF"
    },
    {
      "cell_type": "markdown",
      "source": [
        "![image.png](data:image/png;base64,iVBORw0KGgoAAAANSUhEUgAABFgAAAOoCAYAAADlNkAyAAAAAXNSR0IArs4c6QAAAARnQU1BAACxjwv8YQUAAAAJcEhZcwAAHYcAAB2HAY/l8WUAAP+lSURBVHhe7N0FmBzF1oDhQi/u7sHd3YOHiwd+3LnAxd3dXS/uwT24heAuIWhwCBIkuEuYf79K16Z3Mqs9u5ndfO/z9LMzPbLTPT3dXadPnRqlVCdIkiRJkiR1ce0ZAhk1+ytJkiRJktRltXd+iQEWSZIkSZKkggywSJIkSZIkFWSARZIkSZIkqSADLJIkSZIkSQUZYJEkSZIkSSrIAIskSZIkSVJBBlgkSZIkSZIKMsAiSZIkSZJUkAEWSZIkSZKkggywSJIkSZIkFdSlAiz33XdfmGCCCeon7qv9/fXXX2G//faL63zmmWcODz30UPaIJEmSJEkjhyYDLL/99ls47LDD2iVY8dVXX4VFF120QUBkhRVWCN9//332DHUWTz75ZLjkkkvi7cGDB4dzzz03/Prrr/G+JEmSJEkjg4oBliFDhoR77rknLLnkkuGcc87J5lbXq6++Gt59993s3lCvvfZaeOutt7J7kiRJkiRJnUODAAsZK2QfzDbbbGHTTTcNH374YfZIdZVKpXDrrbfGv3l///13uO2227J76iyWXXbZsOeee8bbU089ddh3333DOOOME+9LkiRJkjQyaBBg+eGHH8IFF1wQu3mMPfbYsQtPexg4cGB45JFHsnshLLjggtmtEOfTfUidxxhjjBGOOeaY8OOPP4a33347dvWSJEmSJGlkMlwXoRlmmCE2lt97772w9tprZ3Or64UXXgiff/55vD3llFOGzTffPIwyyijxPt2G6D4kSZIkSZLUWTQIsEw11VTh/vvvD3vttVcYf/zxs7nVRTegO+64I7sXYp2XNddcM0w33XTxPt2G+Azl3YfyBgwYEDbccMMw0UQTxeK4c8wxR8UuR5V8/PHHYffdd4/LmorrLrHEEuGGG26Io+Hk7bTTTvXPIRD0yiuvhGeffTasvPLK9fO5zbxKqGXzwAMPhNVXXz1MOumk9a+ZZ555wrHHHhu++OKL7JnDo7vW9ddfH5Zaaqn65Uyvve6667JnhVhM9vbbbw/rr79+DI6l580yyyzhiCOOCD/99FP2zKH4n3PPPXf981j377//fth6663r7//yyy/Zs0N8/VlnnRUWWGCB+tcwsc4ee+yx+BzWC+snPcZ6Syo9xmc+8sgjw/TTTx/n8Zf7jRXG5TMfcsgh8XtO78P6ZJlZv6znvErLSHbNLbfcUv8e/M+zzz47rmdU+l779+8fH8v79ttvQ69evcJKK63UYBvie7nooovq30+SJEmSNHKpWOS2PdGYf/zxx7N7IWbJEFxZfvnlszlDh1seNGhQdm8YAigXX3xxDMo8+OCD4Z9//onzee62224brrzyyni/El5LwGLhhRcOV111VYPGPIV1d9xxx7D99tvHhnhjCOL8+9//jhk4Cbc32mij4RrjX375ZQwA8NgzzzzTIHjzySefhFNPPTUGLQgQlCODh2UkGPHGG2/ULyd4bQpsYO+9947BkYcffrjBCExff/11DIywXnlNY+gWxnITpCnHcMtzzjlnDNSU1+Nhnb388svZvZYjQLHFFluEM888M/5v8Jf7hx56aAzAJek7I3jxv//9r8E2wfpkmVm/fPdNfW+///57DBput9129e/B/zz88MPDUUcdFZd9jTXWGO57XWuttRp8rwSe+Oy77bZbePHFFxtsQ6zj/fffP2y88cZNfhZJkiRJUtfU4QEWggPfffddvD3xxBPHIAPdg8gYSGisPv3009m9YV566aXYKM4HHPLIfGnMo48+Gv773/8Ol6WS17t373DZZZdl9xoiM4ERlSq9nsb61VdfXZ9BQ0OcgA3/sym85w477NCgEc+yEzCpVoFhAlpkajSW3cPITZUCJaxrAhLlGTBFERjr06dPdq8hMkzeeeed7N7QQFtz3xn43siAyQdn8lgW3ruSCy+8MH4HlbYpvtdrrrkmu9cyfOdkQ0mSJEmSRi4dGmAhoECjOVlsscXCjDPOGG9TUJeuJMm99947XDYDwY98Fwwa359++mkM2JBdMuGEE2aPNJSCI6kRzfN4Pq/76KOPYqZJQsbEN998k91riO46BCR4HRkVo446bPUxP3WtYRnzRXznn3/+GDCiwU73lQMOOCB7ZGgjnkY+y8fE+xIUSci4efLJJ+P/5HOxXmadddbs0RAmn3zymGHSr1+/+DjZE6yTTTbZJHtGiBlDZI40ZsUVV4wZKSlQxHo6+eST4/2ETCO6+zCPIsRkC0022WTZoy1HMI3vgs/K/1x66aWzR4auC2r/gOU47bTT6r8z1jVBFNYfz2OdzDTTTPEx0G3q9ddfz+41xHplHfE/WQa6TyU8xnb31FNPxXVMMCrVAwJFe/OZKjPPPHPMDOKz83w+J89h20gIIpE1I0mSJEkaeXRogIUgxBNPPJHdC7E2xlhjjRVv002IbjEJAYnPPvssuze0awmZCAkBGbqUUP9itNFGC6uuumrMbqmEUYvyWRq77LJLfD6vm2SSScI222xT36gmOJEK8OaNPvrosQ4IASFet8EGG8Q6JAmZJz///HO8nc9cGXPMMcMZZ5wR5p133vg/GL6Ybj0MbZzQuKdLD8uYD8zMNddc4eabb44BGv4no/XwOrqiJMcdd1xcng8++CAWJ2Z4bdYjAaSEz9VYFghBErrnTDvttPHzUduE5X/uueeyZ4TYfebSSy+NwQWew3fG8m+55ZbZM1qO75yixiwL/5PPnpeCS9TKodZOwv9jKGjWH5+BdXLSSSdljw4NohF0qWShhRaKWSr8T5aBLlF5//nPf8J8880X1zHBtvyoVgT5CMJg3HHHjQGw9dZbLzz//PPhoIMOCuuss07o3r17g/VFQKa8LowkSZIkqWvr0AALNTP+/PPP7F6IdTFSkVACHfnit+WNfIaOpq5Jssgii8TX5VG4tBLeK1+f5MQTT6z/v0zrrrtufSOahnGlxjGN8/z/o7GdCvPm0bgmoJPQoM9nTIDX5j8rjXgyNcqXkfopZKg0hs9J9gvv1bNnz5h9cc8998QgUXPdahJqrFCsNa98fRFgYdjuaqB4MusyYR1Wem8yVVLACgSWCHLlTTPNNA1e29gys77z/7P8+2AdJDyP51dCEOewww6LmTN046KoLcE01lelLkaSJEmSpJFHhwVYaLA3VSOlkptuuqm+qwWN23y3i9aMcsTrUgClWsiiKG/wF1W+jM0hmHLggQfGwAJdaPbZZ5+YAUMdk4MPPjh7Vuu1x/pqTL6bVa0jmEX3JhDYOf744+PoQ3RrIsAlSZIkSRp5dVjrlhoh1L9oDUZyoasIyOSgKG7C+xGQSAgI5LsQ5U099dQNMh2OPvroWDuj0kQGSb6LSGvRhYXhkhNGrclnpYD/8+6772b3hi4b3W7IJKGLTsLyN1Y7hawXug+lQAgNfGqUkNnD+7Q0g6WS8vVFYeIi79cWLMN4442X3QvhzTffHC7oQ2Ajvw3Q5ai9ECCkmG5CNy2G+2Y4aLKvGiuwK0mSJEkaOXRIgIWGMdkW+QYyI62UBzeY9ttvv+wZIRYRTUMSTzTRRLG7TUJ3o9NPPz12yaHxT3FWaolUQheaVEwX1O6gmG0qSsvrqQ/D/+ZvURSNTSjISmYJNVJYfj4vWRAM85tQ7JfCu9RDydehoW5Mqq/Ca/mcd999d+zi9Mcff8SirQn1SqgDQ7chhle+5JJLskdaj/XM0MgJwxiTKUNxW7AMvXr1CldccUW83x74vvJdd6gBw/9L2TUMZU3NmYT1R52b9sL/pU5OQuYKIyzxnTDS0F133ZU9IkmSJEmqNfl4RHvg/dsUYOGF5513Xgx6LLfccrFh3xQapvnCrwQ8GssSofhsvusNI/KQpUBdjPJuGKecckp91sduu+3WaBYBj++0007ZvaFdcbhPpgZ1VXh8mWWWiUGaahQnXW211RoEWSjYy/ISBODz8rkT7hNESV2Odt111wajITFqUHotn3OzzTaLIx+RKZMPGhEYIsBAlg/riWBVW7FOKCib775DgIPRi3iMz8z6ztdpqbbyz0CNE2r2TDHFFHFdUJOF9ZDwfVIUuL3QJS0/ahEjBZExw3eyxx57tPuPVZIkSZJU29oUYKHLCwEWGr39+/ePQYCmkK1BXZCE0XdoKFdCI5kRXRKCEwyDi6222iqO+FMJjW4a4I3hteWjx7QXggMXXHBBHL2mKTTOyX7IZ+bQxYdgRqXCr3kEZP7v//6vYg2T2WefvfCyMjoOgaARWSOlpZ9hu+22C/vuu29cJ+2lUoAvYRQhRkeSJEmSJI282tR6nnLKKWOmBQ3fBRZYoMnGJVklt9xyS3ZvKEalaaxALFkxiy++eHZvaLZJGrqYEV7oFnTaaafVj8LDZyBjhOfku9eU47UMl9y3b9+w+uqrxwyQhP+58sorx6K6+eBOEWQ3UNT3sssui0GTfJCgW7dusXsL3Vzyy5rw+QhckSWSH0WIz8xjO++8c7xPw54uQylzg//BcMZ0x8qPUtQWBCt23HHHWAeGYZXL1xfzGK64PeU/A0GUSuuC75OuYc0FpKqBz0A3JTKfwDZF9hHdzQiqSZIkSZJGXqOU7NsgSZIkSZK6sPYOffD+I67/hyRJkiRJUhdhgEWSJEmSJKkgAyySJEmSJEkFGWCRJEmSJEkqyACLJEmSJElSQQZYJEmSJEmSCjLAIkmSJEmSVJABFkmSJEmSpDYqlUrxrwEWSZIkSZKkggywSJIkSZIkFWSARZIkSZIkqSADLJIkSZIkSQUZYJEkSZIkSSrIAIskSZIkSVJBBlgkSZIkSZIKMsAiSZIkSZJUkAEWSZIkSZKkggywSJIkSZIkFWSARZIkSZIkqSADLJIkSZIkqcsqlUrZrfZlgEWSJEmSJKkgAyySJEmSJEkFGWCRJEmSJEkqyACLJEmSJElSQQZYJEmSJEmSCjLAIkmSJEmSVJABFkmSJEmSpIIMsEiSJEmSJBVkgEWSJEmSJKkgAyySJEmSJEkFGWDpYF988UX466+/snvD+/HHH8NPP/2U3et8+PwnnnhieOihh7I5ncPvv/8e3n///fDoo4+Gzz//vMnvqFx67TPPPBO+/fbbUCqVskc6r19++SW8+eab4Yknnghff/11GDJkSPZI81gfb7/9dlwnP/zwQzZXkiRJkro2AywdiEbrdtttF6aaaqqw6aabhksuuST07t07TieccEJYYYUVwvTTTx+effbZ7BWdC4GFc845JwZYXn/99Wxubfvtt9/CEUccEb+ThRZaKKyzzjphzjnnDJNPPnnYf//9mwx2/frrr/E5U0wxRejevXvYdtttw8wzzxwWW2yx8PLLL2fP6ly+++67uI1OPfXUYckllwz//ve/wyyzzBKmmWaacPbZZ8f11Rheu/vuu8f1sfTSS4dlllkmbs+bb755+PLLL7NnSZIkSVLXkb/AboBlBCA74p577gn77rtv2GqrreJ00kknhX79+oWjjz46rLTSStkzOxcyOM4666zsXu0j24bGf9++fcPjjz8eAwTvvfdeOPjgg+PjF110UVhllVXCJ598Eu/n8dpNNtkkBskuuOCC8PHHH4cBAwaEN954I0w22WRh1VVXDXfeeWf27M6B5VxjjTVi4OiVV16J64NA2TbbbBMDK4cffnhcXyx7OV7LdnvTTTeFG264IQwePDgMGjQo3H777XHd8r6V1qMkSZIkdRVdLsBCF5y55547TDDBBI1OU045ZWxANvf8SSedNKy++urhgQceaFUXibaYf/75w3333Rf23HPPMNpoo2Vzi6O7xs477xyefPLJbE77oGvMIYccEv78889sTnW1x3Jcdtll4cMPPwzXX399XP+sd7IvCLCcfvrp8TlvvfVWOOyww4brMsRr6U60ww47hM022yyMMsoocf60004bzjjjjDDOOOOE448/Pnav6Qz+/vvvcPLJJ8ffxsUXXxwzcVgfM8wwQ8xc+e9//xuf16dPn5illI/SEnDZddddY5egvfbaK6y55ppxfTCtvPLKMTDDY6wX/o8kSZIkdUVmsDSBRjVZGRtttFHs/lHpyn1b7L333rFbUK9eveLfjz76KAYO6FKRGurVQmBo4MCB7VrXhcb2FVdcETMexh577GxudVV7Ob7//vu47mn477PPPsN9tz179oxdhkC2EdlFyVdffRWuvfba+F3Rhab8OyM4scQSS8TgzF133ZXNrW2ffvppDCQSNDrmmGMaBJRYPgIsBF9wzTXXxO8iIWOF140++uhhxRVXzOYOs+iii8bt4pZbbgnvvPNONleSJEmSupYuHWCZbbbZYhcOAhn56fLLLw8zzjhj9qxhqJ1BZguN6euuuy7stNNOYYwxxoiP0RgnI6EaBUwnmmii2J1ivfXWi38nmWSS7JHO6aWXXgpXXXVVOOWUU2LWT2dARkzKLiGwcP/998fbCd/RfPPNF2+TlfP888/H23jxxRdjoGDccceN3YHKjTXWWPXr4d57743/q9YRcEpBJn4fLGMemT1zzTVXvE0R4BQoYdkefPDBeJvfSqUAG4GZiSeeOBa87az1hSRJkiSpOV06wELDbq211oqBjPxE1gENvnL/+te/4mso6snrTj311Nj4To3GO+64o8GVew3tHkKR2P/85z9hgQUWyObWPrrwUNgWZGhUCnKxHST5jI4UfCAIQzHcSugqBAIR1cp8ak/8HtJvgsDRhBNOGG8nrC8K3yapq08+UNUYuhqNOurQXc0jjzxiNyFJkiRJXVLVAyxHHXVUmGeeeWINE/5yvzNbcMEFw2qrrRZvU7Tzgw8+iLergWwYapd01qF9+cxkCJG5wMgznQnbJ3VU9ttvv3DrrbfGWiHl6D6UpIADy0xB2+aMP/748S+j55DxUevI6KIWDTWAKM5LXaI8Ct+y/YOAFFk6aEmAJY/uVZ0ho0eSJEmSWquqAZYePXrEQpZptBD+cp/5nRV1Jbh6DxrXqXF49913x2yXOeaYo0F9jpbgPSgcSgbFTDPNFCeyJSguWl5MtZalrkFksJD10Nl069YtfnZGCiqvo0KXmddeey3eJrjCkMXIBxpagu+a2jSdATVnjj322PraM3kERqgpA7reETzFeOONF4dibin2CT///HN2T5IkSZK6jqoFWMhUeeqpp7J7DTG/s2ay0J2BRjUIttAt5Jdffgnnn39+HLqWxjZBhtZgtJb+/fvHAAXdR8hyYOQVsil22WWX+v9Xy/jcNMbJXFl44YWzuV0HQwunkaYYJSjVH2mtfFCuOWxrF154Ydhjjz0KTxTuZYjlamG4ZbZTUPCWmiwgkyV1h2oMGTzffPNNdk+SJEmSuqaqBVhuvvnm7FZlzT3eHhiZh7oR+aGXmShe21Lvvvtu/dDAjA5DpgnZGgRCqM3C+2+99dbx8ZbadNNNw0UXXRSmm266eJ/3IZNi9tlnDzfeeGPsulLrUlCJAEt59kdnR5ctMq8IjjAqzqGHHtphy9jWTCC2TQomp2n55ZevWvFkusVdcMEF8fY222wTttpqq3gbBB233HLLWGOlsWwdAlUEIyVJkiSpK6tagCV1C2pMc4/XGrrqPPzww3G43nT1ffPNN6+/ck8RXK7ov/322xW7VFRC45k6F2eeeWb96EQJxVJTkdjzzjuvRXU+RhSyb6i9cvjhh8eAVVfC90621csvvxyWXnrpuJwdtYwpWHHOOee0etprr72GK+Y8zTTTZO/cdmQq8d5ffPFF2HjjjcNJJ5003La77LLLxqALASmGtOZvQrCKEbkkSZIkqaurWoCluToMranTUC2NDdPMiDeV5DNeGGZ3/fXXD59++ml8jAbr9ttvH28XQT2PVCA0jwyJSsPgNoWMgZ133jkWJG1sWmSRRcLTTz8ds3YqPZ6m+eefP/Tp0yd758bRPYpsG7J2eO9qGBHLUQmBAYJbV155ZcwCIRhGnZ2RFcGmww47LDz66KMxU4lATqpHlEfA5bjjjou1bKgjtP/++8eAKjVs+F4pFJ2CPQQSK23/kiRJktTZjVLXqKzK8DVc9adbRWOoCdERdVi40k7jmMAIV9bpmtRUt4v88yuZbLLJwkEHHRS23Xbb4a7ct9aQIUNi8VQCOJXei8yWI488Mt4++uijw9577x1vN4avjjob+dFuyv3xxx/hlFNOiUNTN1UrhSGqWV9p9JvG0H3p6quvjg3p8swORpPZcMMNY12aAw44IOywww6x6wjD/za17kbEclTCMNx8z2RjnHjiifXDc+dRJ4Xn8Fy6ePXt27d+uOe89F3yHgz1TZChM+E7oRAzy8C2uPvuu8fhlpvC9k3xZ17H74rvne1gscUWi8EXfmPrrrtuuOKKK2K2jiRJkiR1hCqFPSpq8N51d6pmjTXWKNU1bIebmN9R6hr3pbnmmiv+3x49epR+/vnn7JHK8s9faaWVSnWN/DiP6Ztvvin9888/2TOL+fXXX0ubb755/D/LLrts6auvvsoeGeaMM86oX2fcrgaWn/Vw7733ZnOK2XHHHes/Y0umKaaYotSvX7/s1W1X7eUo9+KLL5amn3760gknnFD6888/s7lDvfDCC6UBAwZk90ql/fbbLy4b2w3bSSVHH310fM6ss85a+vDDD7O5nUfv3r3jd3fNNdc0+A389ddfpccff7z02WefZXOa9+qrr5amnnrquD6qtV1LkiRJUkvQnmnPaciQIfVTVYdpvu+++2KmSuoOxF/uM78zIPuBLiFkJDBRJLRaxU1/+OGHWNcDDHdL4dByZAAkzY3MMqKQRUL3pUoTI82krA8yF5hHN5E0pG+tevXVV2PWyp577hk/dz7bhhGdjjnmmFhrJyEjA9TmIVOjks8++yz+pfgsWVAtwf9aZ511YmZQNaa21j4h44aRiBgpixGU8r8Baqoccsghwy03tVooCF1pmPHBgwfHrmV0j1t99dWzuZIkSZLUtVQ1wAK6Ab3xxhuxwcXfzjo8c7XRaB9vvPHibUZ4KR/2t1QqxcAL6FqRCt7WGhrJKQBVPlG3JqFbFvMoCly0a1V7olYItXWoFUIwsLwbzFdffRULDlM7JOG74TsimFBpdBxqyqTCyIxClL735lDfhLov5YGrtkx0t6IobWsxdDiBpnPPPTcWeC4PMPK+/LbzIxSxfhZffPFYJ4caOXSjynviiSfi9r3qqqvGkbIkSZIkqSuqeoBlZEGtCbJd5phjjtCvX79sbuNokBJYoXAuQzGTYZBHxgONW2yyySY2RDsAgYJdd901Zli8+eabMbBA5gYTgQICBtTnIYhC8eOEobrXXnvtGEh49tlns7nDMLoUNWUIRlFzpDVSYKroRECouZop5Qg2UTeH+igUCk7rgonhmSkgTNBmookmilPC0MxpeGbW5Z9//hlvg0yta665JgbfKH5r7RVJkiRJXZUBljaguwPdJ2h4Dxo0KFx11VXZI40jE4CGKkMcn3rqqQ0yH7jN8Lc0Rsl4OPTQQ6vWNam98dkfeuih0Lt373DLLbfE7A0w8gz3GbY3Nb5rCd8hhVv5nGSbXHvttXH0oDSRSUKXFwIGBBPGzxXNJUhAtguBDAo7p8AYyGo5/fTT40hQ++6773CZSrWKLj90kyJDZeDAgQ3WBdNtt90WPvroo1ikuXwkILKU6AZFEIVtPI00xPtQEJgsoLPOOqvTrAtJkiRJagsDLG1AlsEuu+wS642Q2cCQxS0xwwwzhMsvvzxe0e/WrVvYdNNN48Rtho8mu4VgTXl2Sy2jtgyZHzTOGcaXriB45JFH4tC+THQhqTU//fRTeOGFF7J7TeN7Kx+JitoqBJAIvKy22moxsHDhhRfGEYwISOy1114xO6azBMoIsJDF0xJsr/kAC0Mwn3DCCfXbAtk/ZGGR8UJAhmyv1mbySJIkSVJnU7VhmtVyZH1QSPTxxx+P3UxorK+11lqx60m1G+Rkamy00UYxW6NHjx7Z3M6nVpej/LucbbbZ4ucku2VkwzDMFDom84eC0XxPyy23XE3X4JEkSZLUtbV3yCP//gZYujgDLJIkSZKkkZUBFlXVe++9Fwvy5uuIdEZdZTkkSZIkSR3DAIskSZIkSVJBHRlgscitJEmSJElSQQZYJEmSJEmSCjLAIkmSJEmS1Erl3Y8MsEiSJEmSJBVkgEWSJEmSJKkgAyySJEmSJEkFGWCRJEmSJEkqyACLJEmSJElSQQZYJEmSJEmSCjLAIkmSJEmSVJABFkmSJEmSpIIMsEiSJEmSJBVkgEWSJEmSJKkgAyySJEmSJEkFGWCRJEmSJEldTqlUym5VX6X3NsAiSZIkSZJUkAEWSZIkSZKkggywSJIkSZIkFWSARZIkSZIkqSADLJIkSZIkSQUZYJEkSZIkSSrIAIskSZIkSVJBBlgkSZIkSZIKMsAiSZIkSZJUkAEWSZIkSZKkggywSJIkSZIkFWSARZIkSZIkqYVKpVJ2qyEDLJIkSZIkSQUZYJEkSZIkSSrIAIskSZIkSVJBox1VJ7stdYgffvghfP/99+Hnn38Oo4wyShhzzDGzR1ruvffeC2OMMUb417/+lc0Z3q+//hr/x9hjj53NaWjIkCHhyy+/DOONN178HBq5PfTQQ+H+++8PCy20UBhttNGyua3H9v3222/H7Ytte/TRR88e6Zxa8lur1rqrJb///nv4+OOP43c57rjjhrHGGqvT7SfoG/zdd9+FF198Mfzyyy9xe2Q52uLHH38MZ5xxRlwvs8wySza38/rmm2/C4MGDw4QTTpjNaRrrj9/CgAEDwjjjjBPX46ijtuwaVXrtwIED67clqdaxvZ5zzjlh1llnDRNMMEE2t/XYZ7z//vvx2MjxoTNt/z/99FP4448/Gj3+/fXXX+Hrr7+O55GdEceIm2++OfTp0ycsuOCCneZ8hfOrr776Kh7buM3309K2RHrtK6+8EvfhtBG6ynkLWnLOltfWc510fsF6/PPPP+NxsbOf71bTKHUrqHJ1FqnK+NHvtNNOcYc46aSTxgAI0+yzzx5OP/30sPzyyzf7o+Zgd9JJJ4XzzjsvXH/99aFHjx7ZI8O77777wsYbbxxmm222sNpqq4VFFlkk/vhpKDz22GPhwQcfjA3CG264Ie4YNHLbf//9w0UXXRS3hUkmmSTO48RypplmirfzJp544rDPPvs0aJz1798/7LrrruHVV1+N89lWOWgfccQRYZdddokHvM6kNb+1ouuulrBPOvLII+PyTDTRRHGZvvjii7g8F198cVh44YWzZ9a2l19+Oey4447hnXfeyeYM1Zr9bcJpwvHHHx9OOeWUcPTRR4e99947e6Tz4eT6jjvuCAceeGBYaaWV4vfcFE4g991333DLLbdkc4bipPyQQw6J67ixID4BfLb1u+++Ox7zOP4wb6mllorb0gwzzJA9U6o9jzzySFhvvfXifmKqqaaKjVH23zTEKzVId9hhhzD//PNn94b+djj+XXXVVfH4x8T+de21147B2imnnDJ7Zu0688wz4/GAc8XVV189zD333HE+QZW+ffvG88hNN900/O9//4vzO5unn346rLPOOmHxxRePgRYa2LWMY9EDDzwQz6kIkOcttthi8XxlzjnnzOY0xGtvu+22sMcee8SgAtvft99+G+cfe+yxYfvtt+/UgZbWnLOhyLnOk08+Gfbaa694fsG+gXYV77f11luHY445Ju4nak17hTsafd+6B6RW6devX2mKKaYo1Z1YZnOa9+KLL5bqGluluhPVUt0PMc77+++/S3UH3lJdQ6s0/vjjl+oOZKV//vknPpbU7fxKvXv3Lh122GGlFVdcsf65TPfee2/2rMp4PD230lR3QCm9//772bM1Mvvtt99KPXv2rLidVJrqGkilb775Jnt1KW6jbJt1jdbSxx9/HOfVHWxKdY3S+Pzdd9+99Oeff8b5taqtv7Wi666W/PDDD6W6k/+47Ndcc039/ujTTz8t1Z1clyaZZJJSXeM8zqtlfMZpppmmdNppp8VlYtt75plnSssss0z993DOOecMt79tzFNPPVWadNJJ4+vqGkbZ3M7hr7/+Kj3++OPx+LLJJpuU6k6q69dBc8ewgQMHxuPExhtvHI8VHLP4ffN7Tu+x/vrrx3VcjtfWNURL0003XamuIZbNLZVee+210nzzzRePhy+//HI2t2saNGhQaa655irVneiXfv7552yuOovLLrusfjtvbmKfye8sSds/54r33HNP3Ncw9enTJ/4meIzn1Dr2d5WWN03rrrtuPHZ2RhyHV1hhhbgcneE3yvbDcYtj23XXXRfPPZg43rGfYTkaO0bzWo4BPGeHHXYo/fLLL3F+Ok+bYIIJSnvttVfNn6flFWkfFTnX4X/yuz799NPj+gOvf/TRR+P3UKu/bT5je0xDhgypOHWpAEtzO8LyKb9D4UQrzefkJzWSKkknDeXv0Vqt+bz8P/5vLWhtgIUd4Kabbhp/yAceeGD9DxKsO9Yhy8h78t55r7/+emnJJZeM38lOO+1UOvroo+vXSVsDLOw4Dj300PpAT0dq7Dtn3ay66qqlJ598Mv5g1bG+++67GByp9N2UT3xXHGASgoecMNIAfe6557K5Q7Gtr7feevE1nGRWC78pfg9PPPFENqe4tv7Wiqy7Ilh2PifrolrS75NAcPnv8I033ojfMw3ur776KptbXLWX45NPPoknOJUC1nxuPj/LyPZK4KQ5+ZNwJtZRZ8KJ9DbbbBOPoZxQnnXWWaVu3brFZWnqGEZgZtddd42vKQ+gsF4POOCA+nVy7LHHNljX6bU8dtFFF2Vzh3nooYfiCf1GG23U4HjYkTj+cYGje/fu8ZiYlmX22Wcv7bnnnqV33nkne2bbGWDp3PLHgOam/EWE1Hhj/gknnBDn5fGb4DEatPxWquXaa6+Nn7maGjtno5F/4YUXtsvvtz2Woxz7K/ZbaXna4zda7eWgfUBgutI5xJtvvhkfY1lmm2224S6epnbLIossUvryyy+zuUPlz9PywfBaV6R91NZznXQOwcWb8tfhhRdeiOuZ42Olx0ckPk97TJWCK0wWua3go48+CnUbT+xb2Z7o01q3ETeYUjeCySabrMH86aefvs2pa6Rp1v2YQt1JZuwL3tGot0IfvboNMZx//vkxtSwhHZFlQ10Do8FjmGeeecIzzzwTu13UHcxiCmBrTD311DEdvFevXnGqawDHFLjjjjsu1O1csmd1PFLx8t8vfR6fffbZmNJ39tlnt1sqmyrjd1F3chG3FVIdK030Ia9rLIT99tsvptSCbZZtqe6EMm6rdL/Io+vAMsssE7f9Sy65JD6/Gup23rF/PCmh1dLW31pb111RLDvrgHVRDfTJrjshjOnw//73v4frPjPzzDOHJZZYIrz11lvhrrvuyuYWV+3lIOWb9X3iiSeGe+65J5s71OSTTx67u4A+05deemn4+++/4/1K2A9dccUV8RjSWDeYWse+lmWoOwEPd955Z+w22pIaEJ9++mlMRX/00UdjynP+fIBt47///W99F4drrrkmfocJadP8HkiTXmGFFbK5w9DdYI455ojvz36/I/Gd3nrrrTGNfrfddotddusaFvE4RKr3oEGDwuWXXx7PgTTyYjuhLsPuu+8ef/+V9usc9/gd0JWAco7p/JVu1/xu6BK34oorxnl5iy66aNyf0O2uvAtjEXS/++yzz7J71cOxkG5+verOIa+77rrYHZjfe12jtl32i+21HHkvvfRSuOmmm+rPv9tDtZeD/Te1s+oa76Ffv37Z3KE4v9h2223jbc7xb7zxxngbbMvsozn/6t69e5hiiimyR4biO1x77bXjeRrda+g+1Bm09ZytyLnOCy+8EPcLrMfy14EudLyW7oV0vxqZdakAy5prrlnfkGaiQUP9DXACQbGu/OMHH3xwo0WAeJzCje2J/n6c9OWnDTfcMP7Y6SeYn8+JGCfHbcGP4eSTT44/qhGBE1xO3MAPsqkiSDy3mghKseOlHzETt2uhFgb9//PfLwchdnh89zTY2Ymp43AiQB/UfP/xPBpX9NGlQUX/3XRg4SSLWhcgWFhp20pBF56Xb4R1FW1dd7WGhiYn+3yPBLjL0Sinjgbuvffemj0JSye0nEyeeuqpMcCdxz4wFWRkmZs6CeIknPoJ1F5Jyz6yYL3RiAQBB9ZVHifprEt8/vnnDRqKHK9pfHLeUakvOtsS2xgn/mxLHYX/RwCfhgiBNYJwNEY++OCDeBxiGWjA0IisVD9JIw8C5+zbV1lllUYv7tHg5VyVmk6TZLW32C9SlwQcDysFIDgW8LvgN9LRAca2oJ1ADT/OIddaa63QrVu3Tl2rg/0atXH+85//hGWXXTabW/vSsY0gMBeNyy8OUNsqIfDw66+/xts8n5qMmHHGGePfclyMRQogdGVFznUohMt6JfhSCXWaKDbMa6p10aiz6lIBFq4IpYZ02hGmK0xkK6yxxhoNHl9uueWGa+xz8s9BgUjm0UcfHQtZqRgydS677LJ49ZorZ/krGlz5JmMI/CjnnXfeeHtkw8GaCDpFo7iy/Pjjj2ePqCNwokfBycauRnGQ4QBNoCA/mgKN0+aySFLQhauAXPnqatq67mpNakATLGosmD3ttNPGv5ycpMZ3rclfkaTRU34RgWVjGcEJKse6SvIn4QsssEA2d+RBAzAFRzgRJViSx8WAdFKOdLLP3xR0JSuE15bjO0knsOmEtSPQICbTgOAJxxiKcpdf1GB/xbkTF6A08iJAy3ZafrU/+eSTT+I+naA5wYeEhlVz582c76QRuLjSXd5QVvshyMrFZ37n2223XTa3c8gHfWnblQe5OLal8xC2KZYVBEwIsqCxEfA4JtIe5DytK14IyytyrpPmU7ydc7u0jhOCsq+//nrMUktB15FV1QMsHLxJW+JEmr+dbRRoInc77rhjDLQQoaO6cvkGpNYj4s/JOldD8lewuWrGVVJstNFGMXW6vXDg52pdPhpbaxZccMH49913341/1TFId6QbQaUMKq7uHn744TFlvryhyVXu1pwcdsUDd1vXXS1hH9+Sq1apWyEnEWQt1KJ11103ZlwceuihsQtQeeCLxk/KaiGTJQUA8zrzSXi1cKWTkRj23HPPGJhIo4ckBEXSSTvHtNTtiONLc9minMin3wuj63VEsI7v/YQTToiNZrYPLkhJjaHhxQUxzuPLkZV42GGHhaWXXjrsvPPO2dyhWhJgyeO3UsvnZOXI7OEzt3cJgfaSshLp9lgp+FvL2BeTTcnE5y/PhmW7S92w2b+mAAzzmztP4ziZjoUECLqqouc6XATnYgPreZNNNglbbLFFfA74TZDNxm+E4H1TvRVagi549Ezh/TqjqgZYqB9B2haRbfCX+8zvTNZff/2Y4YKzzjorppq1BBsu/feICpIdk9ZDNZFyRfoxww7zfwhk8Zf7zM+nZFH3hCjv8ssvH38M1DfhihuvyW+0vIbaJAQ46MrD40wrr7xyeOqpp9otwESkmJ0kGRscqPN9eKuJQBnLwpUYumvwd4MNNogntrUmHbRTlDiPTAm2xxTAZOL7og90eUCG1G8e50S6HFdMaTwsvvjiMR08j4YXNQOIPrekSxmficAZVwXSZ+LzkWKeENSiccLE7XKNPZ62X3ayNGYYTo6r8/wPPh9DbbNtsv1eeeWVscHAY1wZJhOI7asofjcHHXRQDPzxmynH52ssc6OSkSlw1ty6qyX5xnJL0CCoxvbVHtiH0tWUboiVuvWwPyRzEBwbKl1lSifh/LY720l4NbHtcpW+UuCf/WNKk6YrcmqIsm5bc+znOEwWWHtjf8nn3XLLLRtkHLRGa45BTWHoW17L30oaezzNJyOO4zfbeToPYnjQ1IWA3ybHALZ/HuPYwDGiPGU9HXvYPxHkorsL64bX8L68f2vPE/gfvA91CHgfJtYRtY/SORd/+Z8cPzjOlWvs8fznJXuSoVTTcY+6CdQ04f9zXKSLe35ZaAxVK8Dfq9fQenas4/JzNoK2ranrwW8l7Y9qFVl+1JThvINzaIaxJQBFIzI1LjuDlJVI0LyxLr21jKAJAT2mShd08m012kQp6E1Nstao1Ysn1VD0XIdusamOG6jRQg0m9gnU9KKuDxd22nqMaS/t1Y5tStUCLDSOaYxXwvzOlMlCVxUaBhycafwTBGjJFSZ2tARY2BnTFaDafav5DPSdJhDy/PPPx76TFK7lL/eZTzec1EjnxJmTDtJ9ifSyPJtvvnl8DeP5p+gu/WVXXXXVeEDmAJLek76IFEBKfRergQM8BapWWmmleJDif3ACe/vtt8eTiWqjUCEZSRRqI5jAOmQ5+b9ceSc9tVYQYee74Lsi4JRHEStO2Dg4sgwEiDhRJhBD7ZYll1wyXmVN6IZF9LhS+i3bJjtMThzzdQNAd60BAwbEYlmNpQ4mnBjRQOOEm5MOthv+LyeBnMxXCyeSnBz27t07FkjlxIDPzZX6Pn36xIbk3nvvHRtBrBeWm8BSNYo6s05ZFk6kKgX/+E1VqrGQ98Ybb2S3Ri7NrbvOjIN1Z7rqmvB7oKEJtl3qgJVfBWT/wj6Zk3BOnKqB/0vQl+4ERSe6rlSzcGJbccxKjSsCDI11pWgO21G66tqeaCCCY2/5d94SrT0GtSfqdnDOQmOBosXUEeD74DNxfOO8hc9CgIRzGRoUbDsU2a+EczZq0/B7IFi26aabxvMnjsccc1I35uZw7sWxiGMPV815Hz4TQUrOo5rrTtpSbDOk6J900knxmMsyDh48OP5m+X1fcMEF8XyQc6q0LJyP8lmK/nbISqSmH+eWBHXK0aitdIEojwZs+cWdWkbDnTYMdRw5dyIgSrd3tnu2Qy5a1TqOWZwXcSxmO2nLPqCWca5PYBMEAbhQ3lbs31qK757fYvlxqi0T7cday4wqP9dhu+Gcjgy2hP0awRUKuzPRvlQVAyw333xzdquy5h6vNfxA0wbEqAxczWsOBzM2PPqWkg5fzau2bOTHH398fSPzww8/jFXN2eHzl5MfGpjs9Hv16hVfQ10EUukIaHDQY5lI1ec1pNql6C5/CSJxEpLek4MxkcnUWK1WY4K0MzIkiECTWpben5OP8qtL1UB2AWneZCSlRh4niXRb4CC5//7718TJOifYfDd8d+ycGHkm4USNOgiclHBiw8keJ1HsjOlLScV+1iPfabqiSqYOASxqAeQzUQi23H///XEb5XZ5gTmez2dprEJ4Ht1CuDLAZ3riiSfidsNJLQc6GhzVwkkuJ3IsK8vM/2J75aSYbYgdOoEW1gPrheeRUUODgsBjW7HeycAjEl8pTRr8xgj0gBPc8t8J9ztDEb9qa8m6U8dj/04mI79/AqOpSGteOtZV8ySc/1deC6al5ptvvhgUSBONyUpXLzsSjUwasaAxvdVWW8XbtYoAF5+5tdkFSVuOQe2JQAnbL+cpdOMmy4NAA/+b8yMCLszjMZ5z9dVXx22Qv5Ua9jSgOY6QucWy8DoC4+zbOZ6lc6rmsC4YrYTj52uvvRbfh/XExQyu7FZr5EI+Jw39SsvIxUGOj/yOy9cPFybIdG4rzkN5P86dGstMZzsg8MZn4fiXv/qd8Hk6IqhYLWT80l2KC19cmGS/SLBqhx12iL8FzrGLXsxpb7QRUlYiWU1dCdslvzP2cXRfYf/Q3AXCauG4Vl4LpiV4Hcey/LGNi4edIfBFW2qzzTaLPTXyCHjT7qXNxXcysqtagKW5lNj26C7T3rhqzoESBCqaK1CZInt0s6ARWM3hzzgwcuCn4UzDpfyqOQ09Rowg+4aoemsisCwjqZ7lXR0IEtE4ok5K6rNfFJ+bq0v/93//F68Y0fjkQMxJaj77phqo90I2RqVUNTJ1WF7Wa0tPnqqJk9TULYbhMskAoX88J+ocKPLfBYEuThw5mBOYyu/M2ebYofH9ceJIAA5cnSaQxclh/uoKwRZSe1nf/F+yy1JQgIALGS8ECuk+1BwCU/x/3id/UOCzp1oy1cC64apgCpDxv9h++H1xkrbLLrs0+I6ZT6YWO/gi2SMEi1jvXJltrJsEn4XIPQEd1nP50IEErAjQjmxasu7UsWiUsY9lf0vDuNJw2RzjqL1CALqaJ+HsE7jKRxC2tRMN+3xxeo4fzWWNtSeOrexvydQje4Isgs6SoUVXkbY0PNpyDGpPFIRnO0jYVvlc4HhGgCG//dJFmAsrHA8rpf/z/bGt5TMy2GY5thAwIHBC46E5qSYX52n5/R7riNoF1doX8nmpsZRfRs53CAD88ccfMXOnfP3w3SEVYG4LzqcIFHHMb2qUKRqOnMtwDGao+Hxji4zUfBfiWsfFIs7nOcfO4zslgxecN1Uz07vaCP4QWOGCVLWyEmsJ5xtcoCS4wvl8R3ZP4XdA26v8uNXcxGs4j80f2yoNvFKLCNKyjun6SPCY7JuENhzd+mnfjexBlqoFWJoLJlQz2NBROBhyoOZHS8SeDJIRFXVP3To4KW4sFZlgCA1jDoKtHWaM7BGuKnByzY+DHw8H0fIGY7WxXaRsB7JvOPGv1o+SkxBOxDkQliOIkE7S88O5dRT+Hyd76YSPnSoZIeeee26Dq7Mp6MHjPXv2rLgs4GoSJ4T5ZSFwxrrk5CDhOyatnR07JwdsV6nuCcEXTr4IrLHjbA7bGu9PY4yiYO21M6W7UnnKMb9JriqxzASSyqWhkdsasKMRRaASzQWL2IbJwkpd8m688ca4Tjno032JBmLSXOo0aCDQWEgBuEoTv08CN/xWKz2eJq6IkN3TkVqz7hrDsvHZKy1Tmlh2nse6qPR4muhW2dG/76RWloMLHDSweD37Ga4+le9L0kk42zCfRcNjf0JmK9lxZPhwojyis2lag8+fAuotVeQY1F4YEbK8ITLNNNPE/88+h+zNPM7lGNGJ85xKmbIEVioV/aVRzfkW+/OWnPvR2OLiBo08jgPVvGCUx7leOsYlLGM6z6b+RPn6YflZP0U+E8EzgmisX47BjeHc67jjjotBH+rEkCnMPoisHo5tfEd8XyDgl7Kpm8IFxkr7xfzEhSvq0FR6LD9xztLSjGk+W2PLmtYpUhe85oyI5eD8hO+dc5HGfr+tNaK+j3JcOOAiF+fzZBmli+JqH6xvziW4uHDhhRfG/SO/dbLFOddJ6BLcXFJCXqqvlZ/IhMnXDk0T50ydQdUCLPT3bEpzj9cqNhiuzICuFTSaRoTUjYWgR2PSAZYTqNYUDSN1kKg2DW6KF5Eqy0GFYA4nC+2NPs9pp0+ApzUFmJpCg6Gx4oFcgeNKLojAtiTjh5MsDgb5H3qaGivW1xiGAOd/EjRjfbOTov93+fbF1ShOaPge2Mk0hoAIz2F5qRsETmLYHsgSYl0QAOnbt288OWM5SEkkqEKGEsjAIOCTLw7WFPp2kynC9sOVM/4fO8RqByFpwJSfLOal7zGv6BVlgpQsFydPnEQ1h+55PJ8MNrLdWLekbNOYJYsjaer3m5A6yvuQ0dTYxPZD1gyZSJUeTxMnOFy57UitXXeV0C2Ez15pmdLEsrMOWBeVHk8TmRPpJLgxrPPW7Ot4v6Z+j0lHL0cl7GdSZiVXWembXukkmxNm9h9kBxCEZX+XJrqIpBNg9iXMY9/RXg3IWsT+kwsApNlz4YXREip9H+w7W5MlwnbXkoA2312lYw8XCwicNyVt3xxLWnt8LXIMai9NdbVJXTjyuN/UMYQuRZWOeek8gfOplmzr7N/5rRKUojHL/u+QQw6Jv5dq4lyvqWNcpccqHSdbg/0I9etA18LmGupsm5QG4DjIhRu6PhNc4ZyBfVn6PASx6LrWHLo4cWwt3y/mJ7J2uCBT6bH8RLA6n4XVFLZn9nmV5Ncp3VMae15eRy8HmWecVxOEIPCZ368zpfM1fudpv1+Ly1FJunBAsO7hhx9uNPO6JRe28lpyntZZFTnXYbsgGMY82sX5/QzrjP0D+zuwXbWmvUyGH+dC+Yl9A5811Q5NU76EQk2rO2momjXWWKNUd+AbbmL+iFB3UCz16NEjfoa6A0Kp7sQie2R4O+64Y3xeXUO31K9fv2zuUHU72FLdwSE+XnfCXKprsMb34z7vz/+pFj5Hpc9wxhlnxP9X1xjP5lSWXv/SSy9lc0rxvZhX6bPWNahLiyyySHy8rjFYqvsBZY8MW3/l6y69H/+rJXjPCy64oHTSSSeVBg8enM0dJr1fWv/5z17u3nvvjc9j4nZj+vbtW5pkkkni81iucixP+g6b2zaSugZK6Ygjjijtvvvuw00PPvhg9qympe+Rv3kvvvhiqe5krDTbbLOV3n///WzusO9gjjnmiN9VY9LyrLbaaqWffvopzqs7ISxtscUWpbqdVKmu0RvXfd3BrrTffvvFxz/88MPSrLPOWn+/roEX13/5ttecd955J24LE044Yf367N+/f/bosM/W2Hpu7PGmtrO0Xhr7vGk7KV/PLZW+p7oDS+nVV1/N5rbNueeeG9+rLeu2MWn5m/oNFNXS31q5aq67pvCZKu3T2orfAZ+7se0U/EZ4Dr8bfj/VUO3lyKtr6Mb9E8ct9gF53377bdxP1p10x/v8ztL33ZKpmttzR0r7G5ahpccw9O7dOy7zNddcU/rnn3+yuUP3s48//njps88+i/frTixLPXv2jO/f2Pea9s08Z/nlly9999132SONY59aftxh2n///Usff/xx9qzG1TVk4v/jb2ukfU1bjkFpXvl6aOw4mDT2eJpfaX+UjheNrXO+6/JttrHPl6THmbjdUj/++GPpzDPPLHXr1i1+Xo6NF110Uf12k9ZpY7+hxh5v7vOm33BT66c123xeej3vzzGtCI4LHB8qfcdF8F5tXb5KOHfkM3Iuyb6yXH6dNPadtEU1l4Ntgc/Xmqla30m1v4882mVrr712bJt98cUX2dyh2BezT2Y/C767CSaYIC5bpd8Gnn766dLEE08cn3PjjTdmczuX/Hfd2HKirec66XfLsSut23Ls44499tj42u22267BsbK12Haq9bvic7TXNGTIkIpTsZB2Ga6wEJlOaYr85X4t901sCSLxpE5T34SCVvS5rlup2aMdI6UoNnWliugiEV2uxHCFoyXIXqAOCf1liQzm053JhKFwZxF123W8MksRMLpY1Z0QNpuiXPRKC1hPdTuAeLvSSDp1G3/9d9jSFFW+A5alvC8lE5XkiyCDKPXr53+kz05Un++Eq8VNDbHI67jKWLdTq79Sx1+uRpMlQ6oe3zNdx1LxZa440h2I1D5eT9YB2S2VRgZoChlIFL6jqxPfM1kwXKmir3VnxLaS+qm3pGYB2zgZZkzcLpe665HlUykNvStp7bqrJVxpA78jfg+VpExCfiNc9a5l7EMY+YLuR6T2l2971JXgCiT7QnCbfUSliRFaUrYGv3Hmke7P/qIl2H+RDZqyLopMdMVjmToSfc7pZ07xxPLuVezn8lkKHEtSqjTnC5VGjklZIWiuu0XCe1Y69vC9ldeHqIQ6JJzDkGXYmuF6ixyDRlasA47nDF1NtwXu87sh3b2z4jefsh3IuGsOGS8sfzqXyeO8kvNVtvtaHnGE7m5gGdLtvHw7gCvtZAfUGrrM5Pfl+Ynz5HTc4y/3mV/XsI3zahXbFhk5rH/2Z2Tx5TGaELUMU1ZMt27d6ksrkGFbSaqfxHGOfXJLkbVR6TjVlokaLJWKQldbW891yIAiO7GprHKOjbQxWI88p7lMt66sqgEWcEJHYUl+APztTMMzN2WppZaKXThAKtqgKnVjaSm6GXAwIuWKE51KOJjRP47GektOuEDtDKT+sHl0GSHtsQgOyKQoJuzE0gl9wrpMB25+yGlHWEQ6YSWFjX7j5TsDUiHTjoy0QhqDIxI7IdIk+e5oDKXUOk7W6bLDjp8TtUoNeBBEYh2Wd+8hgELfVB6nkUDQMzWKeB6pdhxwKHZLEIa0T3b0bcFOl5NKfiuMLpROxtPIFY3tzNkG0868FpASnC8M3By+l7nmmitO3M5je08jGZHmmBqpXVVr110tSb8VTqbT/iiPwHBqFPM7aUla+4jCfoLuLPzuCY5UCprSYMh3jWCfSdC10pRPKSZ4zzz20y3tisdzqQVVfoLflokunexjOgrHVEbHoT5WpRok7Os43yHwk3CizPPYlipdUMhfvOjRo0eHnIRybGF0F4I+NE74zC1R9BhUSWqg832Wvx/v8fjjj2f3OjcaeFx8YfuhMUhQExwrSbtnWSsV3SUoTwCzlrzwwgvZrebx+TmvopYT9RLYdvLYF/C9s27Ka8nUknQuxP6P32k5LialYwWBjFoMLPJbLN+fp4nARAoK8Zf7zG/pBdoRgX0qdbB+/vnnWCw51VJM2NYYyIEafWm/yjJxfEdjQ6WnNh3nx60JsNAdnGNA+XGqLRNlKMqXpz209VyH/RZBegIt5b/pSpoqhD0yqHqApavih8oIDDSiUOkkI53U0ljnBItskmrhIERleH6EZAWVRzlpzHIQ58oYfX/zDTl2LhwgCJaUZ6TQ7w00vvMnXDyXK3b8AIvgB5lOhjkZZxnKd975rJy11lqrRbUNmkNAiv7PjH5QabSMxx57LO5YWC8UK6wFnKAfeeSRcVujQFQKOtCPle//0ksvjUWl8gEqtrl77703ZlXxnPzIASDQxok1tVcYopXIdT6rIBUEI+JPnYXyYdcaww6Y9ywvZkh0m3nsvNOBgp0zV19Z33z+/A6d7YwCeJV+TyMK2zwH75bK/87LA0j8rvr16xeLMpZ/N11Ra9ddLaHRR8YXJw6VhtYmKEswkEBEGpq7VhGg5eIGv3VGK2Bfnib2h9Rgoso/2Wcd1ShoKoDTmon9ZEcEJJD6+LOOKBadX49kfLJfo9gfx/x8kJ7GJcFrtplU4yqPE3L2feyzqX3WEVgGzh04h6EgJ/t6giLlFzzYt7P9cAxKihyDKiGbiuMDxx0aQwnvS5YQF7E6I4IQKWMxYf2kc6uU3c32m+oI8DvMn89xm2wXgtW1pKUBObAMaZk458zX5GG7Zyhrzr049tdiUCIhu4bvjO2ROmt5HCcefPDBeJvfFMcOta/UxurVq1cMHBFoye+TCXbQpuG8P19HheeSpc/vLtUkzOO7TNlljB7bmouMBFE5zlY6VrV26qjAVlvPdbhQQ61FtvvGelOk4wFtP0ZGGpkZYGkFfkQ0gBvrwsJGyY+fKxVkA7CRVQsHIbqOUJWdkx9S3ghGsFNhFBV2KjTkjj322OEi7VylJODAlRIa1GTicAWLnQwFMIlQknJN5JaTRt6XRjnvWY3RJBgajh80VyvK00G5OsgJFfgcDD2YP3mmMU4KHlkdVCNnpKGEeWniikg+osoBj+Wkq0rK0kk4oTvjjDPi93jWWWfVB81qAcMbUjyWQBrDzrFMFOiiSBknpIxKQ1SY74krQxxEOCCwM+M55cW8CLRxAk90nvdkp5pfv7wX78EBiah9S1P+ORHm85H5xDbFdsjnpsHGts96z2dREcTihIorDvwPPjufm+2LAFylDKoRJaW6t1TqekGDhQKiSAcZ1gvbfmMFMWtJW39rea1dd7UkNUA50WH/wL4pIXDEd8g+lELgtbTPKEdjgBRvjkM0oEmVzk80rrnyyjI1VYS4fHtImRi8nvsMv1oe6K9VZA6k7ZcAQcoa4Jh50003xfnly8O2zEl5ysYrX48EB8gGIUuNc4N81gYnypz8c7WPY1o+CEtDlVEX+A1RMLAaGZstRWOR8wdSuD/88MN48sx+mWMAQTdOoPk8HLNZtqTIMagSAjG8hm2MjBc+D4WYOe+gMDjHks6IRhqFrdMxLq0fzjM4v2FZE47F7EfIJOM5rE8mbnNRgoZMrUjdz1uKbYjzTrYtjoFsG+B3RKYuWdi1du5VCefWnD8xXHc+y5bjO4MTECiiEco5bP7CVa1L+0MKm5MRCP5yn/m1moXKOQkXDji2ccGwfJ/McrFv5/sp/z5oF9Hg5zfKfornJOz72Z/zG2W/1Fm09Zytrec6HNdoY3Jc49hYPuQ7r+W3wHtywZ99WREEoWkzpq5enU7dRtZlURiHAjkU26nbSJosUkYxHZ5Xd2CoWHQsSUUDeS4T758K8NT96Ev/+9//YkGzuoZyqe5gEue3Bp+jqc9AQcK6Rmpp8cUXr/8MU045ZanuwFx66623smcNr+5ksVT3g6h/zQ477BCL8aXHdtttt/qisHUnP7EgW11DKS5f+brjs/EZ+awt9e6775bqDlbx/fnsdQes0sYbb1xfGLXuhxwLw5Xj//L/0+dubMp/Dwnr6qCDDorFrfiffN603uoa9KX77rsvfmcdiaJf/H/+NqbuhD4Wu2Xd5AursS4OPvjgUt1JcP1y150Ul44//viK6y557rnnSnUnOrFIYd1JczZ3mFTwauedd27x+qjbkZZuvvnm0pJLLln/HbL91B3ASnUHsIrvwzZA8cf0fLYzishROJHvuDXbWfptN/ZbuTcr9tXUem4M64h1xesXW2yxioWZ89I+geWqO0DH23UHhrjdbbbZZsMVYKuGtPwsZ7UU+a0lrV13RbDsTX2WtqKYKOuB7ZnvkgLdab9R1yCO33c1VXs50j6muYnts1LhxqS57aG5Y2UtScf3pqby5Un7n0rPLZ9SofBy999/f3wPjjdsO6eeemr9tnXxxRd3+PEnqTvZjsX6OW+Yfvrp65eDz9W9e/dSXUOrQcH7pLXHoLQNVdq++R1xnsFxgPdh/8k5wccff9zocTLNr7TfS99XY7+lSudWTX0+pMeZuN0cikBuuOGG8ZwsrR/2HXzXnI+UKz/3otA9RYi//vrr+Jla+3nTdt7U+ql0PG0Ox/ttt902vndz+42krmEXi4ayffA/0/ne/PPPX6pr8GXPqi62j7YsX1MoBr755pvXH995f5aJdcGy1DVOs2dWT3ssRx7vzedvbCr/3bVVtZejuc+dpjSwQzkK42655ZbxOWuuuWbc/6T7K6+8cpNFvGtR2h/kl73S1Nj+oq3nOvx+2fZ53sILLxzbc5tssknc7/FetFFH1LGtMXye9pqGVChwyzQK/ziLtUjtqm6Di1Fy+nFzdRBcpeGqTlNXUosiJZXIPP+TfqakEXJlIl1VkfLYJXLln+LcZEG1JArPtl13AhuvapHazZWB//u//4vZK+3RnYErigx9X3dQrNg3fERpy7prK/4HdTEYCrTaqbVcGaJ7F7UguPJDZhbrm++12tpzOTTi0eefOjip/saiiy4aM93qTk7jfakzIPukrgEWs6HJcm7JVWUy5dj2qQ/IuRfHKjI9W1q7qbXOPPPMWFOOovvVxHGNzFzOXTm+TzjhhDGbnML17bEs7bUcHa0Wl6PSd0ltLeqStMe5Wq1r67kO2Sr0fKDrLOuRrBh+22Sc1GLbqr1CHU29rwEWSepkajXA0pG6SmDCAIskFWdgorZ0leVQ52eARZLUImSDUfV/ZL0STjFlrpByxaUzX3nqKsshSSMS9b+4+NDSUTRrlcshVZcBFkmSJEmSpIJGRIDFUYQkSZIkSZIKMsAiSZIkSZJUkAEWSZIkSZKkggywSJIkSZIkFWSARZIkSZIkqSADLJIkSZIkSQUZYJEkSZIkSSrIAIskSZIkSVJBBlgkSZIkSZIKMsAiSZIkSZK6jFKplN2qrube1wCLJEmSJElSQQZYJEmSJEmSCjLAIkmSJEmSVJABFkmSJEmSpIIMsEiSJEmSJBVkgEWSJEmSJKkgAyySJEmSJEkFGWCRJEmSJEkqyACLOsTAgQPDscceGz777LNsTtv8/vvv4e233w7vv/9++OGHH7K5kiRJkiSNWKOU6mS3pXbzyCOPhPXWWy+MMsooYaqppgqjjjpqmHjiicOCCy4YRhtttOxZw+ywww5h/vnnz+6F8N1334UjjjgiXHXVVWGMMcaI06+//hrWXnvtcMYZZ4Qpp5wye6YkSZIkaWTWXmGO5t7XAIta7ZVXXgmrr756DJhcdNFF2dymXX755WGvvfbK7jWN4Mtdd90VlltuuXj/k08+Ceuss074/PPPwxVXXBF69OgR5/ft2zdss802YbLJJgt33nlnmH766eN8SZIkSdLIa0QFWLpcF6FffvklrLnmmmGCCSYYbpp00knDMsssE0444YTw6aefZq8Y3n333Ref27Nnz/h+Kq6p9V1uq622CksuuWS8/eOPP4Zdd901dgkiQMN3SxYM08orrxwOP/zw+BhZLH///Xd8jSRJkiRJ1dSSoE2XrsFCZsN0001XP9Gt5LXXXgsnnXRSmHvuucP+++8fu5mofbEhfvzxx2H33XePXX0ImpRP1FP573//GxZeeOFw1FFHxe8KN9xwQ3j00UfD6KOPHlZcccU4L2/RRRcNY489drjlllvCO++8k82VJEmSJKljddkAC43u2267Lbz55pv10xdffBEzKf73v/+F8ccfP3Zv2WSTTWIDP48uKN9880249dZbw7jjjpvNVVuRBfTll1+GVVZZpWK9FdDFh+/r9NNPD5NMMkmcR0HbBx98MN4m4MJ3Wo7aK9RyIUDz7LPPZnMlSZIkSepYI90oQnQVogsKjfFZZpklZkdcdtll2aNqD7/99lv417/+FaaYYopsTkPUWGGEoT322CMsssgi2dyhAZavv/46u1cZARtqtoBCunYTkiRJkiSNCCNdgCWhIOoll1wSsyIuvfTSWEBV7WPyySeP2UDzzDNPNmeYv/76Kxx22GFh6aWXDjvvvHM2d6iWBFjyvvrqq/gaSZIkSZI62kgbYAFDBK+22moxg+KNN97I5g4dJYeuJzvttFM2Zxi6GB1yyCFhjjnmqC+ey226G5GpUcmAAQPCRhttFAvn8nyCO2effXb46KOPYi0YJrovlfvpp5/CWWedFQMT6X8xxDG1St59993sWcPwHrwXhWDp9kSXGzJCeN1EE00UNtxww/Dee+9lz26oLctVDb169QrPPfdcLGCb6q4k4403XqtGBuJ7/Pnnn+tvL7HEEnEkotYEaSRJkiRJaouROsBC4VQa4Xj99dfj36YQwCAgQw0XGv9bbrll2GCDDcL3338fC+YSoCjvonLHHXfEEXEeeOCBMNNMM8XXLLDAAuHII48Me++9d6MZF6+++mr8bEcccUQMlvB/eO20004brr322vie1C2p5J9//okBnO233z7MNttsYdNNN411TahnwnDHBHby2rJc1fDBBx+Ek08+OWy99dZh5plnzuYOM9ZYY8XlbQqZR9TLKcf3+dZbb4X+/fvHSZIkSZKk9jRSB1hAHRa0pIsQtT7WXnvt2HB/6aWXwnnnnReuvPLKmP2y0EILxYwRhgxOeB6ZGRTUJdCSXnP33XeHl19+OQY6Bg8enD17GDIu/vOf/8TPRACC5/F/eO2LL74YR9YhOLTnnnvG/1HumWeeqf9/PJcsFD7juuuuGzNVyBrJa+1yVQMjC/G5KE5LUeFKWEaCPXw+AlGMQFSObKNKGTbzzz9/mHfeecPiiy8eRyaSJEmSJKk9jfQBlqR8JKFKKNJKwKM8q4LhoFdeeeUYACArI7n88stjdsXhhx8eunfvns0diowNAhljjjlmNmeYu+66KwY7dthhh1iXJD/yziijjBK7ABG44b179+6dPTIMXW3OOeecBlkh1JrZZZddYtCCIE1+eOrWLlc10G3qpptuCnPOOWfM7GnMsssuG4sSE5C55557Gow9/u2334brrrsuu9cQy/L000+HPn361I9KJEmSJElSexnpAywUWQVdaVqKLJBbbrkldp9ZaaWVYiDjtNNOyx4dilogdPOhlgvdbyrhdeUj69AVh9FwCIT07NkzBlQqIeuDoAnZKvlgCXhf6qeUm2GGGeL/o0tQpayPlixXtRAYIkA066yzhgknnDCbOzyCRccdd1wc4vniiy+On436Kq+99loMPlFHZ5ppponPpZgu3YokSZIkSepoI32AhS4mIPjQHLJctt1221hIdrvttoujEDFyzfLLLx8b+nkEWAgE0PinwGxL/fHHHzHwQEHcqaeeOps7PIrd8hy62Pz555/Z3KHIPKkUaEhDGvPZUmAJrVmuauD/PfTQQ/H2XHPN1WgQKaHg7s033xyuvvrq2LVq9dVXj8GVzTffPOyzzz71wzTzHVJDRpIkSZKkjjZSB1ho6D/66KNh4oknjoVnm0JmCYVpGW54m222CW+++WYsAksxVeqVrL/++tkzGxp33HGHGx2nJQiGtOR1BFLIdmmrti5XEXQ3SqM2tTTjhPVBDZm+ffvGz/jUU0/F+wSj+Lyg1kqRdSFJkiRJUluN1AGW++67L9Yjoc5IKnbbGOp9PPzww7FmCAGJ6aabLntkqPIiuWRV0NgnmJACAOWGDBkSR/zJI5AwzjjjxAySgQMHZnOHRzcfggsU0C0SVGjtclXDO++8U99Fqbn1DgJhDEudz7pJKBL8yy+/xG5GZLZIkiRJkkZe+bqd1dLS9xxpAywMm7zHHnvEbjbU9WguSEGg4csvv6zY/YYgxQsvvJDdG4puLbPPPnt8HXVSKnnyySeHC2Dw3tRsIbOErJLGvkjqtBCk4LktzQKppLXLVQ2tec+PP/44jgS0yCKLhJ122mm44aKfeOKJuI5WXXXVuL4lSZIkSRoRRqoACw1xskL23nvvsNFGG8V5F154YawD0hxqqVCwlmGM80MjE+Q44ogjQr9+/bI5QxGsYPQb6ovwOLVD8p577rlw0EEHZfca+ve//x2DBZdeemn8fGS6JCzDvffeG0466aT4HJ5bRGuXqxrISGkpRjBKwzOTrZKvN0N20DXXXFMxSPbZZ5+FpZdeOhbHJVAkSZIkSVJ76rIBFgIEG2ywQSzcmiayNOadd95w2WWXxeAEXWNa2q2EEWooAMv70mhfa621Ys0S3od6IFtvvXX2zGEY6YfXMDrPiiuuGFZYYYWw6667xmwMMk823njj+hFw8hhimEKz1IY58MAD4zDG/C8yOOjKs8kmm8RuRDynfGjl1mrLchVBdx6K/7YUox7xvRFEIeOI5QaBMgrz0pXqrLPOGi5IxghO1JF5/vnnhwtuSZIkSZJUbV06g4WMB4IbaaJOB0MfM4INGSQEW1qKTBSCIwxbTMbH448/Hu66666w3nrrhfvvvz9069Yte+YwFKnl+RSLZRhoskEYCYdRhchCIWCQRsApt9BCC8WuRbvttlsYc8wxw2233Rauv/76mKVB5gsBBJ5TVFuWq4h//etfcQQk8L+b695EAOqEE06IoyXtueeeMchEgGn++eePtW3uvvvuWOy2HN8tQReKFzdXwFiSJEmSpKJGKTVW5EPtjkK1K620Ugya9OnTJ2ZrjAzIPrngggvCkksuGTNmKOzbHAJkt99+eyx2S5CG7KDllluuTSM0SZIkSZK6pvYIcbT0PQ2wjEBkqFBDhSALtUSKFKuVJEmSJGlkNyIDLCPtKEIjGl8QowQxKs4yyyxjcEWSJEmSpE7MAEs7eu2118Kxxx473Cg2f/31Vzj//PPjKEEUsKUujCRJkiRJ6rzsItSOXnnllThKESP0UHB10UUXjcGWRx55JPz666+x6G6vXr1C9+7ds1dIkiRJkqS2GpFdhAywtCMyVe65555wzjnnhP79+8f7mHrqqWPWCqMIpRF1JEmSJElSMQZYJEmSJEmSChqRARZrsEiSJEmSJBVkgEWSJEmSJKkgAyySJEmSJEkFGWCRJEmSJEkqyACLJEmSJElSQQZYJEmSJEmSCjLAIkmSJEmSVJABFkmSJEmSpIIMsEiSJEmSJBVkgEWSJEmSJKkgAyySJEmSJEkFGWCRJEmSJEkqyACLJEmSJEnq9EqlUnarelrzngZYJEmSJEmSCjLAIkmSJEmSVJABFkmSJEmSpIIMsEiSJEmSJBVkgEWSJEmSJKkgAyySJEmSJEkFGWCRJEmSJEkqyACLJEmSJElSQQZYJEmSJEmSCjLAIkmSJEmSVJABFkmSJEmSpIIMsEiSJEmSJBVkgEWSJEmSJKlMqVTKbrWMARZJkiRJkqSCDLBIkiRJkiQVZIBFkiRJkiSpIAMskiRJkiRJBRlgkSRJkiRJKsgAiyRJkiRJUkEGWCRJkiRJkgoywCJJkiRJklTQKKU62W1JUgd56qmnwo033pjda5sxxxwz7LzzzmHWWWcNV199dTjxxBOzR4b5z3/+E/bee+/sXkPHH398uPbaa7N7De27775h++23z+7VPg5l3333Xfjzzz/j/YkmmiiMNdZY8XZrvPfee2HKKacM448/fjZneL/++mv4448/wsQTT5zNaWjIkCHhq6++ClNNNVUYZZRRsrmdA8v26aefhtlmm61Fn/33338Pn332Wfjkk0/C7LPPHiaffPIwxhhjZI82Lb2WdTXHHHPE9dnZ1ldea9dd2mbffvvtMMUUU4Rpp522xdtsZ153Dz30UHjnnXfCjjvu2OJtpZIffvghfPTRR2GyySYLk046aZt+77Xqm2++Cb/88kuYYYYZsjktw2s+/vjj8Ntvv8XjwoQTTpg90jT2WV9//XXc/80000xxH1jku5GkEana4Y3Wvp8BFknqYDSOtthii/Dggw/G+wQDxhtvvHgbP//8c/j+++/jbU5yF1hggTDXXHOFV155JZ54f/HFF+Gff/6Jr3nggQfCfPPNF+677744/fXXX+H++++PzwON3nvvvTc24Mrx/N69e8cGz+DBg+O8ZZddNswzzzxhp512iifoncGTTz4Z9tprr9hoI6jBsrMeFltssXDeeeeFOeecM3tm43766adw0kknxedff/31oUePHtkjw2O9bbzxxrEhvdpqq4VFFlkkjD766OHHH38Mjz32WPxeF1pooXDDDTeEccYZJ3tVbeNU4Omnnw777LNPbKzefPPNYdxxx80eHR4NOAJ655xzTtwWk1FHHTUG9Y444ohGg1QEIo488shw0UUXxW2fdcQ2zfZ28cUXh4UXXjh7ZufQ2nUHttldd901NobZZlknbD977LFHOPjgg8PYY4+dPbMhnnf00UfHdUdAYYIJJojrbrrppgtnn312WGWVVWo+0LL//vvHz8/3Pskkk8R5fPc07MsROGK95gMF/fv3j+vu1VdfjfP57Y422mhxm9tll106dWCAQMcdd9wRDjzwwLDSSivF9dQSBNsOOeSQcPvtt8flZ72wH9xss83C6aef3uh+iP/Haw444IB4DCBYReCK7erKK68MK6ywQvZMSeo8qh3eaPX71b1AktSBBgwYUJphhhlKyy+/fOm9997L5g5z7rnnluoap3G67LLLsrnD1DXKSvPNN19prrnmKg0aNCibO1TdiXZpwQUXLE055ZT171HX4Mserey5554rdevWrfToo49mczqP3r17l6aZZprSmWeeWaprfMZ5/D3++OPjstc1NOJzyn377bdx/mGHHVZaccUV4/PS+rr33nuzZ1XG4+m5labFF1+89P7772fPrl0vvPBC6eKLLy5tvfXWpZlnnrn+8/fo0aP0888/Z88aXl0DrLT++uuXlllmmVJdY7f0999/l7788svSCSecUL8eWQcDBw7MXjEMr1177bXj86655prSP//8E+d/+umnpdVXX71U1+Au1TUw47xa1tZ1B7Y7lp/l/eKLL+I81uFVV10V57NuWU/l0rpjvb/11lvZ3FLpxx9/LO29996lukZx/B2kdVqLfvvtt1LPnj3r11dz01JLLVX65ptvslcPW3fsO9kPIv9733333Ut//vlnnN8Z/PXXX6XHH388fm+bbLJJg/32jjvumD2raey/Z5pppng8YB+evv++ffuWJptssvi7rIT1tueee8bthu2H7Qi//PJLacsttyzNMcccpY8++ijOk6TOhP1gNachQ4a0arIGiyR1MLoH/etf/wpXXHFFmGWWWbK5Q9U1tELdCXO8zVXsSlfzSRuva2DEK751J+LZ3KHoboCTTz65/ko23YDIOGhMSrOfd955szmdw7fffhuXk3VGd6l05Zr1ts0224Tpp58+ZleQLUHXjbzPP/88ZqxwtZguFlwlL4r/TwZCnz59Ql2jO5tbu2699dZQ17ALAwcOjF3N5p9//uyRpl122WXhww8/jJk+vIbsATKkyLzgajneeuutcNhhh8VMojxeW9cIDDvssEO8up62UbrHnHHGGfFKO13X6K5Qy9q67tgO2R753bK8dMUA67CuURvXC9sPWTDlmMf/u+666xpkZfFe/A5Yn2SxDBgwIHukODJtWD6y7qqB92npd0s2FJkcKcvlpZdeCrvttlvMFjv11FPru8/we6cb5Morrxx69eoVM/I6C7o0Xn755TFzi+49/IbYF7cU66Rnz55xGyBzkYwTflPvvvtu3JboyvjEE0/E987jd8m65X+T+cPvNh1LjjvuuJjZyD7yzTffjPMkqbMo1UDnHAMsktSBCAY88sgjYdttt63YCCdoQAo8aERVSpsHjQoCCOVdEehGRNCGLi50XQEn2K+99lq8Xcnjjz8en5saMp0Fjc33338/Bo9oFNCoTyaccMIw44wzxtsffPBBg8dAN6hnnnkmdjO48MILY3ei1ph66qljcIYGHRNBMbpq8DnKg161ii4+NKD69u0bu1bQLaA5dF2j8cV6JyhFt5Y8Gnt0j8I999wT+vXrF2+DeiEE+2gA/vvf/x6uKwu/hyWWWCJ+V3fddVc2tza1Zd2B7npsjyxn+e8/v17oGpK6+YEGMkEdfqf87ssR3Ntggw3ia9iuq4XuN/zOhgwZks0phuWgCyS/HbadShPbFl0i99tvv7DOOuvE16XfON1X+O3S9TGP/eEyyywTA6qXXHJJkwHlWkJAkUA729Kdd94Zux62tJYM6/Lwww+P64TAU75eC4GstA4ISJX/1ujmeNVVV8X1SGAv/zjfQcJrJUmtY4BFkjoQV7ApJLjuuutmcxqicZGyLeaee+6KRQqJzhOIKa8twkk12TE0NMgo2GSTTeJ8rpLedNNNFaP6NJgJvhBgKD8Jr3XUZ0iFZmlgksVSCctV7YYCGQc0Atdbb704cTtl0HRl+QwE6v9w1TyPmirUBALb3fPPPx9v48UXX4x1cggKVrpKT8OSGiYgEFGtrIlaQYOY4BSou1KpIc32zHwy0Qj+JQQ6yDRj/VEYt5LUkKZOS6368ssv4zbSWMYPmRXHHntszOwhGyztkwjyvPzyy/E220+l31oKuvA8nt/VESQhw4h1RS2oPLIRyYqhllbKDEsIoJx11lnxeEAAq7w+F0EbglvUV1pxxRWzuZKkljLAIkkdiAYn3SEa60JCyjdZLujevXvFoAcNNYIw5QEWgi4EaBZccMF4f/XVVw/TTDNNvH333XdXbHTQ4OEKaGcrLAoyVOimsueee8aGK119EgJHZAqAbJPO0GWnM6ChRnAAbJuVsp7y3d7yXYQIsIAGNqMNVcJvAwQS8lfSuwICU3TdQHnXwIR1QzYMjd833ngjmzs0+MQ6I7uNwEOlIMuzzz4bAw+LL754Nqf2sK8h04KMk0oIrBE4IMiSzwpi30aQqSkp6MK6SVmAXRXBR4pog2Lb5b8nfptrrbVW7EpVXqycYwwTKmXuEbCh2xDdLEeGoLEkVZsBFknqQEsttVSs3VDp6nV5/ZXyNPiEx+iiUD7CQ6q/kgINNGQYrQj0pyfjoByvIfOjUreDzoDuKDTGUreUhG4SLDMY1SafPl9tNHboHtTVMi4qodFLHRWucNNlhboX5QjyJSkDi4ABI+Y0J3WvIvCXvr+ugiBBc0Ej9gupUZvv1sd6TI1hupKQocD6T1lpNJjPP//8WIel/LdQSwga0yWm0qg2BETJnjjttNPiyGl5BExT4LklunoGC/ubFERi3836JDPyhBNOiKM0kVnWWDcpuoyy3XAcIfhMxhMjCdHlj8yWFJiWJLWNARZJ6kCcDDcWzKBGRUqDb6r+Ct1TyDgpb6RQf4WGV0r55iomdRlSI5crnuUNPE62O2P9labQQKBQKqhp8N///rdiJlBR1AohwMD6JhjGX9Y3DZ2urFu3bvEKd6UhgVOXM7DdLbnkkvE2jbhBgwbF2y1BsKqxrjCdFUGj1tQGoZ5KCtqxnsnUSpkvZHNQx4kA6o033hg23HDDGLygTklnzDpgvRx00EExOLTmmmtmc4chq6KxrJdKUqZQV0WRaY4XoCseBbu32mqrGCynsO3mm28e9+v5bmZge8rPYx/G75isIbL8yAgkA/LQQw8drkC1JKllDLBIUo3gCn9qhFLHgu4CLcWJM/VXCLzk643Q8F911VXjba5y52ti0BjmfmNdkVqC7kpk09BtoejECBqfffZZ9s6tQ6Nh1113jRlCrAO6IjBCBgVsK10tL4ouWjvuuGPYfffdY0OYwBWjl7zwwgtxfVLIeGREwWQCfSCbgto0bcEV9pEhI6gpBKXyxWUJzBIkzWe2UQyYDC1qcJBZ1NJiu7WGrJzHHnss/oYrBYiozZPqLTUm36WqNcjiI3uj0j6ptdN5553XIYEJAmwpe4luVQR1H3744fraKQ8++GB8DrW+8gW+yQJKXa34fR111FFx/029FgrlUtOFrkHnnntuHAUs/Q9JUssZYJGkGkENhZQGzzDMrVFefyUh2JKGw+VkmQZAuoqe6q801hWpJRhKlSGn24Ig0korrVQ/Lbvssm0OhlA0lUAS2SpkkdCI+N///hfXaXs0EriaztVeCtymBiEjw6RRPUjTb2uwqLNiG6SgJuub4phcBW+PzKGRGfU0yGThd5fHtsgITvymOxtq07DdkHHBCEGV0MUvFQYfPHjwcME37vNbbwv2X2QFthavY5+V34dRvLcjtvl8NzyCcBSzzWf4EGQm6Ebwl2HB0z6fEZw++eSTeJvfKQXRmRL2ZQRYeC9GsmJIdUlSK9XtYCVJI9hff/1V2mKLLUrjjz9+aeqppy69+uqr2SMt07dv39KCCy5YqmvUZ3OGqWvwl7p37x7fe9JJJy0999xzcf6NN95YWn755UvfffddvN+VvPjii6XpppsuLvM555xT+ueff7JHKrv33nvjc5m43ZQ///yz9O2331Z8z5deeqk0xRRTxPc54YQTsrm1r67hVerRo0f83PzlfmuwTnbffff4+tVXX730xRdfZI8MlX//ueaaqzRo0KDskYbqGtrxOUzNfQ+1oqXrLr+NsZyVsF5YP5Xei9/xlltuGbfrPn36lF544YVSXYO+/j2Z2AcMHDgwe0VxfOa2bA+tcemll8bPfvTRR2dzKmO5WL4JJpig9NBDD2Vzh3rqqafifjOthx133DF7pHPJf/9NLUP+d7LaaquVfvrpp+yRYdJz8vv8/Psz3XHHHXF+Xv452267bTw2SVJnwblZtachQ4a0ajKDRZJqQL7+CqNCtLboLN0yqM9QqZYK3QYqDdlMd47GhoLu7LiCS/0VkFVCF4Rq4Sov3RUqXammVkTqykCh3ZYOmUvNGL6LIhM1GOiy1dHYlsiMuvLKK+NVfLIpWA8dhW4zldZHa6YePXrUdMYR3U7oskHXM0bMovbPoosuGrM26OaRMlrIbDj55JNbVBD26aefjhkXldZHmsiM4Hlkl1R6PE11DfE2DQ9N17prr7023i7PvivHPpFuf+zjtt5661h7hmKv/LYPPPDA2FUqSaNRdVX5Uaio1TXeeONl94aXHy6d56VjC1kqzRX/ZuQvMtMkSS03CpGe7LYkaQShMf7vf/87NoxoKNO9paVIj6fYJanee++9dza3Ieq7MGwzI7MwdDONE2oGUPPg//7v/7JndS00xvbaa694m1T+m2++OYw77rjxfjmKPKaADOuGBndjCGLwPVUKTNHgI8hAjZbpppsu9O3bt35Y46ZQmLe8IGVr0eiiyHFbuiiwTBtttFGswdDcuip3xx13xAY22y31HCoVI2V98Rye29R6YYQtujTwHox61VyjG6xzGoItCSo0hoAQwxu3patIS9dd/jd+9NFHV/yt5refTTfdNHbTAEGELbfcMnY9q9T16vXXX49dOxjemmWhHlBjRbITutHxmSmK2hiCvvfcc0844IADmuwK2NZtj4Y/RW1Z7/wGCYw2h89NjRBGUaLrC92K2O4obJt+w5deemmn3K819v2X4/ulSxgae176LSFtbwTBCLbT9aex31hb92GSVAvaI7TR6vckwCJJGrHyKd903WkNugWROk83ocaQ4rjvvvvW/w/Sz+eee+5Sv379smd0PoMHDy6ddNJJpQsuuKBU18jN5g6T75IxxxxzlOoaDNkjw8s/t6muKazjSSaZJD7viiuuyOYOk0+v5y/3O4OWdnMpR1es6aefPnaHoptQHl1YBgwYkN0rlfbbb79m1wvdRHjOrLPOWvrwww+zubWtpeuOdTHDDDPE5zXWRYhlZtl5Tr7LzK677lqaeOKJS08//XQ2Z3jvv/9+abbZZotd1OiqVg3t3UUo7ffa0i2y3Lnnnhvfi+XvrPu1/P6jqS5CrKvUJaqx5+WPKfntjW2pqfXUWfdhkoTy7j3VmCp1A2pqsouQJI1gZKAwAhBI4a47qY23W4pRMOp26E0Wq+XKMld0GcYTdOOgMGxzV7mbQ9cmuhnQDanoROo/3RFagivXFLSlaw1X1xmetil0oWhLdkI5umKlUULorlGeNcH3UHcwjrcnn3zyMNZYY8XbXREZN2StUHSV7yA/+gtXyo855pi4bSaLLbZY/EvhTa6SV5K66TBkLNtnV0JmSfq9DRgwIP4tx8heaSj1lFnANkbWBuu3UnZQwvDZyy23XLxdXgS3FrFcqVskI6bxe2lK3Xlz3D6YuF2OLD0svfTSYY455oi3W4JskEr7o7ZMrP+OGF6cbj50JW2pfLZdawqoczzK/64laWRT6XjTHAMskjSC0cc9DaXZlvorDL9McIWhTJvCqD2pAYbWDgVdyRRTTBGeeOKJ2DWh6MRQowyz3BI0OPONVBrt5fKP07Adf/zxs3ttlxoqNDpI0c8PiQ1GcUkNLLqcFF2/tYqRSLbffvuw8847xyFuy4NXBN5o8OYbzQsssECsT0OAKo1qkkegMX2PjELUVF2JzohtgW0CBKAqdWli22E90I2P9QW2MbbdxtZbOdZxqgNUyxhtKx+Aaw5dggg+M3E7Lw05j80337zJQFQ5usNQu6bSPqm10/33398h6z6/LQ0aNKhi/RuCvSCoTvetJP0O2ZYYwalcPkjM67pijS5Jak8GWCRpBKORQX93tDbowdXuPn36xCyS5rIlaHRQcyXVSWjtUNCN4QScPvpFJzJYWlrDgedS5BM0PlMR34TG62uvvZbdCzEY0tKaIk1ZcsklY12Cu+66K6yzzjrZ3GEee+yx2HAh2LXddttlc7sWtjm2I4bLffPNN2MGC/V8mCiKSkFUGq2sh6mnnjp71dA6HWuvvXb8bioNqUtwiloibE9pSN6uJjX+ydwgCFUuDSu+1lprNShAypC7NHx79epVn0FV7sMPP4zBTtZdc8VLawHL8fPPP2f3mpeGF0Z5BhS1RPr16xfWWGONWOemNQgOEgistE9q7VSNfUxLpW2JwE55oITfWP/+/eNt6gMttNBC8TbS7xDULio3cODAuG3y3rvssstwQWRJUtNGO4ry85KkDsNJLVdbybCgQXnxxRfHxhEIHJAdwUkzGR2knZdfyadhQkOKUYDIHuD9uALLlUoyALj63VhaN90ueB2NZIoeduRoL9VEFwgCHRRNpesTjY18EU4CIBS+pLFK8U+6sOSzLGj8U+iRIAzfwdVXXx3XIVh3NGb5fmi4MCJJ6nLB+qMoKF2TyAYigyd57rnn4jrl+6HoJAVPaxmBPYqcspwEhijuS8OMUUcI8tHQ4jG2wZT9Q0HX3XbbLV6pZx2y/ug2lSbWJRlZXFHn+yHINM4448TXsg7nnHPOOAoO2+8KK6wQt1WwzjgdYT5FXAkwtLZgakdqy7oDvze2Hwq6ElxYZZVV6rdLMtH23XffuN7OPvvsBpkDdJkiAMV2yndAQev8b5xtl3XN9k5x02plHbAPYl+V715YLbw3+z7WG+uJkYGayloiu+eWW26Jvzt+z7yG5WVdkkk144wzxpGsmsvkqzX548Hdd98duyyxXKwXvkeK9/L9EgTKZ+akbYnfIttE9+7d67cJ9n+MJsV2c/755zfIqsn/Dim8zLbENgeOCxxTKLp9xBFHhPXXX7+mf4eSVJPqduKSpA7yww8/lOpOhOuLDzY33XPPPdkrh6lryJfqGhEVn0/hWoreNqWu8R8/A5+ls6trkJfmn3/+Ul1DpLTiiiuWdt999/qCoxSjrWtsluoa+9mzh8kXcmxqqlTgk/c76KCDSnUNvNLiiy8ei0zyl+dPM800pboGXyyKVuvyRTCbmvJFf1u63ph69uxZ+u2337JXDtO/f//4Hnw/fF8UKU7r7/DDDx+uWG4tasu6S1i+Qw45JD7OcrP8rAfWB9sy66cSCjmnQsE8d5NNNintsssu9etu7bXXLn3xxRfZs6ujPYvcfvTRR7H4NJ99scUWi0Wrm8J6Yz3lf+vLLLNM/B1uttlmVV/2jsL+g3XQ1NRYQVrWCb8ZntOtW7f4Xssvv3y8v/LKK5c+/vjj7JnDYztje+O5fMdbb711abrppovbFtvk33//nT1TkjqPVJi2WtOQCkVsm5scplmS1KmR/UD2BEPZUteBlPYlllgirLrqqjEjqL1wlfeGG26I3RXInqFbDFkZKWNDjSP7hW4dZFNxpZ7aQ3RloJvFyKJ8+2G4YrrtNVeMme6EDz74YNzmwTojw4SuH9XONiA7hCGRWzNsd0tx+kmhaP4H9XzIqmhO3Ylr7ApE5hq/9fZc9s6EbeL222+P2S6t2ZZSNiTfAdkwI+PvUFLXUu3QRlvezwCLJEmShtOeARZJkqrNAIskSZJqErV0yI4gs8FaHJKkWmeARZIkSZIkqaBaCLA4TLMkSZIkSVJBBlgkSZIkSZIKMsAiSZIkSZJUkAEWSZIkSZKkAqjZYoBFkiRJkiSpIAMskiRJkiRJBRlgkSRJkiRJKsgAiyRJkiRJUkEGWCRJkiRJkgoywCJJkiRJklSQARZJkiRJkqSCDLBIkiRJkiQVZIBFkiRJkiSpIAMskiRJkiRJBRlgkSRJkiRJKsgAiyRJkiRJ6rRKpVJ2qzra+n4GWCRJkiRJkgoywCJJkiRJklSQARZJkiRJkqSCDLBIkiRJkiQVZIBFkiRJkiSpIAMskiRJkiRJBRlgkSRJkiRJKsgAiyRJkiRJUkEGWCRJkiRJkgoywCJJkiRJklSQARZJkiRJkqSCDLBIkiRJkiQVZIBFkiRJkiSpTqlUym61XHqNARZJkiRJkqSCDLBIkiRJkiQVZIBFkiRJkiSpIAMsNezvv/8O++23X5hgggnCOuusE3788cfskWH++uuvcPHFF4c55pgjPo/poYceCq+99lro1q1bmGiiicIdd9yRPbv17rvvvjDppJOG6aefPrz00kvZXEmSJEmSlNdlAyzffvttOPfcc8NSSy0Vgwwp+DDVVFOFlVZaKbz66qvZM2vX4MGDw7333htvP/fcc+GDDz6ItxOCK/vuu28MwgwaNCibOzQw06dPn/DNN9+Ef/75p/492qJ3797x//zwww/h8ccfz+ZKkiRJkqS8LhlgeeCBB8Jcc80VDj300PDGG2/EIEPy66+/hhdffDF89tln2ZzaNdlkk4VNNtkkjDLKKGH55ZcPM888c/bIUE8++WS46qqr4u35558/BkDef//9sNpqq8WJDJaxxx47rL322vE5bcH/H3/88cPUU08dVlxxxWzuUASxevXqFVZYYYXw4IMPZnMlSZIkSRr5jFJqyxhENax///5hrbXWihkXWG655cLGG28cs1dANxuCAdtuu21YeeWV47zO6swzzwxHHnlkvH3DDTeENddcM97uKPn/f+ONN4YePXrE25IkSZIkdZRqhjUcpjmHeiMpuELj/+677w5bbbVVWG+99eLE7WuuuabTB1fyyFKZZpppsnuSJEmSJKmjVT3ActRRR4V55pknZozwl/sdKd/1Z+65547dayRJkiRJktpTVQMsdBE544wzwieffBLv85f7Hdl1JHUFAqPetCS9h5FyUhFcur389ttv4eyzz44j5zCPUXS22267Ruu28D+eeuqpWPckFdSlmO7uu+/e5GuoBbPRRhvF56b/T1Dquuuui8/55ZdfYrcf5hMs+uKLL+L8nXbaKc5L3XP4vNRoyT+vfJkqeffdd8N///vfMMMMM9Q/d5ZZZgmnnnpqLJQLXpse4z3z89L/R+qGNeWUU8YMIerHcH/LLbesf6+8Z555JkwyySTxOYyCxPo477zz4vqjW1fahiRJkiRJ6gyqFmAhU4UgQyXM76hMFgIWY445Zrx9yimnhO23374+MNES33//fQwWHH744fVdjRhF55ZbbgnLLrts6NevX5yX8Nhhhx0Wg0jPPvtsfUFdiulSgLax1+yzzz5xNCMK8vLchMDCY489lt1rHwQzGGFpkUUWCddee21c5uTrr78OjzzySPjjjz+yOa1HcV2K7oJ18umnn8bbeQwlTeBlwgknjOvoyy+/jAEW1h91dIqMfCRJkiRJUkerWoDl5ptvzm5V1tzj1bLYYouFE044IYw66tBFIzAy++yzx0yNjz/+OM5rykUXXRTee++9mIXxzjvv1GemgGGPTzzxxJgxklx44YUxWIEddtghfPTRR+G7774Lt956awwe8BpGMyIbBQQ3Tj755HDZZZfF+2R8XHDBBeGtt96K0+WXXx5mmmmm+FhjCBzx2Q444IB4nxost99+e5xHcGbyySeP8xtz0003xc8EXkvwi9GWeP1tt90WFlxwwfhYY3bccccG/x+sN+a99tprYfHFF4+jD4HAyfPPPx9vJ6wTauNg1VVXjd8P62HXXXeN39sCCyzQ4QV7JUmSJEkqomoBlua6dHRUlw9qrhAAoAFPJkVCpsZ8880XTjrppAYBknJ0WeG166yzTuy6w2sIeiy99NLxcQIYb7/9drxNwIasC6y//voxcEK3l9FGGy0GDsiCAVkcr776arxNEIVgBOiO07dv37D55puHaaedNk4bbrhhOPjgg+PjjSFww2cbd9xxszkhdmNiHsEV/n9jvvrqq9gFCLwPmSJk09AditevssoqMUCVf+9yPFb+/+naw7wpppgijDHGGGH11VevL7x7//33N+gmxLpgHfJdbbbZZmH00UePtwmwkE3zxBNPxM8jSZIkSVJnUbUAS3MN4o5uMNPthBonBEfygRaCBwQ0GK65EgIr+eeDoMv//d//xdsEZwYNGhRvk7Hx+eefx9s9e/aMgYW8RRddNGaIEFygHgwIqKSuR2SRdPR6ofsNnxu77LJL7CbUHqjrwnDZePrppxvUoiGoQybPbLPNVt+VSJIkSZKkzqxqARZqnzSlucfbAwEPMkJefvnlGGgZf/zx4/w+ffqEc845Jzbyy5FFUmnkoamnnjq7FcKAAQPi39dffz3+xRZbbBEDMflpxRVXrM+Woe4K6EIDAi+zzjprvN2R8p+5ua5ARbAOCTqRnUIQ6oUXXojzyaChxgt4nIwXSZIkSZI6u6oFWKjjscwyy2T3GmJ+Rw/XnEeXGQItd9xxRwxs4M477wzffvttvN1aBGHUPEZESkEcslbI5KF7EKMX8T105OhSkiRJkiS1p6oFWMAwvqmeB/jL/TS874g211xz1XeJ+fnnn+uzSvKGDBmS3WooZWCQmZGKyFJDJbnxxhtjt6PGpr333js+LwVnfv/99zB48OB4uyPlg0PtXReHLJ5U7JZuQowmRD0WMoeoaTPHHHPExyRJkiRJ6uyqGmBBGpGGoAJ/Ozpz5corr2x0tCAKzKZaKOONN95wNVNAgdvyzJaBAwfG0Ygw3XTT1QcG6OJDoVjccMMNFQM25QgsEKQhyEA3JdZTR5p33nnrPzOjF7V3kCUVu6WbUO/eveuDbdTBSdlEkiRJkiR1dlUPsIxozzzzTBz5Z9111w29evWKjXqmI444Is5LNVG6d+8eR/wpR72WDTbYILzyyivhiy++iJkXjHTD8MtgKOY0Og7DC/OeYJjkLbfcMtZYYUhmMlTef//9cNppp4XDDjssPgd0lyLogEcffTSONnTPPffE/0UhWEY7Ou644+Lj7YEsHpYHfL6VVlop/k/+N5+Bz8Lwy2lY6aakQA0IMBGsob5NGmUJ+WK3BHTIYiGzKY3KlBBwYkQmRiNabrnlOmzUKUmSJEmSqqHLBVgSCqnutttuYauttorTWWedFX766af42HrrrRdH8KlUzJZaLQQbll9++RhAWWONNeqHWGYI4+233z7eBgVcGVJ5oYUWivepM0IAhYK4FG9l/jHHHBO+/vrr+DjI2jjzzDPrX0NWzaabbhr/F8GP//73v+0aXGCZWXbWAb788sv4P/nffAY+S74QblOWWmqpODw0CDBRc4XMlPww2Py/f//73/Evoy8RSKH2Sr5oMPgcBFj++eefONIR61KSJEmSpM6iywVYjj766HD88cfHIZLHGWecbG6ImRGMWvPQQw+FK664ItYHqYTsF7qxrLbaamHUUYeuHjIuTj311JjpUf46appQV+T000+PQYqE184888xh//33j58pL73moosuavAauiytvPLKYdttt83mtA+WgXVw8803hyWXXLJ+OflLjRqGb86vu8bw2a+++uoGy0CQJp/ZAt4z1b4Zc8wx45DX5cGtKaecMuy6667xMyywwAJhzTXXzB6RJEmSJKn2jVIipWAkR0Bl4403jrcJhqSCtKoO6syQMfPiiy+GZZddNgZ2xh133OxRSZIkSZLarpphjba8V3pNl+0ipNoxYMCA+m5WBFoMrkiSJEmSuhoDLGpXf//9dyw2/Oeff8biwKnAryRJkiRJtaRI9goMsKhdMAoRxXoZkYgAC6ixMuOMM8bbkiRJkiR1JQZYVHUM97zYYovFUYUuvfTSOG+bbbYJO++8c7wtSZIkSVJXY4BFVcdIQAxhjckmmyyOwHTyySfHUZIkSZIkSeqKHEVIkiRJkiR1WtUKa1iDRZIkSZIkaQQzwCJJkiRJklSQARZJkiRJkqSCDLBIkiRJkiQVZIBFkiRJkiSpIAMskiRJkiRJBRlgkSRJkiRJKsgAiyRJkiRJ6pRKpVJ2a8QzwCJJkiRJklSQARZJkiRJkqSCDLBIkiRJkiQVZIBFkiRJkiSpIAMskiRJkiRJBRlgkSRJkiRJKsgAiyRJkiRJUkEGWCRJkiRJkgoywCJJkiRJklSQARZJkiRJkqSCDLBIkiRJkiQVZIBFkiRJkiSN1EqlUnar5cpfY4BFkiRJkiSpIAMskiRJkiRJBRlgkSRJkiRJKsgAiyRJkiRJUkEGWCRJkiRJkgoywCJJkiRJklSQARZJkjqBX3/9NbzzzjutHkLw999/D++//3545plnwrffftvi1/M8ns/reD3vI0mSpMYZYJEkqYYR6HjqqadC9+7dw1577RUDLS3x008/hf333z9MNdVUYZFFFglbbbVVmGmmmcK6664bvvzyy+xZw+P/PfbYY2GxxRaLz994443DMsssE6addtpw/fXXtzrAI0mSNLIwwCJJUo158cUXwyWXXBK22WabMOuss4YePXqEt956K3u0eR988EFYZZVVQq9eveL7fPPNN+Hdd98Nzz33XMyCOfjgg8Pff/+dPXuYIUOGhLPPPjusvfba8f/yPwcOHBg+/fTTsNtuu4Xdd989vPDCC9mzJUmSlGeARZKkGnPrrbeGM888MwY3dt555zD//PNnjzTvk08+CT179gwfffRRuOeee8JGG20URhtttNjdZ/vttw+ff/55ePbZZ8PgwYOzVwxFZsq5554bjjjiiLD55puHq6++Omat4Lrrrouf588//4zZNJIkSRqeARZJkmrMiSeeGN58883Qt2/fsMsuu4QJJpgge6RpZKWcfPLJsWbKlltuGbsGJTz2888/x9ujjz56GHXUhqcA/fv3j/93wgknjJkqY4wxRvZICD/++GN2KzSYL0mSpGEMsEiS1EW8/PLL4YYbbogBFLJYRhlllOyREKaYYopw8cUXh5122in+5X5C8OWcc84Jv/32W1hxxRXD7LPPnj0y1HbbbReOPPLIOHFbkiRJwzPAIklSF3HzzTfHbjwUtu3WrVs2d5gll1wynHrqqfFvHhkvDz/8cLy98MILxwBN3jjjjBP23XffOHFbkiRJwzPAIklSF/D999+H559/Pt5m9J/xxx8/Fqelrso+++wTbrzxxjiyUCV0D/ruu+/i7TnnnDP89ddfsXsSoxCdcMIJ4bXXXnP0IEmSpGYYYJEkqQtg6GUK2+Kff/6JRWoZDYjAyXjjjReDLIwM9MADD8Tn5OVHBho0aFBYb731wqWXXhpmmGGGWNSWYZq33nrrBrVYJEmS1JABFkmSuoBffvkl/P777/H2Sy+9FHr37h0eeuihOCrQMcccE0cOmmaaacLGG28cHnnkkfg8kJnCCEPJcccdFzbbbLNw7bXXxmK3d999d3w977fDDjvEOi2SJEkangEWSZK6ADJYUvDjjz/+iMGQySabLN7H9NNPH4dfJrvloIMOCl9//XWc/+uvv8aslYTuRWS+pAK5/GWoZ4Iz999/fxyyWZIkScMzwCJJUhdDMGSppZbK7g0zzzzzxL9vvfVWeOyxx+LtcmuuueZww0JPNNFEYeaZZ463yWyxq5AkSdLwDLBIktQFTDnllGHssceOtwmGEBRpyqOPPhr/MirQ1FNPHW8jBWEaM2DAgPDxxx9n9yRJkpQYYJEkqQsYY4wxwmijjZbdax4jBYEuQCkw0xJDhgyJkyRJkhoywCJJUhdABku+5kprMDSzJEmSijHAIklSFzDJJJOEBRZYILvXvHydlUUWWSSMPvro2b2mjTXWWK3KeJEkSRpZGGCRJKkLIEDSvXv3ePvTTz+NwzaXS92CsMQSS2S3Qph99tnDrLPOGm+///778W8eQzmnbkGzzDJLg5otkiRJGsoAiyRJXcRqq60WC9x+/vnn4aOPPsrmDvPKK6/Ev0svvXR8bjLppJOGTTfdNN5++eWXw99//x1vJ4MHDw4ffPBBrNey6667DjfKkCRJkkIY7ag62W1JklQD3n777fDkk0/GEXsYTvnGG2+MQY8///wzjg40cODA+BiBjvHHHz971dBuPxNPPHHo3bt3DLD06NGjvjvPSy+9FA444IDYxeeSSy4J3bp1i/OTOeaYIzz++OPhkUceibfnmmuuGFAh6+Xoo48OTz31VNhmm23CHnvs0apiuura3n333XDyySeHE088MW6fc889dyy43Byyoi644IK4Hbema5skSbWCY1m5UepmDj9XkiSNMGeeeWY48sgjs3uNI/BCECWPw/qll14aDjrooNhtiMfJQCFgM+OMM4YrrrgiLLzwwtmzG/rss8/C1ltvHZ5//vkw//zzxyGbGc550KBBMbBy6KGHWn9F9R544IG4vayxxhphzTXXDOeff36YbrrpwrnnnhsDfU254447wm677Ra3YTKqJElqq2qFNFr7PpWeb4BFkqQu6Ntvvw133313ePHFF2OgZfnllw+rr756swESaq3069cvNoB/+OGHMNVUU4VNNtkkdj1S9fz+++8xoPXVV1/FjCECEmQMNeaLL76IXbkayw758ccf4+vzGU1t9euvv8Y6PrPNNlujn4nPvu6664Ypppgi3HzzzWHccceN29wGG2wQs1oIEq6//vrDfd6ffvopnHbaafFxMqoI2jW13JIkNccAiyRJ0kiI4AVdri666KLYXYtuXQRPyPw4++yzwyqrrDJcwIGCxRtttFF47rnnYu2clVZaKUw++eTxsTfffDNmklBf55ZbbgmrrrpqnN8WnBI+/fTTYZ999onBnBQ4qeTiiy8O++23XzjiiCPi3+Tyyy+PARS6sr311lthwQUXDPPNN1987LXXXouf859//gkLLbRQuO222+LoV5IkFVGtkEZr36fS8w2wSJIkdQCyTLbYYouY6UE3rjnnnDPOJ6uDLmGXXXZZDL7sueeeDYIsKcBCN6/GHHPMMWH33XdvdX0cMpzIWKLGzhNPPBG+/vrrOH/ZZZdtNMBCPaBtt902ZjmVd1MjgEJ3MoI9vJaiyd988018bPrpp69/Lctv1yBJUjXUUoDFUYQkSZI6AAELChRfd9119cEV0K2HQrGbbbZZzGKh8GtLUSvnvvvui0GZthQfvvXWW2N3HT7XzjvvHN+vOX/88Ud90KQcXcrIUPnyyy9jgGW55ZYL6623XpxY5hNOOCEu51JLLZW9QpKkrsMAiyRJUjsjC4VgxiKLLBIzOcpRq4T6JQQunnnmmWxuQ3vvvXccIapXr171I0WR1bLMMsu0uY4Jo//Qzahv375hl112qcoQ3FzRo5ZPHvMYvYpsHf6PdVckSV2RARZJkqR2RmCBgMg777wTvvvuu2xuQxQjJvBAnZZKqGtC/RWyQfg7ouqXkCkzzjjjZPcaoosRy0AmSx5dhajbctxxx1l3RZLUZRlgkSRJamcUtKUwbf/+/WONkkpBlmeffTZmsiy++OLZnNrEsqSuROXdmd5+++0w4YQTNhjNiNoz1Jaxa5AkqaszwCJJktTOCDostthi8fadd94Z5p133thlKBXIe+mll8L5558fgxCMsNMUXkOhXKZKBfY6wjrrrBOH/H7hhRfCX3/9Fef99ttv4aabborDN6fiuHw+Rhb6+eef7RokSeryDLBIkiS1MwILFKKdZZZZ4n26DDGaDqMKMRLPhhtuGLp37x670JDFUsnvv/8ei+DS/WammWaKE+9H15sU5OgoCyywQDjssMPCPffcEwv0fvjhh+HQQw+NBXA32WST7Fl2DZIkjVwcplmSJI0UKDR7zjnnhEGDBmVz2o4Mjd122y1MO+202ZyWoQvN5ptvHmux5G266abhf//7X8XgShqm+emnn46FcBmSebrpposZI/vvv38servxxhvH4EtjtVFaIj8cdFPDNCecQj7++OPhgAMOiMtD5grBlimnnDI+noalpssTwRezVyRJ7aFaIY3Wvk+l55vBIkmSRgqjjjpq+Ne//pXda5355psvFpZNEwGItgQzZp111pjJwmfJu/7660PPnj3j8MaNIQhz0UUXxeAK6KJzxBFHhNlnnz1mwVx22WVxfkchYLLCCiuE5557LtaUufLKK+uDK5x0VuoaRFCIkYt4HiMWUbC3qWWWJKkpIyq40hgzWCRJkjoAGR1kvTzyyCMxGEFdlu233z52r0no8kONlvKhnH/44YcYHKLAbB6ncTvssEPMNplmmmnCAw88EGacccbs0dZpbQZLU6gpQxcogiyLLrponEc3pn333TfcfvvtcfmXXnrpmI3DMNFXX311VYaIliSNXEZkgKXSawywSJKUsYHXuRCw6CzywYXevXuHRRZZJM4no+OCCy6IgYZ//vknzttqq63CWWedFYdtbonTTjstvh4Uzl111VXj7daqVoAldQ0iu2Wfffapz14hsLT++uuHAw88MBx88MFxHs+lZst2220X69BIktQaBlgkSZJGMmSlbLnllrFmSqV6JK+//nrYZpttYi0Tus889NBDsYgthgwZEr7//vsYAKxUo+XMM88MRx55ZLzNcMh77713vN1a1QiwcFp5xhlnxM/PiEIpaMl8ugpde+21sTtTjx494nyQ5ULw5YorrmhxUEmSJFQrnNGW96n0GmuwSJIktbMHH3wwjDbaaGHllVeuWOyVYZsJSDBCEFkdDMEMMly23nrr0K1bt1j75euvv47zaxVdg6gFw6hB+YwwujjRFYhlL+/mNNdcc4VPPvkkPkeSpM7MAIskSRopfPXVV2H++eePDf+iE0MOM6pPS/z9999xWGayTyhM2xiCKMstt1y8nYrgEnRgqGO89dZb4YMPPoi388hwSVo7qlE1ERhi6GbqyqQuUAlDTBMcIrgy8cQTZ3OHYp3Qhaqjh5qWJKnaDLBIkqSRwhRTTBGeeOKJ2A2n6PTee++FpZZaKnvnptHtZfzxx48BBDJSmkMAIgUhCMqMN9548fbyyy8fsz3ySE8m8AJes8ACC8TbCf/z3nvvDXfffXeL/ndb8TkuueSSePs///lPxSwdSZK6OgMskiRppMHIPXTDKTqRwdKaIMJqq60WM0169erVaKYGowkRAFp33XXDDDPMEOfxfwisUByW2iVkz+R99tlnsVsOKBbLkM15FMBl/mabbRaOPfbYbG71NdY1KCHARE0ZgjyDBg3K5g5FZstEE00UnyNJUmdmgEWSJKmdUdSVWioUeT3iiCOGyyZ5//3347DGFJVlKOcUvOHvHnvsEfr37x9OPfXUBq/j9kknnRS7Da244ooVi+d+9NFH2a0Q65zQXSnv7bffjqMaMVFsNgVryNC54YYb6h/7/PPP4/xK6BrEMu24447DdQ1KWK7U/YnuUgmZLwwtPffcc7d5SGhJkmqFowhJkiR1gF9//TWO9nPRRRfFrj9ktZCh8uKLL8ZuPgRJ6GbDKELlqMPC0McUv+3evXucx8g7vCfZLQzrXF7bBP369YsZLH/++WcM7iy99NLZI0PlRyBqSvnIPwmnkYwa9Nhjj4VrrrmmYvZKwjKuueaaYbHFFgtXXXVVrL1CQIfAEpk9Cy64YPZMSZJaplrhjLa8T6XXGGCRJKkFvvnmmziMbeq60VK85uOPP47ZBrPOOmvsotISdCeh6wSZBHStoNFdaYjeWpU+/4ABA8L0008fu9W0NEOBU5PBgwfHrImpp546Bg4607I359NPP42jCr3yyivxPuvm//7v/8Iss8zSZLcjtiGyPR5//PGYiTLzzDOHtdZaq9nXtSeCQ9ttt10cYrmx7JU8Pj+ZPEsssURYdNFFw8UXXxz23XffsOeee46wZZAkdV7VCme05X0qvcYAiyRJTSBQcMcdd4QDDzwwDpNL9kFLUBvjkEMOCbfffnsMDhBYIUhDLYzTTz89jDPOONkzG+L/8ZoDDjggBhkmm2yyOJIMmQFXXnllWGGFFbJn1iZOK2hE77LLLvHz55G5cN5554U555wzm9MQr+3Tp09sbBOEoC7H999/H2tznHPOOWGDDTawEV5jXn/99fDuu+/GLJqW+uKLL2IGC9vHxhtvHAMzfq+SpLaoVjijLe9T6TXWYJEkKYfMAAqN0uVi0003jcPebrPNNuHLL7/MntG8559/Piy77LLhhRdeCHfddVdsSFIng1oWt9xySzj77LOzZzZEhgJX8xnmdr311otBGl5H7QzqV+y0004xG6ZWcaLxv//9L37+448/Pg6LzETXkemmmy6uj2WWWSbceeed2SuG4bWsl549e4aFF144LufAgQPjOlhjjTViNxIer9aJlKpj3nnnbVVwBWTsELCkpgxZLAZXJEmdTWPnIwZYJEnKoVYFxT7pukD3noMPPjhmkbQUNSUIEpB1cf/998eMExqQXOXfYYcdwh9//BEDOLx3HiPL0Ojkf1MwlCyXNKoKI7OkQqNvvvlmnFcN1113XTjmmGOye8VRiJV6HOeff34MTo011lhxWmeddcKtt94aJp100ric++23Xwwc5RF0Oeqoo8I000wTgzOpngjr4MQTT4yj47BOXn311ThfkiSp1hhgkSQph6471JMgkEGjny4MBAlagqDJ4YcfHrv0MBJMvl7L77//Xj8CzOijjz7cVfv77rsvdpsgkLDllls2eJxRWhJeWy1k5ZAhUi2sL7pB0b2J4qp5c801V8xCAV1EKJqakOXCEML//PNP7EZE1lDe5JNPHhZYYIG4Xq+++mqzWCRJUk0ywCJJUpUQJHnyySdjQVpGiMmjKwVZMXTzIcsjX4OFAApdkggckO0xxRRTZI8MRdCGrA/qkDDSTK1KwZpBgwbFZSwfEnippZbKboXwzDPPxBFw8MYbb8QMH7BeyoNIBJsI0IACr4ykI0mSVGsMsEiSVAVkqNxwww3x9myzzRazLvIIEjDiC3UnGE0oj25FTCCDoxwBG7oNUQumlkfTYbSjhM882mijZfeGYp0wNC8IvqRMFEYbai4rJb0Xoyq988478bYkSVItMcAiSVIV0O2FGiRgWGIyMQgGnHDCCWH//feP9VhSF6Fy1GQhwEDwgWGJyexgJKF99tknZraU1yupVYz+c8opp8SJ2i7l3aAIpKR1wPpJQZPWdFMiMMP7SJIk1RoDLJIkVcGHH34Ya4mAQrknnXRS2GqrrcKYY44ZC9tuvvnmcTja8iKtZL7k57311lthlVVWid2NZp555nD99deHBRdcMBx66KGxQGwtI2iy8847xynfBSqhW1BCF6pU22aWWWaJf1vq/fffz25JkiTVDgMskiRVwU8//VTfzeXee++N2SsPP/xwfe2UBx98MD5n3XXXjUGUhIwM5oNgCyPpMGoO9VoolEtNF7oGnXvuueGwww5rtitNrfr000/DbbfdFm9TTyU/tC/D9hKIagzL/Prrr2f3JEmSapMBFkmSqiCfVTFkyJBYzDbVG8HCCy8cszYYZefII4+s7yrz888/h08++STeJpCwzDLLxCmh5goBFt7roosuCo8++mj2SOfBcl155ZWxq9OEE04Yh3HO16iZb775wkorrRRvs34INOVR1Pa1117L7kmSJNUmAyySJFUZXYHmnnvu7N5Q1CNhJCH07du30YDBeuutN9woOtNMM02YdNJJ4zDGDFNcPjpPrWP45tNOOy0GV3r16hXXTx7BowMPPDA+/txzzw1Xc6ZPnz4WtpUkSTXPAIskSVWQryPCaDrjjTdedm941Gh5/vnn422eR1FcEGiYYYYZ4u3GvPjiiy0appgRjQjyNDWdfPLJ4ZZbbqn4WH5imGiyctqC0ZHo6jTxxBOHW2+9NXTv3j17pCGCLuedd14s8LvpppvGoArFb8l8ufDCC2M9m2TaaafNbkmSJNWOUUqdtTO3JEkdgNGB6L5CDREa/nTTqeShhx4KPXv2jLcbe96ZZ54Zuwfh6KOPDnvvvXcMKGyyySax6w8BlgceeCAWtc3Lf4bpppsuZsBQt6QpvIZgTFPZLnfddVcMYlCUtinzzz9/LLjbWnR9WmeddWJ9FYr1tuQ9+DxnnHFGXJ989pVXXjnWnrnuuuviuiO755577glLLbVU9gpJkjSyqlY4o7Xv09jzzWCRJKkKCHg0lbXSGEbbaS5rpS34PGuttVbsctTYRJelGWecseJj+aktwZUff/wx7LrrrmHKKaeMXYTy7/H555/HoakrBX/ITjn99NPjyEpvvvlmLO7Le6QaNwxjzWeWJEmqhmrmnBhgkSSpCujmM9tss2X3mke9kWT55ZfPbjWPIA6Fb2sZwRW6BVEzhswVAiR5jCZE15/RRhstmzO0MHB+qOs8it6SkYMePXrEIIskSVKtMcAiSVIVTDTRRGHxxRePtwcNGhS7/pRLdUzoMpMK3mKBBRaINUoYWejrr7/O5g7D6whWgNflgzO15q+//opdehgdiW49LFceWSsUsiULhcK/ySmnnBLXAzVfUn2ahOBK//7943r7v//7vwavkyRJqhUGWCRJqpLNN9881lFhxJvyQAmBBYIE2GijjcJCCy0Ub4MCuWuvvXa8Td2UcgMHDoyZHbz3LrvsMtwoQ7WCFFsK1TJS0FhjjRUDLXvssUf9RB0ZAkTUfplzzjmzVw310Ucfxb8UAP7hhx/ibfCe11xzTfjyyy/D9ttvHxZbbLHsEUmSpNoy2lF1stuSJKkOQQ6yKAYMGBDuvvvuWHCVhj5BErJH3n333VgTZPLJJ49Bj4SuMH/88Ue4//77wy+//BJHzEndeQgqMGoPtUjOP//8Bpkdo446agw49O7dOzzzzDNhmWWWicVsQXebffbZJw5dfMQRR4T111+/ahkczz77bBg8eHB9cKeoyy67LBxyyCEx24Yg0yuvvNJgovbKTz/9FJ9LsKRbt27xNt57771Y6HezzTYL2267bfjXv/4VM3coFnzssceGFVZYIZx11lkxcCNJklSLHEVIkqQyO+20U6wd0pTGRvyhiwwBAYIBk002WVh11VVjoKZfv36xC9Hll1/eaFFbCrtuueWWsRbJsssuG6aYYorw8MMPx+5Gxx9/fPjPf/7ToG5JUYxqxGdrbGSk1mrJegPBpQcffDDMMccc2ZyhgaQtttgiPPXUUzHARE2bJ598Mq4L3pdRlygILEmSlFQjnNGW92jsNQZYJElqBwypfPvtt8dsF7Ix1lxzzVjMtrkACQEaRti57777YjYMhXPpUtTcsMxtUe0AS1GVlp2MnZTNI0mSlGeARZIk1YRaC7BIkiS1hgEWSZJUE7755ptYK6axLkuSJEm1zACLJEmSJElSQbUWYHGYZkmSJEmSpIIMsEiSJEmSJBVkgEWSJEmSJKkgAyySJEmSJEkt0FTNFgMskiRJkiRJBRlgkSRJkiRJKsgAiyRJkiRJUkEGWCRJkiRJkgoywCJJkiRJklSQARZJkiRJkqSCDLBIkiRJkiQVZIBFkiRJkiSpIAMskiRJkiRJBRlgkSRJkiRJKsgAiyRJkiRJUkEGWCRJkiRJUqdSKpWyW7XDAIskSZIkSVJBBlgkSZIkSZIKMsAiSZIkSZJUkAEWSZIkSZKkggywSJIkSZIkFWSARZIkSZIkqSADLJIkSZIkSQUZYJEkSZIkSSrIAIskSZIkSVJBBlgkSZIkSZIKMsAiSZIkSZJUkAEWSZIkSZKkZpRKpexWZQZYJEmSJEmSCjLAIkmSJEmSVJABFkmSJEmSpIIMsEiSJEmSJBVkgEWSJEmSJKkgAyySJEmSJEkFGWCRJEmSJEkqyACLJEmSJElSQQZYJEmSJEmSCjLAIkmSJEmSVJABFkmSJEmSpIIMsEiSJEmSpJFOqVTKblWHARZJkiRJkqSCDLBIkiRJkiQVZIBFkiRJkiSpIAMskiRJkiRJBRlgkSRJkiRJKsgAiyRJkiRJUkEGWCRJkiRJkgoywCJJkiRJklSQARZJkiRJkqSCDLBIkiRJkiQVZIBFkiRJkiSpIAMskiRJkiSp0yiVStmtjtPc/+RxAyySJEmSJEkFGWCRJEmSJEkqyACLJEmSJElSQQZYJEmSJEmSCjLAIkmSJEmSVJABFkmSJEmSpIIMsEiSJEmSJBVkgEWSJEmSJKkgAyySJEmSJEkFGWCRJEmSJEkqyACLJEmSJElSQQZYJEmSJEmSCjLAIkmSJEmSVJABFkmSJEmSpIIMsEiSJEmSJBVkgEWSJEmSJKkgAyySJEmSJEkFGWCRJEmSJEkqaJRSnex2ePTRR7NbkiRJkiRJtScXxggrrrhidqv18u/TnOaey+MNAiySJEmSJEm1rFphjNa8T3PP5XG7CEmSJEmSJBVkgEWSJEmSJKkgAyySJEmSJEkFGWCRJEmSJEkqyACLJEmSJElSQQZYJEmSJEmSCjLAIkmSJEmSVJABFkmSJEmSpIIMsEiSJEmSJBVkgEWSJEmSJKkgAyySJEmSJEkFGWCRJEmSJEkqyACLJEmSJElSQQZYJEmSJEmSCjLAIkmSJEmSVJABFkmSJEmSpIIMsEiSJEmSpE6hVCplt4ppzfs099z0uAEWSZIkSZKkggywSJIkSZIkFWSARZIkSZIkqSADLJIkSZIkSQUZYJEkSZIkSSrIAIskSZIkSVJBBlgkSZIkSZIKMsAiSZIkSZJUkAEWSZIkSZKkggywSJIkSZIkFWSARZIkSZIkqSADLJIkSZIkSQUZYJEkSZIkSSrIAIskSZIkSVJBBlgkSZIkSZIKMsAiSZIkSZJUkAEWSZIkSZKkggywSJIkSZIkFWSARZIkSZIkqSADLJIkSZIkSQUZYJEkSZIkSSrIAIskSZIkSVJBBlgkSZIkSZIKMsAiSZIkSZLUBqVSKbtlgEWSJEmSJKkwAyySJEmSJEkFGWCRJEmSJEkqyACLJEmSJElSQQZYJEmSJEmSCjLAIkmSJEmSVJABFkmSJEmSpIIMsEiSJEmSJBVkgEWSJEmSJKkgAyySJEmSJEkFGWCRJEmSJEkqyACLJEmSJElSQQZYJEmSJElSzSuVStmtjtOa/2mARZIkSZIkqSADLJIkSZIkSQUZYJEkSZIkSSrIAIskSZIkSVJBBlgkSZIkSZIKMsAiSZIkSZJUkAEWSZIkSZKkggywSJIkSZIkFWSARZIkSZIkqSADLJIkSZIkSQUZYJEkSZIkSSrIAIskSZIkSRpplEql7FZ1GWCRJEmSJEkqyACLJEmSJElSQQZYJEmSJEmSCjLAIkmSJEmSVJABFkmSJEmSpIIMsEiSJEmSJBVkgEWSJEmSJKkgAyySJEmSJEkFGWCRJEmSJEkqyACLJEmSJElSQQZYJEmSJEmSCjLAIkmSJEmS1EqlUim7NZQBFkmSJEmSpIIMsEiSJEmSJBVkgEWSJEmSJKkgAywjsZ122ilMMMEEcZpyyinDK6+8Eud/8cUXYe65565/bM011wy//PJLfKyr++STT8Jyyy0Xl3uNNdYIn332WfaIJEmSJEmNqxhg+e2338L1118fllhiifpG9qSTTho22mij0K9fv+xZxdCYp1Gf3p/Gvhr69NNPw7HHHhsWXHDBMNFEEzX4LpZZZplw3nnnhb///jt7du359ttvw7nnnhs/K585fX6WhWU66qijai5wc84554T+/fvH208//XS4/fbb421JkiRJkpoyXIDlww8/DMsvv3wMeLz11lvZ3BD++uuv8MADD4Tu3buHO+64I5ur9vDrr7+G/fffP2aRnHrqqeGDDz4I//zzT/bo0O/itddeC/fcc0/4448/srm1g8939tlnh9lmmy0ceuih8bMyL2FZWKabbrop/PTTT9lcSZIkSZI6r+ECLD/88EMYOHBgmG666cLpp58eM1aeffbZsPXWW8fHaRwfeOCB4eOPP473VV0//vhj2GSTTcJFF12UzelcCKTsu+++4fDDD28QVOks9tprr7D44ovH2yuttFLM2pIkSZIkqTnDBVhGG220cMQRR4SXXnop/Oc//wmzzDJLzKSg68SOO+4Yn/P555+Hd955J95W9RCQOOyww8Kjjz6azQlhjDHGCIccckh4++23Y/CLAMxHH30UrrrqqjDvvPNmz6oNjAFOt6Urr7wymzPU9ttvH7vdfPfdd/HzDxo0KNx2220xgDHqqLVVBmjaaacNffr0iZ+zd+/esRubJEmSJEnNGa51O99884Vdd901jD322NmcoUYZZZSw8sorZ/dCeP3117NbqpbHHnssBk6SCSecMNx7773hoIMOClNPPXX8DjDJJJOE9ddfP5xyyilh3HHHjfNqAV3KyHpKCJ5cccUV4YwzzgjdunWLwTvwmVdZZZXwv//9L0wxxRRxniRJkiRJnVmr0gfyXT7IbOlIZEe89957MbsmX/SVv6uttlp46qmn4nPyzjzzzPrCqkwEK2699dYw88wzx/v33Xdf9swQvvnmm5gpMv3008fHyFw48cQTY7ZIfkSdSsV4WS+33HJLg6LAU001Vfjvf/8ba9q0BMVqCa7kl4EisLxna9B1a/fdd4//P30W3uOGG25o9y47rAOybBLW1QYbbFAfGGpKe3+/ePfdd+N3MsMMM9S/huK7m2++eRw5CeXvmX+PSqMu0X2OwGOaz23mVTJkyJBYx2j11VdvUPR3nnnmicWM02fIq/R5GNlom222qV9HjHY0YMCA+Hzq9xx55JH12zF/2Y4pXJ3XlvUtSZIkSWpciwMsNM5pvILsFhqpHYkuJoxGc9ZZZzUo+spfGrQ9evSIhVWbahTS5YPuKoMHD87mDPXqq6/GoXnJqEgBAhqkNEz33nvv8Pvvv8d5lXz55ZehZ8+eYbvttmtQFJiG7rXXXhuWXHLJ2KhuDiMG5RvmNIxZppZiuRn5aeGFF46BGv5/wueiexfLTteX9vD999+Hhx9+OLs3dBvZdNNNWxRcQXt+v2y7BBIWWWSR+J3wWRMeo0tQpeBGc/g9/Pvf/w4vvPBCNifE29RtSSMRJWwnZB3x2DPPPNMg2MXQ0BQzXmCBBZrdVnj/ZZddNnaxSuuI0Y5YP88991ys30NQJm3H/GU7JniYH3GqGutbkiRJkjRMiwMsZAek0YO4Ys5V91pD95R8kKMcWRypIZkQcDjggANigKMSggblDfaEIAzZIvmaKeV4DkWBG3v/hCGN88EPMoTIJmgpPgPZGU1lqRCAuOyyy7J71cVwywQREjI8pplmmuxedbTl+yVAQF0YAgnVxPdKXaJK65ugxtVXX10fnGDdEOBqajsB77nDDjsMF5zJYx2QbVWOeeuuu26j/4OAzPvvv5/da5nm1rckSZIkdTatuYjc2gvOzQZYeEOu+jOKEI1XGv7HHXdcLL7akajfseaaa8aGIlf8CUZQNPXuu++urxdDw7ax7hngM9PY5nVkLJAJ8OSTT8YMgGT++eeP93kvhhdeeumls0eGRzeKfMYB2Ql0KeL9b7755vrPRYbAgw8+GG83huAEDeyEmivjjDNOdq9pqbGfggvUbiG7gs/B5yFzIiHLpVIDvaivv/46/r+EUahaUx+mvb5fus6QiZHwHLpeEfDif9BNhiGxU32Y1lhqqaXiNsL/I/spX7CX+QRWQLeeRx55JN5GfhvjcxLgS5h34YUXNvpDpvsTBaj5n3QFykvDe7MtERhZdNFFs0dCfD6jgyXVWN+SJEmSpGGaDLDQcKdrAZkRNN5pNNP9hO4rHY3iu5dffnmYaaaZwk033RQL8S6//PKxFkU+MEGjsDG8ZosttoiNS4IX448/foOG75hjjhkLsjI6D11bZpxxxnDSSSfVNzjLEVxJDWGyNeiGQgFa3n+FFVaI3Y6Sl19+ObtV2eijj57dGoogSFNdk/JoOOfff5dddgmrrrpq/Bx8HtZR6qpDYIFRoKqN/8WUkPXT0s+P9vp+6Y6TDyhRGHifffaJ9UZAkd399tsv/v/W4Pvit8E2wv+j1ky+Xg5Bi59//jnezmeVlG9jfE66oREMSgjcEbCq5OCDDw6zzTZb/J9bbrllXF8Jv0u6SLG9MhrSzjvvnD0yVL6LUDXWtyRJkiRpmEYDLFzNZphmMgKw0EILhfvvvz9efR8RCCIQNKDGyL777hu7YJAl0Fj3nUrIOMjXBCEAkC9CS3ZAefFeisVSkLRc+WsJWtBopeHORMM9n7XSVNcdTD755A0COWSe5LsMNYX/na8rQs2N9DmY6DqSAkEUWmWqNj5/vksTQzHnuww1pz2+X+S7uEw88cQNAhlFkAnDuk3I1iEAWY6sknzmSKVtjNfmg5YEQsq7OiUEjZLy/0mwh+ylJP/cctVY35IkSZKkYSoGWAiucHX8zjvvjPcZZYVuDh1d2DahqwVX459//vl4nyAPmTRvvPFGzFBoa60PAg35YrAEOPJZGE0pf21RNLBpICfvvPNOg+yaphDsaW3fsGojuMJoSwmZD3Q/acnnaq/vFy0NUhVFYKc8C6lWtef6liRJkqSR1XABFjIt6Prw+OOPx/vHHHNMrC/R0nog7YFRflItCIIg1BuhrghBCa7itzUjg2Wi1klCrZTy7jMEOiqNMFOedcBt6n3QoK80XXTRRdkzK6MrD1008uiexGdqDsuQz345+uijK34GJrJKGJa32sYaa6w4vG8ey5wa8U1pr+8Xc845Z3ZraOCQoZU7EttYPjBZKbOH74UhpBOygVif7aU917ckSZIkjayGC7A89thj4brrrou3KaK55557tjiro73Q/SXVj6A+BEPV0ghk5J1jjz22VV1R8sg6oBZGQtYF9Tk+/vjjmHlBQ3S33XZrULsir7zmBq+laGpqoPL5KBBMUeDm8Fmon5HvjsSoL9Rx6dWrV3wv8Lmoz8H78tnIRqBhnM9+ITBDMdtUZJWgGd0/qDXC3/ZCI32uuebK7g1dnxRS5fMQWEjZLMy/5557wlZbbRW++uqrdvt+wVDE1D1J9thjj7huUn0YatJQO6c918uKK66Y3Rq2jRE4Y32QBUWA48UXX8yeEcJiiy3WoKtPtbXn+pYkSZKkkVWDAAsNPkaf4S/dHRgVhaGZGd63fMo3CAkuEAigmwg1W1JDujVo9ObrhqSJBjrvm8/QYKQU6mlQoPOWW27J5rYNQ07ngxqM7kItFRq41Osg2NKYtddeu0FAgaGsqWnBZ+Oz8/koEMz6aQnei+GE86PR/PTTTzGQwnvxnnwuanjwvim7hc+/0047xdug0cx9Mlt4DY8TaKDORntmJ5B5cf755zcIDhDcOeGEE8Icc8wR5/N5CAhtuummcRui1kh5Bk41v19qB2222WbZvWHrhho5fBa6NZFp057rhcyefJCFbYwsItYHNX4ovJtwnyLF5bVkqqk917ckSZIkjawaBFi4mp4CClzhJoOFLINK0yWXXBKfBxpl/fv3j43lSy+9tOqFMhk1hVF5KqGWRKXioi1FUIOisPmgRh7Bjcben4ACQ+pWKoLbVhSkJajV2vfkOyEDZkRbZJFFQp8+fcLss8+ezWkewZf2+n4pRksG0XrrrZfN6XgEci644IIY7GkK3/k111wTC+G2p/Zc35IkSZI0sqocVWilDTfcMCywwAIxSLHDDjuEySabLHukOrjafuWVV8Yr+zSYwVX4K664InZhKmrjjTeOXVaWXHLJ+kALQR0yPghaNDUCEI1muhJRq6Zbt27Z3LoVW/c+NJQPOuigGMBpDRq/b775ZrjsssvCoosuOlz9GxrAZGXwP9NjrBeG/+3bt29YffXVG7yGDKCVV145Dsfb2uGI24IG/HPPPRduvvnm+H/zowuB7YNA0plnnlk/elJ7fr8EOHgvPk/+OwbfGTWHWhMQaguGTWYULr5TglDln4Hvku1o8cUXz+a2n/Ze35IkSZI0Mhql1Jb+PCMRsjF69uxZ3+2JArJ77713vC1JkiRJkjpGNcIXrXmP5p5b/nhVMli6Kup1XHzxxfUrjboY7TECjyRJkiRJ6twMsNQ57LDDYiAljXTDRAHZbbfdNnbrSOjawSRJkiRJkpRnF6E6jCrDKEZNoWYGw1czqpEkSZIkSepY1QhftOY9mntu+eNmsLTA+OOPHwukGlyRJEmSJEmVGGCpwyhCjHaTH3mHjJV55pknHH/88WHAgAFh1VVXzR6RJEmSJElqyC5CkiRJkiSp5lUjfNGa92juueWPm8EiSZIkSZJUkAEWSZIkSZKkggywSJIkSZIkFWSARZIkSZIkqSADLJIkSZIkSQUZYJEkSZIkSSrIAIskSZIkSVJBBlgkSZIkSZIKMsAiSZIkSZLUCqVSKbs1jAEWSZIkSZKkggywSJIkSZIkFWSARZIkSZIkqSADLJIkSZIkSQUZYJEkSZIkSSrIAIskSZIkSVJBBlgkSZIkSZIKMsAiSZIkSZJUkAEWSZIkSZKkggywSJIkSZIkFWSARZIkSZIkqSADLJIkSZIkqcsrlUrZrea15rmJARZJkiRJkqSCDLBIkiRJkiQVZIBFkiTp/9u7DzAnqrWB48deESvYxS72fu3X9tk7eu0oYu9eu2Lv1957w96xYe+KegF7b1dRBBSxISoC+fZ/mFlDSLLJJrsky//3PPNsdmZSZjKZ8s573iNJklQhAyw14LPPPgu//vpr8l9+Tz31VLj88svDX3/9lYypf3/88Uf4/PPPw6uvvhqGDRvWrDZutWTEiBHhk08+KXk5mI/lZvlZD6yPejd69OgwePDg8Pzzz8dl+u2335Ip+Q0YMCCcdtppYeDAgckYSZIkSapPkzRc5NX3VW0dI6hy9tlnx8DJHXfcETbeeONkyviOPPLIcPXVV4dpp502zDzzzHHcQgstFDp16hQfZ5tpppnCv//979C+fftkTG0hEHHSSSfF5ZlxxhnjMnFRzvJcc801Yfnll0/mrA/8hPr06RPX+SyzzBLuueeeMN100yVT83v55ZfDAQccEL766qsw++yzx3Xyyy+/hIMPPjgce+yxYZpppknmrA+sgyeeeCLsv//+YejQocnYsVZaaaW4jS+22GLJmL8999xzYauttgqTTDJJXA+TTjpp3H6XXXbZMNlkkyVz/W3PPfcMSy+9dPKfJEmSpIlJpeGLcp7f1Lz5phtgaUU//vhjePHFF0O/fv3iBfabb74ZxowZE6fdddddBQMsZDbssssu4cknn0zGFLfkkkuGRx55pDEQU0sIIrAsrAcuunfaaad4cU0GQ/fu3UPfvn3DjTfeGLbYYovkGbWJ75Dv75VXXgkvvfRS+P777+P4NdZYo8kAy4MPPhh22223sMoqq4Sbb745dOzYMWZ+3HbbbTHAsu6664abbropzDDDDMkzahu7kMsuuywGC88777yw9dZbx/Fsr8ccc0z45ptvwhRTTJH3e73hhhvCoYcemvxXHMGXhx9+OKy55prJGEmSJEkTk0rDF+U8v6l5801vc02EyIRYfPHF48VpoYEL2rfeeqvJ+clG2HDDDeOdeS6AK/Xtt9/Gi1AusBdddNGY8VAKAizpBXxTuAg9+uijqxJcIQi07777VrXpyvXXXx+bj5CJkAZXMNdcc4ULLrggZrOcccYZJS9vKVpiOe67775w4YUXxiYuvHapWRUEG8jeadeuXVxetkWQrbHrrrvG9fL000/HIE29ePvtt+OyXHHFFWHHHXcMU089dRwIprCe+B3RtO2II44IX3zxRfKssVgfperatWsMSkmSJElSLbIGSxFcFFIfY7vttgvdunWL2ReVWGKJJeLrvfPOO+Gqq66KTSdKQR2L4cOHx8AMnyHfQL2Lzp07x4vYamV/0ISJAEI1gkv47rvvYpYGQZVNN920MbiSWmCBBcI//vGP8OGHH8ZMhWqp9nLgrLPOCh988EF49tlnY7MYAnKl6N27dwwysJwsb7bs9ULzqR9++CGZUtseeuih+FmPOuqomNWTjW2S3w4IZpKplSLiSxOpgw46KGZ35duuf/7557DffvvFZmMnn3xyzISRJEmSpFrUpgMsCy+8cLj22mtDz549xxloljDffPMlc/2NgAeZLVwk3n777WGfffZpvKDr1atXzKyoNCWpOYYMGRJrlRTKkiAQRKFQsiFoYpIbuKgVNKuhCCzNZ2adddZk7N/IeiDbAQQi2kLR12wEytiOQL0RljcX9UcY//HHH8dAXD1IC9QOGjQoZrKMGjUq/p9addVVk0chBhipNwPWB9v2+uuvn7feCgje3H///eH888+vySZvkiRJkpRq0wEWAg6bbbZZLKKZPZAlwIVsrqmmmio+Z8EFF4zPO/fcc2PzoLTgKBkkZEK0Nu7izzvvvAULnxKMeOyxx2KQpdRMigmBAAsIFs0222zxcS6aCoFADBkMbQnNnj799NP4mG0sH9YN3yGBvPfffz8ZW9uyCy3z+8kNlvBdp9suwZc0SPn777/H31yHDh3i/7m+/vrruE0TNFxhhRWSsZIkSZJUm6oeYCGNn6YwXCTyl//rGb2ZbLDBBvExd+hza0i0hnXWWScWCKU+SS4+zwknnBCLiy6zzDLJ2NqTNgdpCrVJQGYDNWvaErpkbipoRPZKmjX17rvvxr+17pBDDgn/+c9/4nDqqaeOl0FFYIlgCtiG0wAMgRdqtLCfyEVWVo8ePcJqq60Wa9xIkiRJUq2raoCFXnBoIsCdZ/CX/4t1P1zrJp988sbABkGCtNkKvfRwt55itbl1J1oLF6300rLccsuFTTbZJBlbm2gWQoCqVKxn6nK0JQSN0kBDKahrUg/NpPh9EARhyBcEpFlQimBlvqZRuWjK9/rrr8cehqy7IkmSJKkeVC3AQqYKXdbmw/h6zWShSUNaM4JgC004qB1BjylcLBM0oKvdCYH6FC+88EI44IAD2txFaHYwa2LFdldqYV5qttArFc1pKh3oPpsMkmqglyBqqICCt2kXzsWQlXXOOefErqxzCwFLkiRJUq2qWoClqW5lJ0S3s3TPO8ccc8TmStkDxWtLRc0MXgdc7FE7gyKt9BxDXQlenwvB1kazC7KDqE2Rr4mFJi7UMilUKLYYnrfGGmuEddddt3GgmHI1CiUTJLvppptiwKR9+/YxKFmo9k6K59CDEnWH6jnzTZIkSdLEp2oBlrRZUCFNTa813MF/5plnQpcuXRq7y915550bC3JSBJcmH2QO0ESntZG9QnfGq6yySgz4aOJGoVmKMl9yySVlDTznX//61zhFoNdcc82YrVUptlFqAxFcoclPKYVqP/roo3D33XeHxRZbbJziuZIkSZJU66oWYJlnnnmSR/k1Nb0lFOqmea+99krmGFd2xgvdBdOcgSYO4MKze/fu8fGERqHU2267LT6mCG9z9OnTJ2YqLL744gUHMn2YjwvjfNPToVu3bo3NqFpbW1mOtqZ///7hwAMPjL11UciWQs2loBtrApoLLbRQDMxIkiRJUr2YJENOfhVQY4UmK4VQH6I16rAMHjw4NnMgMELTB5omFcvwyJ4/n1lnnTUWkuXiu9p1Tuhaefvtt4+P77rrrpKbRPz3v/+NRW1pEsJrLL/88smU0v36668xoPTnn38mY8b3xhtvhEcffTQcddRRsSlJITSbWnLJJYs2K6GWDeuQrq7nnnvu8Oyzz4bZZ589mfq3Cy+8MJx00kmx+RVdZDcVQGrt5ciHmjzbbbdd/BzFtjmKvdJFOOvilFNOCYcddlgy5W/Z2+OOO+4Ym8vUG7LVtthiizDllFOGO+64o+Q6KgQOCWTSnfeJJ54YjjjiiGSKJEmSJI0tKVCJcp7f1Lz5ple1yO3qq6+e/DcuxtdDkduVVlopvPXWW+GTTz6Jw5dffhk+//zzsPfee9dUEVmKBo8cOTIGWJr7uegOmYBOdtOQ3GHVVVeNPSXRHCrf9HRYaqmlmgxK0OQkX0AlFwETkEVEQeGmtPZyVGLmmWdu7Ia6EAr7pgVm55prrvi3nhAkoegy65smQtnBFbrdfumll2KAKR9qtbz//vvxcSk9DUmSJElSLalagAVkU5CpkjYH4i//M74ekN3AhSGBAAYuiFvygrs5uDglIwMEIJoqGlpLCGCBJiBkauQzcODA+JcLc7KH2hK2rbSuCLVG8vnpp59ikALlNP966qmnxinkXMlADZbmdJHN56ZZ0JgxY2LmCsubjd6EKHpbqBgvQc20G2uyiSRJkiSpnlQ1wAIyVbgLzcUWf+shc6We0LsKhXXr0TLLLBNrcpChkV5IZyN7Iy0ovPbaa4fpp58+Pm4rCIitvPLK8TG1XvJlchDYYD3MOeeccX2VimZFZFul2VeVDI8//nj8nsrBd9qjR48wfPjwcPvtt4/3fJb19ddfD/PNN1/BoGXfvn2TR5IkSZJUf6oeYJlYPPLII/EO/aKLLhrefPPNZGzL40KWi9h6RFbC5ptvHi+2X3vttWTs3+iV6b333ovFTbfccstkbNtCT1TUlyEL6bvvvkvG/o31Qls+mjPNO++8ydimkRVCNlOafVXJUG6vVHzeyy+/PBaQpmkPgZaDDz64cSD4Q22bhx9+OPYOVEiauSNJkiRJ9cgASzNQ1PSKK66IWRiDBg0KN998czKlOOanKQc9pdx7773h+uuvT6aM7T0lHYrVqaBpTZrlUW+ow0KTMS7iKYhMTzMpAkfnn39+rNNx+OGHh86dOydTahNZROn3dcMNNzQuy2effRbuvPPOxmksTzayUg466KBYCPbss89urLcCXoPtikDUIYccUnPN0wphOyZTjaZBBB5pBpQ9ULSW9UAgplCTNn5T9daVuyRJkiRlM8DSDNzh33///WMmAt0677bbbsmU4mjew4Vz165dwx577BGefPLJZEqINSsYz3DWWWcV7BWHphdp8wua0NRS8d1SUFuF4BLFXjfYYIOY4XDVVVfF3ne4GD/00ENjkdRaDy707t278fs6/vjjG5s8EQCjd6B02ttvvx3Hp1iuo48+OgZZWF6Wm+VnPbA+qPtDwG5CdGveXDTtIbjSFJpI0fQpH+ofEXgD68git5IkSZLqTdW6aVbr4Ot67rnnYuHg7t27F21yUSne49JLL22yq+vmICBBN8wvvvhizNZZeOGFY1fH6UV2NbXkclSCXnPIdiEoQ4CBrrfXWmutgkVg27oBAwaEK6+8MqyyyiqxidTEuh4kSZIk5Vdp+KKc5zc1b77pBlhUUK0GJsrVVpZDkiRJkiZmlYYvynl+U/Pmm26ARQXR080333wTs0vqpR5IPm1lOSRJkiRpYlZp+KKc5zc1b77pBlgkSZIkSVLNqzR8Uc7zm5o333SL3EqSJEmSJFXIAIskSZIkSVKFDLBIkiRJkiRVyACLJEmSJElShQywSJIkSZIkVcgAiyRJkiRJUoUMsEiSJEmSJFXIAIskSZIkSVKFDLBIkiRJkqQ2LZPJJI+a1tS8haYbYJEkSZIkSaqQARZJkiRJkqQKGWCRJEmSJEmqkAEWSZIkSZKkChlgkSRJkiRJqpABFkmSJEmSpAoZYJEkSZIkSaqQARZJkiRJkqQKGWCRJEmSJEmqkAEWSZIkSZKkChlgkSRJkiRJqpABFkmSJEmSpAoZYJEkSZIkSaqQARZJkiRJkqQKGWCRJEmSJEmqkAEWSZIkSZKkChlgkSRJkiRJqpABFkmSJEmSpAoZYJEkSZIkSaqQARZJkiRJkqQKGWCRJEmSJEmqkAEWtbqff/45DB48OA6//fZbMrY8n332Wfj111+T//IbMWJE+PHHH5P/xjd69OgwaNCgkMlkkjGamE0M28vzzz8fTjrppPgbLMcvv/wSzjrrrPDUU08lY+oD39WwYcPCq6++Gj7//PPwxx9/JFPqC5+bz8/39+2334a//vormVJ/2G+zPRXCsnFsKAXf74cffhh+//33ZIxUf3744YcwYMCA5L/8mH7aaaeFgQMHJmPaHpbt2GOPDe+8804ypjTsB+6+++5w8cUX190+nnPgDz74IPTv37/s43ItKmVbzsZ5Ffv7l19+OXzzzTd1e2zjuzv99NPDe++9l4ypDOejn3zyidcndWyShi/Pb0+tgqDIPvvsE/r16xdmmWWWuANhWGSRRcL5558f1lprrTDJJJMkc+fHyfnZZ58dLr/88nDHHXeEjTfeOJkyvsceeyxsv/32YeGFFw4bbLBBWGGFFcLkk08eT+5feOGF8OSTT4blllsu3HnnnWHaaadNnqWJVVvfXr744ouw0UYbxWV69tlnw+yzz55MKY5DxBlnnBH+85//hFNOOSUcdthhyZTaxgnbAQccEL766qu4rOxr+C4PPvjgeBI/zTTTJHPWLgIHBLYuueSSMGbMmGRsCJNOOmnYa6+9woknnhjatWuXjK0PF154YQzy8VvacMMNw+KLLx7Hf//993G75He24447hssuuyyOL4SLMbbHRx55JPTu3Tssu+yyyRSpPnBx+eCDD4ajjz46rLvuuuHqq69OpozvueeeC1tttVU8R2J/xj5gpplmitv9ZJNNlsz1tz333DMsvfTSyX+1jwtrPvMDDzwQ7rrrrqLndrn69OkTtthii7DyyiuHe+65J0w33XTJlNo1ZMiQ8O9//zvuvzgf5rjMuFVXXTVcc801Yd55503mrA/lbMvgvOL++++Px2OCYh07dow3QxhPILF79+55t+ta9fHHH8fzRm7S8fvk++QcY8UVVwxTTTVVMtffNt988/B///d/yX9/Y/nZntk22C7qZXueECoJX5Tz3KbmLTi9YYJUljfffDPToUOHzN57752MaVq/fv0ynTp1yhx++OGZhoucOG7UqFGZm2++OdO+fftMw0VCpuHEO9NwERGnpRp2uJlevXplevTokVl77bUb52VoOKlO5sqP6em8+YaGg3Hm888/T+bWxK4tby8jR47MdO3aNS5H586dM4MGDUqmNO2VV17JNBzo43MvuOCCZGxtY5/BvqLhAj4zePDgOC57f7P11ltnfv755zi+VvH5+Jyrr7565u23346fv+EEPHPmmWc27gfZJgcMGJA8oz6wDaW/qXzDlltuGff7uQYOHJhpuPDKNJx4xuVO5+dYxDFpYpGuv6aOf6o9f/31V+bFF1+M5zo77LBDpuGisnE7bup86vrrr2+ct6mB/QPvU0/uvPPOxs9fzrb9ww8/ZP75z3/G52288caZ4cOHJ1NqF/vsZZddNjP33HNnnn322WRsJvPuu+9mllpqqXiu/MYbbyRja1Ml2zLn+TyPeffcc8/Mb7/9FsePGDEic8YZZ2RmmGGGzKGHHhrPW+oF3yOfO10HTQ2ci6T69u2bueaaazK77bZbZoEFFmicp1625wmF7ai5w+jRo0seOPcqNvBbyDe0qSZC3Blr2MBLHjbZZJPGJipkVqTjifoXS3EjnY27brmvUa5yPi/vV2radK0hOk2GCpFdoroMIDrdpUuXsNpqq8X/uVPbcCERH6dIhydjhcj4oosuGqO6lZpiiili1Pzpp58ODTuzZGzrKPSdzzjjjDH63XAxW1FUVtXXktsLWRb77rtvi6c1c6eIO4Pl4o7ScccdFxpOdJIx1cVys/ysh2ohzZgMiYYTlNBwMRrvjIH9za677hrvkvJdcmeoWlpiORouqML//ve/mKnHMYnP36FDh5h9w/4UNI/p0aNHXTcZSvF9nXvuuXF5uTOfizuEJ598cmwm1XBBFb/LWsJ++6233goNFwbxWJXu27kLyR1dtjebMk3c2I/ecMMNMUOB80Z+y7POOmsytTj2a6Xq2rVrWGWVVZL/mo/9/0477RSzj1sS2ZUnnHBC8l/p+M1dccUV4Y033kjGVN/tt98eTj311OS/yjVckIVzzjknNvlkmddZZ51kSghLLrlkPGax3jkfrub+otrLUcm2zHk+y0f2OtmxaUYwGR9kyLK/vPHGG6t6PG1pZGCWeu6+9tprx2y01H333RevDbju5DyinjLPlB/bgjVY8vjyyy/Deeed1+InrZx8zT333OMMXMyBHVX2+HnmmafZ6XIENthp77777s0OBlXip59+iieeY8aMiQfD7J0mqW8sGziY5O5Ql1hiiVg/gTa5V111VVhppZWSKaWZY445YnCmZ8+ecXj99ddjoIq2kpzQTygcULK/36mnnjq89tprMS2WdsQGWSaM1t5eaPLGQXX06NHJmOrj9bkg57dUDrZBTnLYf7RUcxqWm8/XVD2lcvTu3TuesP/jH/8YLyBGev2mm24a/5LCTHvxaqj2crDP7NWrVzwJJ6icW7OEwDRNbPDoo4+GN998Mz6uF+zHSY3nN8aJPyfcrD9udBTa1rgQSWsV0FxtoYUWSqZMeKT277LLLrGZKxcdQ4cObdy3c0ynWeyBBx4Yg0SaeHHcZ5/KdvzQQw/FJqkc+5vCvpimjgcddFDcH7M/yB2oAbHffvuF5ZdfPgYi03PJSnARzfsOHz48GVN9nGcTWG3fvn3jzbdSsS+g9kp6DtkS+G1Xs+4NdTU4xyCITKA4F/t1ArRPPPFEPCeslmovRyXb8q233hrP99mnc9MgG/t/ms9wvUApgJa++VQtHL+44c56zvf7ZCCIMuecc4aLLrooXv+lCDaxHmkiu//++48zTfWrTQVY2Lh7JhdGDNdee22spwB23rRjz55OxDVf2zgwvaULOtLGkB9V9rDtttvGHQx3nLPHs7OdbbbZkmeWhwMkEfPvvvsuGdO62BGn9R64sCl2EE0j2dVCUKpz584xWszA42qceFSKdqrZ3y8Hvttuuy1+91zM9+3bN5lTralWt5fm4uSVg/fqq68ettlmm2RsaTh5vfnmm+PFLHfh6wEBZAITYJ+T74SPE1vGc7FbbjHF1sJJJXfEwL7/8ccfj49TZLwttdRS8TEXQf/973/j43rBcZcaR/zGNttsszD//PM3+wbChPb111/H2kYPP/xwDLDQfp4AS7pvJ0DLX4JH9bqMmrDYr3Hhtv766xfchrjI5byRYPrMM8+cjK19fG4CrGQdlnOs5YKVGlTUolpjjTWSsbWP/TnBMK5J8mXqcWziBiuBCG4WtDV0FEC9O8w333zxby5udIHzYK5fah3fFdmkZKEXukHA+RTZ+FyLtXbmvCaMNhVgIeqbXhilJ25pejh3nzkJyp6+5pprjnexTwCAnTzRUwropSe5aj6isaS7H3HEETEVjvS4FHdGyBjClFNOGVMkJ0acNBG1J72cC6YXX3wxmSI1X3ryym+vnLuD2SevyyyzTDK29rG//vTTT+PjBRdcMP7NRXCCfRInRe+//34ytrbkBqXzXTBlL19baCJUj/idUEiZTCNu2NAMj2MY31k2MllIz0+DYlI5uNtPUDL3bn+KIB+FQWnKSuCyXnDXnwtOmjnyGykV+25uoHKuvsceeyRjax/Ng9LmTCxvvuKlfM/pDQ1uAlCcvS0hYEKQBcWO0ZyvkK3FNlLr+H1yzciNgnw4TnA9yTUpGbSaOFQ9wEJqIqnonMDyl//rCdHjvffeO54gEZEkjZyduSrDjocLNu7AZJ98cmePyC622267xrT3lsBdYe4m1nLKYdoTRnqRqAmnHraXYrJPXueaa65kbNPq9eQVtF3nZKYY9vHpndJ33303/q01uUHp9dZbL5nyNy7qU9wNrVfcnSe7sh6DRNRVoSbMzjvvHL+rcu7AS6Uie5n9QL5mnvxu2MdTy476DfUiO7uSO//lSLMrCVrWUw8rnEs0lUlOYCHN5Kb2TVPHs3rDTRACTcWQBZLuS6vV7XFLSptLZdfTSXE+ResJEGQp50ZXtVGqgaSDNINILauqARbqR1Drg2g6+Mv/5XS3Vgu23nrrmOEC2spRA6QU/JBoM0j0leyYdD1UE239STHkgJTeieUv/zM+u5ZD+mMibTmtb0LqHc/JLs7Lc6g1QYCDu6ZMZ+CkviWLrhKd5gBJxgYnB9VqN5yLQBnLwt0fimrxl+YSLV24rTnSi4x8F8TUd2B7TAOYDHxftLvODchw4sJ06gHk4q4IqZl0aZhbg4LaD7QLpmu5UpqU8ZkInHEnIv1MfD7qKqQIUlCkuVCh5kLT0+2X1Hru4pBCTFtr3oPPR9fJbJtsvzfddFNjYUnu/pAJxPbVHPW0vRSSnrxS6DBfV4DFpCevfK/11j0gafTs60rF9l+rAbRCQWnwO02DQwRXqlHQsjVxt4/ABL9jjknUU+EikmwQvsN6wIUPzTpZ/9TGaM6xi/0X9Vk49rLfSveh1A+i2G+p23Jz97HpeM4HCE5SsDLdj5LGfu+998b9K5+TJtNkRzCNc44ddtgh793ltJA7J/E0fWXdpMvGa/Me5QbT0tfJPj9hHXEMSPF+jOd4kU+h6dmfl308zbTTc6vddtutsW4FxxOOK9nLwnEn+5xrQujZc2ytMD5bPQX4yK4km4MaU83JriT4X2/FQMnYLue6gHN0mhO1Jdk3BkpBRxf1jOMcN+qPOeaYuN/QxKNqARYujrkYz4fx9ZTJQlMVfgwcSLn4JwhQShSZE0MCLJw8kpZf7faTfIZu3brFkzHa3NPulMK1/OV/xnMXLT15Ia2cEwTS0jhBZ3m408ZzNtxww8a2vE8++WS8COMEihPe9DVp/0g6WzWjnZyQHXXUUbFKOCfVvAepraRWp825qonK+2QkcXLGxRTrkOXkfYk2P/fcc8mcEx5Rfb4Lvqu0Z6UUtSI4oeTEgmXggp9eNAjEcJLPBRYnLCmaYXHSwvLl3i1g2+RkkZNJCq5lo7nWRx99FItQNlXzhxMFgncEfbhIYrvhfTlpzz7xrRQn/pzMU1tjiy22iCdVfO4tt9wy9gZDPRsqz5P9xHphuQksNaeocz1tL8Ww7+F7PvLII8s66WZ5+T1y8kqxxLaOwN2EvkBqDpoQEoAEvXxQK6hU/CYIvtGcoNKBZjHNKZzITQvOCbizx76IiwgydtiXcSyqh2KwpLqzr6TZT6FaAsVwnCbzgGMhN0doWsQ+i2Mu+2YCARyv+U22NIKMXOhSI4B9OMd/6siwHyCIcOWVV8bzC47RO+64Yzy3YB/D/rbQ98+xhHMPtlX237wmTQM4R6ETgVJv3BDw5fhG0Jd9EuuIQA/bSDV7j6GgKNse+wQKdlIHg/MSlpF9Kd8Lx1gCMOmy8BugcP+EQjFvshQ5z6unug6cO1Arhh7qyilQyzbDsZ1jGttmbuC5reF3Wc4Ng7aonP0f+wT2Y7nHqeYMXMuVGwjOxbkrWSvsV7ihqYlL1QIsTXV5Wc0uMVsDJ6yc/ICidRzcm8LJB3fgJp100li3gLtC1cKBhe7M0otMuu+kFwZOUPnLBTgXmJyk9uzZMz5n3nnnjQUqCWiQFs8ycWLDcw455JA4DvwliMQJQ/qanDxRtC+9WK3WXV5q4ZAhQSorvS6kr08QpyUudEg15E4gGUnphSaBCrrH46SeC9DmXCBUGwdRvhu+O4JfpM2mSKmkFgaRfE6mOHHlpJcDAHc/77zzzrge+U7JvgCZFwSwOAHNzkQh2ELBTLZRHudWqWd+PgvBhKZOXkiJ5G4En+mll16K2w0noAQpyKqpFoJOnDyyrCwz78X2SiCTbYiK/ARaWA+sF+Yjo4Y7B+UW/6yX7aUYPh+9MhB4Krd3hXQ/NzGcvNYrTtrIDOWYwMXw8ccfX9Z3xW+/UHH3phBMICCQDlxoNqcwOQEJmjwQSCbQz+fnQpYutNm/ccwqNzja2tjPcUeafVNzMr3Y11966aXxuE0aPEFp9qHsfwiwcJxnv8Zxv9RgRHMRxCDQRdCOu60c/2+55Za4rXCzif0t+wbGM5352PYIdBMcyofgG/tnjinst9NzCm5gccwvpXglxygC+Fxk0VsMr8E6ItDNRXq5TUuKIVDCe+UuI8dUvgsCLvnWD3+r1RtZOdgm+Cwcl+opS5zvlP0XN/PKPUfmPDfNrjQbQLk4rjWnkDjP41iWfWzjRl6l50AEaOnhj6As5+iauFQtwNJU2ls5aXG1grsuaZs6AhXcxSiGHyMBFtK3uQisZtdxnMhwAcmFMwen3OrjBFO4qOLkhbuA5UR9WUbSS3OrXxMkorkHdVJYpmrgc3Mn6F//+lfsjpgLfE5SuCuVnX1TDaTWc4cxX9E3Du4sL+s1DUi1JoISacr2YostFjNAzjzzzNC1a9cYJMj+Ljgp5SSPiw8CU9kHELY5TlL4/jjJS3tQIVuJQBYXAdl3gwm2kE7M+uZ9yS5Lg2ec+HDiSqCwlGg7F/K8P6+TfSDis6e1ZKqBdUOGShrw4L3Yfvh9EQyiW7vs75jx3PnlBLScIqa1vL2Uiu+QQB0XwuWevLJ/o/YKwSRPXmsT+0cyP7hoJTjB91Xud8V2zF0+LlTLHQj0pkXiGdiX5+sJoxiCrxwfOWZl43dNRhzYD1Uzc7IlFSrUWAz7ai6OaV5EdkjuumCdElihS08CyC1d6JF9K4G67G2J/SHb2J9//hkvEPiuU8zH8QiFskjIMOROcPbxihsHBAPI9i2lzhjvzbqiyU5uAUlu1uSrSdJcFJnPXca0pgnHSIJM2euHZqQE3znGTohmDByrCDpx/O3UqVMytvZxw4TzjnJrFhFwJbBC0G5iyK5U+fgdcB2U79hVbOA5nFNmH9vydYJSDm6M0hySJuac52viU7UAS1PBhGoGG1oLd6U4qHISxF0CTngmVLpe2qyDOyn8YPPhZIMLYw685XZtRvYId2c4YSc1mYtMDtxEX1sS20Wa7UD2DXe6qnW3joM3J6rZF/8pggjphQHp6q1dqZ3348QsPTljR05GCHc0s+8Ip0EPpnfp0iXvsoCTVi6cspeFwBnrkouZFN8xJ7ccTLiYYbtK2+QTfOFkmcBa2oNJMWxrvD4X5NyBrdb3lovmSrk1afhNchecZSaQlItAJMoJ2FV7eyHzjbsgaSAt38Bvjfn4veWbng40DSzlPdOTV+4eN+fklVTzfAGm5uCihAuUfMuTDrwXy896yDc9HViP3M2fEGplOfh9sX8kAMsdNjId2C7rDRmT/H7zoWcNftMgA60eUIeqXARqyVIhQyLdV+Ui6MI+nOMD87ckzh1yPwfnP+l5G5kiuRcb6XdVaB/Lfjl3H8RrpL2SlXLTjWMhwWLOfajB1ZJdttLLZO4yEuBiGblhQEZoNtYP64BzpwnRzJCbKQSf+FyFfk/FkAlHECzffiodOEfg2E52Wb7p6bDqqquWdDODmzKnn356zK7MDSo2hawntjWCvIXOg8rFTct8y5M9cDOMWkT5pmUPnAdNqOambWU52hIyErkxSoYj2W+tLa2vRVA4HdJ6nDSBzB7PeQTXBqquqgVYaJ9bTFPTaxUnxGQHgKYV2XUuWlPaLIGgRyHpCREXBKQul4q0S+4I8OM7/PDD4x0zToIJ5pAJ0dIWXnjhxgMmAZ60C7dKcdFIYCwf7qqROQNOdEvJ+Mm3w0oHCuWVg3aZvCcnjqxvgmbdu3cfb/tK7+DxPZDJUQgBEeZheakbBE4K2R7IEmJdcIH27LPPxpNploOLNIIqZCiBTBcCPpxMp83HiqEtPpkibD/c6eT9yinMWCpOsnNPfLOl32O2coILqWpvL1wYcFJDZlKhgUwi7oCzPeSbng5kHKQXnoVwx4R5ubNMJhvba/bA8oGTJ+ZlXLq8nKDxmLu4BOCyn8e86QkXr8E4tpumglek3ZLRl7ss2QPLzfKzHvJNTwfWI3eLm8Kd7mLbSi5+H00175gQy5EP+wYC/jTf4neWBvzqDdtZui3myv4tU1+i0HzVwGuT5ZVvf06grCnptkYmBoHwcpARynM49hXaXjkmpkEPjhMtid9AsX1mvmn59rvZCh2v0oyWQvvabKwD9n0EomiWwz6Vx7kF/auBjJhC+My5F/X8X86+ppo4/lAbDDT9zv1spSAoQ/OvfPupdKBGCt8jNcnyTc8emqoBw/kH2QJkIrEPzD7GMHCek+L3wbj02MOFKueGBx54YLzRkPvc9JyD86X0+FXKvoNtiez0fMuTDmQ1cZMn37TsgZsg2dla+XBe1VRtu2yc05Vys6u1l6MS5fRoiGLXPLWKfTv7KxTqjrulcb7IdTfnJOmQ1uMkcJ89nhtr1NVSlTXs9Kpmo402yjQcpMYbGD8hDB8+PLPxxhvHz9BwEMo0XLgnU8a39957x/kaLnQzb775ZjJ2rIYTgcyGG24Ypzcc4DMNF6zx9fif1+d9qoXPke8zXHDBBfH9Gi7GkzH5pc/v379/MiYTX4tx+T5rwwV1ZoUVVojTb7zxxkzDQSmZ8vf6y1136evxXqXgNa+88srM2WefnRk6dGgy9m/p66XrP/uz52rYacX5GHhcyLPPPptp2GHE+ViuXCxP+h02tW2kGg76mRNPPDHTcLIx3vDkk08mcxWXfo/8zdavX79Mw44403DCnfn888+TsX9/B4suumj8rgpJl2eDDTbI/Prrr3FcwwVwZpdddsnMO++8mY8++iiu+4YDbOaII46I0//3v/9lFlpoocb/Gy4S4/rP3faa8sknn8RtoeGErXF9vv3228nUvz9bofVcaHqx7SxdL4U+b7qd5K7nQlpieykFn7Na+5Ds31GpQ7pu+ZtveqGhOdtJPun3WOy3XA62c7Z3PmOh7z7d7pmHbb4aqr0cudg/zDPPPJmGE+DMyJEjk7Fj9e3bNy53PeC3xXrnt8ZvLlf2NtzU7yLdlzZ3W2y4KMtcdNFFeffnN998czJXYV9++WXcLzPwuBzp/uncc89NxuSXLmP2cT8dl72tFdqHpgpNT8cXWtfpfiHfdp1+V7n753yfL1s6nb+lGjNmTNzOt9566/hchrXWWmucY2K6TvMdL1BoerHPmy5jsfVTyb4wXf/FPnc+2b+TSy+9NBlbfXy+1VZbrdnLly3dR/KZSx3S7TX97soZytm+iuF1yvluimGf06VLl/j5Cm1T6Xkb87CN//jjj8mUylRzOfIpdVtmvz/DDDPE+QrtI/r06ZOZaaaZ4jx33XVXMrZ+DBw4MLP44ovHz3/AAQckY0uT/TsptI00V7rfKLTe6w3HheYOo0ePLnkYNWpU0YHfbO7AeVrxWxBlos00dxvStFL+8n+9tKUuhDtapM9zV5gCfFTab/iCkqmtI00BLZbGRcSetFui5KVGTMleIP2Y2h9EMrObp5AJQ08ClWj4DcS7uxQtpIlVw8lrfN1imrozVgrWU8NGHh/TxKbhRxAfpxp+NI3fIXcUSsnY4DtgWXLbbzKU2xVuLjKIyJTizgvvkX527iTwnZAxUKwdPs/jDlDDTrnxrhp/yUjg7idNgfieSbFOa3NwZ4R0bQrB8nwyUchuKbc3Au7CUk+AVHa+Z7JgaFJBCnK9aIntpbXx3dF1L99zvoF2xeCOJM2IGMddL/A3d/50oFBbmj3D98s43of3qzWkuqb1CGgqmQ93R9MMpGrWCmop/C7ZP1PEmvWfnU3A3VyyWsrpdYd9CZmZ2RkbzR2460XTqFLRvA781tLH2bKPq9y9bW4x3lLwG2ad5tufs76bwp1YMvfY75F6z7GuVLw3dxLZL+fua1K8Hr815mO/PjFjHVAH6/7774/nYNyZbbhYiEXHmzqfaIvYLtKsjebUAJoQOI+59dZbG48ruQPnECkeM45mFhxvueOeO386cOwmMwP85X/GN1zkx3G1hN89+16wHedrXphmLaO5zb9qGRlMDRf58XGxYzT7Rc47cpvmFUNWV77jVHMGarA0N3OQ8+xBSSZ+vfw+6005x9tc5Ty3qXmLTa9qgAUU4KMtJiew/K2n7pmLoY0pTTjwzDPPVK0ZS6noppAdLWninCDnQ6oyvQFwsV5q+1ba14K2xrk4aSdNuxKcBKQ924AdJxer2ViX6ckCbRXTnW8l0oMSFyPULslN5SWNNN15UkuEdO8JiRNIUjP57mhbnTYV4oBMkx0ONvS6UejHTFCAdZjbvIcACk0JmE5aNUHP9MKY+Sg6yEGOC25O9kk15eDSHJxAESTit0LvQmlAaPrpp4/vy0kDgZxcbINpE7gJpd62l3z47Px2CJzlG9IgCUE7TloZly43f3PnT4fsZoIEbhnH++RrNjCh8b2kBZoJPuS7eOV75KKMfV5aD6JWETDnuEPAkpsVuanbHAs4mSsn7ZzvjrpMuRcqzRloLsfvvVTpvoVtauM8PZ8QnE2PBVxUTagmGKXgsxGg4bdD1+blNB9mH0xgmjozrMd82CcShGK+poKZ9bCPrRaCegQV+f1yMc05BQiuso/jN5PbPITjJudtbUXfvn2TR/WDcxy+u9zjSzpkH1N5zDj2a+zzOFfJnT8d+N7TQCx/+Z/xE6JZRim4cGddEGTOFxzMvrHJPpJ52xK+m/S4W6h+VXp9xX6vnAALzd4598w9TjVnoCREc5vhcs1TKHCuiUfVAyxtFTs5qp537tw5/p/vQpdxFCHk4MBOtJo9J9EWm0r+/PA50c6NrHIxy8ke0W+KgKUXU2CHxgktwZLcjJQll1wy/uXiO7uuBPPSA0B6V7+5uOhOT8C5IGMZcg98nCSlaCNYrNZIqQhI0faRHnioJZOLOyOcyLNeqGlQCzj5oJAf29pZZ53VeEJM21m+/+uuuy5cddVV4wSo2OZ69+4ds6qYJ7sXBBBoI2hD7RW64OYOT/bFGBcx4M4g7Z3ZbkvBSQCvmVt4lfovjOPAlB6cOPnnrg3rm8+fXkCB7Yy7kIUCR62lHrcX5UddIPZ/FGzOF4ymJhHbG/uacgsttib2x9R+YZ9NpiH7d/bJDGkhck4o2S7L3WcWC6iVM7DPKucCgC7oCQRwsUv3xNk4IaVIMzjOkn1X69ivkVVE5s2uu+4azxFyM/fY1jg+kwVL5hcIctHunTokFHnPzU7k+E59DPaPzNfUTYd62Mc2B+uHIFTueQjHH441bINp1i1Fzxm4WUDWdLq8/OX4xvGzrcg+V1N94QYAN7a4aZPWv8tGgIDfLOdz1EVsawiWkSHIcSOtD5iN48DLL78cH9OTazk3/LJvHlU6VBKgK6W+lNo+Ayxl4IfLBXChJizsMAmwcLJFNgAXvtXC3TKajtB1InfKSLPjAoGTbar1EyghZZY7abl3BskK4QKSVGYuqLkjSrEwdmwUGyNrgTRvosVpISQuynnNavQoQrd6pMnRjIYT7Gxk3FxxxRXxMZ+DriKzT9g5USTtj6wO0rDpaSjFuHTgjmx2xJgT9PTOb5qlk6Kb4gsuuCB+jxdddFFj0KwW0Bc/xWMJpNHdLstEKjoF3ghYUH2fJhB8T1xkUQCMgxAnmcyTW0CMC00O0twR4DW5aMlev7wWr0FggTsFTd0pTRHk4fNxF5Ftiu2Qz83dVrZ91nv2xStBCYITt99+e3wPPjufm+2LAFy+DKrWVK/bS1PIQuP3cffddzf2CEbQ4a677orj+/XrF8flyv3dpXfauNjh/0cffXS8IG+t4O4YTREJcBN4zL44S/c37I8IWJQTHGhN7JtZBtY3WQl0vU/vQelAkVsyFgm+ENCvlyYkHKvYH9G1enZGBRfBFPumCQHBH76j3Kwctje2u3R7JqMPbJtsk4wvtk23BLYfjqX0cMK+lm452aey76OQOAPHX46lNHvIDo6zr2Gfw++S6awb9qMcfzm+c5xP90mlqPV9bHOwH2Jb4YKHwHe6flgmAln8hrOzolhmtiXWBTcLmJ+/BCpLXY8tje0z3VYJhnFeBrYDtmvGF9u/pk3B24Ls3zRDKv2fY1B2sDBbuh4p0E4mHfjL/4wvp9lka+LCvUePHrHkAOe72d8lgTN6WeK8j958mgqsTmjN3Za5RqHJMoEUzlvTYCiYn4Ao1wPsv+rRRwWaPhWSnqcxcCzhPAXZ2zNDun6bixsiBOzLLTSsZmrYsNus7GJBDRdFsQhTIRRlYr6GHVrRgl4UrqEIHvMy8PppEaIxY8ZkLrvssljss+FCOTNgwIA4vhx8jmKfYcSIEZmGE6jMyiuv3PgZOnbsmGm44M58+OGHyVzjGzx4cKZr166Nz9lzzz1jwa10WsNJYmORz0UWWSTTcDKYaTixj8uXu+74bHzGYoWscjVcDGQaTiDj6/PZG06aMttvv31jYdTDDz8803BwSeb+G+/L+6efu9CQ/T2kWFfHHHNMLKjFe/J50/XWcLKZeeyxx+J31pooNMb787cQitxS7JZ1k10IknVx7LHHZhZYYIHG5aaQ1hlnnJF33aVef/31TMPJZ8FijBS55bUaTkBLXh8NF62Ze+65J7PKKqs0fodsPw0HzUzDQTPv67ANUOAtnZ/tjKKXFCrkOy5nO0t/24V+K2lRvGLrOdeE2F74nPm23WpJt7dCQ6HfcFO/u6b2k6VKv8dqF11jP33cccfFz8p3SJFt9ttso0svvfQ4RZirodrLUep+j4HfVLovrwcNF8aZnXfeOe4HGk6i4zaYFgTkuylU5DzdH+Quf+5QaJtuaRwvL7nkknH2iQzs5w455JB4fM7dfzRcSGUef/zxzP/93/+VvB9Nf9P5trVy97HpdlZoH8S6LPRehfbPxT4f0uml7JvZJ7NO2S54DkOx8x3WV8OFSGb55ZdvnH/dddfNvPXWW/Hz8H85nzddxmLrp9x9YbpOiw3FXpNjb7du3eJ8HKvyFYuuFraPahW5zSddv7nLnw6522u2ptZjKdtXKXid3G2mGvjds+ycW5xwwgmx4DXLy+//mmuuqfq5RkssRyXbMp2H7LrrrnGeTTbZJF5zpP+vt956RTt1qHUUo0+X//rrr0/GFpbug5oaCu1TJ0b8Ppo7jM5TyLbQwDG62MD+ON/AOegkfNAk1iK1qIaNNUZkufOYthOnyCR1Q2ie0VJItyQKzHvSRpe0eu4WpqnFUrbW3F5IZb/00kvDPffcU7NtxlsSd2MpWEm2RsNFTDK2enK/Swo8k0GRW8ukUi29HG0Npx1kunEsIJ26ffv2MTuTorG1WNtHqiU0KbvyyitjZjIZPdXen6XYb1KTjMzseigI3hIuvPDCmJGQXYS3WqhBQhH5NOuOQs5bb711i2QktuRyNFe+4wDbG1motZpdWgoydsjCJGuQLJzskg2qjkpCF+U8t6l5C01nvAEWSZpADLC0jcCEARZJbY0BltoMTDRHW1kOCZWELsp5blPzFprOeAMskjSBUBCYnlOoXVPPd2wqQVYbPT+0xF271tRWlkOSwOUBF+XUFZpY78JTA4sAei0XRC9FW1kOCZWELsp5blPzFprOeAMskiRJkiSpplUSuijnuU3NW2g64+1FSJIkSZIkqUIGWCRJkiRJkipkgEWSJEmSJKlCBlgkSZIkSZIqZIBFkiRJkiSpQgZYJEmSJEmSKmSARZIkSZIkqUIGWCRJkiRJkipkgEWSJEmSJKlCBlgkSZIkSZIqZIBFkiRJkiSpQgZYJEmSJEmSKmSARZIkSZIkqUIGWCRJkiRJkipkgEWSJEmSJKlCBlgkSZIkSZKaKZPJxL8GWCRJkiRJkipkgEWSJEmSJKlCBlg0wQ0cODAce+yx4Z133knGlIY0rLvvvjtcfPHF4Y8//kjGSpIkSZLU+gywaIL666+/wnHHHRcuv/zyGGgpx6uvvhr233//8MQTT4TRo0cnYyVJkiRJan0GWFS2t956K3Ts2DHss88+yZjmu//++8MDDzyQ/Fe6YcOGxcDMyJEjkzGSJEmSJE04bS7A8ttvv4VNNtkkzDDDDOMNs8wyS1h99dXDmWeeGb755pvkGeN77LHH4rxdunSJr6eW8cUXX4QTTjgh+a90NA264oorwhtvvJGMkSRJkiRpwmrTGSyzzjprmHvuuRuHKaaYIrz77rvh7LPPDosvvng48sgjw4gRI5K51ZpoGnTuueeG9u3bh8knnzwZW5r+/fvH2ivzzDNPMkaSJEmSpAmrzQZYpplmmtj85IMPPmgcBg8eHDNXLrvsstCuXbtw9dVXhx122CH88ssvybPG2njjjcMPP/wQ7rvvvjDddNMlY1VNDz30UHj77bfDSSedFANfpeK7OvHEE8Nee+0V1lhjjWSsJEmSJEkT1kRXg4WmQl27dg2vvfZaWHDBBcPzzz8frr/++mSqWsOAAQPCOeecE3r06BEzi0pF06Brr702BmT22GOPZKwkSZIkSRPeRFvkluYlXKyT6XLdddeFb7/9NpmilkTToLPOOivWwtlggw2SsaWhadDNN98cTj31VDOLJEmSJEk1ZaINsGDZZZeNF/lff/11eP/995OxxXvJoYkRvdcsuuiijcVzeUxzo99//z2Za1wfffRR2G677WLhXOYnuHPxxReHL7/8MtaCYaD5Uq5ff/01XHTRRWGJJZZofK/ZZ5897LfffuHTTz9N5vobr8FrUeSXpjQ0kVphhRXi82acccaw7bbbhs8++yyZe1zNWa7moGkQxWn//e9/l1V7JW0aRObK0ksvnYwtjO/0H//4R1hzzTXD999/n4yVJEmSJKllTNQBFi7wuQjHe++9F/8WQwCDgAw1XKaffvqw6667hm222Sb89NNPsWAuAYpRo0Ylc4/14IMPhlVWWSU88cQToVOnTvE5yyyzTKw9cthhh4U//vgjmXNc77zzTvxsBBUILvA+PHeuueYKt912W3xNghX5jBkzJgZwunfvHhZeeOGw4447hplnnjk8+eSTYYsttoiBnWzNWa7mIOhx/vnnx9crp0AtTYNuuOGGxqZBk0wySTKlML7PDz/8MNZ5YZAkSZIkqSVN1AEWUIcFpTQRmnTSScPmm28eL9xprnL55ZeHm266KWa/LLfccjFj5PPPP0/mDnG+Qw89NBbUJdCSPueRRx6JWRwEOoYOHZrM/TcyLijiymeiVgnz8T48t1+/fuHOO++MwaFDDjkkvkeuV199tfH9mJcsFD7jlltuGTNVevbsmcw5VrnL1RwEaC644IKw4oorxgybchBsomkQwSYya0pBlsuSSy4ZVl555bD88ssnYyVJkiRJahkTfYAllduTUD4dOnSIAQ+ySLLRHfR6660Xfvzxx/DFF18kY0PMuqA3ohNOOCGss846ydixFlhggRjImHLKKZMxf3v44YdjsGPPPfcM++67b5hsssmSKSFmbxCgIHDDa/fq1SuZ8jcyPS655JL4Hilqzey///4xMEOQJrt76nKXqznInnnllVfCEUccUVavQb/99lsMrOyyyy5lBUpYlj59+oSnn346Zu9IkiRJktSSJvoAC0VXQVOaUpEFcu+998bmM+uuu24MZJx33nnJ1LGGDx8eMy+o5VKomCvPI7iRjUyP5557LgZCunTpUrA5DF1JEzQhWyU7WAJel/opueadd974fjQJyldXpZTlao6BAweG008/PRx99NHxM5SDIBXfERk9pTQNkiRJkiRpQpjoAywUtEUpF/5kuXTr1i0WkqUWCL0Qfffdd2GttdaKBXOzEWCh5sicc84ZC8yW6s8//4yZKRTEnWOOOZKx46PYLfP8/PPPYeTIkcnYscg8mXrqqZP//kYmDM2B+GxpYAnlLFe5qJ9CNs38888fa8oQ3MkeWNYUNV8YRxOp0aNHxywePsuBBx4Yg0i5z02DRKyzIUOGxHFkvEiSJEmS1Nom6gALgYXnn38+zDTTTLHwbDFkllCY9r777gu77757+OCDD2JAgGKq1CvZeuutkznHRXfC5TSJSREMKeV5BFLK6Y0nV3OXq1QERt59993Y7IkAziKLLDLOwOungRJ6bWLcP//5zxhkofYMww477DDe8xjS5lF9+/aNgSDGXXPNNXGcJEmSJEmtaaIOsDz22GOxHgl1RtJit4UMGzYsPPPMM2GxxRaLAYm55547mTJWbpFcMkUIfFC7hIBFPmRp0ONPNgIr0047bcwgGTBgQDJ2fGRrkP1BAd1KAizlLle5WJZbb701fPLJJ3kHCvCmeMy4F154Icw222yxbk3u/OlA5tFKK60Un8df/mf83nvvHcdJkiRJktSaJtoAC90mH3zwwbGZDTVHmgpSEGigGUq+5jcEKciiyEZvN2RU8DzqpOTz8ssvjxfA4LWp2UJmCVklNLHJhzotZH4wb77mQKUqd7nKRd0UiszSpCnfkN18iseMI7hCoInPkzt/OlDbZqqpporP4y//M56MIUmSJEmSWttEFWAhWEFWyGGHHRa22267OO6qq64KnTt3jo+LoZYKF/F0Y5zdNTJBDnq5efPNN5MxYxEc6Nq1awwwMJ1umbO9/vrr4Zhjjkn+G9emm24agzPXXXdd/HxkuqRYht69e4ezzz47zsO8lSh3ueoFhXVXW221sP7668dAkSRJkiRJLanNBlgIEGyzzTax7kc6kKWx5JJLhuuvvz4GJ2gas+GGGybPKI6sCgrA8rpctG+22WaxZgmvQ/fDu+22WzLn3+jph+fQO8/aa68da4sccMABYYUVVoiZJ9tvv30McOSii2GKu1Ibhp53OnXqFN+LGiU05aEmCU1vmCe3a+VyNWe5KkW3z48++misoZLdzXT6/1NPPRU/Tz406WKeO++8M3z22WdxHH/5n/Eff/xxHEcPTtSR+e9//ztecEuSJEmSpGpr0xksQ4cOjcGNdGjfvn3s+pgLeDJICLaUikwUgiN0W0zGx4svvhgLt2611Vbh8ccfj73k5KJILfNTLJZuoMkGueWWW2JTGLJQaKJErZZ8lltuudi0iB50ppxyynD//feHO+64IzZlIvOFAALzVKo5y1Wpr776KgZ1yPBhmVI8ZtwhhxwSe0fKh6AS85CFRB0a8Jf/Gc96Bd8tmUkUL26qgLEkSZIkSZWaJFOoyIdaHIGBddddNwZNnn766dChQ4dkiiRJkiRJSlUSuijnuU3Nm296Om6iLXJbC/73v//FIAvNcSiKK0mSJEmS6pMBlgmECBe9BNFb0Oqrr15RT0CSJEmSJKllNZXdYoClBb377rvhtNNOG68Xm7/++itcccUVsZcgCthSF0aSJEmSJNUva7C0oLfeeiv2UkSPOBRcXXHFFWOw5bnnngsjRoyIRXd79uwZ1llnneQZkiRJkiQpVyWhi3KeW2zeQtPS8QZYWhCZKnRHfMkll4S33347/o855pgjZq3Qi9Dss88ex0mSJEmSpPwqCV2U89xi8xaalo43wCJJkiRJkmpaJaGLcp5bbN5C09Lx1mCRJEmSJEmqkAEWSZIkSZKkChlgkSRJkiRJqpABFkmSJEmSpAoZYJEkSZIkSaqQARZJkiRJkqQKGWCRJEmSJEmqkAEWSZIkSZI00ctkMsmj5jHAIkmSJEmSVCEDLJIkSZIkSRUywCJJkiRJklQhAyySJEmSJEkVMsAiSZIkSZJUIQMskiRJkiRJFTLAIkmSJEmSVCEDLJIkSZIkSRUywCJJkiRJklQhAyySJEmSJEkVMsAiSZIkSZJUIQMskiRJkiRJFTLAIkmSJEmSVCEDLJIkSZIkSRUywCJJkiRJklQhAyySJEmSJEkVMsAiSZIkSZJUIQMskiRJkiRJFTLAIkmSJEmSVCEDLJIkSZIkSRUywCJJkiRJklQhAyySJEmSJEkVMsAiSZIkSZJUIQMskiRJkiRJFTLAIkmSJEmSVCEDLJIkSZIkSRWaJNMgeSxJqnG//fZbuOSSS8KgQYOSMc2z1FJLhT322CMMGzYsdOvWLXzxxRfJlLE6duwYevbsGeaZZ55kzN8+++yz+JwffvghGfM35r/11lvDbLPNloypfX/99Vf48ccfw5gxY8Jkk00WZp555vi3HCNGjAjffPNNWHjhhcMkk0ySjB3f4MGDwyyzzBKmmGKKZMy4fvnll/j8du3aJWNqUzWXo9R1V0ueeuqp8Mknn4S999674DooB78pfnO1/r2Xgu/+8ssvDyuuuGL4v//7v2RsaZ5//vnw3HPPhX//+9+hffv2ydj6wj76q6++ivvHxRZbrOT9Cafj7IdGjhwZ/59xxhnD1FNPHR/nM2DAgHDzzTfH/fhcc82VjJWktq2S0EWpz21qvkLT0/EGWCSpjnDxsdVWW8Wd+KSTThpmn332+BcECLjw5S/mmGOOsOqqq4Y///wzvP3222H48OHhp59+itO6du0aLrvssjB06NBw5ZVXhu+//z5eFPD6qfPOOy9eQOZKn/Pqq6+Gl19+OY6bddZZ48UU77fzzjtX5aKzpRFYueqqq8Lpp58eRo0aFQMGrD/W51577RVOPPHEJi94+R769OkTLwh5/j333BOmm266ZOq4uPDabrvtwuuvvx422GCDsO666zYGoj744IPwxBNPhLfeeivce++9ZV+YtqZqLUc5667WHHnkkeHqq68O0047bbyAxkILLRQ6deoUH2ebaaaZCgYMfv3113D22WfHgMQdd9wRNt5442RKfeI7PeOMM8J//vOfcMopp4TDDjssmdI0grwbbbRRmHzyycOzzz4b9231hODI4YcfHrf7bNNMM0047rjj4r6Ux/mwHz300ENj0I7lJjjD/mmllVaK2waBmlzpsYCgZHocYFtbdtll8wZ09txzz7D00ksn/0lSfeI401ylPrep+QpNbxzf8ECSVCeOOOKITMOFWuayyy7LjBw5Mhk71pAhQzJLLbVUpl27dpmGE/PM0KFDkyljjRkzJnPeeefF6RdccEEy9m+M69ChQ3x95llnnXUyP//8czJ1fKNGjcrsvvvumV122SUzYsSIZGx9YN0ddNBBmYYLjszzzz8f1w2++eabzIYbbhiXv+FCJTNgwIA4Plvfvn0z11xzTWa33XbLLLDAAnFehoaL48zw4cOTucbHNOZJ5883XHjhhXG91rJKlqO5666W/P7775kuXbqMs7zFhlVXXTXTcMEcnzts2LBMr169Mj169Misvfbajb81ht69e8d56tkrr7ySmWWWWeLy5NvHFMLvsWvXrvF5nTt3zgwaNCiZUh/YT6y88sqZ7bffPvP555/Hbf+rr76K+5j0+916663z7k/ZHuacc874m0n3o/w944wz4vPYRpgn1/XXX9/42k0NvMaLL76YPFOS6hfna80dRo8eXdLAPrzY8Ndff+UdOJYxWINFkuoEdzVfeOGFcMQRR4T9999/vCyRhhP72NQCK6ywQuOd9RR3Osk4mH766ce7I/rHH3+EhoujeBd1nXXWieP69+8f/vvf/8bH+XD3nbvOzF/ozmyteu2112ITKNYhafhp0xRS7Q8++OD4mPV5zjnnxOyWbPfdd19ouBiKKfr77rtvVe4K8xqPPfZYOOSQQ8punlRLmlqOllh3rY3fChlfpSCr4Oijj278LX777bcxY+XBBx8Miy66aMxsaWl8XtZ1mm3WUmhuSKZGw8llMqZ0999/f3jggQeS/+oL+wf2EzTxuuaaa8ICCywQt/155503XHzxxWG//faL8z399NOxeWfD9UH8H6yzdB8z5ZRTNu7T2Z/uvvvuscllw0VBOOmkkxr37anc/4shY3GVVVZJ/pMktSQDLJJUJ0gfHz16dNh1113z1qogIJIGAwh65JuHk/gOHTrE5kPZONEnoMBJOE18wIXA7bffPl6AIfX111/H5kLLL798MqZ+9OvXL164sE5p0kAdkNScc87ZGDB68cUX47rJdtZZZ8WmMDRjINA1wwwzJFNKQ7OJXr16xQAPf7/88st48bv66qvn/c5qVXOWo9J1VwtoIkVzO4Ik1BvJN/Bb6ty5cwyGbrHFFskzQ1hiiSVi07p33nknNk+jCUhLY59BQIuAaEthX3HjjTfGZjLlBlv5bOeff35cN/WIQAfN4qgfc+qpp8amPSl+BwRYCL6A+lQsb4rHbCu///57bKr44YcfJlNCbFI233zzxccEsrOnsb5p0nnQQQfFdZ5vG/z555/je7N/Pvnkk+ui2aYktQUGWCSpTlBYk8AJd0ZzEQShJga4wFlkkUXi41xcHDI9t77Bxx9/HP9yV32ttdZqfH5azDMfTvipmZGvEG6ty/7MBJ3SOja5yG6pdkYJxSupW0L9BP7mZhrVi7ayHOUaMmRIXPZC2TdcYJ922mnxoppsqHoKmjUXwV0KrlJ7hXo6pWJdEXQjKLfNNtskY+sLda0IaOCGG26IwdtsBLQJtoEMpuz9KTVTGEAAhH1RPmxD1KZJsR9nO1x//fUL7p8eeuihmBlE8Gpi+W1KUi0wwCJJdYCTeLIpNt1007wXbGRZUMgWNP/JV2wT3G3lhL5dTvFWipIuuOCC8UScC4IuXbrE8dwF5U59Pn379s3bFKkebLnllvFi6Pjjj4/FSrN76+CuMneUseSSS9ZtbyZqGfwmCHIWytTo3bt3bCZFkKUeM3TKRXCBgtAUhl5mmWWSsaUhCMB+i0yf7ABCPckOkhBwzt1fUAg5O2MwOyOQDBWKG9OkjiwwAtwp9vlp7248n6ZHKfZPU001VdxX50N2IdsfAT720ZKk1mOARZLqACfu9OqzxhprJGPGlV1/ZfHFFy8YFFh55ZXDBRdcME5vLWn9Fe4ip4GG7bffvjHLhboZ3333XXycookEzRxo4lCPd+i5W7ztttvG+hjZd9y5+OFCB1xA04ylpS78SPMnMMaQXZeh3rSV5SgVWWQ0h+HCORcXxCeccEL8rZYbbKhHfN/XXntt/D3RXXA5CGRSf6RHjx513c1wdpCEgBH732w0P0y71Wdfmdv18nLLLReDIfzNRlMyMl5A8Co7c5Feu9gv52tWRVYQ63S11VaLtXckSa3LAIsk1QEuYOh+s1A7eoq2NlV/BQRNcgvccmHMxU52EcT555+/sXYEKe1kz2QbOHBgTFGvx/orhXCxSLYOafU0GSIQ1RJ3fwloUfyS74JMIwayhyiQmV2/oda1leWoFrIKjjnmmHihvMkmmyRj27a0aRAZLOV0sZ02DWKfU8tdkpeqUJAEBKfT+ikLL7xwSbVmCNRRGwoEu6mlUmogu2fPnrG5KAXLCx0vJEktZ5KGE8q2f7tJktowAivdunWLwQF6CKLg4lJLLZVMbdpzzz0XezN59NFHY4HXFD0IcaFIryDrrbdeLHibNou4++67w+WXXx7fk3oUzUHWzF133ZX8Vxkye7bbbrtmZdNwQULRVe4YDx48OKy44opx2XIDUflQC4H3pbgrn+Gee+4peKGZztunT59Yb4KCmHPPPXe8MD/yyCPj5+BiiqBFvuyIWlGt5Shn3dUDtmWaZDz88MMxU6wUNCViXYHnb7zxxvFxNaXrmYKo1Xx9mgZRcJuALtkb/Pb4/VCPh2y6U045JRZCzof9BtkrLHNaD4nepegth22J32Nunahi2Aded911sYBypchYIxuH5oHVkC5X+rh79+7xcS4yAmmu+MYbb8SADE0vqWmz9dZbl1wHisDMRhttFI8Hxx57bDJWktqOSkIXpT632HyFpmWPN4NFkuocd0g5KQd3SMstOptdfyUbQZo111wzPuaCh4BIivorxZoilYIaAs1pfsN7UoiXC7l0oD5Bc4IrYDko1MpdYu6osy4vvfTSmKXTEnbcccd4IcWFJAhakQFAYWEuOK+//vo4vta1leWoBrptTjOe6rU3nHKRuQKCEeX89vhdnXvuubF5XjULZDc3OMe+I3tfwr6lWnWlCHhceeWV8THdLtNdciGzzjprzOZhP0Tgkl6fLrvsspidWMpFAfPwe6RGUEsE6iRJJWrYIUuS6lifPn0yM800U6Zdu3aZAw44IBlbmt9//z3TpUuXTMPFYTJmXPfcc098XYZu3bpl/vrrr8yPP/6YabgIyTRcRCdztR1jxozJXHjhhXF5O3XqlHnjjTeSKfkNHz4803AxE+fnL/8X89NPP8V1nov3bbhQja+z6KKLZr788stkSm2qxnKUu+5q2XXXXReX45RTTknGlKZ3797xeQw8bgnpeq7m67/11luZpZZaKtO3b99kzFiDBg3KdO7cOS5Pvn0K+49DDz00s++++2ZGjhyZjB2L+Xkez+d16t3PP/+c2XzzzeMy7bnnnpnffvstmVKafv36Zeaee+74/EsuuST+tor54IMP4j6LfTP7aElqi9gXNncYPXp0ScOoUaMKDhzH8g0c09LBDBZJqnPZ9Ve4+1oO6q9QIJf6LvnwerldNtNDxdChQwt2BV3PuBO/0047xWX74Ycf4t15lrdayL7JLXIJ3rdQV67F8P3RIxJZOJUM3PkuR7WXoxJ33nln3mUqZ9h4442bnbFEU5nbbrstPi70O2op1MGhkGm+ZUoHsmpozrXPPvvknZ4OdDv99NNPJ69cGE2OyFTabbfdyq5R9OSTT8ZMOJqvtOX6IA0n27HQ7PPPPx/3IZdccknZzf6ob5U2H6NwMgV0i6E4N/ushRZaqKLMQklSZazBIkl1jMBKS9RfyUYxSgZwYURzokrrr9QyLlp32WWXeDGIYrUkyqkjMnr06Nj1Kl335ru4zK7VUOw9s/Ga1Mqh4HBz0UyLujOl1ryo1nJUqwYLdT/69evXGGRsjo4dO8a6KaXWusiW1iriudRUKafwc6U1WDiFe++992KQtJA///wz1vKgi6HJ/54AADI7SURBVPdin40me3wP7XK6cM9F069bbrklFjPO7YaaplL0zkWvOUcddVTYc889Y8FoujFmm6GeCM1k0gLa2aihwuekS+J777039pRDs7N6CxbwnVB/iN8A2z+1b5qzXYGu5ClWi2K/EYJ8NHPkd0Dwi26vJaktqiR0Uepzi81XaNo44xv+kSTVqYEDB2YWX3zxmEbenNRw0vJpIpSvuUfq/fffb0xVX2GFFTINJ/IxxZ90y3pF059jjjkm89RTT+Vdjr333jsuLwNNXgota6nNXEaMGJHZeeed43wNF0qZ7777Lpnyt7SJBEOhJlsTWjWXo600EUqXd4455si88847ydjS1GMToezfRilDhw4dMm+++WYceJxvnkID71VvevXqFZfz1ltvHWe/QQr5iy++GPfZqaFDh2bOPvvszJVXXpm3CVH29kGTu2+++SaZMq7sdXvppZcmYyWp7WG/2twhbQLU1JA2B8o3ZDcLyh5sIiRJbcTHH38ce+wAmSvlZJSQqUG6PoVd8zX3SNFcJu1KlSYfzzzzTNGuoEtFAUfugFdjoDeThoNa8srF0UMHRSTJwuFuOxkUxZDhUemyUngyLUTM+1P8MlfDQT15FMJcc82VPKotbWU5qqXhZKtxffDbI+uirSPLhP1AvuGBBx5o7GmMDBbGvfvuu7HwLwOPc5+TDmRggAwW9kuM471KMWLEiJgVk2/f0JyBHtOagwxCepK64oorYlPD7P0GzfmOO+64mHEFet2ioC3dMbOuTj/99Di+EDKBCmXCsK54PZBhKEmacAywSFIdowegTJKWWG79Fdrrc2LeVB0FAgzZFws0RUrrbFSCmhCfffZZ4wVWJcO1114bppxyyuSViyMgxbJjzJgxYfjw4fFxiqYr2XVXSumuuSk0pWG9ge8pd/3xHRKwAM0plllmmfi41rSV5agWAk4EOScmNNmhOVm+YZZZZknmGturD+M6dOgQtxsGHuc+Jx3SwAxBBAJVjCu1eRD1Te644468+4ZyB5pbpc22ytG/f//YXTU9kHXp0mW8oCyvS1OetIciegn66KOP4mOk+6Rs2dM7depUsPkWvbpJkmqDARZJqlNpBgqaE/RIi+POP//8yZjCVl999diFKZrTFXQ+TV1wlTMUy8DJRUZOWm+G7J3lllsuPk5RwDfNzOCCcaONNoqPK8FFFQEJalBQa4O75NkosMoFGnbYYYeaLSDcVpajWv7666/xAnSaMNKATqUDwZ1ya6YQkKXeDMFoCgWTxZIOdM9MAWGCNmQ5pVmG/JaofQQCJ/xesrFvJuMnRdCmUI0iAjeSpNow2ckNkseSpBr2448/hmeffTZ88MEH8c4mTXV69uzZ2CRj3nnnjennTGNeggiklWfjQoDCthSqPPXUU2PhSQpTcqFI9gEBj3wIhnDxQGHbDTbYIDaxqVfcFWedvf7667GnDy5y0vXEeuCw+NJLL8Vx9K5DcclsZCzQrIj1/MILL8RAAxdDNFHi4mnAgAFxGsGH9I4zd7PJhLnoooti1gPvyToFqf0UxKTHkbXXXjvOU07AqDVVuhzNWXe1jAwsir2yDHxmetZJM3zyYR2xfrhwpjgtxWLTArWsR7ZLlp/fJM2rcn+/zcE2TXHUf/zjHzE4Wm3Zy0RwgR6LwLbCMv3vf/9rLFibK90e3nnnnXD//ffH4CaBYwKb7MsIXhUqvl0r+JwUxX7//ffjb4KswuyBjC72sywXgZZ//etfcV/Kdzv33HPHfSrjdt5551hoOPXwww/H4uLslwnS0IwoX+CHjDsKBPPbAYWjW+J7liSVqGHHLUmqAw0XSY0FD5sa8hUNbbgIzDRcAOadn6GpwqpDhgzJrLTSSvFz1DuKkF100UWZmWeeOdOxY8fMDjvskNl///0zDRdAcV3wt+GiMRZFy5VdxLXYkK+oaP/+/TOdO3dufE8GHjN/165dM8OGDUvmrG3NXY5K1l0t+vLLL2PxUT4zvw2KlhYzaNCguN5ylzd3qGbRX16nmkVuczW1TBRfpQhrPk1tD/VQ5Lac4r1HHHFE8qy/vfTSS3F/0759+8zaa6+dOeigg+L3xfzsny688MJYXLoQiit269Ytzj/DDDNknn322WSKJLU92UVryx1G5ylom2/gfLnQwD4338B5ZTrYTbMkaaJFaj2ZQGSsNBw4Y3bL+uuvH1ZbbbXGzIxq444/xTBffPHF+J4LLLBA2GyzzWJxyty6DbWsrSxHJTiFIiOM7pa7d+9elXo91ZZ2h013wQ0X7slY1ZKGk/OY7fLQQw/FLBgyXMg4org4TYmaQvbKlVdeGZs88htsbrfQklTrKgldlPrcYvMVmpY93gCLJElSG2WARZLUVlQSuij1ucXmKzQte7wBFkmSpDaMWjEdO3asi7o2kiQVUknootTnFpuv0LTs8QZYJEmSJElSTaskdFHqc4vNV2ha9ni7aZYkSZIkSaqQARZJkiRJkqQKGWCRJEmSJEmqkAEWSZIkSZKkChlgkSRJkiRJqpABFkmSJEmSpAoZYJEkSZIkSaqQARZJkiRJkqQKGWCRJEmSJEmqkAEWSZIkSZKkChlgkSRJkiRJqpABFkmSJEmSpAoZYJEkSZIkSaqQARZJkiRJkqQKGWCRJEmSJEmqkAEWSZIkSZKkChlgkSRJkiRJqpABFkmSJEmSpAoZYJEkSZIkSaqQARZJkiRJkqQKGWCRJEmSJEmqkAEWSZIkSZKkChlgkSRJkiRJqpABFkmSJEmSpAoZYJEkSZIkSaqQARZJkiRJkqQKGWCRJEmSJEmqkAEWSZIkSZKkChlgkSRJkiRJqpABFkmSJEmSpAoZYJEkSZIkSaqQARZJkiRJkqQKGWCpYaNGjQpHHHFEmGGGGcIWW2wRfvnll2TK3/76669wzTXXhEUXXTTOx/DUU0+Fd999N8w///xhxhlnDA8++GAyd/kee+yxMMsss4R55pkn9O/fPxkrSZIkSZKytdkAy7Bhw8Kll14aVl111RhkSIMPs88+e1h33XXDO++8k8xZu4YOHRp69+4dH7/++uvhiy++iI9TBFcOP/zwGIQZNGhQMnZsYObpp58OP/zwQxgzZkzjazRHr1694vv8/PPP4cUXX0zGSpIkSZKkbG0ywPLEE0+Ezp07h+OPPz68//77MciQGjFiROjXr18YOHBgMqZ2zTrrrGGHHXYIk0wySVhrrbXCAgsskEwZ6+WXXw4333xzfLz00kvHAMjnn38eNthggziQwTLNNNOEzTffPM7THLx/u3btwhxzzBHWXnvtZOxYBLF69uwZ/vnPf4Ynn3wyGStJkiRJ0sRnkkyD5HGb8Pbbb4fNNtssZlxgzTXXDNtvv33MXgHNbAgGdOvWLay33npxXL268MILw0knnRQf33nnnWGTTTaJj1tL9vvfddddYeONN46PJUmSJEmqpkpCF6U+t9h8haZlj29zGSzUG0mDK1z8P/LII6Fr165hq622igOPb7311roPrmQjS2XOOedM/pMkSZIkSa2t6gGWk08+OSyxxBIxY4S//N+aspv+LL744rF5jSRJkiRJUkuqaoCFJiIXXHBB+Prrr+P//OX/1mw6kjYFAr3elJIKRE85aRFcmr38/vvv4eKLL4495zCOXnT22GOPgnVbeI9XXnkl1j1JC+pSTPeggw4q+hxqwWy33XZx3vT9CUrdfvvtcZ7ffvstNvthPMGiwYMHx/H77LNPHJc2z+HzUqMle77cZcrn008/Dfvtt1+Yd955G+ddcMEFw7nnnhsL5YLnptN4zexx6fsjbYbVsWPHmCFE/Rj+33XXXRtfK9urr74aZp555jgPvSCxPi6//PK4/mjWlW5DkiRJkiTVg6oFWMhUIciQD+NbK5OFgMWUU04ZH//nP/8J3bt3bwxMlOKnn36KwYITTjihsakRvejce++9YY011ghvvvlmHJdiWo8ePWIQ6bXXXmssqEsxXQrQFnrOv//979ibEQV5mTdFYOGFF15I/msZBDPoYWmFFVYIt912W1zm1Pfffx+ee+658OeffyZjykdxXYrugnXyzTffxMfZ6EqawEv79u3jOhoyZEgMsLD+qKNTSc9HkiRJkiS1tqoFWO65557kUX5NTa+WlVZaKZx55plh0knHLhqBkUUWWSRmanz11VdxXDFXX311+Oyzz2IWxieffNKYmQK6PT7rrLNixkjqqquuisEK7LnnnuHLL78MP/74Y7jvvvti8IDn0JsR2SgguHHOOeeE66+/Pv5PxseVV14ZPvzwwzjccMMNoVOnTnFaIQSO+GxHHXVU/J8aLA888EAcR3Bmttlmi+MLufvuu+NnAs8l+EVvSzz//vvvD8suu2ycVsjee+89zvuD9ca4d999N6y88sqx9yEQOPnvf/8bH6dYJ9TGwf/93//F74f1cMABB8TvbZlllmn1gr2SJEmSJFWiagGWppp0tFaTD2quEADgAp5MihSZGksttVQ4++yzxwmQ5KLJCs/dYostYtMdnkPQY7XVVovTCWB8/PHH8TEBG7IusPXWW8fACc1eJptsshg4IAsGZHG888478TFBFIIRoDnOs88+G3beeecw11xzxWHbbbcNxx57bJxeCIEbPtt0002XjAmxGRPjCK7w/oV89913sQkQeB0yRcimoTkUz19//fVjgCr7tXMxLff9adrDuA4dOoQpppgibLjhho2Fdx9//PFxmgmxLliHfFc77bRTmHzyyeNjAixk07z00kvx80iSJEmSVC+qFmBp6oK4tS+YaXZCjROCI9mBFoIHBDTorjkfAivZ84Ogy7/+9a/4mODMoEGD4mMyNr799tv4uEuXLjGwkG3FFVeMGSIEF6gHAwIqadMjskhae73Q/IbPjf333z82E2oJ1HWhu2z06dNnnFo0BHXI5Fl44YUbmxJJkiRJklTPqhZgofZJMU1NbwkEPMgIeeONN2KgpV27dnH8008/HS655JJ4kZ+LLJJ8PQ/NMcccyaMQPvroo/j3vffei3+xyy67xEBM9rD22ms3ZstQdwU0oQGBl4UWWig+bk3Zn7mppkCVYB0SdCI7hSBU375943gyaKjxAqaT8SJJkiRJUr2rWoCFOh6rr7568t+4GN/a3TVno8kMgZYHH3wwBjbw0EMPhWHDhsXH5SIIo6bRI1IaxCFrhUwemgfRexHfQ2v2LiVJkiRJUkuqWoAFdOOb1vMAf/k/7d53QuvcuXNjk5jhw4c3ZpVkGz16dPJoXGkGBpkZaRFZaqik7rrrrtjsqNBw2GGHxfnS4Mwff/wRhg4dGh+3puzgUEvXxSGLJy12SzMhehOiHguZQ9S0WXTRReM0SZIkSZLqXVUDLEh7pCGowN/Wzly56aabCvYWRIHZtBbK9NNPP17NFFDgNjezZcCAAbE3Isw999yNgQGa+FAoFnfeeWfegE0uAgsEaQgy0EyJ9dSallxyycbPTO9FLR1kSYvd0kyoV69ejcE26uCk2USSJEmSJLWEfKVB8il1vmy5z6l6gGVCe/XVV2PPP1tuuWXo2bNnvKhnOPHEE+O4tCbKOuusE3v8yUW9lm222Sa89dZbYfDgwTHzgp5u6H4ZdMWc9o5D98K8Jugmedddd401VuiSmQyVzz//PJx33nmhR48ecR7QXIqgA55//vnY29Cjjz4a34tCsPR2dPrpp8fpLYEsHpYHfL511103vifvzWfgs9D9ctqtdDFpoAYEmAjWUN8m7WUJ2cVuCeiQxUJmU9orU4oNkx6Z6I1ozTXXbLVepyRJkiRJqoY2F2BJUUj1wAMPDF27do3DRRddFH799dc4bauttoo9+OQrZkutFoINa621VgygbLTRRo1dLNOFcffu3eNjUMCVLpWXW265+D91RgigUBCX4q2MP/XUU8P3338fp4OsjQsvvLDxOWTV7LjjjvG9CH7st99+LRpcYJlZdtYBhgwZEt+T9+Yz8FmyC+EWs+qqq8buoUGAiZorZKZkd4PN+2266abxL70vEUih9kp20WDwOQiwjBkzJvZ0xLqUJEmSJKletLkAyymnnBLOOOOM2EXytNNOm4wNMTOCXmueeuqpcOONN8b6IPmQ/UIzlg022CBMOunY1UPGxbnnnhszPXKfR00T6oqcf/75MUiR4rkLLLBAOPLII+NnypY+5+qrrx7nOTRZWm+99UK3bt2SMS2DZWAd3HPPPWGVVVZpXE7+UqOG7puz110hfPZbbrllnGUgSJOd2QJeM619M+WUU8Yur3ODWx07dgwHHHBA/AzLLLNM2GSTTZIpkiRJkiTVvkkyzWlo1MYQUNl+++3jY4IhaUFaVQd1ZsiY6devX1hjjTViYGe66aZLpkqSJEmSVFxzQxelPq+p+fJNzx3XZpsIqXZ89NFHjc2sCLQYXJEkSZIktTUGWNSiRo0aFYsNjxw5MhYHTgv8SpIkSZLUlhhgUYugFyKK9dIjEQEWUGNlvvnmi48lSZIkSWpLDLCo6ujueaWVVoq9Cl133XVx3O677x723Xff+FiSJEmSpLbGAIuqjp6A6MIas846a+yB6Zxzzom9JEmSJEmS1BbZi5AkSZIkSappzQ1dlPq8pubLNz13nBkskiRJkiRJFTLAIkmSJEmSVCEDLJIkSZIkSQWU2szIAIskSZIkSVKFDLBIkiRJkiRVyACLJEmSJElShQywSJIkSZIkVcgAiyRJkiRJUoUMsEiSJEmSJFXIAIskSZIkSVKFDLBIkiRJkiRVyACLJEmSJElShQywSJIkSZIkVcgAiyRJkiRJUoUMsEiSJEmSJFXIAIskSZIkSVKFDLBIkiRJkiRVyACLJEmSJElShQywSJIkSZIkVcgAiyRJkiRJUoUMsEiSJEmSJFXIAIskSZIkSVKFDLBIkiRJkiRVyACLJEmSJElShQywSJIkSZIkVcgAiyRJkiRJUoUMsEiSJEmSJFVokkyD5LEkSaohHKJ//PHH8P7774dZZpklzDXXXKF9+/bJ1OL++uuv+NwxY8aEySabLMw888zxbyFPPfVU+OSTT8Lee+8dpphiimSsJElSbWhu6KLU5xWbr9C03PEGWCRJqkFvvPFGDHYQ9Mi2yCKLhPPPPz+stdZaYZJJJknG/o3AylVXXRVOP/30MGrUqBiYGTx4cJh00knDXnvtFU488cTQrl27ZO6/HXnkkeHqq68O0047bQzGYKGFFgqdOnWKj7PNNNNM4d///nfJwR5JkqRKNTd0Uerzis1XaFrueAMskiTVmIceeijst99+MYhBUGSaaaYJ/fv3D0cccUR455134jxnnHFGOPDAA8cJshBcOfzww8MLL7wQLrnkksYgzMCBA0P37t1Dnz59woILLhhff5555kmeFcIff/wRdtlll/Dkk08mY4pbcsklwyOPPNIYiJEkSWppzQ1dlPq8YvMVmpY73hoskiTVkG+++SacdNJJMaOEAMsMM8wQm+ysssoq4YEHHgidO3eO851yyinh1VdfjY9Tr732WujZs2ecf+qpp24MvtC06OCDD46PP//883DOOefE7JYUAZbvv/8++a84MmGOPvpogyuSJEk5DLBIklRDyDIhCHLWWWeFRx99NBk71myzzRYzVDBy5Mhw3XXXjRMo6devX6y5QrMiMlxGjBiRTAlhzjnnjJkwePHFF8OwYcPiY/z2229h+PDh4cEHHwy//PJL3oHPRHCHLJotttgieaYkSZJSBlgkSaohNOfB77//Hs4999zw008/xf9TBDmmn376+JiASnagJLvZz5RTThmzTfIhuyW74O2QIUPCjDPOGJZeeulkzLhoenTaaaeFjh07xkyYfLVfJEmSJnYGWCRJqiHZQRKa4Uw11VTJf2ORxUIwBGSvkLGS2nLLLcMNN9wQjj/++FiwlkBKasCAATFoA2qoZBeo/fnnn8O8887bmOGSq3fv3uGxxx6LQRaaLEmSJGl8FrmVJKmGkC1CUx2a5Oy5556xF6Bs7777bthwww1jk57FFlssBj5y58lFIIYeie69994YRKHp0YorrphMLe6LL74IW221VQyuEMCRJEmaEJobuij1ecXmKzQtd7wZLJIk1RAK1G677baxkGy+wMmHH34Ygyugl6Cmis1y4Cdgc//998cmQxdccEFYYYUVkqnFkfFyzDHHhOWWWy5ssskmyVhJkiTlY4BFkqQ6QTHam266KT4m+ELXy4XqofTs2TPsvvvuMctljz32iEEVehnaeeedS66hQnfOdPl8wAEHxMCPJEmSCjPAIklSnXjkkUfCyy+/HDNRLrroosYum/NZfPHFY9Oe/fbbL3bx/MYbb4RLL720sYhuU+i2Oc12WWKJJZKxkiRJKsQAiyRJdaB///6xi2SCK5dffnmTXSVTY4UAy6GHHhoef/zxcNJJJ4VbbrklrLHGGuHNN99M5iqM7BWaIxGcmW666ZKxkiRJra/UOioTmgEWSZJq3Ndffx0L3o4YMSLceOONYaeddiqrq2Tm5TmLLLJI+OGHH2KTIV6zkF9++SXcdttt8fGyyy4b/0qSJKk4AyySJNUwgh3UQPnpp59ij0Fbb711WcGVFN0rd+rUKT6mhyJ6FCrko48+Cu+8807scWjuuedOxkqSJKkYAyySJNUoumzu0aNH+PLLL2Mzn5VXXjmZEsKPP/4YnnvuudjTT4qmP8cee2x4+umnx0ulnXrqqcfplei9994rmG77yiuvhJEjR4bJJpvM4raSJEklMsAiSVINIrhy8sknhz59+oRevXqFRRddNJkyVr9+/cJ//vOfMHr06Pg/9VK22WabWJ+Fbp4phlvM5JNPnjcTZtSoUbEgLmacccYw22yzxceSJEkqzgCLJEk1hswSAiVkqDzwwANhgQUWSKb87dVXXw2zzjprzEzBN998E+urYMyYMWH48OHxcYounrPrrtB9cz4///xz+Pjjj5P/JEmSVCoDLJIk1Rh68CF7heyRc889Nxx88MGNA70H0QXzxRdfHBZeeOGYiQIK2M4555zxMT3/LLfccvFxaujQoeGLL76Ij2kqtNFGG8XHucicyQ3OSIV8+umn4aijjgrrrrtuuPbaa8dpslYMQcQrrrgi9mwlSVJbYYBFkqQa8swzz4S99947ZqGQwXLTTTeNMzz//PMxW4VASHYB2nnnnTfsu+++Ydpppw177bXXOE17mPf8888P3377bezm+aKLLgqdO3dOpo5r8ODBjZkwUjFPPPFEWHPNNcN3330Xtz16nmLboz5QUwginnXWWWHBBRdMxkiSVP8MsEiSVEPovaeULADqp8w///zJf2P/p7chitxysTvXXHOFHXfcMY5bccUVY3CG+R988MGYBVPITDPNFAdMP/30FrltIX/88UfszYmmXsOGDStYcDgfmnG9/fbbYeDAgfF1qqWcz8R7H3/88WH55ZePzdn+9a9/hfvvvz8G/5Zccslw9913x8Berl9//TWcdNJJYddddw377LNPWHXVVZMpkiTVv0kaDp6lH9ElSVLNo2tnMmFeeumlWLS2ffv2Yf311w+rrbZakwETTgvInKFL6O7duxes1aLmGTFiRDjllFPC1VdfHevn0H02WUNkI9Hsi++pUDfcBFUImBGE4zslWEFPTyeeeGLYf//9mx0Ma85nuuaaa8IRRxwR35u/qRtuuCGcd955sUAyhZeXXXbZsNRSS8Vp7777bnjrrbdidhZN2AjIzDzzzHGaJEnFVBK2KPW5xeYrNC13vAEWSZKkVkDga5dddonZIdddd11j8CrN6rj++utjoOOQQw4ZL6BB5tFuu+0WlllmmVi3hCZhZDpdeOGF4eyzzw677757bAZWbpClOZ+JoF23bt3iZ7rrrrvCxhtvHMeDAAq1gu69994w3XTTxR6p0iZn88wzT+NzeS8CfpIklaKSsEWpzy02X6FpueNtIiRJktQK7rnnnjBgwIBw++23j5MZ1K5du3DOOeeEnXbaKWaMfPTRR8mUsfr37x8OPPDAWNCYoscEVzDNNNOEww47LKy33nqhZ8+e4amnnorjy9Gcz/Tnn38WrNMz++yzxwyVIUOGxAALNVq22mqrOPD6Z555ZnxNmwZJktoiAyySJEktjG6y77vvvrDCCivETI5cZJ5ss802MXBBDZQUWSqnn356rLuyxBJLxN6ishFkWX311WNQo5xefNDcz9QU7uaNHj06+W8sxvH5yIyhOVOhZlCSJNUzAyySJEktjMDCl19+GT755JOCveyQoULggZooKbJLaGYDMkLyNQFKgy7Mx/ylau5nou4LvVXl8/3338f5yWTJxmejbgvBIuuuSJLaKgMskiRJLYzisXSdTaFaapTkC2i89tprMYCy8sorJ2NCrI1CIKSYNOjCa/L6pWruZ+J5Sy+9dHyc25zp448/jgV4aWKUos4LdVxsGiRJausMsEiSJLUwgg4rrbRSfPzQQw/FroxpnpMWx6POyhVXXBGDEPSwk/rpp59iYdhSlZPB0tzPBLr6pnlS3759G7tjpnkS3TNvueWWMdsGvBY9Cw0fPtymQZKkNs8AiyRJUgsjsEBPPAsuuGD8n6yUbt26xR586Iln2223Deuss05sQpPdDKhjx44xkFGqTz/9NHnUtOZ+JtCbUY8ePcKjjz4ai+H+73//C8cff3wsgLvDDjskc9k0SJI0cbGbZkmSNFGgqOsll1wSBg0alIxpPjI06NlnrrnmSsaUhiY0O++8c6x7km3HHXcMl1122XiBjK+++ipsuOGG4dtvvw1rrLFG7PUnzQ5JnXfeeeHUU0+Nj3mdq6++Oj4uVbmfKcUp5IsvvhiOOuqo+FwyVwi2EBRC2gU0zYsIvpi9IklqrkrCFqU+t9h8habljjeDRZIkTRQmnXTSMNVUUyX/lWeppZYK6667buNAsKNQoddiFlpooZg1wmfJdscdd4QuXbrE7o2z0SUzgQsMHTo0/PHHH/Fxiv+pk1KJcj9TioDJP//5z/D666/H+i033XRTY3CFE858TYNoRnTWWWfF+WaYYYbYfXOh15ckqd6YwSJJktQKyOgg6+W5556LwQhqoHTv3j02r0nRXId6KNndJn/99dex5skXX3wRa6Ssv/76yZQQ+vTpE5vyEMhAuRkszf1MTaF+C82NCLKsuOKKcRy1Wg4//PDwwAMPxPdabbXVYubNBx98EG655ZYYcJEkKZ9KwhalPrfYfIWm5Y43g0WSJKmFEVygZgmBjF69eoX11lsvBh7IPjn55JMbs0c+//zz2Mwmu7AtgQ0CFdQw2W233WJ9lMGDB8egx9FHHx322muvZM5QVpOlSj5TMWmvQXzWFVZYIRkbwssvvxx69uwZM1p4L2rLHHvssfFzPPnkk8lckiTVLzNYJElKeAe9vnAhXy8Ihuy6667hyCOPzFuP5L333gu77757rGVC85mnnnoqdOrUKZk6FkVoL7300pjFQlObJZZYIja3obDt9ttvH+e57rrrwr/+9a/4uCnV+Ey5OK284IIL4rz0KJT+phhPYOW2226LAaKNN944jgfBI4I8N954Y5h88smTsZIk/a2SsEWpzy02X6FpueMNsEiSJLUwmuHcfvvtsdedVVddNRk7LpoAbbTRRuHnn38Ojz32WFh++eWTKcVRiPa4446LGSFPPPFEWHbZZZMpxbXEZ+rXr1/o2rVrzFRJmwaB7qapJfPWW2/FbBl6J0q9+uqrMZOFwNEss8ySjJUk6W+VhC1KfW6x+QpNyx1vEyFJkjRR+O6778LSSy8dsyoqHWiuQ/2TUtC0huwTeuMp1uXy/PPPH9Zcc834OLvgLCdvAwcOjEO+Ezx6GgI1TRZddNH4uCmVfqZ8yCiiyRE1XLKbBoFivN9//32Yeuqpw0wzzZSMHYv3p5kQgyRJ9cwAiyRJmih06NAhvPTSS7HJS6XDZ599VjDrIxfNXtq1axcDCDTtaQoBiOwgBJkdnTt3jgOPs5EZ8t///jc+pqvl3GAJ79m7d+/wyCOPjPPelX6mXAR+rr322viYmjB2ySxJmhgZYJEkSRMNesmZffbZKx7IYCkniLDBBhuE0aNHx6YzhTI16LmHABBNaeieOUUvQimK22ajSdCbb74Zm/Fsuummydi/nXfeeWGHHXYIO+20UzjttNOSsWNV8ply0WvQ9ddfH04//fSY4ZOLYA71WwjmDBo0KBk7FpktM844Y5xHkqRqKtS0pxzlvIYBFkmSpBZGUVd61aHI64knnjhe1gg99dCt8XTTTRdro2QHb9JmPzTV2XrrreNjTvbITDn44INjN8rnn39+3qY+X375ZfJobKAmuyegSj5TNpoG8fy99957vKZBKV4jbWpE06QUy0GQaPHFF4/zSJJUzyxyK0mS1ApGjBgRTjrppHD11VfH2idkkJAJQ2HYDz/8MKy99tqxmQ099mQju+Twww+PmSbLLbdcWGqppcIbb7wR3n333bDZZpvFXntyn5Miu4UMlpEjR8ZACnVasjX3M6U4jeT9X3jhhXDrrbfmzV5J8XqbbLJJWGmllcLNN98cA0JkvhDEYdlKLc4rSZr4NDdsUc7zCs1b7DVypxlgkSSpAJpP0Hzho48+CvPMM09sGlLqXXaKelIfA1NOOWWsX1GsSQkXmBQA3W677dpE/Ypy192AAQPiRfcee+wR5pprrmRs2/TNN9+EJ598MvaoA9YNXSuTiVLou2d9Eix58MEHY48+pTynHM35TCAQw3dGF8uFsleyka1C1sw//vGP2MvQNddcE4NHhxxySJvY7iVJLaO5YYtynldo3mKvkTvNAIskSTk4NHIhuP/++4ehQ4cmY8fi7vvll18eFltssWTMuMgIOOWUU2JGAAGTaaedNr4Gd+vpSpdmFLlNOQjG7LLLLvECl1oU008/fRy/zDLLhNlmmy0+zsZF7z777BNfvzm4WCejgYEmIwxjxoxpPEngQpceYyiEykCAiGGyySaL04tp7rp77rnnwlZbbRXfm4t73p+gFFkN+d53zz33jD0CacJ67733wqefftrYdKkU1JEhmMb2sf3228fAjMEVSVIxzQ1blPO8QvMWe43caQZYJEnKwmHxsssuC2effXYsEJpeOBL8OOaYY+KdfppScMd+iy22iNNS1KIgUMLfq666qjGQwEUoRUaph0GTi9ymFD/88EOsh0G2RyloFnLDDTeUFWAhgELwh2AOgRWWYaqppooBFAIY6QACMOlA8OXPP/+MzVQIsqRBo3xd9lay7lieQw89NPmvON774YcfbqzpIUmS2rbmhi3KeV6heYu9Ru40i9xKkpTl7bffjjUlrrjiirDjjjvGgAIDAQG6yJ1llllisOGII44IX3zxRfKssXr16hVrURCoyA5+LLnkkrHOBJ5//vnY20o2in7++OOPyX/F0QsOTSpKDa4QJKFJCVkDBFZopkOGCJkxBHkIlqSBFrIIGHjMOKYxD/PyHJ7La/BavCavna2SdUfwpVRdu3YNq6yySvKfJElSbTDAIklSloceeihmlBx11FGx5kW2zp07NwZKCDLcdddd8XHqlVdeiXcy+vbtGzM4smU3i6E5DNkkqWHDhsVmQTyP7Jd8w+uvvx4DHbxuKbUuQOBmyJAhMXuFIqUUL6V5Ur7sk6bwHJ7La3To0CG+Jq+d3SNMc9cd6+yrr74KBx10UAw05Vt+Ajr77bdfWH755cPJJ58cM2EkSZJqiQEWSZKyDBw4MP4dNGhQzMbI7tYWq666avIohFdffXWcQEmnTp2SR2G8OivZaGqTHeQge4O6KvPNN18yZlwEGI4++uiw6aabhm222SYZWxhZItS34C/BEGqZ5Ktj0lxkuPCaBHzIaEnfq7nr7rfffovBmvXXX7/g5yR4c//998fuiAnySJIk1RoDLJIkZckOkpD1kXvBT1AhDZ4QQMhue0tPKP/5z3/iQKHbbO+//37yKMQMlOwmPvS2s/DCC+dt9sPrU5+ErA+CLE1lbvz+++8x4EHzHgIRBENaCp+FZj+8F8uQ3ftPOeuOz0yTJIJB+Xz99dfhtNNOCwcffHDJ2TuSJEmtzSK3kiRlIauiZ8+e8TG1PggeZHvqqadCly5d4uMNNtggFqxtqh4KGSj0kEOXtgRwHnnkkTDvvPMmU4vr06dP7DHnlltuaTK4MHz48DgQWCFLpjVRCJfMFboRJlhSrXVHZgzLT+0ZsldsGiRJ0sSnuWGLcp5XaN5ir5E7zQwWSZKyEBTYd99945AbIABNW1IECZoKEFAI9tprr43BFYIEF198ccnBFbJCDjvssNgDEbVHiiGwQlObWWedtdWDKyCoMvfcc4cddtgh9qRUjXUHgl3Un6GHIYMrkiSplhlgkSSpRNRKoQ4IKNqadkOci66QCaTQk878888fmwsx72uvvRbWWWedZK7iuCNy9dVXx+Kuu+66a+zdpxCa2FBsluY6LdkkqCm8N5+Bz8JnylbqustGT0PnnHNO2G233cICCyyQjJUkSZrw8mW2GGCRJKkEHERvuummeNFPJgpdEVNTJB8CDWScbL/99jEThoDC448/HgMm2b3uFPPRRx/F7pwJyBTLeKEJDT3vtHS9lVLxGfgsfCY+G8pZd6nsANPGG2+cjJUkSapdBlgkSSoBvdjQRTIBApqtFKuHQpBhzTXXjHVXjjvuuPDyyy/HYMtFF10Ue8qhaGsxaUCCLo8JsBTLXiEAMcMMM8QmOrWCz8Jn4rOhnHWXIsB09913x+6tswsPS5Ik1SoDLJIkNaF///7hwAMPjF0T33fffSU380lRO4RMFgIMH374YTjggANi4dtCBgwYEIvF0uPOQgstlIwdH9kwBGOmn376ZEzt4DPx2V566aVmrbtevXrFABPLz3qTJEmqdQZYJEkqgmwTerGZc845wzPPPBNWXnnlZEp56LZ4jjnmiI+ff/75mNVSSN++fcO3334bgxI8Lx+K5xJgqeXgAwEiuldmuctZdwSf6HEINK8qlsEjSZJUKwywSJJUABf6ZJsQ5KCZS3ahVQIgZGeMGjUq/k+2xtNPPx2OPfbY8Oabb8Zx2egxhx5+Uh988EHyaFy8DsEI0BtQoZ5z6DWI15wQPQaViiwWmknddtttRdddLmq1vP/++/FxKT0NSZIk1QIDLJIk5UFwhaYtY8aMCXfcccd4mST0iEOdlMkmmyz+T1bKtttuGy6//PL499NPP43jC0mfl4u6JWnwhW6Pp5tuuvg4G5+JLpmpc1JN9PRz1llnhYEDByZjKrfHHnvEZeAzp3LXXa5PPvmksReiBRdcMP6VJEmqdQZYJEnKQe83PXr0iFkit99+e2yqk43Mi9dffz3MN998jc1XyLhIgwg8jwBINprzfPnll8l/ISy66KLJo3ENGTJknPnyGTFiRMzsqHavQRThJcBCF9PVwudk4DMj37rLRRMpSZKkemOARZKkLDTRIQuF3m4IDBBoOfjggxuHddddNyy55JLh4Ycfjj3cpKgvkjbX2XTTTcPCCy8cH6coXPvdd9/Fx9QVWWmlleLjXGRu/PHHH8l/+TG9JZrOEBhCsQK8zfH555+Hww47rOC6y1Xt95ckSWoNBlgkScpy/fXXh5NPPjlmozzyyCOxKUv20K9fv1hDhEDMbLPNljwrhOWWWy7stNNOsVnPbrvtFqaddtpkytiAwemnnx5GjhwZi9JeccUV4zw326BBgxqbx+RDcVtehwKy9WKRRRaJdWkKrbtsZP401Y21JElSLTLAIklSFpqnZNcLKWTGGWeMPQulKEZ79tlnx+yVzTffPHYvvPvuu4d99tknLLvssrFGy/LLLx97x1lhhRWSZ41vlllmacyEIUiTW6eE4ArT66lnHYJKZK6kctddtqmmmirMPvvs8THL2BKZOpIkSS1hkgy3kSRJUtXQFOjxxx+PGRsgYLDJJpuEpZZaqmBh1xQZKnfffXcsktu9e/cw11xzJVPGoggur0EPPdW27777xpozZOJcddVVydjqoPkRy1ZKt9I0p7ryyivDKqusEjbbbLMm15kkSWrbmhu2KOd5heYtZ7wBFkmS6sgPP/wQgytkelRbSwZY/vzzzxhkIUNHkiSpVJWELEp9brH5Ck3LN94mQpIk1RF64Zl00vo7fPOZ+eySJEltlQEWSZLqCPVh6jXAUkptG0mSpHplgEWSpDpCOmq9BlhKTdOVJEmqRwZYJEmaSFAgl56O3nnnnWRMed5+++1wzjnnxG6nJUmSNC4DLJIk1RG6LqY3nuagd6IzzzwzbLDBBo09HJWK+TfccMNwxhlnhPvuuy8ZWzo+cz11LS1JklQuAyySJNWRSmqZrLfeerEHohEjRsTuj998881kSnH9+/eP8/M8nr/22msnU0pHgKUemzZJkiSVyjMdSZLqyOSTT97sDJYFFlggPPLII6Fdu3YxWLL55pvHZj/FMH3LLbeM8/M8nj///PMnU0tHUIjPLkmS1FYZYJEkqY4QpPjrr7+S/8q3/PLLh8ceeywGS6ilsummmxYMsjCe6czH/DyP5zcHn9kAiyRJassMsEiSVEemnHLK8Oeffyb/Nc/SSy8dgyUzzjjjOEGWtEYKf7ODK8zH/Dyvuf7444/42SVJktoqAyySJNURghRkgzS3DkuKYMmjjz4aZpppphhEobnQxx9/HKd9+OGHseYK45neu3fvioIrNGkaNWqUARZJktSmTZJpkDyWJEl1YOjQoWHaaaeNQ6UIpmyyySbhhx9+SMb8bZZZZonBlc6dOydjmue3334Lv//+e5h11lmTMZIkSaWpJGRR6nOLzVdoWr7xZrBIklRnpp566tjkphoInjz55JMxmJKN/xlfaXAFNGniM0uSJLVlBlgkSaozZK4QYKHZTTUsvPDCMZjSoUOH+D9/+Z/xleIz8lmrkW0jSZJUywywSJJUZyaddNIw3XTTxRop1UIw5Zlnngm77bZbePbZZ6sSXAGfkc/KZ5YkSWrLrMEiSVIdonDskCFDwmyzzRammGKKZGxtoRjv999/Hzp27Bgmm2yyZKwkSVLpKglZlPrcYvMVmpZvvLeTJEmqQwQs2rVrF37++edkTO3hs/EZDa5IkqSJgQEWSZLqFMEL0EtPrRk+fHj8m35GSZKkts4AiyRJdax9+/YxU4SeemoFn4XaK3w2SZKkiYUBFkmS6hj1V2aaaaYwbNiwqvUqVAk+A5+Fz1SrtWEkSZKqL4T/B+PSpiGQCCjLAAAAAElFTkSuQmCC)"
      ],
      "metadata": {
        "id": "BjNPO-cqDxi5"
      },
      "id": "BjNPO-cqDxi5"
    },
    {
      "cell_type": "markdown",
      "source": [
        "![image.png](data:image/png;base64,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)"
      ],
      "metadata": {
        "id": "CQ6j5C33D-Hn"
      },
      "id": "CQ6j5C33D-Hn"
    },
    {
      "cell_type": "markdown",
      "source": [
        "![image.png](data:image/png;base64,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)"
      ],
      "metadata": {
        "id": "fS583wRdEBag"
      },
      "id": "fS583wRdEBag"
    },
    {
      "cell_type": "code",
      "source": [],
      "metadata": {
        "id": "QfxWgtrkDTuQ"
      },
      "id": "QfxWgtrkDTuQ",
      "execution_count": null,
      "outputs": []
    }
  ],
  "metadata": {
    "accelerator": "GPU",
    "colab": {
      "gpuType": "T4",
      "provenance": []
    },
    "kernelspec": {
      "display_name": "Python 3",
      "name": "python3"
    },
    "language_info": {
      "codemirror_mode": {
        "name": "ipython",
        "version": 3
      },
      "file_extension": ".py",
      "mimetype": "text/x-python",
      "name": "python",
      "nbconvert_exporter": "python",
      "pygments_lexer": "ipython3",
      "version": "3.9.13"
    }
  },
  "nbformat": 4,
  "nbformat_minor": 5
}
{
  "cells": [
    {
      "cell_type": "markdown",
      "id": "4d2e2710",
      "metadata": {
        "id": "4d2e2710"
      },
      "source": [
        "3 iterasi, akurasi terbaik"
      ]
    },
    {
      "cell_type": "markdown",
      "id": "30536ba6-e5ef-4e4a-8334-fdc16153a88b",
      "metadata": {
        "id": "30536ba6-e5ef-4e4a-8334-fdc16153a88b"
      },
      "source": [
        "# Cell 1: Import Libraries and Setup Device\n",
        "\"\"\"\n",
        "This cell imports all the necessary libraries and sets up the device for GPU computation if available.\n",
        "We are using PyTorch for deep learning, OpenCV for image processing, and Matplotlib/Seaborn for visualization.\n",
        "\"\"\""
      ]
    },
    {
      "cell_type": "code",
      "execution_count": null,
      "id": "95a797c4-eac9-4297-ab3a-d604f3c97bb0",
      "metadata": {
        "colab": {
          "base_uri": "https://localhost:8080/"
        },
        "id": "95a797c4-eac9-4297-ab3a-d604f3c97bb0",
        "outputId": "05bb8549-9429-4ebc-99ef-c6c1d57b98b0"
      },
      "outputs": [
        {
          "output_type": "stream",
          "name": "stdout",
          "text": [
            "Using device: cuda\n",
            "Mounted at /content/drive\n"
          ]
        }
      ],
      "source": [
        "import torch\n",
        "import torch.nn as nn\n",
        "import torch.optim as optim\n",
        "from torch.utils.data import DataLoader, Dataset\n",
        "from torchvision import models, transforms\n",
        "import cv2\n",
        "from torchvision.transforms import v2\n",
        "import matplotlib.pyplot as plt\n",
        "import matplotlib.patheffects as path_effects\n",
        "from tqdm import tqdm\n",
        "import os\n",
        "import numpy as np\n",
        "import time\n",
        "from sklearn.metrics import precision_score, recall_score, f1_score, confusion_matrix\n",
        "import seaborn as sns\n",
        "\n",
        "# Cek apakah kode dijalankan di Google Colab\n",
        "IN_COLAB = 'google.colab' in str(get_ipython())\n",
        "\n",
        "# Cek apakah GPU tersedia, jika tidak gunakan CPU\n",
        "device = torch.device('cuda' if torch.cuda.is_available() else 'cpu')\n",
        "print(f'Using device: {device}')\n",
        "\n",
        "# Mount Google Drive jika menggunakan Google Colab\n",
        "if IN_COLAB:\n",
        "    from google.colab import drive\n",
        "    drive.mount('/content/drive')\n"
      ]
    },
    {
      "cell_type": "markdown",
      "id": "5ecb4d58-7a41-404e-921f-59c8133c02a4",
      "metadata": {
        "id": "5ecb4d58-7a41-404e-921f-59c8133c02a4"
      },
      "source": [
        "# Cell 2: Define Data Loading and Preprocessing Functions\n",
        "\"\"\"\n",
        "This cell contains functions to load and preprocess images from the dataset.\n",
        "The `load_data` function loads images from the specified directory and assigns labels based on the folder structure.\n",
        "The `preprocess_image` function applies CLAHE and unsharp masking to enhance image quality.\n",
        "The `CustomDataset` class integrates these functions and prepares the dataset for use in PyTorch.\n",
        "\"\"\""
      ]
    },
    {
      "cell_type": "code",
      "execution_count": null,
      "id": "cca994b4-b0e2-4faa-8519-5a473288e647",
      "metadata": {
        "id": "cca994b4-b0e2-4faa-8519-5a473288e647"
      },
      "outputs": [],
      "source": [
        "def load_data(dataset_path, subset):\n",
        "    images = []\n",
        "    labels = []\n",
        "\n",
        "    # Tentukan label sesuai dengan subset\n",
        "\n",
        "    label_names = ['adenocarcinoma', 'large.cell.carcinoma', 'normal', 'squamous.cell.carcinoma']\n",
        "\n",
        "\n",
        "\n",
        "    # Pemetaan nama label ke indeks\n",
        "    label_map = {name: idx for idx, name in enumerate(label_names)}\n",
        "\n",
        "    subset_path = os.path.join(dataset_path, subset)\n",
        "    for label_name in label_names:\n",
        "        image_dir = os.path.join(subset_path, label_name)\n",
        "        if not os.path.exists(image_dir):\n",
        "            raise FileNotFoundError(f\"Directory not found: {image_dir}\")\n",
        "        for file_name in os.listdir(image_dir):\n",
        "            if file_name.endswith('.png'):  # Cek jika file adalah gambar PNG\n",
        "                image_path = os.path.join(image_dir, file_name)\n",
        "                image = cv2.imread(image_path, cv2.IMREAD_GRAYSCALE)\n",
        "                if image is None:\n",
        "                    print(f\"Warning: Unable to load image {image_path}\")\n",
        "                    continue\n",
        "                images.append(image)\n",
        "                labels.append(label_map[label_name])\n",
        "                print(f\"Loaded image {image_path}\")\n",
        "    return images, labels\n",
        "\n",
        "def preprocess_image(image):\n",
        "    if image is None or image.size == 0:\n",
        "        raise ValueError(\"Empty image provided for preprocessing\")\n",
        "\n",
        "    # Terapkan CLAHE untuk meningkatkan kontras\n",
        "    #clahe = cv2.createCLAHE(clipLimit=2.0, tileGridSize=(8, 8))\n",
        "    clahe = cv2.createCLAHE(clipLimit=2.5, tileGridSize=(10, 10))\n",
        "\n",
        "    clahe_image = clahe.apply(image)\n",
        "\n",
        "    # Terapkan Gaussian Blur untuk menghaluskan gambar\n",
        "    #gaussian = cv2.GaussianBlur(image, (9, 9), 10.0)\n",
        "    # Terapkan Unsharp Masking untuk meningkatkan ketajaman gambar\n",
        "    #unsharp_image = cv2.addWeighted(clahe_image, 1.5, gaussian, -0.5, 0, clahe_image)\n",
        "    #unsharp_image = cv2.addWeighted(gaussian, 1.5, gaussian, -0.5, 0)\n",
        "\n",
        "    return clahe_image\n",
        "\n",
        "class CustomDataset(Dataset):\n",
        "    def __init__(self, images, labels, transform=None):\n",
        "        self.images = images\n",
        "        self.labels = labels\n",
        "        self.transform = transform\n",
        "\n",
        "    def __len__(self):\n",
        "        return len(self.images)\n",
        "\n",
        "    def __getitem__(self, idx):\n",
        "        image = self.images[idx]\n",
        "        label = self.labels[idx]\n",
        "        try:\n",
        "            # Proses gambar\n",
        "            image = preprocess_image(image)\n",
        "        except ValueError as e:\n",
        "            print(f\"Error preprocessing image at index {idx}: {e}\")\n",
        "            plt.imshow(image, cmap='gray')\n",
        "            plt.title(f\"Label: {label}\")\n",
        "            plt.show()\n",
        "            raise e\n",
        "        # Terapkan transformasi jika ada\n",
        "        if self.transform:\n",
        "            image = self.transform(image)\n",
        "        if image.dim() == 2:  # Pastikan gambar memiliki 3 dimensi\n",
        "            image = image.unsqueeze(0)\n",
        "        return image, label\n"
      ]
    },
    {
      "cell_type": "markdown",
      "id": "df44014e-ffbf-42f2-a213-c2f28a911926",
      "metadata": {
        "id": "df44014e-ffbf-42f2-a213-c2f28a911926"
      },
      "source": [
        "# Cell 3: Load and Transform Data\n",
        "\"\"\"\n",
        "This cell loads the data and applies the necessary transformations.\n",
        "The dataset is divided into training, validation, and test sets.\n",
        "Each image is transformed into a 224x224 size tensor suitable for input to the VGG-16 model.\n",
        "\"\"\""
      ]
    },
    {
      "cell_type": "code",
      "execution_count": null,
      "id": "mrStcymcr40g",
      "metadata": {
        "colab": {
          "base_uri": "https://localhost:8080/"
        },
        "id": "mrStcymcr40g",
        "outputId": "b8a67272-98ae-42ee-ee18-e6d7652dfdff"
      },
      "outputs": [
        {
          "output_type": "stream",
          "name": "stdout",
          "text": [
            "Loaded image /content/drive/MyDrive/Chest-CT-Data/train/adenocarcinoma/ad12.png\n",
            "Loaded image /content/drive/MyDrive/Chest-CT-Data/train/adenocarcinoma/000104 (10).png\n",
            "Loaded image /content/drive/MyDrive/Chest-CT-Data/train/adenocarcinoma/000118 (4).png\n",
            "Loaded image /content/drive/MyDrive/Chest-CT-Data/train/adenocarcinoma/ad21.png\n",
            "Loaded image /content/drive/MyDrive/Chest-CT-Data/train/adenocarcinoma/000107 (9).png\n",
            "Loaded image /content/drive/MyDrive/Chest-CT-Data/train/adenocarcinoma/000102 (7).png\n",
            "Loaded image /content/drive/MyDrive/Chest-CT-Data/train/adenocarcinoma/000097 (2).png\n",
            "Loaded image /content/drive/MyDrive/Chest-CT-Data/train/adenocarcinoma/000106 (10).png\n",
            "Loaded image /content/drive/MyDrive/Chest-CT-Data/train/adenocarcinoma/000101 (7).png\n",
            "Loaded image /content/drive/MyDrive/Chest-CT-Data/train/adenocarcinoma/000105 (4).png\n",
            "Loaded image /content/drive/MyDrive/Chest-CT-Data/train/adenocarcinoma/ad2.png\n",
            "Loaded image /content/drive/MyDrive/Chest-CT-Data/train/adenocarcinoma/000122.png\n",
            "Loaded image /content/drive/MyDrive/Chest-CT-Data/train/adenocarcinoma/000106 (4).png\n",
            "Loaded image /content/drive/MyDrive/Chest-CT-Data/train/adenocarcinoma/000102 (2).png\n",
            "Loaded image /content/drive/MyDrive/Chest-CT-Data/train/adenocarcinoma/000097 (10).png\n",
            "Loaded image /content/drive/MyDrive/Chest-CT-Data/train/adenocarcinoma/000121 (9).png\n",
            "Loaded image /content/drive/MyDrive/Chest-CT-Data/train/adenocarcinoma/000106 (8).png\n",
            "Loaded image /content/drive/MyDrive/Chest-CT-Data/train/adenocarcinoma/000095.png\n",
            "Loaded image /content/drive/MyDrive/Chest-CT-Data/train/adenocarcinoma/ad1.png\n",
            "Loaded image /content/drive/MyDrive/Chest-CT-Data/train/adenocarcinoma/ad9.png\n",
            "Loaded image /content/drive/MyDrive/Chest-CT-Data/train/adenocarcinoma/000100 (10).png\n",
            "Loaded image /content/drive/MyDrive/Chest-CT-Data/train/adenocarcinoma/ad18.png\n",
            "Loaded image /content/drive/MyDrive/Chest-CT-Data/train/adenocarcinoma/ad11.png\n",
            "Loaded image /content/drive/MyDrive/Chest-CT-Data/train/adenocarcinoma/000119 (10).png\n",
            "Loaded image /content/drive/MyDrive/Chest-CT-Data/train/adenocarcinoma/000118 (6).png\n",
            "Loaded image /content/drive/MyDrive/Chest-CT-Data/train/adenocarcinoma/000102.png\n",
            "Loaded image /content/drive/MyDrive/Chest-CT-Data/train/adenocarcinoma/ad19.png\n",
            "Loaded image /content/drive/MyDrive/Chest-CT-Data/train/adenocarcinoma/000050 (3).png\n",
            "Loaded image /content/drive/MyDrive/Chest-CT-Data/train/adenocarcinoma/000098 (8).png\n",
            "Loaded image /content/drive/MyDrive/Chest-CT-Data/train/adenocarcinoma/ad16.png\n",
            "Loaded image /content/drive/MyDrive/Chest-CT-Data/train/adenocarcinoma/000030 (4).png\n",
            "Loaded image /content/drive/MyDrive/Chest-CT-Data/train/adenocarcinoma/000119 (4).png\n",
            "Loaded image /content/drive/MyDrive/Chest-CT-Data/train/adenocarcinoma/ad10.png\n",
            "Loaded image /content/drive/MyDrive/Chest-CT-Data/train/adenocarcinoma/000097 (3).png\n",
            "Loaded image /content/drive/MyDrive/Chest-CT-Data/train/adenocarcinoma/ad14.png\n",
            "Loaded image /content/drive/MyDrive/Chest-CT-Data/train/adenocarcinoma/000105 (3).png\n",
            "Loaded image /content/drive/MyDrive/Chest-CT-Data/train/adenocarcinoma/ad17.png\n",
            "Loaded image /content/drive/MyDrive/Chest-CT-Data/train/adenocarcinoma/ad3.png\n",
            "Loaded image /content/drive/MyDrive/Chest-CT-Data/train/adenocarcinoma/ad13.png\n",
            "Loaded image /content/drive/MyDrive/Chest-CT-Data/train/adenocarcinoma/000096 (7).png\n",
            "Loaded image /content/drive/MyDrive/Chest-CT-Data/train/adenocarcinoma/ad7.png\n",
            "Loaded image /content/drive/MyDrive/Chest-CT-Data/train/adenocarcinoma/ad4.png\n",
            "Loaded image /content/drive/MyDrive/Chest-CT-Data/train/adenocarcinoma/000005 (3).png\n",
            "Loaded image /content/drive/MyDrive/Chest-CT-Data/train/adenocarcinoma/000098 (5).png\n",
            "Loaded image /content/drive/MyDrive/Chest-CT-Data/train/adenocarcinoma/ad22.png\n",
            "Loaded image /content/drive/MyDrive/Chest-CT-Data/train/adenocarcinoma/000058 (5).png\n",
            "Loaded image /content/drive/MyDrive/Chest-CT-Data/train/adenocarcinoma/000103 (9).png\n",
            "Loaded image /content/drive/MyDrive/Chest-CT-Data/train/adenocarcinoma/000087 (4).png\n",
            "Loaded image /content/drive/MyDrive/Chest-CT-Data/train/adenocarcinoma/ad6.png\n",
            "Loaded image /content/drive/MyDrive/Chest-CT-Data/train/adenocarcinoma/000095 (6).png\n",
            "Loaded image /content/drive/MyDrive/Chest-CT-Data/train/adenocarcinoma/000119 (6).png\n",
            "Loaded image /content/drive/MyDrive/Chest-CT-Data/train/adenocarcinoma/ad15.png\n",
            "Loaded image /content/drive/MyDrive/Chest-CT-Data/train/adenocarcinoma/000121 (10).png\n",
            "Loaded image /content/drive/MyDrive/Chest-CT-Data/train/adenocarcinoma/000021 (4).png\n",
            "Loaded image /content/drive/MyDrive/Chest-CT-Data/train/adenocarcinoma/000121.png\n",
            "Loaded image /content/drive/MyDrive/Chest-CT-Data/train/adenocarcinoma/000105.png\n",
            "Loaded image /content/drive/MyDrive/Chest-CT-Data/train/adenocarcinoma/000099 (7).png\n",
            "Loaded image /content/drive/MyDrive/Chest-CT-Data/train/adenocarcinoma/000040 (3).png\n",
            "Loaded image /content/drive/MyDrive/Chest-CT-Data/train/adenocarcinoma/000035 (4).png\n",
            "Loaded image /content/drive/MyDrive/Chest-CT-Data/train/adenocarcinoma/000034 (6).png\n",
            "Loaded image /content/drive/MyDrive/Chest-CT-Data/train/adenocarcinoma/000081 (2).png\n",
            "Loaded image /content/drive/MyDrive/Chest-CT-Data/train/adenocarcinoma/000015 (10).png\n",
            "Loaded image /content/drive/MyDrive/Chest-CT-Data/train/adenocarcinoma/000015 (9).png\n",
            "Loaded image /content/drive/MyDrive/Chest-CT-Data/train/adenocarcinoma/000029 (4).png\n",
            "Loaded image /content/drive/MyDrive/Chest-CT-Data/train/adenocarcinoma/000040 (5).png\n",
            "Loaded image /content/drive/MyDrive/Chest-CT-Data/train/adenocarcinoma/000092 (10).png\n",
            "Loaded image /content/drive/MyDrive/Chest-CT-Data/train/adenocarcinoma/000024 (10).png\n",
            "Loaded image /content/drive/MyDrive/Chest-CT-Data/train/adenocarcinoma/000022 (9).png\n",
            "Loaded image /content/drive/MyDrive/Chest-CT-Data/train/adenocarcinoma/000016 (9).png\n",
            "Loaded image /content/drive/MyDrive/Chest-CT-Data/train/adenocarcinoma/000104 (4).png\n",
            "Loaded image /content/drive/MyDrive/Chest-CT-Data/train/adenocarcinoma/000019 (5).png\n",
            "Loaded image /content/drive/MyDrive/Chest-CT-Data/train/adenocarcinoma/000022 (8).png\n",
            "Loaded image /content/drive/MyDrive/Chest-CT-Data/train/adenocarcinoma/ad5.png\n",
            "Loaded image /content/drive/MyDrive/Chest-CT-Data/train/adenocarcinoma/000024 (7).png\n",
            "Loaded image /content/drive/MyDrive/Chest-CT-Data/train/adenocarcinoma/000084 (3).png\n",
            "Loaded image /content/drive/MyDrive/Chest-CT-Data/train/adenocarcinoma/000024 (6).png\n",
            "Loaded image /content/drive/MyDrive/Chest-CT-Data/train/adenocarcinoma/000049 (5).png\n",
            "Loaded image /content/drive/MyDrive/Chest-CT-Data/train/adenocarcinoma/000093 (10).png\n",
            "Loaded image /content/drive/MyDrive/Chest-CT-Data/train/adenocarcinoma/000085 (10).png\n",
            "Loaded image /content/drive/MyDrive/Chest-CT-Data/train/adenocarcinoma/000048 (8).png\n",
            "Loaded image /content/drive/MyDrive/Chest-CT-Data/train/adenocarcinoma/000017 (8).png\n",
            "Loaded image /content/drive/MyDrive/Chest-CT-Data/train/adenocarcinoma/000084 (7).png\n",
            "Loaded image /content/drive/MyDrive/Chest-CT-Data/train/adenocarcinoma/000041 (4).png\n",
            "Loaded image /content/drive/MyDrive/Chest-CT-Data/train/adenocarcinoma/ad20.png\n",
            "Loaded image /content/drive/MyDrive/Chest-CT-Data/train/adenocarcinoma/000068 (9).png\n",
            "Loaded image /content/drive/MyDrive/Chest-CT-Data/train/adenocarcinoma/000102 (3).png\n",
            "Loaded image /content/drive/MyDrive/Chest-CT-Data/train/adenocarcinoma/000035 (6).png\n",
            "Loaded image /content/drive/MyDrive/Chest-CT-Data/train/adenocarcinoma/000066 (10).png\n",
            "Loaded image /content/drive/MyDrive/Chest-CT-Data/train/adenocarcinoma/000086 (8).png\n",
            "Loaded image /content/drive/MyDrive/Chest-CT-Data/train/adenocarcinoma/000029 (9).png\n",
            "Loaded image /content/drive/MyDrive/Chest-CT-Data/train/adenocarcinoma/000085 (4).png\n",
            "Loaded image /content/drive/MyDrive/Chest-CT-Data/train/adenocarcinoma/000051 (4).png\n",
            "Loaded image /content/drive/MyDrive/Chest-CT-Data/train/adenocarcinoma/000078 (6).png\n",
            "Loaded image /content/drive/MyDrive/Chest-CT-Data/train/adenocarcinoma/000089 (8).png\n",
            "Loaded image /content/drive/MyDrive/Chest-CT-Data/train/adenocarcinoma/000044 (9).png\n",
            "Loaded image /content/drive/MyDrive/Chest-CT-Data/train/adenocarcinoma/000026 (3).png\n",
            "Loaded image /content/drive/MyDrive/Chest-CT-Data/train/adenocarcinoma/000048.png\n",
            "Loaded image /content/drive/MyDrive/Chest-CT-Data/train/adenocarcinoma/000071 (3).png\n",
            "Loaded image /content/drive/MyDrive/Chest-CT-Data/train/adenocarcinoma/000054 (6).png\n",
            "Loaded image /content/drive/MyDrive/Chest-CT-Data/train/adenocarcinoma/000052 (10).png\n",
            "Loaded image /content/drive/MyDrive/Chest-CT-Data/train/adenocarcinoma/000087 (8).png\n",
            "Loaded image /content/drive/MyDrive/Chest-CT-Data/train/adenocarcinoma/000044 (10).png\n",
            "Loaded image /content/drive/MyDrive/Chest-CT-Data/train/adenocarcinoma/000013 (8).png\n",
            "Loaded image /content/drive/MyDrive/Chest-CT-Data/train/adenocarcinoma/000021 (8).png\n",
            "Loaded image /content/drive/MyDrive/Chest-CT-Data/train/adenocarcinoma/000055 (2).png\n",
            "Loaded image /content/drive/MyDrive/Chest-CT-Data/train/adenocarcinoma/000063 (3).png\n",
            "Loaded image /content/drive/MyDrive/Chest-CT-Data/train/adenocarcinoma/000023 (5).png\n",
            "Loaded image /content/drive/MyDrive/Chest-CT-Data/train/adenocarcinoma/000009 (7).png\n",
            "Loaded image /content/drive/MyDrive/Chest-CT-Data/train/adenocarcinoma/000023 (10).png\n",
            "Loaded image /content/drive/MyDrive/Chest-CT-Data/train/adenocarcinoma/ad8.png\n",
            "Loaded image /content/drive/MyDrive/Chest-CT-Data/train/adenocarcinoma/000050 (7).png\n",
            "Loaded image /content/drive/MyDrive/Chest-CT-Data/train/adenocarcinoma/000079 (6).png\n",
            "Loaded image /content/drive/MyDrive/Chest-CT-Data/train/adenocarcinoma/000068 (3).png\n",
            "Loaded image /content/drive/MyDrive/Chest-CT-Data/train/adenocarcinoma/000063 (5).png\n",
            "Loaded image /content/drive/MyDrive/Chest-CT-Data/train/adenocarcinoma/000022 (2).png\n",
            "Loaded image /content/drive/MyDrive/Chest-CT-Data/train/adenocarcinoma/000061.png\n",
            "Loaded image /content/drive/MyDrive/Chest-CT-Data/train/adenocarcinoma/000017 (6).png\n",
            "Loaded image /content/drive/MyDrive/Chest-CT-Data/train/adenocarcinoma/000065 (9).png\n",
            "Loaded image /content/drive/MyDrive/Chest-CT-Data/train/adenocarcinoma/000069 (6).png\n",
            "Loaded image /content/drive/MyDrive/Chest-CT-Data/train/adenocarcinoma/000033 (9).png\n",
            "Loaded image /content/drive/MyDrive/Chest-CT-Data/train/adenocarcinoma/000027 (4).png\n",
            "Loaded image /content/drive/MyDrive/Chest-CT-Data/train/adenocarcinoma/000086 (3).png\n",
            "Loaded image /content/drive/MyDrive/Chest-CT-Data/train/adenocarcinoma/000042 (10).png\n",
            "Loaded image /content/drive/MyDrive/Chest-CT-Data/train/adenocarcinoma/000051 (3).png\n",
            "Loaded image /content/drive/MyDrive/Chest-CT-Data/train/adenocarcinoma/000040 (10).png\n",
            "Loaded image /content/drive/MyDrive/Chest-CT-Data/train/adenocarcinoma/000015 (4).png\n",
            "Loaded image /content/drive/MyDrive/Chest-CT-Data/train/adenocarcinoma/000024.png\n",
            "Loaded image /content/drive/MyDrive/Chest-CT-Data/train/adenocarcinoma/000049 (9).png\n",
            "Loaded image /content/drive/MyDrive/Chest-CT-Data/train/adenocarcinoma/000083 (3).png\n",
            "Loaded image /content/drive/MyDrive/Chest-CT-Data/train/adenocarcinoma/000005 (9).png\n",
            "Loaded image /content/drive/MyDrive/Chest-CT-Data/train/adenocarcinoma/000023 (7).png\n",
            "Loaded image /content/drive/MyDrive/Chest-CT-Data/train/adenocarcinoma/000057 (2).png\n",
            "Loaded image /content/drive/MyDrive/Chest-CT-Data/train/adenocarcinoma/000075 (5).png\n",
            "Loaded image /content/drive/MyDrive/Chest-CT-Data/train/adenocarcinoma/000084 (2).png\n",
            "Loaded image /content/drive/MyDrive/Chest-CT-Data/train/adenocarcinoma/000080 (6).png\n",
            "Loaded image /content/drive/MyDrive/Chest-CT-Data/train/adenocarcinoma/000054 (7).png\n",
            "Loaded image /content/drive/MyDrive/Chest-CT-Data/train/adenocarcinoma/000023 (9).png\n",
            "Loaded image /content/drive/MyDrive/Chest-CT-Data/train/adenocarcinoma/000077 (6).png\n",
            "Loaded image /content/drive/MyDrive/Chest-CT-Data/train/adenocarcinoma/000035 (8).png\n",
            "Loaded image /content/drive/MyDrive/Chest-CT-Data/train/adenocarcinoma/000054 (5).png\n",
            "Loaded image /content/drive/MyDrive/Chest-CT-Data/train/adenocarcinoma/000020 (5).png\n",
            "Loaded image /content/drive/MyDrive/Chest-CT-Data/train/adenocarcinoma/000091.png\n",
            "Loaded image /content/drive/MyDrive/Chest-CT-Data/train/adenocarcinoma/000077 (9).png\n",
            "Loaded image /content/drive/MyDrive/Chest-CT-Data/train/adenocarcinoma/000054.png\n",
            "Loaded image /content/drive/MyDrive/Chest-CT-Data/train/adenocarcinoma/000119 (5).png\n",
            "Loaded image /content/drive/MyDrive/Chest-CT-Data/train/adenocarcinoma/000063 (7).png\n",
            "Loaded image /content/drive/MyDrive/Chest-CT-Data/train/adenocarcinoma/000021 (3).png\n",
            "Loaded image /content/drive/MyDrive/Chest-CT-Data/train/adenocarcinoma/000091 (7).png\n",
            "Loaded image /content/drive/MyDrive/Chest-CT-Data/train/adenocarcinoma/000090 (2).png\n",
            "Loaded image /content/drive/MyDrive/Chest-CT-Data/train/adenocarcinoma/000041 (8).png\n",
            "Loaded image /content/drive/MyDrive/Chest-CT-Data/train/adenocarcinoma/000041 (2).png\n",
            "Loaded image /content/drive/MyDrive/Chest-CT-Data/train/adenocarcinoma/000085 (7).png\n",
            "Loaded image /content/drive/MyDrive/Chest-CT-Data/train/adenocarcinoma/000032 (8).png\n",
            "Loaded image /content/drive/MyDrive/Chest-CT-Data/train/adenocarcinoma/000035 (5).png\n",
            "Loaded image /content/drive/MyDrive/Chest-CT-Data/train/adenocarcinoma/000067.png\n",
            "Loaded image /content/drive/MyDrive/Chest-CT-Data/train/adenocarcinoma/000091 (3).png\n",
            "Loaded image /content/drive/MyDrive/Chest-CT-Data/train/adenocarcinoma/000057.png\n",
            "Loaded image /content/drive/MyDrive/Chest-CT-Data/train/adenocarcinoma/000068 (10).png\n",
            "Loaded image /content/drive/MyDrive/Chest-CT-Data/train/adenocarcinoma/000009 (3).png\n",
            "Loaded image /content/drive/MyDrive/Chest-CT-Data/train/adenocarcinoma/000014 (7).png\n",
            "Loaded image /content/drive/MyDrive/Chest-CT-Data/train/adenocarcinoma/000084.png\n",
            "Loaded image /content/drive/MyDrive/Chest-CT-Data/train/adenocarcinoma/000031 (3).png\n",
            "Loaded image /content/drive/MyDrive/Chest-CT-Data/train/adenocarcinoma/000029 (5).png\n",
            "Loaded image /content/drive/MyDrive/Chest-CT-Data/train/adenocarcinoma/000036 (7).png\n",
            "Loaded image /content/drive/MyDrive/Chest-CT-Data/train/adenocarcinoma/000080 (10).png\n",
            "Loaded image /content/drive/MyDrive/Chest-CT-Data/train/adenocarcinoma/000021 (6).png\n",
            "Loaded image /content/drive/MyDrive/Chest-CT-Data/train/adenocarcinoma/000093 (4).png\n",
            "Loaded image /content/drive/MyDrive/Chest-CT-Data/train/adenocarcinoma/000000 (6).png\n",
            "Loaded image /content/drive/MyDrive/Chest-CT-Data/train/adenocarcinoma/000065 (8).png\n",
            "Loaded image /content/drive/MyDrive/Chest-CT-Data/train/adenocarcinoma/000018 (5).png\n",
            "Loaded image /content/drive/MyDrive/Chest-CT-Data/train/adenocarcinoma/000072 (10).png\n",
            "Loaded image /content/drive/MyDrive/Chest-CT-Data/train/adenocarcinoma/000013 (4).png\n",
            "Loaded image /content/drive/MyDrive/Chest-CT-Data/train/adenocarcinoma/000093 (6).png\n",
            "Loaded image /content/drive/MyDrive/Chest-CT-Data/train/adenocarcinoma/000083 (6).png\n",
            "Loaded image /content/drive/MyDrive/Chest-CT-Data/train/adenocarcinoma/000025 (6).png\n",
            "Loaded image /content/drive/MyDrive/Chest-CT-Data/train/adenocarcinoma/000026 (10).png\n",
            "Loaded image /content/drive/MyDrive/Chest-CT-Data/train/adenocarcinoma/000074 (5).png\n",
            "Loaded image /content/drive/MyDrive/Chest-CT-Data/train/adenocarcinoma/000059 (7).png\n",
            "Loaded image /content/drive/MyDrive/Chest-CT-Data/train/adenocarcinoma/000020 (10).png\n",
            "Loaded image /content/drive/MyDrive/Chest-CT-Data/train/adenocarcinoma/000021 (5).png\n",
            "Loaded image /content/drive/MyDrive/Chest-CT-Data/train/adenocarcinoma/000066 (9).png\n",
            "Loaded image /content/drive/MyDrive/Chest-CT-Data/train/adenocarcinoma/000020 (6).png\n",
            "Loaded image /content/drive/MyDrive/Chest-CT-Data/train/adenocarcinoma/000046 (5).png\n",
            "Loaded image /content/drive/MyDrive/Chest-CT-Data/train/adenocarcinoma/000036 (6).png\n",
            "Loaded image /content/drive/MyDrive/Chest-CT-Data/train/adenocarcinoma/000050 (5).png\n",
            "Loaded image /content/drive/MyDrive/Chest-CT-Data/train/adenocarcinoma/000067 (10).png\n",
            "Loaded image /content/drive/MyDrive/Chest-CT-Data/train/adenocarcinoma/000022 (10).png\n",
            "Loaded image /content/drive/MyDrive/Chest-CT-Data/train/adenocarcinoma/000022.png\n",
            "Loaded image /content/drive/MyDrive/Chest-CT-Data/train/adenocarcinoma/000027 (6).png\n",
            "Loaded image /content/drive/MyDrive/Chest-CT-Data/train/adenocarcinoma/000056 (7).png\n",
            "Loaded image /content/drive/MyDrive/Chest-CT-Data/train/adenocarcinoma/000041 (7).png\n",
            "Loaded image /content/drive/MyDrive/Chest-CT-Data/train/adenocarcinoma/000008 (10).png\n",
            "Loaded image /content/drive/MyDrive/Chest-CT-Data/train/adenocarcinoma/000065 (3).png\n",
            "Loaded image /content/drive/MyDrive/Chest-CT-Data/train/adenocarcinoma/000058 (4).png\n",
            "Loaded image /content/drive/MyDrive/Chest-CT-Data/train/adenocarcinoma/000050 (8).png\n",
            "Loaded image /content/drive/MyDrive/Chest-CT-Data/train/large.cell.carcinoma/000031 (2).png\n",
            "Loaded image /content/drive/MyDrive/Chest-CT-Data/train/large.cell.carcinoma/000093 (4).png\n",
            "Loaded image /content/drive/MyDrive/Chest-CT-Data/train/large.cell.carcinoma/000084.png\n",
            "Loaded image /content/drive/MyDrive/Chest-CT-Data/train/large.cell.carcinoma/000056 (4).png\n",
            "Loaded image /content/drive/MyDrive/Chest-CT-Data/train/large.cell.carcinoma/000076 (4).png\n",
            "Loaded image /content/drive/MyDrive/Chest-CT-Data/train/large.cell.carcinoma/000033 (4).png\n",
            "Loaded image /content/drive/MyDrive/Chest-CT-Data/train/large.cell.carcinoma/000047 (2).png\n",
            "Loaded image /content/drive/MyDrive/Chest-CT-Data/train/large.cell.carcinoma/000137.png\n",
            "Loaded image /content/drive/MyDrive/Chest-CT-Data/train/large.cell.carcinoma/000031.png\n",
            "Loaded image /content/drive/MyDrive/Chest-CT-Data/train/large.cell.carcinoma/000040 (2).png\n",
            "Loaded image /content/drive/MyDrive/Chest-CT-Data/train/large.cell.carcinoma/000062 (3).png\n",
            "Loaded image /content/drive/MyDrive/Chest-CT-Data/train/large.cell.carcinoma/000016 (4).png\n",
            "Loaded image /content/drive/MyDrive/Chest-CT-Data/train/large.cell.carcinoma/000068.png\n",
            "Loaded image /content/drive/MyDrive/Chest-CT-Data/train/large.cell.carcinoma/000069.png\n",
            "Loaded image /content/drive/MyDrive/Chest-CT-Data/train/large.cell.carcinoma/000056 (3).png\n",
            "Loaded image /content/drive/MyDrive/Chest-CT-Data/train/large.cell.carcinoma/000057.png\n",
            "Loaded image /content/drive/MyDrive/Chest-CT-Data/train/large.cell.carcinoma/000059 (4).png\n",
            "Loaded image /content/drive/MyDrive/Chest-CT-Data/train/large.cell.carcinoma/000154.png\n",
            "Loaded image /content/drive/MyDrive/Chest-CT-Data/train/large.cell.carcinoma/000039 (4).png\n",
            "Loaded image /content/drive/MyDrive/Chest-CT-Data/train/large.cell.carcinoma/000019 (4).png\n",
            "Loaded image /content/drive/MyDrive/Chest-CT-Data/train/large.cell.carcinoma/000094 (2).png\n",
            "Loaded image /content/drive/MyDrive/Chest-CT-Data/train/large.cell.carcinoma/000003 (3).png\n",
            "Loaded image /content/drive/MyDrive/Chest-CT-Data/train/large.cell.carcinoma/000002.png\n",
            "Loaded image /content/drive/MyDrive/Chest-CT-Data/train/large.cell.carcinoma/l6.png\n",
            "Loaded image /content/drive/MyDrive/Chest-CT-Data/train/large.cell.carcinoma/000104 (2).png\n",
            "Loaded image /content/drive/MyDrive/Chest-CT-Data/train/large.cell.carcinoma/000062.png\n",
            "Loaded image /content/drive/MyDrive/Chest-CT-Data/train/large.cell.carcinoma/000042 (2).png\n",
            "Loaded image /content/drive/MyDrive/Chest-CT-Data/train/large.cell.carcinoma/000098 (3).png\n",
            "Loaded image /content/drive/MyDrive/Chest-CT-Data/train/large.cell.carcinoma/000032.png\n",
            "Loaded image /content/drive/MyDrive/Chest-CT-Data/train/large.cell.carcinoma/000027.png\n",
            "Loaded image /content/drive/MyDrive/Chest-CT-Data/train/large.cell.carcinoma/000062 (2).png\n",
            "Loaded image /content/drive/MyDrive/Chest-CT-Data/train/large.cell.carcinoma/000071 (2).png\n",
            "Loaded image /content/drive/MyDrive/Chest-CT-Data/train/large.cell.carcinoma/000057 (4).png\n",
            "Loaded image /content/drive/MyDrive/Chest-CT-Data/train/large.cell.carcinoma/000076 (3).png\n",
            "Loaded image /content/drive/MyDrive/Chest-CT-Data/train/large.cell.carcinoma/000095 (4).png\n",
            "Loaded image /content/drive/MyDrive/Chest-CT-Data/train/large.cell.carcinoma/000043 (2).png\n",
            "Loaded image /content/drive/MyDrive/Chest-CT-Data/train/large.cell.carcinoma/000023 (2).png\n",
            "Loaded image /content/drive/MyDrive/Chest-CT-Data/train/large.cell.carcinoma/000066 (2).png\n",
            "Loaded image /content/drive/MyDrive/Chest-CT-Data/train/large.cell.carcinoma/l4.png\n",
            "Loaded image /content/drive/MyDrive/Chest-CT-Data/train/large.cell.carcinoma/000089.png\n",
            "Loaded image /content/drive/MyDrive/Chest-CT-Data/train/large.cell.carcinoma/000015.png\n",
            "Loaded image /content/drive/MyDrive/Chest-CT-Data/train/large.cell.carcinoma/000063.png\n",
            "Loaded image /content/drive/MyDrive/Chest-CT-Data/train/large.cell.carcinoma/000041 (3).png\n",
            "Loaded image /content/drive/MyDrive/Chest-CT-Data/train/large.cell.carcinoma/000019 (3).png\n",
            "Loaded image /content/drive/MyDrive/Chest-CT-Data/train/large.cell.carcinoma/000060.png\n",
            "Loaded image /content/drive/MyDrive/Chest-CT-Data/train/large.cell.carcinoma/000105 (2).png\n",
            "Loaded image /content/drive/MyDrive/Chest-CT-Data/train/large.cell.carcinoma/000026 (2).png\n",
            "Loaded image /content/drive/MyDrive/Chest-CT-Data/train/large.cell.carcinoma/000058 (4).png\n",
            "Loaded image /content/drive/MyDrive/Chest-CT-Data/train/large.cell.carcinoma/000133.png\n",
            "Loaded image /content/drive/MyDrive/Chest-CT-Data/train/large.cell.carcinoma/000057 (3).png\n",
            "Loaded image /content/drive/MyDrive/Chest-CT-Data/train/large.cell.carcinoma/000063 (2).png\n",
            "Loaded image /content/drive/MyDrive/Chest-CT-Data/train/large.cell.carcinoma/000003 (4).png\n",
            "Loaded image /content/drive/MyDrive/Chest-CT-Data/train/large.cell.carcinoma/000020 (3).png\n",
            "Loaded image /content/drive/MyDrive/Chest-CT-Data/train/large.cell.carcinoma/000046.png\n",
            "Loaded image /content/drive/MyDrive/Chest-CT-Data/train/large.cell.carcinoma/000150.png\n",
            "Loaded image /content/drive/MyDrive/Chest-CT-Data/train/large.cell.carcinoma/000033 (3).png\n",
            "Loaded image /content/drive/MyDrive/Chest-CT-Data/train/large.cell.carcinoma/000055 (3).png\n",
            "Loaded image /content/drive/MyDrive/Chest-CT-Data/train/large.cell.carcinoma/000009 (3).png\n",
            "Loaded image /content/drive/MyDrive/Chest-CT-Data/train/large.cell.carcinoma/000143.png\n",
            "Loaded image /content/drive/MyDrive/Chest-CT-Data/train/large.cell.carcinoma/000097.png\n",
            "Loaded image /content/drive/MyDrive/Chest-CT-Data/train/large.cell.carcinoma/000072 (2).png\n",
            "Loaded image /content/drive/MyDrive/Chest-CT-Data/train/large.cell.carcinoma/000173.png\n",
            "Loaded image /content/drive/MyDrive/Chest-CT-Data/train/large.cell.carcinoma/l2.png\n",
            "Loaded image /content/drive/MyDrive/Chest-CT-Data/train/large.cell.carcinoma/000021.png\n",
            "Loaded image /content/drive/MyDrive/Chest-CT-Data/train/large.cell.carcinoma/000034 (2).png\n",
            "Loaded image /content/drive/MyDrive/Chest-CT-Data/train/large.cell.carcinoma/000051.png\n",
            "Loaded image /content/drive/MyDrive/Chest-CT-Data/train/large.cell.carcinoma/000039 (3).png\n",
            "Loaded image /content/drive/MyDrive/Chest-CT-Data/train/large.cell.carcinoma/000024 (2).png\n",
            "Loaded image /content/drive/MyDrive/Chest-CT-Data/train/large.cell.carcinoma/000017.png\n",
            "Loaded image /content/drive/MyDrive/Chest-CT-Data/train/large.cell.carcinoma/000010.png\n",
            "Loaded image /content/drive/MyDrive/Chest-CT-Data/train/large.cell.carcinoma/000059 (3).png\n",
            "Loaded image /content/drive/MyDrive/Chest-CT-Data/train/large.cell.carcinoma/l5.png\n",
            "Loaded image /content/drive/MyDrive/Chest-CT-Data/train/large.cell.carcinoma/000095 (3).png\n",
            "Loaded image /content/drive/MyDrive/Chest-CT-Data/train/large.cell.carcinoma/000098 (4).png\n",
            "Loaded image /content/drive/MyDrive/Chest-CT-Data/train/large.cell.carcinoma/di1.png\n",
            "Loaded image /content/drive/MyDrive/Chest-CT-Data/train/large.cell.carcinoma/000065 (2).png\n",
            "Loaded image /content/drive/MyDrive/Chest-CT-Data/train/large.cell.carcinoma/000104.png\n",
            "Loaded image /content/drive/MyDrive/Chest-CT-Data/train/large.cell.carcinoma/000055.png\n",
            "Loaded image /content/drive/MyDrive/Chest-CT-Data/train/large.cell.carcinoma/000055 (4).png\n",
            "Loaded image /content/drive/MyDrive/Chest-CT-Data/train/large.cell.carcinoma/000058 (3).png\n",
            "Loaded image /content/drive/MyDrive/Chest-CT-Data/train/large.cell.carcinoma/000027 (2).png\n",
            "Loaded image /content/drive/MyDrive/Chest-CT-Data/train/large.cell.carcinoma/000095.png\n",
            "Loaded image /content/drive/MyDrive/Chest-CT-Data/train/large.cell.carcinoma/000094 (4).png\n",
            "Loaded image /content/drive/MyDrive/Chest-CT-Data/train/large.cell.carcinoma/000066.png\n",
            "Loaded image /content/drive/MyDrive/Chest-CT-Data/train/large.cell.carcinoma/000026.png\n",
            "Loaded image /content/drive/MyDrive/Chest-CT-Data/train/large.cell.carcinoma/000041.png\n",
            "Loaded image /content/drive/MyDrive/Chest-CT-Data/train/large.cell.carcinoma/000018 (2).png\n",
            "Loaded image /content/drive/MyDrive/Chest-CT-Data/train/large.cell.carcinoma/000077.png\n",
            "Loaded image /content/drive/MyDrive/Chest-CT-Data/train/large.cell.carcinoma/000093 (3).png\n",
            "Loaded image /content/drive/MyDrive/Chest-CT-Data/train/large.cell.carcinoma/000172.png\n",
            "Loaded image /content/drive/MyDrive/Chest-CT-Data/train/large.cell.carcinoma/000081.png\n",
            "Loaded image /content/drive/MyDrive/Chest-CT-Data/train/large.cell.carcinoma/000097 (2).png\n",
            "Loaded image /content/drive/MyDrive/Chest-CT-Data/train/large.cell.carcinoma/000068 (3).png\n",
            "Loaded image /content/drive/MyDrive/Chest-CT-Data/train/large.cell.carcinoma/000045.png\n",
            "Loaded image /content/drive/MyDrive/Chest-CT-Data/train/large.cell.carcinoma/000080.png\n",
            "Loaded image /content/drive/MyDrive/Chest-CT-Data/train/large.cell.carcinoma/000078 (3).png\n",
            "Loaded image /content/drive/MyDrive/Chest-CT-Data/train/large.cell.carcinoma/000041 (4).png\n",
            "Loaded image /content/drive/MyDrive/Chest-CT-Data/train/large.cell.carcinoma/000105.png\n",
            "Loaded image /content/drive/MyDrive/Chest-CT-Data/train/large.cell.carcinoma/000073 (2).png\n",
            "Loaded image /content/drive/MyDrive/Chest-CT-Data/train/large.cell.carcinoma/000094 (3).png\n",
            "Loaded image /content/drive/MyDrive/Chest-CT-Data/train/large.cell.carcinoma/000149.png\n",
            "Loaded image /content/drive/MyDrive/Chest-CT-Data/train/large.cell.carcinoma/000084 (2).png\n",
            "Loaded image /content/drive/MyDrive/Chest-CT-Data/train/large.cell.carcinoma/000062 (4).png\n",
            "Loaded image /content/drive/MyDrive/Chest-CT-Data/train/large.cell.carcinoma/000159.png\n",
            "Loaded image /content/drive/MyDrive/Chest-CT-Data/train/large.cell.carcinoma/000106.png\n",
            "Loaded image /content/drive/MyDrive/Chest-CT-Data/train/large.cell.carcinoma/000068 (4).png\n",
            "Loaded image /content/drive/MyDrive/Chest-CT-Data/train/large.cell.carcinoma/000169.png\n",
            "Loaded image /content/drive/MyDrive/Chest-CT-Data/train/large.cell.carcinoma/000078 (4).png\n",
            "Loaded image /content/drive/MyDrive/Chest-CT-Data/train/large.cell.carcinoma/l3.png\n",
            "Loaded image /content/drive/MyDrive/Chest-CT-Data/train/large.cell.carcinoma/000009 (4).png\n",
            "Loaded image /content/drive/MyDrive/Chest-CT-Data/train/large.cell.carcinoma/000020 (4).png\n",
            "Loaded image /content/drive/MyDrive/Chest-CT-Data/train/large.cell.carcinoma/l1.png\n",
            "Loaded image /content/drive/MyDrive/Chest-CT-Data/train/large.cell.carcinoma/000016 (3).png\n",
            "Loaded image /content/drive/MyDrive/Chest-CT-Data/train/large.cell.carcinoma/000106 (2).png\n",
            "Loaded image /content/drive/MyDrive/Chest-CT-Data/train/large.cell.carcinoma/000095 (2).png\n",
            "Loaded image /content/drive/MyDrive/Chest-CT-Data/train/normal/8.png\n",
            "Loaded image /content/drive/MyDrive/Chest-CT-Data/train/normal/4 (2).png\n",
            "Loaded image /content/drive/MyDrive/Chest-CT-Data/train/normal/8 - Copy.png\n",
            "Loaded image /content/drive/MyDrive/Chest-CT-Data/train/normal/7 - Copy - Copy.png\n",
            "Loaded image /content/drive/MyDrive/Chest-CT-Data/train/normal/8 - Copy (2).png\n",
            "Loaded image /content/drive/MyDrive/Chest-CT-Data/train/normal/7.png\n",
            "Loaded image /content/drive/MyDrive/Chest-CT-Data/train/normal/n7 (2).png\n",
            "Loaded image /content/drive/MyDrive/Chest-CT-Data/train/normal/8 (2).png\n",
            "Loaded image /content/drive/MyDrive/Chest-CT-Data/train/normal/8 - Copy - Copy.png\n",
            "Loaded image /content/drive/MyDrive/Chest-CT-Data/train/normal/8 - Copy (3).png\n",
            "Loaded image /content/drive/MyDrive/Chest-CT-Data/train/normal/n7.png\n",
            "Loaded image /content/drive/MyDrive/Chest-CT-Data/train/normal/7 - Copy.png\n",
            "Loaded image /content/drive/MyDrive/Chest-CT-Data/train/normal/6 - Copy (2).png\n",
            "Loaded image /content/drive/MyDrive/Chest-CT-Data/train/normal/17 - Copy (2).png\n",
            "Loaded image /content/drive/MyDrive/Chest-CT-Data/train/normal/18 - Copy - Copy.png\n",
            "Loaded image /content/drive/MyDrive/Chest-CT-Data/train/normal/21 - Copy.png\n",
            "Loaded image /content/drive/MyDrive/Chest-CT-Data/train/normal/6 (2) - Copy.png\n",
            "Loaded image /content/drive/MyDrive/Chest-CT-Data/train/normal/16.png\n",
            "Loaded image /content/drive/MyDrive/Chest-CT-Data/train/normal/20 (2) - Copy.png\n",
            "Loaded image /content/drive/MyDrive/Chest-CT-Data/train/normal/19 - Copy (3).png\n",
            "Loaded image /content/drive/MyDrive/Chest-CT-Data/train/normal/19 - Copy - Copy.png\n",
            "Loaded image /content/drive/MyDrive/Chest-CT-Data/train/normal/3 - Copy (3).png\n",
            "Loaded image /content/drive/MyDrive/Chest-CT-Data/train/normal/16 - Copy - Copy.png\n",
            "Loaded image /content/drive/MyDrive/Chest-CT-Data/train/normal/5 - Copy (2).png\n",
            "Loaded image /content/drive/MyDrive/Chest-CT-Data/train/normal/6 - Copy (2) - Copy.png\n",
            "Loaded image /content/drive/MyDrive/Chest-CT-Data/train/normal/4.png\n",
            "Loaded image /content/drive/MyDrive/Chest-CT-Data/train/normal/8 - Copy (2) - Copy.png\n",
            "Loaded image /content/drive/MyDrive/Chest-CT-Data/train/normal/20 - Copy (3).png\n",
            "Loaded image /content/drive/MyDrive/Chest-CT-Data/train/normal/7 - Copy (2).png\n",
            "Loaded image /content/drive/MyDrive/Chest-CT-Data/train/normal/16 - Copy (3).png\n",
            "Loaded image /content/drive/MyDrive/Chest-CT-Data/train/normal/3 (2).png\n",
            "Loaded image /content/drive/MyDrive/Chest-CT-Data/train/normal/20.png\n",
            "Loaded image /content/drive/MyDrive/Chest-CT-Data/train/normal/2 - Copy (3).png\n",
            "Loaded image /content/drive/MyDrive/Chest-CT-Data/train/normal/17.png\n",
            "Loaded image /content/drive/MyDrive/Chest-CT-Data/train/normal/5 (2) - Copy.png\n",
            "Loaded image /content/drive/MyDrive/Chest-CT-Data/train/normal/n7 (2) - Copy.png\n",
            "Loaded image /content/drive/MyDrive/Chest-CT-Data/train/normal/16 - Copy (2) - Copy.png\n",
            "Loaded image /content/drive/MyDrive/Chest-CT-Data/train/normal/5 (2).png\n",
            "Loaded image /content/drive/MyDrive/Chest-CT-Data/train/normal/16 - Copy.png\n",
            "Loaded image /content/drive/MyDrive/Chest-CT-Data/train/normal/7 (2).png\n",
            "Loaded image /content/drive/MyDrive/Chest-CT-Data/train/normal/8 (2) - Copy.png\n",
            "Loaded image /content/drive/MyDrive/Chest-CT-Data/train/normal/19 - Copy (2).png\n",
            "Loaded image /content/drive/MyDrive/Chest-CT-Data/train/normal/3 (2) - Copy.png\n",
            "Loaded image /content/drive/MyDrive/Chest-CT-Data/train/normal/2.png\n",
            "Loaded image /content/drive/MyDrive/Chest-CT-Data/train/normal/3 - Copy (2).png\n",
            "Loaded image /content/drive/MyDrive/Chest-CT-Data/train/normal/16 (2).png\n",
            "Loaded image /content/drive/MyDrive/Chest-CT-Data/train/normal/18 (2).png\n",
            "Loaded image /content/drive/MyDrive/Chest-CT-Data/train/normal/3 - Copy.png\n",
            "Loaded image /content/drive/MyDrive/Chest-CT-Data/train/normal/3 - Copy (2) - Copy.png\n",
            "Loaded image /content/drive/MyDrive/Chest-CT-Data/train/normal/6 - Copy.png\n",
            "Loaded image /content/drive/MyDrive/Chest-CT-Data/train/normal/18 - Copy.png\n",
            "Loaded image /content/drive/MyDrive/Chest-CT-Data/train/normal/6.png\n",
            "Loaded image /content/drive/MyDrive/Chest-CT-Data/train/normal/18 - Copy (2) - Copy.png\n",
            "Loaded image /content/drive/MyDrive/Chest-CT-Data/train/normal/17 (2).png\n",
            "Loaded image /content/drive/MyDrive/Chest-CT-Data/train/normal/20 - Copy.png\n",
            "Loaded image /content/drive/MyDrive/Chest-CT-Data/train/normal/n7 - Copy.png\n",
            "Loaded image /content/drive/MyDrive/Chest-CT-Data/train/normal/16 - Copy (2).png\n",
            "Loaded image /content/drive/MyDrive/Chest-CT-Data/train/normal/20 - Copy - Copy.png\n",
            "Loaded image /content/drive/MyDrive/Chest-CT-Data/train/normal/4 - Copy (2).png\n",
            "Loaded image /content/drive/MyDrive/Chest-CT-Data/train/normal/21 - Copy (2).png\n",
            "Loaded image /content/drive/MyDrive/Chest-CT-Data/train/normal/7 (2) - Copy.png\n",
            "Loaded image /content/drive/MyDrive/Chest-CT-Data/train/normal/5 - Copy - Copy.png\n",
            "Loaded image /content/drive/MyDrive/Chest-CT-Data/train/normal/5 - Copy (2) - Copy.png\n",
            "Loaded image /content/drive/MyDrive/Chest-CT-Data/train/normal/11 - Copy.png\n",
            "Loaded image /content/drive/MyDrive/Chest-CT-Data/train/normal/16 (2) - Copy.png\n",
            "Loaded image /content/drive/MyDrive/Chest-CT-Data/train/normal/2 - Copy - Copy.png\n",
            "Loaded image /content/drive/MyDrive/Chest-CT-Data/train/normal/5.png\n",
            "Loaded image /content/drive/MyDrive/Chest-CT-Data/train/normal/19 - Copy.png\n",
            "Loaded image /content/drive/MyDrive/Chest-CT-Data/train/normal/21 - Copy - Copy.png\n",
            "Loaded image /content/drive/MyDrive/Chest-CT-Data/train/normal/20 (2).png\n",
            "Loaded image /content/drive/MyDrive/Chest-CT-Data/train/normal/2 - Copy (2) - Copy.png\n",
            "Loaded image /content/drive/MyDrive/Chest-CT-Data/train/normal/21 - Copy (2) - Copy.png\n",
            "Loaded image /content/drive/MyDrive/Chest-CT-Data/train/normal/3 - Copy - Copy.png\n",
            "Loaded image /content/drive/MyDrive/Chest-CT-Data/train/normal/12.png\n",
            "Loaded image /content/drive/MyDrive/Chest-CT-Data/train/normal/13 - Copy.png\n",
            "Loaded image /content/drive/MyDrive/Chest-CT-Data/train/normal/19 - Copy (2) - Copy.png\n",
            "Loaded image /content/drive/MyDrive/Chest-CT-Data/train/normal/7 - Copy (3).png\n",
            "Loaded image /content/drive/MyDrive/Chest-CT-Data/train/normal/17 - Copy (3).png\n",
            "Loaded image /content/drive/MyDrive/Chest-CT-Data/train/normal/18 - Copy (2).png\n",
            "Loaded image /content/drive/MyDrive/Chest-CT-Data/train/normal/11 - Copy - Copy.png\n",
            "Loaded image /content/drive/MyDrive/Chest-CT-Data/train/normal/4 - Copy.png\n",
            "Loaded image /content/drive/MyDrive/Chest-CT-Data/train/normal/19 (2) - Copy.png\n",
            "Loaded image /content/drive/MyDrive/Chest-CT-Data/train/normal/5 - Copy (3).png\n",
            "Loaded image /content/drive/MyDrive/Chest-CT-Data/train/normal/3.png\n",
            "Loaded image /content/drive/MyDrive/Chest-CT-Data/train/normal/19 (2).png\n",
            "Loaded image /content/drive/MyDrive/Chest-CT-Data/train/normal/20 - Copy (2).png\n",
            "Loaded image /content/drive/MyDrive/Chest-CT-Data/train/normal/6 - Copy (3).png\n",
            "Loaded image /content/drive/MyDrive/Chest-CT-Data/train/normal/5 - Copy.png\n",
            "Loaded image /content/drive/MyDrive/Chest-CT-Data/train/normal/6 - Copy - Copy.png\n",
            "Loaded image /content/drive/MyDrive/Chest-CT-Data/train/normal/4 - Copy (3).png\n",
            "Loaded image /content/drive/MyDrive/Chest-CT-Data/train/normal/17 - Copy (2) - Copy.png\n",
            "Loaded image /content/drive/MyDrive/Chest-CT-Data/train/normal/17 (2) - Copy.png\n",
            "Loaded image /content/drive/MyDrive/Chest-CT-Data/train/normal/4 - Copy (2) - Copy.png\n",
            "Loaded image /content/drive/MyDrive/Chest-CT-Data/train/normal/20 - Copy (2) - Copy.png\n",
            "Loaded image /content/drive/MyDrive/Chest-CT-Data/train/normal/18.png\n",
            "Loaded image /content/drive/MyDrive/Chest-CT-Data/train/normal/6 (2).png\n",
            "Loaded image /content/drive/MyDrive/Chest-CT-Data/train/normal/4 - Copy - Copy.png\n",
            "Loaded image /content/drive/MyDrive/Chest-CT-Data/train/normal/18 - Copy (3).png\n",
            "Loaded image /content/drive/MyDrive/Chest-CT-Data/train/normal/2 (2) - Copy.png\n",
            "Loaded image /content/drive/MyDrive/Chest-CT-Data/train/normal/10 - Copy - Copy.png\n",
            "Loaded image /content/drive/MyDrive/Chest-CT-Data/train/normal/13 (2).png\n",
            "Loaded image /content/drive/MyDrive/Chest-CT-Data/train/normal/12 (2).png\n",
            "Loaded image /content/drive/MyDrive/Chest-CT-Data/train/normal/13.png\n",
            "Loaded image /content/drive/MyDrive/Chest-CT-Data/train/normal/10 (2) - Copy.png\n",
            "Loaded image /content/drive/MyDrive/Chest-CT-Data/train/normal/12 (2) - Copy.png\n",
            "Loaded image /content/drive/MyDrive/Chest-CT-Data/train/normal/11 - Copy (3).png\n",
            "Loaded image /content/drive/MyDrive/Chest-CT-Data/train/normal/17 - Copy.png\n",
            "Loaded image /content/drive/MyDrive/Chest-CT-Data/train/normal/10 - Copy (2).png\n",
            "Loaded image /content/drive/MyDrive/Chest-CT-Data/train/normal/10 - Copy (3).png\n",
            "Loaded image /content/drive/MyDrive/Chest-CT-Data/train/normal/11 (2) - Copy.png\n",
            "Loaded image /content/drive/MyDrive/Chest-CT-Data/train/normal/2 (2).png\n",
            "Loaded image /content/drive/MyDrive/Chest-CT-Data/train/normal/17 - Copy - Copy.png\n",
            "Loaded image /content/drive/MyDrive/Chest-CT-Data/train/normal/12 - Copy (2).png\n",
            "Loaded image /content/drive/MyDrive/Chest-CT-Data/train/normal/10.png\n",
            "Loaded image /content/drive/MyDrive/Chest-CT-Data/train/normal/7 - Copy (2) - Copy.png\n",
            "Loaded image /content/drive/MyDrive/Chest-CT-Data/train/normal/13 (2) - Copy.png\n",
            "Loaded image /content/drive/MyDrive/Chest-CT-Data/train/normal/13 - Copy (2) - Copy.png\n",
            "Loaded image /content/drive/MyDrive/Chest-CT-Data/train/normal/19.png\n",
            "Loaded image /content/drive/MyDrive/Chest-CT-Data/train/normal/11.png\n",
            "Loaded image /content/drive/MyDrive/Chest-CT-Data/train/normal/12 - Copy.png\n",
            "Loaded image /content/drive/MyDrive/Chest-CT-Data/train/normal/10 (2).png\n",
            "Loaded image /content/drive/MyDrive/Chest-CT-Data/train/normal/12 - Copy (3).png\n",
            "Loaded image /content/drive/MyDrive/Chest-CT-Data/train/normal/11 - Copy (2).png\n",
            "Loaded image /content/drive/MyDrive/Chest-CT-Data/train/normal/13 - Copy (2).png\n",
            "Loaded image /content/drive/MyDrive/Chest-CT-Data/train/normal/10 - Copy.png\n",
            "Loaded image /content/drive/MyDrive/Chest-CT-Data/train/normal/13 - Copy - Copy.png\n",
            "Loaded image /content/drive/MyDrive/Chest-CT-Data/train/normal/12 - Copy - Copy.png\n",
            "Loaded image /content/drive/MyDrive/Chest-CT-Data/train/normal/12 - Copy (2) - Copy.png\n",
            "Loaded image /content/drive/MyDrive/Chest-CT-Data/train/normal/13 - Copy (3).png\n",
            "Loaded image /content/drive/MyDrive/Chest-CT-Data/train/normal/11 - Copy (2) - Copy.png\n",
            "Loaded image /content/drive/MyDrive/Chest-CT-Data/train/normal/2 - Copy.png\n",
            "Loaded image /content/drive/MyDrive/Chest-CT-Data/train/normal/10 - Copy (2) - Copy.png\n",
            "Loaded image /content/drive/MyDrive/Chest-CT-Data/train/normal/18 (2) - Copy.png\n",
            "Loaded image /content/drive/MyDrive/Chest-CT-Data/train/normal/2 - Copy (2).png\n",
            "Loaded image /content/drive/MyDrive/Chest-CT-Data/train/normal/4 (2) - Copy.png\n",
            "Loaded image /content/drive/MyDrive/Chest-CT-Data/train/normal/11 (2).png\n",
            "Loaded image /content/drive/MyDrive/Chest-CT-Data/train/squamous.cell.carcinoma/000084 (3).png\n",
            "Loaded image /content/drive/MyDrive/Chest-CT-Data/train/squamous.cell.carcinoma/sq3.png\n",
            "Loaded image /content/drive/MyDrive/Chest-CT-Data/train/squamous.cell.carcinoma/sq4.png\n",
            "Loaded image /content/drive/MyDrive/Chest-CT-Data/train/squamous.cell.carcinoma/000078 (5).png\n",
            "Loaded image /content/drive/MyDrive/Chest-CT-Data/train/squamous.cell.carcinoma/sq2.png\n",
            "Loaded image /content/drive/MyDrive/Chest-CT-Data/train/squamous.cell.carcinoma/sq1.png\n",
            "Loaded image /content/drive/MyDrive/Chest-CT-Data/train/squamous.cell.carcinoma/sq5.png\n",
            "Loaded image /content/drive/MyDrive/Chest-CT-Data/train/squamous.cell.carcinoma/000122 (3).png\n",
            "Loaded image /content/drive/MyDrive/Chest-CT-Data/train/squamous.cell.carcinoma/000053.png\n",
            "Loaded image /content/drive/MyDrive/Chest-CT-Data/train/squamous.cell.carcinoma/000013 (6).png\n",
            "Loaded image /content/drive/MyDrive/Chest-CT-Data/train/squamous.cell.carcinoma/000033.png\n",
            "Loaded image /content/drive/MyDrive/Chest-CT-Data/train/squamous.cell.carcinoma/000030 (7).png\n",
            "Loaded image /content/drive/MyDrive/Chest-CT-Data/train/squamous.cell.carcinoma/000077 (4).png\n",
            "Loaded image /content/drive/MyDrive/Chest-CT-Data/train/squamous.cell.carcinoma/000046 (6).png\n",
            "Loaded image /content/drive/MyDrive/Chest-CT-Data/train/squamous.cell.carcinoma/000093.png\n",
            "Loaded image /content/drive/MyDrive/Chest-CT-Data/train/squamous.cell.carcinoma/000015 (7).png\n",
            "Loaded image /content/drive/MyDrive/Chest-CT-Data/train/squamous.cell.carcinoma/000105 (7).png\n",
            "Loaded image /content/drive/MyDrive/Chest-CT-Data/train/squamous.cell.carcinoma/000004 (7).png\n",
            "Loaded image /content/drive/MyDrive/Chest-CT-Data/train/squamous.cell.carcinoma/sq6.png\n",
            "Loaded image /content/drive/MyDrive/Chest-CT-Data/train/squamous.cell.carcinoma/000062 (5).png\n",
            "Loaded image /content/drive/MyDrive/Chest-CT-Data/train/squamous.cell.carcinoma/000053 (6).png\n",
            "Loaded image /content/drive/MyDrive/Chest-CT-Data/train/squamous.cell.carcinoma/000028 (7).png\n",
            "Loaded image /content/drive/MyDrive/Chest-CT-Data/train/squamous.cell.carcinoma/000081 (6).png\n",
            "Loaded image /content/drive/MyDrive/Chest-CT-Data/train/squamous.cell.carcinoma/000067 (2).png\n",
            "Loaded image /content/drive/MyDrive/Chest-CT-Data/train/squamous.cell.carcinoma/000028 (4).png\n",
            "Loaded image /content/drive/MyDrive/Chest-CT-Data/train/squamous.cell.carcinoma/000024 (7).png\n",
            "Loaded image /content/drive/MyDrive/Chest-CT-Data/train/squamous.cell.carcinoma/000038 (5).png\n",
            "Loaded image /content/drive/MyDrive/Chest-CT-Data/train/squamous.cell.carcinoma/000057 (3).png\n",
            "Loaded image /content/drive/MyDrive/Chest-CT-Data/train/squamous.cell.carcinoma/000036 (4).png\n",
            "Loaded image /content/drive/MyDrive/Chest-CT-Data/train/squamous.cell.carcinoma/000024 (5).png\n",
            "Loaded image /content/drive/MyDrive/Chest-CT-Data/train/squamous.cell.carcinoma/000058 (7).png\n",
            "Loaded image /content/drive/MyDrive/Chest-CT-Data/train/squamous.cell.carcinoma/000067 (3).png\n",
            "Loaded image /content/drive/MyDrive/Chest-CT-Data/train/squamous.cell.carcinoma/000105 (5).png\n",
            "Loaded image /content/drive/MyDrive/Chest-CT-Data/train/squamous.cell.carcinoma/000052 (4).png\n",
            "Loaded image /content/drive/MyDrive/Chest-CT-Data/train/squamous.cell.carcinoma/000015 (5).png\n",
            "Loaded image /content/drive/MyDrive/Chest-CT-Data/train/squamous.cell.carcinoma/000032.png\n",
            "Loaded image /content/drive/MyDrive/Chest-CT-Data/train/squamous.cell.carcinoma/000099 (2).png\n",
            "Loaded image /content/drive/MyDrive/Chest-CT-Data/train/squamous.cell.carcinoma/000091 (5).png\n",
            "Loaded image /content/drive/MyDrive/Chest-CT-Data/train/squamous.cell.carcinoma/000028 (5).png\n",
            "Loaded image /content/drive/MyDrive/Chest-CT-Data/train/squamous.cell.carcinoma/000046 (7).png\n",
            "Loaded image /content/drive/MyDrive/Chest-CT-Data/train/squamous.cell.carcinoma/000078.png\n",
            "Loaded image /content/drive/MyDrive/Chest-CT-Data/train/squamous.cell.carcinoma/000030 (5).png\n",
            "Loaded image /content/drive/MyDrive/Chest-CT-Data/train/squamous.cell.carcinoma/000006.png\n",
            "Loaded image /content/drive/MyDrive/Chest-CT-Data/train/squamous.cell.carcinoma/000100 (4).png\n",
            "Loaded image /content/drive/MyDrive/Chest-CT-Data/train/squamous.cell.carcinoma/000029 (4).png\n",
            "Loaded image /content/drive/MyDrive/Chest-CT-Data/train/squamous.cell.carcinoma/000083 (7).png\n",
            "Loaded image /content/drive/MyDrive/Chest-CT-Data/train/squamous.cell.carcinoma/000091 (7).png\n",
            "Loaded image /content/drive/MyDrive/Chest-CT-Data/train/squamous.cell.carcinoma/000067 (7).png\n",
            "Loaded image /content/drive/MyDrive/Chest-CT-Data/train/squamous.cell.carcinoma/000065 (7).png\n",
            "Loaded image /content/drive/MyDrive/Chest-CT-Data/train/squamous.cell.carcinoma/000090 (6).png\n",
            "Loaded image /content/drive/MyDrive/Chest-CT-Data/train/squamous.cell.carcinoma/000017 (4).png\n",
            "Loaded image /content/drive/MyDrive/Chest-CT-Data/train/squamous.cell.carcinoma/000094.png\n",
            "Loaded image /content/drive/MyDrive/Chest-CT-Data/train/squamous.cell.carcinoma/000027 (2).png\n",
            "Loaded image /content/drive/MyDrive/Chest-CT-Data/train/squamous.cell.carcinoma/000007 (4).png\n",
            "Loaded image /content/drive/MyDrive/Chest-CT-Data/train/squamous.cell.carcinoma/000043 (3).png\n",
            "Loaded image /content/drive/MyDrive/Chest-CT-Data/train/squamous.cell.carcinoma/000069 (2).png\n",
            "Loaded image /content/drive/MyDrive/Chest-CT-Data/train/squamous.cell.carcinoma/000077 (5).png\n",
            "Loaded image /content/drive/MyDrive/Chest-CT-Data/train/squamous.cell.carcinoma/000066.png\n",
            "Loaded image /content/drive/MyDrive/Chest-CT-Data/train/squamous.cell.carcinoma/000055 (3).png\n",
            "Loaded image /content/drive/MyDrive/Chest-CT-Data/train/squamous.cell.carcinoma/000058 (5).png\n",
            "Loaded image /content/drive/MyDrive/Chest-CT-Data/train/squamous.cell.carcinoma/000067 (5).png\n",
            "Loaded image /content/drive/MyDrive/Chest-CT-Data/train/squamous.cell.carcinoma/000120 (4).png\n",
            "Loaded image /content/drive/MyDrive/Chest-CT-Data/train/squamous.cell.carcinoma/000096 (2).png\n",
            "Loaded image /content/drive/MyDrive/Chest-CT-Data/train/squamous.cell.carcinoma/000063 (6).png\n",
            "Loaded image /content/drive/MyDrive/Chest-CT-Data/train/squamous.cell.carcinoma/000121 (2).png\n",
            "Loaded image /content/drive/MyDrive/Chest-CT-Data/train/squamous.cell.carcinoma/000016 (3).png\n",
            "Loaded image /content/drive/MyDrive/Chest-CT-Data/train/squamous.cell.carcinoma/000079 (7).png\n",
            "Loaded image /content/drive/MyDrive/Chest-CT-Data/train/squamous.cell.carcinoma/000063.png\n",
            "Loaded image /content/drive/MyDrive/Chest-CT-Data/train/squamous.cell.carcinoma/000068 (4).png\n",
            "Loaded image /content/drive/MyDrive/Chest-CT-Data/train/squamous.cell.carcinoma/000079.png\n",
            "Loaded image /content/drive/MyDrive/Chest-CT-Data/train/squamous.cell.carcinoma/000038 (7).png\n",
            "Loaded image /content/drive/MyDrive/Chest-CT-Data/train/squamous.cell.carcinoma/000075.png\n",
            "Loaded image /content/drive/MyDrive/Chest-CT-Data/train/squamous.cell.carcinoma/000106 (7).png\n",
            "Loaded image /content/drive/MyDrive/Chest-CT-Data/train/squamous.cell.carcinoma/000030 (2).png\n",
            "Loaded image /content/drive/MyDrive/Chest-CT-Data/train/squamous.cell.carcinoma/000051 (3).png\n",
            "Loaded image /content/drive/MyDrive/Chest-CT-Data/train/squamous.cell.carcinoma/000081 (3).png\n",
            "Loaded image /content/drive/MyDrive/Chest-CT-Data/train/squamous.cell.carcinoma/000058 (3).png\n",
            "Loaded image /content/drive/MyDrive/Chest-CT-Data/train/squamous.cell.carcinoma/000050 (6).png\n",
            "Loaded image /content/drive/MyDrive/Chest-CT-Data/train/squamous.cell.carcinoma/000010 (6).png\n",
            "Loaded image /content/drive/MyDrive/Chest-CT-Data/train/squamous.cell.carcinoma/000088.png\n",
            "Loaded image /content/drive/MyDrive/Chest-CT-Data/train/squamous.cell.carcinoma/000106 (6).png\n",
            "Loaded image /content/drive/MyDrive/Chest-CT-Data/train/squamous.cell.carcinoma/000009 (2).png\n",
            "Loaded image /content/drive/MyDrive/Chest-CT-Data/train/squamous.cell.carcinoma/000037 (2).png\n",
            "Loaded image /content/drive/MyDrive/Chest-CT-Data/train/squamous.cell.carcinoma/000082 (4).png\n",
            "Loaded image /content/drive/MyDrive/Chest-CT-Data/train/squamous.cell.carcinoma/000008 (3).png\n",
            "Loaded image /content/drive/MyDrive/Chest-CT-Data/train/squamous.cell.carcinoma/000004 (4).png\n",
            "Loaded image /content/drive/MyDrive/Chest-CT-Data/train/squamous.cell.carcinoma/000048 (5).png\n",
            "Loaded image /content/drive/MyDrive/Chest-CT-Data/train/squamous.cell.carcinoma/000048 (7).png\n",
            "Loaded image /content/drive/MyDrive/Chest-CT-Data/train/squamous.cell.carcinoma/000083 (5).png\n",
            "Loaded image /content/drive/MyDrive/Chest-CT-Data/train/squamous.cell.carcinoma/000079 (5).png\n",
            "Loaded image /content/drive/MyDrive/Chest-CT-Data/train/squamous.cell.carcinoma/000106 (3).png\n",
            "Loaded image /content/drive/MyDrive/Chest-CT-Data/train/squamous.cell.carcinoma/000085.png\n",
            "Loaded image /content/drive/MyDrive/Chest-CT-Data/train/squamous.cell.carcinoma/000099 (3).png\n",
            "Loaded image /content/drive/MyDrive/Chest-CT-Data/train/squamous.cell.carcinoma/000106 (5).png\n",
            "Loaded image /content/drive/MyDrive/Chest-CT-Data/train/squamous.cell.carcinoma/000044 (2).png\n",
            "Loaded image /content/drive/MyDrive/Chest-CT-Data/train/squamous.cell.carcinoma/000078 (7).png\n",
            "Loaded image /content/drive/MyDrive/Chest-CT-Data/train/squamous.cell.carcinoma/000018 (6).png\n",
            "Loaded image /content/drive/MyDrive/Chest-CT-Data/train/squamous.cell.carcinoma/000046 (4).png\n",
            "Loaded image /content/drive/MyDrive/Chest-CT-Data/train/squamous.cell.carcinoma/000049 (3).png\n",
            "Loaded image /content/drive/MyDrive/Chest-CT-Data/train/squamous.cell.carcinoma/000082 (3).png\n",
            "Loaded image /content/drive/MyDrive/Chest-CT-Data/train/squamous.cell.carcinoma/000056 (5).png\n",
            "Loaded image /content/drive/MyDrive/Chest-CT-Data/train/squamous.cell.carcinoma/000056 (7).png\n",
            "Loaded image /content/drive/MyDrive/Chest-CT-Data/train/squamous.cell.carcinoma/000120 (2).png\n",
            "Loaded image /content/drive/MyDrive/Chest-CT-Data/train/squamous.cell.carcinoma/000063 (3).png\n",
            "Loaded image /content/drive/MyDrive/Chest-CT-Data/train/squamous.cell.carcinoma/000060 (2).png\n",
            "Loaded image /content/drive/MyDrive/Chest-CT-Data/train/squamous.cell.carcinoma/000004 (5).png\n",
            "Loaded image /content/drive/MyDrive/Chest-CT-Data/train/squamous.cell.carcinoma/000002 (6).png\n",
            "Loaded image /content/drive/MyDrive/Chest-CT-Data/train/squamous.cell.carcinoma/000054 (3).png\n",
            "Loaded image /content/drive/MyDrive/Chest-CT-Data/train/squamous.cell.carcinoma/000101 (3).png\n",
            "Loaded image /content/drive/MyDrive/Chest-CT-Data/train/squamous.cell.carcinoma/000074 (6).png\n",
            "Loaded image /content/drive/MyDrive/Chest-CT-Data/train/squamous.cell.carcinoma/000066 (2).png\n",
            "Loaded image /content/drive/MyDrive/Chest-CT-Data/train/squamous.cell.carcinoma/000038 (2).png\n",
            "Loaded image /content/drive/MyDrive/Chest-CT-Data/train/squamous.cell.carcinoma/000104.png\n",
            "Loaded image /content/drive/MyDrive/Chest-CT-Data/train/squamous.cell.carcinoma/000071 (3).png\n",
            "Loaded image /content/drive/MyDrive/Chest-CT-Data/train/squamous.cell.carcinoma/000074 (7).png\n",
            "Loaded image /content/drive/MyDrive/Chest-CT-Data/train/squamous.cell.carcinoma/000120 (6).png\n",
            "Loaded image /content/drive/MyDrive/Chest-CT-Data/train/squamous.cell.carcinoma/000041 (4).png\n",
            "Loaded image /content/drive/MyDrive/Chest-CT-Data/train/squamous.cell.carcinoma/000106 (4).png\n",
            "Loaded image /content/drive/MyDrive/Chest-CT-Data/train/squamous.cell.carcinoma/000073 (6).png\n",
            "Loaded image /content/drive/MyDrive/Chest-CT-Data/train/squamous.cell.carcinoma/000096.png\n",
            "Loaded image /content/drive/MyDrive/Chest-CT-Data/train/squamous.cell.carcinoma/000057 (5).png\n",
            "Loaded image /content/drive/MyDrive/Chest-CT-Data/train/squamous.cell.carcinoma/000084 (7).png\n",
            "Loaded image /content/drive/MyDrive/Chest-CT-Data/train/squamous.cell.carcinoma/000035 (5).png\n",
            "Loaded image /content/drive/MyDrive/Chest-CT-Data/train/squamous.cell.carcinoma/000121.png\n",
            "Loaded image /content/drive/MyDrive/Chest-CT-Data/train/squamous.cell.carcinoma/000057 (4).png\n",
            "Loaded image /content/drive/MyDrive/Chest-CT-Data/train/squamous.cell.carcinoma/000084 (5).png\n",
            "Loaded image /content/drive/MyDrive/Chest-CT-Data/train/squamous.cell.carcinoma/000065 (5).png\n",
            "Loaded image /content/drive/MyDrive/Chest-CT-Data/train/squamous.cell.carcinoma/000058.png\n",
            "Loaded image /content/drive/MyDrive/Chest-CT-Data/train/squamous.cell.carcinoma/000046 (5).png\n",
            "Loaded image /content/drive/MyDrive/Chest-CT-Data/train/squamous.cell.carcinoma/000054.png\n",
            "Loaded image /content/drive/MyDrive/Chest-CT-Data/train/squamous.cell.carcinoma/000077 (2).png\n",
            "Loaded image /content/drive/MyDrive/Chest-CT-Data/train/squamous.cell.carcinoma/000062 (7).png\n",
            "Loaded image /content/drive/MyDrive/Chest-CT-Data/train/squamous.cell.carcinoma/000007.png\n",
            "Loaded image /content/drive/MyDrive/Chest-CT-Data/train/squamous.cell.carcinoma/000048.png\n",
            "Loaded image /content/drive/MyDrive/Chest-CT-Data/train/squamous.cell.carcinoma/000070.png\n",
            "Loaded image /content/drive/MyDrive/Chest-CT-Data/train/squamous.cell.carcinoma/000055 (2).png\n",
            "Loaded image /content/drive/MyDrive/Chest-CT-Data/train/squamous.cell.carcinoma/000050 (2).png\n",
            "Loaded image /content/drive/MyDrive/Chest-CT-Data/train/squamous.cell.carcinoma/000103.png\n",
            "Loaded image /content/drive/MyDrive/Chest-CT-Data/train/squamous.cell.carcinoma/000003.png\n",
            "Loaded image /content/drive/MyDrive/Chest-CT-Data/train/squamous.cell.carcinoma/000006 (4).png\n",
            "Loaded image /content/drive/MyDrive/Chest-CT-Data/train/squamous.cell.carcinoma/000083 (6).png\n",
            "Loaded image /content/drive/MyDrive/Chest-CT-Data/train/squamous.cell.carcinoma/000081.png\n",
            "Loaded image /content/drive/MyDrive/Chest-CT-Data/train/squamous.cell.carcinoma/000083 (2).png\n",
            "Loaded image /content/drive/MyDrive/Chest-CT-Data/train/squamous.cell.carcinoma/000094 (3).png\n",
            "Loaded image /content/drive/MyDrive/Chest-CT-Data/train/squamous.cell.carcinoma/000122.png\n",
            "Loaded image /content/drive/MyDrive/Chest-CT-Data/train/squamous.cell.carcinoma/000057 (6).png\n",
            "Loaded image /content/drive/MyDrive/Chest-CT-Data/train/squamous.cell.carcinoma/000089 (4).png\n",
            "Loaded image /content/drive/MyDrive/Chest-CT-Data/train/squamous.cell.carcinoma/000057 (7).png\n",
            "Loaded image /content/drive/MyDrive/Chest-CT-Data/train/squamous.cell.carcinoma/000043.png\n",
            "Loaded image /content/drive/MyDrive/Chest-CT-Data/train/squamous.cell.carcinoma/000104 (2).png\n",
            "Loaded image /content/drive/MyDrive/Chest-CT-Data/train/squamous.cell.carcinoma/000074 (5).png\n",
            "Loaded image /content/drive/MyDrive/Chest-CT-Data/train/squamous.cell.carcinoma/000035.png\n",
            "Loaded image /content/drive/MyDrive/Chest-CT-Data/train/squamous.cell.carcinoma/000064 (4).png\n",
            "Loaded image /content/drive/MyDrive/Chest-CT-Data/train/squamous.cell.carcinoma/000002 (4).png\n",
            "Loaded image /content/drive/MyDrive/Chest-CT-Data/train/squamous.cell.carcinoma/000070 (2).png\n",
            "Loaded image /content/drive/MyDrive/Chest-CT-Data/valid/adenocarcinoma/000116 (5).png\n",
            "Loaded image /content/drive/MyDrive/Chest-CT-Data/valid/adenocarcinoma/000111 (2).png\n",
            "Loaded image /content/drive/MyDrive/Chest-CT-Data/valid/adenocarcinoma/000109 (8).png\n",
            "Loaded image /content/drive/MyDrive/Chest-CT-Data/valid/adenocarcinoma/000116 (3).png\n",
            "Loaded image /content/drive/MyDrive/Chest-CT-Data/valid/adenocarcinoma/000112 (2).png\n",
            "Loaded image /content/drive/MyDrive/Chest-CT-Data/valid/adenocarcinoma/000116 (8).png\n",
            "Loaded image /content/drive/MyDrive/Chest-CT-Data/valid/adenocarcinoma/000112 (9).png\n",
            "Loaded image /content/drive/MyDrive/Chest-CT-Data/valid/adenocarcinoma/000108 (8).png\n",
            "Loaded image /content/drive/MyDrive/Chest-CT-Data/valid/adenocarcinoma/000114.png\n",
            "Loaded image /content/drive/MyDrive/Chest-CT-Data/valid/adenocarcinoma/000108 (7).png\n",
            "Loaded image /content/drive/MyDrive/Chest-CT-Data/valid/adenocarcinoma/000113 (3).png\n",
            "Loaded image /content/drive/MyDrive/Chest-CT-Data/valid/adenocarcinoma/000116 (9).png\n",
            "Loaded image /content/drive/MyDrive/Chest-CT-Data/valid/adenocarcinoma/000117.png\n",
            "Loaded image /content/drive/MyDrive/Chest-CT-Data/valid/adenocarcinoma/000113.png\n",
            "Loaded image /content/drive/MyDrive/Chest-CT-Data/valid/adenocarcinoma/000115.png\n",
            "Loaded image /content/drive/MyDrive/Chest-CT-Data/valid/adenocarcinoma/000115 (2).png\n",
            "Loaded image /content/drive/MyDrive/Chest-CT-Data/valid/adenocarcinoma/000114 (10).png\n",
            "Loaded image /content/drive/MyDrive/Chest-CT-Data/valid/adenocarcinoma/000109 (4).png\n",
            "Loaded image /content/drive/MyDrive/Chest-CT-Data/valid/adenocarcinoma/000110 (7).png\n",
            "Loaded image /content/drive/MyDrive/Chest-CT-Data/valid/adenocarcinoma/000115 (9).png\n",
            "Loaded image /content/drive/MyDrive/Chest-CT-Data/valid/adenocarcinoma/000115 (5).png\n",
            "Loaded image /content/drive/MyDrive/Chest-CT-Data/valid/adenocarcinoma/000117 (6).png\n",
            "Loaded image /content/drive/MyDrive/Chest-CT-Data/valid/adenocarcinoma/000109 (3).png\n",
            "Loaded image /content/drive/MyDrive/Chest-CT-Data/valid/large.cell.carcinoma/000115.png\n",
            "Loaded image /content/drive/MyDrive/Chest-CT-Data/valid/large.cell.carcinoma/000113.png\n",
            "Loaded image /content/drive/MyDrive/Chest-CT-Data/valid/large.cell.carcinoma/000108 (2)(1).png\n",
            "Loaded image /content/drive/MyDrive/Chest-CT-Data/valid/large.cell.carcinoma/000126.png\n",
            "Loaded image /content/drive/MyDrive/Chest-CT-Data/valid/large.cell.carcinoma/000120.png\n",
            "Loaded image /content/drive/MyDrive/Chest-CT-Data/valid/large.cell.carcinoma/000111 (2).png\n",
            "Loaded image /content/drive/MyDrive/Chest-CT-Data/valid/large.cell.carcinoma/000131.png\n",
            "Loaded image /content/drive/MyDrive/Chest-CT-Data/valid/large.cell.carcinoma/000110 (2)(1).png\n",
            "Loaded image /content/drive/MyDrive/Chest-CT-Data/valid/large.cell.carcinoma/000108 (2).png\n",
            "Loaded image /content/drive/MyDrive/Chest-CT-Data/valid/large.cell.carcinoma/000114.png\n",
            "Loaded image /content/drive/MyDrive/Chest-CT-Data/valid/large.cell.carcinoma/000130.png\n",
            "Loaded image /content/drive/MyDrive/Chest-CT-Data/valid/large.cell.carcinoma/000116.png\n",
            "Loaded image /content/drive/MyDrive/Chest-CT-Data/valid/large.cell.carcinoma/000128.png\n",
            "Loaded image /content/drive/MyDrive/Chest-CT-Data/valid/large.cell.carcinoma/000122.png\n",
            "Loaded image /content/drive/MyDrive/Chest-CT-Data/valid/large.cell.carcinoma/000109(1).png\n",
            "Loaded image /content/drive/MyDrive/Chest-CT-Data/valid/large.cell.carcinoma/000112.png\n",
            "Loaded image /content/drive/MyDrive/Chest-CT-Data/valid/large.cell.carcinoma/000111 (2)(1).png\n",
            "Loaded image /content/drive/MyDrive/Chest-CT-Data/valid/large.cell.carcinoma/000111(1).png\n",
            "Loaded image /content/drive/MyDrive/Chest-CT-Data/valid/large.cell.carcinoma/000113 (2).png\n",
            "Loaded image /content/drive/MyDrive/Chest-CT-Data/valid/large.cell.carcinoma/000108(1).png\n",
            "Loaded image /content/drive/MyDrive/Chest-CT-Data/valid/large.cell.carcinoma/000110.png\n",
            "Loaded image /content/drive/MyDrive/Chest-CT-Data/valid/large.cell.carcinoma/000118 (2).png\n",
            "Loaded image /content/drive/MyDrive/Chest-CT-Data/valid/large.cell.carcinoma/000111.png\n",
            "Loaded image /content/drive/MyDrive/Chest-CT-Data/valid/large.cell.carcinoma/000115 (3).png\n",
            "Loaded image /content/drive/MyDrive/Chest-CT-Data/valid/large.cell.carcinoma/000109.png\n",
            "Loaded image /content/drive/MyDrive/Chest-CT-Data/valid/large.cell.carcinoma/000108.png\n",
            "Loaded image /content/drive/MyDrive/Chest-CT-Data/valid/large.cell.carcinoma/000110 (2).png\n",
            "Loaded image /content/drive/MyDrive/Chest-CT-Data/valid/large.cell.carcinoma/000110(1).png\n",
            "Loaded image /content/drive/MyDrive/Chest-CT-Data/valid/normal/003828_02_01_174.png\n",
            "Loaded image /content/drive/MyDrive/Chest-CT-Data/valid/normal/6 - Copy.png\n",
            "Loaded image /content/drive/MyDrive/Chest-CT-Data/valid/normal/7(1).png\n",
            "Loaded image /content/drive/MyDrive/Chest-CT-Data/valid/normal/7 - Copy (3).png\n",
            "Loaded image /content/drive/MyDrive/Chest-CT-Data/valid/normal/5.png\n",
            "Loaded image /content/drive/MyDrive/Chest-CT-Data/valid/normal/8 - Copy (3)(1).png\n",
            "Loaded image /content/drive/MyDrive/Chest-CT-Data/valid/normal/6 - Copy (2) - Copy.png\n",
            "Loaded image /content/drive/MyDrive/Chest-CT-Data/valid/normal/004162_01_01_150.png\n",
            "Loaded image /content/drive/MyDrive/Chest-CT-Data/valid/normal/4 (2).png\n",
            "Loaded image /content/drive/MyDrive/Chest-CT-Data/valid/normal/004007_01_01_519.png\n",
            "Loaded image /content/drive/MyDrive/Chest-CT-Data/valid/normal/6 - Copy (3).png\n",
            "Loaded image /content/drive/MyDrive/Chest-CT-Data/valid/normal/4 - Copy (2).png\n",
            "Loaded image /content/drive/MyDrive/Chest-CT-Data/valid/normal/8 - Copy (3).png\n",
            "Loaded image /content/drive/MyDrive/Chest-CT-Data/valid/normal/7.png\n",
            "Loaded image /content/drive/MyDrive/Chest-CT-Data/valid/normal/7 - Copy (2).png\n",
            "Loaded image /content/drive/MyDrive/Chest-CT-Data/valid/squamous.cell.carcinoma/000114 (6).png\n",
            "Loaded image /content/drive/MyDrive/Chest-CT-Data/valid/squamous.cell.carcinoma/000118 (4).png\n",
            "Loaded image /content/drive/MyDrive/Chest-CT-Data/valid/squamous.cell.carcinoma/000115 (5).png\n",
            "Loaded image /content/drive/MyDrive/Chest-CT-Data/valid/squamous.cell.carcinoma/000108 (3).png\n",
            "Loaded image /content/drive/MyDrive/Chest-CT-Data/valid/squamous.cell.carcinoma/000119.png\n",
            "Loaded image /content/drive/MyDrive/Chest-CT-Data/valid/squamous.cell.carcinoma/000116 (2).png\n",
            "Loaded image /content/drive/MyDrive/Chest-CT-Data/valid/squamous.cell.carcinoma/000117 (4).png\n",
            "Loaded image /content/drive/MyDrive/Chest-CT-Data/valid/squamous.cell.carcinoma/000112.png\n",
            "Loaded image /content/drive/MyDrive/Chest-CT-Data/valid/squamous.cell.carcinoma/000111.png\n",
            "Loaded image /content/drive/MyDrive/Chest-CT-Data/valid/squamous.cell.carcinoma/000114 (4).png\n",
            "Loaded image /content/drive/MyDrive/Chest-CT-Data/valid/squamous.cell.carcinoma/000119 (5).png\n",
            "Loaded image /content/drive/MyDrive/Chest-CT-Data/valid/squamous.cell.carcinoma/000110 (6).png\n",
            "Loaded image /content/drive/MyDrive/Chest-CT-Data/valid/squamous.cell.carcinoma/000115 (2).png\n",
            "Loaded image /content/drive/MyDrive/Chest-CT-Data/valid/squamous.cell.carcinoma/000117 (6).png\n",
            "Loaded image /content/drive/MyDrive/Chest-CT-Data/valid/squamous.cell.carcinoma/000118 (5).png\n",
            "Loaded image /content/drive/MyDrive/Chest-CT-Data/test/adenocarcinoma/000140.png\n",
            "Loaded image /content/drive/MyDrive/Chest-CT-Data/test/adenocarcinoma/000144 (2).png\n",
            "Loaded image /content/drive/MyDrive/Chest-CT-Data/test/adenocarcinoma/000146 (3).png\n",
            "Loaded image /content/drive/MyDrive/Chest-CT-Data/test/adenocarcinoma/000155 (4).png\n",
            "Loaded image /content/drive/MyDrive/Chest-CT-Data/test/adenocarcinoma/000143 (5).png\n",
            "Loaded image /content/drive/MyDrive/Chest-CT-Data/test/adenocarcinoma/000123 (6).png\n",
            "Loaded image /content/drive/MyDrive/Chest-CT-Data/test/adenocarcinoma/000130 (6).png\n",
            "Loaded image /content/drive/MyDrive/Chest-CT-Data/test/adenocarcinoma/000173 (7).png\n",
            "Loaded image /content/drive/MyDrive/Chest-CT-Data/test/adenocarcinoma/000143 (6).png\n",
            "Loaded image /content/drive/MyDrive/Chest-CT-Data/test/adenocarcinoma/000138 (9).png\n",
            "Loaded image /content/drive/MyDrive/Chest-CT-Data/test/adenocarcinoma/000137 (2).png\n",
            "Loaded image /content/drive/MyDrive/Chest-CT-Data/test/adenocarcinoma/000119 (4).png\n",
            "Loaded image /content/drive/MyDrive/Chest-CT-Data/test/adenocarcinoma/000158 (3).png\n",
            "Loaded image /content/drive/MyDrive/Chest-CT-Data/test/adenocarcinoma/000147.png\n",
            "Loaded image /content/drive/MyDrive/Chest-CT-Data/test/adenocarcinoma/000160 (6).png\n",
            "Loaded image /content/drive/MyDrive/Chest-CT-Data/test/adenocarcinoma/000146 (6).png\n",
            "Loaded image /content/drive/MyDrive/Chest-CT-Data/test/adenocarcinoma/000139.png\n",
            "Loaded image /content/drive/MyDrive/Chest-CT-Data/test/adenocarcinoma/000174 (4).png\n",
            "Loaded image /content/drive/MyDrive/Chest-CT-Data/test/adenocarcinoma/000132 (2).png\n",
            "Loaded image /content/drive/MyDrive/Chest-CT-Data/test/adenocarcinoma/000138 (6).png\n",
            "Loaded image /content/drive/MyDrive/Chest-CT-Data/test/adenocarcinoma/000121.png\n",
            "Loaded image /content/drive/MyDrive/Chest-CT-Data/test/adenocarcinoma/000148.png\n",
            "Loaded image /content/drive/MyDrive/Chest-CT-Data/test/adenocarcinoma/000173 (5).png\n",
            "Loaded image /content/drive/MyDrive/Chest-CT-Data/test/adenocarcinoma/000115 (4).png\n",
            "Loaded image /content/drive/MyDrive/Chest-CT-Data/test/adenocarcinoma/000128 (5).png\n",
            "Loaded image /content/drive/MyDrive/Chest-CT-Data/test/adenocarcinoma/000163 (3).png\n",
            "Loaded image /content/drive/MyDrive/Chest-CT-Data/test/adenocarcinoma/000137 (4).png\n",
            "Loaded image /content/drive/MyDrive/Chest-CT-Data/test/adenocarcinoma/000134 (9).png\n",
            "Loaded image /content/drive/MyDrive/Chest-CT-Data/test/adenocarcinoma/000165 (6).png\n",
            "Loaded image /content/drive/MyDrive/Chest-CT-Data/test/adenocarcinoma/000172 (3).png\n",
            "Loaded image /content/drive/MyDrive/Chest-CT-Data/test/adenocarcinoma/000166 (3).png\n",
            "Loaded image /content/drive/MyDrive/Chest-CT-Data/test/adenocarcinoma/000176 (2).png\n",
            "Loaded image /content/drive/MyDrive/Chest-CT-Data/test/adenocarcinoma/000161 (4).png\n",
            "Loaded image /content/drive/MyDrive/Chest-CT-Data/test/adenocarcinoma/000157 (5).png\n",
            "Loaded image /content/drive/MyDrive/Chest-CT-Data/test/adenocarcinoma/000118 (5).png\n",
            "Loaded image /content/drive/MyDrive/Chest-CT-Data/test/adenocarcinoma/000149 (7).png\n",
            "Loaded image /content/drive/MyDrive/Chest-CT-Data/test/adenocarcinoma/000166 (4).png\n",
            "Loaded image /content/drive/MyDrive/Chest-CT-Data/test/adenocarcinoma/000123 (9).png\n",
            "Loaded image /content/drive/MyDrive/Chest-CT-Data/test/adenocarcinoma/000139 (9).png\n",
            "Loaded image /content/drive/MyDrive/Chest-CT-Data/test/adenocarcinoma/000115.png\n",
            "Loaded image /content/drive/MyDrive/Chest-CT-Data/test/adenocarcinoma/000166 (2).png\n",
            "Loaded image /content/drive/MyDrive/Chest-CT-Data/test/adenocarcinoma/000134.png\n",
            "Loaded image /content/drive/MyDrive/Chest-CT-Data/test/adenocarcinoma/000132 (8).png\n",
            "Loaded image /content/drive/MyDrive/Chest-CT-Data/test/adenocarcinoma/000133 (4).png\n",
            "Loaded image /content/drive/MyDrive/Chest-CT-Data/test/adenocarcinoma/000158 (2).png\n",
            "Loaded image /content/drive/MyDrive/Chest-CT-Data/test/adenocarcinoma/000158 (5).png\n",
            "Loaded image /content/drive/MyDrive/Chest-CT-Data/test/adenocarcinoma/000125 (8).png\n",
            "Loaded image /content/drive/MyDrive/Chest-CT-Data/test/adenocarcinoma/000123 (4).png\n",
            "Loaded image /content/drive/MyDrive/Chest-CT-Data/test/adenocarcinoma/000129.png\n",
            "Loaded image /content/drive/MyDrive/Chest-CT-Data/test/adenocarcinoma/000136 (2).png\n",
            "Loaded image /content/drive/MyDrive/Chest-CT-Data/test/adenocarcinoma/000117 (4).png\n",
            "Loaded image /content/drive/MyDrive/Chest-CT-Data/test/adenocarcinoma/000171.png\n",
            "Loaded image /content/drive/MyDrive/Chest-CT-Data/test/adenocarcinoma/000148 (3).png\n",
            "Loaded image /content/drive/MyDrive/Chest-CT-Data/test/adenocarcinoma/000120.png\n",
            "Loaded image /content/drive/MyDrive/Chest-CT-Data/test/adenocarcinoma/000135 (5).png\n",
            "Loaded image /content/drive/MyDrive/Chest-CT-Data/test/adenocarcinoma/000139 (5).png\n",
            "Loaded image /content/drive/MyDrive/Chest-CT-Data/test/adenocarcinoma/000114.png\n",
            "Loaded image /content/drive/MyDrive/Chest-CT-Data/test/adenocarcinoma/000141 (2).png\n",
            "Loaded image /content/drive/MyDrive/Chest-CT-Data/test/adenocarcinoma/000117.png\n",
            "Loaded image /content/drive/MyDrive/Chest-CT-Data/test/adenocarcinoma/000122.png\n",
            "Loaded image /content/drive/MyDrive/Chest-CT-Data/test/adenocarcinoma/000139 (6).png\n",
            "Loaded image /content/drive/MyDrive/Chest-CT-Data/test/adenocarcinoma/000148 (6).png\n",
            "Loaded image /content/drive/MyDrive/Chest-CT-Data/test/adenocarcinoma/000158 (6).png\n",
            "Loaded image /content/drive/MyDrive/Chest-CT-Data/test/adenocarcinoma/000168 (3).png\n",
            "Loaded image /content/drive/MyDrive/Chest-CT-Data/test/adenocarcinoma/000116 (7).png\n",
            "Loaded image /content/drive/MyDrive/Chest-CT-Data/test/adenocarcinoma/000139 (8).png\n",
            "Loaded image /content/drive/MyDrive/Chest-CT-Data/test/adenocarcinoma/000171 (5).png\n",
            "Loaded image /content/drive/MyDrive/Chest-CT-Data/test/adenocarcinoma/000149 (4).png\n",
            "Loaded image /content/drive/MyDrive/Chest-CT-Data/test/adenocarcinoma/000144 (5).png\n",
            "Loaded image /content/drive/MyDrive/Chest-CT-Data/test/adenocarcinoma/000161 (5).png\n",
            "Loaded image /content/drive/MyDrive/Chest-CT-Data/test/adenocarcinoma/000142.png\n",
            "Loaded image /content/drive/MyDrive/Chest-CT-Data/test/adenocarcinoma/000167 (3).png\n",
            "Loaded image /content/drive/MyDrive/Chest-CT-Data/test/adenocarcinoma/000116 (5).png\n",
            "Loaded image /content/drive/MyDrive/Chest-CT-Data/test/adenocarcinoma/000167 (8).png\n",
            "Loaded image /content/drive/MyDrive/Chest-CT-Data/test/adenocarcinoma/000151 (5).png\n",
            "Loaded image /content/drive/MyDrive/Chest-CT-Data/test/adenocarcinoma/000148 (8).png\n",
            "Loaded image /content/drive/MyDrive/Chest-CT-Data/test/adenocarcinoma/000129 (5).png\n",
            "Loaded image /content/drive/MyDrive/Chest-CT-Data/test/adenocarcinoma/000153 (5).png\n",
            "Loaded image /content/drive/MyDrive/Chest-CT-Data/test/adenocarcinoma/000131 (2).png\n",
            "Loaded image /content/drive/MyDrive/Chest-CT-Data/test/adenocarcinoma/000156 (4).png\n",
            "Loaded image /content/drive/MyDrive/Chest-CT-Data/test/adenocarcinoma/000125 (6).png\n",
            "Loaded image /content/drive/MyDrive/Chest-CT-Data/test/adenocarcinoma/000177.png\n",
            "Loaded image /content/drive/MyDrive/Chest-CT-Data/test/adenocarcinoma/000145 (9).png\n",
            "Loaded image /content/drive/MyDrive/Chest-CT-Data/test/adenocarcinoma/000132.png\n",
            "Loaded image /content/drive/MyDrive/Chest-CT-Data/test/adenocarcinoma/000118 (7).png\n",
            "Loaded image /content/drive/MyDrive/Chest-CT-Data/test/adenocarcinoma/000117 (8).png\n",
            "Loaded image /content/drive/MyDrive/Chest-CT-Data/test/adenocarcinoma/000125 (4).png\n",
            "Loaded image /content/drive/MyDrive/Chest-CT-Data/test/adenocarcinoma/000164 (5).png\n",
            "Loaded image /content/drive/MyDrive/Chest-CT-Data/test/adenocarcinoma/000177 (4).png\n",
            "Loaded image /content/drive/MyDrive/Chest-CT-Data/test/adenocarcinoma/000126 (6).png\n",
            "Loaded image /content/drive/MyDrive/Chest-CT-Data/test/adenocarcinoma/000121 (7).png\n",
            "Loaded image /content/drive/MyDrive/Chest-CT-Data/test/adenocarcinoma/000149 (2).png\n",
            "Loaded image /content/drive/MyDrive/Chest-CT-Data/test/adenocarcinoma/000125 (5).png\n",
            "Loaded image /content/drive/MyDrive/Chest-CT-Data/test/adenocarcinoma/000163 (7).png\n",
            "Loaded image /content/drive/MyDrive/Chest-CT-Data/test/adenocarcinoma/000124 (9).png\n",
            "Loaded image /content/drive/MyDrive/Chest-CT-Data/test/adenocarcinoma/000127 (5).png\n",
            "Loaded image /content/drive/MyDrive/Chest-CT-Data/test/adenocarcinoma/000112 (2).png\n",
            "Loaded image /content/drive/MyDrive/Chest-CT-Data/test/adenocarcinoma/000119 (6).png\n",
            "Loaded image /content/drive/MyDrive/Chest-CT-Data/test/adenocarcinoma/000109 (2).png\n",
            "Loaded image /content/drive/MyDrive/Chest-CT-Data/test/adenocarcinoma/000109 (4).png\n",
            "Loaded image /content/drive/MyDrive/Chest-CT-Data/test/adenocarcinoma/000122 (4).png\n",
            "Loaded image /content/drive/MyDrive/Chest-CT-Data/test/adenocarcinoma/000113 (7).png\n",
            "Loaded image /content/drive/MyDrive/Chest-CT-Data/test/adenocarcinoma/000124 (6).png\n",
            "Loaded image /content/drive/MyDrive/Chest-CT-Data/test/adenocarcinoma/000133 (2).png\n",
            "Loaded image /content/drive/MyDrive/Chest-CT-Data/test/adenocarcinoma/000119 (5).png\n",
            "Loaded image /content/drive/MyDrive/Chest-CT-Data/test/adenocarcinoma/000155.png\n",
            "Loaded image /content/drive/MyDrive/Chest-CT-Data/test/adenocarcinoma/000116 (9).png\n",
            "Loaded image /content/drive/MyDrive/Chest-CT-Data/test/adenocarcinoma/000125 (2).png\n",
            "Loaded image /content/drive/MyDrive/Chest-CT-Data/test/adenocarcinoma/000160 (4).png\n",
            "Loaded image /content/drive/MyDrive/Chest-CT-Data/test/adenocarcinoma/000137 (8).png\n",
            "Loaded image /content/drive/MyDrive/Chest-CT-Data/test/adenocarcinoma/000121 (6).png\n",
            "Loaded image /content/drive/MyDrive/Chest-CT-Data/test/adenocarcinoma/000114 (5).png\n",
            "Loaded image /content/drive/MyDrive/Chest-CT-Data/test/adenocarcinoma/000158.png\n",
            "Loaded image /content/drive/MyDrive/Chest-CT-Data/test/adenocarcinoma/000108 (3).png\n",
            "Loaded image /content/drive/MyDrive/Chest-CT-Data/test/adenocarcinoma/000115 (8).png\n",
            "Loaded image /content/drive/MyDrive/Chest-CT-Data/test/adenocarcinoma/000136 (8).png\n",
            "Loaded image /content/drive/MyDrive/Chest-CT-Data/test/adenocarcinoma/000134 (2).png\n",
            "Loaded image /content/drive/MyDrive/Chest-CT-Data/test/adenocarcinoma/000132 (7).png\n",
            "Loaded image /content/drive/MyDrive/Chest-CT-Data/test/adenocarcinoma/000109 (5).png\n",
            "Loaded image /content/drive/MyDrive/Chest-CT-Data/test/adenocarcinoma/000157 (6).png\n",
            "Loaded image /content/drive/MyDrive/Chest-CT-Data/test/large.cell.carcinoma/000170.png\n",
            "Loaded image /content/drive/MyDrive/Chest-CT-Data/test/large.cell.carcinoma/000173 (2).png\n",
            "Loaded image /content/drive/MyDrive/Chest-CT-Data/test/large.cell.carcinoma/000138 (2).png\n",
            "Loaded image /content/drive/MyDrive/Chest-CT-Data/test/large.cell.carcinoma/000149.png\n",
            "Loaded image /content/drive/MyDrive/Chest-CT-Data/test/large.cell.carcinoma/000113.png\n",
            "Loaded image /content/drive/MyDrive/Chest-CT-Data/test/large.cell.carcinoma/000128.png\n",
            "Loaded image /content/drive/MyDrive/Chest-CT-Data/test/large.cell.carcinoma/000130.png\n",
            "Loaded image /content/drive/MyDrive/Chest-CT-Data/test/large.cell.carcinoma/000173.png\n",
            "Loaded image /content/drive/MyDrive/Chest-CT-Data/test/large.cell.carcinoma/000133.png\n",
            "Loaded image /content/drive/MyDrive/Chest-CT-Data/test/large.cell.carcinoma/000160.png\n",
            "Loaded image /content/drive/MyDrive/Chest-CT-Data/test/large.cell.carcinoma/000172.png\n",
            "Loaded image /content/drive/MyDrive/Chest-CT-Data/test/large.cell.carcinoma/000141.png\n",
            "Loaded image /content/drive/MyDrive/Chest-CT-Data/test/large.cell.carcinoma/000169.png\n",
            "Loaded image /content/drive/MyDrive/Chest-CT-Data/test/large.cell.carcinoma/000163.png\n",
            "Loaded image /content/drive/MyDrive/Chest-CT-Data/test/large.cell.carcinoma/000154.png\n",
            "Loaded image /content/drive/MyDrive/Chest-CT-Data/test/large.cell.carcinoma/000172 (2).png\n",
            "Loaded image /content/drive/MyDrive/Chest-CT-Data/test/large.cell.carcinoma/000171.png\n",
            "Loaded image /content/drive/MyDrive/Chest-CT-Data/test/large.cell.carcinoma/000174.png\n",
            "Loaded image /content/drive/MyDrive/Chest-CT-Data/test/large.cell.carcinoma/000111.png\n",
            "Loaded image /content/drive/MyDrive/Chest-CT-Data/test/large.cell.carcinoma/000150.png\n",
            "Loaded image /content/drive/MyDrive/Chest-CT-Data/test/large.cell.carcinoma/000148.png\n",
            "Loaded image /content/drive/MyDrive/Chest-CT-Data/test/large.cell.carcinoma/000123.png\n",
            "Loaded image /content/drive/MyDrive/Chest-CT-Data/test/large.cell.carcinoma/000120.png\n",
            "Loaded image /content/drive/MyDrive/Chest-CT-Data/test/large.cell.carcinoma/000158.png\n",
            "Loaded image /content/drive/MyDrive/Chest-CT-Data/test/large.cell.carcinoma/000115 (2).png\n",
            "Loaded image /content/drive/MyDrive/Chest-CT-Data/test/large.cell.carcinoma/000137.png\n",
            "Loaded image /content/drive/MyDrive/Chest-CT-Data/test/large.cell.carcinoma/000118.png\n",
            "Loaded image /content/drive/MyDrive/Chest-CT-Data/test/large.cell.carcinoma/000114.png\n",
            "Loaded image /content/drive/MyDrive/Chest-CT-Data/test/large.cell.carcinoma/000159 (2).png\n",
            "Loaded image /content/drive/MyDrive/Chest-CT-Data/test/large.cell.carcinoma/000128 (2).png\n",
            "Loaded image /content/drive/MyDrive/Chest-CT-Data/test/large.cell.carcinoma/000111 (2).png\n",
            "Loaded image /content/drive/MyDrive/Chest-CT-Data/test/large.cell.carcinoma/000126.png\n",
            "Loaded image /content/drive/MyDrive/Chest-CT-Data/test/large.cell.carcinoma/000155.png\n",
            "Loaded image /content/drive/MyDrive/Chest-CT-Data/test/large.cell.carcinoma/000116.png\n",
            "Loaded image /content/drive/MyDrive/Chest-CT-Data/test/large.cell.carcinoma/000131.png\n",
            "Loaded image /content/drive/MyDrive/Chest-CT-Data/test/large.cell.carcinoma/000122.png\n",
            "Loaded image /content/drive/MyDrive/Chest-CT-Data/test/large.cell.carcinoma/000148 (2).png\n",
            "Loaded image /content/drive/MyDrive/Chest-CT-Data/test/large.cell.carcinoma/000132 (2).png\n",
            "Loaded image /content/drive/MyDrive/Chest-CT-Data/test/large.cell.carcinoma/000162.png\n",
            "Loaded image /content/drive/MyDrive/Chest-CT-Data/test/large.cell.carcinoma/000113 (2).png\n",
            "Loaded image /content/drive/MyDrive/Chest-CT-Data/test/large.cell.carcinoma/000136 (2).png\n",
            "Loaded image /content/drive/MyDrive/Chest-CT-Data/test/large.cell.carcinoma/000108.png\n",
            "Loaded image /content/drive/MyDrive/Chest-CT-Data/test/large.cell.carcinoma/000131 (2).png\n",
            "Loaded image /content/drive/MyDrive/Chest-CT-Data/test/large.cell.carcinoma/000124 (2).png\n",
            "Loaded image /content/drive/MyDrive/Chest-CT-Data/test/large.cell.carcinoma/000147 (2).png\n",
            "Loaded image /content/drive/MyDrive/Chest-CT-Data/test/large.cell.carcinoma/000110.png\n",
            "Loaded image /content/drive/MyDrive/Chest-CT-Data/test/large.cell.carcinoma/000133 (2).png\n",
            "Loaded image /content/drive/MyDrive/Chest-CT-Data/test/large.cell.carcinoma/000159.png\n",
            "Loaded image /content/drive/MyDrive/Chest-CT-Data/test/large.cell.carcinoma/000154 (2).png\n",
            "Loaded image /content/drive/MyDrive/Chest-CT-Data/test/large.cell.carcinoma/000143.png\n",
            "Loaded image /content/drive/MyDrive/Chest-CT-Data/test/large.cell.carcinoma/000127 (2).png\n",
            "Loaded image /content/drive/MyDrive/Chest-CT-Data/test/normal/11 - Copy (2).png\n",
            "Loaded image /content/drive/MyDrive/Chest-CT-Data/test/normal/6 - Copy (3).png\n",
            "Loaded image /content/drive/MyDrive/Chest-CT-Data/test/normal/10 - Copy (3).png\n",
            "Loaded image /content/drive/MyDrive/Chest-CT-Data/test/normal/6 - Copy.png\n",
            "Loaded image /content/drive/MyDrive/Chest-CT-Data/test/normal/11 (2).png\n",
            "Loaded image /content/drive/MyDrive/Chest-CT-Data/test/normal/12 - Copy - Copy.png\n",
            "Loaded image /content/drive/MyDrive/Chest-CT-Data/test/normal/8 - Copy (3).png\n",
            "Loaded image /content/drive/MyDrive/Chest-CT-Data/test/normal/10.png\n",
            "Loaded image /content/drive/MyDrive/Chest-CT-Data/test/normal/8.png\n",
            "Loaded image /content/drive/MyDrive/Chest-CT-Data/test/normal/6 (2) - Copy.png\n",
            "Loaded image /content/drive/MyDrive/Chest-CT-Data/test/normal/6 - Copy (2) - Copy.png\n",
            "Loaded image /content/drive/MyDrive/Chest-CT-Data/test/normal/6.png\n",
            "Loaded image /content/drive/MyDrive/Chest-CT-Data/test/normal/11 - Copy - Copy.png\n",
            "Loaded image /content/drive/MyDrive/Chest-CT-Data/test/normal/10 (2) - Copy.png\n",
            "Loaded image /content/drive/MyDrive/Chest-CT-Data/test/normal/7 - Copy (3).png\n",
            "Loaded image /content/drive/MyDrive/Chest-CT-Data/test/normal/12 (2).png\n",
            "Loaded image /content/drive/MyDrive/Chest-CT-Data/test/normal/12 - Copy (3).png\n",
            "Loaded image /content/drive/MyDrive/Chest-CT-Data/test/normal/11 - Copy (3).png\n",
            "Loaded image /content/drive/MyDrive/Chest-CT-Data/test/normal/6 - Copy (2).png\n",
            "Loaded image /content/drive/MyDrive/Chest-CT-Data/test/normal/24 - Copy.png\n",
            "Loaded image /content/drive/MyDrive/Chest-CT-Data/test/normal/21.png\n",
            "Loaded image /content/drive/MyDrive/Chest-CT-Data/test/normal/11 - Copy (2) - Copy.png\n",
            "Loaded image /content/drive/MyDrive/Chest-CT-Data/test/normal/24.png\n",
            "Loaded image /content/drive/MyDrive/Chest-CT-Data/test/normal/8 - Copy.png\n",
            "Loaded image /content/drive/MyDrive/Chest-CT-Data/test/normal/10 - Copy (2) - Copy.png\n",
            "Loaded image /content/drive/MyDrive/Chest-CT-Data/test/normal/8 (2) - Copy.png\n",
            "Loaded image /content/drive/MyDrive/Chest-CT-Data/test/normal/25.png\n",
            "Loaded image /content/drive/MyDrive/Chest-CT-Data/test/normal/7 (2) - Copy.png\n",
            "Loaded image /content/drive/MyDrive/Chest-CT-Data/test/normal/22.png\n",
            "Loaded image /content/drive/MyDrive/Chest-CT-Data/test/normal/7.png\n",
            "Loaded image /content/drive/MyDrive/Chest-CT-Data/test/normal/12 - Copy (2).png\n",
            "Loaded image /content/drive/MyDrive/Chest-CT-Data/test/normal/8 - Copy - Copy.png\n",
            "Loaded image /content/drive/MyDrive/Chest-CT-Data/test/normal/12 - Copy.png\n",
            "Loaded image /content/drive/MyDrive/Chest-CT-Data/test/normal/23.png\n",
            "Loaded image /content/drive/MyDrive/Chest-CT-Data/test/normal/7 - Copy (2) - Copy.png\n",
            "Loaded image /content/drive/MyDrive/Chest-CT-Data/test/normal/10 - Copy (2).png\n",
            "Loaded image /content/drive/MyDrive/Chest-CT-Data/test/normal/7 - Copy.png\n",
            "Loaded image /content/drive/MyDrive/Chest-CT-Data/test/normal/10 - Copy.png\n",
            "Loaded image /content/drive/MyDrive/Chest-CT-Data/test/normal/12 (2) - Copy.png\n",
            "Loaded image /content/drive/MyDrive/Chest-CT-Data/test/normal/10 - Copy - Copy.png\n",
            "Loaded image /content/drive/MyDrive/Chest-CT-Data/test/normal/12 - Copy (2) - Copy.png\n",
            "Loaded image /content/drive/MyDrive/Chest-CT-Data/test/normal/11 (2) - Copy.png\n",
            "Loaded image /content/drive/MyDrive/Chest-CT-Data/test/normal/10 (2).png\n",
            "Loaded image /content/drive/MyDrive/Chest-CT-Data/test/normal/8 - Copy (2) - Copy.png\n",
            "Loaded image /content/drive/MyDrive/Chest-CT-Data/test/normal/8 - Copy (2).png\n",
            "Loaded image /content/drive/MyDrive/Chest-CT-Data/test/normal/8 (2).png\n",
            "Loaded image /content/drive/MyDrive/Chest-CT-Data/test/normal/11.png\n",
            "Loaded image /content/drive/MyDrive/Chest-CT-Data/test/normal/normal.png\n",
            "Loaded image /content/drive/MyDrive/Chest-CT-Data/test/normal/7 (2).png\n",
            "Loaded image /content/drive/MyDrive/Chest-CT-Data/test/normal/7 - Copy (2).png\n",
            "Loaded image /content/drive/MyDrive/Chest-CT-Data/test/normal/6 (2).png\n",
            "Loaded image /content/drive/MyDrive/Chest-CT-Data/test/normal/11 - Copy.png\n",
            "Loaded image /content/drive/MyDrive/Chest-CT-Data/test/normal/normal - Copy.png\n",
            "Loaded image /content/drive/MyDrive/Chest-CT-Data/test/normal/7 - Copy - Copy.png\n",
            "Loaded image /content/drive/MyDrive/Chest-CT-Data/test/squamous.cell.carcinoma/000124 (5).png\n",
            "Loaded image /content/drive/MyDrive/Chest-CT-Data/test/squamous.cell.carcinoma/000162.png\n",
            "Loaded image /content/drive/MyDrive/Chest-CT-Data/test/squamous.cell.carcinoma/000168 (2).png\n",
            "Loaded image /content/drive/MyDrive/Chest-CT-Data/test/squamous.cell.carcinoma/000125 (2).png\n",
            "Loaded image /content/drive/MyDrive/Chest-CT-Data/test/squamous.cell.carcinoma/000125 (6).png\n",
            "Loaded image /content/drive/MyDrive/Chest-CT-Data/test/squamous.cell.carcinoma/000122 (6).png\n",
            "Loaded image /content/drive/MyDrive/Chest-CT-Data/test/squamous.cell.carcinoma/000144 (5).png\n",
            "Loaded image /content/drive/MyDrive/Chest-CT-Data/test/squamous.cell.carcinoma/000130 (4).png\n",
            "Loaded image /content/drive/MyDrive/Chest-CT-Data/test/squamous.cell.carcinoma/000127 (2).png\n",
            "Loaded image /content/drive/MyDrive/Chest-CT-Data/test/squamous.cell.carcinoma/000132 (4).png\n",
            "Loaded image /content/drive/MyDrive/Chest-CT-Data/test/squamous.cell.carcinoma/000145 (6).png\n",
            "Loaded image /content/drive/MyDrive/Chest-CT-Data/test/squamous.cell.carcinoma/000151 (6).png\n",
            "Loaded image /content/drive/MyDrive/Chest-CT-Data/test/squamous.cell.carcinoma/000169 (6).png\n",
            "Loaded image /content/drive/MyDrive/Chest-CT-Data/test/squamous.cell.carcinoma/000170 (2).png\n",
            "Loaded image /content/drive/MyDrive/Chest-CT-Data/test/squamous.cell.carcinoma/000160 (4).png\n",
            "Loaded image /content/drive/MyDrive/Chest-CT-Data/test/squamous.cell.carcinoma/000153 (3).png\n",
            "Loaded image /content/drive/MyDrive/Chest-CT-Data/test/squamous.cell.carcinoma/000119.png\n",
            "Loaded image /content/drive/MyDrive/Chest-CT-Data/test/squamous.cell.carcinoma/000154 (2).png\n",
            "Loaded image /content/drive/MyDrive/Chest-CT-Data/test/squamous.cell.carcinoma/000164 (5).png\n",
            "Loaded image /content/drive/MyDrive/Chest-CT-Data/test/squamous.cell.carcinoma/000120 (3).png\n",
            "Loaded image /content/drive/MyDrive/Chest-CT-Data/test/squamous.cell.carcinoma/000141 (4).png\n",
            "Loaded image /content/drive/MyDrive/Chest-CT-Data/test/squamous.cell.carcinoma/000154 (3).png\n",
            "Loaded image /content/drive/MyDrive/Chest-CT-Data/test/squamous.cell.carcinoma/000135.png\n",
            "Loaded image /content/drive/MyDrive/Chest-CT-Data/test/squamous.cell.carcinoma/000156 (2).png\n",
            "Loaded image /content/drive/MyDrive/Chest-CT-Data/test/squamous.cell.carcinoma/000151.png\n",
            "Loaded image /content/drive/MyDrive/Chest-CT-Data/test/squamous.cell.carcinoma/000142 (6).png\n",
            "Loaded image /content/drive/MyDrive/Chest-CT-Data/test/squamous.cell.carcinoma/000136 (6).png\n",
            "Loaded image /content/drive/MyDrive/Chest-CT-Data/test/squamous.cell.carcinoma/000124.png\n",
            "Loaded image /content/drive/MyDrive/Chest-CT-Data/test/squamous.cell.carcinoma/000155 (3).png\n",
            "Loaded image /content/drive/MyDrive/Chest-CT-Data/test/squamous.cell.carcinoma/000177 (3).png\n",
            "Loaded image /content/drive/MyDrive/Chest-CT-Data/test/squamous.cell.carcinoma/000121 (5).png\n",
            "Loaded image /content/drive/MyDrive/Chest-CT-Data/test/squamous.cell.carcinoma/000122.png\n",
            "Loaded image /content/drive/MyDrive/Chest-CT-Data/test/squamous.cell.carcinoma/000137.png\n",
            "Loaded image /content/drive/MyDrive/Chest-CT-Data/test/squamous.cell.carcinoma/000163 (4).png\n",
            "Loaded image /content/drive/MyDrive/Chest-CT-Data/test/squamous.cell.carcinoma/000129 (6).png\n",
            "Loaded image /content/drive/MyDrive/Chest-CT-Data/test/squamous.cell.carcinoma/000136 (4).png\n",
            "Loaded image /content/drive/MyDrive/Chest-CT-Data/test/squamous.cell.carcinoma/000166 (4).png\n",
            "Loaded image /content/drive/MyDrive/Chest-CT-Data/test/squamous.cell.carcinoma/000167 (2).png\n",
            "Loaded image /content/drive/MyDrive/Chest-CT-Data/test/squamous.cell.carcinoma/000135 (4).png\n",
            "Loaded image /content/drive/MyDrive/Chest-CT-Data/test/squamous.cell.carcinoma/000115 (4).png\n",
            "Loaded image /content/drive/MyDrive/Chest-CT-Data/test/squamous.cell.carcinoma/000112.png\n",
            "Loaded image /content/drive/MyDrive/Chest-CT-Data/test/squamous.cell.carcinoma/000134 (5).png\n",
            "Loaded image /content/drive/MyDrive/Chest-CT-Data/test/squamous.cell.carcinoma/000117 (3).png\n",
            "Loaded image /content/drive/MyDrive/Chest-CT-Data/test/squamous.cell.carcinoma/000120 (2).png\n",
            "Loaded image /content/drive/MyDrive/Chest-CT-Data/test/squamous.cell.carcinoma/000118 (4).png\n",
            "Loaded image /content/drive/MyDrive/Chest-CT-Data/test/squamous.cell.carcinoma/000133 (2).png\n",
            "Loaded image /content/drive/MyDrive/Chest-CT-Data/test/squamous.cell.carcinoma/000125.png\n",
            "Loaded image /content/drive/MyDrive/Chest-CT-Data/test/squamous.cell.carcinoma/000172 (6).png\n",
            "Loaded image /content/drive/MyDrive/Chest-CT-Data/test/squamous.cell.carcinoma/000139 (6).png\n",
            "Loaded image /content/drive/MyDrive/Chest-CT-Data/test/squamous.cell.carcinoma/000154 (4).png\n",
            "Loaded image /content/drive/MyDrive/Chest-CT-Data/test/squamous.cell.carcinoma/000137 (3).png\n",
            "Loaded image /content/drive/MyDrive/Chest-CT-Data/test/squamous.cell.carcinoma/000153 (4).png\n",
            "Loaded image /content/drive/MyDrive/Chest-CT-Data/test/squamous.cell.carcinoma/000155.png\n",
            "Loaded image /content/drive/MyDrive/Chest-CT-Data/test/squamous.cell.carcinoma/000149 (4).png\n",
            "Loaded image /content/drive/MyDrive/Chest-CT-Data/test/squamous.cell.carcinoma/000129 (2).png\n",
            "Loaded image /content/drive/MyDrive/Chest-CT-Data/test/squamous.cell.carcinoma/000174 (3).png\n",
            "Loaded image /content/drive/MyDrive/Chest-CT-Data/test/squamous.cell.carcinoma/000131 (6).png\n",
            "Loaded image /content/drive/MyDrive/Chest-CT-Data/test/squamous.cell.carcinoma/000153.png\n",
            "Loaded image /content/drive/MyDrive/Chest-CT-Data/test/squamous.cell.carcinoma/000159 (5).png\n",
            "Loaded image /content/drive/MyDrive/Chest-CT-Data/test/squamous.cell.carcinoma/000141 (2).png\n",
            "Loaded image /content/drive/MyDrive/Chest-CT-Data/test/squamous.cell.carcinoma/000163 (6).png\n",
            "Loaded image /content/drive/MyDrive/Chest-CT-Data/test/squamous.cell.carcinoma/000148 (4).png\n",
            "Loaded image /content/drive/MyDrive/Chest-CT-Data/test/squamous.cell.carcinoma/000120 (5).png\n",
            "Loaded image /content/drive/MyDrive/Chest-CT-Data/test/squamous.cell.carcinoma/000139 (4).png\n",
            "Loaded image /content/drive/MyDrive/Chest-CT-Data/test/squamous.cell.carcinoma/000158 (6).png\n",
            "Loaded image /content/drive/MyDrive/Chest-CT-Data/test/squamous.cell.carcinoma/000142 (5).png\n",
            "Loaded image /content/drive/MyDrive/Chest-CT-Data/test/squamous.cell.carcinoma/000127.png\n",
            "Loaded image /content/drive/MyDrive/Chest-CT-Data/test/squamous.cell.carcinoma/000139 (5).png\n",
            "Loaded image /content/drive/MyDrive/Chest-CT-Data/test/squamous.cell.carcinoma/000121.png\n",
            "Loaded image /content/drive/MyDrive/Chest-CT-Data/test/squamous.cell.carcinoma/000127 (6).png\n",
            "Loaded image /content/drive/MyDrive/Chest-CT-Data/test/squamous.cell.carcinoma/000162 (2).png\n",
            "Loaded image /content/drive/MyDrive/Chest-CT-Data/test/squamous.cell.carcinoma/000114 (2).png\n",
            "Loaded image /content/drive/MyDrive/Chest-CT-Data/test/squamous.cell.carcinoma/000116 (5).png\n",
            "Loaded image /content/drive/MyDrive/Chest-CT-Data/test/squamous.cell.carcinoma/000110 (2).png\n",
            "Loaded image /content/drive/MyDrive/Chest-CT-Data/test/squamous.cell.carcinoma/000119 (4).png\n",
            "Loaded image /content/drive/MyDrive/Chest-CT-Data/test/squamous.cell.carcinoma/000118 (3).png\n",
            "Loaded image /content/drive/MyDrive/Chest-CT-Data/test/squamous.cell.carcinoma/000115 (5).png\n",
            "Loaded image /content/drive/MyDrive/Chest-CT-Data/test/squamous.cell.carcinoma/000146 (6).png\n",
            "Loaded image /content/drive/MyDrive/Chest-CT-Data/test/squamous.cell.carcinoma/000163 (5).png\n",
            "Loaded image /content/drive/MyDrive/Chest-CT-Data/test/squamous.cell.carcinoma/000117 (5).png\n",
            "Loaded image /content/drive/MyDrive/Chest-CT-Data/test/squamous.cell.carcinoma/000126 (4).png\n",
            "Loaded image /content/drive/MyDrive/Chest-CT-Data/test/squamous.cell.carcinoma/000148 (3).png\n",
            "Loaded image /content/drive/MyDrive/Chest-CT-Data/test/squamous.cell.carcinoma/000124 (4).png\n",
            "Loaded image /content/drive/MyDrive/Chest-CT-Data/test/squamous.cell.carcinoma/000158 (4).png\n",
            "Loaded image /content/drive/MyDrive/Chest-CT-Data/test/squamous.cell.carcinoma/000157 (6).png\n",
            "Loaded image /content/drive/MyDrive/Chest-CT-Data/test/squamous.cell.carcinoma/000108 (6).png\n",
            "Loaded image /content/drive/MyDrive/Chest-CT-Data/test/squamous.cell.carcinoma/000117 (2).png\n",
            "Loaded image /content/drive/MyDrive/Chest-CT-Data/test/squamous.cell.carcinoma/000111.png\n",
            "Loaded image /content/drive/MyDrive/Chest-CT-Data/test/squamous.cell.carcinoma/000133 (3).png\n",
            "Loaded image /content/drive/MyDrive/Chest-CT-Data/test/squamous.cell.carcinoma/000114 (3).png\n",
            "Loaded 601 training images with 601 labels\n",
            "Loaded 81 validation images with 81 labels\n",
            "Loaded 315 test images with 315 labels\n"
          ]
        }
      ],
      "source": [
        "# Mengatur path dataset, disesuaikan untuk Google Colab atau Jupyter Notebook\n",
        "dataset_path = '/content/drive/MyDrive/Chest-CT-Data'\n",
        "\n",
        "# Load data\n",
        "train_images, train_labels = load_data(dataset_path, 'train')\n",
        "valid_images, valid_labels = load_data(dataset_path, 'valid')\n",
        "test_images, test_labels = load_data(dataset_path, 'test')\n",
        "\n",
        "print(f\"Loaded {len(train_images)} training images with {len(train_labels)} labels\")\n",
        "print(f\"Loaded {len(valid_images)} validation images with {len(valid_labels)} labels\")\n",
        "print(f\"Loaded {len(test_images)} test images with {len(test_labels)} labels\")\n",
        "\n",
        "# Transformasi data untuk persiapan training, validation, dan testing\n",
        "transform = transforms.Compose([\n",
        "    transforms.ToPILImage(),             # Ubah dari array NumPy ke gambar PIL\n",
        "    transforms.Resize((224, 224)),       # Ubah ukuran gambar menjadi 224x224\n",
        "    #v2.RandomHorizontalFlip(),           # Randomly flip the image horizontally\n",
        "   # v2.RandomRotation(15),                # Randomly rotate the image by up to 15 degrees\n",
        "    transforms.ToTensor(),               # Ubah gambar menjadi Tensor and normalize to [0, 1]\n",
        "])\n",
        "\n",
        "# Membuat dataset dan data loader untuk training, validation, dan testing\n",
        "train_dataset = CustomDataset(train_images, train_labels, transform=transform)\n",
        "valid_dataset = CustomDataset(valid_images, valid_labels, transform=transform)\n",
        "test_dataset = CustomDataset(test_images, test_labels, transform=transform)\n",
        "\n",
        "train_loader = DataLoader(train_dataset, batch_size=16, shuffle=True)  # DataLoader untuk training\n",
        "valid_loader = DataLoader(valid_dataset, batch_size=16, shuffle=False) # DataLoader untuk validasi\n",
        "test_loader = DataLoader(test_dataset, batch_size=16, shuffle=False)   # DataLoader untuk testing\n"
      ]
    },
    {
      "cell_type": "markdown",
      "id": "23a0550f",
      "metadata": {
        "id": "23a0550f"
      },
      "source": [
        "## Pruning"
      ]
    },
    {
      "cell_type": "code",
      "execution_count": null,
      "id": "dc82008a",
      "metadata": {
        "id": "dc82008a"
      },
      "outputs": [],
      "source": [
        "import torch\n",
        "import torch.nn as nn\n",
        "\n",
        "# Fungsi untuk pruning layer Conv2D berdasarkan L2 norm\n",
        "def l2_prune_conv2d_layer(module, pruning_amount):\n",
        "    with torch.no_grad():\n",
        "        weight = module.weight.data.view(module.weight.size(0), -1)\n",
        "        l2_norms = torch.norm(weight, p=2, dim=1)\n",
        "\n",
        "    num_filters = module.weight.size(0)\n",
        "    num_prune = int(pruning_amount * num_filters)\n",
        "\n",
        "    if num_prune == 0:\n",
        "        return module, module.out_channels  # Tidak ada pruning jika num_prune adalah 0\n",
        "\n",
        "    prune_indices = torch.argsort(l2_norms)[:num_prune]\n",
        "    keep_indices = torch.argsort(l2_norms)[num_prune:]\n",
        "\n",
        "    # Membentuk ulang layer Conv2D dengan filter yang dipertahankan\n",
        "    new_conv = nn.Conv2d(\n",
        "        in_channels=module.in_channels,\n",
        "        out_channels=num_filters - num_prune,\n",
        "        kernel_size=module.kernel_size,\n",
        "        stride=module.stride,\n",
        "        padding=module.padding,\n",
        "        bias=module.bias is not None\n",
        "    )\n",
        "\n",
        "    new_conv.weight.data = module.weight.data[keep_indices].clone()\n",
        "    if module.bias is not None:\n",
        "        new_conv.bias.data = module.bias.data[keep_indices].clone()\n",
        "\n",
        "    return new_conv, new_conv.out_channels\n",
        "\n",
        "# Fungsi untuk mengganti layer secara rekursif dalam model\n",
        "def replace_layers(module, pruning_amount=0.5):\n",
        "    prev_out_channels = None\n",
        "\n",
        "    for name, child in module.named_children():\n",
        "        if isinstance(child, nn.Conv2d):\n",
        "            # Prune the Conv2D layer and replace it\n",
        "            pruned_layer, new_out_channels = l2_prune_conv2d_layer(child, pruning_amount)\n",
        "\n",
        "            # Jika ada layer sebelumnya, sesuaikan in_channels dari layer saat ini\n",
        "            if prev_out_channels is not None:\n",
        "                pruned_layer = nn.Conv2d(\n",
        "                    in_channels=prev_out_channels,  # Sesuaikan dengan output layer sebelumnya\n",
        "                    out_channels=new_out_channels,\n",
        "                    kernel_size=child.kernel_size,\n",
        "                    stride=child.stride,\n",
        "                    padding=child.padding,\n",
        "                    bias=child.bias is not None\n",
        "                )\n",
        "                pruned_layer.weight.data = child.weight.data[:new_out_channels, :prev_out_channels].clone()\n",
        "                if pruned_layer.bias is not None:\n",
        "                    pruned_layer.bias.data = child.bias.data[:new_out_channels].clone()\n",
        "\n",
        "            setattr(module, name, pruned_layer)\n",
        "\n",
        "            # Update jumlah channel output untuk layer berikutnya\n",
        "            prev_out_channels = new_out_channels\n",
        "\n",
        "        elif isinstance(child, nn.Sequential) or isinstance(child, nn.Module):\n",
        "            # Recursive call for nested Sequential or Module\n",
        "            replace_layers(child, pruning_amount)\n",
        "\n",
        "# Fungsi untuk menyesuaikan layer klasifikasi (fully connected) dalam model\n",
        "def adjust_classifier(model):\n",
        "    device = torch.device(\"cuda\" if torch.cuda.is_available() else \"cpu\")\n",
        "    with torch.no_grad():\n",
        "        dummy_input = torch.randn(1, 3, 224, 224).to(device)  # Sesuaikan ukuran input jika perlu\n",
        "        features_output = model.features(dummy_input)\n",
        "        flattened_size = features_output.view(features_output.size(0), -1).size(1)\n",
        "\n",
        "    first_linear = None\n",
        "    for module in model.classifier:\n",
        "        if isinstance(module, nn.Linear):\n",
        "            first_linear = module\n",
        "            break\n",
        "\n",
        "    if first_linear is not None:\n",
        "        new_linear = nn.Linear(flattened_size, first_linear.out_features).to(device)\n",
        "        with torch.no_grad():\n",
        "            new_linear.weight.data[:, :min(flattened_size, first_linear.in_features)] = \\\n",
        "                first_linear.weight.data[:, :min(flattened_size, first_linear.in_features)]\n",
        "            new_linear.bias.data = first_linear.bias.data\n",
        "\n",
        "        for i, module in enumerate(model.classifier):\n",
        "            if module is first_linear:\n",
        "                model.classifier[i] = new_linear\n",
        "                break\n",
        "\n",
        "        print(f\"Adjusted classifier input size to {flattened_size}\")\n",
        "    else:\n",
        "        print(\"No Linear layer found in classifier. The model structure might need manual adjustment.\")\n",
        "\n",
        "# Fungsi untuk pruning model yang telah dilatih\n",
        "def prune_trained_model(model, pruning_amount=0.1):\n",
        "    replace_layers(model.features, pruning_amount)\n",
        "    adjust_classifier(model)\n",
        "    return model\n",
        "\n",
        "def load_and_prune_model(model_path, model_class, pruning_ratio):\n",
        "\n",
        "    device = torch.device(\"cuda\" if torch.cuda.is_available() else \"cpu\")\n",
        "\n",
        "    # Load model\n",
        "    state_dict = torch.load(model_path)\n",
        "    model = model_class().to(device)\n",
        "    model.load_state_dict(state_dict)\n",
        "    print(\"Original model loaded.\")\n",
        "\n",
        "    # Prune model\n",
        "    pruned_model =  prune_trained_model(model, pruning_ratio).to(device)\n",
        "    print(\"Model pruned.\")\n",
        "    return pruned_model\n",
        "\n",
        "\n",
        "\n",
        "def calculate_model_size(model):\n",
        "    \"\"\"\n",
        "    Calculate the size of the model in megabytes (MB).\n",
        "\n",
        "    Args:\n",
        "    - model: The model (before or after pruning).\n",
        "\n",
        "    Returns:\n",
        "    - size_in_mb: The size of the model in MB.\n",
        "    \"\"\"\n",
        "    param_size = sum(param.numel() * param.element_size() for param in model.parameters())\n",
        "    buffer_size = sum(buffer.numel() * buffer.element_size() for buffer in model.buffers())\n",
        "    size_in_bytes = param_size + buffer_size\n",
        "    size_in_mb = size_in_bytes / 1024**2  # Convert bytes to megabytes (MB)\n",
        "    return size_in_mb\n",
        "\n",
        "# Fungsi untuk memverifikasi pruning model\n",
        "def verify_pruned_model(model, original_model):\n",
        "    def calculate_num_params(model):\n",
        "        return sum(p.numel() for p in model.parameters())\n",
        "\n",
        "    # Calculate the model sizes\n",
        "    original_size = calculate_model_size(original_model)\n",
        "    pruned_size = calculate_model_size(model)\n",
        "    print(f\"Original model size: {original_size:.2f} MB\")\n",
        "    print(f\"Pruned model size: {pruned_size:.2f} MB\")\n",
        "    print(f\"Size reduction: {original_size - pruned_size:.2f} MB ({(original_size - pruned_size) / original_size * 100:.2f}%)\")\n",
        "\n",
        "    original_params = calculate_num_params(original_model)\n",
        "    pruned_params = calculate_num_params(model)\n",
        "    print(f\"Original model parameters: {original_params}\")\n",
        "    print(f\"Pruned model parameters: {pruned_params}\")\n",
        "\n",
        "    print(\"\\nLayer-wise dimension comparison:\")\n",
        "    for (orig_name, orig_module), (pruned_name, pruned_module) in zip(original_model.features.named_modules(), model.features.named_modules()):\n",
        "        if isinstance(orig_module, nn.Conv2d) and isinstance(pruned_module, nn.Conv2d):\n",
        "            print(f\"Layer: {orig_name}\")\n",
        "            print(f\"  - Original shape: {orig_module.weight.shape}\")\n",
        "            print(f\"  - Pruned shape: {pruned_module.weight.shape}\")\n",
        "\n"
      ]
    },
    {
      "cell_type": "code",
      "execution_count": null,
      "id": "eb39ca82",
      "metadata": {
        "id": "eb39ca82"
      },
      "outputs": [],
      "source": [
        "# Custom Model dengan VGG16 feature extractor + Fully Connected Layers untuk klasifikasi\n",
        "class VGG16(nn.Module):\n",
        "    def __init__(self):\n",
        "        super(VGG16, self).__init__()\n",
        "        # Feature extractor dari VGG16\n",
        "        vgg16 = models.vgg16(weights=models.VGG16_Weights.IMAGENET1K_V1)\n",
        "        vgg16_features = nn.Sequential(*list(vgg16.features.children()))\n",
        "        self.features = vgg16_features\n",
        "\n",
        "        #self.global_avg_pool = nn.AdaptiveAvgPool2d((1, 1))  # Global average pooling\n",
        "        # Fully connected layers untuk klasifikasi\n",
        "        self.classifier = nn.Sequential(\n",
        "            nn.Flatten(),\n",
        "            #nn.Linear(512 * 7 * 7),  # Input size 512 after global average pooling\n",
        "            nn.Linear(512 * 7 * 7, 512),  # Sesuaikan input sesuai dengan output dari feature extractor VGG16\n",
        "            nn.ReLU(),\n",
        "            nn.Dropout(0.4),\n",
        "            nn.Linear(512, 4)\n",
        "        )\n",
        "\n",
        "    def forward(self, input):\n",
        "        # Step 1: Input goes through VGG16 feature extractor\n",
        "        x = self.features(input)\n",
        "\n",
        "        # Step 3: Output of VGG16 features goes through classifier\n",
        "        x = self.classifier(x)  # Klasifikasi\n",
        "        return x"
      ]
    },
    {
      "cell_type": "code",
      "execution_count": null,
      "id": "db6c58d9",
      "metadata": {
        "id": "db6c58d9",
        "outputId": "ccecae5d-b1d0-41a1-82dc-dc56908b1c42",
        "colab": {
          "base_uri": "https://localhost:8080/"
        }
      },
      "outputs": [
        {
          "output_type": "stream",
          "name": "stderr",
          "text": [
            "Downloading: \"https://download.pytorch.org/models/vgg16-397923af.pth\" to /root/.cache/torch/hub/checkpoints/vgg16-397923af.pth\n",
            "100%|██████████| 528M/528M [00:05<00:00, 99.4MB/s]\n",
            "<ipython-input-6-cb33d50ae20b>:6: FutureWarning: You are using `torch.load` with `weights_only=False` (the current default value), which uses the default pickle module implicitly. It is possible to construct malicious pickle data which will execute arbitrary code during unpickling (See https://github.com/pytorch/pytorch/blob/main/SECURITY.md#untrusted-models for more details). In a future release, the default value for `weights_only` will be flipped to `True`. This limits the functions that could be executed during unpickling. Arbitrary objects will no longer be allowed to be loaded via this mode unless they are explicitly allowlisted by the user via `torch.serialization.add_safe_globals`. We recommend you start setting `weights_only=True` for any use case where you don't have full control of the loaded file. Please open an issue on GitHub for any issues related to this experimental feature.\n",
            "  model.load_state_dict(torch.load(model_path, map_location=device))\n",
            "<ipython-input-4-b8582374e457>:108: FutureWarning: You are using `torch.load` with `weights_only=False` (the current default value), which uses the default pickle module implicitly. It is possible to construct malicious pickle data which will execute arbitrary code during unpickling (See https://github.com/pytorch/pytorch/blob/main/SECURITY.md#untrusted-models for more details). In a future release, the default value for `weights_only` will be flipped to `True`. This limits the functions that could be executed during unpickling. Arbitrary objects will no longer be allowed to be loaded via this mode unless they are explicitly allowlisted by the user via `torch.serialization.add_safe_globals`. We recommend you start setting `weights_only=True` for any use case where you don't have full control of the loaded file. Please open an issue on GitHub for any issues related to this experimental feature.\n",
            "  state_dict = torch.load(model_path)\n"
          ]
        },
        {
          "output_type": "stream",
          "name": "stdout",
          "text": [
            "Original model loaded.\n",
            "Adjusted classifier input size to 17591\n",
            "Model pruned.\n",
            "Original model size: 105.14 MB\n",
            "Pruned model size: 61.99 MB\n",
            "Size reduction: 43.15 MB (41.04%)\n",
            "Original model parameters: 27562308\n",
            "Pruned model parameters: 16251135\n",
            "\n",
            "Layer-wise dimension comparison:\n",
            "Layer: 0\n",
            "  - Original shape: torch.Size([64, 3, 3, 3])\n",
            "  - Pruned shape: torch.Size([45, 3, 3, 3])\n",
            "Layer: 2\n",
            "  - Original shape: torch.Size([64, 64, 3, 3])\n",
            "  - Pruned shape: torch.Size([45, 45, 3, 3])\n",
            "Layer: 5\n",
            "  - Original shape: torch.Size([128, 64, 3, 3])\n",
            "  - Pruned shape: torch.Size([90, 45, 3, 3])\n",
            "Layer: 7\n",
            "  - Original shape: torch.Size([128, 128, 3, 3])\n",
            "  - Pruned shape: torch.Size([90, 90, 3, 3])\n",
            "Layer: 10\n",
            "  - Original shape: torch.Size([256, 128, 3, 3])\n",
            "  - Pruned shape: torch.Size([180, 90, 3, 3])\n",
            "Layer: 12\n",
            "  - Original shape: torch.Size([256, 256, 3, 3])\n",
            "  - Pruned shape: torch.Size([180, 180, 3, 3])\n",
            "Layer: 14\n",
            "  - Original shape: torch.Size([256, 256, 3, 3])\n",
            "  - Pruned shape: torch.Size([180, 180, 3, 3])\n",
            "Layer: 17\n",
            "  - Original shape: torch.Size([512, 256, 3, 3])\n",
            "  - Pruned shape: torch.Size([359, 180, 3, 3])\n",
            "Layer: 19\n",
            "  - Original shape: torch.Size([512, 512, 3, 3])\n",
            "  - Pruned shape: torch.Size([359, 359, 3, 3])\n",
            "Layer: 21\n",
            "  - Original shape: torch.Size([512, 512, 3, 3])\n",
            "  - Pruned shape: torch.Size([359, 359, 3, 3])\n",
            "Layer: 24\n",
            "  - Original shape: torch.Size([512, 512, 3, 3])\n",
            "  - Pruned shape: torch.Size([359, 359, 3, 3])\n",
            "Layer: 26\n",
            "  - Original shape: torch.Size([512, 512, 3, 3])\n",
            "  - Pruned shape: torch.Size([359, 359, 3, 3])\n",
            "Layer: 28\n",
            "  - Original shape: torch.Size([512, 512, 3, 3])\n",
            "  - Pruned shape: torch.Size([359, 359, 3, 3])\n"
          ]
        }
      ],
      "source": [
        "import copy\n",
        "\n",
        "# Muat model hasil training Anda\n",
        "model_path = '/content/drive/MyDrive/best-model-vgg-clahe-0,001.pth'\n",
        "model = VGG16()\n",
        "model.load_state_dict(torch.load(model_path, map_location=device))\n",
        "\n",
        "# Buat salinan model asli\n",
        "original_model_copy = copy.deepcopy(model)\n",
        "\n",
        "# Prune model yang telah dilatih\n",
        "pruning_ratio = 0.3\n",
        "pruned_model = load_and_prune_model(model_path, VGG16, pruning_ratio)\n",
        "\n",
        "# Verifikasi apakah model berhasil di-prune\n",
        "verify_pruned_model(pruned_model, model)\n",
        "torch.save(pruned_model.state_dict(), '/content/drive/MyDrive/Best-pruning-model/pruned-vgg-30.pth')\n"
      ]
    },
    {
      "cell_type": "code",
      "source": [
        "import time  # Import modul time\n",
        "\n",
        "# Define the optimizer and loss function\n",
        "optimizer = optim.SGD(pruned_model.parameters(), lr=0.001, momentum=0.8)\n",
        "criterion = nn.CrossEntropyLoss()\n",
        "\n",
        "# Function to calculate metrics (accuracy, precision, recall, F1-score)\n",
        "def calculate_metrics(predictions, labels):\n",
        "    preds = torch.argmax(predictions, dim=1).cpu().numpy()\n",
        "    labels = labels.cpu().numpy()\n",
        "\n",
        "    accuracy = (preds == labels).mean() * 100\n",
        "    precision = precision_score(labels, preds, average='weighted', zero_division=1)\n",
        "    recall = recall_score(labels, preds, average='weighted', zero_division=1)\n",
        "    f1 = f1_score(labels, preds, average='weighted', zero_division=1)\n",
        "\n",
        "    return accuracy, precision, recall, f1\n",
        "\n",
        "# Function to train and evaluate the model\n",
        "def train_and_evaluate(pruned_model, train_loader, valid_loader,  num_epochs=100):\n",
        "    train_losses = []\n",
        "    valid_losses = []\n",
        "    train_accuracies = []\n",
        "    valid_accuracies = []\n",
        "    all_train_precisions = []\n",
        "    all_train_recalls = []\n",
        "    all_train_f1s = []\n",
        "    all_valid_precisions = []\n",
        "    all_valid_recalls = []\n",
        "    all_valid_f1s = []\n",
        "\n",
        "    best_valid_loss = float('inf')\n",
        "\n",
        "    # Variable to accumulate total training and validation time\n",
        "    total_train_validation_time = 0\n",
        "\n",
        "    for epoch in range(1, num_epochs + 1):\n",
        "        print(f'Epoch {epoch}/{num_epochs}')\n",
        "\n",
        "        # Start timer for both training and validation\n",
        "        start_epoch_time = time.time()\n",
        "\n",
        "        # Training\n",
        "        pruned_model.train()\n",
        "        train_loss = 0\n",
        "        all_train_preds = []\n",
        "        all_train_labels = []\n",
        "        for images, labels in tqdm(train_loader, desc='Training'):\n",
        "            images, labels = images.to(device), labels.to(device)\n",
        "\n",
        "            # Convert grayscale images to 3 channels\n",
        "            if images.size(1) == 1:  # If single channel\n",
        "                images = images.repeat(1, 3, 1, 1)  # Repeat the channel dimension 3 times\n",
        "\n",
        "            optimizer.zero_grad()\n",
        "            outputs = pruned_model(images)\n",
        "            loss = criterion(outputs, labels)\n",
        "            loss.backward()\n",
        "            optimizer.step()\n",
        "            train_loss += loss.item()\n",
        "\n",
        "            all_train_preds.append(outputs)\n",
        "            all_train_labels.append(labels)\n",
        "\n",
        "        train_loss /= len(train_loader)\n",
        "        train_losses.append(train_loss)\n",
        "        train_accuracy, train_precision, train_recall, train_f1 = calculate_metrics(torch.cat(all_train_preds), torch.cat(all_train_labels))\n",
        "        train_accuracies.append(train_accuracy)\n",
        "        all_train_precisions.append(train_precision) # Store train_precision\n",
        "        all_train_recalls.append(train_recall)       # Store train_recall\n",
        "        all_train_f1s.append(train_f1)             # Store train_f1\n",
        "\n",
        "        print(f\"Training Loss: {train_loss:.4f}, Accuracy: {train_accuracy:.2f}%, Precision: {train_precision:.4f}, Recall: {train_recall:.4f}, F1-Score: {train_f1:.4f}\")\n",
        "\n",
        "        # Validation\n",
        "        pruned_model.eval()\n",
        "        valid_loss = 0\n",
        "        all_valid_preds = []\n",
        "        all_valid_labels = []\n",
        "        with torch.no_grad():\n",
        "            for images, labels in tqdm(valid_loader, desc='Validation'):\n",
        "                images, labels = images.to(device), labels.to(device)\n",
        "\n",
        "                # Convert grayscale images to 3 channels\n",
        "                if images.size(1) == 1:\n",
        "                    images = images.repeat(1, 3, 1, 1)\n",
        "\n",
        "                outputs = pruned_model(images)\n",
        "                loss = criterion(outputs, labels)\n",
        "                valid_loss += loss.item()\n",
        "\n",
        "                all_valid_preds.append(outputs)\n",
        "                all_valid_labels.append(labels)\n",
        "\n",
        "        valid_loss /= len(valid_loader)\n",
        "        valid_losses.append(valid_loss)\n",
        "        valid_accuracy, valid_precision, valid_recall, valid_f1 = calculate_metrics(torch.cat(all_valid_preds), torch.cat(all_valid_labels))\n",
        "        valid_accuracies.append(valid_accuracy)\n",
        "        all_valid_precisions.append(valid_precision)  # Store valid_precision\n",
        "        all_valid_recalls.append(valid_recall)        # Store valid_recall\n",
        "        all_valid_f1s.append(valid_f1)\n",
        "\n",
        "        print(f\"Validation Loss: {valid_loss:.4f}, Accuracy: {valid_accuracy:.2f}%, Precision: {valid_precision:.4f}, Recall: {valid_recall:.4f}, F1-Score: {valid_f1:.4f}\")\n",
        "\n",
        "        # Save the best model based on validation loss\n",
        "        if valid_loss < best_valid_loss:\n",
        "            best_valid_loss = valid_loss\n",
        "            torch.save(pruned_model.state_dict(), '/content/drive/MyDrive/Best-pruning-model/best-pruned-vgg-30.pth')\n",
        "            print(\"New best model saved\")\n",
        "\n",
        "        # End timer for training and validation, and accumulate the time\n",
        "        end_epoch_time = time.time()\n",
        "        epoch_time = end_epoch_time - start_epoch_time\n",
        "        total_train_validation_time += epoch_time\n",
        "        #print(f\"Epoch Time (Training + Validation): {epoch_time:.2f} seconds\")\n",
        "\n",
        "    # Print total training and validation time\n",
        "    print(f\"Total Training + Validation Time: {total_train_validation_time:.2f} seconds\")\n",
        "\n",
        "    return train_losses, valid_losses, train_accuracies, valid_accuracies, all_train_precisions, all_train_recalls, all_train_f1s, all_valid_precisions, all_valid_recalls, all_valid_f1s # Return the stored metrics\n",
        "\n"
      ],
      "metadata": {
        "id": "nyErFWr7t-0X"
      },
      "id": "nyErFWr7t-0X",
      "execution_count": null,
      "outputs": []
    },
    {
      "cell_type": "code",
      "source": [
        "# Load Model Hasil Pruning\n",
        "pruned_path = '/content/drive/MyDrive/Best-pruning-model/pruned-vgg-30.pth'\n",
        "pruned_model.load_state_dict(torch.load(pruned_path, map_location=device))\n",
        "pruned_model = pruned_model.to(device)\n",
        "\n",
        "\n",
        "# Fine-tuning model yang telah di-prune\n",
        "num_epochs = 100  # Tentukan jumlah epoch untuk fine-tuning\n",
        "\n",
        "# Training\n",
        "train_losses, valid_losses, train_accuracies, valid_accuracies, train_precisions, train_recalls, train_f1s, valid_precisions, valid_recalls, valid_f1s = train_and_evaluate(pruned_model, train_loader, valid_loader, num_epochs=num_epochs)\n",
        "\n",
        "# Simpan model setelah fine-tuning\n",
        "torch.save(pruned_model.state_dict(), '/content/drive/MyDrive/Best-pruning-model/fine_tuned_pruned_vgg-30.pth')\n"
      ],
      "metadata": {
        "colab": {
          "base_uri": "https://localhost:8080/"
        },
        "id": "C-eeK6M7FfuP",
        "outputId": "d231f267-c28b-47c3-bd51-7503d5033039"
      },
      "id": "C-eeK6M7FfuP",
      "execution_count": null,
      "outputs": [
        {
          "output_type": "stream",
          "name": "stderr",
          "text": [
            "<ipython-input-22-0c15f7a1ff5a>:3: FutureWarning: You are using `torch.load` with `weights_only=False` (the current default value), which uses the default pickle module implicitly. It is possible to construct malicious pickle data which will execute arbitrary code during unpickling (See https://github.com/pytorch/pytorch/blob/main/SECURITY.md#untrusted-models for more details). In a future release, the default value for `weights_only` will be flipped to `True`. This limits the functions that could be executed during unpickling. Arbitrary objects will no longer be allowed to be loaded via this mode unless they are explicitly allowlisted by the user via `torch.serialization.add_safe_globals`. We recommend you start setting `weights_only=True` for any use case where you don't have full control of the loaded file. Please open an issue on GitHub for any issues related to this experimental feature.\n",
            "  pruned_model.load_state_dict(torch.load(pruned_path, map_location=device))\n"
          ]
        },
        {
          "output_type": "stream",
          "name": "stdout",
          "text": [
            "Epoch 1/100\n"
          ]
        },
        {
          "output_type": "stream",
          "name": "stderr",
          "text": [
            "Training: 100%|██████████| 38/38 [00:07<00:00,  5.06it/s]\n"
          ]
        },
        {
          "output_type": "stream",
          "name": "stdout",
          "text": [
            "Training Loss: 1.3382, Accuracy: 33.28%, Precision: 0.3760, Recall: 0.3328, F1-Score: 0.2783\n"
          ]
        },
        {
          "output_type": "stream",
          "name": "stderr",
          "text": [
            "Validation: 100%|██████████| 6/6 [00:00<00:00, 15.20it/s]\n"
          ]
        },
        {
          "output_type": "stream",
          "name": "stdout",
          "text": [
            "Validation Loss: 1.2767, Accuracy: 40.74%, Precision: 0.6455, Recall: 0.4074, F1-Score: 0.3181\n",
            "New best model saved\n",
            "Epoch 2/100\n"
          ]
        },
        {
          "output_type": "stream",
          "name": "stderr",
          "text": [
            "Training: 100%|██████████| 38/38 [00:07<00:00,  5.05it/s]\n"
          ]
        },
        {
          "output_type": "stream",
          "name": "stdout",
          "text": [
            "Training Loss: 1.1411, Accuracy: 48.42%, Precision: 0.5969, Recall: 0.4842, F1-Score: 0.4296\n"
          ]
        },
        {
          "output_type": "stream",
          "name": "stderr",
          "text": [
            "Validation: 100%|██████████| 6/6 [00:00<00:00, 11.60it/s]\n"
          ]
        },
        {
          "output_type": "stream",
          "name": "stdout",
          "text": [
            "Validation Loss: 1.2375, Accuracy: 45.68%, Precision: 0.8135, Recall: 0.4568, F1-Score: 0.3239\n",
            "New best model saved\n",
            "Epoch 3/100\n"
          ]
        },
        {
          "output_type": "stream",
          "name": "stderr",
          "text": [
            "Training: 100%|██████████| 38/38 [00:07<00:00,  5.13it/s]\n"
          ]
        },
        {
          "output_type": "stream",
          "name": "stdout",
          "text": [
            "Training Loss: 1.0825, Accuracy: 48.25%, Precision: 0.4712, Recall: 0.4825, F1-Score: 0.4380\n"
          ]
        },
        {
          "output_type": "stream",
          "name": "stderr",
          "text": [
            "Validation: 100%|██████████| 6/6 [00:00<00:00, 15.10it/s]\n"
          ]
        },
        {
          "output_type": "stream",
          "name": "stdout",
          "text": [
            "Validation Loss: 1.2159, Accuracy: 44.44%, Precision: 0.7404, Recall: 0.4444, F1-Score: 0.2846\n",
            "New best model saved\n",
            "Epoch 4/100\n"
          ]
        },
        {
          "output_type": "stream",
          "name": "stderr",
          "text": [
            "Training: 100%|██████████| 38/38 [00:07<00:00,  4.89it/s]\n"
          ]
        },
        {
          "output_type": "stream",
          "name": "stdout",
          "text": [
            "Training Loss: 1.0257, Accuracy: 53.74%, Precision: 0.5088, Recall: 0.5374, F1-Score: 0.4871\n"
          ]
        },
        {
          "output_type": "stream",
          "name": "stderr",
          "text": [
            "Validation: 100%|██████████| 6/6 [00:00<00:00, 14.76it/s]\n"
          ]
        },
        {
          "output_type": "stream",
          "name": "stdout",
          "text": [
            "Validation Loss: 1.1387, Accuracy: 46.91%, Precision: 0.7678, Recall: 0.4691, F1-Score: 0.3094\n",
            "New best model saved\n",
            "Epoch 5/100\n"
          ]
        },
        {
          "output_type": "stream",
          "name": "stderr",
          "text": [
            "Training: 100%|██████████| 38/38 [00:07<00:00,  5.09it/s]\n"
          ]
        },
        {
          "output_type": "stream",
          "name": "stdout",
          "text": [
            "Training Loss: 0.9580, Accuracy: 54.24%, Precision: 0.5300, Recall: 0.5424, F1-Score: 0.4988\n"
          ]
        },
        {
          "output_type": "stream",
          "name": "stderr",
          "text": [
            "Validation: 100%|██████████| 6/6 [00:00<00:00, 13.00it/s]\n"
          ]
        },
        {
          "output_type": "stream",
          "name": "stdout",
          "text": [
            "Validation Loss: 0.9458, Accuracy: 49.38%, Precision: 0.7334, Recall: 0.4938, F1-Score: 0.4043\n",
            "New best model saved\n",
            "Epoch 6/100\n"
          ]
        },
        {
          "output_type": "stream",
          "name": "stderr",
          "text": [
            "Training: 100%|██████████| 38/38 [00:07<00:00,  5.01it/s]\n"
          ]
        },
        {
          "output_type": "stream",
          "name": "stdout",
          "text": [
            "Training Loss: 0.8689, Accuracy: 61.56%, Precision: 0.6307, Recall: 0.6156, F1-Score: 0.5861\n"
          ]
        },
        {
          "output_type": "stream",
          "name": "stderr",
          "text": [
            "Validation: 100%|██████████| 6/6 [00:00<00:00, 14.78it/s]\n"
          ]
        },
        {
          "output_type": "stream",
          "name": "stdout",
          "text": [
            "Validation Loss: 1.0738, Accuracy: 53.09%, Precision: 0.8133, Recall: 0.5309, F1-Score: 0.4413\n",
            "Epoch 7/100\n"
          ]
        },
        {
          "output_type": "stream",
          "name": "stderr",
          "text": [
            "Training: 100%|██████████| 38/38 [00:07<00:00,  5.06it/s]\n"
          ]
        },
        {
          "output_type": "stream",
          "name": "stdout",
          "text": [
            "Training Loss: 0.7463, Accuracy: 69.55%, Precision: 0.7047, Recall: 0.6955, F1-Score: 0.6884\n"
          ]
        },
        {
          "output_type": "stream",
          "name": "stderr",
          "text": [
            "Validation: 100%|██████████| 6/6 [00:00<00:00, 12.11it/s]\n"
          ]
        },
        {
          "output_type": "stream",
          "name": "stdout",
          "text": [
            "Validation Loss: 0.9861, Accuracy: 41.98%, Precision: 0.5874, Recall: 0.4198, F1-Score: 0.4009\n",
            "Epoch 8/100\n"
          ]
        },
        {
          "output_type": "stream",
          "name": "stderr",
          "text": [
            "Training: 100%|██████████| 38/38 [00:07<00:00,  5.16it/s]\n"
          ]
        },
        {
          "output_type": "stream",
          "name": "stdout",
          "text": [
            "Training Loss: 0.6175, Accuracy: 77.37%, Precision: 0.7752, Recall: 0.7737, F1-Score: 0.7726\n"
          ]
        },
        {
          "output_type": "stream",
          "name": "stderr",
          "text": [
            "Validation: 100%|██████████| 6/6 [00:00<00:00, 15.16it/s]\n"
          ]
        },
        {
          "output_type": "stream",
          "name": "stdout",
          "text": [
            "Validation Loss: 0.7452, Accuracy: 75.31%, Precision: 0.7636, Recall: 0.7531, F1-Score: 0.7513\n",
            "New best model saved\n",
            "Epoch 9/100\n"
          ]
        },
        {
          "output_type": "stream",
          "name": "stderr",
          "text": [
            "Training: 100%|██████████| 38/38 [00:07<00:00,  4.90it/s]\n"
          ]
        },
        {
          "output_type": "stream",
          "name": "stdout",
          "text": [
            "Training Loss: 0.5478, Accuracy: 79.37%, Precision: 0.7927, Recall: 0.7937, F1-Score: 0.7929\n"
          ]
        },
        {
          "output_type": "stream",
          "name": "stderr",
          "text": [
            "Validation: 100%|██████████| 6/6 [00:00<00:00, 15.03it/s]\n"
          ]
        },
        {
          "output_type": "stream",
          "name": "stdout",
          "text": [
            "Validation Loss: 0.7364, Accuracy: 69.14%, Precision: 0.7652, Recall: 0.6914, F1-Score: 0.6725\n",
            "New best model saved\n",
            "Epoch 10/100\n"
          ]
        },
        {
          "output_type": "stream",
          "name": "stderr",
          "text": [
            "Training: 100%|██████████| 38/38 [00:07<00:00,  5.22it/s]\n"
          ]
        },
        {
          "output_type": "stream",
          "name": "stdout",
          "text": [
            "Training Loss: 0.4309, Accuracy: 82.20%, Precision: 0.8205, Recall: 0.8220, F1-Score: 0.8211\n"
          ]
        },
        {
          "output_type": "stream",
          "name": "stderr",
          "text": [
            "Validation: 100%|██████████| 6/6 [00:00<00:00, 14.98it/s]\n"
          ]
        },
        {
          "output_type": "stream",
          "name": "stdout",
          "text": [
            "Validation Loss: 0.8044, Accuracy: 65.43%, Precision: 0.7698, Recall: 0.6543, F1-Score: 0.6599\n",
            "Epoch 11/100\n"
          ]
        },
        {
          "output_type": "stream",
          "name": "stderr",
          "text": [
            "Training: 100%|██████████| 38/38 [00:07<00:00,  5.07it/s]\n"
          ]
        },
        {
          "output_type": "stream",
          "name": "stdout",
          "text": [
            "Training Loss: 0.3635, Accuracy: 86.86%, Precision: 0.8678, Recall: 0.8686, F1-Score: 0.8679\n"
          ]
        },
        {
          "output_type": "stream",
          "name": "stderr",
          "text": [
            "Validation: 100%|██████████| 6/6 [00:00<00:00, 15.43it/s]\n"
          ]
        },
        {
          "output_type": "stream",
          "name": "stdout",
          "text": [
            "Validation Loss: 0.9650, Accuracy: 54.32%, Precision: 0.7436, Recall: 0.5432, F1-Score: 0.5139\n",
            "Epoch 12/100\n"
          ]
        },
        {
          "output_type": "stream",
          "name": "stderr",
          "text": [
            "Training: 100%|██████████| 38/38 [00:07<00:00,  5.28it/s]\n"
          ]
        },
        {
          "output_type": "stream",
          "name": "stdout",
          "text": [
            "Training Loss: 0.2950, Accuracy: 90.52%, Precision: 0.9047, Recall: 0.9052, F1-Score: 0.9048\n"
          ]
        },
        {
          "output_type": "stream",
          "name": "stderr",
          "text": [
            "Validation: 100%|██████████| 6/6 [00:00<00:00, 11.54it/s]\n"
          ]
        },
        {
          "output_type": "stream",
          "name": "stdout",
          "text": [
            "Validation Loss: 0.7821, Accuracy: 69.14%, Precision: 0.8642, Recall: 0.6914, F1-Score: 0.7122\n",
            "Epoch 13/100\n"
          ]
        },
        {
          "output_type": "stream",
          "name": "stderr",
          "text": [
            "Training: 100%|██████████| 38/38 [00:07<00:00,  5.06it/s]\n"
          ]
        },
        {
          "output_type": "stream",
          "name": "stdout",
          "text": [
            "Training Loss: 0.2392, Accuracy: 92.68%, Precision: 0.9266, Recall: 0.9268, F1-Score: 0.9266\n"
          ]
        },
        {
          "output_type": "stream",
          "name": "stderr",
          "text": [
            "Validation: 100%|██████████| 6/6 [00:00<00:00, 15.01it/s]\n"
          ]
        },
        {
          "output_type": "stream",
          "name": "stdout",
          "text": [
            "Validation Loss: 0.5230, Accuracy: 77.78%, Precision: 0.8272, Recall: 0.7778, F1-Score: 0.7793\n",
            "New best model saved\n",
            "Epoch 14/100\n"
          ]
        },
        {
          "output_type": "stream",
          "name": "stderr",
          "text": [
            "Training: 100%|██████████| 38/38 [00:07<00:00,  5.02it/s]\n"
          ]
        },
        {
          "output_type": "stream",
          "name": "stdout",
          "text": [
            "Training Loss: 0.2608, Accuracy: 90.68%, Precision: 0.9067, Recall: 0.9068, F1-Score: 0.9066\n"
          ]
        },
        {
          "output_type": "stream",
          "name": "stderr",
          "text": [
            "Validation: 100%|██████████| 6/6 [00:00<00:00, 11.10it/s]\n"
          ]
        },
        {
          "output_type": "stream",
          "name": "stdout",
          "text": [
            "Validation Loss: 0.5954, Accuracy: 81.48%, Precision: 0.8431, Recall: 0.8148, F1-Score: 0.8207\n",
            "Epoch 15/100\n"
          ]
        },
        {
          "output_type": "stream",
          "name": "stderr",
          "text": [
            "Training: 100%|██████████| 38/38 [00:07<00:00,  5.18it/s]\n"
          ]
        },
        {
          "output_type": "stream",
          "name": "stdout",
          "text": [
            "Training Loss: 0.1181, Accuracy: 96.51%, Precision: 0.9653, Recall: 0.9651, F1-Score: 0.9650\n"
          ]
        },
        {
          "output_type": "stream",
          "name": "stderr",
          "text": [
            "Validation: 100%|██████████| 6/6 [00:00<00:00, 15.42it/s]\n"
          ]
        },
        {
          "output_type": "stream",
          "name": "stdout",
          "text": [
            "Validation Loss: 0.3124, Accuracy: 86.42%, Precision: 0.8848, Recall: 0.8642, F1-Score: 0.8684\n",
            "New best model saved\n",
            "Epoch 16/100\n"
          ]
        },
        {
          "output_type": "stream",
          "name": "stderr",
          "text": [
            "Training: 100%|██████████| 38/38 [00:07<00:00,  4.97it/s]\n"
          ]
        },
        {
          "output_type": "stream",
          "name": "stdout",
          "text": [
            "Training Loss: 0.0819, Accuracy: 97.17%, Precision: 0.9717, Recall: 0.9717, F1-Score: 0.9717\n"
          ]
        },
        {
          "output_type": "stream",
          "name": "stderr",
          "text": [
            "Validation: 100%|██████████| 6/6 [00:00<00:00, 14.42it/s]\n"
          ]
        },
        {
          "output_type": "stream",
          "name": "stdout",
          "text": [
            "Validation Loss: 0.6271, Accuracy: 80.25%, Precision: 0.8573, Recall: 0.8025, F1-Score: 0.7989\n",
            "Epoch 17/100\n"
          ]
        },
        {
          "output_type": "stream",
          "name": "stderr",
          "text": [
            "Training: 100%|██████████| 38/38 [00:07<00:00,  5.12it/s]\n"
          ]
        },
        {
          "output_type": "stream",
          "name": "stdout",
          "text": [
            "Training Loss: 0.1315, Accuracy: 95.51%, Precision: 0.9550, Recall: 0.9551, F1-Score: 0.9549\n"
          ]
        },
        {
          "output_type": "stream",
          "name": "stderr",
          "text": [
            "Validation: 100%|██████████| 6/6 [00:00<00:00, 14.75it/s]\n"
          ]
        },
        {
          "output_type": "stream",
          "name": "stdout",
          "text": [
            "Validation Loss: 0.4073, Accuracy: 83.95%, Precision: 0.8825, Recall: 0.8395, F1-Score: 0.8463\n",
            "Epoch 18/100\n"
          ]
        },
        {
          "output_type": "stream",
          "name": "stderr",
          "text": [
            "Training: 100%|██████████| 38/38 [00:07<00:00,  5.00it/s]\n"
          ]
        },
        {
          "output_type": "stream",
          "name": "stdout",
          "text": [
            "Training Loss: 0.0871, Accuracy: 97.34%, Precision: 0.9734, Recall: 0.9734, F1-Score: 0.9733\n"
          ]
        },
        {
          "output_type": "stream",
          "name": "stderr",
          "text": [
            "Validation: 100%|██████████| 6/6 [00:00<00:00, 14.69it/s]\n"
          ]
        },
        {
          "output_type": "stream",
          "name": "stdout",
          "text": [
            "Validation Loss: 0.6070, Accuracy: 77.78%, Precision: 0.8710, Recall: 0.7778, F1-Score: 0.7938\n",
            "Epoch 19/100\n"
          ]
        },
        {
          "output_type": "stream",
          "name": "stderr",
          "text": [
            "Training: 100%|██████████| 38/38 [00:07<00:00,  5.11it/s]\n"
          ]
        },
        {
          "output_type": "stream",
          "name": "stdout",
          "text": [
            "Training Loss: 0.0422, Accuracy: 98.67%, Precision: 0.9868, Recall: 0.9867, F1-Score: 0.9867\n"
          ]
        },
        {
          "output_type": "stream",
          "name": "stderr",
          "text": [
            "Validation: 100%|██████████| 6/6 [00:00<00:00, 12.70it/s]\n"
          ]
        },
        {
          "output_type": "stream",
          "name": "stdout",
          "text": [
            "Validation Loss: 0.4004, Accuracy: 87.65%, Precision: 0.8927, Recall: 0.8765, F1-Score: 0.8756\n",
            "Epoch 20/100\n"
          ]
        },
        {
          "output_type": "stream",
          "name": "stderr",
          "text": [
            "Training: 100%|██████████| 38/38 [00:07<00:00,  5.11it/s]\n"
          ]
        },
        {
          "output_type": "stream",
          "name": "stdout",
          "text": [
            "Training Loss: 0.0532, Accuracy: 98.84%, Precision: 0.9884, Recall: 0.9884, F1-Score: 0.9884\n"
          ]
        },
        {
          "output_type": "stream",
          "name": "stderr",
          "text": [
            "Validation: 100%|██████████| 6/6 [00:00<00:00, 15.37it/s]\n"
          ]
        },
        {
          "output_type": "stream",
          "name": "stdout",
          "text": [
            "Validation Loss: 0.4067, Accuracy: 85.19%, Precision: 0.8843, Recall: 0.8519, F1-Score: 0.8550\n",
            "Epoch 21/100\n"
          ]
        },
        {
          "output_type": "stream",
          "name": "stderr",
          "text": [
            "Training: 100%|██████████| 38/38 [00:07<00:00,  4.97it/s]\n"
          ]
        },
        {
          "output_type": "stream",
          "name": "stdout",
          "text": [
            "Training Loss: 0.0157, Accuracy: 99.67%, Precision: 0.9967, Recall: 0.9967, F1-Score: 0.9967\n"
          ]
        },
        {
          "output_type": "stream",
          "name": "stderr",
          "text": [
            "Validation: 100%|██████████| 6/6 [00:00<00:00, 14.73it/s]\n"
          ]
        },
        {
          "output_type": "stream",
          "name": "stdout",
          "text": [
            "Validation Loss: 0.3018, Accuracy: 88.89%, Precision: 0.9083, Recall: 0.8889, F1-Score: 0.8909\n",
            "New best model saved\n",
            "Epoch 22/100\n"
          ]
        },
        {
          "output_type": "stream",
          "name": "stderr",
          "text": [
            "Training: 100%|██████████| 38/38 [00:07<00:00,  5.22it/s]\n"
          ]
        },
        {
          "output_type": "stream",
          "name": "stdout",
          "text": [
            "Training Loss: 0.0279, Accuracy: 99.67%, Precision: 0.9967, Recall: 0.9967, F1-Score: 0.9967\n"
          ]
        },
        {
          "output_type": "stream",
          "name": "stderr",
          "text": [
            "Validation: 100%|██████████| 6/6 [00:00<00:00, 15.33it/s]\n"
          ]
        },
        {
          "output_type": "stream",
          "name": "stdout",
          "text": [
            "Validation Loss: 0.3754, Accuracy: 83.95%, Precision: 0.8825, Recall: 0.8395, F1-Score: 0.8468\n",
            "Epoch 23/100\n"
          ]
        },
        {
          "output_type": "stream",
          "name": "stderr",
          "text": [
            "Training: 100%|██████████| 38/38 [00:07<00:00,  4.86it/s]\n"
          ]
        },
        {
          "output_type": "stream",
          "name": "stdout",
          "text": [
            "Training Loss: 0.0178, Accuracy: 99.83%, Precision: 0.9984, Recall: 0.9983, F1-Score: 0.9983\n"
          ]
        },
        {
          "output_type": "stream",
          "name": "stderr",
          "text": [
            "Validation: 100%|██████████| 6/6 [00:00<00:00, 14.79it/s]\n"
          ]
        },
        {
          "output_type": "stream",
          "name": "stdout",
          "text": [
            "Validation Loss: 0.3359, Accuracy: 85.19%, Precision: 0.8935, Recall: 0.8519, F1-Score: 0.8576\n",
            "Epoch 24/100\n"
          ]
        },
        {
          "output_type": "stream",
          "name": "stderr",
          "text": [
            "Training: 100%|██████████| 38/38 [00:07<00:00,  5.24it/s]\n"
          ]
        },
        {
          "output_type": "stream",
          "name": "stdout",
          "text": [
            "Training Loss: 0.0119, Accuracy: 99.83%, Precision: 0.9983, Recall: 0.9983, F1-Score: 0.9983\n"
          ]
        },
        {
          "output_type": "stream",
          "name": "stderr",
          "text": [
            "Validation: 100%|██████████| 6/6 [00:00<00:00, 12.21it/s]\n"
          ]
        },
        {
          "output_type": "stream",
          "name": "stdout",
          "text": [
            "Validation Loss: 0.2661, Accuracy: 91.36%, Precision: 0.9228, Recall: 0.9136, F1-Score: 0.9145\n",
            "New best model saved\n",
            "Epoch 25/100\n"
          ]
        },
        {
          "output_type": "stream",
          "name": "stderr",
          "text": [
            "Training: 100%|██████████| 38/38 [00:07<00:00,  4.99it/s]\n"
          ]
        },
        {
          "output_type": "stream",
          "name": "stdout",
          "text": [
            "Training Loss: 0.0034, Accuracy: 100.00%, Precision: 1.0000, Recall: 1.0000, F1-Score: 1.0000\n"
          ]
        },
        {
          "output_type": "stream",
          "name": "stderr",
          "text": [
            "Validation: 100%|██████████| 6/6 [00:00<00:00, 14.41it/s]\n"
          ]
        },
        {
          "output_type": "stream",
          "name": "stdout",
          "text": [
            "Validation Loss: 0.3843, Accuracy: 90.12%, Precision: 0.9201, Recall: 0.9012, F1-Score: 0.9040\n",
            "Epoch 26/100\n"
          ]
        },
        {
          "output_type": "stream",
          "name": "stderr",
          "text": [
            "Training: 100%|██████████| 38/38 [00:07<00:00,  5.03it/s]\n"
          ]
        },
        {
          "output_type": "stream",
          "name": "stdout",
          "text": [
            "Training Loss: 0.0033, Accuracy: 99.83%, Precision: 0.9983, Recall: 0.9983, F1-Score: 0.9983\n"
          ]
        },
        {
          "output_type": "stream",
          "name": "stderr",
          "text": [
            "Validation: 100%|██████████| 6/6 [00:00<00:00, 11.71it/s]\n"
          ]
        },
        {
          "output_type": "stream",
          "name": "stdout",
          "text": [
            "Validation Loss: 0.4037, Accuracy: 87.65%, Precision: 0.8914, Recall: 0.8765, F1-Score: 0.8772\n",
            "Epoch 27/100\n"
          ]
        },
        {
          "output_type": "stream",
          "name": "stderr",
          "text": [
            "Training: 100%|██████████| 38/38 [00:07<00:00,  5.13it/s]\n"
          ]
        },
        {
          "output_type": "stream",
          "name": "stdout",
          "text": [
            "Training Loss: 0.0461, Accuracy: 99.00%, Precision: 0.9900, Recall: 0.9900, F1-Score: 0.9900\n"
          ]
        },
        {
          "output_type": "stream",
          "name": "stderr",
          "text": [
            "Validation: 100%|██████████| 6/6 [00:00<00:00, 15.37it/s]\n"
          ]
        },
        {
          "output_type": "stream",
          "name": "stdout",
          "text": [
            "Validation Loss: 0.2480, Accuracy: 91.36%, Precision: 0.9274, Recall: 0.9136, F1-Score: 0.9156\n",
            "New best model saved\n",
            "Epoch 28/100\n"
          ]
        },
        {
          "output_type": "stream",
          "name": "stderr",
          "text": [
            "Training: 100%|██████████| 38/38 [00:07<00:00,  4.90it/s]\n"
          ]
        },
        {
          "output_type": "stream",
          "name": "stdout",
          "text": [
            "Training Loss: 0.0171, Accuracy: 99.67%, Precision: 0.9967, Recall: 0.9967, F1-Score: 0.9967\n"
          ]
        },
        {
          "output_type": "stream",
          "name": "stderr",
          "text": [
            "Validation: 100%|██████████| 6/6 [00:00<00:00, 14.72it/s]\n"
          ]
        },
        {
          "output_type": "stream",
          "name": "stdout",
          "text": [
            "Validation Loss: 0.2938, Accuracy: 91.36%, Precision: 0.9212, Recall: 0.9136, F1-Score: 0.9137\n",
            "Epoch 29/100\n"
          ]
        },
        {
          "output_type": "stream",
          "name": "stderr",
          "text": [
            "Training: 100%|██████████| 38/38 [00:07<00:00,  5.18it/s]\n"
          ]
        },
        {
          "output_type": "stream",
          "name": "stdout",
          "text": [
            "Training Loss: 0.0096, Accuracy: 99.83%, Precision: 0.9983, Recall: 0.9983, F1-Score: 0.9983\n"
          ]
        },
        {
          "output_type": "stream",
          "name": "stderr",
          "text": [
            "Validation: 100%|██████████| 6/6 [00:00<00:00, 15.29it/s]\n"
          ]
        },
        {
          "output_type": "stream",
          "name": "stdout",
          "text": [
            "Validation Loss: 0.2614, Accuracy: 92.59%, Precision: 0.9299, Recall: 0.9259, F1-Score: 0.9250\n",
            "Epoch 30/100\n"
          ]
        },
        {
          "output_type": "stream",
          "name": "stderr",
          "text": [
            "Training: 100%|██████████| 38/38 [00:07<00:00,  4.91it/s]\n"
          ]
        },
        {
          "output_type": "stream",
          "name": "stdout",
          "text": [
            "Training Loss: 0.0131, Accuracy: 99.83%, Precision: 0.9984, Recall: 0.9983, F1-Score: 0.9983\n"
          ]
        },
        {
          "output_type": "stream",
          "name": "stderr",
          "text": [
            "Validation: 100%|██████████| 6/6 [00:00<00:00, 14.97it/s]\n"
          ]
        },
        {
          "output_type": "stream",
          "name": "stdout",
          "text": [
            "Validation Loss: 0.3280, Accuracy: 92.59%, Precision: 0.9408, Recall: 0.9259, F1-Score: 0.9286\n",
            "Epoch 31/100\n"
          ]
        },
        {
          "output_type": "stream",
          "name": "stderr",
          "text": [
            "Training: 100%|██████████| 38/38 [00:07<00:00,  5.15it/s]\n"
          ]
        },
        {
          "output_type": "stream",
          "name": "stdout",
          "text": [
            "Training Loss: 0.0075, Accuracy: 99.83%, Precision: 0.9983, Recall: 0.9983, F1-Score: 0.9983\n"
          ]
        },
        {
          "output_type": "stream",
          "name": "stderr",
          "text": [
            "Validation: 100%|██████████| 6/6 [00:00<00:00, 12.35it/s]\n"
          ]
        },
        {
          "output_type": "stream",
          "name": "stdout",
          "text": [
            "Validation Loss: 0.2766, Accuracy: 93.83%, Precision: 0.9440, Recall: 0.9383, F1-Score: 0.9387\n",
            "Epoch 32/100\n"
          ]
        },
        {
          "output_type": "stream",
          "name": "stderr",
          "text": [
            "Training: 100%|██████████| 38/38 [00:07<00:00,  5.00it/s]\n"
          ]
        },
        {
          "output_type": "stream",
          "name": "stdout",
          "text": [
            "Training Loss: 0.0065, Accuracy: 99.67%, Precision: 0.9967, Recall: 0.9967, F1-Score: 0.9967\n"
          ]
        },
        {
          "output_type": "stream",
          "name": "stderr",
          "text": [
            "Validation: 100%|██████████| 6/6 [00:00<00:00, 15.24it/s]\n"
          ]
        },
        {
          "output_type": "stream",
          "name": "stdout",
          "text": [
            "Validation Loss: 0.2848, Accuracy: 93.83%, Precision: 0.9440, Recall: 0.9383, F1-Score: 0.9387\n",
            "Epoch 33/100\n"
          ]
        },
        {
          "output_type": "stream",
          "name": "stderr",
          "text": [
            "Training: 100%|██████████| 38/38 [00:07<00:00,  5.09it/s]\n"
          ]
        },
        {
          "output_type": "stream",
          "name": "stdout",
          "text": [
            "Training Loss: 0.0077, Accuracy: 99.83%, Precision: 0.9984, Recall: 0.9983, F1-Score: 0.9983\n"
          ]
        },
        {
          "output_type": "stream",
          "name": "stderr",
          "text": [
            "Validation: 100%|██████████| 6/6 [00:00<00:00, 11.15it/s]\n"
          ]
        },
        {
          "output_type": "stream",
          "name": "stdout",
          "text": [
            "Validation Loss: 0.3425, Accuracy: 91.36%, Precision: 0.9269, Recall: 0.9136, F1-Score: 0.9144\n",
            "Epoch 34/100\n"
          ]
        },
        {
          "output_type": "stream",
          "name": "stderr",
          "text": [
            "Training: 100%|██████████| 38/38 [00:07<00:00,  5.24it/s]\n"
          ]
        },
        {
          "output_type": "stream",
          "name": "stdout",
          "text": [
            "Training Loss: 0.0086, Accuracy: 99.83%, Precision: 0.9983, Recall: 0.9983, F1-Score: 0.9983\n"
          ]
        },
        {
          "output_type": "stream",
          "name": "stderr",
          "text": [
            "Validation: 100%|██████████| 6/6 [00:00<00:00, 15.04it/s]\n"
          ]
        },
        {
          "output_type": "stream",
          "name": "stdout",
          "text": [
            "Validation Loss: 0.2655, Accuracy: 93.83%, Precision: 0.9412, Recall: 0.9383, F1-Score: 0.9382\n",
            "Epoch 35/100\n"
          ]
        },
        {
          "output_type": "stream",
          "name": "stderr",
          "text": [
            "Training: 100%|██████████| 38/38 [00:07<00:00,  4.95it/s]\n"
          ]
        },
        {
          "output_type": "stream",
          "name": "stdout",
          "text": [
            "Training Loss: 0.0035, Accuracy: 99.83%, Precision: 0.9984, Recall: 0.9983, F1-Score: 0.9983\n"
          ]
        },
        {
          "output_type": "stream",
          "name": "stderr",
          "text": [
            "Validation: 100%|██████████| 6/6 [00:00<00:00, 15.32it/s]\n"
          ]
        },
        {
          "output_type": "stream",
          "name": "stdout",
          "text": [
            "Validation Loss: 0.3421, Accuracy: 86.42%, Precision: 0.8969, Recall: 0.8642, F1-Score: 0.8697\n",
            "Epoch 36/100\n"
          ]
        },
        {
          "output_type": "stream",
          "name": "stderr",
          "text": [
            "Training: 100%|██████████| 38/38 [00:07<00:00,  5.21it/s]\n"
          ]
        },
        {
          "output_type": "stream",
          "name": "stdout",
          "text": [
            "Training Loss: 0.0118, Accuracy: 99.83%, Precision: 0.9983, Recall: 0.9983, F1-Score: 0.9983\n"
          ]
        },
        {
          "output_type": "stream",
          "name": "stderr",
          "text": [
            "Validation: 100%|██████████| 6/6 [00:00<00:00, 15.12it/s]\n"
          ]
        },
        {
          "output_type": "stream",
          "name": "stdout",
          "text": [
            "Validation Loss: 0.2810, Accuracy: 90.12%, Precision: 0.9151, Recall: 0.9012, F1-Score: 0.9026\n",
            "Epoch 37/100\n"
          ]
        },
        {
          "output_type": "stream",
          "name": "stderr",
          "text": [
            "Training: 100%|██████████| 38/38 [00:07<00:00,  4.95it/s]\n"
          ]
        },
        {
          "output_type": "stream",
          "name": "stdout",
          "text": [
            "Training Loss: 0.0062, Accuracy: 99.83%, Precision: 0.9984, Recall: 0.9983, F1-Score: 0.9983\n"
          ]
        },
        {
          "output_type": "stream",
          "name": "stderr",
          "text": [
            "Validation: 100%|██████████| 6/6 [00:00<00:00, 15.20it/s]\n"
          ]
        },
        {
          "output_type": "stream",
          "name": "stdout",
          "text": [
            "Validation Loss: 0.2976, Accuracy: 91.36%, Precision: 0.9269, Recall: 0.9136, F1-Score: 0.9144\n",
            "Epoch 38/100\n"
          ]
        },
        {
          "output_type": "stream",
          "name": "stderr",
          "text": [
            "Training: 100%|██████████| 38/38 [00:07<00:00,  5.17it/s]\n"
          ]
        },
        {
          "output_type": "stream",
          "name": "stdout",
          "text": [
            "Training Loss: 0.0054, Accuracy: 99.67%, Precision: 0.9967, Recall: 0.9967, F1-Score: 0.9967\n"
          ]
        },
        {
          "output_type": "stream",
          "name": "stderr",
          "text": [
            "Validation: 100%|██████████| 6/6 [00:00<00:00, 11.70it/s]\n"
          ]
        },
        {
          "output_type": "stream",
          "name": "stdout",
          "text": [
            "Validation Loss: 0.3680, Accuracy: 86.42%, Precision: 0.8969, Recall: 0.8642, F1-Score: 0.8697\n",
            "Epoch 39/100\n"
          ]
        },
        {
          "output_type": "stream",
          "name": "stderr",
          "text": [
            "Training: 100%|██████████| 38/38 [00:07<00:00,  5.09it/s]\n"
          ]
        },
        {
          "output_type": "stream",
          "name": "stdout",
          "text": [
            "Training Loss: 0.0093, Accuracy: 99.67%, Precision: 0.9967, Recall: 0.9967, F1-Score: 0.9967\n"
          ]
        },
        {
          "output_type": "stream",
          "name": "stderr",
          "text": [
            "Validation: 100%|██████████| 6/6 [00:00<00:00, 15.55it/s]\n"
          ]
        },
        {
          "output_type": "stream",
          "name": "stdout",
          "text": [
            "Validation Loss: 0.3387, Accuracy: 86.42%, Precision: 0.9022, Recall: 0.8642, F1-Score: 0.8709\n",
            "Epoch 40/100\n"
          ]
        },
        {
          "output_type": "stream",
          "name": "stderr",
          "text": [
            "Training: 100%|██████████| 38/38 [00:07<00:00,  4.98it/s]\n"
          ]
        },
        {
          "output_type": "stream",
          "name": "stdout",
          "text": [
            "Training Loss: 0.0055, Accuracy: 99.83%, Precision: 0.9983, Recall: 0.9983, F1-Score: 0.9983\n"
          ]
        },
        {
          "output_type": "stream",
          "name": "stderr",
          "text": [
            "Validation: 100%|██████████| 6/6 [00:00<00:00, 11.04it/s]\n"
          ]
        },
        {
          "output_type": "stream",
          "name": "stdout",
          "text": [
            "Validation Loss: 0.3201, Accuracy: 91.36%, Precision: 0.9235, Recall: 0.9136, F1-Score: 0.9141\n",
            "Epoch 41/100\n"
          ]
        },
        {
          "output_type": "stream",
          "name": "stderr",
          "text": [
            "Training: 100%|██████████| 38/38 [00:07<00:00,  5.24it/s]\n"
          ]
        },
        {
          "output_type": "stream",
          "name": "stdout",
          "text": [
            "Training Loss: 0.0026, Accuracy: 100.00%, Precision: 1.0000, Recall: 1.0000, F1-Score: 1.0000\n"
          ]
        },
        {
          "output_type": "stream",
          "name": "stderr",
          "text": [
            "Validation: 100%|██████████| 6/6 [00:00<00:00, 15.34it/s]\n"
          ]
        },
        {
          "output_type": "stream",
          "name": "stdout",
          "text": [
            "Validation Loss: 0.3519, Accuracy: 91.36%, Precision: 0.9235, Recall: 0.9136, F1-Score: 0.9141\n",
            "Epoch 42/100\n"
          ]
        },
        {
          "output_type": "stream",
          "name": "stderr",
          "text": [
            "Training: 100%|██████████| 38/38 [00:07<00:00,  4.94it/s]\n"
          ]
        },
        {
          "output_type": "stream",
          "name": "stdout",
          "text": [
            "Training Loss: 0.0026, Accuracy: 99.83%, Precision: 0.9984, Recall: 0.9983, F1-Score: 0.9983\n"
          ]
        },
        {
          "output_type": "stream",
          "name": "stderr",
          "text": [
            "Validation: 100%|██████████| 6/6 [00:00<00:00, 15.48it/s]\n"
          ]
        },
        {
          "output_type": "stream",
          "name": "stdout",
          "text": [
            "Validation Loss: 0.3633, Accuracy: 90.12%, Precision: 0.9151, Recall: 0.9012, F1-Score: 0.9026\n",
            "Epoch 43/100\n"
          ]
        },
        {
          "output_type": "stream",
          "name": "stderr",
          "text": [
            "Training: 100%|██████████| 38/38 [00:07<00:00,  5.21it/s]\n"
          ]
        },
        {
          "output_type": "stream",
          "name": "stdout",
          "text": [
            "Training Loss: 0.0013, Accuracy: 100.00%, Precision: 1.0000, Recall: 1.0000, F1-Score: 1.0000\n"
          ]
        },
        {
          "output_type": "stream",
          "name": "stderr",
          "text": [
            "Validation: 100%|██████████| 6/6 [00:00<00:00, 15.03it/s]\n"
          ]
        },
        {
          "output_type": "stream",
          "name": "stdout",
          "text": [
            "Validation Loss: 0.3670, Accuracy: 88.89%, Precision: 0.9072, Recall: 0.8889, F1-Score: 0.8910\n",
            "Epoch 44/100\n"
          ]
        },
        {
          "output_type": "stream",
          "name": "stderr",
          "text": [
            "Training: 100%|██████████| 38/38 [00:07<00:00,  4.95it/s]\n"
          ]
        },
        {
          "output_type": "stream",
          "name": "stdout",
          "text": [
            "Training Loss: 0.0042, Accuracy: 99.83%, Precision: 0.9984, Recall: 0.9983, F1-Score: 0.9983\n"
          ]
        },
        {
          "output_type": "stream",
          "name": "stderr",
          "text": [
            "Validation: 100%|██████████| 6/6 [00:00<00:00, 15.18it/s]\n"
          ]
        },
        {
          "output_type": "stream",
          "name": "stdout",
          "text": [
            "Validation Loss: 0.3952, Accuracy: 88.89%, Precision: 0.9083, Recall: 0.8889, F1-Score: 0.8909\n",
            "Epoch 45/100\n"
          ]
        },
        {
          "output_type": "stream",
          "name": "stderr",
          "text": [
            "Training: 100%|██████████| 38/38 [00:07<00:00,  5.09it/s]\n"
          ]
        },
        {
          "output_type": "stream",
          "name": "stdout",
          "text": [
            "Training Loss: 0.0014, Accuracy: 100.00%, Precision: 1.0000, Recall: 1.0000, F1-Score: 1.0000\n"
          ]
        },
        {
          "output_type": "stream",
          "name": "stderr",
          "text": [
            "Validation: 100%|██████████| 6/6 [00:00<00:00, 11.68it/s]\n"
          ]
        },
        {
          "output_type": "stream",
          "name": "stdout",
          "text": [
            "Validation Loss: 0.3657, Accuracy: 88.89%, Precision: 0.9034, Recall: 0.8889, F1-Score: 0.8903\n",
            "Epoch 46/100\n"
          ]
        },
        {
          "output_type": "stream",
          "name": "stderr",
          "text": [
            "Training: 100%|██████████| 38/38 [00:07<00:00,  5.11it/s]\n"
          ]
        },
        {
          "output_type": "stream",
          "name": "stdout",
          "text": [
            "Training Loss: 0.0100, Accuracy: 99.67%, Precision: 0.9967, Recall: 0.9967, F1-Score: 0.9967\n"
          ]
        },
        {
          "output_type": "stream",
          "name": "stderr",
          "text": [
            "Validation: 100%|██████████| 6/6 [00:00<00:00, 15.01it/s]\n"
          ]
        },
        {
          "output_type": "stream",
          "name": "stdout",
          "text": [
            "Validation Loss: 0.4714, Accuracy: 83.95%, Precision: 0.8741, Recall: 0.8395, F1-Score: 0.8446\n",
            "Epoch 47/100\n"
          ]
        },
        {
          "output_type": "stream",
          "name": "stderr",
          "text": [
            "Training: 100%|██████████| 38/38 [00:07<00:00,  4.96it/s]\n"
          ]
        },
        {
          "output_type": "stream",
          "name": "stdout",
          "text": [
            "Training Loss: 0.0058, Accuracy: 99.83%, Precision: 0.9983, Recall: 0.9983, F1-Score: 0.9983\n"
          ]
        },
        {
          "output_type": "stream",
          "name": "stderr",
          "text": [
            "Validation: 100%|██████████| 6/6 [00:00<00:00, 15.17it/s]\n"
          ]
        },
        {
          "output_type": "stream",
          "name": "stdout",
          "text": [
            "Validation Loss: 0.3706, Accuracy: 87.65%, Precision: 0.8962, Recall: 0.8765, F1-Score: 0.8789\n",
            "Epoch 48/100\n"
          ]
        },
        {
          "output_type": "stream",
          "name": "stderr",
          "text": [
            "Training: 100%|██████████| 38/38 [00:07<00:00,  5.24it/s]\n"
          ]
        },
        {
          "output_type": "stream",
          "name": "stdout",
          "text": [
            "Training Loss: 0.0042, Accuracy: 99.83%, Precision: 0.9983, Recall: 0.9983, F1-Score: 0.9983\n"
          ]
        },
        {
          "output_type": "stream",
          "name": "stderr",
          "text": [
            "Validation: 100%|██████████| 6/6 [00:00<00:00, 14.56it/s]\n"
          ]
        },
        {
          "output_type": "stream",
          "name": "stdout",
          "text": [
            "Validation Loss: 0.3343, Accuracy: 91.36%, Precision: 0.9235, Recall: 0.9136, F1-Score: 0.9141\n",
            "Epoch 49/100\n"
          ]
        },
        {
          "output_type": "stream",
          "name": "stderr",
          "text": [
            "Training: 100%|██████████| 38/38 [00:07<00:00,  5.02it/s]\n"
          ]
        },
        {
          "output_type": "stream",
          "name": "stdout",
          "text": [
            "Training Loss: 0.0058, Accuracy: 99.83%, Precision: 0.9984, Recall: 0.9983, F1-Score: 0.9983\n"
          ]
        },
        {
          "output_type": "stream",
          "name": "stderr",
          "text": [
            "Validation: 100%|██████████| 6/6 [00:00<00:00, 15.22it/s]\n"
          ]
        },
        {
          "output_type": "stream",
          "name": "stdout",
          "text": [
            "Validation Loss: 0.3674, Accuracy: 86.42%, Precision: 0.8885, Recall: 0.8642, F1-Score: 0.8676\n",
            "Epoch 50/100\n"
          ]
        },
        {
          "output_type": "stream",
          "name": "stderr",
          "text": [
            "Training: 100%|██████████| 38/38 [00:07<00:00,  5.23it/s]\n"
          ]
        },
        {
          "output_type": "stream",
          "name": "stdout",
          "text": [
            "Training Loss: 0.0036, Accuracy: 99.83%, Precision: 0.9984, Recall: 0.9983, F1-Score: 0.9983\n"
          ]
        },
        {
          "output_type": "stream",
          "name": "stderr",
          "text": [
            "Validation: 100%|██████████| 6/6 [00:00<00:00, 11.95it/s]\n"
          ]
        },
        {
          "output_type": "stream",
          "name": "stdout",
          "text": [
            "Validation Loss: 0.3883, Accuracy: 87.65%, Precision: 0.9024, Recall: 0.8765, F1-Score: 0.8807\n",
            "Epoch 51/100\n"
          ]
        },
        {
          "output_type": "stream",
          "name": "stderr",
          "text": [
            "Training: 100%|██████████| 38/38 [00:07<00:00,  5.02it/s]\n"
          ]
        },
        {
          "output_type": "stream",
          "name": "stdout",
          "text": [
            "Training Loss: 0.0046, Accuracy: 99.83%, Precision: 0.9983, Recall: 0.9983, F1-Score: 0.9983\n"
          ]
        },
        {
          "output_type": "stream",
          "name": "stderr",
          "text": [
            "Validation: 100%|██████████| 6/6 [00:00<00:00, 15.28it/s]\n"
          ]
        },
        {
          "output_type": "stream",
          "name": "stdout",
          "text": [
            "Validation Loss: 0.3104, Accuracy: 90.12%, Precision: 0.9151, Recall: 0.9012, F1-Score: 0.9026\n",
            "Epoch 52/100\n"
          ]
        },
        {
          "output_type": "stream",
          "name": "stderr",
          "text": [
            "Training: 100%|██████████| 38/38 [00:07<00:00,  5.05it/s]\n"
          ]
        },
        {
          "output_type": "stream",
          "name": "stdout",
          "text": [
            "Training Loss: 0.0061, Accuracy: 99.67%, Precision: 0.9967, Recall: 0.9967, F1-Score: 0.9967\n"
          ]
        },
        {
          "output_type": "stream",
          "name": "stderr",
          "text": [
            "Validation: 100%|██████████| 6/6 [00:00<00:00, 11.75it/s]\n"
          ]
        },
        {
          "output_type": "stream",
          "name": "stdout",
          "text": [
            "Validation Loss: 0.3681, Accuracy: 87.65%, Precision: 0.8951, Recall: 0.8765, F1-Score: 0.8788\n",
            "Epoch 53/100\n"
          ]
        },
        {
          "output_type": "stream",
          "name": "stderr",
          "text": [
            "Training: 100%|██████████| 38/38 [00:07<00:00,  5.16it/s]\n"
          ]
        },
        {
          "output_type": "stream",
          "name": "stdout",
          "text": [
            "Training Loss: 0.0038, Accuracy: 99.67%, Precision: 0.9967, Recall: 0.9967, F1-Score: 0.9967\n"
          ]
        },
        {
          "output_type": "stream",
          "name": "stderr",
          "text": [
            "Validation: 100%|██████████| 6/6 [00:00<00:00, 14.94it/s]\n"
          ]
        },
        {
          "output_type": "stream",
          "name": "stdout",
          "text": [
            "Validation Loss: 0.3596, Accuracy: 88.89%, Precision: 0.9072, Recall: 0.8889, F1-Score: 0.8910\n",
            "Epoch 54/100\n"
          ]
        },
        {
          "output_type": "stream",
          "name": "stderr",
          "text": [
            "Training: 100%|██████████| 38/38 [00:07<00:00,  4.90it/s]\n"
          ]
        },
        {
          "output_type": "stream",
          "name": "stdout",
          "text": [
            "Training Loss: 0.0054, Accuracy: 99.67%, Precision: 0.9967, Recall: 0.9967, F1-Score: 0.9967\n"
          ]
        },
        {
          "output_type": "stream",
          "name": "stderr",
          "text": [
            "Validation: 100%|██████████| 6/6 [00:00<00:00, 15.04it/s]\n"
          ]
        },
        {
          "output_type": "stream",
          "name": "stdout",
          "text": [
            "Validation Loss: 0.4308, Accuracy: 86.42%, Precision: 0.8969, Recall: 0.8642, F1-Score: 0.8697\n",
            "Epoch 55/100\n"
          ]
        },
        {
          "output_type": "stream",
          "name": "stderr",
          "text": [
            "Training: 100%|██████████| 38/38 [00:07<00:00,  5.22it/s]\n"
          ]
        },
        {
          "output_type": "stream",
          "name": "stdout",
          "text": [
            "Training Loss: 0.0038, Accuracy: 99.83%, Precision: 0.9983, Recall: 0.9983, F1-Score: 0.9983\n"
          ]
        },
        {
          "output_type": "stream",
          "name": "stderr",
          "text": [
            "Validation: 100%|██████████| 6/6 [00:00<00:00, 15.32it/s]\n"
          ]
        },
        {
          "output_type": "stream",
          "name": "stdout",
          "text": [
            "Validation Loss: 0.3564, Accuracy: 90.12%, Precision: 0.9122, Recall: 0.9012, F1-Score: 0.9018\n",
            "Epoch 56/100\n"
          ]
        },
        {
          "output_type": "stream",
          "name": "stderr",
          "text": [
            "Training: 100%|██████████| 38/38 [00:07<00:00,  4.96it/s]\n"
          ]
        },
        {
          "output_type": "stream",
          "name": "stdout",
          "text": [
            "Training Loss: 0.0024, Accuracy: 99.83%, Precision: 0.9983, Recall: 0.9983, F1-Score: 0.9983\n"
          ]
        },
        {
          "output_type": "stream",
          "name": "stderr",
          "text": [
            "Validation: 100%|██████████| 6/6 [00:00<00:00, 15.22it/s]\n"
          ]
        },
        {
          "output_type": "stream",
          "name": "stdout",
          "text": [
            "Validation Loss: 0.3384, Accuracy: 90.12%, Precision: 0.9151, Recall: 0.9012, F1-Score: 0.9026\n",
            "Epoch 57/100\n"
          ]
        },
        {
          "output_type": "stream",
          "name": "stderr",
          "text": [
            "Training: 100%|██████████| 38/38 [00:07<00:00,  5.16it/s]\n"
          ]
        },
        {
          "output_type": "stream",
          "name": "stdout",
          "text": [
            "Training Loss: 0.0049, Accuracy: 99.83%, Precision: 0.9984, Recall: 0.9983, F1-Score: 0.9983\n"
          ]
        },
        {
          "output_type": "stream",
          "name": "stderr",
          "text": [
            "Validation: 100%|██████████| 6/6 [00:00<00:00, 13.01it/s]\n"
          ]
        },
        {
          "output_type": "stream",
          "name": "stdout",
          "text": [
            "Validation Loss: 0.3661, Accuracy: 87.65%, Precision: 0.8962, Recall: 0.8765, F1-Score: 0.8789\n",
            "Epoch 58/100\n"
          ]
        },
        {
          "output_type": "stream",
          "name": "stderr",
          "text": [
            "Training: 100%|██████████| 38/38 [00:07<00:00,  5.06it/s]\n"
          ]
        },
        {
          "output_type": "stream",
          "name": "stdout",
          "text": [
            "Training Loss: 0.0046, Accuracy: 99.67%, Precision: 0.9967, Recall: 0.9967, F1-Score: 0.9967\n"
          ]
        },
        {
          "output_type": "stream",
          "name": "stderr",
          "text": [
            "Validation: 100%|██████████| 6/6 [00:00<00:00, 14.86it/s]\n"
          ]
        },
        {
          "output_type": "stream",
          "name": "stdout",
          "text": [
            "Validation Loss: 0.3362, Accuracy: 91.36%, Precision: 0.9269, Recall: 0.9136, F1-Score: 0.9144\n",
            "Epoch 59/100\n"
          ]
        },
        {
          "output_type": "stream",
          "name": "stderr",
          "text": [
            "Training: 100%|██████████| 38/38 [00:07<00:00,  5.01it/s]\n"
          ]
        },
        {
          "output_type": "stream",
          "name": "stdout",
          "text": [
            "Training Loss: 0.0036, Accuracy: 99.83%, Precision: 0.9983, Recall: 0.9983, F1-Score: 0.9983\n"
          ]
        },
        {
          "output_type": "stream",
          "name": "stderr",
          "text": [
            "Validation: 100%|██████████| 6/6 [00:00<00:00, 13.00it/s]\n"
          ]
        },
        {
          "output_type": "stream",
          "name": "stdout",
          "text": [
            "Validation Loss: 0.3278, Accuracy: 90.12%, Precision: 0.9122, Recall: 0.9012, F1-Score: 0.9018\n",
            "Epoch 60/100\n"
          ]
        },
        {
          "output_type": "stream",
          "name": "stderr",
          "text": [
            "Training: 100%|██████████| 38/38 [00:07<00:00,  5.21it/s]\n"
          ]
        },
        {
          "output_type": "stream",
          "name": "stdout",
          "text": [
            "Training Loss: 0.0037, Accuracy: 99.83%, Precision: 0.9984, Recall: 0.9983, F1-Score: 0.9983\n"
          ]
        },
        {
          "output_type": "stream",
          "name": "stderr",
          "text": [
            "Validation: 100%|██████████| 6/6 [00:00<00:00, 15.31it/s]\n"
          ]
        },
        {
          "output_type": "stream",
          "name": "stdout",
          "text": [
            "Validation Loss: 0.3547, Accuracy: 90.12%, Precision: 0.9151, Recall: 0.9012, F1-Score: 0.9026\n",
            "Epoch 61/100\n"
          ]
        },
        {
          "output_type": "stream",
          "name": "stderr",
          "text": [
            "Training: 100%|██████████| 38/38 [00:07<00:00,  4.96it/s]\n"
          ]
        },
        {
          "output_type": "stream",
          "name": "stdout",
          "text": [
            "Training Loss: 0.0044, Accuracy: 99.83%, Precision: 0.9983, Recall: 0.9983, F1-Score: 0.9983\n"
          ]
        },
        {
          "output_type": "stream",
          "name": "stderr",
          "text": [
            "Validation: 100%|██████████| 6/6 [00:00<00:00, 15.15it/s]\n"
          ]
        },
        {
          "output_type": "stream",
          "name": "stdout",
          "text": [
            "Validation Loss: 0.3539, Accuracy: 88.89%, Precision: 0.9072, Recall: 0.8889, F1-Score: 0.8910\n",
            "Epoch 62/100\n"
          ]
        },
        {
          "output_type": "stream",
          "name": "stderr",
          "text": [
            "Training: 100%|██████████| 38/38 [00:07<00:00,  5.20it/s]\n"
          ]
        },
        {
          "output_type": "stream",
          "name": "stdout",
          "text": [
            "Training Loss: 0.0020, Accuracy: 100.00%, Precision: 1.0000, Recall: 1.0000, F1-Score: 1.0000\n"
          ]
        },
        {
          "output_type": "stream",
          "name": "stderr",
          "text": [
            "Validation: 100%|██████████| 6/6 [00:00<00:00, 15.08it/s]\n"
          ]
        },
        {
          "output_type": "stream",
          "name": "stdout",
          "text": [
            "Validation Loss: 0.3731, Accuracy: 90.12%, Precision: 0.9151, Recall: 0.9012, F1-Score: 0.9026\n",
            "Epoch 63/100\n"
          ]
        },
        {
          "output_type": "stream",
          "name": "stderr",
          "text": [
            "Training: 100%|██████████| 38/38 [00:07<00:00,  4.95it/s]\n"
          ]
        },
        {
          "output_type": "stream",
          "name": "stdout",
          "text": [
            "Training Loss: 0.0039, Accuracy: 99.67%, Precision: 0.9967, Recall: 0.9967, F1-Score: 0.9967\n"
          ]
        },
        {
          "output_type": "stream",
          "name": "stderr",
          "text": [
            "Validation: 100%|██████████| 6/6 [00:00<00:00, 14.34it/s]\n"
          ]
        },
        {
          "output_type": "stream",
          "name": "stdout",
          "text": [
            "Validation Loss: 0.3713, Accuracy: 91.36%, Precision: 0.9235, Recall: 0.9136, F1-Score: 0.9141\n",
            "Epoch 64/100\n"
          ]
        },
        {
          "output_type": "stream",
          "name": "stderr",
          "text": [
            "Training: 100%|██████████| 38/38 [00:07<00:00,  5.09it/s]\n"
          ]
        },
        {
          "output_type": "stream",
          "name": "stdout",
          "text": [
            "Training Loss: 0.0031, Accuracy: 99.83%, Precision: 0.9984, Recall: 0.9983, F1-Score: 0.9983\n"
          ]
        },
        {
          "output_type": "stream",
          "name": "stderr",
          "text": [
            "Validation: 100%|██████████| 6/6 [00:00<00:00, 11.14it/s]\n"
          ]
        },
        {
          "output_type": "stream",
          "name": "stdout",
          "text": [
            "Validation Loss: 0.4223, Accuracy: 90.12%, Precision: 0.9151, Recall: 0.9012, F1-Score: 0.9026\n",
            "Epoch 65/100\n"
          ]
        },
        {
          "output_type": "stream",
          "name": "stderr",
          "text": [
            "Training: 100%|██████████| 38/38 [00:07<00:00,  5.08it/s]\n"
          ]
        },
        {
          "output_type": "stream",
          "name": "stdout",
          "text": [
            "Training Loss: 0.0071, Accuracy: 99.67%, Precision: 0.9967, Recall: 0.9967, F1-Score: 0.9967\n"
          ]
        },
        {
          "output_type": "stream",
          "name": "stderr",
          "text": [
            "Validation: 100%|██████████| 6/6 [00:00<00:00, 14.77it/s]\n"
          ]
        },
        {
          "output_type": "stream",
          "name": "stdout",
          "text": [
            "Validation Loss: 0.3846, Accuracy: 87.65%, Precision: 0.9024, Recall: 0.8765, F1-Score: 0.8807\n",
            "Epoch 66/100\n"
          ]
        },
        {
          "output_type": "stream",
          "name": "stderr",
          "text": [
            "Training: 100%|██████████| 38/38 [00:07<00:00,  5.03it/s]\n"
          ]
        },
        {
          "output_type": "stream",
          "name": "stdout",
          "text": [
            "Training Loss: 0.0014, Accuracy: 100.00%, Precision: 1.0000, Recall: 1.0000, F1-Score: 1.0000\n"
          ]
        },
        {
          "output_type": "stream",
          "name": "stderr",
          "text": [
            "Validation: 100%|██████████| 6/6 [00:00<00:00, 14.34it/s]\n"
          ]
        },
        {
          "output_type": "stream",
          "name": "stdout",
          "text": [
            "Validation Loss: 0.3502, Accuracy: 88.89%, Precision: 0.9072, Recall: 0.8889, F1-Score: 0.8910\n",
            "Epoch 67/100\n"
          ]
        },
        {
          "output_type": "stream",
          "name": "stderr",
          "text": [
            "Training: 100%|██████████| 38/38 [00:07<00:00,  5.25it/s]\n"
          ]
        },
        {
          "output_type": "stream",
          "name": "stdout",
          "text": [
            "Training Loss: 0.0041, Accuracy: 99.83%, Precision: 0.9984, Recall: 0.9983, F1-Score: 0.9983\n"
          ]
        },
        {
          "output_type": "stream",
          "name": "stderr",
          "text": [
            "Validation: 100%|██████████| 6/6 [00:00<00:00, 15.41it/s]\n"
          ]
        },
        {
          "output_type": "stream",
          "name": "stdout",
          "text": [
            "Validation Loss: 0.3831, Accuracy: 87.65%, Precision: 0.8951, Recall: 0.8765, F1-Score: 0.8788\n",
            "Epoch 68/100\n"
          ]
        },
        {
          "output_type": "stream",
          "name": "stderr",
          "text": [
            "Training: 100%|██████████| 38/38 [00:07<00:00,  5.01it/s]\n"
          ]
        },
        {
          "output_type": "stream",
          "name": "stdout",
          "text": [
            "Training Loss: 0.0037, Accuracy: 99.67%, Precision: 0.9967, Recall: 0.9967, F1-Score: 0.9967\n"
          ]
        },
        {
          "output_type": "stream",
          "name": "stderr",
          "text": [
            "Validation: 100%|██████████| 6/6 [00:00<00:00, 14.84it/s]\n"
          ]
        },
        {
          "output_type": "stream",
          "name": "stdout",
          "text": [
            "Validation Loss: 0.3977, Accuracy: 87.65%, Precision: 0.8951, Recall: 0.8765, F1-Score: 0.8788\n",
            "Epoch 69/100\n"
          ]
        },
        {
          "output_type": "stream",
          "name": "stderr",
          "text": [
            "Training: 100%|██████████| 38/38 [00:07<00:00,  5.21it/s]\n"
          ]
        },
        {
          "output_type": "stream",
          "name": "stdout",
          "text": [
            "Training Loss: 0.0015, Accuracy: 100.00%, Precision: 1.0000, Recall: 1.0000, F1-Score: 1.0000\n"
          ]
        },
        {
          "output_type": "stream",
          "name": "stderr",
          "text": [
            "Validation: 100%|██████████| 6/6 [00:00<00:00, 14.84it/s]\n"
          ]
        },
        {
          "output_type": "stream",
          "name": "stdout",
          "text": [
            "Validation Loss: 0.3911, Accuracy: 87.65%, Precision: 0.8951, Recall: 0.8765, F1-Score: 0.8788\n",
            "Epoch 70/100\n"
          ]
        },
        {
          "output_type": "stream",
          "name": "stderr",
          "text": [
            "Training: 100%|██████████| 38/38 [00:07<00:00,  4.99it/s]\n"
          ]
        },
        {
          "output_type": "stream",
          "name": "stdout",
          "text": [
            "Training Loss: 0.0037, Accuracy: 99.83%, Precision: 0.9984, Recall: 0.9983, F1-Score: 0.9983\n"
          ]
        },
        {
          "output_type": "stream",
          "name": "stderr",
          "text": [
            "Validation: 100%|██████████| 6/6 [00:00<00:00, 15.38it/s]\n"
          ]
        },
        {
          "output_type": "stream",
          "name": "stdout",
          "text": [
            "Validation Loss: 0.3999, Accuracy: 87.65%, Precision: 0.9040, Recall: 0.8765, F1-Score: 0.8808\n",
            "Epoch 71/100\n"
          ]
        },
        {
          "output_type": "stream",
          "name": "stderr",
          "text": [
            "Training: 100%|██████████| 38/38 [00:07<00:00,  5.03it/s]\n"
          ]
        },
        {
          "output_type": "stream",
          "name": "stdout",
          "text": [
            "Training Loss: 0.0030, Accuracy: 99.83%, Precision: 0.9983, Recall: 0.9983, F1-Score: 0.9983\n"
          ]
        },
        {
          "output_type": "stream",
          "name": "stderr",
          "text": [
            "Validation: 100%|██████████| 6/6 [00:00<00:00, 11.60it/s]\n"
          ]
        },
        {
          "output_type": "stream",
          "name": "stdout",
          "text": [
            "Validation Loss: 0.3499, Accuracy: 88.89%, Precision: 0.9034, Recall: 0.8889, F1-Score: 0.8903\n",
            "Epoch 72/100\n"
          ]
        },
        {
          "output_type": "stream",
          "name": "stderr",
          "text": [
            "Training: 100%|██████████| 38/38 [00:07<00:00,  5.12it/s]\n"
          ]
        },
        {
          "output_type": "stream",
          "name": "stdout",
          "text": [
            "Training Loss: 0.0052, Accuracy: 99.67%, Precision: 0.9967, Recall: 0.9967, F1-Score: 0.9967\n"
          ]
        },
        {
          "output_type": "stream",
          "name": "stderr",
          "text": [
            "Validation: 100%|██████████| 6/6 [00:00<00:00, 15.20it/s]\n"
          ]
        },
        {
          "output_type": "stream",
          "name": "stdout",
          "text": [
            "Validation Loss: 0.3753, Accuracy: 87.65%, Precision: 0.9024, Recall: 0.8765, F1-Score: 0.8807\n",
            "Epoch 73/100\n"
          ]
        },
        {
          "output_type": "stream",
          "name": "stderr",
          "text": [
            "Training: 100%|██████████| 38/38 [00:07<00:00,  4.93it/s]\n"
          ]
        },
        {
          "output_type": "stream",
          "name": "stdout",
          "text": [
            "Training Loss: 0.0035, Accuracy: 99.67%, Precision: 0.9967, Recall: 0.9967, F1-Score: 0.9967\n"
          ]
        },
        {
          "output_type": "stream",
          "name": "stderr",
          "text": [
            "Validation: 100%|██████████| 6/6 [00:00<00:00, 14.89it/s]\n"
          ]
        },
        {
          "output_type": "stream",
          "name": "stdout",
          "text": [
            "Validation Loss: 0.3733, Accuracy: 87.65%, Precision: 0.8951, Recall: 0.8765, F1-Score: 0.8788\n",
            "Epoch 74/100\n"
          ]
        },
        {
          "output_type": "stream",
          "name": "stderr",
          "text": [
            "Training: 100%|██████████| 38/38 [00:07<00:00,  5.24it/s]\n"
          ]
        },
        {
          "output_type": "stream",
          "name": "stdout",
          "text": [
            "Training Loss: 0.0018, Accuracy: 99.83%, Precision: 0.9984, Recall: 0.9983, F1-Score: 0.9983\n"
          ]
        },
        {
          "output_type": "stream",
          "name": "stderr",
          "text": [
            "Validation: 100%|██████████| 6/6 [00:00<00:00, 14.89it/s]\n"
          ]
        },
        {
          "output_type": "stream",
          "name": "stdout",
          "text": [
            "Validation Loss: 0.4164, Accuracy: 88.89%, Precision: 0.9101, Recall: 0.8889, F1-Score: 0.8920\n",
            "Epoch 75/100\n"
          ]
        },
        {
          "output_type": "stream",
          "name": "stderr",
          "text": [
            "Training: 100%|██████████| 38/38 [00:07<00:00,  4.96it/s]\n"
          ]
        },
        {
          "output_type": "stream",
          "name": "stdout",
          "text": [
            "Training Loss: 0.0035, Accuracy: 99.83%, Precision: 0.9983, Recall: 0.9983, F1-Score: 0.9983\n"
          ]
        },
        {
          "output_type": "stream",
          "name": "stderr",
          "text": [
            "Validation: 100%|██████████| 6/6 [00:00<00:00, 15.10it/s]\n"
          ]
        },
        {
          "output_type": "stream",
          "name": "stdout",
          "text": [
            "Validation Loss: 0.3496, Accuracy: 91.36%, Precision: 0.9235, Recall: 0.9136, F1-Score: 0.9141\n",
            "Epoch 76/100\n"
          ]
        },
        {
          "output_type": "stream",
          "name": "stderr",
          "text": [
            "Training: 100%|██████████| 38/38 [00:07<00:00,  5.20it/s]\n"
          ]
        },
        {
          "output_type": "stream",
          "name": "stdout",
          "text": [
            "Training Loss: 0.0027, Accuracy: 99.83%, Precision: 0.9984, Recall: 0.9983, F1-Score: 0.9983\n"
          ]
        },
        {
          "output_type": "stream",
          "name": "stderr",
          "text": [
            "Validation: 100%|██████████| 6/6 [00:00<00:00, 12.89it/s]\n"
          ]
        },
        {
          "output_type": "stream",
          "name": "stdout",
          "text": [
            "Validation Loss: 0.3903, Accuracy: 88.89%, Precision: 0.9072, Recall: 0.8889, F1-Score: 0.8910\n",
            "Epoch 77/100\n"
          ]
        },
        {
          "output_type": "stream",
          "name": "stderr",
          "text": [
            "Training: 100%|██████████| 38/38 [00:07<00:00,  4.99it/s]\n"
          ]
        },
        {
          "output_type": "stream",
          "name": "stdout",
          "text": [
            "Training Loss: 0.0031, Accuracy: 99.83%, Precision: 0.9984, Recall: 0.9983, F1-Score: 0.9983\n"
          ]
        },
        {
          "output_type": "stream",
          "name": "stderr",
          "text": [
            "Validation: 100%|██████████| 6/6 [00:00<00:00, 15.11it/s]\n"
          ]
        },
        {
          "output_type": "stream",
          "name": "stdout",
          "text": [
            "Validation Loss: 0.4205, Accuracy: 87.65%, Precision: 0.9024, Recall: 0.8765, F1-Score: 0.8807\n",
            "Epoch 78/100\n"
          ]
        },
        {
          "output_type": "stream",
          "name": "stderr",
          "text": [
            "Training: 100%|██████████| 38/38 [00:07<00:00,  5.03it/s]\n"
          ]
        },
        {
          "output_type": "stream",
          "name": "stdout",
          "text": [
            "Training Loss: 0.0057, Accuracy: 99.67%, Precision: 0.9967, Recall: 0.9967, F1-Score: 0.9967\n"
          ]
        },
        {
          "output_type": "stream",
          "name": "stderr",
          "text": [
            "Validation: 100%|██████████| 6/6 [00:00<00:00, 13.46it/s]\n"
          ]
        },
        {
          "output_type": "stream",
          "name": "stdout",
          "text": [
            "Validation Loss: 0.3570, Accuracy: 91.36%, Precision: 0.9269, Recall: 0.9136, F1-Score: 0.9144\n",
            "Epoch 79/100\n"
          ]
        },
        {
          "output_type": "stream",
          "name": "stderr",
          "text": [
            "Training: 100%|██████████| 38/38 [00:07<00:00,  5.19it/s]\n"
          ]
        },
        {
          "output_type": "stream",
          "name": "stdout",
          "text": [
            "Training Loss: 0.0042, Accuracy: 99.83%, Precision: 0.9983, Recall: 0.9983, F1-Score: 0.9983\n"
          ]
        },
        {
          "output_type": "stream",
          "name": "stderr",
          "text": [
            "Validation: 100%|██████████| 6/6 [00:00<00:00, 15.21it/s]\n"
          ]
        },
        {
          "output_type": "stream",
          "name": "stdout",
          "text": [
            "Validation Loss: 0.3691, Accuracy: 88.89%, Precision: 0.9072, Recall: 0.8889, F1-Score: 0.8910\n",
            "Epoch 80/100\n"
          ]
        },
        {
          "output_type": "stream",
          "name": "stderr",
          "text": [
            "Training: 100%|██████████| 38/38 [00:07<00:00,  5.01it/s]\n"
          ]
        },
        {
          "output_type": "stream",
          "name": "stdout",
          "text": [
            "Training Loss: 0.0030, Accuracy: 99.83%, Precision: 0.9983, Recall: 0.9983, F1-Score: 0.9983\n"
          ]
        },
        {
          "output_type": "stream",
          "name": "stderr",
          "text": [
            "Validation: 100%|██████████| 6/6 [00:00<00:00, 15.00it/s]\n"
          ]
        },
        {
          "output_type": "stream",
          "name": "stdout",
          "text": [
            "Validation Loss: 0.3357, Accuracy: 90.12%, Precision: 0.9151, Recall: 0.9012, F1-Score: 0.9026\n",
            "Epoch 81/100\n"
          ]
        },
        {
          "output_type": "stream",
          "name": "stderr",
          "text": [
            "Training: 100%|██████████| 38/38 [00:07<00:00,  5.21it/s]\n"
          ]
        },
        {
          "output_type": "stream",
          "name": "stdout",
          "text": [
            "Training Loss: 0.0031, Accuracy: 99.67%, Precision: 0.9967, Recall: 0.9967, F1-Score: 0.9967\n"
          ]
        },
        {
          "output_type": "stream",
          "name": "stderr",
          "text": [
            "Validation: 100%|██████████| 6/6 [00:00<00:00, 15.08it/s]\n"
          ]
        },
        {
          "output_type": "stream",
          "name": "stdout",
          "text": [
            "Validation Loss: 0.3417, Accuracy: 90.12%, Precision: 0.9151, Recall: 0.9012, F1-Score: 0.9026\n",
            "Epoch 82/100\n"
          ]
        },
        {
          "output_type": "stream",
          "name": "stderr",
          "text": [
            "Training: 100%|██████████| 38/38 [00:07<00:00,  4.93it/s]\n"
          ]
        },
        {
          "output_type": "stream",
          "name": "stdout",
          "text": [
            "Training Loss: 0.0016, Accuracy: 99.83%, Precision: 0.9984, Recall: 0.9983, F1-Score: 0.9983\n"
          ]
        },
        {
          "output_type": "stream",
          "name": "stderr",
          "text": [
            "Validation: 100%|██████████| 6/6 [00:00<00:00, 15.35it/s]\n"
          ]
        },
        {
          "output_type": "stream",
          "name": "stdout",
          "text": [
            "Validation Loss: 0.3770, Accuracy: 87.65%, Precision: 0.9024, Recall: 0.8765, F1-Score: 0.8807\n",
            "Epoch 83/100\n"
          ]
        },
        {
          "output_type": "stream",
          "name": "stderr",
          "text": [
            "Training: 100%|██████████| 38/38 [00:07<00:00,  5.16it/s]\n"
          ]
        },
        {
          "output_type": "stream",
          "name": "stdout",
          "text": [
            "Training Loss: 0.0022, Accuracy: 99.83%, Precision: 0.9983, Recall: 0.9983, F1-Score: 0.9983\n"
          ]
        },
        {
          "output_type": "stream",
          "name": "stderr",
          "text": [
            "Validation: 100%|██████████| 6/6 [00:00<00:00, 11.66it/s]\n"
          ]
        },
        {
          "output_type": "stream",
          "name": "stdout",
          "text": [
            "Validation Loss: 0.3522, Accuracy: 90.12%, Precision: 0.9151, Recall: 0.9012, F1-Score: 0.9026\n",
            "Epoch 84/100\n"
          ]
        },
        {
          "output_type": "stream",
          "name": "stderr",
          "text": [
            "Training: 100%|██████████| 38/38 [00:07<00:00,  5.11it/s]\n"
          ]
        },
        {
          "output_type": "stream",
          "name": "stdout",
          "text": [
            "Training Loss: 0.0077, Accuracy: 99.67%, Precision: 0.9967, Recall: 0.9967, F1-Score: 0.9967\n"
          ]
        },
        {
          "output_type": "stream",
          "name": "stderr",
          "text": [
            "Validation: 100%|██████████| 6/6 [00:00<00:00, 15.28it/s]\n"
          ]
        },
        {
          "output_type": "stream",
          "name": "stdout",
          "text": [
            "Validation Loss: 0.3448, Accuracy: 90.12%, Precision: 0.9213, Recall: 0.9012, F1-Score: 0.9042\n",
            "Epoch 85/100\n"
          ]
        },
        {
          "output_type": "stream",
          "name": "stderr",
          "text": [
            "Training: 100%|██████████| 38/38 [00:07<00:00,  5.02it/s]\n"
          ]
        },
        {
          "output_type": "stream",
          "name": "stdout",
          "text": [
            "Training Loss: 0.0029, Accuracy: 99.83%, Precision: 0.9984, Recall: 0.9983, F1-Score: 0.9983\n"
          ]
        },
        {
          "output_type": "stream",
          "name": "stderr",
          "text": [
            "Validation: 100%|██████████| 6/6 [00:00<00:00, 11.01it/s]\n"
          ]
        },
        {
          "output_type": "stream",
          "name": "stdout",
          "text": [
            "Validation Loss: 0.3543, Accuracy: 87.65%, Precision: 0.9085, Recall: 0.8765, F1-Score: 0.8822\n",
            "Epoch 86/100\n"
          ]
        },
        {
          "output_type": "stream",
          "name": "stderr",
          "text": [
            "Training: 100%|██████████| 38/38 [00:07<00:00,  5.20it/s]\n"
          ]
        },
        {
          "output_type": "stream",
          "name": "stdout",
          "text": [
            "Training Loss: 0.0048, Accuracy: 99.67%, Precision: 0.9967, Recall: 0.9967, F1-Score: 0.9967\n"
          ]
        },
        {
          "output_type": "stream",
          "name": "stderr",
          "text": [
            "Validation: 100%|██████████| 6/6 [00:00<00:00, 15.17it/s]\n"
          ]
        },
        {
          "output_type": "stream",
          "name": "stdout",
          "text": [
            "Validation Loss: 0.3315, Accuracy: 88.89%, Precision: 0.9101, Recall: 0.8889, F1-Score: 0.8920\n",
            "Epoch 87/100\n"
          ]
        },
        {
          "output_type": "stream",
          "name": "stderr",
          "text": [
            "Training: 100%|██████████| 38/38 [00:07<00:00,  4.96it/s]\n"
          ]
        },
        {
          "output_type": "stream",
          "name": "stdout",
          "text": [
            "Training Loss: 0.0023, Accuracy: 99.83%, Precision: 0.9984, Recall: 0.9983, F1-Score: 0.9983\n"
          ]
        },
        {
          "output_type": "stream",
          "name": "stderr",
          "text": [
            "Validation: 100%|██████████| 6/6 [00:00<00:00, 15.26it/s]\n"
          ]
        },
        {
          "output_type": "stream",
          "name": "stdout",
          "text": [
            "Validation Loss: 0.3489, Accuracy: 86.42%, Precision: 0.8969, Recall: 0.8642, F1-Score: 0.8697\n",
            "Epoch 88/100\n"
          ]
        },
        {
          "output_type": "stream",
          "name": "stderr",
          "text": [
            "Training: 100%|██████████| 38/38 [00:07<00:00,  5.21it/s]\n"
          ]
        },
        {
          "output_type": "stream",
          "name": "stdout",
          "text": [
            "Training Loss: 0.0044, Accuracy: 99.67%, Precision: 0.9967, Recall: 0.9967, F1-Score: 0.9967\n"
          ]
        },
        {
          "output_type": "stream",
          "name": "stderr",
          "text": [
            "Validation: 100%|██████████| 6/6 [00:00<00:00, 15.22it/s]\n"
          ]
        },
        {
          "output_type": "stream",
          "name": "stdout",
          "text": [
            "Validation Loss: 0.3282, Accuracy: 90.12%, Precision: 0.9182, Recall: 0.9012, F1-Score: 0.9032\n",
            "Epoch 89/100\n"
          ]
        },
        {
          "output_type": "stream",
          "name": "stderr",
          "text": [
            "Training: 100%|██████████| 38/38 [00:07<00:00,  4.91it/s]\n"
          ]
        },
        {
          "output_type": "stream",
          "name": "stdout",
          "text": [
            "Training Loss: 0.0023, Accuracy: 99.83%, Precision: 0.9983, Recall: 0.9983, F1-Score: 0.9983\n"
          ]
        },
        {
          "output_type": "stream",
          "name": "stderr",
          "text": [
            "Validation: 100%|██████████| 6/6 [00:00<00:00, 14.55it/s]\n"
          ]
        },
        {
          "output_type": "stream",
          "name": "stdout",
          "text": [
            "Validation Loss: 0.3418, Accuracy: 91.36%, Precision: 0.9290, Recall: 0.9136, F1-Score: 0.9155\n",
            "Epoch 90/100\n"
          ]
        },
        {
          "output_type": "stream",
          "name": "stderr",
          "text": [
            "Training: 100%|██████████| 38/38 [00:07<00:00,  5.07it/s]\n"
          ]
        },
        {
          "output_type": "stream",
          "name": "stdout",
          "text": [
            "Training Loss: 0.0027, Accuracy: 99.83%, Precision: 0.9983, Recall: 0.9983, F1-Score: 0.9983\n"
          ]
        },
        {
          "output_type": "stream",
          "name": "stderr",
          "text": [
            "Validation: 100%|██████████| 6/6 [00:00<00:00, 12.13it/s]\n"
          ]
        },
        {
          "output_type": "stream",
          "name": "stdout",
          "text": [
            "Validation Loss: 0.3164, Accuracy: 91.36%, Precision: 0.9235, Recall: 0.9136, F1-Score: 0.9141\n",
            "Epoch 91/100\n"
          ]
        },
        {
          "output_type": "stream",
          "name": "stderr",
          "text": [
            "Training: 100%|██████████| 38/38 [00:07<00:00,  5.12it/s]\n"
          ]
        },
        {
          "output_type": "stream",
          "name": "stdout",
          "text": [
            "Training Loss: 0.0024, Accuracy: 99.83%, Precision: 0.9984, Recall: 0.9983, F1-Score: 0.9983\n"
          ]
        },
        {
          "output_type": "stream",
          "name": "stderr",
          "text": [
            "Validation: 100%|██████████| 6/6 [00:00<00:00, 15.28it/s]\n"
          ]
        },
        {
          "output_type": "stream",
          "name": "stdout",
          "text": [
            "Validation Loss: 0.3325, Accuracy: 90.12%, Precision: 0.9122, Recall: 0.9012, F1-Score: 0.9018\n",
            "Epoch 92/100\n"
          ]
        },
        {
          "output_type": "stream",
          "name": "stderr",
          "text": [
            "Training: 100%|██████████| 38/38 [00:07<00:00,  4.89it/s]\n"
          ]
        },
        {
          "output_type": "stream",
          "name": "stdout",
          "text": [
            "Training Loss: 0.0026, Accuracy: 99.83%, Precision: 0.9983, Recall: 0.9983, F1-Score: 0.9983\n"
          ]
        },
        {
          "output_type": "stream",
          "name": "stderr",
          "text": [
            "Validation: 100%|██████████| 6/6 [00:00<00:00, 15.13it/s]\n"
          ]
        },
        {
          "output_type": "stream",
          "name": "stdout",
          "text": [
            "Validation Loss: 0.3145, Accuracy: 91.36%, Precision: 0.9230, Recall: 0.9136, F1-Score: 0.9147\n",
            "Epoch 93/100\n"
          ]
        },
        {
          "output_type": "stream",
          "name": "stderr",
          "text": [
            "Training: 100%|██████████| 38/38 [00:07<00:00,  5.20it/s]\n"
          ]
        },
        {
          "output_type": "stream",
          "name": "stdout",
          "text": [
            "Training Loss: 0.0061, Accuracy: 99.67%, Precision: 0.9967, Recall: 0.9967, F1-Score: 0.9967\n"
          ]
        },
        {
          "output_type": "stream",
          "name": "stderr",
          "text": [
            "Validation: 100%|██████████| 6/6 [00:00<00:00, 14.89it/s]\n"
          ]
        },
        {
          "output_type": "stream",
          "name": "stdout",
          "text": [
            "Validation Loss: 0.3648, Accuracy: 90.12%, Precision: 0.9182, Recall: 0.9012, F1-Score: 0.9032\n",
            "Epoch 94/100\n"
          ]
        },
        {
          "output_type": "stream",
          "name": "stderr",
          "text": [
            "Training: 100%|██████████| 38/38 [00:07<00:00,  4.93it/s]\n"
          ]
        },
        {
          "output_type": "stream",
          "name": "stdout",
          "text": [
            "Training Loss: 0.0025, Accuracy: 99.83%, Precision: 0.9983, Recall: 0.9983, F1-Score: 0.9983\n"
          ]
        },
        {
          "output_type": "stream",
          "name": "stderr",
          "text": [
            "Validation: 100%|██████████| 6/6 [00:00<00:00, 14.80it/s]\n"
          ]
        },
        {
          "output_type": "stream",
          "name": "stdout",
          "text": [
            "Validation Loss: 0.3518, Accuracy: 91.36%, Precision: 0.9235, Recall: 0.9136, F1-Score: 0.9141\n",
            "Epoch 95/100\n"
          ]
        },
        {
          "output_type": "stream",
          "name": "stderr",
          "text": [
            "Training: 100%|██████████| 38/38 [00:07<00:00,  5.21it/s]\n"
          ]
        },
        {
          "output_type": "stream",
          "name": "stdout",
          "text": [
            "Training Loss: 0.0040, Accuracy: 99.83%, Precision: 0.9984, Recall: 0.9983, F1-Score: 0.9983\n"
          ]
        },
        {
          "output_type": "stream",
          "name": "stderr",
          "text": [
            "Validation: 100%|██████████| 6/6 [00:00<00:00, 11.67it/s]\n"
          ]
        },
        {
          "output_type": "stream",
          "name": "stdout",
          "text": [
            "Validation Loss: 0.3848, Accuracy: 90.12%, Precision: 0.9182, Recall: 0.9012, F1-Score: 0.9032\n",
            "Epoch 96/100\n"
          ]
        },
        {
          "output_type": "stream",
          "name": "stderr",
          "text": [
            "Training: 100%|██████████| 38/38 [00:07<00:00,  4.99it/s]\n"
          ]
        },
        {
          "output_type": "stream",
          "name": "stdout",
          "text": [
            "Training Loss: 0.0032, Accuracy: 99.67%, Precision: 0.9967, Recall: 0.9967, F1-Score: 0.9967\n"
          ]
        },
        {
          "output_type": "stream",
          "name": "stderr",
          "text": [
            "Validation: 100%|██████████| 6/6 [00:00<00:00, 15.33it/s]\n"
          ]
        },
        {
          "output_type": "stream",
          "name": "stdout",
          "text": [
            "Validation Loss: 0.3641, Accuracy: 90.12%, Precision: 0.9151, Recall: 0.9012, F1-Score: 0.9026\n",
            "Epoch 97/100\n"
          ]
        },
        {
          "output_type": "stream",
          "name": "stderr",
          "text": [
            "Training: 100%|██████████| 38/38 [00:07<00:00,  5.05it/s]\n"
          ]
        },
        {
          "output_type": "stream",
          "name": "stdout",
          "text": [
            "Training Loss: 0.0029, Accuracy: 99.83%, Precision: 0.9983, Recall: 0.9983, F1-Score: 0.9983\n"
          ]
        },
        {
          "output_type": "stream",
          "name": "stderr",
          "text": [
            "Validation: 100%|██████████| 6/6 [00:00<00:00, 12.52it/s]\n"
          ]
        },
        {
          "output_type": "stream",
          "name": "stdout",
          "text": [
            "Validation Loss: 0.3425, Accuracy: 91.36%, Precision: 0.9235, Recall: 0.9136, F1-Score: 0.9141\n",
            "Epoch 98/100\n"
          ]
        },
        {
          "output_type": "stream",
          "name": "stderr",
          "text": [
            "Training: 100%|██████████| 38/38 [00:07<00:00,  5.09it/s]\n"
          ]
        },
        {
          "output_type": "stream",
          "name": "stdout",
          "text": [
            "Training Loss: 0.0038, Accuracy: 99.83%, Precision: 0.9984, Recall: 0.9983, F1-Score: 0.9983\n"
          ]
        },
        {
          "output_type": "stream",
          "name": "stderr",
          "text": [
            "Validation: 100%|██████████| 6/6 [00:00<00:00, 15.53it/s]\n"
          ]
        },
        {
          "output_type": "stream",
          "name": "stdout",
          "text": [
            "Validation Loss: 0.3829, Accuracy: 88.89%, Precision: 0.9101, Recall: 0.8889, F1-Score: 0.8920\n",
            "Epoch 99/100\n"
          ]
        },
        {
          "output_type": "stream",
          "name": "stderr",
          "text": [
            "Training: 100%|██████████| 38/38 [00:07<00:00,  5.00it/s]\n"
          ]
        },
        {
          "output_type": "stream",
          "name": "stdout",
          "text": [
            "Training Loss: 0.0029, Accuracy: 99.83%, Precision: 0.9983, Recall: 0.9983, F1-Score: 0.9983\n"
          ]
        },
        {
          "output_type": "stream",
          "name": "stderr",
          "text": [
            "Validation: 100%|██████████| 6/6 [00:00<00:00, 15.03it/s]\n"
          ]
        },
        {
          "output_type": "stream",
          "name": "stdout",
          "text": [
            "Validation Loss: 0.3818, Accuracy: 90.12%, Precision: 0.9151, Recall: 0.9012, F1-Score: 0.9026\n",
            "Epoch 100/100\n"
          ]
        },
        {
          "output_type": "stream",
          "name": "stderr",
          "text": [
            "Training: 100%|██████████| 38/38 [00:07<00:00,  5.20it/s]\n"
          ]
        },
        {
          "output_type": "stream",
          "name": "stdout",
          "text": [
            "Training Loss: 0.0042, Accuracy: 99.67%, Precision: 0.9967, Recall: 0.9967, F1-Score: 0.9967\n"
          ]
        },
        {
          "output_type": "stream",
          "name": "stderr",
          "text": [
            "Validation: 100%|██████████| 6/6 [00:00<00:00, 14.68it/s]\n"
          ]
        },
        {
          "output_type": "stream",
          "name": "stdout",
          "text": [
            "Validation Loss: 0.3812, Accuracy: 90.12%, Precision: 0.9213, Recall: 0.9012, F1-Score: 0.9042\n",
            "Total Training + Validation Time: 797.90 seconds\n"
          ]
        }
      ]
    },
    {
      "cell_type": "code",
      "source": [
        "# Plot training and validation loss\n",
        "plt.figure(figsize=(10, 5))\n",
        "plt.plot(train_losses, label='Training Loss')\n",
        "plt.plot(valid_losses, label='Validation Loss')\n",
        "plt.xlabel('Epoch')\n",
        "plt.ylabel('Loss')\n",
        "plt.legend()\n",
        "plt.title('Training and Validation Loss')\n",
        "plt.show()"
      ],
      "metadata": {
        "colab": {
          "base_uri": "https://localhost:8080/",
          "height": 366
        },
        "id": "SDrW3G8wOJkd",
        "outputId": "074c9cbd-b183-423c-ee65-33c964fe3bd4"
      },
      "id": "SDrW3G8wOJkd",
      "execution_count": null,
      "outputs": [
        {
          "output_type": "display_data",
          "data": {
            "text/plain": [
              "<Figure size 1000x500 with 1 Axes>"
            ],
            "image/png": "[encoded data removed]"
          },
          "metadata": {}
        }
      ]
    },
    {
      "cell_type": "code",
      "source": [
        "# Plot training and validation accuracy\n",
        "plt.figure(figsize=(10, 5))\n",
        "plt.plot(train_accuracies, label='Training Accuracy')\n",
        "plt.plot(valid_accuracies, label='Validation Accuracy')\n",
        "plt.xlabel('Epoch')\n",
        "plt.ylabel('Accuracy')\n",
        "plt.legend()\n",
        "plt.title('Training and Validation Accuracy')\n",
        "plt.show()"
      ],
      "metadata": {
        "colab": {
          "base_uri": "https://localhost:8080/",
          "height": 365
        },
        "id": "4f6mpgXsOZVx",
        "outputId": "6d0c96e6-31ca-4fe0-f10e-80f90fa13891"
      },
      "id": "4f6mpgXsOZVx",
      "execution_count": null,
      "outputs": [
        {
          "output_type": "display_data",
          "data": {
            "text/plain": [
              "<Figure size 1000x500 with 1 Axes>"
            ],
            "image/png": "[encoded data removed]"
          },
          "metadata": {}
        }
      ]
    },
    {
      "cell_type": "code",
      "source": [
        "\n",
        "# Hitung rata-rata metrik setelah semua epoch\n",
        "average_train_loss = np.mean(train_losses)\n",
        "average_valid_loss = np.mean(valid_losses)\n",
        "average_train_accuracy = np.mean(train_accuracies)\n",
        "average_valid_accuracy = np.mean(valid_accuracies)\n",
        "average_train_precision = np.mean(train_precisions) # Calculate mean from stored values\n",
        "average_valid_precision = np.mean(valid_precisions) # Calculate mean from stored values\n",
        "average_train_recall = np.mean(train_recalls)     # Calculate mean from stored values\n",
        "average_valid_recall = np.mean(valid_recalls)     # Calculate mean from stored values\n",
        "average_train_f1 = np.mean(train_f1s)           # Calculate mean from stored values\n",
        "average_valid_f1 = np.mean(valid_f1s)           # Calculate mean from stored values\n",
        "\n",
        "\n",
        "\n",
        "# Display results training\n",
        "print('--------------')\n",
        "print(f'Training Accuracy: {average_train_accuracy:.2f}%')\n",
        "print(f'Training Loss: {average_train_loss:.4f}')\n",
        "print(f'Training Precision: {average_train_precision:.4f}')\n",
        "print(f'Training Recall: {average_train_recall:.4f}')\n",
        "print(f'Training F1-Score: {average_train_f1:.4f}')\n",
        "\n",
        "\n",
        "# Display results validasi\n",
        "print('--------------')\n",
        "print(f'Validation Accuracy: {average_valid_accuracy:.2f}%')\n",
        "print(f'Validation Loss: {average_valid_loss:.4f}')\n",
        "print(f'Validation Precision: {average_valid_precision:.4f}')\n",
        "print(f'Validation Recall: {average_valid_recall:.4f}')\n",
        "print(f'Validation F1-Score: {average_valid_f1:.4f}')"
      ],
      "metadata": {
        "colab": {
          "base_uri": "https://localhost:8080/"
        },
        "id": "sHq9FmrkS6ND",
        "outputId": "bfdd696f-ae91-4ea3-8759-955925e66563"
      },
      "id": "sHq9FmrkS6ND",
      "execution_count": null,
      "outputs": [
        {
          "output_type": "stream",
          "name": "stdout",
          "text": [
            "--------------\n",
            "Training Accuracy: 95.36%\n",
            "Training Loss: 0.1089\n",
            "Training Precision: 0.9548\n",
            "Training Recall: 0.9536\n",
            "Training F1-Score: 0.9507\n",
            "--------------\n",
            "Validation Accuracy: 84.70%\n",
            "Validation Loss: 0.4403\n",
            "Validation Precision: 0.8891\n",
            "Validation Recall: 0.8470\n",
            "Validation F1-Score: 0.8415\n"
          ]
        }
      ]
    },
    {
      "cell_type": "code",
      "source": [
        "def debug_pruned_weights(model):\n",
        "    \"\"\"\n",
        "    Print out the number of filters and weights in each layer to ensure pruning is correctly applied.\n",
        "    \"\"\"\n",
        "    for name, module in model.named_modules():\n",
        "        if isinstance(module, nn.Conv2d):\n",
        "            print(f\"Layer: {name}, Weights Shape: {module.weight.shape}\")\n",
        "\n",
        "# Periksa model setelah pruning\n",
        "debug_pruned_weights(pruned_model)\n"
      ],
      "metadata": {
        "colab": {
          "base_uri": "https://localhost:8080/"
        },
        "id": "ba4EgMHcoRQL",
        "outputId": "bbf65b74-7461-43ab-a2ba-23410972f936"
      },
      "id": "ba4EgMHcoRQL",
      "execution_count": null,
      "outputs": [
        {
          "output_type": "stream",
          "name": "stdout",
          "text": [
            "Layer: features.0, Weights Shape: torch.Size([45, 3, 3, 3])\n",
            "Layer: features.2, Weights Shape: torch.Size([45, 45, 3, 3])\n",
            "Layer: features.5, Weights Shape: torch.Size([90, 45, 3, 3])\n",
            "Layer: features.7, Weights Shape: torch.Size([90, 90, 3, 3])\n",
            "Layer: features.10, Weights Shape: torch.Size([180, 90, 3, 3])\n",
            "Layer: features.12, Weights Shape: torch.Size([180, 180, 3, 3])\n",
            "Layer: features.14, Weights Shape: torch.Size([180, 180, 3, 3])\n",
            "Layer: features.17, Weights Shape: torch.Size([359, 180, 3, 3])\n",
            "Layer: features.19, Weights Shape: torch.Size([359, 359, 3, 3])\n",
            "Layer: features.21, Weights Shape: torch.Size([359, 359, 3, 3])\n",
            "Layer: features.24, Weights Shape: torch.Size([359, 359, 3, 3])\n",
            "Layer: features.26, Weights Shape: torch.Size([359, 359, 3, 3])\n",
            "Layer: features.28, Weights Shape: torch.Size([359, 359, 3, 3])\n"
          ]
        }
      ]
    },
    {
      "cell_type": "code",
      "source": [
        "# Test the model\n",
        "\n",
        "pruned_model.load_state_dict(torch.load('/content/drive/MyDrive/Best-pruning-model/fine_tuned_pruned_vgg-30.pth'))\n",
        "pruned_model.eval()\n",
        "\n",
        "# Start timer for testing\n",
        "start_test_time = time.time()\n",
        "\n",
        "test_loss = 0\n",
        "all_test_preds = []\n",
        "all_test_labels = []\n",
        "correct = 0\n",
        "total = 0\n",
        "with torch.no_grad():\n",
        "  for images, labels in tqdm(test_loader, desc='Testing'):\n",
        "    images, labels = images.to(device), labels.to(device)\n",
        "\n",
        "    # Convert grayscale images to 3 channels\n",
        "    if images.size(1) == 1:\n",
        "      images = images.repeat(1, 3, 1, 1)\n",
        "\n",
        "    outputs = pruned_model(images)\n",
        "    loss = criterion(outputs, labels)\n",
        "    test_loss += loss.item()\n",
        "\n",
        "    all_test_preds.append(outputs)\n",
        "    all_test_labels.append(labels)\n",
        "\n",
        "    _, predicted = torch.max(outputs.data, 1)\n",
        "    total += labels.size(0)\n",
        "    correct += (predicted == labels).sum().item()\n",
        "\n",
        "test_loss /= len(test_loader)\n",
        "test_accuracy, test_precision, test_recall, test_f1 = calculate_metrics(torch.cat(all_test_preds), torch.cat(all_test_labels))\n",
        "print(\"\\n---------------------------------------------------------------------------------------------\\n\")\n",
        "print(f\"Test Loss: {test_loss:.4f}, Accuracy: {test_accuracy:.2f}%, Precision: {test_precision:.4f}, Recall: {test_recall:.4f}, F1-Score: {test_f1:.4f}\")\n",
        "\n",
        "# End timer for testing and print the total time\n",
        "end_test_time = time.time()\n",
        "total_testing_time = end_test_time - start_test_time\n",
        "print(f\"Total Testing Time: {total_testing_time:.2f} seconds\")"
      ],
      "metadata": {
        "colab": {
          "base_uri": "https://localhost:8080/"
        },
        "id": "9MFAMesvra2O",
        "outputId": "6dcc4b2e-fe99-4355-fc6a-061cbccdfa59"
      },
      "id": "9MFAMesvra2O",
      "execution_count": null,
      "outputs": [
        {
          "output_type": "stream",
          "name": "stderr",
          "text": [
            "<ipython-input-27-915f0487c26a>:3: FutureWarning: You are using `torch.load` with `weights_only=False` (the current default value), which uses the default pickle module implicitly. It is possible to construct malicious pickle data which will execute arbitrary code during unpickling (See https://github.com/pytorch/pytorch/blob/main/SECURITY.md#untrusted-models for more details). In a future release, the default value for `weights_only` will be flipped to `True`. This limits the functions that could be executed during unpickling. Arbitrary objects will no longer be allowed to be loaded via this mode unless they are explicitly allowlisted by the user via `torch.serialization.add_safe_globals`. We recommend you start setting `weights_only=True` for any use case where you don't have full control of the loaded file. Please open an issue on GitHub for any issues related to this experimental feature.\n",
            "  pruned_model.load_state_dict(torch.load('/content/drive/MyDrive/Best-pruning-model/fine_tuned_pruned_vgg-30.pth'))\n",
            "Testing: 100%|██████████| 20/20 [00:01<00:00, 10.27it/s]"
          ]
        },
        {
          "output_type": "stream",
          "name": "stdout",
          "text": [
            "\n",
            "---------------------------------------------------------------------------------------------\n",
            "\n",
            "Test Loss: 1.2648, Accuracy: 72.38%, Precision: 0.7746, Recall: 0.7238, F1-Score: 0.7071\n",
            "Total Testing Time: 1.97 seconds\n"
          ]
        },
        {
          "output_type": "stream",
          "name": "stderr",
          "text": [
            "\n"
          ]
        }
      ]
    },
    {
      "cell_type": "code",
      "source": [
        "# Path dinamis untuk memuat model terbaik\n",
        "#best_model_file = '/content/drive/MyDrive/Chest-CT-Data/best-model-vgg-clahe-0,001.pth' if IN_COLAB else 'best-model.pth'\n",
        "# Start testing time\n",
        "testing_start_time = time.time()\n",
        "\n",
        "# Load the best model\n",
        "pruned_model.load_state_dict(torch.load('/content/drive/MyDrive/Best-pruning-model/fine_tuned_pruned_vgg-30.pth'))\n",
        "pruned_model.eval()\n",
        "\n",
        "# Define class labels corresponding to the numerical labels\n",
        "class_labels = [\n",
        "    'Adenocarcinoma',\n",
        "    'Large Cell Carcinoma',\n",
        "    'Normal',\n",
        "    'Squamous Cell Carcinoma'\n",
        "]\n",
        "\n",
        "predicted_probabilities = []\n",
        "true_labels = []\n",
        "\n",
        "test_loader_tqdm = tqdm(test_loader, desc=\"Testing\")\n",
        "with torch.no_grad():\n",
        "    for images, labels in test_loader_tqdm:\n",
        "        images, labels = images.to(device), labels.to(device)\n",
        "        if images.dim() == 3:\n",
        "            images = images.unsqueeze(1)\n",
        "        images = images.repeat(1, 3, 1, 1)\n",
        "        outputs = pruned_model(images)\n",
        "        loss = criterion(outputs, labels)\n",
        "        probabilities = nn.functional.softmax(outputs, dim=1)\n",
        "        predicted_probabilities.append(probabilities)\n",
        "        true_labels.append(labels)\n",
        "        #test_loader_tqdm.set_postfix({\"Batch Size\": len(labels)})\n",
        "\n",
        "# End testing time\n",
        "total_testing_time = time.time() - testing_start_time\n",
        "print(f\"Total testing time: {total_testing_time:.2f} seconds\")\n",
        "\n",
        "# Calculate evaluation metrics\n",
        "predicted_probabilities = torch.cat(predicted_probabilities)\n",
        "true_labels = torch.cat(true_labels)\n",
        "predicted_labels = torch.argmax(predicted_probabilities, dim=1)\n",
        "\n",
        "accuracy = (predicted_labels == true_labels).float().mean().item()\n",
        "precision = precision_score(true_labels.cpu(), predicted_labels.cpu(), average='weighted')\n",
        "recall = recall_score(true_labels.cpu(), predicted_labels.cpu(), average='weighted')\n",
        "f1 = f1_score(true_labels.cpu(), predicted_labels.cpu(), average='weighted')\n",
        "conf_matrix = confusion_matrix(true_labels.cpu(), predicted_labels.cpu())\n",
        "\n",
        "# Display results\n",
        "print(f'Test Accuracy: {accuracy * 100:.2f}%')\n",
        "print(f'Test Loss: {loss:.4f}')\n",
        "print(f'Precision: {precision:.4f}')\n",
        "print(f'Recall: {recall:.4f}')\n",
        "print(f'F1-Score: {f1:.4f}')\n",
        "print(f'Confusion Matrix:\\n{conf_matrix}')\n",
        "\n",
        "# Plot confusion matrix using Matplotlib\n",
        "fig, ax = plt.subplots(figsize=(12, 9))\n",
        "cax = ax.matshow(conf_matrix, cmap='Blues')\n",
        "\n",
        "# Menampilkan angka pada setiap sel dengan outline putih\n",
        "for (i, j), val in np.ndenumerate(conf_matrix):\n",
        "    text = ax.text(j, i, f'{val}', ha='center', va='center', color='black', fontsize=20, fontweight='bold')\n",
        "\n",
        "    # Menambahkan outline putih di sekitar angka\n",
        "    text.set_path_effects([path_effects.Stroke(linewidth=3, foreground='white'),\n",
        "                           path_effects.Normal()])\n",
        "\n",
        "fig.colorbar(cax)\n",
        "\n",
        "# Set ticks dan ticklabels\n",
        "ax.set_xticks(np.arange(len(class_labels)))\n",
        "ax.set_yticks(np.arange(len(class_labels)))\n",
        "ax.set_xticklabels(class_labels)\n",
        "ax.set_yticklabels(class_labels)\n",
        "\n",
        "plt.xlabel('Predicted Labels')\n",
        "plt.ylabel('True Labels')\n",
        "plt.title('Confusion Matrix')\n",
        "plt.show()\n",
        "\n",
        "\n",
        "# Total time for the whole process\n",
        "#total_process_time = total_training_time + total_testing_time\n",
        "#print(f\"Total process time (training + testing): {total_process_time:.2f} seconds\")\n"
      ],
      "metadata": {
        "colab": {
          "base_uri": "https://localhost:8080/",
          "height": 757
        },
        "id": "d9KfmHEkF6dZ",
        "outputId": "95517ac5-b520-46c8-ca79-6e1fb0167672"
      },
      "id": "d9KfmHEkF6dZ",
      "execution_count": null,
      "outputs": [
        {
          "output_type": "stream",
          "name": "stderr",
          "text": [
            "<ipython-input-28-ea43aeaade56>:7: FutureWarning: You are using `torch.load` with `weights_only=False` (the current default value), which uses the default pickle module implicitly. It is possible to construct malicious pickle data which will execute arbitrary code during unpickling (See https://github.com/pytorch/pytorch/blob/main/SECURITY.md#untrusted-models for more details). In a future release, the default value for `weights_only` will be flipped to `True`. This limits the functions that could be executed during unpickling. Arbitrary objects will no longer be allowed to be loaded via this mode unless they are explicitly allowlisted by the user via `torch.serialization.add_safe_globals`. We recommend you start setting `weights_only=True` for any use case where you don't have full control of the loaded file. Please open an issue on GitHub for any issues related to this experimental feature.\n",
            "  pruned_model.load_state_dict(torch.load('/content/drive/MyDrive/Best-pruning-model/fine_tuned_pruned_vgg-30.pth'))\n",
            "Testing: 100%|██████████| 20/20 [00:01<00:00, 15.98it/s]\n"
          ]
        },
        {
          "output_type": "stream",
          "name": "stdout",
          "text": [
            "Total testing time: 1.44 seconds\n",
            "Test Accuracy: 72.38%\n",
            "Test Loss: 3.2385\n",
            "Precision: 0.7746\n",
            "Recall: 0.7238\n",
            "F1-Score: 0.7071\n",
            "Confusion Matrix:\n",
            "[[98 18  1  3]\n",
            " [ 5 46  0  0]\n",
            " [ 3  0 51  0]\n",
            " [36 18  3 33]]\n"
          ]
        },
        {
          "output_type": "display_data",
          "data": {
            "text/plain": [
              "<Figure size 1200x900 with 2 Axes>"
            ],
            "image/png": "[encoded data removed]"
          },
          "metadata": {}
        }
      ]
    },
    {
      "cell_type": "markdown",
      "source": [
        "![image.png](data:image/png;base64,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)"
      ],
      "metadata": {
        "id": "nIr8MJMguDC0"
      },
      "id": "nIr8MJMguDC0"
    },
    {
      "cell_type": "code",
      "source": [],
      "metadata": {
        "id": "1Tict8TKDIS2"
      },
      "id": "1Tict8TKDIS2",
      "execution_count": null,
      "outputs": []
    }
  ],
  "metadata": {
    "accelerator": "GPU",
    "colab": {
      "gpuType": "T4",
      "provenance": []
    },
    "kernelspec": {
      "display_name": "Python 3",
      "name": "python3"
    },
    "language_info": {
      "codemirror_mode": {
        "name": "ipython",
        "version": 3
      },
      "file_extension": ".py",
      "mimetype": "text/x-python",
      "name": "python",
      "nbconvert_exporter": "python",
      "pygments_lexer": "ipython3",
      "version": "3.9.13"
    }
  },
  "nbformat": 4,
  "nbformat_minor": 5
}
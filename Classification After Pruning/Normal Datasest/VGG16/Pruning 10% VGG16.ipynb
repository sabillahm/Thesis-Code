{
  "cells": [
    {
      "cell_type": "markdown",
      "id": "4d2e2710",
      "metadata": {
        "id": "4d2e2710"
      },
      "source": [
        "ini hanya 4 kali iterasi"
      ]
    },
    {
      "cell_type": "markdown",
      "id": "30536ba6-e5ef-4e4a-8334-fdc16153a88b",
      "metadata": {
        "id": "30536ba6-e5ef-4e4a-8334-fdc16153a88b"
      },
      "source": [
        "# Cell 1: Import Libraries and Setup Device\n",
        "\"\"\"\n",
        "This cell imports all the necessary libraries and sets up the device for GPU computation if available.\n",
        "We are using PyTorch for deep learning, OpenCV for image processing, and Matplotlib/Seaborn for visualization.\n",
        "\"\"\""
      ]
    },
    {
      "cell_type": "code",
      "execution_count": null,
      "id": "95a797c4-eac9-4297-ab3a-d604f3c97bb0",
      "metadata": {
        "colab": {
          "base_uri": "https://localhost:8080/"
        },
        "id": "95a797c4-eac9-4297-ab3a-d604f3c97bb0",
        "outputId": "03b37cd7-6ab9-4aeb-985b-13f5b7c686b3"
      },
      "outputs": [
        {
          "output_type": "stream",
          "name": "stdout",
          "text": [
            "Using device: cuda\n",
            "Mounted at /content/drive\n"
          ]
        }
      ],
      "source": [
        "import torch\n",
        "import torch.nn as nn\n",
        "import torch.optim as optim\n",
        "from torch.utils.data import DataLoader, Dataset\n",
        "from torchvision import models, transforms\n",
        "import cv2\n",
        "from torchvision.transforms import v2\n",
        "import matplotlib.pyplot as plt\n",
        "import matplotlib.patheffects as path_effects\n",
        "from tqdm import tqdm\n",
        "import os\n",
        "import numpy as np\n",
        "import time\n",
        "from sklearn.metrics import precision_score, recall_score, f1_score, confusion_matrix\n",
        "import seaborn as sns\n",
        "\n",
        "# Cek apakah kode dijalankan di Google Colab\n",
        "IN_COLAB = 'google.colab' in str(get_ipython())\n",
        "\n",
        "# Cek apakah GPU tersedia, jika tidak gunakan CPU\n",
        "device = torch.device('cuda' if torch.cuda.is_available() else 'cpu')\n",
        "print(f'Using device: {device}')\n",
        "\n",
        "# Mount Google Drive jika menggunakan Google Colab\n",
        "if IN_COLAB:\n",
        "    from google.colab import drive\n",
        "    drive.mount('/content/drive')\n"
      ]
    },
    {
      "cell_type": "markdown",
      "id": "5ecb4d58-7a41-404e-921f-59c8133c02a4",
      "metadata": {
        "id": "5ecb4d58-7a41-404e-921f-59c8133c02a4"
      },
      "source": [
        "# Cell 2: Define Data Loading and Preprocessing Functions\n",
        "\"\"\"\n",
        "This cell contains functions to load and preprocess images from the dataset.\n",
        "The `load_data` function loads images from the specified directory and assigns labels based on the folder structure.\n",
        "The `preprocess_image` function applies CLAHE and unsharp masking to enhance image quality.\n",
        "The `CustomDataset` class integrates these functions and prepares the dataset for use in PyTorch.\n",
        "\"\"\""
      ]
    },
    {
      "cell_type": "code",
      "execution_count": null,
      "id": "cca994b4-b0e2-4faa-8519-5a473288e647",
      "metadata": {
        "id": "cca994b4-b0e2-4faa-8519-5a473288e647"
      },
      "outputs": [],
      "source": [
        "def load_data(dataset_path, subset):\n",
        "    images = []\n",
        "    labels = []\n",
        "\n",
        "    # Tentukan label sesuai dengan subset\n",
        "\n",
        "    label_names = ['adenocarcinoma', 'large.cell.carcinoma', 'normal', 'squamous.cell.carcinoma']\n",
        "\n",
        "\n",
        "\n",
        "    # Pemetaan nama label ke indeks\n",
        "    label_map = {name: idx for idx, name in enumerate(label_names)}\n",
        "\n",
        "    subset_path = os.path.join(dataset_path, subset)\n",
        "    for label_name in label_names:\n",
        "        image_dir = os.path.join(subset_path, label_name)\n",
        "        if not os.path.exists(image_dir):\n",
        "            raise FileNotFoundError(f\"Directory not found: {image_dir}\")\n",
        "        for file_name in os.listdir(image_dir):\n",
        "            if file_name.endswith('.png'):  # Cek jika file adalah gambar PNG\n",
        "                image_path = os.path.join(image_dir, file_name)\n",
        "                image = cv2.imread(image_path, cv2.IMREAD_GRAYSCALE)\n",
        "                if image is None:\n",
        "                    print(f\"Warning: Unable to load image {image_path}\")\n",
        "                    continue\n",
        "                images.append(image)\n",
        "                labels.append(label_map[label_name])\n",
        "                print(f\"Loaded image {image_path}\")\n",
        "    return images, labels\n",
        "\n",
        "def preprocess_image(image):\n",
        "    if image is None or image.size == 0:\n",
        "        raise ValueError(\"Empty image provided for preprocessing\")\n",
        "\n",
        "    # Terapkan CLAHE untuk meningkatkan kontras\n",
        "    #clahe = cv2.createCLAHE(clipLimit=2.0, tileGridSize=(8, 8))\n",
        "    clahe = cv2.createCLAHE(clipLimit=2.5, tileGridSize=(10, 10))\n",
        "\n",
        "    clahe_image = clahe.apply(image)\n",
        "\n",
        "    # Terapkan Gaussian Blur untuk menghaluskan gambar\n",
        "    #gaussian = cv2.GaussianBlur(image, (9, 9), 10.0)\n",
        "    # Terapkan Unsharp Masking untuk meningkatkan ketajaman gambar\n",
        "    #unsharp_image = cv2.addWeighted(clahe_image, 1.5, gaussian, -0.5, 0, clahe_image)\n",
        "    #unsharp_image = cv2.addWeighted(gaussian, 1.5, gaussian, -0.5, 0)\n",
        "\n",
        "    return clahe_image\n",
        "\n",
        "class CustomDataset(Dataset):\n",
        "    def __init__(self, images, labels, transform=None):\n",
        "        self.images = images\n",
        "        self.labels = labels\n",
        "        self.transform = transform\n",
        "\n",
        "    def __len__(self):\n",
        "        return len(self.images)\n",
        "\n",
        "    def __getitem__(self, idx):\n",
        "        image = self.images[idx]\n",
        "        label = self.labels[idx]\n",
        "        try:\n",
        "            # Proses gambar\n",
        "            image = preprocess_image(image)\n",
        "        except ValueError as e:\n",
        "            print(f\"Error preprocessing image at index {idx}: {e}\")\n",
        "            plt.imshow(image, cmap='gray')\n",
        "            plt.title(f\"Label: {label}\")\n",
        "            plt.show()\n",
        "            raise e\n",
        "        # Terapkan transformasi jika ada\n",
        "        if self.transform:\n",
        "            image = self.transform(image)\n",
        "        if image.dim() == 2:  # Pastikan gambar memiliki 3 dimensi\n",
        "            image = image.unsqueeze(0)\n",
        "        return image, label\n"
      ]
    },
    {
      "cell_type": "markdown",
      "id": "df44014e-ffbf-42f2-a213-c2f28a911926",
      "metadata": {
        "id": "df44014e-ffbf-42f2-a213-c2f28a911926"
      },
      "source": [
        "# Cell 3: Load and Transform Data\n",
        "\"\"\"\n",
        "This cell loads the data and applies the necessary transformations.\n",
        "The dataset is divided into training, validation, and test sets.\n",
        "Each image is transformed into a 224x224 size tensor suitable for input to the VGG-16 model.\n",
        "\"\"\""
      ]
    },
    {
      "cell_type": "code",
      "execution_count": null,
      "id": "mrStcymcr40g",
      "metadata": {
        "colab": {
          "base_uri": "https://localhost:8080/"
        },
        "id": "mrStcymcr40g",
        "outputId": "fedc6316-1609-484d-82b0-868dc7af6c1e"
      },
      "outputs": [
        {
          "output_type": "stream",
          "name": "stdout",
          "text": [
            "Loaded image /content/drive/MyDrive/Chest-CT-Data/train/adenocarcinoma/ad12.png\n",
            "Loaded image /content/drive/MyDrive/Chest-CT-Data/train/adenocarcinoma/000104 (10).png\n",
            "Loaded image /content/drive/MyDrive/Chest-CT-Data/train/adenocarcinoma/000118 (4).png\n",
            "Loaded image /content/drive/MyDrive/Chest-CT-Data/train/adenocarcinoma/ad21.png\n",
            "Loaded image /content/drive/MyDrive/Chest-CT-Data/train/adenocarcinoma/000107 (9).png\n",
            "Loaded image /content/drive/MyDrive/Chest-CT-Data/train/adenocarcinoma/000102 (7).png\n",
            "Loaded image /content/drive/MyDrive/Chest-CT-Data/train/adenocarcinoma/000097 (2).png\n",
            "Loaded image /content/drive/MyDrive/Chest-CT-Data/train/adenocarcinoma/000106 (10).png\n",
            "Loaded image /content/drive/MyDrive/Chest-CT-Data/train/adenocarcinoma/000101 (7).png\n",
            "Loaded image /content/drive/MyDrive/Chest-CT-Data/train/adenocarcinoma/000105 (4).png\n",
            "Loaded image /content/drive/MyDrive/Chest-CT-Data/train/adenocarcinoma/ad2.png\n",
            "Loaded image /content/drive/MyDrive/Chest-CT-Data/train/adenocarcinoma/000122.png\n",
            "Loaded image /content/drive/MyDrive/Chest-CT-Data/train/adenocarcinoma/000106 (4).png\n",
            "Loaded image /content/drive/MyDrive/Chest-CT-Data/train/adenocarcinoma/000102 (2).png\n",
            "Loaded image /content/drive/MyDrive/Chest-CT-Data/train/adenocarcinoma/000097 (10).png\n",
            "Loaded image /content/drive/MyDrive/Chest-CT-Data/train/adenocarcinoma/000121 (9).png\n",
            "Loaded image /content/drive/MyDrive/Chest-CT-Data/train/adenocarcinoma/000106 (8).png\n",
            "Loaded image /content/drive/MyDrive/Chest-CT-Data/train/adenocarcinoma/000095.png\n",
            "Loaded image /content/drive/MyDrive/Chest-CT-Data/train/adenocarcinoma/ad1.png\n",
            "Loaded image /content/drive/MyDrive/Chest-CT-Data/train/adenocarcinoma/ad9.png\n",
            "Loaded image /content/drive/MyDrive/Chest-CT-Data/train/adenocarcinoma/000100 (10).png\n",
            "Loaded image /content/drive/MyDrive/Chest-CT-Data/train/adenocarcinoma/ad18.png\n",
            "Loaded image /content/drive/MyDrive/Chest-CT-Data/train/adenocarcinoma/ad11.png\n",
            "Loaded image /content/drive/MyDrive/Chest-CT-Data/train/adenocarcinoma/000119 (10).png\n",
            "Loaded image /content/drive/MyDrive/Chest-CT-Data/train/adenocarcinoma/000118 (6).png\n",
            "Loaded image /content/drive/MyDrive/Chest-CT-Data/train/adenocarcinoma/000102.png\n",
            "Loaded image /content/drive/MyDrive/Chest-CT-Data/train/adenocarcinoma/ad19.png\n",
            "Loaded image /content/drive/MyDrive/Chest-CT-Data/train/adenocarcinoma/000050 (3).png\n",
            "Loaded image /content/drive/MyDrive/Chest-CT-Data/train/adenocarcinoma/000098 (8).png\n",
            "Loaded image /content/drive/MyDrive/Chest-CT-Data/train/adenocarcinoma/ad16.png\n",
            "Loaded image /content/drive/MyDrive/Chest-CT-Data/train/adenocarcinoma/000030 (4).png\n",
            "Loaded image /content/drive/MyDrive/Chest-CT-Data/train/adenocarcinoma/000119 (4).png\n",
            "Loaded image /content/drive/MyDrive/Chest-CT-Data/train/adenocarcinoma/ad10.png\n",
            "Loaded image /content/drive/MyDrive/Chest-CT-Data/train/adenocarcinoma/000097 (3).png\n",
            "Loaded image /content/drive/MyDrive/Chest-CT-Data/train/adenocarcinoma/ad14.png\n",
            "Loaded image /content/drive/MyDrive/Chest-CT-Data/train/adenocarcinoma/000105 (3).png\n",
            "Loaded image /content/drive/MyDrive/Chest-CT-Data/train/adenocarcinoma/ad17.png\n",
            "Loaded image /content/drive/MyDrive/Chest-CT-Data/train/adenocarcinoma/ad3.png\n",
            "Loaded image /content/drive/MyDrive/Chest-CT-Data/train/adenocarcinoma/ad13.png\n",
            "Loaded image /content/drive/MyDrive/Chest-CT-Data/train/adenocarcinoma/000096 (7).png\n",
            "Loaded image /content/drive/MyDrive/Chest-CT-Data/train/adenocarcinoma/ad7.png\n",
            "Loaded image /content/drive/MyDrive/Chest-CT-Data/train/adenocarcinoma/ad4.png\n",
            "Loaded image /content/drive/MyDrive/Chest-CT-Data/train/adenocarcinoma/000005 (3).png\n",
            "Loaded image /content/drive/MyDrive/Chest-CT-Data/train/adenocarcinoma/000098 (5).png\n",
            "Loaded image /content/drive/MyDrive/Chest-CT-Data/train/adenocarcinoma/ad22.png\n",
            "Loaded image /content/drive/MyDrive/Chest-CT-Data/train/adenocarcinoma/000058 (5).png\n",
            "Loaded image /content/drive/MyDrive/Chest-CT-Data/train/adenocarcinoma/000103 (9).png\n",
            "Loaded image /content/drive/MyDrive/Chest-CT-Data/train/adenocarcinoma/000087 (4).png\n",
            "Loaded image /content/drive/MyDrive/Chest-CT-Data/train/adenocarcinoma/ad6.png\n",
            "Loaded image /content/drive/MyDrive/Chest-CT-Data/train/adenocarcinoma/000095 (6).png\n",
            "Loaded image /content/drive/MyDrive/Chest-CT-Data/train/adenocarcinoma/000119 (6).png\n",
            "Loaded image /content/drive/MyDrive/Chest-CT-Data/train/adenocarcinoma/ad15.png\n",
            "Loaded image /content/drive/MyDrive/Chest-CT-Data/train/adenocarcinoma/000121 (10).png\n",
            "Loaded image /content/drive/MyDrive/Chest-CT-Data/train/adenocarcinoma/000021 (4).png\n",
            "Loaded image /content/drive/MyDrive/Chest-CT-Data/train/adenocarcinoma/000121.png\n",
            "Loaded image /content/drive/MyDrive/Chest-CT-Data/train/adenocarcinoma/000105.png\n",
            "Loaded image /content/drive/MyDrive/Chest-CT-Data/train/adenocarcinoma/000099 (7).png\n",
            "Loaded image /content/drive/MyDrive/Chest-CT-Data/train/adenocarcinoma/000040 (3).png\n",
            "Loaded image /content/drive/MyDrive/Chest-CT-Data/train/adenocarcinoma/000035 (4).png\n",
            "Loaded image /content/drive/MyDrive/Chest-CT-Data/train/adenocarcinoma/000034 (6).png\n",
            "Loaded image /content/drive/MyDrive/Chest-CT-Data/train/adenocarcinoma/000081 (2).png\n",
            "Loaded image /content/drive/MyDrive/Chest-CT-Data/train/adenocarcinoma/000015 (10).png\n",
            "Loaded image /content/drive/MyDrive/Chest-CT-Data/train/adenocarcinoma/000015 (9).png\n",
            "Loaded image /content/drive/MyDrive/Chest-CT-Data/train/adenocarcinoma/000029 (4).png\n",
            "Loaded image /content/drive/MyDrive/Chest-CT-Data/train/adenocarcinoma/000040 (5).png\n",
            "Loaded image /content/drive/MyDrive/Chest-CT-Data/train/adenocarcinoma/000092 (10).png\n",
            "Loaded image /content/drive/MyDrive/Chest-CT-Data/train/adenocarcinoma/000024 (10).png\n",
            "Loaded image /content/drive/MyDrive/Chest-CT-Data/train/adenocarcinoma/000022 (9).png\n",
            "Loaded image /content/drive/MyDrive/Chest-CT-Data/train/adenocarcinoma/000016 (9).png\n",
            "Loaded image /content/drive/MyDrive/Chest-CT-Data/train/adenocarcinoma/000104 (4).png\n",
            "Loaded image /content/drive/MyDrive/Chest-CT-Data/train/adenocarcinoma/000019 (5).png\n",
            "Loaded image /content/drive/MyDrive/Chest-CT-Data/train/adenocarcinoma/000022 (8).png\n",
            "Loaded image /content/drive/MyDrive/Chest-CT-Data/train/adenocarcinoma/ad5.png\n",
            "Loaded image /content/drive/MyDrive/Chest-CT-Data/train/adenocarcinoma/000024 (7).png\n",
            "Loaded image /content/drive/MyDrive/Chest-CT-Data/train/adenocarcinoma/000084 (3).png\n",
            "Loaded image /content/drive/MyDrive/Chest-CT-Data/train/adenocarcinoma/000024 (6).png\n",
            "Loaded image /content/drive/MyDrive/Chest-CT-Data/train/adenocarcinoma/000049 (5).png\n",
            "Loaded image /content/drive/MyDrive/Chest-CT-Data/train/adenocarcinoma/000093 (10).png\n",
            "Loaded image /content/drive/MyDrive/Chest-CT-Data/train/adenocarcinoma/000085 (10).png\n",
            "Loaded image /content/drive/MyDrive/Chest-CT-Data/train/adenocarcinoma/000048 (8).png\n",
            "Loaded image /content/drive/MyDrive/Chest-CT-Data/train/adenocarcinoma/000017 (8).png\n",
            "Loaded image /content/drive/MyDrive/Chest-CT-Data/train/adenocarcinoma/000084 (7).png\n",
            "Loaded image /content/drive/MyDrive/Chest-CT-Data/train/adenocarcinoma/000041 (4).png\n",
            "Loaded image /content/drive/MyDrive/Chest-CT-Data/train/adenocarcinoma/ad20.png\n",
            "Loaded image /content/drive/MyDrive/Chest-CT-Data/train/adenocarcinoma/000068 (9).png\n",
            "Loaded image /content/drive/MyDrive/Chest-CT-Data/train/adenocarcinoma/000102 (3).png\n",
            "Loaded image /content/drive/MyDrive/Chest-CT-Data/train/adenocarcinoma/000035 (6).png\n",
            "Loaded image /content/drive/MyDrive/Chest-CT-Data/train/adenocarcinoma/000066 (10).png\n",
            "Loaded image /content/drive/MyDrive/Chest-CT-Data/train/adenocarcinoma/000086 (8).png\n",
            "Loaded image /content/drive/MyDrive/Chest-CT-Data/train/adenocarcinoma/000029 (9).png\n",
            "Loaded image /content/drive/MyDrive/Chest-CT-Data/train/adenocarcinoma/000085 (4).png\n",
            "Loaded image /content/drive/MyDrive/Chest-CT-Data/train/adenocarcinoma/000051 (4).png\n",
            "Loaded image /content/drive/MyDrive/Chest-CT-Data/train/adenocarcinoma/000078 (6).png\n",
            "Loaded image /content/drive/MyDrive/Chest-CT-Data/train/adenocarcinoma/000089 (8).png\n",
            "Loaded image /content/drive/MyDrive/Chest-CT-Data/train/adenocarcinoma/000044 (9).png\n",
            "Loaded image /content/drive/MyDrive/Chest-CT-Data/train/adenocarcinoma/000026 (3).png\n",
            "Loaded image /content/drive/MyDrive/Chest-CT-Data/train/adenocarcinoma/000048.png\n",
            "Loaded image /content/drive/MyDrive/Chest-CT-Data/train/adenocarcinoma/000071 (3).png\n",
            "Loaded image /content/drive/MyDrive/Chest-CT-Data/train/adenocarcinoma/000054 (6).png\n",
            "Loaded image /content/drive/MyDrive/Chest-CT-Data/train/adenocarcinoma/000052 (10).png\n",
            "Loaded image /content/drive/MyDrive/Chest-CT-Data/train/adenocarcinoma/000087 (8).png\n",
            "Loaded image /content/drive/MyDrive/Chest-CT-Data/train/adenocarcinoma/000044 (10).png\n",
            "Loaded image /content/drive/MyDrive/Chest-CT-Data/train/adenocarcinoma/000013 (8).png\n",
            "Loaded image /content/drive/MyDrive/Chest-CT-Data/train/adenocarcinoma/000021 (8).png\n",
            "Loaded image /content/drive/MyDrive/Chest-CT-Data/train/adenocarcinoma/000055 (2).png\n",
            "Loaded image /content/drive/MyDrive/Chest-CT-Data/train/adenocarcinoma/000063 (3).png\n",
            "Loaded image /content/drive/MyDrive/Chest-CT-Data/train/adenocarcinoma/000023 (5).png\n",
            "Loaded image /content/drive/MyDrive/Chest-CT-Data/train/adenocarcinoma/000009 (7).png\n",
            "Loaded image /content/drive/MyDrive/Chest-CT-Data/train/adenocarcinoma/000023 (10).png\n",
            "Loaded image /content/drive/MyDrive/Chest-CT-Data/train/adenocarcinoma/ad8.png\n",
            "Loaded image /content/drive/MyDrive/Chest-CT-Data/train/adenocarcinoma/000050 (7).png\n",
            "Loaded image /content/drive/MyDrive/Chest-CT-Data/train/adenocarcinoma/000079 (6).png\n",
            "Loaded image /content/drive/MyDrive/Chest-CT-Data/train/adenocarcinoma/000068 (3).png\n",
            "Loaded image /content/drive/MyDrive/Chest-CT-Data/train/adenocarcinoma/000063 (5).png\n",
            "Loaded image /content/drive/MyDrive/Chest-CT-Data/train/adenocarcinoma/000022 (2).png\n",
            "Loaded image /content/drive/MyDrive/Chest-CT-Data/train/adenocarcinoma/000061.png\n",
            "Loaded image /content/drive/MyDrive/Chest-CT-Data/train/adenocarcinoma/000017 (6).png\n",
            "Loaded image /content/drive/MyDrive/Chest-CT-Data/train/adenocarcinoma/000065 (9).png\n",
            "Loaded image /content/drive/MyDrive/Chest-CT-Data/train/adenocarcinoma/000069 (6).png\n",
            "Loaded image /content/drive/MyDrive/Chest-CT-Data/train/adenocarcinoma/000033 (9).png\n",
            "Loaded image /content/drive/MyDrive/Chest-CT-Data/train/adenocarcinoma/000027 (4).png\n",
            "Loaded image /content/drive/MyDrive/Chest-CT-Data/train/adenocarcinoma/000086 (3).png\n",
            "Loaded image /content/drive/MyDrive/Chest-CT-Data/train/adenocarcinoma/000042 (10).png\n",
            "Loaded image /content/drive/MyDrive/Chest-CT-Data/train/adenocarcinoma/000051 (3).png\n",
            "Loaded image /content/drive/MyDrive/Chest-CT-Data/train/adenocarcinoma/000040 (10).png\n",
            "Loaded image /content/drive/MyDrive/Chest-CT-Data/train/adenocarcinoma/000015 (4).png\n",
            "Loaded image /content/drive/MyDrive/Chest-CT-Data/train/adenocarcinoma/000024.png\n",
            "Loaded image /content/drive/MyDrive/Chest-CT-Data/train/adenocarcinoma/000049 (9).png\n",
            "Loaded image /content/drive/MyDrive/Chest-CT-Data/train/adenocarcinoma/000083 (3).png\n",
            "Loaded image /content/drive/MyDrive/Chest-CT-Data/train/adenocarcinoma/000005 (9).png\n",
            "Loaded image /content/drive/MyDrive/Chest-CT-Data/train/adenocarcinoma/000023 (7).png\n",
            "Loaded image /content/drive/MyDrive/Chest-CT-Data/train/adenocarcinoma/000057 (2).png\n",
            "Loaded image /content/drive/MyDrive/Chest-CT-Data/train/adenocarcinoma/000075 (5).png\n",
            "Loaded image /content/drive/MyDrive/Chest-CT-Data/train/adenocarcinoma/000084 (2).png\n",
            "Loaded image /content/drive/MyDrive/Chest-CT-Data/train/adenocarcinoma/000080 (6).png\n",
            "Loaded image /content/drive/MyDrive/Chest-CT-Data/train/adenocarcinoma/000054 (7).png\n",
            "Loaded image /content/drive/MyDrive/Chest-CT-Data/train/adenocarcinoma/000023 (9).png\n",
            "Loaded image /content/drive/MyDrive/Chest-CT-Data/train/adenocarcinoma/000077 (6).png\n",
            "Loaded image /content/drive/MyDrive/Chest-CT-Data/train/adenocarcinoma/000035 (8).png\n",
            "Loaded image /content/drive/MyDrive/Chest-CT-Data/train/adenocarcinoma/000054 (5).png\n",
            "Loaded image /content/drive/MyDrive/Chest-CT-Data/train/adenocarcinoma/000020 (5).png\n",
            "Loaded image /content/drive/MyDrive/Chest-CT-Data/train/adenocarcinoma/000091.png\n",
            "Loaded image /content/drive/MyDrive/Chest-CT-Data/train/adenocarcinoma/000077 (9).png\n",
            "Loaded image /content/drive/MyDrive/Chest-CT-Data/train/adenocarcinoma/000054.png\n",
            "Loaded image /content/drive/MyDrive/Chest-CT-Data/train/adenocarcinoma/000119 (5).png\n",
            "Loaded image /content/drive/MyDrive/Chest-CT-Data/train/adenocarcinoma/000063 (7).png\n",
            "Loaded image /content/drive/MyDrive/Chest-CT-Data/train/adenocarcinoma/000021 (3).png\n",
            "Loaded image /content/drive/MyDrive/Chest-CT-Data/train/adenocarcinoma/000091 (7).png\n",
            "Loaded image /content/drive/MyDrive/Chest-CT-Data/train/adenocarcinoma/000090 (2).png\n",
            "Loaded image /content/drive/MyDrive/Chest-CT-Data/train/adenocarcinoma/000041 (8).png\n",
            "Loaded image /content/drive/MyDrive/Chest-CT-Data/train/adenocarcinoma/000041 (2).png\n",
            "Loaded image /content/drive/MyDrive/Chest-CT-Data/train/adenocarcinoma/000085 (7).png\n",
            "Loaded image /content/drive/MyDrive/Chest-CT-Data/train/adenocarcinoma/000032 (8).png\n",
            "Loaded image /content/drive/MyDrive/Chest-CT-Data/train/adenocarcinoma/000035 (5).png\n",
            "Loaded image /content/drive/MyDrive/Chest-CT-Data/train/adenocarcinoma/000067.png\n",
            "Loaded image /content/drive/MyDrive/Chest-CT-Data/train/adenocarcinoma/000091 (3).png\n",
            "Loaded image /content/drive/MyDrive/Chest-CT-Data/train/adenocarcinoma/000057.png\n",
            "Loaded image /content/drive/MyDrive/Chest-CT-Data/train/adenocarcinoma/000068 (10).png\n",
            "Loaded image /content/drive/MyDrive/Chest-CT-Data/train/adenocarcinoma/000009 (3).png\n",
            "Loaded image /content/drive/MyDrive/Chest-CT-Data/train/adenocarcinoma/000014 (7).png\n",
            "Loaded image /content/drive/MyDrive/Chest-CT-Data/train/adenocarcinoma/000084.png\n",
            "Loaded image /content/drive/MyDrive/Chest-CT-Data/train/adenocarcinoma/000031 (3).png\n",
            "Loaded image /content/drive/MyDrive/Chest-CT-Data/train/adenocarcinoma/000029 (5).png\n",
            "Loaded image /content/drive/MyDrive/Chest-CT-Data/train/adenocarcinoma/000036 (7).png\n",
            "Loaded image /content/drive/MyDrive/Chest-CT-Data/train/adenocarcinoma/000080 (10).png\n",
            "Loaded image /content/drive/MyDrive/Chest-CT-Data/train/adenocarcinoma/000021 (6).png\n",
            "Loaded image /content/drive/MyDrive/Chest-CT-Data/train/adenocarcinoma/000093 (4).png\n",
            "Loaded image /content/drive/MyDrive/Chest-CT-Data/train/adenocarcinoma/000000 (6).png\n",
            "Loaded image /content/drive/MyDrive/Chest-CT-Data/train/adenocarcinoma/000065 (8).png\n",
            "Loaded image /content/drive/MyDrive/Chest-CT-Data/train/adenocarcinoma/000018 (5).png\n",
            "Loaded image /content/drive/MyDrive/Chest-CT-Data/train/adenocarcinoma/000072 (10).png\n",
            "Loaded image /content/drive/MyDrive/Chest-CT-Data/train/adenocarcinoma/000013 (4).png\n",
            "Loaded image /content/drive/MyDrive/Chest-CT-Data/train/adenocarcinoma/000093 (6).png\n",
            "Loaded image /content/drive/MyDrive/Chest-CT-Data/train/adenocarcinoma/000083 (6).png\n",
            "Loaded image /content/drive/MyDrive/Chest-CT-Data/train/adenocarcinoma/000025 (6).png\n",
            "Loaded image /content/drive/MyDrive/Chest-CT-Data/train/adenocarcinoma/000026 (10).png\n",
            "Loaded image /content/drive/MyDrive/Chest-CT-Data/train/adenocarcinoma/000074 (5).png\n",
            "Loaded image /content/drive/MyDrive/Chest-CT-Data/train/adenocarcinoma/000059 (7).png\n",
            "Loaded image /content/drive/MyDrive/Chest-CT-Data/train/adenocarcinoma/000020 (10).png\n",
            "Loaded image /content/drive/MyDrive/Chest-CT-Data/train/adenocarcinoma/000021 (5).png\n",
            "Loaded image /content/drive/MyDrive/Chest-CT-Data/train/adenocarcinoma/000066 (9).png\n",
            "Loaded image /content/drive/MyDrive/Chest-CT-Data/train/adenocarcinoma/000020 (6).png\n",
            "Loaded image /content/drive/MyDrive/Chest-CT-Data/train/adenocarcinoma/000046 (5).png\n",
            "Loaded image /content/drive/MyDrive/Chest-CT-Data/train/adenocarcinoma/000036 (6).png\n",
            "Loaded image /content/drive/MyDrive/Chest-CT-Data/train/adenocarcinoma/000050 (5).png\n",
            "Loaded image /content/drive/MyDrive/Chest-CT-Data/train/adenocarcinoma/000067 (10).png\n",
            "Loaded image /content/drive/MyDrive/Chest-CT-Data/train/adenocarcinoma/000022 (10).png\n",
            "Loaded image /content/drive/MyDrive/Chest-CT-Data/train/adenocarcinoma/000022.png\n",
            "Loaded image /content/drive/MyDrive/Chest-CT-Data/train/adenocarcinoma/000027 (6).png\n",
            "Loaded image /content/drive/MyDrive/Chest-CT-Data/train/adenocarcinoma/000056 (7).png\n",
            "Loaded image /content/drive/MyDrive/Chest-CT-Data/train/adenocarcinoma/000041 (7).png\n",
            "Loaded image /content/drive/MyDrive/Chest-CT-Data/train/adenocarcinoma/000008 (10).png\n",
            "Loaded image /content/drive/MyDrive/Chest-CT-Data/train/adenocarcinoma/000065 (3).png\n",
            "Loaded image /content/drive/MyDrive/Chest-CT-Data/train/adenocarcinoma/000058 (4).png\n",
            "Loaded image /content/drive/MyDrive/Chest-CT-Data/train/adenocarcinoma/000050 (8).png\n",
            "Loaded image /content/drive/MyDrive/Chest-CT-Data/train/large.cell.carcinoma/000031 (2).png\n",
            "Loaded image /content/drive/MyDrive/Chest-CT-Data/train/large.cell.carcinoma/000093 (4).png\n",
            "Loaded image /content/drive/MyDrive/Chest-CT-Data/train/large.cell.carcinoma/000084.png\n",
            "Loaded image /content/drive/MyDrive/Chest-CT-Data/train/large.cell.carcinoma/000056 (4).png\n",
            "Loaded image /content/drive/MyDrive/Chest-CT-Data/train/large.cell.carcinoma/000076 (4).png\n",
            "Loaded image /content/drive/MyDrive/Chest-CT-Data/train/large.cell.carcinoma/000033 (4).png\n",
            "Loaded image /content/drive/MyDrive/Chest-CT-Data/train/large.cell.carcinoma/000047 (2).png\n",
            "Loaded image /content/drive/MyDrive/Chest-CT-Data/train/large.cell.carcinoma/000137.png\n",
            "Loaded image /content/drive/MyDrive/Chest-CT-Data/train/large.cell.carcinoma/000031.png\n",
            "Loaded image /content/drive/MyDrive/Chest-CT-Data/train/large.cell.carcinoma/000040 (2).png\n",
            "Loaded image /content/drive/MyDrive/Chest-CT-Data/train/large.cell.carcinoma/000062 (3).png\n",
            "Loaded image /content/drive/MyDrive/Chest-CT-Data/train/large.cell.carcinoma/000016 (4).png\n",
            "Loaded image /content/drive/MyDrive/Chest-CT-Data/train/large.cell.carcinoma/000068.png\n",
            "Loaded image /content/drive/MyDrive/Chest-CT-Data/train/large.cell.carcinoma/000069.png\n",
            "Loaded image /content/drive/MyDrive/Chest-CT-Data/train/large.cell.carcinoma/000056 (3).png\n",
            "Loaded image /content/drive/MyDrive/Chest-CT-Data/train/large.cell.carcinoma/000057.png\n",
            "Loaded image /content/drive/MyDrive/Chest-CT-Data/train/large.cell.carcinoma/000059 (4).png\n",
            "Loaded image /content/drive/MyDrive/Chest-CT-Data/train/large.cell.carcinoma/000154.png\n",
            "Loaded image /content/drive/MyDrive/Chest-CT-Data/train/large.cell.carcinoma/000039 (4).png\n",
            "Loaded image /content/drive/MyDrive/Chest-CT-Data/train/large.cell.carcinoma/000019 (4).png\n",
            "Loaded image /content/drive/MyDrive/Chest-CT-Data/train/large.cell.carcinoma/000094 (2).png\n",
            "Loaded image /content/drive/MyDrive/Chest-CT-Data/train/large.cell.carcinoma/000003 (3).png\n",
            "Loaded image /content/drive/MyDrive/Chest-CT-Data/train/large.cell.carcinoma/000002.png\n",
            "Loaded image /content/drive/MyDrive/Chest-CT-Data/train/large.cell.carcinoma/l6.png\n",
            "Loaded image /content/drive/MyDrive/Chest-CT-Data/train/large.cell.carcinoma/000104 (2).png\n",
            "Loaded image /content/drive/MyDrive/Chest-CT-Data/train/large.cell.carcinoma/000062.png\n",
            "Loaded image /content/drive/MyDrive/Chest-CT-Data/train/large.cell.carcinoma/000042 (2).png\n",
            "Loaded image /content/drive/MyDrive/Chest-CT-Data/train/large.cell.carcinoma/000098 (3).png\n",
            "Loaded image /content/drive/MyDrive/Chest-CT-Data/train/large.cell.carcinoma/000032.png\n",
            "Loaded image /content/drive/MyDrive/Chest-CT-Data/train/large.cell.carcinoma/000027.png\n",
            "Loaded image /content/drive/MyDrive/Chest-CT-Data/train/large.cell.carcinoma/000062 (2).png\n",
            "Loaded image /content/drive/MyDrive/Chest-CT-Data/train/large.cell.carcinoma/000071 (2).png\n",
            "Loaded image /content/drive/MyDrive/Chest-CT-Data/train/large.cell.carcinoma/000057 (4).png\n",
            "Loaded image /content/drive/MyDrive/Chest-CT-Data/train/large.cell.carcinoma/000076 (3).png\n",
            "Loaded image /content/drive/MyDrive/Chest-CT-Data/train/large.cell.carcinoma/000095 (4).png\n",
            "Loaded image /content/drive/MyDrive/Chest-CT-Data/train/large.cell.carcinoma/000043 (2).png\n",
            "Loaded image /content/drive/MyDrive/Chest-CT-Data/train/large.cell.carcinoma/000023 (2).png\n",
            "Loaded image /content/drive/MyDrive/Chest-CT-Data/train/large.cell.carcinoma/000066 (2).png\n",
            "Loaded image /content/drive/MyDrive/Chest-CT-Data/train/large.cell.carcinoma/l4.png\n",
            "Loaded image /content/drive/MyDrive/Chest-CT-Data/train/large.cell.carcinoma/000089.png\n",
            "Loaded image /content/drive/MyDrive/Chest-CT-Data/train/large.cell.carcinoma/000015.png\n",
            "Loaded image /content/drive/MyDrive/Chest-CT-Data/train/large.cell.carcinoma/000063.png\n",
            "Loaded image /content/drive/MyDrive/Chest-CT-Data/train/large.cell.carcinoma/000041 (3).png\n",
            "Loaded image /content/drive/MyDrive/Chest-CT-Data/train/large.cell.carcinoma/000019 (3).png\n",
            "Loaded image /content/drive/MyDrive/Chest-CT-Data/train/large.cell.carcinoma/000060.png\n",
            "Loaded image /content/drive/MyDrive/Chest-CT-Data/train/large.cell.carcinoma/000105 (2).png\n",
            "Loaded image /content/drive/MyDrive/Chest-CT-Data/train/large.cell.carcinoma/000026 (2).png\n",
            "Loaded image /content/drive/MyDrive/Chest-CT-Data/train/large.cell.carcinoma/000058 (4).png\n",
            "Loaded image /content/drive/MyDrive/Chest-CT-Data/train/large.cell.carcinoma/000133.png\n",
            "Loaded image /content/drive/MyDrive/Chest-CT-Data/train/large.cell.carcinoma/000057 (3).png\n",
            "Loaded image /content/drive/MyDrive/Chest-CT-Data/train/large.cell.carcinoma/000063 (2).png\n",
            "Loaded image /content/drive/MyDrive/Chest-CT-Data/train/large.cell.carcinoma/000003 (4).png\n",
            "Loaded image /content/drive/MyDrive/Chest-CT-Data/train/large.cell.carcinoma/000020 (3).png\n",
            "Loaded image /content/drive/MyDrive/Chest-CT-Data/train/large.cell.carcinoma/000046.png\n",
            "Loaded image /content/drive/MyDrive/Chest-CT-Data/train/large.cell.carcinoma/000150.png\n",
            "Loaded image /content/drive/MyDrive/Chest-CT-Data/train/large.cell.carcinoma/000033 (3).png\n",
            "Loaded image /content/drive/MyDrive/Chest-CT-Data/train/large.cell.carcinoma/000055 (3).png\n",
            "Loaded image /content/drive/MyDrive/Chest-CT-Data/train/large.cell.carcinoma/000009 (3).png\n",
            "Loaded image /content/drive/MyDrive/Chest-CT-Data/train/large.cell.carcinoma/000143.png\n",
            "Loaded image /content/drive/MyDrive/Chest-CT-Data/train/large.cell.carcinoma/000097.png\n",
            "Loaded image /content/drive/MyDrive/Chest-CT-Data/train/large.cell.carcinoma/000072 (2).png\n",
            "Loaded image /content/drive/MyDrive/Chest-CT-Data/train/large.cell.carcinoma/000173.png\n",
            "Loaded image /content/drive/MyDrive/Chest-CT-Data/train/large.cell.carcinoma/l2.png\n",
            "Loaded image /content/drive/MyDrive/Chest-CT-Data/train/large.cell.carcinoma/000021.png\n",
            "Loaded image /content/drive/MyDrive/Chest-CT-Data/train/large.cell.carcinoma/000034 (2).png\n",
            "Loaded image /content/drive/MyDrive/Chest-CT-Data/train/large.cell.carcinoma/000051.png\n",
            "Loaded image /content/drive/MyDrive/Chest-CT-Data/train/large.cell.carcinoma/000039 (3).png\n",
            "Loaded image /content/drive/MyDrive/Chest-CT-Data/train/large.cell.carcinoma/000024 (2).png\n",
            "Loaded image /content/drive/MyDrive/Chest-CT-Data/train/large.cell.carcinoma/000017.png\n",
            "Loaded image /content/drive/MyDrive/Chest-CT-Data/train/large.cell.carcinoma/000010.png\n",
            "Loaded image /content/drive/MyDrive/Chest-CT-Data/train/large.cell.carcinoma/000059 (3).png\n",
            "Loaded image /content/drive/MyDrive/Chest-CT-Data/train/large.cell.carcinoma/l5.png\n",
            "Loaded image /content/drive/MyDrive/Chest-CT-Data/train/large.cell.carcinoma/000095 (3).png\n",
            "Loaded image /content/drive/MyDrive/Chest-CT-Data/train/large.cell.carcinoma/000098 (4).png\n",
            "Loaded image /content/drive/MyDrive/Chest-CT-Data/train/large.cell.carcinoma/di1.png\n",
            "Loaded image /content/drive/MyDrive/Chest-CT-Data/train/large.cell.carcinoma/000065 (2).png\n",
            "Loaded image /content/drive/MyDrive/Chest-CT-Data/train/large.cell.carcinoma/000104.png\n",
            "Loaded image /content/drive/MyDrive/Chest-CT-Data/train/large.cell.carcinoma/000055.png\n",
            "Loaded image /content/drive/MyDrive/Chest-CT-Data/train/large.cell.carcinoma/000055 (4).png\n",
            "Loaded image /content/drive/MyDrive/Chest-CT-Data/train/large.cell.carcinoma/000058 (3).png\n",
            "Loaded image /content/drive/MyDrive/Chest-CT-Data/train/large.cell.carcinoma/000027 (2).png\n",
            "Loaded image /content/drive/MyDrive/Chest-CT-Data/train/large.cell.carcinoma/000095.png\n",
            "Loaded image /content/drive/MyDrive/Chest-CT-Data/train/large.cell.carcinoma/000094 (4).png\n",
            "Loaded image /content/drive/MyDrive/Chest-CT-Data/train/large.cell.carcinoma/000066.png\n",
            "Loaded image /content/drive/MyDrive/Chest-CT-Data/train/large.cell.carcinoma/000026.png\n",
            "Loaded image /content/drive/MyDrive/Chest-CT-Data/train/large.cell.carcinoma/000041.png\n",
            "Loaded image /content/drive/MyDrive/Chest-CT-Data/train/large.cell.carcinoma/000018 (2).png\n",
            "Loaded image /content/drive/MyDrive/Chest-CT-Data/train/large.cell.carcinoma/000077.png\n",
            "Loaded image /content/drive/MyDrive/Chest-CT-Data/train/large.cell.carcinoma/000093 (3).png\n",
            "Loaded image /content/drive/MyDrive/Chest-CT-Data/train/large.cell.carcinoma/000172.png\n",
            "Loaded image /content/drive/MyDrive/Chest-CT-Data/train/large.cell.carcinoma/000081.png\n",
            "Loaded image /content/drive/MyDrive/Chest-CT-Data/train/large.cell.carcinoma/000097 (2).png\n",
            "Loaded image /content/drive/MyDrive/Chest-CT-Data/train/large.cell.carcinoma/000068 (3).png\n",
            "Loaded image /content/drive/MyDrive/Chest-CT-Data/train/large.cell.carcinoma/000045.png\n",
            "Loaded image /content/drive/MyDrive/Chest-CT-Data/train/large.cell.carcinoma/000080.png\n",
            "Loaded image /content/drive/MyDrive/Chest-CT-Data/train/large.cell.carcinoma/000078 (3).png\n",
            "Loaded image /content/drive/MyDrive/Chest-CT-Data/train/large.cell.carcinoma/000041 (4).png\n",
            "Loaded image /content/drive/MyDrive/Chest-CT-Data/train/large.cell.carcinoma/000105.png\n",
            "Loaded image /content/drive/MyDrive/Chest-CT-Data/train/large.cell.carcinoma/000073 (2).png\n",
            "Loaded image /content/drive/MyDrive/Chest-CT-Data/train/large.cell.carcinoma/000094 (3).png\n",
            "Loaded image /content/drive/MyDrive/Chest-CT-Data/train/large.cell.carcinoma/000149.png\n",
            "Loaded image /content/drive/MyDrive/Chest-CT-Data/train/large.cell.carcinoma/000084 (2).png\n",
            "Loaded image /content/drive/MyDrive/Chest-CT-Data/train/large.cell.carcinoma/000062 (4).png\n",
            "Loaded image /content/drive/MyDrive/Chest-CT-Data/train/large.cell.carcinoma/000159.png\n",
            "Loaded image /content/drive/MyDrive/Chest-CT-Data/train/large.cell.carcinoma/000106.png\n",
            "Loaded image /content/drive/MyDrive/Chest-CT-Data/train/large.cell.carcinoma/000068 (4).png\n",
            "Loaded image /content/drive/MyDrive/Chest-CT-Data/train/large.cell.carcinoma/000169.png\n",
            "Loaded image /content/drive/MyDrive/Chest-CT-Data/train/large.cell.carcinoma/000078 (4).png\n",
            "Loaded image /content/drive/MyDrive/Chest-CT-Data/train/large.cell.carcinoma/l3.png\n",
            "Loaded image /content/drive/MyDrive/Chest-CT-Data/train/large.cell.carcinoma/000009 (4).png\n",
            "Loaded image /content/drive/MyDrive/Chest-CT-Data/train/large.cell.carcinoma/000020 (4).png\n",
            "Loaded image /content/drive/MyDrive/Chest-CT-Data/train/large.cell.carcinoma/l1.png\n",
            "Loaded image /content/drive/MyDrive/Chest-CT-Data/train/large.cell.carcinoma/000016 (3).png\n",
            "Loaded image /content/drive/MyDrive/Chest-CT-Data/train/large.cell.carcinoma/000106 (2).png\n",
            "Loaded image /content/drive/MyDrive/Chest-CT-Data/train/large.cell.carcinoma/000095 (2).png\n",
            "Loaded image /content/drive/MyDrive/Chest-CT-Data/train/normal/8.png\n",
            "Loaded image /content/drive/MyDrive/Chest-CT-Data/train/normal/4 (2).png\n",
            "Loaded image /content/drive/MyDrive/Chest-CT-Data/train/normal/8 - Copy.png\n",
            "Loaded image /content/drive/MyDrive/Chest-CT-Data/train/normal/7 - Copy - Copy.png\n",
            "Loaded image /content/drive/MyDrive/Chest-CT-Data/train/normal/8 - Copy (2).png\n",
            "Loaded image /content/drive/MyDrive/Chest-CT-Data/train/normal/7.png\n",
            "Loaded image /content/drive/MyDrive/Chest-CT-Data/train/normal/n7 (2).png\n",
            "Loaded image /content/drive/MyDrive/Chest-CT-Data/train/normal/8 (2).png\n",
            "Loaded image /content/drive/MyDrive/Chest-CT-Data/train/normal/8 - Copy - Copy.png\n",
            "Loaded image /content/drive/MyDrive/Chest-CT-Data/train/normal/8 - Copy (3).png\n",
            "Loaded image /content/drive/MyDrive/Chest-CT-Data/train/normal/n7.png\n",
            "Loaded image /content/drive/MyDrive/Chest-CT-Data/train/normal/7 - Copy.png\n",
            "Loaded image /content/drive/MyDrive/Chest-CT-Data/train/normal/6 - Copy (2).png\n",
            "Loaded image /content/drive/MyDrive/Chest-CT-Data/train/normal/17 - Copy (2).png\n",
            "Loaded image /content/drive/MyDrive/Chest-CT-Data/train/normal/18 - Copy - Copy.png\n",
            "Loaded image /content/drive/MyDrive/Chest-CT-Data/train/normal/21 - Copy.png\n",
            "Loaded image /content/drive/MyDrive/Chest-CT-Data/train/normal/6 (2) - Copy.png\n",
            "Loaded image /content/drive/MyDrive/Chest-CT-Data/train/normal/16.png\n",
            "Loaded image /content/drive/MyDrive/Chest-CT-Data/train/normal/20 (2) - Copy.png\n",
            "Loaded image /content/drive/MyDrive/Chest-CT-Data/train/normal/19 - Copy (3).png\n",
            "Loaded image /content/drive/MyDrive/Chest-CT-Data/train/normal/19 - Copy - Copy.png\n",
            "Loaded image /content/drive/MyDrive/Chest-CT-Data/train/normal/3 - Copy (3).png\n",
            "Loaded image /content/drive/MyDrive/Chest-CT-Data/train/normal/16 - Copy - Copy.png\n",
            "Loaded image /content/drive/MyDrive/Chest-CT-Data/train/normal/5 - Copy (2).png\n",
            "Loaded image /content/drive/MyDrive/Chest-CT-Data/train/normal/6 - Copy (2) - Copy.png\n",
            "Loaded image /content/drive/MyDrive/Chest-CT-Data/train/normal/4.png\n",
            "Loaded image /content/drive/MyDrive/Chest-CT-Data/train/normal/8 - Copy (2) - Copy.png\n",
            "Loaded image /content/drive/MyDrive/Chest-CT-Data/train/normal/20 - Copy (3).png\n",
            "Loaded image /content/drive/MyDrive/Chest-CT-Data/train/normal/7 - Copy (2).png\n",
            "Loaded image /content/drive/MyDrive/Chest-CT-Data/train/normal/16 - Copy (3).png\n",
            "Loaded image /content/drive/MyDrive/Chest-CT-Data/train/normal/3 (2).png\n",
            "Loaded image /content/drive/MyDrive/Chest-CT-Data/train/normal/20.png\n",
            "Loaded image /content/drive/MyDrive/Chest-CT-Data/train/normal/2 - Copy (3).png\n",
            "Loaded image /content/drive/MyDrive/Chest-CT-Data/train/normal/17.png\n",
            "Loaded image /content/drive/MyDrive/Chest-CT-Data/train/normal/5 (2) - Copy.png\n",
            "Loaded image /content/drive/MyDrive/Chest-CT-Data/train/normal/n7 (2) - Copy.png\n",
            "Loaded image /content/drive/MyDrive/Chest-CT-Data/train/normal/16 - Copy (2) - Copy.png\n",
            "Loaded image /content/drive/MyDrive/Chest-CT-Data/train/normal/5 (2).png\n",
            "Loaded image /content/drive/MyDrive/Chest-CT-Data/train/normal/16 - Copy.png\n",
            "Loaded image /content/drive/MyDrive/Chest-CT-Data/train/normal/7 (2).png\n",
            "Loaded image /content/drive/MyDrive/Chest-CT-Data/train/normal/8 (2) - Copy.png\n",
            "Loaded image /content/drive/MyDrive/Chest-CT-Data/train/normal/19 - Copy (2).png\n",
            "Loaded image /content/drive/MyDrive/Chest-CT-Data/train/normal/3 (2) - Copy.png\n",
            "Loaded image /content/drive/MyDrive/Chest-CT-Data/train/normal/2.png\n",
            "Loaded image /content/drive/MyDrive/Chest-CT-Data/train/normal/3 - Copy (2).png\n",
            "Loaded image /content/drive/MyDrive/Chest-CT-Data/train/normal/16 (2).png\n",
            "Loaded image /content/drive/MyDrive/Chest-CT-Data/train/normal/18 (2).png\n",
            "Loaded image /content/drive/MyDrive/Chest-CT-Data/train/normal/3 - Copy.png\n",
            "Loaded image /content/drive/MyDrive/Chest-CT-Data/train/normal/3 - Copy (2) - Copy.png\n",
            "Loaded image /content/drive/MyDrive/Chest-CT-Data/train/normal/6 - Copy.png\n",
            "Loaded image /content/drive/MyDrive/Chest-CT-Data/train/normal/18 - Copy.png\n",
            "Loaded image /content/drive/MyDrive/Chest-CT-Data/train/normal/6.png\n",
            "Loaded image /content/drive/MyDrive/Chest-CT-Data/train/normal/18 - Copy (2) - Copy.png\n",
            "Loaded image /content/drive/MyDrive/Chest-CT-Data/train/normal/17 (2).png\n",
            "Loaded image /content/drive/MyDrive/Chest-CT-Data/train/normal/20 - Copy.png\n",
            "Loaded image /content/drive/MyDrive/Chest-CT-Data/train/normal/n7 - Copy.png\n",
            "Loaded image /content/drive/MyDrive/Chest-CT-Data/train/normal/16 - Copy (2).png\n",
            "Loaded image /content/drive/MyDrive/Chest-CT-Data/train/normal/20 - Copy - Copy.png\n",
            "Loaded image /content/drive/MyDrive/Chest-CT-Data/train/normal/4 - Copy (2).png\n",
            "Loaded image /content/drive/MyDrive/Chest-CT-Data/train/normal/21 - Copy (2).png\n",
            "Loaded image /content/drive/MyDrive/Chest-CT-Data/train/normal/7 (2) - Copy.png\n",
            "Loaded image /content/drive/MyDrive/Chest-CT-Data/train/normal/5 - Copy - Copy.png\n",
            "Loaded image /content/drive/MyDrive/Chest-CT-Data/train/normal/5 - Copy (2) - Copy.png\n",
            "Loaded image /content/drive/MyDrive/Chest-CT-Data/train/normal/11 - Copy.png\n",
            "Loaded image /content/drive/MyDrive/Chest-CT-Data/train/normal/16 (2) - Copy.png\n",
            "Loaded image /content/drive/MyDrive/Chest-CT-Data/train/normal/2 - Copy - Copy.png\n",
            "Loaded image /content/drive/MyDrive/Chest-CT-Data/train/normal/5.png\n",
            "Loaded image /content/drive/MyDrive/Chest-CT-Data/train/normal/19 - Copy.png\n",
            "Loaded image /content/drive/MyDrive/Chest-CT-Data/train/normal/21 - Copy - Copy.png\n",
            "Loaded image /content/drive/MyDrive/Chest-CT-Data/train/normal/20 (2).png\n",
            "Loaded image /content/drive/MyDrive/Chest-CT-Data/train/normal/2 - Copy (2) - Copy.png\n",
            "Loaded image /content/drive/MyDrive/Chest-CT-Data/train/normal/21 - Copy (2) - Copy.png\n",
            "Loaded image /content/drive/MyDrive/Chest-CT-Data/train/normal/3 - Copy - Copy.png\n",
            "Loaded image /content/drive/MyDrive/Chest-CT-Data/train/normal/12.png\n",
            "Loaded image /content/drive/MyDrive/Chest-CT-Data/train/normal/13 - Copy.png\n",
            "Loaded image /content/drive/MyDrive/Chest-CT-Data/train/normal/19 - Copy (2) - Copy.png\n",
            "Loaded image /content/drive/MyDrive/Chest-CT-Data/train/normal/7 - Copy (3).png\n",
            "Loaded image /content/drive/MyDrive/Chest-CT-Data/train/normal/17 - Copy (3).png\n",
            "Loaded image /content/drive/MyDrive/Chest-CT-Data/train/normal/18 - Copy (2).png\n",
            "Loaded image /content/drive/MyDrive/Chest-CT-Data/train/normal/11 - Copy - Copy.png\n",
            "Loaded image /content/drive/MyDrive/Chest-CT-Data/train/normal/4 - Copy.png\n",
            "Loaded image /content/drive/MyDrive/Chest-CT-Data/train/normal/19 (2) - Copy.png\n",
            "Loaded image /content/drive/MyDrive/Chest-CT-Data/train/normal/5 - Copy (3).png\n",
            "Loaded image /content/drive/MyDrive/Chest-CT-Data/train/normal/3.png\n",
            "Loaded image /content/drive/MyDrive/Chest-CT-Data/train/normal/19 (2).png\n",
            "Loaded image /content/drive/MyDrive/Chest-CT-Data/train/normal/20 - Copy (2).png\n",
            "Loaded image /content/drive/MyDrive/Chest-CT-Data/train/normal/6 - Copy (3).png\n",
            "Loaded image /content/drive/MyDrive/Chest-CT-Data/train/normal/5 - Copy.png\n",
            "Loaded image /content/drive/MyDrive/Chest-CT-Data/train/normal/6 - Copy - Copy.png\n",
            "Loaded image /content/drive/MyDrive/Chest-CT-Data/train/normal/4 - Copy (3).png\n",
            "Loaded image /content/drive/MyDrive/Chest-CT-Data/train/normal/17 - Copy (2) - Copy.png\n",
            "Loaded image /content/drive/MyDrive/Chest-CT-Data/train/normal/17 (2) - Copy.png\n",
            "Loaded image /content/drive/MyDrive/Chest-CT-Data/train/normal/4 - Copy (2) - Copy.png\n",
            "Loaded image /content/drive/MyDrive/Chest-CT-Data/train/normal/20 - Copy (2) - Copy.png\n",
            "Loaded image /content/drive/MyDrive/Chest-CT-Data/train/normal/18.png\n",
            "Loaded image /content/drive/MyDrive/Chest-CT-Data/train/normal/6 (2).png\n",
            "Loaded image /content/drive/MyDrive/Chest-CT-Data/train/normal/4 - Copy - Copy.png\n",
            "Loaded image /content/drive/MyDrive/Chest-CT-Data/train/normal/18 - Copy (3).png\n",
            "Loaded image /content/drive/MyDrive/Chest-CT-Data/train/normal/2 (2) - Copy.png\n",
            "Loaded image /content/drive/MyDrive/Chest-CT-Data/train/normal/10 - Copy - Copy.png\n",
            "Loaded image /content/drive/MyDrive/Chest-CT-Data/train/normal/13 (2).png\n",
            "Loaded image /content/drive/MyDrive/Chest-CT-Data/train/normal/12 (2).png\n",
            "Loaded image /content/drive/MyDrive/Chest-CT-Data/train/normal/13.png\n",
            "Loaded image /content/drive/MyDrive/Chest-CT-Data/train/normal/10 (2) - Copy.png\n",
            "Loaded image /content/drive/MyDrive/Chest-CT-Data/train/normal/12 (2) - Copy.png\n",
            "Loaded image /content/drive/MyDrive/Chest-CT-Data/train/normal/11 - Copy (3).png\n",
            "Loaded image /content/drive/MyDrive/Chest-CT-Data/train/normal/17 - Copy.png\n",
            "Loaded image /content/drive/MyDrive/Chest-CT-Data/train/normal/10 - Copy (2).png\n",
            "Loaded image /content/drive/MyDrive/Chest-CT-Data/train/normal/10 - Copy (3).png\n",
            "Loaded image /content/drive/MyDrive/Chest-CT-Data/train/normal/11 (2) - Copy.png\n",
            "Loaded image /content/drive/MyDrive/Chest-CT-Data/train/normal/2 (2).png\n",
            "Loaded image /content/drive/MyDrive/Chest-CT-Data/train/normal/17 - Copy - Copy.png\n",
            "Loaded image /content/drive/MyDrive/Chest-CT-Data/train/normal/12 - Copy (2).png\n",
            "Loaded image /content/drive/MyDrive/Chest-CT-Data/train/normal/10.png\n",
            "Loaded image /content/drive/MyDrive/Chest-CT-Data/train/normal/7 - Copy (2) - Copy.png\n",
            "Loaded image /content/drive/MyDrive/Chest-CT-Data/train/normal/13 (2) - Copy.png\n",
            "Loaded image /content/drive/MyDrive/Chest-CT-Data/train/normal/13 - Copy (2) - Copy.png\n",
            "Loaded image /content/drive/MyDrive/Chest-CT-Data/train/normal/19.png\n",
            "Loaded image /content/drive/MyDrive/Chest-CT-Data/train/normal/11.png\n",
            "Loaded image /content/drive/MyDrive/Chest-CT-Data/train/normal/12 - Copy.png\n",
            "Loaded image /content/drive/MyDrive/Chest-CT-Data/train/normal/10 (2).png\n",
            "Loaded image /content/drive/MyDrive/Chest-CT-Data/train/normal/12 - Copy (3).png\n",
            "Loaded image /content/drive/MyDrive/Chest-CT-Data/train/normal/11 - Copy (2).png\n",
            "Loaded image /content/drive/MyDrive/Chest-CT-Data/train/normal/13 - Copy (2).png\n",
            "Loaded image /content/drive/MyDrive/Chest-CT-Data/train/normal/10 - Copy.png\n",
            "Loaded image /content/drive/MyDrive/Chest-CT-Data/train/normal/13 - Copy - Copy.png\n",
            "Loaded image /content/drive/MyDrive/Chest-CT-Data/train/normal/12 - Copy - Copy.png\n",
            "Loaded image /content/drive/MyDrive/Chest-CT-Data/train/normal/12 - Copy (2) - Copy.png\n",
            "Loaded image /content/drive/MyDrive/Chest-CT-Data/train/normal/13 - Copy (3).png\n",
            "Loaded image /content/drive/MyDrive/Chest-CT-Data/train/normal/11 - Copy (2) - Copy.png\n",
            "Loaded image /content/drive/MyDrive/Chest-CT-Data/train/normal/2 - Copy.png\n",
            "Loaded image /content/drive/MyDrive/Chest-CT-Data/train/normal/10 - Copy (2) - Copy.png\n",
            "Loaded image /content/drive/MyDrive/Chest-CT-Data/train/normal/18 (2) - Copy.png\n",
            "Loaded image /content/drive/MyDrive/Chest-CT-Data/train/normal/2 - Copy (2).png\n",
            "Loaded image /content/drive/MyDrive/Chest-CT-Data/train/normal/4 (2) - Copy.png\n",
            "Loaded image /content/drive/MyDrive/Chest-CT-Data/train/normal/11 (2).png\n",
            "Loaded image /content/drive/MyDrive/Chest-CT-Data/train/squamous.cell.carcinoma/000084 (3).png\n",
            "Loaded image /content/drive/MyDrive/Chest-CT-Data/train/squamous.cell.carcinoma/sq3.png\n",
            "Loaded image /content/drive/MyDrive/Chest-CT-Data/train/squamous.cell.carcinoma/sq4.png\n",
            "Loaded image /content/drive/MyDrive/Chest-CT-Data/train/squamous.cell.carcinoma/000078 (5).png\n",
            "Loaded image /content/drive/MyDrive/Chest-CT-Data/train/squamous.cell.carcinoma/sq2.png\n",
            "Loaded image /content/drive/MyDrive/Chest-CT-Data/train/squamous.cell.carcinoma/sq1.png\n",
            "Loaded image /content/drive/MyDrive/Chest-CT-Data/train/squamous.cell.carcinoma/sq5.png\n",
            "Loaded image /content/drive/MyDrive/Chest-CT-Data/train/squamous.cell.carcinoma/000122 (3).png\n",
            "Loaded image /content/drive/MyDrive/Chest-CT-Data/train/squamous.cell.carcinoma/000053.png\n",
            "Loaded image /content/drive/MyDrive/Chest-CT-Data/train/squamous.cell.carcinoma/000013 (6).png\n",
            "Loaded image /content/drive/MyDrive/Chest-CT-Data/train/squamous.cell.carcinoma/000033.png\n",
            "Loaded image /content/drive/MyDrive/Chest-CT-Data/train/squamous.cell.carcinoma/000030 (7).png\n",
            "Loaded image /content/drive/MyDrive/Chest-CT-Data/train/squamous.cell.carcinoma/000077 (4).png\n",
            "Loaded image /content/drive/MyDrive/Chest-CT-Data/train/squamous.cell.carcinoma/000046 (6).png\n",
            "Loaded image /content/drive/MyDrive/Chest-CT-Data/train/squamous.cell.carcinoma/000093.png\n",
            "Loaded image /content/drive/MyDrive/Chest-CT-Data/train/squamous.cell.carcinoma/000015 (7).png\n",
            "Loaded image /content/drive/MyDrive/Chest-CT-Data/train/squamous.cell.carcinoma/000105 (7).png\n",
            "Loaded image /content/drive/MyDrive/Chest-CT-Data/train/squamous.cell.carcinoma/000004 (7).png\n",
            "Loaded image /content/drive/MyDrive/Chest-CT-Data/train/squamous.cell.carcinoma/sq6.png\n",
            "Loaded image /content/drive/MyDrive/Chest-CT-Data/train/squamous.cell.carcinoma/000062 (5).png\n",
            "Loaded image /content/drive/MyDrive/Chest-CT-Data/train/squamous.cell.carcinoma/000053 (6).png\n",
            "Loaded image /content/drive/MyDrive/Chest-CT-Data/train/squamous.cell.carcinoma/000028 (7).png\n",
            "Loaded image /content/drive/MyDrive/Chest-CT-Data/train/squamous.cell.carcinoma/000081 (6).png\n",
            "Loaded image /content/drive/MyDrive/Chest-CT-Data/train/squamous.cell.carcinoma/000067 (2).png\n",
            "Loaded image /content/drive/MyDrive/Chest-CT-Data/train/squamous.cell.carcinoma/000028 (4).png\n",
            "Loaded image /content/drive/MyDrive/Chest-CT-Data/train/squamous.cell.carcinoma/000024 (7).png\n",
            "Loaded image /content/drive/MyDrive/Chest-CT-Data/train/squamous.cell.carcinoma/000038 (5).png\n",
            "Loaded image /content/drive/MyDrive/Chest-CT-Data/train/squamous.cell.carcinoma/000057 (3).png\n",
            "Loaded image /content/drive/MyDrive/Chest-CT-Data/train/squamous.cell.carcinoma/000036 (4).png\n",
            "Loaded image /content/drive/MyDrive/Chest-CT-Data/train/squamous.cell.carcinoma/000024 (5).png\n",
            "Loaded image /content/drive/MyDrive/Chest-CT-Data/train/squamous.cell.carcinoma/000058 (7).png\n",
            "Loaded image /content/drive/MyDrive/Chest-CT-Data/train/squamous.cell.carcinoma/000067 (3).png\n",
            "Loaded image /content/drive/MyDrive/Chest-CT-Data/train/squamous.cell.carcinoma/000105 (5).png\n",
            "Loaded image /content/drive/MyDrive/Chest-CT-Data/train/squamous.cell.carcinoma/000052 (4).png\n",
            "Loaded image /content/drive/MyDrive/Chest-CT-Data/train/squamous.cell.carcinoma/000015 (5).png\n",
            "Loaded image /content/drive/MyDrive/Chest-CT-Data/train/squamous.cell.carcinoma/000032.png\n",
            "Loaded image /content/drive/MyDrive/Chest-CT-Data/train/squamous.cell.carcinoma/000099 (2).png\n",
            "Loaded image /content/drive/MyDrive/Chest-CT-Data/train/squamous.cell.carcinoma/000091 (5).png\n",
            "Loaded image /content/drive/MyDrive/Chest-CT-Data/train/squamous.cell.carcinoma/000028 (5).png\n",
            "Loaded image /content/drive/MyDrive/Chest-CT-Data/train/squamous.cell.carcinoma/000046 (7).png\n",
            "Loaded image /content/drive/MyDrive/Chest-CT-Data/train/squamous.cell.carcinoma/000078.png\n",
            "Loaded image /content/drive/MyDrive/Chest-CT-Data/train/squamous.cell.carcinoma/000030 (5).png\n",
            "Loaded image /content/drive/MyDrive/Chest-CT-Data/train/squamous.cell.carcinoma/000006.png\n",
            "Loaded image /content/drive/MyDrive/Chest-CT-Data/train/squamous.cell.carcinoma/000100 (4).png\n",
            "Loaded image /content/drive/MyDrive/Chest-CT-Data/train/squamous.cell.carcinoma/000029 (4).png\n",
            "Loaded image /content/drive/MyDrive/Chest-CT-Data/train/squamous.cell.carcinoma/000083 (7).png\n",
            "Loaded image /content/drive/MyDrive/Chest-CT-Data/train/squamous.cell.carcinoma/000091 (7).png\n",
            "Loaded image /content/drive/MyDrive/Chest-CT-Data/train/squamous.cell.carcinoma/000067 (7).png\n",
            "Loaded image /content/drive/MyDrive/Chest-CT-Data/train/squamous.cell.carcinoma/000065 (7).png\n",
            "Loaded image /content/drive/MyDrive/Chest-CT-Data/train/squamous.cell.carcinoma/000090 (6).png\n",
            "Loaded image /content/drive/MyDrive/Chest-CT-Data/train/squamous.cell.carcinoma/000017 (4).png\n",
            "Loaded image /content/drive/MyDrive/Chest-CT-Data/train/squamous.cell.carcinoma/000094.png\n",
            "Loaded image /content/drive/MyDrive/Chest-CT-Data/train/squamous.cell.carcinoma/000027 (2).png\n",
            "Loaded image /content/drive/MyDrive/Chest-CT-Data/train/squamous.cell.carcinoma/000007 (4).png\n",
            "Loaded image /content/drive/MyDrive/Chest-CT-Data/train/squamous.cell.carcinoma/000043 (3).png\n",
            "Loaded image /content/drive/MyDrive/Chest-CT-Data/train/squamous.cell.carcinoma/000069 (2).png\n",
            "Loaded image /content/drive/MyDrive/Chest-CT-Data/train/squamous.cell.carcinoma/000077 (5).png\n",
            "Loaded image /content/drive/MyDrive/Chest-CT-Data/train/squamous.cell.carcinoma/000066.png\n",
            "Loaded image /content/drive/MyDrive/Chest-CT-Data/train/squamous.cell.carcinoma/000055 (3).png\n",
            "Loaded image /content/drive/MyDrive/Chest-CT-Data/train/squamous.cell.carcinoma/000058 (5).png\n",
            "Loaded image /content/drive/MyDrive/Chest-CT-Data/train/squamous.cell.carcinoma/000067 (5).png\n",
            "Loaded image /content/drive/MyDrive/Chest-CT-Data/train/squamous.cell.carcinoma/000120 (4).png\n",
            "Loaded image /content/drive/MyDrive/Chest-CT-Data/train/squamous.cell.carcinoma/000096 (2).png\n",
            "Loaded image /content/drive/MyDrive/Chest-CT-Data/train/squamous.cell.carcinoma/000063 (6).png\n",
            "Loaded image /content/drive/MyDrive/Chest-CT-Data/train/squamous.cell.carcinoma/000121 (2).png\n",
            "Loaded image /content/drive/MyDrive/Chest-CT-Data/train/squamous.cell.carcinoma/000016 (3).png\n",
            "Loaded image /content/drive/MyDrive/Chest-CT-Data/train/squamous.cell.carcinoma/000079 (7).png\n",
            "Loaded image /content/drive/MyDrive/Chest-CT-Data/train/squamous.cell.carcinoma/000063.png\n",
            "Loaded image /content/drive/MyDrive/Chest-CT-Data/train/squamous.cell.carcinoma/000068 (4).png\n",
            "Loaded image /content/drive/MyDrive/Chest-CT-Data/train/squamous.cell.carcinoma/000079.png\n",
            "Loaded image /content/drive/MyDrive/Chest-CT-Data/train/squamous.cell.carcinoma/000038 (7).png\n",
            "Loaded image /content/drive/MyDrive/Chest-CT-Data/train/squamous.cell.carcinoma/000075.png\n",
            "Loaded image /content/drive/MyDrive/Chest-CT-Data/train/squamous.cell.carcinoma/000106 (7).png\n",
            "Loaded image /content/drive/MyDrive/Chest-CT-Data/train/squamous.cell.carcinoma/000030 (2).png\n",
            "Loaded image /content/drive/MyDrive/Chest-CT-Data/train/squamous.cell.carcinoma/000051 (3).png\n",
            "Loaded image /content/drive/MyDrive/Chest-CT-Data/train/squamous.cell.carcinoma/000081 (3).png\n",
            "Loaded image /content/drive/MyDrive/Chest-CT-Data/train/squamous.cell.carcinoma/000058 (3).png\n",
            "Loaded image /content/drive/MyDrive/Chest-CT-Data/train/squamous.cell.carcinoma/000050 (6).png\n",
            "Loaded image /content/drive/MyDrive/Chest-CT-Data/train/squamous.cell.carcinoma/000010 (6).png\n",
            "Loaded image /content/drive/MyDrive/Chest-CT-Data/train/squamous.cell.carcinoma/000088.png\n",
            "Loaded image /content/drive/MyDrive/Chest-CT-Data/train/squamous.cell.carcinoma/000106 (6).png\n",
            "Loaded image /content/drive/MyDrive/Chest-CT-Data/train/squamous.cell.carcinoma/000009 (2).png\n",
            "Loaded image /content/drive/MyDrive/Chest-CT-Data/train/squamous.cell.carcinoma/000037 (2).png\n",
            "Loaded image /content/drive/MyDrive/Chest-CT-Data/train/squamous.cell.carcinoma/000082 (4).png\n",
            "Loaded image /content/drive/MyDrive/Chest-CT-Data/train/squamous.cell.carcinoma/000008 (3).png\n",
            "Loaded image /content/drive/MyDrive/Chest-CT-Data/train/squamous.cell.carcinoma/000004 (4).png\n",
            "Loaded image /content/drive/MyDrive/Chest-CT-Data/train/squamous.cell.carcinoma/000048 (5).png\n",
            "Loaded image /content/drive/MyDrive/Chest-CT-Data/train/squamous.cell.carcinoma/000048 (7).png\n",
            "Loaded image /content/drive/MyDrive/Chest-CT-Data/train/squamous.cell.carcinoma/000083 (5).png\n",
            "Loaded image /content/drive/MyDrive/Chest-CT-Data/train/squamous.cell.carcinoma/000079 (5).png\n",
            "Loaded image /content/drive/MyDrive/Chest-CT-Data/train/squamous.cell.carcinoma/000106 (3).png\n",
            "Loaded image /content/drive/MyDrive/Chest-CT-Data/train/squamous.cell.carcinoma/000085.png\n",
            "Loaded image /content/drive/MyDrive/Chest-CT-Data/train/squamous.cell.carcinoma/000099 (3).png\n",
            "Loaded image /content/drive/MyDrive/Chest-CT-Data/train/squamous.cell.carcinoma/000106 (5).png\n",
            "Loaded image /content/drive/MyDrive/Chest-CT-Data/train/squamous.cell.carcinoma/000044 (2).png\n",
            "Loaded image /content/drive/MyDrive/Chest-CT-Data/train/squamous.cell.carcinoma/000078 (7).png\n",
            "Loaded image /content/drive/MyDrive/Chest-CT-Data/train/squamous.cell.carcinoma/000018 (6).png\n",
            "Loaded image /content/drive/MyDrive/Chest-CT-Data/train/squamous.cell.carcinoma/000046 (4).png\n",
            "Loaded image /content/drive/MyDrive/Chest-CT-Data/train/squamous.cell.carcinoma/000049 (3).png\n",
            "Loaded image /content/drive/MyDrive/Chest-CT-Data/train/squamous.cell.carcinoma/000082 (3).png\n",
            "Loaded image /content/drive/MyDrive/Chest-CT-Data/train/squamous.cell.carcinoma/000056 (5).png\n",
            "Loaded image /content/drive/MyDrive/Chest-CT-Data/train/squamous.cell.carcinoma/000056 (7).png\n",
            "Loaded image /content/drive/MyDrive/Chest-CT-Data/train/squamous.cell.carcinoma/000120 (2).png\n",
            "Loaded image /content/drive/MyDrive/Chest-CT-Data/train/squamous.cell.carcinoma/000063 (3).png\n",
            "Loaded image /content/drive/MyDrive/Chest-CT-Data/train/squamous.cell.carcinoma/000060 (2).png\n",
            "Loaded image /content/drive/MyDrive/Chest-CT-Data/train/squamous.cell.carcinoma/000004 (5).png\n",
            "Loaded image /content/drive/MyDrive/Chest-CT-Data/train/squamous.cell.carcinoma/000002 (6).png\n",
            "Loaded image /content/drive/MyDrive/Chest-CT-Data/train/squamous.cell.carcinoma/000054 (3).png\n",
            "Loaded image /content/drive/MyDrive/Chest-CT-Data/train/squamous.cell.carcinoma/000101 (3).png\n",
            "Loaded image /content/drive/MyDrive/Chest-CT-Data/train/squamous.cell.carcinoma/000074 (6).png\n",
            "Loaded image /content/drive/MyDrive/Chest-CT-Data/train/squamous.cell.carcinoma/000066 (2).png\n",
            "Loaded image /content/drive/MyDrive/Chest-CT-Data/train/squamous.cell.carcinoma/000038 (2).png\n",
            "Loaded image /content/drive/MyDrive/Chest-CT-Data/train/squamous.cell.carcinoma/000104.png\n",
            "Loaded image /content/drive/MyDrive/Chest-CT-Data/train/squamous.cell.carcinoma/000071 (3).png\n",
            "Loaded image /content/drive/MyDrive/Chest-CT-Data/train/squamous.cell.carcinoma/000074 (7).png\n",
            "Loaded image /content/drive/MyDrive/Chest-CT-Data/train/squamous.cell.carcinoma/000120 (6).png\n",
            "Loaded image /content/drive/MyDrive/Chest-CT-Data/train/squamous.cell.carcinoma/000041 (4).png\n",
            "Loaded image /content/drive/MyDrive/Chest-CT-Data/train/squamous.cell.carcinoma/000106 (4).png\n",
            "Loaded image /content/drive/MyDrive/Chest-CT-Data/train/squamous.cell.carcinoma/000073 (6).png\n",
            "Loaded image /content/drive/MyDrive/Chest-CT-Data/train/squamous.cell.carcinoma/000096.png\n",
            "Loaded image /content/drive/MyDrive/Chest-CT-Data/train/squamous.cell.carcinoma/000057 (5).png\n",
            "Loaded image /content/drive/MyDrive/Chest-CT-Data/train/squamous.cell.carcinoma/000084 (7).png\n",
            "Loaded image /content/drive/MyDrive/Chest-CT-Data/train/squamous.cell.carcinoma/000035 (5).png\n",
            "Loaded image /content/drive/MyDrive/Chest-CT-Data/train/squamous.cell.carcinoma/000121.png\n",
            "Loaded image /content/drive/MyDrive/Chest-CT-Data/train/squamous.cell.carcinoma/000057 (4).png\n",
            "Loaded image /content/drive/MyDrive/Chest-CT-Data/train/squamous.cell.carcinoma/000084 (5).png\n",
            "Loaded image /content/drive/MyDrive/Chest-CT-Data/train/squamous.cell.carcinoma/000065 (5).png\n",
            "Loaded image /content/drive/MyDrive/Chest-CT-Data/train/squamous.cell.carcinoma/000058.png\n",
            "Loaded image /content/drive/MyDrive/Chest-CT-Data/train/squamous.cell.carcinoma/000046 (5).png\n",
            "Loaded image /content/drive/MyDrive/Chest-CT-Data/train/squamous.cell.carcinoma/000054.png\n",
            "Loaded image /content/drive/MyDrive/Chest-CT-Data/train/squamous.cell.carcinoma/000077 (2).png\n",
            "Loaded image /content/drive/MyDrive/Chest-CT-Data/train/squamous.cell.carcinoma/000062 (7).png\n",
            "Loaded image /content/drive/MyDrive/Chest-CT-Data/train/squamous.cell.carcinoma/000007.png\n",
            "Loaded image /content/drive/MyDrive/Chest-CT-Data/train/squamous.cell.carcinoma/000048.png\n",
            "Loaded image /content/drive/MyDrive/Chest-CT-Data/train/squamous.cell.carcinoma/000070.png\n",
            "Loaded image /content/drive/MyDrive/Chest-CT-Data/train/squamous.cell.carcinoma/000055 (2).png\n",
            "Loaded image /content/drive/MyDrive/Chest-CT-Data/train/squamous.cell.carcinoma/000050 (2).png\n",
            "Loaded image /content/drive/MyDrive/Chest-CT-Data/train/squamous.cell.carcinoma/000103.png\n",
            "Loaded image /content/drive/MyDrive/Chest-CT-Data/train/squamous.cell.carcinoma/000003.png\n",
            "Loaded image /content/drive/MyDrive/Chest-CT-Data/train/squamous.cell.carcinoma/000006 (4).png\n",
            "Loaded image /content/drive/MyDrive/Chest-CT-Data/train/squamous.cell.carcinoma/000083 (6).png\n",
            "Loaded image /content/drive/MyDrive/Chest-CT-Data/train/squamous.cell.carcinoma/000081.png\n",
            "Loaded image /content/drive/MyDrive/Chest-CT-Data/train/squamous.cell.carcinoma/000083 (2).png\n",
            "Loaded image /content/drive/MyDrive/Chest-CT-Data/train/squamous.cell.carcinoma/000094 (3).png\n",
            "Loaded image /content/drive/MyDrive/Chest-CT-Data/train/squamous.cell.carcinoma/000122.png\n",
            "Loaded image /content/drive/MyDrive/Chest-CT-Data/train/squamous.cell.carcinoma/000057 (6).png\n",
            "Loaded image /content/drive/MyDrive/Chest-CT-Data/train/squamous.cell.carcinoma/000089 (4).png\n",
            "Loaded image /content/drive/MyDrive/Chest-CT-Data/train/squamous.cell.carcinoma/000057 (7).png\n",
            "Loaded image /content/drive/MyDrive/Chest-CT-Data/train/squamous.cell.carcinoma/000043.png\n",
            "Loaded image /content/drive/MyDrive/Chest-CT-Data/train/squamous.cell.carcinoma/000104 (2).png\n",
            "Loaded image /content/drive/MyDrive/Chest-CT-Data/train/squamous.cell.carcinoma/000074 (5).png\n",
            "Loaded image /content/drive/MyDrive/Chest-CT-Data/train/squamous.cell.carcinoma/000035.png\n",
            "Loaded image /content/drive/MyDrive/Chest-CT-Data/train/squamous.cell.carcinoma/000064 (4).png\n",
            "Loaded image /content/drive/MyDrive/Chest-CT-Data/train/squamous.cell.carcinoma/000002 (4).png\n",
            "Loaded image /content/drive/MyDrive/Chest-CT-Data/train/squamous.cell.carcinoma/000070 (2).png\n",
            "Loaded image /content/drive/MyDrive/Chest-CT-Data/valid/adenocarcinoma/000116 (5).png\n",
            "Loaded image /content/drive/MyDrive/Chest-CT-Data/valid/adenocarcinoma/000111 (2).png\n",
            "Loaded image /content/drive/MyDrive/Chest-CT-Data/valid/adenocarcinoma/000109 (8).png\n",
            "Loaded image /content/drive/MyDrive/Chest-CT-Data/valid/adenocarcinoma/000116 (3).png\n",
            "Loaded image /content/drive/MyDrive/Chest-CT-Data/valid/adenocarcinoma/000112 (2).png\n",
            "Loaded image /content/drive/MyDrive/Chest-CT-Data/valid/adenocarcinoma/000116 (8).png\n",
            "Loaded image /content/drive/MyDrive/Chest-CT-Data/valid/adenocarcinoma/000112 (9).png\n",
            "Loaded image /content/drive/MyDrive/Chest-CT-Data/valid/adenocarcinoma/000108 (8).png\n",
            "Loaded image /content/drive/MyDrive/Chest-CT-Data/valid/adenocarcinoma/000114.png\n",
            "Loaded image /content/drive/MyDrive/Chest-CT-Data/valid/adenocarcinoma/000108 (7).png\n",
            "Loaded image /content/drive/MyDrive/Chest-CT-Data/valid/adenocarcinoma/000113 (3).png\n",
            "Loaded image /content/drive/MyDrive/Chest-CT-Data/valid/adenocarcinoma/000116 (9).png\n",
            "Loaded image /content/drive/MyDrive/Chest-CT-Data/valid/adenocarcinoma/000117.png\n",
            "Loaded image /content/drive/MyDrive/Chest-CT-Data/valid/adenocarcinoma/000113.png\n",
            "Loaded image /content/drive/MyDrive/Chest-CT-Data/valid/adenocarcinoma/000115.png\n",
            "Loaded image /content/drive/MyDrive/Chest-CT-Data/valid/adenocarcinoma/000115 (2).png\n",
            "Loaded image /content/drive/MyDrive/Chest-CT-Data/valid/adenocarcinoma/000114 (10).png\n",
            "Loaded image /content/drive/MyDrive/Chest-CT-Data/valid/adenocarcinoma/000109 (4).png\n",
            "Loaded image /content/drive/MyDrive/Chest-CT-Data/valid/adenocarcinoma/000110 (7).png\n",
            "Loaded image /content/drive/MyDrive/Chest-CT-Data/valid/adenocarcinoma/000115 (9).png\n",
            "Loaded image /content/drive/MyDrive/Chest-CT-Data/valid/adenocarcinoma/000115 (5).png\n",
            "Loaded image /content/drive/MyDrive/Chest-CT-Data/valid/adenocarcinoma/000117 (6).png\n",
            "Loaded image /content/drive/MyDrive/Chest-CT-Data/valid/adenocarcinoma/000109 (3).png\n",
            "Loaded image /content/drive/MyDrive/Chest-CT-Data/valid/large.cell.carcinoma/000115.png\n",
            "Loaded image /content/drive/MyDrive/Chest-CT-Data/valid/large.cell.carcinoma/000113.png\n",
            "Loaded image /content/drive/MyDrive/Chest-CT-Data/valid/large.cell.carcinoma/000108 (2)(1).png\n",
            "Loaded image /content/drive/MyDrive/Chest-CT-Data/valid/large.cell.carcinoma/000126.png\n",
            "Loaded image /content/drive/MyDrive/Chest-CT-Data/valid/large.cell.carcinoma/000120.png\n",
            "Loaded image /content/drive/MyDrive/Chest-CT-Data/valid/large.cell.carcinoma/000111 (2).png\n",
            "Loaded image /content/drive/MyDrive/Chest-CT-Data/valid/large.cell.carcinoma/000131.png\n",
            "Loaded image /content/drive/MyDrive/Chest-CT-Data/valid/large.cell.carcinoma/000110 (2)(1).png\n",
            "Loaded image /content/drive/MyDrive/Chest-CT-Data/valid/large.cell.carcinoma/000108 (2).png\n",
            "Loaded image /content/drive/MyDrive/Chest-CT-Data/valid/large.cell.carcinoma/000114.png\n",
            "Loaded image /content/drive/MyDrive/Chest-CT-Data/valid/large.cell.carcinoma/000130.png\n",
            "Loaded image /content/drive/MyDrive/Chest-CT-Data/valid/large.cell.carcinoma/000116.png\n",
            "Loaded image /content/drive/MyDrive/Chest-CT-Data/valid/large.cell.carcinoma/000128.png\n",
            "Loaded image /content/drive/MyDrive/Chest-CT-Data/valid/large.cell.carcinoma/000122.png\n",
            "Loaded image /content/drive/MyDrive/Chest-CT-Data/valid/large.cell.carcinoma/000109(1).png\n",
            "Loaded image /content/drive/MyDrive/Chest-CT-Data/valid/large.cell.carcinoma/000112.png\n",
            "Loaded image /content/drive/MyDrive/Chest-CT-Data/valid/large.cell.carcinoma/000111 (2)(1).png\n",
            "Loaded image /content/drive/MyDrive/Chest-CT-Data/valid/large.cell.carcinoma/000111(1).png\n",
            "Loaded image /content/drive/MyDrive/Chest-CT-Data/valid/large.cell.carcinoma/000113 (2).png\n",
            "Loaded image /content/drive/MyDrive/Chest-CT-Data/valid/large.cell.carcinoma/000108(1).png\n",
            "Loaded image /content/drive/MyDrive/Chest-CT-Data/valid/large.cell.carcinoma/000110.png\n",
            "Loaded image /content/drive/MyDrive/Chest-CT-Data/valid/large.cell.carcinoma/000118 (2).png\n",
            "Loaded image /content/drive/MyDrive/Chest-CT-Data/valid/large.cell.carcinoma/000111.png\n",
            "Loaded image /content/drive/MyDrive/Chest-CT-Data/valid/large.cell.carcinoma/000115 (3).png\n",
            "Loaded image /content/drive/MyDrive/Chest-CT-Data/valid/large.cell.carcinoma/000109.png\n",
            "Loaded image /content/drive/MyDrive/Chest-CT-Data/valid/large.cell.carcinoma/000108.png\n",
            "Loaded image /content/drive/MyDrive/Chest-CT-Data/valid/large.cell.carcinoma/000110 (2).png\n",
            "Loaded image /content/drive/MyDrive/Chest-CT-Data/valid/large.cell.carcinoma/000110(1).png\n",
            "Loaded image /content/drive/MyDrive/Chest-CT-Data/valid/normal/003828_02_01_174.png\n",
            "Loaded image /content/drive/MyDrive/Chest-CT-Data/valid/normal/6 - Copy.png\n",
            "Loaded image /content/drive/MyDrive/Chest-CT-Data/valid/normal/7(1).png\n",
            "Loaded image /content/drive/MyDrive/Chest-CT-Data/valid/normal/7 - Copy (3).png\n",
            "Loaded image /content/drive/MyDrive/Chest-CT-Data/valid/normal/5.png\n",
            "Loaded image /content/drive/MyDrive/Chest-CT-Data/valid/normal/8 - Copy (3)(1).png\n",
            "Loaded image /content/drive/MyDrive/Chest-CT-Data/valid/normal/6 - Copy (2) - Copy.png\n",
            "Loaded image /content/drive/MyDrive/Chest-CT-Data/valid/normal/004162_01_01_150.png\n",
            "Loaded image /content/drive/MyDrive/Chest-CT-Data/valid/normal/4 (2).png\n",
            "Loaded image /content/drive/MyDrive/Chest-CT-Data/valid/normal/004007_01_01_519.png\n",
            "Loaded image /content/drive/MyDrive/Chest-CT-Data/valid/normal/6 - Copy (3).png\n",
            "Loaded image /content/drive/MyDrive/Chest-CT-Data/valid/normal/4 - Copy (2).png\n",
            "Loaded image /content/drive/MyDrive/Chest-CT-Data/valid/normal/8 - Copy (3).png\n",
            "Loaded image /content/drive/MyDrive/Chest-CT-Data/valid/normal/7.png\n",
            "Loaded image /content/drive/MyDrive/Chest-CT-Data/valid/normal/7 - Copy (2).png\n",
            "Loaded image /content/drive/MyDrive/Chest-CT-Data/valid/squamous.cell.carcinoma/000114 (6).png\n",
            "Loaded image /content/drive/MyDrive/Chest-CT-Data/valid/squamous.cell.carcinoma/000118 (4).png\n",
            "Loaded image /content/drive/MyDrive/Chest-CT-Data/valid/squamous.cell.carcinoma/000115 (5).png\n",
            "Loaded image /content/drive/MyDrive/Chest-CT-Data/valid/squamous.cell.carcinoma/000108 (3).png\n",
            "Loaded image /content/drive/MyDrive/Chest-CT-Data/valid/squamous.cell.carcinoma/000119.png\n",
            "Loaded image /content/drive/MyDrive/Chest-CT-Data/valid/squamous.cell.carcinoma/000116 (2).png\n",
            "Loaded image /content/drive/MyDrive/Chest-CT-Data/valid/squamous.cell.carcinoma/000117 (4).png\n",
            "Loaded image /content/drive/MyDrive/Chest-CT-Data/valid/squamous.cell.carcinoma/000112.png\n",
            "Loaded image /content/drive/MyDrive/Chest-CT-Data/valid/squamous.cell.carcinoma/000111.png\n",
            "Loaded image /content/drive/MyDrive/Chest-CT-Data/valid/squamous.cell.carcinoma/000114 (4).png\n",
            "Loaded image /content/drive/MyDrive/Chest-CT-Data/valid/squamous.cell.carcinoma/000119 (5).png\n",
            "Loaded image /content/drive/MyDrive/Chest-CT-Data/valid/squamous.cell.carcinoma/000110 (6).png\n",
            "Loaded image /content/drive/MyDrive/Chest-CT-Data/valid/squamous.cell.carcinoma/000115 (2).png\n",
            "Loaded image /content/drive/MyDrive/Chest-CT-Data/valid/squamous.cell.carcinoma/000117 (6).png\n",
            "Loaded image /content/drive/MyDrive/Chest-CT-Data/valid/squamous.cell.carcinoma/000118 (5).png\n",
            "Loaded image /content/drive/MyDrive/Chest-CT-Data/test/adenocarcinoma/000140.png\n",
            "Loaded image /content/drive/MyDrive/Chest-CT-Data/test/adenocarcinoma/000144 (2).png\n",
            "Loaded image /content/drive/MyDrive/Chest-CT-Data/test/adenocarcinoma/000146 (3).png\n",
            "Loaded image /content/drive/MyDrive/Chest-CT-Data/test/adenocarcinoma/000155 (4).png\n",
            "Loaded image /content/drive/MyDrive/Chest-CT-Data/test/adenocarcinoma/000143 (5).png\n",
            "Loaded image /content/drive/MyDrive/Chest-CT-Data/test/adenocarcinoma/000123 (6).png\n",
            "Loaded image /content/drive/MyDrive/Chest-CT-Data/test/adenocarcinoma/000130 (6).png\n",
            "Loaded image /content/drive/MyDrive/Chest-CT-Data/test/adenocarcinoma/000173 (7).png\n",
            "Loaded image /content/drive/MyDrive/Chest-CT-Data/test/adenocarcinoma/000143 (6).png\n",
            "Loaded image /content/drive/MyDrive/Chest-CT-Data/test/adenocarcinoma/000138 (9).png\n",
            "Loaded image /content/drive/MyDrive/Chest-CT-Data/test/adenocarcinoma/000137 (2).png\n",
            "Loaded image /content/drive/MyDrive/Chest-CT-Data/test/adenocarcinoma/000119 (4).png\n",
            "Loaded image /content/drive/MyDrive/Chest-CT-Data/test/adenocarcinoma/000158 (3).png\n",
            "Loaded image /content/drive/MyDrive/Chest-CT-Data/test/adenocarcinoma/000147.png\n",
            "Loaded image /content/drive/MyDrive/Chest-CT-Data/test/adenocarcinoma/000160 (6).png\n",
            "Loaded image /content/drive/MyDrive/Chest-CT-Data/test/adenocarcinoma/000146 (6).png\n",
            "Loaded image /content/drive/MyDrive/Chest-CT-Data/test/adenocarcinoma/000139.png\n",
            "Loaded image /content/drive/MyDrive/Chest-CT-Data/test/adenocarcinoma/000174 (4).png\n",
            "Loaded image /content/drive/MyDrive/Chest-CT-Data/test/adenocarcinoma/000132 (2).png\n",
            "Loaded image /content/drive/MyDrive/Chest-CT-Data/test/adenocarcinoma/000138 (6).png\n",
            "Loaded image /content/drive/MyDrive/Chest-CT-Data/test/adenocarcinoma/000121.png\n",
            "Loaded image /content/drive/MyDrive/Chest-CT-Data/test/adenocarcinoma/000148.png\n",
            "Loaded image /content/drive/MyDrive/Chest-CT-Data/test/adenocarcinoma/000173 (5).png\n",
            "Loaded image /content/drive/MyDrive/Chest-CT-Data/test/adenocarcinoma/000115 (4).png\n",
            "Loaded image /content/drive/MyDrive/Chest-CT-Data/test/adenocarcinoma/000128 (5).png\n",
            "Loaded image /content/drive/MyDrive/Chest-CT-Data/test/adenocarcinoma/000163 (3).png\n",
            "Loaded image /content/drive/MyDrive/Chest-CT-Data/test/adenocarcinoma/000137 (4).png\n",
            "Loaded image /content/drive/MyDrive/Chest-CT-Data/test/adenocarcinoma/000134 (9).png\n",
            "Loaded image /content/drive/MyDrive/Chest-CT-Data/test/adenocarcinoma/000165 (6).png\n",
            "Loaded image /content/drive/MyDrive/Chest-CT-Data/test/adenocarcinoma/000172 (3).png\n",
            "Loaded image /content/drive/MyDrive/Chest-CT-Data/test/adenocarcinoma/000166 (3).png\n",
            "Loaded image /content/drive/MyDrive/Chest-CT-Data/test/adenocarcinoma/000176 (2).png\n",
            "Loaded image /content/drive/MyDrive/Chest-CT-Data/test/adenocarcinoma/000161 (4).png\n",
            "Loaded image /content/drive/MyDrive/Chest-CT-Data/test/adenocarcinoma/000157 (5).png\n",
            "Loaded image /content/drive/MyDrive/Chest-CT-Data/test/adenocarcinoma/000118 (5).png\n",
            "Loaded image /content/drive/MyDrive/Chest-CT-Data/test/adenocarcinoma/000149 (7).png\n",
            "Loaded image /content/drive/MyDrive/Chest-CT-Data/test/adenocarcinoma/000166 (4).png\n",
            "Loaded image /content/drive/MyDrive/Chest-CT-Data/test/adenocarcinoma/000123 (9).png\n",
            "Loaded image /content/drive/MyDrive/Chest-CT-Data/test/adenocarcinoma/000139 (9).png\n",
            "Loaded image /content/drive/MyDrive/Chest-CT-Data/test/adenocarcinoma/000115.png\n",
            "Loaded image /content/drive/MyDrive/Chest-CT-Data/test/adenocarcinoma/000166 (2).png\n",
            "Loaded image /content/drive/MyDrive/Chest-CT-Data/test/adenocarcinoma/000134.png\n",
            "Loaded image /content/drive/MyDrive/Chest-CT-Data/test/adenocarcinoma/000132 (8).png\n",
            "Loaded image /content/drive/MyDrive/Chest-CT-Data/test/adenocarcinoma/000133 (4).png\n",
            "Loaded image /content/drive/MyDrive/Chest-CT-Data/test/adenocarcinoma/000158 (2).png\n",
            "Loaded image /content/drive/MyDrive/Chest-CT-Data/test/adenocarcinoma/000158 (5).png\n",
            "Loaded image /content/drive/MyDrive/Chest-CT-Data/test/adenocarcinoma/000125 (8).png\n",
            "Loaded image /content/drive/MyDrive/Chest-CT-Data/test/adenocarcinoma/000123 (4).png\n",
            "Loaded image /content/drive/MyDrive/Chest-CT-Data/test/adenocarcinoma/000129.png\n",
            "Loaded image /content/drive/MyDrive/Chest-CT-Data/test/adenocarcinoma/000136 (2).png\n",
            "Loaded image /content/drive/MyDrive/Chest-CT-Data/test/adenocarcinoma/000117 (4).png\n",
            "Loaded image /content/drive/MyDrive/Chest-CT-Data/test/adenocarcinoma/000171.png\n",
            "Loaded image /content/drive/MyDrive/Chest-CT-Data/test/adenocarcinoma/000148 (3).png\n",
            "Loaded image /content/drive/MyDrive/Chest-CT-Data/test/adenocarcinoma/000120.png\n",
            "Loaded image /content/drive/MyDrive/Chest-CT-Data/test/adenocarcinoma/000135 (5).png\n",
            "Loaded image /content/drive/MyDrive/Chest-CT-Data/test/adenocarcinoma/000139 (5).png\n",
            "Loaded image /content/drive/MyDrive/Chest-CT-Data/test/adenocarcinoma/000114.png\n",
            "Loaded image /content/drive/MyDrive/Chest-CT-Data/test/adenocarcinoma/000141 (2).png\n",
            "Loaded image /content/drive/MyDrive/Chest-CT-Data/test/adenocarcinoma/000117.png\n",
            "Loaded image /content/drive/MyDrive/Chest-CT-Data/test/adenocarcinoma/000122.png\n",
            "Loaded image /content/drive/MyDrive/Chest-CT-Data/test/adenocarcinoma/000139 (6).png\n",
            "Loaded image /content/drive/MyDrive/Chest-CT-Data/test/adenocarcinoma/000148 (6).png\n",
            "Loaded image /content/drive/MyDrive/Chest-CT-Data/test/adenocarcinoma/000158 (6).png\n",
            "Loaded image /content/drive/MyDrive/Chest-CT-Data/test/adenocarcinoma/000168 (3).png\n",
            "Loaded image /content/drive/MyDrive/Chest-CT-Data/test/adenocarcinoma/000116 (7).png\n",
            "Loaded image /content/drive/MyDrive/Chest-CT-Data/test/adenocarcinoma/000139 (8).png\n",
            "Loaded image /content/drive/MyDrive/Chest-CT-Data/test/adenocarcinoma/000171 (5).png\n",
            "Loaded image /content/drive/MyDrive/Chest-CT-Data/test/adenocarcinoma/000149 (4).png\n",
            "Loaded image /content/drive/MyDrive/Chest-CT-Data/test/adenocarcinoma/000144 (5).png\n",
            "Loaded image /content/drive/MyDrive/Chest-CT-Data/test/adenocarcinoma/000161 (5).png\n",
            "Loaded image /content/drive/MyDrive/Chest-CT-Data/test/adenocarcinoma/000142.png\n",
            "Loaded image /content/drive/MyDrive/Chest-CT-Data/test/adenocarcinoma/000167 (3).png\n",
            "Loaded image /content/drive/MyDrive/Chest-CT-Data/test/adenocarcinoma/000116 (5).png\n",
            "Loaded image /content/drive/MyDrive/Chest-CT-Data/test/adenocarcinoma/000167 (8).png\n",
            "Loaded image /content/drive/MyDrive/Chest-CT-Data/test/adenocarcinoma/000151 (5).png\n",
            "Loaded image /content/drive/MyDrive/Chest-CT-Data/test/adenocarcinoma/000148 (8).png\n",
            "Loaded image /content/drive/MyDrive/Chest-CT-Data/test/adenocarcinoma/000129 (5).png\n",
            "Loaded image /content/drive/MyDrive/Chest-CT-Data/test/adenocarcinoma/000153 (5).png\n",
            "Loaded image /content/drive/MyDrive/Chest-CT-Data/test/adenocarcinoma/000131 (2).png\n",
            "Loaded image /content/drive/MyDrive/Chest-CT-Data/test/adenocarcinoma/000156 (4).png\n",
            "Loaded image /content/drive/MyDrive/Chest-CT-Data/test/adenocarcinoma/000125 (6).png\n",
            "Loaded image /content/drive/MyDrive/Chest-CT-Data/test/adenocarcinoma/000177.png\n",
            "Loaded image /content/drive/MyDrive/Chest-CT-Data/test/adenocarcinoma/000145 (9).png\n",
            "Loaded image /content/drive/MyDrive/Chest-CT-Data/test/adenocarcinoma/000132.png\n",
            "Loaded image /content/drive/MyDrive/Chest-CT-Data/test/adenocarcinoma/000118 (7).png\n",
            "Loaded image /content/drive/MyDrive/Chest-CT-Data/test/adenocarcinoma/000117 (8).png\n",
            "Loaded image /content/drive/MyDrive/Chest-CT-Data/test/adenocarcinoma/000125 (4).png\n",
            "Loaded image /content/drive/MyDrive/Chest-CT-Data/test/adenocarcinoma/000164 (5).png\n",
            "Loaded image /content/drive/MyDrive/Chest-CT-Data/test/adenocarcinoma/000177 (4).png\n",
            "Loaded image /content/drive/MyDrive/Chest-CT-Data/test/adenocarcinoma/000126 (6).png\n",
            "Loaded image /content/drive/MyDrive/Chest-CT-Data/test/adenocarcinoma/000121 (7).png\n",
            "Loaded image /content/drive/MyDrive/Chest-CT-Data/test/adenocarcinoma/000149 (2).png\n",
            "Loaded image /content/drive/MyDrive/Chest-CT-Data/test/adenocarcinoma/000125 (5).png\n",
            "Loaded image /content/drive/MyDrive/Chest-CT-Data/test/adenocarcinoma/000163 (7).png\n",
            "Loaded image /content/drive/MyDrive/Chest-CT-Data/test/adenocarcinoma/000124 (9).png\n",
            "Loaded image /content/drive/MyDrive/Chest-CT-Data/test/adenocarcinoma/000127 (5).png\n",
            "Loaded image /content/drive/MyDrive/Chest-CT-Data/test/adenocarcinoma/000112 (2).png\n",
            "Loaded image /content/drive/MyDrive/Chest-CT-Data/test/adenocarcinoma/000119 (6).png\n",
            "Loaded image /content/drive/MyDrive/Chest-CT-Data/test/adenocarcinoma/000109 (2).png\n",
            "Loaded image /content/drive/MyDrive/Chest-CT-Data/test/adenocarcinoma/000109 (4).png\n",
            "Loaded image /content/drive/MyDrive/Chest-CT-Data/test/adenocarcinoma/000122 (4).png\n",
            "Loaded image /content/drive/MyDrive/Chest-CT-Data/test/adenocarcinoma/000113 (7).png\n",
            "Loaded image /content/drive/MyDrive/Chest-CT-Data/test/adenocarcinoma/000124 (6).png\n",
            "Loaded image /content/drive/MyDrive/Chest-CT-Data/test/adenocarcinoma/000133 (2).png\n",
            "Loaded image /content/drive/MyDrive/Chest-CT-Data/test/adenocarcinoma/000119 (5).png\n",
            "Loaded image /content/drive/MyDrive/Chest-CT-Data/test/adenocarcinoma/000155.png\n",
            "Loaded image /content/drive/MyDrive/Chest-CT-Data/test/adenocarcinoma/000116 (9).png\n",
            "Loaded image /content/drive/MyDrive/Chest-CT-Data/test/adenocarcinoma/000125 (2).png\n",
            "Loaded image /content/drive/MyDrive/Chest-CT-Data/test/adenocarcinoma/000160 (4).png\n",
            "Loaded image /content/drive/MyDrive/Chest-CT-Data/test/adenocarcinoma/000137 (8).png\n",
            "Loaded image /content/drive/MyDrive/Chest-CT-Data/test/adenocarcinoma/000121 (6).png\n",
            "Loaded image /content/drive/MyDrive/Chest-CT-Data/test/adenocarcinoma/000114 (5).png\n",
            "Loaded image /content/drive/MyDrive/Chest-CT-Data/test/adenocarcinoma/000158.png\n",
            "Loaded image /content/drive/MyDrive/Chest-CT-Data/test/adenocarcinoma/000108 (3).png\n",
            "Loaded image /content/drive/MyDrive/Chest-CT-Data/test/adenocarcinoma/000115 (8).png\n",
            "Loaded image /content/drive/MyDrive/Chest-CT-Data/test/adenocarcinoma/000136 (8).png\n",
            "Loaded image /content/drive/MyDrive/Chest-CT-Data/test/adenocarcinoma/000134 (2).png\n",
            "Loaded image /content/drive/MyDrive/Chest-CT-Data/test/adenocarcinoma/000132 (7).png\n",
            "Loaded image /content/drive/MyDrive/Chest-CT-Data/test/adenocarcinoma/000109 (5).png\n",
            "Loaded image /content/drive/MyDrive/Chest-CT-Data/test/adenocarcinoma/000157 (6).png\n",
            "Loaded image /content/drive/MyDrive/Chest-CT-Data/test/large.cell.carcinoma/000170.png\n",
            "Loaded image /content/drive/MyDrive/Chest-CT-Data/test/large.cell.carcinoma/000173 (2).png\n",
            "Loaded image /content/drive/MyDrive/Chest-CT-Data/test/large.cell.carcinoma/000138 (2).png\n",
            "Loaded image /content/drive/MyDrive/Chest-CT-Data/test/large.cell.carcinoma/000149.png\n",
            "Loaded image /content/drive/MyDrive/Chest-CT-Data/test/large.cell.carcinoma/000113.png\n",
            "Loaded image /content/drive/MyDrive/Chest-CT-Data/test/large.cell.carcinoma/000128.png\n",
            "Loaded image /content/drive/MyDrive/Chest-CT-Data/test/large.cell.carcinoma/000130.png\n",
            "Loaded image /content/drive/MyDrive/Chest-CT-Data/test/large.cell.carcinoma/000173.png\n",
            "Loaded image /content/drive/MyDrive/Chest-CT-Data/test/large.cell.carcinoma/000133.png\n",
            "Loaded image /content/drive/MyDrive/Chest-CT-Data/test/large.cell.carcinoma/000160.png\n",
            "Loaded image /content/drive/MyDrive/Chest-CT-Data/test/large.cell.carcinoma/000172.png\n",
            "Loaded image /content/drive/MyDrive/Chest-CT-Data/test/large.cell.carcinoma/000141.png\n",
            "Loaded image /content/drive/MyDrive/Chest-CT-Data/test/large.cell.carcinoma/000169.png\n",
            "Loaded image /content/drive/MyDrive/Chest-CT-Data/test/large.cell.carcinoma/000163.png\n",
            "Loaded image /content/drive/MyDrive/Chest-CT-Data/test/large.cell.carcinoma/000154.png\n",
            "Loaded image /content/drive/MyDrive/Chest-CT-Data/test/large.cell.carcinoma/000172 (2).png\n",
            "Loaded image /content/drive/MyDrive/Chest-CT-Data/test/large.cell.carcinoma/000171.png\n",
            "Loaded image /content/drive/MyDrive/Chest-CT-Data/test/large.cell.carcinoma/000174.png\n",
            "Loaded image /content/drive/MyDrive/Chest-CT-Data/test/large.cell.carcinoma/000111.png\n",
            "Loaded image /content/drive/MyDrive/Chest-CT-Data/test/large.cell.carcinoma/000150.png\n",
            "Loaded image /content/drive/MyDrive/Chest-CT-Data/test/large.cell.carcinoma/000148.png\n",
            "Loaded image /content/drive/MyDrive/Chest-CT-Data/test/large.cell.carcinoma/000123.png\n",
            "Loaded image /content/drive/MyDrive/Chest-CT-Data/test/large.cell.carcinoma/000120.png\n",
            "Loaded image /content/drive/MyDrive/Chest-CT-Data/test/large.cell.carcinoma/000158.png\n",
            "Loaded image /content/drive/MyDrive/Chest-CT-Data/test/large.cell.carcinoma/000115 (2).png\n",
            "Loaded image /content/drive/MyDrive/Chest-CT-Data/test/large.cell.carcinoma/000137.png\n",
            "Loaded image /content/drive/MyDrive/Chest-CT-Data/test/large.cell.carcinoma/000118.png\n",
            "Loaded image /content/drive/MyDrive/Chest-CT-Data/test/large.cell.carcinoma/000114.png\n",
            "Loaded image /content/drive/MyDrive/Chest-CT-Data/test/large.cell.carcinoma/000159 (2).png\n",
            "Loaded image /content/drive/MyDrive/Chest-CT-Data/test/large.cell.carcinoma/000128 (2).png\n",
            "Loaded image /content/drive/MyDrive/Chest-CT-Data/test/large.cell.carcinoma/000111 (2).png\n",
            "Loaded image /content/drive/MyDrive/Chest-CT-Data/test/large.cell.carcinoma/000126.png\n",
            "Loaded image /content/drive/MyDrive/Chest-CT-Data/test/large.cell.carcinoma/000155.png\n",
            "Loaded image /content/drive/MyDrive/Chest-CT-Data/test/large.cell.carcinoma/000116.png\n",
            "Loaded image /content/drive/MyDrive/Chest-CT-Data/test/large.cell.carcinoma/000131.png\n",
            "Loaded image /content/drive/MyDrive/Chest-CT-Data/test/large.cell.carcinoma/000122.png\n",
            "Loaded image /content/drive/MyDrive/Chest-CT-Data/test/large.cell.carcinoma/000148 (2).png\n",
            "Loaded image /content/drive/MyDrive/Chest-CT-Data/test/large.cell.carcinoma/000132 (2).png\n",
            "Loaded image /content/drive/MyDrive/Chest-CT-Data/test/large.cell.carcinoma/000162.png\n",
            "Loaded image /content/drive/MyDrive/Chest-CT-Data/test/large.cell.carcinoma/000113 (2).png\n",
            "Loaded image /content/drive/MyDrive/Chest-CT-Data/test/large.cell.carcinoma/000136 (2).png\n",
            "Loaded image /content/drive/MyDrive/Chest-CT-Data/test/large.cell.carcinoma/000108.png\n",
            "Loaded image /content/drive/MyDrive/Chest-CT-Data/test/large.cell.carcinoma/000131 (2).png\n",
            "Loaded image /content/drive/MyDrive/Chest-CT-Data/test/large.cell.carcinoma/000124 (2).png\n",
            "Loaded image /content/drive/MyDrive/Chest-CT-Data/test/large.cell.carcinoma/000147 (2).png\n",
            "Loaded image /content/drive/MyDrive/Chest-CT-Data/test/large.cell.carcinoma/000110.png\n",
            "Loaded image /content/drive/MyDrive/Chest-CT-Data/test/large.cell.carcinoma/000133 (2).png\n",
            "Loaded image /content/drive/MyDrive/Chest-CT-Data/test/large.cell.carcinoma/000159.png\n",
            "Loaded image /content/drive/MyDrive/Chest-CT-Data/test/large.cell.carcinoma/000154 (2).png\n",
            "Loaded image /content/drive/MyDrive/Chest-CT-Data/test/large.cell.carcinoma/000143.png\n",
            "Loaded image /content/drive/MyDrive/Chest-CT-Data/test/large.cell.carcinoma/000127 (2).png\n",
            "Loaded image /content/drive/MyDrive/Chest-CT-Data/test/normal/11 - Copy (2).png\n",
            "Loaded image /content/drive/MyDrive/Chest-CT-Data/test/normal/6 - Copy (3).png\n",
            "Loaded image /content/drive/MyDrive/Chest-CT-Data/test/normal/10 - Copy (3).png\n",
            "Loaded image /content/drive/MyDrive/Chest-CT-Data/test/normal/6 - Copy.png\n",
            "Loaded image /content/drive/MyDrive/Chest-CT-Data/test/normal/11 (2).png\n",
            "Loaded image /content/drive/MyDrive/Chest-CT-Data/test/normal/12 - Copy - Copy.png\n",
            "Loaded image /content/drive/MyDrive/Chest-CT-Data/test/normal/8 - Copy (3).png\n",
            "Loaded image /content/drive/MyDrive/Chest-CT-Data/test/normal/10.png\n",
            "Loaded image /content/drive/MyDrive/Chest-CT-Data/test/normal/8.png\n",
            "Loaded image /content/drive/MyDrive/Chest-CT-Data/test/normal/6 (2) - Copy.png\n",
            "Loaded image /content/drive/MyDrive/Chest-CT-Data/test/normal/6 - Copy (2) - Copy.png\n",
            "Loaded image /content/drive/MyDrive/Chest-CT-Data/test/normal/6.png\n",
            "Loaded image /content/drive/MyDrive/Chest-CT-Data/test/normal/11 - Copy - Copy.png\n",
            "Loaded image /content/drive/MyDrive/Chest-CT-Data/test/normal/10 (2) - Copy.png\n",
            "Loaded image /content/drive/MyDrive/Chest-CT-Data/test/normal/7 - Copy (3).png\n",
            "Loaded image /content/drive/MyDrive/Chest-CT-Data/test/normal/12 (2).png\n",
            "Loaded image /content/drive/MyDrive/Chest-CT-Data/test/normal/12 - Copy (3).png\n",
            "Loaded image /content/drive/MyDrive/Chest-CT-Data/test/normal/11 - Copy (3).png\n",
            "Loaded image /content/drive/MyDrive/Chest-CT-Data/test/normal/6 - Copy (2).png\n",
            "Loaded image /content/drive/MyDrive/Chest-CT-Data/test/normal/24 - Copy.png\n",
            "Loaded image /content/drive/MyDrive/Chest-CT-Data/test/normal/21.png\n",
            "Loaded image /content/drive/MyDrive/Chest-CT-Data/test/normal/11 - Copy (2) - Copy.png\n",
            "Loaded image /content/drive/MyDrive/Chest-CT-Data/test/normal/24.png\n",
            "Loaded image /content/drive/MyDrive/Chest-CT-Data/test/normal/8 - Copy.png\n",
            "Loaded image /content/drive/MyDrive/Chest-CT-Data/test/normal/10 - Copy (2) - Copy.png\n",
            "Loaded image /content/drive/MyDrive/Chest-CT-Data/test/normal/8 (2) - Copy.png\n",
            "Loaded image /content/drive/MyDrive/Chest-CT-Data/test/normal/25.png\n",
            "Loaded image /content/drive/MyDrive/Chest-CT-Data/test/normal/7 (2) - Copy.png\n",
            "Loaded image /content/drive/MyDrive/Chest-CT-Data/test/normal/22.png\n",
            "Loaded image /content/drive/MyDrive/Chest-CT-Data/test/normal/7.png\n",
            "Loaded image /content/drive/MyDrive/Chest-CT-Data/test/normal/12 - Copy (2).png\n",
            "Loaded image /content/drive/MyDrive/Chest-CT-Data/test/normal/8 - Copy - Copy.png\n",
            "Loaded image /content/drive/MyDrive/Chest-CT-Data/test/normal/12 - Copy.png\n",
            "Loaded image /content/drive/MyDrive/Chest-CT-Data/test/normal/23.png\n",
            "Loaded image /content/drive/MyDrive/Chest-CT-Data/test/normal/7 - Copy (2) - Copy.png\n",
            "Loaded image /content/drive/MyDrive/Chest-CT-Data/test/normal/10 - Copy (2).png\n",
            "Loaded image /content/drive/MyDrive/Chest-CT-Data/test/normal/7 - Copy.png\n",
            "Loaded image /content/drive/MyDrive/Chest-CT-Data/test/normal/10 - Copy.png\n",
            "Loaded image /content/drive/MyDrive/Chest-CT-Data/test/normal/12 (2) - Copy.png\n",
            "Loaded image /content/drive/MyDrive/Chest-CT-Data/test/normal/10 - Copy - Copy.png\n",
            "Loaded image /content/drive/MyDrive/Chest-CT-Data/test/normal/12 - Copy (2) - Copy.png\n",
            "Loaded image /content/drive/MyDrive/Chest-CT-Data/test/normal/11 (2) - Copy.png\n",
            "Loaded image /content/drive/MyDrive/Chest-CT-Data/test/normal/10 (2).png\n",
            "Loaded image /content/drive/MyDrive/Chest-CT-Data/test/normal/8 - Copy (2) - Copy.png\n",
            "Loaded image /content/drive/MyDrive/Chest-CT-Data/test/normal/8 - Copy (2).png\n",
            "Loaded image /content/drive/MyDrive/Chest-CT-Data/test/normal/8 (2).png\n",
            "Loaded image /content/drive/MyDrive/Chest-CT-Data/test/normal/11.png\n",
            "Loaded image /content/drive/MyDrive/Chest-CT-Data/test/normal/normal.png\n",
            "Loaded image /content/drive/MyDrive/Chest-CT-Data/test/normal/7 (2).png\n",
            "Loaded image /content/drive/MyDrive/Chest-CT-Data/test/normal/7 - Copy (2).png\n",
            "Loaded image /content/drive/MyDrive/Chest-CT-Data/test/normal/6 (2).png\n",
            "Loaded image /content/drive/MyDrive/Chest-CT-Data/test/normal/11 - Copy.png\n",
            "Loaded image /content/drive/MyDrive/Chest-CT-Data/test/normal/normal - Copy.png\n",
            "Loaded image /content/drive/MyDrive/Chest-CT-Data/test/normal/7 - Copy - Copy.png\n",
            "Loaded image /content/drive/MyDrive/Chest-CT-Data/test/squamous.cell.carcinoma/000124 (5).png\n",
            "Loaded image /content/drive/MyDrive/Chest-CT-Data/test/squamous.cell.carcinoma/000162.png\n",
            "Loaded image /content/drive/MyDrive/Chest-CT-Data/test/squamous.cell.carcinoma/000168 (2).png\n",
            "Loaded image /content/drive/MyDrive/Chest-CT-Data/test/squamous.cell.carcinoma/000125 (2).png\n",
            "Loaded image /content/drive/MyDrive/Chest-CT-Data/test/squamous.cell.carcinoma/000125 (6).png\n",
            "Loaded image /content/drive/MyDrive/Chest-CT-Data/test/squamous.cell.carcinoma/000122 (6).png\n",
            "Loaded image /content/drive/MyDrive/Chest-CT-Data/test/squamous.cell.carcinoma/000144 (5).png\n",
            "Loaded image /content/drive/MyDrive/Chest-CT-Data/test/squamous.cell.carcinoma/000130 (4).png\n",
            "Loaded image /content/drive/MyDrive/Chest-CT-Data/test/squamous.cell.carcinoma/000127 (2).png\n",
            "Loaded image /content/drive/MyDrive/Chest-CT-Data/test/squamous.cell.carcinoma/000132 (4).png\n",
            "Loaded image /content/drive/MyDrive/Chest-CT-Data/test/squamous.cell.carcinoma/000145 (6).png\n",
            "Loaded image /content/drive/MyDrive/Chest-CT-Data/test/squamous.cell.carcinoma/000151 (6).png\n",
            "Loaded image /content/drive/MyDrive/Chest-CT-Data/test/squamous.cell.carcinoma/000169 (6).png\n",
            "Loaded image /content/drive/MyDrive/Chest-CT-Data/test/squamous.cell.carcinoma/000170 (2).png\n",
            "Loaded image /content/drive/MyDrive/Chest-CT-Data/test/squamous.cell.carcinoma/000160 (4).png\n",
            "Loaded image /content/drive/MyDrive/Chest-CT-Data/test/squamous.cell.carcinoma/000153 (3).png\n",
            "Loaded image /content/drive/MyDrive/Chest-CT-Data/test/squamous.cell.carcinoma/000119.png\n",
            "Loaded image /content/drive/MyDrive/Chest-CT-Data/test/squamous.cell.carcinoma/000154 (2).png\n",
            "Loaded image /content/drive/MyDrive/Chest-CT-Data/test/squamous.cell.carcinoma/000164 (5).png\n",
            "Loaded image /content/drive/MyDrive/Chest-CT-Data/test/squamous.cell.carcinoma/000120 (3).png\n",
            "Loaded image /content/drive/MyDrive/Chest-CT-Data/test/squamous.cell.carcinoma/000141 (4).png\n",
            "Loaded image /content/drive/MyDrive/Chest-CT-Data/test/squamous.cell.carcinoma/000154 (3).png\n",
            "Loaded image /content/drive/MyDrive/Chest-CT-Data/test/squamous.cell.carcinoma/000135.png\n",
            "Loaded image /content/drive/MyDrive/Chest-CT-Data/test/squamous.cell.carcinoma/000156 (2).png\n",
            "Loaded image /content/drive/MyDrive/Chest-CT-Data/test/squamous.cell.carcinoma/000151.png\n",
            "Loaded image /content/drive/MyDrive/Chest-CT-Data/test/squamous.cell.carcinoma/000142 (6).png\n",
            "Loaded image /content/drive/MyDrive/Chest-CT-Data/test/squamous.cell.carcinoma/000136 (6).png\n",
            "Loaded image /content/drive/MyDrive/Chest-CT-Data/test/squamous.cell.carcinoma/000124.png\n",
            "Loaded image /content/drive/MyDrive/Chest-CT-Data/test/squamous.cell.carcinoma/000155 (3).png\n",
            "Loaded image /content/drive/MyDrive/Chest-CT-Data/test/squamous.cell.carcinoma/000177 (3).png\n",
            "Loaded image /content/drive/MyDrive/Chest-CT-Data/test/squamous.cell.carcinoma/000121 (5).png\n",
            "Loaded image /content/drive/MyDrive/Chest-CT-Data/test/squamous.cell.carcinoma/000122.png\n",
            "Loaded image /content/drive/MyDrive/Chest-CT-Data/test/squamous.cell.carcinoma/000137.png\n",
            "Loaded image /content/drive/MyDrive/Chest-CT-Data/test/squamous.cell.carcinoma/000163 (4).png\n",
            "Loaded image /content/drive/MyDrive/Chest-CT-Data/test/squamous.cell.carcinoma/000129 (6).png\n",
            "Loaded image /content/drive/MyDrive/Chest-CT-Data/test/squamous.cell.carcinoma/000136 (4).png\n",
            "Loaded image /content/drive/MyDrive/Chest-CT-Data/test/squamous.cell.carcinoma/000166 (4).png\n",
            "Loaded image /content/drive/MyDrive/Chest-CT-Data/test/squamous.cell.carcinoma/000167 (2).png\n",
            "Loaded image /content/drive/MyDrive/Chest-CT-Data/test/squamous.cell.carcinoma/000135 (4).png\n",
            "Loaded image /content/drive/MyDrive/Chest-CT-Data/test/squamous.cell.carcinoma/000115 (4).png\n",
            "Loaded image /content/drive/MyDrive/Chest-CT-Data/test/squamous.cell.carcinoma/000112.png\n",
            "Loaded image /content/drive/MyDrive/Chest-CT-Data/test/squamous.cell.carcinoma/000134 (5).png\n",
            "Loaded image /content/drive/MyDrive/Chest-CT-Data/test/squamous.cell.carcinoma/000117 (3).png\n",
            "Loaded image /content/drive/MyDrive/Chest-CT-Data/test/squamous.cell.carcinoma/000120 (2).png\n",
            "Loaded image /content/drive/MyDrive/Chest-CT-Data/test/squamous.cell.carcinoma/000118 (4).png\n",
            "Loaded image /content/drive/MyDrive/Chest-CT-Data/test/squamous.cell.carcinoma/000133 (2).png\n",
            "Loaded image /content/drive/MyDrive/Chest-CT-Data/test/squamous.cell.carcinoma/000125.png\n",
            "Loaded image /content/drive/MyDrive/Chest-CT-Data/test/squamous.cell.carcinoma/000172 (6).png\n",
            "Loaded image /content/drive/MyDrive/Chest-CT-Data/test/squamous.cell.carcinoma/000139 (6).png\n",
            "Loaded image /content/drive/MyDrive/Chest-CT-Data/test/squamous.cell.carcinoma/000154 (4).png\n",
            "Loaded image /content/drive/MyDrive/Chest-CT-Data/test/squamous.cell.carcinoma/000137 (3).png\n",
            "Loaded image /content/drive/MyDrive/Chest-CT-Data/test/squamous.cell.carcinoma/000153 (4).png\n",
            "Loaded image /content/drive/MyDrive/Chest-CT-Data/test/squamous.cell.carcinoma/000155.png\n",
            "Loaded image /content/drive/MyDrive/Chest-CT-Data/test/squamous.cell.carcinoma/000149 (4).png\n",
            "Loaded image /content/drive/MyDrive/Chest-CT-Data/test/squamous.cell.carcinoma/000129 (2).png\n",
            "Loaded image /content/drive/MyDrive/Chest-CT-Data/test/squamous.cell.carcinoma/000174 (3).png\n",
            "Loaded image /content/drive/MyDrive/Chest-CT-Data/test/squamous.cell.carcinoma/000131 (6).png\n",
            "Loaded image /content/drive/MyDrive/Chest-CT-Data/test/squamous.cell.carcinoma/000153.png\n",
            "Loaded image /content/drive/MyDrive/Chest-CT-Data/test/squamous.cell.carcinoma/000159 (5).png\n",
            "Loaded image /content/drive/MyDrive/Chest-CT-Data/test/squamous.cell.carcinoma/000141 (2).png\n",
            "Loaded image /content/drive/MyDrive/Chest-CT-Data/test/squamous.cell.carcinoma/000163 (6).png\n",
            "Loaded image /content/drive/MyDrive/Chest-CT-Data/test/squamous.cell.carcinoma/000148 (4).png\n",
            "Loaded image /content/drive/MyDrive/Chest-CT-Data/test/squamous.cell.carcinoma/000120 (5).png\n",
            "Loaded image /content/drive/MyDrive/Chest-CT-Data/test/squamous.cell.carcinoma/000139 (4).png\n",
            "Loaded image /content/drive/MyDrive/Chest-CT-Data/test/squamous.cell.carcinoma/000158 (6).png\n",
            "Loaded image /content/drive/MyDrive/Chest-CT-Data/test/squamous.cell.carcinoma/000142 (5).png\n",
            "Loaded image /content/drive/MyDrive/Chest-CT-Data/test/squamous.cell.carcinoma/000127.png\n",
            "Loaded image /content/drive/MyDrive/Chest-CT-Data/test/squamous.cell.carcinoma/000139 (5).png\n",
            "Loaded image /content/drive/MyDrive/Chest-CT-Data/test/squamous.cell.carcinoma/000121.png\n",
            "Loaded image /content/drive/MyDrive/Chest-CT-Data/test/squamous.cell.carcinoma/000127 (6).png\n",
            "Loaded image /content/drive/MyDrive/Chest-CT-Data/test/squamous.cell.carcinoma/000162 (2).png\n",
            "Loaded image /content/drive/MyDrive/Chest-CT-Data/test/squamous.cell.carcinoma/000114 (2).png\n",
            "Loaded image /content/drive/MyDrive/Chest-CT-Data/test/squamous.cell.carcinoma/000116 (5).png\n",
            "Loaded image /content/drive/MyDrive/Chest-CT-Data/test/squamous.cell.carcinoma/000110 (2).png\n",
            "Loaded image /content/drive/MyDrive/Chest-CT-Data/test/squamous.cell.carcinoma/000119 (4).png\n",
            "Loaded image /content/drive/MyDrive/Chest-CT-Data/test/squamous.cell.carcinoma/000118 (3).png\n",
            "Loaded image /content/drive/MyDrive/Chest-CT-Data/test/squamous.cell.carcinoma/000115 (5).png\n",
            "Loaded image /content/drive/MyDrive/Chest-CT-Data/test/squamous.cell.carcinoma/000146 (6).png\n",
            "Loaded image /content/drive/MyDrive/Chest-CT-Data/test/squamous.cell.carcinoma/000163 (5).png\n",
            "Loaded image /content/drive/MyDrive/Chest-CT-Data/test/squamous.cell.carcinoma/000117 (5).png\n",
            "Loaded image /content/drive/MyDrive/Chest-CT-Data/test/squamous.cell.carcinoma/000126 (4).png\n",
            "Loaded image /content/drive/MyDrive/Chest-CT-Data/test/squamous.cell.carcinoma/000148 (3).png\n",
            "Loaded image /content/drive/MyDrive/Chest-CT-Data/test/squamous.cell.carcinoma/000124 (4).png\n",
            "Loaded image /content/drive/MyDrive/Chest-CT-Data/test/squamous.cell.carcinoma/000158 (4).png\n",
            "Loaded image /content/drive/MyDrive/Chest-CT-Data/test/squamous.cell.carcinoma/000157 (6).png\n",
            "Loaded image /content/drive/MyDrive/Chest-CT-Data/test/squamous.cell.carcinoma/000108 (6).png\n",
            "Loaded image /content/drive/MyDrive/Chest-CT-Data/test/squamous.cell.carcinoma/000117 (2).png\n",
            "Loaded image /content/drive/MyDrive/Chest-CT-Data/test/squamous.cell.carcinoma/000111.png\n",
            "Loaded image /content/drive/MyDrive/Chest-CT-Data/test/squamous.cell.carcinoma/000133 (3).png\n",
            "Loaded image /content/drive/MyDrive/Chest-CT-Data/test/squamous.cell.carcinoma/000114 (3).png\n",
            "Loaded 601 training images with 601 labels\n",
            "Loaded 81 validation images with 81 labels\n",
            "Loaded 315 test images with 315 labels\n"
          ]
        }
      ],
      "source": [
        "# Mengatur path dataset, disesuaikan untuk Google Colab atau Jupyter Notebook\n",
        "dataset_path = '/content/drive/MyDrive/Chest-CT-Data'\n",
        "\n",
        "# Load data\n",
        "train_images, train_labels = load_data(dataset_path, 'train')\n",
        "valid_images, valid_labels = load_data(dataset_path, 'valid')\n",
        "test_images, test_labels = load_data(dataset_path, 'test')\n",
        "\n",
        "print(f\"Loaded {len(train_images)} training images with {len(train_labels)} labels\")\n",
        "print(f\"Loaded {len(valid_images)} validation images with {len(valid_labels)} labels\")\n",
        "print(f\"Loaded {len(test_images)} test images with {len(test_labels)} labels\")\n",
        "\n",
        "# Transformasi data untuk persiapan training, validation, dan testing\n",
        "transform = transforms.Compose([\n",
        "    transforms.ToPILImage(),             # Ubah dari array NumPy ke gambar PIL\n",
        "    transforms.Resize((224, 224)),       # Ubah ukuran gambar menjadi 224x224\n",
        "    #v2.RandomHorizontalFlip(),           # Randomly flip the image horizontally\n",
        "   # v2.RandomRotation(15),                # Randomly rotate the image by up to 15 degrees\n",
        "    transforms.ToTensor(),               # Ubah gambar menjadi Tensor and normalize to [0, 1]\n",
        "])\n",
        "\n",
        "# Membuat dataset dan data loader untuk training, validation, dan testing\n",
        "train_dataset = CustomDataset(train_images, train_labels, transform=transform)\n",
        "valid_dataset = CustomDataset(valid_images, valid_labels, transform=transform)\n",
        "test_dataset = CustomDataset(test_images, test_labels, transform=transform)\n",
        "\n",
        "train_loader = DataLoader(train_dataset, batch_size=16, shuffle=True)  # DataLoader untuk training\n",
        "valid_loader = DataLoader(valid_dataset, batch_size=16, shuffle=False) # DataLoader untuk validasi\n",
        "test_loader = DataLoader(test_dataset, batch_size=16, shuffle=False)   # DataLoader untuk testing\n"
      ]
    },
    {
      "cell_type": "markdown",
      "id": "23a0550f",
      "metadata": {
        "id": "23a0550f"
      },
      "source": [
        "## Pruning"
      ]
    },
    {
      "cell_type": "code",
      "execution_count": null,
      "id": "dc82008a",
      "metadata": {
        "id": "dc82008a"
      },
      "outputs": [],
      "source": [
        "import torch\n",
        "import torch.nn as nn\n",
        "\n",
        "# Fungsi untuk pruning layer Conv2D berdasarkan L2 norm\n",
        "def l2_prune_conv2d_layer(module, pruning_amount):\n",
        "    with torch.no_grad():\n",
        "        weight = module.weight.data.view(module.weight.size(0), -1)\n",
        "        l2_norms = torch.norm(weight, p=2, dim=1)\n",
        "\n",
        "    num_filters = module.weight.size(0)\n",
        "    num_prune = int(pruning_amount * num_filters)\n",
        "\n",
        "    if num_prune == 0:\n",
        "        return module, module.out_channels  # Tidak ada pruning jika num_prune adalah 0\n",
        "\n",
        "    prune_indices = torch.argsort(l2_norms)[:num_prune]\n",
        "    keep_indices = torch.argsort(l2_norms)[num_prune:]\n",
        "\n",
        "    # Membentuk ulang layer Conv2D dengan filter yang dipertahankan\n",
        "    new_conv = nn.Conv2d(\n",
        "        in_channels=module.in_channels,\n",
        "        out_channels=num_filters - num_prune,\n",
        "        kernel_size=module.kernel_size,\n",
        "        stride=module.stride,\n",
        "        padding=module.padding,\n",
        "        bias=module.bias is not None\n",
        "    )\n",
        "\n",
        "    new_conv.weight.data = module.weight.data[keep_indices].clone()\n",
        "    if module.bias is not None:\n",
        "        new_conv.bias.data = module.bias.data[keep_indices].clone()\n",
        "\n",
        "    return new_conv, new_conv.out_channels\n",
        "\n",
        "# Fungsi untuk mengganti layer secara rekursif dalam model\n",
        "def replace_layers(module, pruning_amount=0.5):\n",
        "    prev_out_channels = None\n",
        "\n",
        "    for name, child in module.named_children():\n",
        "        if isinstance(child, nn.Conv2d):\n",
        "            # Prune the Conv2D layer and replace it\n",
        "            pruned_layer, new_out_channels = l2_prune_conv2d_layer(child, pruning_amount)\n",
        "\n",
        "            # Jika ada layer sebelumnya, sesuaikan in_channels dari layer saat ini\n",
        "            if prev_out_channels is not None:\n",
        "                pruned_layer = nn.Conv2d(\n",
        "                    in_channels=prev_out_channels,  # Sesuaikan dengan output layer sebelumnya\n",
        "                    out_channels=new_out_channels,\n",
        "                    kernel_size=child.kernel_size,\n",
        "                    stride=child.stride,\n",
        "                    padding=child.padding,\n",
        "                    bias=child.bias is not None\n",
        "                )\n",
        "                pruned_layer.weight.data = child.weight.data[:new_out_channels, :prev_out_channels].clone()\n",
        "                if pruned_layer.bias is not None:\n",
        "                    pruned_layer.bias.data = child.bias.data[:new_out_channels].clone()\n",
        "\n",
        "            setattr(module, name, pruned_layer)\n",
        "\n",
        "            # Update jumlah channel output untuk layer berikutnya\n",
        "            prev_out_channels = new_out_channels\n",
        "\n",
        "        elif isinstance(child, nn.Sequential) or isinstance(child, nn.Module):\n",
        "            # Recursive call for nested Sequential or Module\n",
        "            replace_layers(child, pruning_amount)\n",
        "\n",
        "# Fungsi untuk menyesuaikan layer klasifikasi (fully connected) dalam model\n",
        "def adjust_classifier(model):\n",
        "    device = torch.device(\"cuda\" if torch.cuda.is_available() else \"cpu\")\n",
        "    with torch.no_grad():\n",
        "        dummy_input = torch.randn(1, 3, 224, 224).to(device)  # Sesuaikan ukuran input jika perlu\n",
        "        features_output = model.features(dummy_input)\n",
        "        flattened_size = features_output.view(features_output.size(0), -1).size(1)\n",
        "\n",
        "    first_linear = None\n",
        "    for module in model.classifier:\n",
        "        if isinstance(module, nn.Linear):\n",
        "            first_linear = module\n",
        "            break\n",
        "\n",
        "    if first_linear is not None:\n",
        "        new_linear = nn.Linear(flattened_size, first_linear.out_features).to(device)\n",
        "        with torch.no_grad():\n",
        "            new_linear.weight.data[:, :min(flattened_size, first_linear.in_features)] = \\\n",
        "                first_linear.weight.data[:, :min(flattened_size, first_linear.in_features)]\n",
        "            new_linear.bias.data = first_linear.bias.data\n",
        "\n",
        "        for i, module in enumerate(model.classifier):\n",
        "            if module is first_linear:\n",
        "                model.classifier[i] = new_linear\n",
        "                break\n",
        "\n",
        "        print(f\"Adjusted classifier input size to {flattened_size}\")\n",
        "    else:\n",
        "        print(\"No Linear layer found in classifier. The model structure might need manual adjustment.\")\n",
        "\n",
        "# Fungsi untuk pruning model yang telah dilatih\n",
        "def prune_trained_model(model, pruning_amount=0.1):\n",
        "    replace_layers(model.features, pruning_amount)\n",
        "    adjust_classifier(model)\n",
        "    return model\n",
        "\n",
        "def load_and_prune_model(model_path, model_class, pruning_ratio):\n",
        "\n",
        "    device = torch.device(\"cuda\" if torch.cuda.is_available() else \"cpu\")\n",
        "\n",
        "    # Load model\n",
        "    state_dict = torch.load(model_path)\n",
        "    model = model_class().to(device)\n",
        "    model.load_state_dict(state_dict)\n",
        "    print(\"Original model loaded.\")\n",
        "\n",
        "    # Prune model\n",
        "    pruned_model =  prune_trained_model(model, pruning_ratio).to(device)\n",
        "    print(\"Model pruned.\")\n",
        "    return pruned_model\n",
        "\n",
        "\n",
        "\n",
        "def calculate_model_size(model):\n",
        "    \"\"\"\n",
        "    Calculate the size of the model in megabytes (MB).\n",
        "\n",
        "    Args:\n",
        "    - model: The model (before or after pruning).\n",
        "\n",
        "    Returns:\n",
        "    - size_in_mb: The size of the model in MB.\n",
        "    \"\"\"\n",
        "    param_size = sum(param.numel() * param.element_size() for param in model.parameters())\n",
        "    buffer_size = sum(buffer.numel() * buffer.element_size() for buffer in model.buffers())\n",
        "    size_in_bytes = param_size + buffer_size\n",
        "    size_in_mb = size_in_bytes / 1024**2  # Convert bytes to megabytes (MB)\n",
        "    return size_in_mb\n",
        "\n",
        "# Fungsi untuk memverifikasi pruning model\n",
        "def verify_pruned_model(model, original_model):\n",
        "    def calculate_num_params(model):\n",
        "        return sum(p.numel() for p in model.parameters())\n",
        "\n",
        "    # Calculate the model sizes\n",
        "    original_size = calculate_model_size(original_model)\n",
        "    pruned_size = calculate_model_size(model)\n",
        "    print(f\"Original model size: {original_size:.2f} MB\")\n",
        "    print(f\"Pruned model size: {pruned_size:.2f} MB\")\n",
        "    print(f\"Size reduction: {original_size - pruned_size:.2f} MB ({(original_size - pruned_size) / original_size * 100:.2f}%)\")\n",
        "\n",
        "    original_params = calculate_num_params(original_model)\n",
        "    pruned_params = calculate_num_params(model)\n",
        "    print(f\"Original model parameters: {original_params}\")\n",
        "    print(f\"Pruned model parameters: {pruned_params}\")\n",
        "\n",
        "    print(\"\\nLayer-wise dimension comparison:\")\n",
        "    for (orig_name, orig_module), (pruned_name, pruned_module) in zip(original_model.features.named_modules(), model.features.named_modules()):\n",
        "        if isinstance(orig_module, nn.Conv2d) and isinstance(pruned_module, nn.Conv2d):\n",
        "            print(f\"Layer: {orig_name}\")\n",
        "            print(f\"  - Original shape: {orig_module.weight.shape}\")\n",
        "            print(f\"  - Pruned shape: {pruned_module.weight.shape}\")\n",
        "\n"
      ]
    },
    {
      "cell_type": "code",
      "execution_count": null,
      "id": "eb39ca82",
      "metadata": {
        "id": "eb39ca82"
      },
      "outputs": [],
      "source": [
        "# Custom Model dengan VGG16 feature extractor + Fully Connected Layers untuk klasifikasi\n",
        "class VGG16(nn.Module):\n",
        "    def __init__(self):\n",
        "        super(VGG16, self).__init__()\n",
        "        # Feature extractor dari VGG16\n",
        "        vgg16 = models.vgg16(weights=models.VGG16_Weights.IMAGENET1K_V1)\n",
        "        vgg16_features = nn.Sequential(*list(vgg16.features.children()))\n",
        "        self.features = vgg16_features\n",
        "\n",
        "        #self.global_avg_pool = nn.AdaptiveAvgPool2d((1, 1))  # Global average pooling\n",
        "        # Fully connected layers untuk klasifikasi\n",
        "        self.classifier = nn.Sequential(\n",
        "            nn.Flatten(),\n",
        "            #nn.Linear(512 * 7 * 7),  # Input size 512 after global average pooling\n",
        "            nn.Linear(512 * 7 * 7, 512),  # Sesuaikan input sesuai dengan output dari feature extractor VGG16\n",
        "            nn.ReLU(),\n",
        "            nn.Dropout(0.4),\n",
        "            nn.Linear(512, 4)\n",
        "        )\n",
        "\n",
        "    def forward(self, input):\n",
        "        # Step 1: Input goes through VGG16 feature extractor\n",
        "        x = self.features(input)\n",
        "\n",
        "        # Step 3: Output of VGG16 features goes through classifier\n",
        "        x = self.classifier(x)  # Klasifikasi\n",
        "        return x"
      ]
    },
    {
      "cell_type": "code",
      "execution_count": null,
      "id": "db6c58d9",
      "metadata": {
        "id": "db6c58d9",
        "outputId": "aeae3506-f47d-4f13-8e78-fa239718efae",
        "colab": {
          "base_uri": "https://localhost:8080/"
        }
      },
      "outputs": [
        {
          "output_type": "stream",
          "name": "stderr",
          "text": [
            "<ipython-input-8-ef24a6d1f699>:6: FutureWarning: You are using `torch.load` with `weights_only=False` (the current default value), which uses the default pickle module implicitly. It is possible to construct malicious pickle data which will execute arbitrary code during unpickling (See https://github.com/pytorch/pytorch/blob/main/SECURITY.md#untrusted-models for more details). In a future release, the default value for `weights_only` will be flipped to `True`. This limits the functions that could be executed during unpickling. Arbitrary objects will no longer be allowed to be loaded via this mode unless they are explicitly allowlisted by the user via `torch.serialization.add_safe_globals`. We recommend you start setting `weights_only=True` for any use case where you don't have full control of the loaded file. Please open an issue on GitHub for any issues related to this experimental feature.\n",
            "  model.load_state_dict(torch.load(model_path, map_location=device))\n",
            "<ipython-input-4-b8582374e457>:108: FutureWarning: You are using `torch.load` with `weights_only=False` (the current default value), which uses the default pickle module implicitly. It is possible to construct malicious pickle data which will execute arbitrary code during unpickling (See https://github.com/pytorch/pytorch/blob/main/SECURITY.md#untrusted-models for more details). In a future release, the default value for `weights_only` will be flipped to `True`. This limits the functions that could be executed during unpickling. Arbitrary objects will no longer be allowed to be loaded via this mode unless they are explicitly allowlisted by the user via `torch.serialization.add_safe_globals`. We recommend you start setting `weights_only=True` for any use case where you don't have full control of the loaded file. Please open an issue on GitHub for any issues related to this experimental feature.\n",
            "  state_dict = torch.load(model_path)\n"
          ]
        },
        {
          "output_type": "stream",
          "name": "stdout",
          "text": [
            "Original model loaded.\n",
            "Adjusted classifier input size to 22589\n",
            "Model pruned.\n",
            "Original model size: 105.14 MB\n",
            "Pruned model size: 89.68 MB\n",
            "Size reduction: 15.46 MB (14.71%)\n",
            "Original model parameters: 27562308\n",
            "Pruned model parameters: 23508963\n",
            "\n",
            "Layer-wise dimension comparison:\n",
            "Layer: 0\n",
            "  - Original shape: torch.Size([64, 3, 3, 3])\n",
            "  - Pruned shape: torch.Size([58, 3, 3, 3])\n",
            "Layer: 2\n",
            "  - Original shape: torch.Size([64, 64, 3, 3])\n",
            "  - Pruned shape: torch.Size([58, 58, 3, 3])\n",
            "Layer: 5\n",
            "  - Original shape: torch.Size([128, 64, 3, 3])\n",
            "  - Pruned shape: torch.Size([116, 58, 3, 3])\n",
            "Layer: 7\n",
            "  - Original shape: torch.Size([128, 128, 3, 3])\n",
            "  - Pruned shape: torch.Size([116, 116, 3, 3])\n",
            "Layer: 10\n",
            "  - Original shape: torch.Size([256, 128, 3, 3])\n",
            "  - Pruned shape: torch.Size([231, 116, 3, 3])\n",
            "Layer: 12\n",
            "  - Original shape: torch.Size([256, 256, 3, 3])\n",
            "  - Pruned shape: torch.Size([231, 231, 3, 3])\n",
            "Layer: 14\n",
            "  - Original shape: torch.Size([256, 256, 3, 3])\n",
            "  - Pruned shape: torch.Size([231, 231, 3, 3])\n",
            "Layer: 17\n",
            "  - Original shape: torch.Size([512, 256, 3, 3])\n",
            "  - Pruned shape: torch.Size([461, 231, 3, 3])\n",
            "Layer: 19\n",
            "  - Original shape: torch.Size([512, 512, 3, 3])\n",
            "  - Pruned shape: torch.Size([461, 461, 3, 3])\n",
            "Layer: 21\n",
            "  - Original shape: torch.Size([512, 512, 3, 3])\n",
            "  - Pruned shape: torch.Size([461, 461, 3, 3])\n",
            "Layer: 24\n",
            "  - Original shape: torch.Size([512, 512, 3, 3])\n",
            "  - Pruned shape: torch.Size([461, 461, 3, 3])\n",
            "Layer: 26\n",
            "  - Original shape: torch.Size([512, 512, 3, 3])\n",
            "  - Pruned shape: torch.Size([461, 461, 3, 3])\n",
            "Layer: 28\n",
            "  - Original shape: torch.Size([512, 512, 3, 3])\n",
            "  - Pruned shape: torch.Size([461, 461, 3, 3])\n"
          ]
        }
      ],
      "source": [
        "import copy\n",
        "\n",
        "# Muat model hasil training Anda\n",
        "model_path = '/content/drive/MyDrive/best-model-vgg-clahe-0,001.pth'\n",
        "model = VGG16()\n",
        "model.load_state_dict(torch.load(model_path, map_location=device))\n",
        "\n",
        "# Buat salinan model asli\n",
        "original_model_copy = copy.deepcopy(model)\n",
        "\n",
        "# Prune model yang telah dilatih\n",
        "pruning_ratio = 0.1\n",
        "pruned_model = load_and_prune_model(model_path, VGG16, pruning_ratio)\n",
        "\n",
        "# Verifikasi apakah model berhasil di-prune\n",
        "verify_pruned_model(pruned_model, model)\n",
        "torch.save(pruned_model.state_dict(), '/content/drive/MyDrive/Best-pruning-model/pruned-vgg-10.pth')\n"
      ]
    },
    {
      "cell_type": "code",
      "source": [
        "import time  # Import modul time\n",
        "\n",
        "# Define the optimizer and loss function\n",
        "optimizer = optim.SGD(pruned_model.parameters(), lr=0.001, momentum=0.8)\n",
        "criterion = nn.CrossEntropyLoss()\n",
        "\n",
        "# Function to calculate metrics (accuracy, precision, recall, F1-score)\n",
        "def calculate_metrics(predictions, labels):\n",
        "    preds = torch.argmax(predictions, dim=1).cpu().numpy()\n",
        "    labels = labels.cpu().numpy()\n",
        "\n",
        "    accuracy = (preds == labels).mean() * 100\n",
        "    precision = precision_score(labels, preds, average='weighted', zero_division=1)\n",
        "    recall = recall_score(labels, preds, average='weighted', zero_division=1)\n",
        "    f1 = f1_score(labels, preds, average='weighted', zero_division=1)\n",
        "\n",
        "    return accuracy, precision, recall, f1\n",
        "\n",
        "# Function to train and evaluate the model\n",
        "def train_and_evaluate(pruned_model, train_loader, valid_loader,  num_epochs=100):\n",
        "    train_losses = []\n",
        "    valid_losses = []\n",
        "    train_accuracies = []\n",
        "    valid_accuracies = []\n",
        "    all_train_precisions = []\n",
        "    all_train_recalls = []\n",
        "    all_train_f1s = []\n",
        "    all_valid_precisions = []\n",
        "    all_valid_recalls = []\n",
        "    all_valid_f1s = []\n",
        "\n",
        "    best_valid_loss = float('inf')\n",
        "\n",
        "    # Variable to accumulate total training and validation time\n",
        "    total_train_validation_time = 0\n",
        "\n",
        "    for epoch in range(1, num_epochs + 1):\n",
        "        print(f'Epoch {epoch}/{num_epochs}')\n",
        "\n",
        "        # Start timer for both training and validation\n",
        "        start_epoch_time = time.time()\n",
        "\n",
        "        # Training\n",
        "        pruned_model.train()\n",
        "        train_loss = 0\n",
        "        all_train_preds = []\n",
        "        all_train_labels = []\n",
        "        for images, labels in tqdm(train_loader, desc='Training'):\n",
        "            images, labels = images.to(device), labels.to(device)\n",
        "\n",
        "            # Convert grayscale images to 3 channels\n",
        "            if images.size(1) == 1:  # If single channel\n",
        "                images = images.repeat(1, 3, 1, 1)  # Repeat the channel dimension 3 times\n",
        "\n",
        "            optimizer.zero_grad()\n",
        "            outputs = pruned_model(images)\n",
        "            loss = criterion(outputs, labels)\n",
        "            loss.backward()\n",
        "            optimizer.step()\n",
        "            train_loss += loss.item()\n",
        "\n",
        "            all_train_preds.append(outputs)\n",
        "            all_train_labels.append(labels)\n",
        "\n",
        "        train_loss /= len(train_loader)\n",
        "        train_losses.append(train_loss)\n",
        "        train_accuracy, train_precision, train_recall, train_f1 = calculate_metrics(torch.cat(all_train_preds), torch.cat(all_train_labels))\n",
        "        train_accuracies.append(train_accuracy)\n",
        "        all_train_precisions.append(train_precision) # Store train_precision\n",
        "        all_train_recalls.append(train_recall)       # Store train_recall\n",
        "        all_train_f1s.append(train_f1)             # Store train_f1\n",
        "\n",
        "        print(f\"Training Loss: {train_loss:.4f}, Accuracy: {train_accuracy:.2f}%, Precision: {train_precision:.4f}, Recall: {train_recall:.4f}, F1-Score: {train_f1:.4f}\")\n",
        "\n",
        "        # Validation\n",
        "        pruned_model.eval()\n",
        "        valid_loss = 0\n",
        "        all_valid_preds = []\n",
        "        all_valid_labels = []\n",
        "        with torch.no_grad():\n",
        "            for images, labels in tqdm(valid_loader, desc='Validation'):\n",
        "                images, labels = images.to(device), labels.to(device)\n",
        "\n",
        "                # Convert grayscale images to 3 channels\n",
        "                if images.size(1) == 1:\n",
        "                    images = images.repeat(1, 3, 1, 1)\n",
        "\n",
        "                outputs = pruned_model(images)\n",
        "                loss = criterion(outputs, labels)\n",
        "                valid_loss += loss.item()\n",
        "\n",
        "                all_valid_preds.append(outputs)\n",
        "                all_valid_labels.append(labels)\n",
        "\n",
        "        valid_loss /= len(valid_loader)\n",
        "        valid_losses.append(valid_loss)\n",
        "        valid_accuracy, valid_precision, valid_recall, valid_f1 = calculate_metrics(torch.cat(all_valid_preds), torch.cat(all_valid_labels))\n",
        "        valid_accuracies.append(valid_accuracy)\n",
        "        all_valid_precisions.append(valid_precision)  # Store valid_precision\n",
        "        all_valid_recalls.append(valid_recall)        # Store valid_recall\n",
        "        all_valid_f1s.append(valid_f1)\n",
        "\n",
        "        print(f\"Validation Loss: {valid_loss:.4f}, Accuracy: {valid_accuracy:.2f}%, Precision: {valid_precision:.4f}, Recall: {valid_recall:.4f}, F1-Score: {valid_f1:.4f}\")\n",
        "\n",
        "        # Save the best model based on validation loss\n",
        "        if valid_loss < best_valid_loss:\n",
        "            best_valid_loss = valid_loss\n",
        "            torch.save(pruned_model.state_dict(), '/content/drive/MyDrive/Best-pruning-model/best-pruned-vgg-10.pth')\n",
        "            print(\"New best model saved\")\n",
        "\n",
        "        # End timer for training and validation, and accumulate the time\n",
        "        end_epoch_time = time.time()\n",
        "        epoch_time = end_epoch_time - start_epoch_time\n",
        "        total_train_validation_time += epoch_time\n",
        "        #print(f\"Epoch Time (Training + Validation): {epoch_time:.2f} seconds\")\n",
        "\n",
        "    # Print total training and validation time\n",
        "    print(f\"Total Training + Validation Time: {total_train_validation_time:.2f} seconds\")\n",
        "\n",
        "    return train_losses, valid_losses, train_accuracies, valid_accuracies, all_train_precisions, all_train_recalls, all_train_f1s, all_valid_precisions, all_valid_recalls, all_valid_f1s # Return the stored metrics\n",
        "\n"
      ],
      "metadata": {
        "id": "nyErFWr7t-0X"
      },
      "id": "nyErFWr7t-0X",
      "execution_count": null,
      "outputs": []
    },
    {
      "cell_type": "code",
      "source": [
        "# Load Model Hasil Pruning\n",
        "pruned_path = '/content/drive/MyDrive/Best-pruning-model/pruned-vgg-10.pth'\n",
        "pruned_model.load_state_dict(torch.load(pruned_path, map_location=device))\n",
        "pruned_model = pruned_model.to(device)\n",
        "\n",
        "\n",
        "# Fine-tuning model yang telah di-prune\n",
        "num_epochs = 100  # Tentukan jumlah epoch untuk fine-tuning\n",
        "\n",
        "# Training\n",
        "train_losses, valid_losses, train_accuracies, valid_accuracies, train_precisions, train_recalls, train_f1s, valid_precisions, valid_recalls, valid_f1s = train_and_evaluate(pruned_model, train_loader, valid_loader, num_epochs=num_epochs)\n",
        "\n",
        "# Simpan model setelah fine-tuning\n",
        "torch.save(pruned_model.state_dict(), '/content/drive/MyDrive/Best-pruning-model/fine_tuned_pruned_vgg-10.pth')\n"
      ],
      "metadata": {
        "colab": {
          "base_uri": "https://localhost:8080/"
        },
        "id": "C-eeK6M7FfuP",
        "outputId": "4f5de4ef-d62a-4fff-cc2d-0d7fcdee491b"
      },
      "id": "C-eeK6M7FfuP",
      "execution_count": null,
      "outputs": [
        {
          "output_type": "stream",
          "name": "stderr",
          "text": [
            "<ipython-input-52-76db397ae563>:3: FutureWarning: You are using `torch.load` with `weights_only=False` (the current default value), which uses the default pickle module implicitly. It is possible to construct malicious pickle data which will execute arbitrary code during unpickling (See https://github.com/pytorch/pytorch/blob/main/SECURITY.md#untrusted-models for more details). In a future release, the default value for `weights_only` will be flipped to `True`. This limits the functions that could be executed during unpickling. Arbitrary objects will no longer be allowed to be loaded via this mode unless they are explicitly allowlisted by the user via `torch.serialization.add_safe_globals`. We recommend you start setting `weights_only=True` for any use case where you don't have full control of the loaded file. Please open an issue on GitHub for any issues related to this experimental feature.\n",
            "  pruned_model.load_state_dict(torch.load(pruned_path, map_location=device))\n"
          ]
        },
        {
          "output_type": "stream",
          "name": "stdout",
          "text": [
            "Epoch 1/100\n"
          ]
        },
        {
          "output_type": "stream",
          "name": "stderr",
          "text": [
            "Training: 100%|██████████| 38/38 [00:09<00:00,  4.00it/s]\n"
          ]
        },
        {
          "output_type": "stream",
          "name": "stdout",
          "text": [
            "Training Loss: 1.2647, Accuracy: 39.10%, Precision: 0.3812, Recall: 0.3910, F1-Score: 0.3783\n"
          ]
        },
        {
          "output_type": "stream",
          "name": "stderr",
          "text": [
            "Validation: 100%|██████████| 6/6 [00:00<00:00,  8.96it/s]\n"
          ]
        },
        {
          "output_type": "stream",
          "name": "stdout",
          "text": [
            "Validation Loss: 1.3152, Accuracy: 29.63%, Precision: 0.7977, Recall: 0.2963, F1-Score: 0.1500\n",
            "New best model saved\n",
            "Epoch 2/100\n"
          ]
        },
        {
          "output_type": "stream",
          "name": "stderr",
          "text": [
            "Training: 100%|██████████| 38/38 [00:09<00:00,  3.92it/s]\n"
          ]
        },
        {
          "output_type": "stream",
          "name": "stdout",
          "text": [
            "Training Loss: 1.1278, Accuracy: 47.25%, Precision: 0.4799, Recall: 0.4725, F1-Score: 0.4375\n"
          ]
        },
        {
          "output_type": "stream",
          "name": "stderr",
          "text": [
            "Validation: 100%|██████████| 6/6 [00:00<00:00, 11.62it/s]\n"
          ]
        },
        {
          "output_type": "stream",
          "name": "stdout",
          "text": [
            "Validation Loss: 1.1924, Accuracy: 43.21%, Precision: 0.6134, Recall: 0.4321, F1-Score: 0.3187\n",
            "New best model saved\n",
            "Epoch 3/100\n"
          ]
        },
        {
          "output_type": "stream",
          "name": "stderr",
          "text": [
            "Training: 100%|██████████| 38/38 [00:10<00:00,  3.74it/s]\n"
          ]
        },
        {
          "output_type": "stream",
          "name": "stdout",
          "text": [
            "Training Loss: 0.9033, Accuracy: 57.74%, Precision: 0.5587, Recall: 0.5774, F1-Score: 0.5490\n"
          ]
        },
        {
          "output_type": "stream",
          "name": "stderr",
          "text": [
            "Validation: 100%|██████████| 6/6 [00:00<00:00, 12.03it/s]\n"
          ]
        },
        {
          "output_type": "stream",
          "name": "stdout",
          "text": [
            "Validation Loss: 0.8952, Accuracy: 59.26%, Precision: 0.6276, Recall: 0.5926, F1-Score: 0.5788\n",
            "New best model saved\n",
            "Epoch 4/100\n"
          ]
        },
        {
          "output_type": "stream",
          "name": "stderr",
          "text": [
            "Training: 100%|██████████| 38/38 [00:09<00:00,  3.87it/s]\n"
          ]
        },
        {
          "output_type": "stream",
          "name": "stdout",
          "text": [
            "Training Loss: 0.6002, Accuracy: 75.71%, Precision: 0.7605, Recall: 0.7571, F1-Score: 0.7531\n"
          ]
        },
        {
          "output_type": "stream",
          "name": "stderr",
          "text": [
            "Validation: 100%|██████████| 6/6 [00:00<00:00, 10.56it/s]\n"
          ]
        },
        {
          "output_type": "stream",
          "name": "stdout",
          "text": [
            "Validation Loss: 0.9928, Accuracy: 56.79%, Precision: 0.6733, Recall: 0.5679, F1-Score: 0.5477\n",
            "Epoch 5/100\n"
          ]
        },
        {
          "output_type": "stream",
          "name": "stderr",
          "text": [
            "Training: 100%|██████████| 38/38 [00:09<00:00,  3.92it/s]\n"
          ]
        },
        {
          "output_type": "stream",
          "name": "stdout",
          "text": [
            "Training Loss: 0.4051, Accuracy: 85.02%, Precision: 0.8508, Recall: 0.8502, F1-Score: 0.8497\n"
          ]
        },
        {
          "output_type": "stream",
          "name": "stderr",
          "text": [
            "Validation: 100%|██████████| 6/6 [00:00<00:00,  9.72it/s]\n"
          ]
        },
        {
          "output_type": "stream",
          "name": "stdout",
          "text": [
            "Validation Loss: 0.6646, Accuracy: 69.14%, Precision: 0.7835, Recall: 0.6914, F1-Score: 0.6983\n",
            "New best model saved\n",
            "Epoch 6/100\n"
          ]
        },
        {
          "output_type": "stream",
          "name": "stderr",
          "text": [
            "Training: 100%|██████████| 38/38 [00:09<00:00,  3.99it/s]\n"
          ]
        },
        {
          "output_type": "stream",
          "name": "stdout",
          "text": [
            "Training Loss: 0.1937, Accuracy: 93.84%, Precision: 0.9386, Recall: 0.9384, F1-Score: 0.9383\n"
          ]
        },
        {
          "output_type": "stream",
          "name": "stderr",
          "text": [
            "Validation: 100%|██████████| 6/6 [00:00<00:00, 11.29it/s]\n"
          ]
        },
        {
          "output_type": "stream",
          "name": "stdout",
          "text": [
            "Validation Loss: 0.7628, Accuracy: 74.07%, Precision: 0.8309, Recall: 0.7407, F1-Score: 0.7329\n",
            "Epoch 7/100\n"
          ]
        },
        {
          "output_type": "stream",
          "name": "stderr",
          "text": [
            "Training: 100%|██████████| 38/38 [00:09<00:00,  3.91it/s]\n"
          ]
        },
        {
          "output_type": "stream",
          "name": "stdout",
          "text": [
            "Training Loss: 0.1791, Accuracy: 92.35%, Precision: 0.9234, Recall: 0.9235, F1-Score: 0.9233\n"
          ]
        },
        {
          "output_type": "stream",
          "name": "stderr",
          "text": [
            "Validation: 100%|██████████| 6/6 [00:00<00:00, 12.22it/s]\n"
          ]
        },
        {
          "output_type": "stream",
          "name": "stdout",
          "text": [
            "Validation Loss: 0.4002, Accuracy: 82.72%, Precision: 0.8639, Recall: 0.8272, F1-Score: 0.8343\n",
            "New best model saved\n",
            "Epoch 8/100\n"
          ]
        },
        {
          "output_type": "stream",
          "name": "stderr",
          "text": [
            "Training: 100%|██████████| 38/38 [00:09<00:00,  3.83it/s]\n"
          ]
        },
        {
          "output_type": "stream",
          "name": "stdout",
          "text": [
            "Training Loss: 0.1350, Accuracy: 95.67%, Precision: 0.9567, Recall: 0.9567, F1-Score: 0.9567\n"
          ]
        },
        {
          "output_type": "stream",
          "name": "stderr",
          "text": [
            "Validation: 100%|██████████| 6/6 [00:00<00:00, 12.09it/s]\n"
          ]
        },
        {
          "output_type": "stream",
          "name": "stdout",
          "text": [
            "Validation Loss: 0.3444, Accuracy: 83.95%, Precision: 0.8824, Recall: 0.8395, F1-Score: 0.8498\n",
            "New best model saved\n",
            "Epoch 9/100\n"
          ]
        },
        {
          "output_type": "stream",
          "name": "stderr",
          "text": [
            "Training: 100%|██████████| 38/38 [00:09<00:00,  3.95it/s]\n"
          ]
        },
        {
          "output_type": "stream",
          "name": "stdout",
          "text": [
            "Training Loss: 0.0664, Accuracy: 98.17%, Precision: 0.9817, Recall: 0.9817, F1-Score: 0.9817\n"
          ]
        },
        {
          "output_type": "stream",
          "name": "stderr",
          "text": [
            "Validation: 100%|██████████| 6/6 [00:00<00:00,  7.23it/s]\n"
          ]
        },
        {
          "output_type": "stream",
          "name": "stdout",
          "text": [
            "Validation Loss: 0.3931, Accuracy: 77.78%, Precision: 0.8121, Recall: 0.7778, F1-Score: 0.7794\n",
            "Epoch 10/100\n"
          ]
        },
        {
          "output_type": "stream",
          "name": "stderr",
          "text": [
            "Training: 100%|██████████| 38/38 [00:09<00:00,  3.92it/s]\n"
          ]
        },
        {
          "output_type": "stream",
          "name": "stdout",
          "text": [
            "Training Loss: 0.0399, Accuracy: 99.17%, Precision: 0.9917, Recall: 0.9917, F1-Score: 0.9917\n"
          ]
        },
        {
          "output_type": "stream",
          "name": "stderr",
          "text": [
            "Validation: 100%|██████████| 6/6 [00:00<00:00, 12.12it/s]\n"
          ]
        },
        {
          "output_type": "stream",
          "name": "stdout",
          "text": [
            "Validation Loss: 0.3633, Accuracy: 85.19%, Precision: 0.8891, Recall: 0.8519, F1-Score: 0.8594\n",
            "Epoch 11/100\n"
          ]
        },
        {
          "output_type": "stream",
          "name": "stderr",
          "text": [
            "Training: 100%|██████████| 38/38 [00:09<00:00,  3.86it/s]\n"
          ]
        },
        {
          "output_type": "stream",
          "name": "stdout",
          "text": [
            "Training Loss: 0.0210, Accuracy: 99.50%, Precision: 0.9950, Recall: 0.9950, F1-Score: 0.9950\n"
          ]
        },
        {
          "output_type": "stream",
          "name": "stderr",
          "text": [
            "Validation: 100%|██████████| 6/6 [00:00<00:00, 12.11it/s]\n"
          ]
        },
        {
          "output_type": "stream",
          "name": "stdout",
          "text": [
            "Validation Loss: 0.5700, Accuracy: 76.54%, Precision: 0.8833, Recall: 0.7654, F1-Score: 0.7856\n",
            "Epoch 12/100\n"
          ]
        },
        {
          "output_type": "stream",
          "name": "stderr",
          "text": [
            "Training: 100%|██████████| 38/38 [00:09<00:00,  3.89it/s]\n"
          ]
        },
        {
          "output_type": "stream",
          "name": "stdout",
          "text": [
            "Training Loss: 0.0281, Accuracy: 99.50%, Precision: 0.9950, Recall: 0.9950, F1-Score: 0.9950\n"
          ]
        },
        {
          "output_type": "stream",
          "name": "stderr",
          "text": [
            "Validation: 100%|██████████| 6/6 [00:00<00:00, 12.02it/s]\n"
          ]
        },
        {
          "output_type": "stream",
          "name": "stdout",
          "text": [
            "Validation Loss: 0.3584, Accuracy: 88.89%, Precision: 0.9077, Recall: 0.8889, F1-Score: 0.8878\n",
            "Epoch 13/100\n"
          ]
        },
        {
          "output_type": "stream",
          "name": "stderr",
          "text": [
            "Training: 100%|██████████| 38/38 [00:09<00:00,  3.98it/s]\n"
          ]
        },
        {
          "output_type": "stream",
          "name": "stdout",
          "text": [
            "Training Loss: 0.0270, Accuracy: 99.00%, Precision: 0.9900, Recall: 0.9900, F1-Score: 0.9900\n"
          ]
        },
        {
          "output_type": "stream",
          "name": "stderr",
          "text": [
            "Validation: 100%|██████████| 6/6 [00:00<00:00, 10.45it/s]\n"
          ]
        },
        {
          "output_type": "stream",
          "name": "stdout",
          "text": [
            "Validation Loss: 0.3236, Accuracy: 87.65%, Precision: 0.8954, Recall: 0.8765, F1-Score: 0.8804\n",
            "New best model saved\n",
            "Epoch 14/100\n"
          ]
        },
        {
          "output_type": "stream",
          "name": "stderr",
          "text": [
            "Training: 100%|██████████| 38/38 [00:09<00:00,  3.93it/s]\n"
          ]
        },
        {
          "output_type": "stream",
          "name": "stdout",
          "text": [
            "Training Loss: 0.0162, Accuracy: 99.33%, Precision: 0.9933, Recall: 0.9933, F1-Score: 0.9933\n"
          ]
        },
        {
          "output_type": "stream",
          "name": "stderr",
          "text": [
            "Validation: 100%|██████████| 6/6 [00:00<00:00, 10.06it/s]\n"
          ]
        },
        {
          "output_type": "stream",
          "name": "stdout",
          "text": [
            "Validation Loss: 0.2615, Accuracy: 90.12%, Precision: 0.9063, Recall: 0.9012, F1-Score: 0.9022\n",
            "New best model saved\n",
            "Epoch 15/100\n"
          ]
        },
        {
          "output_type": "stream",
          "name": "stderr",
          "text": [
            "Training: 100%|██████████| 38/38 [00:09<00:00,  3.91it/s]\n"
          ]
        },
        {
          "output_type": "stream",
          "name": "stdout",
          "text": [
            "Training Loss: 0.0172, Accuracy: 99.50%, Precision: 0.9950, Recall: 0.9950, F1-Score: 0.9950\n"
          ]
        },
        {
          "output_type": "stream",
          "name": "stderr",
          "text": [
            "Validation: 100%|██████████| 6/6 [00:00<00:00,  9.69it/s]\n"
          ]
        },
        {
          "output_type": "stream",
          "name": "stdout",
          "text": [
            "Validation Loss: 0.2818, Accuracy: 90.12%, Precision: 0.9149, Recall: 0.9012, F1-Score: 0.9022\n",
            "Epoch 16/100\n"
          ]
        },
        {
          "output_type": "stream",
          "name": "stderr",
          "text": [
            "Training: 100%|██████████| 38/38 [00:09<00:00,  3.83it/s]\n"
          ]
        },
        {
          "output_type": "stream",
          "name": "stdout",
          "text": [
            "Training Loss: 0.0082, Accuracy: 99.83%, Precision: 0.9984, Recall: 0.9983, F1-Score: 0.9983\n"
          ]
        },
        {
          "output_type": "stream",
          "name": "stderr",
          "text": [
            "Validation: 100%|██████████| 6/6 [00:00<00:00, 11.75it/s]\n"
          ]
        },
        {
          "output_type": "stream",
          "name": "stdout",
          "text": [
            "Validation Loss: 0.2530, Accuracy: 91.36%, Precision: 0.9212, Recall: 0.9136, F1-Score: 0.9151\n",
            "New best model saved\n",
            "Epoch 17/100\n"
          ]
        },
        {
          "output_type": "stream",
          "name": "stderr",
          "text": [
            "Training: 100%|██████████| 38/38 [00:09<00:00,  3.93it/s]\n"
          ]
        },
        {
          "output_type": "stream",
          "name": "stdout",
          "text": [
            "Training Loss: 0.0069, Accuracy: 99.67%, Precision: 0.9967, Recall: 0.9967, F1-Score: 0.9967\n"
          ]
        },
        {
          "output_type": "stream",
          "name": "stderr",
          "text": [
            "Validation: 100%|██████████| 6/6 [00:00<00:00,  7.42it/s]\n"
          ]
        },
        {
          "output_type": "stream",
          "name": "stdout",
          "text": [
            "Validation Loss: 0.3714, Accuracy: 86.42%, Precision: 0.9124, Recall: 0.8642, F1-Score: 0.8732\n",
            "Epoch 18/100\n"
          ]
        },
        {
          "output_type": "stream",
          "name": "stderr",
          "text": [
            "Training: 100%|██████████| 38/38 [00:09<00:00,  3.87it/s]\n"
          ]
        },
        {
          "output_type": "stream",
          "name": "stdout",
          "text": [
            "Training Loss: 0.0107, Accuracy: 99.67%, Precision: 0.9967, Recall: 0.9967, F1-Score: 0.9967\n"
          ]
        },
        {
          "output_type": "stream",
          "name": "stderr",
          "text": [
            "Validation: 100%|██████████| 6/6 [00:00<00:00, 12.07it/s]\n"
          ]
        },
        {
          "output_type": "stream",
          "name": "stdout",
          "text": [
            "Validation Loss: 0.3592, Accuracy: 85.19%, Precision: 0.9081, Recall: 0.8519, F1-Score: 0.8624\n",
            "Epoch 19/100\n"
          ]
        },
        {
          "output_type": "stream",
          "name": "stderr",
          "text": [
            "Training: 100%|██████████| 38/38 [00:09<00:00,  3.90it/s]\n"
          ]
        },
        {
          "output_type": "stream",
          "name": "stdout",
          "text": [
            "Training Loss: 0.0084, Accuracy: 99.83%, Precision: 0.9983, Recall: 0.9983, F1-Score: 0.9983\n"
          ]
        },
        {
          "output_type": "stream",
          "name": "stderr",
          "text": [
            "Validation: 100%|██████████| 6/6 [00:00<00:00, 12.20it/s]\n"
          ]
        },
        {
          "output_type": "stream",
          "name": "stdout",
          "text": [
            "Validation Loss: 0.2627, Accuracy: 90.12%, Precision: 0.9096, Recall: 0.9012, F1-Score: 0.9026\n",
            "Epoch 20/100\n"
          ]
        },
        {
          "output_type": "stream",
          "name": "stderr",
          "text": [
            "Training: 100%|██████████| 38/38 [00:09<00:00,  3.86it/s]\n"
          ]
        },
        {
          "output_type": "stream",
          "name": "stdout",
          "text": [
            "Training Loss: 0.0065, Accuracy: 99.67%, Precision: 0.9967, Recall: 0.9967, F1-Score: 0.9967\n"
          ]
        },
        {
          "output_type": "stream",
          "name": "stderr",
          "text": [
            "Validation: 100%|██████████| 6/6 [00:00<00:00, 12.17it/s]\n"
          ]
        },
        {
          "output_type": "stream",
          "name": "stdout",
          "text": [
            "Validation Loss: 0.3174, Accuracy: 90.12%, Precision: 0.9201, Recall: 0.9012, F1-Score: 0.9040\n",
            "Epoch 21/100\n"
          ]
        },
        {
          "output_type": "stream",
          "name": "stderr",
          "text": [
            "Training: 100%|██████████| 38/38 [00:09<00:00,  3.97it/s]\n"
          ]
        },
        {
          "output_type": "stream",
          "name": "stdout",
          "text": [
            "Training Loss: 0.0040, Accuracy: 99.83%, Precision: 0.9984, Recall: 0.9983, F1-Score: 0.9983\n"
          ]
        },
        {
          "output_type": "stream",
          "name": "stderr",
          "text": [
            "Validation: 100%|██████████| 6/6 [00:00<00:00,  9.82it/s]\n"
          ]
        },
        {
          "output_type": "stream",
          "name": "stdout",
          "text": [
            "Validation Loss: 0.3372, Accuracy: 88.89%, Precision: 0.9221, Recall: 0.8889, F1-Score: 0.8954\n",
            "Epoch 22/100\n"
          ]
        },
        {
          "output_type": "stream",
          "name": "stderr",
          "text": [
            "Training: 100%|██████████| 38/38 [00:09<00:00,  3.89it/s]\n"
          ]
        },
        {
          "output_type": "stream",
          "name": "stdout",
          "text": [
            "Training Loss: 0.0075, Accuracy: 99.67%, Precision: 0.9967, Recall: 0.9967, F1-Score: 0.9967\n"
          ]
        },
        {
          "output_type": "stream",
          "name": "stderr",
          "text": [
            "Validation: 100%|██████████| 6/6 [00:00<00:00, 11.95it/s]\n"
          ]
        },
        {
          "output_type": "stream",
          "name": "stdout",
          "text": [
            "Validation Loss: 0.3317, Accuracy: 88.89%, Precision: 0.9221, Recall: 0.8889, F1-Score: 0.8954\n",
            "Epoch 23/100\n"
          ]
        },
        {
          "output_type": "stream",
          "name": "stderr",
          "text": [
            "Training: 100%|██████████| 38/38 [00:09<00:00,  3.90it/s]\n"
          ]
        },
        {
          "output_type": "stream",
          "name": "stdout",
          "text": [
            "Training Loss: 0.0035, Accuracy: 99.83%, Precision: 0.9984, Recall: 0.9983, F1-Score: 0.9983\n"
          ]
        },
        {
          "output_type": "stream",
          "name": "stderr",
          "text": [
            "Validation: 100%|██████████| 6/6 [00:00<00:00, 11.83it/s]\n"
          ]
        },
        {
          "output_type": "stream",
          "name": "stdout",
          "text": [
            "Validation Loss: 0.3161, Accuracy: 90.12%, Precision: 0.9201, Recall: 0.9012, F1-Score: 0.9040\n",
            "Epoch 24/100\n"
          ]
        },
        {
          "output_type": "stream",
          "name": "stderr",
          "text": [
            "Training: 100%|██████████| 38/38 [00:09<00:00,  3.86it/s]\n"
          ]
        },
        {
          "output_type": "stream",
          "name": "stdout",
          "text": [
            "Training Loss: 0.0048, Accuracy: 99.83%, Precision: 0.9983, Recall: 0.9983, F1-Score: 0.9983\n"
          ]
        },
        {
          "output_type": "stream",
          "name": "stderr",
          "text": [
            "Validation: 100%|██████████| 6/6 [00:00<00:00, 11.59it/s]\n"
          ]
        },
        {
          "output_type": "stream",
          "name": "stdout",
          "text": [
            "Validation Loss: 0.2919, Accuracy: 90.12%, Precision: 0.9077, Recall: 0.9012, F1-Score: 0.9021\n",
            "Epoch 25/100\n"
          ]
        },
        {
          "output_type": "stream",
          "name": "stderr",
          "text": [
            "Training: 100%|██████████| 38/38 [00:09<00:00,  4.02it/s]\n"
          ]
        },
        {
          "output_type": "stream",
          "name": "stdout",
          "text": [
            "Training Loss: 0.0038, Accuracy: 99.83%, Precision: 0.9984, Recall: 0.9983, F1-Score: 0.9983\n"
          ]
        },
        {
          "output_type": "stream",
          "name": "stderr",
          "text": [
            "Validation: 100%|██████████| 6/6 [00:00<00:00,  9.41it/s]\n"
          ]
        },
        {
          "output_type": "stream",
          "name": "stdout",
          "text": [
            "Validation Loss: 0.3229, Accuracy: 92.59%, Precision: 0.9408, Recall: 0.9259, F1-Score: 0.9286\n",
            "Epoch 26/100\n"
          ]
        },
        {
          "output_type": "stream",
          "name": "stderr",
          "text": [
            "Training: 100%|██████████| 38/38 [00:09<00:00,  3.93it/s]\n"
          ]
        },
        {
          "output_type": "stream",
          "name": "stdout",
          "text": [
            "Training Loss: 0.0026, Accuracy: 99.83%, Precision: 0.9984, Recall: 0.9983, F1-Score: 0.9983\n"
          ]
        },
        {
          "output_type": "stream",
          "name": "stderr",
          "text": [
            "Validation: 100%|██████████| 6/6 [00:00<00:00, 12.16it/s]\n"
          ]
        },
        {
          "output_type": "stream",
          "name": "stdout",
          "text": [
            "Validation Loss: 0.3282, Accuracy: 91.36%, Precision: 0.9336, Recall: 0.9136, F1-Score: 0.9173\n",
            "Epoch 27/100\n"
          ]
        },
        {
          "output_type": "stream",
          "name": "stderr",
          "text": [
            "Training: 100%|██████████| 38/38 [00:09<00:00,  3.87it/s]\n"
          ]
        },
        {
          "output_type": "stream",
          "name": "stdout",
          "text": [
            "Training Loss: 0.0039, Accuracy: 99.83%, Precision: 0.9984, Recall: 0.9983, F1-Score: 0.9983\n"
          ]
        },
        {
          "output_type": "stream",
          "name": "stderr",
          "text": [
            "Validation: 100%|██████████| 6/6 [00:00<00:00, 12.09it/s]\n"
          ]
        },
        {
          "output_type": "stream",
          "name": "stdout",
          "text": [
            "Validation Loss: 0.3646, Accuracy: 88.89%, Precision: 0.9221, Recall: 0.8889, F1-Score: 0.8954\n",
            "Epoch 28/100\n"
          ]
        },
        {
          "output_type": "stream",
          "name": "stderr",
          "text": [
            "Training: 100%|██████████| 38/38 [00:09<00:00,  3.90it/s]\n"
          ]
        },
        {
          "output_type": "stream",
          "name": "stdout",
          "text": [
            "Training Loss: 0.0068, Accuracy: 99.67%, Precision: 0.9967, Recall: 0.9967, F1-Score: 0.9967\n"
          ]
        },
        {
          "output_type": "stream",
          "name": "stderr",
          "text": [
            "Validation: 100%|██████████| 6/6 [00:00<00:00,  9.57it/s]\n"
          ]
        },
        {
          "output_type": "stream",
          "name": "stdout",
          "text": [
            "Validation Loss: 0.3294, Accuracy: 90.12%, Precision: 0.9201, Recall: 0.9012, F1-Score: 0.9040\n",
            "Epoch 29/100\n"
          ]
        },
        {
          "output_type": "stream",
          "name": "stderr",
          "text": [
            "Training: 100%|██████████| 38/38 [00:09<00:00,  4.00it/s]\n"
          ]
        },
        {
          "output_type": "stream",
          "name": "stdout",
          "text": [
            "Training Loss: 0.0026, Accuracy: 100.00%, Precision: 1.0000, Recall: 1.0000, F1-Score: 1.0000\n"
          ]
        },
        {
          "output_type": "stream",
          "name": "stderr",
          "text": [
            "Validation: 100%|██████████| 6/6 [00:00<00:00, 12.11it/s]\n"
          ]
        },
        {
          "output_type": "stream",
          "name": "stdout",
          "text": [
            "Validation Loss: 0.3400, Accuracy: 88.89%, Precision: 0.9221, Recall: 0.8889, F1-Score: 0.8954\n",
            "Epoch 30/100\n"
          ]
        },
        {
          "output_type": "stream",
          "name": "stderr",
          "text": [
            "Training: 100%|██████████| 38/38 [00:09<00:00,  3.87it/s]\n"
          ]
        },
        {
          "output_type": "stream",
          "name": "stdout",
          "text": [
            "Training Loss: 0.0025, Accuracy: 99.83%, Precision: 0.9984, Recall: 0.9983, F1-Score: 0.9983\n"
          ]
        },
        {
          "output_type": "stream",
          "name": "stderr",
          "text": [
            "Validation: 100%|██████████| 6/6 [00:00<00:00, 12.33it/s]\n"
          ]
        },
        {
          "output_type": "stream",
          "name": "stdout",
          "text": [
            "Validation Loss: 0.3500, Accuracy: 88.89%, Precision: 0.9221, Recall: 0.8889, F1-Score: 0.8954\n",
            "Epoch 31/100\n"
          ]
        },
        {
          "output_type": "stream",
          "name": "stderr",
          "text": [
            "Training: 100%|██████████| 38/38 [00:09<00:00,  3.86it/s]\n"
          ]
        },
        {
          "output_type": "stream",
          "name": "stdout",
          "text": [
            "Training Loss: 0.0023, Accuracy: 99.83%, Precision: 0.9984, Recall: 0.9983, F1-Score: 0.9983\n"
          ]
        },
        {
          "output_type": "stream",
          "name": "stderr",
          "text": [
            "Validation: 100%|██████████| 6/6 [00:00<00:00, 11.93it/s]\n"
          ]
        },
        {
          "output_type": "stream",
          "name": "stdout",
          "text": [
            "Validation Loss: 0.3903, Accuracy: 88.89%, Precision: 0.9221, Recall: 0.8889, F1-Score: 0.8954\n",
            "Epoch 32/100\n"
          ]
        },
        {
          "output_type": "stream",
          "name": "stderr",
          "text": [
            "Training: 100%|██████████| 38/38 [00:09<00:00,  3.90it/s]\n"
          ]
        },
        {
          "output_type": "stream",
          "name": "stdout",
          "text": [
            "Training Loss: 0.0055, Accuracy: 99.67%, Precision: 0.9967, Recall: 0.9967, F1-Score: 0.9967\n"
          ]
        },
        {
          "output_type": "stream",
          "name": "stderr",
          "text": [
            "Validation: 100%|██████████| 6/6 [00:00<00:00,  9.23it/s]\n"
          ]
        },
        {
          "output_type": "stream",
          "name": "stdout",
          "text": [
            "Validation Loss: 0.3586, Accuracy: 88.89%, Precision: 0.9221, Recall: 0.8889, F1-Score: 0.8954\n",
            "Epoch 33/100\n"
          ]
        },
        {
          "output_type": "stream",
          "name": "stderr",
          "text": [
            "Training: 100%|██████████| 38/38 [00:09<00:00,  3.98it/s]\n"
          ]
        },
        {
          "output_type": "stream",
          "name": "stdout",
          "text": [
            "Training Loss: 0.0033, Accuracy: 99.67%, Precision: 0.9967, Recall: 0.9967, F1-Score: 0.9967\n"
          ]
        },
        {
          "output_type": "stream",
          "name": "stderr",
          "text": [
            "Validation: 100%|██████████| 6/6 [00:00<00:00, 12.01it/s]\n"
          ]
        },
        {
          "output_type": "stream",
          "name": "stdout",
          "text": [
            "Validation Loss: 0.3418, Accuracy: 90.12%, Precision: 0.9201, Recall: 0.9012, F1-Score: 0.9040\n",
            "Epoch 34/100\n"
          ]
        },
        {
          "output_type": "stream",
          "name": "stderr",
          "text": [
            "Training: 100%|██████████| 38/38 [00:09<00:00,  3.84it/s]\n"
          ]
        },
        {
          "output_type": "stream",
          "name": "stdout",
          "text": [
            "Training Loss: 0.0027, Accuracy: 99.83%, Precision: 0.9984, Recall: 0.9983, F1-Score: 0.9983\n"
          ]
        },
        {
          "output_type": "stream",
          "name": "stderr",
          "text": [
            "Validation: 100%|██████████| 6/6 [00:00<00:00, 12.03it/s]\n"
          ]
        },
        {
          "output_type": "stream",
          "name": "stdout",
          "text": [
            "Validation Loss: 0.3724, Accuracy: 87.65%, Precision: 0.9076, Recall: 0.8765, F1-Score: 0.8822\n",
            "Epoch 35/100\n"
          ]
        },
        {
          "output_type": "stream",
          "name": "stderr",
          "text": [
            "Training: 100%|██████████| 38/38 [00:09<00:00,  3.88it/s]\n"
          ]
        },
        {
          "output_type": "stream",
          "name": "stdout",
          "text": [
            "Training Loss: 0.0029, Accuracy: 99.67%, Precision: 0.9967, Recall: 0.9967, F1-Score: 0.9967\n"
          ]
        },
        {
          "output_type": "stream",
          "name": "stderr",
          "text": [
            "Validation: 100%|██████████| 6/6 [00:00<00:00, 12.12it/s]\n"
          ]
        },
        {
          "output_type": "stream",
          "name": "stdout",
          "text": [
            "Validation Loss: 0.3577, Accuracy: 88.89%, Precision: 0.9221, Recall: 0.8889, F1-Score: 0.8954\n",
            "Epoch 36/100\n"
          ]
        },
        {
          "output_type": "stream",
          "name": "stderr",
          "text": [
            "Training: 100%|██████████| 38/38 [00:09<00:00,  3.94it/s]\n"
          ]
        },
        {
          "output_type": "stream",
          "name": "stdout",
          "text": [
            "Training Loss: 0.0043, Accuracy: 99.67%, Precision: 0.9967, Recall: 0.9967, F1-Score: 0.9967\n"
          ]
        },
        {
          "output_type": "stream",
          "name": "stderr",
          "text": [
            "Validation: 100%|██████████| 6/6 [00:00<00:00,  9.57it/s]\n"
          ]
        },
        {
          "output_type": "stream",
          "name": "stdout",
          "text": [
            "Validation Loss: 0.3369, Accuracy: 88.89%, Precision: 0.9221, Recall: 0.8889, F1-Score: 0.8954\n",
            "Epoch 37/100\n"
          ]
        },
        {
          "output_type": "stream",
          "name": "stderr",
          "text": [
            "Training: 100%|██████████| 38/38 [00:09<00:00,  3.94it/s]\n"
          ]
        },
        {
          "output_type": "stream",
          "name": "stdout",
          "text": [
            "Training Loss: 0.0033, Accuracy: 99.83%, Precision: 0.9983, Recall: 0.9983, F1-Score: 0.9983\n"
          ]
        },
        {
          "output_type": "stream",
          "name": "stderr",
          "text": [
            "Validation: 100%|██████████| 6/6 [00:00<00:00, 12.01it/s]\n"
          ]
        },
        {
          "output_type": "stream",
          "name": "stdout",
          "text": [
            "Validation Loss: 0.3306, Accuracy: 91.36%, Precision: 0.9336, Recall: 0.9136, F1-Score: 0.9173\n",
            "Epoch 38/100\n"
          ]
        },
        {
          "output_type": "stream",
          "name": "stderr",
          "text": [
            "Training: 100%|██████████| 38/38 [00:09<00:00,  3.86it/s]\n"
          ]
        },
        {
          "output_type": "stream",
          "name": "stdout",
          "text": [
            "Training Loss: 0.0052, Accuracy: 99.83%, Precision: 0.9984, Recall: 0.9983, F1-Score: 0.9983\n"
          ]
        },
        {
          "output_type": "stream",
          "name": "stderr",
          "text": [
            "Validation: 100%|██████████| 6/6 [00:00<00:00, 12.03it/s]\n"
          ]
        },
        {
          "output_type": "stream",
          "name": "stdout",
          "text": [
            "Validation Loss: 0.3790, Accuracy: 87.65%, Precision: 0.9076, Recall: 0.8765, F1-Score: 0.8822\n",
            "Epoch 39/100\n"
          ]
        },
        {
          "output_type": "stream",
          "name": "stderr",
          "text": [
            "Training: 100%|██████████| 38/38 [00:09<00:00,  3.88it/s]\n"
          ]
        },
        {
          "output_type": "stream",
          "name": "stdout",
          "text": [
            "Training Loss: 0.0019, Accuracy: 99.83%, Precision: 0.9983, Recall: 0.9983, F1-Score: 0.9983\n"
          ]
        },
        {
          "output_type": "stream",
          "name": "stderr",
          "text": [
            "Validation: 100%|██████████| 6/6 [00:00<00:00, 12.02it/s]\n"
          ]
        },
        {
          "output_type": "stream",
          "name": "stdout",
          "text": [
            "Validation Loss: 0.3645, Accuracy: 87.65%, Precision: 0.9076, Recall: 0.8765, F1-Score: 0.8822\n",
            "Epoch 40/100\n"
          ]
        },
        {
          "output_type": "stream",
          "name": "stderr",
          "text": [
            "Training: 100%|██████████| 38/38 [00:09<00:00,  3.96it/s]\n"
          ]
        },
        {
          "output_type": "stream",
          "name": "stdout",
          "text": [
            "Training Loss: 0.0048, Accuracy: 99.67%, Precision: 0.9967, Recall: 0.9967, F1-Score: 0.9967\n"
          ]
        },
        {
          "output_type": "stream",
          "name": "stderr",
          "text": [
            "Validation: 100%|██████████| 6/6 [00:00<00:00,  9.06it/s]\n"
          ]
        },
        {
          "output_type": "stream",
          "name": "stdout",
          "text": [
            "Validation Loss: 0.3294, Accuracy: 90.12%, Precision: 0.9111, Recall: 0.9012, F1-Score: 0.9016\n",
            "Epoch 41/100\n"
          ]
        },
        {
          "output_type": "stream",
          "name": "stderr",
          "text": [
            "Training: 100%|██████████| 38/38 [00:09<00:00,  3.90it/s]\n"
          ]
        },
        {
          "output_type": "stream",
          "name": "stdout",
          "text": [
            "Training Loss: 0.0040, Accuracy: 99.67%, Precision: 0.9967, Recall: 0.9967, F1-Score: 0.9967\n"
          ]
        },
        {
          "output_type": "stream",
          "name": "stderr",
          "text": [
            "Validation: 100%|██████████| 6/6 [00:00<00:00, 11.66it/s]\n"
          ]
        },
        {
          "output_type": "stream",
          "name": "stdout",
          "text": [
            "Validation Loss: 0.3609, Accuracy: 87.65%, Precision: 0.9076, Recall: 0.8765, F1-Score: 0.8822\n",
            "Epoch 42/100\n"
          ]
        },
        {
          "output_type": "stream",
          "name": "stderr",
          "text": [
            "Training: 100%|██████████| 38/38 [00:09<00:00,  3.84it/s]\n"
          ]
        },
        {
          "output_type": "stream",
          "name": "stdout",
          "text": [
            "Training Loss: 0.0029, Accuracy: 99.67%, Precision: 0.9967, Recall: 0.9967, F1-Score: 0.9967\n"
          ]
        },
        {
          "output_type": "stream",
          "name": "stderr",
          "text": [
            "Validation: 100%|██████████| 6/6 [00:00<00:00, 11.98it/s]\n"
          ]
        },
        {
          "output_type": "stream",
          "name": "stdout",
          "text": [
            "Validation Loss: 0.3760, Accuracy: 88.89%, Precision: 0.9221, Recall: 0.8889, F1-Score: 0.8954\n",
            "Epoch 43/100\n"
          ]
        },
        {
          "output_type": "stream",
          "name": "stderr",
          "text": [
            "Training: 100%|██████████| 38/38 [00:09<00:00,  3.86it/s]\n"
          ]
        },
        {
          "output_type": "stream",
          "name": "stdout",
          "text": [
            "Training Loss: 0.0022, Accuracy: 99.83%, Precision: 0.9984, Recall: 0.9983, F1-Score: 0.9983\n"
          ]
        },
        {
          "output_type": "stream",
          "name": "stderr",
          "text": [
            "Validation: 100%|██████████| 6/6 [00:00<00:00, 10.29it/s]\n"
          ]
        },
        {
          "output_type": "stream",
          "name": "stdout",
          "text": [
            "Validation Loss: 0.4067, Accuracy: 88.89%, Precision: 0.9221, Recall: 0.8889, F1-Score: 0.8954\n",
            "Epoch 44/100\n"
          ]
        },
        {
          "output_type": "stream",
          "name": "stderr",
          "text": [
            "Training: 100%|██████████| 38/38 [00:09<00:00,  3.99it/s]\n"
          ]
        },
        {
          "output_type": "stream",
          "name": "stdout",
          "text": [
            "Training Loss: 0.0033, Accuracy: 99.83%, Precision: 0.9983, Recall: 0.9983, F1-Score: 0.9983\n"
          ]
        },
        {
          "output_type": "stream",
          "name": "stderr",
          "text": [
            "Validation: 100%|██████████| 6/6 [00:00<00:00, 10.35it/s]\n"
          ]
        },
        {
          "output_type": "stream",
          "name": "stdout",
          "text": [
            "Validation Loss: 0.3925, Accuracy: 88.89%, Precision: 0.9221, Recall: 0.8889, F1-Score: 0.8954\n",
            "Epoch 45/100\n"
          ]
        },
        {
          "output_type": "stream",
          "name": "stderr",
          "text": [
            "Training: 100%|██████████| 38/38 [00:09<00:00,  3.84it/s]\n"
          ]
        },
        {
          "output_type": "stream",
          "name": "stdout",
          "text": [
            "Training Loss: 0.0037, Accuracy: 99.67%, Precision: 0.9967, Recall: 0.9967, F1-Score: 0.9967\n"
          ]
        },
        {
          "output_type": "stream",
          "name": "stderr",
          "text": [
            "Validation: 100%|██████████| 6/6 [00:00<00:00, 11.88it/s]\n"
          ]
        },
        {
          "output_type": "stream",
          "name": "stdout",
          "text": [
            "Validation Loss: 0.3799, Accuracy: 88.89%, Precision: 0.9221, Recall: 0.8889, F1-Score: 0.8954\n",
            "Epoch 46/100\n"
          ]
        },
        {
          "output_type": "stream",
          "name": "stderr",
          "text": [
            "Training: 100%|██████████| 38/38 [00:09<00:00,  3.92it/s]\n"
          ]
        },
        {
          "output_type": "stream",
          "name": "stdout",
          "text": [
            "Training Loss: 0.0040, Accuracy: 99.67%, Precision: 0.9967, Recall: 0.9967, F1-Score: 0.9967\n"
          ]
        },
        {
          "output_type": "stream",
          "name": "stderr",
          "text": [
            "Validation: 100%|██████████| 6/6 [00:00<00:00, 12.06it/s]\n"
          ]
        },
        {
          "output_type": "stream",
          "name": "stdout",
          "text": [
            "Validation Loss: 0.3689, Accuracy: 88.89%, Precision: 0.9221, Recall: 0.8889, F1-Score: 0.8954\n",
            "Epoch 47/100\n"
          ]
        },
        {
          "output_type": "stream",
          "name": "stderr",
          "text": [
            "Training: 100%|██████████| 38/38 [00:09<00:00,  3.90it/s]\n"
          ]
        },
        {
          "output_type": "stream",
          "name": "stdout",
          "text": [
            "Training Loss: 0.0035, Accuracy: 99.67%, Precision: 0.9967, Recall: 0.9967, F1-Score: 0.9967\n"
          ]
        },
        {
          "output_type": "stream",
          "name": "stderr",
          "text": [
            "Validation: 100%|██████████| 6/6 [00:00<00:00,  8.89it/s]\n"
          ]
        },
        {
          "output_type": "stream",
          "name": "stdout",
          "text": [
            "Validation Loss: 0.3746, Accuracy: 87.65%, Precision: 0.9076, Recall: 0.8765, F1-Score: 0.8822\n",
            "Epoch 48/100\n"
          ]
        },
        {
          "output_type": "stream",
          "name": "stderr",
          "text": [
            "Training: 100%|██████████| 38/38 [00:09<00:00,  3.97it/s]\n"
          ]
        },
        {
          "output_type": "stream",
          "name": "stdout",
          "text": [
            "Training Loss: 0.0022, Accuracy: 100.00%, Precision: 1.0000, Recall: 1.0000, F1-Score: 1.0000\n"
          ]
        },
        {
          "output_type": "stream",
          "name": "stderr",
          "text": [
            "Validation: 100%|██████████| 6/6 [00:00<00:00, 12.09it/s]\n"
          ]
        },
        {
          "output_type": "stream",
          "name": "stdout",
          "text": [
            "Validation Loss: 0.3824, Accuracy: 87.65%, Precision: 0.9076, Recall: 0.8765, F1-Score: 0.8822\n",
            "Epoch 49/100\n"
          ]
        },
        {
          "output_type": "stream",
          "name": "stderr",
          "text": [
            "Training: 100%|██████████| 38/38 [00:09<00:00,  3.85it/s]\n"
          ]
        },
        {
          "output_type": "stream",
          "name": "stdout",
          "text": [
            "Training Loss: 0.0033, Accuracy: 99.83%, Precision: 0.9984, Recall: 0.9983, F1-Score: 0.9983\n"
          ]
        },
        {
          "output_type": "stream",
          "name": "stderr",
          "text": [
            "Validation: 100%|██████████| 6/6 [00:00<00:00, 12.15it/s]\n"
          ]
        },
        {
          "output_type": "stream",
          "name": "stdout",
          "text": [
            "Validation Loss: 0.3878, Accuracy: 87.65%, Precision: 0.9076, Recall: 0.8765, F1-Score: 0.8822\n",
            "Epoch 50/100\n"
          ]
        },
        {
          "output_type": "stream",
          "name": "stderr",
          "text": [
            "Training: 100%|██████████| 38/38 [00:09<00:00,  3.85it/s]\n"
          ]
        },
        {
          "output_type": "stream",
          "name": "stdout",
          "text": [
            "Training Loss: 0.0037, Accuracy: 99.83%, Precision: 0.9983, Recall: 0.9983, F1-Score: 0.9983\n"
          ]
        },
        {
          "output_type": "stream",
          "name": "stderr",
          "text": [
            "Validation: 100%|██████████| 6/6 [00:00<00:00, 11.77it/s]\n"
          ]
        },
        {
          "output_type": "stream",
          "name": "stdout",
          "text": [
            "Validation Loss: 0.3892, Accuracy: 90.12%, Precision: 0.9201, Recall: 0.9012, F1-Score: 0.9040\n",
            "Epoch 51/100\n"
          ]
        },
        {
          "output_type": "stream",
          "name": "stderr",
          "text": [
            "Training: 100%|██████████| 38/38 [00:09<00:00,  3.96it/s]\n"
          ]
        },
        {
          "output_type": "stream",
          "name": "stdout",
          "text": [
            "Training Loss: 0.0029, Accuracy: 99.83%, Precision: 0.9984, Recall: 0.9983, F1-Score: 0.9983\n"
          ]
        },
        {
          "output_type": "stream",
          "name": "stderr",
          "text": [
            "Validation: 100%|██████████| 6/6 [00:00<00:00,  9.78it/s]\n"
          ]
        },
        {
          "output_type": "stream",
          "name": "stdout",
          "text": [
            "Validation Loss: 0.3898, Accuracy: 87.65%, Precision: 0.9076, Recall: 0.8765, F1-Score: 0.8822\n",
            "Epoch 52/100\n"
          ]
        },
        {
          "output_type": "stream",
          "name": "stderr",
          "text": [
            "Training: 100%|██████████| 38/38 [00:09<00:00,  3.94it/s]\n"
          ]
        },
        {
          "output_type": "stream",
          "name": "stdout",
          "text": [
            "Training Loss: 0.0023, Accuracy: 99.83%, Precision: 0.9983, Recall: 0.9983, F1-Score: 0.9983\n"
          ]
        },
        {
          "output_type": "stream",
          "name": "stderr",
          "text": [
            "Validation: 100%|██████████| 6/6 [00:00<00:00, 12.18it/s]\n"
          ]
        },
        {
          "output_type": "stream",
          "name": "stdout",
          "text": [
            "Validation Loss: 0.3891, Accuracy: 90.12%, Precision: 0.9201, Recall: 0.9012, F1-Score: 0.9040\n",
            "Epoch 53/100\n"
          ]
        },
        {
          "output_type": "stream",
          "name": "stderr",
          "text": [
            "Training: 100%|██████████| 38/38 [00:09<00:00,  3.87it/s]\n"
          ]
        },
        {
          "output_type": "stream",
          "name": "stdout",
          "text": [
            "Training Loss: 0.0034, Accuracy: 99.67%, Precision: 0.9967, Recall: 0.9967, F1-Score: 0.9967\n"
          ]
        },
        {
          "output_type": "stream",
          "name": "stderr",
          "text": [
            "Validation: 100%|██████████| 6/6 [00:00<00:00, 12.21it/s]\n"
          ]
        },
        {
          "output_type": "stream",
          "name": "stdout",
          "text": [
            "Validation Loss: 0.3668, Accuracy: 90.12%, Precision: 0.9201, Recall: 0.9012, F1-Score: 0.9040\n",
            "Epoch 54/100\n"
          ]
        },
        {
          "output_type": "stream",
          "name": "stderr",
          "text": [
            "Training: 100%|██████████| 38/38 [00:09<00:00,  3.87it/s]\n"
          ]
        },
        {
          "output_type": "stream",
          "name": "stdout",
          "text": [
            "Training Loss: 0.0037, Accuracy: 99.67%, Precision: 0.9967, Recall: 0.9967, F1-Score: 0.9967\n"
          ]
        },
        {
          "output_type": "stream",
          "name": "stderr",
          "text": [
            "Validation: 100%|██████████| 6/6 [00:00<00:00, 11.96it/s]\n"
          ]
        },
        {
          "output_type": "stream",
          "name": "stdout",
          "text": [
            "Validation Loss: 0.3712, Accuracy: 90.12%, Precision: 0.9148, Recall: 0.9012, F1-Score: 0.9026\n",
            "Epoch 55/100\n"
          ]
        },
        {
          "output_type": "stream",
          "name": "stderr",
          "text": [
            "Training: 100%|██████████| 38/38 [00:09<00:00,  3.96it/s]\n"
          ]
        },
        {
          "output_type": "stream",
          "name": "stdout",
          "text": [
            "Training Loss: 0.0021, Accuracy: 100.00%, Precision: 1.0000, Recall: 1.0000, F1-Score: 1.0000\n"
          ]
        },
        {
          "output_type": "stream",
          "name": "stderr",
          "text": [
            "Validation: 100%|██████████| 6/6 [00:00<00:00,  9.85it/s]\n"
          ]
        },
        {
          "output_type": "stream",
          "name": "stdout",
          "text": [
            "Validation Loss: 0.3941, Accuracy: 88.89%, Precision: 0.9221, Recall: 0.8889, F1-Score: 0.8954\n",
            "Epoch 56/100\n"
          ]
        },
        {
          "output_type": "stream",
          "name": "stderr",
          "text": [
            "Training: 100%|██████████| 38/38 [00:09<00:00,  3.94it/s]\n"
          ]
        },
        {
          "output_type": "stream",
          "name": "stdout",
          "text": [
            "Training Loss: 0.0026, Accuracy: 99.83%, Precision: 0.9984, Recall: 0.9983, F1-Score: 0.9983\n"
          ]
        },
        {
          "output_type": "stream",
          "name": "stderr",
          "text": [
            "Validation: 100%|██████████| 6/6 [00:00<00:00, 12.05it/s]\n"
          ]
        },
        {
          "output_type": "stream",
          "name": "stdout",
          "text": [
            "Validation Loss: 0.3921, Accuracy: 88.89%, Precision: 0.9221, Recall: 0.8889, F1-Score: 0.8954\n",
            "Epoch 57/100\n"
          ]
        },
        {
          "output_type": "stream",
          "name": "stderr",
          "text": [
            "Training: 100%|██████████| 38/38 [00:09<00:00,  3.85it/s]\n"
          ]
        },
        {
          "output_type": "stream",
          "name": "stdout",
          "text": [
            "Training Loss: 0.0034, Accuracy: 99.67%, Precision: 0.9967, Recall: 0.9967, F1-Score: 0.9967\n"
          ]
        },
        {
          "output_type": "stream",
          "name": "stderr",
          "text": [
            "Validation: 100%|██████████| 6/6 [00:00<00:00, 12.12it/s]\n"
          ]
        },
        {
          "output_type": "stream",
          "name": "stdout",
          "text": [
            "Validation Loss: 0.3844, Accuracy: 88.89%, Precision: 0.9221, Recall: 0.8889, F1-Score: 0.8954\n",
            "Epoch 58/100\n"
          ]
        },
        {
          "output_type": "stream",
          "name": "stderr",
          "text": [
            "Training: 100%|██████████| 38/38 [00:09<00:00,  3.84it/s]\n"
          ]
        },
        {
          "output_type": "stream",
          "name": "stdout",
          "text": [
            "Training Loss: 0.0044, Accuracy: 99.83%, Precision: 0.9983, Recall: 0.9983, F1-Score: 0.9983\n"
          ]
        },
        {
          "output_type": "stream",
          "name": "stderr",
          "text": [
            "Validation: 100%|██████████| 6/6 [00:00<00:00, 11.74it/s]\n"
          ]
        },
        {
          "output_type": "stream",
          "name": "stdout",
          "text": [
            "Validation Loss: 0.3820, Accuracy: 88.89%, Precision: 0.9221, Recall: 0.8889, F1-Score: 0.8954\n",
            "Epoch 59/100\n"
          ]
        },
        {
          "output_type": "stream",
          "name": "stderr",
          "text": [
            "Training: 100%|██████████| 38/38 [00:09<00:00,  3.97it/s]\n"
          ]
        },
        {
          "output_type": "stream",
          "name": "stdout",
          "text": [
            "Training Loss: 0.0032, Accuracy: 99.67%, Precision: 0.9967, Recall: 0.9967, F1-Score: 0.9967\n"
          ]
        },
        {
          "output_type": "stream",
          "name": "stderr",
          "text": [
            "Validation: 100%|██████████| 6/6 [00:00<00:00, 10.17it/s]\n"
          ]
        },
        {
          "output_type": "stream",
          "name": "stdout",
          "text": [
            "Validation Loss: 0.3892, Accuracy: 88.89%, Precision: 0.9221, Recall: 0.8889, F1-Score: 0.8954\n",
            "Epoch 60/100\n"
          ]
        },
        {
          "output_type": "stream",
          "name": "stderr",
          "text": [
            "Training: 100%|██████████| 38/38 [00:09<00:00,  3.92it/s]\n"
          ]
        },
        {
          "output_type": "stream",
          "name": "stdout",
          "text": [
            "Training Loss: 0.0028, Accuracy: 99.83%, Precision: 0.9984, Recall: 0.9983, F1-Score: 0.9983\n"
          ]
        },
        {
          "output_type": "stream",
          "name": "stderr",
          "text": [
            "Validation: 100%|██████████| 6/6 [00:00<00:00, 12.01it/s]\n"
          ]
        },
        {
          "output_type": "stream",
          "name": "stdout",
          "text": [
            "Validation Loss: 0.4117, Accuracy: 88.89%, Precision: 0.9221, Recall: 0.8889, F1-Score: 0.8954\n",
            "Epoch 61/100\n"
          ]
        },
        {
          "output_type": "stream",
          "name": "stderr",
          "text": [
            "Training: 100%|██████████| 38/38 [00:09<00:00,  3.89it/s]\n"
          ]
        },
        {
          "output_type": "stream",
          "name": "stdout",
          "text": [
            "Training Loss: 0.0036, Accuracy: 99.83%, Precision: 0.9983, Recall: 0.9983, F1-Score: 0.9983\n"
          ]
        },
        {
          "output_type": "stream",
          "name": "stderr",
          "text": [
            "Validation: 100%|██████████| 6/6 [00:00<00:00, 11.52it/s]\n"
          ]
        },
        {
          "output_type": "stream",
          "name": "stdout",
          "text": [
            "Validation Loss: 0.3846, Accuracy: 88.89%, Precision: 0.9137, Recall: 0.8889, F1-Score: 0.8933\n",
            "Epoch 62/100\n"
          ]
        },
        {
          "output_type": "stream",
          "name": "stderr",
          "text": [
            "Training: 100%|██████████| 38/38 [00:09<00:00,  3.87it/s]\n"
          ]
        },
        {
          "output_type": "stream",
          "name": "stdout",
          "text": [
            "Training Loss: 0.0018, Accuracy: 100.00%, Precision: 1.0000, Recall: 1.0000, F1-Score: 1.0000\n"
          ]
        },
        {
          "output_type": "stream",
          "name": "stderr",
          "text": [
            "Validation: 100%|██████████| 6/6 [00:00<00:00, 11.68it/s]\n"
          ]
        },
        {
          "output_type": "stream",
          "name": "stdout",
          "text": [
            "Validation Loss: 0.3736, Accuracy: 88.89%, Precision: 0.9137, Recall: 0.8889, F1-Score: 0.8933\n",
            "Epoch 63/100\n"
          ]
        },
        {
          "output_type": "stream",
          "name": "stderr",
          "text": [
            "Training: 100%|██████████| 38/38 [00:09<00:00,  3.97it/s]\n"
          ]
        },
        {
          "output_type": "stream",
          "name": "stdout",
          "text": [
            "Training Loss: 0.0027, Accuracy: 99.83%, Precision: 0.9984, Recall: 0.9983, F1-Score: 0.9983\n"
          ]
        },
        {
          "output_type": "stream",
          "name": "stderr",
          "text": [
            "Validation: 100%|██████████| 6/6 [00:00<00:00,  9.46it/s]\n"
          ]
        },
        {
          "output_type": "stream",
          "name": "stdout",
          "text": [
            "Validation Loss: 0.3919, Accuracy: 87.65%, Precision: 0.9076, Recall: 0.8765, F1-Score: 0.8822\n",
            "Epoch 64/100\n"
          ]
        },
        {
          "output_type": "stream",
          "name": "stderr",
          "text": [
            "Training: 100%|██████████| 38/38 [00:09<00:00,  3.90it/s]\n"
          ]
        },
        {
          "output_type": "stream",
          "name": "stdout",
          "text": [
            "Training Loss: 0.0029, Accuracy: 99.83%, Precision: 0.9984, Recall: 0.9983, F1-Score: 0.9983\n"
          ]
        },
        {
          "output_type": "stream",
          "name": "stderr",
          "text": [
            "Validation: 100%|██████████| 6/6 [00:00<00:00, 11.85it/s]\n"
          ]
        },
        {
          "output_type": "stream",
          "name": "stdout",
          "text": [
            "Validation Loss: 0.4123, Accuracy: 88.89%, Precision: 0.9221, Recall: 0.8889, F1-Score: 0.8954\n",
            "Epoch 65/100\n"
          ]
        },
        {
          "output_type": "stream",
          "name": "stderr",
          "text": [
            "Training: 100%|██████████| 38/38 [00:09<00:00,  3.87it/s]\n"
          ]
        },
        {
          "output_type": "stream",
          "name": "stdout",
          "text": [
            "Training Loss: 0.0033, Accuracy: 99.83%, Precision: 0.9983, Recall: 0.9983, F1-Score: 0.9983\n"
          ]
        },
        {
          "output_type": "stream",
          "name": "stderr",
          "text": [
            "Validation: 100%|██████████| 6/6 [00:00<00:00, 12.00it/s]\n"
          ]
        },
        {
          "output_type": "stream",
          "name": "stdout",
          "text": [
            "Validation Loss: 0.3858, Accuracy: 88.89%, Precision: 0.9221, Recall: 0.8889, F1-Score: 0.8954\n",
            "Epoch 66/100\n"
          ]
        },
        {
          "output_type": "stream",
          "name": "stderr",
          "text": [
            "Training: 100%|██████████| 38/38 [00:09<00:00,  3.86it/s]\n"
          ]
        },
        {
          "output_type": "stream",
          "name": "stdout",
          "text": [
            "Training Loss: 0.0033, Accuracy: 99.67%, Precision: 0.9967, Recall: 0.9967, F1-Score: 0.9967\n"
          ]
        },
        {
          "output_type": "stream",
          "name": "stderr",
          "text": [
            "Validation: 100%|██████████| 6/6 [00:00<00:00, 10.66it/s]\n"
          ]
        },
        {
          "output_type": "stream",
          "name": "stdout",
          "text": [
            "Validation Loss: 0.4090, Accuracy: 88.89%, Precision: 0.9221, Recall: 0.8889, F1-Score: 0.8954\n",
            "Epoch 67/100\n"
          ]
        },
        {
          "output_type": "stream",
          "name": "stderr",
          "text": [
            "Training: 100%|██████████| 38/38 [00:09<00:00,  3.99it/s]\n"
          ]
        },
        {
          "output_type": "stream",
          "name": "stdout",
          "text": [
            "Training Loss: 0.0033, Accuracy: 99.83%, Precision: 0.9983, Recall: 0.9983, F1-Score: 0.9983\n"
          ]
        },
        {
          "output_type": "stream",
          "name": "stderr",
          "text": [
            "Validation: 100%|██████████| 6/6 [00:00<00:00, 10.40it/s]\n"
          ]
        },
        {
          "output_type": "stream",
          "name": "stdout",
          "text": [
            "Validation Loss: 0.4026, Accuracy: 88.89%, Precision: 0.9221, Recall: 0.8889, F1-Score: 0.8954\n",
            "Epoch 68/100\n"
          ]
        },
        {
          "output_type": "stream",
          "name": "stderr",
          "text": [
            "Training: 100%|██████████| 38/38 [00:09<00:00,  3.88it/s]\n"
          ]
        },
        {
          "output_type": "stream",
          "name": "stdout",
          "text": [
            "Training Loss: 0.0041, Accuracy: 99.67%, Precision: 0.9967, Recall: 0.9967, F1-Score: 0.9967\n"
          ]
        },
        {
          "output_type": "stream",
          "name": "stderr",
          "text": [
            "Validation: 100%|██████████| 6/6 [00:00<00:00, 11.96it/s]\n"
          ]
        },
        {
          "output_type": "stream",
          "name": "stdout",
          "text": [
            "Validation Loss: 0.4061, Accuracy: 88.89%, Precision: 0.9221, Recall: 0.8889, F1-Score: 0.8954\n",
            "Epoch 69/100\n"
          ]
        },
        {
          "output_type": "stream",
          "name": "stderr",
          "text": [
            "Training: 100%|██████████| 38/38 [00:09<00:00,  3.90it/s]\n"
          ]
        },
        {
          "output_type": "stream",
          "name": "stdout",
          "text": [
            "Training Loss: 0.0025, Accuracy: 99.83%, Precision: 0.9983, Recall: 0.9983, F1-Score: 0.9983\n"
          ]
        },
        {
          "output_type": "stream",
          "name": "stderr",
          "text": [
            "Validation: 100%|██████████| 6/6 [00:00<00:00, 12.04it/s]\n"
          ]
        },
        {
          "output_type": "stream",
          "name": "stdout",
          "text": [
            "Validation Loss: 0.3956, Accuracy: 87.65%, Precision: 0.9076, Recall: 0.8765, F1-Score: 0.8822\n",
            "Epoch 70/100\n"
          ]
        },
        {
          "output_type": "stream",
          "name": "stderr",
          "text": [
            "Training: 100%|██████████| 38/38 [00:09<00:00,  3.89it/s]\n"
          ]
        },
        {
          "output_type": "stream",
          "name": "stdout",
          "text": [
            "Training Loss: 0.0040, Accuracy: 99.67%, Precision: 0.9967, Recall: 0.9967, F1-Score: 0.9967\n"
          ]
        },
        {
          "output_type": "stream",
          "name": "stderr",
          "text": [
            "Validation: 100%|██████████| 6/6 [00:00<00:00,  9.91it/s]\n"
          ]
        },
        {
          "output_type": "stream",
          "name": "stdout",
          "text": [
            "Validation Loss: 0.3960, Accuracy: 88.89%, Precision: 0.9221, Recall: 0.8889, F1-Score: 0.8954\n",
            "Epoch 71/100\n"
          ]
        },
        {
          "output_type": "stream",
          "name": "stderr",
          "text": [
            "Training: 100%|██████████| 38/38 [00:09<00:00,  3.99it/s]\n"
          ]
        },
        {
          "output_type": "stream",
          "name": "stdout",
          "text": [
            "Training Loss: 0.0019, Accuracy: 100.00%, Precision: 1.0000, Recall: 1.0000, F1-Score: 1.0000\n"
          ]
        },
        {
          "output_type": "stream",
          "name": "stderr",
          "text": [
            "Validation: 100%|██████████| 6/6 [00:00<00:00, 11.94it/s]\n"
          ]
        },
        {
          "output_type": "stream",
          "name": "stdout",
          "text": [
            "Validation Loss: 0.4037, Accuracy: 88.89%, Precision: 0.9221, Recall: 0.8889, F1-Score: 0.8954\n",
            "Epoch 72/100\n"
          ]
        },
        {
          "output_type": "stream",
          "name": "stderr",
          "text": [
            "Training: 100%|██████████| 38/38 [00:09<00:00,  3.86it/s]\n"
          ]
        },
        {
          "output_type": "stream",
          "name": "stdout",
          "text": [
            "Training Loss: 0.0022, Accuracy: 100.00%, Precision: 1.0000, Recall: 1.0000, F1-Score: 1.0000\n"
          ]
        },
        {
          "output_type": "stream",
          "name": "stderr",
          "text": [
            "Validation: 100%|██████████| 6/6 [00:00<00:00, 11.89it/s]\n"
          ]
        },
        {
          "output_type": "stream",
          "name": "stdout",
          "text": [
            "Validation Loss: 0.3993, Accuracy: 88.89%, Precision: 0.9221, Recall: 0.8889, F1-Score: 0.8954\n",
            "Epoch 73/100\n"
          ]
        },
        {
          "output_type": "stream",
          "name": "stderr",
          "text": [
            "Training: 100%|██████████| 38/38 [00:09<00:00,  3.87it/s]\n"
          ]
        },
        {
          "output_type": "stream",
          "name": "stdout",
          "text": [
            "Training Loss: 0.0030, Accuracy: 99.83%, Precision: 0.9984, Recall: 0.9983, F1-Score: 0.9983\n"
          ]
        },
        {
          "output_type": "stream",
          "name": "stderr",
          "text": [
            "Validation: 100%|██████████| 6/6 [00:00<00:00, 12.15it/s]\n"
          ]
        },
        {
          "output_type": "stream",
          "name": "stdout",
          "text": [
            "Validation Loss: 0.4109, Accuracy: 90.12%, Precision: 0.9111, Recall: 0.9012, F1-Score: 0.9016\n",
            "Epoch 74/100\n"
          ]
        },
        {
          "output_type": "stream",
          "name": "stderr",
          "text": [
            "Training: 100%|██████████| 38/38 [00:09<00:00,  3.87it/s]\n"
          ]
        },
        {
          "output_type": "stream",
          "name": "stdout",
          "text": [
            "Training Loss: 0.0030, Accuracy: 99.67%, Precision: 0.9967, Recall: 0.9967, F1-Score: 0.9967\n"
          ]
        },
        {
          "output_type": "stream",
          "name": "stderr",
          "text": [
            "Validation: 100%|██████████| 6/6 [00:00<00:00,  9.03it/s]\n"
          ]
        },
        {
          "output_type": "stream",
          "name": "stdout",
          "text": [
            "Validation Loss: 0.3719, Accuracy: 90.12%, Precision: 0.9148, Recall: 0.9012, F1-Score: 0.9026\n",
            "Epoch 75/100\n"
          ]
        },
        {
          "output_type": "stream",
          "name": "stderr",
          "text": [
            "Training: 100%|██████████| 38/38 [00:09<00:00,  3.98it/s]\n"
          ]
        },
        {
          "output_type": "stream",
          "name": "stdout",
          "text": [
            "Training Loss: 0.0020, Accuracy: 100.00%, Precision: 1.0000, Recall: 1.0000, F1-Score: 1.0000\n"
          ]
        },
        {
          "output_type": "stream",
          "name": "stderr",
          "text": [
            "Validation: 100%|██████████| 6/6 [00:00<00:00, 11.85it/s]\n"
          ]
        },
        {
          "output_type": "stream",
          "name": "stdout",
          "text": [
            "Validation Loss: 0.3708, Accuracy: 87.65%, Precision: 0.9003, Recall: 0.8765, F1-Score: 0.8803\n",
            "Epoch 76/100\n"
          ]
        },
        {
          "output_type": "stream",
          "name": "stderr",
          "text": [
            "Training: 100%|██████████| 38/38 [00:09<00:00,  3.87it/s]\n"
          ]
        },
        {
          "output_type": "stream",
          "name": "stdout",
          "text": [
            "Training Loss: 0.0038, Accuracy: 99.83%, Precision: 0.9984, Recall: 0.9983, F1-Score: 0.9983\n"
          ]
        },
        {
          "output_type": "stream",
          "name": "stderr",
          "text": [
            "Validation: 100%|██████████| 6/6 [00:00<00:00, 12.08it/s]\n"
          ]
        },
        {
          "output_type": "stream",
          "name": "stdout",
          "text": [
            "Validation Loss: 0.3715, Accuracy: 88.89%, Precision: 0.9137, Recall: 0.8889, F1-Score: 0.8933\n",
            "Epoch 77/100\n"
          ]
        },
        {
          "output_type": "stream",
          "name": "stderr",
          "text": [
            "Training: 100%|██████████| 38/38 [00:09<00:00,  3.89it/s]\n"
          ]
        },
        {
          "output_type": "stream",
          "name": "stdout",
          "text": [
            "Training Loss: 0.0025, Accuracy: 99.83%, Precision: 0.9984, Recall: 0.9983, F1-Score: 0.9983\n"
          ]
        },
        {
          "output_type": "stream",
          "name": "stderr",
          "text": [
            "Validation: 100%|██████████| 6/6 [00:00<00:00, 12.04it/s]\n"
          ]
        },
        {
          "output_type": "stream",
          "name": "stdout",
          "text": [
            "Validation Loss: 0.3954, Accuracy: 88.89%, Precision: 0.9221, Recall: 0.8889, F1-Score: 0.8954\n",
            "Epoch 78/100\n"
          ]
        },
        {
          "output_type": "stream",
          "name": "stderr",
          "text": [
            "Training: 100%|██████████| 38/38 [00:09<00:00,  3.94it/s]\n"
          ]
        },
        {
          "output_type": "stream",
          "name": "stdout",
          "text": [
            "Training Loss: 0.0025, Accuracy: 99.83%, Precision: 0.9983, Recall: 0.9983, F1-Score: 0.9983\n"
          ]
        },
        {
          "output_type": "stream",
          "name": "stderr",
          "text": [
            "Validation: 100%|██████████| 6/6 [00:00<00:00,  9.31it/s]\n"
          ]
        },
        {
          "output_type": "stream",
          "name": "stdout",
          "text": [
            "Validation Loss: 0.4032, Accuracy: 88.89%, Precision: 0.9221, Recall: 0.8889, F1-Score: 0.8954\n",
            "Epoch 79/100\n"
          ]
        },
        {
          "output_type": "stream",
          "name": "stderr",
          "text": [
            "Training: 100%|██████████| 38/38 [00:09<00:00,  3.91it/s]\n"
          ]
        },
        {
          "output_type": "stream",
          "name": "stdout",
          "text": [
            "Training Loss: 0.0030, Accuracy: 99.67%, Precision: 0.9967, Recall: 0.9967, F1-Score: 0.9967\n"
          ]
        },
        {
          "output_type": "stream",
          "name": "stderr",
          "text": [
            "Validation: 100%|██████████| 6/6 [00:00<00:00, 12.08it/s]\n"
          ]
        },
        {
          "output_type": "stream",
          "name": "stdout",
          "text": [
            "Validation Loss: 0.3997, Accuracy: 87.65%, Precision: 0.9003, Recall: 0.8765, F1-Score: 0.8803\n",
            "Epoch 80/100\n"
          ]
        },
        {
          "output_type": "stream",
          "name": "stderr",
          "text": [
            "Training: 100%|██████████| 38/38 [00:09<00:00,  3.84it/s]\n"
          ]
        },
        {
          "output_type": "stream",
          "name": "stdout",
          "text": [
            "Training Loss: 0.0028, Accuracy: 99.83%, Precision: 0.9984, Recall: 0.9983, F1-Score: 0.9983\n"
          ]
        },
        {
          "output_type": "stream",
          "name": "stderr",
          "text": [
            "Validation: 100%|██████████| 6/6 [00:00<00:00, 12.02it/s]\n"
          ]
        },
        {
          "output_type": "stream",
          "name": "stdout",
          "text": [
            "Validation Loss: 0.3842, Accuracy: 88.89%, Precision: 0.9221, Recall: 0.8889, F1-Score: 0.8954\n",
            "Epoch 81/100\n"
          ]
        },
        {
          "output_type": "stream",
          "name": "stderr",
          "text": [
            "Training: 100%|██████████| 38/38 [00:09<00:00,  3.90it/s]\n"
          ]
        },
        {
          "output_type": "stream",
          "name": "stdout",
          "text": [
            "Training Loss: 0.0025, Accuracy: 100.00%, Precision: 1.0000, Recall: 1.0000, F1-Score: 1.0000\n"
          ]
        },
        {
          "output_type": "stream",
          "name": "stderr",
          "text": [
            "Validation: 100%|██████████| 6/6 [00:00<00:00, 11.92it/s]\n"
          ]
        },
        {
          "output_type": "stream",
          "name": "stdout",
          "text": [
            "Validation Loss: 0.3920, Accuracy: 88.89%, Precision: 0.9221, Recall: 0.8889, F1-Score: 0.8954\n",
            "Epoch 82/100\n"
          ]
        },
        {
          "output_type": "stream",
          "name": "stderr",
          "text": [
            "Training: 100%|██████████| 38/38 [00:09<00:00,  3.93it/s]\n"
          ]
        },
        {
          "output_type": "stream",
          "name": "stdout",
          "text": [
            "Training Loss: 0.0014, Accuracy: 100.00%, Precision: 1.0000, Recall: 1.0000, F1-Score: 1.0000\n"
          ]
        },
        {
          "output_type": "stream",
          "name": "stderr",
          "text": [
            "Validation: 100%|██████████| 6/6 [00:00<00:00,  9.71it/s]\n"
          ]
        },
        {
          "output_type": "stream",
          "name": "stdout",
          "text": [
            "Validation Loss: 0.3851, Accuracy: 88.89%, Precision: 0.9221, Recall: 0.8889, F1-Score: 0.8954\n",
            "Epoch 83/100\n"
          ]
        },
        {
          "output_type": "stream",
          "name": "stderr",
          "text": [
            "Training: 100%|██████████| 38/38 [00:09<00:00,  3.93it/s]\n"
          ]
        },
        {
          "output_type": "stream",
          "name": "stdout",
          "text": [
            "Training Loss: 0.0038, Accuracy: 99.67%, Precision: 0.9967, Recall: 0.9967, F1-Score: 0.9967\n"
          ]
        },
        {
          "output_type": "stream",
          "name": "stderr",
          "text": [
            "Validation: 100%|██████████| 6/6 [00:00<00:00, 12.04it/s]\n"
          ]
        },
        {
          "output_type": "stream",
          "name": "stdout",
          "text": [
            "Validation Loss: 0.4041, Accuracy: 87.65%, Precision: 0.9076, Recall: 0.8765, F1-Score: 0.8822\n",
            "Epoch 84/100\n"
          ]
        },
        {
          "output_type": "stream",
          "name": "stderr",
          "text": [
            "Training: 100%|██████████| 38/38 [00:09<00:00,  3.88it/s]\n"
          ]
        },
        {
          "output_type": "stream",
          "name": "stdout",
          "text": [
            "Training Loss: 0.0033, Accuracy: 99.67%, Precision: 0.9967, Recall: 0.9967, F1-Score: 0.9967\n"
          ]
        },
        {
          "output_type": "stream",
          "name": "stderr",
          "text": [
            "Validation: 100%|██████████| 6/6 [00:00<00:00, 11.96it/s]\n"
          ]
        },
        {
          "output_type": "stream",
          "name": "stdout",
          "text": [
            "Validation Loss: 0.3919, Accuracy: 88.89%, Precision: 0.9221, Recall: 0.8889, F1-Score: 0.8954\n",
            "Epoch 85/100\n"
          ]
        },
        {
          "output_type": "stream",
          "name": "stderr",
          "text": [
            "Training: 100%|██████████| 38/38 [00:09<00:00,  3.88it/s]\n"
          ]
        },
        {
          "output_type": "stream",
          "name": "stdout",
          "text": [
            "Training Loss: 0.0022, Accuracy: 100.00%, Precision: 1.0000, Recall: 1.0000, F1-Score: 1.0000\n"
          ]
        },
        {
          "output_type": "stream",
          "name": "stderr",
          "text": [
            "Validation: 100%|██████████| 6/6 [00:00<00:00, 11.63it/s]\n"
          ]
        },
        {
          "output_type": "stream",
          "name": "stdout",
          "text": [
            "Validation Loss: 0.3990, Accuracy: 88.89%, Precision: 0.9221, Recall: 0.8889, F1-Score: 0.8954\n",
            "Epoch 86/100\n"
          ]
        },
        {
          "output_type": "stream",
          "name": "stderr",
          "text": [
            "Training: 100%|██████████| 38/38 [00:09<00:00,  3.99it/s]\n"
          ]
        },
        {
          "output_type": "stream",
          "name": "stdout",
          "text": [
            "Training Loss: 0.0032, Accuracy: 99.67%, Precision: 0.9967, Recall: 0.9967, F1-Score: 0.9967\n"
          ]
        },
        {
          "output_type": "stream",
          "name": "stderr",
          "text": [
            "Validation: 100%|██████████| 6/6 [00:00<00:00,  9.66it/s]\n"
          ]
        },
        {
          "output_type": "stream",
          "name": "stdout",
          "text": [
            "Validation Loss: 0.3943, Accuracy: 88.89%, Precision: 0.9221, Recall: 0.8889, F1-Score: 0.8954\n",
            "Epoch 87/100\n"
          ]
        },
        {
          "output_type": "stream",
          "name": "stderr",
          "text": [
            "Training: 100%|██████████| 38/38 [00:09<00:00,  3.89it/s]\n"
          ]
        },
        {
          "output_type": "stream",
          "name": "stdout",
          "text": [
            "Training Loss: 0.0032, Accuracy: 99.67%, Precision: 0.9967, Recall: 0.9967, F1-Score: 0.9967\n"
          ]
        },
        {
          "output_type": "stream",
          "name": "stderr",
          "text": [
            "Validation: 100%|██████████| 6/6 [00:00<00:00, 11.88it/s]\n"
          ]
        },
        {
          "output_type": "stream",
          "name": "stdout",
          "text": [
            "Validation Loss: 0.4010, Accuracy: 88.89%, Precision: 0.9221, Recall: 0.8889, F1-Score: 0.8954\n",
            "Epoch 88/100\n"
          ]
        },
        {
          "output_type": "stream",
          "name": "stderr",
          "text": [
            "Training: 100%|██████████| 38/38 [00:09<00:00,  3.86it/s]\n"
          ]
        },
        {
          "output_type": "stream",
          "name": "stdout",
          "text": [
            "Training Loss: 0.0036, Accuracy: 99.83%, Precision: 0.9984, Recall: 0.9983, F1-Score: 0.9983\n"
          ]
        },
        {
          "output_type": "stream",
          "name": "stderr",
          "text": [
            "Validation: 100%|██████████| 6/6 [00:00<00:00, 11.93it/s]\n"
          ]
        },
        {
          "output_type": "stream",
          "name": "stdout",
          "text": [
            "Validation Loss: 0.4182, Accuracy: 88.89%, Precision: 0.9221, Recall: 0.8889, F1-Score: 0.8954\n",
            "Epoch 89/100\n"
          ]
        },
        {
          "output_type": "stream",
          "name": "stderr",
          "text": [
            "Training: 100%|██████████| 38/38 [00:09<00:00,  3.91it/s]\n"
          ]
        },
        {
          "output_type": "stream",
          "name": "stdout",
          "text": [
            "Training Loss: 0.0024, Accuracy: 99.83%, Precision: 0.9984, Recall: 0.9983, F1-Score: 0.9983\n"
          ]
        },
        {
          "output_type": "stream",
          "name": "stderr",
          "text": [
            "Validation: 100%|██████████| 6/6 [00:00<00:00,  9.54it/s]\n"
          ]
        },
        {
          "output_type": "stream",
          "name": "stdout",
          "text": [
            "Validation Loss: 0.4218, Accuracy: 88.89%, Precision: 0.9221, Recall: 0.8889, F1-Score: 0.8954\n",
            "Epoch 90/100\n"
          ]
        },
        {
          "output_type": "stream",
          "name": "stderr",
          "text": [
            "Training: 100%|██████████| 38/38 [00:09<00:00,  3.98it/s]\n"
          ]
        },
        {
          "output_type": "stream",
          "name": "stdout",
          "text": [
            "Training Loss: 0.0045, Accuracy: 99.67%, Precision: 0.9967, Recall: 0.9967, F1-Score: 0.9967\n"
          ]
        },
        {
          "output_type": "stream",
          "name": "stderr",
          "text": [
            "Validation: 100%|██████████| 6/6 [00:00<00:00, 12.18it/s]\n"
          ]
        },
        {
          "output_type": "stream",
          "name": "stdout",
          "text": [
            "Validation Loss: 0.4139, Accuracy: 88.89%, Precision: 0.9221, Recall: 0.8889, F1-Score: 0.8954\n",
            "Epoch 91/100\n"
          ]
        },
        {
          "output_type": "stream",
          "name": "stderr",
          "text": [
            "Training: 100%|██████████| 38/38 [00:09<00:00,  3.88it/s]\n"
          ]
        },
        {
          "output_type": "stream",
          "name": "stdout",
          "text": [
            "Training Loss: 0.0032, Accuracy: 99.67%, Precision: 0.9967, Recall: 0.9967, F1-Score: 0.9967\n"
          ]
        },
        {
          "output_type": "stream",
          "name": "stderr",
          "text": [
            "Validation: 100%|██████████| 6/6 [00:00<00:00, 11.81it/s]\n"
          ]
        },
        {
          "output_type": "stream",
          "name": "stdout",
          "text": [
            "Validation Loss: 0.4209, Accuracy: 88.89%, Precision: 0.9221, Recall: 0.8889, F1-Score: 0.8954\n",
            "Epoch 92/100\n"
          ]
        },
        {
          "output_type": "stream",
          "name": "stderr",
          "text": [
            "Training: 100%|██████████| 38/38 [00:09<00:00,  3.85it/s]\n"
          ]
        },
        {
          "output_type": "stream",
          "name": "stdout",
          "text": [
            "Training Loss: 0.0029, Accuracy: 99.83%, Precision: 0.9983, Recall: 0.9983, F1-Score: 0.9983\n"
          ]
        },
        {
          "output_type": "stream",
          "name": "stderr",
          "text": [
            "Validation: 100%|██████████| 6/6 [00:00<00:00, 12.10it/s]\n"
          ]
        },
        {
          "output_type": "stream",
          "name": "stdout",
          "text": [
            "Validation Loss: 0.4117, Accuracy: 88.89%, Precision: 0.9221, Recall: 0.8889, F1-Score: 0.8954\n",
            "Epoch 93/100\n"
          ]
        },
        {
          "output_type": "stream",
          "name": "stderr",
          "text": [
            "Training: 100%|██████████| 38/38 [00:09<00:00,  3.92it/s]\n"
          ]
        },
        {
          "output_type": "stream",
          "name": "stdout",
          "text": [
            "Training Loss: 0.0028, Accuracy: 99.67%, Precision: 0.9967, Recall: 0.9967, F1-Score: 0.9967\n"
          ]
        },
        {
          "output_type": "stream",
          "name": "stderr",
          "text": [
            "Validation: 100%|██████████| 6/6 [00:00<00:00, 10.30it/s]\n"
          ]
        },
        {
          "output_type": "stream",
          "name": "stdout",
          "text": [
            "Validation Loss: 0.4033, Accuracy: 88.89%, Precision: 0.9221, Recall: 0.8889, F1-Score: 0.8954\n",
            "Epoch 94/100\n"
          ]
        },
        {
          "output_type": "stream",
          "name": "stderr",
          "text": [
            "Training: 100%|██████████| 38/38 [00:09<00:00,  3.95it/s]\n"
          ]
        },
        {
          "output_type": "stream",
          "name": "stdout",
          "text": [
            "Training Loss: 0.0039, Accuracy: 99.83%, Precision: 0.9984, Recall: 0.9983, F1-Score: 0.9983\n"
          ]
        },
        {
          "output_type": "stream",
          "name": "stderr",
          "text": [
            "Validation: 100%|██████████| 6/6 [00:00<00:00, 11.92it/s]\n"
          ]
        },
        {
          "output_type": "stream",
          "name": "stdout",
          "text": [
            "Validation Loss: 0.4034, Accuracy: 88.89%, Precision: 0.9221, Recall: 0.8889, F1-Score: 0.8954\n",
            "Epoch 95/100\n"
          ]
        },
        {
          "output_type": "stream",
          "name": "stderr",
          "text": [
            "Training: 100%|██████████| 38/38 [00:09<00:00,  3.90it/s]\n"
          ]
        },
        {
          "output_type": "stream",
          "name": "stdout",
          "text": [
            "Training Loss: 0.0033, Accuracy: 99.83%, Precision: 0.9983, Recall: 0.9983, F1-Score: 0.9983\n"
          ]
        },
        {
          "output_type": "stream",
          "name": "stderr",
          "text": [
            "Validation: 100%|██████████| 6/6 [00:00<00:00, 11.51it/s]\n"
          ]
        },
        {
          "output_type": "stream",
          "name": "stdout",
          "text": [
            "Validation Loss: 0.3982, Accuracy: 88.89%, Precision: 0.9221, Recall: 0.8889, F1-Score: 0.8954\n",
            "Epoch 96/100\n"
          ]
        },
        {
          "output_type": "stream",
          "name": "stderr",
          "text": [
            "Training: 100%|██████████| 38/38 [00:09<00:00,  3.88it/s]\n"
          ]
        },
        {
          "output_type": "stream",
          "name": "stdout",
          "text": [
            "Training Loss: 0.0024, Accuracy: 100.00%, Precision: 1.0000, Recall: 1.0000, F1-Score: 1.0000\n"
          ]
        },
        {
          "output_type": "stream",
          "name": "stderr",
          "text": [
            "Validation: 100%|██████████| 6/6 [00:00<00:00, 12.16it/s]\n"
          ]
        },
        {
          "output_type": "stream",
          "name": "stdout",
          "text": [
            "Validation Loss: 0.3866, Accuracy: 88.89%, Precision: 0.9221, Recall: 0.8889, F1-Score: 0.8954\n",
            "Epoch 97/100\n"
          ]
        },
        {
          "output_type": "stream",
          "name": "stderr",
          "text": [
            "Training: 100%|██████████| 38/38 [00:09<00:00,  3.97it/s]\n"
          ]
        },
        {
          "output_type": "stream",
          "name": "stdout",
          "text": [
            "Training Loss: 0.0029, Accuracy: 99.67%, Precision: 0.9967, Recall: 0.9967, F1-Score: 0.9967\n"
          ]
        },
        {
          "output_type": "stream",
          "name": "stderr",
          "text": [
            "Validation: 100%|██████████| 6/6 [00:00<00:00,  9.31it/s]\n"
          ]
        },
        {
          "output_type": "stream",
          "name": "stdout",
          "text": [
            "Validation Loss: 0.3786, Accuracy: 88.89%, Precision: 0.9221, Recall: 0.8889, F1-Score: 0.8954\n",
            "Epoch 98/100\n"
          ]
        },
        {
          "output_type": "stream",
          "name": "stderr",
          "text": [
            "Training: 100%|██████████| 38/38 [00:09<00:00,  3.92it/s]\n"
          ]
        },
        {
          "output_type": "stream",
          "name": "stdout",
          "text": [
            "Training Loss: 0.0026, Accuracy: 99.67%, Precision: 0.9967, Recall: 0.9967, F1-Score: 0.9967\n"
          ]
        },
        {
          "output_type": "stream",
          "name": "stderr",
          "text": [
            "Validation: 100%|██████████| 6/6 [00:00<00:00, 11.74it/s]\n"
          ]
        },
        {
          "output_type": "stream",
          "name": "stdout",
          "text": [
            "Validation Loss: 0.3760, Accuracy: 88.89%, Precision: 0.9221, Recall: 0.8889, F1-Score: 0.8954\n",
            "Epoch 99/100\n"
          ]
        },
        {
          "output_type": "stream",
          "name": "stderr",
          "text": [
            "Training: 100%|██████████| 38/38 [00:09<00:00,  3.87it/s]\n"
          ]
        },
        {
          "output_type": "stream",
          "name": "stdout",
          "text": [
            "Training Loss: 0.0032, Accuracy: 99.67%, Precision: 0.9967, Recall: 0.9967, F1-Score: 0.9967\n"
          ]
        },
        {
          "output_type": "stream",
          "name": "stderr",
          "text": [
            "Validation: 100%|██████████| 6/6 [00:00<00:00, 11.83it/s]\n"
          ]
        },
        {
          "output_type": "stream",
          "name": "stdout",
          "text": [
            "Validation Loss: 0.3863, Accuracy: 87.65%, Precision: 0.9076, Recall: 0.8765, F1-Score: 0.8822\n",
            "Epoch 100/100\n"
          ]
        },
        {
          "output_type": "stream",
          "name": "stderr",
          "text": [
            "Training: 100%|██████████| 38/38 [00:09<00:00,  3.85it/s]\n"
          ]
        },
        {
          "output_type": "stream",
          "name": "stdout",
          "text": [
            "Training Loss: 0.0040, Accuracy: 99.67%, Precision: 0.9967, Recall: 0.9967, F1-Score: 0.9967\n"
          ]
        },
        {
          "output_type": "stream",
          "name": "stderr",
          "text": [
            "Validation: 100%|██████████| 6/6 [00:00<00:00, 11.88it/s]\n"
          ]
        },
        {
          "output_type": "stream",
          "name": "stdout",
          "text": [
            "Validation Loss: 0.3883, Accuracy: 88.89%, Precision: 0.9221, Recall: 0.8889, F1-Score: 0.8954\n",
            "Total Training + Validation Time: 1034.07 seconds\n"
          ]
        }
      ]
    },
    {
      "cell_type": "code",
      "source": [
        "# Plot training and validation loss\n",
        "plt.figure(figsize=(10, 5))\n",
        "plt.plot(train_losses, label='Training Loss')\n",
        "plt.plot(valid_losses, label='Validation Loss')\n",
        "plt.xlabel('Epoch')\n",
        "plt.ylabel('Loss')\n",
        "plt.legend()\n",
        "plt.title('Training and Validation Loss')\n",
        "plt.show()"
      ],
      "metadata": {
        "colab": {
          "base_uri": "https://localhost:8080/",
          "height": 366
        },
        "id": "SDrW3G8wOJkd",
        "outputId": "f3d37fea-fb5b-4e73-f8bb-b9288a6b31b7"
      },
      "id": "SDrW3G8wOJkd",
      "execution_count": null,
      "outputs": [
        {
          "output_type": "display_data",
          "data": {
            "text/plain": [
              "<Figure size 1000x500 with 1 Axes>"
            ],
            "image/png": "[encoded data removed]"
          },
          "metadata": {}
        }
      ]
    },
    {
      "cell_type": "code",
      "source": [
        "# Plot training and validation accuracy\n",
        "plt.figure(figsize=(10, 5))\n",
        "plt.plot(train_accuracies, label='Training Accuracy')\n",
        "plt.plot(valid_accuracies, label='Validation Accuracy')\n",
        "plt.xlabel('Epoch')\n",
        "plt.ylabel('Accuracy')\n",
        "plt.legend()\n",
        "plt.title('Training and Validation Accuracy')\n",
        "plt.show()"
      ],
      "metadata": {
        "colab": {
          "base_uri": "https://localhost:8080/",
          "height": 365
        },
        "id": "4f6mpgXsOZVx",
        "outputId": "457fabe2-498b-4294-e3e6-79fbcaab1e97"
      },
      "id": "4f6mpgXsOZVx",
      "execution_count": null,
      "outputs": [
        {
          "output_type": "display_data",
          "data": {
            "text/plain": [
              "<Figure size 1000x500 with 1 Axes>"
            ],
            "image/png": "[encoded data removed]"
          },
          "metadata": {}
        }
      ]
    },
    {
      "cell_type": "code",
      "source": [
        "\n",
        "# Hitung rata-rata metrik setelah semua epoch\n",
        "average_train_loss = np.mean(train_losses)\n",
        "average_valid_loss = np.mean(valid_losses)\n",
        "average_train_accuracy = np.mean(train_accuracies)\n",
        "average_valid_accuracy = np.mean(valid_accuracies)\n",
        "average_train_precision = np.mean(train_precisions) # Calculate mean from stored values\n",
        "average_valid_precision = np.mean(valid_precisions) # Calculate mean from stored values\n",
        "average_train_recall = np.mean(train_recalls)     # Calculate mean from stored values\n",
        "average_valid_recall = np.mean(valid_recalls)     # Calculate mean from stored values\n",
        "average_train_f1 = np.mean(train_f1s)           # Calculate mean from stored values\n",
        "average_valid_f1 = np.mean(valid_f1s)           # Calculate mean from stored values\n",
        "\n",
        "\n",
        "\n",
        "# Display results training\n",
        "print('--------------')\n",
        "print(f'Training Accuracy: {average_train_accuracy:.2f}%')\n",
        "print(f'Training Loss: {average_train_loss:.4f}')\n",
        "print(f'Training Precision: {average_train_precision:.4f}')\n",
        "print(f'Training Recall: {average_train_recall:.4f}')\n",
        "print(f'Training F1-Score: {average_train_f1:.4f}')\n",
        "\n",
        "\n",
        "# Display results validasi\n",
        "print('--------------')\n",
        "print(f'Validation Accuracy: {average_valid_accuracy:.2f}%')\n",
        "print(f'Validation Loss: {average_valid_loss:.4f}')\n",
        "print(f'Validation Precision: {average_valid_precision:.4f}')\n",
        "print(f'Validation Recall: {average_valid_recall:.4f}')\n",
        "print(f'Validation F1-Score: {average_valid_f1:.4f}')"
      ],
      "metadata": {
        "colab": {
          "base_uri": "https://localhost:8080/"
        },
        "id": "sHq9FmrkS6ND",
        "outputId": "48a8ce2e-7032-4452-ef33-ce149511fadd"
      },
      "id": "sHq9FmrkS6ND",
      "execution_count": null,
      "outputs": [
        {
          "output_type": "stream",
          "name": "stdout",
          "text": [
            "--------------\n",
            "Training Accuracy: 97.63%\n",
            "Training Loss: 0.0533\n",
            "Training Precision: 0.9761\n",
            "Training Recall: 0.9763\n",
            "Training F1-Score: 0.9755\n",
            "--------------\n",
            "Validation Accuracy: 86.54%\n",
            "Validation Loss: 0.4109\n",
            "Validation Precision: 0.9035\n",
            "Validation Recall: 0.8654\n",
            "Validation F1-Score: 0.8676\n"
          ]
        }
      ]
    },
    {
      "cell_type": "code",
      "source": [
        "def debug_pruned_weights(model):\n",
        "    \"\"\"\n",
        "    Print out the number of filters and weights in each layer to ensure pruning is correctly applied.\n",
        "    \"\"\"\n",
        "    for name, module in model.named_modules():\n",
        "        if isinstance(module, nn.Conv2d):\n",
        "            print(f\"Layer: {name}, Weights Shape: {module.weight.shape}\")\n",
        "\n",
        "# Periksa model setelah pruning\n",
        "debug_pruned_weights(pruned_model)\n"
      ],
      "metadata": {
        "colab": {
          "base_uri": "https://localhost:8080/"
        },
        "id": "ba4EgMHcoRQL",
        "outputId": "121e94cd-fcc6-4c09-ab06-8148ad7d77c1"
      },
      "id": "ba4EgMHcoRQL",
      "execution_count": null,
      "outputs": [
        {
          "output_type": "stream",
          "name": "stdout",
          "text": [
            "Layer: features.0, Weights Shape: torch.Size([58, 3, 3, 3])\n",
            "Layer: features.2, Weights Shape: torch.Size([58, 58, 3, 3])\n",
            "Layer: features.5, Weights Shape: torch.Size([116, 58, 3, 3])\n",
            "Layer: features.7, Weights Shape: torch.Size([116, 116, 3, 3])\n",
            "Layer: features.10, Weights Shape: torch.Size([231, 116, 3, 3])\n",
            "Layer: features.12, Weights Shape: torch.Size([231, 231, 3, 3])\n",
            "Layer: features.14, Weights Shape: torch.Size([231, 231, 3, 3])\n",
            "Layer: features.17, Weights Shape: torch.Size([461, 231, 3, 3])\n",
            "Layer: features.19, Weights Shape: torch.Size([461, 461, 3, 3])\n",
            "Layer: features.21, Weights Shape: torch.Size([461, 461, 3, 3])\n",
            "Layer: features.24, Weights Shape: torch.Size([461, 461, 3, 3])\n",
            "Layer: features.26, Weights Shape: torch.Size([461, 461, 3, 3])\n",
            "Layer: features.28, Weights Shape: torch.Size([461, 461, 3, 3])\n"
          ]
        }
      ]
    },
    {
      "cell_type": "code",
      "source": [
        "# Test the model\n",
        "\n",
        "pruned_model.load_state_dict(torch.load('/content/drive/MyDrive/Best-pruning-model/fine_tuned_pruned_vgg-10.pth'))\n",
        "pruned_model.eval()\n",
        "\n",
        "# Start timer for testing\n",
        "start_test_time = time.time()\n",
        "\n",
        "test_loss = 0\n",
        "all_test_preds = []\n",
        "all_test_labels = []\n",
        "correct = 0\n",
        "total = 0\n",
        "with torch.no_grad():\n",
        "  for images, labels in tqdm(test_loader, desc='Testing'):\n",
        "    images, labels = images.to(device), labels.to(device)\n",
        "\n",
        "    # Convert grayscale images to 3 channels\n",
        "    if images.size(1) == 1:\n",
        "      images = images.repeat(1, 3, 1, 1)\n",
        "\n",
        "    outputs = pruned_model(images)\n",
        "    loss = criterion(outputs, labels)\n",
        "    test_loss += loss.item()\n",
        "\n",
        "    all_test_preds.append(outputs)\n",
        "    all_test_labels.append(labels)\n",
        "\n",
        "    _, predicted = torch.max(outputs.data, 1)\n",
        "    total += labels.size(0)\n",
        "    correct += (predicted == labels).sum().item()\n",
        "\n",
        "test_loss /= len(test_loader)\n",
        "test_accuracy, test_precision, test_recall, test_f1 = calculate_metrics(torch.cat(all_test_preds), torch.cat(all_test_labels))\n",
        "print(\"\\n---------------------------------------------------------------------------------------------\\n\")\n",
        "print(f\"Test Loss: {test_loss:.4f}, Accuracy: {test_accuracy:.2f}%, Precision: {test_precision:.4f}, Recall: {test_recall:.4f}, F1-Score: {test_f1:.4f}\")\n",
        "\n",
        "# End timer for testing and print the total time\n",
        "end_test_time = time.time()\n",
        "total_testing_time = end_test_time - start_test_time\n",
        "print(f\"Total Testing Time: {total_testing_time:.2f} seconds\")"
      ],
      "metadata": {
        "colab": {
          "base_uri": "https://localhost:8080/"
        },
        "id": "9MFAMesvra2O",
        "outputId": "f121e04e-2787-4873-e823-be9f8109797e"
      },
      "id": "9MFAMesvra2O",
      "execution_count": null,
      "outputs": [
        {
          "output_type": "stream",
          "name": "stderr",
          "text": [
            "<ipython-input-57-274b55a20023>:3: FutureWarning: You are using `torch.load` with `weights_only=False` (the current default value), which uses the default pickle module implicitly. It is possible to construct malicious pickle data which will execute arbitrary code during unpickling (See https://github.com/pytorch/pytorch/blob/main/SECURITY.md#untrusted-models for more details). In a future release, the default value for `weights_only` will be flipped to `True`. This limits the functions that could be executed during unpickling. Arbitrary objects will no longer be allowed to be loaded via this mode unless they are explicitly allowlisted by the user via `torch.serialization.add_safe_globals`. We recommend you start setting `weights_only=True` for any use case where you don't have full control of the loaded file. Please open an issue on GitHub for any issues related to this experimental feature.\n",
            "  pruned_model.load_state_dict(torch.load('/content/drive/MyDrive/Best-pruning-model/fine_tuned_pruned_vgg-10.pth'))\n",
            "Testing: 100%|██████████| 20/20 [00:01<00:00, 10.05it/s]"
          ]
        },
        {
          "output_type": "stream",
          "name": "stdout",
          "text": [
            "\n",
            "---------------------------------------------------------------------------------------------\n",
            "\n",
            "Test Loss: 0.5913, Accuracy: 85.08%, Precision: 0.8544, Recall: 0.8508, F1-Score: 0.8506\n",
            "Total Testing Time: 2.01 seconds\n"
          ]
        },
        {
          "output_type": "stream",
          "name": "stderr",
          "text": [
            "\n"
          ]
        }
      ]
    },
    {
      "cell_type": "code",
      "source": [
        "# Path dinamis untuk memuat model terbaik\n",
        "#best_model_file = '/content/drive/MyDrive/Chest-CT-Data/best-model-vgg-clahe-0,001.pth' if IN_COLAB else 'best-model.pth'\n",
        "# Start testing time\n",
        "testing_start_time = time.time()\n",
        "\n",
        "# Load the best model\n",
        "pruned_model.load_state_dict(torch.load('/content/drive/MyDrive/Best-pruning-model/fine_tuned_pruned_vgg-10.pth'))\n",
        "pruned_model.eval()\n",
        "\n",
        "# Define class labels corresponding to the numerical labels\n",
        "class_labels = [\n",
        "    'Adenocarcinoma',\n",
        "    'Large Cell Carcinoma',\n",
        "    'Normal',\n",
        "    'Squamous Cell Carcinoma'\n",
        "]\n",
        "\n",
        "predicted_probabilities = []\n",
        "true_labels = []\n",
        "\n",
        "test_loader_tqdm = tqdm(test_loader, desc=\"Testing\")\n",
        "with torch.no_grad():\n",
        "    for images, labels in test_loader_tqdm:\n",
        "        images, labels = images.to(device), labels.to(device)\n",
        "        if images.dim() == 3:\n",
        "            images = images.unsqueeze(1)\n",
        "        images = images.repeat(1, 3, 1, 1)\n",
        "        outputs = pruned_model(images)\n",
        "        loss = criterion(outputs, labels)\n",
        "        probabilities = nn.functional.softmax(outputs, dim=1)\n",
        "        predicted_probabilities.append(probabilities)\n",
        "        true_labels.append(labels)\n",
        "        #test_loader_tqdm.set_postfix({\"Batch Size\": len(labels)})\n",
        "\n",
        "# End testing time\n",
        "total_testing_time = time.time() - testing_start_time\n",
        "print(f\"Total testing time: {total_testing_time:.2f} seconds\")\n",
        "\n",
        "# Calculate evaluation metrics\n",
        "predicted_probabilities = torch.cat(predicted_probabilities)\n",
        "true_labels = torch.cat(true_labels)\n",
        "predicted_labels = torch.argmax(predicted_probabilities, dim=1)\n",
        "\n",
        "accuracy = (predicted_labels == true_labels).float().mean().item()\n",
        "precision = precision_score(true_labels.cpu(), predicted_labels.cpu(), average='weighted')\n",
        "recall = recall_score(true_labels.cpu(), predicted_labels.cpu(), average='weighted')\n",
        "f1 = f1_score(true_labels.cpu(), predicted_labels.cpu(), average='weighted')\n",
        "conf_matrix = confusion_matrix(true_labels.cpu(), predicted_labels.cpu())\n",
        "\n",
        "# Display results\n",
        "print(f'Test Accuracy: {accuracy * 100:.2f}%')\n",
        "print(f'Test Loss: {loss:.4f}')\n",
        "print(f'Precision: {precision:.4f}')\n",
        "print(f'Recall: {recall:.4f}')\n",
        "print(f'F1-Score: {f1:.4f}')\n",
        "print(f'Confusion Matrix:\\n{conf_matrix}')\n",
        "\n",
        "# Plot confusion matrix using Matplotlib\n",
        "fig, ax = plt.subplots(figsize=(12, 9))\n",
        "cax = ax.matshow(conf_matrix, cmap='Blues')\n",
        "\n",
        "# Menampilkan angka pada setiap sel dengan outline putih\n",
        "for (i, j), val in np.ndenumerate(conf_matrix):\n",
        "    text = ax.text(j, i, f'{val}', ha='center', va='center', color='black', fontsize=20, fontweight='bold')\n",
        "\n",
        "    # Menambahkan outline putih di sekitar angka\n",
        "    text.set_path_effects([path_effects.Stroke(linewidth=3, foreground='white'),\n",
        "                           path_effects.Normal()])\n",
        "\n",
        "fig.colorbar(cax)\n",
        "\n",
        "# Set ticks dan ticklabels\n",
        "ax.set_xticks(np.arange(len(class_labels)))\n",
        "ax.set_yticks(np.arange(len(class_labels)))\n",
        "ax.set_xticklabels(class_labels)\n",
        "ax.set_yticklabels(class_labels)\n",
        "\n",
        "plt.xlabel('Predicted Labels')\n",
        "plt.ylabel('True Labels')\n",
        "plt.title('Confusion Matrix')\n",
        "plt.show()\n",
        "\n",
        "\n",
        "# Total time for the whole process\n",
        "#total_process_time = total_training_time + total_testing_time\n",
        "#print(f\"Total process time (training + testing): {total_process_time:.2f} seconds\")\n"
      ],
      "metadata": {
        "colab": {
          "base_uri": "https://localhost:8080/",
          "height": 753
        },
        "id": "d9KfmHEkF6dZ",
        "outputId": "254ba217-5e39-4145-f8e2-9c612cb8a42b"
      },
      "id": "d9KfmHEkF6dZ",
      "execution_count": null,
      "outputs": [
        {
          "output_type": "stream",
          "name": "stderr",
          "text": [
            "<ipython-input-58-502961b72012>:7: FutureWarning: You are using `torch.load` with `weights_only=False` (the current default value), which uses the default pickle module implicitly. It is possible to construct malicious pickle data which will execute arbitrary code during unpickling (See https://github.com/pytorch/pytorch/blob/main/SECURITY.md#untrusted-models for more details). In a future release, the default value for `weights_only` will be flipped to `True`. This limits the functions that could be executed during unpickling. Arbitrary objects will no longer be allowed to be loaded via this mode unless they are explicitly allowlisted by the user via `torch.serialization.add_safe_globals`. We recommend you start setting `weights_only=True` for any use case where you don't have full control of the loaded file. Please open an issue on GitHub for any issues related to this experimental feature.\n",
            "  pruned_model.load_state_dict(torch.load('/content/drive/MyDrive/Best-pruning-model/fine_tuned_pruned_vgg-10.pth'))\n",
            "Testing: 100%|██████████| 20/20 [00:01<00:00, 14.79it/s]\n"
          ]
        },
        {
          "output_type": "stream",
          "name": "stdout",
          "text": [
            "Total testing time: 1.51 seconds\n",
            "Test Accuracy: 85.08%\n",
            "Test Loss: 0.5732\n",
            "Precision: 0.8544\n",
            "Recall: 0.8508\n",
            "F1-Score: 0.8506\n",
            "Confusion Matrix:\n",
            "[[102   4   0  14]\n",
            " [ 14  36   0   1]\n",
            " [  4   0  50   0]\n",
            " [  8   2   0  80]]\n"
          ]
        },
        {
          "output_type": "display_data",
          "data": {
            "text/plain": [
              "<Figure size 1200x900 with 2 Axes>"
            ],
            "image/png": "[encoded data removed]"
          },
          "metadata": {}
        }
      ]
    },
    {
      "cell_type": "markdown",
      "source": [
        "![image.png](data:image/png;base64,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)"
      ],
      "metadata": {
        "id": "ozrG1fI6qbXJ"
      },
      "id": "ozrG1fI6qbXJ"
    },
    {
      "cell_type": "code",
      "execution_count": null,
      "id": "60762bdf",
      "metadata": {
        "id": "60762bdf"
      },
      "outputs": [],
      "source": [
        "'''\n",
        "import time  # Import modul time\n",
        "\n",
        "# Define the optimizer and loss function\n",
        "optimizer = optim.SGD(pruned_model.parameters(), lr=0.001, momentum=0.8)\n",
        "criterion = nn.CrossEntropyLoss()\n",
        "\n",
        "# Function to calculate metrics (accuracy, precision, recall, F1-score)\n",
        "def calculate_metrics(predictions, labels):\n",
        "    preds = torch.argmax(predictions, dim=1).cpu().numpy()\n",
        "    labels = labels.cpu().numpy()\n",
        "\n",
        "    accuracy = (preds == labels).mean() * 100\n",
        "    precision = precision_score(labels, preds, average='weighted', zero_division=1)\n",
        "    recall = recall_score(labels, preds, average='weighted', zero_division=1)\n",
        "    f1 = f1_score(labels, preds, average='weighted', zero_division=1)\n",
        "\n",
        "    return accuracy, precision, recall, f1\n",
        "\n",
        "# Function to train and evaluate the model\n",
        "def train_and_evaluate(pruned_model, train_loader, valid_loader,  num_epochs=100):\n",
        "    train_losses = []\n",
        "    valid_losses = []\n",
        "    train_accuracies = []\n",
        "    valid_accuracies = []\n",
        "    all_train_precisions = []\n",
        "    all_train_recalls = []\n",
        "    all_train_f1s = []\n",
        "    all_valid_precisions = []\n",
        "    all_valid_recalls = []\n",
        "    all_valid_f1s = []\n",
        "\n",
        "    best_valid_loss = float('inf')\n",
        "\n",
        "    # Variable to accumulate total training and validation time\n",
        "    total_train_validation_time = 0\n",
        "\n",
        "    for epoch in range(1, num_epochs + 1):\n",
        "        print(f'Epoch {epoch}/{num_epochs}')\n",
        "\n",
        "        # Start timer for both training and validation\n",
        "        start_epoch_time = time.time()\n",
        "\n",
        "        # Training\n",
        "        pruned_model.train()\n",
        "        train_loss = 0\n",
        "        all_train_preds = []\n",
        "        all_train_labels = []\n",
        "        for images, labels in tqdm(train_loader, desc='Training'):\n",
        "            images, labels = images.to(device), labels.to(device)\n",
        "\n",
        "            # Convert grayscale images to 3 channels\n",
        "            if images.size(1) == 1:  # If single channel\n",
        "                images = images.repeat(1, 3, 1, 1)  # Repeat the channel dimension 3 times\n",
        "\n",
        "            optimizer.zero_grad()\n",
        "            outputs = pruned_model(images)\n",
        "            loss = criterion(outputs, labels)\n",
        "            loss.backward()\n",
        "            optimizer.step()\n",
        "            train_loss += loss.item()\n",
        "\n",
        "            all_train_preds.append(outputs)\n",
        "            all_train_labels.append(labels)\n",
        "\n",
        "        train_loss /= len(train_loader)\n",
        "        train_losses.append(train_loss)\n",
        "        train_accuracy, train_precision, train_recall, train_f1 = calculate_metrics(torch.cat(all_train_preds), torch.cat(all_train_labels))\n",
        "        train_accuracies.append(train_accuracy)\n",
        "        all_train_precisions.append(train_precision) # Store train_precision\n",
        "        all_train_recalls.append(train_recall)       # Store train_recall\n",
        "        all_train_f1s.append(train_f1)             # Store train_f1\n",
        "\n",
        "        print(f\"Training Loss: {train_loss:.4f}, Accuracy: {train_accuracy:.2f}%, Precision: {train_precision:.4f}, Recall: {train_recall:.4f}, F1-Score: {train_f1:.4f}\")\n",
        "\n",
        "        # Validation\n",
        "        pruned_model.eval()\n",
        "        valid_loss = 0\n",
        "        all_valid_preds = []\n",
        "        all_valid_labels = []\n",
        "        with torch.no_grad():\n",
        "            for images, labels in tqdm(valid_loader, desc='Validation'):\n",
        "                images, labels = images.to(device), labels.to(device)\n",
        "\n",
        "                # Convert grayscale images to 3 channels\n",
        "                if images.size(1) == 1:\n",
        "                    images = images.repeat(1, 3, 1, 1)\n",
        "\n",
        "                outputs = pruned_model(images)\n",
        "                loss = criterion(outputs, labels)\n",
        "                valid_loss += loss.item()\n",
        "\n",
        "                all_valid_preds.append(outputs)\n",
        "                all_valid_labels.append(labels)\n",
        "\n",
        "        valid_loss /= len(valid_loader)\n",
        "        valid_losses.append(valid_loss)\n",
        "        valid_accuracy, valid_precision, valid_recall, valid_f1 = calculate_metrics(torch.cat(all_valid_preds), torch.cat(all_valid_labels))\n",
        "        valid_accuracies.append(valid_accuracy)\n",
        "        all_valid_precisions.append(valid_precision)  # Store valid_precision\n",
        "        all_valid_recalls.append(valid_recall)        # Store valid_recall\n",
        "        all_valid_f1s.append(valid_f1)\n",
        "\n",
        "        print(f\"Validation Loss: {valid_loss:.4f}, Accuracy: {valid_accuracy:.2f}%, Precision: {valid_precision:.4f}, Recall: {valid_recall:.4f}, F1-Score: {valid_f1:.4f}\")\n",
        "\n",
        "        # Save the best model based on validation loss\n",
        "        if valid_loss < best_valid_loss:\n",
        "            best_valid_loss = valid_loss\n",
        "            torch.save(pruned_model.state_dict(), '/content/drive/MyDrive/Best-pruning-model/best-pruned-vgg-10.pth')\n",
        "            print(\"New best model saved\")\n",
        "\n",
        "        # End timer for training and validation, and accumulate the time\n",
        "        end_epoch_time = time.time()\n",
        "        epoch_time = end_epoch_time - start_epoch_time\n",
        "        total_train_validation_time += epoch_time\n",
        "        #print(f\"Epoch Time (Training + Validation): {epoch_time:.2f} seconds\")\n",
        "\n",
        "    # Print total training and validation time\n",
        "    print(f\"Total Training + Validation Time: {total_train_validation_time:.2f} seconds\")\n",
        "\n",
        "    return train_losses, valid_losses, train_accuracies, valid_accuracies, all_train_precisions, all_train_recalls, all_train_f1s, all_valid_precisions, all_valid_recalls, all_valid_f1s # Return the stored metrics\n",
        "\n"
      ]
    }
  ],
  "metadata": {
    "accelerator": "GPU",
    "colab": {
      "gpuType": "T4",
      "provenance": []
    },
    "kernelspec": {
      "display_name": "Python 3",
      "name": "python3"
    },
    "language_info": {
      "codemirror_mode": {
        "name": "ipython",
        "version": 3
      },
      "file_extension": ".py",
      "mimetype": "text/x-python",
      "name": "python",
      "nbconvert_exporter": "python",
      "pygments_lexer": "ipython3",
      "version": "3.9.13"
    }
  },
  "nbformat": 4,
  "nbformat_minor": 5
}
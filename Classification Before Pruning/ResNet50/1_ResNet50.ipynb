{
  "cells": [
    {
      "cell_type": "markdown",
      "id": "30536ba6-e5ef-4e4a-8334-fdc16153a88b",
      "metadata": {
        "id": "30536ba6-e5ef-4e4a-8334-fdc16153a88b"
      },
      "source": [
        "# Cell 1: Import Libraries and Setup Device\n",
        "\"\"\"\n",
        "This cell imports all the necessary libraries and sets up the device for GPU computation if available.\n",
        "We are using PyTorch for deep learning, OpenCV for image processing, and Matplotlib/Seaborn for visualization.\n",
        "\"\"\""
      ]
    },
    {
      "cell_type": "code",
      "execution_count": null,
      "id": "95a797c4-eac9-4297-ab3a-d604f3c97bb0",
      "metadata": {
        "id": "95a797c4-eac9-4297-ab3a-d604f3c97bb0",
        "outputId": "d6a9decc-9842-49fe-b447-c3a84b196819",
        "colab": {
          "base_uri": "https://localhost:8080/"
        }
      },
      "outputs": [
        {
          "output_type": "stream",
          "name": "stdout",
          "text": [
            "Using device: cuda\n",
            "Mounted at /content/drive\n"
          ]
        }
      ],
      "source": [
        "import torch\n",
        "import torch.nn as nn\n",
        "import torch.optim as optim\n",
        "from torch.utils.data import DataLoader, Dataset\n",
        "from torchvision import models, transforms\n",
        "import cv2\n",
        "from torchvision.transforms import v2\n",
        "import matplotlib.pyplot as plt\n",
        "import matplotlib.patheffects as path_effects\n",
        "from tqdm import tqdm\n",
        "import os\n",
        "import numpy as np\n",
        "import time\n",
        "from sklearn.metrics import precision_score, recall_score, f1_score, confusion_matrix\n",
        "import seaborn as sns\n",
        "from torchvision.models import resnet50, ResNet50_Weights\n",
        "\n",
        "# Cek apakah kode dijalankan di Google Colab\n",
        "IN_COLAB = 'google.colab' in str(get_ipython())\n",
        "\n",
        "# Cek apakah GPU tersedia, jika tidak gunakan CPU\n",
        "device = torch.device('cuda' if torch.cuda.is_available() else 'cpu')\n",
        "print(f'Using device: {device}')\n",
        "\n",
        "# Mount Google Drive jika menggunakan Google Colab\n",
        "if IN_COLAB:\n",
        "    from google.colab import drive\n",
        "    drive.mount('/content/drive')\n"
      ]
    },
    {
      "cell_type": "markdown",
      "id": "5ecb4d58-7a41-404e-921f-59c8133c02a4",
      "metadata": {
        "id": "5ecb4d58-7a41-404e-921f-59c8133c02a4"
      },
      "source": [
        "# Cell 2: Define Data Loading and Preprocessing Functions\n",
        "\"\"\"\n",
        "This cell contains functions to load and preprocess images from the dataset.\n",
        "The `load_data` function loads images from the specified directory and assigns labels based on the folder structure.\n",
        "The `preprocess_image` function applies CLAHE and unsharp masking to enhance image quality.\n",
        "The `CustomDataset` class integrates these functions and prepares the dataset for use in PyTorch.\n",
        "\"\"\""
      ]
    },
    {
      "cell_type": "code",
      "execution_count": null,
      "id": "cca994b4-b0e2-4faa-8519-5a473288e647",
      "metadata": {
        "id": "cca994b4-b0e2-4faa-8519-5a473288e647"
      },
      "outputs": [],
      "source": [
        "def load_data(dataset_path, subset):\n",
        "    images = []\n",
        "    labels = []\n",
        "\n",
        "    # Tentukan label sesuai dengan subset\n",
        "\n",
        "    label_names = ['adenocarcinoma', 'large.cell.carcinoma', 'normal', 'squamous.cell.carcinoma']\n",
        "\n",
        "\n",
        "\n",
        "    # Pemetaan nama label ke indeks\n",
        "    label_map = {name: idx for idx, name in enumerate(label_names)}\n",
        "\n",
        "    subset_path = os.path.join(dataset_path, subset)\n",
        "    for label_name in label_names:\n",
        "        image_dir = os.path.join(subset_path, label_name)\n",
        "        if not os.path.exists(image_dir):\n",
        "            raise FileNotFoundError(f\"Directory not found: {image_dir}\")\n",
        "        for file_name in os.listdir(image_dir):\n",
        "            if file_name.endswith('.png'):  # Cek jika file adalah gambar PNG\n",
        "                image_path = os.path.join(image_dir, file_name)\n",
        "                image = cv2.imread(image_path, cv2.IMREAD_GRAYSCALE)\n",
        "                if image is None:\n",
        "                    print(f\"Warning: Unable to load image {image_path}\")\n",
        "                    continue\n",
        "                images.append(image)\n",
        "                labels.append(label_map[label_name])\n",
        "                print(f\"Loaded image {image_path}\")\n",
        "    return images, labels\n",
        "def preprocess_image(image):\n",
        "    if image is None or image.size == 0:\n",
        "        raise ValueError(\"Empty image provided for preprocessing\")\n",
        "\n",
        "    # Terapkan CLAHE untuk meningkatkan kontras\n",
        "    #clahe = cv2.createCLAHE(clipLimit=2.0, tileGridSize=(8, 8))\n",
        "    clahe = cv2.createCLAHE(clipLimit=2.5, tileGridSize=(10, 10))\n",
        "\n",
        "    clahe_image = clahe.apply(image)\n",
        "\n",
        "    # Terapkan Gaussian Blur untuk menghaluskan gambar\n",
        "    #gaussian = cv2.GaussianBlur(image, (9, 9), 10.0)\n",
        "    # Terapkan Unsharp Masking untuk meningkatkan ketajaman gambar\n",
        "    #unsharp_image = cv2.addWeighted(clahe_image, 1.5, gaussian, -0.5, 0, clahe_image)\n",
        "    #unsharp_image = cv2.addWeighted(gaussian, 1.5, gaussian, -0.5, 0)\n",
        "\n",
        "    return clahe_image\n",
        "\n",
        "class CustomDataset(Dataset):\n",
        "    def __init__(self, images, labels, transform=None):\n",
        "        self.images = images\n",
        "        self.labels = labels\n",
        "        self.transform = transform\n",
        "\n",
        "    def __len__(self):\n",
        "        return len(self.images)\n",
        "\n",
        "    def __getitem__(self, idx):\n",
        "        image = self.images[idx]\n",
        "        label = self.labels[idx]\n",
        "\n",
        "        # Terapkan transformasi jika ada\n",
        "        if self.transform:\n",
        "            image = self.transform(image)\n",
        "        if image.dim() == 2:  # Pastikan gambar memiliki 3 dimensi\n",
        "            image = image.unsqueeze(0)\n",
        "        return image, label\n"
      ]
    },
    {
      "cell_type": "markdown",
      "id": "df44014e-ffbf-42f2-a213-c2f28a911926",
      "metadata": {
        "id": "df44014e-ffbf-42f2-a213-c2f28a911926"
      },
      "source": [
        "# Cell 3: Load and Transform Data\n",
        "\"\"\"\n",
        "This cell loads the data and applies the necessary transformations.\n",
        "The dataset is divided into training, validation, and test sets.\n",
        "Each image is transformed into a 224x224 size tensor suitable for input to the VGG-16 model.\n",
        "\"\"\""
      ]
    },
    {
      "cell_type": "code",
      "source": [
        "# Mengatur path dataset, disesuaikan untuk Google Colab atau Jupyter Notebook\n",
        "dataset_path = '/content/drive/MyDrive/Chest-CT-Data'\n",
        "\n",
        "# Load data\n",
        "train_images, train_labels = load_data(dataset_path, 'train')\n",
        "valid_images, valid_labels = load_data(dataset_path, 'valid')\n",
        "test_images, test_labels = load_data(dataset_path, 'test')\n",
        "\n",
        "print(f\"Loaded {len(train_images)} training images with {len(train_labels)} labels\")\n",
        "print(f\"Loaded {len(valid_images)} validation images with {len(valid_labels)} labels\")\n",
        "print(f\"Loaded {len(test_images)} test images with {len(test_labels)} labels\")\n",
        "\n",
        "# Transformasi data untuk persiapan training, validation, dan testing\n",
        "transform = transforms.Compose([\n",
        "    transforms.ToPILImage(),             # Ubah dari array NumPy ke gambar PIL\n",
        "    transforms.Resize((224, 224)),       # Ubah ukuran gambar menjadi 224x224\n",
        "    #v2.RandomHorizontalFlip(),           # Randomly flip the image horizontally\n",
        "   # v2.RandomRotation(15),                # Randomly rotate the image by up to 15 degrees\n",
        "    transforms.ToTensor(),               # Ubah gambar menjadi Tensor and normalize to [0, 1]\n",
        "])\n",
        "\n",
        "# Membuat dataset dan data loader untuk training, validation, dan testing\n",
        "train_dataset = CustomDataset(train_images, train_labels, transform=transform)\n",
        "valid_dataset = CustomDataset(valid_images, valid_labels, transform=transform)\n",
        "test_dataset = CustomDataset(test_images, test_labels, transform=transform)\n",
        "\n",
        "train_loader = DataLoader(train_dataset, batch_size=8, shuffle=True)  # DataLoader untuk training\n",
        "valid_loader = DataLoader(valid_dataset, batch_size=8, shuffle=False) # DataLoader untuk validasi\n",
        "test_loader = DataLoader(test_dataset, batch_size=8, shuffle=False)   # DataLoader untuk testing\n"
      ],
      "metadata": {
        "colab": {
          "base_uri": "https://localhost:8080/"
        },
        "id": "mrStcymcr40g",
        "outputId": "85b40a5c-f764-4976-979a-7e806d822a07"
      },
      "id": "mrStcymcr40g",
      "execution_count": null,
      "outputs": [
        {
          "output_type": "stream",
          "name": "stdout",
          "text": [
            "Loaded image /content/drive/MyDrive/Chest-CT-Data/train/adenocarcinoma/000041 (7).png\n",
            "Loaded image /content/drive/MyDrive/Chest-CT-Data/train/adenocarcinoma/000093 (4).png\n",
            "Loaded image /content/drive/MyDrive/Chest-CT-Data/train/adenocarcinoma/000090 (2).png\n",
            "Loaded image /content/drive/MyDrive/Chest-CT-Data/train/adenocarcinoma/000072 (10).png\n",
            "Loaded image /content/drive/MyDrive/Chest-CT-Data/train/adenocarcinoma/000093 (6).png\n",
            "Loaded image /content/drive/MyDrive/Chest-CT-Data/train/adenocarcinoma/000050 (5).png\n",
            "Loaded image /content/drive/MyDrive/Chest-CT-Data/train/adenocarcinoma/000022 (10).png\n",
            "Loaded image /content/drive/MyDrive/Chest-CT-Data/train/adenocarcinoma/000008 (10).png\n",
            "Loaded image /content/drive/MyDrive/Chest-CT-Data/train/adenocarcinoma/000066 (9).png\n",
            "Loaded image /content/drive/MyDrive/Chest-CT-Data/train/adenocarcinoma/000020 (5).png\n",
            "Loaded image /content/drive/MyDrive/Chest-CT-Data/train/adenocarcinoma/000050 (8).png\n",
            "Loaded image /content/drive/MyDrive/Chest-CT-Data/train/adenocarcinoma/000074 (5).png\n",
            "Loaded image /content/drive/MyDrive/Chest-CT-Data/train/adenocarcinoma/000056 (7).png\n",
            "Loaded image /content/drive/MyDrive/Chest-CT-Data/train/adenocarcinoma/000021 (3).png\n",
            "Loaded image /content/drive/MyDrive/Chest-CT-Data/train/adenocarcinoma/000065 (3).png\n",
            "Loaded image /content/drive/MyDrive/Chest-CT-Data/train/adenocarcinoma/000021 (6).png\n",
            "Loaded image /content/drive/MyDrive/Chest-CT-Data/train/adenocarcinoma/000041 (8).png\n",
            "Loaded image /content/drive/MyDrive/Chest-CT-Data/train/adenocarcinoma/000067 (10).png\n",
            "Loaded image /content/drive/MyDrive/Chest-CT-Data/train/adenocarcinoma/000036 (6).png\n",
            "Loaded image /content/drive/MyDrive/Chest-CT-Data/train/adenocarcinoma/000026 (10).png\n",
            "Loaded image /content/drive/MyDrive/Chest-CT-Data/train/adenocarcinoma/000022.png\n",
            "Loaded image /content/drive/MyDrive/Chest-CT-Data/train/adenocarcinoma/000021 (5).png\n",
            "Loaded image /content/drive/MyDrive/Chest-CT-Data/train/adenocarcinoma/000031 (3).png\n",
            "Loaded image /content/drive/MyDrive/Chest-CT-Data/train/adenocarcinoma/000018 (5).png\n",
            "Loaded image /content/drive/MyDrive/Chest-CT-Data/train/adenocarcinoma/000009 (3).png\n",
            "Loaded image /content/drive/MyDrive/Chest-CT-Data/train/adenocarcinoma/000041 (2).png\n",
            "Loaded image /content/drive/MyDrive/Chest-CT-Data/train/adenocarcinoma/000054 (5).png\n",
            "Loaded image /content/drive/MyDrive/Chest-CT-Data/train/adenocarcinoma/000068 (10).png\n",
            "Loaded image /content/drive/MyDrive/Chest-CT-Data/train/adenocarcinoma/000058 (4).png\n",
            "Loaded image /content/drive/MyDrive/Chest-CT-Data/train/adenocarcinoma/000000 (6).png\n",
            "Loaded image /content/drive/MyDrive/Chest-CT-Data/train/adenocarcinoma/000046 (5).png\n",
            "Loaded image /content/drive/MyDrive/Chest-CT-Data/train/adenocarcinoma/000067.png\n",
            "Loaded image /content/drive/MyDrive/Chest-CT-Data/train/adenocarcinoma/000085 (7).png\n",
            "Loaded image /content/drive/MyDrive/Chest-CT-Data/train/adenocarcinoma/000057 (2).png\n",
            "Loaded image /content/drive/MyDrive/Chest-CT-Data/train/adenocarcinoma/000059 (7).png\n",
            "Loaded image /content/drive/MyDrive/Chest-CT-Data/train/adenocarcinoma/000014 (7).png\n",
            "Loaded image /content/drive/MyDrive/Chest-CT-Data/train/adenocarcinoma/000020 (10).png\n",
            "Loaded image /content/drive/MyDrive/Chest-CT-Data/train/adenocarcinoma/000057.png\n",
            "Loaded image /content/drive/MyDrive/Chest-CT-Data/train/adenocarcinoma/000063 (7).png\n",
            "Loaded image /content/drive/MyDrive/Chest-CT-Data/train/adenocarcinoma/000054 (7).png\n",
            "Loaded image /content/drive/MyDrive/Chest-CT-Data/train/adenocarcinoma/000013 (4).png\n",
            "Loaded image /content/drive/MyDrive/Chest-CT-Data/train/adenocarcinoma/000050 (7).png\n",
            "Loaded image /content/drive/MyDrive/Chest-CT-Data/train/adenocarcinoma/000029 (5).png\n",
            "Loaded image /content/drive/MyDrive/Chest-CT-Data/train/adenocarcinoma/000080 (10).png\n",
            "Loaded image /content/drive/MyDrive/Chest-CT-Data/train/adenocarcinoma/000032 (8).png\n",
            "Loaded image /content/drive/MyDrive/Chest-CT-Data/train/adenocarcinoma/000079 (6).png\n",
            "Loaded image /content/drive/MyDrive/Chest-CT-Data/train/adenocarcinoma/000020 (6).png\n",
            "Loaded image /content/drive/MyDrive/Chest-CT-Data/train/adenocarcinoma/000044 (10).png\n",
            "Loaded image /content/drive/MyDrive/Chest-CT-Data/train/adenocarcinoma/000091 (3).png\n",
            "Loaded image /content/drive/MyDrive/Chest-CT-Data/train/adenocarcinoma/000091.png\n",
            "Loaded image /content/drive/MyDrive/Chest-CT-Data/train/adenocarcinoma/000025 (6).png\n",
            "Loaded image /content/drive/MyDrive/Chest-CT-Data/train/adenocarcinoma/000026 (3).png\n",
            "Loaded image /content/drive/MyDrive/Chest-CT-Data/train/adenocarcinoma/000033 (9).png\n",
            "Loaded image /content/drive/MyDrive/Chest-CT-Data/train/adenocarcinoma/000086 (3).png\n",
            "Loaded image /content/drive/MyDrive/Chest-CT-Data/train/adenocarcinoma/000083 (6).png\n",
            "Loaded image /content/drive/MyDrive/Chest-CT-Data/train/adenocarcinoma/000035 (8).png\n",
            "Loaded image /content/drive/MyDrive/Chest-CT-Data/train/adenocarcinoma/000084 (2).png\n",
            "Loaded image /content/drive/MyDrive/Chest-CT-Data/train/adenocarcinoma/000083 (3).png\n",
            "Loaded image /content/drive/MyDrive/Chest-CT-Data/train/adenocarcinoma/000036 (7).png\n",
            "Loaded image /content/drive/MyDrive/Chest-CT-Data/train/adenocarcinoma/000063 (5).png\n",
            "Loaded image /content/drive/MyDrive/Chest-CT-Data/train/adenocarcinoma/000044 (9).png\n",
            "Loaded image /content/drive/MyDrive/Chest-CT-Data/train/adenocarcinoma/000027 (6).png\n",
            "Loaded image /content/drive/MyDrive/Chest-CT-Data/train/adenocarcinoma/000023 (9).png\n",
            "Loaded image /content/drive/MyDrive/Chest-CT-Data/train/adenocarcinoma/000017 (6).png\n",
            "Loaded image /content/drive/MyDrive/Chest-CT-Data/train/adenocarcinoma/000065 (8).png\n",
            "Loaded image /content/drive/MyDrive/Chest-CT-Data/train/adenocarcinoma/000077 (9).png\n",
            "Loaded image /content/drive/MyDrive/Chest-CT-Data/train/adenocarcinoma/000049 (9).png\n",
            "Loaded image /content/drive/MyDrive/Chest-CT-Data/train/adenocarcinoma/000069 (6).png\n",
            "Loaded image /content/drive/MyDrive/Chest-CT-Data/train/adenocarcinoma/000077 (6).png\n",
            "Loaded image /content/drive/MyDrive/Chest-CT-Data/train/adenocarcinoma/000061.png\n",
            "Loaded image /content/drive/MyDrive/Chest-CT-Data/train/adenocarcinoma/000023 (5).png\n",
            "Loaded image /content/drive/MyDrive/Chest-CT-Data/train/adenocarcinoma/000021 (8).png\n",
            "Loaded image /content/drive/MyDrive/Chest-CT-Data/train/adenocarcinoma/000027 (4).png\n",
            "Loaded image /content/drive/MyDrive/Chest-CT-Data/train/adenocarcinoma/000009 (7).png\n",
            "Loaded image /content/drive/MyDrive/Chest-CT-Data/train/adenocarcinoma/000005 (9).png\n",
            "Loaded image /content/drive/MyDrive/Chest-CT-Data/train/adenocarcinoma/000068 (9).png\n",
            "Loaded image /content/drive/MyDrive/Chest-CT-Data/train/adenocarcinoma/000052 (10).png\n",
            "Loaded image /content/drive/MyDrive/Chest-CT-Data/train/adenocarcinoma/000048.png\n",
            "Loaded image /content/drive/MyDrive/Chest-CT-Data/train/adenocarcinoma/000071 (3).png\n",
            "Loaded image /content/drive/MyDrive/Chest-CT-Data/train/adenocarcinoma/000035 (5).png\n",
            "Loaded image /content/drive/MyDrive/Chest-CT-Data/train/adenocarcinoma/000022 (2).png\n",
            "Loaded image /content/drive/MyDrive/Chest-CT-Data/train/adenocarcinoma/000063 (3).png\n",
            "Loaded image /content/drive/MyDrive/Chest-CT-Data/train/adenocarcinoma/000015 (9).png\n",
            "Loaded image /content/drive/MyDrive/Chest-CT-Data/train/adenocarcinoma/000054.png\n",
            "Loaded image /content/drive/MyDrive/Chest-CT-Data/train/adenocarcinoma/000023 (10).png\n",
            "Loaded image /content/drive/MyDrive/Chest-CT-Data/train/adenocarcinoma/000087 (8).png\n",
            "Loaded image /content/drive/MyDrive/Chest-CT-Data/train/adenocarcinoma/000068 (3).png\n",
            "Loaded image /content/drive/MyDrive/Chest-CT-Data/train/adenocarcinoma/000054 (6).png\n",
            "Loaded image /content/drive/MyDrive/Chest-CT-Data/train/adenocarcinoma/000023 (7).png\n",
            "Loaded image /content/drive/MyDrive/Chest-CT-Data/train/adenocarcinoma/000022 (9).png\n",
            "Loaded image /content/drive/MyDrive/Chest-CT-Data/train/adenocarcinoma/000080 (6).png\n",
            "Loaded image /content/drive/MyDrive/Chest-CT-Data/train/adenocarcinoma/000034 (6).png\n",
            "Loaded image /content/drive/MyDrive/Chest-CT-Data/train/adenocarcinoma/000019 (5).png\n",
            "Loaded image /content/drive/MyDrive/Chest-CT-Data/train/adenocarcinoma/000015 (4).png\n",
            "Loaded image /content/drive/MyDrive/Chest-CT-Data/train/adenocarcinoma/000051 (4).png\n",
            "Loaded image /content/drive/MyDrive/Chest-CT-Data/train/adenocarcinoma/000013 (8).png\n",
            "Loaded image /content/drive/MyDrive/Chest-CT-Data/train/adenocarcinoma/000048 (8).png\n",
            "Loaded image /content/drive/MyDrive/Chest-CT-Data/train/adenocarcinoma/000085 (4).png\n",
            "Loaded image /content/drive/MyDrive/Chest-CT-Data/train/adenocarcinoma/000055 (2).png\n",
            "Loaded image /content/drive/MyDrive/Chest-CT-Data/train/adenocarcinoma/000040 (10).png\n",
            "Loaded image /content/drive/MyDrive/Chest-CT-Data/train/adenocarcinoma/000051 (3).png\n",
            "Loaded image /content/drive/MyDrive/Chest-CT-Data/train/adenocarcinoma/000024.png\n",
            "Loaded image /content/drive/MyDrive/Chest-CT-Data/train/adenocarcinoma/000024 (6).png\n",
            "Loaded image /content/drive/MyDrive/Chest-CT-Data/train/adenocarcinoma/000093 (10).png\n",
            "Loaded image /content/drive/MyDrive/Chest-CT-Data/train/adenocarcinoma/000075 (5).png\n",
            "Loaded image /content/drive/MyDrive/Chest-CT-Data/train/adenocarcinoma/000029 (4).png\n",
            "Loaded image /content/drive/MyDrive/Chest-CT-Data/train/adenocarcinoma/000078 (6).png\n",
            "Loaded image /content/drive/MyDrive/Chest-CT-Data/train/adenocarcinoma/000040 (3).png\n",
            "Loaded image /content/drive/MyDrive/Chest-CT-Data/train/adenocarcinoma/000085 (10).png\n",
            "Loaded image /content/drive/MyDrive/Chest-CT-Data/train/adenocarcinoma/000024 (7).png\n",
            "Loaded image /content/drive/MyDrive/Chest-CT-Data/train/adenocarcinoma/000042 (10).png\n",
            "Loaded image /content/drive/MyDrive/Chest-CT-Data/train/adenocarcinoma/000065 (9).png\n",
            "Loaded image /content/drive/MyDrive/Chest-CT-Data/train/adenocarcinoma/000016 (9).png\n",
            "Loaded image /content/drive/MyDrive/Chest-CT-Data/train/adenocarcinoma/000066 (10).png\n",
            "Loaded image /content/drive/MyDrive/Chest-CT-Data/train/adenocarcinoma/000024 (10).png\n",
            "Loaded image /content/drive/MyDrive/Chest-CT-Data/train/adenocarcinoma/000015 (10).png\n",
            "Loaded image /content/drive/MyDrive/Chest-CT-Data/train/adenocarcinoma/000035 (4).png\n",
            "Loaded image /content/drive/MyDrive/Chest-CT-Data/train/adenocarcinoma/000081 (2).png\n",
            "Loaded image /content/drive/MyDrive/Chest-CT-Data/train/adenocarcinoma/000091 (7).png\n",
            "Loaded image /content/drive/MyDrive/Chest-CT-Data/train/adenocarcinoma/000086 (8).png\n",
            "Loaded image /content/drive/MyDrive/Chest-CT-Data/train/adenocarcinoma/000040 (5).png\n",
            "Loaded image /content/drive/MyDrive/Chest-CT-Data/train/adenocarcinoma/000041 (4).png\n",
            "Loaded image /content/drive/MyDrive/Chest-CT-Data/train/adenocarcinoma/000029 (9).png\n",
            "Loaded image /content/drive/MyDrive/Chest-CT-Data/train/adenocarcinoma/000084 (3).png\n",
            "Loaded image /content/drive/MyDrive/Chest-CT-Data/train/adenocarcinoma/000022 (8).png\n",
            "Loaded image /content/drive/MyDrive/Chest-CT-Data/train/adenocarcinoma/000021 (4).png\n",
            "Loaded image /content/drive/MyDrive/Chest-CT-Data/train/adenocarcinoma/000087 (4).png\n",
            "Loaded image /content/drive/MyDrive/Chest-CT-Data/train/adenocarcinoma/000030 (4).png\n",
            "Loaded image /content/drive/MyDrive/Chest-CT-Data/train/adenocarcinoma/000084 (7).png\n",
            "Loaded image /content/drive/MyDrive/Chest-CT-Data/train/adenocarcinoma/000017 (8).png\n",
            "Loaded image /content/drive/MyDrive/Chest-CT-Data/train/adenocarcinoma/000092 (10).png\n",
            "Loaded image /content/drive/MyDrive/Chest-CT-Data/train/adenocarcinoma/000049 (5).png\n",
            "Loaded image /content/drive/MyDrive/Chest-CT-Data/train/adenocarcinoma/000035 (6).png\n",
            "Loaded image /content/drive/MyDrive/Chest-CT-Data/train/adenocarcinoma/000089 (8).png\n",
            "Loaded image /content/drive/MyDrive/Chest-CT-Data/train/adenocarcinoma/000005 (3).png\n",
            "Loaded image /content/drive/MyDrive/Chest-CT-Data/train/adenocarcinoma/000084.png\n",
            "Loaded image /content/drive/MyDrive/Chest-CT-Data/train/adenocarcinoma/000058 (5).png\n",
            "Loaded image /content/drive/MyDrive/Chest-CT-Data/train/adenocarcinoma/000050 (3).png\n",
            "Loaded image /content/drive/MyDrive/Chest-CT-Data/train/adenocarcinoma/000095 (6).png\n",
            "Loaded image /content/drive/MyDrive/Chest-CT-Data/train/adenocarcinoma/000119 (10).png\n",
            "Loaded image /content/drive/MyDrive/Chest-CT-Data/train/adenocarcinoma/000104 (4).png\n",
            "Loaded image /content/drive/MyDrive/Chest-CT-Data/train/adenocarcinoma/000098 (8).png\n",
            "Loaded image /content/drive/MyDrive/Chest-CT-Data/train/adenocarcinoma/ad13.png\n",
            "Loaded image /content/drive/MyDrive/Chest-CT-Data/train/adenocarcinoma/000119 (6).png\n",
            "Loaded image /content/drive/MyDrive/Chest-CT-Data/train/adenocarcinoma/000095.png\n",
            "Loaded image /content/drive/MyDrive/Chest-CT-Data/train/adenocarcinoma/000098 (5).png\n",
            "Loaded image /content/drive/MyDrive/Chest-CT-Data/train/adenocarcinoma/ad8.png\n",
            "Loaded image /content/drive/MyDrive/Chest-CT-Data/train/adenocarcinoma/000100 (10).png\n",
            "Loaded image /content/drive/MyDrive/Chest-CT-Data/train/adenocarcinoma/ad6.png\n",
            "Loaded image /content/drive/MyDrive/Chest-CT-Data/train/adenocarcinoma/ad3.png\n",
            "Loaded image /content/drive/MyDrive/Chest-CT-Data/train/adenocarcinoma/000102 (3).png\n",
            "Loaded image /content/drive/MyDrive/Chest-CT-Data/train/adenocarcinoma/ad20.png\n",
            "Loaded image /content/drive/MyDrive/Chest-CT-Data/train/adenocarcinoma/000106 (8).png\n",
            "Loaded image /content/drive/MyDrive/Chest-CT-Data/train/adenocarcinoma/ad18.png\n",
            "Loaded image /content/drive/MyDrive/Chest-CT-Data/train/adenocarcinoma/ad5.png\n",
            "Loaded image /content/drive/MyDrive/Chest-CT-Data/train/adenocarcinoma/ad16.png\n",
            "Loaded image /content/drive/MyDrive/Chest-CT-Data/train/adenocarcinoma/ad10.png\n",
            "Loaded image /content/drive/MyDrive/Chest-CT-Data/train/adenocarcinoma/000121 (10).png\n",
            "Loaded image /content/drive/MyDrive/Chest-CT-Data/train/adenocarcinoma/000103 (9).png\n",
            "Loaded image /content/drive/MyDrive/Chest-CT-Data/train/adenocarcinoma/ad11.png\n",
            "Loaded image /content/drive/MyDrive/Chest-CT-Data/train/adenocarcinoma/000096 (7).png\n",
            "Loaded image /content/drive/MyDrive/Chest-CT-Data/train/adenocarcinoma/ad9.png\n",
            "Loaded image /content/drive/MyDrive/Chest-CT-Data/train/adenocarcinoma/000099 (7).png\n",
            "Loaded image /content/drive/MyDrive/Chest-CT-Data/train/adenocarcinoma/ad2.png\n",
            "Loaded image /content/drive/MyDrive/Chest-CT-Data/train/adenocarcinoma/000106 (10).png\n",
            "Loaded image /content/drive/MyDrive/Chest-CT-Data/train/adenocarcinoma/000097 (2).png\n",
            "Loaded image /content/drive/MyDrive/Chest-CT-Data/train/adenocarcinoma/ad22.png\n",
            "Loaded image /content/drive/MyDrive/Chest-CT-Data/train/adenocarcinoma/ad14.png\n",
            "Loaded image /content/drive/MyDrive/Chest-CT-Data/train/adenocarcinoma/000121.png\n",
            "Loaded image /content/drive/MyDrive/Chest-CT-Data/train/adenocarcinoma/ad15.png\n",
            "Loaded image /content/drive/MyDrive/Chest-CT-Data/train/adenocarcinoma/ad21.png\n",
            "Loaded image /content/drive/MyDrive/Chest-CT-Data/train/adenocarcinoma/000102.png\n",
            "Loaded image /content/drive/MyDrive/Chest-CT-Data/train/adenocarcinoma/000122.png\n",
            "Loaded image /content/drive/MyDrive/Chest-CT-Data/train/adenocarcinoma/000097 (3).png\n",
            "Loaded image /content/drive/MyDrive/Chest-CT-Data/train/adenocarcinoma/ad7.png\n",
            "Loaded image /content/drive/MyDrive/Chest-CT-Data/train/adenocarcinoma/000102 (2).png\n",
            "Loaded image /content/drive/MyDrive/Chest-CT-Data/train/adenocarcinoma/000102 (7).png\n",
            "Loaded image /content/drive/MyDrive/Chest-CT-Data/train/adenocarcinoma/ad19.png\n",
            "Loaded image /content/drive/MyDrive/Chest-CT-Data/train/adenocarcinoma/000118 (4).png\n",
            "Loaded image /content/drive/MyDrive/Chest-CT-Data/train/adenocarcinoma/ad1.png\n",
            "Loaded image /content/drive/MyDrive/Chest-CT-Data/train/adenocarcinoma/000105 (3).png\n",
            "Loaded image /content/drive/MyDrive/Chest-CT-Data/train/adenocarcinoma/000107 (9).png\n",
            "Loaded image /content/drive/MyDrive/Chest-CT-Data/train/adenocarcinoma/ad17.png\n",
            "Loaded image /content/drive/MyDrive/Chest-CT-Data/train/adenocarcinoma/000106 (4).png\n",
            "Loaded image /content/drive/MyDrive/Chest-CT-Data/train/adenocarcinoma/000119 (5).png\n",
            "Loaded image /content/drive/MyDrive/Chest-CT-Data/train/adenocarcinoma/000101 (7).png\n",
            "Loaded image /content/drive/MyDrive/Chest-CT-Data/train/adenocarcinoma/000105.png\n",
            "Loaded image /content/drive/MyDrive/Chest-CT-Data/train/adenocarcinoma/000119 (4).png\n",
            "Loaded image /content/drive/MyDrive/Chest-CT-Data/train/adenocarcinoma/000121 (9).png\n",
            "Loaded image /content/drive/MyDrive/Chest-CT-Data/train/adenocarcinoma/ad4.png\n",
            "Loaded image /content/drive/MyDrive/Chest-CT-Data/train/adenocarcinoma/000118 (6).png\n",
            "Loaded image /content/drive/MyDrive/Chest-CT-Data/train/adenocarcinoma/ad12.png\n",
            "Loaded image /content/drive/MyDrive/Chest-CT-Data/train/adenocarcinoma/000097 (10).png\n",
            "Loaded image /content/drive/MyDrive/Chest-CT-Data/train/adenocarcinoma/000104 (10).png\n",
            "Loaded image /content/drive/MyDrive/Chest-CT-Data/train/adenocarcinoma/000105 (4).png\n",
            "Loaded image /content/drive/MyDrive/Chest-CT-Data/train/large.cell.carcinoma/000068 (4).png\n",
            "Loaded image /content/drive/MyDrive/Chest-CT-Data/train/large.cell.carcinoma/000095 (2).png\n",
            "Loaded image /content/drive/MyDrive/Chest-CT-Data/train/large.cell.carcinoma/000078 (4).png\n",
            "Loaded image /content/drive/MyDrive/Chest-CT-Data/train/large.cell.carcinoma/000106 (2).png\n",
            "Loaded image /content/drive/MyDrive/Chest-CT-Data/train/large.cell.carcinoma/000041 (4).png\n",
            "Loaded image /content/drive/MyDrive/Chest-CT-Data/train/large.cell.carcinoma/000009 (4).png\n",
            "Loaded image /content/drive/MyDrive/Chest-CT-Data/train/large.cell.carcinoma/000095.png\n",
            "Loaded image /content/drive/MyDrive/Chest-CT-Data/train/large.cell.carcinoma/000062 (4).png\n",
            "Loaded image /content/drive/MyDrive/Chest-CT-Data/train/large.cell.carcinoma/000080.png\n",
            "Loaded image /content/drive/MyDrive/Chest-CT-Data/train/large.cell.carcinoma/000172.png\n",
            "Loaded image /content/drive/MyDrive/Chest-CT-Data/train/large.cell.carcinoma/000020 (4).png\n",
            "Loaded image /content/drive/MyDrive/Chest-CT-Data/train/large.cell.carcinoma/l1.png\n",
            "Loaded image /content/drive/MyDrive/Chest-CT-Data/train/large.cell.carcinoma/000105.png\n",
            "Loaded image /content/drive/MyDrive/Chest-CT-Data/train/large.cell.carcinoma/000149.png\n",
            "Loaded image /content/drive/MyDrive/Chest-CT-Data/train/large.cell.carcinoma/000018 (2).png\n",
            "Loaded image /content/drive/MyDrive/Chest-CT-Data/train/large.cell.carcinoma/000094 (4).png\n",
            "Loaded image /content/drive/MyDrive/Chest-CT-Data/train/large.cell.carcinoma/000094 (3).png\n",
            "Loaded image /content/drive/MyDrive/Chest-CT-Data/train/large.cell.carcinoma/l2.png\n",
            "Loaded image /content/drive/MyDrive/Chest-CT-Data/train/large.cell.carcinoma/000072 (2).png\n",
            "Loaded image /content/drive/MyDrive/Chest-CT-Data/train/large.cell.carcinoma/l3.png\n",
            "Loaded image /content/drive/MyDrive/Chest-CT-Data/train/large.cell.carcinoma/000078 (3).png\n",
            "Loaded image /content/drive/MyDrive/Chest-CT-Data/train/large.cell.carcinoma/000039 (3).png\n",
            "Loaded image /content/drive/MyDrive/Chest-CT-Data/train/large.cell.carcinoma/000097.png\n",
            "Loaded image /content/drive/MyDrive/Chest-CT-Data/train/large.cell.carcinoma/000077.png\n",
            "Loaded image /content/drive/MyDrive/Chest-CT-Data/train/large.cell.carcinoma/000073 (2).png\n",
            "Loaded image /content/drive/MyDrive/Chest-CT-Data/train/large.cell.carcinoma/000081.png\n",
            "Loaded image /content/drive/MyDrive/Chest-CT-Data/train/large.cell.carcinoma/000143.png\n",
            "Loaded image /content/drive/MyDrive/Chest-CT-Data/train/large.cell.carcinoma/000169.png\n",
            "Loaded image /content/drive/MyDrive/Chest-CT-Data/train/large.cell.carcinoma/000021.png\n",
            "Loaded image /content/drive/MyDrive/Chest-CT-Data/train/large.cell.carcinoma/000051.png\n",
            "Loaded image /content/drive/MyDrive/Chest-CT-Data/train/large.cell.carcinoma/000016 (3).png\n",
            "Loaded image /content/drive/MyDrive/Chest-CT-Data/train/large.cell.carcinoma/000159.png\n",
            "Loaded image /content/drive/MyDrive/Chest-CT-Data/train/large.cell.carcinoma/000062 (3).png\n",
            "Loaded image /content/drive/MyDrive/Chest-CT-Data/train/large.cell.carcinoma/000055 (4).png\n",
            "Loaded image /content/drive/MyDrive/Chest-CT-Data/train/large.cell.carcinoma/000068 (3).png\n",
            "Loaded image /content/drive/MyDrive/Chest-CT-Data/train/large.cell.carcinoma/000019 (3).png\n",
            "Loaded image /content/drive/MyDrive/Chest-CT-Data/train/large.cell.carcinoma/000084 (2).png\n",
            "Loaded image /content/drive/MyDrive/Chest-CT-Data/train/large.cell.carcinoma/di1.png\n",
            "Loaded image /content/drive/MyDrive/Chest-CT-Data/train/large.cell.carcinoma/000089.png\n",
            "Loaded image /content/drive/MyDrive/Chest-CT-Data/train/large.cell.carcinoma/l5.png\n",
            "Loaded image /content/drive/MyDrive/Chest-CT-Data/train/large.cell.carcinoma/000097 (2).png\n",
            "Loaded image /content/drive/MyDrive/Chest-CT-Data/train/large.cell.carcinoma/000173.png\n",
            "Loaded image /content/drive/MyDrive/Chest-CT-Data/train/large.cell.carcinoma/000106.png\n",
            "Loaded image /content/drive/MyDrive/Chest-CT-Data/train/large.cell.carcinoma/000063.png\n",
            "Loaded image /content/drive/MyDrive/Chest-CT-Data/train/large.cell.carcinoma/000024 (2).png\n",
            "Loaded image /content/drive/MyDrive/Chest-CT-Data/train/large.cell.carcinoma/000045.png\n",
            "Loaded image /content/drive/MyDrive/Chest-CT-Data/train/large.cell.carcinoma/000066 (2).png\n",
            "Loaded image /content/drive/MyDrive/Chest-CT-Data/train/large.cell.carcinoma/000093 (3).png\n",
            "Loaded image /content/drive/MyDrive/Chest-CT-Data/train/large.cell.carcinoma/000027 (2).png\n",
            "Loaded image /content/drive/MyDrive/Chest-CT-Data/train/large.cell.carcinoma/000017.png\n",
            "Loaded image /content/drive/MyDrive/Chest-CT-Data/train/large.cell.carcinoma/000055.png\n",
            "Loaded image /content/drive/MyDrive/Chest-CT-Data/train/large.cell.carcinoma/000010.png\n",
            "Loaded image /content/drive/MyDrive/Chest-CT-Data/train/large.cell.carcinoma/000034 (2).png\n",
            "Loaded image /content/drive/MyDrive/Chest-CT-Data/train/large.cell.carcinoma/000058 (3).png\n",
            "Loaded image /content/drive/MyDrive/Chest-CT-Data/train/large.cell.carcinoma/000055 (3).png\n",
            "Loaded image /content/drive/MyDrive/Chest-CT-Data/train/large.cell.carcinoma/000076 (3).png\n",
            "Loaded image /content/drive/MyDrive/Chest-CT-Data/train/large.cell.carcinoma/000095 (3).png\n",
            "Loaded image /content/drive/MyDrive/Chest-CT-Data/train/large.cell.carcinoma/000043 (2).png\n",
            "Loaded image /content/drive/MyDrive/Chest-CT-Data/train/large.cell.carcinoma/000040 (2).png\n",
            "Loaded image /content/drive/MyDrive/Chest-CT-Data/train/large.cell.carcinoma/000104.png\n",
            "Loaded image /content/drive/MyDrive/Chest-CT-Data/train/large.cell.carcinoma/000041.png\n",
            "Loaded image /content/drive/MyDrive/Chest-CT-Data/train/large.cell.carcinoma/000095 (4).png\n",
            "Loaded image /content/drive/MyDrive/Chest-CT-Data/train/large.cell.carcinoma/000042 (2).png\n",
            "Loaded image /content/drive/MyDrive/Chest-CT-Data/train/large.cell.carcinoma/000002.png\n",
            "Loaded image /content/drive/MyDrive/Chest-CT-Data/train/large.cell.carcinoma/000059 (3).png\n",
            "Loaded image /content/drive/MyDrive/Chest-CT-Data/train/large.cell.carcinoma/000065 (2).png\n",
            "Loaded image /content/drive/MyDrive/Chest-CT-Data/train/large.cell.carcinoma/000098 (3).png\n",
            "Loaded image /content/drive/MyDrive/Chest-CT-Data/train/large.cell.carcinoma/000060.png\n",
            "Loaded image /content/drive/MyDrive/Chest-CT-Data/train/large.cell.carcinoma/000003 (3).png\n",
            "Loaded image /content/drive/MyDrive/Chest-CT-Data/train/large.cell.carcinoma/000133.png\n",
            "Loaded image /content/drive/MyDrive/Chest-CT-Data/train/large.cell.carcinoma/000098 (4).png\n",
            "Loaded image /content/drive/MyDrive/Chest-CT-Data/train/large.cell.carcinoma/000062.png\n",
            "Loaded image /content/drive/MyDrive/Chest-CT-Data/train/large.cell.carcinoma/l6.png\n",
            "Loaded image /content/drive/MyDrive/Chest-CT-Data/train/large.cell.carcinoma/000046.png\n",
            "Loaded image /content/drive/MyDrive/Chest-CT-Data/train/large.cell.carcinoma/000057 (4).png\n",
            "Loaded image /content/drive/MyDrive/Chest-CT-Data/train/large.cell.carcinoma/l4.png\n",
            "Loaded image /content/drive/MyDrive/Chest-CT-Data/train/large.cell.carcinoma/000057 (3).png\n",
            "Loaded image /content/drive/MyDrive/Chest-CT-Data/train/large.cell.carcinoma/000059 (4).png\n",
            "Loaded image /content/drive/MyDrive/Chest-CT-Data/train/large.cell.carcinoma/000094 (2).png\n",
            "Loaded image /content/drive/MyDrive/Chest-CT-Data/train/large.cell.carcinoma/000009 (3).png\n",
            "Loaded image /content/drive/MyDrive/Chest-CT-Data/train/large.cell.carcinoma/000063 (2).png\n",
            "Loaded image /content/drive/MyDrive/Chest-CT-Data/train/large.cell.carcinoma/000019 (4).png\n",
            "Loaded image /content/drive/MyDrive/Chest-CT-Data/train/large.cell.carcinoma/000016 (4).png\n",
            "Loaded image /content/drive/MyDrive/Chest-CT-Data/train/large.cell.carcinoma/000033 (3).png\n",
            "Loaded image /content/drive/MyDrive/Chest-CT-Data/train/large.cell.carcinoma/000032.png\n",
            "Loaded image /content/drive/MyDrive/Chest-CT-Data/train/large.cell.carcinoma/000071 (2).png\n",
            "Loaded image /content/drive/MyDrive/Chest-CT-Data/train/large.cell.carcinoma/000104 (2).png\n",
            "Loaded image /content/drive/MyDrive/Chest-CT-Data/train/large.cell.carcinoma/000023 (2).png\n",
            "Loaded image /content/drive/MyDrive/Chest-CT-Data/train/large.cell.carcinoma/000026.png\n",
            "Loaded image /content/drive/MyDrive/Chest-CT-Data/train/large.cell.carcinoma/000047 (2).png\n",
            "Loaded image /content/drive/MyDrive/Chest-CT-Data/train/large.cell.carcinoma/000041 (3).png\n",
            "Loaded image /content/drive/MyDrive/Chest-CT-Data/train/large.cell.carcinoma/000068.png\n",
            "Loaded image /content/drive/MyDrive/Chest-CT-Data/train/large.cell.carcinoma/000039 (4).png\n",
            "Loaded image /content/drive/MyDrive/Chest-CT-Data/train/large.cell.carcinoma/000015.png\n",
            "Loaded image /content/drive/MyDrive/Chest-CT-Data/train/large.cell.carcinoma/000056 (4).png\n",
            "Loaded image /content/drive/MyDrive/Chest-CT-Data/train/large.cell.carcinoma/000003 (4).png\n",
            "Loaded image /content/drive/MyDrive/Chest-CT-Data/train/large.cell.carcinoma/000066.png\n",
            "Loaded image /content/drive/MyDrive/Chest-CT-Data/train/large.cell.carcinoma/000020 (3).png\n",
            "Loaded image /content/drive/MyDrive/Chest-CT-Data/train/large.cell.carcinoma/000069.png\n",
            "Loaded image /content/drive/MyDrive/Chest-CT-Data/train/large.cell.carcinoma/000076 (4).png\n",
            "Loaded image /content/drive/MyDrive/Chest-CT-Data/train/large.cell.carcinoma/000084.png\n",
            "Loaded image /content/drive/MyDrive/Chest-CT-Data/train/large.cell.carcinoma/000058 (4).png\n",
            "Loaded image /content/drive/MyDrive/Chest-CT-Data/train/large.cell.carcinoma/000154.png\n",
            "Loaded image /content/drive/MyDrive/Chest-CT-Data/train/large.cell.carcinoma/000105 (2).png\n",
            "Loaded image /content/drive/MyDrive/Chest-CT-Data/train/large.cell.carcinoma/000056 (3).png\n",
            "Loaded image /content/drive/MyDrive/Chest-CT-Data/train/large.cell.carcinoma/000031 (2).png\n",
            "Loaded image /content/drive/MyDrive/Chest-CT-Data/train/large.cell.carcinoma/000137.png\n",
            "Loaded image /content/drive/MyDrive/Chest-CT-Data/train/large.cell.carcinoma/000150.png\n",
            "Loaded image /content/drive/MyDrive/Chest-CT-Data/train/large.cell.carcinoma/000026 (2).png\n",
            "Loaded image /content/drive/MyDrive/Chest-CT-Data/train/large.cell.carcinoma/000062 (2).png\n",
            "Loaded image /content/drive/MyDrive/Chest-CT-Data/train/large.cell.carcinoma/000057.png\n",
            "Loaded image /content/drive/MyDrive/Chest-CT-Data/train/large.cell.carcinoma/000093 (4).png\n",
            "Loaded image /content/drive/MyDrive/Chest-CT-Data/train/large.cell.carcinoma/000027.png\n",
            "Loaded image /content/drive/MyDrive/Chest-CT-Data/train/large.cell.carcinoma/000033 (4).png\n",
            "Loaded image /content/drive/MyDrive/Chest-CT-Data/train/large.cell.carcinoma/000031.png\n",
            "Loaded image /content/drive/MyDrive/Chest-CT-Data/train/normal/13 - Copy - Copy.png\n",
            "Loaded image /content/drive/MyDrive/Chest-CT-Data/train/normal/11 - Copy (3).png\n",
            "Loaded image /content/drive/MyDrive/Chest-CT-Data/train/normal/12 (2) - Copy.png\n",
            "Loaded image /content/drive/MyDrive/Chest-CT-Data/train/normal/12 - Copy.png\n",
            "Loaded image /content/drive/MyDrive/Chest-CT-Data/train/normal/11 - Copy (2) - Copy.png\n",
            "Loaded image /content/drive/MyDrive/Chest-CT-Data/train/normal/12 (2).png\n",
            "Loaded image /content/drive/MyDrive/Chest-CT-Data/train/normal/11 (2) - Copy.png\n",
            "Loaded image /content/drive/MyDrive/Chest-CT-Data/train/normal/11.png\n",
            "Loaded image /content/drive/MyDrive/Chest-CT-Data/train/normal/12 - Copy (3).png\n",
            "Loaded image /content/drive/MyDrive/Chest-CT-Data/train/normal/13 (2).png\n",
            "Loaded image /content/drive/MyDrive/Chest-CT-Data/train/normal/10 - Copy (2).png\n",
            "Loaded image /content/drive/MyDrive/Chest-CT-Data/train/normal/13 (2) - Copy.png\n",
            "Loaded image /content/drive/MyDrive/Chest-CT-Data/train/normal/12 - Copy (2).png\n",
            "Loaded image /content/drive/MyDrive/Chest-CT-Data/train/normal/11 - Copy (2).png\n",
            "Loaded image /content/drive/MyDrive/Chest-CT-Data/train/normal/11 - Copy - Copy.png\n",
            "Loaded image /content/drive/MyDrive/Chest-CT-Data/train/normal/10.png\n",
            "Loaded image /content/drive/MyDrive/Chest-CT-Data/train/normal/10 (2) - Copy.png\n",
            "Loaded image /content/drive/MyDrive/Chest-CT-Data/train/normal/11 - Copy.png\n",
            "Loaded image /content/drive/MyDrive/Chest-CT-Data/train/normal/10 (2).png\n",
            "Loaded image /content/drive/MyDrive/Chest-CT-Data/train/normal/12 - Copy (2) - Copy.png\n",
            "Loaded image /content/drive/MyDrive/Chest-CT-Data/train/normal/10 - Copy.png\n",
            "Loaded image /content/drive/MyDrive/Chest-CT-Data/train/normal/10 - Copy - Copy.png\n",
            "Loaded image /content/drive/MyDrive/Chest-CT-Data/train/normal/12.png\n",
            "Loaded image /content/drive/MyDrive/Chest-CT-Data/train/normal/13 - Copy (2).png\n",
            "Loaded image /content/drive/MyDrive/Chest-CT-Data/train/normal/13 - Copy (3).png\n",
            "Loaded image /content/drive/MyDrive/Chest-CT-Data/train/normal/10 - Copy (2) - Copy.png\n",
            "Loaded image /content/drive/MyDrive/Chest-CT-Data/train/normal/13 - Copy (2) - Copy.png\n",
            "Loaded image /content/drive/MyDrive/Chest-CT-Data/train/normal/10 - Copy (3).png\n",
            "Loaded image /content/drive/MyDrive/Chest-CT-Data/train/normal/12 - Copy - Copy.png\n",
            "Loaded image /content/drive/MyDrive/Chest-CT-Data/train/normal/11 (2).png\n",
            "Loaded image /content/drive/MyDrive/Chest-CT-Data/train/normal/5 - Copy - Copy.png\n",
            "Loaded image /content/drive/MyDrive/Chest-CT-Data/train/normal/7 - Copy (2) - Copy.png\n",
            "Loaded image /content/drive/MyDrive/Chest-CT-Data/train/normal/18 (2) - Copy.png\n",
            "Loaded image /content/drive/MyDrive/Chest-CT-Data/train/normal/5 - Copy (2) - Copy.png\n",
            "Loaded image /content/drive/MyDrive/Chest-CT-Data/train/normal/18 - Copy (2).png\n",
            "Loaded image /content/drive/MyDrive/Chest-CT-Data/train/normal/13.png\n",
            "Loaded image /content/drive/MyDrive/Chest-CT-Data/train/normal/4 - Copy (2) - Copy.png\n",
            "Loaded image /content/drive/MyDrive/Chest-CT-Data/train/normal/19.png\n",
            "Loaded image /content/drive/MyDrive/Chest-CT-Data/train/normal/6 (2).png\n",
            "Loaded image /content/drive/MyDrive/Chest-CT-Data/train/normal/17 - Copy.png\n",
            "Loaded image /content/drive/MyDrive/Chest-CT-Data/train/normal/2 - Copy.png\n",
            "Loaded image /content/drive/MyDrive/Chest-CT-Data/train/normal/7 (2) - Copy.png\n",
            "Loaded image /content/drive/MyDrive/Chest-CT-Data/train/normal/17 - Copy (2) - Copy.png\n",
            "Loaded image /content/drive/MyDrive/Chest-CT-Data/train/normal/5 - Copy.png\n",
            "Loaded image /content/drive/MyDrive/Chest-CT-Data/train/normal/17 - Copy - Copy.png\n",
            "Loaded image /content/drive/MyDrive/Chest-CT-Data/train/normal/20 - Copy - Copy.png\n",
            "Loaded image /content/drive/MyDrive/Chest-CT-Data/train/normal/20 - Copy.png\n",
            "Loaded image /content/drive/MyDrive/Chest-CT-Data/train/normal/4 (2) - Copy.png\n",
            "Loaded image /content/drive/MyDrive/Chest-CT-Data/train/normal/2 - Copy (2).png\n",
            "Loaded image /content/drive/MyDrive/Chest-CT-Data/train/normal/20 - Copy (2) - Copy.png\n",
            "Loaded image /content/drive/MyDrive/Chest-CT-Data/train/normal/21 - Copy - Copy.png\n",
            "Loaded image /content/drive/MyDrive/Chest-CT-Data/train/normal/17 (2).png\n",
            "Loaded image /content/drive/MyDrive/Chest-CT-Data/train/normal/17 - Copy (3).png\n",
            "Loaded image /content/drive/MyDrive/Chest-CT-Data/train/normal/16 (2) - Copy.png\n",
            "Loaded image /content/drive/MyDrive/Chest-CT-Data/train/normal/4 - Copy - Copy.png\n",
            "Loaded image /content/drive/MyDrive/Chest-CT-Data/train/normal/19 (2).png\n",
            "Loaded image /content/drive/MyDrive/Chest-CT-Data/train/normal/20 (2).png\n",
            "Loaded image /content/drive/MyDrive/Chest-CT-Data/train/normal/2 (2).png\n",
            "Loaded image /content/drive/MyDrive/Chest-CT-Data/train/normal/6 - Copy (3).png\n",
            "Loaded image /content/drive/MyDrive/Chest-CT-Data/train/normal/21 - Copy (2).png\n",
            "Loaded image /content/drive/MyDrive/Chest-CT-Data/train/normal/19 - Copy (2) - Copy.png\n",
            "Loaded image /content/drive/MyDrive/Chest-CT-Data/train/normal/16 - Copy (2).png\n",
            "Loaded image /content/drive/MyDrive/Chest-CT-Data/train/normal/7 - Copy (3).png\n",
            "Loaded image /content/drive/MyDrive/Chest-CT-Data/train/normal/5.png\n",
            "Loaded image /content/drive/MyDrive/Chest-CT-Data/train/normal/3.png\n",
            "Loaded image /content/drive/MyDrive/Chest-CT-Data/train/normal/6 - Copy - Copy.png\n",
            "Loaded image /content/drive/MyDrive/Chest-CT-Data/train/normal/3 - Copy - Copy.png\n",
            "Loaded image /content/drive/MyDrive/Chest-CT-Data/train/normal/4 - Copy (2).png\n",
            "Loaded image /content/drive/MyDrive/Chest-CT-Data/train/normal/2 (2) - Copy.png\n",
            "Loaded image /content/drive/MyDrive/Chest-CT-Data/train/normal/21 - Copy (2) - Copy.png\n",
            "Loaded image /content/drive/MyDrive/Chest-CT-Data/train/normal/6 - Copy (2) - Copy.png\n",
            "Loaded image /content/drive/MyDrive/Chest-CT-Data/train/normal/17 (2) - Copy.png\n",
            "Loaded image /content/drive/MyDrive/Chest-CT-Data/train/normal/7 - Copy (2).png\n",
            "Loaded image /content/drive/MyDrive/Chest-CT-Data/train/normal/6 - Copy (2).png\n",
            "Loaded image /content/drive/MyDrive/Chest-CT-Data/train/normal/18.png\n",
            "Loaded image /content/drive/MyDrive/Chest-CT-Data/train/normal/13 - Copy.png\n",
            "Loaded image /content/drive/MyDrive/Chest-CT-Data/train/normal/2 - Copy (2) - Copy.png\n",
            "Loaded image /content/drive/MyDrive/Chest-CT-Data/train/normal/16 - Copy - Copy.png\n",
            "Loaded image /content/drive/MyDrive/Chest-CT-Data/train/normal/18 - Copy (3).png\n",
            "Loaded image /content/drive/MyDrive/Chest-CT-Data/train/normal/6 - Copy.png\n",
            "Loaded image /content/drive/MyDrive/Chest-CT-Data/train/normal/19 (2) - Copy.png\n",
            "Loaded image /content/drive/MyDrive/Chest-CT-Data/train/normal/17.png\n",
            "Loaded image /content/drive/MyDrive/Chest-CT-Data/train/normal/5 - Copy (3).png\n",
            "Loaded image /content/drive/MyDrive/Chest-CT-Data/train/normal/16 - Copy (2) - Copy.png\n",
            "Loaded image /content/drive/MyDrive/Chest-CT-Data/train/normal/5 - Copy (2).png\n",
            "Loaded image /content/drive/MyDrive/Chest-CT-Data/train/normal/16 - Copy (3).png\n",
            "Loaded image /content/drive/MyDrive/Chest-CT-Data/train/normal/3 - Copy (2).png\n",
            "Loaded image /content/drive/MyDrive/Chest-CT-Data/train/normal/18 - Copy (2) - Copy.png\n",
            "Loaded image /content/drive/MyDrive/Chest-CT-Data/train/normal/18 (2).png\n",
            "Loaded image /content/drive/MyDrive/Chest-CT-Data/train/normal/16 (2).png\n",
            "Loaded image /content/drive/MyDrive/Chest-CT-Data/train/normal/4.png\n",
            "Loaded image /content/drive/MyDrive/Chest-CT-Data/train/normal/3 (2) - Copy.png\n",
            "Loaded image /content/drive/MyDrive/Chest-CT-Data/train/normal/4 - Copy.png\n",
            "Loaded image /content/drive/MyDrive/Chest-CT-Data/train/normal/2 - Copy (3).png\n",
            "Loaded image /content/drive/MyDrive/Chest-CT-Data/train/normal/4 - Copy (3).png\n",
            "Loaded image /content/drive/MyDrive/Chest-CT-Data/train/normal/5 (2) - Copy.png\n",
            "Loaded image /content/drive/MyDrive/Chest-CT-Data/train/normal/5 (2).png\n",
            "Loaded image /content/drive/MyDrive/Chest-CT-Data/train/normal/19 - Copy (3).png\n",
            "Loaded image /content/drive/MyDrive/Chest-CT-Data/train/normal/16.png\n",
            "Loaded image /content/drive/MyDrive/Chest-CT-Data/train/normal/6 (2) - Copy.png\n",
            "Loaded image /content/drive/MyDrive/Chest-CT-Data/train/normal/16 - Copy.png\n",
            "Loaded image /content/drive/MyDrive/Chest-CT-Data/train/normal/3 (2).png\n",
            "Loaded image /content/drive/MyDrive/Chest-CT-Data/train/normal/20 (2) - Copy.png\n",
            "Loaded image /content/drive/MyDrive/Chest-CT-Data/train/normal/18 - Copy - Copy.png\n",
            "Loaded image /content/drive/MyDrive/Chest-CT-Data/train/normal/17 - Copy (2).png\n",
            "Loaded image /content/drive/MyDrive/Chest-CT-Data/train/normal/2.png\n",
            "Loaded image /content/drive/MyDrive/Chest-CT-Data/train/normal/3 - Copy (2) - Copy.png\n",
            "Loaded image /content/drive/MyDrive/Chest-CT-Data/train/normal/19 - Copy - Copy.png\n",
            "Loaded image /content/drive/MyDrive/Chest-CT-Data/train/normal/3 - Copy (3).png\n",
            "Loaded image /content/drive/MyDrive/Chest-CT-Data/train/normal/3 - Copy.png\n",
            "Loaded image /content/drive/MyDrive/Chest-CT-Data/train/normal/18 - Copy.png\n",
            "Loaded image /content/drive/MyDrive/Chest-CT-Data/train/normal/7 (2).png\n",
            "Loaded image /content/drive/MyDrive/Chest-CT-Data/train/normal/19 - Copy.png\n",
            "Loaded image /content/drive/MyDrive/Chest-CT-Data/train/normal/2 - Copy - Copy.png\n",
            "Loaded image /content/drive/MyDrive/Chest-CT-Data/train/normal/19 - Copy (2).png\n",
            "Loaded image /content/drive/MyDrive/Chest-CT-Data/train/normal/4 (2).png\n",
            "Loaded image /content/drive/MyDrive/Chest-CT-Data/train/normal/20.png\n",
            "Loaded image /content/drive/MyDrive/Chest-CT-Data/train/normal/21 - Copy.png\n",
            "Loaded image /content/drive/MyDrive/Chest-CT-Data/train/normal/20 - Copy (2).png\n",
            "Loaded image /content/drive/MyDrive/Chest-CT-Data/train/normal/20 - Copy (3).png\n",
            "Loaded image /content/drive/MyDrive/Chest-CT-Data/train/normal/6.png\n",
            "Loaded image /content/drive/MyDrive/Chest-CT-Data/train/normal/8 (2) - Copy.png\n",
            "Loaded image /content/drive/MyDrive/Chest-CT-Data/train/normal/7 - Copy - Copy.png\n",
            "Loaded image /content/drive/MyDrive/Chest-CT-Data/train/normal/n7 - Copy.png\n",
            "Loaded image /content/drive/MyDrive/Chest-CT-Data/train/normal/8 - Copy.png\n",
            "Loaded image /content/drive/MyDrive/Chest-CT-Data/train/normal/n7 (2).png\n",
            "Loaded image /content/drive/MyDrive/Chest-CT-Data/train/normal/8 - Copy (2).png\n",
            "Loaded image /content/drive/MyDrive/Chest-CT-Data/train/normal/8 - Copy (2) - Copy.png\n",
            "Loaded image /content/drive/MyDrive/Chest-CT-Data/train/normal/8.png\n",
            "Loaded image /content/drive/MyDrive/Chest-CT-Data/train/normal/8 (2).png\n",
            "Loaded image /content/drive/MyDrive/Chest-CT-Data/train/normal/7 - Copy.png\n",
            "Loaded image /content/drive/MyDrive/Chest-CT-Data/train/normal/8 - Copy (3).png\n",
            "Loaded image /content/drive/MyDrive/Chest-CT-Data/train/normal/n7.png\n",
            "Loaded image /content/drive/MyDrive/Chest-CT-Data/train/normal/8 - Copy - Copy.png\n",
            "Loaded image /content/drive/MyDrive/Chest-CT-Data/train/normal/n7 (2) - Copy.png\n",
            "Loaded image /content/drive/MyDrive/Chest-CT-Data/train/normal/7.png\n",
            "Loaded image /content/drive/MyDrive/Chest-CT-Data/train/squamous.cell.carcinoma/000006 (4).png\n",
            "Loaded image /content/drive/MyDrive/Chest-CT-Data/train/squamous.cell.carcinoma/000057 (4).png\n",
            "Loaded image /content/drive/MyDrive/Chest-CT-Data/train/squamous.cell.carcinoma/000121.png\n",
            "Loaded image /content/drive/MyDrive/Chest-CT-Data/train/squamous.cell.carcinoma/000002 (4).png\n",
            "Loaded image /content/drive/MyDrive/Chest-CT-Data/train/squamous.cell.carcinoma/000007.png\n",
            "Loaded image /content/drive/MyDrive/Chest-CT-Data/train/squamous.cell.carcinoma/000062 (7).png\n",
            "Loaded image /content/drive/MyDrive/Chest-CT-Data/train/squamous.cell.carcinoma/000074 (5).png\n",
            "Loaded image /content/drive/MyDrive/Chest-CT-Data/train/squamous.cell.carcinoma/000104 (2).png\n",
            "Loaded image /content/drive/MyDrive/Chest-CT-Data/train/squamous.cell.carcinoma/000035.png\n",
            "Loaded image /content/drive/MyDrive/Chest-CT-Data/train/squamous.cell.carcinoma/000058.png\n",
            "Loaded image /content/drive/MyDrive/Chest-CT-Data/train/squamous.cell.carcinoma/000064 (4).png\n",
            "Loaded image /content/drive/MyDrive/Chest-CT-Data/train/squamous.cell.carcinoma/000055 (2).png\n",
            "Loaded image /content/drive/MyDrive/Chest-CT-Data/train/squamous.cell.carcinoma/000054.png\n",
            "Loaded image /content/drive/MyDrive/Chest-CT-Data/train/squamous.cell.carcinoma/000077 (2).png\n",
            "Loaded image /content/drive/MyDrive/Chest-CT-Data/train/squamous.cell.carcinoma/000057 (7).png\n",
            "Loaded image /content/drive/MyDrive/Chest-CT-Data/train/squamous.cell.carcinoma/000046 (5).png\n",
            "Loaded image /content/drive/MyDrive/Chest-CT-Data/train/squamous.cell.carcinoma/000070 (2).png\n",
            "Loaded image /content/drive/MyDrive/Chest-CT-Data/train/squamous.cell.carcinoma/000081.png\n",
            "Loaded image /content/drive/MyDrive/Chest-CT-Data/train/squamous.cell.carcinoma/000041 (4).png\n",
            "Loaded image /content/drive/MyDrive/Chest-CT-Data/train/squamous.cell.carcinoma/000035 (5).png\n",
            "Loaded image /content/drive/MyDrive/Chest-CT-Data/train/squamous.cell.carcinoma/000104.png\n",
            "Loaded image /content/drive/MyDrive/Chest-CT-Data/train/squamous.cell.carcinoma/000083 (6).png\n",
            "Loaded image /content/drive/MyDrive/Chest-CT-Data/train/squamous.cell.carcinoma/000003.png\n",
            "Loaded image /content/drive/MyDrive/Chest-CT-Data/train/squamous.cell.carcinoma/000084 (5).png\n",
            "Loaded image /content/drive/MyDrive/Chest-CT-Data/train/squamous.cell.carcinoma/000103.png\n",
            "Loaded image /content/drive/MyDrive/Chest-CT-Data/train/squamous.cell.carcinoma/000083 (2).png\n",
            "Loaded image /content/drive/MyDrive/Chest-CT-Data/train/squamous.cell.carcinoma/000065 (5).png\n",
            "Loaded image /content/drive/MyDrive/Chest-CT-Data/train/squamous.cell.carcinoma/000057 (6).png\n",
            "Loaded image /content/drive/MyDrive/Chest-CT-Data/train/squamous.cell.carcinoma/000044 (2).png\n",
            "Loaded image /content/drive/MyDrive/Chest-CT-Data/train/squamous.cell.carcinoma/000079 (5).png\n",
            "Loaded image /content/drive/MyDrive/Chest-CT-Data/train/squamous.cell.carcinoma/000094 (3).png\n",
            "Loaded image /content/drive/MyDrive/Chest-CT-Data/train/squamous.cell.carcinoma/000120 (6).png\n",
            "Loaded image /content/drive/MyDrive/Chest-CT-Data/train/squamous.cell.carcinoma/000070.png\n",
            "Loaded image /content/drive/MyDrive/Chest-CT-Data/train/squamous.cell.carcinoma/000066 (2).png\n",
            "Loaded image /content/drive/MyDrive/Chest-CT-Data/train/squamous.cell.carcinoma/000083 (5).png\n",
            "Loaded image /content/drive/MyDrive/Chest-CT-Data/train/squamous.cell.carcinoma/000122.png\n",
            "Loaded image /content/drive/MyDrive/Chest-CT-Data/train/squamous.cell.carcinoma/000078 (7).png\n",
            "Loaded image /content/drive/MyDrive/Chest-CT-Data/train/squamous.cell.carcinoma/000050 (2).png\n",
            "Loaded image /content/drive/MyDrive/Chest-CT-Data/train/squamous.cell.carcinoma/000048.png\n",
            "Loaded image /content/drive/MyDrive/Chest-CT-Data/train/squamous.cell.carcinoma/000085.png\n",
            "Loaded image /content/drive/MyDrive/Chest-CT-Data/train/squamous.cell.carcinoma/000084 (7).png\n",
            "Loaded image /content/drive/MyDrive/Chest-CT-Data/train/squamous.cell.carcinoma/000099 (3).png\n",
            "Loaded image /content/drive/MyDrive/Chest-CT-Data/train/squamous.cell.carcinoma/000049 (3).png\n",
            "Loaded image /content/drive/MyDrive/Chest-CT-Data/train/squamous.cell.carcinoma/000089 (4).png\n",
            "Loaded image /content/drive/MyDrive/Chest-CT-Data/train/squamous.cell.carcinoma/000038 (2).png\n",
            "Loaded image /content/drive/MyDrive/Chest-CT-Data/train/squamous.cell.carcinoma/000074 (7).png\n",
            "Loaded image /content/drive/MyDrive/Chest-CT-Data/train/squamous.cell.carcinoma/000071 (3).png\n",
            "Loaded image /content/drive/MyDrive/Chest-CT-Data/train/squamous.cell.carcinoma/000004 (5).png\n",
            "Loaded image /content/drive/MyDrive/Chest-CT-Data/train/squamous.cell.carcinoma/000106 (3).png\n",
            "Loaded image /content/drive/MyDrive/Chest-CT-Data/train/squamous.cell.carcinoma/000056 (7).png\n",
            "Loaded image /content/drive/MyDrive/Chest-CT-Data/train/squamous.cell.carcinoma/000120 (2).png\n",
            "Loaded image /content/drive/MyDrive/Chest-CT-Data/train/squamous.cell.carcinoma/000009 (2).png\n",
            "Loaded image /content/drive/MyDrive/Chest-CT-Data/train/squamous.cell.carcinoma/000043.png\n",
            "Loaded image /content/drive/MyDrive/Chest-CT-Data/train/squamous.cell.carcinoma/000077 (5).png\n",
            "Loaded image /content/drive/MyDrive/Chest-CT-Data/train/squamous.cell.carcinoma/000056 (5).png\n",
            "Loaded image /content/drive/MyDrive/Chest-CT-Data/train/squamous.cell.carcinoma/000106 (4).png\n",
            "Loaded image /content/drive/MyDrive/Chest-CT-Data/train/squamous.cell.carcinoma/000088.png\n",
            "Loaded image /content/drive/MyDrive/Chest-CT-Data/train/squamous.cell.carcinoma/000121 (2).png\n",
            "Loaded image /content/drive/MyDrive/Chest-CT-Data/train/squamous.cell.carcinoma/000096.png\n",
            "Loaded image /content/drive/MyDrive/Chest-CT-Data/train/squamous.cell.carcinoma/000054 (3).png\n",
            "Loaded image /content/drive/MyDrive/Chest-CT-Data/train/squamous.cell.carcinoma/000066.png\n",
            "Loaded image /content/drive/MyDrive/Chest-CT-Data/train/squamous.cell.carcinoma/000060 (2).png\n",
            "Loaded image /content/drive/MyDrive/Chest-CT-Data/train/squamous.cell.carcinoma/000101 (3).png\n",
            "Loaded image /content/drive/MyDrive/Chest-CT-Data/train/squamous.cell.carcinoma/000074 (6).png\n",
            "Loaded image /content/drive/MyDrive/Chest-CT-Data/train/squamous.cell.carcinoma/000063 (3).png\n",
            "Loaded image /content/drive/MyDrive/Chest-CT-Data/train/squamous.cell.carcinoma/000082 (4).png\n",
            "Loaded image /content/drive/MyDrive/Chest-CT-Data/train/squamous.cell.carcinoma/000057 (5).png\n",
            "Loaded image /content/drive/MyDrive/Chest-CT-Data/train/squamous.cell.carcinoma/000018 (6).png\n",
            "Loaded image /content/drive/MyDrive/Chest-CT-Data/train/squamous.cell.carcinoma/000067 (5).png\n",
            "Loaded image /content/drive/MyDrive/Chest-CT-Data/train/squamous.cell.carcinoma/000043 (3).png\n",
            "Loaded image /content/drive/MyDrive/Chest-CT-Data/train/squamous.cell.carcinoma/000016 (3).png\n",
            "Loaded image /content/drive/MyDrive/Chest-CT-Data/train/squamous.cell.carcinoma/000106 (5).png\n",
            "Loaded image /content/drive/MyDrive/Chest-CT-Data/train/squamous.cell.carcinoma/000046 (4).png\n",
            "Loaded image /content/drive/MyDrive/Chest-CT-Data/train/squamous.cell.carcinoma/000073 (6).png\n",
            "Loaded image /content/drive/MyDrive/Chest-CT-Data/train/squamous.cell.carcinoma/000010 (6).png\n",
            "Loaded image /content/drive/MyDrive/Chest-CT-Data/train/squamous.cell.carcinoma/000007 (4).png\n",
            "Loaded image /content/drive/MyDrive/Chest-CT-Data/train/squamous.cell.carcinoma/000063.png\n",
            "Loaded image /content/drive/MyDrive/Chest-CT-Data/train/squamous.cell.carcinoma/000082 (3).png\n",
            "Loaded image /content/drive/MyDrive/Chest-CT-Data/train/squamous.cell.carcinoma/000002 (6).png\n",
            "Loaded image /content/drive/MyDrive/Chest-CT-Data/train/squamous.cell.carcinoma/000038 (7).png\n",
            "Loaded image /content/drive/MyDrive/Chest-CT-Data/train/squamous.cell.carcinoma/000079.png\n",
            "Loaded image /content/drive/MyDrive/Chest-CT-Data/train/squamous.cell.carcinoma/000106 (6).png\n",
            "Loaded image /content/drive/MyDrive/Chest-CT-Data/train/squamous.cell.carcinoma/000075.png\n",
            "Loaded image /content/drive/MyDrive/Chest-CT-Data/train/squamous.cell.carcinoma/000120 (4).png\n",
            "Loaded image /content/drive/MyDrive/Chest-CT-Data/train/squamous.cell.carcinoma/000094.png\n",
            "Loaded image /content/drive/MyDrive/Chest-CT-Data/train/squamous.cell.carcinoma/000008 (3).png\n",
            "Loaded image /content/drive/MyDrive/Chest-CT-Data/train/squamous.cell.carcinoma/000037 (2).png\n",
            "Loaded image /content/drive/MyDrive/Chest-CT-Data/train/squamous.cell.carcinoma/000096 (2).png\n",
            "Loaded image /content/drive/MyDrive/Chest-CT-Data/train/squamous.cell.carcinoma/000069 (2).png\n",
            "Loaded image /content/drive/MyDrive/Chest-CT-Data/train/squamous.cell.carcinoma/000068 (4).png\n",
            "Loaded image /content/drive/MyDrive/Chest-CT-Data/train/squamous.cell.carcinoma/000058 (3).png\n",
            "Loaded image /content/drive/MyDrive/Chest-CT-Data/train/squamous.cell.carcinoma/000063 (6).png\n",
            "Loaded image /content/drive/MyDrive/Chest-CT-Data/train/squamous.cell.carcinoma/000004 (4).png\n",
            "Loaded image /content/drive/MyDrive/Chest-CT-Data/train/squamous.cell.carcinoma/000055 (3).png\n",
            "Loaded image /content/drive/MyDrive/Chest-CT-Data/train/squamous.cell.carcinoma/000048 (5).png\n",
            "Loaded image /content/drive/MyDrive/Chest-CT-Data/train/squamous.cell.carcinoma/000048 (7).png\n",
            "Loaded image /content/drive/MyDrive/Chest-CT-Data/train/squamous.cell.carcinoma/000079 (7).png\n",
            "Loaded image /content/drive/MyDrive/Chest-CT-Data/train/squamous.cell.carcinoma/000051 (3).png\n",
            "Loaded image /content/drive/MyDrive/Chest-CT-Data/train/squamous.cell.carcinoma/000058 (5).png\n",
            "Loaded image /content/drive/MyDrive/Chest-CT-Data/train/squamous.cell.carcinoma/000030 (2).png\n",
            "Loaded image /content/drive/MyDrive/Chest-CT-Data/train/squamous.cell.carcinoma/000027 (2).png\n",
            "Loaded image /content/drive/MyDrive/Chest-CT-Data/train/squamous.cell.carcinoma/000015 (7).png\n",
            "Loaded image /content/drive/MyDrive/Chest-CT-Data/train/squamous.cell.carcinoma/000050 (6).png\n",
            "Loaded image /content/drive/MyDrive/Chest-CT-Data/train/squamous.cell.carcinoma/000099 (2).png\n",
            "Loaded image /content/drive/MyDrive/Chest-CT-Data/train/squamous.cell.carcinoma/000046 (6).png\n",
            "Loaded image /content/drive/MyDrive/Chest-CT-Data/train/squamous.cell.carcinoma/000081 (3).png\n",
            "Loaded image /content/drive/MyDrive/Chest-CT-Data/train/squamous.cell.carcinoma/000091 (5).png\n",
            "Loaded image /content/drive/MyDrive/Chest-CT-Data/train/squamous.cell.carcinoma/000030 (7).png\n",
            "Loaded image /content/drive/MyDrive/Chest-CT-Data/train/squamous.cell.carcinoma/000052 (4).png\n",
            "Loaded image /content/drive/MyDrive/Chest-CT-Data/train/squamous.cell.carcinoma/000090 (6).png\n",
            "Loaded image /content/drive/MyDrive/Chest-CT-Data/train/squamous.cell.carcinoma/000046 (7).png\n",
            "Loaded image /content/drive/MyDrive/Chest-CT-Data/train/squamous.cell.carcinoma/000013 (6).png\n",
            "Loaded image /content/drive/MyDrive/Chest-CT-Data/train/squamous.cell.carcinoma/000053 (6).png\n",
            "Loaded image /content/drive/MyDrive/Chest-CT-Data/train/squamous.cell.carcinoma/000077 (4).png\n",
            "Loaded image /content/drive/MyDrive/Chest-CT-Data/train/squamous.cell.carcinoma/000062 (5).png\n",
            "Loaded image /content/drive/MyDrive/Chest-CT-Data/train/squamous.cell.carcinoma/000058 (7).png\n",
            "Loaded image /content/drive/MyDrive/Chest-CT-Data/train/squamous.cell.carcinoma/000083 (7).png\n",
            "Loaded image /content/drive/MyDrive/Chest-CT-Data/train/squamous.cell.carcinoma/000015 (5).png\n",
            "Loaded image /content/drive/MyDrive/Chest-CT-Data/train/squamous.cell.carcinoma/000105 (5).png\n",
            "Loaded image /content/drive/MyDrive/Chest-CT-Data/train/squamous.cell.carcinoma/000006.png\n",
            "Loaded image /content/drive/MyDrive/Chest-CT-Data/train/squamous.cell.carcinoma/000033.png\n",
            "Loaded image /content/drive/MyDrive/Chest-CT-Data/train/squamous.cell.carcinoma/000017 (4).png\n",
            "Loaded image /content/drive/MyDrive/Chest-CT-Data/train/squamous.cell.carcinoma/000100 (4).png\n",
            "Loaded image /content/drive/MyDrive/Chest-CT-Data/train/squamous.cell.carcinoma/000028 (7).png\n",
            "Loaded image /content/drive/MyDrive/Chest-CT-Data/train/squamous.cell.carcinoma/000093.png\n",
            "Loaded image /content/drive/MyDrive/Chest-CT-Data/train/squamous.cell.carcinoma/000038 (5).png\n",
            "Loaded image /content/drive/MyDrive/Chest-CT-Data/train/squamous.cell.carcinoma/000028 (4).png\n",
            "Loaded image /content/drive/MyDrive/Chest-CT-Data/train/squamous.cell.carcinoma/000091 (7).png\n",
            "Loaded image /content/drive/MyDrive/Chest-CT-Data/train/squamous.cell.carcinoma/000032.png\n",
            "Loaded image /content/drive/MyDrive/Chest-CT-Data/train/squamous.cell.carcinoma/000024 (7).png\n",
            "Loaded image /content/drive/MyDrive/Chest-CT-Data/train/squamous.cell.carcinoma/000030 (5).png\n",
            "Loaded image /content/drive/MyDrive/Chest-CT-Data/train/squamous.cell.carcinoma/000067 (3).png\n",
            "Loaded image /content/drive/MyDrive/Chest-CT-Data/train/squamous.cell.carcinoma/000004 (7).png\n",
            "Loaded image /content/drive/MyDrive/Chest-CT-Data/train/squamous.cell.carcinoma/000036 (4).png\n",
            "Loaded image /content/drive/MyDrive/Chest-CT-Data/train/squamous.cell.carcinoma/000106 (7).png\n",
            "Loaded image /content/drive/MyDrive/Chest-CT-Data/train/squamous.cell.carcinoma/000067 (7).png\n",
            "Loaded image /content/drive/MyDrive/Chest-CT-Data/train/squamous.cell.carcinoma/000065 (7).png\n",
            "Loaded image /content/drive/MyDrive/Chest-CT-Data/train/squamous.cell.carcinoma/000028 (5).png\n",
            "Loaded image /content/drive/MyDrive/Chest-CT-Data/train/squamous.cell.carcinoma/000067 (2).png\n",
            "Loaded image /content/drive/MyDrive/Chest-CT-Data/train/squamous.cell.carcinoma/000081 (6).png\n",
            "Loaded image /content/drive/MyDrive/Chest-CT-Data/train/squamous.cell.carcinoma/000122 (3).png\n",
            "Loaded image /content/drive/MyDrive/Chest-CT-Data/train/squamous.cell.carcinoma/000029 (4).png\n",
            "Loaded image /content/drive/MyDrive/Chest-CT-Data/train/squamous.cell.carcinoma/000078.png\n",
            "Loaded image /content/drive/MyDrive/Chest-CT-Data/train/squamous.cell.carcinoma/000084 (3).png\n",
            "Loaded image /content/drive/MyDrive/Chest-CT-Data/train/squamous.cell.carcinoma/000053.png\n",
            "Loaded image /content/drive/MyDrive/Chest-CT-Data/train/squamous.cell.carcinoma/000105 (7).png\n",
            "Loaded image /content/drive/MyDrive/Chest-CT-Data/train/squamous.cell.carcinoma/000057 (3).png\n",
            "Loaded image /content/drive/MyDrive/Chest-CT-Data/train/squamous.cell.carcinoma/000078 (5).png\n",
            "Loaded image /content/drive/MyDrive/Chest-CT-Data/train/squamous.cell.carcinoma/000024 (5).png\n",
            "Loaded image /content/drive/MyDrive/Chest-CT-Data/train/squamous.cell.carcinoma/sq4.png\n",
            "Loaded image /content/drive/MyDrive/Chest-CT-Data/train/squamous.cell.carcinoma/sq1.png\n",
            "Loaded image /content/drive/MyDrive/Chest-CT-Data/train/squamous.cell.carcinoma/sq6.png\n",
            "Loaded image /content/drive/MyDrive/Chest-CT-Data/train/squamous.cell.carcinoma/sq3.png\n",
            "Loaded image /content/drive/MyDrive/Chest-CT-Data/train/squamous.cell.carcinoma/sq2.png\n",
            "Loaded image /content/drive/MyDrive/Chest-CT-Data/train/squamous.cell.carcinoma/sq5.png\n",
            "Loaded image /content/drive/MyDrive/Chest-CT-Data/valid/adenocarcinoma/000112 (2).png\n",
            "Loaded image /content/drive/MyDrive/Chest-CT-Data/valid/adenocarcinoma/000109 (4).png\n",
            "Loaded image /content/drive/MyDrive/Chest-CT-Data/valid/adenocarcinoma/000114 (10).png\n",
            "Loaded image /content/drive/MyDrive/Chest-CT-Data/valid/adenocarcinoma/000116 (3).png\n",
            "Loaded image /content/drive/MyDrive/Chest-CT-Data/valid/adenocarcinoma/000115 (5).png\n",
            "Loaded image /content/drive/MyDrive/Chest-CT-Data/valid/adenocarcinoma/000109 (8).png\n",
            "Loaded image /content/drive/MyDrive/Chest-CT-Data/valid/adenocarcinoma/000108 (8).png\n",
            "Loaded image /content/drive/MyDrive/Chest-CT-Data/valid/adenocarcinoma/000108 (7).png\n",
            "Loaded image /content/drive/MyDrive/Chest-CT-Data/valid/adenocarcinoma/000116 (8).png\n",
            "Loaded image /content/drive/MyDrive/Chest-CT-Data/valid/adenocarcinoma/000116 (9).png\n",
            "Loaded image /content/drive/MyDrive/Chest-CT-Data/valid/adenocarcinoma/000116 (5).png\n",
            "Loaded image /content/drive/MyDrive/Chest-CT-Data/valid/adenocarcinoma/000117 (6).png\n",
            "Loaded image /content/drive/MyDrive/Chest-CT-Data/valid/adenocarcinoma/000114.png\n",
            "Loaded image /content/drive/MyDrive/Chest-CT-Data/valid/adenocarcinoma/000110 (7).png\n",
            "Loaded image /content/drive/MyDrive/Chest-CT-Data/valid/adenocarcinoma/000117.png\n",
            "Loaded image /content/drive/MyDrive/Chest-CT-Data/valid/adenocarcinoma/000113.png\n",
            "Loaded image /content/drive/MyDrive/Chest-CT-Data/valid/adenocarcinoma/000115.png\n",
            "Loaded image /content/drive/MyDrive/Chest-CT-Data/valid/adenocarcinoma/000112 (9).png\n",
            "Loaded image /content/drive/MyDrive/Chest-CT-Data/valid/adenocarcinoma/000113 (3).png\n",
            "Loaded image /content/drive/MyDrive/Chest-CT-Data/valid/adenocarcinoma/000111 (2).png\n",
            "Loaded image /content/drive/MyDrive/Chest-CT-Data/valid/adenocarcinoma/000109 (3).png\n",
            "Loaded image /content/drive/MyDrive/Chest-CT-Data/valid/adenocarcinoma/000115 (9).png\n",
            "Loaded image /content/drive/MyDrive/Chest-CT-Data/valid/adenocarcinoma/000115 (2).png\n",
            "Loaded image /content/drive/MyDrive/Chest-CT-Data/valid/large.cell.carcinoma/000109 (1).png\n",
            "Loaded image /content/drive/MyDrive/Chest-CT-Data/valid/large.cell.carcinoma/000108 (1).png\n",
            "Loaded image /content/drive/MyDrive/Chest-CT-Data/valid/large.cell.carcinoma/000110 (1).png\n",
            "Loaded image /content/drive/MyDrive/Chest-CT-Data/valid/large.cell.carcinoma/000111 (2) (1).png\n",
            "Loaded image /content/drive/MyDrive/Chest-CT-Data/valid/large.cell.carcinoma/000130.png\n",
            "Loaded image /content/drive/MyDrive/Chest-CT-Data/valid/large.cell.carcinoma/000116.png\n",
            "Loaded image /content/drive/MyDrive/Chest-CT-Data/valid/large.cell.carcinoma/000113 (2).png\n",
            "Loaded image /content/drive/MyDrive/Chest-CT-Data/valid/large.cell.carcinoma/000108.png\n",
            "Loaded image /content/drive/MyDrive/Chest-CT-Data/valid/large.cell.carcinoma/000110.png\n",
            "Loaded image /content/drive/MyDrive/Chest-CT-Data/valid/large.cell.carcinoma/000110 (2) (1).png\n",
            "Loaded image /content/drive/MyDrive/Chest-CT-Data/valid/large.cell.carcinoma/000128.png\n",
            "Loaded image /content/drive/MyDrive/Chest-CT-Data/valid/large.cell.carcinoma/000115 (3).png\n",
            "Loaded image /content/drive/MyDrive/Chest-CT-Data/valid/large.cell.carcinoma/000108 (2) (1).png\n",
            "Loaded image /content/drive/MyDrive/Chest-CT-Data/valid/large.cell.carcinoma/000111 (1).png\n",
            "Loaded image /content/drive/MyDrive/Chest-CT-Data/valid/large.cell.carcinoma/000112.png\n",
            "Loaded image /content/drive/MyDrive/Chest-CT-Data/valid/large.cell.carcinoma/000111 (2).png\n",
            "Loaded image /content/drive/MyDrive/Chest-CT-Data/valid/large.cell.carcinoma/000118 (2).png\n",
            "Loaded image /content/drive/MyDrive/Chest-CT-Data/valid/large.cell.carcinoma/000109.png\n",
            "Loaded image /content/drive/MyDrive/Chest-CT-Data/valid/large.cell.carcinoma/000122.png\n",
            "Loaded image /content/drive/MyDrive/Chest-CT-Data/valid/large.cell.carcinoma/000113.png\n",
            "Loaded image /content/drive/MyDrive/Chest-CT-Data/valid/large.cell.carcinoma/000110 (2).png\n",
            "Loaded image /content/drive/MyDrive/Chest-CT-Data/valid/large.cell.carcinoma/000120.png\n",
            "Loaded image /content/drive/MyDrive/Chest-CT-Data/valid/large.cell.carcinoma/000111.png\n",
            "Loaded image /content/drive/MyDrive/Chest-CT-Data/valid/large.cell.carcinoma/000126.png\n",
            "Loaded image /content/drive/MyDrive/Chest-CT-Data/valid/large.cell.carcinoma/000115.png\n",
            "Loaded image /content/drive/MyDrive/Chest-CT-Data/valid/large.cell.carcinoma/000108 (2).png\n",
            "Loaded image /content/drive/MyDrive/Chest-CT-Data/valid/large.cell.carcinoma/000131.png\n",
            "Loaded image /content/drive/MyDrive/Chest-CT-Data/valid/large.cell.carcinoma/000114.png\n",
            "Loaded image /content/drive/MyDrive/Chest-CT-Data/valid/normal/003828_02_01_174.png\n",
            "Loaded image /content/drive/MyDrive/Chest-CT-Data/valid/normal/7 (1).png\n",
            "Loaded image /content/drive/MyDrive/Chest-CT-Data/valid/normal/8 - Copy (3) (1).png\n",
            "Loaded image /content/drive/MyDrive/Chest-CT-Data/valid/normal/004162_01_01_150.png\n",
            "Loaded image /content/drive/MyDrive/Chest-CT-Data/valid/normal/6 - Copy (3).png\n",
            "Loaded image /content/drive/MyDrive/Chest-CT-Data/valid/normal/4 (2).png\n",
            "Loaded image /content/drive/MyDrive/Chest-CT-Data/valid/normal/7 - Copy (2).png\n",
            "Loaded image /content/drive/MyDrive/Chest-CT-Data/valid/normal/7 - Copy (3).png\n",
            "Loaded image /content/drive/MyDrive/Chest-CT-Data/valid/normal/5.png\n",
            "Loaded image /content/drive/MyDrive/Chest-CT-Data/valid/normal/6 - Copy.png\n",
            "Loaded image /content/drive/MyDrive/Chest-CT-Data/valid/normal/6 - Copy (2) - Copy.png\n",
            "Loaded image /content/drive/MyDrive/Chest-CT-Data/valid/normal/4 - Copy (2).png\n",
            "Loaded image /content/drive/MyDrive/Chest-CT-Data/valid/normal/8 - Copy (3).png\n",
            "Loaded image /content/drive/MyDrive/Chest-CT-Data/valid/normal/7.png\n",
            "Loaded image /content/drive/MyDrive/Chest-CT-Data/valid/normal/004007_01_01_519.png\n",
            "Loaded image /content/drive/MyDrive/Chest-CT-Data/valid/squamous.cell.carcinoma/000117 (6).png\n",
            "Loaded image /content/drive/MyDrive/Chest-CT-Data/valid/squamous.cell.carcinoma/000116 (2).png\n",
            "Loaded image /content/drive/MyDrive/Chest-CT-Data/valid/squamous.cell.carcinoma/000111.png\n",
            "Loaded image /content/drive/MyDrive/Chest-CT-Data/valid/squamous.cell.carcinoma/000115 (5).png\n",
            "Loaded image /content/drive/MyDrive/Chest-CT-Data/valid/squamous.cell.carcinoma/000110 (6).png\n",
            "Loaded image /content/drive/MyDrive/Chest-CT-Data/valid/squamous.cell.carcinoma/000108 (3).png\n",
            "Loaded image /content/drive/MyDrive/Chest-CT-Data/valid/squamous.cell.carcinoma/000112.png\n",
            "Loaded image /content/drive/MyDrive/Chest-CT-Data/valid/squamous.cell.carcinoma/000117 (4).png\n",
            "Loaded image /content/drive/MyDrive/Chest-CT-Data/valid/squamous.cell.carcinoma/000119 (5).png\n",
            "Loaded image /content/drive/MyDrive/Chest-CT-Data/valid/squamous.cell.carcinoma/000114 (4).png\n",
            "Loaded image /content/drive/MyDrive/Chest-CT-Data/valid/squamous.cell.carcinoma/000119.png\n",
            "Loaded image /content/drive/MyDrive/Chest-CT-Data/valid/squamous.cell.carcinoma/000114 (6).png\n",
            "Loaded image /content/drive/MyDrive/Chest-CT-Data/valid/squamous.cell.carcinoma/000118 (4).png\n",
            "Loaded image /content/drive/MyDrive/Chest-CT-Data/valid/squamous.cell.carcinoma/000115 (2).png\n",
            "Loaded image /content/drive/MyDrive/Chest-CT-Data/valid/squamous.cell.carcinoma/000118 (5).png\n",
            "Loaded image /content/drive/MyDrive/Chest-CT-Data/test/adenocarcinoma/000109 (2).png\n",
            "Loaded image /content/drive/MyDrive/Chest-CT-Data/test/adenocarcinoma/000109 (5).png\n",
            "Loaded image /content/drive/MyDrive/Chest-CT-Data/test/adenocarcinoma/000113 (7).png\n",
            "Loaded image /content/drive/MyDrive/Chest-CT-Data/test/adenocarcinoma/000112 (2).png\n",
            "Loaded image /content/drive/MyDrive/Chest-CT-Data/test/adenocarcinoma/000108 (3).png\n",
            "Loaded image /content/drive/MyDrive/Chest-CT-Data/test/adenocarcinoma/000114 (5).png\n",
            "Loaded image /content/drive/MyDrive/Chest-CT-Data/test/adenocarcinoma/000109 (4).png\n",
            "Loaded image /content/drive/MyDrive/Chest-CT-Data/test/adenocarcinoma/000157 (6).png\n",
            "Loaded image /content/drive/MyDrive/Chest-CT-Data/test/adenocarcinoma/000177 (4).png\n",
            "Loaded image /content/drive/MyDrive/Chest-CT-Data/test/adenocarcinoma/000122 (4).png\n",
            "Loaded image /content/drive/MyDrive/Chest-CT-Data/test/adenocarcinoma/000119 (6).png\n",
            "Loaded image /content/drive/MyDrive/Chest-CT-Data/test/adenocarcinoma/000137 (8).png\n",
            "Loaded image /content/drive/MyDrive/Chest-CT-Data/test/adenocarcinoma/000133 (2).png\n",
            "Loaded image /content/drive/MyDrive/Chest-CT-Data/test/adenocarcinoma/000132.png\n",
            "Loaded image /content/drive/MyDrive/Chest-CT-Data/test/adenocarcinoma/000164 (5).png\n",
            "Loaded image /content/drive/MyDrive/Chest-CT-Data/test/adenocarcinoma/000126 (6).png\n",
            "Loaded image /content/drive/MyDrive/Chest-CT-Data/test/adenocarcinoma/000117 (8).png\n",
            "Loaded image /content/drive/MyDrive/Chest-CT-Data/test/adenocarcinoma/000124 (9).png\n",
            "Loaded image /content/drive/MyDrive/Chest-CT-Data/test/adenocarcinoma/000115 (8).png\n",
            "Loaded image /content/drive/MyDrive/Chest-CT-Data/test/adenocarcinoma/000155.png\n",
            "Loaded image /content/drive/MyDrive/Chest-CT-Data/test/adenocarcinoma/000116 (9).png\n",
            "Loaded image /content/drive/MyDrive/Chest-CT-Data/test/adenocarcinoma/000125 (4).png\n",
            "Loaded image /content/drive/MyDrive/Chest-CT-Data/test/adenocarcinoma/000121 (6).png\n",
            "Loaded image /content/drive/MyDrive/Chest-CT-Data/test/adenocarcinoma/000136 (8).png\n",
            "Loaded image /content/drive/MyDrive/Chest-CT-Data/test/adenocarcinoma/000134 (2).png\n",
            "Loaded image /content/drive/MyDrive/Chest-CT-Data/test/adenocarcinoma/000132 (7).png\n",
            "Loaded image /content/drive/MyDrive/Chest-CT-Data/test/adenocarcinoma/000125 (5).png\n",
            "Loaded image /content/drive/MyDrive/Chest-CT-Data/test/adenocarcinoma/000127 (5).png\n",
            "Loaded image /content/drive/MyDrive/Chest-CT-Data/test/adenocarcinoma/000160 (4).png\n",
            "Loaded image /content/drive/MyDrive/Chest-CT-Data/test/adenocarcinoma/000119 (5).png\n",
            "Loaded image /content/drive/MyDrive/Chest-CT-Data/test/adenocarcinoma/000163 (7).png\n",
            "Loaded image /content/drive/MyDrive/Chest-CT-Data/test/adenocarcinoma/000124 (6).png\n",
            "Loaded image /content/drive/MyDrive/Chest-CT-Data/test/adenocarcinoma/000145 (9).png\n",
            "Loaded image /content/drive/MyDrive/Chest-CT-Data/test/adenocarcinoma/000125 (2).png\n",
            "Loaded image /content/drive/MyDrive/Chest-CT-Data/test/adenocarcinoma/000177.png\n",
            "Loaded image /content/drive/MyDrive/Chest-CT-Data/test/adenocarcinoma/000129 (5).png\n",
            "Loaded image /content/drive/MyDrive/Chest-CT-Data/test/adenocarcinoma/000171.png\n",
            "Loaded image /content/drive/MyDrive/Chest-CT-Data/test/adenocarcinoma/000122.png\n",
            "Loaded image /content/drive/MyDrive/Chest-CT-Data/test/adenocarcinoma/000158.png\n",
            "Loaded image /content/drive/MyDrive/Chest-CT-Data/test/adenocarcinoma/000136 (2).png\n",
            "Loaded image /content/drive/MyDrive/Chest-CT-Data/test/adenocarcinoma/000148 (6).png\n",
            "Loaded image /content/drive/MyDrive/Chest-CT-Data/test/adenocarcinoma/000125 (6).png\n",
            "Loaded image /content/drive/MyDrive/Chest-CT-Data/test/adenocarcinoma/000166 (4).png\n",
            "Loaded image /content/drive/MyDrive/Chest-CT-Data/test/adenocarcinoma/000114.png\n",
            "Loaded image /content/drive/MyDrive/Chest-CT-Data/test/adenocarcinoma/000118 (7).png\n",
            "Loaded image /content/drive/MyDrive/Chest-CT-Data/test/adenocarcinoma/000116 (7).png\n",
            "Loaded image /content/drive/MyDrive/Chest-CT-Data/test/adenocarcinoma/000132 (8).png\n",
            "Loaded image /content/drive/MyDrive/Chest-CT-Data/test/adenocarcinoma/000156 (4).png\n",
            "Loaded image /content/drive/MyDrive/Chest-CT-Data/test/adenocarcinoma/000139 (8).png\n",
            "Loaded image /content/drive/MyDrive/Chest-CT-Data/test/adenocarcinoma/000176 (2).png\n",
            "Loaded image /content/drive/MyDrive/Chest-CT-Data/test/adenocarcinoma/000158 (6).png\n",
            "Loaded image /content/drive/MyDrive/Chest-CT-Data/test/adenocarcinoma/000158 (2).png\n",
            "Loaded image /content/drive/MyDrive/Chest-CT-Data/test/adenocarcinoma/000117 (4).png\n",
            "Loaded image /content/drive/MyDrive/Chest-CT-Data/test/adenocarcinoma/000139 (5).png\n",
            "Loaded image /content/drive/MyDrive/Chest-CT-Data/test/adenocarcinoma/000123 (4).png\n",
            "Loaded image /content/drive/MyDrive/Chest-CT-Data/test/adenocarcinoma/000153 (5).png\n",
            "Loaded image /content/drive/MyDrive/Chest-CT-Data/test/adenocarcinoma/000144 (5).png\n",
            "Loaded image /content/drive/MyDrive/Chest-CT-Data/test/adenocarcinoma/000142.png\n",
            "Loaded image /content/drive/MyDrive/Chest-CT-Data/test/adenocarcinoma/000117.png\n",
            "Loaded image /content/drive/MyDrive/Chest-CT-Data/test/adenocarcinoma/000125 (8).png\n",
            "Loaded image /content/drive/MyDrive/Chest-CT-Data/test/adenocarcinoma/000161 (5).png\n",
            "Loaded image /content/drive/MyDrive/Chest-CT-Data/test/adenocarcinoma/000149 (2).png\n",
            "Loaded image /content/drive/MyDrive/Chest-CT-Data/test/adenocarcinoma/000166 (2).png\n",
            "Loaded image /content/drive/MyDrive/Chest-CT-Data/test/adenocarcinoma/000151 (5).png\n",
            "Loaded image /content/drive/MyDrive/Chest-CT-Data/test/adenocarcinoma/000149 (4).png\n",
            "Loaded image /content/drive/MyDrive/Chest-CT-Data/test/adenocarcinoma/000161 (4).png\n",
            "Loaded image /content/drive/MyDrive/Chest-CT-Data/test/adenocarcinoma/000167 (3).png\n",
            "Loaded image /content/drive/MyDrive/Chest-CT-Data/test/adenocarcinoma/000121 (7).png\n",
            "Loaded image /content/drive/MyDrive/Chest-CT-Data/test/adenocarcinoma/000158 (5).png\n",
            "Loaded image /content/drive/MyDrive/Chest-CT-Data/test/adenocarcinoma/000141 (2).png\n",
            "Loaded image /content/drive/MyDrive/Chest-CT-Data/test/adenocarcinoma/000133 (4).png\n",
            "Loaded image /content/drive/MyDrive/Chest-CT-Data/test/adenocarcinoma/000134.png\n",
            "Loaded image /content/drive/MyDrive/Chest-CT-Data/test/adenocarcinoma/000144 (2).png\n",
            "Loaded image /content/drive/MyDrive/Chest-CT-Data/test/adenocarcinoma/000148 (8).png\n",
            "Loaded image /content/drive/MyDrive/Chest-CT-Data/test/adenocarcinoma/000157 (5).png\n",
            "Loaded image /content/drive/MyDrive/Chest-CT-Data/test/adenocarcinoma/000171 (5).png\n",
            "Loaded image /content/drive/MyDrive/Chest-CT-Data/test/adenocarcinoma/000165 (6).png\n",
            "Loaded image /content/drive/MyDrive/Chest-CT-Data/test/adenocarcinoma/000139 (6).png\n",
            "Loaded image /content/drive/MyDrive/Chest-CT-Data/test/adenocarcinoma/000123 (9).png\n",
            "Loaded image /content/drive/MyDrive/Chest-CT-Data/test/adenocarcinoma/000167 (8).png\n",
            "Loaded image /content/drive/MyDrive/Chest-CT-Data/test/adenocarcinoma/000129.png\n",
            "Loaded image /content/drive/MyDrive/Chest-CT-Data/test/adenocarcinoma/000166 (3).png\n",
            "Loaded image /content/drive/MyDrive/Chest-CT-Data/test/adenocarcinoma/000115.png\n",
            "Loaded image /content/drive/MyDrive/Chest-CT-Data/test/adenocarcinoma/000128 (5).png\n",
            "Loaded image /content/drive/MyDrive/Chest-CT-Data/test/adenocarcinoma/000139 (9).png\n",
            "Loaded image /content/drive/MyDrive/Chest-CT-Data/test/adenocarcinoma/000148 (3).png\n",
            "Loaded image /content/drive/MyDrive/Chest-CT-Data/test/adenocarcinoma/000139.png\n",
            "Loaded image /content/drive/MyDrive/Chest-CT-Data/test/adenocarcinoma/000116 (5).png\n",
            "Loaded image /content/drive/MyDrive/Chest-CT-Data/test/adenocarcinoma/000168 (3).png\n",
            "Loaded image /content/drive/MyDrive/Chest-CT-Data/test/adenocarcinoma/000172 (3).png\n",
            "Loaded image /content/drive/MyDrive/Chest-CT-Data/test/adenocarcinoma/000160 (6).png\n",
            "Loaded image /content/drive/MyDrive/Chest-CT-Data/test/adenocarcinoma/000115 (4).png\n",
            "Loaded image /content/drive/MyDrive/Chest-CT-Data/test/adenocarcinoma/000143 (6).png\n",
            "Loaded image /content/drive/MyDrive/Chest-CT-Data/test/adenocarcinoma/000123 (6).png\n",
            "Loaded image /content/drive/MyDrive/Chest-CT-Data/test/adenocarcinoma/000147.png\n",
            "Loaded image /content/drive/MyDrive/Chest-CT-Data/test/adenocarcinoma/000174 (4).png\n",
            "Loaded image /content/drive/MyDrive/Chest-CT-Data/test/adenocarcinoma/000155 (4).png\n",
            "Loaded image /content/drive/MyDrive/Chest-CT-Data/test/adenocarcinoma/000135 (5).png\n",
            "Loaded image /content/drive/MyDrive/Chest-CT-Data/test/adenocarcinoma/000131 (2).png\n",
            "Loaded image /content/drive/MyDrive/Chest-CT-Data/test/adenocarcinoma/000143 (5).png\n",
            "Loaded image /content/drive/MyDrive/Chest-CT-Data/test/adenocarcinoma/000146 (3).png\n",
            "Loaded image /content/drive/MyDrive/Chest-CT-Data/test/adenocarcinoma/000146 (6).png\n",
            "Loaded image /content/drive/MyDrive/Chest-CT-Data/test/adenocarcinoma/000138 (9).png\n",
            "Loaded image /content/drive/MyDrive/Chest-CT-Data/test/adenocarcinoma/000158 (3).png\n",
            "Loaded image /content/drive/MyDrive/Chest-CT-Data/test/adenocarcinoma/000148.png\n",
            "Loaded image /content/drive/MyDrive/Chest-CT-Data/test/adenocarcinoma/000130 (6).png\n",
            "Loaded image /content/drive/MyDrive/Chest-CT-Data/test/adenocarcinoma/000132 (2).png\n",
            "Loaded image /content/drive/MyDrive/Chest-CT-Data/test/adenocarcinoma/000138 (6).png\n",
            "Loaded image /content/drive/MyDrive/Chest-CT-Data/test/adenocarcinoma/000137 (2).png\n",
            "Loaded image /content/drive/MyDrive/Chest-CT-Data/test/adenocarcinoma/000149 (7).png\n",
            "Loaded image /content/drive/MyDrive/Chest-CT-Data/test/adenocarcinoma/000121.png\n",
            "Loaded image /content/drive/MyDrive/Chest-CT-Data/test/adenocarcinoma/000140.png\n",
            "Loaded image /content/drive/MyDrive/Chest-CT-Data/test/adenocarcinoma/000120.png\n",
            "Loaded image /content/drive/MyDrive/Chest-CT-Data/test/adenocarcinoma/000134 (9).png\n",
            "Loaded image /content/drive/MyDrive/Chest-CT-Data/test/adenocarcinoma/000119 (4).png\n",
            "Loaded image /content/drive/MyDrive/Chest-CT-Data/test/adenocarcinoma/000173 (7).png\n",
            "Loaded image /content/drive/MyDrive/Chest-CT-Data/test/adenocarcinoma/000163 (3).png\n",
            "Loaded image /content/drive/MyDrive/Chest-CT-Data/test/adenocarcinoma/000173 (5).png\n",
            "Loaded image /content/drive/MyDrive/Chest-CT-Data/test/adenocarcinoma/000118 (5).png\n",
            "Loaded image /content/drive/MyDrive/Chest-CT-Data/test/adenocarcinoma/000137 (4).png\n",
            "Loaded image /content/drive/MyDrive/Chest-CT-Data/test/large.cell.carcinoma/000158.png\n",
            "Loaded image /content/drive/MyDrive/Chest-CT-Data/test/large.cell.carcinoma/000143.png\n",
            "Loaded image /content/drive/MyDrive/Chest-CT-Data/test/large.cell.carcinoma/000154 (2).png\n",
            "Loaded image /content/drive/MyDrive/Chest-CT-Data/test/large.cell.carcinoma/000126.png\n",
            "Loaded image /content/drive/MyDrive/Chest-CT-Data/test/large.cell.carcinoma/000131 (2).png\n",
            "Loaded image /content/drive/MyDrive/Chest-CT-Data/test/large.cell.carcinoma/000159.png\n",
            "Loaded image /content/drive/MyDrive/Chest-CT-Data/test/large.cell.carcinoma/000111 (2).png\n",
            "Loaded image /content/drive/MyDrive/Chest-CT-Data/test/large.cell.carcinoma/000127 (2).png\n",
            "Loaded image /content/drive/MyDrive/Chest-CT-Data/test/large.cell.carcinoma/000115 (2).png\n",
            "Loaded image /content/drive/MyDrive/Chest-CT-Data/test/large.cell.carcinoma/000132 (2).png\n",
            "Loaded image /content/drive/MyDrive/Chest-CT-Data/test/large.cell.carcinoma/000108.png\n",
            "Loaded image /content/drive/MyDrive/Chest-CT-Data/test/large.cell.carcinoma/000128 (2).png\n",
            "Loaded image /content/drive/MyDrive/Chest-CT-Data/test/large.cell.carcinoma/000148.png\n",
            "Loaded image /content/drive/MyDrive/Chest-CT-Data/test/large.cell.carcinoma/000118.png\n",
            "Loaded image /content/drive/MyDrive/Chest-CT-Data/test/large.cell.carcinoma/000110.png\n",
            "Loaded image /content/drive/MyDrive/Chest-CT-Data/test/large.cell.carcinoma/000137.png\n",
            "Loaded image /content/drive/MyDrive/Chest-CT-Data/test/large.cell.carcinoma/000120.png\n",
            "Loaded image /content/drive/MyDrive/Chest-CT-Data/test/large.cell.carcinoma/000122.png\n",
            "Loaded image /content/drive/MyDrive/Chest-CT-Data/test/large.cell.carcinoma/000136 (2).png\n",
            "Loaded image /content/drive/MyDrive/Chest-CT-Data/test/large.cell.carcinoma/000131.png\n",
            "Loaded image /content/drive/MyDrive/Chest-CT-Data/test/large.cell.carcinoma/000159 (2).png\n",
            "Loaded image /content/drive/MyDrive/Chest-CT-Data/test/large.cell.carcinoma/000128.png\n",
            "Loaded image /content/drive/MyDrive/Chest-CT-Data/test/large.cell.carcinoma/000130.png\n",
            "Loaded image /content/drive/MyDrive/Chest-CT-Data/test/large.cell.carcinoma/000123.png\n",
            "Loaded image /content/drive/MyDrive/Chest-CT-Data/test/large.cell.carcinoma/000113.png\n",
            "Loaded image /content/drive/MyDrive/Chest-CT-Data/test/large.cell.carcinoma/000111.png\n",
            "Loaded image /content/drive/MyDrive/Chest-CT-Data/test/large.cell.carcinoma/000150.png\n",
            "Loaded image /content/drive/MyDrive/Chest-CT-Data/test/large.cell.carcinoma/000155.png\n",
            "Loaded image /content/drive/MyDrive/Chest-CT-Data/test/large.cell.carcinoma/000147 (2).png\n",
            "Loaded image /content/drive/MyDrive/Chest-CT-Data/test/large.cell.carcinoma/000124 (2).png\n",
            "Loaded image /content/drive/MyDrive/Chest-CT-Data/test/large.cell.carcinoma/000149.png\n",
            "Loaded image /content/drive/MyDrive/Chest-CT-Data/test/large.cell.carcinoma/000138 (2).png\n",
            "Loaded image /content/drive/MyDrive/Chest-CT-Data/test/large.cell.carcinoma/000148 (2).png\n",
            "Loaded image /content/drive/MyDrive/Chest-CT-Data/test/large.cell.carcinoma/000133 (2).png\n",
            "Loaded image /content/drive/MyDrive/Chest-CT-Data/test/large.cell.carcinoma/000114.png\n",
            "Loaded image /content/drive/MyDrive/Chest-CT-Data/test/large.cell.carcinoma/000154.png\n",
            "Loaded image /content/drive/MyDrive/Chest-CT-Data/test/large.cell.carcinoma/000116.png\n",
            "Loaded image /content/drive/MyDrive/Chest-CT-Data/test/large.cell.carcinoma/000113 (2).png\n",
            "Loaded image /content/drive/MyDrive/Chest-CT-Data/test/large.cell.carcinoma/000141.png\n",
            "Loaded image /content/drive/MyDrive/Chest-CT-Data/test/large.cell.carcinoma/000133.png\n",
            "Loaded image /content/drive/MyDrive/Chest-CT-Data/test/large.cell.carcinoma/000163.png\n",
            "Loaded image /content/drive/MyDrive/Chest-CT-Data/test/large.cell.carcinoma/000171.png\n",
            "Loaded image /content/drive/MyDrive/Chest-CT-Data/test/large.cell.carcinoma/000172.png\n",
            "Loaded image /content/drive/MyDrive/Chest-CT-Data/test/large.cell.carcinoma/000173 (2).png\n",
            "Loaded image /content/drive/MyDrive/Chest-CT-Data/test/large.cell.carcinoma/000162.png\n",
            "Loaded image /content/drive/MyDrive/Chest-CT-Data/test/large.cell.carcinoma/000169.png\n",
            "Loaded image /content/drive/MyDrive/Chest-CT-Data/test/large.cell.carcinoma/000172 (2).png\n",
            "Loaded image /content/drive/MyDrive/Chest-CT-Data/test/large.cell.carcinoma/000170.png\n",
            "Loaded image /content/drive/MyDrive/Chest-CT-Data/test/large.cell.carcinoma/000174.png\n",
            "Loaded image /content/drive/MyDrive/Chest-CT-Data/test/large.cell.carcinoma/000173.png\n",
            "Loaded image /content/drive/MyDrive/Chest-CT-Data/test/large.cell.carcinoma/000160.png\n",
            "Loaded image /content/drive/MyDrive/Chest-CT-Data/test/normal/normal.png\n",
            "Loaded image /content/drive/MyDrive/Chest-CT-Data/test/normal/7 - Copy.png\n",
            "Loaded image /content/drive/MyDrive/Chest-CT-Data/test/normal/11 (2) - Copy.png\n",
            "Loaded image /content/drive/MyDrive/Chest-CT-Data/test/normal/11.png\n",
            "Loaded image /content/drive/MyDrive/Chest-CT-Data/test/normal/10 (2).png\n",
            "Loaded image /content/drive/MyDrive/Chest-CT-Data/test/normal/11 - Copy.png\n",
            "Loaded image /content/drive/MyDrive/Chest-CT-Data/test/normal/7 - Copy - Copy.png\n",
            "Loaded image /content/drive/MyDrive/Chest-CT-Data/test/normal/10 - Copy.png\n",
            "Loaded image /content/drive/MyDrive/Chest-CT-Data/test/normal/8 - Copy (2) - Copy.png\n",
            "Loaded image /content/drive/MyDrive/Chest-CT-Data/test/normal/8 (2).png\n",
            "Loaded image /content/drive/MyDrive/Chest-CT-Data/test/normal/12 (2) - Copy.png\n",
            "Loaded image /content/drive/MyDrive/Chest-CT-Data/test/normal/10 - Copy - Copy.png\n",
            "Loaded image /content/drive/MyDrive/Chest-CT-Data/test/normal/7 - Copy (2).png\n",
            "Loaded image /content/drive/MyDrive/Chest-CT-Data/test/normal/8 - Copy (2).png\n",
            "Loaded image /content/drive/MyDrive/Chest-CT-Data/test/normal/22.png\n",
            "Loaded image /content/drive/MyDrive/Chest-CT-Data/test/normal/10 - Copy (2).png\n",
            "Loaded image /content/drive/MyDrive/Chest-CT-Data/test/normal/23.png\n",
            "Loaded image /content/drive/MyDrive/Chest-CT-Data/test/normal/6 (2).png\n",
            "Loaded image /content/drive/MyDrive/Chest-CT-Data/test/normal/7 - Copy (2) - Copy.png\n",
            "Loaded image /content/drive/MyDrive/Chest-CT-Data/test/normal/7 (2).png\n",
            "Loaded image /content/drive/MyDrive/Chest-CT-Data/test/normal/normal - Copy.png\n",
            "Loaded image /content/drive/MyDrive/Chest-CT-Data/test/normal/6 - Copy (2).png\n",
            "Loaded image /content/drive/MyDrive/Chest-CT-Data/test/normal/12 - Copy (2) - Copy.png\n",
            "Loaded image /content/drive/MyDrive/Chest-CT-Data/test/normal/11 - Copy (2) - Copy.png\n",
            "Loaded image /content/drive/MyDrive/Chest-CT-Data/test/normal/6 - Copy.png\n",
            "Loaded image /content/drive/MyDrive/Chest-CT-Data/test/normal/12 - Copy.png\n",
            "Loaded image /content/drive/MyDrive/Chest-CT-Data/test/normal/6 (2) - Copy.png\n",
            "Loaded image /content/drive/MyDrive/Chest-CT-Data/test/normal/7 - Copy (3).png\n",
            "Loaded image /content/drive/MyDrive/Chest-CT-Data/test/normal/8 - Copy.png\n",
            "Loaded image /content/drive/MyDrive/Chest-CT-Data/test/normal/10 (2) - Copy.png\n",
            "Loaded image /content/drive/MyDrive/Chest-CT-Data/test/normal/24.png\n",
            "Loaded image /content/drive/MyDrive/Chest-CT-Data/test/normal/8 - Copy - Copy.png\n",
            "Loaded image /content/drive/MyDrive/Chest-CT-Data/test/normal/12 - Copy (2).png\n",
            "Loaded image /content/drive/MyDrive/Chest-CT-Data/test/normal/21.png\n",
            "Loaded image /content/drive/MyDrive/Chest-CT-Data/test/normal/12 (2).png\n",
            "Loaded image /content/drive/MyDrive/Chest-CT-Data/test/normal/11 (2).png\n",
            "Loaded image /content/drive/MyDrive/Chest-CT-Data/test/normal/10 - Copy (3).png\n",
            "Loaded image /content/drive/MyDrive/Chest-CT-Data/test/normal/24 - Copy.png\n",
            "Loaded image /content/drive/MyDrive/Chest-CT-Data/test/normal/6.png\n",
            "Loaded image /content/drive/MyDrive/Chest-CT-Data/test/normal/11 - Copy (2).png\n",
            "Loaded image /content/drive/MyDrive/Chest-CT-Data/test/normal/8.png\n",
            "Loaded image /content/drive/MyDrive/Chest-CT-Data/test/normal/10.png\n",
            "Loaded image /content/drive/MyDrive/Chest-CT-Data/test/normal/7.png\n",
            "Loaded image /content/drive/MyDrive/Chest-CT-Data/test/normal/12 - Copy - Copy.png\n",
            "Loaded image /content/drive/MyDrive/Chest-CT-Data/test/normal/11 - Copy - Copy.png\n",
            "Loaded image /content/drive/MyDrive/Chest-CT-Data/test/normal/11 - Copy (3).png\n",
            "Loaded image /content/drive/MyDrive/Chest-CT-Data/test/normal/6 - Copy (3).png\n",
            "Loaded image /content/drive/MyDrive/Chest-CT-Data/test/normal/25.png\n",
            "Loaded image /content/drive/MyDrive/Chest-CT-Data/test/normal/8 (2) - Copy.png\n",
            "Loaded image /content/drive/MyDrive/Chest-CT-Data/test/normal/7 (2) - Copy.png\n",
            "Loaded image /content/drive/MyDrive/Chest-CT-Data/test/normal/6 - Copy (2) - Copy.png\n",
            "Loaded image /content/drive/MyDrive/Chest-CT-Data/test/normal/10 - Copy (2) - Copy.png\n",
            "Loaded image /content/drive/MyDrive/Chest-CT-Data/test/normal/8 - Copy (3).png\n",
            "Loaded image /content/drive/MyDrive/Chest-CT-Data/test/normal/12 - Copy (3).png\n",
            "Loaded image /content/drive/MyDrive/Chest-CT-Data/test/squamous.cell.carcinoma/000115 (5).png\n",
            "Loaded image /content/drive/MyDrive/Chest-CT-Data/test/squamous.cell.carcinoma/000108 (6).png\n",
            "Loaded image /content/drive/MyDrive/Chest-CT-Data/test/squamous.cell.carcinoma/000112.png\n",
            "Loaded image /content/drive/MyDrive/Chest-CT-Data/test/squamous.cell.carcinoma/000114 (3).png\n",
            "Loaded image /content/drive/MyDrive/Chest-CT-Data/test/squamous.cell.carcinoma/000117 (5).png\n",
            "Loaded image /content/drive/MyDrive/Chest-CT-Data/test/squamous.cell.carcinoma/000116 (5).png\n",
            "Loaded image /content/drive/MyDrive/Chest-CT-Data/test/squamous.cell.carcinoma/000111.png\n",
            "Loaded image /content/drive/MyDrive/Chest-CT-Data/test/squamous.cell.carcinoma/000115 (4).png\n",
            "Loaded image /content/drive/MyDrive/Chest-CT-Data/test/squamous.cell.carcinoma/000114 (2).png\n",
            "Loaded image /content/drive/MyDrive/Chest-CT-Data/test/squamous.cell.carcinoma/000118 (4).png\n",
            "Loaded image /content/drive/MyDrive/Chest-CT-Data/test/squamous.cell.carcinoma/000117 (3).png\n",
            "Loaded image /content/drive/MyDrive/Chest-CT-Data/test/squamous.cell.carcinoma/000117 (2).png\n",
            "Loaded image /content/drive/MyDrive/Chest-CT-Data/test/squamous.cell.carcinoma/000110 (2).png\n",
            "Loaded image /content/drive/MyDrive/Chest-CT-Data/test/squamous.cell.carcinoma/000119 (4).png\n",
            "Loaded image /content/drive/MyDrive/Chest-CT-Data/test/squamous.cell.carcinoma/000118 (3).png\n",
            "Loaded image /content/drive/MyDrive/Chest-CT-Data/test/squamous.cell.carcinoma/000127.png\n",
            "Loaded image /content/drive/MyDrive/Chest-CT-Data/test/squamous.cell.carcinoma/000166 (4).png\n",
            "Loaded image /content/drive/MyDrive/Chest-CT-Data/test/squamous.cell.carcinoma/000124 (4).png\n",
            "Loaded image /content/drive/MyDrive/Chest-CT-Data/test/squamous.cell.carcinoma/000146 (6).png\n",
            "Loaded image /content/drive/MyDrive/Chest-CT-Data/test/squamous.cell.carcinoma/000163 (5).png\n",
            "Loaded image /content/drive/MyDrive/Chest-CT-Data/test/squamous.cell.carcinoma/000148 (3).png\n",
            "Loaded image /content/drive/MyDrive/Chest-CT-Data/test/squamous.cell.carcinoma/000131 (6).png\n",
            "Loaded image /content/drive/MyDrive/Chest-CT-Data/test/squamous.cell.carcinoma/000163 (6).png\n",
            "Loaded image /content/drive/MyDrive/Chest-CT-Data/test/squamous.cell.carcinoma/000127 (6).png\n",
            "Loaded image /content/drive/MyDrive/Chest-CT-Data/test/squamous.cell.carcinoma/000133 (3).png\n",
            "Loaded image /content/drive/MyDrive/Chest-CT-Data/test/squamous.cell.carcinoma/000153.png\n",
            "Loaded image /content/drive/MyDrive/Chest-CT-Data/test/squamous.cell.carcinoma/000158 (6).png\n",
            "Loaded image /content/drive/MyDrive/Chest-CT-Data/test/squamous.cell.carcinoma/000158 (4).png\n",
            "Loaded image /content/drive/MyDrive/Chest-CT-Data/test/squamous.cell.carcinoma/000174 (3).png\n",
            "Loaded image /content/drive/MyDrive/Chest-CT-Data/test/squamous.cell.carcinoma/000134 (5).png\n",
            "Loaded image /content/drive/MyDrive/Chest-CT-Data/test/squamous.cell.carcinoma/000157 (6).png\n",
            "Loaded image /content/drive/MyDrive/Chest-CT-Data/test/squamous.cell.carcinoma/000129 (2).png\n",
            "Loaded image /content/drive/MyDrive/Chest-CT-Data/test/squamous.cell.carcinoma/000163 (4).png\n",
            "Loaded image /content/drive/MyDrive/Chest-CT-Data/test/squamous.cell.carcinoma/000125.png\n",
            "Loaded image /content/drive/MyDrive/Chest-CT-Data/test/squamous.cell.carcinoma/000137 (3).png\n",
            "Loaded image /content/drive/MyDrive/Chest-CT-Data/test/squamous.cell.carcinoma/000154 (4).png\n",
            "Loaded image /content/drive/MyDrive/Chest-CT-Data/test/squamous.cell.carcinoma/000137.png\n",
            "Loaded image /content/drive/MyDrive/Chest-CT-Data/test/squamous.cell.carcinoma/000139 (5).png\n",
            "Loaded image /content/drive/MyDrive/Chest-CT-Data/test/squamous.cell.carcinoma/000120 (5).png\n",
            "Loaded image /content/drive/MyDrive/Chest-CT-Data/test/squamous.cell.carcinoma/000167 (2).png\n",
            "Loaded image /content/drive/MyDrive/Chest-CT-Data/test/squamous.cell.carcinoma/000121.png\n",
            "Loaded image /content/drive/MyDrive/Chest-CT-Data/test/squamous.cell.carcinoma/000120 (2).png\n",
            "Loaded image /content/drive/MyDrive/Chest-CT-Data/test/squamous.cell.carcinoma/000148 (4).png\n",
            "Loaded image /content/drive/MyDrive/Chest-CT-Data/test/squamous.cell.carcinoma/000149 (4).png\n",
            "Loaded image /content/drive/MyDrive/Chest-CT-Data/test/squamous.cell.carcinoma/000127 (2).png\n",
            "Loaded image /content/drive/MyDrive/Chest-CT-Data/test/squamous.cell.carcinoma/000162 (2).png\n",
            "Loaded image /content/drive/MyDrive/Chest-CT-Data/test/squamous.cell.carcinoma/000136 (4).png\n",
            "Loaded image /content/drive/MyDrive/Chest-CT-Data/test/squamous.cell.carcinoma/000135 (4).png\n",
            "Loaded image /content/drive/MyDrive/Chest-CT-Data/test/squamous.cell.carcinoma/000139 (4).png\n",
            "Loaded image /content/drive/MyDrive/Chest-CT-Data/test/squamous.cell.carcinoma/000155.png\n",
            "Loaded image /content/drive/MyDrive/Chest-CT-Data/test/squamous.cell.carcinoma/000141 (2).png\n",
            "Loaded image /content/drive/MyDrive/Chest-CT-Data/test/squamous.cell.carcinoma/000126 (4).png\n",
            "Loaded image /content/drive/MyDrive/Chest-CT-Data/test/squamous.cell.carcinoma/000133 (2).png\n",
            "Loaded image /content/drive/MyDrive/Chest-CT-Data/test/squamous.cell.carcinoma/000172 (6).png\n",
            "Loaded image /content/drive/MyDrive/Chest-CT-Data/test/squamous.cell.carcinoma/000130 (4).png\n",
            "Loaded image /content/drive/MyDrive/Chest-CT-Data/test/squamous.cell.carcinoma/000142 (6).png\n",
            "Loaded image /content/drive/MyDrive/Chest-CT-Data/test/squamous.cell.carcinoma/000125 (2).png\n",
            "Loaded image /content/drive/MyDrive/Chest-CT-Data/test/squamous.cell.carcinoma/000129 (6).png\n",
            "Loaded image /content/drive/MyDrive/Chest-CT-Data/test/squamous.cell.carcinoma/000142 (5).png\n",
            "Loaded image /content/drive/MyDrive/Chest-CT-Data/test/squamous.cell.carcinoma/000136 (6).png\n",
            "Loaded image /content/drive/MyDrive/Chest-CT-Data/test/squamous.cell.carcinoma/000124.png\n",
            "Loaded image /content/drive/MyDrive/Chest-CT-Data/test/squamous.cell.carcinoma/000124 (5).png\n",
            "Loaded image /content/drive/MyDrive/Chest-CT-Data/test/squamous.cell.carcinoma/000168 (2).png\n",
            "Loaded image /content/drive/MyDrive/Chest-CT-Data/test/squamous.cell.carcinoma/000154 (2).png\n",
            "Loaded image /content/drive/MyDrive/Chest-CT-Data/test/squamous.cell.carcinoma/000139 (6).png\n",
            "Loaded image /content/drive/MyDrive/Chest-CT-Data/test/squamous.cell.carcinoma/000159 (5).png\n",
            "Loaded image /content/drive/MyDrive/Chest-CT-Data/test/squamous.cell.carcinoma/000125 (6).png\n",
            "Loaded image /content/drive/MyDrive/Chest-CT-Data/test/squamous.cell.carcinoma/000121 (5).png\n",
            "Loaded image /content/drive/MyDrive/Chest-CT-Data/test/squamous.cell.carcinoma/000122 (6).png\n",
            "Loaded image /content/drive/MyDrive/Chest-CT-Data/test/squamous.cell.carcinoma/000155 (3).png\n",
            "Loaded image /content/drive/MyDrive/Chest-CT-Data/test/squamous.cell.carcinoma/000169 (6).png\n",
            "Loaded image /content/drive/MyDrive/Chest-CT-Data/test/squamous.cell.carcinoma/000154 (3).png\n",
            "Loaded image /content/drive/MyDrive/Chest-CT-Data/test/squamous.cell.carcinoma/000145 (6).png\n",
            "Loaded image /content/drive/MyDrive/Chest-CT-Data/test/squamous.cell.carcinoma/000151 (6).png\n",
            "Loaded image /content/drive/MyDrive/Chest-CT-Data/test/squamous.cell.carcinoma/000132 (4).png\n",
            "Loaded image /content/drive/MyDrive/Chest-CT-Data/test/squamous.cell.carcinoma/000153 (4).png\n",
            "Loaded image /content/drive/MyDrive/Chest-CT-Data/test/squamous.cell.carcinoma/000164 (5).png\n",
            "Loaded image /content/drive/MyDrive/Chest-CT-Data/test/squamous.cell.carcinoma/000177 (3).png\n",
            "Loaded image /content/drive/MyDrive/Chest-CT-Data/test/squamous.cell.carcinoma/000162.png\n",
            "Loaded image /content/drive/MyDrive/Chest-CT-Data/test/squamous.cell.carcinoma/000170 (2).png\n",
            "Loaded image /content/drive/MyDrive/Chest-CT-Data/test/squamous.cell.carcinoma/000141 (4).png\n",
            "Loaded image /content/drive/MyDrive/Chest-CT-Data/test/squamous.cell.carcinoma/000120 (3).png\n",
            "Loaded image /content/drive/MyDrive/Chest-CT-Data/test/squamous.cell.carcinoma/000122.png\n",
            "Loaded image /content/drive/MyDrive/Chest-CT-Data/test/squamous.cell.carcinoma/000156 (2).png\n",
            "Loaded image /content/drive/MyDrive/Chest-CT-Data/test/squamous.cell.carcinoma/000119.png\n",
            "Loaded image /content/drive/MyDrive/Chest-CT-Data/test/squamous.cell.carcinoma/000153 (3).png\n",
            "Loaded image /content/drive/MyDrive/Chest-CT-Data/test/squamous.cell.carcinoma/000160 (4).png\n",
            "Loaded image /content/drive/MyDrive/Chest-CT-Data/test/squamous.cell.carcinoma/000144 (5).png\n",
            "Loaded image /content/drive/MyDrive/Chest-CT-Data/test/squamous.cell.carcinoma/000151.png\n",
            "Loaded image /content/drive/MyDrive/Chest-CT-Data/test/squamous.cell.carcinoma/000135.png\n",
            "Loaded 601 training images with 601 labels\n",
            "Loaded 81 validation images with 81 labels\n",
            "Loaded 315 test images with 315 labels\n"
          ]
        }
      ]
    },
    {
      "cell_type": "markdown",
      "id": "e3d402f6-e179-4440-a147-956e505fe26e",
      "metadata": {
        "id": "e3d402f6-e179-4440-a147-956e505fe26e"
      },
      "source": [
        "# Cell 4: Load Model and Pruning\n",
        "\"\"\"\n",
        "This cell loads the pre-trained VGG-16 model and applies pruning to its convolutional layers.\n",
        "Pruning is used to reduce the size of the model by setting certain weights to zero, based on a threshold.\n",
        "\"\"\""
      ]
    },
    {
      "cell_type": "code",
      "source": [
        "# Load ResNet pretrained tanpa classifier (hanya sebagai feature extractor)\n",
        "resnet_model = models.resnet50(weights=ResNet50_Weights.IMAGENET1K_V1)\n",
        "#Resnet_features = nn.Sequential(*list(resnet_model.children()))  # Ambil bagian feature extractor\n",
        "\n",
        "# Ambil bagian feature extractor (semua layer kecuali fully connected)\n",
        "Resnet_features = nn.Sequential(*list(resnet_model.children())[:-1])  # Keluarkan layer fully connected atau layer klasifikasi\n",
        "\n",
        "#num_ftrs = resnet_model.fc.in_features   # No. of input features to fully connected layer\n",
        "\n",
        "# Freeze semua parameter di feature extractor\n",
        "#for param in Resnet_features.parameters():\n",
        "#    param.requires_grad = False\n",
        "\n",
        "# Custom Model dengan ResNet50 feature extractor + Fully Connected Layers untuk klasifikasi\n",
        "class CustomResNet50Classifier(nn.Module):\n",
        "    def __init__(self, num_classes):\n",
        "        super(CustomResNet50Classifier, self).__init__()\n",
        "        # Feature extractor dari ResNet50\n",
        "        self.features = Resnet_features\n",
        "        #self.global_avg_pool = nn.AdaptiveAvgPool2d((1, 1))  # Global average pooling\n",
        "\n",
        "        # Fully connected layers untuk klasifikasi\n",
        "        self.classifier = nn.Sequential(\n",
        "            nn.Flatten(),\n",
        "            nn.Linear(2048, 512),  # Sesuaikan input sesuai dengan output dari feature extractor ResNet50\n",
        "            nn.ReLU(),\n",
        "            nn.Dropout(0.4),\n",
        "            nn.Linear(512, num_classes)\n",
        "        )\n",
        "\n",
        "    def forward(self, x):\n",
        "        # Ekstraksi fitur\n",
        "        x = self.features(x)\n",
        "        x = self.classifier(x)  # Klasifikasi\n",
        "        return x\n",
        "\n",
        "# Jumlah kelas untuk klasifikasi\n",
        "num_classes = 4\n",
        "\n",
        "# Inisialisasi model\n",
        "model = CustomResNet50Classifier(num_classes)\n",
        "\n",
        "# Pindahkan model ke GPU jika tersedia, jika tidak gunakan CPU\n",
        "model = model.to(device)\n",
        "\n"
      ],
      "metadata": {
        "id": "TBv8AQCFn3Gf",
        "colab": {
          "base_uri": "https://localhost:8080/"
        },
        "outputId": "5f71c2fe-2062-42b1-fd0d-9475d073be95"
      },
      "id": "TBv8AQCFn3Gf",
      "execution_count": null,
      "outputs": [
        {
          "output_type": "stream",
          "name": "stderr",
          "text": [
            "Downloading: \"https://download.pytorch.org/models/resnet50-0676ba61.pth\" to /root/.cache/torch/hub/checkpoints/resnet50-0676ba61.pth\n",
            "100%|██████████| 97.8M/97.8M [00:00<00:00, 148MB/s]\n"
          ]
        }
      ]
    },
    {
      "cell_type": "markdown",
      "source": [
        "Penjelasan Kode:\n",
        "Penambahan Fully Connected Layer:\n",
        "\n",
        "nn.Linear(512 * 7 * 7, 1024) → Menghubungkan output dari feature extractor (25088 neuron) ke layer fully connected pertama dengan 1024 neuron.\n",
        "nn.Linear(1024, 512) → Layer fully connected tambahan yang mengambil input dari layer sebelumnya dan mengubahnya menjadi 512 neuron.\n",
        "nn.Linear(512, num_classes) → Layer fully connected terakhir untuk output ke jumlah kelas sesuai tugas klasifikasi (misalnya 4 kelas)."
      ],
      "metadata": {
        "id": "CcXh8V-LrUXO"
      },
      "id": "CcXh8V-LrUXO"
    },
    {
      "cell_type": "markdown",
      "source": [
        "# Mengetahui Ukuran Model"
      ],
      "metadata": {
        "id": "GuThm7ln3xNa"
      },
      "id": "GuThm7ln3xNa"
    },
    {
      "cell_type": "code",
      "source": [
        "print(Resnet_features)"
      ],
      "metadata": {
        "colab": {
          "base_uri": "https://localhost:8080/"
        },
        "id": "ux2kzzhtCbv-",
        "outputId": "e573d6ef-5c3e-4413-bef7-25ea76971883"
      },
      "id": "ux2kzzhtCbv-",
      "execution_count": null,
      "outputs": [
        {
          "output_type": "stream",
          "name": "stdout",
          "text": [
            "Sequential(\n",
            "  (0): Conv2d(3, 64, kernel_size=(7, 7), stride=(2, 2), padding=(3, 3), bias=False)\n",
            "  (1): BatchNorm2d(64, eps=1e-05, momentum=0.1, affine=True, track_running_stats=True)\n",
            "  (2): ReLU(inplace=True)\n",
            "  (3): MaxPool2d(kernel_size=3, stride=2, padding=1, dilation=1, ceil_mode=False)\n",
            "  (4): Sequential(\n",
            "    (0): Bottleneck(\n",
            "      (conv1): Conv2d(64, 64, kernel_size=(1, 1), stride=(1, 1), bias=False)\n",
            "      (bn1): BatchNorm2d(64, eps=1e-05, momentum=0.1, affine=True, track_running_stats=True)\n",
            "      (conv2): Conv2d(64, 64, kernel_size=(3, 3), stride=(1, 1), padding=(1, 1), bias=False)\n",
            "      (bn2): BatchNorm2d(64, eps=1e-05, momentum=0.1, affine=True, track_running_stats=True)\n",
            "      (conv3): Conv2d(64, 256, kernel_size=(1, 1), stride=(1, 1), bias=False)\n",
            "      (bn3): BatchNorm2d(256, eps=1e-05, momentum=0.1, affine=True, track_running_stats=True)\n",
            "      (relu): ReLU(inplace=True)\n",
            "      (downsample): Sequential(\n",
            "        (0): Conv2d(64, 256, kernel_size=(1, 1), stride=(1, 1), bias=False)\n",
            "        (1): BatchNorm2d(256, eps=1e-05, momentum=0.1, affine=True, track_running_stats=True)\n",
            "      )\n",
            "    )\n",
            "    (1): Bottleneck(\n",
            "      (conv1): Conv2d(256, 64, kernel_size=(1, 1), stride=(1, 1), bias=False)\n",
            "      (bn1): BatchNorm2d(64, eps=1e-05, momentum=0.1, affine=True, track_running_stats=True)\n",
            "      (conv2): Conv2d(64, 64, kernel_size=(3, 3), stride=(1, 1), padding=(1, 1), bias=False)\n",
            "      (bn2): BatchNorm2d(64, eps=1e-05, momentum=0.1, affine=True, track_running_stats=True)\n",
            "      (conv3): Conv2d(64, 256, kernel_size=(1, 1), stride=(1, 1), bias=False)\n",
            "      (bn3): BatchNorm2d(256, eps=1e-05, momentum=0.1, affine=True, track_running_stats=True)\n",
            "      (relu): ReLU(inplace=True)\n",
            "    )\n",
            "    (2): Bottleneck(\n",
            "      (conv1): Conv2d(256, 64, kernel_size=(1, 1), stride=(1, 1), bias=False)\n",
            "      (bn1): BatchNorm2d(64, eps=1e-05, momentum=0.1, affine=True, track_running_stats=True)\n",
            "      (conv2): Conv2d(64, 64, kernel_size=(3, 3), stride=(1, 1), padding=(1, 1), bias=False)\n",
            "      (bn2): BatchNorm2d(64, eps=1e-05, momentum=0.1, affine=True, track_running_stats=True)\n",
            "      (conv3): Conv2d(64, 256, kernel_size=(1, 1), stride=(1, 1), bias=False)\n",
            "      (bn3): BatchNorm2d(256, eps=1e-05, momentum=0.1, affine=True, track_running_stats=True)\n",
            "      (relu): ReLU(inplace=True)\n",
            "    )\n",
            "  )\n",
            "  (5): Sequential(\n",
            "    (0): Bottleneck(\n",
            "      (conv1): Conv2d(256, 128, kernel_size=(1, 1), stride=(1, 1), bias=False)\n",
            "      (bn1): BatchNorm2d(128, eps=1e-05, momentum=0.1, affine=True, track_running_stats=True)\n",
            "      (conv2): Conv2d(128, 128, kernel_size=(3, 3), stride=(2, 2), padding=(1, 1), bias=False)\n",
            "      (bn2): BatchNorm2d(128, eps=1e-05, momentum=0.1, affine=True, track_running_stats=True)\n",
            "      (conv3): Conv2d(128, 512, kernel_size=(1, 1), stride=(1, 1), bias=False)\n",
            "      (bn3): BatchNorm2d(512, eps=1e-05, momentum=0.1, affine=True, track_running_stats=True)\n",
            "      (relu): ReLU(inplace=True)\n",
            "      (downsample): Sequential(\n",
            "        (0): Conv2d(256, 512, kernel_size=(1, 1), stride=(2, 2), bias=False)\n",
            "        (1): BatchNorm2d(512, eps=1e-05, momentum=0.1, affine=True, track_running_stats=True)\n",
            "      )\n",
            "    )\n",
            "    (1): Bottleneck(\n",
            "      (conv1): Conv2d(512, 128, kernel_size=(1, 1), stride=(1, 1), bias=False)\n",
            "      (bn1): BatchNorm2d(128, eps=1e-05, momentum=0.1, affine=True, track_running_stats=True)\n",
            "      (conv2): Conv2d(128, 128, kernel_size=(3, 3), stride=(1, 1), padding=(1, 1), bias=False)\n",
            "      (bn2): BatchNorm2d(128, eps=1e-05, momentum=0.1, affine=True, track_running_stats=True)\n",
            "      (conv3): Conv2d(128, 512, kernel_size=(1, 1), stride=(1, 1), bias=False)\n",
            "      (bn3): BatchNorm2d(512, eps=1e-05, momentum=0.1, affine=True, track_running_stats=True)\n",
            "      (relu): ReLU(inplace=True)\n",
            "    )\n",
            "    (2): Bottleneck(\n",
            "      (conv1): Conv2d(512, 128, kernel_size=(1, 1), stride=(1, 1), bias=False)\n",
            "      (bn1): BatchNorm2d(128, eps=1e-05, momentum=0.1, affine=True, track_running_stats=True)\n",
            "      (conv2): Conv2d(128, 128, kernel_size=(3, 3), stride=(1, 1), padding=(1, 1), bias=False)\n",
            "      (bn2): BatchNorm2d(128, eps=1e-05, momentum=0.1, affine=True, track_running_stats=True)\n",
            "      (conv3): Conv2d(128, 512, kernel_size=(1, 1), stride=(1, 1), bias=False)\n",
            "      (bn3): BatchNorm2d(512, eps=1e-05, momentum=0.1, affine=True, track_running_stats=True)\n",
            "      (relu): ReLU(inplace=True)\n",
            "    )\n",
            "    (3): Bottleneck(\n",
            "      (conv1): Conv2d(512, 128, kernel_size=(1, 1), stride=(1, 1), bias=False)\n",
            "      (bn1): BatchNorm2d(128, eps=1e-05, momentum=0.1, affine=True, track_running_stats=True)\n",
            "      (conv2): Conv2d(128, 128, kernel_size=(3, 3), stride=(1, 1), padding=(1, 1), bias=False)\n",
            "      (bn2): BatchNorm2d(128, eps=1e-05, momentum=0.1, affine=True, track_running_stats=True)\n",
            "      (conv3): Conv2d(128, 512, kernel_size=(1, 1), stride=(1, 1), bias=False)\n",
            "      (bn3): BatchNorm2d(512, eps=1e-05, momentum=0.1, affine=True, track_running_stats=True)\n",
            "      (relu): ReLU(inplace=True)\n",
            "    )\n",
            "  )\n",
            "  (6): Sequential(\n",
            "    (0): Bottleneck(\n",
            "      (conv1): Conv2d(512, 256, kernel_size=(1, 1), stride=(1, 1), bias=False)\n",
            "      (bn1): BatchNorm2d(256, eps=1e-05, momentum=0.1, affine=True, track_running_stats=True)\n",
            "      (conv2): Conv2d(256, 256, kernel_size=(3, 3), stride=(2, 2), padding=(1, 1), bias=False)\n",
            "      (bn2): BatchNorm2d(256, eps=1e-05, momentum=0.1, affine=True, track_running_stats=True)\n",
            "      (conv3): Conv2d(256, 1024, kernel_size=(1, 1), stride=(1, 1), bias=False)\n",
            "      (bn3): BatchNorm2d(1024, eps=1e-05, momentum=0.1, affine=True, track_running_stats=True)\n",
            "      (relu): ReLU(inplace=True)\n",
            "      (downsample): Sequential(\n",
            "        (0): Conv2d(512, 1024, kernel_size=(1, 1), stride=(2, 2), bias=False)\n",
            "        (1): BatchNorm2d(1024, eps=1e-05, momentum=0.1, affine=True, track_running_stats=True)\n",
            "      )\n",
            "    )\n",
            "    (1): Bottleneck(\n",
            "      (conv1): Conv2d(1024, 256, kernel_size=(1, 1), stride=(1, 1), bias=False)\n",
            "      (bn1): BatchNorm2d(256, eps=1e-05, momentum=0.1, affine=True, track_running_stats=True)\n",
            "      (conv2): Conv2d(256, 256, kernel_size=(3, 3), stride=(1, 1), padding=(1, 1), bias=False)\n",
            "      (bn2): BatchNorm2d(256, eps=1e-05, momentum=0.1, affine=True, track_running_stats=True)\n",
            "      (conv3): Conv2d(256, 1024, kernel_size=(1, 1), stride=(1, 1), bias=False)\n",
            "      (bn3): BatchNorm2d(1024, eps=1e-05, momentum=0.1, affine=True, track_running_stats=True)\n",
            "      (relu): ReLU(inplace=True)\n",
            "    )\n",
            "    (2): Bottleneck(\n",
            "      (conv1): Conv2d(1024, 256, kernel_size=(1, 1), stride=(1, 1), bias=False)\n",
            "      (bn1): BatchNorm2d(256, eps=1e-05, momentum=0.1, affine=True, track_running_stats=True)\n",
            "      (conv2): Conv2d(256, 256, kernel_size=(3, 3), stride=(1, 1), padding=(1, 1), bias=False)\n",
            "      (bn2): BatchNorm2d(256, eps=1e-05, momentum=0.1, affine=True, track_running_stats=True)\n",
            "      (conv3): Conv2d(256, 1024, kernel_size=(1, 1), stride=(1, 1), bias=False)\n",
            "      (bn3): BatchNorm2d(1024, eps=1e-05, momentum=0.1, affine=True, track_running_stats=True)\n",
            "      (relu): ReLU(inplace=True)\n",
            "    )\n",
            "    (3): Bottleneck(\n",
            "      (conv1): Conv2d(1024, 256, kernel_size=(1, 1), stride=(1, 1), bias=False)\n",
            "      (bn1): BatchNorm2d(256, eps=1e-05, momentum=0.1, affine=True, track_running_stats=True)\n",
            "      (conv2): Conv2d(256, 256, kernel_size=(3, 3), stride=(1, 1), padding=(1, 1), bias=False)\n",
            "      (bn2): BatchNorm2d(256, eps=1e-05, momentum=0.1, affine=True, track_running_stats=True)\n",
            "      (conv3): Conv2d(256, 1024, kernel_size=(1, 1), stride=(1, 1), bias=False)\n",
            "      (bn3): BatchNorm2d(1024, eps=1e-05, momentum=0.1, affine=True, track_running_stats=True)\n",
            "      (relu): ReLU(inplace=True)\n",
            "    )\n",
            "    (4): Bottleneck(\n",
            "      (conv1): Conv2d(1024, 256, kernel_size=(1, 1), stride=(1, 1), bias=False)\n",
            "      (bn1): BatchNorm2d(256, eps=1e-05, momentum=0.1, affine=True, track_running_stats=True)\n",
            "      (conv2): Conv2d(256, 256, kernel_size=(3, 3), stride=(1, 1), padding=(1, 1), bias=False)\n",
            "      (bn2): BatchNorm2d(256, eps=1e-05, momentum=0.1, affine=True, track_running_stats=True)\n",
            "      (conv3): Conv2d(256, 1024, kernel_size=(1, 1), stride=(1, 1), bias=False)\n",
            "      (bn3): BatchNorm2d(1024, eps=1e-05, momentum=0.1, affine=True, track_running_stats=True)\n",
            "      (relu): ReLU(inplace=True)\n",
            "    )\n",
            "    (5): Bottleneck(\n",
            "      (conv1): Conv2d(1024, 256, kernel_size=(1, 1), stride=(1, 1), bias=False)\n",
            "      (bn1): BatchNorm2d(256, eps=1e-05, momentum=0.1, affine=True, track_running_stats=True)\n",
            "      (conv2): Conv2d(256, 256, kernel_size=(3, 3), stride=(1, 1), padding=(1, 1), bias=False)\n",
            "      (bn2): BatchNorm2d(256, eps=1e-05, momentum=0.1, affine=True, track_running_stats=True)\n",
            "      (conv3): Conv2d(256, 1024, kernel_size=(1, 1), stride=(1, 1), bias=False)\n",
            "      (bn3): BatchNorm2d(1024, eps=1e-05, momentum=0.1, affine=True, track_running_stats=True)\n",
            "      (relu): ReLU(inplace=True)\n",
            "    )\n",
            "  )\n",
            "  (7): Sequential(\n",
            "    (0): Bottleneck(\n",
            "      (conv1): Conv2d(1024, 512, kernel_size=(1, 1), stride=(1, 1), bias=False)\n",
            "      (bn1): BatchNorm2d(512, eps=1e-05, momentum=0.1, affine=True, track_running_stats=True)\n",
            "      (conv2): Conv2d(512, 512, kernel_size=(3, 3), stride=(2, 2), padding=(1, 1), bias=False)\n",
            "      (bn2): BatchNorm2d(512, eps=1e-05, momentum=0.1, affine=True, track_running_stats=True)\n",
            "      (conv3): Conv2d(512, 2048, kernel_size=(1, 1), stride=(1, 1), bias=False)\n",
            "      (bn3): BatchNorm2d(2048, eps=1e-05, momentum=0.1, affine=True, track_running_stats=True)\n",
            "      (relu): ReLU(inplace=True)\n",
            "      (downsample): Sequential(\n",
            "        (0): Conv2d(1024, 2048, kernel_size=(1, 1), stride=(2, 2), bias=False)\n",
            "        (1): BatchNorm2d(2048, eps=1e-05, momentum=0.1, affine=True, track_running_stats=True)\n",
            "      )\n",
            "    )\n",
            "    (1): Bottleneck(\n",
            "      (conv1): Conv2d(2048, 512, kernel_size=(1, 1), stride=(1, 1), bias=False)\n",
            "      (bn1): BatchNorm2d(512, eps=1e-05, momentum=0.1, affine=True, track_running_stats=True)\n",
            "      (conv2): Conv2d(512, 512, kernel_size=(3, 3), stride=(1, 1), padding=(1, 1), bias=False)\n",
            "      (bn2): BatchNorm2d(512, eps=1e-05, momentum=0.1, affine=True, track_running_stats=True)\n",
            "      (conv3): Conv2d(512, 2048, kernel_size=(1, 1), stride=(1, 1), bias=False)\n",
            "      (bn3): BatchNorm2d(2048, eps=1e-05, momentum=0.1, affine=True, track_running_stats=True)\n",
            "      (relu): ReLU(inplace=True)\n",
            "    )\n",
            "    (2): Bottleneck(\n",
            "      (conv1): Conv2d(2048, 512, kernel_size=(1, 1), stride=(1, 1), bias=False)\n",
            "      (bn1): BatchNorm2d(512, eps=1e-05, momentum=0.1, affine=True, track_running_stats=True)\n",
            "      (conv2): Conv2d(512, 512, kernel_size=(3, 3), stride=(1, 1), padding=(1, 1), bias=False)\n",
            "      (bn2): BatchNorm2d(512, eps=1e-05, momentum=0.1, affine=True, track_running_stats=True)\n",
            "      (conv3): Conv2d(512, 2048, kernel_size=(1, 1), stride=(1, 1), bias=False)\n",
            "      (bn3): BatchNorm2d(2048, eps=1e-05, momentum=0.1, affine=True, track_running_stats=True)\n",
            "      (relu): ReLU(inplace=True)\n",
            "    )\n",
            "  )\n",
            "  (8): AdaptiveAvgPool2d(output_size=(1, 1))\n",
            ")\n"
          ]
        }
      ]
    },
    {
      "cell_type": "code",
      "source": [
        "# Cek model\n",
        "print(model)"
      ],
      "metadata": {
        "colab": {
          "base_uri": "https://localhost:8080/"
        },
        "id": "yoGmajFUgVPl",
        "outputId": "e7a9f274-110b-4fa0-a37e-14007b42488b"
      },
      "id": "yoGmajFUgVPl",
      "execution_count": null,
      "outputs": [
        {
          "output_type": "stream",
          "name": "stdout",
          "text": [
            "CustomResNet50Classifier(\n",
            "  (features): Sequential(\n",
            "    (0): Conv2d(3, 64, kernel_size=(7, 7), stride=(2, 2), padding=(3, 3), bias=False)\n",
            "    (1): BatchNorm2d(64, eps=1e-05, momentum=0.1, affine=True, track_running_stats=True)\n",
            "    (2): ReLU(inplace=True)\n",
            "    (3): MaxPool2d(kernel_size=3, stride=2, padding=1, dilation=1, ceil_mode=False)\n",
            "    (4): Sequential(\n",
            "      (0): Bottleneck(\n",
            "        (conv1): Conv2d(64, 64, kernel_size=(1, 1), stride=(1, 1), bias=False)\n",
            "        (bn1): BatchNorm2d(64, eps=1e-05, momentum=0.1, affine=True, track_running_stats=True)\n",
            "        (conv2): Conv2d(64, 64, kernel_size=(3, 3), stride=(1, 1), padding=(1, 1), bias=False)\n",
            "        (bn2): BatchNorm2d(64, eps=1e-05, momentum=0.1, affine=True, track_running_stats=True)\n",
            "        (conv3): Conv2d(64, 256, kernel_size=(1, 1), stride=(1, 1), bias=False)\n",
            "        (bn3): BatchNorm2d(256, eps=1e-05, momentum=0.1, affine=True, track_running_stats=True)\n",
            "        (relu): ReLU(inplace=True)\n",
            "        (downsample): Sequential(\n",
            "          (0): Conv2d(64, 256, kernel_size=(1, 1), stride=(1, 1), bias=False)\n",
            "          (1): BatchNorm2d(256, eps=1e-05, momentum=0.1, affine=True, track_running_stats=True)\n",
            "        )\n",
            "      )\n",
            "      (1): Bottleneck(\n",
            "        (conv1): Conv2d(256, 64, kernel_size=(1, 1), stride=(1, 1), bias=False)\n",
            "        (bn1): BatchNorm2d(64, eps=1e-05, momentum=0.1, affine=True, track_running_stats=True)\n",
            "        (conv2): Conv2d(64, 64, kernel_size=(3, 3), stride=(1, 1), padding=(1, 1), bias=False)\n",
            "        (bn2): BatchNorm2d(64, eps=1e-05, momentum=0.1, affine=True, track_running_stats=True)\n",
            "        (conv3): Conv2d(64, 256, kernel_size=(1, 1), stride=(1, 1), bias=False)\n",
            "        (bn3): BatchNorm2d(256, eps=1e-05, momentum=0.1, affine=True, track_running_stats=True)\n",
            "        (relu): ReLU(inplace=True)\n",
            "      )\n",
            "      (2): Bottleneck(\n",
            "        (conv1): Conv2d(256, 64, kernel_size=(1, 1), stride=(1, 1), bias=False)\n",
            "        (bn1): BatchNorm2d(64, eps=1e-05, momentum=0.1, affine=True, track_running_stats=True)\n",
            "        (conv2): Conv2d(64, 64, kernel_size=(3, 3), stride=(1, 1), padding=(1, 1), bias=False)\n",
            "        (bn2): BatchNorm2d(64, eps=1e-05, momentum=0.1, affine=True, track_running_stats=True)\n",
            "        (conv3): Conv2d(64, 256, kernel_size=(1, 1), stride=(1, 1), bias=False)\n",
            "        (bn3): BatchNorm2d(256, eps=1e-05, momentum=0.1, affine=True, track_running_stats=True)\n",
            "        (relu): ReLU(inplace=True)\n",
            "      )\n",
            "    )\n",
            "    (5): Sequential(\n",
            "      (0): Bottleneck(\n",
            "        (conv1): Conv2d(256, 128, kernel_size=(1, 1), stride=(1, 1), bias=False)\n",
            "        (bn1): BatchNorm2d(128, eps=1e-05, momentum=0.1, affine=True, track_running_stats=True)\n",
            "        (conv2): Conv2d(128, 128, kernel_size=(3, 3), stride=(2, 2), padding=(1, 1), bias=False)\n",
            "        (bn2): BatchNorm2d(128, eps=1e-05, momentum=0.1, affine=True, track_running_stats=True)\n",
            "        (conv3): Conv2d(128, 512, kernel_size=(1, 1), stride=(1, 1), bias=False)\n",
            "        (bn3): BatchNorm2d(512, eps=1e-05, momentum=0.1, affine=True, track_running_stats=True)\n",
            "        (relu): ReLU(inplace=True)\n",
            "        (downsample): Sequential(\n",
            "          (0): Conv2d(256, 512, kernel_size=(1, 1), stride=(2, 2), bias=False)\n",
            "          (1): BatchNorm2d(512, eps=1e-05, momentum=0.1, affine=True, track_running_stats=True)\n",
            "        )\n",
            "      )\n",
            "      (1): Bottleneck(\n",
            "        (conv1): Conv2d(512, 128, kernel_size=(1, 1), stride=(1, 1), bias=False)\n",
            "        (bn1): BatchNorm2d(128, eps=1e-05, momentum=0.1, affine=True, track_running_stats=True)\n",
            "        (conv2): Conv2d(128, 128, kernel_size=(3, 3), stride=(1, 1), padding=(1, 1), bias=False)\n",
            "        (bn2): BatchNorm2d(128, eps=1e-05, momentum=0.1, affine=True, track_running_stats=True)\n",
            "        (conv3): Conv2d(128, 512, kernel_size=(1, 1), stride=(1, 1), bias=False)\n",
            "        (bn3): BatchNorm2d(512, eps=1e-05, momentum=0.1, affine=True, track_running_stats=True)\n",
            "        (relu): ReLU(inplace=True)\n",
            "      )\n",
            "      (2): Bottleneck(\n",
            "        (conv1): Conv2d(512, 128, kernel_size=(1, 1), stride=(1, 1), bias=False)\n",
            "        (bn1): BatchNorm2d(128, eps=1e-05, momentum=0.1, affine=True, track_running_stats=True)\n",
            "        (conv2): Conv2d(128, 128, kernel_size=(3, 3), stride=(1, 1), padding=(1, 1), bias=False)\n",
            "        (bn2): BatchNorm2d(128, eps=1e-05, momentum=0.1, affine=True, track_running_stats=True)\n",
            "        (conv3): Conv2d(128, 512, kernel_size=(1, 1), stride=(1, 1), bias=False)\n",
            "        (bn3): BatchNorm2d(512, eps=1e-05, momentum=0.1, affine=True, track_running_stats=True)\n",
            "        (relu): ReLU(inplace=True)\n",
            "      )\n",
            "      (3): Bottleneck(\n",
            "        (conv1): Conv2d(512, 128, kernel_size=(1, 1), stride=(1, 1), bias=False)\n",
            "        (bn1): BatchNorm2d(128, eps=1e-05, momentum=0.1, affine=True, track_running_stats=True)\n",
            "        (conv2): Conv2d(128, 128, kernel_size=(3, 3), stride=(1, 1), padding=(1, 1), bias=False)\n",
            "        (bn2): BatchNorm2d(128, eps=1e-05, momentum=0.1, affine=True, track_running_stats=True)\n",
            "        (conv3): Conv2d(128, 512, kernel_size=(1, 1), stride=(1, 1), bias=False)\n",
            "        (bn3): BatchNorm2d(512, eps=1e-05, momentum=0.1, affine=True, track_running_stats=True)\n",
            "        (relu): ReLU(inplace=True)\n",
            "      )\n",
            "    )\n",
            "    (6): Sequential(\n",
            "      (0): Bottleneck(\n",
            "        (conv1): Conv2d(512, 256, kernel_size=(1, 1), stride=(1, 1), bias=False)\n",
            "        (bn1): BatchNorm2d(256, eps=1e-05, momentum=0.1, affine=True, track_running_stats=True)\n",
            "        (conv2): Conv2d(256, 256, kernel_size=(3, 3), stride=(2, 2), padding=(1, 1), bias=False)\n",
            "        (bn2): BatchNorm2d(256, eps=1e-05, momentum=0.1, affine=True, track_running_stats=True)\n",
            "        (conv3): Conv2d(256, 1024, kernel_size=(1, 1), stride=(1, 1), bias=False)\n",
            "        (bn3): BatchNorm2d(1024, eps=1e-05, momentum=0.1, affine=True, track_running_stats=True)\n",
            "        (relu): ReLU(inplace=True)\n",
            "        (downsample): Sequential(\n",
            "          (0): Conv2d(512, 1024, kernel_size=(1, 1), stride=(2, 2), bias=False)\n",
            "          (1): BatchNorm2d(1024, eps=1e-05, momentum=0.1, affine=True, track_running_stats=True)\n",
            "        )\n",
            "      )\n",
            "      (1): Bottleneck(\n",
            "        (conv1): Conv2d(1024, 256, kernel_size=(1, 1), stride=(1, 1), bias=False)\n",
            "        (bn1): BatchNorm2d(256, eps=1e-05, momentum=0.1, affine=True, track_running_stats=True)\n",
            "        (conv2): Conv2d(256, 256, kernel_size=(3, 3), stride=(1, 1), padding=(1, 1), bias=False)\n",
            "        (bn2): BatchNorm2d(256, eps=1e-05, momentum=0.1, affine=True, track_running_stats=True)\n",
            "        (conv3): Conv2d(256, 1024, kernel_size=(1, 1), stride=(1, 1), bias=False)\n",
            "        (bn3): BatchNorm2d(1024, eps=1e-05, momentum=0.1, affine=True, track_running_stats=True)\n",
            "        (relu): ReLU(inplace=True)\n",
            "      )\n",
            "      (2): Bottleneck(\n",
            "        (conv1): Conv2d(1024, 256, kernel_size=(1, 1), stride=(1, 1), bias=False)\n",
            "        (bn1): BatchNorm2d(256, eps=1e-05, momentum=0.1, affine=True, track_running_stats=True)\n",
            "        (conv2): Conv2d(256, 256, kernel_size=(3, 3), stride=(1, 1), padding=(1, 1), bias=False)\n",
            "        (bn2): BatchNorm2d(256, eps=1e-05, momentum=0.1, affine=True, track_running_stats=True)\n",
            "        (conv3): Conv2d(256, 1024, kernel_size=(1, 1), stride=(1, 1), bias=False)\n",
            "        (bn3): BatchNorm2d(1024, eps=1e-05, momentum=0.1, affine=True, track_running_stats=True)\n",
            "        (relu): ReLU(inplace=True)\n",
            "      )\n",
            "      (3): Bottleneck(\n",
            "        (conv1): Conv2d(1024, 256, kernel_size=(1, 1), stride=(1, 1), bias=False)\n",
            "        (bn1): BatchNorm2d(256, eps=1e-05, momentum=0.1, affine=True, track_running_stats=True)\n",
            "        (conv2): Conv2d(256, 256, kernel_size=(3, 3), stride=(1, 1), padding=(1, 1), bias=False)\n",
            "        (bn2): BatchNorm2d(256, eps=1e-05, momentum=0.1, affine=True, track_running_stats=True)\n",
            "        (conv3): Conv2d(256, 1024, kernel_size=(1, 1), stride=(1, 1), bias=False)\n",
            "        (bn3): BatchNorm2d(1024, eps=1e-05, momentum=0.1, affine=True, track_running_stats=True)\n",
            "        (relu): ReLU(inplace=True)\n",
            "      )\n",
            "      (4): Bottleneck(\n",
            "        (conv1): Conv2d(1024, 256, kernel_size=(1, 1), stride=(1, 1), bias=False)\n",
            "        (bn1): BatchNorm2d(256, eps=1e-05, momentum=0.1, affine=True, track_running_stats=True)\n",
            "        (conv2): Conv2d(256, 256, kernel_size=(3, 3), stride=(1, 1), padding=(1, 1), bias=False)\n",
            "        (bn2): BatchNorm2d(256, eps=1e-05, momentum=0.1, affine=True, track_running_stats=True)\n",
            "        (conv3): Conv2d(256, 1024, kernel_size=(1, 1), stride=(1, 1), bias=False)\n",
            "        (bn3): BatchNorm2d(1024, eps=1e-05, momentum=0.1, affine=True, track_running_stats=True)\n",
            "        (relu): ReLU(inplace=True)\n",
            "      )\n",
            "      (5): Bottleneck(\n",
            "        (conv1): Conv2d(1024, 256, kernel_size=(1, 1), stride=(1, 1), bias=False)\n",
            "        (bn1): BatchNorm2d(256, eps=1e-05, momentum=0.1, affine=True, track_running_stats=True)\n",
            "        (conv2): Conv2d(256, 256, kernel_size=(3, 3), stride=(1, 1), padding=(1, 1), bias=False)\n",
            "        (bn2): BatchNorm2d(256, eps=1e-05, momentum=0.1, affine=True, track_running_stats=True)\n",
            "        (conv3): Conv2d(256, 1024, kernel_size=(1, 1), stride=(1, 1), bias=False)\n",
            "        (bn3): BatchNorm2d(1024, eps=1e-05, momentum=0.1, affine=True, track_running_stats=True)\n",
            "        (relu): ReLU(inplace=True)\n",
            "      )\n",
            "    )\n",
            "    (7): Sequential(\n",
            "      (0): Bottleneck(\n",
            "        (conv1): Conv2d(1024, 512, kernel_size=(1, 1), stride=(1, 1), bias=False)\n",
            "        (bn1): BatchNorm2d(512, eps=1e-05, momentum=0.1, affine=True, track_running_stats=True)\n",
            "        (conv2): Conv2d(512, 512, kernel_size=(3, 3), stride=(2, 2), padding=(1, 1), bias=False)\n",
            "        (bn2): BatchNorm2d(512, eps=1e-05, momentum=0.1, affine=True, track_running_stats=True)\n",
            "        (conv3): Conv2d(512, 2048, kernel_size=(1, 1), stride=(1, 1), bias=False)\n",
            "        (bn3): BatchNorm2d(2048, eps=1e-05, momentum=0.1, affine=True, track_running_stats=True)\n",
            "        (relu): ReLU(inplace=True)\n",
            "        (downsample): Sequential(\n",
            "          (0): Conv2d(1024, 2048, kernel_size=(1, 1), stride=(2, 2), bias=False)\n",
            "          (1): BatchNorm2d(2048, eps=1e-05, momentum=0.1, affine=True, track_running_stats=True)\n",
            "        )\n",
            "      )\n",
            "      (1): Bottleneck(\n",
            "        (conv1): Conv2d(2048, 512, kernel_size=(1, 1), stride=(1, 1), bias=False)\n",
            "        (bn1): BatchNorm2d(512, eps=1e-05, momentum=0.1, affine=True, track_running_stats=True)\n",
            "        (conv2): Conv2d(512, 512, kernel_size=(3, 3), stride=(1, 1), padding=(1, 1), bias=False)\n",
            "        (bn2): BatchNorm2d(512, eps=1e-05, momentum=0.1, affine=True, track_running_stats=True)\n",
            "        (conv3): Conv2d(512, 2048, kernel_size=(1, 1), stride=(1, 1), bias=False)\n",
            "        (bn3): BatchNorm2d(2048, eps=1e-05, momentum=0.1, affine=True, track_running_stats=True)\n",
            "        (relu): ReLU(inplace=True)\n",
            "      )\n",
            "      (2): Bottleneck(\n",
            "        (conv1): Conv2d(2048, 512, kernel_size=(1, 1), stride=(1, 1), bias=False)\n",
            "        (bn1): BatchNorm2d(512, eps=1e-05, momentum=0.1, affine=True, track_running_stats=True)\n",
            "        (conv2): Conv2d(512, 512, kernel_size=(3, 3), stride=(1, 1), padding=(1, 1), bias=False)\n",
            "        (bn2): BatchNorm2d(512, eps=1e-05, momentum=0.1, affine=True, track_running_stats=True)\n",
            "        (conv3): Conv2d(512, 2048, kernel_size=(1, 1), stride=(1, 1), bias=False)\n",
            "        (bn3): BatchNorm2d(2048, eps=1e-05, momentum=0.1, affine=True, track_running_stats=True)\n",
            "        (relu): ReLU(inplace=True)\n",
            "      )\n",
            "    )\n",
            "    (8): AdaptiveAvgPool2d(output_size=(1, 1))\n",
            "  )\n",
            "  (classifier): Sequential(\n",
            "    (0): Flatten(start_dim=1, end_dim=-1)\n",
            "    (1): Linear(in_features=2048, out_features=512, bias=True)\n",
            "    (2): ReLU()\n",
            "    (3): Dropout(p=0.4, inplace=False)\n",
            "    (4): Linear(in_features=512, out_features=4, bias=True)\n",
            "  )\n",
            ")\n"
          ]
        }
      ]
    },
    {
      "cell_type": "code",
      "source": [
        "pip install torchinfo"
      ],
      "metadata": {
        "colab": {
          "base_uri": "https://localhost:8080/"
        },
        "id": "qcxKKrXs3V_o",
        "outputId": "1e16b0f7-abe3-4567-e99e-b6df2067536c"
      },
      "id": "qcxKKrXs3V_o",
      "execution_count": null,
      "outputs": [
        {
          "output_type": "stream",
          "name": "stdout",
          "text": [
            "Collecting torchinfo\n",
            "  Downloading torchinfo-1.8.0-py3-none-any.whl.metadata (21 kB)\n",
            "Downloading torchinfo-1.8.0-py3-none-any.whl (23 kB)\n",
            "Installing collected packages: torchinfo\n",
            "Successfully installed torchinfo-1.8.0\n"
          ]
        }
      ]
    },
    {
      "cell_type": "code",
      "source": [
        "from torchinfo import summary\n",
        "summary(model)\n",
        "\n",
        "# # Do a summary *after* freezing the features and changing the output classifier layer (uncomment for actual output)\n",
        "summary(model,\n",
        "        input_size=(16, 3, 224, 224), # make sure this is \"input_size\", not \"input_shape\" (batch_size, color_channels, height, width)\n",
        "        verbose=0,\n",
        "        col_names=[\"input_size\", \"output_size\", \"num_params\", \"trainable\"],\n",
        "        col_width=20,\n",
        "        row_settings=[\"var_names\"]\n",
        ")"
      ],
      "metadata": {
        "colab": {
          "base_uri": "https://localhost:8080/"
        },
        "id": "kwYjLNw53O1p",
        "outputId": "606db02d-8b15-4a5c-910b-8b7838aba51d"
      },
      "id": "kwYjLNw53O1p",
      "execution_count": null,
      "outputs": [
        {
          "output_type": "execute_result",
          "data": {
            "text/plain": [
              "=======================================================================================================================================\n",
              "Layer (type (var_name))                                 Input Shape          Output Shape         Param #              Trainable\n",
              "=======================================================================================================================================\n",
              "CustomResNet50Classifier (CustomResNet50Classifier)     [16, 3, 224, 224]    [16, 4]              --                   True\n",
              "├─Sequential (features)                                 [16, 3, 224, 224]    [16, 2048, 1, 1]     --                   True\n",
              "│    └─Conv2d (0)                                       [16, 3, 224, 224]    [16, 64, 112, 112]   9,408                True\n",
              "│    └─BatchNorm2d (1)                                  [16, 64, 112, 112]   [16, 64, 112, 112]   128                  True\n",
              "│    └─ReLU (2)                                         [16, 64, 112, 112]   [16, 64, 112, 112]   --                   --\n",
              "│    └─MaxPool2d (3)                                    [16, 64, 112, 112]   [16, 64, 56, 56]     --                   --\n",
              "│    └─Sequential (4)                                   [16, 64, 56, 56]     [16, 256, 56, 56]    --                   True\n",
              "│    │    └─Bottleneck (0)                              [16, 64, 56, 56]     [16, 256, 56, 56]    75,008               True\n",
              "│    │    └─Bottleneck (1)                              [16, 256, 56, 56]    [16, 256, 56, 56]    70,400               True\n",
              "│    │    └─Bottleneck (2)                              [16, 256, 56, 56]    [16, 256, 56, 56]    70,400               True\n",
              "│    └─Sequential (5)                                   [16, 256, 56, 56]    [16, 512, 28, 28]    --                   True\n",
              "│    │    └─Bottleneck (0)                              [16, 256, 56, 56]    [16, 512, 28, 28]    379,392              True\n",
              "│    │    └─Bottleneck (1)                              [16, 512, 28, 28]    [16, 512, 28, 28]    280,064              True\n",
              "│    │    └─Bottleneck (2)                              [16, 512, 28, 28]    [16, 512, 28, 28]    280,064              True\n",
              "│    │    └─Bottleneck (3)                              [16, 512, 28, 28]    [16, 512, 28, 28]    280,064              True\n",
              "│    └─Sequential (6)                                   [16, 512, 28, 28]    [16, 1024, 14, 14]   --                   True\n",
              "│    │    └─Bottleneck (0)                              [16, 512, 28, 28]    [16, 1024, 14, 14]   1,512,448            True\n",
              "│    │    └─Bottleneck (1)                              [16, 1024, 14, 14]   [16, 1024, 14, 14]   1,117,184            True\n",
              "│    │    └─Bottleneck (2)                              [16, 1024, 14, 14]   [16, 1024, 14, 14]   1,117,184            True\n",
              "│    │    └─Bottleneck (3)                              [16, 1024, 14, 14]   [16, 1024, 14, 14]   1,117,184            True\n",
              "│    │    └─Bottleneck (4)                              [16, 1024, 14, 14]   [16, 1024, 14, 14]   1,117,184            True\n",
              "│    │    └─Bottleneck (5)                              [16, 1024, 14, 14]   [16, 1024, 14, 14]   1,117,184            True\n",
              "│    └─Sequential (7)                                   [16, 1024, 14, 14]   [16, 2048, 7, 7]     --                   True\n",
              "│    │    └─Bottleneck (0)                              [16, 1024, 14, 14]   [16, 2048, 7, 7]     6,039,552            True\n",
              "│    │    └─Bottleneck (1)                              [16, 2048, 7, 7]     [16, 2048, 7, 7]     4,462,592            True\n",
              "│    │    └─Bottleneck (2)                              [16, 2048, 7, 7]     [16, 2048, 7, 7]     4,462,592            True\n",
              "│    └─AdaptiveAvgPool2d (8)                            [16, 2048, 7, 7]     [16, 2048, 1, 1]     --                   --\n",
              "├─Sequential (classifier)                               [16, 2048, 1, 1]     [16, 4]              --                   True\n",
              "│    └─Flatten (0)                                      [16, 2048, 1, 1]     [16, 2048]           --                   --\n",
              "│    └─Linear (1)                                       [16, 2048]           [16, 512]            1,049,088            True\n",
              "│    └─ReLU (2)                                         [16, 512]            [16, 512]            --                   --\n",
              "│    └─Dropout (3)                                      [16, 512]            [16, 512]            --                   --\n",
              "│    └─Linear (4)                                       [16, 512]            [16, 4]              2,052                True\n",
              "=======================================================================================================================================\n",
              "Total params: 24,559,172\n",
              "Trainable params: 24,559,172\n",
              "Non-trainable params: 0\n",
              "Total mult-adds (G): 65.41\n",
              "=======================================================================================================================================\n",
              "Input size (MB): 9.63\n",
              "Forward/backward pass size (MB): 2845.25\n",
              "Params size (MB): 98.24\n",
              "Estimated Total Size (MB): 2953.12\n",
              "======================================================================================================================================="
            ]
          },
          "metadata": {},
          "execution_count": 8
        }
      ]
    },
    {
      "cell_type": "markdown",
      "id": "d3418afa-dfad-49b4-a854-8b8a6edb0812",
      "metadata": {
        "id": "d3418afa-dfad-49b4-a854-8b8a6edb0812"
      },
      "source": [
        "# Cell 5: Training Loop with Checkpointing\n",
        "\"\"\"\n",
        "This cell implements the training loop with checkpointing.\n",
        "Checkpointing allows you to save the model's state after each epoch, so you can resume training later if needed.\n",
        "The best model (based on validation loss) is also saved separately.\n",
        "\"\"\""
      ]
    },
    {
      "cell_type": "code",
      "execution_count": null,
      "id": "80f1afda-2a9e-471f-9046-9fc898c8bb12",
      "metadata": {
        "id": "80f1afda-2a9e-471f-9046-9fc898c8bb12",
        "outputId": "f8752aa9-09bd-4b86-a460-65bed337e787",
        "colab": {
          "base_uri": "https://localhost:8080/"
        }
      },
      "outputs": [
        {
          "output_type": "stream",
          "name": "stderr",
          "text": [
            "Epoch 1/70 - Training: 100%|██████████| 76/76 [00:10<00:00,  7.08it/s, Loss=1.21]\n"
          ]
        },
        {
          "output_type": "stream",
          "name": "stdout",
          "text": [
            "Epoch [1/70], Train Loss: 1.2238, Accuracy: 0.4592, Precision: 0.4353, Recall: 0.4592, F1-Score: 0.4151\n"
          ]
        },
        {
          "output_type": "stream",
          "name": "stderr",
          "text": [
            "Epoch 1/70 - Validation: 100%|██████████| 11/11 [00:00<00:00, 22.01it/s, Loss=1.07]\n"
          ]
        },
        {
          "output_type": "stream",
          "name": "stdout",
          "text": [
            "Validation Loss: 1.0529, Accuracy: 0.4444, Precision: 0.6810, Recall: 0.4444, F1-Score: 0.3567\n",
            "Checkpoint saved at checkpoint.pth.tar\n",
            "Epoch [1/70] completed in 12.56 seconds\n"
          ]
        },
        {
          "output_type": "stream",
          "name": "stderr",
          "text": [
            "Epoch 2/70 - Training: 100%|██████████| 76/76 [00:09<00:00,  8.12it/s, Loss=0.982]\n"
          ]
        },
        {
          "output_type": "stream",
          "name": "stdout",
          "text": [
            "Epoch [2/70], Train Loss: 0.7877, Accuracy: 0.6839, Precision: 0.6989, Recall: 0.6839, F1-Score: 0.6708\n"
          ]
        },
        {
          "output_type": "stream",
          "name": "stderr",
          "text": [
            "Epoch 2/70 - Validation: 100%|██████████| 11/11 [00:00<00:00, 13.95it/s, Loss=1.07]\n"
          ]
        },
        {
          "output_type": "stream",
          "name": "stdout",
          "text": [
            "Validation Loss: 0.7640, Accuracy: 0.7531, Precision: 0.7965, Recall: 0.7531, F1-Score: 0.7621\n",
            "Checkpoint saved at checkpoint.pth.tar\n",
            "Epoch [2/70] completed in 12.38 seconds\n"
          ]
        },
        {
          "output_type": "stream",
          "name": "stderr",
          "text": [
            "Epoch 3/70 - Training: 100%|██████████| 76/76 [00:08<00:00,  8.79it/s, Loss=0.478]\n"
          ]
        },
        {
          "output_type": "stream",
          "name": "stdout",
          "text": [
            "Epoch [3/70], Train Loss: 0.3898, Accuracy: 0.8835, Precision: 0.8868, Recall: 0.8835, F1-Score: 0.8836\n"
          ]
        },
        {
          "output_type": "stream",
          "name": "stderr",
          "text": [
            "Epoch 3/70 - Validation: 100%|██████████| 11/11 [00:00<00:00, 30.98it/s, Loss=0.135]\n"
          ]
        },
        {
          "output_type": "stream",
          "name": "stdout",
          "text": [
            "Validation Loss: 0.3570, Accuracy: 0.8642, Precision: 0.8883, Recall: 0.8642, F1-Score: 0.8662\n",
            "Checkpoint saved at checkpoint.pth.tar\n",
            "Epoch [3/70] completed in 10.02 seconds\n"
          ]
        },
        {
          "output_type": "stream",
          "name": "stderr",
          "text": [
            "Epoch 4/70 - Training: 100%|██████████| 76/76 [00:07<00:00, 10.66it/s, Loss=1.13]\n"
          ]
        },
        {
          "output_type": "stream",
          "name": "stdout",
          "text": [
            "Epoch [4/70], Train Loss: 0.1775, Accuracy: 0.9567, Precision: 0.9572, Recall: 0.9567, F1-Score: 0.9566\n"
          ]
        },
        {
          "output_type": "stream",
          "name": "stderr",
          "text": [
            "Epoch 4/70 - Validation: 100%|██████████| 11/11 [00:00<00:00, 29.85it/s, Loss=0.448]\n"
          ]
        },
        {
          "output_type": "stream",
          "name": "stdout",
          "text": [
            "Validation Loss: 0.3467, Accuracy: 0.8765, Precision: 0.8935, Recall: 0.8765, F1-Score: 0.8788\n",
            "Checkpoint saved at checkpoint.pth.tar\n",
            "Epoch [4/70] completed in 8.43 seconds\n"
          ]
        },
        {
          "output_type": "stream",
          "name": "stderr",
          "text": [
            "Epoch 5/70 - Training: 100%|██████████| 76/76 [00:07<00:00, 10.81it/s, Loss=1.89]\n"
          ]
        },
        {
          "output_type": "stream",
          "name": "stdout",
          "text": [
            "Epoch [5/70], Train Loss: 0.1532, Accuracy: 0.9584, Precision: 0.9590, Recall: 0.9584, F1-Score: 0.9585\n"
          ]
        },
        {
          "output_type": "stream",
          "name": "stderr",
          "text": [
            "Epoch 5/70 - Validation: 100%|██████████| 11/11 [00:00<00:00, 27.43it/s, Loss=0.0142]\n"
          ]
        },
        {
          "output_type": "stream",
          "name": "stdout",
          "text": [
            "Validation Loss: 0.3853, Accuracy: 0.8642, Precision: 0.9049, Recall: 0.8642, F1-Score: 0.8685\n",
            "Checkpoint saved at checkpoint.pth.tar\n",
            "Epoch [5/70] completed in 8.16 seconds\n"
          ]
        },
        {
          "output_type": "stream",
          "name": "stderr",
          "text": [
            "Epoch 6/70 - Training: 100%|██████████| 76/76 [00:07<00:00, 10.74it/s, Loss=0.366]\n"
          ]
        },
        {
          "output_type": "stream",
          "name": "stdout",
          "text": [
            "Epoch [6/70], Train Loss: 0.1468, Accuracy: 0.9601, Precision: 0.9600, Recall: 0.9601, F1-Score: 0.9600\n"
          ]
        },
        {
          "output_type": "stream",
          "name": "stderr",
          "text": [
            "Epoch 6/70 - Validation: 100%|██████████| 11/11 [00:00<00:00, 30.59it/s, Loss=0.118]\n"
          ]
        },
        {
          "output_type": "stream",
          "name": "stdout",
          "text": [
            "Validation Loss: 0.3290, Accuracy: 0.8765, Precision: 0.8819, Recall: 0.8765, F1-Score: 0.8768\n",
            "Checkpoint saved at checkpoint.pth.tar\n",
            "Epoch [6/70] completed in 8.21 seconds\n"
          ]
        },
        {
          "output_type": "stream",
          "name": "stderr",
          "text": [
            "Epoch 7/70 - Training: 100%|██████████| 76/76 [00:07<00:00, 10.43it/s, Loss=0.336]\n"
          ]
        },
        {
          "output_type": "stream",
          "name": "stdout",
          "text": [
            "Epoch [7/70], Train Loss: 0.1277, Accuracy: 0.9651, Precision: 0.9652, Recall: 0.9651, F1-Score: 0.9650\n"
          ]
        },
        {
          "output_type": "stream",
          "name": "stderr",
          "text": [
            "Epoch 7/70 - Validation: 100%|██████████| 11/11 [00:00<00:00, 30.06it/s, Loss=0.0606]\n"
          ]
        },
        {
          "output_type": "stream",
          "name": "stdout",
          "text": [
            "Validation Loss: 0.5880, Accuracy: 0.7654, Precision: 0.8319, Recall: 0.7654, F1-Score: 0.7468\n",
            "Checkpoint saved at checkpoint.pth.tar\n",
            "Epoch [7/70] completed in 8.12 seconds\n"
          ]
        },
        {
          "output_type": "stream",
          "name": "stderr",
          "text": [
            "Epoch 8/70 - Training: 100%|██████████| 76/76 [00:07<00:00, 10.76it/s, Loss=2.64]\n"
          ]
        },
        {
          "output_type": "stream",
          "name": "stdout",
          "text": [
            "Epoch [8/70], Train Loss: 0.1528, Accuracy: 0.9617, Precision: 0.9619, Recall: 0.9617, F1-Score: 0.9618\n"
          ]
        },
        {
          "output_type": "stream",
          "name": "stderr",
          "text": [
            "Epoch 8/70 - Validation: 100%|██████████| 11/11 [00:00<00:00, 29.98it/s, Loss=0.0519]\n"
          ]
        },
        {
          "output_type": "stream",
          "name": "stdout",
          "text": [
            "Validation Loss: 0.2162, Accuracy: 0.8889, Precision: 0.8971, Recall: 0.8889, F1-Score: 0.8896\n",
            "Checkpoint saved at checkpoint.pth.tar\n",
            "Epoch [8/70] completed in 8.21 seconds\n"
          ]
        },
        {
          "output_type": "stream",
          "name": "stderr",
          "text": [
            "Epoch 9/70 - Training: 100%|██████████| 76/76 [00:07<00:00, 10.30it/s, Loss=1.16]\n"
          ]
        },
        {
          "output_type": "stream",
          "name": "stdout",
          "text": [
            "Epoch [9/70], Train Loss: 0.1399, Accuracy: 0.9617, Precision: 0.9619, Recall: 0.9617, F1-Score: 0.9616\n"
          ]
        },
        {
          "output_type": "stream",
          "name": "stderr",
          "text": [
            "Epoch 9/70 - Validation: 100%|██████████| 11/11 [00:00<00:00, 30.13it/s, Loss=0.00192]\n"
          ]
        },
        {
          "output_type": "stream",
          "name": "stdout",
          "text": [
            "Validation Loss: 0.3418, Accuracy: 0.8395, Precision: 0.8902, Recall: 0.8395, F1-Score: 0.8430\n",
            "Checkpoint saved at checkpoint.pth.tar\n",
            "Epoch [9/70] completed in 8.28 seconds\n"
          ]
        },
        {
          "output_type": "stream",
          "name": "stderr",
          "text": [
            "Epoch 10/70 - Training: 100%|██████████| 76/76 [00:07<00:00, 10.48it/s, Loss=1.67]\n"
          ]
        },
        {
          "output_type": "stream",
          "name": "stdout",
          "text": [
            "Epoch [10/70], Train Loss: 0.0982, Accuracy: 0.9684, Precision: 0.9685, Recall: 0.9684, F1-Score: 0.9684\n"
          ]
        },
        {
          "output_type": "stream",
          "name": "stderr",
          "text": [
            "Epoch 10/70 - Validation: 100%|██████████| 11/11 [00:00<00:00, 26.00it/s, Loss=0.00139]\n"
          ]
        },
        {
          "output_type": "stream",
          "name": "stdout",
          "text": [
            "Validation Loss: 0.2263, Accuracy: 0.9259, Precision: 0.9352, Recall: 0.9259, F1-Score: 0.9279\n",
            "Checkpoint saved at checkpoint.pth.tar\n",
            "Epoch [10/70] completed in 8.42 seconds\n"
          ]
        },
        {
          "output_type": "stream",
          "name": "stderr",
          "text": [
            "Epoch 11/70 - Training: 100%|██████████| 76/76 [00:08<00:00,  9.13it/s, Loss=1.81]\n"
          ]
        },
        {
          "output_type": "stream",
          "name": "stdout",
          "text": [
            "Epoch [11/70], Train Loss: 0.1061, Accuracy: 0.9684, Precision: 0.9685, Recall: 0.9684, F1-Score: 0.9684\n"
          ]
        },
        {
          "output_type": "stream",
          "name": "stderr",
          "text": [
            "Epoch 11/70 - Validation: 100%|██████████| 11/11 [00:00<00:00, 28.55it/s, Loss=0.0276]\n"
          ]
        },
        {
          "output_type": "stream",
          "name": "stdout",
          "text": [
            "Validation Loss: 0.2796, Accuracy: 0.8889, Precision: 0.9076, Recall: 0.8889, F1-Score: 0.8899\n",
            "Checkpoint saved at checkpoint.pth.tar\n",
            "Epoch [11/70] completed in 9.22 seconds\n"
          ]
        },
        {
          "output_type": "stream",
          "name": "stderr",
          "text": [
            "Epoch 12/70 - Training: 100%|██████████| 76/76 [00:07<00:00, 10.12it/s, Loss=2.93]\n"
          ]
        },
        {
          "output_type": "stream",
          "name": "stdout",
          "text": [
            "Epoch [12/70], Train Loss: 0.0739, Accuracy: 0.9884, Precision: 0.9885, Recall: 0.9884, F1-Score: 0.9884\n"
          ]
        },
        {
          "output_type": "stream",
          "name": "stderr",
          "text": [
            "Epoch 12/70 - Validation: 100%|██████████| 11/11 [00:00<00:00, 30.23it/s, Loss=0.00672]\n"
          ]
        },
        {
          "output_type": "stream",
          "name": "stdout",
          "text": [
            "Validation Loss: 0.2144, Accuracy: 0.9136, Precision: 0.9275, Recall: 0.9136, F1-Score: 0.9158\n",
            "Checkpoint saved at checkpoint.pth.tar\n",
            "Epoch [12/70] completed in 8.70 seconds\n"
          ]
        },
        {
          "output_type": "stream",
          "name": "stderr",
          "text": [
            "Epoch 13/70 - Training: 100%|██████████| 76/76 [00:07<00:00, 10.36it/s, Loss=2.2]\n"
          ]
        },
        {
          "output_type": "stream",
          "name": "stdout",
          "text": [
            "Epoch [13/70], Train Loss: 0.1213, Accuracy: 0.9684, Precision: 0.9690, Recall: 0.9684, F1-Score: 0.9684\n"
          ]
        },
        {
          "output_type": "stream",
          "name": "stderr",
          "text": [
            "Epoch 13/70 - Validation: 100%|██████████| 11/11 [00:00<00:00, 29.07it/s, Loss=0.0354]\n"
          ]
        },
        {
          "output_type": "stream",
          "name": "stdout",
          "text": [
            "Validation Loss: 0.2162, Accuracy: 0.9383, Precision: 0.9461, Recall: 0.9383, F1-Score: 0.9382\n",
            "Checkpoint saved at checkpoint.pth.tar\n",
            "Epoch [13/70] completed in 8.21 seconds\n"
          ]
        },
        {
          "output_type": "stream",
          "name": "stderr",
          "text": [
            "Epoch 14/70 - Training: 100%|██████████| 76/76 [00:07<00:00,  9.96it/s, Loss=0.489]\n"
          ]
        },
        {
          "output_type": "stream",
          "name": "stdout",
          "text": [
            "Epoch [14/70], Train Loss: 0.1235, Accuracy: 0.9534, Precision: 0.9535, Recall: 0.9534, F1-Score: 0.9533\n"
          ]
        },
        {
          "output_type": "stream",
          "name": "stderr",
          "text": [
            "Epoch 14/70 - Validation: 100%|██████████| 11/11 [00:00<00:00, 29.38it/s, Loss=0.000911]\n"
          ]
        },
        {
          "output_type": "stream",
          "name": "stdout",
          "text": [
            "Validation Loss: 0.1292, Accuracy: 0.9630, Precision: 0.9664, Recall: 0.9630, F1-Score: 0.9628\n",
            "Checkpoint saved at checkpoint.pth.tar\n",
            "Epoch [14/70] completed in 8.82 seconds\n"
          ]
        },
        {
          "output_type": "stream",
          "name": "stderr",
          "text": [
            "Epoch 15/70 - Training: 100%|██████████| 76/76 [00:07<00:00, 10.07it/s, Loss=0.339]\n"
          ]
        },
        {
          "output_type": "stream",
          "name": "stdout",
          "text": [
            "Epoch [15/70], Train Loss: 0.0535, Accuracy: 0.9834, Precision: 0.9834, Recall: 0.9834, F1-Score: 0.9834\n"
          ]
        },
        {
          "output_type": "stream",
          "name": "stderr",
          "text": [
            "Epoch 15/70 - Validation: 100%|██████████| 11/11 [00:00<00:00, 24.92it/s, Loss=0.000347]\n"
          ]
        },
        {
          "output_type": "stream",
          "name": "stdout",
          "text": [
            "Validation Loss: 0.1580, Accuracy: 0.9136, Precision: 0.9235, Recall: 0.9136, F1-Score: 0.9141\n",
            "Checkpoint saved at checkpoint.pth.tar\n",
            "Epoch [15/70] completed in 8.69 seconds\n"
          ]
        },
        {
          "output_type": "stream",
          "name": "stderr",
          "text": [
            "Epoch 16/70 - Training: 100%|██████████| 76/76 [00:07<00:00, 10.14it/s, Loss=0.0906]\n"
          ]
        },
        {
          "output_type": "stream",
          "name": "stdout",
          "text": [
            "Epoch [16/70], Train Loss: 0.0441, Accuracy: 0.9900, Precision: 0.9900, Recall: 0.9900, F1-Score: 0.9900\n"
          ]
        },
        {
          "output_type": "stream",
          "name": "stderr",
          "text": [
            "Epoch 16/70 - Validation: 100%|██████████| 11/11 [00:00<00:00, 29.02it/s, Loss=0.00467]\n"
          ]
        },
        {
          "output_type": "stream",
          "name": "stdout",
          "text": [
            "Validation Loss: 0.3972, Accuracy: 0.8642, Precision: 0.9217, Recall: 0.8642, F1-Score: 0.8740\n",
            "Checkpoint saved at checkpoint.pth.tar\n",
            "Epoch [16/70] completed in 8.38 seconds\n"
          ]
        },
        {
          "output_type": "stream",
          "name": "stderr",
          "text": [
            "Epoch 17/70 - Training: 100%|██████████| 76/76 [00:07<00:00,  9.99it/s, Loss=2.04]\n"
          ]
        },
        {
          "output_type": "stream",
          "name": "stdout",
          "text": [
            "Epoch [17/70], Train Loss: 0.0596, Accuracy: 0.9884, Precision: 0.9884, Recall: 0.9884, F1-Score: 0.9884\n"
          ]
        },
        {
          "output_type": "stream",
          "name": "stderr",
          "text": [
            "Epoch 17/70 - Validation: 100%|██████████| 11/11 [00:00<00:00, 29.64it/s, Loss=0.00943]\n"
          ]
        },
        {
          "output_type": "stream",
          "name": "stdout",
          "text": [
            "Validation Loss: 0.1991, Accuracy: 0.8889, Precision: 0.9138, Recall: 0.8889, F1-Score: 0.8929\n",
            "Checkpoint saved at checkpoint.pth.tar\n",
            "Epoch [17/70] completed in 8.44 seconds\n"
          ]
        },
        {
          "output_type": "stream",
          "name": "stderr",
          "text": [
            "Epoch 18/70 - Training: 100%|██████████| 76/76 [00:07<00:00, 10.12it/s, Loss=2.3]\n"
          ]
        },
        {
          "output_type": "stream",
          "name": "stdout",
          "text": [
            "Epoch [18/70], Train Loss: 0.0744, Accuracy: 0.9850, Precision: 0.9852, Recall: 0.9850, F1-Score: 0.9850\n"
          ]
        },
        {
          "output_type": "stream",
          "name": "stderr",
          "text": [
            "Epoch 18/70 - Validation: 100%|██████████| 11/11 [00:00<00:00, 24.06it/s, Loss=0.00186]\n"
          ]
        },
        {
          "output_type": "stream",
          "name": "stdout",
          "text": [
            "Validation Loss: 0.2209, Accuracy: 0.9136, Precision: 0.9275, Recall: 0.9136, F1-Score: 0.9158\n",
            "Checkpoint saved at checkpoint.pth.tar\n",
            "Epoch [18/70] completed in 8.81 seconds\n"
          ]
        },
        {
          "output_type": "stream",
          "name": "stderr",
          "text": [
            "Epoch 19/70 - Training: 100%|██████████| 76/76 [00:07<00:00, 10.09it/s, Loss=1.6]\n"
          ]
        },
        {
          "output_type": "stream",
          "name": "stdout",
          "text": [
            "Epoch [19/70], Train Loss: 0.0713, Accuracy: 0.9817, Precision: 0.9820, Recall: 0.9817, F1-Score: 0.9817\n"
          ]
        },
        {
          "output_type": "stream",
          "name": "stderr",
          "text": [
            "Epoch 19/70 - Validation: 100%|██████████| 11/11 [00:00<00:00, 29.38it/s, Loss=0.00011]\n"
          ]
        },
        {
          "output_type": "stream",
          "name": "stdout",
          "text": [
            "Validation Loss: 0.4427, Accuracy: 0.8642, Precision: 0.9217, Recall: 0.8642, F1-Score: 0.8762\n",
            "Checkpoint saved at checkpoint.pth.tar\n",
            "Epoch [19/70] completed in 8.38 seconds\n"
          ]
        },
        {
          "output_type": "stream",
          "name": "stderr",
          "text": [
            "Epoch 20/70 - Training: 100%|██████████| 76/76 [00:07<00:00, 10.31it/s, Loss=2.09]\n"
          ]
        },
        {
          "output_type": "stream",
          "name": "stdout",
          "text": [
            "Epoch [20/70], Train Loss: 0.0646, Accuracy: 0.9850, Precision: 0.9853, Recall: 0.9850, F1-Score: 0.9850\n"
          ]
        },
        {
          "output_type": "stream",
          "name": "stderr",
          "text": [
            "Epoch 20/70 - Validation: 100%|██████████| 11/11 [00:00<00:00, 24.82it/s, Loss=0.00385]\n"
          ]
        },
        {
          "output_type": "stream",
          "name": "stdout",
          "text": [
            "Validation Loss: 0.2565, Accuracy: 0.9136, Precision: 0.9255, Recall: 0.9136, F1-Score: 0.9150\n",
            "Checkpoint saved at checkpoint.pth.tar\n",
            "Epoch [20/70] completed in 8.53 seconds\n"
          ]
        },
        {
          "output_type": "stream",
          "name": "stderr",
          "text": [
            "Epoch 21/70 - Training: 100%|██████████| 76/76 [00:07<00:00, 10.28it/s, Loss=2.32]\n"
          ]
        },
        {
          "output_type": "stream",
          "name": "stdout",
          "text": [
            "Epoch [21/70], Train Loss: 0.0759, Accuracy: 0.9750, Precision: 0.9754, Recall: 0.9750, F1-Score: 0.9751\n"
          ]
        },
        {
          "output_type": "stream",
          "name": "stderr",
          "text": [
            "Epoch 21/70 - Validation: 100%|██████████| 11/11 [00:00<00:00, 29.91it/s, Loss=0.00336]\n"
          ]
        },
        {
          "output_type": "stream",
          "name": "stdout",
          "text": [
            "Validation Loss: 0.1423, Accuracy: 0.9383, Precision: 0.9437, Recall: 0.9383, F1-Score: 0.9395\n",
            "Checkpoint saved at checkpoint.pth.tar\n",
            "Epoch [21/70] completed in 8.21 seconds\n"
          ]
        },
        {
          "output_type": "stream",
          "name": "stderr",
          "text": [
            "Epoch 22/70 - Training: 100%|██████████| 76/76 [00:07<00:00, 10.02it/s, Loss=0.648]\n"
          ]
        },
        {
          "output_type": "stream",
          "name": "stdout",
          "text": [
            "Epoch [22/70], Train Loss: 0.0411, Accuracy: 0.9900, Precision: 0.9901, Recall: 0.9900, F1-Score: 0.9900\n"
          ]
        },
        {
          "output_type": "stream",
          "name": "stderr",
          "text": [
            "Epoch 22/70 - Validation: 100%|██████████| 11/11 [00:00<00:00, 30.48it/s, Loss=0.000907]\n"
          ]
        },
        {
          "output_type": "stream",
          "name": "stdout",
          "text": [
            "Validation Loss: 0.2218, Accuracy: 0.9136, Precision: 0.9411, Recall: 0.9136, F1-Score: 0.9193\n",
            "Checkpoint saved at checkpoint.pth.tar\n",
            "Epoch [22/70] completed in 8.43 seconds\n"
          ]
        },
        {
          "output_type": "stream",
          "name": "stderr",
          "text": [
            "Epoch 23/70 - Training: 100%|██████████| 76/76 [00:07<00:00, 10.35it/s, Loss=4.01]\n"
          ]
        },
        {
          "output_type": "stream",
          "name": "stdout",
          "text": [
            "Epoch [23/70], Train Loss: 0.0877, Accuracy: 0.9900, Precision: 0.9902, Recall: 0.9900, F1-Score: 0.9900\n"
          ]
        },
        {
          "output_type": "stream",
          "name": "stderr",
          "text": [
            "Epoch 23/70 - Validation: 100%|██████████| 11/11 [00:00<00:00, 28.72it/s, Loss=0.00684]\n"
          ]
        },
        {
          "output_type": "stream",
          "name": "stdout",
          "text": [
            "Validation Loss: 0.3096, Accuracy: 0.9012, Precision: 0.9224, Recall: 0.9012, F1-Score: 0.9043\n",
            "Checkpoint saved at checkpoint.pth.tar\n",
            "Epoch [23/70] completed in 8.18 seconds\n"
          ]
        },
        {
          "output_type": "stream",
          "name": "stderr",
          "text": [
            "Epoch 24/70 - Training: 100%|██████████| 76/76 [00:07<00:00,  9.96it/s, Loss=1.31]\n"
          ]
        },
        {
          "output_type": "stream",
          "name": "stdout",
          "text": [
            "Epoch [24/70], Train Loss: 0.0708, Accuracy: 0.9750, Precision: 0.9750, Recall: 0.9750, F1-Score: 0.9749\n"
          ]
        },
        {
          "output_type": "stream",
          "name": "stderr",
          "text": [
            "Epoch 24/70 - Validation: 100%|██████████| 11/11 [00:00<00:00, 29.68it/s, Loss=0.000305]\n"
          ]
        },
        {
          "output_type": "stream",
          "name": "stdout",
          "text": [
            "Validation Loss: 0.3364, Accuracy: 0.8765, Precision: 0.9020, Recall: 0.8765, F1-Score: 0.8798\n",
            "Checkpoint saved at checkpoint.pth.tar\n",
            "Epoch [24/70] completed in 8.47 seconds\n"
          ]
        },
        {
          "output_type": "stream",
          "name": "stderr",
          "text": [
            "Epoch 25/70 - Training: 100%|██████████| 76/76 [00:07<00:00, 10.27it/s, Loss=0.883]\n"
          ]
        },
        {
          "output_type": "stream",
          "name": "stdout",
          "text": [
            "Epoch [25/70], Train Loss: 0.0713, Accuracy: 0.9850, Precision: 0.9851, Recall: 0.9850, F1-Score: 0.9850\n"
          ]
        },
        {
          "output_type": "stream",
          "name": "stderr",
          "text": [
            "Epoch 25/70 - Validation: 100%|██████████| 11/11 [00:00<00:00, 24.47it/s, Loss=0.0567]\n"
          ]
        },
        {
          "output_type": "stream",
          "name": "stdout",
          "text": [
            "Validation Loss: 0.1792, Accuracy: 0.9383, Precision: 0.9493, Recall: 0.9383, F1-Score: 0.9394\n",
            "Checkpoint saved at checkpoint.pth.tar\n",
            "Epoch [25/70] completed in 8.56 seconds\n"
          ]
        },
        {
          "output_type": "stream",
          "name": "stderr",
          "text": [
            "Epoch 26/70 - Training: 100%|██████████| 76/76 [00:07<00:00, 10.06it/s, Loss=0.402]\n"
          ]
        },
        {
          "output_type": "stream",
          "name": "stdout",
          "text": [
            "Epoch [26/70], Train Loss: 0.0318, Accuracy: 0.9884, Precision: 0.9884, Recall: 0.9884, F1-Score: 0.9883\n"
          ]
        },
        {
          "output_type": "stream",
          "name": "stderr",
          "text": [
            "Epoch 26/70 - Validation: 100%|██████████| 11/11 [00:00<00:00, 28.97it/s, Loss=0.000766]\n"
          ]
        },
        {
          "output_type": "stream",
          "name": "stdout",
          "text": [
            "Validation Loss: 0.2108, Accuracy: 0.9012, Precision: 0.9278, Recall: 0.9012, F1-Score: 0.9063\n",
            "Checkpoint saved at checkpoint.pth.tar\n",
            "Epoch [26/70] completed in 8.41 seconds\n"
          ]
        },
        {
          "output_type": "stream",
          "name": "stderr",
          "text": [
            "Epoch 27/70 - Training: 100%|██████████| 76/76 [00:07<00:00, 10.17it/s, Loss=2.19]\n"
          ]
        },
        {
          "output_type": "stream",
          "name": "stdout",
          "text": [
            "Epoch [27/70], Train Loss: 0.0495, Accuracy: 0.9933, Precision: 0.9935, Recall: 0.9933, F1-Score: 0.9934\n"
          ]
        },
        {
          "output_type": "stream",
          "name": "stderr",
          "text": [
            "Epoch 27/70 - Validation: 100%|██████████| 11/11 [00:00<00:00, 24.76it/s, Loss=0.00296]\n"
          ]
        },
        {
          "output_type": "stream",
          "name": "stdout",
          "text": [
            "Validation Loss: 0.1791, Accuracy: 0.9383, Precision: 0.9482, Recall: 0.9383, F1-Score: 0.9398\n",
            "Checkpoint saved at checkpoint.pth.tar\n",
            "Epoch [27/70] completed in 8.75 seconds\n"
          ]
        },
        {
          "output_type": "stream",
          "name": "stderr",
          "text": [
            "Epoch 28/70 - Training: 100%|██████████| 76/76 [00:07<00:00, 10.31it/s, Loss=2.52]\n"
          ]
        },
        {
          "output_type": "stream",
          "name": "stdout",
          "text": [
            "Epoch [28/70], Train Loss: 0.0917, Accuracy: 0.9817, Precision: 0.9818, Recall: 0.9817, F1-Score: 0.9817\n"
          ]
        },
        {
          "output_type": "stream",
          "name": "stderr",
          "text": [
            "Epoch 28/70 - Validation: 100%|██████████| 11/11 [00:00<00:00, 29.24it/s, Loss=0.00714]\n"
          ]
        },
        {
          "output_type": "stream",
          "name": "stdout",
          "text": [
            "Validation Loss: 0.2023, Accuracy: 0.9383, Precision: 0.9464, Recall: 0.9383, F1-Score: 0.9385\n",
            "Checkpoint saved at checkpoint.pth.tar\n",
            "Epoch [28/70] completed in 8.21 seconds\n"
          ]
        },
        {
          "output_type": "stream",
          "name": "stderr",
          "text": [
            "Epoch 29/70 - Training: 100%|██████████| 76/76 [00:07<00:00, 10.15it/s, Loss=3.32]\n"
          ]
        },
        {
          "output_type": "stream",
          "name": "stdout",
          "text": [
            "Epoch [29/70], Train Loss: 0.1118, Accuracy: 0.9717, Precision: 0.9717, Recall: 0.9717, F1-Score: 0.9717\n"
          ]
        },
        {
          "output_type": "stream",
          "name": "stderr",
          "text": [
            "Epoch 29/70 - Validation: 100%|██████████| 11/11 [00:00<00:00, 28.59it/s, Loss=0.00386]\n"
          ]
        },
        {
          "output_type": "stream",
          "name": "stdout",
          "text": [
            "Validation Loss: 0.4164, Accuracy: 0.8765, Precision: 0.9176, Recall: 0.8765, F1-Score: 0.8839\n",
            "Checkpoint saved at checkpoint.pth.tar\n",
            "Epoch [29/70] completed in 8.41 seconds\n"
          ]
        },
        {
          "output_type": "stream",
          "name": "stderr",
          "text": [
            "Epoch 30/70 - Training: 100%|██████████| 76/76 [00:07<00:00, 10.35it/s, Loss=0.968]\n"
          ]
        },
        {
          "output_type": "stream",
          "name": "stdout",
          "text": [
            "Epoch [30/70], Train Loss: 0.0975, Accuracy: 0.9767, Precision: 0.9773, Recall: 0.9767, F1-Score: 0.9768\n"
          ]
        },
        {
          "output_type": "stream",
          "name": "stderr",
          "text": [
            "Epoch 30/70 - Validation: 100%|██████████| 11/11 [00:00<00:00, 28.98it/s, Loss=0.00742]\n"
          ]
        },
        {
          "output_type": "stream",
          "name": "stdout",
          "text": [
            "Validation Loss: 0.1470, Accuracy: 0.9630, Precision: 0.9642, Recall: 0.9630, F1-Score: 0.9624\n",
            "Checkpoint saved at checkpoint.pth.tar\n",
            "Epoch [30/70] completed in 8.26 seconds\n"
          ]
        },
        {
          "output_type": "stream",
          "name": "stderr",
          "text": [
            "Epoch 31/70 - Training: 100%|██████████| 76/76 [00:07<00:00, 10.00it/s, Loss=1.58]\n"
          ]
        },
        {
          "output_type": "stream",
          "name": "stdout",
          "text": [
            "Epoch [31/70], Train Loss: 0.0340, Accuracy: 0.9967, Precision: 0.9967, Recall: 0.9967, F1-Score: 0.9967\n"
          ]
        },
        {
          "output_type": "stream",
          "name": "stderr",
          "text": [
            "Epoch 31/70 - Validation: 100%|██████████| 11/11 [00:00<00:00, 28.63it/s, Loss=1.99e-5]\n"
          ]
        },
        {
          "output_type": "stream",
          "name": "stdout",
          "text": [
            "Validation Loss: 0.2554, Accuracy: 0.9136, Precision: 0.9342, Recall: 0.9136, F1-Score: 0.9174\n",
            "Checkpoint saved at checkpoint.pth.tar\n",
            "Epoch [31/70] completed in 8.56 seconds\n"
          ]
        },
        {
          "output_type": "stream",
          "name": "stderr",
          "text": [
            "Epoch 32/70 - Training: 100%|██████████| 76/76 [00:07<00:00, 10.19it/s, Loss=1.3]\n"
          ]
        },
        {
          "output_type": "stream",
          "name": "stdout",
          "text": [
            "Epoch [32/70], Train Loss: 0.0281, Accuracy: 0.9983, Precision: 0.9984, Recall: 0.9983, F1-Score: 0.9983\n"
          ]
        },
        {
          "output_type": "stream",
          "name": "stderr",
          "text": [
            "Epoch 32/70 - Validation: 100%|██████████| 11/11 [00:00<00:00, 25.44it/s, Loss=3.73e-5]\n"
          ]
        },
        {
          "output_type": "stream",
          "name": "stdout",
          "text": [
            "Validation Loss: 0.1965, Accuracy: 0.9136, Precision: 0.9336, Recall: 0.9136, F1-Score: 0.9173\n",
            "Checkpoint saved at checkpoint.pth.tar\n",
            "Epoch [32/70] completed in 8.63 seconds\n"
          ]
        },
        {
          "output_type": "stream",
          "name": "stderr",
          "text": [
            "Epoch 33/70 - Training: 100%|██████████| 76/76 [00:07<00:00, 10.19it/s, Loss=4.68]\n"
          ]
        },
        {
          "output_type": "stream",
          "name": "stdout",
          "text": [
            "Epoch [33/70], Train Loss: 0.0768, Accuracy: 0.9917, Precision: 0.9917, Recall: 0.9917, F1-Score: 0.9917\n"
          ]
        },
        {
          "output_type": "stream",
          "name": "stderr",
          "text": [
            "Epoch 33/70 - Validation: 100%|██████████| 11/11 [00:00<00:00, 29.93it/s, Loss=2.49e-5]\n"
          ]
        },
        {
          "output_type": "stream",
          "name": "stdout",
          "text": [
            "Validation Loss: 0.2487, Accuracy: 0.9383, Precision: 0.9416, Recall: 0.9383, F1-Score: 0.9371\n",
            "Checkpoint saved at checkpoint.pth.tar\n",
            "Epoch [33/70] completed in 8.32 seconds\n"
          ]
        },
        {
          "output_type": "stream",
          "name": "stderr",
          "text": [
            "Epoch 34/70 - Training: 100%|██████████| 76/76 [00:07<00:00, 10.01it/s, Loss=0.38]\n"
          ]
        },
        {
          "output_type": "stream",
          "name": "stdout",
          "text": [
            "Epoch [34/70], Train Loss: 0.0327, Accuracy: 0.9917, Precision: 0.9917, Recall: 0.9917, F1-Score: 0.9917\n"
          ]
        },
        {
          "output_type": "stream",
          "name": "stderr",
          "text": [
            "Epoch 34/70 - Validation: 100%|██████████| 11/11 [00:00<00:00, 28.66it/s, Loss=2.99e-5]\n"
          ]
        },
        {
          "output_type": "stream",
          "name": "stdout",
          "text": [
            "Validation Loss: 0.3326, Accuracy: 0.9136, Precision: 0.9230, Recall: 0.9136, F1-Score: 0.9125\n",
            "Checkpoint saved at checkpoint.pth.tar\n",
            "Epoch [34/70] completed in 8.49 seconds\n"
          ]
        },
        {
          "output_type": "stream",
          "name": "stderr",
          "text": [
            "Epoch 35/70 - Training: 100%|██████████| 76/76 [00:07<00:00, 10.30it/s, Loss=2.66]\n"
          ]
        },
        {
          "output_type": "stream",
          "name": "stdout",
          "text": [
            "Epoch [35/70], Train Loss: 0.0962, Accuracy: 0.9750, Precision: 0.9752, Recall: 0.9750, F1-Score: 0.9751\n"
          ]
        },
        {
          "output_type": "stream",
          "name": "stderr",
          "text": [
            "Epoch 35/70 - Validation: 100%|██████████| 11/11 [00:00<00:00, 29.40it/s, Loss=0.0405]\n"
          ]
        },
        {
          "output_type": "stream",
          "name": "stdout",
          "text": [
            "Validation Loss: 0.1821, Accuracy: 0.9383, Precision: 0.9407, Recall: 0.9383, F1-Score: 0.9383\n",
            "Checkpoint saved at checkpoint.pth.tar\n",
            "Epoch [35/70] completed in 8.25 seconds\n"
          ]
        },
        {
          "output_type": "stream",
          "name": "stderr",
          "text": [
            "Epoch 36/70 - Training: 100%|██████████| 76/76 [00:07<00:00, 10.01it/s, Loss=1.33]\n"
          ]
        },
        {
          "output_type": "stream",
          "name": "stdout",
          "text": [
            "Epoch [36/70], Train Loss: 0.0966, Accuracy: 0.9734, Precision: 0.9734, Recall: 0.9734, F1-Score: 0.9734\n"
          ]
        },
        {
          "output_type": "stream",
          "name": "stderr",
          "text": [
            "Epoch 36/70 - Validation: 100%|██████████| 11/11 [00:00<00:00, 29.15it/s, Loss=0.000149]\n"
          ]
        },
        {
          "output_type": "stream",
          "name": "stdout",
          "text": [
            "Validation Loss: 0.3460, Accuracy: 0.9012, Precision: 0.9052, Recall: 0.9012, F1-Score: 0.9008\n",
            "Checkpoint saved at checkpoint.pth.tar\n",
            "Epoch [36/70] completed in 8.47 seconds\n"
          ]
        },
        {
          "output_type": "stream",
          "name": "stderr",
          "text": [
            "Epoch 37/70 - Training: 100%|██████████| 76/76 [00:07<00:00, 10.24it/s, Loss=0.211]\n"
          ]
        },
        {
          "output_type": "stream",
          "name": "stdout",
          "text": [
            "Epoch [37/70], Train Loss: 0.0369, Accuracy: 0.9817, Precision: 0.9817, Recall: 0.9817, F1-Score: 0.9817\n"
          ]
        },
        {
          "output_type": "stream",
          "name": "stderr",
          "text": [
            "Epoch 37/70 - Validation: 100%|██████████| 11/11 [00:00<00:00, 24.78it/s, Loss=0.000216]\n"
          ]
        },
        {
          "output_type": "stream",
          "name": "stdout",
          "text": [
            "Validation Loss: 0.2484, Accuracy: 0.9136, Precision: 0.9229, Recall: 0.9136, F1-Score: 0.9137\n",
            "Checkpoint saved at checkpoint.pth.tar\n",
            "Epoch [37/70] completed in 8.61 seconds\n"
          ]
        },
        {
          "output_type": "stream",
          "name": "stderr",
          "text": [
            "Epoch 38/70 - Training: 100%|██████████| 76/76 [00:07<00:00, 10.16it/s, Loss=2.81]\n"
          ]
        },
        {
          "output_type": "stream",
          "name": "stdout",
          "text": [
            "Epoch [38/70], Train Loss: 0.0665, Accuracy: 0.9900, Precision: 0.9901, Recall: 0.9900, F1-Score: 0.9900\n"
          ]
        },
        {
          "output_type": "stream",
          "name": "stderr",
          "text": [
            "Epoch 38/70 - Validation: 100%|██████████| 11/11 [00:00<00:00, 29.40it/s, Loss=0.000117]\n"
          ]
        },
        {
          "output_type": "stream",
          "name": "stdout",
          "text": [
            "Validation Loss: 0.3037, Accuracy: 0.9259, Precision: 0.9402, Recall: 0.9259, F1-Score: 0.9282\n",
            "Checkpoint saved at checkpoint.pth.tar\n",
            "Epoch [38/70] completed in 8.42 seconds\n"
          ]
        },
        {
          "output_type": "stream",
          "name": "stderr",
          "text": [
            "Epoch 39/70 - Training: 100%|██████████| 76/76 [00:07<00:00, 10.04it/s, Loss=1.77]\n"
          ]
        },
        {
          "output_type": "stream",
          "name": "stdout",
          "text": [
            "Epoch [39/70], Train Loss: 0.0479, Accuracy: 0.9850, Precision: 0.9854, Recall: 0.9850, F1-Score: 0.9851\n"
          ]
        },
        {
          "output_type": "stream",
          "name": "stderr",
          "text": [
            "Epoch 39/70 - Validation: 100%|██████████| 11/11 [00:00<00:00, 28.71it/s, Loss=1.92e-5]\n"
          ]
        },
        {
          "output_type": "stream",
          "name": "stdout",
          "text": [
            "Validation Loss: 0.3638, Accuracy: 0.9136, Precision: 0.9279, Recall: 0.9136, F1-Score: 0.9151\n",
            "Checkpoint saved at checkpoint.pth.tar\n",
            "Epoch [39/70] completed in 8.48 seconds\n"
          ]
        },
        {
          "output_type": "stream",
          "name": "stderr",
          "text": [
            "Epoch 40/70 - Training: 100%|██████████| 76/76 [00:07<00:00, 10.30it/s, Loss=2.08]\n"
          ]
        },
        {
          "output_type": "stream",
          "name": "stdout",
          "text": [
            "Epoch [40/70], Train Loss: 0.0412, Accuracy: 0.9933, Precision: 0.9933, Recall: 0.9933, F1-Score: 0.9933\n"
          ]
        },
        {
          "output_type": "stream",
          "name": "stderr",
          "text": [
            "Epoch 40/70 - Validation: 100%|██████████| 11/11 [00:00<00:00, 29.40it/s, Loss=0.00293]\n"
          ]
        },
        {
          "output_type": "stream",
          "name": "stdout",
          "text": [
            "Validation Loss: 0.1486, Accuracy: 0.9383, Precision: 0.9398, Recall: 0.9383, F1-Score: 0.9387\n",
            "Checkpoint saved at checkpoint.pth.tar\n",
            "Epoch [40/70] completed in 8.33 seconds\n"
          ]
        },
        {
          "output_type": "stream",
          "name": "stderr",
          "text": [
            "Epoch 41/70 - Training: 100%|██████████| 76/76 [00:07<00:00, 10.02it/s, Loss=1.61]\n"
          ]
        },
        {
          "output_type": "stream",
          "name": "stdout",
          "text": [
            "Epoch [41/70], Train Loss: 0.0338, Accuracy: 0.9917, Precision: 0.9918, Recall: 0.9917, F1-Score: 0.9917\n"
          ]
        },
        {
          "output_type": "stream",
          "name": "stderr",
          "text": [
            "Epoch 41/70 - Validation: 100%|██████████| 11/11 [00:00<00:00, 28.55it/s, Loss=0.0152]\n"
          ]
        },
        {
          "output_type": "stream",
          "name": "stdout",
          "text": [
            "Validation Loss: 0.2289, Accuracy: 0.9136, Precision: 0.9237, Recall: 0.9136, F1-Score: 0.9149\n",
            "Checkpoint saved at checkpoint.pth.tar\n",
            "Epoch [41/70] completed in 8.43 seconds\n"
          ]
        },
        {
          "output_type": "stream",
          "name": "stderr",
          "text": [
            "Epoch 42/70 - Training: 100%|██████████| 76/76 [00:07<00:00, 10.15it/s, Loss=3.36]\n"
          ]
        },
        {
          "output_type": "stream",
          "name": "stdout",
          "text": [
            "Epoch [42/70], Train Loss: 0.0632, Accuracy: 0.9917, Precision: 0.9918, Recall: 0.9917, F1-Score: 0.9917\n"
          ]
        },
        {
          "output_type": "stream",
          "name": "stderr",
          "text": [
            "Epoch 42/70 - Validation: 100%|██████████| 11/11 [00:00<00:00, 24.49it/s, Loss=0.000464]\n"
          ]
        },
        {
          "output_type": "stream",
          "name": "stdout",
          "text": [
            "Validation Loss: 0.2783, Accuracy: 0.8889, Precision: 0.9227, Recall: 0.8889, F1-Score: 0.8950\n",
            "Checkpoint saved at checkpoint.pth.tar\n",
            "Epoch [42/70] completed in 8.77 seconds\n"
          ]
        },
        {
          "output_type": "stream",
          "name": "stderr",
          "text": [
            "Epoch 43/70 - Training: 100%|██████████| 76/76 [00:07<00:00, 10.09it/s, Loss=2.25]\n"
          ]
        },
        {
          "output_type": "stream",
          "name": "stdout",
          "text": [
            "Epoch [43/70], Train Loss: 0.0444, Accuracy: 0.9950, Precision: 0.9950, Recall: 0.9950, F1-Score: 0.9950\n"
          ]
        },
        {
          "output_type": "stream",
          "name": "stderr",
          "text": [
            "Epoch 43/70 - Validation: 100%|██████████| 11/11 [00:00<00:00, 28.54it/s, Loss=0.000248]\n"
          ]
        },
        {
          "output_type": "stream",
          "name": "stdout",
          "text": [
            "Validation Loss: 0.2142, Accuracy: 0.9383, Precision: 0.9475, Recall: 0.9383, F1-Score: 0.9397\n",
            "Checkpoint saved at checkpoint.pth.tar\n",
            "Epoch [43/70] completed in 8.42 seconds\n"
          ]
        },
        {
          "output_type": "stream",
          "name": "stderr",
          "text": [
            "Epoch 44/70 - Training: 100%|██████████| 76/76 [00:07<00:00,  9.98it/s, Loss=1.64]\n"
          ]
        },
        {
          "output_type": "stream",
          "name": "stdout",
          "text": [
            "Epoch [44/70], Train Loss: 0.0341, Accuracy: 0.9967, Precision: 0.9967, Recall: 0.9967, F1-Score: 0.9967\n"
          ]
        },
        {
          "output_type": "stream",
          "name": "stderr",
          "text": [
            "Epoch 44/70 - Validation: 100%|██████████| 11/11 [00:00<00:00, 28.40it/s, Loss=0.00136]\n"
          ]
        },
        {
          "output_type": "stream",
          "name": "stdout",
          "text": [
            "Validation Loss: 0.2636, Accuracy: 0.9259, Precision: 0.9314, Recall: 0.9259, F1-Score: 0.9250\n",
            "Checkpoint saved at checkpoint.pth.tar\n",
            "Epoch [44/70] completed in 8.55 seconds\n"
          ]
        },
        {
          "output_type": "stream",
          "name": "stderr",
          "text": [
            "Epoch 45/70 - Training: 100%|██████████| 76/76 [00:07<00:00, 10.26it/s, Loss=3.27]\n"
          ]
        },
        {
          "output_type": "stream",
          "name": "stdout",
          "text": [
            "Epoch [45/70], Train Loss: 0.0521, Accuracy: 0.9950, Precision: 0.9951, Recall: 0.9950, F1-Score: 0.9950\n"
          ]
        },
        {
          "output_type": "stream",
          "name": "stderr",
          "text": [
            "Epoch 45/70 - Validation: 100%|██████████| 11/11 [00:00<00:00, 28.22it/s, Loss=0.000106]\n"
          ]
        },
        {
          "output_type": "stream",
          "name": "stdout",
          "text": [
            "Validation Loss: 0.2382, Accuracy: 0.9136, Precision: 0.9336, Recall: 0.9136, F1-Score: 0.9174\n",
            "Checkpoint saved at checkpoint.pth.tar\n",
            "Epoch [45/70] completed in 8.27 seconds\n"
          ]
        },
        {
          "output_type": "stream",
          "name": "stderr",
          "text": [
            "Epoch 46/70 - Training: 100%|██████████| 76/76 [00:07<00:00,  9.79it/s, Loss=1.66]\n"
          ]
        },
        {
          "output_type": "stream",
          "name": "stdout",
          "text": [
            "Epoch [46/70], Train Loss: 0.0436, Accuracy: 0.9867, Precision: 0.9869, Recall: 0.9867, F1-Score: 0.9867\n"
          ]
        },
        {
          "output_type": "stream",
          "name": "stderr",
          "text": [
            "Epoch 46/70 - Validation: 100%|██████████| 11/11 [00:00<00:00, 24.68it/s, Loss=0.000495]\n"
          ]
        },
        {
          "output_type": "stream",
          "name": "stdout",
          "text": [
            "Validation Loss: 0.1796, Accuracy: 0.9259, Precision: 0.9408, Recall: 0.9259, F1-Score: 0.9287\n",
            "Checkpoint saved at checkpoint.pth.tar\n",
            "Epoch [46/70] completed in 8.98 seconds\n"
          ]
        },
        {
          "output_type": "stream",
          "name": "stderr",
          "text": [
            "Epoch 47/70 - Training: 100%|██████████| 76/76 [00:07<00:00, 10.07it/s, Loss=0.309]\n"
          ]
        },
        {
          "output_type": "stream",
          "name": "stdout",
          "text": [
            "Epoch [47/70], Train Loss: 0.0323, Accuracy: 0.9850, Precision: 0.9852, Recall: 0.9850, F1-Score: 0.9850\n"
          ]
        },
        {
          "output_type": "stream",
          "name": "stderr",
          "text": [
            "Epoch 47/70 - Validation: 100%|██████████| 11/11 [00:00<00:00, 26.69it/s, Loss=0.000176]\n"
          ]
        },
        {
          "output_type": "stream",
          "name": "stdout",
          "text": [
            "Validation Loss: 0.2722, Accuracy: 0.9383, Precision: 0.9405, Recall: 0.9383, F1-Score: 0.9376\n",
            "Checkpoint saved at checkpoint.pth.tar\n",
            "Epoch [47/70] completed in 8.68 seconds\n"
          ]
        },
        {
          "output_type": "stream",
          "name": "stderr",
          "text": [
            "Epoch 48/70 - Training: 100%|██████████| 76/76 [00:07<00:00, 10.16it/s, Loss=1.05]\n"
          ]
        },
        {
          "output_type": "stream",
          "name": "stdout",
          "text": [
            "Epoch [48/70], Train Loss: 0.0285, Accuracy: 0.9917, Precision: 0.9917, Recall: 0.9917, F1-Score: 0.9917\n"
          ]
        },
        {
          "output_type": "stream",
          "name": "stderr",
          "text": [
            "Epoch 48/70 - Validation: 100%|██████████| 11/11 [00:00<00:00, 28.37it/s, Loss=0.000537]\n"
          ]
        },
        {
          "output_type": "stream",
          "name": "stdout",
          "text": [
            "Validation Loss: 0.1493, Accuracy: 0.9506, Precision: 0.9518, Recall: 0.9506, F1-Score: 0.9500\n",
            "Checkpoint saved at checkpoint.pth.tar\n",
            "Epoch [48/70] completed in 8.40 seconds\n"
          ]
        },
        {
          "output_type": "stream",
          "name": "stderr",
          "text": [
            "Epoch 49/70 - Training: 100%|██████████| 76/76 [00:07<00:00, 10.06it/s, Loss=0.0848]\n"
          ]
        },
        {
          "output_type": "stream",
          "name": "stdout",
          "text": [
            "Epoch [49/70], Train Loss: 0.0255, Accuracy: 0.9933, Precision: 0.9934, Recall: 0.9933, F1-Score: 0.9933\n"
          ]
        },
        {
          "output_type": "stream",
          "name": "stderr",
          "text": [
            "Epoch 49/70 - Validation: 100%|██████████| 11/11 [00:00<00:00, 25.65it/s, Loss=0.00858]\n"
          ]
        },
        {
          "output_type": "stream",
          "name": "stdout",
          "text": [
            "Validation Loss: 0.2091, Accuracy: 0.9383, Precision: 0.9444, Recall: 0.9383, F1-Score: 0.9390\n",
            "Checkpoint saved at checkpoint.pth.tar\n",
            "Epoch [49/70] completed in 8.64 seconds\n"
          ]
        },
        {
          "output_type": "stream",
          "name": "stderr",
          "text": [
            "Epoch 50/70 - Training: 100%|██████████| 76/76 [00:07<00:00, 10.32it/s, Loss=0.158]\n"
          ]
        },
        {
          "output_type": "stream",
          "name": "stdout",
          "text": [
            "Epoch [50/70], Train Loss: 0.0109, Accuracy: 0.9983, Precision: 0.9984, Recall: 0.9983, F1-Score: 0.9983\n"
          ]
        },
        {
          "output_type": "stream",
          "name": "stderr",
          "text": [
            "Epoch 50/70 - Validation: 100%|██████████| 11/11 [00:00<00:00, 27.64it/s, Loss=0.000298]\n"
          ]
        },
        {
          "output_type": "stream",
          "name": "stdout",
          "text": [
            "Validation Loss: 0.1919, Accuracy: 0.9259, Precision: 0.9352, Recall: 0.9259, F1-Score: 0.9272\n",
            "Checkpoint saved at checkpoint.pth.tar\n",
            "Epoch [50/70] completed in 8.27 seconds\n"
          ]
        },
        {
          "output_type": "stream",
          "name": "stderr",
          "text": [
            "Epoch 51/70 - Training: 100%|██████████| 76/76 [00:07<00:00,  9.97it/s, Loss=3.21]\n"
          ]
        },
        {
          "output_type": "stream",
          "name": "stdout",
          "text": [
            "Epoch [51/70], Train Loss: 0.0509, Accuracy: 0.9933, Precision: 0.9933, Recall: 0.9933, F1-Score: 0.9933\n"
          ]
        },
        {
          "output_type": "stream",
          "name": "stderr",
          "text": [
            "Epoch 51/70 - Validation: 100%|██████████| 11/11 [00:00<00:00, 29.26it/s, Loss=0.00348]\n"
          ]
        },
        {
          "output_type": "stream",
          "name": "stdout",
          "text": [
            "Validation Loss: 0.2323, Accuracy: 0.9383, Precision: 0.9405, Recall: 0.9383, F1-Score: 0.9376\n",
            "Checkpoint saved at checkpoint.pth.tar\n",
            "Epoch [51/70] completed in 8.55 seconds\n"
          ]
        },
        {
          "output_type": "stream",
          "name": "stderr",
          "text": [
            "Epoch 52/70 - Training: 100%|██████████| 76/76 [00:07<00:00, 10.23it/s, Loss=0.51]\n"
          ]
        },
        {
          "output_type": "stream",
          "name": "stdout",
          "text": [
            "Epoch [52/70], Train Loss: 0.0368, Accuracy: 0.9867, Precision: 0.9868, Recall: 0.9867, F1-Score: 0.9867\n"
          ]
        },
        {
          "output_type": "stream",
          "name": "stderr",
          "text": [
            "Epoch 52/70 - Validation: 100%|██████████| 11/11 [00:00<00:00, 26.00it/s, Loss=0.000362]\n"
          ]
        },
        {
          "output_type": "stream",
          "name": "stdout",
          "text": [
            "Validation Loss: 0.1964, Accuracy: 0.9383, Precision: 0.9487, Recall: 0.9383, F1-Score: 0.9397\n",
            "Checkpoint saved at checkpoint.pth.tar\n",
            "Epoch [52/70] completed in 8.60 seconds\n"
          ]
        },
        {
          "output_type": "stream",
          "name": "stderr",
          "text": [
            "Epoch 53/70 - Training: 100%|██████████| 76/76 [00:07<00:00, 10.08it/s, Loss=1.49]\n"
          ]
        },
        {
          "output_type": "stream",
          "name": "stdout",
          "text": [
            "Epoch [53/70], Train Loss: 0.0403, Accuracy: 0.9900, Precision: 0.9901, Recall: 0.9900, F1-Score: 0.9900\n"
          ]
        },
        {
          "output_type": "stream",
          "name": "stderr",
          "text": [
            "Epoch 53/70 - Validation: 100%|██████████| 11/11 [00:00<00:00, 29.16it/s, Loss=0.000141]\n"
          ]
        },
        {
          "output_type": "stream",
          "name": "stdout",
          "text": [
            "Validation Loss: 0.1886, Accuracy: 0.9630, Precision: 0.9636, Recall: 0.9630, F1-Score: 0.9626\n",
            "Checkpoint saved at checkpoint.pth.tar\n",
            "Epoch [53/70] completed in 8.52 seconds\n"
          ]
        },
        {
          "output_type": "stream",
          "name": "stderr",
          "text": [
            "Epoch 54/70 - Training: 100%|██████████| 76/76 [00:07<00:00, 10.11it/s, Loss=3.61]\n"
          ]
        },
        {
          "output_type": "stream",
          "name": "stdout",
          "text": [
            "Epoch [54/70], Train Loss: 0.0662, Accuracy: 0.9884, Precision: 0.9887, Recall: 0.9884, F1-Score: 0.9884\n"
          ]
        },
        {
          "output_type": "stream",
          "name": "stderr",
          "text": [
            "Epoch 54/70 - Validation: 100%|██████████| 11/11 [00:00<00:00, 23.33it/s, Loss=0.000554]\n"
          ]
        },
        {
          "output_type": "stream",
          "name": "stdout",
          "text": [
            "Validation Loss: 0.1665, Accuracy: 0.9383, Precision: 0.9481, Recall: 0.9383, F1-Score: 0.9398\n",
            "Checkpoint saved at checkpoint.pth.tar\n",
            "Epoch [54/70] completed in 8.66 seconds\n"
          ]
        },
        {
          "output_type": "stream",
          "name": "stderr",
          "text": [
            "Epoch 55/70 - Training: 100%|██████████| 76/76 [00:07<00:00, 10.29it/s, Loss=3.56]\n"
          ]
        },
        {
          "output_type": "stream",
          "name": "stdout",
          "text": [
            "Epoch [55/70], Train Loss: 0.0610, Accuracy: 0.9917, Precision: 0.9917, Recall: 0.9917, F1-Score: 0.9917\n"
          ]
        },
        {
          "output_type": "stream",
          "name": "stderr",
          "text": [
            "Epoch 55/70 - Validation: 100%|██████████| 11/11 [00:00<00:00, 28.75it/s, Loss=0.00153]\n"
          ]
        },
        {
          "output_type": "stream",
          "name": "stdout",
          "text": [
            "Validation Loss: 0.1639, Accuracy: 0.9506, Precision: 0.9610, Recall: 0.9506, F1-Score: 0.9521\n",
            "Checkpoint saved at checkpoint.pth.tar\n",
            "Epoch [55/70] completed in 8.35 seconds\n"
          ]
        },
        {
          "output_type": "stream",
          "name": "stderr",
          "text": [
            "Epoch 56/70 - Training: 100%|██████████| 76/76 [00:07<00:00,  9.94it/s, Loss=0.304]\n"
          ]
        },
        {
          "output_type": "stream",
          "name": "stdout",
          "text": [
            "Epoch [56/70], Train Loss: 0.0458, Accuracy: 0.9884, Precision: 0.9885, Recall: 0.9884, F1-Score: 0.9884\n"
          ]
        },
        {
          "output_type": "stream",
          "name": "stderr",
          "text": [
            "Epoch 56/70 - Validation: 100%|██████████| 11/11 [00:00<00:00, 28.65it/s, Loss=3.86e-5]\n"
          ]
        },
        {
          "output_type": "stream",
          "name": "stdout",
          "text": [
            "Validation Loss: 0.3276, Accuracy: 0.8889, Precision: 0.9306, Recall: 0.8889, F1-Score: 0.8972\n",
            "Checkpoint saved at checkpoint.pth.tar\n",
            "Epoch [56/70] completed in 8.49 seconds\n"
          ]
        },
        {
          "output_type": "stream",
          "name": "stderr",
          "text": [
            "Epoch 57/70 - Training: 100%|██████████| 76/76 [00:07<00:00, 10.24it/s, Loss=2.94]\n"
          ]
        },
        {
          "output_type": "stream",
          "name": "stdout",
          "text": [
            "Epoch [57/70], Train Loss: 0.0516, Accuracy: 0.9917, Precision: 0.9917, Recall: 0.9917, F1-Score: 0.9917\n"
          ]
        },
        {
          "output_type": "stream",
          "name": "stderr",
          "text": [
            "Epoch 57/70 - Validation: 100%|██████████| 11/11 [00:00<00:00, 25.57it/s, Loss=0.000153]\n"
          ]
        },
        {
          "output_type": "stream",
          "name": "stdout",
          "text": [
            "Validation Loss: 0.1896, Accuracy: 0.9506, Precision: 0.9568, Recall: 0.9506, F1-Score: 0.9510\n",
            "Checkpoint saved at checkpoint.pth.tar\n",
            "Epoch [57/70] completed in 8.95 seconds\n"
          ]
        },
        {
          "output_type": "stream",
          "name": "stderr",
          "text": [
            "Epoch 58/70 - Training: 100%|██████████| 76/76 [00:07<00:00, 10.03it/s, Loss=2.94]\n"
          ]
        },
        {
          "output_type": "stream",
          "name": "stdout",
          "text": [
            "Epoch [58/70], Train Loss: 0.0653, Accuracy: 0.9900, Precision: 0.9901, Recall: 0.9900, F1-Score: 0.9900\n"
          ]
        },
        {
          "output_type": "stream",
          "name": "stderr",
          "text": [
            "Epoch 58/70 - Validation: 100%|██████████| 11/11 [00:00<00:00, 28.73it/s, Loss=0.00176]\n"
          ]
        },
        {
          "output_type": "stream",
          "name": "stdout",
          "text": [
            "Validation Loss: 0.0953, Accuracy: 0.9506, Precision: 0.9526, Recall: 0.9506, F1-Score: 0.9505\n",
            "Checkpoint saved at checkpoint.pth.tar\n",
            "Epoch [58/70] completed in 8.77 seconds\n"
          ]
        },
        {
          "output_type": "stream",
          "name": "stderr",
          "text": [
            "Epoch 59/70 - Training: 100%|██████████| 76/76 [00:07<00:00, 10.01it/s, Loss=0.502]\n"
          ]
        },
        {
          "output_type": "stream",
          "name": "stdout",
          "text": [
            "Epoch [59/70], Train Loss: 0.0225, Accuracy: 0.9950, Precision: 0.9950, Recall: 0.9950, F1-Score: 0.9950\n"
          ]
        },
        {
          "output_type": "stream",
          "name": "stderr",
          "text": [
            "Epoch 59/70 - Validation: 100%|██████████| 11/11 [00:00<00:00, 24.53it/s, Loss=0.00108]\n"
          ]
        },
        {
          "output_type": "stream",
          "name": "stdout",
          "text": [
            "Validation Loss: 0.0526, Accuracy: 0.9877, Precision: 0.9881, Recall: 0.9877, F1-Score: 0.9876\n",
            "Checkpoint saved at checkpoint.pth.tar\n",
            "Epoch [59/70] completed in 8.93 seconds\n"
          ]
        },
        {
          "output_type": "stream",
          "name": "stderr",
          "text": [
            "Epoch 60/70 - Training: 100%|██████████| 76/76 [00:07<00:00, 10.28it/s, Loss=4.91]\n"
          ]
        },
        {
          "output_type": "stream",
          "name": "stdout",
          "text": [
            "Epoch [60/70], Train Loss: 0.0713, Accuracy: 0.9950, Precision: 0.9951, Recall: 0.9950, F1-Score: 0.9950\n"
          ]
        },
        {
          "output_type": "stream",
          "name": "stderr",
          "text": [
            "Epoch 60/70 - Validation: 100%|██████████| 11/11 [00:00<00:00, 27.83it/s, Loss=0.000197]\n"
          ]
        },
        {
          "output_type": "stream",
          "name": "stdout",
          "text": [
            "Validation Loss: 0.0686, Accuracy: 0.9753, Precision: 0.9765, Recall: 0.9753, F1-Score: 0.9753\n",
            "Checkpoint saved at checkpoint.pth.tar\n",
            "Epoch [60/70] completed in 8.27 seconds\n"
          ]
        },
        {
          "output_type": "stream",
          "name": "stderr",
          "text": [
            "Epoch 61/70 - Training: 100%|██████████| 76/76 [00:07<00:00, 10.11it/s, Loss=2.63]\n"
          ]
        },
        {
          "output_type": "stream",
          "name": "stdout",
          "text": [
            "Epoch [61/70], Train Loss: 0.0525, Accuracy: 0.9917, Precision: 0.9918, Recall: 0.9917, F1-Score: 0.9917\n"
          ]
        },
        {
          "output_type": "stream",
          "name": "stderr",
          "text": [
            "Epoch 61/70 - Validation: 100%|██████████| 11/11 [00:00<00:00, 29.29it/s, Loss=8.2e-5]\n"
          ]
        },
        {
          "output_type": "stream",
          "name": "stdout",
          "text": [
            "Validation Loss: 0.1150, Accuracy: 0.9506, Precision: 0.9562, Recall: 0.9506, F1-Score: 0.9516\n",
            "Checkpoint saved at checkpoint.pth.tar\n",
            "Epoch [61/70] completed in 8.37 seconds\n"
          ]
        },
        {
          "output_type": "stream",
          "name": "stderr",
          "text": [
            "Epoch 62/70 - Training: 100%|██████████| 76/76 [00:07<00:00, 10.23it/s, Loss=2.19]\n"
          ]
        },
        {
          "output_type": "stream",
          "name": "stdout",
          "text": [
            "Epoch [62/70], Train Loss: 0.0455, Accuracy: 0.9900, Precision: 0.9902, Recall: 0.9900, F1-Score: 0.9900\n"
          ]
        },
        {
          "output_type": "stream",
          "name": "stderr",
          "text": [
            "Epoch 62/70 - Validation: 100%|██████████| 11/11 [00:00<00:00, 26.22it/s, Loss=3.93e-5]\n"
          ]
        },
        {
          "output_type": "stream",
          "name": "stdout",
          "text": [
            "Validation Loss: 0.2247, Accuracy: 0.9383, Precision: 0.9453, Recall: 0.9383, F1-Score: 0.9388\n",
            "Checkpoint saved at checkpoint.pth.tar\n",
            "Epoch [62/70] completed in 8.57 seconds\n"
          ]
        },
        {
          "output_type": "stream",
          "name": "stderr",
          "text": [
            "Epoch 63/70 - Training: 100%|██████████| 76/76 [00:07<00:00, 10.00it/s, Loss=3.29]\n"
          ]
        },
        {
          "output_type": "stream",
          "name": "stdout",
          "text": [
            "Epoch [63/70], Train Loss: 0.0588, Accuracy: 0.9933, Precision: 0.9934, Recall: 0.9933, F1-Score: 0.9933\n"
          ]
        },
        {
          "output_type": "stream",
          "name": "stderr",
          "text": [
            "Epoch 63/70 - Validation: 100%|██████████| 11/11 [00:00<00:00, 29.19it/s, Loss=7.59e-5]\n"
          ]
        },
        {
          "output_type": "stream",
          "name": "stdout",
          "text": [
            "Validation Loss: 0.2315, Accuracy: 0.9136, Precision: 0.9272, Recall: 0.9136, F1-Score: 0.9150\n",
            "Checkpoint saved at checkpoint.pth.tar\n",
            "Epoch [63/70] completed in 8.44 seconds\n"
          ]
        },
        {
          "output_type": "stream",
          "name": "stderr",
          "text": [
            "Epoch 64/70 - Training: 100%|██████████| 76/76 [00:07<00:00, 10.06it/s, Loss=2.36]\n"
          ]
        },
        {
          "output_type": "stream",
          "name": "stdout",
          "text": [
            "Epoch [64/70], Train Loss: 0.0465, Accuracy: 0.9933, Precision: 0.9935, Recall: 0.9933, F1-Score: 0.9934\n"
          ]
        },
        {
          "output_type": "stream",
          "name": "stderr",
          "text": [
            "Epoch 64/70 - Validation: 100%|██████████| 11/11 [00:00<00:00, 24.04it/s, Loss=3.64e-5]\n"
          ]
        },
        {
          "output_type": "stream",
          "name": "stdout",
          "text": [
            "Validation Loss: 0.3113, Accuracy: 0.9012, Precision: 0.9356, Recall: 0.9012, F1-Score: 0.9084\n",
            "Checkpoint saved at checkpoint.pth.tar\n",
            "Epoch [64/70] completed in 8.76 seconds\n"
          ]
        },
        {
          "output_type": "stream",
          "name": "stderr",
          "text": [
            "Epoch 65/70 - Training: 100%|██████████| 76/76 [00:07<00:00, 10.28it/s, Loss=2.83]\n"
          ]
        },
        {
          "output_type": "stream",
          "name": "stdout",
          "text": [
            "Epoch [65/70], Train Loss: 0.0534, Accuracy: 0.9884, Precision: 0.9884, Recall: 0.9884, F1-Score: 0.9884\n"
          ]
        },
        {
          "output_type": "stream",
          "name": "stderr",
          "text": [
            "Epoch 65/70 - Validation: 100%|██████████| 11/11 [00:00<00:00, 28.78it/s, Loss=1.73e-5]\n"
          ]
        },
        {
          "output_type": "stream",
          "name": "stdout",
          "text": [
            "Validation Loss: 0.1221, Accuracy: 0.9383, Precision: 0.9433, Recall: 0.9383, F1-Score: 0.9386\n",
            "Checkpoint saved at checkpoint.pth.tar\n",
            "Epoch [65/70] completed in 8.26 seconds\n"
          ]
        },
        {
          "output_type": "stream",
          "name": "stderr",
          "text": [
            "Epoch 66/70 - Training: 100%|██████████| 76/76 [00:07<00:00,  9.96it/s, Loss=0.0384]\n"
          ]
        },
        {
          "output_type": "stream",
          "name": "stdout",
          "text": [
            "Epoch [66/70], Train Loss: 0.0073, Accuracy: 0.9983, Precision: 0.9983, Recall: 0.9983, F1-Score: 0.9983\n"
          ]
        },
        {
          "output_type": "stream",
          "name": "stderr",
          "text": [
            "Epoch 66/70 - Validation: 100%|██████████| 11/11 [00:00<00:00, 28.40it/s, Loss=2.86e-6]\n"
          ]
        },
        {
          "output_type": "stream",
          "name": "stdout",
          "text": [
            "Validation Loss: 0.2795, Accuracy: 0.9259, Precision: 0.9351, Recall: 0.9259, F1-Score: 0.9268\n",
            "Checkpoint saved at checkpoint.pth.tar\n",
            "Epoch [66/70] completed in 8.51 seconds\n"
          ]
        },
        {
          "output_type": "stream",
          "name": "stderr",
          "text": [
            "Epoch 67/70 - Training: 100%|██████████| 76/76 [00:07<00:00, 10.24it/s, Loss=0.401]\n"
          ]
        },
        {
          "output_type": "stream",
          "name": "stdout",
          "text": [
            "Epoch [67/70], Train Loss: 0.0377, Accuracy: 0.9867, Precision: 0.9867, Recall: 0.9867, F1-Score: 0.9867\n"
          ]
        },
        {
          "output_type": "stream",
          "name": "stderr",
          "text": [
            "Epoch 67/70 - Validation: 100%|██████████| 11/11 [00:00<00:00, 28.33it/s, Loss=0.000259]\n"
          ]
        },
        {
          "output_type": "stream",
          "name": "stdout",
          "text": [
            "Validation Loss: 0.3095, Accuracy: 0.8765, Precision: 0.9170, Recall: 0.8765, F1-Score: 0.8843\n",
            "Checkpoint saved at checkpoint.pth.tar\n",
            "Epoch [67/70] completed in 8.53 seconds\n"
          ]
        },
        {
          "output_type": "stream",
          "name": "stderr",
          "text": [
            "Epoch 68/70 - Training: 100%|██████████| 76/76 [00:07<00:00,  9.97it/s, Loss=0.276]\n"
          ]
        },
        {
          "output_type": "stream",
          "name": "stdout",
          "text": [
            "Epoch [68/70], Train Loss: 0.0120, Accuracy: 0.9983, Precision: 0.9983, Recall: 0.9983, F1-Score: 0.9983\n"
          ]
        },
        {
          "output_type": "stream",
          "name": "stderr",
          "text": [
            "Epoch 68/70 - Validation: 100%|██████████| 11/11 [00:00<00:00, 28.19it/s, Loss=0.00129]\n"
          ]
        },
        {
          "output_type": "stream",
          "name": "stdout",
          "text": [
            "Validation Loss: 0.3428, Accuracy: 0.9012, Precision: 0.9287, Recall: 0.9012, F1-Score: 0.9055\n",
            "Checkpoint saved at checkpoint.pth.tar\n",
            "Epoch [68/70] completed in 8.50 seconds\n"
          ]
        },
        {
          "output_type": "stream",
          "name": "stderr",
          "text": [
            "Epoch 69/70 - Training: 100%|██████████| 76/76 [00:07<00:00,  9.99it/s, Loss=3.98]\n"
          ]
        },
        {
          "output_type": "stream",
          "name": "stdout",
          "text": [
            "Epoch [69/70], Train Loss: 0.0576, Accuracy: 0.9950, Precision: 0.9951, Recall: 0.9950, F1-Score: 0.9950\n"
          ]
        },
        {
          "output_type": "stream",
          "name": "stderr",
          "text": [
            "Epoch 69/70 - Validation: 100%|██████████| 11/11 [00:00<00:00, 25.29it/s, Loss=0.00054]\n"
          ]
        },
        {
          "output_type": "stream",
          "name": "stdout",
          "text": [
            "Validation Loss: 0.1702, Accuracy: 0.9383, Precision: 0.9439, Recall: 0.9383, F1-Score: 0.9387\n",
            "Checkpoint saved at checkpoint.pth.tar\n",
            "Epoch [69/70] completed in 8.85 seconds\n"
          ]
        },
        {
          "output_type": "stream",
          "name": "stderr",
          "text": [
            "Epoch 70/70 - Training: 100%|██████████| 76/76 [00:07<00:00, 10.17it/s, Loss=1.62]\n"
          ]
        },
        {
          "output_type": "stream",
          "name": "stdout",
          "text": [
            "Epoch [70/70], Train Loss: 0.0381, Accuracy: 0.9933, Precision: 0.9934, Recall: 0.9933, F1-Score: 0.9934\n"
          ]
        },
        {
          "output_type": "stream",
          "name": "stderr",
          "text": [
            "Epoch 70/70 - Validation: 100%|██████████| 11/11 [00:00<00:00, 28.82it/s, Loss=0.000182]\n"
          ]
        },
        {
          "output_type": "stream",
          "name": "stdout",
          "text": [
            "Validation Loss: 0.3554, Accuracy: 0.9012, Precision: 0.9282, Recall: 0.9012, F1-Score: 0.9059\n",
            "Checkpoint saved at checkpoint.pth.tar\n",
            "Epoch [70/70] completed in 8.38 seconds\n",
            "Total training time: 604.13 seconds\n"
          ]
        },
        {
          "output_type": "display_data",
          "data": {
            "text/plain": [
              "<Figure size 1000x500 with 1 Axes>"
            ],
            "image/png": "[encoded data removed]"
          },
          "metadata": {}
        }
      ],
      "source": [
        "# Fungsi untuk menyimpan checkpoint\n",
        "def save_checkpoint(state, filename='checkpoint.pth.tar'):\n",
        "    torch.save(state, filename)\n",
        "    print(f\"Checkpoint saved at {filename}\")\n",
        "\n",
        "# Fungsi untuk memuat checkpoint\n",
        "def load_checkpoint(filename):\n",
        "    checkpoint = torch.load(filename)\n",
        "    model.load_state_dict(checkpoint['state_dict'])\n",
        "    optimizer.load_state_dict(checkpoint['optimizer'])\n",
        "    start_epoch = checkpoint['epoch'] + 1\n",
        "    train_losses = checkpoint['train_losses']\n",
        "    valid_losses = checkpoint['valid_losses']\n",
        "    print(f\"Checkpoint loaded from {filename}, starting at epoch {start_epoch}\")\n",
        "    return start_epoch, train_losses, valid_losses\n",
        "\n",
        "# Optimizer dan fungsi loss\n",
        "# Definisikan optimizer dengan L2 regularization (weight decay)\n",
        "optimizer = optim.SGD(model.parameters(), lr=0.001, momentum = 0.9)\n",
        "criterion = nn.CrossEntropyLoss()\n",
        "\n",
        "# Variables to track time\n",
        "total_training_time = 0\n",
        "total_testing_time = 0\n",
        "\n",
        "# Training loop with checkpoint, metrics, and timing\n",
        "num_epochs = 70\n",
        "best_valid_loss = float('inf')\n",
        "train_losses = []\n",
        "valid_losses = []\n",
        "train_accuracies = []\n",
        "valid_accuracies = []\n",
        "\n",
        "start_epoch = 0\n",
        "checkpoint_file = 'checkpoint.pth.tar'\n",
        "if os.path.exists(checkpoint_file):\n",
        "    start_epoch, train_losses, valid_losses = load_checkpoint(checkpoint_file)\n",
        "\n",
        "# Start total training time\n",
        "training_start_time = time.time()\n",
        "\n",
        "for epoch in range(start_epoch, num_epochs):\n",
        "    epoch_start_time = time.time()  # Start time for each epoch\n",
        "\n",
        "    model.train()\n",
        "    train_loss = 0\n",
        "    true_labels_train = []\n",
        "    predicted_labels_train = []\n",
        "\n",
        "    train_loader_tqdm = tqdm(train_loader, desc=f\"Epoch {epoch+1}/{num_epochs} - Training\")\n",
        "    for images, labels in train_loader_tqdm:\n",
        "        images, labels = images.to(device), labels.to(device)\n",
        "        if images.dim() == 3:\n",
        "            images = images.unsqueeze(1)\n",
        "        images = images.repeat(1, 3, 1, 1)\n",
        "\n",
        "        outputs = model(images)\n",
        "        loss = criterion(outputs, labels)\n",
        "\n",
        "        optimizer.zero_grad()\n",
        "        loss.backward()\n",
        "        optimizer.step()\n",
        "\n",
        "        train_loss += loss.item()\n",
        "\n",
        "        # Collect labels for metrics calculation\n",
        "        predicted_labels_train.append(torch.argmax(outputs, dim=1))\n",
        "        true_labels_train.append(labels)\n",
        "\n",
        "        train_loader_tqdm.set_postfix({\"Loss\": loss.item()})\n",
        "\n",
        "    train_loss /= len(train_loader)\n",
        "    train_losses.append(train_loss)\n",
        "\n",
        "    # Combine all predicted and true labels\n",
        "    predicted_labels_train = torch.cat(predicted_labels_train)\n",
        "    true_labels_train = torch.cat(true_labels_train)\n",
        "\n",
        "    # Calculate metrics for training data\n",
        "    train_accuracy = (predicted_labels_train == true_labels_train).float().mean().item()\n",
        "    train_precision = precision_score(true_labels_train.cpu(), predicted_labels_train.cpu(), average='weighted', zero_division=1)\n",
        "    train_recall = recall_score(true_labels_train.cpu(), predicted_labels_train.cpu(), average='weighted', zero_division=1)\n",
        "    train_f1 = f1_score(true_labels_train.cpu(), predicted_labels_train.cpu(), average='weighted', zero_division=1)\n",
        "\n",
        "    train_accuracies.append(train_accuracy)\n",
        "\n",
        "    print(f'Epoch [{epoch+1}/{num_epochs}], Train Loss: {train_loss:.4f}, Accuracy: {train_accuracy:.4f}, Precision: {train_precision:.4f}, Recall: {train_recall:.4f}, F1-Score: {train_f1:.4f}')\n",
        "\n",
        "    # Validation\n",
        "    valid_loss = 0\n",
        "    model.eval()\n",
        "    true_labels_valid = []\n",
        "    predicted_labels_valid = []\n",
        "\n",
        "    valid_loader_tqdm = tqdm(valid_loader, desc=f\"Epoch {epoch+1}/{num_epochs} - Validation\")\n",
        "    with torch.no_grad():\n",
        "        for images, labels in valid_loader_tqdm:\n",
        "            images, labels = images.to(device), labels.to(device)\n",
        "            if images.dim() == 3:\n",
        "                images = images.unsqueeze(1)\n",
        "            images = images.repeat(1, 3, 1, 1)\n",
        "            outputs = model(images)\n",
        "            loss = criterion(outputs, labels)\n",
        "            valid_loss += loss.item()\n",
        "\n",
        "            # Collect labels for metrics calculation\n",
        "            predicted_labels_valid.append(torch.argmax(outputs, dim=1))\n",
        "            true_labels_valid.append(labels)\n",
        "\n",
        "            valid_loader_tqdm.set_postfix({\"Loss\": loss.item()})\n",
        "\n",
        "    valid_loss /= len(valid_loader)\n",
        "    valid_losses.append(valid_loss)\n",
        "\n",
        "    # Combine all predicted and true labels\n",
        "    predicted_labels_valid = torch.cat(predicted_labels_valid)\n",
        "    true_labels_valid = torch.cat(true_labels_valid)\n",
        "\n",
        "    # Calculate metrics for validation data\n",
        "    valid_accuracy = (predicted_labels_valid == true_labels_valid).float().mean().item()\n",
        "    valid_precision = precision_score(true_labels_valid.cpu(), predicted_labels_valid.cpu(), average='weighted', zero_division=1)\n",
        "    valid_recall = recall_score(true_labels_valid.cpu(), predicted_labels_valid.cpu(), average='weighted', zero_division=1)\n",
        "    valid_f1 = f1_score(true_labels_valid.cpu(), predicted_labels_valid.cpu(), average='weighted', zero_division=1)\n",
        "\n",
        "    valid_accuracies.append(valid_accuracy)\n",
        "\n",
        "    print(f'Validation Loss: {valid_loss:.4f}, Accuracy: {valid_accuracy:.4f}, Precision: {valid_precision:.4f}, Recall: {valid_recall:.4f}, F1-Score: {valid_f1:.4f}')\n",
        "\n",
        "\n",
        "\n",
        "    # Save the best model\n",
        "    if valid_loss < best_valid_loss:\n",
        "        best_valid_loss = valid_loss\n",
        "        torch.save(model.state_dict(), 'best-model-resnet-clahe-0,001-8-70.pth')\n",
        "\n",
        "    # Save checkpoint every epoch\n",
        "    checkpoint = {\n",
        "        'epoch': epoch,\n",
        "        'state_dict': model.state_dict(),\n",
        "        'optimizer': optimizer.state_dict(),\n",
        "        'train_losses': train_losses,\n",
        "        'valid_losses': valid_losses,\n",
        "    }\n",
        "    save_checkpoint(checkpoint, checkpoint_file)\n",
        "\n",
        "    # Calculate epoch time and add to total training time\n",
        "    epoch_time = time.time() - epoch_start_time\n",
        "    total_training_time += epoch_time\n",
        "    print(f\"Epoch [{epoch+1}/{num_epochs}] completed in {epoch_time:.2f} seconds\")\n",
        "\n",
        "# End total training time\n",
        "total_training_time = time.time() - training_start_time\n",
        "print(f\"Total training time: {total_training_time:.2f} seconds\")\n",
        "\n",
        "# Plot training and validation loss\n",
        "plt.figure(figsize=(10, 5))\n",
        "plt.plot(train_losses, label='Training Loss')\n",
        "plt.plot(valid_losses, label='Validation Loss')\n",
        "plt.xlabel('Epoch')\n",
        "plt.ylabel('Loss')\n",
        "plt.legend()\n",
        "plt.title('Training and Validation Loss')\n",
        "plt.show()"
      ]
    },
    {
      "cell_type": "code",
      "source": [
        "# Plot training and validation accuracy\n",
        "plt.figure(figsize=(10, 5))\n",
        "plt.plot(train_accuracies, label='Training Accuracy')\n",
        "plt.plot(valid_accuracies, label='Validation Accuracy')\n",
        "plt.xlabel('Epoch')\n",
        "plt.ylabel('Accuracy')\n",
        "plt.legend()\n",
        "plt.title('Training and Validation Accuracy')\n",
        "plt.show()"
      ],
      "metadata": {
        "id": "BIIzUlt3wfiJ",
        "colab": {
          "base_uri": "https://localhost:8080/"
        },
        "outputId": "2fb15895-6811-43e9-831c-7e4d1a54dd1f"
      },
      "id": "BIIzUlt3wfiJ",
      "execution_count": null,
      "outputs": [
        {
          "output_type": "display_data",
          "data": {
            "text/plain": [
              "<Figure size 1000x500 with 1 Axes>"
            ],
            "image/png": "[encoded data removed]"
          },
          "metadata": {}
        }
      ]
    },
    {
      "cell_type": "code",
      "source": [
        "\n",
        "# Hitung rata-rata metrik setelah semua epoch\n",
        "average_train_loss = np.mean(train_losses)\n",
        "average_valid_loss = np.mean(valid_losses)\n",
        "average_train_accuracy = np.mean(train_accuracies)\n",
        "average_valid_accuracy = np.mean(valid_accuracies)\n",
        "average_train_precision = np.mean(train_precision)\n",
        "average_valid_precision = np.mean(valid_precision)\n",
        "average_train_recall = np.mean(train_recall)\n",
        "average_valid_recall = np.mean(valid_recall)\n",
        "average_train_f1 = np.mean(train_f1)\n",
        "average_valid_f1 = np.mean(valid_f1)\n",
        "\n",
        "\n",
        "# Display results training\n",
        "print('--------------')\n",
        "print(f'Training Accuracy: {average_train_accuracy * 100:.2f}%')\n",
        "print(f'Training Loss: {average_train_loss:.4f}')\n",
        "print(f'Training Precision: {average_train_precision:.4f}')\n",
        "print(f'Training Recall: {average_train_recall:.4f}')\n",
        "print(f'Training F1-Score: {average_train_f1:.4f}')\n",
        "\n",
        "\n",
        "# Display results validasi\n",
        "print('--------------')\n",
        "print(f'Validation Accuracy: {average_valid_accuracy * 100:.2f}%')\n",
        "print(f'Validation Loss: {average_valid_loss:.4f}')\n",
        "print(f'Validation Precision: {average_valid_precision:.4f}')\n",
        "print(f'Validation Recall: {average_valid_recall:.4f}')\n",
        "print(f'Validation F1-Score: {average_valid_f1:.4f}')"
      ],
      "metadata": {
        "colab": {
          "base_uri": "https://localhost:8080/"
        },
        "id": "BN0zrbeUccXp",
        "outputId": "a545b111-baa6-4a85-eb48-e4e4de6af05d"
      },
      "id": "BN0zrbeUccXp",
      "execution_count": null,
      "outputs": [
        {
          "output_type": "stream",
          "name": "stdout",
          "text": [
            "--------------\n",
            "Training Accuracy: 97.17%\n",
            "Training Loss: 0.0966\n",
            "Training Precision: 0.9934\n",
            "Training Recall: 0.9933\n",
            "Training F1-Score: 0.9934\n",
            "--------------\n",
            "Validation Accuracy: 90.69%\n",
            "Validation Loss: 0.2637\n",
            "Validation Precision: 0.9282\n",
            "Validation Recall: 0.9012\n",
            "Validation F1-Score: 0.9059\n"
          ]
        }
      ]
    },
    {
      "cell_type": "markdown",
      "id": "88fecb7b-5b96-49f4-927c-a604fc18cf0e",
      "metadata": {
        "id": "88fecb7b-5b96-49f4-927c-a604fc18cf0e"
      },
      "source": [
        "# Cell 6: Model Evaluation with Additional Metrics\n",
        "\"\"\"\n",
        "This cell evaluates the best model using accuracy, precision, recall, F1-score, and confusion matrix.\n",
        "These metrics provide a comprehensive understanding of the model's performance on the test dataset.\n",
        "\"\"\""
      ]
    },
    {
      "cell_type": "code",
      "execution_count": null,
      "id": "56769eb0-2824-44ae-af60-98e401e9bc08",
      "metadata": {
        "scrolled": true,
        "id": "56769eb0-2824-44ae-af60-98e401e9bc08",
        "colab": {
          "base_uri": "https://localhost:8080/"
        },
        "outputId": "9ca0b994-c90c-4f15-9cb9-76f347ac51a6"
      },
      "outputs": [
        {
          "output_type": "stream",
          "name": "stderr",
          "text": [
            "<ipython-input-12-611347a9e5d5>:7: FutureWarning: You are using `torch.load` with `weights_only=False` (the current default value), which uses the default pickle module implicitly. It is possible to construct malicious pickle data which will execute arbitrary code during unpickling (See https://github.com/pytorch/pytorch/blob/main/SECURITY.md#untrusted-models for more details). In a future release, the default value for `weights_only` will be flipped to `True`. This limits the functions that could be executed during unpickling. Arbitrary objects will no longer be allowed to be loaded via this mode unless they are explicitly allowlisted by the user via `torch.serialization.add_safe_globals`. We recommend you start setting `weights_only=True` for any use case where you don't have full control of the loaded file. Please open an issue on GitHub for any issues related to this experimental feature.\n",
            "  model.load_state_dict(torch.load('best-model-resnet-clahe-0,001-8-70.pth'))\n",
            "Testing: 100%|██████████| 40/40 [00:01<00:00, 36.27it/s, Batch Size=3]\n"
          ]
        },
        {
          "output_type": "stream",
          "name": "stdout",
          "text": [
            "Total testing time: 1.25 seconds\n",
            "Test Accuracy: 92.06%\n",
            "Test Loss: 0.0002\n",
            "Precision: 0.9301\n",
            "Recall: 0.9206\n",
            "F1-Score: 0.9216\n",
            "Confusion Matrix:\n",
            "[[110   8   0   2]\n",
            " [  0  51   0   0]\n",
            " [  0   1  53   0]\n",
            " [  8   6   0  76]]\n"
          ]
        },
        {
          "output_type": "display_data",
          "data": {
            "text/plain": [
              "<Figure size 1200x900 with 2 Axes>"
            ],
            "image/png": "[encoded data removed]"
          },
          "metadata": {}
        },
        {
          "output_type": "stream",
          "name": "stdout",
          "text": [
            "Total process time (training + testing): 605.38 seconds\n"
          ]
        }
      ],
      "source": [
        "# Path dinamis untuk memuat model terbaik\n",
        "best_model_file = '/content/drive/MyDrive/Chest-CT-Data/best-model-resnet-clahe-0,001-8-70.pth' if IN_COLAB else 'best-model.pth'\n",
        "# Start testing time\n",
        "testing_start_time = time.time()\n",
        "\n",
        "# Load the best model\n",
        "model.load_state_dict(torch.load('best-model-resnet-clahe-0,001-8-70.pth'))\n",
        "model.eval()\n",
        "\n",
        "# Define class labels corresponding to the numerical labels\n",
        "class_labels = [\n",
        "    'Adenocarcinoma',\n",
        "    'Large Cell Carcinoma',\n",
        "    'Normal',\n",
        "    'Squamous Cell Carcinoma'\n",
        "]\n",
        "\n",
        "predicted_probabilities = []\n",
        "true_labels = []\n",
        "\n",
        "test_loader_tqdm = tqdm(test_loader, desc=\"Testing\")\n",
        "with torch.no_grad():\n",
        "    for images, labels in test_loader_tqdm:\n",
        "        images, labels = images.to(device), labels.to(device)\n",
        "        if images.dim() == 3:\n",
        "            images = images.unsqueeze(1)\n",
        "        images = images.repeat(1, 3, 1, 1)\n",
        "        outputs = model(images)\n",
        "        probabilities = nn.functional.softmax(outputs, dim=1)\n",
        "        predicted_probabilities.append(probabilities)\n",
        "        true_labels.append(labels)\n",
        "        test_loader_tqdm.set_postfix({\"Batch Size\": len(labels)})\n",
        "\n",
        "# End testing time\n",
        "total_testing_time = time.time() - testing_start_time\n",
        "print(f\"Total testing time: {total_testing_time:.2f} seconds\")\n",
        "\n",
        "# Calculate evaluation metrics\n",
        "predicted_probabilities = torch.cat(predicted_probabilities)\n",
        "true_labels = torch.cat(true_labels)\n",
        "predicted_labels = torch.argmax(predicted_probabilities, dim=1)\n",
        "\n",
        "accuracy = (predicted_labels == true_labels).float().mean().item()\n",
        "precision = precision_score(true_labels.cpu(), predicted_labels.cpu(), average='weighted')\n",
        "recall = recall_score(true_labels.cpu(), predicted_labels.cpu(), average='weighted')\n",
        "f1 = f1_score(true_labels.cpu(), predicted_labels.cpu(), average='weighted')\n",
        "conf_matrix = confusion_matrix(true_labels.cpu(), predicted_labels.cpu())\n",
        "\n",
        "# Display results\n",
        "print(f'Test Accuracy: {accuracy * 100:.2f}%')\n",
        "print(f'Test Loss: {loss:.4f}')\n",
        "print(f'Precision: {precision:.4f}')\n",
        "print(f'Recall: {recall:.4f}')\n",
        "print(f'F1-Score: {f1:.4f}')\n",
        "print(f'Confusion Matrix:\\n{conf_matrix}')\n",
        "\n",
        "# Plot confusion matrix using Matplotlib\n",
        "fig, ax = plt.subplots(figsize=(12, 9))\n",
        "cax = ax.matshow(conf_matrix, cmap='Blues')\n",
        "\n",
        "# Menampilkan angka pada setiap sel dengan outline putih\n",
        "for (i, j), val in np.ndenumerate(conf_matrix):\n",
        "    text = ax.text(j, i, f'{val}', ha='center', va='center', color='black', fontsize=20, fontweight='bold')\n",
        "\n",
        "    # Menambahkan outline putih di sekitar angka\n",
        "    text.set_path_effects([path_effects.Stroke(linewidth=3, foreground='white'),\n",
        "                           path_effects.Normal()])\n",
        "\n",
        "fig.colorbar(cax)\n",
        "\n",
        "# Set ticks dan ticklabels\n",
        "ax.set_xticks(np.arange(len(class_labels)))\n",
        "ax.set_yticks(np.arange(len(class_labels)))\n",
        "ax.set_xticklabels(class_labels)\n",
        "ax.set_yticklabels(class_labels)\n",
        "\n",
        "plt.xlabel('Predicted Labels')\n",
        "plt.ylabel('True Labels')\n",
        "plt.title('Confusion Matrix')\n",
        "plt.show()\n",
        "\n",
        "\n",
        "# Total time for the whole process\n",
        "total_process_time = total_training_time + total_testing_time\n",
        "print(f\"Total process time (training + testing): {total_process_time:.2f} seconds\")\n"
      ]
    },
    {
      "cell_type": "markdown",
      "source": [
        "![image.png](data:image/png;base64,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)"
      ],
      "metadata": {
        "id": "phICyYWfKZkM"
      },
      "id": "phICyYWfKZkM"
    },
    {
      "cell_type": "code",
      "source": [],
      "metadata": {
        "id": "Tps2g1j0KaSh"
      },
      "id": "Tps2g1j0KaSh",
      "execution_count": null,
      "outputs": []
    }
  ],
  "metadata": {
    "kernelspec": {
      "display_name": "Python 3",
      "name": "python3"
    },
    "language_info": {
      "codemirror_mode": {
        "name": "ipython",
        "version": 3
      },
      "file_extension": ".py",
      "mimetype": "text/x-python",
      "name": "python",
      "nbconvert_exporter": "python",
      "pygments_lexer": "ipython3",
      "version": "3.11.7"
    },
    "colab": {
      "provenance": [],
      "gpuType": "T4"
    },
    "accelerator": "GPU"
  },
  "nbformat": 4,
  "nbformat_minor": 5
}
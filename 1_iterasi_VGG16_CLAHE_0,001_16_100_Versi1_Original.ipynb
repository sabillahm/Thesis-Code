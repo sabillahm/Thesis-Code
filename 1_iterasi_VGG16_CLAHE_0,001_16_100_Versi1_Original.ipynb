{
  "cells": [
    {
      "cell_type": "markdown",
      "metadata": {
        "id": "view-in-github",
        "colab_type": "text"
      },
      "source": [
        "<a href=\"https://colab.research.google.com/github/sabillahm/Thesis-Code/blob/main/1_iterasi_VGG16_CLAHE_0%2C001_16_100_Versi1_Original.ipynb\" target=\"_parent\"><img src=\"https://colab.research.google.com/assets/colab-badge.svg\" alt=\"Open In Colab\"/></a>"
      ]
    },
    {
      "cell_type": "markdown",
      "id": "30536ba6-e5ef-4e4a-8334-fdc16153a88b",
      "metadata": {
        "id": "30536ba6-e5ef-4e4a-8334-fdc16153a88b"
      },
      "source": [
        "# Cell 1: Import Libraries and Setup Device\n",
        "\"\"\"\n",
        "This cell imports all the necessary libraries and sets up the device for GPU computation if available.\n",
        "We are using PyTorch for deep learning, OpenCV for image processing, and Matplotlib/Seaborn for visualization.\n",
        "\"\"\""
      ]
    },
    {
      "cell_type": "code",
      "execution_count": null,
      "id": "95a797c4-eac9-4297-ab3a-d604f3c97bb0",
      "metadata": {
        "id": "95a797c4-eac9-4297-ab3a-d604f3c97bb0",
        "outputId": "ac96dc52-7321-450b-81eb-1c4ed090909b",
        "colab": {
          "base_uri": "https://localhost:8080/"
        }
      },
      "outputs": [
        {
          "output_type": "stream",
          "name": "stdout",
          "text": [
            "Using device: cuda\n",
            "Mounted at /content/drive\n"
          ]
        }
      ],
      "source": [
        "import torch\n",
        "import torch.nn as nn\n",
        "import torch.optim as optim\n",
        "from torch.utils.data import DataLoader, Dataset\n",
        "from torchvision import models, transforms\n",
        "import cv2\n",
        "from torchvision.transforms import v2\n",
        "import matplotlib.pyplot as plt\n",
        "import matplotlib.patheffects as path_effects\n",
        "from tqdm import tqdm\n",
        "import os\n",
        "import numpy as np\n",
        "import time\n",
        "from sklearn.metrics import precision_score, recall_score, f1_score, confusion_matrix\n",
        "import seaborn as sns\n",
        "\n",
        "# Cek apakah kode dijalankan di Google Colab\n",
        "IN_COLAB = 'google.colab' in str(get_ipython())\n",
        "\n",
        "# Cek apakah GPU tersedia, jika tidak gunakan CPU\n",
        "device = torch.device('cuda' if torch.cuda.is_available() else 'cpu')\n",
        "print(f'Using device: {device}')\n",
        "\n",
        "# Mount Google Drive jika menggunakan Google Colab\n",
        "if IN_COLAB:\n",
        "    from google.colab import drive\n",
        "    drive.mount('/content/drive')\n"
      ]
    },
    {
      "cell_type": "markdown",
      "id": "5ecb4d58-7a41-404e-921f-59c8133c02a4",
      "metadata": {
        "id": "5ecb4d58-7a41-404e-921f-59c8133c02a4"
      },
      "source": [
        "# Cell 2: Define Data Loading and Preprocessing Functions\n",
        "\"\"\"\n",
        "This cell contains functions to load and preprocess images from the dataset.\n",
        "The `load_data` function loads images from the specified directory and assigns labels based on the folder structure.\n",
        "The `preprocess_image` function applies CLAHE and unsharp masking to enhance image quality.\n",
        "The `CustomDataset` class integrates these functions and prepares the dataset for use in PyTorch.\n",
        "\"\"\""
      ]
    },
    {
      "cell_type": "code",
      "execution_count": null,
      "id": "cca994b4-b0e2-4faa-8519-5a473288e647",
      "metadata": {
        "id": "cca994b4-b0e2-4faa-8519-5a473288e647"
      },
      "outputs": [],
      "source": [
        "def load_data(dataset_path, subset):\n",
        "    images = []\n",
        "    labels = []\n",
        "\n",
        "    # Tentukan label sesuai dengan subset\n",
        "\n",
        "    label_names = ['adenocarcinoma', 'large.cell.carcinoma', 'normal', 'squamous.cell.carcinoma']\n",
        "\n",
        "\n",
        "\n",
        "    # Pemetaan nama label ke indeks\n",
        "    label_map = {name: idx for idx, name in enumerate(label_names)}\n",
        "\n",
        "    subset_path = os.path.join(dataset_path, subset)\n",
        "    for label_name in label_names:\n",
        "        image_dir = os.path.join(subset_path, label_name)\n",
        "        if not os.path.exists(image_dir):\n",
        "            raise FileNotFoundError(f\"Directory not found: {image_dir}\")\n",
        "        for file_name in os.listdir(image_dir):\n",
        "            if file_name.endswith('.png'):  # Cek jika file adalah gambar PNG\n",
        "                image_path = os.path.join(image_dir, file_name)\n",
        "                image = cv2.imread(image_path, cv2.IMREAD_GRAYSCALE)\n",
        "                if image is None:\n",
        "                    print(f\"Warning: Unable to load image {image_path}\")\n",
        "                    continue\n",
        "                images.append(image)\n",
        "                labels.append(label_map[label_name])\n",
        "                print(f\"Loaded image {image_path}\")\n",
        "    return images, labels\n",
        "\n",
        "def preprocess_image(image):\n",
        "    if image is None or image.size == 0:\n",
        "        raise ValueError(\"Empty image provided for preprocessing\")\n",
        "\n",
        "    # Terapkan CLAHE untuk meningkatkan kontras\n",
        "    #clahe = cv2.createCLAHE(clipLimit=2.0, tileGridSize=(8, 8))\n",
        "    clahe = cv2.createCLAHE(clipLimit=2.5, tileGridSize=(10, 10))\n",
        "\n",
        "    clahe_image = clahe.apply(image)\n",
        "\n",
        "    # Terapkan Gaussian Blur untuk menghaluskan gambar\n",
        "    #gaussian = cv2.GaussianBlur(image, (9, 9), 10.0)\n",
        "    # Terapkan Unsharp Masking untuk meningkatkan ketajaman gambar\n",
        "    #unsharp_image = cv2.addWeighted(clahe_image, 1.5, gaussian, -0.5, 0, clahe_image)\n",
        "    #unsharp_image = cv2.addWeighted(gaussian, 1.5, gaussian, -0.5, 0)\n",
        "\n",
        "    return clahe_image\n",
        "\n",
        "class CustomDataset(Dataset):\n",
        "    def __init__(self, images, labels, transform=None):\n",
        "        self.images = images\n",
        "        self.labels = labels\n",
        "        self.transform = transform\n",
        "\n",
        "    def __len__(self):\n",
        "        return len(self.images)\n",
        "\n",
        "    def __getitem__(self, idx):\n",
        "        image = self.images[idx]\n",
        "        label = self.labels[idx]\n",
        "\n",
        "        # Terapkan transformasi jika ada\n",
        "        if self.transform:\n",
        "            image = self.transform(image)\n",
        "        if image.dim() == 2:  # Pastikan gambar memiliki 3 dimensi\n",
        "            image = image.unsqueeze(0)\n",
        "        return image, label\n"
      ]
    },
    {
      "cell_type": "markdown",
      "id": "df44014e-ffbf-42f2-a213-c2f28a911926",
      "metadata": {
        "id": "df44014e-ffbf-42f2-a213-c2f28a911926"
      },
      "source": [
        "# Cell 3: Load and Transform Data\n",
        "\"\"\"\n",
        "This cell loads the data and applies the necessary transformations.\n",
        "The dataset is divided into training, validation, and test sets.\n",
        "Each image is transformed into a 224x224 size tensor suitable for input to the VGG-16 model.\n",
        "\"\"\""
      ]
    },
    {
      "cell_type": "code",
      "source": [
        "# Mengatur path dataset, disesuaikan untuk Google Colab atau Jupyter Notebook\n",
        "dataset_path = '/content/drive/MyDrive/Chest-CT-Data'\n",
        "\n",
        "# Load data\n",
        "train_images, train_labels = load_data(dataset_path, 'train')\n",
        "valid_images, valid_labels = load_data(dataset_path, 'valid')\n",
        "test_images, test_labels = load_data(dataset_path, 'test')\n",
        "\n",
        "print(f\"Loaded {len(train_images)} training images with {len(train_labels)} labels\")\n",
        "print(f\"Loaded {len(valid_images)} validation images with {len(valid_labels)} labels\")\n",
        "print(f\"Loaded {len(test_images)} test images with {len(test_labels)} labels\")\n",
        "\n",
        "# Transformasi data untuk persiapan training, validation, dan testing\n",
        "transform = transforms.Compose([\n",
        "    transforms.ToPILImage(),             # Ubah dari array NumPy ke gambar PIL\n",
        "    transforms.Resize((224, 224)),       # Ubah ukuran gambar menjadi 224x224\n",
        "    #v2.RandomHorizontalFlip(),           # Randomly flip the image horizontally\n",
        "   # v2.RandomRotation(15),                # Randomly rotate the image by up to 15 degrees\n",
        "    transforms.ToTensor(),               # Ubah gambar menjadi Tensor and normalize to [0, 1]\n",
        "])\n",
        "\n",
        "# Membuat dataset dan data loader untuk training, validation, dan testing\n",
        "train_dataset = CustomDataset(train_images, train_labels, transform=transform)\n",
        "valid_dataset = CustomDataset(valid_images, valid_labels, transform=transform)\n",
        "test_dataset = CustomDataset(test_images, test_labels, transform=transform)\n",
        "\n",
        "train_loader = DataLoader(train_dataset, batch_size=16, shuffle=True)  # DataLoader untuk training\n",
        "valid_loader = DataLoader(valid_dataset, batch_size=16, shuffle=False) # DataLoader untuk validasi\n",
        "test_loader = DataLoader(test_dataset, batch_size=16, shuffle=False)   # DataLoader untuk testing\n"
      ],
      "metadata": {
        "colab": {
          "base_uri": "https://localhost:8080/"
        },
        "id": "mrStcymcr40g",
        "outputId": "4a3bdf42-50cc-400a-c88b-bc047a825550"
      },
      "id": "mrStcymcr40g",
      "execution_count": null,
      "outputs": [
        {
          "output_type": "stream",
          "name": "stdout",
          "text": [
            "Loaded image /content/drive/MyDrive/Chest-CT-Data/train/adenocarcinoma/000041 (7).png\n",
            "Loaded image /content/drive/MyDrive/Chest-CT-Data/train/adenocarcinoma/000093 (4).png\n",
            "Loaded image /content/drive/MyDrive/Chest-CT-Data/train/adenocarcinoma/000090 (2).png\n",
            "Loaded image /content/drive/MyDrive/Chest-CT-Data/train/adenocarcinoma/000072 (10).png\n",
            "Loaded image /content/drive/MyDrive/Chest-CT-Data/train/adenocarcinoma/000093 (6).png\n",
            "Loaded image /content/drive/MyDrive/Chest-CT-Data/train/adenocarcinoma/000050 (5).png\n",
            "Loaded image /content/drive/MyDrive/Chest-CT-Data/train/adenocarcinoma/000022 (10).png\n",
            "Loaded image /content/drive/MyDrive/Chest-CT-Data/train/adenocarcinoma/000008 (10).png\n",
            "Loaded image /content/drive/MyDrive/Chest-CT-Data/train/adenocarcinoma/000066 (9).png\n",
            "Loaded image /content/drive/MyDrive/Chest-CT-Data/train/adenocarcinoma/000020 (5).png\n",
            "Loaded image /content/drive/MyDrive/Chest-CT-Data/train/adenocarcinoma/000050 (8).png\n",
            "Loaded image /content/drive/MyDrive/Chest-CT-Data/train/adenocarcinoma/000074 (5).png\n",
            "Loaded image /content/drive/MyDrive/Chest-CT-Data/train/adenocarcinoma/000056 (7).png\n",
            "Loaded image /content/drive/MyDrive/Chest-CT-Data/train/adenocarcinoma/000021 (3).png\n",
            "Loaded image /content/drive/MyDrive/Chest-CT-Data/train/adenocarcinoma/000065 (3).png\n",
            "Loaded image /content/drive/MyDrive/Chest-CT-Data/train/adenocarcinoma/000021 (6).png\n",
            "Loaded image /content/drive/MyDrive/Chest-CT-Data/train/adenocarcinoma/000041 (8).png\n",
            "Loaded image /content/drive/MyDrive/Chest-CT-Data/train/adenocarcinoma/000067 (10).png\n",
            "Loaded image /content/drive/MyDrive/Chest-CT-Data/train/adenocarcinoma/000036 (6).png\n",
            "Loaded image /content/drive/MyDrive/Chest-CT-Data/train/adenocarcinoma/000026 (10).png\n",
            "Loaded image /content/drive/MyDrive/Chest-CT-Data/train/adenocarcinoma/000022.png\n",
            "Loaded image /content/drive/MyDrive/Chest-CT-Data/train/adenocarcinoma/000021 (5).png\n",
            "Loaded image /content/drive/MyDrive/Chest-CT-Data/train/adenocarcinoma/000031 (3).png\n",
            "Loaded image /content/drive/MyDrive/Chest-CT-Data/train/adenocarcinoma/000018 (5).png\n",
            "Loaded image /content/drive/MyDrive/Chest-CT-Data/train/adenocarcinoma/000009 (3).png\n",
            "Loaded image /content/drive/MyDrive/Chest-CT-Data/train/adenocarcinoma/000041 (2).png\n",
            "Loaded image /content/drive/MyDrive/Chest-CT-Data/train/adenocarcinoma/000054 (5).png\n",
            "Loaded image /content/drive/MyDrive/Chest-CT-Data/train/adenocarcinoma/000068 (10).png\n",
            "Loaded image /content/drive/MyDrive/Chest-CT-Data/train/adenocarcinoma/000058 (4).png\n",
            "Loaded image /content/drive/MyDrive/Chest-CT-Data/train/adenocarcinoma/000000 (6).png\n",
            "Loaded image /content/drive/MyDrive/Chest-CT-Data/train/adenocarcinoma/000046 (5).png\n",
            "Loaded image /content/drive/MyDrive/Chest-CT-Data/train/adenocarcinoma/000067.png\n",
            "Loaded image /content/drive/MyDrive/Chest-CT-Data/train/adenocarcinoma/000085 (7).png\n",
            "Loaded image /content/drive/MyDrive/Chest-CT-Data/train/adenocarcinoma/000057 (2).png\n",
            "Loaded image /content/drive/MyDrive/Chest-CT-Data/train/adenocarcinoma/000059 (7).png\n",
            "Loaded image /content/drive/MyDrive/Chest-CT-Data/train/adenocarcinoma/000014 (7).png\n",
            "Loaded image /content/drive/MyDrive/Chest-CT-Data/train/adenocarcinoma/000020 (10).png\n",
            "Loaded image /content/drive/MyDrive/Chest-CT-Data/train/adenocarcinoma/000057.png\n",
            "Loaded image /content/drive/MyDrive/Chest-CT-Data/train/adenocarcinoma/000063 (7).png\n",
            "Loaded image /content/drive/MyDrive/Chest-CT-Data/train/adenocarcinoma/000054 (7).png\n",
            "Loaded image /content/drive/MyDrive/Chest-CT-Data/train/adenocarcinoma/000013 (4).png\n",
            "Loaded image /content/drive/MyDrive/Chest-CT-Data/train/adenocarcinoma/000050 (7).png\n",
            "Loaded image /content/drive/MyDrive/Chest-CT-Data/train/adenocarcinoma/000029 (5).png\n",
            "Loaded image /content/drive/MyDrive/Chest-CT-Data/train/adenocarcinoma/000080 (10).png\n",
            "Loaded image /content/drive/MyDrive/Chest-CT-Data/train/adenocarcinoma/000032 (8).png\n",
            "Loaded image /content/drive/MyDrive/Chest-CT-Data/train/adenocarcinoma/000079 (6).png\n",
            "Loaded image /content/drive/MyDrive/Chest-CT-Data/train/adenocarcinoma/000020 (6).png\n",
            "Loaded image /content/drive/MyDrive/Chest-CT-Data/train/adenocarcinoma/000044 (10).png\n",
            "Loaded image /content/drive/MyDrive/Chest-CT-Data/train/adenocarcinoma/000091 (3).png\n",
            "Loaded image /content/drive/MyDrive/Chest-CT-Data/train/adenocarcinoma/000091.png\n",
            "Loaded image /content/drive/MyDrive/Chest-CT-Data/train/adenocarcinoma/000025 (6).png\n",
            "Loaded image /content/drive/MyDrive/Chest-CT-Data/train/adenocarcinoma/000026 (3).png\n",
            "Loaded image /content/drive/MyDrive/Chest-CT-Data/train/adenocarcinoma/000033 (9).png\n",
            "Loaded image /content/drive/MyDrive/Chest-CT-Data/train/adenocarcinoma/000086 (3).png\n",
            "Loaded image /content/drive/MyDrive/Chest-CT-Data/train/adenocarcinoma/000083 (6).png\n",
            "Loaded image /content/drive/MyDrive/Chest-CT-Data/train/adenocarcinoma/000035 (8).png\n",
            "Loaded image /content/drive/MyDrive/Chest-CT-Data/train/adenocarcinoma/000084 (2).png\n",
            "Loaded image /content/drive/MyDrive/Chest-CT-Data/train/adenocarcinoma/000083 (3).png\n",
            "Loaded image /content/drive/MyDrive/Chest-CT-Data/train/adenocarcinoma/000036 (7).png\n",
            "Loaded image /content/drive/MyDrive/Chest-CT-Data/train/adenocarcinoma/000063 (5).png\n",
            "Loaded image /content/drive/MyDrive/Chest-CT-Data/train/adenocarcinoma/000044 (9).png\n",
            "Loaded image /content/drive/MyDrive/Chest-CT-Data/train/adenocarcinoma/000027 (6).png\n",
            "Loaded image /content/drive/MyDrive/Chest-CT-Data/train/adenocarcinoma/000023 (9).png\n",
            "Loaded image /content/drive/MyDrive/Chest-CT-Data/train/adenocarcinoma/000017 (6).png\n",
            "Loaded image /content/drive/MyDrive/Chest-CT-Data/train/adenocarcinoma/000065 (8).png\n",
            "Loaded image /content/drive/MyDrive/Chest-CT-Data/train/adenocarcinoma/000077 (9).png\n",
            "Loaded image /content/drive/MyDrive/Chest-CT-Data/train/adenocarcinoma/000049 (9).png\n",
            "Loaded image /content/drive/MyDrive/Chest-CT-Data/train/adenocarcinoma/000069 (6).png\n",
            "Loaded image /content/drive/MyDrive/Chest-CT-Data/train/adenocarcinoma/000077 (6).png\n",
            "Loaded image /content/drive/MyDrive/Chest-CT-Data/train/adenocarcinoma/000061.png\n",
            "Loaded image /content/drive/MyDrive/Chest-CT-Data/train/adenocarcinoma/000023 (5).png\n",
            "Loaded image /content/drive/MyDrive/Chest-CT-Data/train/adenocarcinoma/000021 (8).png\n",
            "Loaded image /content/drive/MyDrive/Chest-CT-Data/train/adenocarcinoma/000027 (4).png\n",
            "Loaded image /content/drive/MyDrive/Chest-CT-Data/train/adenocarcinoma/000009 (7).png\n",
            "Loaded image /content/drive/MyDrive/Chest-CT-Data/train/adenocarcinoma/000005 (9).png\n",
            "Loaded image /content/drive/MyDrive/Chest-CT-Data/train/adenocarcinoma/000068 (9).png\n",
            "Loaded image /content/drive/MyDrive/Chest-CT-Data/train/adenocarcinoma/000052 (10).png\n",
            "Loaded image /content/drive/MyDrive/Chest-CT-Data/train/adenocarcinoma/000048.png\n",
            "Loaded image /content/drive/MyDrive/Chest-CT-Data/train/adenocarcinoma/000071 (3).png\n",
            "Loaded image /content/drive/MyDrive/Chest-CT-Data/train/adenocarcinoma/000035 (5).png\n",
            "Loaded image /content/drive/MyDrive/Chest-CT-Data/train/adenocarcinoma/000022 (2).png\n",
            "Loaded image /content/drive/MyDrive/Chest-CT-Data/train/adenocarcinoma/000063 (3).png\n",
            "Loaded image /content/drive/MyDrive/Chest-CT-Data/train/adenocarcinoma/000015 (9).png\n",
            "Loaded image /content/drive/MyDrive/Chest-CT-Data/train/adenocarcinoma/000054.png\n",
            "Loaded image /content/drive/MyDrive/Chest-CT-Data/train/adenocarcinoma/000023 (10).png\n",
            "Loaded image /content/drive/MyDrive/Chest-CT-Data/train/adenocarcinoma/000087 (8).png\n",
            "Loaded image /content/drive/MyDrive/Chest-CT-Data/train/adenocarcinoma/000068 (3).png\n",
            "Loaded image /content/drive/MyDrive/Chest-CT-Data/train/adenocarcinoma/000054 (6).png\n",
            "Loaded image /content/drive/MyDrive/Chest-CT-Data/train/adenocarcinoma/000023 (7).png\n",
            "Loaded image /content/drive/MyDrive/Chest-CT-Data/train/adenocarcinoma/000022 (9).png\n",
            "Loaded image /content/drive/MyDrive/Chest-CT-Data/train/adenocarcinoma/000080 (6).png\n",
            "Loaded image /content/drive/MyDrive/Chest-CT-Data/train/adenocarcinoma/000034 (6).png\n",
            "Loaded image /content/drive/MyDrive/Chest-CT-Data/train/adenocarcinoma/000019 (5).png\n",
            "Loaded image /content/drive/MyDrive/Chest-CT-Data/train/adenocarcinoma/000015 (4).png\n",
            "Loaded image /content/drive/MyDrive/Chest-CT-Data/train/adenocarcinoma/000051 (4).png\n",
            "Loaded image /content/drive/MyDrive/Chest-CT-Data/train/adenocarcinoma/000013 (8).png\n",
            "Loaded image /content/drive/MyDrive/Chest-CT-Data/train/adenocarcinoma/000048 (8).png\n",
            "Loaded image /content/drive/MyDrive/Chest-CT-Data/train/adenocarcinoma/000085 (4).png\n",
            "Loaded image /content/drive/MyDrive/Chest-CT-Data/train/adenocarcinoma/000055 (2).png\n",
            "Loaded image /content/drive/MyDrive/Chest-CT-Data/train/adenocarcinoma/000040 (10).png\n",
            "Loaded image /content/drive/MyDrive/Chest-CT-Data/train/adenocarcinoma/000051 (3).png\n",
            "Loaded image /content/drive/MyDrive/Chest-CT-Data/train/adenocarcinoma/000024.png\n",
            "Loaded image /content/drive/MyDrive/Chest-CT-Data/train/adenocarcinoma/000024 (6).png\n",
            "Loaded image /content/drive/MyDrive/Chest-CT-Data/train/adenocarcinoma/000093 (10).png\n",
            "Loaded image /content/drive/MyDrive/Chest-CT-Data/train/adenocarcinoma/000075 (5).png\n",
            "Loaded image /content/drive/MyDrive/Chest-CT-Data/train/adenocarcinoma/000029 (4).png\n",
            "Loaded image /content/drive/MyDrive/Chest-CT-Data/train/adenocarcinoma/000078 (6).png\n",
            "Loaded image /content/drive/MyDrive/Chest-CT-Data/train/adenocarcinoma/000040 (3).png\n",
            "Loaded image /content/drive/MyDrive/Chest-CT-Data/train/adenocarcinoma/000085 (10).png\n",
            "Loaded image /content/drive/MyDrive/Chest-CT-Data/train/adenocarcinoma/000024 (7).png\n",
            "Loaded image /content/drive/MyDrive/Chest-CT-Data/train/adenocarcinoma/000042 (10).png\n",
            "Loaded image /content/drive/MyDrive/Chest-CT-Data/train/adenocarcinoma/000065 (9).png\n",
            "Loaded image /content/drive/MyDrive/Chest-CT-Data/train/adenocarcinoma/000016 (9).png\n",
            "Loaded image /content/drive/MyDrive/Chest-CT-Data/train/adenocarcinoma/000066 (10).png\n",
            "Loaded image /content/drive/MyDrive/Chest-CT-Data/train/adenocarcinoma/000024 (10).png\n",
            "Loaded image /content/drive/MyDrive/Chest-CT-Data/train/adenocarcinoma/000015 (10).png\n",
            "Loaded image /content/drive/MyDrive/Chest-CT-Data/train/adenocarcinoma/000035 (4).png\n",
            "Loaded image /content/drive/MyDrive/Chest-CT-Data/train/adenocarcinoma/000081 (2).png\n",
            "Loaded image /content/drive/MyDrive/Chest-CT-Data/train/adenocarcinoma/000091 (7).png\n",
            "Loaded image /content/drive/MyDrive/Chest-CT-Data/train/adenocarcinoma/000086 (8).png\n",
            "Loaded image /content/drive/MyDrive/Chest-CT-Data/train/adenocarcinoma/000040 (5).png\n",
            "Loaded image /content/drive/MyDrive/Chest-CT-Data/train/adenocarcinoma/000041 (4).png\n",
            "Loaded image /content/drive/MyDrive/Chest-CT-Data/train/adenocarcinoma/000029 (9).png\n",
            "Loaded image /content/drive/MyDrive/Chest-CT-Data/train/adenocarcinoma/000084 (3).png\n",
            "Loaded image /content/drive/MyDrive/Chest-CT-Data/train/adenocarcinoma/000022 (8).png\n",
            "Loaded image /content/drive/MyDrive/Chest-CT-Data/train/adenocarcinoma/000021 (4).png\n",
            "Loaded image /content/drive/MyDrive/Chest-CT-Data/train/adenocarcinoma/000087 (4).png\n",
            "Loaded image /content/drive/MyDrive/Chest-CT-Data/train/adenocarcinoma/000030 (4).png\n",
            "Loaded image /content/drive/MyDrive/Chest-CT-Data/train/adenocarcinoma/000084 (7).png\n",
            "Loaded image /content/drive/MyDrive/Chest-CT-Data/train/adenocarcinoma/000017 (8).png\n",
            "Loaded image /content/drive/MyDrive/Chest-CT-Data/train/adenocarcinoma/000092 (10).png\n",
            "Loaded image /content/drive/MyDrive/Chest-CT-Data/train/adenocarcinoma/000049 (5).png\n",
            "Loaded image /content/drive/MyDrive/Chest-CT-Data/train/adenocarcinoma/000035 (6).png\n",
            "Loaded image /content/drive/MyDrive/Chest-CT-Data/train/adenocarcinoma/000089 (8).png\n",
            "Loaded image /content/drive/MyDrive/Chest-CT-Data/train/adenocarcinoma/000005 (3).png\n",
            "Loaded image /content/drive/MyDrive/Chest-CT-Data/train/adenocarcinoma/000084.png\n",
            "Loaded image /content/drive/MyDrive/Chest-CT-Data/train/adenocarcinoma/000058 (5).png\n",
            "Loaded image /content/drive/MyDrive/Chest-CT-Data/train/adenocarcinoma/000050 (3).png\n",
            "Loaded image /content/drive/MyDrive/Chest-CT-Data/train/adenocarcinoma/000095 (6).png\n",
            "Loaded image /content/drive/MyDrive/Chest-CT-Data/train/adenocarcinoma/000119 (10).png\n",
            "Loaded image /content/drive/MyDrive/Chest-CT-Data/train/adenocarcinoma/000104 (4).png\n",
            "Loaded image /content/drive/MyDrive/Chest-CT-Data/train/adenocarcinoma/000098 (8).png\n",
            "Loaded image /content/drive/MyDrive/Chest-CT-Data/train/adenocarcinoma/ad13.png\n",
            "Loaded image /content/drive/MyDrive/Chest-CT-Data/train/adenocarcinoma/000119 (6).png\n",
            "Loaded image /content/drive/MyDrive/Chest-CT-Data/train/adenocarcinoma/000095.png\n",
            "Loaded image /content/drive/MyDrive/Chest-CT-Data/train/adenocarcinoma/000098 (5).png\n",
            "Loaded image /content/drive/MyDrive/Chest-CT-Data/train/adenocarcinoma/ad8.png\n",
            "Loaded image /content/drive/MyDrive/Chest-CT-Data/train/adenocarcinoma/000100 (10).png\n",
            "Loaded image /content/drive/MyDrive/Chest-CT-Data/train/adenocarcinoma/ad6.png\n",
            "Loaded image /content/drive/MyDrive/Chest-CT-Data/train/adenocarcinoma/ad3.png\n",
            "Loaded image /content/drive/MyDrive/Chest-CT-Data/train/adenocarcinoma/000102 (3).png\n",
            "Loaded image /content/drive/MyDrive/Chest-CT-Data/train/adenocarcinoma/ad20.png\n",
            "Loaded image /content/drive/MyDrive/Chest-CT-Data/train/adenocarcinoma/000106 (8).png\n",
            "Loaded image /content/drive/MyDrive/Chest-CT-Data/train/adenocarcinoma/ad18.png\n",
            "Loaded image /content/drive/MyDrive/Chest-CT-Data/train/adenocarcinoma/ad5.png\n",
            "Loaded image /content/drive/MyDrive/Chest-CT-Data/train/adenocarcinoma/ad16.png\n",
            "Loaded image /content/drive/MyDrive/Chest-CT-Data/train/adenocarcinoma/ad10.png\n",
            "Loaded image /content/drive/MyDrive/Chest-CT-Data/train/adenocarcinoma/000121 (10).png\n",
            "Loaded image /content/drive/MyDrive/Chest-CT-Data/train/adenocarcinoma/000103 (9).png\n",
            "Loaded image /content/drive/MyDrive/Chest-CT-Data/train/adenocarcinoma/ad11.png\n",
            "Loaded image /content/drive/MyDrive/Chest-CT-Data/train/adenocarcinoma/000096 (7).png\n",
            "Loaded image /content/drive/MyDrive/Chest-CT-Data/train/adenocarcinoma/ad9.png\n",
            "Loaded image /content/drive/MyDrive/Chest-CT-Data/train/adenocarcinoma/000099 (7).png\n",
            "Loaded image /content/drive/MyDrive/Chest-CT-Data/train/adenocarcinoma/ad2.png\n",
            "Loaded image /content/drive/MyDrive/Chest-CT-Data/train/adenocarcinoma/000106 (10).png\n",
            "Loaded image /content/drive/MyDrive/Chest-CT-Data/train/adenocarcinoma/000097 (2).png\n",
            "Loaded image /content/drive/MyDrive/Chest-CT-Data/train/adenocarcinoma/ad22.png\n",
            "Loaded image /content/drive/MyDrive/Chest-CT-Data/train/adenocarcinoma/ad14.png\n",
            "Loaded image /content/drive/MyDrive/Chest-CT-Data/train/adenocarcinoma/000121.png\n",
            "Loaded image /content/drive/MyDrive/Chest-CT-Data/train/adenocarcinoma/ad15.png\n",
            "Loaded image /content/drive/MyDrive/Chest-CT-Data/train/adenocarcinoma/ad21.png\n",
            "Loaded image /content/drive/MyDrive/Chest-CT-Data/train/adenocarcinoma/000102.png\n",
            "Loaded image /content/drive/MyDrive/Chest-CT-Data/train/adenocarcinoma/000122.png\n",
            "Loaded image /content/drive/MyDrive/Chest-CT-Data/train/adenocarcinoma/000097 (3).png\n",
            "Loaded image /content/drive/MyDrive/Chest-CT-Data/train/adenocarcinoma/ad7.png\n",
            "Loaded image /content/drive/MyDrive/Chest-CT-Data/train/adenocarcinoma/000102 (2).png\n",
            "Loaded image /content/drive/MyDrive/Chest-CT-Data/train/adenocarcinoma/000102 (7).png\n",
            "Loaded image /content/drive/MyDrive/Chest-CT-Data/train/adenocarcinoma/ad19.png\n",
            "Loaded image /content/drive/MyDrive/Chest-CT-Data/train/adenocarcinoma/000118 (4).png\n",
            "Loaded image /content/drive/MyDrive/Chest-CT-Data/train/adenocarcinoma/ad1.png\n",
            "Loaded image /content/drive/MyDrive/Chest-CT-Data/train/adenocarcinoma/000105 (3).png\n",
            "Loaded image /content/drive/MyDrive/Chest-CT-Data/train/adenocarcinoma/000107 (9).png\n",
            "Loaded image /content/drive/MyDrive/Chest-CT-Data/train/adenocarcinoma/ad17.png\n",
            "Loaded image /content/drive/MyDrive/Chest-CT-Data/train/adenocarcinoma/000106 (4).png\n",
            "Loaded image /content/drive/MyDrive/Chest-CT-Data/train/adenocarcinoma/000119 (5).png\n",
            "Loaded image /content/drive/MyDrive/Chest-CT-Data/train/adenocarcinoma/000101 (7).png\n",
            "Loaded image /content/drive/MyDrive/Chest-CT-Data/train/adenocarcinoma/000105.png\n",
            "Loaded image /content/drive/MyDrive/Chest-CT-Data/train/adenocarcinoma/000119 (4).png\n",
            "Loaded image /content/drive/MyDrive/Chest-CT-Data/train/adenocarcinoma/000121 (9).png\n",
            "Loaded image /content/drive/MyDrive/Chest-CT-Data/train/adenocarcinoma/ad4.png\n",
            "Loaded image /content/drive/MyDrive/Chest-CT-Data/train/adenocarcinoma/000118 (6).png\n",
            "Loaded image /content/drive/MyDrive/Chest-CT-Data/train/adenocarcinoma/ad12.png\n",
            "Loaded image /content/drive/MyDrive/Chest-CT-Data/train/adenocarcinoma/000097 (10).png\n",
            "Loaded image /content/drive/MyDrive/Chest-CT-Data/train/adenocarcinoma/000104 (10).png\n",
            "Loaded image /content/drive/MyDrive/Chest-CT-Data/train/adenocarcinoma/000105 (4).png\n",
            "Loaded image /content/drive/MyDrive/Chest-CT-Data/train/large.cell.carcinoma/000068 (4).png\n",
            "Loaded image /content/drive/MyDrive/Chest-CT-Data/train/large.cell.carcinoma/000095 (2).png\n",
            "Loaded image /content/drive/MyDrive/Chest-CT-Data/train/large.cell.carcinoma/000078 (4).png\n",
            "Loaded image /content/drive/MyDrive/Chest-CT-Data/train/large.cell.carcinoma/000106 (2).png\n",
            "Loaded image /content/drive/MyDrive/Chest-CT-Data/train/large.cell.carcinoma/000041 (4).png\n",
            "Loaded image /content/drive/MyDrive/Chest-CT-Data/train/large.cell.carcinoma/000009 (4).png\n",
            "Loaded image /content/drive/MyDrive/Chest-CT-Data/train/large.cell.carcinoma/000095.png\n",
            "Loaded image /content/drive/MyDrive/Chest-CT-Data/train/large.cell.carcinoma/000062 (4).png\n",
            "Loaded image /content/drive/MyDrive/Chest-CT-Data/train/large.cell.carcinoma/000080.png\n",
            "Loaded image /content/drive/MyDrive/Chest-CT-Data/train/large.cell.carcinoma/000172.png\n",
            "Loaded image /content/drive/MyDrive/Chest-CT-Data/train/large.cell.carcinoma/000020 (4).png\n",
            "Loaded image /content/drive/MyDrive/Chest-CT-Data/train/large.cell.carcinoma/l1.png\n",
            "Loaded image /content/drive/MyDrive/Chest-CT-Data/train/large.cell.carcinoma/000105.png\n",
            "Loaded image /content/drive/MyDrive/Chest-CT-Data/train/large.cell.carcinoma/000149.png\n",
            "Loaded image /content/drive/MyDrive/Chest-CT-Data/train/large.cell.carcinoma/000018 (2).png\n",
            "Loaded image /content/drive/MyDrive/Chest-CT-Data/train/large.cell.carcinoma/000094 (4).png\n",
            "Loaded image /content/drive/MyDrive/Chest-CT-Data/train/large.cell.carcinoma/000094 (3).png\n",
            "Loaded image /content/drive/MyDrive/Chest-CT-Data/train/large.cell.carcinoma/l2.png\n",
            "Loaded image /content/drive/MyDrive/Chest-CT-Data/train/large.cell.carcinoma/000072 (2).png\n",
            "Loaded image /content/drive/MyDrive/Chest-CT-Data/train/large.cell.carcinoma/l3.png\n",
            "Loaded image /content/drive/MyDrive/Chest-CT-Data/train/large.cell.carcinoma/000078 (3).png\n",
            "Loaded image /content/drive/MyDrive/Chest-CT-Data/train/large.cell.carcinoma/000039 (3).png\n",
            "Loaded image /content/drive/MyDrive/Chest-CT-Data/train/large.cell.carcinoma/000097.png\n",
            "Loaded image /content/drive/MyDrive/Chest-CT-Data/train/large.cell.carcinoma/000077.png\n",
            "Loaded image /content/drive/MyDrive/Chest-CT-Data/train/large.cell.carcinoma/000073 (2).png\n",
            "Loaded image /content/drive/MyDrive/Chest-CT-Data/train/large.cell.carcinoma/000081.png\n",
            "Loaded image /content/drive/MyDrive/Chest-CT-Data/train/large.cell.carcinoma/000143.png\n",
            "Loaded image /content/drive/MyDrive/Chest-CT-Data/train/large.cell.carcinoma/000169.png\n",
            "Loaded image /content/drive/MyDrive/Chest-CT-Data/train/large.cell.carcinoma/000021.png\n",
            "Loaded image /content/drive/MyDrive/Chest-CT-Data/train/large.cell.carcinoma/000051.png\n",
            "Loaded image /content/drive/MyDrive/Chest-CT-Data/train/large.cell.carcinoma/000016 (3).png\n",
            "Loaded image /content/drive/MyDrive/Chest-CT-Data/train/large.cell.carcinoma/000159.png\n",
            "Loaded image /content/drive/MyDrive/Chest-CT-Data/train/large.cell.carcinoma/000062 (3).png\n",
            "Loaded image /content/drive/MyDrive/Chest-CT-Data/train/large.cell.carcinoma/000055 (4).png\n",
            "Loaded image /content/drive/MyDrive/Chest-CT-Data/train/large.cell.carcinoma/000068 (3).png\n",
            "Loaded image /content/drive/MyDrive/Chest-CT-Data/train/large.cell.carcinoma/000019 (3).png\n",
            "Loaded image /content/drive/MyDrive/Chest-CT-Data/train/large.cell.carcinoma/000084 (2).png\n",
            "Loaded image /content/drive/MyDrive/Chest-CT-Data/train/large.cell.carcinoma/di1.png\n",
            "Loaded image /content/drive/MyDrive/Chest-CT-Data/train/large.cell.carcinoma/000089.png\n",
            "Loaded image /content/drive/MyDrive/Chest-CT-Data/train/large.cell.carcinoma/l5.png\n",
            "Loaded image /content/drive/MyDrive/Chest-CT-Data/train/large.cell.carcinoma/000097 (2).png\n",
            "Loaded image /content/drive/MyDrive/Chest-CT-Data/train/large.cell.carcinoma/000173.png\n",
            "Loaded image /content/drive/MyDrive/Chest-CT-Data/train/large.cell.carcinoma/000106.png\n",
            "Loaded image /content/drive/MyDrive/Chest-CT-Data/train/large.cell.carcinoma/000063.png\n",
            "Loaded image /content/drive/MyDrive/Chest-CT-Data/train/large.cell.carcinoma/000024 (2).png\n",
            "Loaded image /content/drive/MyDrive/Chest-CT-Data/train/large.cell.carcinoma/000045.png\n",
            "Loaded image /content/drive/MyDrive/Chest-CT-Data/train/large.cell.carcinoma/000066 (2).png\n",
            "Loaded image /content/drive/MyDrive/Chest-CT-Data/train/large.cell.carcinoma/000093 (3).png\n",
            "Loaded image /content/drive/MyDrive/Chest-CT-Data/train/large.cell.carcinoma/000027 (2).png\n",
            "Loaded image /content/drive/MyDrive/Chest-CT-Data/train/large.cell.carcinoma/000017.png\n",
            "Loaded image /content/drive/MyDrive/Chest-CT-Data/train/large.cell.carcinoma/000055.png\n",
            "Loaded image /content/drive/MyDrive/Chest-CT-Data/train/large.cell.carcinoma/000010.png\n",
            "Loaded image /content/drive/MyDrive/Chest-CT-Data/train/large.cell.carcinoma/000034 (2).png\n",
            "Loaded image /content/drive/MyDrive/Chest-CT-Data/train/large.cell.carcinoma/000058 (3).png\n",
            "Loaded image /content/drive/MyDrive/Chest-CT-Data/train/large.cell.carcinoma/000055 (3).png\n",
            "Loaded image /content/drive/MyDrive/Chest-CT-Data/train/large.cell.carcinoma/000076 (3).png\n",
            "Loaded image /content/drive/MyDrive/Chest-CT-Data/train/large.cell.carcinoma/000095 (3).png\n",
            "Loaded image /content/drive/MyDrive/Chest-CT-Data/train/large.cell.carcinoma/000043 (2).png\n",
            "Loaded image /content/drive/MyDrive/Chest-CT-Data/train/large.cell.carcinoma/000040 (2).png\n",
            "Loaded image /content/drive/MyDrive/Chest-CT-Data/train/large.cell.carcinoma/000104.png\n",
            "Loaded image /content/drive/MyDrive/Chest-CT-Data/train/large.cell.carcinoma/000041.png\n",
            "Loaded image /content/drive/MyDrive/Chest-CT-Data/train/large.cell.carcinoma/000095 (4).png\n",
            "Loaded image /content/drive/MyDrive/Chest-CT-Data/train/large.cell.carcinoma/000042 (2).png\n",
            "Loaded image /content/drive/MyDrive/Chest-CT-Data/train/large.cell.carcinoma/000002.png\n",
            "Loaded image /content/drive/MyDrive/Chest-CT-Data/train/large.cell.carcinoma/000059 (3).png\n",
            "Loaded image /content/drive/MyDrive/Chest-CT-Data/train/large.cell.carcinoma/000065 (2).png\n",
            "Loaded image /content/drive/MyDrive/Chest-CT-Data/train/large.cell.carcinoma/000098 (3).png\n",
            "Loaded image /content/drive/MyDrive/Chest-CT-Data/train/large.cell.carcinoma/000060.png\n",
            "Loaded image /content/drive/MyDrive/Chest-CT-Data/train/large.cell.carcinoma/000003 (3).png\n",
            "Loaded image /content/drive/MyDrive/Chest-CT-Data/train/large.cell.carcinoma/000133.png\n",
            "Loaded image /content/drive/MyDrive/Chest-CT-Data/train/large.cell.carcinoma/000098 (4).png\n",
            "Loaded image /content/drive/MyDrive/Chest-CT-Data/train/large.cell.carcinoma/000062.png\n",
            "Loaded image /content/drive/MyDrive/Chest-CT-Data/train/large.cell.carcinoma/l6.png\n",
            "Loaded image /content/drive/MyDrive/Chest-CT-Data/train/large.cell.carcinoma/000046.png\n",
            "Loaded image /content/drive/MyDrive/Chest-CT-Data/train/large.cell.carcinoma/000057 (4).png\n",
            "Loaded image /content/drive/MyDrive/Chest-CT-Data/train/large.cell.carcinoma/l4.png\n",
            "Loaded image /content/drive/MyDrive/Chest-CT-Data/train/large.cell.carcinoma/000057 (3).png\n",
            "Loaded image /content/drive/MyDrive/Chest-CT-Data/train/large.cell.carcinoma/000059 (4).png\n",
            "Loaded image /content/drive/MyDrive/Chest-CT-Data/train/large.cell.carcinoma/000094 (2).png\n",
            "Loaded image /content/drive/MyDrive/Chest-CT-Data/train/large.cell.carcinoma/000009 (3).png\n",
            "Loaded image /content/drive/MyDrive/Chest-CT-Data/train/large.cell.carcinoma/000063 (2).png\n",
            "Loaded image /content/drive/MyDrive/Chest-CT-Data/train/large.cell.carcinoma/000019 (4).png\n",
            "Loaded image /content/drive/MyDrive/Chest-CT-Data/train/large.cell.carcinoma/000016 (4).png\n",
            "Loaded image /content/drive/MyDrive/Chest-CT-Data/train/large.cell.carcinoma/000033 (3).png\n",
            "Loaded image /content/drive/MyDrive/Chest-CT-Data/train/large.cell.carcinoma/000032.png\n",
            "Loaded image /content/drive/MyDrive/Chest-CT-Data/train/large.cell.carcinoma/000071 (2).png\n",
            "Loaded image /content/drive/MyDrive/Chest-CT-Data/train/large.cell.carcinoma/000104 (2).png\n",
            "Loaded image /content/drive/MyDrive/Chest-CT-Data/train/large.cell.carcinoma/000023 (2).png\n",
            "Loaded image /content/drive/MyDrive/Chest-CT-Data/train/large.cell.carcinoma/000026.png\n",
            "Loaded image /content/drive/MyDrive/Chest-CT-Data/train/large.cell.carcinoma/000047 (2).png\n",
            "Loaded image /content/drive/MyDrive/Chest-CT-Data/train/large.cell.carcinoma/000041 (3).png\n",
            "Loaded image /content/drive/MyDrive/Chest-CT-Data/train/large.cell.carcinoma/000068.png\n",
            "Loaded image /content/drive/MyDrive/Chest-CT-Data/train/large.cell.carcinoma/000039 (4).png\n",
            "Loaded image /content/drive/MyDrive/Chest-CT-Data/train/large.cell.carcinoma/000015.png\n",
            "Loaded image /content/drive/MyDrive/Chest-CT-Data/train/large.cell.carcinoma/000056 (4).png\n",
            "Loaded image /content/drive/MyDrive/Chest-CT-Data/train/large.cell.carcinoma/000003 (4).png\n",
            "Loaded image /content/drive/MyDrive/Chest-CT-Data/train/large.cell.carcinoma/000066.png\n",
            "Loaded image /content/drive/MyDrive/Chest-CT-Data/train/large.cell.carcinoma/000020 (3).png\n",
            "Loaded image /content/drive/MyDrive/Chest-CT-Data/train/large.cell.carcinoma/000069.png\n",
            "Loaded image /content/drive/MyDrive/Chest-CT-Data/train/large.cell.carcinoma/000076 (4).png\n",
            "Loaded image /content/drive/MyDrive/Chest-CT-Data/train/large.cell.carcinoma/000084.png\n",
            "Loaded image /content/drive/MyDrive/Chest-CT-Data/train/large.cell.carcinoma/000058 (4).png\n",
            "Loaded image /content/drive/MyDrive/Chest-CT-Data/train/large.cell.carcinoma/000154.png\n",
            "Loaded image /content/drive/MyDrive/Chest-CT-Data/train/large.cell.carcinoma/000105 (2).png\n",
            "Loaded image /content/drive/MyDrive/Chest-CT-Data/train/large.cell.carcinoma/000056 (3).png\n",
            "Loaded image /content/drive/MyDrive/Chest-CT-Data/train/large.cell.carcinoma/000031 (2).png\n",
            "Loaded image /content/drive/MyDrive/Chest-CT-Data/train/large.cell.carcinoma/000137.png\n",
            "Loaded image /content/drive/MyDrive/Chest-CT-Data/train/large.cell.carcinoma/000150.png\n",
            "Loaded image /content/drive/MyDrive/Chest-CT-Data/train/large.cell.carcinoma/000026 (2).png\n",
            "Loaded image /content/drive/MyDrive/Chest-CT-Data/train/large.cell.carcinoma/000062 (2).png\n",
            "Loaded image /content/drive/MyDrive/Chest-CT-Data/train/large.cell.carcinoma/000057.png\n",
            "Loaded image /content/drive/MyDrive/Chest-CT-Data/train/large.cell.carcinoma/000093 (4).png\n",
            "Loaded image /content/drive/MyDrive/Chest-CT-Data/train/large.cell.carcinoma/000027.png\n",
            "Loaded image /content/drive/MyDrive/Chest-CT-Data/train/large.cell.carcinoma/000033 (4).png\n",
            "Loaded image /content/drive/MyDrive/Chest-CT-Data/train/large.cell.carcinoma/000031.png\n",
            "Loaded image /content/drive/MyDrive/Chest-CT-Data/train/normal/13 - Copy - Copy.png\n",
            "Loaded image /content/drive/MyDrive/Chest-CT-Data/train/normal/11 - Copy (3).png\n",
            "Loaded image /content/drive/MyDrive/Chest-CT-Data/train/normal/12 (2) - Copy.png\n",
            "Loaded image /content/drive/MyDrive/Chest-CT-Data/train/normal/12 - Copy.png\n",
            "Loaded image /content/drive/MyDrive/Chest-CT-Data/train/normal/11 - Copy (2) - Copy.png\n",
            "Loaded image /content/drive/MyDrive/Chest-CT-Data/train/normal/12 (2).png\n",
            "Loaded image /content/drive/MyDrive/Chest-CT-Data/train/normal/11 (2) - Copy.png\n",
            "Loaded image /content/drive/MyDrive/Chest-CT-Data/train/normal/11.png\n",
            "Loaded image /content/drive/MyDrive/Chest-CT-Data/train/normal/12 - Copy (3).png\n",
            "Loaded image /content/drive/MyDrive/Chest-CT-Data/train/normal/13 (2).png\n",
            "Loaded image /content/drive/MyDrive/Chest-CT-Data/train/normal/10 - Copy (2).png\n",
            "Loaded image /content/drive/MyDrive/Chest-CT-Data/train/normal/13 (2) - Copy.png\n",
            "Loaded image /content/drive/MyDrive/Chest-CT-Data/train/normal/12 - Copy (2).png\n",
            "Loaded image /content/drive/MyDrive/Chest-CT-Data/train/normal/11 - Copy (2).png\n",
            "Loaded image /content/drive/MyDrive/Chest-CT-Data/train/normal/11 - Copy - Copy.png\n",
            "Loaded image /content/drive/MyDrive/Chest-CT-Data/train/normal/10.png\n",
            "Loaded image /content/drive/MyDrive/Chest-CT-Data/train/normal/10 (2) - Copy.png\n",
            "Loaded image /content/drive/MyDrive/Chest-CT-Data/train/normal/11 - Copy.png\n",
            "Loaded image /content/drive/MyDrive/Chest-CT-Data/train/normal/10 (2).png\n",
            "Loaded image /content/drive/MyDrive/Chest-CT-Data/train/normal/12 - Copy (2) - Copy.png\n",
            "Loaded image /content/drive/MyDrive/Chest-CT-Data/train/normal/10 - Copy.png\n",
            "Loaded image /content/drive/MyDrive/Chest-CT-Data/train/normal/10 - Copy - Copy.png\n",
            "Loaded image /content/drive/MyDrive/Chest-CT-Data/train/normal/12.png\n",
            "Loaded image /content/drive/MyDrive/Chest-CT-Data/train/normal/13 - Copy (2).png\n",
            "Loaded image /content/drive/MyDrive/Chest-CT-Data/train/normal/13 - Copy (3).png\n",
            "Loaded image /content/drive/MyDrive/Chest-CT-Data/train/normal/10 - Copy (2) - Copy.png\n",
            "Loaded image /content/drive/MyDrive/Chest-CT-Data/train/normal/13 - Copy (2) - Copy.png\n",
            "Loaded image /content/drive/MyDrive/Chest-CT-Data/train/normal/10 - Copy (3).png\n",
            "Loaded image /content/drive/MyDrive/Chest-CT-Data/train/normal/12 - Copy - Copy.png\n",
            "Loaded image /content/drive/MyDrive/Chest-CT-Data/train/normal/11 (2).png\n",
            "Loaded image /content/drive/MyDrive/Chest-CT-Data/train/normal/5 - Copy - Copy.png\n",
            "Loaded image /content/drive/MyDrive/Chest-CT-Data/train/normal/7 - Copy (2) - Copy.png\n",
            "Loaded image /content/drive/MyDrive/Chest-CT-Data/train/normal/18 (2) - Copy.png\n",
            "Loaded image /content/drive/MyDrive/Chest-CT-Data/train/normal/5 - Copy (2) - Copy.png\n",
            "Loaded image /content/drive/MyDrive/Chest-CT-Data/train/normal/18 - Copy (2).png\n",
            "Loaded image /content/drive/MyDrive/Chest-CT-Data/train/normal/13.png\n",
            "Loaded image /content/drive/MyDrive/Chest-CT-Data/train/normal/4 - Copy (2) - Copy.png\n",
            "Loaded image /content/drive/MyDrive/Chest-CT-Data/train/normal/19.png\n",
            "Loaded image /content/drive/MyDrive/Chest-CT-Data/train/normal/6 (2).png\n",
            "Loaded image /content/drive/MyDrive/Chest-CT-Data/train/normal/17 - Copy.png\n",
            "Loaded image /content/drive/MyDrive/Chest-CT-Data/train/normal/2 - Copy.png\n",
            "Loaded image /content/drive/MyDrive/Chest-CT-Data/train/normal/7 (2) - Copy.png\n",
            "Loaded image /content/drive/MyDrive/Chest-CT-Data/train/normal/17 - Copy (2) - Copy.png\n",
            "Loaded image /content/drive/MyDrive/Chest-CT-Data/train/normal/5 - Copy.png\n",
            "Loaded image /content/drive/MyDrive/Chest-CT-Data/train/normal/17 - Copy - Copy.png\n",
            "Loaded image /content/drive/MyDrive/Chest-CT-Data/train/normal/20 - Copy - Copy.png\n",
            "Loaded image /content/drive/MyDrive/Chest-CT-Data/train/normal/20 - Copy.png\n",
            "Loaded image /content/drive/MyDrive/Chest-CT-Data/train/normal/4 (2) - Copy.png\n",
            "Loaded image /content/drive/MyDrive/Chest-CT-Data/train/normal/2 - Copy (2).png\n",
            "Loaded image /content/drive/MyDrive/Chest-CT-Data/train/normal/20 - Copy (2) - Copy.png\n",
            "Loaded image /content/drive/MyDrive/Chest-CT-Data/train/normal/21 - Copy - Copy.png\n",
            "Loaded image /content/drive/MyDrive/Chest-CT-Data/train/normal/17 (2).png\n",
            "Loaded image /content/drive/MyDrive/Chest-CT-Data/train/normal/17 - Copy (3).png\n",
            "Loaded image /content/drive/MyDrive/Chest-CT-Data/train/normal/16 (2) - Copy.png\n",
            "Loaded image /content/drive/MyDrive/Chest-CT-Data/train/normal/4 - Copy - Copy.png\n",
            "Loaded image /content/drive/MyDrive/Chest-CT-Data/train/normal/19 (2).png\n",
            "Loaded image /content/drive/MyDrive/Chest-CT-Data/train/normal/20 (2).png\n",
            "Loaded image /content/drive/MyDrive/Chest-CT-Data/train/normal/2 (2).png\n",
            "Loaded image /content/drive/MyDrive/Chest-CT-Data/train/normal/6 - Copy (3).png\n",
            "Loaded image /content/drive/MyDrive/Chest-CT-Data/train/normal/21 - Copy (2).png\n",
            "Loaded image /content/drive/MyDrive/Chest-CT-Data/train/normal/19 - Copy (2) - Copy.png\n",
            "Loaded image /content/drive/MyDrive/Chest-CT-Data/train/normal/16 - Copy (2).png\n",
            "Loaded image /content/drive/MyDrive/Chest-CT-Data/train/normal/7 - Copy (3).png\n",
            "Loaded image /content/drive/MyDrive/Chest-CT-Data/train/normal/5.png\n",
            "Loaded image /content/drive/MyDrive/Chest-CT-Data/train/normal/3.png\n",
            "Loaded image /content/drive/MyDrive/Chest-CT-Data/train/normal/6 - Copy - Copy.png\n",
            "Loaded image /content/drive/MyDrive/Chest-CT-Data/train/normal/3 - Copy - Copy.png\n",
            "Loaded image /content/drive/MyDrive/Chest-CT-Data/train/normal/4 - Copy (2).png\n",
            "Loaded image /content/drive/MyDrive/Chest-CT-Data/train/normal/2 (2) - Copy.png\n",
            "Loaded image /content/drive/MyDrive/Chest-CT-Data/train/normal/21 - Copy (2) - Copy.png\n",
            "Loaded image /content/drive/MyDrive/Chest-CT-Data/train/normal/6 - Copy (2) - Copy.png\n",
            "Loaded image /content/drive/MyDrive/Chest-CT-Data/train/normal/17 (2) - Copy.png\n",
            "Loaded image /content/drive/MyDrive/Chest-CT-Data/train/normal/7 - Copy (2).png\n",
            "Loaded image /content/drive/MyDrive/Chest-CT-Data/train/normal/6 - Copy (2).png\n",
            "Loaded image /content/drive/MyDrive/Chest-CT-Data/train/normal/18.png\n",
            "Loaded image /content/drive/MyDrive/Chest-CT-Data/train/normal/13 - Copy.png\n",
            "Loaded image /content/drive/MyDrive/Chest-CT-Data/train/normal/2 - Copy (2) - Copy.png\n",
            "Loaded image /content/drive/MyDrive/Chest-CT-Data/train/normal/16 - Copy - Copy.png\n",
            "Loaded image /content/drive/MyDrive/Chest-CT-Data/train/normal/18 - Copy (3).png\n",
            "Loaded image /content/drive/MyDrive/Chest-CT-Data/train/normal/6 - Copy.png\n",
            "Loaded image /content/drive/MyDrive/Chest-CT-Data/train/normal/19 (2) - Copy.png\n",
            "Loaded image /content/drive/MyDrive/Chest-CT-Data/train/normal/17.png\n",
            "Loaded image /content/drive/MyDrive/Chest-CT-Data/train/normal/5 - Copy (3).png\n",
            "Loaded image /content/drive/MyDrive/Chest-CT-Data/train/normal/16 - Copy (2) - Copy.png\n",
            "Loaded image /content/drive/MyDrive/Chest-CT-Data/train/normal/5 - Copy (2).png\n",
            "Loaded image /content/drive/MyDrive/Chest-CT-Data/train/normal/16 - Copy (3).png\n",
            "Loaded image /content/drive/MyDrive/Chest-CT-Data/train/normal/3 - Copy (2).png\n",
            "Loaded image /content/drive/MyDrive/Chest-CT-Data/train/normal/18 - Copy (2) - Copy.png\n",
            "Loaded image /content/drive/MyDrive/Chest-CT-Data/train/normal/18 (2).png\n",
            "Loaded image /content/drive/MyDrive/Chest-CT-Data/train/normal/16 (2).png\n",
            "Loaded image /content/drive/MyDrive/Chest-CT-Data/train/normal/4.png\n",
            "Loaded image /content/drive/MyDrive/Chest-CT-Data/train/normal/3 (2) - Copy.png\n",
            "Loaded image /content/drive/MyDrive/Chest-CT-Data/train/normal/4 - Copy.png\n",
            "Loaded image /content/drive/MyDrive/Chest-CT-Data/train/normal/2 - Copy (3).png\n",
            "Loaded image /content/drive/MyDrive/Chest-CT-Data/train/normal/4 - Copy (3).png\n",
            "Loaded image /content/drive/MyDrive/Chest-CT-Data/train/normal/5 (2) - Copy.png\n",
            "Loaded image /content/drive/MyDrive/Chest-CT-Data/train/normal/5 (2).png\n",
            "Loaded image /content/drive/MyDrive/Chest-CT-Data/train/normal/19 - Copy (3).png\n",
            "Loaded image /content/drive/MyDrive/Chest-CT-Data/train/normal/16.png\n",
            "Loaded image /content/drive/MyDrive/Chest-CT-Data/train/normal/6 (2) - Copy.png\n",
            "Loaded image /content/drive/MyDrive/Chest-CT-Data/train/normal/16 - Copy.png\n",
            "Loaded image /content/drive/MyDrive/Chest-CT-Data/train/normal/3 (2).png\n",
            "Loaded image /content/drive/MyDrive/Chest-CT-Data/train/normal/20 (2) - Copy.png\n",
            "Loaded image /content/drive/MyDrive/Chest-CT-Data/train/normal/18 - Copy - Copy.png\n",
            "Loaded image /content/drive/MyDrive/Chest-CT-Data/train/normal/17 - Copy (2).png\n",
            "Loaded image /content/drive/MyDrive/Chest-CT-Data/train/normal/2.png\n",
            "Loaded image /content/drive/MyDrive/Chest-CT-Data/train/normal/3 - Copy (2) - Copy.png\n",
            "Loaded image /content/drive/MyDrive/Chest-CT-Data/train/normal/19 - Copy - Copy.png\n",
            "Loaded image /content/drive/MyDrive/Chest-CT-Data/train/normal/3 - Copy (3).png\n",
            "Loaded image /content/drive/MyDrive/Chest-CT-Data/train/normal/3 - Copy.png\n",
            "Loaded image /content/drive/MyDrive/Chest-CT-Data/train/normal/18 - Copy.png\n",
            "Loaded image /content/drive/MyDrive/Chest-CT-Data/train/normal/7 (2).png\n",
            "Loaded image /content/drive/MyDrive/Chest-CT-Data/train/normal/19 - Copy.png\n",
            "Loaded image /content/drive/MyDrive/Chest-CT-Data/train/normal/2 - Copy - Copy.png\n",
            "Loaded image /content/drive/MyDrive/Chest-CT-Data/train/normal/19 - Copy (2).png\n",
            "Loaded image /content/drive/MyDrive/Chest-CT-Data/train/normal/4 (2).png\n",
            "Loaded image /content/drive/MyDrive/Chest-CT-Data/train/normal/20.png\n",
            "Loaded image /content/drive/MyDrive/Chest-CT-Data/train/normal/21 - Copy.png\n",
            "Loaded image /content/drive/MyDrive/Chest-CT-Data/train/normal/20 - Copy (2).png\n",
            "Loaded image /content/drive/MyDrive/Chest-CT-Data/train/normal/20 - Copy (3).png\n",
            "Loaded image /content/drive/MyDrive/Chest-CT-Data/train/normal/6.png\n",
            "Loaded image /content/drive/MyDrive/Chest-CT-Data/train/normal/8 (2) - Copy.png\n",
            "Loaded image /content/drive/MyDrive/Chest-CT-Data/train/normal/7 - Copy - Copy.png\n",
            "Loaded image /content/drive/MyDrive/Chest-CT-Data/train/normal/n7 - Copy.png\n",
            "Loaded image /content/drive/MyDrive/Chest-CT-Data/train/normal/8 - Copy.png\n",
            "Loaded image /content/drive/MyDrive/Chest-CT-Data/train/normal/n7 (2).png\n",
            "Loaded image /content/drive/MyDrive/Chest-CT-Data/train/normal/8 - Copy (2).png\n",
            "Loaded image /content/drive/MyDrive/Chest-CT-Data/train/normal/8 - Copy (2) - Copy.png\n",
            "Loaded image /content/drive/MyDrive/Chest-CT-Data/train/normal/8.png\n",
            "Loaded image /content/drive/MyDrive/Chest-CT-Data/train/normal/8 (2).png\n",
            "Loaded image /content/drive/MyDrive/Chest-CT-Data/train/normal/7 - Copy.png\n",
            "Loaded image /content/drive/MyDrive/Chest-CT-Data/train/normal/8 - Copy (3).png\n",
            "Loaded image /content/drive/MyDrive/Chest-CT-Data/train/normal/n7.png\n",
            "Loaded image /content/drive/MyDrive/Chest-CT-Data/train/normal/8 - Copy - Copy.png\n",
            "Loaded image /content/drive/MyDrive/Chest-CT-Data/train/normal/n7 (2) - Copy.png\n",
            "Loaded image /content/drive/MyDrive/Chest-CT-Data/train/normal/7.png\n",
            "Loaded image /content/drive/MyDrive/Chest-CT-Data/train/squamous.cell.carcinoma/000006 (4).png\n",
            "Loaded image /content/drive/MyDrive/Chest-CT-Data/train/squamous.cell.carcinoma/000057 (4).png\n",
            "Loaded image /content/drive/MyDrive/Chest-CT-Data/train/squamous.cell.carcinoma/000121.png\n",
            "Loaded image /content/drive/MyDrive/Chest-CT-Data/train/squamous.cell.carcinoma/000002 (4).png\n",
            "Loaded image /content/drive/MyDrive/Chest-CT-Data/train/squamous.cell.carcinoma/000007.png\n",
            "Loaded image /content/drive/MyDrive/Chest-CT-Data/train/squamous.cell.carcinoma/000062 (7).png\n",
            "Loaded image /content/drive/MyDrive/Chest-CT-Data/train/squamous.cell.carcinoma/000074 (5).png\n",
            "Loaded image /content/drive/MyDrive/Chest-CT-Data/train/squamous.cell.carcinoma/000104 (2).png\n",
            "Loaded image /content/drive/MyDrive/Chest-CT-Data/train/squamous.cell.carcinoma/000035.png\n",
            "Loaded image /content/drive/MyDrive/Chest-CT-Data/train/squamous.cell.carcinoma/000058.png\n",
            "Loaded image /content/drive/MyDrive/Chest-CT-Data/train/squamous.cell.carcinoma/000064 (4).png\n",
            "Loaded image /content/drive/MyDrive/Chest-CT-Data/train/squamous.cell.carcinoma/000055 (2).png\n",
            "Loaded image /content/drive/MyDrive/Chest-CT-Data/train/squamous.cell.carcinoma/000054.png\n",
            "Loaded image /content/drive/MyDrive/Chest-CT-Data/train/squamous.cell.carcinoma/000077 (2).png\n",
            "Loaded image /content/drive/MyDrive/Chest-CT-Data/train/squamous.cell.carcinoma/000057 (7).png\n",
            "Loaded image /content/drive/MyDrive/Chest-CT-Data/train/squamous.cell.carcinoma/000046 (5).png\n",
            "Loaded image /content/drive/MyDrive/Chest-CT-Data/train/squamous.cell.carcinoma/000070 (2).png\n",
            "Loaded image /content/drive/MyDrive/Chest-CT-Data/train/squamous.cell.carcinoma/000081.png\n",
            "Loaded image /content/drive/MyDrive/Chest-CT-Data/train/squamous.cell.carcinoma/000041 (4).png\n",
            "Loaded image /content/drive/MyDrive/Chest-CT-Data/train/squamous.cell.carcinoma/000035 (5).png\n",
            "Loaded image /content/drive/MyDrive/Chest-CT-Data/train/squamous.cell.carcinoma/000104.png\n",
            "Loaded image /content/drive/MyDrive/Chest-CT-Data/train/squamous.cell.carcinoma/000083 (6).png\n",
            "Loaded image /content/drive/MyDrive/Chest-CT-Data/train/squamous.cell.carcinoma/000003.png\n",
            "Loaded image /content/drive/MyDrive/Chest-CT-Data/train/squamous.cell.carcinoma/000084 (5).png\n",
            "Loaded image /content/drive/MyDrive/Chest-CT-Data/train/squamous.cell.carcinoma/000103.png\n",
            "Loaded image /content/drive/MyDrive/Chest-CT-Data/train/squamous.cell.carcinoma/000083 (2).png\n",
            "Loaded image /content/drive/MyDrive/Chest-CT-Data/train/squamous.cell.carcinoma/000065 (5).png\n",
            "Loaded image /content/drive/MyDrive/Chest-CT-Data/train/squamous.cell.carcinoma/000057 (6).png\n",
            "Loaded image /content/drive/MyDrive/Chest-CT-Data/train/squamous.cell.carcinoma/000044 (2).png\n",
            "Loaded image /content/drive/MyDrive/Chest-CT-Data/train/squamous.cell.carcinoma/000079 (5).png\n",
            "Loaded image /content/drive/MyDrive/Chest-CT-Data/train/squamous.cell.carcinoma/000094 (3).png\n",
            "Loaded image /content/drive/MyDrive/Chest-CT-Data/train/squamous.cell.carcinoma/000120 (6).png\n",
            "Loaded image /content/drive/MyDrive/Chest-CT-Data/train/squamous.cell.carcinoma/000070.png\n",
            "Loaded image /content/drive/MyDrive/Chest-CT-Data/train/squamous.cell.carcinoma/000066 (2).png\n",
            "Loaded image /content/drive/MyDrive/Chest-CT-Data/train/squamous.cell.carcinoma/000083 (5).png\n",
            "Loaded image /content/drive/MyDrive/Chest-CT-Data/train/squamous.cell.carcinoma/000122.png\n",
            "Loaded image /content/drive/MyDrive/Chest-CT-Data/train/squamous.cell.carcinoma/000078 (7).png\n",
            "Loaded image /content/drive/MyDrive/Chest-CT-Data/train/squamous.cell.carcinoma/000050 (2).png\n",
            "Loaded image /content/drive/MyDrive/Chest-CT-Data/train/squamous.cell.carcinoma/000048.png\n",
            "Loaded image /content/drive/MyDrive/Chest-CT-Data/train/squamous.cell.carcinoma/000085.png\n",
            "Loaded image /content/drive/MyDrive/Chest-CT-Data/train/squamous.cell.carcinoma/000084 (7).png\n",
            "Loaded image /content/drive/MyDrive/Chest-CT-Data/train/squamous.cell.carcinoma/000099 (3).png\n",
            "Loaded image /content/drive/MyDrive/Chest-CT-Data/train/squamous.cell.carcinoma/000049 (3).png\n",
            "Loaded image /content/drive/MyDrive/Chest-CT-Data/train/squamous.cell.carcinoma/000089 (4).png\n",
            "Loaded image /content/drive/MyDrive/Chest-CT-Data/train/squamous.cell.carcinoma/000038 (2).png\n",
            "Loaded image /content/drive/MyDrive/Chest-CT-Data/train/squamous.cell.carcinoma/000074 (7).png\n",
            "Loaded image /content/drive/MyDrive/Chest-CT-Data/train/squamous.cell.carcinoma/000071 (3).png\n",
            "Loaded image /content/drive/MyDrive/Chest-CT-Data/train/squamous.cell.carcinoma/000004 (5).png\n",
            "Loaded image /content/drive/MyDrive/Chest-CT-Data/train/squamous.cell.carcinoma/000106 (3).png\n",
            "Loaded image /content/drive/MyDrive/Chest-CT-Data/train/squamous.cell.carcinoma/000056 (7).png\n",
            "Loaded image /content/drive/MyDrive/Chest-CT-Data/train/squamous.cell.carcinoma/000120 (2).png\n",
            "Loaded image /content/drive/MyDrive/Chest-CT-Data/train/squamous.cell.carcinoma/000009 (2).png\n",
            "Loaded image /content/drive/MyDrive/Chest-CT-Data/train/squamous.cell.carcinoma/000043.png\n",
            "Loaded image /content/drive/MyDrive/Chest-CT-Data/train/squamous.cell.carcinoma/000077 (5).png\n",
            "Loaded image /content/drive/MyDrive/Chest-CT-Data/train/squamous.cell.carcinoma/000056 (5).png\n",
            "Loaded image /content/drive/MyDrive/Chest-CT-Data/train/squamous.cell.carcinoma/000106 (4).png\n",
            "Loaded image /content/drive/MyDrive/Chest-CT-Data/train/squamous.cell.carcinoma/000088.png\n",
            "Loaded image /content/drive/MyDrive/Chest-CT-Data/train/squamous.cell.carcinoma/000121 (2).png\n",
            "Loaded image /content/drive/MyDrive/Chest-CT-Data/train/squamous.cell.carcinoma/000096.png\n",
            "Loaded image /content/drive/MyDrive/Chest-CT-Data/train/squamous.cell.carcinoma/000054 (3).png\n",
            "Loaded image /content/drive/MyDrive/Chest-CT-Data/train/squamous.cell.carcinoma/000066.png\n",
            "Loaded image /content/drive/MyDrive/Chest-CT-Data/train/squamous.cell.carcinoma/000060 (2).png\n",
            "Loaded image /content/drive/MyDrive/Chest-CT-Data/train/squamous.cell.carcinoma/000101 (3).png\n",
            "Loaded image /content/drive/MyDrive/Chest-CT-Data/train/squamous.cell.carcinoma/000074 (6).png\n",
            "Loaded image /content/drive/MyDrive/Chest-CT-Data/train/squamous.cell.carcinoma/000063 (3).png\n",
            "Loaded image /content/drive/MyDrive/Chest-CT-Data/train/squamous.cell.carcinoma/000082 (4).png\n",
            "Loaded image /content/drive/MyDrive/Chest-CT-Data/train/squamous.cell.carcinoma/000057 (5).png\n",
            "Loaded image /content/drive/MyDrive/Chest-CT-Data/train/squamous.cell.carcinoma/000018 (6).png\n",
            "Loaded image /content/drive/MyDrive/Chest-CT-Data/train/squamous.cell.carcinoma/000067 (5).png\n",
            "Loaded image /content/drive/MyDrive/Chest-CT-Data/train/squamous.cell.carcinoma/000043 (3).png\n",
            "Loaded image /content/drive/MyDrive/Chest-CT-Data/train/squamous.cell.carcinoma/000016 (3).png\n",
            "Loaded image /content/drive/MyDrive/Chest-CT-Data/train/squamous.cell.carcinoma/000106 (5).png\n",
            "Loaded image /content/drive/MyDrive/Chest-CT-Data/train/squamous.cell.carcinoma/000046 (4).png\n",
            "Loaded image /content/drive/MyDrive/Chest-CT-Data/train/squamous.cell.carcinoma/000073 (6).png\n",
            "Loaded image /content/drive/MyDrive/Chest-CT-Data/train/squamous.cell.carcinoma/000010 (6).png\n",
            "Loaded image /content/drive/MyDrive/Chest-CT-Data/train/squamous.cell.carcinoma/000007 (4).png\n",
            "Loaded image /content/drive/MyDrive/Chest-CT-Data/train/squamous.cell.carcinoma/000063.png\n",
            "Loaded image /content/drive/MyDrive/Chest-CT-Data/train/squamous.cell.carcinoma/000082 (3).png\n",
            "Loaded image /content/drive/MyDrive/Chest-CT-Data/train/squamous.cell.carcinoma/000002 (6).png\n",
            "Loaded image /content/drive/MyDrive/Chest-CT-Data/train/squamous.cell.carcinoma/000038 (7).png\n",
            "Loaded image /content/drive/MyDrive/Chest-CT-Data/train/squamous.cell.carcinoma/000079.png\n",
            "Loaded image /content/drive/MyDrive/Chest-CT-Data/train/squamous.cell.carcinoma/000106 (6).png\n",
            "Loaded image /content/drive/MyDrive/Chest-CT-Data/train/squamous.cell.carcinoma/000075.png\n",
            "Loaded image /content/drive/MyDrive/Chest-CT-Data/train/squamous.cell.carcinoma/000120 (4).png\n",
            "Loaded image /content/drive/MyDrive/Chest-CT-Data/train/squamous.cell.carcinoma/000094.png\n",
            "Loaded image /content/drive/MyDrive/Chest-CT-Data/train/squamous.cell.carcinoma/000008 (3).png\n",
            "Loaded image /content/drive/MyDrive/Chest-CT-Data/train/squamous.cell.carcinoma/000037 (2).png\n",
            "Loaded image /content/drive/MyDrive/Chest-CT-Data/train/squamous.cell.carcinoma/000096 (2).png\n",
            "Loaded image /content/drive/MyDrive/Chest-CT-Data/train/squamous.cell.carcinoma/000069 (2).png\n",
            "Loaded image /content/drive/MyDrive/Chest-CT-Data/train/squamous.cell.carcinoma/000068 (4).png\n",
            "Loaded image /content/drive/MyDrive/Chest-CT-Data/train/squamous.cell.carcinoma/000058 (3).png\n",
            "Loaded image /content/drive/MyDrive/Chest-CT-Data/train/squamous.cell.carcinoma/000063 (6).png\n",
            "Loaded image /content/drive/MyDrive/Chest-CT-Data/train/squamous.cell.carcinoma/000004 (4).png\n",
            "Loaded image /content/drive/MyDrive/Chest-CT-Data/train/squamous.cell.carcinoma/000055 (3).png\n",
            "Loaded image /content/drive/MyDrive/Chest-CT-Data/train/squamous.cell.carcinoma/000048 (5).png\n",
            "Loaded image /content/drive/MyDrive/Chest-CT-Data/train/squamous.cell.carcinoma/000048 (7).png\n",
            "Loaded image /content/drive/MyDrive/Chest-CT-Data/train/squamous.cell.carcinoma/000079 (7).png\n",
            "Loaded image /content/drive/MyDrive/Chest-CT-Data/train/squamous.cell.carcinoma/000051 (3).png\n",
            "Loaded image /content/drive/MyDrive/Chest-CT-Data/train/squamous.cell.carcinoma/000058 (5).png\n",
            "Loaded image /content/drive/MyDrive/Chest-CT-Data/train/squamous.cell.carcinoma/000030 (2).png\n",
            "Loaded image /content/drive/MyDrive/Chest-CT-Data/train/squamous.cell.carcinoma/000027 (2).png\n",
            "Loaded image /content/drive/MyDrive/Chest-CT-Data/train/squamous.cell.carcinoma/000015 (7).png\n",
            "Loaded image /content/drive/MyDrive/Chest-CT-Data/train/squamous.cell.carcinoma/000050 (6).png\n",
            "Loaded image /content/drive/MyDrive/Chest-CT-Data/train/squamous.cell.carcinoma/000099 (2).png\n",
            "Loaded image /content/drive/MyDrive/Chest-CT-Data/train/squamous.cell.carcinoma/000046 (6).png\n",
            "Loaded image /content/drive/MyDrive/Chest-CT-Data/train/squamous.cell.carcinoma/000081 (3).png\n",
            "Loaded image /content/drive/MyDrive/Chest-CT-Data/train/squamous.cell.carcinoma/000091 (5).png\n",
            "Loaded image /content/drive/MyDrive/Chest-CT-Data/train/squamous.cell.carcinoma/000030 (7).png\n",
            "Loaded image /content/drive/MyDrive/Chest-CT-Data/train/squamous.cell.carcinoma/000052 (4).png\n",
            "Loaded image /content/drive/MyDrive/Chest-CT-Data/train/squamous.cell.carcinoma/000090 (6).png\n",
            "Loaded image /content/drive/MyDrive/Chest-CT-Data/train/squamous.cell.carcinoma/000046 (7).png\n",
            "Loaded image /content/drive/MyDrive/Chest-CT-Data/train/squamous.cell.carcinoma/000013 (6).png\n",
            "Loaded image /content/drive/MyDrive/Chest-CT-Data/train/squamous.cell.carcinoma/000053 (6).png\n",
            "Loaded image /content/drive/MyDrive/Chest-CT-Data/train/squamous.cell.carcinoma/000077 (4).png\n",
            "Loaded image /content/drive/MyDrive/Chest-CT-Data/train/squamous.cell.carcinoma/000062 (5).png\n",
            "Loaded image /content/drive/MyDrive/Chest-CT-Data/train/squamous.cell.carcinoma/000058 (7).png\n",
            "Loaded image /content/drive/MyDrive/Chest-CT-Data/train/squamous.cell.carcinoma/000083 (7).png\n",
            "Loaded image /content/drive/MyDrive/Chest-CT-Data/train/squamous.cell.carcinoma/000015 (5).png\n",
            "Loaded image /content/drive/MyDrive/Chest-CT-Data/train/squamous.cell.carcinoma/000105 (5).png\n",
            "Loaded image /content/drive/MyDrive/Chest-CT-Data/train/squamous.cell.carcinoma/000006.png\n",
            "Loaded image /content/drive/MyDrive/Chest-CT-Data/train/squamous.cell.carcinoma/000033.png\n",
            "Loaded image /content/drive/MyDrive/Chest-CT-Data/train/squamous.cell.carcinoma/000017 (4).png\n",
            "Loaded image /content/drive/MyDrive/Chest-CT-Data/train/squamous.cell.carcinoma/000100 (4).png\n",
            "Loaded image /content/drive/MyDrive/Chest-CT-Data/train/squamous.cell.carcinoma/000028 (7).png\n",
            "Loaded image /content/drive/MyDrive/Chest-CT-Data/train/squamous.cell.carcinoma/000093.png\n",
            "Loaded image /content/drive/MyDrive/Chest-CT-Data/train/squamous.cell.carcinoma/000038 (5).png\n",
            "Loaded image /content/drive/MyDrive/Chest-CT-Data/train/squamous.cell.carcinoma/000028 (4).png\n",
            "Loaded image /content/drive/MyDrive/Chest-CT-Data/train/squamous.cell.carcinoma/000091 (7).png\n",
            "Loaded image /content/drive/MyDrive/Chest-CT-Data/train/squamous.cell.carcinoma/000032.png\n",
            "Loaded image /content/drive/MyDrive/Chest-CT-Data/train/squamous.cell.carcinoma/000024 (7).png\n",
            "Loaded image /content/drive/MyDrive/Chest-CT-Data/train/squamous.cell.carcinoma/000030 (5).png\n",
            "Loaded image /content/drive/MyDrive/Chest-CT-Data/train/squamous.cell.carcinoma/000067 (3).png\n",
            "Loaded image /content/drive/MyDrive/Chest-CT-Data/train/squamous.cell.carcinoma/000004 (7).png\n",
            "Loaded image /content/drive/MyDrive/Chest-CT-Data/train/squamous.cell.carcinoma/000036 (4).png\n",
            "Loaded image /content/drive/MyDrive/Chest-CT-Data/train/squamous.cell.carcinoma/000106 (7).png\n",
            "Loaded image /content/drive/MyDrive/Chest-CT-Data/train/squamous.cell.carcinoma/000067 (7).png\n",
            "Loaded image /content/drive/MyDrive/Chest-CT-Data/train/squamous.cell.carcinoma/000065 (7).png\n",
            "Loaded image /content/drive/MyDrive/Chest-CT-Data/train/squamous.cell.carcinoma/000028 (5).png\n",
            "Loaded image /content/drive/MyDrive/Chest-CT-Data/train/squamous.cell.carcinoma/000067 (2).png\n",
            "Loaded image /content/drive/MyDrive/Chest-CT-Data/train/squamous.cell.carcinoma/000081 (6).png\n",
            "Loaded image /content/drive/MyDrive/Chest-CT-Data/train/squamous.cell.carcinoma/000122 (3).png\n",
            "Loaded image /content/drive/MyDrive/Chest-CT-Data/train/squamous.cell.carcinoma/000029 (4).png\n",
            "Loaded image /content/drive/MyDrive/Chest-CT-Data/train/squamous.cell.carcinoma/000078.png\n",
            "Loaded image /content/drive/MyDrive/Chest-CT-Data/train/squamous.cell.carcinoma/000084 (3).png\n",
            "Loaded image /content/drive/MyDrive/Chest-CT-Data/train/squamous.cell.carcinoma/000053.png\n",
            "Loaded image /content/drive/MyDrive/Chest-CT-Data/train/squamous.cell.carcinoma/000105 (7).png\n",
            "Loaded image /content/drive/MyDrive/Chest-CT-Data/train/squamous.cell.carcinoma/000057 (3).png\n",
            "Loaded image /content/drive/MyDrive/Chest-CT-Data/train/squamous.cell.carcinoma/000078 (5).png\n",
            "Loaded image /content/drive/MyDrive/Chest-CT-Data/train/squamous.cell.carcinoma/000024 (5).png\n",
            "Loaded image /content/drive/MyDrive/Chest-CT-Data/train/squamous.cell.carcinoma/sq4.png\n",
            "Loaded image /content/drive/MyDrive/Chest-CT-Data/train/squamous.cell.carcinoma/sq1.png\n",
            "Loaded image /content/drive/MyDrive/Chest-CT-Data/train/squamous.cell.carcinoma/sq6.png\n",
            "Loaded image /content/drive/MyDrive/Chest-CT-Data/train/squamous.cell.carcinoma/sq3.png\n",
            "Loaded image /content/drive/MyDrive/Chest-CT-Data/train/squamous.cell.carcinoma/sq2.png\n",
            "Loaded image /content/drive/MyDrive/Chest-CT-Data/train/squamous.cell.carcinoma/sq5.png\n",
            "Loaded image /content/drive/MyDrive/Chest-CT-Data/valid/adenocarcinoma/000112 (2).png\n",
            "Loaded image /content/drive/MyDrive/Chest-CT-Data/valid/adenocarcinoma/000109 (4).png\n",
            "Loaded image /content/drive/MyDrive/Chest-CT-Data/valid/adenocarcinoma/000114 (10).png\n",
            "Loaded image /content/drive/MyDrive/Chest-CT-Data/valid/adenocarcinoma/000116 (3).png\n",
            "Loaded image /content/drive/MyDrive/Chest-CT-Data/valid/adenocarcinoma/000115 (5).png\n",
            "Loaded image /content/drive/MyDrive/Chest-CT-Data/valid/adenocarcinoma/000109 (8).png\n",
            "Loaded image /content/drive/MyDrive/Chest-CT-Data/valid/adenocarcinoma/000108 (8).png\n",
            "Loaded image /content/drive/MyDrive/Chest-CT-Data/valid/adenocarcinoma/000108 (7).png\n",
            "Loaded image /content/drive/MyDrive/Chest-CT-Data/valid/adenocarcinoma/000116 (8).png\n",
            "Loaded image /content/drive/MyDrive/Chest-CT-Data/valid/adenocarcinoma/000116 (9).png\n",
            "Loaded image /content/drive/MyDrive/Chest-CT-Data/valid/adenocarcinoma/000116 (5).png\n",
            "Loaded image /content/drive/MyDrive/Chest-CT-Data/valid/adenocarcinoma/000117 (6).png\n",
            "Loaded image /content/drive/MyDrive/Chest-CT-Data/valid/adenocarcinoma/000114.png\n",
            "Loaded image /content/drive/MyDrive/Chest-CT-Data/valid/adenocarcinoma/000110 (7).png\n",
            "Loaded image /content/drive/MyDrive/Chest-CT-Data/valid/adenocarcinoma/000117.png\n",
            "Loaded image /content/drive/MyDrive/Chest-CT-Data/valid/adenocarcinoma/000113.png\n",
            "Loaded image /content/drive/MyDrive/Chest-CT-Data/valid/adenocarcinoma/000115.png\n",
            "Loaded image /content/drive/MyDrive/Chest-CT-Data/valid/adenocarcinoma/000112 (9).png\n",
            "Loaded image /content/drive/MyDrive/Chest-CT-Data/valid/adenocarcinoma/000113 (3).png\n",
            "Loaded image /content/drive/MyDrive/Chest-CT-Data/valid/adenocarcinoma/000111 (2).png\n",
            "Loaded image /content/drive/MyDrive/Chest-CT-Data/valid/adenocarcinoma/000109 (3).png\n",
            "Loaded image /content/drive/MyDrive/Chest-CT-Data/valid/adenocarcinoma/000115 (9).png\n",
            "Loaded image /content/drive/MyDrive/Chest-CT-Data/valid/adenocarcinoma/000115 (2).png\n",
            "Loaded image /content/drive/MyDrive/Chest-CT-Data/valid/large.cell.carcinoma/000109 (1).png\n",
            "Loaded image /content/drive/MyDrive/Chest-CT-Data/valid/large.cell.carcinoma/000108 (1).png\n",
            "Loaded image /content/drive/MyDrive/Chest-CT-Data/valid/large.cell.carcinoma/000110 (1).png\n",
            "Loaded image /content/drive/MyDrive/Chest-CT-Data/valid/large.cell.carcinoma/000111 (2) (1).png\n",
            "Loaded image /content/drive/MyDrive/Chest-CT-Data/valid/large.cell.carcinoma/000130.png\n",
            "Loaded image /content/drive/MyDrive/Chest-CT-Data/valid/large.cell.carcinoma/000116.png\n",
            "Loaded image /content/drive/MyDrive/Chest-CT-Data/valid/large.cell.carcinoma/000113 (2).png\n",
            "Loaded image /content/drive/MyDrive/Chest-CT-Data/valid/large.cell.carcinoma/000108.png\n",
            "Loaded image /content/drive/MyDrive/Chest-CT-Data/valid/large.cell.carcinoma/000110.png\n",
            "Loaded image /content/drive/MyDrive/Chest-CT-Data/valid/large.cell.carcinoma/000110 (2) (1).png\n",
            "Loaded image /content/drive/MyDrive/Chest-CT-Data/valid/large.cell.carcinoma/000128.png\n",
            "Loaded image /content/drive/MyDrive/Chest-CT-Data/valid/large.cell.carcinoma/000115 (3).png\n",
            "Loaded image /content/drive/MyDrive/Chest-CT-Data/valid/large.cell.carcinoma/000108 (2) (1).png\n",
            "Loaded image /content/drive/MyDrive/Chest-CT-Data/valid/large.cell.carcinoma/000111 (1).png\n",
            "Loaded image /content/drive/MyDrive/Chest-CT-Data/valid/large.cell.carcinoma/000112.png\n",
            "Loaded image /content/drive/MyDrive/Chest-CT-Data/valid/large.cell.carcinoma/000111 (2).png\n",
            "Loaded image /content/drive/MyDrive/Chest-CT-Data/valid/large.cell.carcinoma/000118 (2).png\n",
            "Loaded image /content/drive/MyDrive/Chest-CT-Data/valid/large.cell.carcinoma/000109.png\n",
            "Loaded image /content/drive/MyDrive/Chest-CT-Data/valid/large.cell.carcinoma/000122.png\n",
            "Loaded image /content/drive/MyDrive/Chest-CT-Data/valid/large.cell.carcinoma/000113.png\n",
            "Loaded image /content/drive/MyDrive/Chest-CT-Data/valid/large.cell.carcinoma/000110 (2).png\n",
            "Loaded image /content/drive/MyDrive/Chest-CT-Data/valid/large.cell.carcinoma/000120.png\n",
            "Loaded image /content/drive/MyDrive/Chest-CT-Data/valid/large.cell.carcinoma/000111.png\n",
            "Loaded image /content/drive/MyDrive/Chest-CT-Data/valid/large.cell.carcinoma/000126.png\n",
            "Loaded image /content/drive/MyDrive/Chest-CT-Data/valid/large.cell.carcinoma/000115.png\n",
            "Loaded image /content/drive/MyDrive/Chest-CT-Data/valid/large.cell.carcinoma/000108 (2).png\n",
            "Loaded image /content/drive/MyDrive/Chest-CT-Data/valid/large.cell.carcinoma/000131.png\n",
            "Loaded image /content/drive/MyDrive/Chest-CT-Data/valid/large.cell.carcinoma/000114.png\n",
            "Loaded image /content/drive/MyDrive/Chest-CT-Data/valid/normal/003828_02_01_174.png\n",
            "Loaded image /content/drive/MyDrive/Chest-CT-Data/valid/normal/7 (1).png\n",
            "Loaded image /content/drive/MyDrive/Chest-CT-Data/valid/normal/8 - Copy (3) (1).png\n",
            "Loaded image /content/drive/MyDrive/Chest-CT-Data/valid/normal/004162_01_01_150.png\n",
            "Loaded image /content/drive/MyDrive/Chest-CT-Data/valid/normal/6 - Copy (3).png\n",
            "Loaded image /content/drive/MyDrive/Chest-CT-Data/valid/normal/4 (2).png\n",
            "Loaded image /content/drive/MyDrive/Chest-CT-Data/valid/normal/7 - Copy (2).png\n",
            "Loaded image /content/drive/MyDrive/Chest-CT-Data/valid/normal/7 - Copy (3).png\n",
            "Loaded image /content/drive/MyDrive/Chest-CT-Data/valid/normal/5.png\n",
            "Loaded image /content/drive/MyDrive/Chest-CT-Data/valid/normal/6 - Copy.png\n",
            "Loaded image /content/drive/MyDrive/Chest-CT-Data/valid/normal/6 - Copy (2) - Copy.png\n",
            "Loaded image /content/drive/MyDrive/Chest-CT-Data/valid/normal/4 - Copy (2).png\n",
            "Loaded image /content/drive/MyDrive/Chest-CT-Data/valid/normal/8 - Copy (3).png\n",
            "Loaded image /content/drive/MyDrive/Chest-CT-Data/valid/normal/7.png\n",
            "Loaded image /content/drive/MyDrive/Chest-CT-Data/valid/normal/004007_01_01_519.png\n",
            "Loaded image /content/drive/MyDrive/Chest-CT-Data/valid/squamous.cell.carcinoma/000117 (6).png\n",
            "Loaded image /content/drive/MyDrive/Chest-CT-Data/valid/squamous.cell.carcinoma/000116 (2).png\n",
            "Loaded image /content/drive/MyDrive/Chest-CT-Data/valid/squamous.cell.carcinoma/000111.png\n",
            "Loaded image /content/drive/MyDrive/Chest-CT-Data/valid/squamous.cell.carcinoma/000115 (5).png\n",
            "Loaded image /content/drive/MyDrive/Chest-CT-Data/valid/squamous.cell.carcinoma/000110 (6).png\n",
            "Loaded image /content/drive/MyDrive/Chest-CT-Data/valid/squamous.cell.carcinoma/000108 (3).png\n",
            "Loaded image /content/drive/MyDrive/Chest-CT-Data/valid/squamous.cell.carcinoma/000112.png\n",
            "Loaded image /content/drive/MyDrive/Chest-CT-Data/valid/squamous.cell.carcinoma/000117 (4).png\n",
            "Loaded image /content/drive/MyDrive/Chest-CT-Data/valid/squamous.cell.carcinoma/000119 (5).png\n",
            "Loaded image /content/drive/MyDrive/Chest-CT-Data/valid/squamous.cell.carcinoma/000114 (4).png\n",
            "Loaded image /content/drive/MyDrive/Chest-CT-Data/valid/squamous.cell.carcinoma/000119.png\n",
            "Loaded image /content/drive/MyDrive/Chest-CT-Data/valid/squamous.cell.carcinoma/000114 (6).png\n",
            "Loaded image /content/drive/MyDrive/Chest-CT-Data/valid/squamous.cell.carcinoma/000118 (4).png\n",
            "Loaded image /content/drive/MyDrive/Chest-CT-Data/valid/squamous.cell.carcinoma/000115 (2).png\n",
            "Loaded image /content/drive/MyDrive/Chest-CT-Data/valid/squamous.cell.carcinoma/000118 (5).png\n",
            "Loaded image /content/drive/MyDrive/Chest-CT-Data/test/adenocarcinoma/000109 (2).png\n",
            "Loaded image /content/drive/MyDrive/Chest-CT-Data/test/adenocarcinoma/000109 (5).png\n",
            "Loaded image /content/drive/MyDrive/Chest-CT-Data/test/adenocarcinoma/000113 (7).png\n",
            "Loaded image /content/drive/MyDrive/Chest-CT-Data/test/adenocarcinoma/000112 (2).png\n",
            "Loaded image /content/drive/MyDrive/Chest-CT-Data/test/adenocarcinoma/000108 (3).png\n",
            "Loaded image /content/drive/MyDrive/Chest-CT-Data/test/adenocarcinoma/000114 (5).png\n",
            "Loaded image /content/drive/MyDrive/Chest-CT-Data/test/adenocarcinoma/000109 (4).png\n",
            "Loaded image /content/drive/MyDrive/Chest-CT-Data/test/adenocarcinoma/000157 (6).png\n",
            "Loaded image /content/drive/MyDrive/Chest-CT-Data/test/adenocarcinoma/000177 (4).png\n",
            "Loaded image /content/drive/MyDrive/Chest-CT-Data/test/adenocarcinoma/000122 (4).png\n",
            "Loaded image /content/drive/MyDrive/Chest-CT-Data/test/adenocarcinoma/000119 (6).png\n",
            "Loaded image /content/drive/MyDrive/Chest-CT-Data/test/adenocarcinoma/000137 (8).png\n",
            "Loaded image /content/drive/MyDrive/Chest-CT-Data/test/adenocarcinoma/000133 (2).png\n",
            "Loaded image /content/drive/MyDrive/Chest-CT-Data/test/adenocarcinoma/000132.png\n",
            "Loaded image /content/drive/MyDrive/Chest-CT-Data/test/adenocarcinoma/000164 (5).png\n",
            "Loaded image /content/drive/MyDrive/Chest-CT-Data/test/adenocarcinoma/000126 (6).png\n",
            "Loaded image /content/drive/MyDrive/Chest-CT-Data/test/adenocarcinoma/000117 (8).png\n",
            "Loaded image /content/drive/MyDrive/Chest-CT-Data/test/adenocarcinoma/000124 (9).png\n",
            "Loaded image /content/drive/MyDrive/Chest-CT-Data/test/adenocarcinoma/000115 (8).png\n",
            "Loaded image /content/drive/MyDrive/Chest-CT-Data/test/adenocarcinoma/000155.png\n",
            "Loaded image /content/drive/MyDrive/Chest-CT-Data/test/adenocarcinoma/000116 (9).png\n",
            "Loaded image /content/drive/MyDrive/Chest-CT-Data/test/adenocarcinoma/000125 (4).png\n",
            "Loaded image /content/drive/MyDrive/Chest-CT-Data/test/adenocarcinoma/000121 (6).png\n",
            "Loaded image /content/drive/MyDrive/Chest-CT-Data/test/adenocarcinoma/000136 (8).png\n",
            "Loaded image /content/drive/MyDrive/Chest-CT-Data/test/adenocarcinoma/000134 (2).png\n",
            "Loaded image /content/drive/MyDrive/Chest-CT-Data/test/adenocarcinoma/000132 (7).png\n",
            "Loaded image /content/drive/MyDrive/Chest-CT-Data/test/adenocarcinoma/000125 (5).png\n",
            "Loaded image /content/drive/MyDrive/Chest-CT-Data/test/adenocarcinoma/000127 (5).png\n",
            "Loaded image /content/drive/MyDrive/Chest-CT-Data/test/adenocarcinoma/000160 (4).png\n",
            "Loaded image /content/drive/MyDrive/Chest-CT-Data/test/adenocarcinoma/000119 (5).png\n",
            "Loaded image /content/drive/MyDrive/Chest-CT-Data/test/adenocarcinoma/000163 (7).png\n",
            "Loaded image /content/drive/MyDrive/Chest-CT-Data/test/adenocarcinoma/000124 (6).png\n",
            "Loaded image /content/drive/MyDrive/Chest-CT-Data/test/adenocarcinoma/000145 (9).png\n",
            "Loaded image /content/drive/MyDrive/Chest-CT-Data/test/adenocarcinoma/000125 (2).png\n",
            "Loaded image /content/drive/MyDrive/Chest-CT-Data/test/adenocarcinoma/000177.png\n",
            "Loaded image /content/drive/MyDrive/Chest-CT-Data/test/adenocarcinoma/000129 (5).png\n",
            "Loaded image /content/drive/MyDrive/Chest-CT-Data/test/adenocarcinoma/000171.png\n",
            "Loaded image /content/drive/MyDrive/Chest-CT-Data/test/adenocarcinoma/000122.png\n",
            "Loaded image /content/drive/MyDrive/Chest-CT-Data/test/adenocarcinoma/000158.png\n",
            "Loaded image /content/drive/MyDrive/Chest-CT-Data/test/adenocarcinoma/000136 (2).png\n",
            "Loaded image /content/drive/MyDrive/Chest-CT-Data/test/adenocarcinoma/000148 (6).png\n",
            "Loaded image /content/drive/MyDrive/Chest-CT-Data/test/adenocarcinoma/000125 (6).png\n",
            "Loaded image /content/drive/MyDrive/Chest-CT-Data/test/adenocarcinoma/000166 (4).png\n",
            "Loaded image /content/drive/MyDrive/Chest-CT-Data/test/adenocarcinoma/000114.png\n",
            "Loaded image /content/drive/MyDrive/Chest-CT-Data/test/adenocarcinoma/000118 (7).png\n",
            "Loaded image /content/drive/MyDrive/Chest-CT-Data/test/adenocarcinoma/000116 (7).png\n",
            "Loaded image /content/drive/MyDrive/Chest-CT-Data/test/adenocarcinoma/000132 (8).png\n",
            "Loaded image /content/drive/MyDrive/Chest-CT-Data/test/adenocarcinoma/000156 (4).png\n",
            "Loaded image /content/drive/MyDrive/Chest-CT-Data/test/adenocarcinoma/000139 (8).png\n",
            "Loaded image /content/drive/MyDrive/Chest-CT-Data/test/adenocarcinoma/000176 (2).png\n",
            "Loaded image /content/drive/MyDrive/Chest-CT-Data/test/adenocarcinoma/000158 (6).png\n",
            "Loaded image /content/drive/MyDrive/Chest-CT-Data/test/adenocarcinoma/000158 (2).png\n",
            "Loaded image /content/drive/MyDrive/Chest-CT-Data/test/adenocarcinoma/000117 (4).png\n",
            "Loaded image /content/drive/MyDrive/Chest-CT-Data/test/adenocarcinoma/000139 (5).png\n",
            "Loaded image /content/drive/MyDrive/Chest-CT-Data/test/adenocarcinoma/000123 (4).png\n",
            "Loaded image /content/drive/MyDrive/Chest-CT-Data/test/adenocarcinoma/000153 (5).png\n",
            "Loaded image /content/drive/MyDrive/Chest-CT-Data/test/adenocarcinoma/000144 (5).png\n",
            "Loaded image /content/drive/MyDrive/Chest-CT-Data/test/adenocarcinoma/000142.png\n",
            "Loaded image /content/drive/MyDrive/Chest-CT-Data/test/adenocarcinoma/000117.png\n",
            "Loaded image /content/drive/MyDrive/Chest-CT-Data/test/adenocarcinoma/000125 (8).png\n",
            "Loaded image /content/drive/MyDrive/Chest-CT-Data/test/adenocarcinoma/000161 (5).png\n",
            "Loaded image /content/drive/MyDrive/Chest-CT-Data/test/adenocarcinoma/000149 (2).png\n",
            "Loaded image /content/drive/MyDrive/Chest-CT-Data/test/adenocarcinoma/000166 (2).png\n",
            "Loaded image /content/drive/MyDrive/Chest-CT-Data/test/adenocarcinoma/000151 (5).png\n",
            "Loaded image /content/drive/MyDrive/Chest-CT-Data/test/adenocarcinoma/000149 (4).png\n",
            "Loaded image /content/drive/MyDrive/Chest-CT-Data/test/adenocarcinoma/000161 (4).png\n",
            "Loaded image /content/drive/MyDrive/Chest-CT-Data/test/adenocarcinoma/000167 (3).png\n",
            "Loaded image /content/drive/MyDrive/Chest-CT-Data/test/adenocarcinoma/000121 (7).png\n",
            "Loaded image /content/drive/MyDrive/Chest-CT-Data/test/adenocarcinoma/000158 (5).png\n",
            "Loaded image /content/drive/MyDrive/Chest-CT-Data/test/adenocarcinoma/000141 (2).png\n",
            "Loaded image /content/drive/MyDrive/Chest-CT-Data/test/adenocarcinoma/000133 (4).png\n",
            "Loaded image /content/drive/MyDrive/Chest-CT-Data/test/adenocarcinoma/000134.png\n",
            "Loaded image /content/drive/MyDrive/Chest-CT-Data/test/adenocarcinoma/000144 (2).png\n",
            "Loaded image /content/drive/MyDrive/Chest-CT-Data/test/adenocarcinoma/000148 (8).png\n",
            "Loaded image /content/drive/MyDrive/Chest-CT-Data/test/adenocarcinoma/000157 (5).png\n",
            "Loaded image /content/drive/MyDrive/Chest-CT-Data/test/adenocarcinoma/000171 (5).png\n",
            "Loaded image /content/drive/MyDrive/Chest-CT-Data/test/adenocarcinoma/000165 (6).png\n",
            "Loaded image /content/drive/MyDrive/Chest-CT-Data/test/adenocarcinoma/000139 (6).png\n",
            "Loaded image /content/drive/MyDrive/Chest-CT-Data/test/adenocarcinoma/000123 (9).png\n",
            "Loaded image /content/drive/MyDrive/Chest-CT-Data/test/adenocarcinoma/000167 (8).png\n",
            "Loaded image /content/drive/MyDrive/Chest-CT-Data/test/adenocarcinoma/000129.png\n",
            "Loaded image /content/drive/MyDrive/Chest-CT-Data/test/adenocarcinoma/000166 (3).png\n",
            "Loaded image /content/drive/MyDrive/Chest-CT-Data/test/adenocarcinoma/000115.png\n",
            "Loaded image /content/drive/MyDrive/Chest-CT-Data/test/adenocarcinoma/000128 (5).png\n",
            "Loaded image /content/drive/MyDrive/Chest-CT-Data/test/adenocarcinoma/000139 (9).png\n",
            "Loaded image /content/drive/MyDrive/Chest-CT-Data/test/adenocarcinoma/000148 (3).png\n",
            "Loaded image /content/drive/MyDrive/Chest-CT-Data/test/adenocarcinoma/000139.png\n",
            "Loaded image /content/drive/MyDrive/Chest-CT-Data/test/adenocarcinoma/000116 (5).png\n",
            "Loaded image /content/drive/MyDrive/Chest-CT-Data/test/adenocarcinoma/000168 (3).png\n",
            "Loaded image /content/drive/MyDrive/Chest-CT-Data/test/adenocarcinoma/000172 (3).png\n",
            "Loaded image /content/drive/MyDrive/Chest-CT-Data/test/adenocarcinoma/000160 (6).png\n",
            "Loaded image /content/drive/MyDrive/Chest-CT-Data/test/adenocarcinoma/000115 (4).png\n",
            "Loaded image /content/drive/MyDrive/Chest-CT-Data/test/adenocarcinoma/000143 (6).png\n",
            "Loaded image /content/drive/MyDrive/Chest-CT-Data/test/adenocarcinoma/000123 (6).png\n",
            "Loaded image /content/drive/MyDrive/Chest-CT-Data/test/adenocarcinoma/000147.png\n",
            "Loaded image /content/drive/MyDrive/Chest-CT-Data/test/adenocarcinoma/000174 (4).png\n",
            "Loaded image /content/drive/MyDrive/Chest-CT-Data/test/adenocarcinoma/000155 (4).png\n",
            "Loaded image /content/drive/MyDrive/Chest-CT-Data/test/adenocarcinoma/000135 (5).png\n",
            "Loaded image /content/drive/MyDrive/Chest-CT-Data/test/adenocarcinoma/000131 (2).png\n",
            "Loaded image /content/drive/MyDrive/Chest-CT-Data/test/adenocarcinoma/000143 (5).png\n",
            "Loaded image /content/drive/MyDrive/Chest-CT-Data/test/adenocarcinoma/000146 (3).png\n",
            "Loaded image /content/drive/MyDrive/Chest-CT-Data/test/adenocarcinoma/000146 (6).png\n",
            "Loaded image /content/drive/MyDrive/Chest-CT-Data/test/adenocarcinoma/000138 (9).png\n",
            "Loaded image /content/drive/MyDrive/Chest-CT-Data/test/adenocarcinoma/000158 (3).png\n",
            "Loaded image /content/drive/MyDrive/Chest-CT-Data/test/adenocarcinoma/000148.png\n",
            "Loaded image /content/drive/MyDrive/Chest-CT-Data/test/adenocarcinoma/000130 (6).png\n",
            "Loaded image /content/drive/MyDrive/Chest-CT-Data/test/adenocarcinoma/000132 (2).png\n",
            "Loaded image /content/drive/MyDrive/Chest-CT-Data/test/adenocarcinoma/000138 (6).png\n",
            "Loaded image /content/drive/MyDrive/Chest-CT-Data/test/adenocarcinoma/000137 (2).png\n",
            "Loaded image /content/drive/MyDrive/Chest-CT-Data/test/adenocarcinoma/000149 (7).png\n",
            "Loaded image /content/drive/MyDrive/Chest-CT-Data/test/adenocarcinoma/000121.png\n",
            "Loaded image /content/drive/MyDrive/Chest-CT-Data/test/adenocarcinoma/000140.png\n",
            "Loaded image /content/drive/MyDrive/Chest-CT-Data/test/adenocarcinoma/000120.png\n",
            "Loaded image /content/drive/MyDrive/Chest-CT-Data/test/adenocarcinoma/000134 (9).png\n",
            "Loaded image /content/drive/MyDrive/Chest-CT-Data/test/adenocarcinoma/000119 (4).png\n",
            "Loaded image /content/drive/MyDrive/Chest-CT-Data/test/adenocarcinoma/000173 (7).png\n",
            "Loaded image /content/drive/MyDrive/Chest-CT-Data/test/adenocarcinoma/000163 (3).png\n",
            "Loaded image /content/drive/MyDrive/Chest-CT-Data/test/adenocarcinoma/000173 (5).png\n",
            "Loaded image /content/drive/MyDrive/Chest-CT-Data/test/adenocarcinoma/000118 (5).png\n",
            "Loaded image /content/drive/MyDrive/Chest-CT-Data/test/adenocarcinoma/000137 (4).png\n",
            "Loaded image /content/drive/MyDrive/Chest-CT-Data/test/large.cell.carcinoma/000158.png\n",
            "Loaded image /content/drive/MyDrive/Chest-CT-Data/test/large.cell.carcinoma/000143.png\n",
            "Loaded image /content/drive/MyDrive/Chest-CT-Data/test/large.cell.carcinoma/000154 (2).png\n",
            "Loaded image /content/drive/MyDrive/Chest-CT-Data/test/large.cell.carcinoma/000126.png\n",
            "Loaded image /content/drive/MyDrive/Chest-CT-Data/test/large.cell.carcinoma/000131 (2).png\n",
            "Loaded image /content/drive/MyDrive/Chest-CT-Data/test/large.cell.carcinoma/000159.png\n",
            "Loaded image /content/drive/MyDrive/Chest-CT-Data/test/large.cell.carcinoma/000111 (2).png\n",
            "Loaded image /content/drive/MyDrive/Chest-CT-Data/test/large.cell.carcinoma/000127 (2).png\n",
            "Loaded image /content/drive/MyDrive/Chest-CT-Data/test/large.cell.carcinoma/000115 (2).png\n",
            "Loaded image /content/drive/MyDrive/Chest-CT-Data/test/large.cell.carcinoma/000132 (2).png\n",
            "Loaded image /content/drive/MyDrive/Chest-CT-Data/test/large.cell.carcinoma/000108.png\n",
            "Loaded image /content/drive/MyDrive/Chest-CT-Data/test/large.cell.carcinoma/000128 (2).png\n",
            "Loaded image /content/drive/MyDrive/Chest-CT-Data/test/large.cell.carcinoma/000148.png\n",
            "Loaded image /content/drive/MyDrive/Chest-CT-Data/test/large.cell.carcinoma/000118.png\n",
            "Loaded image /content/drive/MyDrive/Chest-CT-Data/test/large.cell.carcinoma/000110.png\n",
            "Loaded image /content/drive/MyDrive/Chest-CT-Data/test/large.cell.carcinoma/000137.png\n",
            "Loaded image /content/drive/MyDrive/Chest-CT-Data/test/large.cell.carcinoma/000120.png\n",
            "Loaded image /content/drive/MyDrive/Chest-CT-Data/test/large.cell.carcinoma/000122.png\n",
            "Loaded image /content/drive/MyDrive/Chest-CT-Data/test/large.cell.carcinoma/000136 (2).png\n",
            "Loaded image /content/drive/MyDrive/Chest-CT-Data/test/large.cell.carcinoma/000131.png\n",
            "Loaded image /content/drive/MyDrive/Chest-CT-Data/test/large.cell.carcinoma/000159 (2).png\n",
            "Loaded image /content/drive/MyDrive/Chest-CT-Data/test/large.cell.carcinoma/000128.png\n",
            "Loaded image /content/drive/MyDrive/Chest-CT-Data/test/large.cell.carcinoma/000130.png\n",
            "Loaded image /content/drive/MyDrive/Chest-CT-Data/test/large.cell.carcinoma/000123.png\n",
            "Loaded image /content/drive/MyDrive/Chest-CT-Data/test/large.cell.carcinoma/000113.png\n",
            "Loaded image /content/drive/MyDrive/Chest-CT-Data/test/large.cell.carcinoma/000111.png\n",
            "Loaded image /content/drive/MyDrive/Chest-CT-Data/test/large.cell.carcinoma/000150.png\n",
            "Loaded image /content/drive/MyDrive/Chest-CT-Data/test/large.cell.carcinoma/000155.png\n",
            "Loaded image /content/drive/MyDrive/Chest-CT-Data/test/large.cell.carcinoma/000147 (2).png\n",
            "Loaded image /content/drive/MyDrive/Chest-CT-Data/test/large.cell.carcinoma/000124 (2).png\n",
            "Loaded image /content/drive/MyDrive/Chest-CT-Data/test/large.cell.carcinoma/000149.png\n",
            "Loaded image /content/drive/MyDrive/Chest-CT-Data/test/large.cell.carcinoma/000138 (2).png\n",
            "Loaded image /content/drive/MyDrive/Chest-CT-Data/test/large.cell.carcinoma/000148 (2).png\n",
            "Loaded image /content/drive/MyDrive/Chest-CT-Data/test/large.cell.carcinoma/000133 (2).png\n",
            "Loaded image /content/drive/MyDrive/Chest-CT-Data/test/large.cell.carcinoma/000114.png\n",
            "Loaded image /content/drive/MyDrive/Chest-CT-Data/test/large.cell.carcinoma/000154.png\n",
            "Loaded image /content/drive/MyDrive/Chest-CT-Data/test/large.cell.carcinoma/000116.png\n",
            "Loaded image /content/drive/MyDrive/Chest-CT-Data/test/large.cell.carcinoma/000113 (2).png\n",
            "Loaded image /content/drive/MyDrive/Chest-CT-Data/test/large.cell.carcinoma/000141.png\n",
            "Loaded image /content/drive/MyDrive/Chest-CT-Data/test/large.cell.carcinoma/000133.png\n",
            "Loaded image /content/drive/MyDrive/Chest-CT-Data/test/large.cell.carcinoma/000163.png\n",
            "Loaded image /content/drive/MyDrive/Chest-CT-Data/test/large.cell.carcinoma/000171.png\n",
            "Loaded image /content/drive/MyDrive/Chest-CT-Data/test/large.cell.carcinoma/000172.png\n",
            "Loaded image /content/drive/MyDrive/Chest-CT-Data/test/large.cell.carcinoma/000173 (2).png\n",
            "Loaded image /content/drive/MyDrive/Chest-CT-Data/test/large.cell.carcinoma/000162.png\n",
            "Loaded image /content/drive/MyDrive/Chest-CT-Data/test/large.cell.carcinoma/000169.png\n",
            "Loaded image /content/drive/MyDrive/Chest-CT-Data/test/large.cell.carcinoma/000172 (2).png\n",
            "Loaded image /content/drive/MyDrive/Chest-CT-Data/test/large.cell.carcinoma/000170.png\n",
            "Loaded image /content/drive/MyDrive/Chest-CT-Data/test/large.cell.carcinoma/000174.png\n",
            "Loaded image /content/drive/MyDrive/Chest-CT-Data/test/large.cell.carcinoma/000173.png\n",
            "Loaded image /content/drive/MyDrive/Chest-CT-Data/test/large.cell.carcinoma/000160.png\n",
            "Loaded image /content/drive/MyDrive/Chest-CT-Data/test/normal/normal.png\n",
            "Loaded image /content/drive/MyDrive/Chest-CT-Data/test/normal/7 - Copy.png\n",
            "Loaded image /content/drive/MyDrive/Chest-CT-Data/test/normal/11 (2) - Copy.png\n",
            "Loaded image /content/drive/MyDrive/Chest-CT-Data/test/normal/11.png\n",
            "Loaded image /content/drive/MyDrive/Chest-CT-Data/test/normal/10 (2).png\n",
            "Loaded image /content/drive/MyDrive/Chest-CT-Data/test/normal/11 - Copy.png\n",
            "Loaded image /content/drive/MyDrive/Chest-CT-Data/test/normal/7 - Copy - Copy.png\n",
            "Loaded image /content/drive/MyDrive/Chest-CT-Data/test/normal/10 - Copy.png\n",
            "Loaded image /content/drive/MyDrive/Chest-CT-Data/test/normal/8 - Copy (2) - Copy.png\n",
            "Loaded image /content/drive/MyDrive/Chest-CT-Data/test/normal/8 (2).png\n",
            "Loaded image /content/drive/MyDrive/Chest-CT-Data/test/normal/12 (2) - Copy.png\n",
            "Loaded image /content/drive/MyDrive/Chest-CT-Data/test/normal/10 - Copy - Copy.png\n",
            "Loaded image /content/drive/MyDrive/Chest-CT-Data/test/normal/7 - Copy (2).png\n",
            "Loaded image /content/drive/MyDrive/Chest-CT-Data/test/normal/8 - Copy (2).png\n",
            "Loaded image /content/drive/MyDrive/Chest-CT-Data/test/normal/22.png\n",
            "Loaded image /content/drive/MyDrive/Chest-CT-Data/test/normal/10 - Copy (2).png\n",
            "Loaded image /content/drive/MyDrive/Chest-CT-Data/test/normal/23.png\n",
            "Loaded image /content/drive/MyDrive/Chest-CT-Data/test/normal/6 (2).png\n",
            "Loaded image /content/drive/MyDrive/Chest-CT-Data/test/normal/7 - Copy (2) - Copy.png\n",
            "Loaded image /content/drive/MyDrive/Chest-CT-Data/test/normal/7 (2).png\n",
            "Loaded image /content/drive/MyDrive/Chest-CT-Data/test/normal/normal - Copy.png\n",
            "Loaded image /content/drive/MyDrive/Chest-CT-Data/test/normal/6 - Copy (2).png\n",
            "Loaded image /content/drive/MyDrive/Chest-CT-Data/test/normal/12 - Copy (2) - Copy.png\n",
            "Loaded image /content/drive/MyDrive/Chest-CT-Data/test/normal/11 - Copy (2) - Copy.png\n",
            "Loaded image /content/drive/MyDrive/Chest-CT-Data/test/normal/6 - Copy.png\n",
            "Loaded image /content/drive/MyDrive/Chest-CT-Data/test/normal/12 - Copy.png\n",
            "Loaded image /content/drive/MyDrive/Chest-CT-Data/test/normal/6 (2) - Copy.png\n",
            "Loaded image /content/drive/MyDrive/Chest-CT-Data/test/normal/7 - Copy (3).png\n",
            "Loaded image /content/drive/MyDrive/Chest-CT-Data/test/normal/8 - Copy.png\n",
            "Loaded image /content/drive/MyDrive/Chest-CT-Data/test/normal/10 (2) - Copy.png\n",
            "Loaded image /content/drive/MyDrive/Chest-CT-Data/test/normal/24.png\n",
            "Loaded image /content/drive/MyDrive/Chest-CT-Data/test/normal/8 - Copy - Copy.png\n",
            "Loaded image /content/drive/MyDrive/Chest-CT-Data/test/normal/12 - Copy (2).png\n",
            "Loaded image /content/drive/MyDrive/Chest-CT-Data/test/normal/21.png\n",
            "Loaded image /content/drive/MyDrive/Chest-CT-Data/test/normal/12 (2).png\n",
            "Loaded image /content/drive/MyDrive/Chest-CT-Data/test/normal/11 (2).png\n",
            "Loaded image /content/drive/MyDrive/Chest-CT-Data/test/normal/10 - Copy (3).png\n",
            "Loaded image /content/drive/MyDrive/Chest-CT-Data/test/normal/24 - Copy.png\n",
            "Loaded image /content/drive/MyDrive/Chest-CT-Data/test/normal/6.png\n",
            "Loaded image /content/drive/MyDrive/Chest-CT-Data/test/normal/11 - Copy (2).png\n",
            "Loaded image /content/drive/MyDrive/Chest-CT-Data/test/normal/8.png\n",
            "Loaded image /content/drive/MyDrive/Chest-CT-Data/test/normal/10.png\n",
            "Loaded image /content/drive/MyDrive/Chest-CT-Data/test/normal/7.png\n",
            "Loaded image /content/drive/MyDrive/Chest-CT-Data/test/normal/12 - Copy - Copy.png\n",
            "Loaded image /content/drive/MyDrive/Chest-CT-Data/test/normal/11 - Copy - Copy.png\n",
            "Loaded image /content/drive/MyDrive/Chest-CT-Data/test/normal/11 - Copy (3).png\n",
            "Loaded image /content/drive/MyDrive/Chest-CT-Data/test/normal/6 - Copy (3).png\n",
            "Loaded image /content/drive/MyDrive/Chest-CT-Data/test/normal/25.png\n",
            "Loaded image /content/drive/MyDrive/Chest-CT-Data/test/normal/8 (2) - Copy.png\n",
            "Loaded image /content/drive/MyDrive/Chest-CT-Data/test/normal/7 (2) - Copy.png\n",
            "Loaded image /content/drive/MyDrive/Chest-CT-Data/test/normal/6 - Copy (2) - Copy.png\n",
            "Loaded image /content/drive/MyDrive/Chest-CT-Data/test/normal/10 - Copy (2) - Copy.png\n",
            "Loaded image /content/drive/MyDrive/Chest-CT-Data/test/normal/8 - Copy (3).png\n",
            "Loaded image /content/drive/MyDrive/Chest-CT-Data/test/normal/12 - Copy (3).png\n",
            "Loaded image /content/drive/MyDrive/Chest-CT-Data/test/squamous.cell.carcinoma/000115 (5).png\n",
            "Loaded image /content/drive/MyDrive/Chest-CT-Data/test/squamous.cell.carcinoma/000108 (6).png\n",
            "Loaded image /content/drive/MyDrive/Chest-CT-Data/test/squamous.cell.carcinoma/000112.png\n",
            "Loaded image /content/drive/MyDrive/Chest-CT-Data/test/squamous.cell.carcinoma/000114 (3).png\n",
            "Loaded image /content/drive/MyDrive/Chest-CT-Data/test/squamous.cell.carcinoma/000117 (5).png\n",
            "Loaded image /content/drive/MyDrive/Chest-CT-Data/test/squamous.cell.carcinoma/000116 (5).png\n",
            "Loaded image /content/drive/MyDrive/Chest-CT-Data/test/squamous.cell.carcinoma/000111.png\n",
            "Loaded image /content/drive/MyDrive/Chest-CT-Data/test/squamous.cell.carcinoma/000115 (4).png\n",
            "Loaded image /content/drive/MyDrive/Chest-CT-Data/test/squamous.cell.carcinoma/000114 (2).png\n",
            "Loaded image /content/drive/MyDrive/Chest-CT-Data/test/squamous.cell.carcinoma/000118 (4).png\n",
            "Loaded image /content/drive/MyDrive/Chest-CT-Data/test/squamous.cell.carcinoma/000117 (3).png\n",
            "Loaded image /content/drive/MyDrive/Chest-CT-Data/test/squamous.cell.carcinoma/000117 (2).png\n",
            "Loaded image /content/drive/MyDrive/Chest-CT-Data/test/squamous.cell.carcinoma/000110 (2).png\n",
            "Loaded image /content/drive/MyDrive/Chest-CT-Data/test/squamous.cell.carcinoma/000119 (4).png\n",
            "Loaded image /content/drive/MyDrive/Chest-CT-Data/test/squamous.cell.carcinoma/000118 (3).png\n",
            "Loaded image /content/drive/MyDrive/Chest-CT-Data/test/squamous.cell.carcinoma/000127.png\n",
            "Loaded image /content/drive/MyDrive/Chest-CT-Data/test/squamous.cell.carcinoma/000166 (4).png\n",
            "Loaded image /content/drive/MyDrive/Chest-CT-Data/test/squamous.cell.carcinoma/000124 (4).png\n",
            "Loaded image /content/drive/MyDrive/Chest-CT-Data/test/squamous.cell.carcinoma/000146 (6).png\n",
            "Loaded image /content/drive/MyDrive/Chest-CT-Data/test/squamous.cell.carcinoma/000163 (5).png\n",
            "Loaded image /content/drive/MyDrive/Chest-CT-Data/test/squamous.cell.carcinoma/000148 (3).png\n",
            "Loaded image /content/drive/MyDrive/Chest-CT-Data/test/squamous.cell.carcinoma/000131 (6).png\n",
            "Loaded image /content/drive/MyDrive/Chest-CT-Data/test/squamous.cell.carcinoma/000163 (6).png\n",
            "Loaded image /content/drive/MyDrive/Chest-CT-Data/test/squamous.cell.carcinoma/000127 (6).png\n",
            "Loaded image /content/drive/MyDrive/Chest-CT-Data/test/squamous.cell.carcinoma/000133 (3).png\n",
            "Loaded image /content/drive/MyDrive/Chest-CT-Data/test/squamous.cell.carcinoma/000153.png\n",
            "Loaded image /content/drive/MyDrive/Chest-CT-Data/test/squamous.cell.carcinoma/000158 (6).png\n",
            "Loaded image /content/drive/MyDrive/Chest-CT-Data/test/squamous.cell.carcinoma/000158 (4).png\n",
            "Loaded image /content/drive/MyDrive/Chest-CT-Data/test/squamous.cell.carcinoma/000174 (3).png\n",
            "Loaded image /content/drive/MyDrive/Chest-CT-Data/test/squamous.cell.carcinoma/000134 (5).png\n",
            "Loaded image /content/drive/MyDrive/Chest-CT-Data/test/squamous.cell.carcinoma/000157 (6).png\n",
            "Loaded image /content/drive/MyDrive/Chest-CT-Data/test/squamous.cell.carcinoma/000129 (2).png\n",
            "Loaded image /content/drive/MyDrive/Chest-CT-Data/test/squamous.cell.carcinoma/000163 (4).png\n",
            "Loaded image /content/drive/MyDrive/Chest-CT-Data/test/squamous.cell.carcinoma/000125.png\n",
            "Loaded image /content/drive/MyDrive/Chest-CT-Data/test/squamous.cell.carcinoma/000137 (3).png\n",
            "Loaded image /content/drive/MyDrive/Chest-CT-Data/test/squamous.cell.carcinoma/000154 (4).png\n",
            "Loaded image /content/drive/MyDrive/Chest-CT-Data/test/squamous.cell.carcinoma/000137.png\n",
            "Loaded image /content/drive/MyDrive/Chest-CT-Data/test/squamous.cell.carcinoma/000139 (5).png\n",
            "Loaded image /content/drive/MyDrive/Chest-CT-Data/test/squamous.cell.carcinoma/000120 (5).png\n",
            "Loaded image /content/drive/MyDrive/Chest-CT-Data/test/squamous.cell.carcinoma/000167 (2).png\n",
            "Loaded image /content/drive/MyDrive/Chest-CT-Data/test/squamous.cell.carcinoma/000121.png\n",
            "Loaded image /content/drive/MyDrive/Chest-CT-Data/test/squamous.cell.carcinoma/000120 (2).png\n",
            "Loaded image /content/drive/MyDrive/Chest-CT-Data/test/squamous.cell.carcinoma/000148 (4).png\n",
            "Loaded image /content/drive/MyDrive/Chest-CT-Data/test/squamous.cell.carcinoma/000149 (4).png\n",
            "Loaded image /content/drive/MyDrive/Chest-CT-Data/test/squamous.cell.carcinoma/000127 (2).png\n",
            "Loaded image /content/drive/MyDrive/Chest-CT-Data/test/squamous.cell.carcinoma/000162 (2).png\n",
            "Loaded image /content/drive/MyDrive/Chest-CT-Data/test/squamous.cell.carcinoma/000136 (4).png\n",
            "Loaded image /content/drive/MyDrive/Chest-CT-Data/test/squamous.cell.carcinoma/000135 (4).png\n",
            "Loaded image /content/drive/MyDrive/Chest-CT-Data/test/squamous.cell.carcinoma/000139 (4).png\n",
            "Loaded image /content/drive/MyDrive/Chest-CT-Data/test/squamous.cell.carcinoma/000155.png\n",
            "Loaded image /content/drive/MyDrive/Chest-CT-Data/test/squamous.cell.carcinoma/000141 (2).png\n",
            "Loaded image /content/drive/MyDrive/Chest-CT-Data/test/squamous.cell.carcinoma/000126 (4).png\n",
            "Loaded image /content/drive/MyDrive/Chest-CT-Data/test/squamous.cell.carcinoma/000133 (2).png\n",
            "Loaded image /content/drive/MyDrive/Chest-CT-Data/test/squamous.cell.carcinoma/000172 (6).png\n",
            "Loaded image /content/drive/MyDrive/Chest-CT-Data/test/squamous.cell.carcinoma/000130 (4).png\n",
            "Loaded image /content/drive/MyDrive/Chest-CT-Data/test/squamous.cell.carcinoma/000142 (6).png\n",
            "Loaded image /content/drive/MyDrive/Chest-CT-Data/test/squamous.cell.carcinoma/000125 (2).png\n",
            "Loaded image /content/drive/MyDrive/Chest-CT-Data/test/squamous.cell.carcinoma/000129 (6).png\n",
            "Loaded image /content/drive/MyDrive/Chest-CT-Data/test/squamous.cell.carcinoma/000142 (5).png\n",
            "Loaded image /content/drive/MyDrive/Chest-CT-Data/test/squamous.cell.carcinoma/000136 (6).png\n",
            "Loaded image /content/drive/MyDrive/Chest-CT-Data/test/squamous.cell.carcinoma/000124.png\n",
            "Loaded image /content/drive/MyDrive/Chest-CT-Data/test/squamous.cell.carcinoma/000124 (5).png\n",
            "Loaded image /content/drive/MyDrive/Chest-CT-Data/test/squamous.cell.carcinoma/000168 (2).png\n",
            "Loaded image /content/drive/MyDrive/Chest-CT-Data/test/squamous.cell.carcinoma/000154 (2).png\n",
            "Loaded image /content/drive/MyDrive/Chest-CT-Data/test/squamous.cell.carcinoma/000139 (6).png\n",
            "Loaded image /content/drive/MyDrive/Chest-CT-Data/test/squamous.cell.carcinoma/000159 (5).png\n",
            "Loaded image /content/drive/MyDrive/Chest-CT-Data/test/squamous.cell.carcinoma/000125 (6).png\n",
            "Loaded image /content/drive/MyDrive/Chest-CT-Data/test/squamous.cell.carcinoma/000121 (5).png\n",
            "Loaded image /content/drive/MyDrive/Chest-CT-Data/test/squamous.cell.carcinoma/000122 (6).png\n",
            "Loaded image /content/drive/MyDrive/Chest-CT-Data/test/squamous.cell.carcinoma/000155 (3).png\n",
            "Loaded image /content/drive/MyDrive/Chest-CT-Data/test/squamous.cell.carcinoma/000169 (6).png\n",
            "Loaded image /content/drive/MyDrive/Chest-CT-Data/test/squamous.cell.carcinoma/000154 (3).png\n",
            "Loaded image /content/drive/MyDrive/Chest-CT-Data/test/squamous.cell.carcinoma/000145 (6).png\n",
            "Loaded image /content/drive/MyDrive/Chest-CT-Data/test/squamous.cell.carcinoma/000151 (6).png\n",
            "Loaded image /content/drive/MyDrive/Chest-CT-Data/test/squamous.cell.carcinoma/000132 (4).png\n",
            "Loaded image /content/drive/MyDrive/Chest-CT-Data/test/squamous.cell.carcinoma/000153 (4).png\n",
            "Loaded image /content/drive/MyDrive/Chest-CT-Data/test/squamous.cell.carcinoma/000164 (5).png\n",
            "Loaded image /content/drive/MyDrive/Chest-CT-Data/test/squamous.cell.carcinoma/000177 (3).png\n",
            "Loaded image /content/drive/MyDrive/Chest-CT-Data/test/squamous.cell.carcinoma/000162.png\n",
            "Loaded image /content/drive/MyDrive/Chest-CT-Data/test/squamous.cell.carcinoma/000170 (2).png\n",
            "Loaded image /content/drive/MyDrive/Chest-CT-Data/test/squamous.cell.carcinoma/000141 (4).png\n",
            "Loaded image /content/drive/MyDrive/Chest-CT-Data/test/squamous.cell.carcinoma/000120 (3).png\n",
            "Loaded image /content/drive/MyDrive/Chest-CT-Data/test/squamous.cell.carcinoma/000122.png\n",
            "Loaded image /content/drive/MyDrive/Chest-CT-Data/test/squamous.cell.carcinoma/000156 (2).png\n",
            "Loaded image /content/drive/MyDrive/Chest-CT-Data/test/squamous.cell.carcinoma/000119.png\n",
            "Loaded image /content/drive/MyDrive/Chest-CT-Data/test/squamous.cell.carcinoma/000153 (3).png\n",
            "Loaded image /content/drive/MyDrive/Chest-CT-Data/test/squamous.cell.carcinoma/000160 (4).png\n",
            "Loaded image /content/drive/MyDrive/Chest-CT-Data/test/squamous.cell.carcinoma/000144 (5).png\n",
            "Loaded image /content/drive/MyDrive/Chest-CT-Data/test/squamous.cell.carcinoma/000151.png\n",
            "Loaded image /content/drive/MyDrive/Chest-CT-Data/test/squamous.cell.carcinoma/000135.png\n",
            "Loaded 601 training images with 601 labels\n",
            "Loaded 81 validation images with 81 labels\n",
            "Loaded 315 test images with 315 labels\n"
          ]
        }
      ]
    },
    {
      "cell_type": "markdown",
      "id": "e3d402f6-e179-4440-a147-956e505fe26e",
      "metadata": {
        "id": "e3d402f6-e179-4440-a147-956e505fe26e"
      },
      "source": [
        "# Cell 4: Load Model and Pruning\n",
        "\"\"\"\n",
        "This cell loads the pre-trained VGG-16 model and applies pruning to its convolutional layers.\n",
        "Pruning is used to reduce the size of the model by setting certain weights to zero, based on a threshold.\n",
        "\"\"\""
      ]
    },
    {
      "cell_type": "code",
      "source": [
        "# Load VGG16 pretrained tanpa classifier (hanya sebagai feature extractor)\n",
        "vgg16 = models.vgg16(weights=models.VGG16_Weights.IMAGENET1K_V1)\n",
        "\n",
        "vgg16_features = nn.Sequential(*list(vgg16.features.children()))  # Ambil bagian feature extractor\n",
        "#vgg16_features = nn.Sequential(*list(model_feature.classifier.children())[:-1])  # Ambil bagian feature extractor\n",
        "\n",
        "#my_model1 = nn.Sequential(*list(pretrained_model.children())[:-1])\n",
        "# -1 disini artinya hanya menhapus layer fully connected yang terakhir atau layer klasifikasi\n",
        "\n",
        "# Freeze semua parameter di feature extractor\n",
        "#for param in vgg16_features.parameters():\n",
        "#    param.requires_grad = False\n",
        "\n",
        "# Custom Model dengan VGG16 feature extractor + Fully Connected Layers untuk klasifikasi\n",
        "class CustomVGG16Classifier(nn.Module):\n",
        "    def __init__(self, num_classes):\n",
        "        super(CustomVGG16Classifier, self).__init__()\n",
        "        # Feature extractor dari VGG16\n",
        "        self.features = vgg16_features\n",
        "\n",
        "        #self.global_avg_pool = nn.AdaptiveAvgPool2d((1, 1))  # Global average pooling\n",
        "        # Fully connected layers untuk klasifikasi\n",
        "        self.classifier = nn.Sequential(\n",
        "            nn.Flatten(),\n",
        "            #nn.Linear(512 * 7 * 7),  # Input size 512 after global average pooling\n",
        "            nn.Linear(512 * 7 * 7, 512),  # Sesuaikan input sesuai dengan output dari feature extractor VGG16\n",
        "            nn.ReLU(),\n",
        "            nn.Dropout(0.4),\n",
        "            nn.Linear(512, num_classes)\n",
        "        )\n",
        "\n",
        "    def forward(self, input):\n",
        "        # Step 1: Input goes through VGG16 feature extractor\n",
        "        x = self.features(input)\n",
        "        return x\n",
        "\n",
        "# Jumlah kelas untuk klasifikasi\n",
        "num_classes = 4\n",
        "\n",
        "# Inisialisasi model\n",
        "model = CustomVGG16Classifier(num_classes)\n",
        "\n",
        "# Pindahkan model ke GPU jika tersedia, jika tidak gunakan CPU\n",
        "model = model.to(device)\n",
        "\n"
      ],
      "metadata": {
        "id": "TBv8AQCFn3Gf"
      },
      "id": "TBv8AQCFn3Gf",
      "execution_count": null,
      "outputs": []
    },
    {
      "cell_type": "markdown",
      "source": [
        "Penjelasan Kode:\n",
        "Penambahan Fully Connected Layer:\n",
        "\n",
        "nn.Linear(512 * 7 * 7, 1024) → Menghubungkan output dari feature extractor (25088 neuron) ke layer fully connected pertama dengan 1024 neuron.\n",
        "nn.Linear(1024, 512) → Layer fully connected tambahan yang mengambil input dari layer sebelumnya dan mengubahnya menjadi 512 neuron.\n",
        "nn.Linear(512, num_classes) → Layer fully connected terakhir untuk output ke jumlah kelas sesuai tugas klasifikasi (misalnya 4 kelas)."
      ],
      "metadata": {
        "id": "CcXh8V-LrUXO"
      },
      "id": "CcXh8V-LrUXO"
    },
    {
      "cell_type": "markdown",
      "source": [
        "# Mengetahui Ukuran Model"
      ],
      "metadata": {
        "id": "GuThm7ln3xNa"
      },
      "id": "GuThm7ln3xNa"
    },
    {
      "cell_type": "code",
      "source": [
        "# Cek model\n",
        "#print(vgg16_features)"
      ],
      "metadata": {
        "colab": {
          "base_uri": "https://localhost:8080/"
        },
        "id": "xpvNqKi-6npv",
        "outputId": "da329b7b-cb03-4fbd-f0db-fb06333aae8d"
      },
      "id": "xpvNqKi-6npv",
      "execution_count": null,
      "outputs": [
        {
          "output_type": "stream",
          "name": "stdout",
          "text": [
            "Sequential(\n",
            "  (0): Conv2d(3, 64, kernel_size=(3, 3), stride=(1, 1), padding=(1, 1))\n",
            "  (1): ReLU(inplace=True)\n",
            "  (2): Conv2d(64, 64, kernel_size=(3, 3), stride=(1, 1), padding=(1, 1))\n",
            "  (3): ReLU(inplace=True)\n",
            "  (4): MaxPool2d(kernel_size=2, stride=2, padding=0, dilation=1, ceil_mode=False)\n",
            "  (5): Conv2d(64, 128, kernel_size=(3, 3), stride=(1, 1), padding=(1, 1))\n",
            "  (6): ReLU(inplace=True)\n",
            "  (7): Conv2d(128, 128, kernel_size=(3, 3), stride=(1, 1), padding=(1, 1))\n",
            "  (8): ReLU(inplace=True)\n",
            "  (9): MaxPool2d(kernel_size=2, stride=2, padding=0, dilation=1, ceil_mode=False)\n",
            "  (10): Conv2d(128, 256, kernel_size=(3, 3), stride=(1, 1), padding=(1, 1))\n",
            "  (11): ReLU(inplace=True)\n",
            "  (12): Conv2d(256, 256, kernel_size=(3, 3), stride=(1, 1), padding=(1, 1))\n",
            "  (13): ReLU(inplace=True)\n",
            "  (14): Conv2d(256, 256, kernel_size=(3, 3), stride=(1, 1), padding=(1, 1))\n",
            "  (15): ReLU(inplace=True)\n",
            "  (16): MaxPool2d(kernel_size=2, stride=2, padding=0, dilation=1, ceil_mode=False)\n",
            "  (17): Conv2d(256, 512, kernel_size=(3, 3), stride=(1, 1), padding=(1, 1))\n",
            "  (18): ReLU(inplace=True)\n",
            "  (19): Conv2d(512, 512, kernel_size=(3, 3), stride=(1, 1), padding=(1, 1))\n",
            "  (20): ReLU(inplace=True)\n",
            "  (21): Conv2d(512, 512, kernel_size=(3, 3), stride=(1, 1), padding=(1, 1))\n",
            "  (22): ReLU(inplace=True)\n",
            "  (23): MaxPool2d(kernel_size=2, stride=2, padding=0, dilation=1, ceil_mode=False)\n",
            "  (24): Conv2d(512, 512, kernel_size=(3, 3), stride=(1, 1), padding=(1, 1))\n",
            "  (25): ReLU(inplace=True)\n",
            "  (26): Conv2d(512, 512, kernel_size=(3, 3), stride=(1, 1), padding=(1, 1))\n",
            "  (27): ReLU(inplace=True)\n",
            "  (28): Conv2d(512, 512, kernel_size=(3, 3), stride=(1, 1), padding=(1, 1))\n",
            "  (29): ReLU(inplace=True)\n",
            "  (30): MaxPool2d(kernel_size=2, stride=2, padding=0, dilation=1, ceil_mode=False)\n",
            ")\n"
          ]
        }
      ]
    },
    {
      "cell_type": "code",
      "source": [
        "# Cek model\n",
        "print(model)"
      ],
      "metadata": {
        "colab": {
          "base_uri": "https://localhost:8080/"
        },
        "id": "yoGmajFUgVPl",
        "outputId": "047e9485-026e-4da9-a5f9-37d5dccfd03a"
      },
      "id": "yoGmajFUgVPl",
      "execution_count": null,
      "outputs": [
        {
          "output_type": "stream",
          "name": "stdout",
          "text": [
            "CustomVGG16Classifier(\n",
            "  (features): Sequential(\n",
            "    (0): Conv2d(3, 64, kernel_size=(3, 3), stride=(1, 1), padding=(1, 1))\n",
            "    (1): ReLU(inplace=True)\n",
            "    (2): Conv2d(64, 64, kernel_size=(3, 3), stride=(1, 1), padding=(1, 1))\n",
            "    (3): ReLU(inplace=True)\n",
            "    (4): MaxPool2d(kernel_size=2, stride=2, padding=0, dilation=1, ceil_mode=False)\n",
            "    (5): Conv2d(64, 128, kernel_size=(3, 3), stride=(1, 1), padding=(1, 1))\n",
            "    (6): ReLU(inplace=True)\n",
            "    (7): Conv2d(128, 128, kernel_size=(3, 3), stride=(1, 1), padding=(1, 1))\n",
            "    (8): ReLU(inplace=True)\n",
            "    (9): MaxPool2d(kernel_size=2, stride=2, padding=0, dilation=1, ceil_mode=False)\n",
            "    (10): Conv2d(128, 256, kernel_size=(3, 3), stride=(1, 1), padding=(1, 1))\n",
            "    (11): ReLU(inplace=True)\n",
            "    (12): Conv2d(256, 256, kernel_size=(3, 3), stride=(1, 1), padding=(1, 1))\n",
            "    (13): ReLU(inplace=True)\n",
            "    (14): Conv2d(256, 256, kernel_size=(3, 3), stride=(1, 1), padding=(1, 1))\n",
            "    (15): ReLU(inplace=True)\n",
            "    (16): MaxPool2d(kernel_size=2, stride=2, padding=0, dilation=1, ceil_mode=False)\n",
            "    (17): Conv2d(256, 512, kernel_size=(3, 3), stride=(1, 1), padding=(1, 1))\n",
            "    (18): ReLU(inplace=True)\n",
            "    (19): Conv2d(512, 512, kernel_size=(3, 3), stride=(1, 1), padding=(1, 1))\n",
            "    (20): ReLU(inplace=True)\n",
            "    (21): Conv2d(512, 512, kernel_size=(3, 3), stride=(1, 1), padding=(1, 1))\n",
            "    (22): ReLU(inplace=True)\n",
            "    (23): MaxPool2d(kernel_size=2, stride=2, padding=0, dilation=1, ceil_mode=False)\n",
            "    (24): Conv2d(512, 512, kernel_size=(3, 3), stride=(1, 1), padding=(1, 1))\n",
            "    (25): ReLU(inplace=True)\n",
            "    (26): Conv2d(512, 512, kernel_size=(3, 3), stride=(1, 1), padding=(1, 1))\n",
            "    (27): ReLU(inplace=True)\n",
            "    (28): Conv2d(512, 512, kernel_size=(3, 3), stride=(1, 1), padding=(1, 1))\n",
            "    (29): ReLU(inplace=True)\n",
            "    (30): MaxPool2d(kernel_size=2, stride=2, padding=0, dilation=1, ceil_mode=False)\n",
            "  )\n",
            "  (classifier): Sequential(\n",
            "    (0): Flatten(start_dim=1, end_dim=-1)\n",
            "    (1): Linear(in_features=25088, out_features=512, bias=True)\n",
            "    (2): ReLU()\n",
            "    (3): Dropout(p=0.4, inplace=False)\n",
            "    (4): Linear(in_features=512, out_features=4, bias=True)\n",
            "  )\n",
            ")\n"
          ]
        }
      ]
    },
    {
      "cell_type": "code",
      "source": [
        "pip install torchinfo"
      ],
      "metadata": {
        "colab": {
          "base_uri": "https://localhost:8080/"
        },
        "id": "qcxKKrXs3V_o",
        "outputId": "4732f3a3-73f6-40ec-9cd5-bce5315cd00f"
      },
      "id": "qcxKKrXs3V_o",
      "execution_count": null,
      "outputs": [
        {
          "output_type": "stream",
          "name": "stdout",
          "text": [
            "Collecting torchinfo\n",
            "  Downloading torchinfo-1.8.0-py3-none-any.whl.metadata (21 kB)\n",
            "Downloading torchinfo-1.8.0-py3-none-any.whl (23 kB)\n",
            "Installing collected packages: torchinfo\n",
            "Successfully installed torchinfo-1.8.0\n"
          ]
        }
      ]
    },
    {
      "cell_type": "code",
      "source": [
        "# # Do a summary *after* freezing the features and changing the output classifier layer (uncomment for actual output)\n",
        "from torchinfo import summary\n",
        "summary(model,\n",
        "        input_size=(16, 3, 224, 224), # make sure this is \"input_size\", not \"input_shape\" (batch_size, color_channels, height, width)\n",
        "        verbose=0,\n",
        "        col_names=[\"input_size\", \"output_size\", \"num_params\", \"trainable\"],\n",
        "        col_width=20,\n",
        "        row_settings=[\"var_names\"]\n",
        ")"
      ],
      "metadata": {
        "colab": {
          "base_uri": "https://localhost:8080/"
        },
        "id": "kwYjLNw53O1p",
        "outputId": "522b2820-2fef-44ef-acd1-288e6bbf8ba8"
      },
      "id": "kwYjLNw53O1p",
      "execution_count": null,
      "outputs": [
        {
          "output_type": "execute_result",
          "data": {
            "text/plain": [
              "==================================================================================================================================\n",
              "Layer (type (var_name))                            Input Shape          Output Shape         Param #              Trainable\n",
              "==================================================================================================================================\n",
              "CustomVGG16Classifier (CustomVGG16Classifier)      [16, 3, 224, 224]    [16, 4]              --                   True\n",
              "├─Sequential (features)                            [16, 3, 224, 224]    [16, 512, 7, 7]      --                   True\n",
              "│    └─Conv2d (0)                                  [16, 3, 224, 224]    [16, 64, 224, 224]   1,792                True\n",
              "│    └─ReLU (1)                                    [16, 64, 224, 224]   [16, 64, 224, 224]   --                   --\n",
              "│    └─Conv2d (2)                                  [16, 64, 224, 224]   [16, 64, 224, 224]   36,928               True\n",
              "│    └─ReLU (3)                                    [16, 64, 224, 224]   [16, 64, 224, 224]   --                   --\n",
              "│    └─MaxPool2d (4)                               [16, 64, 224, 224]   [16, 64, 112, 112]   --                   --\n",
              "│    └─Conv2d (5)                                  [16, 64, 112, 112]   [16, 128, 112, 112]  73,856               True\n",
              "│    └─ReLU (6)                                    [16, 128, 112, 112]  [16, 128, 112, 112]  --                   --\n",
              "│    └─Conv2d (7)                                  [16, 128, 112, 112]  [16, 128, 112, 112]  147,584              True\n",
              "│    └─ReLU (8)                                    [16, 128, 112, 112]  [16, 128, 112, 112]  --                   --\n",
              "│    └─MaxPool2d (9)                               [16, 128, 112, 112]  [16, 128, 56, 56]    --                   --\n",
              "│    └─Conv2d (10)                                 [16, 128, 56, 56]    [16, 256, 56, 56]    295,168              True\n",
              "│    └─ReLU (11)                                   [16, 256, 56, 56]    [16, 256, 56, 56]    --                   --\n",
              "│    └─Conv2d (12)                                 [16, 256, 56, 56]    [16, 256, 56, 56]    590,080              True\n",
              "│    └─ReLU (13)                                   [16, 256, 56, 56]    [16, 256, 56, 56]    --                   --\n",
              "│    └─Conv2d (14)                                 [16, 256, 56, 56]    [16, 256, 56, 56]    590,080              True\n",
              "│    └─ReLU (15)                                   [16, 256, 56, 56]    [16, 256, 56, 56]    --                   --\n",
              "│    └─MaxPool2d (16)                              [16, 256, 56, 56]    [16, 256, 28, 28]    --                   --\n",
              "│    └─Conv2d (17)                                 [16, 256, 28, 28]    [16, 512, 28, 28]    1,180,160            True\n",
              "│    └─ReLU (18)                                   [16, 512, 28, 28]    [16, 512, 28, 28]    --                   --\n",
              "│    └─Conv2d (19)                                 [16, 512, 28, 28]    [16, 512, 28, 28]    2,359,808            True\n",
              "│    └─ReLU (20)                                   [16, 512, 28, 28]    [16, 512, 28, 28]    --                   --\n",
              "│    └─Conv2d (21)                                 [16, 512, 28, 28]    [16, 512, 28, 28]    2,359,808            True\n",
              "│    └─ReLU (22)                                   [16, 512, 28, 28]    [16, 512, 28, 28]    --                   --\n",
              "│    └─MaxPool2d (23)                              [16, 512, 28, 28]    [16, 512, 14, 14]    --                   --\n",
              "│    └─Conv2d (24)                                 [16, 512, 14, 14]    [16, 512, 14, 14]    2,359,808            True\n",
              "│    └─ReLU (25)                                   [16, 512, 14, 14]    [16, 512, 14, 14]    --                   --\n",
              "│    └─Conv2d (26)                                 [16, 512, 14, 14]    [16, 512, 14, 14]    2,359,808            True\n",
              "│    └─ReLU (27)                                   [16, 512, 14, 14]    [16, 512, 14, 14]    --                   --\n",
              "│    └─Conv2d (28)                                 [16, 512, 14, 14]    [16, 512, 14, 14]    2,359,808            True\n",
              "│    └─ReLU (29)                                   [16, 512, 14, 14]    [16, 512, 14, 14]    --                   --\n",
              "│    └─MaxPool2d (30)                              [16, 512, 14, 14]    [16, 512, 7, 7]      --                   --\n",
              "├─Sequential (classifier)                          [16, 512, 7, 7]      [16, 4]              --                   True\n",
              "│    └─Flatten (0)                                 [16, 512, 7, 7]      [16, 25088]          --                   --\n",
              "│    └─Linear (1)                                  [16, 25088]          [16, 512]            12,845,568           True\n",
              "│    └─ReLU (2)                                    [16, 512]            [16, 512]            --                   --\n",
              "│    └─Dropout (3)                                 [16, 512]            [16, 512]            --                   --\n",
              "│    └─Linear (4)                                  [16, 512]            [16, 4]              2,052                True\n",
              "==================================================================================================================================\n",
              "Total params: 27,562,308\n",
              "Trainable params: 27,562,308\n",
              "Non-trainable params: 0\n",
              "Total mult-adds (G): 245.97\n",
              "==================================================================================================================================\n",
              "Input size (MB): 9.63\n",
              "Forward/backward pass size (MB): 1734.15\n",
              "Params size (MB): 110.25\n",
              "Estimated Total Size (MB): 1854.03\n",
              "=================================================================================================================================="
            ]
          },
          "metadata": {},
          "execution_count": 8
        }
      ]
    },
    {
      "cell_type": "code",
      "source": [
        "# Hitung total parameter\n",
        "total_params = sum(p.numel() for p in model.parameters())\n",
        "\n",
        "# Hitung ukuran model dalam byte (float32 -> 4 byte per parameter)\n",
        "model_size_bytes = total_params * 4\n",
        "\n",
        "# Konversi ke megabytes\n",
        "model_size_mb = model_size_bytes / (1024 ** 2)\n",
        "\n",
        "print(f\"Ukuran model: {model_size_mb:.2f} MB\")"
      ],
      "metadata": {
        "colab": {
          "base_uri": "https://localhost:8080/"
        },
        "id": "ONA2mqaF3qWB",
        "outputId": "8946522d-409e-4305-fac3-eb85b97bf095"
      },
      "id": "ONA2mqaF3qWB",
      "execution_count": null,
      "outputs": [
        {
          "output_type": "stream",
          "name": "stdout",
          "text": [
            "Ukuran model: 105.14 MB\n"
          ]
        }
      ]
    },
    {
      "cell_type": "markdown",
      "id": "d3418afa-dfad-49b4-a854-8b8a6edb0812",
      "metadata": {
        "id": "d3418afa-dfad-49b4-a854-8b8a6edb0812"
      },
      "source": [
        "# Cell 5: Training Loop with Checkpointing\n",
        "\"\"\"\n",
        "This cell implements the training loop with checkpointing.\n",
        "Checkpointing allows you to save the model's state after each epoch, so you can resume training later if needed.\n",
        "The best model (based on validation loss) is also saved separately.\n",
        "\"\"\""
      ]
    },
    {
      "cell_type": "code",
      "execution_count": null,
      "id": "80f1afda-2a9e-471f-9046-9fc898c8bb12",
      "metadata": {
        "id": "80f1afda-2a9e-471f-9046-9fc898c8bb12",
        "outputId": "63f7f251-d350-4d82-c7a8-105d85770506",
        "colab": {
          "base_uri": "https://localhost:8080/"
        }
      },
      "outputs": [
        {
          "output_type": "stream",
          "name": "stderr",
          "text": [
            "Epoch 1/100 - Training: 100%|██████████| 38/38 [00:10<00:00,  3.73it/s, Loss=0.271]\n"
          ]
        },
        {
          "output_type": "stream",
          "name": "stdout",
          "text": [
            "Epoch [1/100], Train Loss: 0.9786, Accuracy: 0.5474, Precision: 0.5411, Recall: 0.5474, F1-Score: 0.5407\n"
          ]
        },
        {
          "output_type": "stream",
          "name": "stderr",
          "text": [
            "Epoch 1/100 - Validation: 100%|██████████| 6/6 [00:00<00:00,  9.36it/s, Loss=0.623]\n"
          ]
        },
        {
          "output_type": "stream",
          "name": "stdout",
          "text": [
            "Validation Loss: 0.7730, Accuracy: 0.6543, Precision: 0.8482, Recall: 0.6543, F1-Score: 0.6603\n",
            "Checkpoint saved at checkpoint.pth.tar\n",
            "Epoch [1/100] completed in 14.86 seconds\n"
          ]
        },
        {
          "output_type": "stream",
          "name": "stderr",
          "text": [
            "Epoch 2/100 - Training: 100%|██████████| 38/38 [00:10<00:00,  3.72it/s, Loss=0.445]\n"
          ]
        },
        {
          "output_type": "stream",
          "name": "stdout",
          "text": [
            "Epoch [2/100], Train Loss: 0.3854, Accuracy: 0.8652, Precision: 0.8651, Recall: 0.8652, F1-Score: 0.8648\n"
          ]
        },
        {
          "output_type": "stream",
          "name": "stderr",
          "text": [
            "Epoch 2/100 - Validation: 100%|██████████| 6/6 [00:00<00:00,  8.78it/s, Loss=0.0952]\n"
          ]
        },
        {
          "output_type": "stream",
          "name": "stdout",
          "text": [
            "Validation Loss: 0.6984, Accuracy: 0.6296, Precision: 0.8038, Recall: 0.6296, F1-Score: 0.6456\n",
            "Checkpoint saved at checkpoint.pth.tar\n",
            "Epoch [2/100] completed in 12.40 seconds\n"
          ]
        },
        {
          "output_type": "stream",
          "name": "stderr",
          "text": [
            "Epoch 3/100 - Training: 100%|██████████| 38/38 [00:08<00:00,  4.40it/s, Loss=0.341]\n"
          ]
        },
        {
          "output_type": "stream",
          "name": "stdout",
          "text": [
            "Epoch [3/100], Train Loss: 0.1420, Accuracy: 0.9634, Precision: 0.9634, Recall: 0.9634, F1-Score: 0.9633\n"
          ]
        },
        {
          "output_type": "stream",
          "name": "stderr",
          "text": [
            "Epoch 3/100 - Validation: 100%|██████████| 6/6 [00:00<00:00, 11.90it/s, Loss=0.391]\n"
          ]
        },
        {
          "output_type": "stream",
          "name": "stdout",
          "text": [
            "Validation Loss: 0.5506, Accuracy: 0.8025, Precision: 0.8391, Recall: 0.8025, F1-Score: 0.8049\n",
            "Checkpoint saved at checkpoint.pth.tar\n",
            "Epoch [3/100] completed in 10.45 seconds\n"
          ]
        },
        {
          "output_type": "stream",
          "name": "stderr",
          "text": [
            "Epoch 4/100 - Training: 100%|██████████| 38/38 [00:08<00:00,  4.45it/s, Loss=0.0142]\n"
          ]
        },
        {
          "output_type": "stream",
          "name": "stdout",
          "text": [
            "Epoch [4/100], Train Loss: 0.0655, Accuracy: 0.9800, Precision: 0.9801, Recall: 0.9800, F1-Score: 0.9800\n"
          ]
        },
        {
          "output_type": "stream",
          "name": "stderr",
          "text": [
            "Epoch 4/100 - Validation: 100%|██████████| 6/6 [00:00<00:00, 13.33it/s, Loss=0.0232]\n"
          ]
        },
        {
          "output_type": "stream",
          "name": "stdout",
          "text": [
            "Validation Loss: 0.5187, Accuracy: 0.8272, Precision: 0.8718, Recall: 0.8272, F1-Score: 0.8347\n",
            "Checkpoint saved at checkpoint.pth.tar\n",
            "Epoch [4/100] completed in 10.08 seconds\n"
          ]
        },
        {
          "output_type": "stream",
          "name": "stderr",
          "text": [
            "Epoch 5/100 - Training: 100%|██████████| 38/38 [00:08<00:00,  4.32it/s, Loss=0.429]\n"
          ]
        },
        {
          "output_type": "stream",
          "name": "stdout",
          "text": [
            "Epoch [5/100], Train Loss: 0.0375, Accuracy: 0.9884, Precision: 0.9884, Recall: 0.9884, F1-Score: 0.9883\n"
          ]
        },
        {
          "output_type": "stream",
          "name": "stderr",
          "text": [
            "Epoch 5/100 - Validation: 100%|██████████| 6/6 [00:00<00:00, 13.03it/s, Loss=0.0058]\n"
          ]
        },
        {
          "output_type": "stream",
          "name": "stdout",
          "text": [
            "Validation Loss: 1.1911, Accuracy: 0.6543, Precision: 0.8044, Recall: 0.6543, F1-Score: 0.6664\n",
            "Checkpoint saved at checkpoint.pth.tar\n",
            "Epoch [5/100] completed in 9.84 seconds\n"
          ]
        },
        {
          "output_type": "stream",
          "name": "stderr",
          "text": [
            "Epoch 6/100 - Training: 100%|██████████| 38/38 [00:08<00:00,  4.29it/s, Loss=0.00732]\n"
          ]
        },
        {
          "output_type": "stream",
          "name": "stdout",
          "text": [
            "Epoch [6/100], Train Loss: 0.0613, Accuracy: 0.9900, Precision: 0.9901, Recall: 0.9900, F1-Score: 0.9900\n"
          ]
        },
        {
          "output_type": "stream",
          "name": "stderr",
          "text": [
            "Epoch 6/100 - Validation: 100%|██████████| 6/6 [00:00<00:00, 13.10it/s, Loss=0.0139]\n"
          ]
        },
        {
          "output_type": "stream",
          "name": "stdout",
          "text": [
            "Validation Loss: 0.4105, Accuracy: 0.8889, Precision: 0.9306, Recall: 0.8889, F1-Score: 0.8974\n",
            "Checkpoint saved at checkpoint.pth.tar\n",
            "Epoch [6/100] completed in 10.35 seconds\n"
          ]
        },
        {
          "output_type": "stream",
          "name": "stderr",
          "text": [
            "Epoch 7/100 - Training: 100%|██████████| 38/38 [00:08<00:00,  4.35it/s, Loss=0.00124]\n"
          ]
        },
        {
          "output_type": "stream",
          "name": "stdout",
          "text": [
            "Epoch [7/100], Train Loss: 0.0131, Accuracy: 0.9967, Precision: 0.9967, Recall: 0.9967, F1-Score: 0.9967\n"
          ]
        },
        {
          "output_type": "stream",
          "name": "stderr",
          "text": [
            "Epoch 7/100 - Validation: 100%|██████████| 6/6 [00:00<00:00, 11.76it/s, Loss=0.0328]\n"
          ]
        },
        {
          "output_type": "stream",
          "name": "stdout",
          "text": [
            "Validation Loss: 0.4497, Accuracy: 0.8765, Precision: 0.9098, Recall: 0.8765, F1-Score: 0.8823\n",
            "Checkpoint saved at checkpoint.pth.tar\n",
            "Epoch [7/100] completed in 10.01 seconds\n"
          ]
        },
        {
          "output_type": "stream",
          "name": "stderr",
          "text": [
            "Epoch 8/100 - Training: 100%|██████████| 38/38 [00:08<00:00,  4.29it/s, Loss=0.000811]\n"
          ]
        },
        {
          "output_type": "stream",
          "name": "stdout",
          "text": [
            "Epoch [8/100], Train Loss: 0.0121, Accuracy: 0.9967, Precision: 0.9967, Recall: 0.9967, F1-Score: 0.9967\n"
          ]
        },
        {
          "output_type": "stream",
          "name": "stderr",
          "text": [
            "Epoch 8/100 - Validation: 100%|██████████| 6/6 [00:00<00:00, 12.86it/s, Loss=0.0894]\n"
          ]
        },
        {
          "output_type": "stream",
          "name": "stdout",
          "text": [
            "Validation Loss: 0.3821, Accuracy: 0.9259, Precision: 0.9374, Recall: 0.9259, F1-Score: 0.9273\n",
            "Checkpoint saved at checkpoint.pth.tar\n",
            "Epoch [8/100] completed in 10.25 seconds\n"
          ]
        },
        {
          "output_type": "stream",
          "name": "stderr",
          "text": [
            "Epoch 9/100 - Training: 100%|██████████| 38/38 [00:08<00:00,  4.23it/s, Loss=0.000508]\n"
          ]
        },
        {
          "output_type": "stream",
          "name": "stdout",
          "text": [
            "Epoch [9/100], Train Loss: 0.0068, Accuracy: 0.9967, Precision: 0.9967, Recall: 0.9967, F1-Score: 0.9967\n"
          ]
        },
        {
          "output_type": "stream",
          "name": "stderr",
          "text": [
            "Epoch 9/100 - Validation: 100%|██████████| 6/6 [00:00<00:00, 13.19it/s, Loss=0.0486]\n"
          ]
        },
        {
          "output_type": "stream",
          "name": "stdout",
          "text": [
            "Validation Loss: 0.4123, Accuracy: 0.9259, Precision: 0.9374, Recall: 0.9259, F1-Score: 0.9273\n",
            "Checkpoint saved at checkpoint.pth.tar\n",
            "Epoch [9/100] completed in 10.03 seconds\n"
          ]
        },
        {
          "output_type": "stream",
          "name": "stderr",
          "text": [
            "Epoch 10/100 - Training: 100%|██████████| 38/38 [00:09<00:00,  4.22it/s, Loss=0.000244]\n"
          ]
        },
        {
          "output_type": "stream",
          "name": "stdout",
          "text": [
            "Epoch [10/100], Train Loss: 0.0057, Accuracy: 0.9983, Precision: 0.9984, Recall: 0.9983, F1-Score: 0.9983\n"
          ]
        },
        {
          "output_type": "stream",
          "name": "stderr",
          "text": [
            "Epoch 10/100 - Validation: 100%|██████████| 6/6 [00:00<00:00, 13.08it/s, Loss=0.0597]\n"
          ]
        },
        {
          "output_type": "stream",
          "name": "stdout",
          "text": [
            "Validation Loss: 0.4157, Accuracy: 0.9259, Precision: 0.9374, Recall: 0.9259, F1-Score: 0.9273\n",
            "Checkpoint saved at checkpoint.pth.tar\n",
            "Epoch [10/100] completed in 10.04 seconds\n"
          ]
        },
        {
          "output_type": "stream",
          "name": "stderr",
          "text": [
            "Epoch 11/100 - Training: 100%|██████████| 38/38 [00:09<00:00,  4.13it/s, Loss=0.000146]\n"
          ]
        },
        {
          "output_type": "stream",
          "name": "stdout",
          "text": [
            "Epoch [11/100], Train Loss: 0.0047, Accuracy: 0.9983, Precision: 0.9983, Recall: 0.9983, F1-Score: 0.9983\n"
          ]
        },
        {
          "output_type": "stream",
          "name": "stderr",
          "text": [
            "Epoch 11/100 - Validation: 100%|██████████| 6/6 [00:00<00:00, 11.90it/s, Loss=0.0287]\n"
          ]
        },
        {
          "output_type": "stream",
          "name": "stdout",
          "text": [
            "Validation Loss: 0.4091, Accuracy: 0.9383, Precision: 0.9487, Recall: 0.9383, F1-Score: 0.9398\n",
            "Checkpoint saved at checkpoint.pth.tar\n",
            "Epoch [11/100] completed in 10.55 seconds\n"
          ]
        },
        {
          "output_type": "stream",
          "name": "stderr",
          "text": [
            "Epoch 12/100 - Training: 100%|██████████| 38/38 [00:08<00:00,  4.28it/s, Loss=9.49e-5]\n"
          ]
        },
        {
          "output_type": "stream",
          "name": "stdout",
          "text": [
            "Epoch [12/100], Train Loss: 0.0075, Accuracy: 0.9983, Precision: 0.9984, Recall: 0.9983, F1-Score: 0.9983\n"
          ]
        },
        {
          "output_type": "stream",
          "name": "stderr",
          "text": [
            "Epoch 12/100 - Validation: 100%|██████████| 6/6 [00:00<00:00, 13.14it/s, Loss=0.0353]\n"
          ]
        },
        {
          "output_type": "stream",
          "name": "stdout",
          "text": [
            "Validation Loss: 0.4304, Accuracy: 0.9259, Precision: 0.9374, Recall: 0.9259, F1-Score: 0.9273\n",
            "Checkpoint saved at checkpoint.pth.tar\n",
            "Epoch [12/100] completed in 10.40 seconds\n"
          ]
        },
        {
          "output_type": "stream",
          "name": "stderr",
          "text": [
            "Epoch 13/100 - Training: 100%|██████████| 38/38 [00:08<00:00,  4.26it/s, Loss=0.000381]\n"
          ]
        },
        {
          "output_type": "stream",
          "name": "stdout",
          "text": [
            "Epoch [13/100], Train Loss: 0.0049, Accuracy: 0.9983, Precision: 0.9983, Recall: 0.9983, F1-Score: 0.9983\n"
          ]
        },
        {
          "output_type": "stream",
          "name": "stderr",
          "text": [
            "Epoch 13/100 - Validation: 100%|██████████| 6/6 [00:00<00:00, 13.13it/s, Loss=0.0448]\n"
          ]
        },
        {
          "output_type": "stream",
          "name": "stdout",
          "text": [
            "Validation Loss: 0.3985, Accuracy: 0.9259, Precision: 0.9374, Recall: 0.9259, F1-Score: 0.9273\n",
            "Checkpoint saved at checkpoint.pth.tar\n",
            "Epoch [13/100] completed in 10.00 seconds\n"
          ]
        },
        {
          "output_type": "stream",
          "name": "stderr",
          "text": [
            "Epoch 14/100 - Training: 100%|██████████| 38/38 [00:08<00:00,  4.28it/s, Loss=8.42e-5]\n"
          ]
        },
        {
          "output_type": "stream",
          "name": "stdout",
          "text": [
            "Epoch [14/100], Train Loss: 0.0045, Accuracy: 0.9967, Precision: 0.9967, Recall: 0.9967, F1-Score: 0.9967\n"
          ]
        },
        {
          "output_type": "stream",
          "name": "stderr",
          "text": [
            "Epoch 14/100 - Validation: 100%|██████████| 6/6 [00:00<00:00, 11.07it/s, Loss=0.0337]\n"
          ]
        },
        {
          "output_type": "stream",
          "name": "stdout",
          "text": [
            "Validation Loss: 0.4147, Accuracy: 0.9259, Precision: 0.9374, Recall: 0.9259, F1-Score: 0.9273\n",
            "Checkpoint saved at checkpoint.pth.tar\n",
            "Epoch [14/100] completed in 10.28 seconds\n"
          ]
        },
        {
          "output_type": "stream",
          "name": "stderr",
          "text": [
            "Epoch 15/100 - Training: 100%|██████████| 38/38 [00:08<00:00,  4.33it/s, Loss=0.000408]\n"
          ]
        },
        {
          "output_type": "stream",
          "name": "stdout",
          "text": [
            "Epoch [15/100], Train Loss: 0.0052, Accuracy: 0.9967, Precision: 0.9967, Recall: 0.9967, F1-Score: 0.9967\n"
          ]
        },
        {
          "output_type": "stream",
          "name": "stderr",
          "text": [
            "Epoch 15/100 - Validation: 100%|██████████| 6/6 [00:00<00:00, 13.10it/s, Loss=0.073]\n"
          ]
        },
        {
          "output_type": "stream",
          "name": "stdout",
          "text": [
            "Validation Loss: 0.4339, Accuracy: 0.9259, Precision: 0.9374, Recall: 0.9259, F1-Score: 0.9273\n",
            "Checkpoint saved at checkpoint.pth.tar\n",
            "Epoch [15/100] completed in 9.82 seconds\n"
          ]
        },
        {
          "output_type": "stream",
          "name": "stderr",
          "text": [
            "Epoch 16/100 - Training: 100%|██████████| 38/38 [00:08<00:00,  4.23it/s, Loss=0.000343]\n"
          ]
        },
        {
          "output_type": "stream",
          "name": "stdout",
          "text": [
            "Epoch [16/100], Train Loss: 0.0060, Accuracy: 0.9967, Precision: 0.9967, Recall: 0.9967, F1-Score: 0.9967\n"
          ]
        },
        {
          "output_type": "stream",
          "name": "stderr",
          "text": [
            "Epoch 16/100 - Validation: 100%|██████████| 6/6 [00:00<00:00, 13.02it/s, Loss=0.0127]\n"
          ]
        },
        {
          "output_type": "stream",
          "name": "stdout",
          "text": [
            "Validation Loss: 0.4523, Accuracy: 0.8889, Precision: 0.9227, Recall: 0.8889, F1-Score: 0.8950\n",
            "Checkpoint saved at checkpoint.pth.tar\n",
            "Epoch [16/100] completed in 10.05 seconds\n"
          ]
        },
        {
          "output_type": "stream",
          "name": "stderr",
          "text": [
            "Epoch 17/100 - Training: 100%|██████████| 38/38 [00:09<00:00,  4.21it/s, Loss=4.55e-5]\n"
          ]
        },
        {
          "output_type": "stream",
          "name": "stdout",
          "text": [
            "Epoch [17/100], Train Loss: 0.0029, Accuracy: 1.0000, Precision: 1.0000, Recall: 1.0000, F1-Score: 1.0000\n"
          ]
        },
        {
          "output_type": "stream",
          "name": "stderr",
          "text": [
            "Epoch 17/100 - Validation: 100%|██████████| 6/6 [00:00<00:00, 12.65it/s, Loss=0.0143]\n"
          ]
        },
        {
          "output_type": "stream",
          "name": "stdout",
          "text": [
            "Validation Loss: 0.4731, Accuracy: 0.9136, Precision: 0.9342, Recall: 0.9136, F1-Score: 0.9174\n",
            "Checkpoint saved at checkpoint.pth.tar\n",
            "Epoch [17/100] completed in 10.14 seconds\n"
          ]
        },
        {
          "output_type": "stream",
          "name": "stderr",
          "text": [
            "Epoch 18/100 - Training: 100%|██████████| 38/38 [00:08<00:00,  4.28it/s, Loss=8.42e-6]\n"
          ]
        },
        {
          "output_type": "stream",
          "name": "stdout",
          "text": [
            "Epoch [18/100], Train Loss: 0.0041, Accuracy: 0.9967, Precision: 0.9967, Recall: 0.9967, F1-Score: 0.9967\n"
          ]
        },
        {
          "output_type": "stream",
          "name": "stderr",
          "text": [
            "Epoch 18/100 - Validation: 100%|██████████| 6/6 [00:00<00:00, 11.48it/s, Loss=0.0288]\n"
          ]
        },
        {
          "output_type": "stream",
          "name": "stdout",
          "text": [
            "Validation Loss: 0.4532, Accuracy: 0.9259, Precision: 0.9374, Recall: 0.9259, F1-Score: 0.9273\n",
            "Checkpoint saved at checkpoint.pth.tar\n",
            "Epoch [18/100] completed in 10.21 seconds\n"
          ]
        },
        {
          "output_type": "stream",
          "name": "stderr",
          "text": [
            "Epoch 19/100 - Training: 100%|██████████| 38/38 [00:08<00:00,  4.25it/s, Loss=7.4e-5]\n"
          ]
        },
        {
          "output_type": "stream",
          "name": "stdout",
          "text": [
            "Epoch [19/100], Train Loss: 0.0025, Accuracy: 0.9983, Precision: 0.9984, Recall: 0.9983, F1-Score: 0.9983\n"
          ]
        },
        {
          "output_type": "stream",
          "name": "stderr",
          "text": [
            "Epoch 19/100 - Validation: 100%|██████████| 6/6 [00:00<00:00, 12.74it/s, Loss=0.0362]\n"
          ]
        },
        {
          "output_type": "stream",
          "name": "stdout",
          "text": [
            "Validation Loss: 0.4518, Accuracy: 0.9259, Precision: 0.9374, Recall: 0.9259, F1-Score: 0.9273\n",
            "Checkpoint saved at checkpoint.pth.tar\n",
            "Epoch [19/100] completed in 10.00 seconds\n"
          ]
        },
        {
          "output_type": "stream",
          "name": "stderr",
          "text": [
            "Epoch 20/100 - Training: 100%|██████████| 38/38 [00:08<00:00,  4.23it/s, Loss=0.000973]\n"
          ]
        },
        {
          "output_type": "stream",
          "name": "stdout",
          "text": [
            "Epoch [20/100], Train Loss: 0.0036, Accuracy: 0.9967, Precision: 0.9967, Recall: 0.9967, F1-Score: 0.9967\n"
          ]
        },
        {
          "output_type": "stream",
          "name": "stderr",
          "text": [
            "Epoch 20/100 - Validation: 100%|██████████| 6/6 [00:00<00:00, 13.07it/s, Loss=0.00321]\n"
          ]
        },
        {
          "output_type": "stream",
          "name": "stdout",
          "text": [
            "Validation Loss: 0.5096, Accuracy: 0.9012, Precision: 0.9283, Recall: 0.9012, F1-Score: 0.9058\n",
            "Checkpoint saved at checkpoint.pth.tar\n",
            "Epoch [20/100] completed in 9.99 seconds\n"
          ]
        },
        {
          "output_type": "stream",
          "name": "stderr",
          "text": [
            "Epoch 21/100 - Training: 100%|██████████| 38/38 [00:08<00:00,  4.28it/s, Loss=0.216]\n"
          ]
        },
        {
          "output_type": "stream",
          "name": "stdout",
          "text": [
            "Epoch [21/100], Train Loss: 0.0074, Accuracy: 0.9967, Precision: 0.9967, Recall: 0.9967, F1-Score: 0.9967\n"
          ]
        },
        {
          "output_type": "stream",
          "name": "stderr",
          "text": [
            "Epoch 21/100 - Validation: 100%|██████████| 6/6 [00:00<00:00, 11.28it/s, Loss=0.00839]\n"
          ]
        },
        {
          "output_type": "stream",
          "name": "stdout",
          "text": [
            "Validation Loss: 0.5023, Accuracy: 0.9012, Precision: 0.9213, Recall: 0.9012, F1-Score: 0.9048\n",
            "Checkpoint saved at checkpoint.pth.tar\n",
            "Epoch [21/100] completed in 10.25 seconds\n"
          ]
        },
        {
          "output_type": "stream",
          "name": "stderr",
          "text": [
            "Epoch 22/100 - Training: 100%|██████████| 38/38 [00:08<00:00,  4.33it/s, Loss=0.000559]\n"
          ]
        },
        {
          "output_type": "stream",
          "name": "stdout",
          "text": [
            "Epoch [22/100], Train Loss: 0.0070, Accuracy: 0.9983, Precision: 0.9984, Recall: 0.9983, F1-Score: 0.9983\n"
          ]
        },
        {
          "output_type": "stream",
          "name": "stderr",
          "text": [
            "Epoch 22/100 - Validation: 100%|██████████| 6/6 [00:00<00:00, 13.23it/s, Loss=0.0343]\n"
          ]
        },
        {
          "output_type": "stream",
          "name": "stdout",
          "text": [
            "Validation Loss: 0.4041, Accuracy: 0.9259, Precision: 0.9353, Recall: 0.9259, F1-Score: 0.9272\n",
            "Checkpoint saved at checkpoint.pth.tar\n",
            "Epoch [22/100] completed in 9.76 seconds\n"
          ]
        },
        {
          "output_type": "stream",
          "name": "stderr",
          "text": [
            "Epoch 23/100 - Training: 100%|██████████| 38/38 [00:08<00:00,  4.24it/s, Loss=4.32e-5]\n"
          ]
        },
        {
          "output_type": "stream",
          "name": "stdout",
          "text": [
            "Epoch [23/100], Train Loss: 0.0026, Accuracy: 0.9983, Precision: 0.9984, Recall: 0.9983, F1-Score: 0.9983\n"
          ]
        },
        {
          "output_type": "stream",
          "name": "stderr",
          "text": [
            "Epoch 23/100 - Validation: 100%|██████████| 6/6 [00:00<00:00, 12.83it/s, Loss=0.0115]\n"
          ]
        },
        {
          "output_type": "stream",
          "name": "stdout",
          "text": [
            "Validation Loss: 0.4517, Accuracy: 0.8889, Precision: 0.9164, Recall: 0.8889, F1-Score: 0.8932\n",
            "Checkpoint saved at checkpoint.pth.tar\n",
            "Epoch [23/100] completed in 9.96 seconds\n"
          ]
        },
        {
          "output_type": "stream",
          "name": "stderr",
          "text": [
            "Epoch 24/100 - Training: 100%|██████████| 38/38 [00:08<00:00,  4.26it/s, Loss=0.000327]\n"
          ]
        },
        {
          "output_type": "stream",
          "name": "stdout",
          "text": [
            "Epoch [24/100], Train Loss: 0.0009, Accuracy: 1.0000, Precision: 1.0000, Recall: 1.0000, F1-Score: 1.0000\n"
          ]
        },
        {
          "output_type": "stream",
          "name": "stderr",
          "text": [
            "Epoch 24/100 - Validation: 100%|██████████| 6/6 [00:00<00:00, 12.64it/s, Loss=0.0104]\n"
          ]
        },
        {
          "output_type": "stream",
          "name": "stdout",
          "text": [
            "Validation Loss: 0.4725, Accuracy: 0.9136, Precision: 0.9342, Recall: 0.9136, F1-Score: 0.9174\n",
            "Checkpoint saved at checkpoint.pth.tar\n",
            "Epoch [24/100] completed in 9.96 seconds\n"
          ]
        },
        {
          "output_type": "stream",
          "name": "stderr",
          "text": [
            "Epoch 25/100 - Training: 100%|██████████| 38/38 [00:08<00:00,  4.34it/s, Loss=0.000286]\n"
          ]
        },
        {
          "output_type": "stream",
          "name": "stdout",
          "text": [
            "Epoch [25/100], Train Loss: 0.0037, Accuracy: 0.9983, Precision: 0.9984, Recall: 0.9983, F1-Score: 0.9983\n"
          ]
        },
        {
          "output_type": "stream",
          "name": "stderr",
          "text": [
            "Epoch 25/100 - Validation: 100%|██████████| 6/6 [00:00<00:00, 12.13it/s, Loss=0.0133]\n"
          ]
        },
        {
          "output_type": "stream",
          "name": "stdout",
          "text": [
            "Validation Loss: 0.4627, Accuracy: 0.9136, Precision: 0.9290, Recall: 0.9136, F1-Score: 0.9161\n",
            "Checkpoint saved at checkpoint.pth.tar\n",
            "Epoch [25/100] completed in 10.07 seconds\n"
          ]
        },
        {
          "output_type": "stream",
          "name": "stderr",
          "text": [
            "Epoch 26/100 - Training: 100%|██████████| 38/38 [00:08<00:00,  4.29it/s, Loss=0.000149]\n"
          ]
        },
        {
          "output_type": "stream",
          "name": "stdout",
          "text": [
            "Epoch [26/100], Train Loss: 0.0037, Accuracy: 0.9983, Precision: 0.9983, Recall: 0.9983, F1-Score: 0.9983\n"
          ]
        },
        {
          "output_type": "stream",
          "name": "stderr",
          "text": [
            "Epoch 26/100 - Validation: 100%|██████████| 6/6 [00:00<00:00, 12.85it/s, Loss=0.0187]\n"
          ]
        },
        {
          "output_type": "stream",
          "name": "stdout",
          "text": [
            "Validation Loss: 0.4309, Accuracy: 0.9383, Precision: 0.9487, Recall: 0.9383, F1-Score: 0.9398\n",
            "Checkpoint saved at checkpoint.pth.tar\n",
            "Epoch [26/100] completed in 9.88 seconds\n"
          ]
        },
        {
          "output_type": "stream",
          "name": "stderr",
          "text": [
            "Epoch 27/100 - Training: 100%|██████████| 38/38 [00:08<00:00,  4.25it/s, Loss=3.59e-5]\n"
          ]
        },
        {
          "output_type": "stream",
          "name": "stdout",
          "text": [
            "Epoch [27/100], Train Loss: 0.0045, Accuracy: 0.9967, Precision: 0.9967, Recall: 0.9967, F1-Score: 0.9967\n"
          ]
        },
        {
          "output_type": "stream",
          "name": "stderr",
          "text": [
            "Epoch 27/100 - Validation: 100%|██████████| 6/6 [00:00<00:00, 12.79it/s, Loss=0.022]\n"
          ]
        },
        {
          "output_type": "stream",
          "name": "stdout",
          "text": [
            "Validation Loss: 0.4190, Accuracy: 0.9383, Precision: 0.9487, Recall: 0.9383, F1-Score: 0.9398\n",
            "Checkpoint saved at checkpoint.pth.tar\n",
            "Epoch [27/100] completed in 9.97 seconds\n"
          ]
        },
        {
          "output_type": "stream",
          "name": "stderr",
          "text": [
            "Epoch 28/100 - Training: 100%|██████████| 38/38 [00:08<00:00,  4.28it/s, Loss=0.000194]\n"
          ]
        },
        {
          "output_type": "stream",
          "name": "stdout",
          "text": [
            "Epoch [28/100], Train Loss: 0.0021, Accuracy: 0.9983, Precision: 0.9984, Recall: 0.9983, F1-Score: 0.9983\n"
          ]
        },
        {
          "output_type": "stream",
          "name": "stderr",
          "text": [
            "Epoch 28/100 - Validation: 100%|██████████| 6/6 [00:00<00:00, 11.29it/s, Loss=0.0194]\n"
          ]
        },
        {
          "output_type": "stream",
          "name": "stdout",
          "text": [
            "Validation Loss: 0.4441, Accuracy: 0.9136, Precision: 0.9290, Recall: 0.9136, F1-Score: 0.9161\n",
            "Checkpoint saved at checkpoint.pth.tar\n",
            "Epoch [28/100] completed in 10.23 seconds\n"
          ]
        },
        {
          "output_type": "stream",
          "name": "stderr",
          "text": [
            "Epoch 29/100 - Training: 100%|██████████| 38/38 [00:08<00:00,  4.33it/s, Loss=0.000515]\n"
          ]
        },
        {
          "output_type": "stream",
          "name": "stdout",
          "text": [
            "Epoch [29/100], Train Loss: 0.0069, Accuracy: 0.9967, Precision: 0.9967, Recall: 0.9967, F1-Score: 0.9967\n"
          ]
        },
        {
          "output_type": "stream",
          "name": "stderr",
          "text": [
            "Epoch 29/100 - Validation: 100%|██████████| 6/6 [00:00<00:00, 12.88it/s, Loss=0.015]\n"
          ]
        },
        {
          "output_type": "stream",
          "name": "stdout",
          "text": [
            "Validation Loss: 0.4542, Accuracy: 0.9136, Precision: 0.9290, Recall: 0.9136, F1-Score: 0.9161\n",
            "Checkpoint saved at checkpoint.pth.tar\n",
            "Epoch [29/100] completed in 9.84 seconds\n"
          ]
        },
        {
          "output_type": "stream",
          "name": "stderr",
          "text": [
            "Epoch 30/100 - Training: 100%|██████████| 38/38 [00:08<00:00,  4.23it/s, Loss=3.86e-5]\n"
          ]
        },
        {
          "output_type": "stream",
          "name": "stdout",
          "text": [
            "Epoch [30/100], Train Loss: 0.0028, Accuracy: 0.9983, Precision: 0.9983, Recall: 0.9983, F1-Score: 0.9983\n"
          ]
        },
        {
          "output_type": "stream",
          "name": "stderr",
          "text": [
            "Epoch 30/100 - Validation: 100%|██████████| 6/6 [00:00<00:00, 12.67it/s, Loss=0.0609]\n"
          ]
        },
        {
          "output_type": "stream",
          "name": "stdout",
          "text": [
            "Validation Loss: 0.4054, Accuracy: 0.9383, Precision: 0.9487, Recall: 0.9383, F1-Score: 0.9398\n",
            "Checkpoint saved at checkpoint.pth.tar\n",
            "Epoch [30/100] completed in 10.00 seconds\n"
          ]
        },
        {
          "output_type": "stream",
          "name": "stderr",
          "text": [
            "Epoch 31/100 - Training: 100%|██████████| 38/38 [00:08<00:00,  4.25it/s, Loss=0.0005]\n"
          ]
        },
        {
          "output_type": "stream",
          "name": "stdout",
          "text": [
            "Epoch [31/100], Train Loss: 0.0045, Accuracy: 0.9967, Precision: 0.9967, Recall: 0.9967, F1-Score: 0.9967\n"
          ]
        },
        {
          "output_type": "stream",
          "name": "stderr",
          "text": [
            "Epoch 31/100 - Validation: 100%|██████████| 6/6 [00:00<00:00, 12.88it/s, Loss=0.0184]\n"
          ]
        },
        {
          "output_type": "stream",
          "name": "stdout",
          "text": [
            "Validation Loss: 0.4506, Accuracy: 0.9259, Precision: 0.9408, Recall: 0.9259, F1-Score: 0.9286\n",
            "Checkpoint saved at checkpoint.pth.tar\n",
            "Epoch [31/100] completed in 9.97 seconds\n"
          ]
        },
        {
          "output_type": "stream",
          "name": "stderr",
          "text": [
            "Epoch 32/100 - Training: 100%|██████████| 38/38 [00:08<00:00,  4.31it/s, Loss=8.19e-5]\n"
          ]
        },
        {
          "output_type": "stream",
          "name": "stdout",
          "text": [
            "Epoch [32/100], Train Loss: 0.0012, Accuracy: 1.0000, Precision: 1.0000, Recall: 1.0000, F1-Score: 1.0000\n"
          ]
        },
        {
          "output_type": "stream",
          "name": "stderr",
          "text": [
            "Epoch 32/100 - Validation: 100%|██████████| 6/6 [00:00<00:00, 11.07it/s, Loss=0.0166]\n"
          ]
        },
        {
          "output_type": "stream",
          "name": "stdout",
          "text": [
            "Validation Loss: 0.4721, Accuracy: 0.9259, Precision: 0.9471, Recall: 0.9259, F1-Score: 0.9302\n",
            "Checkpoint saved at checkpoint.pth.tar\n",
            "Epoch [32/100] completed in 10.17 seconds\n"
          ]
        },
        {
          "output_type": "stream",
          "name": "stderr",
          "text": [
            "Epoch 33/100 - Training: 100%|██████████| 38/38 [00:08<00:00,  4.24it/s, Loss=6.5e-5]\n"
          ]
        },
        {
          "output_type": "stream",
          "name": "stdout",
          "text": [
            "Epoch [33/100], Train Loss: 0.0025, Accuracy: 0.9983, Precision: 0.9983, Recall: 0.9983, F1-Score: 0.9983\n"
          ]
        },
        {
          "output_type": "stream",
          "name": "stderr",
          "text": [
            "Epoch 33/100 - Validation: 100%|██████████| 6/6 [00:00<00:00, 12.78it/s, Loss=0.0194]\n"
          ]
        },
        {
          "output_type": "stream",
          "name": "stdout",
          "text": [
            "Validation Loss: 0.4646, Accuracy: 0.9136, Precision: 0.9343, Recall: 0.9136, F1-Score: 0.9172\n",
            "Checkpoint saved at checkpoint.pth.tar\n",
            "Epoch [33/100] completed in 10.02 seconds\n"
          ]
        },
        {
          "output_type": "stream",
          "name": "stderr",
          "text": [
            "Epoch 34/100 - Training: 100%|██████████| 38/38 [00:09<00:00,  4.20it/s, Loss=0.000279]\n"
          ]
        },
        {
          "output_type": "stream",
          "name": "stdout",
          "text": [
            "Epoch [34/100], Train Loss: 0.0055, Accuracy: 0.9967, Precision: 0.9967, Recall: 0.9967, F1-Score: 0.9967\n"
          ]
        },
        {
          "output_type": "stream",
          "name": "stderr",
          "text": [
            "Epoch 34/100 - Validation: 100%|██████████| 6/6 [00:00<00:00, 12.76it/s, Loss=0.0156]\n"
          ]
        },
        {
          "output_type": "stream",
          "name": "stdout",
          "text": [
            "Validation Loss: 0.4653, Accuracy: 0.9136, Precision: 0.9343, Recall: 0.9136, F1-Score: 0.9172\n",
            "Checkpoint saved at checkpoint.pth.tar\n",
            "Epoch [34/100] completed in 10.12 seconds\n"
          ]
        },
        {
          "output_type": "stream",
          "name": "stderr",
          "text": [
            "Epoch 35/100 - Training: 100%|██████████| 38/38 [00:08<00:00,  4.26it/s, Loss=0.000249]\n"
          ]
        },
        {
          "output_type": "stream",
          "name": "stdout",
          "text": [
            "Epoch [35/100], Train Loss: 0.0038, Accuracy: 0.9967, Precision: 0.9967, Recall: 0.9967, F1-Score: 0.9967\n"
          ]
        },
        {
          "output_type": "stream",
          "name": "stderr",
          "text": [
            "Epoch 35/100 - Validation: 100%|██████████| 6/6 [00:00<00:00, 11.30it/s, Loss=0.0112]\n"
          ]
        },
        {
          "output_type": "stream",
          "name": "stdout",
          "text": [
            "Validation Loss: 0.4649, Accuracy: 0.9136, Precision: 0.9411, Recall: 0.9136, F1-Score: 0.9191\n",
            "Checkpoint saved at checkpoint.pth.tar\n",
            "Epoch [35/100] completed in 10.26 seconds\n"
          ]
        },
        {
          "output_type": "stream",
          "name": "stderr",
          "text": [
            "Epoch 36/100 - Training: 100%|██████████| 38/38 [00:08<00:00,  4.31it/s, Loss=3.71e-5]\n"
          ]
        },
        {
          "output_type": "stream",
          "name": "stdout",
          "text": [
            "Epoch [36/100], Train Loss: 0.0044, Accuracy: 0.9967, Precision: 0.9967, Recall: 0.9967, F1-Score: 0.9967\n"
          ]
        },
        {
          "output_type": "stream",
          "name": "stderr",
          "text": [
            "Epoch 36/100 - Validation: 100%|██████████| 6/6 [00:00<00:00, 13.06it/s, Loss=0.0173]\n"
          ]
        },
        {
          "output_type": "stream",
          "name": "stdout",
          "text": [
            "Validation Loss: 0.4455, Accuracy: 0.9259, Precision: 0.9408, Recall: 0.9259, F1-Score: 0.9286\n",
            "Checkpoint saved at checkpoint.pth.tar\n",
            "Epoch [36/100] completed in 9.82 seconds\n"
          ]
        },
        {
          "output_type": "stream",
          "name": "stderr",
          "text": [
            "Epoch 37/100 - Training: 100%|██████████| 38/38 [00:08<00:00,  4.24it/s, Loss=0.000129]\n"
          ]
        },
        {
          "output_type": "stream",
          "name": "stdout",
          "text": [
            "Epoch [37/100], Train Loss: 0.0030, Accuracy: 0.9967, Precision: 0.9967, Recall: 0.9967, F1-Score: 0.9967\n"
          ]
        },
        {
          "output_type": "stream",
          "name": "stderr",
          "text": [
            "Epoch 37/100 - Validation: 100%|██████████| 6/6 [00:00<00:00, 13.11it/s, Loss=0.0221]\n"
          ]
        },
        {
          "output_type": "stream",
          "name": "stdout",
          "text": [
            "Validation Loss: 0.4541, Accuracy: 0.9383, Precision: 0.9487, Recall: 0.9383, F1-Score: 0.9398\n",
            "Checkpoint saved at checkpoint.pth.tar\n",
            "Epoch [37/100] completed in 9.98 seconds\n"
          ]
        },
        {
          "output_type": "stream",
          "name": "stderr",
          "text": [
            "Epoch 38/100 - Training: 100%|██████████| 38/38 [00:08<00:00,  4.24it/s, Loss=0.000219]\n"
          ]
        },
        {
          "output_type": "stream",
          "name": "stdout",
          "text": [
            "Epoch [38/100], Train Loss: 0.0024, Accuracy: 0.9983, Precision: 0.9983, Recall: 0.9983, F1-Score: 0.9983\n"
          ]
        },
        {
          "output_type": "stream",
          "name": "stderr",
          "text": [
            "Epoch 38/100 - Validation: 100%|██████████| 6/6 [00:00<00:00, 13.13it/s, Loss=0.0231]\n"
          ]
        },
        {
          "output_type": "stream",
          "name": "stdout",
          "text": [
            "Validation Loss: 0.4686, Accuracy: 0.9383, Precision: 0.9537, Recall: 0.9383, F1-Score: 0.9412\n",
            "Checkpoint saved at checkpoint.pth.tar\n",
            "Epoch [38/100] completed in 9.99 seconds\n"
          ]
        },
        {
          "output_type": "stream",
          "name": "stderr",
          "text": [
            "Epoch 39/100 - Training: 100%|██████████| 38/38 [00:08<00:00,  4.32it/s, Loss=2.57e-5]\n"
          ]
        },
        {
          "output_type": "stream",
          "name": "stdout",
          "text": [
            "Epoch [39/100], Train Loss: 0.0047, Accuracy: 0.9983, Precision: 0.9984, Recall: 0.9983, F1-Score: 0.9983\n"
          ]
        },
        {
          "output_type": "stream",
          "name": "stderr",
          "text": [
            "Epoch 39/100 - Validation: 100%|██████████| 6/6 [00:00<00:00, 11.60it/s, Loss=0.0234]\n"
          ]
        },
        {
          "output_type": "stream",
          "name": "stdout",
          "text": [
            "Validation Loss: 0.4728, Accuracy: 0.9383, Precision: 0.9487, Recall: 0.9383, F1-Score: 0.9398\n",
            "Checkpoint saved at checkpoint.pth.tar\n",
            "Epoch [39/100] completed in 10.12 seconds\n"
          ]
        },
        {
          "output_type": "stream",
          "name": "stderr",
          "text": [
            "Epoch 40/100 - Training: 100%|██████████| 38/38 [00:08<00:00,  4.26it/s, Loss=0.000459]\n"
          ]
        },
        {
          "output_type": "stream",
          "name": "stdout",
          "text": [
            "Epoch [40/100], Train Loss: 0.0027, Accuracy: 0.9983, Precision: 0.9983, Recall: 0.9983, F1-Score: 0.9983\n"
          ]
        },
        {
          "output_type": "stream",
          "name": "stderr",
          "text": [
            "Epoch 40/100 - Validation: 100%|██████████| 6/6 [00:00<00:00, 13.05it/s, Loss=0.0188]\n"
          ]
        },
        {
          "output_type": "stream",
          "name": "stdout",
          "text": [
            "Validation Loss: 0.4726, Accuracy: 0.9136, Precision: 0.9411, Recall: 0.9136, F1-Score: 0.9191\n",
            "Checkpoint saved at checkpoint.pth.tar\n",
            "Epoch [40/100] completed in 10.00 seconds\n"
          ]
        },
        {
          "output_type": "stream",
          "name": "stderr",
          "text": [
            "Epoch 41/100 - Training: 100%|██████████| 38/38 [00:08<00:00,  4.24it/s, Loss=1.44e-5]\n"
          ]
        },
        {
          "output_type": "stream",
          "name": "stdout",
          "text": [
            "Epoch [41/100], Train Loss: 0.0024, Accuracy: 0.9983, Precision: 0.9983, Recall: 0.9983, F1-Score: 0.9983\n"
          ]
        },
        {
          "output_type": "stream",
          "name": "stderr",
          "text": [
            "Epoch 41/100 - Validation: 100%|██████████| 6/6 [00:00<00:00, 13.18it/s, Loss=0.0235]\n"
          ]
        },
        {
          "output_type": "stream",
          "name": "stdout",
          "text": [
            "Validation Loss: 0.4671, Accuracy: 0.9259, Precision: 0.9408, Recall: 0.9259, F1-Score: 0.9286\n",
            "Checkpoint saved at checkpoint.pth.tar\n",
            "Epoch [41/100] completed in 10.04 seconds\n"
          ]
        },
        {
          "output_type": "stream",
          "name": "stderr",
          "text": [
            "Epoch 42/100 - Training: 100%|██████████| 38/38 [00:08<00:00,  4.28it/s, Loss=4.86e-5]\n"
          ]
        },
        {
          "output_type": "stream",
          "name": "stdout",
          "text": [
            "Epoch [42/100], Train Loss: 0.0035, Accuracy: 0.9983, Precision: 0.9983, Recall: 0.9983, F1-Score: 0.9983\n"
          ]
        },
        {
          "output_type": "stream",
          "name": "stderr",
          "text": [
            "Epoch 42/100 - Validation: 100%|██████████| 6/6 [00:00<00:00, 11.80it/s, Loss=0.0156]\n"
          ]
        },
        {
          "output_type": "stream",
          "name": "stdout",
          "text": [
            "Validation Loss: 0.4520, Accuracy: 0.9259, Precision: 0.9408, Recall: 0.9259, F1-Score: 0.9286\n",
            "Checkpoint saved at checkpoint.pth.tar\n",
            "Epoch [42/100] completed in 10.14 seconds\n"
          ]
        },
        {
          "output_type": "stream",
          "name": "stderr",
          "text": [
            "Epoch 43/100 - Training: 100%|██████████| 38/38 [00:08<00:00,  4.32it/s, Loss=0.000193]\n"
          ]
        },
        {
          "output_type": "stream",
          "name": "stdout",
          "text": [
            "Epoch [43/100], Train Loss: 0.0039, Accuracy: 0.9967, Precision: 0.9967, Recall: 0.9967, F1-Score: 0.9967\n"
          ]
        },
        {
          "output_type": "stream",
          "name": "stderr",
          "text": [
            "Epoch 43/100 - Validation: 100%|██████████| 6/6 [00:00<00:00, 13.19it/s, Loss=0.0163]\n"
          ]
        },
        {
          "output_type": "stream",
          "name": "stdout",
          "text": [
            "Validation Loss: 0.4535, Accuracy: 0.9259, Precision: 0.9408, Recall: 0.9259, F1-Score: 0.9286\n",
            "Checkpoint saved at checkpoint.pth.tar\n",
            "Epoch [43/100] completed in 9.83 seconds\n"
          ]
        },
        {
          "output_type": "stream",
          "name": "stderr",
          "text": [
            "Epoch 44/100 - Training: 100%|██████████| 38/38 [00:08<00:00,  4.23it/s, Loss=0.000352]\n"
          ]
        },
        {
          "output_type": "stream",
          "name": "stdout",
          "text": [
            "Epoch [44/100], Train Loss: 0.0020, Accuracy: 1.0000, Precision: 1.0000, Recall: 1.0000, F1-Score: 1.0000\n"
          ]
        },
        {
          "output_type": "stream",
          "name": "stderr",
          "text": [
            "Epoch 44/100 - Validation: 100%|██████████| 6/6 [00:00<00:00, 13.25it/s, Loss=0.0146]\n"
          ]
        },
        {
          "output_type": "stream",
          "name": "stdout",
          "text": [
            "Validation Loss: 0.4712, Accuracy: 0.9136, Precision: 0.9336, Recall: 0.9136, F1-Score: 0.9173\n",
            "Checkpoint saved at checkpoint.pth.tar\n",
            "Epoch [44/100] completed in 9.98 seconds\n"
          ]
        },
        {
          "output_type": "stream",
          "name": "stderr",
          "text": [
            "Epoch 45/100 - Training: 100%|██████████| 38/38 [00:08<00:00,  4.23it/s, Loss=3.5e-6]\n"
          ]
        },
        {
          "output_type": "stream",
          "name": "stdout",
          "text": [
            "Epoch [45/100], Train Loss: 0.0031, Accuracy: 0.9983, Precision: 0.9984, Recall: 0.9983, F1-Score: 0.9983\n"
          ]
        },
        {
          "output_type": "stream",
          "name": "stderr",
          "text": [
            "Epoch 45/100 - Validation: 100%|██████████| 6/6 [00:00<00:00, 12.95it/s, Loss=0.0123]\n"
          ]
        },
        {
          "output_type": "stream",
          "name": "stdout",
          "text": [
            "Validation Loss: 0.4864, Accuracy: 0.9136, Precision: 0.9411, Recall: 0.9136, F1-Score: 0.9191\n",
            "Checkpoint saved at checkpoint.pth.tar\n",
            "Epoch [45/100] completed in 10.09 seconds\n"
          ]
        },
        {
          "output_type": "stream",
          "name": "stderr",
          "text": [
            "Epoch 46/100 - Training: 100%|██████████| 38/38 [00:08<00:00,  4.31it/s, Loss=0.000153]\n"
          ]
        },
        {
          "output_type": "stream",
          "name": "stdout",
          "text": [
            "Epoch [46/100], Train Loss: 0.0022, Accuracy: 1.0000, Precision: 1.0000, Recall: 1.0000, F1-Score: 1.0000\n"
          ]
        },
        {
          "output_type": "stream",
          "name": "stderr",
          "text": [
            "Epoch 46/100 - Validation: 100%|██████████| 6/6 [00:00<00:00, 11.38it/s, Loss=0.0102]\n"
          ]
        },
        {
          "output_type": "stream",
          "name": "stdout",
          "text": [
            "Validation Loss: 0.5080, Accuracy: 0.9136, Precision: 0.9411, Recall: 0.9136, F1-Score: 0.9191\n",
            "Checkpoint saved at checkpoint.pth.tar\n",
            "Epoch [46/100] completed in 10.19 seconds\n"
          ]
        },
        {
          "output_type": "stream",
          "name": "stderr",
          "text": [
            "Epoch 47/100 - Training: 100%|██████████| 38/38 [00:08<00:00,  4.27it/s, Loss=8.88e-5]\n"
          ]
        },
        {
          "output_type": "stream",
          "name": "stdout",
          "text": [
            "Epoch [47/100], Train Loss: 0.0024, Accuracy: 0.9983, Precision: 0.9983, Recall: 0.9983, F1-Score: 0.9983\n"
          ]
        },
        {
          "output_type": "stream",
          "name": "stderr",
          "text": [
            "Epoch 47/100 - Validation: 100%|██████████| 6/6 [00:00<00:00, 13.17it/s, Loss=0.0131]\n"
          ]
        },
        {
          "output_type": "stream",
          "name": "stdout",
          "text": [
            "Validation Loss: 0.5022, Accuracy: 0.9136, Precision: 0.9411, Recall: 0.9136, F1-Score: 0.9191\n",
            "Checkpoint saved at checkpoint.pth.tar\n",
            "Epoch [47/100] completed in 9.97 seconds\n"
          ]
        },
        {
          "output_type": "stream",
          "name": "stderr",
          "text": [
            "Epoch 48/100 - Training: 100%|██████████| 38/38 [00:08<00:00,  4.23it/s, Loss=2.18e-5]\n"
          ]
        },
        {
          "output_type": "stream",
          "name": "stdout",
          "text": [
            "Epoch [48/100], Train Loss: 0.0021, Accuracy: 1.0000, Precision: 1.0000, Recall: 1.0000, F1-Score: 1.0000\n"
          ]
        },
        {
          "output_type": "stream",
          "name": "stderr",
          "text": [
            "Epoch 48/100 - Validation: 100%|██████████| 6/6 [00:00<00:00, 13.05it/s, Loss=0.0138]\n"
          ]
        },
        {
          "output_type": "stream",
          "name": "stdout",
          "text": [
            "Validation Loss: 0.5285, Accuracy: 0.9136, Precision: 0.9411, Recall: 0.9136, F1-Score: 0.9191\n",
            "Checkpoint saved at checkpoint.pth.tar\n",
            "Epoch [48/100] completed in 10.04 seconds\n"
          ]
        },
        {
          "output_type": "stream",
          "name": "stderr",
          "text": [
            "Epoch 49/100 - Training: 100%|██████████| 38/38 [00:08<00:00,  4.26it/s, Loss=3.77e-5]\n"
          ]
        },
        {
          "output_type": "stream",
          "name": "stdout",
          "text": [
            "Epoch [49/100], Train Loss: 0.0032, Accuracy: 0.9967, Precision: 0.9967, Recall: 0.9967, F1-Score: 0.9967\n"
          ]
        },
        {
          "output_type": "stream",
          "name": "stderr",
          "text": [
            "Epoch 49/100 - Validation: 100%|██████████| 6/6 [00:00<00:00, 11.83it/s, Loss=0.0142]\n"
          ]
        },
        {
          "output_type": "stream",
          "name": "stdout",
          "text": [
            "Validation Loss: 0.5094, Accuracy: 0.9136, Precision: 0.9411, Recall: 0.9136, F1-Score: 0.9191\n",
            "Checkpoint saved at checkpoint.pth.tar\n",
            "Epoch [49/100] completed in 10.27 seconds\n"
          ]
        },
        {
          "output_type": "stream",
          "name": "stderr",
          "text": [
            "Epoch 50/100 - Training: 100%|██████████| 38/38 [00:08<00:00,  4.30it/s, Loss=2.23e-5]\n"
          ]
        },
        {
          "output_type": "stream",
          "name": "stdout",
          "text": [
            "Epoch [50/100], Train Loss: 0.0022, Accuracy: 0.9983, Precision: 0.9983, Recall: 0.9983, F1-Score: 0.9983\n"
          ]
        },
        {
          "output_type": "stream",
          "name": "stderr",
          "text": [
            "Epoch 50/100 - Validation: 100%|██████████| 6/6 [00:00<00:00, 12.75it/s, Loss=0.0173]\n"
          ]
        },
        {
          "output_type": "stream",
          "name": "stdout",
          "text": [
            "Validation Loss: 0.5104, Accuracy: 0.9136, Precision: 0.9411, Recall: 0.9136, F1-Score: 0.9191\n",
            "Checkpoint saved at checkpoint.pth.tar\n",
            "Epoch [50/100] completed in 9.87 seconds\n"
          ]
        },
        {
          "output_type": "stream",
          "name": "stderr",
          "text": [
            "Epoch 51/100 - Training: 100%|██████████| 38/38 [00:08<00:00,  4.23it/s, Loss=7.13e-6]\n"
          ]
        },
        {
          "output_type": "stream",
          "name": "stdout",
          "text": [
            "Epoch [51/100], Train Loss: 0.0017, Accuracy: 1.0000, Precision: 1.0000, Recall: 1.0000, F1-Score: 1.0000\n"
          ]
        },
        {
          "output_type": "stream",
          "name": "stderr",
          "text": [
            "Epoch 51/100 - Validation: 100%|██████████| 6/6 [00:00<00:00, 12.84it/s, Loss=0.0131]\n"
          ]
        },
        {
          "output_type": "stream",
          "name": "stdout",
          "text": [
            "Validation Loss: 0.5253, Accuracy: 0.9136, Precision: 0.9411, Recall: 0.9136, F1-Score: 0.9191\n",
            "Checkpoint saved at checkpoint.pth.tar\n",
            "Epoch [51/100] completed in 10.01 seconds\n"
          ]
        },
        {
          "output_type": "stream",
          "name": "stderr",
          "text": [
            "Epoch 52/100 - Training: 100%|██████████| 38/38 [00:08<00:00,  4.24it/s, Loss=1.42e-5]\n"
          ]
        },
        {
          "output_type": "stream",
          "name": "stdout",
          "text": [
            "Epoch [52/100], Train Loss: 0.0027, Accuracy: 0.9983, Precision: 0.9984, Recall: 0.9983, F1-Score: 0.9983\n"
          ]
        },
        {
          "output_type": "stream",
          "name": "stderr",
          "text": [
            "Epoch 52/100 - Validation: 100%|██████████| 6/6 [00:00<00:00, 13.10it/s, Loss=0.0189]\n"
          ]
        },
        {
          "output_type": "stream",
          "name": "stdout",
          "text": [
            "Validation Loss: 0.5278, Accuracy: 0.9136, Precision: 0.9411, Recall: 0.9136, F1-Score: 0.9191\n",
            "Checkpoint saved at checkpoint.pth.tar\n",
            "Epoch [52/100] completed in 9.98 seconds\n"
          ]
        },
        {
          "output_type": "stream",
          "name": "stderr",
          "text": [
            "Epoch 53/100 - Training: 100%|██████████| 38/38 [00:08<00:00,  4.31it/s, Loss=7.74e-6]\n"
          ]
        },
        {
          "output_type": "stream",
          "name": "stdout",
          "text": [
            "Epoch [53/100], Train Loss: 0.0046, Accuracy: 0.9967, Precision: 0.9967, Recall: 0.9967, F1-Score: 0.9967\n"
          ]
        },
        {
          "output_type": "stream",
          "name": "stderr",
          "text": [
            "Epoch 53/100 - Validation: 100%|██████████| 6/6 [00:00<00:00, 11.58it/s, Loss=0.0214]\n"
          ]
        },
        {
          "output_type": "stream",
          "name": "stdout",
          "text": [
            "Validation Loss: 0.5007, Accuracy: 0.9259, Precision: 0.9471, Recall: 0.9259, F1-Score: 0.9302\n",
            "Checkpoint saved at checkpoint.pth.tar\n",
            "Epoch [53/100] completed in 10.13 seconds\n"
          ]
        },
        {
          "output_type": "stream",
          "name": "stderr",
          "text": [
            "Epoch 54/100 - Training: 100%|██████████| 38/38 [00:08<00:00,  4.23it/s, Loss=4.82e-5]\n"
          ]
        },
        {
          "output_type": "stream",
          "name": "stdout",
          "text": [
            "Epoch [54/100], Train Loss: 0.0031, Accuracy: 0.9983, Precision: 0.9983, Recall: 0.9983, F1-Score: 0.9983\n"
          ]
        },
        {
          "output_type": "stream",
          "name": "stderr",
          "text": [
            "Epoch 54/100 - Validation: 100%|██████████| 6/6 [00:00<00:00, 12.57it/s, Loss=0.0264]\n"
          ]
        },
        {
          "output_type": "stream",
          "name": "stdout",
          "text": [
            "Validation Loss: 0.4804, Accuracy: 0.9383, Precision: 0.9537, Recall: 0.9383, F1-Score: 0.9412\n",
            "Checkpoint saved at checkpoint.pth.tar\n",
            "Epoch [54/100] completed in 10.03 seconds\n"
          ]
        },
        {
          "output_type": "stream",
          "name": "stderr",
          "text": [
            "Epoch 55/100 - Training: 100%|██████████| 38/38 [00:09<00:00,  4.20it/s, Loss=2.03e-5]\n"
          ]
        },
        {
          "output_type": "stream",
          "name": "stdout",
          "text": [
            "Epoch [55/100], Train Loss: 0.0022, Accuracy: 0.9983, Precision: 0.9983, Recall: 0.9983, F1-Score: 0.9983\n"
          ]
        },
        {
          "output_type": "stream",
          "name": "stderr",
          "text": [
            "Epoch 55/100 - Validation: 100%|██████████| 6/6 [00:00<00:00, 12.47it/s, Loss=0.0255]\n"
          ]
        },
        {
          "output_type": "stream",
          "name": "stdout",
          "text": [
            "Validation Loss: 0.4846, Accuracy: 0.9259, Precision: 0.9471, Recall: 0.9259, F1-Score: 0.9302\n",
            "Checkpoint saved at checkpoint.pth.tar\n",
            "Epoch [55/100] completed in 10.12 seconds\n"
          ]
        },
        {
          "output_type": "stream",
          "name": "stderr",
          "text": [
            "Epoch 56/100 - Training: 100%|██████████| 38/38 [00:08<00:00,  4.24it/s, Loss=0.000364]\n"
          ]
        },
        {
          "output_type": "stream",
          "name": "stdout",
          "text": [
            "Epoch [56/100], Train Loss: 0.0022, Accuracy: 0.9983, Precision: 0.9984, Recall: 0.9983, F1-Score: 0.9983\n"
          ]
        },
        {
          "output_type": "stream",
          "name": "stderr",
          "text": [
            "Epoch 56/100 - Validation: 100%|██████████| 6/6 [00:00<00:00, 11.52it/s, Loss=0.018]\n"
          ]
        },
        {
          "output_type": "stream",
          "name": "stdout",
          "text": [
            "Validation Loss: 0.5061, Accuracy: 0.9136, Precision: 0.9411, Recall: 0.9136, F1-Score: 0.9191\n",
            "Checkpoint saved at checkpoint.pth.tar\n",
            "Epoch [56/100] completed in 10.30 seconds\n"
          ]
        },
        {
          "output_type": "stream",
          "name": "stderr",
          "text": [
            "Epoch 57/100 - Training: 100%|██████████| 38/38 [00:08<00:00,  4.28it/s, Loss=5.04e-5]\n"
          ]
        },
        {
          "output_type": "stream",
          "name": "stdout",
          "text": [
            "Epoch [57/100], Train Loss: 0.0032, Accuracy: 0.9983, Precision: 0.9983, Recall: 0.9983, F1-Score: 0.9983\n"
          ]
        },
        {
          "output_type": "stream",
          "name": "stderr",
          "text": [
            "Epoch 57/100 - Validation: 100%|██████████| 6/6 [00:00<00:00, 12.96it/s, Loss=0.0253]\n"
          ]
        },
        {
          "output_type": "stream",
          "name": "stdout",
          "text": [
            "Validation Loss: 0.4873, Accuracy: 0.9259, Precision: 0.9471, Recall: 0.9259, F1-Score: 0.9302\n",
            "Checkpoint saved at checkpoint.pth.tar\n",
            "Epoch [57/100] completed in 9.90 seconds\n"
          ]
        },
        {
          "output_type": "stream",
          "name": "stderr",
          "text": [
            "Epoch 58/100 - Training: 100%|██████████| 38/38 [00:08<00:00,  4.25it/s, Loss=8.58e-6]\n"
          ]
        },
        {
          "output_type": "stream",
          "name": "stdout",
          "text": [
            "Epoch [58/100], Train Loss: 0.0019, Accuracy: 1.0000, Precision: 1.0000, Recall: 1.0000, F1-Score: 1.0000\n"
          ]
        },
        {
          "output_type": "stream",
          "name": "stderr",
          "text": [
            "Epoch 58/100 - Validation: 100%|██████████| 6/6 [00:00<00:00, 12.82it/s, Loss=0.0231]\n"
          ]
        },
        {
          "output_type": "stream",
          "name": "stdout",
          "text": [
            "Validation Loss: 0.4860, Accuracy: 0.9259, Precision: 0.9471, Recall: 0.9259, F1-Score: 0.9302\n",
            "Checkpoint saved at checkpoint.pth.tar\n",
            "Epoch [58/100] completed in 9.96 seconds\n"
          ]
        },
        {
          "output_type": "stream",
          "name": "stderr",
          "text": [
            "Epoch 59/100 - Training: 100%|██████████| 38/38 [00:08<00:00,  4.22it/s, Loss=1.75e-5]\n"
          ]
        },
        {
          "output_type": "stream",
          "name": "stdout",
          "text": [
            "Epoch [59/100], Train Loss: 0.0034, Accuracy: 0.9967, Precision: 0.9967, Recall: 0.9967, F1-Score: 0.9967\n"
          ]
        },
        {
          "output_type": "stream",
          "name": "stderr",
          "text": [
            "Epoch 59/100 - Validation: 100%|██████████| 6/6 [00:00<00:00, 13.10it/s, Loss=0.0243]\n"
          ]
        },
        {
          "output_type": "stream",
          "name": "stdout",
          "text": [
            "Validation Loss: 0.4947, Accuracy: 0.9259, Precision: 0.9471, Recall: 0.9259, F1-Score: 0.9302\n",
            "Checkpoint saved at checkpoint.pth.tar\n",
            "Epoch [59/100] completed in 9.98 seconds\n"
          ]
        },
        {
          "output_type": "stream",
          "name": "stderr",
          "text": [
            "Epoch 60/100 - Training: 100%|██████████| 38/38 [00:08<00:00,  4.32it/s, Loss=8.68e-5]\n"
          ]
        },
        {
          "output_type": "stream",
          "name": "stdout",
          "text": [
            "Epoch [60/100], Train Loss: 0.0020, Accuracy: 1.0000, Precision: 1.0000, Recall: 1.0000, F1-Score: 1.0000\n"
          ]
        },
        {
          "output_type": "stream",
          "name": "stderr",
          "text": [
            "Epoch 60/100 - Validation: 100%|██████████| 6/6 [00:00<00:00, 11.70it/s, Loss=0.0171]\n"
          ]
        },
        {
          "output_type": "stream",
          "name": "stdout",
          "text": [
            "Validation Loss: 0.5024, Accuracy: 0.9136, Precision: 0.9411, Recall: 0.9136, F1-Score: 0.9191\n",
            "Checkpoint saved at checkpoint.pth.tar\n",
            "Epoch [60/100] completed in 10.09 seconds\n"
          ]
        },
        {
          "output_type": "stream",
          "name": "stderr",
          "text": [
            "Epoch 61/100 - Training: 100%|██████████| 38/38 [00:08<00:00,  4.26it/s, Loss=1.03e-5]\n"
          ]
        },
        {
          "output_type": "stream",
          "name": "stdout",
          "text": [
            "Epoch [61/100], Train Loss: 0.0016, Accuracy: 1.0000, Precision: 1.0000, Recall: 1.0000, F1-Score: 1.0000\n"
          ]
        },
        {
          "output_type": "stream",
          "name": "stderr",
          "text": [
            "Epoch 61/100 - Validation: 100%|██████████| 6/6 [00:00<00:00, 13.04it/s, Loss=0.0148]\n"
          ]
        },
        {
          "output_type": "stream",
          "name": "stdout",
          "text": [
            "Validation Loss: 0.5190, Accuracy: 0.9136, Precision: 0.9411, Recall: 0.9136, F1-Score: 0.9191\n",
            "Checkpoint saved at checkpoint.pth.tar\n",
            "Epoch [61/100] completed in 9.98 seconds\n"
          ]
        },
        {
          "output_type": "stream",
          "name": "stderr",
          "text": [
            "Epoch 62/100 - Training: 100%|██████████| 38/38 [00:08<00:00,  4.23it/s, Loss=2.2e-5]\n"
          ]
        },
        {
          "output_type": "stream",
          "name": "stdout",
          "text": [
            "Epoch [62/100], Train Loss: 0.0024, Accuracy: 0.9983, Precision: 0.9984, Recall: 0.9983, F1-Score: 0.9983\n"
          ]
        },
        {
          "output_type": "stream",
          "name": "stderr",
          "text": [
            "Epoch 62/100 - Validation: 100%|██████████| 6/6 [00:00<00:00, 13.20it/s, Loss=0.0141]\n"
          ]
        },
        {
          "output_type": "stream",
          "name": "stdout",
          "text": [
            "Validation Loss: 0.5299, Accuracy: 0.9136, Precision: 0.9411, Recall: 0.9136, F1-Score: 0.9191\n",
            "Checkpoint saved at checkpoint.pth.tar\n",
            "Epoch [62/100] completed in 9.99 seconds\n"
          ]
        },
        {
          "output_type": "stream",
          "name": "stderr",
          "text": [
            "Epoch 63/100 - Training: 100%|██████████| 38/38 [00:08<00:00,  4.27it/s, Loss=1.15e-5]\n"
          ]
        },
        {
          "output_type": "stream",
          "name": "stdout",
          "text": [
            "Epoch [63/100], Train Loss: 0.0031, Accuracy: 0.9983, Precision: 0.9983, Recall: 0.9983, F1-Score: 0.9983\n"
          ]
        },
        {
          "output_type": "stream",
          "name": "stderr",
          "text": [
            "Epoch 63/100 - Validation: 100%|██████████| 6/6 [00:00<00:00, 11.53it/s, Loss=0.0239]\n"
          ]
        },
        {
          "output_type": "stream",
          "name": "stdout",
          "text": [
            "Validation Loss: 0.4998, Accuracy: 0.9136, Precision: 0.9411, Recall: 0.9136, F1-Score: 0.9191\n",
            "Checkpoint saved at checkpoint.pth.tar\n",
            "Epoch [63/100] completed in 10.15 seconds\n"
          ]
        },
        {
          "output_type": "stream",
          "name": "stderr",
          "text": [
            "Epoch 64/100 - Training: 100%|██████████| 38/38 [00:08<00:00,  4.29it/s, Loss=5.75e-6]\n"
          ]
        },
        {
          "output_type": "stream",
          "name": "stdout",
          "text": [
            "Epoch [64/100], Train Loss: 0.0032, Accuracy: 0.9967, Precision: 0.9967, Recall: 0.9967, F1-Score: 0.9967\n"
          ]
        },
        {
          "output_type": "stream",
          "name": "stderr",
          "text": [
            "Epoch 64/100 - Validation: 100%|██████████| 6/6 [00:00<00:00, 12.99it/s, Loss=0.0336]\n"
          ]
        },
        {
          "output_type": "stream",
          "name": "stdout",
          "text": [
            "Validation Loss: 0.4842, Accuracy: 0.9259, Precision: 0.9471, Recall: 0.9259, F1-Score: 0.9302\n",
            "Checkpoint saved at checkpoint.pth.tar\n",
            "Epoch [64/100] completed in 9.88 seconds\n"
          ]
        },
        {
          "output_type": "stream",
          "name": "stderr",
          "text": [
            "Epoch 65/100 - Training: 100%|██████████| 38/38 [00:09<00:00,  4.21it/s, Loss=0.000345]\n"
          ]
        },
        {
          "output_type": "stream",
          "name": "stdout",
          "text": [
            "Epoch [65/100], Train Loss: 0.0030, Accuracy: 0.9983, Precision: 0.9984, Recall: 0.9983, F1-Score: 0.9983\n"
          ]
        },
        {
          "output_type": "stream",
          "name": "stderr",
          "text": [
            "Epoch 65/100 - Validation: 100%|██████████| 6/6 [00:00<00:00, 13.00it/s, Loss=0.0334]\n"
          ]
        },
        {
          "output_type": "stream",
          "name": "stdout",
          "text": [
            "Validation Loss: 0.4801, Accuracy: 0.9259, Precision: 0.9408, Recall: 0.9259, F1-Score: 0.9286\n",
            "Checkpoint saved at checkpoint.pth.tar\n",
            "Epoch [65/100] completed in 10.04 seconds\n"
          ]
        },
        {
          "output_type": "stream",
          "name": "stderr",
          "text": [
            "Epoch 66/100 - Training: 100%|██████████| 38/38 [00:08<00:00,  4.25it/s, Loss=3.51e-5]\n"
          ]
        },
        {
          "output_type": "stream",
          "name": "stdout",
          "text": [
            "Epoch [66/100], Train Loss: 0.0028, Accuracy: 0.9983, Precision: 0.9983, Recall: 0.9983, F1-Score: 0.9983\n"
          ]
        },
        {
          "output_type": "stream",
          "name": "stderr",
          "text": [
            "Epoch 66/100 - Validation: 100%|██████████| 6/6 [00:00<00:00, 11.16it/s, Loss=0.0331]\n"
          ]
        },
        {
          "output_type": "stream",
          "name": "stdout",
          "text": [
            "Validation Loss: 0.4880, Accuracy: 0.9259, Precision: 0.9471, Recall: 0.9259, F1-Score: 0.9302\n",
            "Checkpoint saved at checkpoint.pth.tar\n",
            "Epoch [66/100] completed in 10.07 seconds\n"
          ]
        },
        {
          "output_type": "stream",
          "name": "stderr",
          "text": [
            "Epoch 67/100 - Training: 100%|██████████| 38/38 [00:08<00:00,  4.31it/s, Loss=1.29e-5]\n"
          ]
        },
        {
          "output_type": "stream",
          "name": "stdout",
          "text": [
            "Epoch [67/100], Train Loss: 0.0036, Accuracy: 0.9967, Precision: 0.9967, Recall: 0.9967, F1-Score: 0.9967\n"
          ]
        },
        {
          "output_type": "stream",
          "name": "stderr",
          "text": [
            "Epoch 67/100 - Validation: 100%|██████████| 6/6 [00:00<00:00, 13.05it/s, Loss=0.0307]\n"
          ]
        },
        {
          "output_type": "stream",
          "name": "stdout",
          "text": [
            "Validation Loss: 0.4651, Accuracy: 0.9383, Precision: 0.9487, Recall: 0.9383, F1-Score: 0.9398\n",
            "Checkpoint saved at checkpoint.pth.tar\n",
            "Epoch [67/100] completed in 10.06 seconds\n"
          ]
        },
        {
          "output_type": "stream",
          "name": "stderr",
          "text": [
            "Epoch 68/100 - Training: 100%|██████████| 38/38 [00:08<00:00,  4.24it/s, Loss=0.000139]\n"
          ]
        },
        {
          "output_type": "stream",
          "name": "stdout",
          "text": [
            "Epoch [68/100], Train Loss: 0.0039, Accuracy: 0.9967, Precision: 0.9967, Recall: 0.9967, F1-Score: 0.9967\n"
          ]
        },
        {
          "output_type": "stream",
          "name": "stderr",
          "text": [
            "Epoch 68/100 - Validation: 100%|██████████| 6/6 [00:00<00:00, 13.05it/s, Loss=0.0222]\n"
          ]
        },
        {
          "output_type": "stream",
          "name": "stdout",
          "text": [
            "Validation Loss: 0.4671, Accuracy: 0.9259, Precision: 0.9408, Recall: 0.9259, F1-Score: 0.9286\n",
            "Checkpoint saved at checkpoint.pth.tar\n",
            "Epoch [68/100] completed in 9.97 seconds\n"
          ]
        },
        {
          "output_type": "stream",
          "name": "stderr",
          "text": [
            "Epoch 69/100 - Training: 100%|██████████| 38/38 [00:09<00:00,  4.22it/s, Loss=4.78e-5]\n"
          ]
        },
        {
          "output_type": "stream",
          "name": "stdout",
          "text": [
            "Epoch [69/100], Train Loss: 0.0029, Accuracy: 0.9983, Precision: 0.9984, Recall: 0.9983, F1-Score: 0.9983\n"
          ]
        },
        {
          "output_type": "stream",
          "name": "stderr",
          "text": [
            "Epoch 69/100 - Validation: 100%|██████████| 6/6 [00:00<00:00, 13.02it/s, Loss=0.0187]\n"
          ]
        },
        {
          "output_type": "stream",
          "name": "stdout",
          "text": [
            "Validation Loss: 0.4740, Accuracy: 0.9136, Precision: 0.9336, Recall: 0.9136, F1-Score: 0.9173\n",
            "Checkpoint saved at checkpoint.pth.tar\n",
            "Epoch [69/100] completed in 10.02 seconds\n"
          ]
        },
        {
          "output_type": "stream",
          "name": "stderr",
          "text": [
            "Epoch 70/100 - Training: 100%|██████████| 38/38 [00:08<00:00,  4.29it/s, Loss=4.21e-6]\n"
          ]
        },
        {
          "output_type": "stream",
          "name": "stdout",
          "text": [
            "Epoch [70/100], Train Loss: 0.0018, Accuracy: 0.9983, Precision: 0.9984, Recall: 0.9983, F1-Score: 0.9983\n"
          ]
        },
        {
          "output_type": "stream",
          "name": "stderr",
          "text": [
            "Epoch 70/100 - Validation: 100%|██████████| 6/6 [00:00<00:00, 11.52it/s, Loss=0.0175]\n"
          ]
        },
        {
          "output_type": "stream",
          "name": "stdout",
          "text": [
            "Validation Loss: 0.4875, Accuracy: 0.9136, Precision: 0.9411, Recall: 0.9136, F1-Score: 0.9191\n",
            "Checkpoint saved at checkpoint.pth.tar\n",
            "Epoch [70/100] completed in 10.15 seconds\n"
          ]
        },
        {
          "output_type": "stream",
          "name": "stderr",
          "text": [
            "Epoch 71/100 - Training: 100%|██████████| 38/38 [00:08<00:00,  4.28it/s, Loss=4.32e-6]\n"
          ]
        },
        {
          "output_type": "stream",
          "name": "stdout",
          "text": [
            "Epoch [71/100], Train Loss: 0.0019, Accuracy: 1.0000, Precision: 1.0000, Recall: 1.0000, F1-Score: 1.0000\n"
          ]
        },
        {
          "output_type": "stream",
          "name": "stderr",
          "text": [
            "Epoch 71/100 - Validation: 100%|██████████| 6/6 [00:00<00:00, 12.97it/s, Loss=0.0153]\n"
          ]
        },
        {
          "output_type": "stream",
          "name": "stdout",
          "text": [
            "Validation Loss: 0.5027, Accuracy: 0.9136, Precision: 0.9411, Recall: 0.9136, F1-Score: 0.9191\n",
            "Checkpoint saved at checkpoint.pth.tar\n",
            "Epoch [71/100] completed in 9.90 seconds\n"
          ]
        },
        {
          "output_type": "stream",
          "name": "stderr",
          "text": [
            "Epoch 72/100 - Training: 100%|██████████| 38/38 [00:08<00:00,  4.23it/s, Loss=4.69e-5]\n"
          ]
        },
        {
          "output_type": "stream",
          "name": "stdout",
          "text": [
            "Epoch [72/100], Train Loss: 0.0018, Accuracy: 0.9983, Precision: 0.9984, Recall: 0.9983, F1-Score: 0.9983\n"
          ]
        },
        {
          "output_type": "stream",
          "name": "stderr",
          "text": [
            "Epoch 72/100 - Validation: 100%|██████████| 6/6 [00:00<00:00, 12.85it/s, Loss=0.0157]\n"
          ]
        },
        {
          "output_type": "stream",
          "name": "stdout",
          "text": [
            "Validation Loss: 0.5220, Accuracy: 0.9136, Precision: 0.9411, Recall: 0.9136, F1-Score: 0.9191\n",
            "Checkpoint saved at checkpoint.pth.tar\n",
            "Epoch [72/100] completed in 10.02 seconds\n"
          ]
        },
        {
          "output_type": "stream",
          "name": "stderr",
          "text": [
            "Epoch 73/100 - Training: 100%|██████████| 38/38 [00:08<00:00,  4.25it/s, Loss=1.7e-5]\n"
          ]
        },
        {
          "output_type": "stream",
          "name": "stdout",
          "text": [
            "Epoch [73/100], Train Loss: 0.0017, Accuracy: 0.9983, Precision: 0.9983, Recall: 0.9983, F1-Score: 0.9983\n"
          ]
        },
        {
          "output_type": "stream",
          "name": "stderr",
          "text": [
            "Epoch 73/100 - Validation: 100%|██████████| 6/6 [00:00<00:00, 11.58it/s, Loss=0.0193]\n"
          ]
        },
        {
          "output_type": "stream",
          "name": "stdout",
          "text": [
            "Validation Loss: 0.5205, Accuracy: 0.9136, Precision: 0.9411, Recall: 0.9136, F1-Score: 0.9191\n",
            "Checkpoint saved at checkpoint.pth.tar\n",
            "Epoch [73/100] completed in 10.18 seconds\n"
          ]
        },
        {
          "output_type": "stream",
          "name": "stderr",
          "text": [
            "Epoch 74/100 - Training: 100%|██████████| 38/38 [00:08<00:00,  4.30it/s, Loss=1.86e-5]\n"
          ]
        },
        {
          "output_type": "stream",
          "name": "stdout",
          "text": [
            "Epoch [74/100], Train Loss: 0.0037, Accuracy: 0.9967, Precision: 0.9967, Recall: 0.9967, F1-Score: 0.9967\n"
          ]
        },
        {
          "output_type": "stream",
          "name": "stderr",
          "text": [
            "Epoch 74/100 - Validation: 100%|██████████| 6/6 [00:00<00:00, 13.06it/s, Loss=0.0231]\n"
          ]
        },
        {
          "output_type": "stream",
          "name": "stdout",
          "text": [
            "Validation Loss: 0.5078, Accuracy: 0.9136, Precision: 0.9411, Recall: 0.9136, F1-Score: 0.9191\n",
            "Checkpoint saved at checkpoint.pth.tar\n",
            "Epoch [74/100] completed in 9.97 seconds\n"
          ]
        },
        {
          "output_type": "stream",
          "name": "stderr",
          "text": [
            "Epoch 75/100 - Training: 100%|██████████| 38/38 [00:09<00:00,  4.22it/s, Loss=3.33e-5]\n"
          ]
        },
        {
          "output_type": "stream",
          "name": "stdout",
          "text": [
            "Epoch [75/100], Train Loss: 0.0041, Accuracy: 0.9967, Precision: 0.9967, Recall: 0.9967, F1-Score: 0.9967\n"
          ]
        },
        {
          "output_type": "stream",
          "name": "stderr",
          "text": [
            "Epoch 75/100 - Validation: 100%|██████████| 6/6 [00:00<00:00, 12.77it/s, Loss=0.0379]\n"
          ]
        },
        {
          "output_type": "stream",
          "name": "stdout",
          "text": [
            "Validation Loss: 0.4780, Accuracy: 0.9259, Precision: 0.9408, Recall: 0.9259, F1-Score: 0.9286\n",
            "Checkpoint saved at checkpoint.pth.tar\n",
            "Epoch [75/100] completed in 10.06 seconds\n"
          ]
        },
        {
          "output_type": "stream",
          "name": "stderr",
          "text": [
            "Epoch 76/100 - Training: 100%|██████████| 38/38 [00:09<00:00,  4.20it/s, Loss=5.52e-5]\n"
          ]
        },
        {
          "output_type": "stream",
          "name": "stdout",
          "text": [
            "Epoch [76/100], Train Loss: 0.0019, Accuracy: 1.0000, Precision: 1.0000, Recall: 1.0000, F1-Score: 1.0000\n"
          ]
        },
        {
          "output_type": "stream",
          "name": "stderr",
          "text": [
            "Epoch 76/100 - Validation: 100%|██████████| 6/6 [00:00<00:00, 12.63it/s, Loss=0.162]\n"
          ]
        },
        {
          "output_type": "stream",
          "name": "stdout",
          "text": [
            "Validation Loss: 0.5240, Accuracy: 0.9259, Precision: 0.9374, Recall: 0.9259, F1-Score: 0.9273\n",
            "Checkpoint saved at checkpoint.pth.tar\n",
            "Epoch [76/100] completed in 10.07 seconds\n"
          ]
        },
        {
          "output_type": "stream",
          "name": "stderr",
          "text": [
            "Epoch 77/100 - Training: 100%|██████████| 38/38 [00:08<00:00,  4.24it/s, Loss=4.33e-6]\n"
          ]
        },
        {
          "output_type": "stream",
          "name": "stdout",
          "text": [
            "Epoch [77/100], Train Loss: 0.0033, Accuracy: 0.9967, Precision: 0.9967, Recall: 0.9967, F1-Score: 0.9967\n"
          ]
        },
        {
          "output_type": "stream",
          "name": "stderr",
          "text": [
            "Epoch 77/100 - Validation: 100%|██████████| 6/6 [00:00<00:00, 11.25it/s, Loss=0.0677]\n"
          ]
        },
        {
          "output_type": "stream",
          "name": "stdout",
          "text": [
            "Validation Loss: 0.5255, Accuracy: 0.9136, Precision: 0.9342, Recall: 0.9136, F1-Score: 0.9174\n",
            "Checkpoint saved at checkpoint.pth.tar\n",
            "Epoch [77/100] completed in 10.35 seconds\n"
          ]
        },
        {
          "output_type": "stream",
          "name": "stderr",
          "text": [
            "Epoch 78/100 - Training: 100%|██████████| 38/38 [00:09<00:00,  4.21it/s, Loss=9.18e-5]\n"
          ]
        },
        {
          "output_type": "stream",
          "name": "stdout",
          "text": [
            "Epoch [78/100], Train Loss: 0.0025, Accuracy: 0.9983, Precision: 0.9984, Recall: 0.9983, F1-Score: 0.9983\n"
          ]
        },
        {
          "output_type": "stream",
          "name": "stderr",
          "text": [
            "Epoch 78/100 - Validation: 100%|██████████| 6/6 [00:00<00:00, 12.93it/s, Loss=0.0421]\n"
          ]
        },
        {
          "output_type": "stream",
          "name": "stdout",
          "text": [
            "Validation Loss: 0.5137, Accuracy: 0.9136, Precision: 0.9342, Recall: 0.9136, F1-Score: 0.9174\n",
            "Checkpoint saved at checkpoint.pth.tar\n",
            "Epoch [78/100] completed in 10.05 seconds\n"
          ]
        },
        {
          "output_type": "stream",
          "name": "stderr",
          "text": [
            "Epoch 79/100 - Training: 100%|██████████| 38/38 [00:08<00:00,  4.22it/s, Loss=6.49e-6]\n"
          ]
        },
        {
          "output_type": "stream",
          "name": "stdout",
          "text": [
            "Epoch [79/100], Train Loss: 0.0020, Accuracy: 1.0000, Precision: 1.0000, Recall: 1.0000, F1-Score: 1.0000\n"
          ]
        },
        {
          "output_type": "stream",
          "name": "stderr",
          "text": [
            "Epoch 79/100 - Validation: 100%|██████████| 6/6 [00:00<00:00, 13.04it/s, Loss=0.0352]\n"
          ]
        },
        {
          "output_type": "stream",
          "name": "stdout",
          "text": [
            "Validation Loss: 0.5204, Accuracy: 0.9012, Precision: 0.9276, Recall: 0.9012, F1-Score: 0.9064\n",
            "Checkpoint saved at checkpoint.pth.tar\n",
            "Epoch [79/100] completed in 10.02 seconds\n"
          ]
        },
        {
          "output_type": "stream",
          "name": "stderr",
          "text": [
            "Epoch 80/100 - Training: 100%|██████████| 38/38 [00:08<00:00,  4.25it/s, Loss=3.74e-5]\n"
          ]
        },
        {
          "output_type": "stream",
          "name": "stdout",
          "text": [
            "Epoch [80/100], Train Loss: 0.0015, Accuracy: 1.0000, Precision: 1.0000, Recall: 1.0000, F1-Score: 1.0000\n"
          ]
        },
        {
          "output_type": "stream",
          "name": "stderr",
          "text": [
            "Epoch 80/100 - Validation: 100%|██████████| 6/6 [00:00<00:00, 11.33it/s, Loss=0.0241]\n"
          ]
        },
        {
          "output_type": "stream",
          "name": "stdout",
          "text": [
            "Validation Loss: 0.5454, Accuracy: 0.9012, Precision: 0.9356, Recall: 0.9012, F1-Score: 0.9084\n",
            "Checkpoint saved at checkpoint.pth.tar\n",
            "Epoch [80/100] completed in 10.28 seconds\n"
          ]
        },
        {
          "output_type": "stream",
          "name": "stderr",
          "text": [
            "Epoch 81/100 - Training: 100%|██████████| 38/38 [00:08<00:00,  4.27it/s, Loss=0.119]\n"
          ]
        },
        {
          "output_type": "stream",
          "name": "stdout",
          "text": [
            "Epoch [81/100], Train Loss: 0.0045, Accuracy: 0.9967, Precision: 0.9967, Recall: 0.9967, F1-Score: 0.9967\n"
          ]
        },
        {
          "output_type": "stream",
          "name": "stderr",
          "text": [
            "Epoch 81/100 - Validation: 100%|██████████| 6/6 [00:00<00:00, 12.98it/s, Loss=0.0277]\n"
          ]
        },
        {
          "output_type": "stream",
          "name": "stdout",
          "text": [
            "Validation Loss: 0.5194, Accuracy: 0.9136, Precision: 0.9336, Recall: 0.9136, F1-Score: 0.9173\n",
            "Checkpoint saved at checkpoint.pth.tar\n",
            "Epoch [81/100] completed in 9.89 seconds\n"
          ]
        },
        {
          "output_type": "stream",
          "name": "stderr",
          "text": [
            "Epoch 82/100 - Training: 100%|██████████| 38/38 [00:09<00:00,  4.22it/s, Loss=1.08e-5]\n"
          ]
        },
        {
          "output_type": "stream",
          "name": "stdout",
          "text": [
            "Epoch [82/100], Train Loss: 0.0032, Accuracy: 0.9983, Precision: 0.9983, Recall: 0.9983, F1-Score: 0.9983\n"
          ]
        },
        {
          "output_type": "stream",
          "name": "stderr",
          "text": [
            "Epoch 82/100 - Validation: 100%|██████████| 6/6 [00:00<00:00, 12.82it/s, Loss=0.0264]\n"
          ]
        },
        {
          "output_type": "stream",
          "name": "stdout",
          "text": [
            "Validation Loss: 0.5224, Accuracy: 0.9012, Precision: 0.9276, Recall: 0.9012, F1-Score: 0.9064\n",
            "Checkpoint saved at checkpoint.pth.tar\n",
            "Epoch [82/100] completed in 10.03 seconds\n"
          ]
        },
        {
          "output_type": "stream",
          "name": "stderr",
          "text": [
            "Epoch 83/100 - Training: 100%|██████████| 38/38 [00:08<00:00,  4.23it/s, Loss=2.78e-6]\n"
          ]
        },
        {
          "output_type": "stream",
          "name": "stdout",
          "text": [
            "Epoch [83/100], Train Loss: 0.0028, Accuracy: 0.9983, Precision: 0.9983, Recall: 0.9983, F1-Score: 0.9983\n"
          ]
        },
        {
          "output_type": "stream",
          "name": "stderr",
          "text": [
            "Epoch 83/100 - Validation: 100%|██████████| 6/6 [00:00<00:00, 13.11it/s, Loss=0.0292]\n"
          ]
        },
        {
          "output_type": "stream",
          "name": "stdout",
          "text": [
            "Validation Loss: 0.5162, Accuracy: 0.9136, Precision: 0.9336, Recall: 0.9136, F1-Score: 0.9173\n",
            "Checkpoint saved at checkpoint.pth.tar\n",
            "Epoch [83/100] completed in 10.00 seconds\n"
          ]
        },
        {
          "output_type": "stream",
          "name": "stderr",
          "text": [
            "Epoch 84/100 - Training: 100%|██████████| 38/38 [00:08<00:00,  4.30it/s, Loss=1.26e-5]\n"
          ]
        },
        {
          "output_type": "stream",
          "name": "stdout",
          "text": [
            "Epoch [84/100], Train Loss: 0.0042, Accuracy: 0.9967, Precision: 0.9967, Recall: 0.9967, F1-Score: 0.9967\n"
          ]
        },
        {
          "output_type": "stream",
          "name": "stderr",
          "text": [
            "Epoch 84/100 - Validation: 100%|██████████| 6/6 [00:00<00:00, 11.72it/s, Loss=0.0315]\n"
          ]
        },
        {
          "output_type": "stream",
          "name": "stdout",
          "text": [
            "Validation Loss: 0.4879, Accuracy: 0.9259, Precision: 0.9408, Recall: 0.9259, F1-Score: 0.9286\n",
            "Checkpoint saved at checkpoint.pth.tar\n",
            "Epoch [84/100] completed in 10.12 seconds\n"
          ]
        },
        {
          "output_type": "stream",
          "name": "stderr",
          "text": [
            "Epoch 85/100 - Training: 100%|██████████| 38/38 [00:08<00:00,  4.26it/s, Loss=0.000131]\n"
          ]
        },
        {
          "output_type": "stream",
          "name": "stdout",
          "text": [
            "Epoch [85/100], Train Loss: 0.0031, Accuracy: 0.9983, Precision: 0.9984, Recall: 0.9983, F1-Score: 0.9983\n"
          ]
        },
        {
          "output_type": "stream",
          "name": "stderr",
          "text": [
            "Epoch 85/100 - Validation: 100%|██████████| 6/6 [00:00<00:00, 12.75it/s, Loss=0.0218]\n"
          ]
        },
        {
          "output_type": "stream",
          "name": "stdout",
          "text": [
            "Validation Loss: 0.4974, Accuracy: 0.9136, Precision: 0.9336, Recall: 0.9136, F1-Score: 0.9173\n",
            "Checkpoint saved at checkpoint.pth.tar\n",
            "Epoch [85/100] completed in 9.97 seconds\n"
          ]
        },
        {
          "output_type": "stream",
          "name": "stderr",
          "text": [
            "Epoch 86/100 - Training: 100%|██████████| 38/38 [00:08<00:00,  4.22it/s, Loss=2.62e-5]\n"
          ]
        },
        {
          "output_type": "stream",
          "name": "stdout",
          "text": [
            "Epoch [86/100], Train Loss: 0.0028, Accuracy: 0.9967, Precision: 0.9967, Recall: 0.9967, F1-Score: 0.9967\n"
          ]
        },
        {
          "output_type": "stream",
          "name": "stderr",
          "text": [
            "Epoch 86/100 - Validation: 100%|██████████| 6/6 [00:00<00:00, 12.97it/s, Loss=0.0209]\n"
          ]
        },
        {
          "output_type": "stream",
          "name": "stdout",
          "text": [
            "Validation Loss: 0.5028, Accuracy: 0.9136, Precision: 0.9336, Recall: 0.9136, F1-Score: 0.9173\n",
            "Checkpoint saved at checkpoint.pth.tar\n",
            "Epoch [86/100] completed in 10.00 seconds\n"
          ]
        },
        {
          "output_type": "stream",
          "name": "stderr",
          "text": [
            "Epoch 87/100 - Training: 100%|██████████| 38/38 [00:08<00:00,  4.27it/s, Loss=7.31e-5]\n"
          ]
        },
        {
          "output_type": "stream",
          "name": "stdout",
          "text": [
            "Epoch [87/100], Train Loss: 0.0023, Accuracy: 0.9983, Precision: 0.9984, Recall: 0.9983, F1-Score: 0.9983\n"
          ]
        },
        {
          "output_type": "stream",
          "name": "stderr",
          "text": [
            "Epoch 87/100 - Validation: 100%|██████████| 6/6 [00:00<00:00, 11.41it/s, Loss=0.0237]\n"
          ]
        },
        {
          "output_type": "stream",
          "name": "stdout",
          "text": [
            "Validation Loss: 0.5091, Accuracy: 0.9136, Precision: 0.9336, Recall: 0.9136, F1-Score: 0.9173\n",
            "Checkpoint saved at checkpoint.pth.tar\n",
            "Epoch [87/100] completed in 10.17 seconds\n"
          ]
        },
        {
          "output_type": "stream",
          "name": "stderr",
          "text": [
            "Epoch 88/100 - Training: 100%|██████████| 38/38 [00:08<00:00,  4.29it/s, Loss=1.21e-5]\n"
          ]
        },
        {
          "output_type": "stream",
          "name": "stdout",
          "text": [
            "Epoch [88/100], Train Loss: 0.0034, Accuracy: 0.9967, Precision: 0.9967, Recall: 0.9967, F1-Score: 0.9967\n"
          ]
        },
        {
          "output_type": "stream",
          "name": "stderr",
          "text": [
            "Epoch 88/100 - Validation: 100%|██████████| 6/6 [00:00<00:00, 12.95it/s, Loss=0.0234]\n"
          ]
        },
        {
          "output_type": "stream",
          "name": "stdout",
          "text": [
            "Validation Loss: 0.5067, Accuracy: 0.9136, Precision: 0.9336, Recall: 0.9136, F1-Score: 0.9173\n",
            "Checkpoint saved at checkpoint.pth.tar\n",
            "Epoch [88/100] completed in 9.90 seconds\n"
          ]
        },
        {
          "output_type": "stream",
          "name": "stderr",
          "text": [
            "Epoch 89/100 - Training: 100%|██████████| 38/38 [00:09<00:00,  4.22it/s, Loss=1.75e-5]\n"
          ]
        },
        {
          "output_type": "stream",
          "name": "stdout",
          "text": [
            "Epoch [89/100], Train Loss: 0.0032, Accuracy: 0.9983, Precision: 0.9983, Recall: 0.9983, F1-Score: 0.9983\n"
          ]
        },
        {
          "output_type": "stream",
          "name": "stderr",
          "text": [
            "Epoch 89/100 - Validation: 100%|██████████| 6/6 [00:00<00:00, 12.78it/s, Loss=0.0223]\n"
          ]
        },
        {
          "output_type": "stream",
          "name": "stdout",
          "text": [
            "Validation Loss: 0.5173, Accuracy: 0.9012, Precision: 0.9276, Recall: 0.9012, F1-Score: 0.9064\n",
            "Checkpoint saved at checkpoint.pth.tar\n",
            "Epoch [89/100] completed in 10.02 seconds\n"
          ]
        },
        {
          "output_type": "stream",
          "name": "stderr",
          "text": [
            "Epoch 90/100 - Training: 100%|██████████| 38/38 [00:09<00:00,  4.22it/s, Loss=2.33e-5]\n"
          ]
        },
        {
          "output_type": "stream",
          "name": "stdout",
          "text": [
            "Epoch [90/100], Train Loss: 0.0030, Accuracy: 0.9967, Precision: 0.9967, Recall: 0.9967, F1-Score: 0.9967\n"
          ]
        },
        {
          "output_type": "stream",
          "name": "stderr",
          "text": [
            "Epoch 90/100 - Validation: 100%|██████████| 6/6 [00:00<00:00, 12.89it/s, Loss=0.0201]\n"
          ]
        },
        {
          "output_type": "stream",
          "name": "stdout",
          "text": [
            "Validation Loss: 0.5101, Accuracy: 0.9136, Precision: 0.9336, Recall: 0.9136, F1-Score: 0.9173\n",
            "Checkpoint saved at checkpoint.pth.tar\n",
            "Epoch [90/100] completed in 10.04 seconds\n"
          ]
        },
        {
          "output_type": "stream",
          "name": "stderr",
          "text": [
            "Epoch 91/100 - Training: 100%|██████████| 38/38 [00:08<00:00,  4.30it/s, Loss=9.87e-5]\n"
          ]
        },
        {
          "output_type": "stream",
          "name": "stdout",
          "text": [
            "Epoch [91/100], Train Loss: 0.0033, Accuracy: 0.9967, Precision: 0.9967, Recall: 0.9967, F1-Score: 0.9967\n"
          ]
        },
        {
          "output_type": "stream",
          "name": "stderr",
          "text": [
            "Epoch 91/100 - Validation: 100%|██████████| 6/6 [00:00<00:00, 11.83it/s, Loss=0.0553]\n"
          ]
        },
        {
          "output_type": "stream",
          "name": "stdout",
          "text": [
            "Validation Loss: 0.4907, Accuracy: 0.9259, Precision: 0.9408, Recall: 0.9259, F1-Score: 0.9286\n",
            "Checkpoint saved at checkpoint.pth.tar\n",
            "Epoch [91/100] completed in 10.12 seconds\n"
          ]
        },
        {
          "output_type": "stream",
          "name": "stderr",
          "text": [
            "Epoch 92/100 - Training: 100%|██████████| 38/38 [00:08<00:00,  4.23it/s, Loss=4.98e-5]\n"
          ]
        },
        {
          "output_type": "stream",
          "name": "stdout",
          "text": [
            "Epoch [92/100], Train Loss: 0.0030, Accuracy: 0.9967, Precision: 0.9967, Recall: 0.9967, F1-Score: 0.9967\n"
          ]
        },
        {
          "output_type": "stream",
          "name": "stderr",
          "text": [
            "Epoch 92/100 - Validation: 100%|██████████| 6/6 [00:00<00:00, 12.89it/s, Loss=0.0557]\n"
          ]
        },
        {
          "output_type": "stream",
          "name": "stdout",
          "text": [
            "Validation Loss: 0.4864, Accuracy: 0.9259, Precision: 0.9408, Recall: 0.9259, F1-Score: 0.9286\n",
            "Checkpoint saved at checkpoint.pth.tar\n",
            "Epoch [92/100] completed in 9.99 seconds\n"
          ]
        },
        {
          "output_type": "stream",
          "name": "stderr",
          "text": [
            "Epoch 93/100 - Training: 100%|██████████| 38/38 [00:09<00:00,  4.22it/s, Loss=8.35e-5]\n"
          ]
        },
        {
          "output_type": "stream",
          "name": "stdout",
          "text": [
            "Epoch [93/100], Train Loss: 0.0032, Accuracy: 0.9967, Precision: 0.9967, Recall: 0.9967, F1-Score: 0.9967\n"
          ]
        },
        {
          "output_type": "stream",
          "name": "stderr",
          "text": [
            "Epoch 93/100 - Validation: 100%|██████████| 6/6 [00:00<00:00, 12.82it/s, Loss=0.0571]\n"
          ]
        },
        {
          "output_type": "stream",
          "name": "stdout",
          "text": [
            "Validation Loss: 0.4840, Accuracy: 0.9259, Precision: 0.9408, Recall: 0.9259, F1-Score: 0.9286\n",
            "Checkpoint saved at checkpoint.pth.tar\n",
            "Epoch [93/100] completed in 10.02 seconds\n"
          ]
        },
        {
          "output_type": "stream",
          "name": "stderr",
          "text": [
            "Epoch 94/100 - Training: 100%|██████████| 38/38 [00:08<00:00,  4.26it/s, Loss=0.000124]\n"
          ]
        },
        {
          "output_type": "stream",
          "name": "stdout",
          "text": [
            "Epoch [94/100], Train Loss: 0.0028, Accuracy: 0.9967, Precision: 0.9967, Recall: 0.9967, F1-Score: 0.9967\n"
          ]
        },
        {
          "output_type": "stream",
          "name": "stderr",
          "text": [
            "Epoch 94/100 - Validation: 100%|██████████| 6/6 [00:00<00:00, 11.91it/s, Loss=0.0525]\n"
          ]
        },
        {
          "output_type": "stream",
          "name": "stdout",
          "text": [
            "Validation Loss: 0.4853, Accuracy: 0.9259, Precision: 0.9408, Recall: 0.9259, F1-Score: 0.9286\n",
            "Checkpoint saved at checkpoint.pth.tar\n",
            "Epoch [94/100] completed in 10.28 seconds\n"
          ]
        },
        {
          "output_type": "stream",
          "name": "stderr",
          "text": [
            "Epoch 95/100 - Training: 100%|██████████| 38/38 [00:08<00:00,  4.29it/s, Loss=6.2e-5]\n"
          ]
        },
        {
          "output_type": "stream",
          "name": "stdout",
          "text": [
            "Epoch [95/100], Train Loss: 0.0035, Accuracy: 0.9967, Precision: 0.9967, Recall: 0.9967, F1-Score: 0.9967\n"
          ]
        },
        {
          "output_type": "stream",
          "name": "stderr",
          "text": [
            "Epoch 95/100 - Validation: 100%|██████████| 6/6 [00:00<00:00, 12.74it/s, Loss=0.0452]\n"
          ]
        },
        {
          "output_type": "stream",
          "name": "stdout",
          "text": [
            "Validation Loss: 0.4872, Accuracy: 0.9259, Precision: 0.9408, Recall: 0.9259, F1-Score: 0.9286\n",
            "Checkpoint saved at checkpoint.pth.tar\n",
            "Epoch [95/100] completed in 9.89 seconds\n"
          ]
        },
        {
          "output_type": "stream",
          "name": "stderr",
          "text": [
            "Epoch 96/100 - Training: 100%|██████████| 38/38 [00:09<00:00,  4.20it/s, Loss=4.21e-5]\n"
          ]
        },
        {
          "output_type": "stream",
          "name": "stdout",
          "text": [
            "Epoch [96/100], Train Loss: 0.0028, Accuracy: 0.9983, Precision: 0.9984, Recall: 0.9983, F1-Score: 0.9983\n"
          ]
        },
        {
          "output_type": "stream",
          "name": "stderr",
          "text": [
            "Epoch 96/100 - Validation: 100%|██████████| 6/6 [00:00<00:00, 12.59it/s, Loss=0.038]\n"
          ]
        },
        {
          "output_type": "stream",
          "name": "stdout",
          "text": [
            "Validation Loss: 0.4961, Accuracy: 0.9259, Precision: 0.9408, Recall: 0.9259, F1-Score: 0.9286\n",
            "Checkpoint saved at checkpoint.pth.tar\n",
            "Epoch [96/100] completed in 10.08 seconds\n"
          ]
        },
        {
          "output_type": "stream",
          "name": "stderr",
          "text": [
            "Epoch 97/100 - Training: 100%|██████████| 38/38 [00:09<00:00,  4.21it/s, Loss=0.133]\n"
          ]
        },
        {
          "output_type": "stream",
          "name": "stdout",
          "text": [
            "Epoch [97/100], Train Loss: 0.0046, Accuracy: 0.9983, Precision: 0.9984, Recall: 0.9983, F1-Score: 0.9983\n"
          ]
        },
        {
          "output_type": "stream",
          "name": "stderr",
          "text": [
            "Epoch 97/100 - Validation: 100%|██████████| 6/6 [00:00<00:00, 12.71it/s, Loss=0.0369]\n"
          ]
        },
        {
          "output_type": "stream",
          "name": "stdout",
          "text": [
            "Validation Loss: 0.5047, Accuracy: 0.9259, Precision: 0.9408, Recall: 0.9259, F1-Score: 0.9286\n",
            "Checkpoint saved at checkpoint.pth.tar\n",
            "Epoch [97/100] completed in 10.10 seconds\n"
          ]
        },
        {
          "output_type": "stream",
          "name": "stderr",
          "text": [
            "Epoch 98/100 - Training: 100%|██████████| 38/38 [00:08<00:00,  4.28it/s, Loss=3.71e-5]\n"
          ]
        },
        {
          "output_type": "stream",
          "name": "stdout",
          "text": [
            "Epoch [98/100], Train Loss: 0.0028, Accuracy: 0.9983, Precision: 0.9983, Recall: 0.9983, F1-Score: 0.9983\n"
          ]
        },
        {
          "output_type": "stream",
          "name": "stderr",
          "text": [
            "Epoch 98/100 - Validation: 100%|██████████| 6/6 [00:00<00:00, 11.55it/s, Loss=0.028]\n"
          ]
        },
        {
          "output_type": "stream",
          "name": "stdout",
          "text": [
            "Validation Loss: 0.5122, Accuracy: 0.9136, Precision: 0.9342, Recall: 0.9136, F1-Score: 0.9174\n",
            "Checkpoint saved at checkpoint.pth.tar\n",
            "Epoch [98/100] completed in 10.27 seconds\n"
          ]
        },
        {
          "output_type": "stream",
          "name": "stderr",
          "text": [
            "Epoch 99/100 - Training: 100%|██████████| 38/38 [00:09<00:00,  4.20it/s, Loss=1e-5]\n"
          ]
        },
        {
          "output_type": "stream",
          "name": "stdout",
          "text": [
            "Epoch [99/100], Train Loss: 0.0031, Accuracy: 0.9983, Precision: 0.9983, Recall: 0.9983, F1-Score: 0.9983\n"
          ]
        },
        {
          "output_type": "stream",
          "name": "stderr",
          "text": [
            "Epoch 99/100 - Validation: 100%|██████████| 6/6 [00:00<00:00, 12.27it/s, Loss=0.0267]\n"
          ]
        },
        {
          "output_type": "stream",
          "name": "stdout",
          "text": [
            "Validation Loss: 0.5179, Accuracy: 0.9136, Precision: 0.9342, Recall: 0.9136, F1-Score: 0.9174\n",
            "Checkpoint saved at checkpoint.pth.tar\n",
            "Epoch [99/100] completed in 10.13 seconds\n"
          ]
        },
        {
          "output_type": "stream",
          "name": "stderr",
          "text": [
            "Epoch 100/100 - Training: 100%|██████████| 38/38 [00:09<00:00,  4.17it/s, Loss=7.03e-5]\n"
          ]
        },
        {
          "output_type": "stream",
          "name": "stdout",
          "text": [
            "Epoch [100/100], Train Loss: 0.0030, Accuracy: 0.9967, Precision: 0.9967, Recall: 0.9967, F1-Score: 0.9967\n"
          ]
        },
        {
          "output_type": "stream",
          "name": "stderr",
          "text": [
            "Epoch 100/100 - Validation: 100%|██████████| 6/6 [00:00<00:00, 12.61it/s, Loss=0.0353]\n"
          ]
        },
        {
          "output_type": "stream",
          "name": "stdout",
          "text": [
            "Validation Loss: 0.4974, Accuracy: 0.9259, Precision: 0.9408, Recall: 0.9259, F1-Score: 0.9286\n",
            "Checkpoint saved at checkpoint.pth.tar\n",
            "Epoch [100/100] completed in 10.15 seconds\n",
            "Total training time: 1013.44 seconds\n"
          ]
        },
        {
          "output_type": "display_data",
          "data": {
            "text/plain": [
              "<Figure size 1000x500 with 1 Axes>"
            ],
            "image/png": "[encoded data removed]"
          },
          "metadata": {}
        }
      ],
      "source": [
        "# Fungsi untuk menyimpan checkpoint\n",
        "def save_checkpoint(state, filename='checkpoint.pth.tar'):\n",
        "    torch.save(state, filename)\n",
        "    print(f\"Checkpoint saved at {filename}\")\n",
        "\n",
        "# Fungsi untuk memuat checkpoint\n",
        "def load_checkpoint(filename):\n",
        "    checkpoint = torch.load(filename)\n",
        "    model.load_state_dict(checkpoint['state_dict'])\n",
        "    optimizer.load_state_dict(checkpoint['optimizer'])\n",
        "    start_epoch = checkpoint['epoch'] + 1\n",
        "    train_losses = checkpoint['train_losses']\n",
        "    valid_losses = checkpoint['valid_losses']\n",
        "    print(f\"Checkpoint loaded from {filename}, starting at epoch {start_epoch}\")\n",
        "    return start_epoch, train_losses, valid_losses\n",
        "\n",
        "# Optimizer dan fungsi loss\n",
        "# Definisikan optimizer dengan L2 regularization (weight decay)\n",
        "optimizer = optim.SGD(model.parameters(), lr=0.001, momentum = 0.9)\n",
        "criterion = nn.CrossEntropyLoss()\n",
        "\n",
        "# Variables to track time\n",
        "total_training_time = 0\n",
        "total_testing_time = 0\n",
        "\n",
        "# Training loop with checkpoint, metrics, and timing\n",
        "num_epochs = 100\n",
        "best_valid_loss = float('inf')\n",
        "train_losses = []\n",
        "valid_losses = []\n",
        "train_accuracies = []\n",
        "valid_accuracies = []\n",
        "\n",
        "start_epoch = 0\n",
        "checkpoint_file = 'checkpoint.pth.tar'\n",
        "if os.path.exists(checkpoint_file):\n",
        "    start_epoch, train_losses, valid_losses = load_checkpoint(checkpoint_file)\n",
        "\n",
        "# Start total training time\n",
        "training_start_time = time.time()\n",
        "\n",
        "for epoch in range(start_epoch, num_epochs):\n",
        "    epoch_start_time = time.time()  # Start time for each epoch\n",
        "\n",
        "    model.train()\n",
        "    train_loss = 0\n",
        "    true_labels_train = []\n",
        "    predicted_labels_train = []\n",
        "\n",
        "    train_loader_tqdm = tqdm(train_loader, desc=f\"Epoch {epoch+1}/{num_epochs} - Training\")\n",
        "    for images, labels in train_loader_tqdm:\n",
        "        images, labels = images.to(device), labels.to(device)\n",
        "        if images.dim() == 3:\n",
        "            images = images.unsqueeze(1)\n",
        "        images = images.repeat(1, 3, 1, 1)\n",
        "\n",
        "        outputs = model(images)\n",
        "        loss = criterion(outputs, labels)\n",
        "\n",
        "        optimizer.zero_grad()\n",
        "        loss.backward()\n",
        "        optimizer.step()\n",
        "\n",
        "        train_loss += loss.item()\n",
        "\n",
        "        # Collect labels for metrics calculation\n",
        "        predicted_labels_train.append(torch.argmax(outputs, dim=1))\n",
        "        true_labels_train.append(labels)\n",
        "\n",
        "        train_loader_tqdm.set_postfix({\"Loss\": loss.item()})\n",
        "\n",
        "    train_loss /= len(train_loader)\n",
        "    train_losses.append(train_loss)\n",
        "\n",
        "    # Combine all predicted and true labels\n",
        "    predicted_labels_train = torch.cat(predicted_labels_train)\n",
        "    true_labels_train = torch.cat(true_labels_train)\n",
        "\n",
        "    # Calculate metrics for training data\n",
        "    train_accuracy = (predicted_labels_train == true_labels_train).float().mean().item()\n",
        "    train_precision = precision_score(true_labels_train.cpu(), predicted_labels_train.cpu(), average='weighted', zero_division=1)\n",
        "    train_recall = recall_score(true_labels_train.cpu(), predicted_labels_train.cpu(), average='weighted', zero_division=1)\n",
        "    train_f1 = f1_score(true_labels_train.cpu(), predicted_labels_train.cpu(), average='weighted', zero_division=1)\n",
        "\n",
        "    train_accuracies.append(train_accuracy)\n",
        "\n",
        "    print(f'Epoch [{epoch+1}/{num_epochs}], Train Loss: {train_loss:.4f}, Accuracy: {train_accuracy:.4f}, Precision: {train_precision:.4f}, Recall: {train_recall:.4f}, F1-Score: {train_f1:.4f}')\n",
        "\n",
        "    # Validation\n",
        "    valid_loss = 0\n",
        "    model.eval()\n",
        "    true_labels_valid = []\n",
        "    predicted_labels_valid = []\n",
        "\n",
        "    valid_loader_tqdm = tqdm(valid_loader, desc=f\"Epoch {epoch+1}/{num_epochs} - Validation\")\n",
        "    with torch.no_grad():\n",
        "        for images, labels in valid_loader_tqdm:\n",
        "            images, labels = images.to(device), labels.to(device)\n",
        "            if images.dim() == 3:\n",
        "                images = images.unsqueeze(1)\n",
        "            images = images.repeat(1, 3, 1, 1)\n",
        "            outputs = model(images)\n",
        "            loss = criterion(outputs, labels)\n",
        "            valid_loss += loss.item()\n",
        "\n",
        "            # Collect labels for metrics calculation\n",
        "            predicted_labels_valid.append(torch.argmax(outputs, dim=1))\n",
        "            true_labels_valid.append(labels)\n",
        "\n",
        "            valid_loader_tqdm.set_postfix({\"Loss\": loss.item()})\n",
        "\n",
        "    valid_loss /= len(valid_loader)\n",
        "    valid_losses.append(valid_loss)\n",
        "\n",
        "    # Combine all predicted and true labels\n",
        "    predicted_labels_valid = torch.cat(predicted_labels_valid)\n",
        "    true_labels_valid = torch.cat(true_labels_valid)\n",
        "\n",
        "    # Calculate metrics for validation data\n",
        "    valid_accuracy = (predicted_labels_valid == true_labels_valid).float().mean().item()\n",
        "    valid_precision = precision_score(true_labels_valid.cpu(), predicted_labels_valid.cpu(), average='weighted', zero_division=1)\n",
        "    valid_recall = recall_score(true_labels_valid.cpu(), predicted_labels_valid.cpu(), average='weighted', zero_division=1)\n",
        "    valid_f1 = f1_score(true_labels_valid.cpu(), predicted_labels_valid.cpu(), average='weighted', zero_division=1)\n",
        "\n",
        "    valid_accuracies.append(valid_accuracy)\n",
        "\n",
        "    print(f'Validation Loss: {valid_loss:.4f}, Accuracy: {valid_accuracy:.4f}, Precision: {valid_precision:.4f}, Recall: {valid_recall:.4f}, F1-Score: {valid_f1:.4f}')\n",
        "\n",
        "\n",
        "\n",
        "    # Save the best model\n",
        "    if valid_loss < best_valid_loss:\n",
        "        best_valid_loss = valid_loss\n",
        "        torch.save(model.state_dict(), 'best-model-vgg-clahe-0,001.pth')\n",
        "\n",
        "    # Save checkpoint every epoch\n",
        "    checkpoint = {\n",
        "        'epoch': epoch,\n",
        "        'state_dict': model.state_dict(),\n",
        "        'optimizer': optimizer.state_dict(),\n",
        "        'train_losses': train_losses,\n",
        "        'valid_losses': valid_losses,\n",
        "    }\n",
        "    save_checkpoint(checkpoint, checkpoint_file)\n",
        "\n",
        "    # Calculate epoch time and add to total training time\n",
        "    epoch_time = time.time() - epoch_start_time\n",
        "    total_training_time += epoch_time\n",
        "    print(f\"Epoch [{epoch+1}/{num_epochs}] completed in {epoch_time:.2f} seconds\")\n",
        "\n",
        "# End total training time\n",
        "total_training_time = time.time() - training_start_time\n",
        "print(f\"Total training time: {total_training_time:.2f} seconds\")\n",
        "\n",
        "# Plot training and validation loss\n",
        "plt.figure(figsize=(10, 5))\n",
        "plt.plot(train_losses, label='Training Loss')\n",
        "plt.plot(valid_losses, label='Validation Loss')\n",
        "plt.xlabel('Epoch')\n",
        "plt.ylabel('Loss')\n",
        "plt.legend()\n",
        "plt.title('Training and Validation Loss')\n",
        "plt.show()"
      ]
    },
    {
      "cell_type": "code",
      "source": [
        "# Plot training and validation accuracy\n",
        "plt.figure(figsize=(10, 5))\n",
        "plt.plot(train_accuracies, label='Training Accuracy')\n",
        "plt.plot(valid_accuracies, label='Validation Accuracy')\n",
        "plt.xlabel('Epoch')\n",
        "plt.ylabel('Accuracy')\n",
        "plt.legend()\n",
        "plt.title('Training and Validation Accuracy')\n",
        "plt.show()"
      ],
      "metadata": {
        "id": "BIIzUlt3wfiJ",
        "colab": {
          "base_uri": "https://localhost:8080/"
        },
        "outputId": "5aa52c81-fd01-4f8b-bfb1-452ccd6ed87b"
      },
      "id": "BIIzUlt3wfiJ",
      "execution_count": null,
      "outputs": [
        {
          "output_type": "display_data",
          "data": {
            "text/plain": [
              "<Figure size 1000x500 with 1 Axes>"
            ],
            "image/png": "[encoded data removed]"
          },
          "metadata": {}
        }
      ]
    },
    {
      "cell_type": "code",
      "source": [
        "\n",
        "# Hitung rata-rata metrik setelah semua epoch\n",
        "average_train_loss = np.mean(train_losses)\n",
        "average_valid_loss = np.mean(valid_losses)\n",
        "average_train_accuracy = np.mean(train_accuracies)\n",
        "average_valid_accuracy = np.mean(valid_accuracies)\n",
        "average_train_precision = np.mean(train_precision)\n",
        "average_valid_precision = np.mean(valid_precision)\n",
        "average_train_recall = np.mean(train_recall)\n",
        "average_valid_recall = np.mean(valid_recall)\n",
        "average_train_f1 = np.mean(train_f1)\n",
        "average_valid_f1 = np.mean(valid_f1)\n",
        "\n",
        "\n",
        "# Display results training\n",
        "print('--------------')\n",
        "print(f'Training Accuracy: {average_train_accuracy * 100:.2f}%')\n",
        "print(f'Training Loss: {average_train_loss:.4f}')\n",
        "print(f'Training Precision: {average_train_precision:.4f}')\n",
        "print(f'Training Recall: {average_train_recall:.4f}')\n",
        "print(f'Training F1-Score: {average_train_f1:.4f}')\n",
        "\n",
        "\n",
        "# Display results validasi\n",
        "print('--------------')\n",
        "print(f'Validation Accuracy: {average_valid_accuracy * 100:.2f}%')\n",
        "print(f'Validation Loss: {average_valid_loss:.4f}')\n",
        "print(f'Validation Precision: {average_valid_precision:.4f}')\n",
        "print(f'Validation Recall: {average_valid_recall:.4f}')\n",
        "print(f'Validation F1-Score: {average_valid_f1:.4f}')"
      ],
      "metadata": {
        "colab": {
          "base_uri": "https://localhost:8080/"
        },
        "id": "BN0zrbeUccXp",
        "outputId": "07c00f13-5a25-413b-d1f8-0626e5a141e4"
      },
      "id": "BN0zrbeUccXp",
      "execution_count": null,
      "outputs": [
        {
          "output_type": "stream",
          "name": "stdout",
          "text": [
            "--------------\n",
            "Training Accuracy: 99.14%\n",
            "Training Loss: 0.0200\n",
            "Training Precision: 0.9967\n",
            "Training Recall: 0.9967\n",
            "Training F1-Score: 0.9967\n",
            "--------------\n",
            "Validation Accuracy: 90.84%\n",
            "Validation Loss: 0.4930\n",
            "Validation Precision: 0.9408\n",
            "Validation Recall: 0.9259\n",
            "Validation F1-Score: 0.9286\n"
          ]
        }
      ]
    },
    {
      "cell_type": "markdown",
      "id": "88fecb7b-5b96-49f4-927c-a604fc18cf0e",
      "metadata": {
        "id": "88fecb7b-5b96-49f4-927c-a604fc18cf0e"
      },
      "source": [
        "# Cell 6: Model Evaluation with Additional Metrics\n",
        "\"\"\"\n",
        "This cell evaluates the best model using accuracy, precision, recall, F1-score, and confusion matrix.\n",
        "These metrics provide a comprehensive understanding of the model's performance on the test dataset.\n",
        "\"\"\""
      ]
    },
    {
      "cell_type": "code",
      "execution_count": null,
      "id": "56769eb0-2824-44ae-af60-98e401e9bc08",
      "metadata": {
        "scrolled": true,
        "id": "56769eb0-2824-44ae-af60-98e401e9bc08",
        "colab": {
          "base_uri": "https://localhost:8080/",
          "height": 1000
        },
        "outputId": "a02a2b12-9aff-45a0-e0bc-32c72024ca58"
      },
      "outputs": [
        {
          "output_type": "stream",
          "name": "stderr",
          "text": [
            "<ipython-input-13-d8a6ad25dfac>:7: FutureWarning: You are using `torch.load` with `weights_only=False` (the current default value), which uses the default pickle module implicitly. It is possible to construct malicious pickle data which will execute arbitrary code during unpickling (See https://github.com/pytorch/pytorch/blob/main/SECURITY.md#untrusted-models for more details). In a future release, the default value for `weights_only` will be flipped to `True`. This limits the functions that could be executed during unpickling. Arbitrary objects will no longer be allowed to be loaded via this mode unless they are explicitly allowlisted by the user via `torch.serialization.add_safe_globals`. We recommend you start setting `weights_only=True` for any use case where you don't have full control of the loaded file. Please open an issue on GitHub for any issues related to this experimental feature.\n",
            "  model.load_state_dict(torch.load('best-model-vgg-clahe-0,001.pth'))\n",
            "Testing: 100%|██████████| 20/20 [00:01<00:00, 14.33it/s]\n"
          ]
        },
        {
          "output_type": "stream",
          "name": "stdout",
          "text": [
            "Total testing time: 1.57 seconds\n",
            "Test Accuracy: 87.62%\n",
            "Test Loss: 0.0353\n",
            "Precision: 0.8993\n",
            "Recall: 0.8762\n",
            "F1-Score: 0.8781\n",
            "Confusion Matrix:\n",
            "[[91 19  0 10]\n",
            " [ 0 51  0  0]\n",
            " [ 1  0 53  0]\n",
            " [ 3  6  0 81]]\n"
          ]
        },
        {
          "output_type": "display_data",
          "data": {
            "text/plain": [
              "<Figure size 1200x900 with 2 Axes>"
            ],
            "image/png": "[encoded data removed]"
          },
          "metadata": {}
        },
        {
          "output_type": "stream",
          "name": "stdout",
          "text": [
            "Total process time (training + testing): 1015.01 seconds\n"
          ]
        }
      ],
      "source": [
        "# Path dinamis untuk memuat model terbaik\n",
        "best_model_file = '/content/drive/MyDrive/Chest-CT-Data/best-model-vgg-clahe-0,001.pth' if IN_COLAB else 'best-model.pth'\n",
        "# Start testing time\n",
        "testing_start_time = time.time()\n",
        "\n",
        "# Load the best model\n",
        "model.load_state_dict(torch.load('best-model-vgg-clahe-0,001.pth'))\n",
        "model.eval()\n",
        "\n",
        "# Define class labels corresponding to the numerical labels\n",
        "class_labels = [\n",
        "    'Adenocarcinoma',\n",
        "    'Large Cell Carcinoma',\n",
        "    'Normal',\n",
        "    'Squamous Cell Carcinoma'\n",
        "]\n",
        "\n",
        "predicted_probabilities = []\n",
        "true_labels = []\n",
        "\n",
        "test_loader_tqdm = tqdm(test_loader, desc=\"Testing\")\n",
        "with torch.no_grad():\n",
        "    for images, labels in test_loader_tqdm:\n",
        "        images, labels = images.to(device), labels.to(device)\n",
        "        if images.dim() == 3:\n",
        "            images = images.unsqueeze(1)\n",
        "        images = images.repeat(1, 3, 1, 1)\n",
        "        outputs = model(images)\n",
        "        probabilities = nn.functional.softmax(outputs, dim=1)\n",
        "        predicted_probabilities.append(probabilities)\n",
        "        true_labels.append(labels)\n",
        "        #test_loader_tqdm.set_postfix({\"Batch Size\": len(labels)})\n",
        "\n",
        "# End testing time\n",
        "total_testing_time = time.time() - testing_start_time\n",
        "print(f\"Total testing time: {total_testing_time:.2f} seconds\")\n",
        "\n",
        "# Calculate evaluation metrics\n",
        "predicted_probabilities = torch.cat(predicted_probabilities)\n",
        "true_labels = torch.cat(true_labels)\n",
        "predicted_labels = torch.argmax(predicted_probabilities, dim=1)\n",
        "\n",
        "accuracy = (predicted_labels == true_labels).float().mean().item()\n",
        "precision = precision_score(true_labels.cpu(), predicted_labels.cpu(), average='weighted')\n",
        "recall = recall_score(true_labels.cpu(), predicted_labels.cpu(), average='weighted')\n",
        "f1 = f1_score(true_labels.cpu(), predicted_labels.cpu(), average='weighted')\n",
        "conf_matrix = confusion_matrix(true_labels.cpu(), predicted_labels.cpu())\n",
        "\n",
        "# Display results\n",
        "print(f'Test Accuracy: {accuracy * 100:.2f}%')\n",
        "print(f'Test Loss: {loss:.4f}')\n",
        "print(f'Precision: {precision:.4f}')\n",
        "print(f'Recall: {recall:.4f}')\n",
        "print(f'F1-Score: {f1:.4f}')\n",
        "print(f'Confusion Matrix:\\n{conf_matrix}')\n",
        "\n",
        "# Plot confusion matrix using Matplotlib\n",
        "fig, ax = plt.subplots(figsize=(12, 9))\n",
        "cax = ax.matshow(conf_matrix, cmap='Blues')\n",
        "\n",
        "# Menampilkan angka pada setiap sel dengan outline putih\n",
        "for (i, j), val in np.ndenumerate(conf_matrix):\n",
        "    text = ax.text(j, i, f'{val}', ha='center', va='center', color='black', fontsize=20, fontweight='bold')\n",
        "\n",
        "    # Menambahkan outline putih di sekitar angka\n",
        "    text.set_path_effects([path_effects.Stroke(linewidth=3, foreground='white'),\n",
        "                           path_effects.Normal()])\n",
        "\n",
        "fig.colorbar(cax)\n",
        "\n",
        "# Set ticks dan ticklabels\n",
        "ax.set_xticks(np.arange(len(class_labels)))\n",
        "ax.set_yticks(np.arange(len(class_labels)))\n",
        "ax.set_xticklabels(class_labels)\n",
        "ax.set_yticklabels(class_labels)\n",
        "\n",
        "plt.xlabel('Predicted Labels')\n",
        "plt.ylabel('True Labels')\n",
        "plt.title('Confusion Matrix')\n",
        "plt.show()\n",
        "\n",
        "\n",
        "# Total time for the whole process\n",
        "total_process_time = total_training_time + total_testing_time\n",
        "print(f\"Total process time (training + testing): {total_process_time:.2f} seconds\")\n"
      ]
    },
    {
      "cell_type": "markdown",
      "source": [
        "Kesimpulan dari percobaan ini: saat dataset yang di preprocessing dengan **Gaussian + Gaussian blur + USM + VGG16 AS FEATURE EXTRACTION + ADD CLASIFICATION LAYER + Adam Optimizer** saja yaitu, hasil akurasi test = Test Accuracy: 72.38%![image.png](data:image/png;base64,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)"
      ],
      "metadata": {
        "id": "rcbeHPSyV2je"
      },
      "id": "rcbeHPSyV2je"
    }
  ],
  "metadata": {
    "kernelspec": {
      "display_name": "Python 3",
      "name": "python3"
    },
    "language_info": {
      "codemirror_mode": {
        "name": "ipython",
        "version": 3
      },
      "file_extension": ".py",
      "mimetype": "text/x-python",
      "name": "python",
      "nbconvert_exporter": "python",
      "pygments_lexer": "ipython3",
      "version": "3.11.7"
    },
    "colab": {
      "provenance": [],
      "gpuType": "T4",
      "include_colab_link": true
    },
    "accelerator": "GPU"
  },
  "nbformat": 4,
  "nbformat_minor": 5
}